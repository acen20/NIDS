{
  "cells": [
    {
      "cell_type": "code",
      "execution_count": null,
      "id": "4780d2a4",
      "metadata": {
        "execution": {
          "iopub.execute_input": "2022-05-02T01:11:22.683504Z",
          "iopub.status.busy": "2022-05-02T01:11:22.683137Z",
          "iopub.status.idle": "2022-05-02T01:11:22.689974Z",
          "shell.execute_reply": "2022-05-02T01:11:22.689604Z"
        },
        "id": "4780d2a4",
        "papermill": {
          "duration": 0.061108,
          "end_time": "2022-05-02T01:11:22.691715",
          "exception": false,
          "start_time": "2022-05-02T01:11:22.630607",
          "status": "completed"
        },
        "tags": []
      },
      "outputs": [],
      "source": [
        "import os\n",
        "exp_num = 1\n",
        "os.environ[\"WANDB_API_KEY\"] = \"00c5bcfd2b2fbe9bce38152923c98635448f8c6f\"\n",
        "EXPERIMENT_NAME = f'MLP_GAN_1:4_{exp_num}'"
      ]
    },
    {
      "cell_type": "code",
      "execution_count": null,
      "id": "a9616e72",
      "metadata": {
        "execution": {
          "iopub.execute_input": "2022-05-02T01:11:22.796258Z",
          "iopub.status.busy": "2022-05-02T01:11:22.795851Z",
          "iopub.status.idle": "2022-05-02T01:11:25.282788Z",
          "shell.execute_reply": "2022-05-02T01:11:25.282133Z"
        },
        "id": "a9616e72",
        "papermill": {
          "duration": 2.54023,
          "end_time": "2022-05-02T01:11:25.284645",
          "exception": false,
          "start_time": "2022-05-02T01:11:22.744415",
          "status": "completed"
        },
        "tags": []
      },
      "outputs": [],
      "source": [
        "os.system('mkdir ../dataset') \n",
        "os.system('mkdir ../models')\n",
        "os.system('wget -O ../dataset/KDDTrain+.txt https://raw.githubusercontent.com/acen20/DEL/master/deep-ensemble-jet/dataset/KDDTrain%2B.txt')\n",
        "os.system('wget -O ../dataset/KDDTest+.txt https://raw.githubusercontent.com/acen20/DEL/master/deep-ensemble-jet/dataset/KDDTest%2B.txt')\n",
        "os.system('wget -O ../dataset/KDDTrain+_20Percent.txt https://raw.githubusercontent.com/acen20/DEL/master/deep-ensemble-jet/dataset/KDDTrain%2B_20Percent.txt')\n",
        "os.system('wget -O ../dataset/KDDTest-21.txt https://raw.githubusercontent.com/acen20/DEL/master/deep-ensemble-jet/dataset/KDDTest-21.txt')\n",
        "os.system('wget -O ../models/r2l_gen.pt https://github.com/acen20/DEL/raw/master/IDSGAN/r2l_gen.pt')\n",
        "os.system('wget -O ../models/u2r_gen.pt https://github.com/acen20/DEL/raw/master/IDSGAN/u2r_gen.pt')\n",
        "os.system('wget -O ../models/dos_gen.pt https://github.com/acen20/DEL/raw/master/IDSGAN/dos_gen.pt')\n",
        "os.system('wget -O ../models/probe_gen.pt https://github.com/acen20/DEL/raw/master/IDSGAN/probe_gen.pt')\n",
        "os.system('wget -O ../models/normal_gen.pt https://github.com/acen20/DEL/raw/master/IDSGAN/normal_gen.pt')"
      ]
    },
    {
      "cell_type": "code",
      "execution_count": null,
      "id": "80adb2af",
      "metadata": {
        "execution": {
          "iopub.execute_input": "2022-05-02T01:11:25.458701Z",
          "iopub.status.busy": "2022-05-02T01:11:25.458477Z",
          "iopub.status.idle": "2022-05-02T01:11:35.724736Z",
          "shell.execute_reply": "2022-05-02T01:11:35.723951Z"
        },
        "id": "80adb2af",
        "papermill": {
          "duration": 10.355574,
          "end_time": "2022-05-02T01:11:35.726937",
          "exception": false,
          "start_time": "2022-05-02T01:11:25.371363",
          "status": "completed"
        },
        "tags": [],
        "outputId": "b55f3a4b-2210-470c-8e7e-bd0c32a83c51"
      },
      "outputs": [
        {
          "name": "stderr",
          "output_type": "stream",
          "text": [
            "WARNING: Running pip as the 'root' user can result in broken permissions and conflicting behaviour with the system package manager. It is recommended to use a virtual environment instead: https://pip.pypa.io/warnings/venv\n",
            "wandb: Appending key for api.wandb.ai to your netrc file: /root/.netrc\n"
          ]
        }
      ],
      "source": [
        "os.system('pip install wandb -q')\n",
        "os.system(f'wandb login {os.environ[\"WANDB_API_KEY\"]}')\n",
        "import wandb"
      ]
    },
    {
      "cell_type": "code",
      "execution_count": null,
      "id": "38da33c9",
      "metadata": {
        "execution": {
          "iopub.execute_input": "2022-05-02T01:11:35.893820Z",
          "iopub.status.busy": "2022-05-02T01:11:35.893603Z",
          "iopub.status.idle": "2022-05-02T01:11:37.781411Z",
          "shell.execute_reply": "2022-05-02T01:11:37.780527Z"
        },
        "id": "38da33c9",
        "papermill": {
          "duration": 1.972147,
          "end_time": "2022-05-02T01:11:37.783673",
          "exception": false,
          "start_time": "2022-05-02T01:11:35.811526",
          "status": "completed"
        },
        "tags": []
      },
      "outputs": [],
      "source": [
        "import torch\n",
        "from torch import nn\n",
        "from torchvision import transforms\n",
        "from torch.utils.data import TensorDataset, DataLoader\n",
        "import matplotlib.pyplot as plt\n",
        "#plt.style.use('grayscale')\n",
        "from sklearn.metrics import precision_recall_curve,RocCurveDisplay\n",
        "from matplotlib import pyplot\n",
        "from sklearn.metrics import f1_score\n",
        "from sklearn.metrics import ConfusionMatrixDisplay\n",
        "from sklearn.model_selection import cross_val_score\n",
        "import numpy as np\n",
        "from sklearn.preprocessing import LabelEncoder\n",
        "from sklearn.model_selection import train_test_split\n",
        "from sklearn.metrics import classification_report\n",
        "from sklearn.preprocessing import MinMaxScaler\n",
        "from sklearn.model_selection import StratifiedKFold as KFold\n",
        "from sklearn.metrics import auc\n",
        "from sklearn.metrics import accuracy_score\n",
        "import matplotlib.pyplot as plt\n",
        "from sklearn.metrics import confusion_matrix\n",
        "from sklearn.decomposition import PCA\n",
        "from sklearn.preprocessing import LabelEncoder\n",
        "import pandas as pd\n",
        "from sklearn import preprocessing\n",
        "import time"
      ]
    },
    {
      "cell_type": "code",
      "execution_count": null,
      "id": "9549ab3f",
      "metadata": {
        "execution": {
          "iopub.execute_input": "2022-05-02T01:11:37.955865Z",
          "iopub.status.busy": "2022-05-02T01:11:37.955273Z",
          "iopub.status.idle": "2022-05-02T01:11:37.958942Z",
          "shell.execute_reply": "2022-05-02T01:11:37.958290Z"
        },
        "id": "9549ab3f",
        "papermill": {
          "duration": 0.091889,
          "end_time": "2022-05-02T01:11:37.960641",
          "exception": false,
          "start_time": "2022-05-02T01:11:37.868752",
          "status": "completed"
        },
        "tags": []
      },
      "outputs": [],
      "source": [
        "from warnings import simplefilter\n",
        "from sklearn.exceptions import ConvergenceWarning\n",
        "simplefilter(\"ignore\", category=ConvergenceWarning)"
      ]
    },
    {
      "cell_type": "code",
      "execution_count": null,
      "id": "7325cb83",
      "metadata": {
        "execution": {
          "iopub.execute_input": "2022-05-02T01:11:38.131924Z",
          "iopub.status.busy": "2022-05-02T01:11:38.131650Z",
          "iopub.status.idle": "2022-05-02T01:11:38.135286Z",
          "shell.execute_reply": "2022-05-02T01:11:38.134456Z"
        },
        "id": "7325cb83",
        "papermill": {
          "duration": 0.09136,
          "end_time": "2022-05-02T01:11:38.136826",
          "exception": false,
          "start_time": "2022-05-02T01:11:38.045466",
          "status": "completed"
        },
        "tags": []
      },
      "outputs": [],
      "source": [
        "device = 'cuda' if torch.cuda.is_available() else 'cpu'"
      ]
    },
    {
      "cell_type": "code",
      "execution_count": null,
      "id": "2ebb3f6c",
      "metadata": {
        "execution": {
          "iopub.execute_input": "2022-05-02T01:11:38.308605Z",
          "iopub.status.busy": "2022-05-02T01:11:38.308245Z",
          "iopub.status.idle": "2022-05-02T01:11:38.311417Z",
          "shell.execute_reply": "2022-05-02T01:11:38.311033Z"
        },
        "id": "2ebb3f6c",
        "outputId": "ce1e3073-df78-4cd9-ee12-38b9c48f4eb7",
        "papermill": {
          "duration": 0.092056,
          "end_time": "2022-05-02T01:11:38.313380",
          "exception": false,
          "start_time": "2022-05-02T01:11:38.221324",
          "status": "completed"
        },
        "tags": []
      },
      "outputs": [
        {
          "name": "stdout",
          "output_type": "stream",
          "text": [
            "Using cpu as device\n"
          ]
        }
      ],
      "source": [
        "print(f'Using {device} as device')"
      ]
    },
    {
      "cell_type": "code",
      "execution_count": null,
      "id": "fbb64ba4",
      "metadata": {
        "execution": {
          "iopub.execute_input": "2022-05-02T01:11:38.486766Z",
          "iopub.status.busy": "2022-05-02T01:11:38.486516Z",
          "iopub.status.idle": "2022-05-02T01:11:38.498104Z",
          "shell.execute_reply": "2022-05-02T01:11:38.497414Z"
        },
        "id": "fbb64ba4",
        "papermill": {
          "duration": 0.101043,
          "end_time": "2022-05-02T01:11:38.500496",
          "exception": false,
          "start_time": "2022-05-02T01:11:38.399453",
          "status": "completed"
        },
        "tags": []
      },
      "outputs": [],
      "source": [
        "class Critic(nn.Module):\n",
        "  def __init__(self, data_dim):\n",
        "    super(Critic,self).__init__()\n",
        "    self.disc = nn.Sequential(\n",
        "        nn.Conv1d(1,3,kernel_size=3,stride=1),\n",
        "        #nn.BatchNorm2d(3),\n",
        "        nn.ReLU(),\n",
        "        nn.Conv1d(3,3,kernel_size=3,stride=1),\n",
        "        #nn.BatchNorm2d(3),\n",
        "        nn.ReLU(),\n",
        "        nn.Flatten(),\n",
        "        nn.Linear(111, data_dim),\n",
        "    )\n",
        "\n",
        "  def forward(self, x):\n",
        "    return self.disc(x)\n",
        "\n",
        "\n",
        "class Generator(nn.Module):\n",
        "  def __init__(self, z_dim, data_dim):\n",
        "    super(Generator,self).__init__()\n",
        "    self.gen = nn.Sequential(\n",
        "        nn.Conv1d(1,3,kernel_size=3,stride=1),\n",
        "        #nn.BatchNorm2d(3),\n",
        "        nn.ReLU(),\n",
        "        nn.Conv1d(3,3,kernel_size=3,stride=1),\n",
        "        #nn.BatchNorm2d(3),\n",
        "        nn.ReLU(),\n",
        "        nn.Linear(96, data_dim),\n",
        "        nn.Sigmoid()\n",
        "    )\n",
        "\n",
        "  def forward(self, x):\n",
        "    return self.gen(x)"
      ]
    },
    {
      "cell_type": "code",
      "execution_count": null,
      "id": "e769feb4",
      "metadata": {
        "execution": {
          "iopub.execute_input": "2022-05-02T01:11:38.675951Z",
          "iopub.status.busy": "2022-05-02T01:11:38.675066Z",
          "iopub.status.idle": "2022-05-02T01:11:38.679907Z",
          "shell.execute_reply": "2022-05-02T01:11:38.679540Z"
        },
        "id": "e769feb4",
        "papermill": {
          "duration": 0.095183,
          "end_time": "2022-05-02T01:11:38.682048",
          "exception": false,
          "start_time": "2022-05-02T01:11:38.586865",
          "status": "completed"
        },
        "tags": []
      },
      "outputs": [],
      "source": [
        "def visualize_synthetic_data(generated, original, title):\n",
        "  generated = generated[np.random.randint(0,len(generated),41)]\n",
        "  original = original.iloc[np.random.randint(0,len(original),41),:41][:41]\n",
        "\n",
        "  fig, (original_ax, synthesized_ax) = plt.subplots(1,2,figsize=(12,12))\n",
        "  original_ax.set_title(f'Original({title})')\n",
        "  synthesized_ax.set_title(f'Synthetic({title})')\n",
        "  _ = original_ax.imshow(original)\n",
        "  _ = synthesized_ax.imshow(generated)"
      ]
    },
    {
      "cell_type": "code",
      "execution_count": null,
      "id": "bf858085",
      "metadata": {
        "execution": {
          "iopub.execute_input": "2022-05-02T01:11:38.857902Z",
          "iopub.status.busy": "2022-05-02T01:11:38.857214Z",
          "iopub.status.idle": "2022-05-02T01:11:38.861628Z",
          "shell.execute_reply": "2022-05-02T01:11:38.861257Z"
        },
        "id": "bf858085",
        "papermill": {
          "duration": 0.092689,
          "end_time": "2022-05-02T01:11:38.863227",
          "exception": false,
          "start_time": "2022-05-02T01:11:38.770538",
          "status": "completed"
        },
        "tags": []
      },
      "outputs": [],
      "source": [
        "def generate_data(generator, num_instances, z_dim):\n",
        "  generator.eval()\n",
        "  with torch.no_grad():\n",
        "    out = generator(torch.randn(num_instances, z_dim).view(-1,1,z_dim))\n",
        "    return out.detach().reshape(-1,41)[:num_instances]"
      ]
    },
    {
      "cell_type": "code",
      "execution_count": null,
      "id": "34030822",
      "metadata": {
        "execution": {
          "iopub.execute_input": "2022-05-02T01:11:39.035735Z",
          "iopub.status.busy": "2022-05-02T01:11:39.034869Z",
          "iopub.status.idle": "2022-05-02T01:11:39.040360Z",
          "shell.execute_reply": "2022-05-02T01:11:39.039967Z"
        },
        "id": "34030822",
        "papermill": {
          "duration": 0.093746,
          "end_time": "2022-05-02T01:11:39.041969",
          "exception": false,
          "start_time": "2022-05-02T01:11:38.948223",
          "status": "completed"
        },
        "tags": []
      },
      "outputs": [],
      "source": [
        "def create_dataloader(X, y, batch_size):\n",
        "  if y:\n",
        "    y = np.array(X['41'])\n",
        "  else:\n",
        "    y = torch.ones(size=(X.shape[0],))\n",
        "  y = torch.tensor(y, dtype=torch.float).to(device)\n",
        "\n",
        "  X = np.array(X.iloc[:,:-1])\n",
        "  X = torch.tensor(X, dtype=torch.float).to(device)\n",
        "\n",
        "  pt_train = TensorDataset(X,y)\n",
        "  pt_train = DataLoader(pt_train, batch_size=batch_size)\n",
        "  return pt_train"
      ]
    },
    {
      "cell_type": "code",
      "execution_count": null,
      "id": "406d4bd4",
      "metadata": {
        "execution": {
          "iopub.execute_input": "2022-05-02T01:11:39.213621Z",
          "iopub.status.busy": "2022-05-02T01:11:39.213385Z",
          "iopub.status.idle": "2022-05-02T01:11:39.217467Z",
          "shell.execute_reply": "2022-05-02T01:11:39.216763Z"
        },
        "id": "406d4bd4",
        "papermill": {
          "duration": 0.093079,
          "end_time": "2022-05-02T01:11:39.219427",
          "exception": false,
          "start_time": "2022-05-02T01:11:39.126348",
          "status": "completed"
        },
        "tags": []
      },
      "outputs": [],
      "source": [
        "def normalize_data(X):\n",
        "  mms = MinMaxScaler()\n",
        "  return mms.fit_transform(X)"
      ]
    },
    {
      "cell_type": "code",
      "execution_count": null,
      "id": "d8458b46",
      "metadata": {
        "execution": {
          "iopub.execute_input": "2022-05-02T01:11:39.391030Z",
          "iopub.status.busy": "2022-05-02T01:11:39.390798Z",
          "iopub.status.idle": "2022-05-02T01:11:39.395973Z",
          "shell.execute_reply": "2022-05-02T01:11:39.395381Z"
        },
        "id": "d8458b46",
        "papermill": {
          "duration": 0.092696,
          "end_time": "2022-05-02T01:11:39.397630",
          "exception": false,
          "start_time": "2022-05-02T01:11:39.304934",
          "status": "completed"
        },
        "tags": []
      },
      "outputs": [],
      "source": [
        "def visualize_train_loss(loss_1, labels, epochs, loss_2 = None):\n",
        "  plt.figure(figsize=(10,4))\n",
        "  plt.plot(loss_1, linewidth=2)\n",
        "  if loss_2:\n",
        "    plt.plot(loss_2, linewidth=2)\n",
        "  plt.legend(labels)\n",
        "  plt.ylabel(\"loss\")\n",
        "  _ = plt.xlabel(f\"epochs ({epochs})\")"
      ]
    },
    {
      "cell_type": "markdown",
      "id": "5763c1ac",
      "metadata": {
        "id": "5763c1ac",
        "papermill": {
          "duration": 0.084488,
          "end_time": "2022-05-02T01:11:39.567053",
          "exception": false,
          "start_time": "2022-05-02T01:11:39.482565",
          "status": "completed"
        },
        "tags": []
      },
      "source": [
        "## Preprocessing"
      ]
    },
    {
      "cell_type": "code",
      "execution_count": null,
      "id": "afb65ea6",
      "metadata": {
        "execution": {
          "iopub.execute_input": "2022-05-02T01:11:39.739367Z",
          "iopub.status.busy": "2022-05-02T01:11:39.738795Z",
          "iopub.status.idle": "2022-05-02T01:11:40.088764Z",
          "shell.execute_reply": "2022-05-02T01:11:40.088000Z"
        },
        "id": "afb65ea6",
        "papermill": {
          "duration": 0.438153,
          "end_time": "2022-05-02T01:11:40.091125",
          "exception": false,
          "start_time": "2022-05-02T01:11:39.652972",
          "status": "completed"
        },
        "tags": []
      },
      "outputs": [],
      "source": [
        "df=pd.read_csv('../dataset/KDDTrain+.txt', header=None)\n",
        "df2=pd.read_csv('../dataset/KDDTest+.txt', header=None)"
      ]
    },
    {
      "cell_type": "code",
      "execution_count": null,
      "id": "d87fdf6c",
      "metadata": {
        "execution": {
          "iopub.execute_input": "2022-05-02T01:11:40.264626Z",
          "iopub.status.busy": "2022-05-02T01:11:40.263694Z",
          "iopub.status.idle": "2022-05-02T01:11:40.291180Z",
          "shell.execute_reply": "2022-05-02T01:11:40.290713Z"
        },
        "id": "d87fdf6c",
        "outputId": "bb96bf00-4a19-4123-920a-c9d99743c830",
        "papermill": {
          "duration": 0.115428,
          "end_time": "2022-05-02T01:11:40.292718",
          "exception": false,
          "start_time": "2022-05-02T01:11:40.177290",
          "status": "completed"
        },
        "tags": []
      },
      "outputs": [
        {
          "data": {
            "text/html": [
              "<div>\n",
              "<style scoped>\n",
              "    .dataframe tbody tr th:only-of-type {\n",
              "        vertical-align: middle;\n",
              "    }\n",
              "\n",
              "    .dataframe tbody tr th {\n",
              "        vertical-align: top;\n",
              "    }\n",
              "\n",
              "    .dataframe thead th {\n",
              "        text-align: right;\n",
              "    }\n",
              "</style>\n",
              "<table border=\"1\" class=\"dataframe\">\n",
              "  <thead>\n",
              "    <tr style=\"text-align: right;\">\n",
              "      <th></th>\n",
              "      <th>0</th>\n",
              "      <th>1</th>\n",
              "      <th>2</th>\n",
              "      <th>3</th>\n",
              "      <th>4</th>\n",
              "      <th>5</th>\n",
              "      <th>6</th>\n",
              "      <th>7</th>\n",
              "      <th>8</th>\n",
              "      <th>9</th>\n",
              "      <th>...</th>\n",
              "      <th>33</th>\n",
              "      <th>34</th>\n",
              "      <th>35</th>\n",
              "      <th>36</th>\n",
              "      <th>37</th>\n",
              "      <th>38</th>\n",
              "      <th>39</th>\n",
              "      <th>40</th>\n",
              "      <th>41</th>\n",
              "      <th>42</th>\n",
              "    </tr>\n",
              "  </thead>\n",
              "  <tbody>\n",
              "    <tr>\n",
              "      <th>0</th>\n",
              "      <td>0</td>\n",
              "      <td>tcp</td>\n",
              "      <td>ftp_data</td>\n",
              "      <td>SF</td>\n",
              "      <td>491</td>\n",
              "      <td>0</td>\n",
              "      <td>0</td>\n",
              "      <td>0</td>\n",
              "      <td>0</td>\n",
              "      <td>0</td>\n",
              "      <td>...</td>\n",
              "      <td>0.17</td>\n",
              "      <td>0.03</td>\n",
              "      <td>0.17</td>\n",
              "      <td>0.00</td>\n",
              "      <td>0.00</td>\n",
              "      <td>0.00</td>\n",
              "      <td>0.05</td>\n",
              "      <td>0.00</td>\n",
              "      <td>normal</td>\n",
              "      <td>20</td>\n",
              "    </tr>\n",
              "    <tr>\n",
              "      <th>1</th>\n",
              "      <td>0</td>\n",
              "      <td>udp</td>\n",
              "      <td>other</td>\n",
              "      <td>SF</td>\n",
              "      <td>146</td>\n",
              "      <td>0</td>\n",
              "      <td>0</td>\n",
              "      <td>0</td>\n",
              "      <td>0</td>\n",
              "      <td>0</td>\n",
              "      <td>...</td>\n",
              "      <td>0.00</td>\n",
              "      <td>0.60</td>\n",
              "      <td>0.88</td>\n",
              "      <td>0.00</td>\n",
              "      <td>0.00</td>\n",
              "      <td>0.00</td>\n",
              "      <td>0.00</td>\n",
              "      <td>0.00</td>\n",
              "      <td>normal</td>\n",
              "      <td>15</td>\n",
              "    </tr>\n",
              "    <tr>\n",
              "      <th>2</th>\n",
              "      <td>0</td>\n",
              "      <td>tcp</td>\n",
              "      <td>private</td>\n",
              "      <td>S0</td>\n",
              "      <td>0</td>\n",
              "      <td>0</td>\n",
              "      <td>0</td>\n",
              "      <td>0</td>\n",
              "      <td>0</td>\n",
              "      <td>0</td>\n",
              "      <td>...</td>\n",
              "      <td>0.10</td>\n",
              "      <td>0.05</td>\n",
              "      <td>0.00</td>\n",
              "      <td>0.00</td>\n",
              "      <td>1.00</td>\n",
              "      <td>1.00</td>\n",
              "      <td>0.00</td>\n",
              "      <td>0.00</td>\n",
              "      <td>neptune</td>\n",
              "      <td>19</td>\n",
              "    </tr>\n",
              "    <tr>\n",
              "      <th>3</th>\n",
              "      <td>0</td>\n",
              "      <td>tcp</td>\n",
              "      <td>http</td>\n",
              "      <td>SF</td>\n",
              "      <td>232</td>\n",
              "      <td>8153</td>\n",
              "      <td>0</td>\n",
              "      <td>0</td>\n",
              "      <td>0</td>\n",
              "      <td>0</td>\n",
              "      <td>...</td>\n",
              "      <td>1.00</td>\n",
              "      <td>0.00</td>\n",
              "      <td>0.03</td>\n",
              "      <td>0.04</td>\n",
              "      <td>0.03</td>\n",
              "      <td>0.01</td>\n",
              "      <td>0.00</td>\n",
              "      <td>0.01</td>\n",
              "      <td>normal</td>\n",
              "      <td>21</td>\n",
              "    </tr>\n",
              "    <tr>\n",
              "      <th>4</th>\n",
              "      <td>0</td>\n",
              "      <td>tcp</td>\n",
              "      <td>http</td>\n",
              "      <td>SF</td>\n",
              "      <td>199</td>\n",
              "      <td>420</td>\n",
              "      <td>0</td>\n",
              "      <td>0</td>\n",
              "      <td>0</td>\n",
              "      <td>0</td>\n",
              "      <td>...</td>\n",
              "      <td>1.00</td>\n",
              "      <td>0.00</td>\n",
              "      <td>0.00</td>\n",
              "      <td>0.00</td>\n",
              "      <td>0.00</td>\n",
              "      <td>0.00</td>\n",
              "      <td>0.00</td>\n",
              "      <td>0.00</td>\n",
              "      <td>normal</td>\n",
              "      <td>21</td>\n",
              "    </tr>\n",
              "  </tbody>\n",
              "</table>\n",
              "<p>5 rows × 43 columns</p>\n",
              "</div>"
            ],
            "text/plain": [
              "   0    1         2   3    4     5   6   7   8   9   ...    33    34    35  \\\n",
              "0   0  tcp  ftp_data  SF  491     0   0   0   0   0  ...  0.17  0.03  0.17   \n",
              "1   0  udp     other  SF  146     0   0   0   0   0  ...  0.00  0.60  0.88   \n",
              "2   0  tcp   private  S0    0     0   0   0   0   0  ...  0.10  0.05  0.00   \n",
              "3   0  tcp      http  SF  232  8153   0   0   0   0  ...  1.00  0.00  0.03   \n",
              "4   0  tcp      http  SF  199   420   0   0   0   0  ...  1.00  0.00  0.00   \n",
              "\n",
              "     36    37    38    39    40       41  42  \n",
              "0  0.00  0.00  0.00  0.05  0.00   normal  20  \n",
              "1  0.00  0.00  0.00  0.00  0.00   normal  15  \n",
              "2  0.00  1.00  1.00  0.00  0.00  neptune  19  \n",
              "3  0.04  0.03  0.01  0.00  0.01   normal  21  \n",
              "4  0.00  0.00  0.00  0.00  0.00   normal  21  \n",
              "\n",
              "[5 rows x 43 columns]"
            ]
          },
          "execution_count": 15,
          "metadata": {},
          "output_type": "execute_result"
        }
      ],
      "source": [
        "df.head()"
      ]
    },
    {
      "cell_type": "code",
      "execution_count": null,
      "id": "d01bf9a2",
      "metadata": {
        "execution": {
          "iopub.execute_input": "2022-05-02T01:11:40.465060Z",
          "iopub.status.busy": "2022-05-02T01:11:40.464492Z",
          "iopub.status.idle": "2022-05-02T01:11:40.468743Z",
          "shell.execute_reply": "2022-05-02T01:11:40.468318Z"
        },
        "id": "d01bf9a2",
        "papermill": {
          "duration": 0.091585,
          "end_time": "2022-05-02T01:11:40.469930",
          "exception": false,
          "start_time": "2022-05-02T01:11:40.378345",
          "status": "completed"
        },
        "tags": []
      },
      "outputs": [],
      "source": [
        "df.columns = [str(i) for i in range(0, len(df.columns))]\n",
        "df2.columns = [str(i) for i in range(0, len(df2.columns))]"
      ]
    },
    {
      "cell_type": "code",
      "execution_count": null,
      "id": "2793a541",
      "metadata": {
        "execution": {
          "iopub.execute_input": "2022-05-02T01:11:40.583792Z",
          "iopub.status.busy": "2022-05-02T01:11:40.583390Z",
          "iopub.status.idle": "2022-05-02T01:11:40.650015Z",
          "shell.execute_reply": "2022-05-02T01:11:40.648983Z"
        },
        "id": "2793a541",
        "papermill": {
          "duration": 0.125451,
          "end_time": "2022-05-02T01:11:40.651801",
          "exception": false,
          "start_time": "2022-05-02T01:11:40.526350",
          "status": "completed"
        },
        "tags": []
      },
      "outputs": [],
      "source": [
        "# Replacing Null values with 0. ML classifer cannot learn on Null values\n",
        "df.fillna(0, inplace=True)\n",
        "df2.fillna(0, inplace=True)"
      ]
    },
    {
      "cell_type": "code",
      "execution_count": null,
      "id": "8e2c800a",
      "metadata": {
        "execution": {
          "iopub.execute_input": "2022-05-02T01:11:40.765999Z",
          "iopub.status.busy": "2022-05-02T01:11:40.764587Z",
          "iopub.status.idle": "2022-05-02T01:11:40.788693Z",
          "shell.execute_reply": "2022-05-02T01:11:40.788011Z"
        },
        "id": "8e2c800a",
        "outputId": "23e86cf0-f6c6-4e69-8198-7a3eb584963a",
        "papermill": {
          "duration": 0.08236,
          "end_time": "2022-05-02T01:11:40.790061",
          "exception": false,
          "start_time": "2022-05-02T01:11:40.707701",
          "status": "completed"
        },
        "tags": []
      },
      "outputs": [
        {
          "data": {
            "text/html": [
              "<div>\n",
              "<style scoped>\n",
              "    .dataframe tbody tr th:only-of-type {\n",
              "        vertical-align: middle;\n",
              "    }\n",
              "\n",
              "    .dataframe tbody tr th {\n",
              "        vertical-align: top;\n",
              "    }\n",
              "\n",
              "    .dataframe thead th {\n",
              "        text-align: right;\n",
              "    }\n",
              "</style>\n",
              "<table border=\"1\" class=\"dataframe\">\n",
              "  <thead>\n",
              "    <tr style=\"text-align: right;\">\n",
              "      <th></th>\n",
              "      <th>0</th>\n",
              "      <th>1</th>\n",
              "      <th>2</th>\n",
              "      <th>3</th>\n",
              "      <th>4</th>\n",
              "      <th>5</th>\n",
              "      <th>6</th>\n",
              "      <th>7</th>\n",
              "      <th>8</th>\n",
              "      <th>9</th>\n",
              "      <th>...</th>\n",
              "      <th>33</th>\n",
              "      <th>34</th>\n",
              "      <th>35</th>\n",
              "      <th>36</th>\n",
              "      <th>37</th>\n",
              "      <th>38</th>\n",
              "      <th>39</th>\n",
              "      <th>40</th>\n",
              "      <th>41</th>\n",
              "      <th>42</th>\n",
              "    </tr>\n",
              "  </thead>\n",
              "  <tbody>\n",
              "    <tr>\n",
              "      <th>0</th>\n",
              "      <td>0</td>\n",
              "      <td>tcp</td>\n",
              "      <td>ftp_data</td>\n",
              "      <td>SF</td>\n",
              "      <td>491</td>\n",
              "      <td>0</td>\n",
              "      <td>0</td>\n",
              "      <td>0</td>\n",
              "      <td>0</td>\n",
              "      <td>0</td>\n",
              "      <td>...</td>\n",
              "      <td>0.17</td>\n",
              "      <td>0.03</td>\n",
              "      <td>0.17</td>\n",
              "      <td>0.00</td>\n",
              "      <td>0.00</td>\n",
              "      <td>0.00</td>\n",
              "      <td>0.05</td>\n",
              "      <td>0.00</td>\n",
              "      <td>normal</td>\n",
              "      <td>20</td>\n",
              "    </tr>\n",
              "    <tr>\n",
              "      <th>1</th>\n",
              "      <td>0</td>\n",
              "      <td>udp</td>\n",
              "      <td>other</td>\n",
              "      <td>SF</td>\n",
              "      <td>146</td>\n",
              "      <td>0</td>\n",
              "      <td>0</td>\n",
              "      <td>0</td>\n",
              "      <td>0</td>\n",
              "      <td>0</td>\n",
              "      <td>...</td>\n",
              "      <td>0.00</td>\n",
              "      <td>0.60</td>\n",
              "      <td>0.88</td>\n",
              "      <td>0.00</td>\n",
              "      <td>0.00</td>\n",
              "      <td>0.00</td>\n",
              "      <td>0.00</td>\n",
              "      <td>0.00</td>\n",
              "      <td>normal</td>\n",
              "      <td>15</td>\n",
              "    </tr>\n",
              "    <tr>\n",
              "      <th>2</th>\n",
              "      <td>0</td>\n",
              "      <td>tcp</td>\n",
              "      <td>private</td>\n",
              "      <td>S0</td>\n",
              "      <td>0</td>\n",
              "      <td>0</td>\n",
              "      <td>0</td>\n",
              "      <td>0</td>\n",
              "      <td>0</td>\n",
              "      <td>0</td>\n",
              "      <td>...</td>\n",
              "      <td>0.10</td>\n",
              "      <td>0.05</td>\n",
              "      <td>0.00</td>\n",
              "      <td>0.00</td>\n",
              "      <td>1.00</td>\n",
              "      <td>1.00</td>\n",
              "      <td>0.00</td>\n",
              "      <td>0.00</td>\n",
              "      <td>neptune</td>\n",
              "      <td>19</td>\n",
              "    </tr>\n",
              "    <tr>\n",
              "      <th>3</th>\n",
              "      <td>0</td>\n",
              "      <td>tcp</td>\n",
              "      <td>http</td>\n",
              "      <td>SF</td>\n",
              "      <td>232</td>\n",
              "      <td>8153</td>\n",
              "      <td>0</td>\n",
              "      <td>0</td>\n",
              "      <td>0</td>\n",
              "      <td>0</td>\n",
              "      <td>...</td>\n",
              "      <td>1.00</td>\n",
              "      <td>0.00</td>\n",
              "      <td>0.03</td>\n",
              "      <td>0.04</td>\n",
              "      <td>0.03</td>\n",
              "      <td>0.01</td>\n",
              "      <td>0.00</td>\n",
              "      <td>0.01</td>\n",
              "      <td>normal</td>\n",
              "      <td>21</td>\n",
              "    </tr>\n",
              "    <tr>\n",
              "      <th>4</th>\n",
              "      <td>0</td>\n",
              "      <td>tcp</td>\n",
              "      <td>http</td>\n",
              "      <td>SF</td>\n",
              "      <td>199</td>\n",
              "      <td>420</td>\n",
              "      <td>0</td>\n",
              "      <td>0</td>\n",
              "      <td>0</td>\n",
              "      <td>0</td>\n",
              "      <td>...</td>\n",
              "      <td>1.00</td>\n",
              "      <td>0.00</td>\n",
              "      <td>0.00</td>\n",
              "      <td>0.00</td>\n",
              "      <td>0.00</td>\n",
              "      <td>0.00</td>\n",
              "      <td>0.00</td>\n",
              "      <td>0.00</td>\n",
              "      <td>normal</td>\n",
              "      <td>21</td>\n",
              "    </tr>\n",
              "  </tbody>\n",
              "</table>\n",
              "<p>5 rows × 43 columns</p>\n",
              "</div>"
            ],
            "text/plain": [
              "   0    1         2   3    4     5  6  7  8  9  ...    33    34    35    36  \\\n",
              "0  0  tcp  ftp_data  SF  491     0  0  0  0  0  ...  0.17  0.03  0.17  0.00   \n",
              "1  0  udp     other  SF  146     0  0  0  0  0  ...  0.00  0.60  0.88  0.00   \n",
              "2  0  tcp   private  S0    0     0  0  0  0  0  ...  0.10  0.05  0.00  0.00   \n",
              "3  0  tcp      http  SF  232  8153  0  0  0  0  ...  1.00  0.00  0.03  0.04   \n",
              "4  0  tcp      http  SF  199   420  0  0  0  0  ...  1.00  0.00  0.00  0.00   \n",
              "\n",
              "     37    38    39    40       41  42  \n",
              "0  0.00  0.00  0.05  0.00   normal  20  \n",
              "1  0.00  0.00  0.00  0.00   normal  15  \n",
              "2  1.00  1.00  0.00  0.00  neptune  19  \n",
              "3  0.03  0.01  0.00  0.01   normal  21  \n",
              "4  0.00  0.00  0.00  0.00   normal  21  \n",
              "\n",
              "[5 rows x 43 columns]"
            ]
          },
          "execution_count": 18,
          "metadata": {},
          "output_type": "execute_result"
        }
      ],
      "source": [
        "# Peak on dataset\n",
        "df.head()"
      ]
    },
    {
      "cell_type": "code",
      "execution_count": null,
      "id": "11f9e2c9",
      "metadata": {
        "execution": {
          "iopub.execute_input": "2022-05-02T01:11:40.905012Z",
          "iopub.status.busy": "2022-05-02T01:11:40.904171Z",
          "iopub.status.idle": "2022-05-02T01:11:40.910658Z",
          "shell.execute_reply": "2022-05-02T01:11:40.909501Z"
        },
        "id": "11f9e2c9",
        "outputId": "fdad93c4-836e-401c-efde-4ee8c45d1262",
        "papermill": {
          "duration": 0.065694,
          "end_time": "2022-05-02T01:11:40.912195",
          "exception": false,
          "start_time": "2022-05-02T01:11:40.846501",
          "status": "completed"
        },
        "tags": []
      },
      "outputs": [
        {
          "data": {
            "text/plain": [
              "(125973, 43)"
            ]
          },
          "execution_count": 19,
          "metadata": {},
          "output_type": "execute_result"
        }
      ],
      "source": [
        "df.shape"
      ]
    },
    {
      "cell_type": "code",
      "execution_count": null,
      "id": "ad5571fc",
      "metadata": {
        "execution": {
          "iopub.execute_input": "2022-05-02T01:11:41.027486Z",
          "iopub.status.busy": "2022-05-02T01:11:41.027253Z",
          "iopub.status.idle": "2022-05-02T01:11:41.068971Z",
          "shell.execute_reply": "2022-05-02T01:11:41.068132Z"
        },
        "id": "ad5571fc",
        "outputId": "635f3f86-5f55-496c-a81c-544b2f255b21",
        "papermill": {
          "duration": 0.101492,
          "end_time": "2022-05-02T01:11:41.070707",
          "exception": false,
          "start_time": "2022-05-02T01:11:40.969215",
          "status": "completed"
        },
        "tags": []
      },
      "outputs": [
        {
          "data": {
            "text/html": [
              "<div>\n",
              "<style scoped>\n",
              "    .dataframe tbody tr th:only-of-type {\n",
              "        vertical-align: middle;\n",
              "    }\n",
              "\n",
              "    .dataframe tbody tr th {\n",
              "        vertical-align: top;\n",
              "    }\n",
              "\n",
              "    .dataframe thead th {\n",
              "        text-align: right;\n",
              "    }\n",
              "</style>\n",
              "<table border=\"1\" class=\"dataframe\">\n",
              "  <thead>\n",
              "    <tr style=\"text-align: right;\">\n",
              "      <th></th>\n",
              "      <th>0</th>\n",
              "      <th>1</th>\n",
              "      <th>2</th>\n",
              "      <th>3</th>\n",
              "      <th>4</th>\n",
              "      <th>5</th>\n",
              "      <th>6</th>\n",
              "      <th>7</th>\n",
              "      <th>8</th>\n",
              "      <th>9</th>\n",
              "      <th>...</th>\n",
              "      <th>32</th>\n",
              "      <th>33</th>\n",
              "      <th>34</th>\n",
              "      <th>35</th>\n",
              "      <th>36</th>\n",
              "      <th>37</th>\n",
              "      <th>38</th>\n",
              "      <th>39</th>\n",
              "      <th>40</th>\n",
              "      <th>41</th>\n",
              "    </tr>\n",
              "  </thead>\n",
              "  <tbody>\n",
              "    <tr>\n",
              "      <th>0</th>\n",
              "      <td>0</td>\n",
              "      <td>tcp</td>\n",
              "      <td>ftp_data</td>\n",
              "      <td>SF</td>\n",
              "      <td>491</td>\n",
              "      <td>0</td>\n",
              "      <td>0</td>\n",
              "      <td>0</td>\n",
              "      <td>0</td>\n",
              "      <td>0</td>\n",
              "      <td>...</td>\n",
              "      <td>25</td>\n",
              "      <td>0.17</td>\n",
              "      <td>0.03</td>\n",
              "      <td>0.17</td>\n",
              "      <td>0.00</td>\n",
              "      <td>0.00</td>\n",
              "      <td>0.00</td>\n",
              "      <td>0.05</td>\n",
              "      <td>0.00</td>\n",
              "      <td>normal</td>\n",
              "    </tr>\n",
              "    <tr>\n",
              "      <th>1</th>\n",
              "      <td>0</td>\n",
              "      <td>udp</td>\n",
              "      <td>other</td>\n",
              "      <td>SF</td>\n",
              "      <td>146</td>\n",
              "      <td>0</td>\n",
              "      <td>0</td>\n",
              "      <td>0</td>\n",
              "      <td>0</td>\n",
              "      <td>0</td>\n",
              "      <td>...</td>\n",
              "      <td>1</td>\n",
              "      <td>0.00</td>\n",
              "      <td>0.60</td>\n",
              "      <td>0.88</td>\n",
              "      <td>0.00</td>\n",
              "      <td>0.00</td>\n",
              "      <td>0.00</td>\n",
              "      <td>0.00</td>\n",
              "      <td>0.00</td>\n",
              "      <td>normal</td>\n",
              "    </tr>\n",
              "    <tr>\n",
              "      <th>2</th>\n",
              "      <td>0</td>\n",
              "      <td>tcp</td>\n",
              "      <td>private</td>\n",
              "      <td>S0</td>\n",
              "      <td>0</td>\n",
              "      <td>0</td>\n",
              "      <td>0</td>\n",
              "      <td>0</td>\n",
              "      <td>0</td>\n",
              "      <td>0</td>\n",
              "      <td>...</td>\n",
              "      <td>26</td>\n",
              "      <td>0.10</td>\n",
              "      <td>0.05</td>\n",
              "      <td>0.00</td>\n",
              "      <td>0.00</td>\n",
              "      <td>1.00</td>\n",
              "      <td>1.00</td>\n",
              "      <td>0.00</td>\n",
              "      <td>0.00</td>\n",
              "      <td>neptune</td>\n",
              "    </tr>\n",
              "    <tr>\n",
              "      <th>3</th>\n",
              "      <td>0</td>\n",
              "      <td>tcp</td>\n",
              "      <td>http</td>\n",
              "      <td>SF</td>\n",
              "      <td>232</td>\n",
              "      <td>8153</td>\n",
              "      <td>0</td>\n",
              "      <td>0</td>\n",
              "      <td>0</td>\n",
              "      <td>0</td>\n",
              "      <td>...</td>\n",
              "      <td>255</td>\n",
              "      <td>1.00</td>\n",
              "      <td>0.00</td>\n",
              "      <td>0.03</td>\n",
              "      <td>0.04</td>\n",
              "      <td>0.03</td>\n",
              "      <td>0.01</td>\n",
              "      <td>0.00</td>\n",
              "      <td>0.01</td>\n",
              "      <td>normal</td>\n",
              "    </tr>\n",
              "    <tr>\n",
              "      <th>4</th>\n",
              "      <td>0</td>\n",
              "      <td>tcp</td>\n",
              "      <td>http</td>\n",
              "      <td>SF</td>\n",
              "      <td>199</td>\n",
              "      <td>420</td>\n",
              "      <td>0</td>\n",
              "      <td>0</td>\n",
              "      <td>0</td>\n",
              "      <td>0</td>\n",
              "      <td>...</td>\n",
              "      <td>255</td>\n",
              "      <td>1.00</td>\n",
              "      <td>0.00</td>\n",
              "      <td>0.00</td>\n",
              "      <td>0.00</td>\n",
              "      <td>0.00</td>\n",
              "      <td>0.00</td>\n",
              "      <td>0.00</td>\n",
              "      <td>0.00</td>\n",
              "      <td>normal</td>\n",
              "    </tr>\n",
              "  </tbody>\n",
              "</table>\n",
              "<p>5 rows × 42 columns</p>\n",
              "</div>"
            ],
            "text/plain": [
              "   0    1         2   3    4     5  6  7  8  9  ...   32    33    34    35  \\\n",
              "0  0  tcp  ftp_data  SF  491     0  0  0  0  0  ...   25  0.17  0.03  0.17   \n",
              "1  0  udp     other  SF  146     0  0  0  0  0  ...    1  0.00  0.60  0.88   \n",
              "2  0  tcp   private  S0    0     0  0  0  0  0  ...   26  0.10  0.05  0.00   \n",
              "3  0  tcp      http  SF  232  8153  0  0  0  0  ...  255  1.00  0.00  0.03   \n",
              "4  0  tcp      http  SF  199   420  0  0  0  0  ...  255  1.00  0.00  0.00   \n",
              "\n",
              "     36    37    38    39    40       41  \n",
              "0  0.00  0.00  0.00  0.05  0.00   normal  \n",
              "1  0.00  0.00  0.00  0.00  0.00   normal  \n",
              "2  0.00  1.00  1.00  0.00  0.00  neptune  \n",
              "3  0.04  0.03  0.01  0.00  0.01   normal  \n",
              "4  0.00  0.00  0.00  0.00  0.00   normal  \n",
              "\n",
              "[5 rows x 42 columns]"
            ]
          },
          "execution_count": 20,
          "metadata": {},
          "output_type": "execute_result"
        }
      ],
      "source": [
        "# Peak on the dataset\n",
        "df.drop('42',axis=1, inplace=True)\n",
        "df2.drop('42',axis=1, inplace=True)\n",
        "df.head()"
      ]
    },
    {
      "cell_type": "code",
      "execution_count": null,
      "id": "4832d014",
      "metadata": {
        "execution": {
          "iopub.execute_input": "2022-05-02T01:11:41.248036Z",
          "iopub.status.busy": "2022-05-02T01:11:41.247716Z",
          "iopub.status.idle": "2022-05-02T01:11:41.257317Z",
          "shell.execute_reply": "2022-05-02T01:11:41.256871Z"
        },
        "id": "4832d014",
        "papermill": {
          "duration": 0.100388,
          "end_time": "2022-05-02T01:11:41.259265",
          "exception": false,
          "start_time": "2022-05-02T01:11:41.158877",
          "status": "completed"
        },
        "scrolled": true,
        "tags": []
      },
      "outputs": [],
      "source": [
        "sub_classes = df.iloc[:,41].value_counts()"
      ]
    },
    {
      "cell_type": "code",
      "execution_count": null,
      "id": "1cfee031",
      "metadata": {
        "execution": {
          "iopub.execute_input": "2022-05-02T01:11:41.439050Z",
          "iopub.status.busy": "2022-05-02T01:11:41.438660Z",
          "iopub.status.idle": "2022-05-02T01:11:41.443685Z",
          "shell.execute_reply": "2022-05-02T01:11:41.442481Z"
        },
        "id": "1cfee031",
        "outputId": "2cb66021-0807-4f77-f4f6-9335b6ffee5e",
        "papermill": {
          "duration": 0.095677,
          "end_time": "2022-05-02T01:11:41.445213",
          "exception": false,
          "start_time": "2022-05-02T01:11:41.349536",
          "status": "completed"
        },
        "tags": []
      },
      "outputs": [
        {
          "name": "stdout",
          "output_type": "stream",
          "text": [
            "normal             67343\n",
            "neptune            41214\n",
            "satan               3633\n",
            "ipsweep             3599\n",
            "portsweep           2931\n",
            "smurf               2646\n",
            "nmap                1493\n",
            "back                 956\n",
            "teardrop             892\n",
            "warezclient          890\n",
            "pod                  201\n",
            "guess_passwd          53\n",
            "buffer_overflow       30\n",
            "warezmaster           20\n",
            "land                  18\n",
            "imap                  11\n",
            "rootkit               10\n",
            "loadmodule             9\n",
            "ftp_write              8\n",
            "multihop               7\n",
            "phf                    4\n",
            "perl                   3\n",
            "spy                    2\n",
            "Name: 41, dtype: int64\n"
          ]
        }
      ],
      "source": [
        "print(sub_classes)"
      ]
    },
    {
      "cell_type": "code",
      "execution_count": null,
      "id": "38acf9c6",
      "metadata": {
        "execution": {
          "iopub.execute_input": "2022-05-02T01:11:41.562239Z",
          "iopub.status.busy": "2022-05-02T01:11:41.561690Z",
          "iopub.status.idle": "2022-05-02T01:11:41.567135Z",
          "shell.execute_reply": "2022-05-02T01:11:41.566669Z"
        },
        "id": "38acf9c6",
        "papermill": {
          "duration": 0.065646,
          "end_time": "2022-05-02T01:11:41.568411",
          "exception": false,
          "start_time": "2022-05-02T01:11:41.502765",
          "status": "completed"
        },
        "tags": []
      },
      "outputs": [],
      "source": [
        "r2l = ['ftp_write','guess_passwd', 'imap', 'multihop', 'phf', 'spy','warezclient','warezmaster','xlock', 'xsnoop','named',\n",
        "       'sendmail','snmpgetattack', 'snmpguess','httptunnel']\n",
        "u2r = ['buffer_overflow', 'loadmodule','perl','ps','rootkit','sqlattack','xterm']\n",
        "dos = ['back', 'land', 'neptune', 'smurf', 'teardrop','pod','mailbomb', 'processtable','udpstorm', 'worm','apache2']\n",
        "probe = ['ipsweep', 'nmap', 'portsweep', 'satan','saint','mscan']\n",
        "normal = ['normal']"
      ]
    },
    {
      "cell_type": "code",
      "execution_count": null,
      "id": "d79d825d",
      "metadata": {
        "execution": {
          "iopub.execute_input": "2022-05-02T01:11:41.685310Z",
          "iopub.status.busy": "2022-05-02T01:11:41.685057Z",
          "iopub.status.idle": "2022-05-02T01:11:41.704246Z",
          "shell.execute_reply": "2022-05-02T01:11:41.703774Z"
        },
        "id": "d79d825d",
        "outputId": "25c2363f-2300-4b1a-9cf1-ad3e1d9dc891",
        "papermill": {
          "duration": 0.079864,
          "end_time": "2022-05-02T01:11:41.705883",
          "exception": false,
          "start_time": "2022-05-02T01:11:41.626019",
          "status": "completed"
        },
        "tags": []
      },
      "outputs": [
        {
          "data": {
            "text/html": [
              "<div>\n",
              "<style scoped>\n",
              "    .dataframe tbody tr th:only-of-type {\n",
              "        vertical-align: middle;\n",
              "    }\n",
              "\n",
              "    .dataframe tbody tr th {\n",
              "        vertical-align: top;\n",
              "    }\n",
              "\n",
              "    .dataframe thead th {\n",
              "        text-align: right;\n",
              "    }\n",
              "</style>\n",
              "<table border=\"1\" class=\"dataframe\">\n",
              "  <thead>\n",
              "    <tr style=\"text-align: right;\">\n",
              "      <th></th>\n",
              "      <th>Train</th>\n",
              "      <th>Test</th>\n",
              "    </tr>\n",
              "  </thead>\n",
              "  <tbody>\n",
              "    <tr>\n",
              "      <th>tcp</th>\n",
              "      <td>102689</td>\n",
              "      <td>18880</td>\n",
              "    </tr>\n",
              "    <tr>\n",
              "      <th>udp</th>\n",
              "      <td>14993</td>\n",
              "      <td>2621</td>\n",
              "    </tr>\n",
              "    <tr>\n",
              "      <th>icmp</th>\n",
              "      <td>8291</td>\n",
              "      <td>1043</td>\n",
              "    </tr>\n",
              "  </tbody>\n",
              "</table>\n",
              "</div>"
            ],
            "text/plain": [
              "       Train   Test\n",
              "tcp   102689  18880\n",
              "udp    14993   2621\n",
              "icmp    8291   1043"
            ]
          },
          "execution_count": 24,
          "metadata": {},
          "output_type": "execute_result"
        }
      ],
      "source": [
        "pd.set_option('display.max_rows', None) # or 1000.\n",
        "train_1 = df['1'].value_counts()\n",
        "train_1.rename('Train', inplace=True)\n",
        "test_1 = df2['1'].value_counts()\n",
        "test_1.rename('Test', inplace=True)\n",
        "cnct = pd.concat([train_1, test_1], axis = 1)\n",
        "cnct"
      ]
    },
    {
      "cell_type": "code",
      "execution_count": null,
      "id": "bb36dc86",
      "metadata": {
        "execution": {
          "iopub.execute_input": "2022-05-02T01:11:41.886007Z",
          "iopub.status.busy": "2022-05-02T01:11:41.885596Z",
          "iopub.status.idle": "2022-05-02T01:11:41.931083Z",
          "shell.execute_reply": "2022-05-02T01:11:41.930540Z"
        },
        "id": "bb36dc86",
        "outputId": "593fb094-d130-4307-f506-15c96edccc9a",
        "papermill": {
          "duration": 0.138506,
          "end_time": "2022-05-02T01:11:41.933384",
          "exception": false,
          "start_time": "2022-05-02T01:11:41.794878",
          "status": "completed"
        },
        "tags": []
      },
      "outputs": [
        {
          "data": {
            "text/html": [
              "<div>\n",
              "<style scoped>\n",
              "    .dataframe tbody tr th:only-of-type {\n",
              "        vertical-align: middle;\n",
              "    }\n",
              "\n",
              "    .dataframe tbody tr th {\n",
              "        vertical-align: top;\n",
              "    }\n",
              "\n",
              "    .dataframe thead th {\n",
              "        text-align: right;\n",
              "    }\n",
              "</style>\n",
              "<table border=\"1\" class=\"dataframe\">\n",
              "  <thead>\n",
              "    <tr style=\"text-align: right;\">\n",
              "      <th></th>\n",
              "      <th>Train</th>\n",
              "      <th>Test</th>\n",
              "    </tr>\n",
              "  </thead>\n",
              "  <tbody>\n",
              "    <tr>\n",
              "      <th>http</th>\n",
              "      <td>40338</td>\n",
              "      <td>7853.0</td>\n",
              "    </tr>\n",
              "    <tr>\n",
              "      <th>private</th>\n",
              "      <td>21853</td>\n",
              "      <td>4774.0</td>\n",
              "    </tr>\n",
              "    <tr>\n",
              "      <th>domain_u</th>\n",
              "      <td>9043</td>\n",
              "      <td>894.0</td>\n",
              "    </tr>\n",
              "    <tr>\n",
              "      <th>smtp</th>\n",
              "      <td>7313</td>\n",
              "      <td>934.0</td>\n",
              "    </tr>\n",
              "    <tr>\n",
              "      <th>ftp_data</th>\n",
              "      <td>6860</td>\n",
              "      <td>851.0</td>\n",
              "    </tr>\n",
              "    <tr>\n",
              "      <th>eco_i</th>\n",
              "      <td>4586</td>\n",
              "      <td>262.0</td>\n",
              "    </tr>\n",
              "    <tr>\n",
              "      <th>other</th>\n",
              "      <td>4359</td>\n",
              "      <td>838.0</td>\n",
              "    </tr>\n",
              "    <tr>\n",
              "      <th>ecr_i</th>\n",
              "      <td>3077</td>\n",
              "      <td>752.0</td>\n",
              "    </tr>\n",
              "    <tr>\n",
              "      <th>telnet</th>\n",
              "      <td>2353</td>\n",
              "      <td>1626.0</td>\n",
              "    </tr>\n",
              "    <tr>\n",
              "      <th>finger</th>\n",
              "      <td>1767</td>\n",
              "      <td>136.0</td>\n",
              "    </tr>\n",
              "    <tr>\n",
              "      <th>ftp</th>\n",
              "      <td>1754</td>\n",
              "      <td>692.0</td>\n",
              "    </tr>\n",
              "    <tr>\n",
              "      <th>auth</th>\n",
              "      <td>955</td>\n",
              "      <td>67.0</td>\n",
              "    </tr>\n",
              "    <tr>\n",
              "      <th>Z39_50</th>\n",
              "      <td>862</td>\n",
              "      <td>45.0</td>\n",
              "    </tr>\n",
              "    <tr>\n",
              "      <th>uucp</th>\n",
              "      <td>780</td>\n",
              "      <td>50.0</td>\n",
              "    </tr>\n",
              "    <tr>\n",
              "      <th>courier</th>\n",
              "      <td>734</td>\n",
              "      <td>40.0</td>\n",
              "    </tr>\n",
              "    <tr>\n",
              "      <th>bgp</th>\n",
              "      <td>710</td>\n",
              "      <td>46.0</td>\n",
              "    </tr>\n",
              "    <tr>\n",
              "      <th>whois</th>\n",
              "      <td>693</td>\n",
              "      <td>40.0</td>\n",
              "    </tr>\n",
              "    <tr>\n",
              "      <th>uucp_path</th>\n",
              "      <td>689</td>\n",
              "      <td>46.0</td>\n",
              "    </tr>\n",
              "    <tr>\n",
              "      <th>iso_tsap</th>\n",
              "      <td>687</td>\n",
              "      <td>48.0</td>\n",
              "    </tr>\n",
              "    <tr>\n",
              "      <th>time</th>\n",
              "      <td>654</td>\n",
              "      <td>36.0</td>\n",
              "    </tr>\n",
              "    <tr>\n",
              "      <th>imap4</th>\n",
              "      <td>647</td>\n",
              "      <td>306.0</td>\n",
              "    </tr>\n",
              "    <tr>\n",
              "      <th>nnsp</th>\n",
              "      <td>630</td>\n",
              "      <td>42.0</td>\n",
              "    </tr>\n",
              "    <tr>\n",
              "      <th>vmnet</th>\n",
              "      <td>617</td>\n",
              "      <td>43.0</td>\n",
              "    </tr>\n",
              "    <tr>\n",
              "      <th>urp_i</th>\n",
              "      <td>602</td>\n",
              "      <td>23.0</td>\n",
              "    </tr>\n",
              "    <tr>\n",
              "      <th>domain</th>\n",
              "      <td>569</td>\n",
              "      <td>51.0</td>\n",
              "    </tr>\n",
              "    <tr>\n",
              "      <th>ctf</th>\n",
              "      <td>563</td>\n",
              "      <td>41.0</td>\n",
              "    </tr>\n",
              "    <tr>\n",
              "      <th>csnet_ns</th>\n",
              "      <td>545</td>\n",
              "      <td>34.0</td>\n",
              "    </tr>\n",
              "    <tr>\n",
              "      <th>supdup</th>\n",
              "      <td>544</td>\n",
              "      <td>27.0</td>\n",
              "    </tr>\n",
              "    <tr>\n",
              "      <th>discard</th>\n",
              "      <td>538</td>\n",
              "      <td>26.0</td>\n",
              "    </tr>\n",
              "    <tr>\n",
              "      <th>http_443</th>\n",
              "      <td>530</td>\n",
              "      <td>36.0</td>\n",
              "    </tr>\n",
              "    <tr>\n",
              "      <th>daytime</th>\n",
              "      <td>521</td>\n",
              "      <td>28.0</td>\n",
              "    </tr>\n",
              "    <tr>\n",
              "      <th>gopher</th>\n",
              "      <td>518</td>\n",
              "      <td>34.0</td>\n",
              "    </tr>\n",
              "    <tr>\n",
              "      <th>efs</th>\n",
              "      <td>485</td>\n",
              "      <td>33.0</td>\n",
              "    </tr>\n",
              "    <tr>\n",
              "      <th>systat</th>\n",
              "      <td>477</td>\n",
              "      <td>32.0</td>\n",
              "    </tr>\n",
              "    <tr>\n",
              "      <th>link</th>\n",
              "      <td>475</td>\n",
              "      <td>41.0</td>\n",
              "    </tr>\n",
              "    <tr>\n",
              "      <th>exec</th>\n",
              "      <td>474</td>\n",
              "      <td>27.0</td>\n",
              "    </tr>\n",
              "    <tr>\n",
              "      <th>hostnames</th>\n",
              "      <td>460</td>\n",
              "      <td>23.0</td>\n",
              "    </tr>\n",
              "    <tr>\n",
              "      <th>name</th>\n",
              "      <td>451</td>\n",
              "      <td>37.0</td>\n",
              "    </tr>\n",
              "    <tr>\n",
              "      <th>mtp</th>\n",
              "      <td>439</td>\n",
              "      <td>32.0</td>\n",
              "    </tr>\n",
              "    <tr>\n",
              "      <th>echo</th>\n",
              "      <td>434</td>\n",
              "      <td>37.0</td>\n",
              "    </tr>\n",
              "    <tr>\n",
              "      <th>klogin</th>\n",
              "      <td>433</td>\n",
              "      <td>21.0</td>\n",
              "    </tr>\n",
              "    <tr>\n",
              "      <th>login</th>\n",
              "      <td>429</td>\n",
              "      <td>29.0</td>\n",
              "    </tr>\n",
              "    <tr>\n",
              "      <th>ldap</th>\n",
              "      <td>410</td>\n",
              "      <td>19.0</td>\n",
              "    </tr>\n",
              "    <tr>\n",
              "      <th>netbios_dgm</th>\n",
              "      <td>405</td>\n",
              "      <td>25.0</td>\n",
              "    </tr>\n",
              "    <tr>\n",
              "      <th>sunrpc</th>\n",
              "      <td>381</td>\n",
              "      <td>159.0</td>\n",
              "    </tr>\n",
              "    <tr>\n",
              "      <th>netbios_ssn</th>\n",
              "      <td>362</td>\n",
              "      <td>15.0</td>\n",
              "    </tr>\n",
              "    <tr>\n",
              "      <th>netstat</th>\n",
              "      <td>360</td>\n",
              "      <td>26.0</td>\n",
              "    </tr>\n",
              "    <tr>\n",
              "      <th>netbios_ns</th>\n",
              "      <td>347</td>\n",
              "      <td>36.0</td>\n",
              "    </tr>\n",
              "    <tr>\n",
              "      <th>ssh</th>\n",
              "      <td>311</td>\n",
              "      <td>26.0</td>\n",
              "    </tr>\n",
              "    <tr>\n",
              "      <th>kshell</th>\n",
              "      <td>299</td>\n",
              "      <td>24.0</td>\n",
              "    </tr>\n",
              "    <tr>\n",
              "      <th>nntp</th>\n",
              "      <td>296</td>\n",
              "      <td>21.0</td>\n",
              "    </tr>\n",
              "    <tr>\n",
              "      <th>pop_3</th>\n",
              "      <td>264</td>\n",
              "      <td>1019.0</td>\n",
              "    </tr>\n",
              "    <tr>\n",
              "      <th>sql_net</th>\n",
              "      <td>245</td>\n",
              "      <td>18.0</td>\n",
              "    </tr>\n",
              "    <tr>\n",
              "      <th>IRC</th>\n",
              "      <td>187</td>\n",
              "      <td>13.0</td>\n",
              "    </tr>\n",
              "    <tr>\n",
              "      <th>ntp_u</th>\n",
              "      <td>168</td>\n",
              "      <td>10.0</td>\n",
              "    </tr>\n",
              "    <tr>\n",
              "      <th>rje</th>\n",
              "      <td>86</td>\n",
              "      <td>8.0</td>\n",
              "    </tr>\n",
              "    <tr>\n",
              "      <th>remote_job</th>\n",
              "      <td>78</td>\n",
              "      <td>14.0</td>\n",
              "    </tr>\n",
              "    <tr>\n",
              "      <th>pop_2</th>\n",
              "      <td>78</td>\n",
              "      <td>13.0</td>\n",
              "    </tr>\n",
              "    <tr>\n",
              "      <th>X11</th>\n",
              "      <td>73</td>\n",
              "      <td>15.0</td>\n",
              "    </tr>\n",
              "    <tr>\n",
              "      <th>printer</th>\n",
              "      <td>69</td>\n",
              "      <td>11.0</td>\n",
              "    </tr>\n",
              "    <tr>\n",
              "      <th>shell</th>\n",
              "      <td>65</td>\n",
              "      <td>16.0</td>\n",
              "    </tr>\n",
              "    <tr>\n",
              "      <th>urh_i</th>\n",
              "      <td>10</td>\n",
              "      <td>NaN</td>\n",
              "    </tr>\n",
              "    <tr>\n",
              "      <th>tim_i</th>\n",
              "      <td>8</td>\n",
              "      <td>6.0</td>\n",
              "    </tr>\n",
              "    <tr>\n",
              "      <th>red_i</th>\n",
              "      <td>8</td>\n",
              "      <td>NaN</td>\n",
              "    </tr>\n",
              "    <tr>\n",
              "      <th>pm_dump</th>\n",
              "      <td>5</td>\n",
              "      <td>16.0</td>\n",
              "    </tr>\n",
              "    <tr>\n",
              "      <th>tftp_u</th>\n",
              "      <td>3</td>\n",
              "      <td>1.0</td>\n",
              "    </tr>\n",
              "    <tr>\n",
              "      <th>http_8001</th>\n",
              "      <td>2</td>\n",
              "      <td>NaN</td>\n",
              "    </tr>\n",
              "    <tr>\n",
              "      <th>aol</th>\n",
              "      <td>2</td>\n",
              "      <td>NaN</td>\n",
              "    </tr>\n",
              "    <tr>\n",
              "      <th>harvest</th>\n",
              "      <td>2</td>\n",
              "      <td>NaN</td>\n",
              "    </tr>\n",
              "    <tr>\n",
              "      <th>http_2784</th>\n",
              "      <td>1</td>\n",
              "      <td>NaN</td>\n",
              "    </tr>\n",
              "  </tbody>\n",
              "</table>\n",
              "</div>"
            ],
            "text/plain": [
              "             Train    Test\n",
              "http         40338  7853.0\n",
              "private      21853  4774.0\n",
              "domain_u      9043   894.0\n",
              "smtp          7313   934.0\n",
              "ftp_data      6860   851.0\n",
              "eco_i         4586   262.0\n",
              "other         4359   838.0\n",
              "ecr_i         3077   752.0\n",
              "telnet        2353  1626.0\n",
              "finger        1767   136.0\n",
              "ftp           1754   692.0\n",
              "auth           955    67.0\n",
              "Z39_50         862    45.0\n",
              "uucp           780    50.0\n",
              "courier        734    40.0\n",
              "bgp            710    46.0\n",
              "whois          693    40.0\n",
              "uucp_path      689    46.0\n",
              "iso_tsap       687    48.0\n",
              "time           654    36.0\n",
              "imap4          647   306.0\n",
              "nnsp           630    42.0\n",
              "vmnet          617    43.0\n",
              "urp_i          602    23.0\n",
              "domain         569    51.0\n",
              "ctf            563    41.0\n",
              "csnet_ns       545    34.0\n",
              "supdup         544    27.0\n",
              "discard        538    26.0\n",
              "http_443       530    36.0\n",
              "daytime        521    28.0\n",
              "gopher         518    34.0\n",
              "efs            485    33.0\n",
              "systat         477    32.0\n",
              "link           475    41.0\n",
              "exec           474    27.0\n",
              "hostnames      460    23.0\n",
              "name           451    37.0\n",
              "mtp            439    32.0\n",
              "echo           434    37.0\n",
              "klogin         433    21.0\n",
              "login          429    29.0\n",
              "ldap           410    19.0\n",
              "netbios_dgm    405    25.0\n",
              "sunrpc         381   159.0\n",
              "netbios_ssn    362    15.0\n",
              "netstat        360    26.0\n",
              "netbios_ns     347    36.0\n",
              "ssh            311    26.0\n",
              "kshell         299    24.0\n",
              "nntp           296    21.0\n",
              "pop_3          264  1019.0\n",
              "sql_net        245    18.0\n",
              "IRC            187    13.0\n",
              "ntp_u          168    10.0\n",
              "rje             86     8.0\n",
              "remote_job      78    14.0\n",
              "pop_2           78    13.0\n",
              "X11             73    15.0\n",
              "printer         69    11.0\n",
              "shell           65    16.0\n",
              "urh_i           10     NaN\n",
              "tim_i            8     6.0\n",
              "red_i            8     NaN\n",
              "pm_dump          5    16.0\n",
              "tftp_u           3     1.0\n",
              "http_8001        2     NaN\n",
              "aol              2     NaN\n",
              "harvest          2     NaN\n",
              "http_2784        1     NaN"
            ]
          },
          "execution_count": 25,
          "metadata": {},
          "output_type": "execute_result"
        }
      ],
      "source": [
        "train_2 = df['2'].value_counts()\n",
        "train_2.rename('Train', inplace=True)\n",
        "test_2 = df2['2'].value_counts()\n",
        "test_2.rename('Test', inplace=True)\n",
        "cnct = pd.concat([train_2, test_2], axis = 1)\n",
        "cnct"
      ]
    },
    {
      "cell_type": "code",
      "execution_count": null,
      "id": "5f445fe8",
      "metadata": {
        "execution": {
          "iopub.execute_input": "2022-05-02T01:11:42.118620Z",
          "iopub.status.busy": "2022-05-02T01:11:42.118371Z",
          "iopub.status.idle": "2022-05-02T01:11:42.151677Z",
          "shell.execute_reply": "2022-05-02T01:11:42.150894Z"
        },
        "id": "5f445fe8",
        "outputId": "e361ea87-2149-41a2-e16c-6568ddb7e874",
        "papermill": {
          "duration": 0.128129,
          "end_time": "2022-05-02T01:11:42.153388",
          "exception": false,
          "start_time": "2022-05-02T01:11:42.025259",
          "status": "completed"
        },
        "tags": []
      },
      "outputs": [
        {
          "data": {
            "text/html": [
              "<div>\n",
              "<style scoped>\n",
              "    .dataframe tbody tr th:only-of-type {\n",
              "        vertical-align: middle;\n",
              "    }\n",
              "\n",
              "    .dataframe tbody tr th {\n",
              "        vertical-align: top;\n",
              "    }\n",
              "\n",
              "    .dataframe thead th {\n",
              "        text-align: right;\n",
              "    }\n",
              "</style>\n",
              "<table border=\"1\" class=\"dataframe\">\n",
              "  <thead>\n",
              "    <tr style=\"text-align: right;\">\n",
              "      <th></th>\n",
              "      <th>Train</th>\n",
              "      <th>Test</th>\n",
              "    </tr>\n",
              "  </thead>\n",
              "  <tbody>\n",
              "    <tr>\n",
              "      <th>SF</th>\n",
              "      <td>74945</td>\n",
              "      <td>14875</td>\n",
              "    </tr>\n",
              "    <tr>\n",
              "      <th>S0</th>\n",
              "      <td>34851</td>\n",
              "      <td>2013</td>\n",
              "    </tr>\n",
              "    <tr>\n",
              "      <th>REJ</th>\n",
              "      <td>11233</td>\n",
              "      <td>3850</td>\n",
              "    </tr>\n",
              "    <tr>\n",
              "      <th>RSTR</th>\n",
              "      <td>2421</td>\n",
              "      <td>669</td>\n",
              "    </tr>\n",
              "    <tr>\n",
              "      <th>RSTO</th>\n",
              "      <td>1562</td>\n",
              "      <td>773</td>\n",
              "    </tr>\n",
              "    <tr>\n",
              "      <th>S1</th>\n",
              "      <td>365</td>\n",
              "      <td>21</td>\n",
              "    </tr>\n",
              "    <tr>\n",
              "      <th>SH</th>\n",
              "      <td>271</td>\n",
              "      <td>73</td>\n",
              "    </tr>\n",
              "    <tr>\n",
              "      <th>S2</th>\n",
              "      <td>127</td>\n",
              "      <td>15</td>\n",
              "    </tr>\n",
              "    <tr>\n",
              "      <th>RSTOS0</th>\n",
              "      <td>103</td>\n",
              "      <td>2</td>\n",
              "    </tr>\n",
              "    <tr>\n",
              "      <th>S3</th>\n",
              "      <td>49</td>\n",
              "      <td>249</td>\n",
              "    </tr>\n",
              "    <tr>\n",
              "      <th>OTH</th>\n",
              "      <td>46</td>\n",
              "      <td>4</td>\n",
              "    </tr>\n",
              "  </tbody>\n",
              "</table>\n",
              "</div>"
            ],
            "text/plain": [
              "        Train   Test\n",
              "SF      74945  14875\n",
              "S0      34851   2013\n",
              "REJ     11233   3850\n",
              "RSTR     2421    669\n",
              "RSTO     1562    773\n",
              "S1        365     21\n",
              "SH        271     73\n",
              "S2        127     15\n",
              "RSTOS0    103      2\n",
              "S3         49    249\n",
              "OTH        46      4"
            ]
          },
          "execution_count": 26,
          "metadata": {},
          "output_type": "execute_result"
        }
      ],
      "source": [
        "train_3 = df['3'].value_counts()\n",
        "train_3.rename('Train', inplace=True)\n",
        "test_3 = df2['3'].value_counts()\n",
        "test_3.rename('Test', inplace=True)\n",
        "cnct = pd.concat([train_3, test_3], axis = 1)\n",
        "cnct"
      ]
    },
    {
      "cell_type": "code",
      "execution_count": null,
      "id": "a6e2e245",
      "metadata": {
        "execution": {
          "iopub.execute_input": "2022-05-02T01:11:42.339074Z",
          "iopub.status.busy": "2022-05-02T01:11:42.338827Z",
          "iopub.status.idle": "2022-05-02T01:11:42.572151Z",
          "shell.execute_reply": "2022-05-02T01:11:42.571468Z"
        },
        "id": "a6e2e245",
        "papermill": {
          "duration": 0.327722,
          "end_time": "2022-05-02T01:11:42.574350",
          "exception": false,
          "start_time": "2022-05-02T01:11:42.246628",
          "status": "completed"
        },
        "tags": []
      },
      "outputs": [],
      "source": [
        "df_X = df.drop('41', axis=1)\n",
        "le = LabelEncoder()\n",
        "for i in df_X:\n",
        "  if df_X[i].dtype=='object':\n",
        "    le.fit(df_X[i])\n",
        "    df_X[i] = le.transform(df_X[i])\n",
        "    df2[i] = le.transform(df2[i])\n",
        "df.iloc[:,:40] = df_X"
      ]
    },
    {
      "cell_type": "code",
      "execution_count": null,
      "id": "45bcd4ae",
      "metadata": {
        "execution": {
          "iopub.execute_input": "2022-05-02T01:11:42.758195Z",
          "iopub.status.busy": "2022-05-02T01:11:42.757950Z",
          "iopub.status.idle": "2022-05-02T01:11:43.701745Z",
          "shell.execute_reply": "2022-05-02T01:11:43.701293Z"
        },
        "id": "45bcd4ae",
        "papermill": {
          "duration": 1.038269,
          "end_time": "2022-05-02T01:11:43.703962",
          "exception": false,
          "start_time": "2022-05-02T01:11:42.665693",
          "status": "completed"
        },
        "tags": []
      },
      "outputs": [],
      "source": [
        "df.iloc[:,:40] = normalize_data(df.iloc[:,:40])\n",
        "df2.iloc[:,:40] = normalize_data(df2.iloc[:,:40])"
      ]
    },
    {
      "cell_type": "code",
      "execution_count": null,
      "id": "db93dbb1",
      "metadata": {
        "execution": {
          "iopub.execute_input": "2022-05-02T01:11:43.888248Z",
          "iopub.status.busy": "2022-05-02T01:11:43.887404Z",
          "iopub.status.idle": "2022-05-02T01:11:44.192545Z",
          "shell.execute_reply": "2022-05-02T01:11:44.192124Z"
        },
        "id": "db93dbb1",
        "papermill": {
          "duration": 0.398003,
          "end_time": "2022-05-02T01:11:44.194525",
          "exception": false,
          "start_time": "2022-05-02T01:11:43.796522",
          "status": "completed"
        },
        "tags": []
      },
      "outputs": [],
      "source": [
        "u2r_attacks = df[df['41'].apply(lambda x: x in u2r)].copy()\n",
        "r2l_attacks = df[df['41'].apply(lambda x: x in r2l)].copy()\n",
        "dos_attacks = df[df['41'].apply(lambda x: x in dos)].copy()\n",
        "probe_attacks = df[df['41'].apply(lambda x: x in probe)].copy()\n",
        "normal_traffic = df[df['41'].apply(lambda x: x in normal)].copy()\n",
        "\n",
        "df['41'] = df['41'].map(\n",
        "    lambda x: 'malicious' if x in r2l \n",
        "    else 'malicious' if x in u2r \n",
        "    else 'malicious' if x in dos \n",
        "    else 'malicious' if x in probe \n",
        "    else 'normal' if x is 'normal'\n",
        "    else x\n",
        "    )\n",
        "\n",
        "df2['41'] = df2['41'].map(\n",
        "    lambda x: 'malicious' if x in r2l \n",
        "    else 'malicious' if x in u2r \n",
        "    else 'malicious' if x in dos \n",
        "    else 'malicious' if x in probe \n",
        "    else 'normal' if x is 'normal'\n",
        "    else x\n",
        "    )"
      ]
    },
    {
      "cell_type": "markdown",
      "id": "28560fa1",
      "metadata": {
        "id": "28560fa1",
        "papermill": {
          "duration": 0.090746,
          "end_time": "2022-05-02T01:11:44.376680",
          "exception": false,
          "start_time": "2022-05-02T01:11:44.285934",
          "status": "completed"
        },
        "tags": []
      },
      "source": [
        "### Training set value counts"
      ]
    },
    {
      "cell_type": "code",
      "execution_count": null,
      "id": "57a297f4",
      "metadata": {
        "execution": {
          "iopub.execute_input": "2022-05-02T01:11:44.560207Z",
          "iopub.status.busy": "2022-05-02T01:11:44.559595Z",
          "iopub.status.idle": "2022-05-02T01:11:44.582945Z",
          "shell.execute_reply": "2022-05-02T01:11:44.582489Z"
        },
        "id": "57a297f4",
        "outputId": "8976e6ca-45ee-413e-b6b3-5c86b8c7a4e2",
        "papermill": {
          "duration": 0.11681,
          "end_time": "2022-05-02T01:11:44.584565",
          "exception": false,
          "start_time": "2022-05-02T01:11:44.467755",
          "status": "completed"
        },
        "tags": []
      },
      "outputs": [
        {
          "data": {
            "text/plain": [
              "normal       67343\n",
              "malicious    58630\n",
              "Name: 41, dtype: int64"
            ]
          },
          "execution_count": 30,
          "metadata": {},
          "output_type": "execute_result"
        }
      ],
      "source": [
        "df['41'].value_counts()"
      ]
    },
    {
      "cell_type": "markdown",
      "id": "a1cb4b9f",
      "metadata": {
        "id": "a1cb4b9f",
        "papermill": {
          "duration": 0.09019,
          "end_time": "2022-05-02T01:11:44.766997",
          "exception": false,
          "start_time": "2022-05-02T01:11:44.676807",
          "status": "completed"
        },
        "tags": []
      },
      "source": [
        "### Testing set value counts"
      ]
    },
    {
      "cell_type": "code",
      "execution_count": null,
      "id": "cc73f211",
      "metadata": {
        "execution": {
          "iopub.execute_input": "2022-05-02T01:11:44.948898Z",
          "iopub.status.busy": "2022-05-02T01:11:44.948702Z",
          "iopub.status.idle": "2022-05-02T01:11:44.954892Z",
          "shell.execute_reply": "2022-05-02T01:11:44.953961Z"
        },
        "id": "cc73f211",
        "outputId": "7c27e403-13d0-45f7-c77f-b1e2b68194a9",
        "papermill": {
          "duration": 0.098645,
          "end_time": "2022-05-02T01:11:44.956443",
          "exception": false,
          "start_time": "2022-05-02T01:11:44.857798",
          "status": "completed"
        },
        "tags": []
      },
      "outputs": [
        {
          "name": "stdout",
          "output_type": "stream",
          "text": [
            "malicious    12833\n",
            "normal        9711\n",
            "Name: 41, dtype: int64\n"
          ]
        }
      ],
      "source": [
        "print(df2['41'].value_counts())"
      ]
    },
    {
      "cell_type": "code",
      "execution_count": null,
      "id": "454752ae",
      "metadata": {
        "execution": {
          "iopub.execute_input": "2022-05-02T01:11:45.079738Z",
          "iopub.status.busy": "2022-05-02T01:11:45.079276Z",
          "iopub.status.idle": "2022-05-02T01:11:45.217775Z",
          "shell.execute_reply": "2022-05-02T01:11:45.217208Z"
        },
        "id": "454752ae",
        "papermill": {
          "duration": 0.202949,
          "end_time": "2022-05-02T01:11:45.219427",
          "exception": false,
          "start_time": "2022-05-02T01:11:45.016478",
          "status": "completed"
        },
        "tags": []
      },
      "outputs": [],
      "source": [
        "#In case of multi-class classification\n",
        "#df_Y = le.fit(df['41']).transform(df['41'])\n",
        "#df.iloc[:,41] = df_Y\n",
        "#df_Y = le.transform(df2['41'])\n",
        "#df2.iloc[:,41] = df_Y\n",
        "\n",
        "#In case of binary classification\n",
        "df.iloc[:,41] = df['41'].map(lambda x: 0 if x=='normal' else 1)\n",
        "df2.iloc[:,41] = df2['41'].map(lambda x: 0 if x=='normal' else 1)\n",
        "\n",
        "X_train = df.drop(['41'],axis=1)\n",
        "y_train = df['41']\n",
        "\n",
        "X_test = df2.drop(['41'],axis=1)\n",
        "y_test = df2['41']\n",
        "X_test = torch.tensor(np.array(X_test), dtype=torch.float, device=device)"
      ]
    },
    {
      "cell_type": "markdown",
      "id": "2306c8db",
      "metadata": {
        "id": "2306c8db",
        "papermill": {
          "duration": 0.060506,
          "end_time": "2022-05-02T01:11:45.340452",
          "exception": false,
          "start_time": "2022-05-02T01:11:45.279946",
          "status": "completed"
        },
        "tags": []
      },
      "source": [
        "**Creating TensorDatasets**"
      ]
    },
    {
      "cell_type": "code",
      "execution_count": null,
      "id": "bd76b92b",
      "metadata": {
        "execution": {
          "iopub.execute_input": "2022-05-02T01:11:45.462316Z",
          "iopub.status.busy": "2022-05-02T01:11:45.462054Z",
          "iopub.status.idle": "2022-05-02T01:11:45.492532Z",
          "shell.execute_reply": "2022-05-02T01:11:45.492133Z"
        },
        "id": "bd76b92b",
        "outputId": "c6b208c4-a9ec-47bf-a8fc-80666dd9a6a9",
        "papermill": {
          "duration": 0.093265,
          "end_time": "2022-05-02T01:11:45.494045",
          "exception": false,
          "start_time": "2022-05-02T01:11:45.400780",
          "status": "completed"
        },
        "tags": []
      },
      "outputs": [
        {
          "name": "stderr",
          "output_type": "stream",
          "text": [
            "/opt/conda/lib/python3.7/site-packages/ipykernel_launcher.py:6: UserWarning: To copy construct from a tensor, it is recommended to use sourceTensor.clone().detach() or sourceTensor.clone().detach().requires_grad_(True), rather than torch.tensor(sourceTensor).\n",
            "  \n"
          ]
        }
      ],
      "source": [
        "r2l_dataset = create_dataloader(r2l_attacks, None, batch_size = 64)\n",
        "u2r_dataset = create_dataloader(u2r_attacks, None, batch_size = 64)\n",
        "dos_dataset = create_dataloader(dos_attacks, None, batch_size = 64)\n",
        "probe_dataset = create_dataloader(probe_attacks, None, batch_size = 64)\n",
        "normal_dataset = create_dataloader(normal_traffic, None, batch_size = 64)"
      ]
    },
    {
      "cell_type": "code",
      "execution_count": null,
      "id": "de369468",
      "metadata": {
        "execution": {
          "iopub.execute_input": "2022-05-02T01:11:45.617541Z",
          "iopub.status.busy": "2022-05-02T01:11:45.616132Z",
          "iopub.status.idle": "2022-05-02T01:11:45.645560Z",
          "shell.execute_reply": "2022-05-02T01:11:45.644965Z"
        },
        "id": "de369468",
        "outputId": "504648bd-030a-42ce-f6ca-06fe00c77314",
        "papermill": {
          "duration": 0.091516,
          "end_time": "2022-05-02T01:11:45.646811",
          "exception": false,
          "start_time": "2022-05-02T01:11:45.555295",
          "status": "completed"
        },
        "tags": []
      },
      "outputs": [
        {
          "data": {
            "text/plain": [
              "<All keys matched successfully>"
            ]
          },
          "execution_count": 34,
          "metadata": {},
          "output_type": "execute_result"
        }
      ],
      "source": [
        "r2l_generator = Generator(100,41)\n",
        "r2l_generator.load_state_dict(torch.load('../models/r2l_gen.pt'))\n",
        "u2r_generator = Generator(100,41)\n",
        "u2r_generator.load_state_dict(torch.load('../models/u2r_gen.pt'))\n",
        "dos_generator = Generator(100,41)\n",
        "dos_generator.load_state_dict(torch.load('../models/dos_gen.pt'))\n",
        "probe_generator = Generator(100,41)\n",
        "probe_generator.load_state_dict(torch.load('../models/probe_gen.pt'))\n",
        "normal_generator = Generator(100,41)\n",
        "normal_generator.load_state_dict(torch.load('../models/normal_gen.pt'))"
      ]
    },
    {
      "cell_type": "code",
      "execution_count": null,
      "id": "fc206f40",
      "metadata": {
        "execution": {
          "iopub.execute_input": "2022-05-02T01:11:45.771221Z",
          "iopub.status.busy": "2022-05-02T01:11:45.770894Z",
          "iopub.status.idle": "2022-05-02T01:11:45.774389Z",
          "shell.execute_reply": "2022-05-02T01:11:45.774022Z"
        },
        "id": "fc206f40",
        "outputId": "bde5a34f-415d-4a79-f8f4-3e47ea752900",
        "papermill": {
          "duration": 0.068564,
          "end_time": "2022-05-02T01:11:45.775562",
          "exception": false,
          "start_time": "2022-05-02T01:11:45.706998",
          "status": "completed"
        },
        "tags": []
      },
      "outputs": [
        {
          "data": {
            "text/plain": [
              "((995, 42), (11656, 42))"
            ]
          },
          "execution_count": 35,
          "metadata": {},
          "output_type": "execute_result"
        }
      ],
      "source": [
        "r2l_attacks.shape, probe_attacks.shape"
      ]
    },
    {
      "cell_type": "code",
      "execution_count": null,
      "id": "6329f731",
      "metadata": {
        "execution": {
          "iopub.execute_input": "2022-05-02T01:11:45.896441Z",
          "iopub.status.busy": "2022-05-02T01:11:45.896110Z",
          "iopub.status.idle": "2022-05-02T01:11:45.900703Z",
          "shell.execute_reply": "2022-05-02T01:11:45.900302Z"
        },
        "id": "6329f731",
        "papermill": {
          "duration": 0.066922,
          "end_time": "2022-05-02T01:11:45.902081",
          "exception": false,
          "start_time": "2022-05-02T01:11:45.835159",
          "status": "completed"
        },
        "tags": []
      },
      "outputs": [],
      "source": [
        "sample_space = 60000\n",
        "total_attacks = sample_space * 1\n",
        "r2l_req = 0 if sample_space <= r2l_attacks.shape[0] else sample_space - r2l_attacks.shape[0]\n",
        "probe_req = 0 if sample_space <= probe_attacks.shape[0] else sample_space - probe_attacks.shape[0]\n",
        "dos_req = 0 if sample_space <= dos_attacks.shape[0] else sample_space - dos_attacks.shape[0]\n",
        "u2r_req = 0 if sample_space <= u2r_attacks.shape[0] else sample_space - u2r_attacks.shape[0]\n",
        "normal_req = 0 if total_attacks <= normal_traffic.shape[0] else total_attacks - normal_traffic.shape[0]"
      ]
    },
    {
      "cell_type": "code",
      "execution_count": null,
      "id": "fc35010d",
      "metadata": {
        "execution": {
          "iopub.execute_input": "2022-05-02T01:11:46.024935Z",
          "iopub.status.busy": "2022-05-02T01:11:46.024489Z",
          "iopub.status.idle": "2022-05-02T01:11:47.150655Z",
          "shell.execute_reply": "2022-05-02T01:11:47.150125Z"
        },
        "id": "fc35010d",
        "papermill": {
          "duration": 1.189665,
          "end_time": "2022-05-02T01:11:47.152379",
          "exception": false,
          "start_time": "2022-05-02T01:11:45.962714",
          "status": "completed"
        },
        "tags": []
      },
      "outputs": [],
      "source": [
        "r2l_generated = generate_data(generator=r2l_generator, num_instances=r2l_req, z_dim=100)\n",
        "u2r_generated = generate_data(generator=u2r_generator, num_instances=u2r_req, z_dim=100)\n",
        "dos_generated = generate_data(generator=dos_generator, num_instances=dos_req, z_dim=100)\n",
        "probe_generated = generate_data(generator=probe_generator, num_instances=probe_req, z_dim=100)\n",
        "normal_generated = generate_data(generator=normal_generator, num_instances=normal_req, z_dim=100)"
      ]
    },
    {
      "cell_type": "code",
      "execution_count": null,
      "id": "72139030",
      "metadata": {
        "execution": {
          "iopub.execute_input": "2022-05-02T01:11:47.343549Z",
          "iopub.status.busy": "2022-05-02T01:11:47.343280Z",
          "iopub.status.idle": "2022-05-02T01:11:47.348737Z",
          "shell.execute_reply": "2022-05-02T01:11:47.348049Z"
        },
        "id": "72139030",
        "outputId": "7672d9da-e823-4ca3-f9da-bb7fc39203d6",
        "papermill": {
          "duration": 0.100501,
          "end_time": "2022-05-02T01:11:47.350155",
          "exception": false,
          "start_time": "2022-05-02T01:11:47.249654",
          "status": "completed"
        },
        "tags": []
      },
      "outputs": [
        {
          "data": {
            "text/plain": [
              "torch.Size([59005, 41])"
            ]
          },
          "execution_count": 38,
          "metadata": {},
          "output_type": "execute_result"
        }
      ],
      "source": [
        "r2l_generated.shape"
      ]
    },
    {
      "cell_type": "code",
      "execution_count": null,
      "id": "ee2d8a7d",
      "metadata": {
        "execution": {
          "iopub.execute_input": "2022-05-02T01:11:47.473113Z",
          "iopub.status.busy": "2022-05-02T01:11:47.472683Z",
          "iopub.status.idle": "2022-05-02T01:11:47.478959Z",
          "shell.execute_reply": "2022-05-02T01:11:47.478298Z"
        },
        "id": "ee2d8a7d",
        "papermill": {
          "duration": 0.06989,
          "end_time": "2022-05-02T01:11:47.480391",
          "exception": false,
          "start_time": "2022-05-02T01:11:47.410501",
          "status": "completed"
        },
        "tags": []
      },
      "outputs": [],
      "source": [
        "r2l_generated = pd.DataFrame(r2l_generated.detach().numpy())\n",
        "u2r_generated = pd.DataFrame(u2r_generated.detach().numpy())\n",
        "dos_generated = pd.DataFrame(dos_generated.detach().numpy())\n",
        "probe_generated = pd.DataFrame(probe_generated.detach().numpy())\n",
        "normal_generated = pd.DataFrame(normal_generated.detach().numpy())"
      ]
    },
    {
      "cell_type": "code",
      "execution_count": null,
      "id": "6a68360f",
      "metadata": {
        "execution": {
          "iopub.execute_input": "2022-05-02T01:11:47.603168Z",
          "iopub.status.busy": "2022-05-02T01:11:47.602551Z",
          "iopub.status.idle": "2022-05-02T01:11:47.649855Z",
          "shell.execute_reply": "2022-05-02T01:11:47.649131Z"
        },
        "id": "6a68360f",
        "papermill": {
          "duration": 0.111165,
          "end_time": "2022-05-02T01:11:47.651843",
          "exception": false,
          "start_time": "2022-05-02T01:11:47.540678",
          "status": "completed"
        },
        "tags": []
      },
      "outputs": [],
      "source": [
        "r2l_attacks.columns = [i for i in range(df.shape[1])]\n",
        "r2l_attacks = r2l_attacks.append(r2l_generated)\n",
        "u2r_attacks.columns = [i for i in range(df.shape[1])]\n",
        "u2r_attacks = u2r_attacks.append(u2r_generated)\n",
        "dos_attacks.columns = [i for i in range(df.shape[1])]\n",
        "dos_attacks = dos_attacks.append(dos_generated)[:sample_space]\n",
        "probe_attacks.columns = [i for i in range(df.shape[1])]\n",
        "probe_attacks = probe_attacks.append(probe_generated)\n",
        "normal_traffic.columns = [i for i in range(df.shape[1])]\n",
        "normal_traffic = normal_traffic.append(normal_generated)[:sample_space]"
      ]
    },
    {
      "cell_type": "code",
      "execution_count": null,
      "id": "eba764cd",
      "metadata": {
        "execution": {
          "iopub.execute_input": "2022-05-02T01:11:47.774937Z",
          "iopub.status.busy": "2022-05-02T01:11:47.774676Z",
          "iopub.status.idle": "2022-05-02T01:11:47.784652Z",
          "shell.execute_reply": "2022-05-02T01:11:47.784145Z"
        },
        "id": "eba764cd",
        "papermill": {
          "duration": 0.073407,
          "end_time": "2022-05-02T01:11:47.786045",
          "exception": false,
          "start_time": "2022-05-02T01:11:47.712638",
          "status": "completed"
        },
        "tags": []
      },
      "outputs": [],
      "source": [
        "def create_stratified_dataset(x, sample_space):\n",
        "  dataset = []\n",
        "\n",
        "  x[0].iloc[:,41] = 1\n",
        "  x[1].iloc[:,41] = 1\n",
        "  x[2].iloc[:,41] = 1\n",
        "  x[3].iloc[:,41] = 1\n",
        "\n",
        "  x[0] = x[0].to_numpy()\n",
        "  x[1] = x[1].to_numpy()\n",
        "  x[2] = x[2].to_numpy()\n",
        "  x[3] = x[3].to_numpy()\n",
        "  x[4] = x[4].to_numpy()\n",
        "\n",
        "  for i in range(sample_space):\n",
        "    dataset.append(x[0][i])\n",
        "    dataset.append(x[1][i])\n",
        "    dataset.append(x[2][i])\n",
        "    dataset.append(x[3][i])\n",
        "    dataset.append(x[4][i])\n",
        "    \n",
        "  return pd.DataFrame(dataset, columns=[str(i) for i in range(42)])"
      ]
    },
    {
      "cell_type": "code",
      "execution_count": null,
      "id": "92ee29dd",
      "metadata": {
        "execution": {
          "iopub.execute_input": "2022-05-02T01:11:47.906283Z",
          "iopub.status.busy": "2022-05-02T01:11:47.905838Z",
          "iopub.status.idle": "2022-05-02T01:11:48.026025Z",
          "shell.execute_reply": "2022-05-02T01:11:48.025438Z"
        },
        "id": "92ee29dd",
        "papermill": {
          "duration": 0.18222,
          "end_time": "2022-05-02T01:11:48.027833",
          "exception": false,
          "start_time": "2022-05-02T01:11:47.845613",
          "status": "completed"
        },
        "tags": []
      },
      "outputs": [],
      "source": [
        "dataset = pd.concat([r2l_attacks, u2r_attacks, dos_attacks, probe_attacks], axis=0)\n",
        "dataset.columns = [str(i) for i in range(len(dataset.columns))]\n",
        "normal_traffic.columns = [str(i) for i in range(len(dataset.columns))]\n",
        "dataset.iloc[:,41] = 1\n",
        "normal_traffic.iloc[:,41] = 0\n",
        "dataset.reset_index(inplace=True, drop=True)\n",
        "dataset = pd.concat([dataset, normal_traffic])\n",
        "dataset = dataset.sample(frac=1)\n",
        "#dataset = create_stratified_dataset([r2l_attacks, u2r_attacks, dos_attacks, probe_attacks, normal_traffic], sample_space)"
      ]
    },
    {
      "cell_type": "code",
      "execution_count": null,
      "id": "780c106b",
      "metadata": {
        "execution": {
          "iopub.execute_input": "2022-05-02T01:11:48.151068Z",
          "iopub.status.busy": "2022-05-02T01:11:48.150860Z",
          "iopub.status.idle": "2022-05-02T01:11:48.156376Z",
          "shell.execute_reply": "2022-05-02T01:11:48.155619Z"
        },
        "id": "780c106b",
        "outputId": "960fc3af-75db-407c-e460-7dad6b38e384",
        "papermill": {
          "duration": 0.069365,
          "end_time": "2022-05-02T01:11:48.157841",
          "exception": false,
          "start_time": "2022-05-02T01:11:48.088476",
          "status": "completed"
        },
        "tags": []
      },
      "outputs": [
        {
          "data": {
            "text/plain": [
              "((60000, 42), (60000, 42), (60000, 42), (60000, 42), (60000, 42))"
            ]
          },
          "execution_count": 43,
          "metadata": {},
          "output_type": "execute_result"
        }
      ],
      "source": [
        "r2l_attacks.shape,u2r_attacks.shape,dos_attacks.shape,probe_attacks.shape, normal_traffic.shape"
      ]
    },
    {
      "cell_type": "code",
      "execution_count": null,
      "id": "a3c297b4",
      "metadata": {
        "execution": {
          "iopub.execute_input": "2022-05-02T01:11:48.284352Z",
          "iopub.status.busy": "2022-05-02T01:11:48.283849Z",
          "iopub.status.idle": "2022-05-02T01:11:48.302840Z",
          "shell.execute_reply": "2022-05-02T01:11:48.302405Z"
        },
        "id": "a3c297b4",
        "papermill": {
          "duration": 0.083476,
          "end_time": "2022-05-02T01:11:48.304257",
          "exception": false,
          "start_time": "2022-05-02T01:11:48.220781",
          "status": "completed"
        },
        "tags": []
      },
      "outputs": [],
      "source": [
        "X = dataset.drop('41', axis=1).to_numpy()\n",
        "y = dataset['41']"
      ]
    },
    {
      "cell_type": "code",
      "execution_count": null,
      "id": "3d1e171d",
      "metadata": {
        "execution": {
          "iopub.execute_input": "2022-05-02T01:11:48.427973Z",
          "iopub.status.busy": "2022-05-02T01:11:48.427301Z",
          "iopub.status.idle": "2022-05-02T01:11:48.436155Z",
          "shell.execute_reply": "2022-05-02T01:11:48.435147Z"
        },
        "id": "3d1e171d",
        "outputId": "25415303-ca29-40ae-cffa-09dd0d623db7",
        "papermill": {
          "duration": 0.072532,
          "end_time": "2022-05-02T01:11:48.438028",
          "exception": false,
          "start_time": "2022-05-02T01:11:48.365496",
          "status": "completed"
        },
        "tags": []
      },
      "outputs": [
        {
          "name": "stdout",
          "output_type": "stream",
          "text": [
            "(300000, 41) final size\n",
            "Following are the label counts\n",
            "1    240000\n",
            "0     60000\n",
            "Name: 41, dtype: int64\n"
          ]
        }
      ],
      "source": [
        "print(f'{X.shape} final size') \n",
        "print(f'Following are the label counts\\n{y.value_counts()}')"
      ]
    },
    {
      "cell_type": "code",
      "execution_count": null,
      "id": "62a87f1e",
      "metadata": {
        "execution": {
          "iopub.execute_input": "2022-05-02T01:11:48.564811Z",
          "iopub.status.busy": "2022-05-02T01:11:48.564429Z",
          "iopub.status.idle": "2022-05-02T01:11:48.594434Z",
          "shell.execute_reply": "2022-05-02T01:11:48.593814Z"
        },
        "id": "62a87f1e",
        "papermill": {
          "duration": 0.094786,
          "end_time": "2022-05-02T01:11:48.596143",
          "exception": false,
          "start_time": "2022-05-02T01:11:48.501357",
          "status": "completed"
        },
        "tags": []
      },
      "outputs": [],
      "source": [
        "pt_x_train = torch.tensor(X, dtype=torch.float).to(device)\n",
        "y = nn.functional.one_hot(torch.tensor(y.to_numpy(dtype='int')))\n",
        "pt_y_train = y.float().to(device)\n",
        "tensor_dataset = TensorDataset(pt_x_train, pt_y_train)"
      ]
    },
    {
      "cell_type": "code",
      "execution_count": null,
      "id": "269f7a8e",
      "metadata": {
        "execution": {
          "iopub.execute_input": "2022-05-02T01:11:48.721247Z",
          "iopub.status.busy": "2022-05-02T01:11:48.720973Z",
          "iopub.status.idle": "2022-05-02T01:11:48.725085Z",
          "shell.execute_reply": "2022-05-02T01:11:48.724735Z"
        },
        "id": "269f7a8e",
        "outputId": "7d1f6f04-efa5-459d-cf9b-a64ec905b0df",
        "papermill": {
          "duration": 0.067509,
          "end_time": "2022-05-02T01:11:48.726340",
          "exception": false,
          "start_time": "2022-05-02T01:11:48.658831",
          "status": "completed"
        },
        "tags": []
      },
      "outputs": [
        {
          "data": {
            "text/plain": [
              "(torch.Size([300000, 41]), torch.Size([300000, 2]))"
            ]
          },
          "execution_count": 47,
          "metadata": {},
          "output_type": "execute_result"
        }
      ],
      "source": [
        "pt_x_train.shape, pt_y_train.shape"
      ]
    },
    {
      "cell_type": "markdown",
      "id": "ef7304c9",
      "metadata": {
        "id": "ef7304c9",
        "papermill": {
          "duration": 0.061832,
          "end_time": "2022-05-02T01:11:48.849620",
          "exception": false,
          "start_time": "2022-05-02T01:11:48.787788",
          "status": "completed"
        },
        "tags": []
      },
      "source": [
        "## **MLP**\n",
        "\n"
      ]
    },
    {
      "cell_type": "code",
      "execution_count": null,
      "id": "6d03fed3",
      "metadata": {
        "execution": {
          "iopub.execute_input": "2022-05-02T01:11:48.977176Z",
          "iopub.status.busy": "2022-05-02T01:11:48.976843Z",
          "iopub.status.idle": "2022-05-02T01:11:48.983068Z",
          "shell.execute_reply": "2022-05-02T01:11:48.982723Z"
        },
        "id": "6d03fed3",
        "papermill": {
          "duration": 0.07129,
          "end_time": "2022-05-02T01:11:48.984323",
          "exception": false,
          "start_time": "2022-05-02T01:11:48.913033",
          "status": "completed"
        },
        "tags": []
      },
      "outputs": [],
      "source": [
        "class MLP(nn.Module):\n",
        "  data_dim = 41\n",
        "  def __init__(self, hidden_size):\n",
        "      super(MLP, self).__init__()\n",
        "      self.mlp = nn.Sequential(\n",
        "          nn.Linear(self.data_dim, hidden_size),\n",
        "          nn.ReLU(),\n",
        "          nn.BatchNorm1d(hidden_size)\n",
        "      )\n",
        "\n",
        "      self.clf = nn.Sequential(\n",
        "          nn.Linear(hidden_size,2),\n",
        "          nn.Sigmoid()\n",
        "      )\n",
        "\n",
        "  def forward(self, x):\n",
        "      features = self.mlp(x)\n",
        "      return self.clf(features)"
      ]
    },
    {
      "cell_type": "code",
      "execution_count": null,
      "id": "1076fa68",
      "metadata": {
        "execution": {
          "iopub.execute_input": "2022-05-02T01:11:49.111620Z",
          "iopub.status.busy": "2022-05-02T01:11:49.111362Z",
          "iopub.status.idle": "2022-05-02T01:11:49.116629Z",
          "shell.execute_reply": "2022-05-02T01:11:49.115717Z"
        },
        "id": "1076fa68",
        "papermill": {
          "duration": 0.070786,
          "end_time": "2022-05-02T01:11:49.117906",
          "exception": false,
          "start_time": "2022-05-02T01:11:49.047120",
          "status": "completed"
        },
        "tags": []
      },
      "outputs": [],
      "source": [
        "def validation_accuracy(model, X, y):\n",
        "  model.eval()\n",
        "  with torch.no_grad():\n",
        "    lr_probs = model(X).detach().squeeze()\n",
        "  preds = torch.argmax(lr_probs, dim=1).cpu()\n",
        "  acc = accuracy_score(y, preds)\n",
        "  model.train()\n",
        "  return acc"
      ]
    },
    {
      "cell_type": "code",
      "execution_count": null,
      "id": "8f866690",
      "metadata": {
        "execution": {
          "iopub.execute_input": "2022-05-02T01:11:49.241914Z",
          "iopub.status.busy": "2022-05-02T01:11:49.241513Z",
          "iopub.status.idle": "2022-05-02T01:11:49.245563Z",
          "shell.execute_reply": "2022-05-02T01:11:49.244925Z"
        },
        "id": "8f866690",
        "papermill": {
          "duration": 0.067208,
          "end_time": "2022-05-02T01:11:49.246857",
          "exception": false,
          "start_time": "2022-05-02T01:11:49.179649",
          "status": "completed"
        },
        "tags": []
      },
      "outputs": [],
      "source": [
        "hidden_sizes = [16, 32, 64, 80]\n",
        "batch_sizes = [64, 128, 256]\n",
        "epochs_ = [50, 75, 100]\n",
        "learning_rates = [1e-3, 1e-2, 1e-1]"
      ]
    },
    {
      "cell_type": "code",
      "execution_count": null,
      "id": "3c92fdfe",
      "metadata": {
        "execution": {
          "iopub.execute_input": "2022-05-02T01:11:49.368643Z",
          "iopub.status.busy": "2022-05-02T01:11:49.368191Z",
          "iopub.status.idle": "2022-05-02T01:11:49.371505Z",
          "shell.execute_reply": "2022-05-02T01:11:49.371007Z"
        },
        "id": "3c92fdfe",
        "papermill": {
          "duration": 0.065132,
          "end_time": "2022-05-02T01:11:49.372739",
          "exception": false,
          "start_time": "2022-05-02T01:11:49.307607",
          "status": "completed"
        },
        "tags": []
      },
      "outputs": [],
      "source": [
        "start_time = time.time()"
      ]
    },
    {
      "cell_type": "code",
      "execution_count": null,
      "id": "d1339d42",
      "metadata": {
        "execution": {
          "iopub.execute_input": "2022-05-02T01:11:49.496604Z",
          "iopub.status.busy": "2022-05-02T01:11:49.495911Z",
          "iopub.status.idle": "2022-05-02T11:40:44.732212Z",
          "shell.execute_reply": "2022-05-02T11:40:44.731409Z"
        },
        "id": "d1339d42",
        "papermill": {
          "duration": 37735.299999,
          "end_time": "2022-05-02T11:40:44.733748",
          "exception": false,
          "start_time": "2022-05-02T01:11:49.433749",
          "status": "completed"
        },
        "tags": []
      },
      "outputs": [],
      "source": [
        "grid_scores = []\n",
        "iters = 1\n",
        "#Creating a Grid Search\n",
        "for hidden_size in hidden_sizes:\n",
        "  for epochs in epochs_:\n",
        "    for lr in learning_rates:\n",
        "      for batch_size in batch_sizes:\n",
        "        #Model init\n",
        "        pt_train = DataLoader(tensor_dataset, batch_size=batch_size, shuffle=False, drop_last=False)\n",
        "        mlp = MLP(hidden_size).to(device)\n",
        "        criterion = nn.BCELoss()\n",
        "        optimizer = torch.optim.SGD(mlp.parameters(), lr = lr)\n",
        "        \n",
        "        #Training Loop\n",
        "        run = wandb.init(entity='ahsen', project='nids', \n",
        "                         name=f'{EXPERIMENT_NAME}_{iters}', \n",
        "                         group=EXPERIMENT_NAME, reinit=True,\n",
        "                         )\n",
        "        wandb.config[\"lr\"] = lr\n",
        "        wandb.config[\"batch_size\"] = batch_size\n",
        "        wandb.config[\"epochs\"] = epochs\n",
        "        wandb.config[\"hidden_size\"] = hidden_size\n",
        "        print('========================================================')\n",
        "        print(f\"Hidden Size:{hidden_size}\\tEpochs:{epochs}\\tLR:{lr}\\tBatch Size:{batch_size}\")\n",
        "        num_epochs = epochs\n",
        "        losses = []\n",
        "        for epoch in range(num_epochs):\n",
        "            for instance, y in pt_train:\n",
        "                output = mlp(instance)\n",
        "                loss = criterion(output, y)\n",
        "                optimizer.zero_grad()\n",
        "                loss.backward()\n",
        "                optimizer.step()\n",
        "            losses.append(loss.item())\n",
        "            acc = validation_accuracy(mlp, X_test, y_test)\n",
        "            wandb.log({'loss':loss.item()})\n",
        "            print('------------------------------------------------')\n",
        "            print(f'Epoch:{epoch+1}  \\tLoss:{loss.item():.4f}\\t Acc: {acc:.4f}')\n",
        "\n",
        "        print(\"*************************************************\")\n",
        "        print(f'Final Score for (H:{hidden_size}, Ep:{epochs}, LR:{lr}, B:{batch_size})')\n",
        "        print(f'Acc: {acc:.4f}')\n",
        "        #Save scores\n",
        "        obj = {\n",
        "          \"name\":f'{EXPERIMENT_NAME}_{iters}',\n",
        "          \"config\":{\n",
        "            \"learning_rate\": lr,\n",
        "            \"epochs\": epochs,\n",
        "            \"batch_size\": batch_size,\n",
        "            \"acc\": acc,\n",
        "            \"hidden_size\": hidden_size\n",
        "            },\n",
        "          \"weights\": mlp.state_dict(),\n",
        "          \"losses\": losses\n",
        "        }\n",
        "        wandb.log({\"acc\" : acc})\n",
        "        run.finish()\n",
        "        grid_scores.append(obj)\n",
        "        elapsed = time.time() - start_time\n",
        "        print(f'Time Elapsed:\\t{elapsed:.0f} seconds')\n",
        "        iters = iters + 1"
      ]
    },
    {
      "cell_type": "code",
      "execution_count": null,
      "id": "496ba74a",
      "metadata": {
        "execution": {
          "iopub.execute_input": "2022-05-02T11:40:53.290850Z",
          "iopub.status.busy": "2022-05-02T11:40:53.289915Z",
          "iopub.status.idle": "2022-05-02T11:40:53.294637Z",
          "shell.execute_reply": "2022-05-02T11:40:53.294252Z"
        },
        "id": "496ba74a",
        "papermill": {
          "duration": 4.483714,
          "end_time": "2022-05-02T11:40:53.296086",
          "exception": false,
          "start_time": "2022-05-02T11:40:48.812372",
          "status": "completed"
        },
        "tags": []
      },
      "outputs": [],
      "source": [
        "highest = 0\n",
        "for i,score in enumerate(grid_scores):\n",
        "  if score['config']['acc'] > grid_scores[highest]['config']['acc']:\n",
        "    highest = i"
      ]
    },
    {
      "cell_type": "code",
      "execution_count": null,
      "id": "1eaeefe4",
      "metadata": {
        "execution": {
          "iopub.execute_input": "2022-05-02T11:41:02.347408Z",
          "iopub.status.busy": "2022-05-02T11:41:02.346958Z",
          "iopub.status.idle": "2022-05-02T11:41:02.352056Z",
          "shell.execute_reply": "2022-05-02T11:41:02.351409Z"
        },
        "id": "1eaeefe4",
        "papermill": {
          "duration": 4.546125,
          "end_time": "2022-05-02T11:41:02.353764",
          "exception": false,
          "start_time": "2022-05-02T11:40:57.807639",
          "status": "completed"
        },
        "tags": [],
        "outputId": "bedd4eca-043a-437b-8cb2-005987ba4e5f"
      },
      "outputs": [
        {
          "name": "stdout",
          "output_type": "stream",
          "text": [
            "=====================================\n",
            "Total time taken: 37752 seconds\n",
            "Best scores with:\tMLP_GAN_1:4_1_78\n",
            "{'learning_rate': 0.01, 'epochs': 100, 'batch_size': 256, 'acc': 0.8296220723917672, 'hidden_size': 64}\n"
          ]
        }
      ],
      "source": [
        "end_time = time.time()\n",
        "print(\"=====================================\")\n",
        "print(f'Total time taken: {int(end_time-start_time)} seconds')\n",
        "print(f'Best scores with:\\t{grid_scores[highest][\"name\"]}')\n",
        "print(f'{grid_scores[highest][\"config\"]}')"
      ]
    },
    {
      "cell_type": "code",
      "execution_count": null,
      "id": "49074101",
      "metadata": {
        "execution": {
          "iopub.execute_input": "2022-05-02T11:41:11.352634Z",
          "iopub.status.busy": "2022-05-02T11:41:11.352402Z",
          "iopub.status.idle": "2022-05-02T11:41:11.529597Z",
          "shell.execute_reply": "2022-05-02T11:41:11.528795Z"
        },
        "id": "49074101",
        "papermill": {
          "duration": 4.676234,
          "end_time": "2022-05-02T11:41:11.531632",
          "exception": false,
          "start_time": "2022-05-02T11:41:06.855398",
          "status": "completed"
        },
        "tags": [],
        "outputId": "56bd9716-bf31-45ff-9ec0-937451fddd56"
      },
      "outputs": [
        {
          "data": {
            "image/png": "[encoded data removed]",
            "text/plain": [
              "<Figure size 432x288 with 1 Axes>"
            ]
          },
          "metadata": {
            "needs_background": "light"
          },
          "output_type": "display_data"
        }
      ],
      "source": [
        "losses = grid_scores[highest]['losses']\n",
        "num_epochs = grid_scores[highest]['config']['epochs']\n",
        "plt.plot(losses)\n",
        "plt.xlabel(f\"epochs({num_epochs})\")\n",
        "plt.ylabel(f\"loss\")\n",
        "_ = plt.legend(['Loss'])"
      ]
    },
    {
      "cell_type": "code",
      "execution_count": null,
      "id": "ab26e136",
      "metadata": {
        "execution": {
          "iopub.execute_input": "2022-05-02T11:41:19.067876Z",
          "iopub.status.busy": "2022-05-02T11:41:19.067659Z",
          "iopub.status.idle": "2022-05-02T11:41:19.249904Z",
          "shell.execute_reply": "2022-05-02T11:41:19.249466Z"
        },
        "id": "ab26e136",
        "papermill": {
          "duration": 3.743031,
          "end_time": "2022-05-02T11:41:19.251957",
          "exception": false,
          "start_time": "2022-05-02T11:41:15.508926",
          "status": "completed"
        },
        "tags": []
      },
      "outputs": [],
      "source": [
        "mlp = MLP(grid_scores[highest]['config']['hidden_size']).to(device)\n",
        "mlp.load_state_dict(grid_scores[highest]['weights'])\n",
        "mlp.eval()\n",
        "with torch.no_grad():\n",
        "  lr_probs = mlp(X_test).detach().squeeze()\n",
        "probs = torch.max(lr_probs, dim=1)\n",
        "idxs, scores = probs.indices, probs.values\n",
        "probs = [scores[i].item() if idxs[i]==1 else 1-scores[i].item() for i in range(len(idxs))]\n",
        "preds = torch.argmax(lr_probs, dim=1).cpu()\n",
        "lr_probs = torch.max(lr_probs, dim=1).values\n",
        "probs = np.array(probs)"
      ]
    },
    {
      "cell_type": "code",
      "execution_count": null,
      "id": "1c1aae62",
      "metadata": {
        "execution": {
          "iopub.execute_input": "2022-05-02T11:41:28.319549Z",
          "iopub.status.busy": "2022-05-02T11:41:28.319200Z",
          "iopub.status.idle": "2022-05-02T11:41:28.322309Z",
          "shell.execute_reply": "2022-05-02T11:41:28.321787Z"
        },
        "id": "1c1aae62",
        "papermill": {
          "duration": 4.521123,
          "end_time": "2022-05-02T11:41:28.323955",
          "exception": false,
          "start_time": "2022-05-02T11:41:23.802832",
          "status": "completed"
        },
        "tags": []
      },
      "outputs": [],
      "source": [
        "suspicious = probs[(probs>0.4) & (probs<0.5)].shape[0]"
      ]
    },
    {
      "cell_type": "code",
      "execution_count": null,
      "id": "08cd2283",
      "metadata": {
        "execution": {
          "iopub.execute_input": "2022-05-02T11:41:37.327654Z",
          "iopub.status.busy": "2022-05-02T11:41:37.327314Z",
          "iopub.status.idle": "2022-05-02T11:41:37.330331Z",
          "shell.execute_reply": "2022-05-02T11:41:37.329902Z"
        },
        "id": "08cd2283",
        "papermill": {
          "duration": 4.513478,
          "end_time": "2022-05-02T11:41:37.331776",
          "exception": false,
          "start_time": "2022-05-02T11:41:32.818298",
          "status": "completed"
        },
        "tags": [],
        "outputId": "c4accba9-a090-4494-df41-642ceb1d988f"
      },
      "outputs": [
        {
          "name": "stdout",
          "output_type": "stream",
          "text": [
            "306 packets are suspicious\n"
          ]
        }
      ],
      "source": [
        "print(f'{suspicious} packets are suspicious')"
      ]
    },
    {
      "cell_type": "code",
      "execution_count": null,
      "id": "bdfcd349",
      "metadata": {
        "execution": {
          "iopub.execute_input": "2022-05-02T11:41:43.300296Z",
          "iopub.status.busy": "2022-05-02T11:41:43.300046Z",
          "iopub.status.idle": "2022-05-02T11:41:43.310630Z",
          "shell.execute_reply": "2022-05-02T11:41:43.310260Z"
        },
        "id": "bdfcd349",
        "papermill": {
          "duration": 2.919224,
          "end_time": "2022-05-02T11:41:43.312493",
          "exception": false,
          "start_time": "2022-05-02T11:41:40.393269",
          "status": "completed"
        },
        "tags": [],
        "outputId": "cd662ab9-d36d-4787-df98-7bcbc3b603fd"
      },
      "outputs": [
        {
          "name": "stdout",
          "output_type": "stream",
          "text": [
            "Test accuracy is:0.8296\n",
            "Precision: 0.7258\n",
            "Recall: 0.9714\n"
          ]
        }
      ],
      "source": [
        "cm = confusion_matrix(y_test, preds)\n",
        "tn=cm[1][1] #tn\n",
        "fn=cm[0][1] #fn\n",
        "fp=cm[1][0] #fp\n",
        "tp=cm[0][0] #tp\n",
        "acc= (tp+tn)/(tp+tn+fn+fp)\n",
        "epsilon = 1e-7 # is used so that to avoid divide by zero error\n",
        "precision = tp / (tp + fp + epsilon)\n",
        "recall = tp / (tp + fn + epsilon)\n",
        "sensitivity,specificity = tp/(tp+fn),tn/(tn+fp)\n",
        "print(\"Test accuracy is:\"+str(format(acc,'.4f')))\n",
        "print(\"Precision: \"+str(format(precision,'.4f'))+\"\\nRecall: \"+str(format(recall,'.4f')))"
      ]
    },
    {
      "cell_type": "code",
      "execution_count": null,
      "id": "7455d489",
      "metadata": {
        "execution": {
          "iopub.execute_input": "2022-05-02T11:41:50.960056Z",
          "iopub.status.busy": "2022-05-02T11:41:50.959831Z",
          "iopub.status.idle": "2022-05-02T11:41:51.193507Z",
          "shell.execute_reply": "2022-05-02T11:41:51.192908Z"
        },
        "id": "7455d489",
        "papermill": {
          "duration": 3.324443,
          "end_time": "2022-05-02T11:41:51.195937",
          "exception": false,
          "start_time": "2022-05-02T11:41:47.871494",
          "status": "completed"
        },
        "tags": [],
        "outputId": "04085943-9d53-48c9-92bd-b19c5bd8e3e8"
      },
      "outputs": [
        {
          "data": {
            "image/png": "[encoded data removed]",
            "text/plain": [
              "<Figure size 432x288 with 1 Axes>"
            ]
          },
          "metadata": {
            "needs_background": "light"
          },
          "output_type": "display_data"
        },
        {
          "name": "stdout",
          "output_type": "stream",
          "text": [
            "F1:\t 82.838%\n",
            "AUC:\t 94.765%\n",
            "Accuracy:82.962%\n"
          ]
        },
        {
          "data": {
            "image/png": "[encoded data removed]",
            "text/plain": [
              "<Figure size 432x288 with 1 Axes>"
            ]
          },
          "metadata": {
            "needs_background": "light"
          },
          "output_type": "display_data"
        }
      ],
      "source": [
        "lr_precision, lr_recall, _ = precision_recall_curve(y_test, probs)\n",
        "lr_f1, lr_auc = f1_score(y_test, preds), auc(lr_recall, lr_precision)\n",
        "no_skill = len(y_test[y_test==0]) / len(y_test)\n",
        "acc = accuracy_score(y_test, preds)\n",
        "plt.plot(lr_recall, lr_precision, marker='.', alpha=0.5)\n",
        "# axis labels\n",
        "plt.xlabel('Recall')\n",
        "plt.ylabel('Precision')\n",
        "\n",
        "# show the plot\n",
        "plt.show()\n",
        "_ = plt.rc('legend', fontsize=18)\n",
        "disp = ConfusionMatrixDisplay(confusion_matrix = cm, display_labels = ['normal', 'malicious'])\n",
        "disp.plot(cmap=\"Blues\", colorbar = False)\n",
        "print(f\"F1:\\t {lr_f1*100:.3f}%\")\n",
        "print(f\"AUC:\\t {lr_auc*100:.3f}%\")\n",
        "print(f\"Accuracy:{acc*100:.3f}%\")"
      ]
    },
    {
      "cell_type": "code",
      "execution_count": null,
      "id": "b18b19e2",
      "metadata": {
        "execution": {
          "iopub.execute_input": "2022-05-02T11:42:00.229581Z",
          "iopub.status.busy": "2022-05-02T11:42:00.229357Z",
          "iopub.status.idle": "2022-05-02T11:42:00.399697Z",
          "shell.execute_reply": "2022-05-02T11:42:00.399227Z"
        },
        "id": "b18b19e2",
        "papermill": {
          "duration": 4.661189,
          "end_time": "2022-05-02T11:42:00.401341",
          "exception": false,
          "start_time": "2022-05-02T11:41:55.740152",
          "status": "completed"
        },
        "tags": [],
        "outputId": "b4798a30-773f-4d7e-b0c2-68efef1db0d1"
      },
      "outputs": [
        {
          "data": {
            "image/png": "[encoded data removed]",
            "text/plain": [
              "<Figure size 432x288 with 1 Axes>"
            ]
          },
          "metadata": {
            "needs_background": "light"
          },
          "output_type": "display_data"
        }
      ],
      "source": [
        "_ = RocCurveDisplay.from_predictions(y_test,probs)"
      ]
    },
    {
      "cell_type": "code",
      "execution_count": null,
      "id": "9b3630f6",
      "metadata": {
        "execution": {
          "iopub.execute_input": "2022-05-02T11:42:09.599638Z",
          "iopub.status.busy": "2022-05-02T11:42:09.599216Z",
          "iopub.status.idle": "2022-05-02T11:42:09.602334Z",
          "shell.execute_reply": "2022-05-02T11:42:09.601740Z"
        },
        "id": "9b3630f6",
        "papermill": {
          "duration": 4.524425,
          "end_time": "2022-05-02T11:42:09.603865",
          "exception": false,
          "start_time": "2022-05-02T11:42:05.079440",
          "status": "completed"
        },
        "tags": []
      },
      "outputs": [],
      "source": [
        "wandb.finish()"
      ]
    },
    {
      "cell_type": "code",
      "execution_count": null,
      "id": "37fa8436",
      "metadata": {
        "execution": {
          "iopub.execute_input": "2022-05-02T11:42:18.607760Z",
          "iopub.status.busy": "2022-05-02T11:42:18.607161Z",
          "iopub.status.idle": "2022-05-02T11:42:18.611691Z",
          "shell.execute_reply": "2022-05-02T11:42:18.611244Z"
        },
        "id": "37fa8436",
        "papermill": {
          "duration": 4.519705,
          "end_time": "2022-05-02T11:42:18.613367",
          "exception": false,
          "start_time": "2022-05-02T11:42:14.093662",
          "status": "completed"
        },
        "tags": []
      },
      "outputs": [],
      "source": [
        "torch.save(mlp.state_dict(), 'mlp_1:4.pt')"
      ]
    }
  ],
  "metadata": {
    "kernelspec": {
      "display_name": "Python 3",
      "language": "python",
      "name": "python3"
    },
    "language_info": {
      "codemirror_mode": {
        "name": "ipython",
        "version": 3
      },
      "file_extension": ".py",
      "mimetype": "text/x-python",
      "name": "python",
      "nbconvert_exporter": "python",
      "pygments_lexer": "ipython3",
      "version": "3.7.12"
    },
    "papermill": {
      "default_parameters": {},
      "duration": 37870.502356,
      "end_time": "2022-05-02T11:42:25.862489",
      "environment_variables": {},
      "exception": null,
      "input_path": "__notebook__.ipynb",
      "output_path": "__notebook__.ipynb",
      "parameters": {},
      "start_time": "2022-05-02T01:11:15.360133",
      "version": "2.3.4"
    },
    "colab": {
      "name": "GAN_Balanced_MLP_1:4.ipynb",
      "provenance": [],
      "collapsed_sections": []
    }
  },
  "nbformat": 4,
  "nbformat_minor": 5
}