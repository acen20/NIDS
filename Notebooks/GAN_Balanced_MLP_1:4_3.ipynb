{
  "cells": [
    {
      "cell_type": "code",
      "execution_count": null,
      "id": "a8d9ab3a",
      "metadata": {
        "execution": {
          "iopub.execute_input": "2022-05-03T22:25:05.783463Z",
          "iopub.status.busy": "2022-05-03T22:25:05.782997Z",
          "iopub.status.idle": "2022-05-03T22:25:05.795485Z",
          "shell.execute_reply": "2022-05-03T22:25:05.794516Z"
        },
        "id": "a8d9ab3a",
        "papermill": {
          "duration": 0.081709,
          "end_time": "2022-05-03T22:25:05.797893",
          "exception": false,
          "start_time": "2022-05-03T22:25:05.716184",
          "status": "completed"
        },
        "tags": []
      },
      "outputs": [],
      "source": [
        "import os\n",
        "exp_num = 3 #Random Search\n",
        "os.environ[\"WANDB_API_KEY\"] = \"00c5bcfd2b2fbe9bce38152923c98635448f8c6f\"\n",
        "EXPERIMENT_NAME = f'MLP_GAN_1:4_{exp_num}'"
      ]
    },
    {
      "cell_type": "code",
      "execution_count": null,
      "id": "8aa07ab1",
      "metadata": {
        "execution": {
          "iopub.execute_input": "2022-05-03T22:25:05.913065Z",
          "iopub.status.busy": "2022-05-03T22:25:05.912788Z",
          "iopub.status.idle": "2022-05-03T22:25:13.334867Z",
          "shell.execute_reply": "2022-05-03T22:25:13.333805Z"
        },
        "id": "8aa07ab1",
        "outputId": "66ca9f22-9608-4776-b142-f3400c5949ef",
        "papermill": {
          "duration": 7.479691,
          "end_time": "2022-05-03T22:25:13.337268",
          "exception": false,
          "start_time": "2022-05-03T22:25:05.857577",
          "status": "completed"
        },
        "tags": []
      },
      "outputs": [
        {
          "data": {
            "text/plain": [
              "0"
            ]
          },
          "execution_count": 2,
          "metadata": {},
          "output_type": "execute_result"
        }
      ],
      "source": [
        "os.system('mkdir ../dataset') \n",
        "os.system('mkdir ../models')\n",
        "os.system('wget -q -O ../dataset/KDDTrain+.txt https://raw.githubusercontent.com/acen20/DEL/master/deep-ensemble-jet/dataset/KDDTrain%2B.txt')\n",
        "os.system('wget -q -O ../dataset/KDDTest+.txt https://raw.githubusercontent.com/acen20/DEL/master/deep-ensemble-jet/dataset/KDDTest%2B.txt')\n",
        "os.system('wget -q -O ../dataset/KDDTrain+_20Percent.txt https://raw.githubusercontent.com/acen20/DEL/master/deep-ensemble-jet/dataset/KDDTrain%2B_20Percent.txt')\n",
        "os.system('wget -q -O ../dataset/KDDTest-21.txt https://raw.githubusercontent.com/acen20/DEL/master/deep-ensemble-jet/dataset/KDDTest-21.txt')\n",
        "os.system('wget -q -O ../models/r2l_gen.pt https://github.com/acen20/DEL/raw/master/IDSGAN/r2l_gen_1.pt')\n",
        "os.system('wget -q -O ../models/u2r_gen.pt https://github.com/acen20/DEL/raw/master/IDSGAN/u2r_gen_1.pt')\n",
        "os.system('wget -q -O ../models/dos_gen.pt https://github.com/acen20/DEL/raw/master/IDSGAN/dos_gen_1.pt')\n",
        "os.system('wget -q -O ../models/probe_gen.pt https://github.com/acen20/DEL/raw/master/IDSGAN/probe_gen_1.pt')\n",
        "os.system('wget -q -O ../models/normal_gen.pt https://github.com/acen20/DEL/raw/master/IDSGAN/normal_gen_1.pt')"
      ]
    },
    {
      "cell_type": "code",
      "execution_count": null,
      "id": "53e92c95",
      "metadata": {
        "execution": {
          "iopub.execute_input": "2022-05-03T22:25:13.450833Z",
          "iopub.status.busy": "2022-05-03T22:25:13.450221Z",
          "iopub.status.idle": "2022-05-03T22:25:26.542792Z",
          "shell.execute_reply": "2022-05-03T22:25:26.541889Z"
        },
        "id": "53e92c95",
        "papermill": {
          "duration": 13.15201,
          "end_time": "2022-05-03T22:25:26.545080",
          "exception": false,
          "start_time": "2022-05-03T22:25:13.393070",
          "status": "completed"
        },
        "tags": [],
        "outputId": "10d1170b-4674-400d-b9ed-6a17c4ebd39e"
      },
      "outputs": [
        {
          "name": "stderr",
          "output_type": "stream",
          "text": [
            "WARNING: Running pip as the 'root' user can result in broken permissions and conflicting behaviour with the system package manager. It is recommended to use a virtual environment instead: https://pip.pypa.io/warnings/venv\n",
            "wandb: Appending key for api.wandb.ai to your netrc file: /root/.netrc\n"
          ]
        }
      ],
      "source": [
        "os.system('pip install wandb -q')\n",
        "os.system(f'wandb login {os.environ[\"WANDB_API_KEY\"]}')\n",
        "import wandb"
      ]
    },
    {
      "cell_type": "code",
      "execution_count": null,
      "id": "5c9f0124",
      "metadata": {
        "execution": {
          "iopub.execute_input": "2022-05-03T22:25:26.657928Z",
          "iopub.status.busy": "2022-05-03T22:25:26.657654Z",
          "iopub.status.idle": "2022-05-03T22:25:29.897725Z",
          "shell.execute_reply": "2022-05-03T22:25:29.896979Z"
        },
        "id": "5c9f0124",
        "papermill": {
          "duration": 3.299203,
          "end_time": "2022-05-03T22:25:29.899959",
          "exception": false,
          "start_time": "2022-05-03T22:25:26.600756",
          "status": "completed"
        },
        "tags": []
      },
      "outputs": [],
      "source": [
        "import torch\n",
        "from torch import nn\n",
        "from torchvision import transforms\n",
        "from torch.utils.data import TensorDataset, DataLoader\n",
        "import matplotlib.pyplot as plt\n",
        "#plt.style.use('grayscale')\n",
        "from sklearn.metrics import precision_recall_curve,RocCurveDisplay\n",
        "from matplotlib import pyplot\n",
        "from sklearn.metrics import f1_score\n",
        "from sklearn.metrics import ConfusionMatrixDisplay\n",
        "from sklearn.model_selection import cross_val_score\n",
        "import numpy as np\n",
        "from sklearn.preprocessing import LabelEncoder\n",
        "from sklearn.model_selection import train_test_split\n",
        "from sklearn.metrics import classification_report\n",
        "from sklearn.preprocessing import MinMaxScaler\n",
        "from sklearn.model_selection import StratifiedKFold as KFold\n",
        "from sklearn.metrics import auc\n",
        "from sklearn.metrics import accuracy_score\n",
        "import matplotlib.pyplot as plt\n",
        "from sklearn.metrics import confusion_matrix\n",
        "from sklearn.decomposition import PCA\n",
        "from sklearn.preprocessing import LabelEncoder\n",
        "import pandas as pd\n",
        "from sklearn import preprocessing\n",
        "import time"
      ]
    },
    {
      "cell_type": "code",
      "execution_count": null,
      "id": "5e071f72",
      "metadata": {
        "execution": {
          "iopub.execute_input": "2022-05-03T22:25:30.014399Z",
          "iopub.status.busy": "2022-05-03T22:25:30.014140Z",
          "iopub.status.idle": "2022-05-03T22:25:30.017592Z",
          "shell.execute_reply": "2022-05-03T22:25:30.016998Z"
        },
        "id": "5e071f72",
        "papermill": {
          "duration": 0.064898,
          "end_time": "2022-05-03T22:25:30.019379",
          "exception": false,
          "start_time": "2022-05-03T22:25:29.954481",
          "status": "completed"
        },
        "tags": []
      },
      "outputs": [],
      "source": [
        "from warnings import simplefilter\n",
        "from sklearn.exceptions import ConvergenceWarning\n",
        "simplefilter(\"ignore\", category=ConvergenceWarning)"
      ]
    },
    {
      "cell_type": "code",
      "execution_count": null,
      "id": "8d4919e7",
      "metadata": {
        "execution": {
          "iopub.execute_input": "2022-05-03T22:25:30.131077Z",
          "iopub.status.busy": "2022-05-03T22:25:30.130716Z",
          "iopub.status.idle": "2022-05-03T22:25:30.135314Z",
          "shell.execute_reply": "2022-05-03T22:25:30.134463Z"
        },
        "id": "8d4919e7",
        "papermill": {
          "duration": 0.062647,
          "end_time": "2022-05-03T22:25:30.137344",
          "exception": false,
          "start_time": "2022-05-03T22:25:30.074697",
          "status": "completed"
        },
        "tags": []
      },
      "outputs": [],
      "source": [
        "device = 'cuda' if torch.cuda.is_available() else 'cpu'"
      ]
    },
    {
      "cell_type": "code",
      "execution_count": null,
      "id": "8886108b",
      "metadata": {
        "execution": {
          "iopub.execute_input": "2022-05-03T22:25:30.248960Z",
          "iopub.status.busy": "2022-05-03T22:25:30.248083Z",
          "iopub.status.idle": "2022-05-03T22:25:30.253357Z",
          "shell.execute_reply": "2022-05-03T22:25:30.252359Z"
        },
        "id": "8886108b",
        "outputId": "ce1e3073-df78-4cd9-ee12-38b9c48f4eb7",
        "papermill": {
          "duration": 0.063258,
          "end_time": "2022-05-03T22:25:30.255422",
          "exception": false,
          "start_time": "2022-05-03T22:25:30.192164",
          "status": "completed"
        },
        "tags": []
      },
      "outputs": [
        {
          "name": "stdout",
          "output_type": "stream",
          "text": [
            "Using cpu as device\n"
          ]
        }
      ],
      "source": [
        "print(f'Using {device} as device')"
      ]
    },
    {
      "cell_type": "code",
      "execution_count": null,
      "id": "dd30e2ca",
      "metadata": {
        "execution": {
          "iopub.execute_input": "2022-05-03T22:25:30.368002Z",
          "iopub.status.busy": "2022-05-03T22:25:30.367701Z",
          "iopub.status.idle": "2022-05-03T22:25:30.377719Z",
          "shell.execute_reply": "2022-05-03T22:25:30.377020Z"
        },
        "id": "dd30e2ca",
        "papermill": {
          "duration": 0.068607,
          "end_time": "2022-05-03T22:25:30.379601",
          "exception": false,
          "start_time": "2022-05-03T22:25:30.310994",
          "status": "completed"
        },
        "tags": []
      },
      "outputs": [],
      "source": [
        "class Critic(nn.Module):\n",
        "  def __init__(self, data_dim):\n",
        "    super(Critic,self).__init__()\n",
        "    self.disc = nn.Sequential(\n",
        "        nn.Conv1d(1,3,kernel_size=3,stride=1, bias=False),\n",
        "        #nn.BatchNorm1d(3),\n",
        "        nn.ReLU(),\n",
        "        nn.Conv1d(3,3,kernel_size=3,stride=1,bias=False),\n",
        "        #nn.BatchNorm1d(3),\n",
        "        nn.ReLU(),\n",
        "        nn.Flatten(),\n",
        "        nn.Linear(111, data_dim),\n",
        "    )\n",
        "\n",
        "  def forward(self, x):\n",
        "    return self.disc(x)\n",
        "\n",
        "\n",
        "class Generator(nn.Module):\n",
        "  def __init__(self, z_dim, data_dim):\n",
        "    super(Generator,self).__init__()\n",
        "    self.gen = nn.Sequential(\n",
        "        nn.Conv1d(1,3,kernel_size=3,stride=1,bias=False),\n",
        "        #nn.BatchNorm1d(3),\n",
        "        nn.ReLU(),\n",
        "        nn.Conv1d(3,3,kernel_size=3,stride=1,bias=False),\n",
        "        #nn.BatchNorm1d(3),\n",
        "        nn.ReLU(),\n",
        "        nn.Linear(96, data_dim),\n",
        "        nn.Sigmoid()\n",
        "    )\n",
        "\n",
        "  def forward(self, x):\n",
        "    return self.gen(x)"
      ]
    },
    {
      "cell_type": "code",
      "execution_count": null,
      "id": "32d35d84",
      "metadata": {
        "execution": {
          "iopub.execute_input": "2022-05-03T22:25:30.492912Z",
          "iopub.status.busy": "2022-05-03T22:25:30.492439Z",
          "iopub.status.idle": "2022-05-03T22:25:30.498000Z",
          "shell.execute_reply": "2022-05-03T22:25:30.497391Z"
        },
        "id": "32d35d84",
        "papermill": {
          "duration": 0.064934,
          "end_time": "2022-05-03T22:25:30.499927",
          "exception": false,
          "start_time": "2022-05-03T22:25:30.434993",
          "status": "completed"
        },
        "tags": []
      },
      "outputs": [],
      "source": [
        "def visualize_synthetic_data(generated, original, title):\n",
        "  generated = generated[np.random.randint(0,len(generated),41)]\n",
        "  original = original.iloc[np.random.randint(0,len(original),41),:41][:41]\n",
        "\n",
        "  fig, (original_ax, synthesized_ax) = plt.subplots(1,2,figsize=(12,12))\n",
        "  original_ax.set_title(f'Original({title})')\n",
        "  synthesized_ax.set_title(f'Synthetic({title})')\n",
        "  _ = original_ax.imshow(original)\n",
        "  _ = synthesized_ax.imshow(generated)"
      ]
    },
    {
      "cell_type": "code",
      "execution_count": null,
      "id": "314c557d",
      "metadata": {
        "execution": {
          "iopub.execute_input": "2022-05-03T22:25:30.613779Z",
          "iopub.status.busy": "2022-05-03T22:25:30.613319Z",
          "iopub.status.idle": "2022-05-03T22:25:30.617713Z",
          "shell.execute_reply": "2022-05-03T22:25:30.617120Z"
        },
        "id": "314c557d",
        "papermill": {
          "duration": 0.063906,
          "end_time": "2022-05-03T22:25:30.619625",
          "exception": false,
          "start_time": "2022-05-03T22:25:30.555719",
          "status": "completed"
        },
        "tags": []
      },
      "outputs": [],
      "source": [
        "def generate_data(generator, num_instances, z_dim):\n",
        "  generator.eval()\n",
        "  with torch.no_grad():\n",
        "    out = generator(torch.randn(num_instances, z_dim).view(-1,1,z_dim))\n",
        "    return out.detach().reshape(-1,41)[:num_instances]"
      ]
    },
    {
      "cell_type": "code",
      "execution_count": null,
      "id": "66d24d5c",
      "metadata": {
        "execution": {
          "iopub.execute_input": "2022-05-03T22:25:30.733015Z",
          "iopub.status.busy": "2022-05-03T22:25:30.732568Z",
          "iopub.status.idle": "2022-05-03T22:25:30.737656Z",
          "shell.execute_reply": "2022-05-03T22:25:30.737094Z"
        },
        "id": "66d24d5c",
        "papermill": {
          "duration": 0.063705,
          "end_time": "2022-05-03T22:25:30.739487",
          "exception": false,
          "start_time": "2022-05-03T22:25:30.675782",
          "status": "completed"
        },
        "tags": []
      },
      "outputs": [],
      "source": [
        "def create_dataloader(X, y, batch_size):\n",
        "  if y:\n",
        "    y = np.array(X['41'])\n",
        "  else:\n",
        "    y = torch.ones(size=(X.shape[0],))\n",
        "  y = torch.tensor(y, dtype=torch.float).to(device)\n",
        "\n",
        "  X = np.array(X.iloc[:,:-1])\n",
        "  X = torch.tensor(X, dtype=torch.float).to(device)\n",
        "\n",
        "  pt_train = TensorDataset(X,y)\n",
        "  pt_train = DataLoader(pt_train, batch_size=batch_size)\n",
        "  return pt_train"
      ]
    },
    {
      "cell_type": "code",
      "execution_count": null,
      "id": "31835ad6",
      "metadata": {
        "execution": {
          "iopub.execute_input": "2022-05-03T22:25:30.852306Z",
          "iopub.status.busy": "2022-05-03T22:25:30.851633Z",
          "iopub.status.idle": "2022-05-03T22:25:30.855327Z",
          "shell.execute_reply": "2022-05-03T22:25:30.854624Z"
        },
        "id": "31835ad6",
        "papermill": {
          "duration": 0.062388,
          "end_time": "2022-05-03T22:25:30.857338",
          "exception": false,
          "start_time": "2022-05-03T22:25:30.794950",
          "status": "completed"
        },
        "tags": []
      },
      "outputs": [],
      "source": [
        "def normalize_data(X):\n",
        "  mms = MinMaxScaler()\n",
        "  return mms.fit_transform(X)"
      ]
    },
    {
      "cell_type": "code",
      "execution_count": null,
      "id": "b945adab",
      "metadata": {
        "execution": {
          "iopub.execute_input": "2022-05-03T22:25:30.972915Z",
          "iopub.status.busy": "2022-05-03T22:25:30.972473Z",
          "iopub.status.idle": "2022-05-03T22:25:30.977423Z",
          "shell.execute_reply": "2022-05-03T22:25:30.976550Z"
        },
        "id": "b945adab",
        "papermill": {
          "duration": 0.065173,
          "end_time": "2022-05-03T22:25:30.979409",
          "exception": false,
          "start_time": "2022-05-03T22:25:30.914236",
          "status": "completed"
        },
        "tags": []
      },
      "outputs": [],
      "source": [
        "def visualize_train_loss(loss_1, labels, epochs, loss_2 = None):\n",
        "  plt.figure(figsize=(10,4))\n",
        "  plt.plot(loss_1, linewidth=2)\n",
        "  if loss_2:\n",
        "    plt.plot(loss_2, linewidth=2)\n",
        "  plt.legend(labels)\n",
        "  plt.ylabel(\"loss\")\n",
        "  _ = plt.xlabel(f\"epochs ({epochs})\")"
      ]
    },
    {
      "cell_type": "markdown",
      "id": "219d9feb",
      "metadata": {
        "id": "219d9feb",
        "papermill": {
          "duration": 0.055096,
          "end_time": "2022-05-03T22:25:31.089482",
          "exception": false,
          "start_time": "2022-05-03T22:25:31.034386",
          "status": "completed"
        },
        "tags": []
      },
      "source": [
        "## Preprocessing"
      ]
    },
    {
      "cell_type": "code",
      "execution_count": null,
      "id": "1387a9eb",
      "metadata": {
        "execution": {
          "iopub.execute_input": "2022-05-03T22:25:31.201170Z",
          "iopub.status.busy": "2022-05-03T22:25:31.200857Z",
          "iopub.status.idle": "2022-05-03T22:25:31.885181Z",
          "shell.execute_reply": "2022-05-03T22:25:31.884322Z"
        },
        "id": "1387a9eb",
        "papermill": {
          "duration": 0.743078,
          "end_time": "2022-05-03T22:25:31.887433",
          "exception": false,
          "start_time": "2022-05-03T22:25:31.144355",
          "status": "completed"
        },
        "tags": []
      },
      "outputs": [],
      "source": [
        "df=pd.read_csv('../dataset/KDDTrain+.txt', header=None)\n",
        "df2=pd.read_csv('../dataset/KDDTest+.txt', header=None)"
      ]
    },
    {
      "cell_type": "code",
      "execution_count": null,
      "id": "06482374",
      "metadata": {
        "execution": {
          "iopub.execute_input": "2022-05-03T22:25:32.003400Z",
          "iopub.status.busy": "2022-05-03T22:25:32.002760Z",
          "iopub.status.idle": "2022-05-03T22:25:32.038367Z",
          "shell.execute_reply": "2022-05-03T22:25:32.037563Z"
        },
        "id": "06482374",
        "outputId": "bb96bf00-4a19-4123-920a-c9d99743c830",
        "papermill": {
          "duration": 0.096145,
          "end_time": "2022-05-03T22:25:32.040562",
          "exception": false,
          "start_time": "2022-05-03T22:25:31.944417",
          "status": "completed"
        },
        "tags": []
      },
      "outputs": [
        {
          "data": {
            "text/html": [
              "<div>\n",
              "<style scoped>\n",
              "    .dataframe tbody tr th:only-of-type {\n",
              "        vertical-align: middle;\n",
              "    }\n",
              "\n",
              "    .dataframe tbody tr th {\n",
              "        vertical-align: top;\n",
              "    }\n",
              "\n",
              "    .dataframe thead th {\n",
              "        text-align: right;\n",
              "    }\n",
              "</style>\n",
              "<table border=\"1\" class=\"dataframe\">\n",
              "  <thead>\n",
              "    <tr style=\"text-align: right;\">\n",
              "      <th></th>\n",
              "      <th>0</th>\n",
              "      <th>1</th>\n",
              "      <th>2</th>\n",
              "      <th>3</th>\n",
              "      <th>4</th>\n",
              "      <th>5</th>\n",
              "      <th>6</th>\n",
              "      <th>7</th>\n",
              "      <th>8</th>\n",
              "      <th>9</th>\n",
              "      <th>...</th>\n",
              "      <th>33</th>\n",
              "      <th>34</th>\n",
              "      <th>35</th>\n",
              "      <th>36</th>\n",
              "      <th>37</th>\n",
              "      <th>38</th>\n",
              "      <th>39</th>\n",
              "      <th>40</th>\n",
              "      <th>41</th>\n",
              "      <th>42</th>\n",
              "    </tr>\n",
              "  </thead>\n",
              "  <tbody>\n",
              "    <tr>\n",
              "      <th>0</th>\n",
              "      <td>0</td>\n",
              "      <td>tcp</td>\n",
              "      <td>ftp_data</td>\n",
              "      <td>SF</td>\n",
              "      <td>491</td>\n",
              "      <td>0</td>\n",
              "      <td>0</td>\n",
              "      <td>0</td>\n",
              "      <td>0</td>\n",
              "      <td>0</td>\n",
              "      <td>...</td>\n",
              "      <td>0.17</td>\n",
              "      <td>0.03</td>\n",
              "      <td>0.17</td>\n",
              "      <td>0.00</td>\n",
              "      <td>0.00</td>\n",
              "      <td>0.00</td>\n",
              "      <td>0.05</td>\n",
              "      <td>0.00</td>\n",
              "      <td>normal</td>\n",
              "      <td>20</td>\n",
              "    </tr>\n",
              "    <tr>\n",
              "      <th>1</th>\n",
              "      <td>0</td>\n",
              "      <td>udp</td>\n",
              "      <td>other</td>\n",
              "      <td>SF</td>\n",
              "      <td>146</td>\n",
              "      <td>0</td>\n",
              "      <td>0</td>\n",
              "      <td>0</td>\n",
              "      <td>0</td>\n",
              "      <td>0</td>\n",
              "      <td>...</td>\n",
              "      <td>0.00</td>\n",
              "      <td>0.60</td>\n",
              "      <td>0.88</td>\n",
              "      <td>0.00</td>\n",
              "      <td>0.00</td>\n",
              "      <td>0.00</td>\n",
              "      <td>0.00</td>\n",
              "      <td>0.00</td>\n",
              "      <td>normal</td>\n",
              "      <td>15</td>\n",
              "    </tr>\n",
              "    <tr>\n",
              "      <th>2</th>\n",
              "      <td>0</td>\n",
              "      <td>tcp</td>\n",
              "      <td>private</td>\n",
              "      <td>S0</td>\n",
              "      <td>0</td>\n",
              "      <td>0</td>\n",
              "      <td>0</td>\n",
              "      <td>0</td>\n",
              "      <td>0</td>\n",
              "      <td>0</td>\n",
              "      <td>...</td>\n",
              "      <td>0.10</td>\n",
              "      <td>0.05</td>\n",
              "      <td>0.00</td>\n",
              "      <td>0.00</td>\n",
              "      <td>1.00</td>\n",
              "      <td>1.00</td>\n",
              "      <td>0.00</td>\n",
              "      <td>0.00</td>\n",
              "      <td>neptune</td>\n",
              "      <td>19</td>\n",
              "    </tr>\n",
              "    <tr>\n",
              "      <th>3</th>\n",
              "      <td>0</td>\n",
              "      <td>tcp</td>\n",
              "      <td>http</td>\n",
              "      <td>SF</td>\n",
              "      <td>232</td>\n",
              "      <td>8153</td>\n",
              "      <td>0</td>\n",
              "      <td>0</td>\n",
              "      <td>0</td>\n",
              "      <td>0</td>\n",
              "      <td>...</td>\n",
              "      <td>1.00</td>\n",
              "      <td>0.00</td>\n",
              "      <td>0.03</td>\n",
              "      <td>0.04</td>\n",
              "      <td>0.03</td>\n",
              "      <td>0.01</td>\n",
              "      <td>0.00</td>\n",
              "      <td>0.01</td>\n",
              "      <td>normal</td>\n",
              "      <td>21</td>\n",
              "    </tr>\n",
              "    <tr>\n",
              "      <th>4</th>\n",
              "      <td>0</td>\n",
              "      <td>tcp</td>\n",
              "      <td>http</td>\n",
              "      <td>SF</td>\n",
              "      <td>199</td>\n",
              "      <td>420</td>\n",
              "      <td>0</td>\n",
              "      <td>0</td>\n",
              "      <td>0</td>\n",
              "      <td>0</td>\n",
              "      <td>...</td>\n",
              "      <td>1.00</td>\n",
              "      <td>0.00</td>\n",
              "      <td>0.00</td>\n",
              "      <td>0.00</td>\n",
              "      <td>0.00</td>\n",
              "      <td>0.00</td>\n",
              "      <td>0.00</td>\n",
              "      <td>0.00</td>\n",
              "      <td>normal</td>\n",
              "      <td>21</td>\n",
              "    </tr>\n",
              "  </tbody>\n",
              "</table>\n",
              "<p>5 rows × 43 columns</p>\n",
              "</div>"
            ],
            "text/plain": [
              "   0    1         2   3    4     5   6   7   8   9   ...    33    34    35  \\\n",
              "0   0  tcp  ftp_data  SF  491     0   0   0   0   0  ...  0.17  0.03  0.17   \n",
              "1   0  udp     other  SF  146     0   0   0   0   0  ...  0.00  0.60  0.88   \n",
              "2   0  tcp   private  S0    0     0   0   0   0   0  ...  0.10  0.05  0.00   \n",
              "3   0  tcp      http  SF  232  8153   0   0   0   0  ...  1.00  0.00  0.03   \n",
              "4   0  tcp      http  SF  199   420   0   0   0   0  ...  1.00  0.00  0.00   \n",
              "\n",
              "     36    37    38    39    40       41  42  \n",
              "0  0.00  0.00  0.00  0.05  0.00   normal  20  \n",
              "1  0.00  0.00  0.00  0.00  0.00   normal  15  \n",
              "2  0.00  1.00  1.00  0.00  0.00  neptune  19  \n",
              "3  0.04  0.03  0.01  0.00  0.01   normal  21  \n",
              "4  0.00  0.00  0.00  0.00  0.00   normal  21  \n",
              "\n",
              "[5 rows x 43 columns]"
            ]
          },
          "execution_count": 15,
          "metadata": {},
          "output_type": "execute_result"
        }
      ],
      "source": [
        "df.head()"
      ]
    },
    {
      "cell_type": "code",
      "execution_count": null,
      "id": "5db3d585",
      "metadata": {
        "execution": {
          "iopub.execute_input": "2022-05-03T22:25:32.155655Z",
          "iopub.status.busy": "2022-05-03T22:25:32.155354Z",
          "iopub.status.idle": "2022-05-03T22:25:32.160355Z",
          "shell.execute_reply": "2022-05-03T22:25:32.159502Z"
        },
        "id": "5db3d585",
        "papermill": {
          "duration": 0.065139,
          "end_time": "2022-05-03T22:25:32.162280",
          "exception": false,
          "start_time": "2022-05-03T22:25:32.097141",
          "status": "completed"
        },
        "tags": []
      },
      "outputs": [],
      "source": [
        "df.columns = [str(i) for i in range(0, len(df.columns))]\n",
        "df2.columns = [str(i) for i in range(0, len(df2.columns))]"
      ]
    },
    {
      "cell_type": "code",
      "execution_count": null,
      "id": "43117dc3",
      "metadata": {
        "execution": {
          "iopub.execute_input": "2022-05-03T22:25:32.276804Z",
          "iopub.status.busy": "2022-05-03T22:25:32.276525Z",
          "iopub.status.idle": "2022-05-03T22:25:32.312353Z",
          "shell.execute_reply": "2022-05-03T22:25:32.311496Z"
        },
        "id": "43117dc3",
        "papermill": {
          "duration": 0.095101,
          "end_time": "2022-05-03T22:25:32.314460",
          "exception": false,
          "start_time": "2022-05-03T22:25:32.219359",
          "status": "completed"
        },
        "tags": []
      },
      "outputs": [],
      "source": [
        "# Replacing Null values with 0. ML classifer cannot learn on Null values\n",
        "df.fillna(0, inplace=True)\n",
        "df2.fillna(0, inplace=True)"
      ]
    },
    {
      "cell_type": "code",
      "execution_count": null,
      "id": "8e0399cd",
      "metadata": {
        "execution": {
          "iopub.execute_input": "2022-05-03T22:25:32.430761Z",
          "iopub.status.busy": "2022-05-03T22:25:32.430464Z",
          "iopub.status.idle": "2022-05-03T22:25:32.454094Z",
          "shell.execute_reply": "2022-05-03T22:25:32.453226Z"
        },
        "id": "8e0399cd",
        "outputId": "23e86cf0-f6c6-4e69-8198-7a3eb584963a",
        "papermill": {
          "duration": 0.08345,
          "end_time": "2022-05-03T22:25:32.456171",
          "exception": false,
          "start_time": "2022-05-03T22:25:32.372721",
          "status": "completed"
        },
        "tags": []
      },
      "outputs": [
        {
          "data": {
            "text/html": [
              "<div>\n",
              "<style scoped>\n",
              "    .dataframe tbody tr th:only-of-type {\n",
              "        vertical-align: middle;\n",
              "    }\n",
              "\n",
              "    .dataframe tbody tr th {\n",
              "        vertical-align: top;\n",
              "    }\n",
              "\n",
              "    .dataframe thead th {\n",
              "        text-align: right;\n",
              "    }\n",
              "</style>\n",
              "<table border=\"1\" class=\"dataframe\">\n",
              "  <thead>\n",
              "    <tr style=\"text-align: right;\">\n",
              "      <th></th>\n",
              "      <th>0</th>\n",
              "      <th>1</th>\n",
              "      <th>2</th>\n",
              "      <th>3</th>\n",
              "      <th>4</th>\n",
              "      <th>5</th>\n",
              "      <th>6</th>\n",
              "      <th>7</th>\n",
              "      <th>8</th>\n",
              "      <th>9</th>\n",
              "      <th>...</th>\n",
              "      <th>33</th>\n",
              "      <th>34</th>\n",
              "      <th>35</th>\n",
              "      <th>36</th>\n",
              "      <th>37</th>\n",
              "      <th>38</th>\n",
              "      <th>39</th>\n",
              "      <th>40</th>\n",
              "      <th>41</th>\n",
              "      <th>42</th>\n",
              "    </tr>\n",
              "  </thead>\n",
              "  <tbody>\n",
              "    <tr>\n",
              "      <th>0</th>\n",
              "      <td>0</td>\n",
              "      <td>tcp</td>\n",
              "      <td>ftp_data</td>\n",
              "      <td>SF</td>\n",
              "      <td>491</td>\n",
              "      <td>0</td>\n",
              "      <td>0</td>\n",
              "      <td>0</td>\n",
              "      <td>0</td>\n",
              "      <td>0</td>\n",
              "      <td>...</td>\n",
              "      <td>0.17</td>\n",
              "      <td>0.03</td>\n",
              "      <td>0.17</td>\n",
              "      <td>0.00</td>\n",
              "      <td>0.00</td>\n",
              "      <td>0.00</td>\n",
              "      <td>0.05</td>\n",
              "      <td>0.00</td>\n",
              "      <td>normal</td>\n",
              "      <td>20</td>\n",
              "    </tr>\n",
              "    <tr>\n",
              "      <th>1</th>\n",
              "      <td>0</td>\n",
              "      <td>udp</td>\n",
              "      <td>other</td>\n",
              "      <td>SF</td>\n",
              "      <td>146</td>\n",
              "      <td>0</td>\n",
              "      <td>0</td>\n",
              "      <td>0</td>\n",
              "      <td>0</td>\n",
              "      <td>0</td>\n",
              "      <td>...</td>\n",
              "      <td>0.00</td>\n",
              "      <td>0.60</td>\n",
              "      <td>0.88</td>\n",
              "      <td>0.00</td>\n",
              "      <td>0.00</td>\n",
              "      <td>0.00</td>\n",
              "      <td>0.00</td>\n",
              "      <td>0.00</td>\n",
              "      <td>normal</td>\n",
              "      <td>15</td>\n",
              "    </tr>\n",
              "    <tr>\n",
              "      <th>2</th>\n",
              "      <td>0</td>\n",
              "      <td>tcp</td>\n",
              "      <td>private</td>\n",
              "      <td>S0</td>\n",
              "      <td>0</td>\n",
              "      <td>0</td>\n",
              "      <td>0</td>\n",
              "      <td>0</td>\n",
              "      <td>0</td>\n",
              "      <td>0</td>\n",
              "      <td>...</td>\n",
              "      <td>0.10</td>\n",
              "      <td>0.05</td>\n",
              "      <td>0.00</td>\n",
              "      <td>0.00</td>\n",
              "      <td>1.00</td>\n",
              "      <td>1.00</td>\n",
              "      <td>0.00</td>\n",
              "      <td>0.00</td>\n",
              "      <td>neptune</td>\n",
              "      <td>19</td>\n",
              "    </tr>\n",
              "    <tr>\n",
              "      <th>3</th>\n",
              "      <td>0</td>\n",
              "      <td>tcp</td>\n",
              "      <td>http</td>\n",
              "      <td>SF</td>\n",
              "      <td>232</td>\n",
              "      <td>8153</td>\n",
              "      <td>0</td>\n",
              "      <td>0</td>\n",
              "      <td>0</td>\n",
              "      <td>0</td>\n",
              "      <td>...</td>\n",
              "      <td>1.00</td>\n",
              "      <td>0.00</td>\n",
              "      <td>0.03</td>\n",
              "      <td>0.04</td>\n",
              "      <td>0.03</td>\n",
              "      <td>0.01</td>\n",
              "      <td>0.00</td>\n",
              "      <td>0.01</td>\n",
              "      <td>normal</td>\n",
              "      <td>21</td>\n",
              "    </tr>\n",
              "    <tr>\n",
              "      <th>4</th>\n",
              "      <td>0</td>\n",
              "      <td>tcp</td>\n",
              "      <td>http</td>\n",
              "      <td>SF</td>\n",
              "      <td>199</td>\n",
              "      <td>420</td>\n",
              "      <td>0</td>\n",
              "      <td>0</td>\n",
              "      <td>0</td>\n",
              "      <td>0</td>\n",
              "      <td>...</td>\n",
              "      <td>1.00</td>\n",
              "      <td>0.00</td>\n",
              "      <td>0.00</td>\n",
              "      <td>0.00</td>\n",
              "      <td>0.00</td>\n",
              "      <td>0.00</td>\n",
              "      <td>0.00</td>\n",
              "      <td>0.00</td>\n",
              "      <td>normal</td>\n",
              "      <td>21</td>\n",
              "    </tr>\n",
              "  </tbody>\n",
              "</table>\n",
              "<p>5 rows × 43 columns</p>\n",
              "</div>"
            ],
            "text/plain": [
              "   0    1         2   3    4     5  6  7  8  9  ...    33    34    35    36  \\\n",
              "0  0  tcp  ftp_data  SF  491     0  0  0  0  0  ...  0.17  0.03  0.17  0.00   \n",
              "1  0  udp     other  SF  146     0  0  0  0  0  ...  0.00  0.60  0.88  0.00   \n",
              "2  0  tcp   private  S0    0     0  0  0  0  0  ...  0.10  0.05  0.00  0.00   \n",
              "3  0  tcp      http  SF  232  8153  0  0  0  0  ...  1.00  0.00  0.03  0.04   \n",
              "4  0  tcp      http  SF  199   420  0  0  0  0  ...  1.00  0.00  0.00  0.00   \n",
              "\n",
              "     37    38    39    40       41  42  \n",
              "0  0.00  0.00  0.05  0.00   normal  20  \n",
              "1  0.00  0.00  0.00  0.00   normal  15  \n",
              "2  1.00  1.00  0.00  0.00  neptune  19  \n",
              "3  0.03  0.01  0.00  0.01   normal  21  \n",
              "4  0.00  0.00  0.00  0.00   normal  21  \n",
              "\n",
              "[5 rows x 43 columns]"
            ]
          },
          "execution_count": 18,
          "metadata": {},
          "output_type": "execute_result"
        }
      ],
      "source": [
        "# Peak on dataset\n",
        "df.head()"
      ]
    },
    {
      "cell_type": "code",
      "execution_count": null,
      "id": "c1d19893",
      "metadata": {
        "execution": {
          "iopub.execute_input": "2022-05-03T22:25:32.573206Z",
          "iopub.status.busy": "2022-05-03T22:25:32.572922Z",
          "iopub.status.idle": "2022-05-03T22:25:32.578345Z",
          "shell.execute_reply": "2022-05-03T22:25:32.577494Z"
        },
        "id": "c1d19893",
        "outputId": "fdad93c4-836e-401c-efde-4ee8c45d1262",
        "papermill": {
          "duration": 0.066406,
          "end_time": "2022-05-03T22:25:32.580356",
          "exception": false,
          "start_time": "2022-05-03T22:25:32.513950",
          "status": "completed"
        },
        "tags": []
      },
      "outputs": [
        {
          "data": {
            "text/plain": [
              "(125973, 43)"
            ]
          },
          "execution_count": 19,
          "metadata": {},
          "output_type": "execute_result"
        }
      ],
      "source": [
        "df.shape"
      ]
    },
    {
      "cell_type": "code",
      "execution_count": null,
      "id": "82d199a9",
      "metadata": {
        "execution": {
          "iopub.execute_input": "2022-05-03T22:25:32.698502Z",
          "iopub.status.busy": "2022-05-03T22:25:32.698215Z",
          "iopub.status.idle": "2022-05-03T22:25:32.764286Z",
          "shell.execute_reply": "2022-05-03T22:25:32.763243Z"
        },
        "id": "82d199a9",
        "outputId": "635f3f86-5f55-496c-a81c-544b2f255b21",
        "papermill": {
          "duration": 0.127766,
          "end_time": "2022-05-03T22:25:32.766598",
          "exception": false,
          "start_time": "2022-05-03T22:25:32.638832",
          "status": "completed"
        },
        "tags": []
      },
      "outputs": [
        {
          "data": {
            "text/html": [
              "<div>\n",
              "<style scoped>\n",
              "    .dataframe tbody tr th:only-of-type {\n",
              "        vertical-align: middle;\n",
              "    }\n",
              "\n",
              "    .dataframe tbody tr th {\n",
              "        vertical-align: top;\n",
              "    }\n",
              "\n",
              "    .dataframe thead th {\n",
              "        text-align: right;\n",
              "    }\n",
              "</style>\n",
              "<table border=\"1\" class=\"dataframe\">\n",
              "  <thead>\n",
              "    <tr style=\"text-align: right;\">\n",
              "      <th></th>\n",
              "      <th>0</th>\n",
              "      <th>1</th>\n",
              "      <th>2</th>\n",
              "      <th>3</th>\n",
              "      <th>4</th>\n",
              "      <th>5</th>\n",
              "      <th>6</th>\n",
              "      <th>7</th>\n",
              "      <th>8</th>\n",
              "      <th>9</th>\n",
              "      <th>...</th>\n",
              "      <th>32</th>\n",
              "      <th>33</th>\n",
              "      <th>34</th>\n",
              "      <th>35</th>\n",
              "      <th>36</th>\n",
              "      <th>37</th>\n",
              "      <th>38</th>\n",
              "      <th>39</th>\n",
              "      <th>40</th>\n",
              "      <th>41</th>\n",
              "    </tr>\n",
              "  </thead>\n",
              "  <tbody>\n",
              "    <tr>\n",
              "      <th>0</th>\n",
              "      <td>0</td>\n",
              "      <td>tcp</td>\n",
              "      <td>ftp_data</td>\n",
              "      <td>SF</td>\n",
              "      <td>491</td>\n",
              "      <td>0</td>\n",
              "      <td>0</td>\n",
              "      <td>0</td>\n",
              "      <td>0</td>\n",
              "      <td>0</td>\n",
              "      <td>...</td>\n",
              "      <td>25</td>\n",
              "      <td>0.17</td>\n",
              "      <td>0.03</td>\n",
              "      <td>0.17</td>\n",
              "      <td>0.00</td>\n",
              "      <td>0.00</td>\n",
              "      <td>0.00</td>\n",
              "      <td>0.05</td>\n",
              "      <td>0.00</td>\n",
              "      <td>normal</td>\n",
              "    </tr>\n",
              "    <tr>\n",
              "      <th>1</th>\n",
              "      <td>0</td>\n",
              "      <td>udp</td>\n",
              "      <td>other</td>\n",
              "      <td>SF</td>\n",
              "      <td>146</td>\n",
              "      <td>0</td>\n",
              "      <td>0</td>\n",
              "      <td>0</td>\n",
              "      <td>0</td>\n",
              "      <td>0</td>\n",
              "      <td>...</td>\n",
              "      <td>1</td>\n",
              "      <td>0.00</td>\n",
              "      <td>0.60</td>\n",
              "      <td>0.88</td>\n",
              "      <td>0.00</td>\n",
              "      <td>0.00</td>\n",
              "      <td>0.00</td>\n",
              "      <td>0.00</td>\n",
              "      <td>0.00</td>\n",
              "      <td>normal</td>\n",
              "    </tr>\n",
              "    <tr>\n",
              "      <th>2</th>\n",
              "      <td>0</td>\n",
              "      <td>tcp</td>\n",
              "      <td>private</td>\n",
              "      <td>S0</td>\n",
              "      <td>0</td>\n",
              "      <td>0</td>\n",
              "      <td>0</td>\n",
              "      <td>0</td>\n",
              "      <td>0</td>\n",
              "      <td>0</td>\n",
              "      <td>...</td>\n",
              "      <td>26</td>\n",
              "      <td>0.10</td>\n",
              "      <td>0.05</td>\n",
              "      <td>0.00</td>\n",
              "      <td>0.00</td>\n",
              "      <td>1.00</td>\n",
              "      <td>1.00</td>\n",
              "      <td>0.00</td>\n",
              "      <td>0.00</td>\n",
              "      <td>neptune</td>\n",
              "    </tr>\n",
              "    <tr>\n",
              "      <th>3</th>\n",
              "      <td>0</td>\n",
              "      <td>tcp</td>\n",
              "      <td>http</td>\n",
              "      <td>SF</td>\n",
              "      <td>232</td>\n",
              "      <td>8153</td>\n",
              "      <td>0</td>\n",
              "      <td>0</td>\n",
              "      <td>0</td>\n",
              "      <td>0</td>\n",
              "      <td>...</td>\n",
              "      <td>255</td>\n",
              "      <td>1.00</td>\n",
              "      <td>0.00</td>\n",
              "      <td>0.03</td>\n",
              "      <td>0.04</td>\n",
              "      <td>0.03</td>\n",
              "      <td>0.01</td>\n",
              "      <td>0.00</td>\n",
              "      <td>0.01</td>\n",
              "      <td>normal</td>\n",
              "    </tr>\n",
              "    <tr>\n",
              "      <th>4</th>\n",
              "      <td>0</td>\n",
              "      <td>tcp</td>\n",
              "      <td>http</td>\n",
              "      <td>SF</td>\n",
              "      <td>199</td>\n",
              "      <td>420</td>\n",
              "      <td>0</td>\n",
              "      <td>0</td>\n",
              "      <td>0</td>\n",
              "      <td>0</td>\n",
              "      <td>...</td>\n",
              "      <td>255</td>\n",
              "      <td>1.00</td>\n",
              "      <td>0.00</td>\n",
              "      <td>0.00</td>\n",
              "      <td>0.00</td>\n",
              "      <td>0.00</td>\n",
              "      <td>0.00</td>\n",
              "      <td>0.00</td>\n",
              "      <td>0.00</td>\n",
              "      <td>normal</td>\n",
              "    </tr>\n",
              "  </tbody>\n",
              "</table>\n",
              "<p>5 rows × 42 columns</p>\n",
              "</div>"
            ],
            "text/plain": [
              "   0    1         2   3    4     5  6  7  8  9  ...   32    33    34    35  \\\n",
              "0  0  tcp  ftp_data  SF  491     0  0  0  0  0  ...   25  0.17  0.03  0.17   \n",
              "1  0  udp     other  SF  146     0  0  0  0  0  ...    1  0.00  0.60  0.88   \n",
              "2  0  tcp   private  S0    0     0  0  0  0  0  ...   26  0.10  0.05  0.00   \n",
              "3  0  tcp      http  SF  232  8153  0  0  0  0  ...  255  1.00  0.00  0.03   \n",
              "4  0  tcp      http  SF  199   420  0  0  0  0  ...  255  1.00  0.00  0.00   \n",
              "\n",
              "     36    37    38    39    40       41  \n",
              "0  0.00  0.00  0.00  0.05  0.00   normal  \n",
              "1  0.00  0.00  0.00  0.00  0.00   normal  \n",
              "2  0.00  1.00  1.00  0.00  0.00  neptune  \n",
              "3  0.04  0.03  0.01  0.00  0.01   normal  \n",
              "4  0.00  0.00  0.00  0.00  0.00   normal  \n",
              "\n",
              "[5 rows x 42 columns]"
            ]
          },
          "execution_count": 20,
          "metadata": {},
          "output_type": "execute_result"
        }
      ],
      "source": [
        "# Peak on the dataset\n",
        "df.drop('42',axis=1, inplace=True)\n",
        "df2.drop('42',axis=1, inplace=True)\n",
        "df.head()"
      ]
    },
    {
      "cell_type": "code",
      "execution_count": null,
      "id": "b4b1f1bf",
      "metadata": {
        "execution": {
          "iopub.execute_input": "2022-05-03T22:25:32.884123Z",
          "iopub.status.busy": "2022-05-03T22:25:32.883403Z",
          "iopub.status.idle": "2022-05-03T22:25:32.896354Z",
          "shell.execute_reply": "2022-05-03T22:25:32.895480Z"
        },
        "id": "b4b1f1bf",
        "papermill": {
          "duration": 0.07387,
          "end_time": "2022-05-03T22:25:32.898738",
          "exception": false,
          "start_time": "2022-05-03T22:25:32.824868",
          "status": "completed"
        },
        "scrolled": true,
        "tags": []
      },
      "outputs": [],
      "source": [
        "sub_classes = df.iloc[:,41].value_counts()"
      ]
    },
    {
      "cell_type": "code",
      "execution_count": null,
      "id": "a9dc0a09",
      "metadata": {
        "execution": {
          "iopub.execute_input": "2022-05-03T22:25:33.018473Z",
          "iopub.status.busy": "2022-05-03T22:25:33.017673Z",
          "iopub.status.idle": "2022-05-03T22:25:33.023805Z",
          "shell.execute_reply": "2022-05-03T22:25:33.022821Z"
        },
        "id": "a9dc0a09",
        "outputId": "2cb66021-0807-4f77-f4f6-9335b6ffee5e",
        "papermill": {
          "duration": 0.068671,
          "end_time": "2022-05-03T22:25:33.026419",
          "exception": false,
          "start_time": "2022-05-03T22:25:32.957748",
          "status": "completed"
        },
        "tags": []
      },
      "outputs": [
        {
          "name": "stdout",
          "output_type": "stream",
          "text": [
            "normal             67343\n",
            "neptune            41214\n",
            "satan               3633\n",
            "ipsweep             3599\n",
            "portsweep           2931\n",
            "smurf               2646\n",
            "nmap                1493\n",
            "back                 956\n",
            "teardrop             892\n",
            "warezclient          890\n",
            "pod                  201\n",
            "guess_passwd          53\n",
            "buffer_overflow       30\n",
            "warezmaster           20\n",
            "land                  18\n",
            "imap                  11\n",
            "rootkit               10\n",
            "loadmodule             9\n",
            "ftp_write              8\n",
            "multihop               7\n",
            "phf                    4\n",
            "perl                   3\n",
            "spy                    2\n",
            "Name: 41, dtype: int64\n"
          ]
        }
      ],
      "source": [
        "print(sub_classes)"
      ]
    },
    {
      "cell_type": "code",
      "execution_count": null,
      "id": "880c6024",
      "metadata": {
        "execution": {
          "iopub.execute_input": "2022-05-03T22:25:33.146522Z",
          "iopub.status.busy": "2022-05-03T22:25:33.145536Z",
          "iopub.status.idle": "2022-05-03T22:25:33.151137Z",
          "shell.execute_reply": "2022-05-03T22:25:33.150489Z"
        },
        "id": "880c6024",
        "papermill": {
          "duration": 0.066786,
          "end_time": "2022-05-03T22:25:33.153141",
          "exception": false,
          "start_time": "2022-05-03T22:25:33.086355",
          "status": "completed"
        },
        "tags": []
      },
      "outputs": [],
      "source": [
        "r2l = ['ftp_write','guess_passwd', 'imap', 'multihop', 'phf', 'spy','warezclient','warezmaster','xlock', 'xsnoop','named',\n",
        "       'sendmail','snmpgetattack', 'snmpguess','httptunnel']\n",
        "u2r = ['buffer_overflow', 'loadmodule','perl','ps','rootkit','sqlattack','xterm']\n",
        "dos = ['back', 'land', 'neptune', 'smurf', 'teardrop','pod','mailbomb', 'processtable','udpstorm', 'worm','apache2']\n",
        "probe = ['ipsweep', 'nmap', 'portsweep', 'satan','saint','mscan']\n",
        "normal = ['normal']"
      ]
    },
    {
      "cell_type": "code",
      "execution_count": null,
      "id": "6b7c4550",
      "metadata": {
        "execution": {
          "iopub.execute_input": "2022-05-03T22:25:33.274712Z",
          "iopub.status.busy": "2022-05-03T22:25:33.273902Z",
          "iopub.status.idle": "2022-05-03T22:25:33.297369Z",
          "shell.execute_reply": "2022-05-03T22:25:33.296531Z"
        },
        "id": "6b7c4550",
        "outputId": "25c2363f-2300-4b1a-9cf1-ad3e1d9dc891",
        "papermill": {
          "duration": 0.086059,
          "end_time": "2022-05-03T22:25:33.299323",
          "exception": false,
          "start_time": "2022-05-03T22:25:33.213264",
          "status": "completed"
        },
        "tags": []
      },
      "outputs": [
        {
          "data": {
            "text/html": [
              "<div>\n",
              "<style scoped>\n",
              "    .dataframe tbody tr th:only-of-type {\n",
              "        vertical-align: middle;\n",
              "    }\n",
              "\n",
              "    .dataframe tbody tr th {\n",
              "        vertical-align: top;\n",
              "    }\n",
              "\n",
              "    .dataframe thead th {\n",
              "        text-align: right;\n",
              "    }\n",
              "</style>\n",
              "<table border=\"1\" class=\"dataframe\">\n",
              "  <thead>\n",
              "    <tr style=\"text-align: right;\">\n",
              "      <th></th>\n",
              "      <th>Train</th>\n",
              "      <th>Test</th>\n",
              "    </tr>\n",
              "  </thead>\n",
              "  <tbody>\n",
              "    <tr>\n",
              "      <th>tcp</th>\n",
              "      <td>102689</td>\n",
              "      <td>18880</td>\n",
              "    </tr>\n",
              "    <tr>\n",
              "      <th>udp</th>\n",
              "      <td>14993</td>\n",
              "      <td>2621</td>\n",
              "    </tr>\n",
              "    <tr>\n",
              "      <th>icmp</th>\n",
              "      <td>8291</td>\n",
              "      <td>1043</td>\n",
              "    </tr>\n",
              "  </tbody>\n",
              "</table>\n",
              "</div>"
            ],
            "text/plain": [
              "       Train   Test\n",
              "tcp   102689  18880\n",
              "udp    14993   2621\n",
              "icmp    8291   1043"
            ]
          },
          "execution_count": 24,
          "metadata": {},
          "output_type": "execute_result"
        }
      ],
      "source": [
        "pd.set_option('display.max_rows', None) # or 1000.\n",
        "train_1 = df['1'].value_counts()\n",
        "train_1.rename('Train', inplace=True)\n",
        "test_1 = df2['1'].value_counts()\n",
        "test_1.rename('Test', inplace=True)\n",
        "cnct = pd.concat([train_1, test_1], axis = 1)\n",
        "cnct"
      ]
    },
    {
      "cell_type": "code",
      "execution_count": null,
      "id": "194813e4",
      "metadata": {
        "execution": {
          "iopub.execute_input": "2022-05-03T22:25:33.418592Z",
          "iopub.status.busy": "2022-05-03T22:25:33.418024Z",
          "iopub.status.idle": "2022-05-03T22:25:33.446381Z",
          "shell.execute_reply": "2022-05-03T22:25:33.445523Z"
        },
        "id": "194813e4",
        "outputId": "593fb094-d130-4307-f506-15c96edccc9a",
        "papermill": {
          "duration": 0.089767,
          "end_time": "2022-05-03T22:25:33.448517",
          "exception": false,
          "start_time": "2022-05-03T22:25:33.358750",
          "status": "completed"
        },
        "tags": []
      },
      "outputs": [
        {
          "data": {
            "text/html": [
              "<div>\n",
              "<style scoped>\n",
              "    .dataframe tbody tr th:only-of-type {\n",
              "        vertical-align: middle;\n",
              "    }\n",
              "\n",
              "    .dataframe tbody tr th {\n",
              "        vertical-align: top;\n",
              "    }\n",
              "\n",
              "    .dataframe thead th {\n",
              "        text-align: right;\n",
              "    }\n",
              "</style>\n",
              "<table border=\"1\" class=\"dataframe\">\n",
              "  <thead>\n",
              "    <tr style=\"text-align: right;\">\n",
              "      <th></th>\n",
              "      <th>Train</th>\n",
              "      <th>Test</th>\n",
              "    </tr>\n",
              "  </thead>\n",
              "  <tbody>\n",
              "    <tr>\n",
              "      <th>http</th>\n",
              "      <td>40338</td>\n",
              "      <td>7853.0</td>\n",
              "    </tr>\n",
              "    <tr>\n",
              "      <th>private</th>\n",
              "      <td>21853</td>\n",
              "      <td>4774.0</td>\n",
              "    </tr>\n",
              "    <tr>\n",
              "      <th>domain_u</th>\n",
              "      <td>9043</td>\n",
              "      <td>894.0</td>\n",
              "    </tr>\n",
              "    <tr>\n",
              "      <th>smtp</th>\n",
              "      <td>7313</td>\n",
              "      <td>934.0</td>\n",
              "    </tr>\n",
              "    <tr>\n",
              "      <th>ftp_data</th>\n",
              "      <td>6860</td>\n",
              "      <td>851.0</td>\n",
              "    </tr>\n",
              "    <tr>\n",
              "      <th>eco_i</th>\n",
              "      <td>4586</td>\n",
              "      <td>262.0</td>\n",
              "    </tr>\n",
              "    <tr>\n",
              "      <th>other</th>\n",
              "      <td>4359</td>\n",
              "      <td>838.0</td>\n",
              "    </tr>\n",
              "    <tr>\n",
              "      <th>ecr_i</th>\n",
              "      <td>3077</td>\n",
              "      <td>752.0</td>\n",
              "    </tr>\n",
              "    <tr>\n",
              "      <th>telnet</th>\n",
              "      <td>2353</td>\n",
              "      <td>1626.0</td>\n",
              "    </tr>\n",
              "    <tr>\n",
              "      <th>finger</th>\n",
              "      <td>1767</td>\n",
              "      <td>136.0</td>\n",
              "    </tr>\n",
              "    <tr>\n",
              "      <th>ftp</th>\n",
              "      <td>1754</td>\n",
              "      <td>692.0</td>\n",
              "    </tr>\n",
              "    <tr>\n",
              "      <th>auth</th>\n",
              "      <td>955</td>\n",
              "      <td>67.0</td>\n",
              "    </tr>\n",
              "    <tr>\n",
              "      <th>Z39_50</th>\n",
              "      <td>862</td>\n",
              "      <td>45.0</td>\n",
              "    </tr>\n",
              "    <tr>\n",
              "      <th>uucp</th>\n",
              "      <td>780</td>\n",
              "      <td>50.0</td>\n",
              "    </tr>\n",
              "    <tr>\n",
              "      <th>courier</th>\n",
              "      <td>734</td>\n",
              "      <td>40.0</td>\n",
              "    </tr>\n",
              "    <tr>\n",
              "      <th>bgp</th>\n",
              "      <td>710</td>\n",
              "      <td>46.0</td>\n",
              "    </tr>\n",
              "    <tr>\n",
              "      <th>whois</th>\n",
              "      <td>693</td>\n",
              "      <td>40.0</td>\n",
              "    </tr>\n",
              "    <tr>\n",
              "      <th>uucp_path</th>\n",
              "      <td>689</td>\n",
              "      <td>46.0</td>\n",
              "    </tr>\n",
              "    <tr>\n",
              "      <th>iso_tsap</th>\n",
              "      <td>687</td>\n",
              "      <td>48.0</td>\n",
              "    </tr>\n",
              "    <tr>\n",
              "      <th>time</th>\n",
              "      <td>654</td>\n",
              "      <td>36.0</td>\n",
              "    </tr>\n",
              "    <tr>\n",
              "      <th>imap4</th>\n",
              "      <td>647</td>\n",
              "      <td>306.0</td>\n",
              "    </tr>\n",
              "    <tr>\n",
              "      <th>nnsp</th>\n",
              "      <td>630</td>\n",
              "      <td>42.0</td>\n",
              "    </tr>\n",
              "    <tr>\n",
              "      <th>vmnet</th>\n",
              "      <td>617</td>\n",
              "      <td>43.0</td>\n",
              "    </tr>\n",
              "    <tr>\n",
              "      <th>urp_i</th>\n",
              "      <td>602</td>\n",
              "      <td>23.0</td>\n",
              "    </tr>\n",
              "    <tr>\n",
              "      <th>domain</th>\n",
              "      <td>569</td>\n",
              "      <td>51.0</td>\n",
              "    </tr>\n",
              "    <tr>\n",
              "      <th>ctf</th>\n",
              "      <td>563</td>\n",
              "      <td>41.0</td>\n",
              "    </tr>\n",
              "    <tr>\n",
              "      <th>csnet_ns</th>\n",
              "      <td>545</td>\n",
              "      <td>34.0</td>\n",
              "    </tr>\n",
              "    <tr>\n",
              "      <th>supdup</th>\n",
              "      <td>544</td>\n",
              "      <td>27.0</td>\n",
              "    </tr>\n",
              "    <tr>\n",
              "      <th>discard</th>\n",
              "      <td>538</td>\n",
              "      <td>26.0</td>\n",
              "    </tr>\n",
              "    <tr>\n",
              "      <th>http_443</th>\n",
              "      <td>530</td>\n",
              "      <td>36.0</td>\n",
              "    </tr>\n",
              "    <tr>\n",
              "      <th>daytime</th>\n",
              "      <td>521</td>\n",
              "      <td>28.0</td>\n",
              "    </tr>\n",
              "    <tr>\n",
              "      <th>gopher</th>\n",
              "      <td>518</td>\n",
              "      <td>34.0</td>\n",
              "    </tr>\n",
              "    <tr>\n",
              "      <th>efs</th>\n",
              "      <td>485</td>\n",
              "      <td>33.0</td>\n",
              "    </tr>\n",
              "    <tr>\n",
              "      <th>systat</th>\n",
              "      <td>477</td>\n",
              "      <td>32.0</td>\n",
              "    </tr>\n",
              "    <tr>\n",
              "      <th>link</th>\n",
              "      <td>475</td>\n",
              "      <td>41.0</td>\n",
              "    </tr>\n",
              "    <tr>\n",
              "      <th>exec</th>\n",
              "      <td>474</td>\n",
              "      <td>27.0</td>\n",
              "    </tr>\n",
              "    <tr>\n",
              "      <th>hostnames</th>\n",
              "      <td>460</td>\n",
              "      <td>23.0</td>\n",
              "    </tr>\n",
              "    <tr>\n",
              "      <th>name</th>\n",
              "      <td>451</td>\n",
              "      <td>37.0</td>\n",
              "    </tr>\n",
              "    <tr>\n",
              "      <th>mtp</th>\n",
              "      <td>439</td>\n",
              "      <td>32.0</td>\n",
              "    </tr>\n",
              "    <tr>\n",
              "      <th>echo</th>\n",
              "      <td>434</td>\n",
              "      <td>37.0</td>\n",
              "    </tr>\n",
              "    <tr>\n",
              "      <th>klogin</th>\n",
              "      <td>433</td>\n",
              "      <td>21.0</td>\n",
              "    </tr>\n",
              "    <tr>\n",
              "      <th>login</th>\n",
              "      <td>429</td>\n",
              "      <td>29.0</td>\n",
              "    </tr>\n",
              "    <tr>\n",
              "      <th>ldap</th>\n",
              "      <td>410</td>\n",
              "      <td>19.0</td>\n",
              "    </tr>\n",
              "    <tr>\n",
              "      <th>netbios_dgm</th>\n",
              "      <td>405</td>\n",
              "      <td>25.0</td>\n",
              "    </tr>\n",
              "    <tr>\n",
              "      <th>sunrpc</th>\n",
              "      <td>381</td>\n",
              "      <td>159.0</td>\n",
              "    </tr>\n",
              "    <tr>\n",
              "      <th>netbios_ssn</th>\n",
              "      <td>362</td>\n",
              "      <td>15.0</td>\n",
              "    </tr>\n",
              "    <tr>\n",
              "      <th>netstat</th>\n",
              "      <td>360</td>\n",
              "      <td>26.0</td>\n",
              "    </tr>\n",
              "    <tr>\n",
              "      <th>netbios_ns</th>\n",
              "      <td>347</td>\n",
              "      <td>36.0</td>\n",
              "    </tr>\n",
              "    <tr>\n",
              "      <th>ssh</th>\n",
              "      <td>311</td>\n",
              "      <td>26.0</td>\n",
              "    </tr>\n",
              "    <tr>\n",
              "      <th>kshell</th>\n",
              "      <td>299</td>\n",
              "      <td>24.0</td>\n",
              "    </tr>\n",
              "    <tr>\n",
              "      <th>nntp</th>\n",
              "      <td>296</td>\n",
              "      <td>21.0</td>\n",
              "    </tr>\n",
              "    <tr>\n",
              "      <th>pop_3</th>\n",
              "      <td>264</td>\n",
              "      <td>1019.0</td>\n",
              "    </tr>\n",
              "    <tr>\n",
              "      <th>sql_net</th>\n",
              "      <td>245</td>\n",
              "      <td>18.0</td>\n",
              "    </tr>\n",
              "    <tr>\n",
              "      <th>IRC</th>\n",
              "      <td>187</td>\n",
              "      <td>13.0</td>\n",
              "    </tr>\n",
              "    <tr>\n",
              "      <th>ntp_u</th>\n",
              "      <td>168</td>\n",
              "      <td>10.0</td>\n",
              "    </tr>\n",
              "    <tr>\n",
              "      <th>rje</th>\n",
              "      <td>86</td>\n",
              "      <td>8.0</td>\n",
              "    </tr>\n",
              "    <tr>\n",
              "      <th>remote_job</th>\n",
              "      <td>78</td>\n",
              "      <td>14.0</td>\n",
              "    </tr>\n",
              "    <tr>\n",
              "      <th>pop_2</th>\n",
              "      <td>78</td>\n",
              "      <td>13.0</td>\n",
              "    </tr>\n",
              "    <tr>\n",
              "      <th>X11</th>\n",
              "      <td>73</td>\n",
              "      <td>15.0</td>\n",
              "    </tr>\n",
              "    <tr>\n",
              "      <th>printer</th>\n",
              "      <td>69</td>\n",
              "      <td>11.0</td>\n",
              "    </tr>\n",
              "    <tr>\n",
              "      <th>shell</th>\n",
              "      <td>65</td>\n",
              "      <td>16.0</td>\n",
              "    </tr>\n",
              "    <tr>\n",
              "      <th>urh_i</th>\n",
              "      <td>10</td>\n",
              "      <td>NaN</td>\n",
              "    </tr>\n",
              "    <tr>\n",
              "      <th>tim_i</th>\n",
              "      <td>8</td>\n",
              "      <td>6.0</td>\n",
              "    </tr>\n",
              "    <tr>\n",
              "      <th>red_i</th>\n",
              "      <td>8</td>\n",
              "      <td>NaN</td>\n",
              "    </tr>\n",
              "    <tr>\n",
              "      <th>pm_dump</th>\n",
              "      <td>5</td>\n",
              "      <td>16.0</td>\n",
              "    </tr>\n",
              "    <tr>\n",
              "      <th>tftp_u</th>\n",
              "      <td>3</td>\n",
              "      <td>1.0</td>\n",
              "    </tr>\n",
              "    <tr>\n",
              "      <th>http_8001</th>\n",
              "      <td>2</td>\n",
              "      <td>NaN</td>\n",
              "    </tr>\n",
              "    <tr>\n",
              "      <th>aol</th>\n",
              "      <td>2</td>\n",
              "      <td>NaN</td>\n",
              "    </tr>\n",
              "    <tr>\n",
              "      <th>harvest</th>\n",
              "      <td>2</td>\n",
              "      <td>NaN</td>\n",
              "    </tr>\n",
              "    <tr>\n",
              "      <th>http_2784</th>\n",
              "      <td>1</td>\n",
              "      <td>NaN</td>\n",
              "    </tr>\n",
              "  </tbody>\n",
              "</table>\n",
              "</div>"
            ],
            "text/plain": [
              "             Train    Test\n",
              "http         40338  7853.0\n",
              "private      21853  4774.0\n",
              "domain_u      9043   894.0\n",
              "smtp          7313   934.0\n",
              "ftp_data      6860   851.0\n",
              "eco_i         4586   262.0\n",
              "other         4359   838.0\n",
              "ecr_i         3077   752.0\n",
              "telnet        2353  1626.0\n",
              "finger        1767   136.0\n",
              "ftp           1754   692.0\n",
              "auth           955    67.0\n",
              "Z39_50         862    45.0\n",
              "uucp           780    50.0\n",
              "courier        734    40.0\n",
              "bgp            710    46.0\n",
              "whois          693    40.0\n",
              "uucp_path      689    46.0\n",
              "iso_tsap       687    48.0\n",
              "time           654    36.0\n",
              "imap4          647   306.0\n",
              "nnsp           630    42.0\n",
              "vmnet          617    43.0\n",
              "urp_i          602    23.0\n",
              "domain         569    51.0\n",
              "ctf            563    41.0\n",
              "csnet_ns       545    34.0\n",
              "supdup         544    27.0\n",
              "discard        538    26.0\n",
              "http_443       530    36.0\n",
              "daytime        521    28.0\n",
              "gopher         518    34.0\n",
              "efs            485    33.0\n",
              "systat         477    32.0\n",
              "link           475    41.0\n",
              "exec           474    27.0\n",
              "hostnames      460    23.0\n",
              "name           451    37.0\n",
              "mtp            439    32.0\n",
              "echo           434    37.0\n",
              "klogin         433    21.0\n",
              "login          429    29.0\n",
              "ldap           410    19.0\n",
              "netbios_dgm    405    25.0\n",
              "sunrpc         381   159.0\n",
              "netbios_ssn    362    15.0\n",
              "netstat        360    26.0\n",
              "netbios_ns     347    36.0\n",
              "ssh            311    26.0\n",
              "kshell         299    24.0\n",
              "nntp           296    21.0\n",
              "pop_3          264  1019.0\n",
              "sql_net        245    18.0\n",
              "IRC            187    13.0\n",
              "ntp_u          168    10.0\n",
              "rje             86     8.0\n",
              "remote_job      78    14.0\n",
              "pop_2           78    13.0\n",
              "X11             73    15.0\n",
              "printer         69    11.0\n",
              "shell           65    16.0\n",
              "urh_i           10     NaN\n",
              "tim_i            8     6.0\n",
              "red_i            8     NaN\n",
              "pm_dump          5    16.0\n",
              "tftp_u           3     1.0\n",
              "http_8001        2     NaN\n",
              "aol              2     NaN\n",
              "harvest          2     NaN\n",
              "http_2784        1     NaN"
            ]
          },
          "execution_count": 25,
          "metadata": {},
          "output_type": "execute_result"
        }
      ],
      "source": [
        "train_2 = df['2'].value_counts()\n",
        "train_2.rename('Train', inplace=True)\n",
        "test_2 = df2['2'].value_counts()\n",
        "test_2.rename('Test', inplace=True)\n",
        "cnct = pd.concat([train_2, test_2], axis = 1)\n",
        "cnct"
      ]
    },
    {
      "cell_type": "code",
      "execution_count": null,
      "id": "caa733b9",
      "metadata": {
        "execution": {
          "iopub.execute_input": "2022-05-03T22:25:33.569507Z",
          "iopub.status.busy": "2022-05-03T22:25:33.569198Z",
          "iopub.status.idle": "2022-05-03T22:25:33.590326Z",
          "shell.execute_reply": "2022-05-03T22:25:33.589486Z"
        },
        "id": "caa733b9",
        "outputId": "e361ea87-2149-41a2-e16c-6568ddb7e874",
        "papermill": {
          "duration": 0.083293,
          "end_time": "2022-05-03T22:25:33.592358",
          "exception": false,
          "start_time": "2022-05-03T22:25:33.509065",
          "status": "completed"
        },
        "tags": []
      },
      "outputs": [
        {
          "data": {
            "text/html": [
              "<div>\n",
              "<style scoped>\n",
              "    .dataframe tbody tr th:only-of-type {\n",
              "        vertical-align: middle;\n",
              "    }\n",
              "\n",
              "    .dataframe tbody tr th {\n",
              "        vertical-align: top;\n",
              "    }\n",
              "\n",
              "    .dataframe thead th {\n",
              "        text-align: right;\n",
              "    }\n",
              "</style>\n",
              "<table border=\"1\" class=\"dataframe\">\n",
              "  <thead>\n",
              "    <tr style=\"text-align: right;\">\n",
              "      <th></th>\n",
              "      <th>Train</th>\n",
              "      <th>Test</th>\n",
              "    </tr>\n",
              "  </thead>\n",
              "  <tbody>\n",
              "    <tr>\n",
              "      <th>SF</th>\n",
              "      <td>74945</td>\n",
              "      <td>14875</td>\n",
              "    </tr>\n",
              "    <tr>\n",
              "      <th>S0</th>\n",
              "      <td>34851</td>\n",
              "      <td>2013</td>\n",
              "    </tr>\n",
              "    <tr>\n",
              "      <th>REJ</th>\n",
              "      <td>11233</td>\n",
              "      <td>3850</td>\n",
              "    </tr>\n",
              "    <tr>\n",
              "      <th>RSTR</th>\n",
              "      <td>2421</td>\n",
              "      <td>669</td>\n",
              "    </tr>\n",
              "    <tr>\n",
              "      <th>RSTO</th>\n",
              "      <td>1562</td>\n",
              "      <td>773</td>\n",
              "    </tr>\n",
              "    <tr>\n",
              "      <th>S1</th>\n",
              "      <td>365</td>\n",
              "      <td>21</td>\n",
              "    </tr>\n",
              "    <tr>\n",
              "      <th>SH</th>\n",
              "      <td>271</td>\n",
              "      <td>73</td>\n",
              "    </tr>\n",
              "    <tr>\n",
              "      <th>S2</th>\n",
              "      <td>127</td>\n",
              "      <td>15</td>\n",
              "    </tr>\n",
              "    <tr>\n",
              "      <th>RSTOS0</th>\n",
              "      <td>103</td>\n",
              "      <td>2</td>\n",
              "    </tr>\n",
              "    <tr>\n",
              "      <th>S3</th>\n",
              "      <td>49</td>\n",
              "      <td>249</td>\n",
              "    </tr>\n",
              "    <tr>\n",
              "      <th>OTH</th>\n",
              "      <td>46</td>\n",
              "      <td>4</td>\n",
              "    </tr>\n",
              "  </tbody>\n",
              "</table>\n",
              "</div>"
            ],
            "text/plain": [
              "        Train   Test\n",
              "SF      74945  14875\n",
              "S0      34851   2013\n",
              "REJ     11233   3850\n",
              "RSTR     2421    669\n",
              "RSTO     1562    773\n",
              "S1        365     21\n",
              "SH        271     73\n",
              "S2        127     15\n",
              "RSTOS0    103      2\n",
              "S3         49    249\n",
              "OTH        46      4"
            ]
          },
          "execution_count": 26,
          "metadata": {},
          "output_type": "execute_result"
        }
      ],
      "source": [
        "train_3 = df['3'].value_counts()\n",
        "train_3.rename('Train', inplace=True)\n",
        "test_3 = df2['3'].value_counts()\n",
        "test_3.rename('Test', inplace=True)\n",
        "cnct = pd.concat([train_3, test_3], axis = 1)\n",
        "cnct"
      ]
    },
    {
      "cell_type": "code",
      "execution_count": null,
      "id": "0b9880e8",
      "metadata": {
        "execution": {
          "iopub.execute_input": "2022-05-03T22:25:33.716075Z",
          "iopub.status.busy": "2022-05-03T22:25:33.715756Z",
          "iopub.status.idle": "2022-05-03T22:25:33.871921Z",
          "shell.execute_reply": "2022-05-03T22:25:33.870975Z"
        },
        "id": "0b9880e8",
        "papermill": {
          "duration": 0.220748,
          "end_time": "2022-05-03T22:25:33.874528",
          "exception": false,
          "start_time": "2022-05-03T22:25:33.653780",
          "status": "completed"
        },
        "tags": []
      },
      "outputs": [],
      "source": [
        "df_X = df.drop('41', axis=1)\n",
        "le = LabelEncoder()\n",
        "for i in df_X:\n",
        "  if df_X[i].dtype=='object':\n",
        "    le.fit(df_X[i])\n",
        "    df_X[i] = le.transform(df_X[i])\n",
        "    df2[i] = le.transform(df2[i])\n",
        "df.iloc[:,:40] = df_X"
      ]
    },
    {
      "cell_type": "code",
      "execution_count": null,
      "id": "40b7596d",
      "metadata": {
        "execution": {
          "iopub.execute_input": "2022-05-03T22:25:33.994966Z",
          "iopub.status.busy": "2022-05-03T22:25:33.994462Z",
          "iopub.status.idle": "2022-05-03T22:25:34.018269Z",
          "shell.execute_reply": "2022-05-03T22:25:34.017573Z"
        },
        "papermill": {
          "duration": 0.086544,
          "end_time": "2022-05-03T22:25:34.020442",
          "exception": false,
          "start_time": "2022-05-03T22:25:33.933898",
          "status": "completed"
        },
        "tags": [],
        "id": "40b7596d"
      },
      "outputs": [],
      "source": [
        "novel_attacks = df2.drop(df2[df2['41'].isin(df['41'])].index)"
      ]
    },
    {
      "cell_type": "code",
      "execution_count": null,
      "id": "c97f251b",
      "metadata": {
        "execution": {
          "iopub.execute_input": "2022-05-03T22:25:34.141542Z",
          "iopub.status.busy": "2022-05-03T22:25:34.140959Z",
          "iopub.status.idle": "2022-05-03T22:25:34.146567Z",
          "shell.execute_reply": "2022-05-03T22:25:34.145968Z"
        },
        "papermill": {
          "duration": 0.068515,
          "end_time": "2022-05-03T22:25:34.148451",
          "exception": false,
          "start_time": "2022-05-03T22:25:34.079936",
          "status": "completed"
        },
        "tags": [],
        "id": "c97f251b"
      },
      "outputs": [],
      "source": [
        "novel_attacks = novel_attacks.drop('41', axis=1)"
      ]
    },
    {
      "cell_type": "code",
      "execution_count": null,
      "id": "77c828bf",
      "metadata": {
        "execution": {
          "iopub.execute_input": "2022-05-03T22:25:34.267958Z",
          "iopub.status.busy": "2022-05-03T22:25:34.267454Z",
          "iopub.status.idle": "2022-05-03T22:25:35.657315Z",
          "shell.execute_reply": "2022-05-03T22:25:35.656453Z"
        },
        "id": "77c828bf",
        "papermill": {
          "duration": 1.452103,
          "end_time": "2022-05-03T22:25:35.659534",
          "exception": false,
          "start_time": "2022-05-03T22:25:34.207431",
          "status": "completed"
        },
        "tags": []
      },
      "outputs": [],
      "source": [
        "df.iloc[:,:40] = normalize_data(df.iloc[:,:40])\n",
        "df2.iloc[:,:40] = normalize_data(df2.iloc[:,:40])\n",
        "novel_attacks = normalize_data(novel_attacks)"
      ]
    },
    {
      "cell_type": "code",
      "execution_count": null,
      "id": "923930f0",
      "metadata": {
        "execution": {
          "iopub.execute_input": "2022-05-03T22:25:35.783467Z",
          "iopub.status.busy": "2022-05-03T22:25:35.783182Z",
          "iopub.status.idle": "2022-05-03T22:25:36.126697Z",
          "shell.execute_reply": "2022-05-03T22:25:36.126056Z"
        },
        "id": "923930f0",
        "papermill": {
          "duration": 0.40678,
          "end_time": "2022-05-03T22:25:36.128876",
          "exception": false,
          "start_time": "2022-05-03T22:25:35.722096",
          "status": "completed"
        },
        "tags": []
      },
      "outputs": [],
      "source": [
        "u2r_attacks = df[df['41'].apply(lambda x: x in u2r)].copy()\n",
        "r2l_attacks = df[df['41'].apply(lambda x: x in r2l)].copy()\n",
        "dos_attacks = df[df['41'].apply(lambda x: x in dos)].copy()\n",
        "probe_attacks = df[df['41'].apply(lambda x: x in probe)].copy()\n",
        "normal_traffic = df[df['41'].apply(lambda x: x in normal)].copy()\n",
        "\n",
        "df['41'] = df['41'].map(\n",
        "    lambda x: 'malicious' if x in r2l \n",
        "    else 'malicious' if x in u2r \n",
        "    else 'malicious' if x in dos \n",
        "    else 'malicious' if x in probe \n",
        "    else 'normal' if x is 'normal'\n",
        "    else x\n",
        "    )\n",
        "\n",
        "df2['41'] = df2['41'].map(\n",
        "    lambda x: 'malicious' if x in r2l \n",
        "    else 'malicious' if x in u2r \n",
        "    else 'malicious' if x in dos \n",
        "    else 'malicious' if x in probe \n",
        "    else 'normal' if x is 'normal'\n",
        "    else x\n",
        "    )"
      ]
    },
    {
      "cell_type": "markdown",
      "id": "57a2d771",
      "metadata": {
        "id": "57a2d771",
        "papermill": {
          "duration": 0.059391,
          "end_time": "2022-05-03T22:25:36.246956",
          "exception": false,
          "start_time": "2022-05-03T22:25:36.187565",
          "status": "completed"
        },
        "tags": []
      },
      "source": [
        "### Training set value counts"
      ]
    },
    {
      "cell_type": "code",
      "execution_count": null,
      "id": "db982812",
      "metadata": {
        "execution": {
          "iopub.execute_input": "2022-05-03T22:25:36.367333Z",
          "iopub.status.busy": "2022-05-03T22:25:36.366837Z",
          "iopub.status.idle": "2022-05-03T22:25:36.381454Z",
          "shell.execute_reply": "2022-05-03T22:25:36.380625Z"
        },
        "id": "db982812",
        "outputId": "8976e6ca-45ee-413e-b6b3-5c86b8c7a4e2",
        "papermill": {
          "duration": 0.077427,
          "end_time": "2022-05-03T22:25:36.383323",
          "exception": false,
          "start_time": "2022-05-03T22:25:36.305896",
          "status": "completed"
        },
        "tags": []
      },
      "outputs": [
        {
          "data": {
            "text/plain": [
              "normal       67343\n",
              "malicious    58630\n",
              "Name: 41, dtype: int64"
            ]
          },
          "execution_count": 32,
          "metadata": {},
          "output_type": "execute_result"
        }
      ],
      "source": [
        "df['41'].value_counts()"
      ]
    },
    {
      "cell_type": "markdown",
      "id": "5240bc44",
      "metadata": {
        "id": "5240bc44",
        "papermill": {
          "duration": 0.059359,
          "end_time": "2022-05-03T22:25:36.501826",
          "exception": false,
          "start_time": "2022-05-03T22:25:36.442467",
          "status": "completed"
        },
        "tags": []
      },
      "source": [
        "### Testing set value counts"
      ]
    },
    {
      "cell_type": "code",
      "execution_count": null,
      "id": "142f2d3e",
      "metadata": {
        "execution": {
          "iopub.execute_input": "2022-05-03T22:25:36.622433Z",
          "iopub.status.busy": "2022-05-03T22:25:36.622165Z",
          "iopub.status.idle": "2022-05-03T22:25:36.629117Z",
          "shell.execute_reply": "2022-05-03T22:25:36.628151Z"
        },
        "id": "142f2d3e",
        "outputId": "7c27e403-13d0-45f7-c77f-b1e2b68194a9",
        "papermill": {
          "duration": 0.070284,
          "end_time": "2022-05-03T22:25:36.631520",
          "exception": false,
          "start_time": "2022-05-03T22:25:36.561236",
          "status": "completed"
        },
        "tags": []
      },
      "outputs": [
        {
          "name": "stdout",
          "output_type": "stream",
          "text": [
            "malicious    12833\n",
            "normal        9711\n",
            "Name: 41, dtype: int64\n"
          ]
        }
      ],
      "source": [
        "print(df2['41'].value_counts())"
      ]
    },
    {
      "cell_type": "code",
      "execution_count": null,
      "id": "c3eb526e",
      "metadata": {
        "execution": {
          "iopub.execute_input": "2022-05-03T22:25:36.753950Z",
          "iopub.status.busy": "2022-05-03T22:25:36.753684Z",
          "iopub.status.idle": "2022-05-03T22:25:36.893799Z",
          "shell.execute_reply": "2022-05-03T22:25:36.892861Z"
        },
        "id": "c3eb526e",
        "papermill": {
          "duration": 0.203731,
          "end_time": "2022-05-03T22:25:36.896141",
          "exception": false,
          "start_time": "2022-05-03T22:25:36.692410",
          "status": "completed"
        },
        "tags": []
      },
      "outputs": [],
      "source": [
        "#In case of multi-class classification\n",
        "#df_Y = le.fit(df['41']).transform(df['41'])\n",
        "#df.iloc[:,41] = df_Y\n",
        "#df_Y = le.transform(df2['41'])\n",
        "#df2.iloc[:,41] = df_Y\n",
        "\n",
        "#In case of binary classification\n",
        "df.iloc[:,41] = df['41'].map(lambda x: 0 if x=='normal' else 1)\n",
        "df2.iloc[:,41] = df2['41'].map(lambda x: 0 if x=='normal' else 1)\n",
        "\n",
        "X_train = df.drop(['41'],axis=1)\n",
        "y_train = df['41']\n",
        "\n",
        "X_test = df2.drop(['41'],axis=1)\n",
        "y_test = df2['41']\n",
        "X_test = torch.tensor(np.array(X_test), dtype=torch.float, device=device)"
      ]
    },
    {
      "cell_type": "markdown",
      "id": "78c7bc21",
      "metadata": {
        "id": "78c7bc21",
        "papermill": {
          "duration": 0.060125,
          "end_time": "2022-05-03T22:25:37.016113",
          "exception": false,
          "start_time": "2022-05-03T22:25:36.955988",
          "status": "completed"
        },
        "tags": []
      },
      "source": [
        "**Creating TensorDatasets**"
      ]
    },
    {
      "cell_type": "code",
      "execution_count": null,
      "id": "25b580d2",
      "metadata": {
        "execution": {
          "iopub.execute_input": "2022-05-03T22:25:37.136817Z",
          "iopub.status.busy": "2022-05-03T22:25:37.135990Z",
          "iopub.status.idle": "2022-05-03T22:25:37.196147Z",
          "shell.execute_reply": "2022-05-03T22:25:37.195122Z"
        },
        "id": "25b580d2",
        "outputId": "c6b208c4-a9ec-47bf-a8fc-80666dd9a6a9",
        "papermill": {
          "duration": 0.123096,
          "end_time": "2022-05-03T22:25:37.198520",
          "exception": false,
          "start_time": "2022-05-03T22:25:37.075424",
          "status": "completed"
        },
        "tags": []
      },
      "outputs": [
        {
          "name": "stderr",
          "output_type": "stream",
          "text": [
            "/opt/conda/lib/python3.7/site-packages/ipykernel_launcher.py:6: UserWarning: To copy construct from a tensor, it is recommended to use sourceTensor.clone().detach() or sourceTensor.clone().detach().requires_grad_(True), rather than torch.tensor(sourceTensor).\n",
            "  \n"
          ]
        }
      ],
      "source": [
        "r2l_dataset = create_dataloader(r2l_attacks, None, batch_size = 64)\n",
        "u2r_dataset = create_dataloader(u2r_attacks, None, batch_size = 64)\n",
        "dos_dataset = create_dataloader(dos_attacks, None, batch_size = 64)\n",
        "probe_dataset = create_dataloader(probe_attacks, None, batch_size = 64)\n",
        "normal_dataset = create_dataloader(normal_traffic, None, batch_size = 64)"
      ]
    },
    {
      "cell_type": "code",
      "execution_count": null,
      "id": "55ab48bf",
      "metadata": {
        "execution": {
          "iopub.execute_input": "2022-05-03T22:25:37.320392Z",
          "iopub.status.busy": "2022-05-03T22:25:37.319818Z",
          "iopub.status.idle": "2022-05-03T22:25:37.372397Z",
          "shell.execute_reply": "2022-05-03T22:25:37.371603Z"
        },
        "id": "55ab48bf",
        "outputId": "504648bd-030a-42ce-f6ca-06fe00c77314",
        "papermill": {
          "duration": 0.115522,
          "end_time": "2022-05-03T22:25:37.374339",
          "exception": false,
          "start_time": "2022-05-03T22:25:37.258817",
          "status": "completed"
        },
        "tags": []
      },
      "outputs": [
        {
          "data": {
            "text/plain": [
              "<All keys matched successfully>"
            ]
          },
          "execution_count": 36,
          "metadata": {},
          "output_type": "execute_result"
        }
      ],
      "source": [
        "r2l_generator = Generator(100,41)\n",
        "r2l_generator.load_state_dict(torch.load('../models/r2l_gen.pt',map_location=torch.device(device)))\n",
        "u2r_generator = Generator(100,41)\n",
        "u2r_generator.load_state_dict(torch.load('../models/u2r_gen.pt',map_location=torch.device(device)))\n",
        "dos_generator = Generator(100,41)\n",
        "dos_generator.load_state_dict(torch.load('../models/dos_gen.pt',map_location=torch.device(device)))\n",
        "probe_generator = Generator(100,41)\n",
        "probe_generator.load_state_dict(torch.load('../models/probe_gen.pt',map_location=torch.device(device)))\n",
        "normal_generator = Generator(100,41)\n",
        "normal_generator.load_state_dict(torch.load('../models/normal_gen.pt', map_location=torch.device(device)))"
      ]
    },
    {
      "cell_type": "code",
      "execution_count": null,
      "id": "76be70f8",
      "metadata": {
        "execution": {
          "iopub.execute_input": "2022-05-03T22:25:37.496517Z",
          "iopub.status.busy": "2022-05-03T22:25:37.495973Z",
          "iopub.status.idle": "2022-05-03T22:25:37.501452Z",
          "shell.execute_reply": "2022-05-03T22:25:37.500863Z"
        },
        "id": "76be70f8",
        "outputId": "bde5a34f-415d-4a79-f8f4-3e47ea752900",
        "papermill": {
          "duration": 0.06825,
          "end_time": "2022-05-03T22:25:37.503154",
          "exception": false,
          "start_time": "2022-05-03T22:25:37.434904",
          "status": "completed"
        },
        "tags": []
      },
      "outputs": [
        {
          "data": {
            "text/plain": [
              "((995, 42), (11656, 42))"
            ]
          },
          "execution_count": 37,
          "metadata": {},
          "output_type": "execute_result"
        }
      ],
      "source": [
        "r2l_attacks.shape, probe_attacks.shape"
      ]
    },
    {
      "cell_type": "code",
      "execution_count": null,
      "id": "32c04bbd",
      "metadata": {
        "execution": {
          "iopub.execute_input": "2022-05-03T22:25:37.624937Z",
          "iopub.status.busy": "2022-05-03T22:25:37.624425Z",
          "iopub.status.idle": "2022-05-03T22:25:37.630618Z",
          "shell.execute_reply": "2022-05-03T22:25:37.629981Z"
        },
        "id": "32c04bbd",
        "papermill": {
          "duration": 0.069034,
          "end_time": "2022-05-03T22:25:37.632305",
          "exception": false,
          "start_time": "2022-05-03T22:25:37.563271",
          "status": "completed"
        },
        "tags": []
      },
      "outputs": [],
      "source": [
        "sample_space = 60000\n",
        "total_attacks = sample_space * 1\n",
        "r2l_req = 0 if sample_space <= r2l_attacks.shape[0] else sample_space - r2l_attacks.shape[0]\n",
        "probe_req = 0 if sample_space <= probe_attacks.shape[0] else sample_space - probe_attacks.shape[0]\n",
        "dos_req = 0 if sample_space <= dos_attacks.shape[0] else sample_space - dos_attacks.shape[0]\n",
        "u2r_req = 0 if sample_space <= u2r_attacks.shape[0] else sample_space - u2r_attacks.shape[0]\n",
        "normal_req = 0 if total_attacks <= normal_traffic.shape[0] else total_attacks - normal_traffic.shape[0]"
      ]
    },
    {
      "cell_type": "code",
      "execution_count": null,
      "id": "1360259b",
      "metadata": {
        "execution": {
          "iopub.execute_input": "2022-05-03T22:25:37.757331Z",
          "iopub.status.busy": "2022-05-03T22:25:37.756529Z",
          "iopub.status.idle": "2022-05-03T22:25:39.586738Z",
          "shell.execute_reply": "2022-05-03T22:25:39.585840Z"
        },
        "id": "1360259b",
        "papermill": {
          "duration": 1.89506,
          "end_time": "2022-05-03T22:25:39.589177",
          "exception": false,
          "start_time": "2022-05-03T22:25:37.694117",
          "status": "completed"
        },
        "tags": []
      },
      "outputs": [],
      "source": [
        "r2l_generated = generate_data(generator=r2l_generator, num_instances=r2l_req, z_dim=100)\n",
        "u2r_generated = generate_data(generator=u2r_generator, num_instances=u2r_req, z_dim=100)\n",
        "dos_generated = generate_data(generator=dos_generator, num_instances=dos_req, z_dim=100)\n",
        "probe_generated = generate_data(generator=probe_generator, num_instances=probe_req, z_dim=100)\n",
        "normal_generated = generate_data(generator=normal_generator, num_instances=normal_req, z_dim=100)"
      ]
    },
    {
      "cell_type": "code",
      "execution_count": null,
      "id": "75c8c8c8",
      "metadata": {
        "execution": {
          "iopub.execute_input": "2022-05-03T22:25:39.716416Z",
          "iopub.status.busy": "2022-05-03T22:25:39.716123Z",
          "iopub.status.idle": "2022-05-03T22:25:39.721670Z",
          "shell.execute_reply": "2022-05-03T22:25:39.720967Z"
        },
        "id": "75c8c8c8",
        "outputId": "7672d9da-e823-4ca3-f9da-bb7fc39203d6",
        "papermill": {
          "duration": 0.070725,
          "end_time": "2022-05-03T22:25:39.723531",
          "exception": false,
          "start_time": "2022-05-03T22:25:39.652806",
          "status": "completed"
        },
        "tags": []
      },
      "outputs": [
        {
          "data": {
            "text/plain": [
              "torch.Size([59005, 41])"
            ]
          },
          "execution_count": 40,
          "metadata": {},
          "output_type": "execute_result"
        }
      ],
      "source": [
        "r2l_generated.shape"
      ]
    },
    {
      "cell_type": "code",
      "execution_count": null,
      "id": "521ff0ec",
      "metadata": {
        "execution": {
          "iopub.execute_input": "2022-05-03T22:25:39.856605Z",
          "iopub.status.busy": "2022-05-03T22:25:39.855653Z",
          "iopub.status.idle": "2022-05-03T22:25:39.862481Z",
          "shell.execute_reply": "2022-05-03T22:25:39.861799Z"
        },
        "id": "521ff0ec",
        "papermill": {
          "duration": 0.076063,
          "end_time": "2022-05-03T22:25:39.864432",
          "exception": false,
          "start_time": "2022-05-03T22:25:39.788369",
          "status": "completed"
        },
        "tags": []
      },
      "outputs": [],
      "source": [
        "r2l_generated = pd.DataFrame(r2l_generated.detach().numpy())\n",
        "u2r_generated = pd.DataFrame(u2r_generated.detach().numpy())\n",
        "dos_generated = pd.DataFrame(dos_generated.detach().numpy())\n",
        "probe_generated = pd.DataFrame(probe_generated.detach().numpy())\n",
        "normal_generated = pd.DataFrame(normal_generated.detach().numpy())"
      ]
    },
    {
      "cell_type": "code",
      "execution_count": null,
      "id": "c44631d5",
      "metadata": {
        "execution": {
          "iopub.execute_input": "2022-05-03T22:25:39.992329Z",
          "iopub.status.busy": "2022-05-03T22:25:39.991987Z",
          "iopub.status.idle": "2022-05-03T22:25:40.086569Z",
          "shell.execute_reply": "2022-05-03T22:25:40.085599Z"
        },
        "id": "c44631d5",
        "papermill": {
          "duration": 0.1616,
          "end_time": "2022-05-03T22:25:40.088895",
          "exception": false,
          "start_time": "2022-05-03T22:25:39.927295",
          "status": "completed"
        },
        "tags": []
      },
      "outputs": [],
      "source": [
        "r2l_attacks.columns = [i for i in range(df.shape[1])]\n",
        "r2l_attacks = r2l_attacks.append(r2l_generated)\n",
        "u2r_attacks.columns = [i for i in range(df.shape[1])]\n",
        "u2r_attacks = u2r_attacks.append(u2r_generated)\n",
        "dos_attacks.columns = [i for i in range(df.shape[1])]\n",
        "dos_attacks = dos_attacks.append(dos_generated)[:sample_space]\n",
        "probe_attacks.columns = [i for i in range(df.shape[1])]\n",
        "probe_attacks = probe_attacks.append(probe_generated)\n",
        "normal_traffic.columns = [i for i in range(df.shape[1])]\n",
        "normal_traffic = normal_traffic.append(normal_generated)[:sample_space]"
      ]
    },
    {
      "cell_type": "code",
      "execution_count": null,
      "id": "6b753ebe",
      "metadata": {
        "execution": {
          "iopub.execute_input": "2022-05-03T22:25:40.221063Z",
          "iopub.status.busy": "2022-05-03T22:25:40.220438Z",
          "iopub.status.idle": "2022-05-03T22:25:40.558915Z",
          "shell.execute_reply": "2022-05-03T22:25:40.557916Z"
        },
        "id": "6b753ebe",
        "papermill": {
          "duration": 0.40617,
          "end_time": "2022-05-03T22:25:40.561311",
          "exception": false,
          "start_time": "2022-05-03T22:25:40.155141",
          "status": "completed"
        },
        "tags": []
      },
      "outputs": [],
      "source": [
        "dataset = pd.concat([r2l_attacks, u2r_attacks, dos_attacks, probe_attacks], axis=0)\n",
        "dataset.columns = [str(i) for i in range(len(dataset.columns))]\n",
        "normal_traffic.columns = [str(i) for i in range(len(dataset.columns))]\n",
        "dataset.iloc[:,41] = 1\n",
        "normal_traffic.iloc[:,41] = 0\n",
        "dataset.reset_index(inplace=True, drop=True)\n",
        "dataset = pd.concat([dataset, normal_traffic])\n",
        "dataset = dataset.sample(frac=1)"
      ]
    },
    {
      "cell_type": "code",
      "execution_count": null,
      "id": "26be3fea",
      "metadata": {
        "execution": {
          "iopub.execute_input": "2022-05-03T22:25:40.689228Z",
          "iopub.status.busy": "2022-05-03T22:25:40.688614Z",
          "iopub.status.idle": "2022-05-03T22:25:40.695308Z",
          "shell.execute_reply": "2022-05-03T22:25:40.694541Z"
        },
        "id": "26be3fea",
        "outputId": "960fc3af-75db-407c-e460-7dad6b38e384",
        "papermill": {
          "duration": 0.073848,
          "end_time": "2022-05-03T22:25:40.697463",
          "exception": false,
          "start_time": "2022-05-03T22:25:40.623615",
          "status": "completed"
        },
        "tags": []
      },
      "outputs": [
        {
          "data": {
            "text/plain": [
              "((60000, 42), (60000, 42), (60000, 42), (60000, 42), (60000, 42))"
            ]
          },
          "execution_count": 44,
          "metadata": {},
          "output_type": "execute_result"
        }
      ],
      "source": [
        "r2l_attacks.shape,u2r_attacks.shape,dos_attacks.shape,probe_attacks.shape, normal_traffic.shape"
      ]
    },
    {
      "cell_type": "code",
      "execution_count": null,
      "id": "01108423",
      "metadata": {
        "execution": {
          "iopub.execute_input": "2022-05-03T22:25:40.830702Z",
          "iopub.status.busy": "2022-05-03T22:25:40.829753Z",
          "iopub.status.idle": "2022-05-03T22:25:40.883015Z",
          "shell.execute_reply": "2022-05-03T22:25:40.882301Z"
        },
        "id": "01108423",
        "papermill": {
          "duration": 0.122758,
          "end_time": "2022-05-03T22:25:40.885127",
          "exception": false,
          "start_time": "2022-05-03T22:25:40.762369",
          "status": "completed"
        },
        "tags": []
      },
      "outputs": [],
      "source": [
        "X = dataset.drop('41', axis=1).to_numpy()\n",
        "y = dataset['41']"
      ]
    },
    {
      "cell_type": "code",
      "execution_count": null,
      "id": "b8c98b4c",
      "metadata": {
        "execution": {
          "iopub.execute_input": "2022-05-03T22:25:41.022326Z",
          "iopub.status.busy": "2022-05-03T22:25:41.021468Z",
          "iopub.status.idle": "2022-05-03T22:25:41.029521Z",
          "shell.execute_reply": "2022-05-03T22:25:41.028575Z"
        },
        "id": "b8c98b4c",
        "outputId": "25415303-ca29-40ae-cffa-09dd0d623db7",
        "papermill": {
          "duration": 0.07987,
          "end_time": "2022-05-03T22:25:41.032785",
          "exception": false,
          "start_time": "2022-05-03T22:25:40.952915",
          "status": "completed"
        },
        "tags": []
      },
      "outputs": [
        {
          "name": "stdout",
          "output_type": "stream",
          "text": [
            "(300000, 41) final size\n",
            "Following are the label counts\n",
            "1    240000\n",
            "0     60000\n",
            "Name: 41, dtype: int64\n"
          ]
        }
      ],
      "source": [
        "print(f'{X.shape} final size') \n",
        "print(f'Following are the label counts\\n{y.value_counts()}')"
      ]
    },
    {
      "cell_type": "code",
      "execution_count": null,
      "id": "9cc308a2",
      "metadata": {
        "execution": {
          "iopub.execute_input": "2022-05-03T22:25:41.170800Z",
          "iopub.status.busy": "2022-05-03T22:25:41.170127Z",
          "iopub.status.idle": "2022-05-03T22:25:41.244598Z",
          "shell.execute_reply": "2022-05-03T22:25:41.243649Z"
        },
        "id": "9cc308a2",
        "papermill": {
          "duration": 0.145698,
          "end_time": "2022-05-03T22:25:41.246958",
          "exception": false,
          "start_time": "2022-05-03T22:25:41.101260",
          "status": "completed"
        },
        "tags": []
      },
      "outputs": [],
      "source": [
        "pt_x_train = torch.tensor(X, dtype=torch.float).to(device)\n",
        "y = nn.functional.one_hot(torch.tensor(y.to_numpy(dtype='int')))\n",
        "pt_y_train = y.float().to(device)\n",
        "novel_attacks = torch.tensor(novel_attacks, dtype=torch.float).to(device)\n",
        "tensor_dataset = TensorDataset(pt_x_train, pt_y_train)"
      ]
    },
    {
      "cell_type": "code",
      "execution_count": null,
      "id": "87db036d",
      "metadata": {
        "execution": {
          "iopub.execute_input": "2022-05-03T22:25:41.378949Z",
          "iopub.status.busy": "2022-05-03T22:25:41.378551Z",
          "iopub.status.idle": "2022-05-03T22:25:41.383280Z",
          "shell.execute_reply": "2022-05-03T22:25:41.382609Z"
        },
        "id": "87db036d",
        "outputId": "7d1f6f04-efa5-459d-cf9b-a64ec905b0df",
        "papermill": {
          "duration": 0.074653,
          "end_time": "2022-05-03T22:25:41.385201",
          "exception": false,
          "start_time": "2022-05-03T22:25:41.310548",
          "status": "completed"
        },
        "tags": []
      },
      "outputs": [
        {
          "data": {
            "text/plain": [
              "(torch.Size([300000, 41]), torch.Size([300000, 2]))"
            ]
          },
          "execution_count": 48,
          "metadata": {},
          "output_type": "execute_result"
        }
      ],
      "source": [
        "pt_x_train.shape, pt_y_train.shape"
      ]
    },
    {
      "cell_type": "markdown",
      "id": "6a1b285c",
      "metadata": {
        "id": "6a1b285c",
        "papermill": {
          "duration": 0.066193,
          "end_time": "2022-05-03T22:25:41.520214",
          "exception": false,
          "start_time": "2022-05-03T22:25:41.454021",
          "status": "completed"
        },
        "tags": []
      },
      "source": [
        "## **MLP**\n",
        "\n"
      ]
    },
    {
      "cell_type": "code",
      "execution_count": null,
      "id": "4d2cdc2c",
      "metadata": {
        "execution": {
          "iopub.execute_input": "2022-05-03T22:25:41.656930Z",
          "iopub.status.busy": "2022-05-03T22:25:41.656553Z",
          "iopub.status.idle": "2022-05-03T22:25:41.662859Z",
          "shell.execute_reply": "2022-05-03T22:25:41.662174Z"
        },
        "id": "4d2cdc2c",
        "papermill": {
          "duration": 0.078727,
          "end_time": "2022-05-03T22:25:41.664984",
          "exception": false,
          "start_time": "2022-05-03T22:25:41.586257",
          "status": "completed"
        },
        "tags": []
      },
      "outputs": [],
      "source": [
        "class MLP(nn.Module):\n",
        "  data_dim = 41\n",
        "  def __init__(self, hidden_size):\n",
        "      super(MLP, self).__init__()\n",
        "      self.mlp = nn.Sequential(\n",
        "          nn.Linear(self.data_dim, hidden_size),\n",
        "          nn.ReLU(),\n",
        "          nn.BatchNorm1d(hidden_size),\n",
        "          nn.Linear(hidden_size, hidden_size),\n",
        "          nn.ReLU(),\n",
        "          nn.BatchNorm1d(hidden_size)\n",
        "      )\n",
        "\n",
        "      self.clf = nn.Sequential(\n",
        "          nn.Linear(hidden_size,2),\n",
        "          nn.Sigmoid()\n",
        "      )\n",
        "\n",
        "  def forward(self, x):\n",
        "      features = self.mlp(x)\n",
        "      return self.clf(features)"
      ]
    },
    {
      "cell_type": "code",
      "execution_count": null,
      "id": "454c5c91",
      "metadata": {
        "execution": {
          "iopub.execute_input": "2022-05-03T22:25:41.803299Z",
          "iopub.status.busy": "2022-05-03T22:25:41.802349Z",
          "iopub.status.idle": "2022-05-03T22:25:41.808664Z",
          "shell.execute_reply": "2022-05-03T22:25:41.807771Z"
        },
        "id": "454c5c91",
        "papermill": {
          "duration": 0.078136,
          "end_time": "2022-05-03T22:25:41.810662",
          "exception": false,
          "start_time": "2022-05-03T22:25:41.732526",
          "status": "completed"
        },
        "tags": []
      },
      "outputs": [],
      "source": [
        "def validation_accuracy(model, X, y):\n",
        "  model.eval()\n",
        "  with torch.no_grad():\n",
        "    lr_probs = model(X).detach().squeeze()\n",
        "  preds = torch.argmax(lr_probs, dim=1).cpu()\n",
        "  acc = accuracy_score(y, preds)\n",
        "  model.train()\n",
        "  return acc"
      ]
    },
    {
      "cell_type": "code",
      "execution_count": null,
      "id": "90c6c325",
      "metadata": {
        "execution": {
          "iopub.execute_input": "2022-05-03T22:25:41.938972Z",
          "iopub.status.busy": "2022-05-03T22:25:41.938278Z",
          "iopub.status.idle": "2022-05-03T22:25:41.943138Z",
          "shell.execute_reply": "2022-05-03T22:25:41.942180Z"
        },
        "id": "90c6c325",
        "papermill": {
          "duration": 0.071059,
          "end_time": "2022-05-03T22:25:41.945124",
          "exception": false,
          "start_time": "2022-05-03T22:25:41.874065",
          "status": "completed"
        },
        "tags": []
      },
      "outputs": [],
      "source": [
        "hidden_sizes = [16, 32, 64, 80, 128]\n",
        "batch_sizes = [64, 128, 256, 512]\n",
        "epochs_ = [50, 75, 100, 150]\n",
        "learning_rates = [1e-3, 4e-3, 1e-2, 1e-1]"
      ]
    },
    {
      "cell_type": "code",
      "execution_count": null,
      "id": "180b3e0b",
      "metadata": {
        "execution": {
          "iopub.execute_input": "2022-05-03T22:25:42.074200Z",
          "iopub.status.busy": "2022-05-03T22:25:42.073898Z",
          "iopub.status.idle": "2022-05-03T22:25:42.077779Z",
          "shell.execute_reply": "2022-05-03T22:25:42.076762Z"
        },
        "papermill": {
          "duration": 0.070737,
          "end_time": "2022-05-03T22:25:42.079759",
          "exception": false,
          "start_time": "2022-05-03T22:25:42.009022",
          "status": "completed"
        },
        "tags": [],
        "id": "180b3e0b"
      },
      "outputs": [],
      "source": [
        "MAX_COMBINATIONS = 20"
      ]
    },
    {
      "cell_type": "code",
      "execution_count": null,
      "id": "c3ffed4a",
      "metadata": {
        "execution": {
          "iopub.execute_input": "2022-05-03T22:25:42.207238Z",
          "iopub.status.busy": "2022-05-03T22:25:42.206581Z",
          "iopub.status.idle": "2022-05-03T22:25:42.212227Z",
          "shell.execute_reply": "2022-05-03T22:25:42.211373Z"
        },
        "papermill": {
          "duration": 0.072737,
          "end_time": "2022-05-03T22:25:42.214192",
          "exception": false,
          "start_time": "2022-05-03T22:25:42.141455",
          "status": "completed"
        },
        "tags": [],
        "id": "c3ffed4a"
      },
      "outputs": [],
      "source": [
        "hyper_space = []\n",
        "for hidden_size in hidden_sizes:\n",
        "    for epochs in epochs_:\n",
        "        for lr in learning_rates:\n",
        "            for batch_size in batch_sizes:\n",
        "                hyper_space.append((hidden_size, epochs, lr, batch_size))"
      ]
    },
    {
      "cell_type": "code",
      "execution_count": null,
      "id": "bbf7036b",
      "metadata": {
        "execution": {
          "iopub.execute_input": "2022-05-03T22:25:42.350693Z",
          "iopub.status.busy": "2022-05-03T22:25:42.350237Z",
          "iopub.status.idle": "2022-05-03T22:25:42.354112Z",
          "shell.execute_reply": "2022-05-03T22:25:42.353397Z"
        },
        "id": "bbf7036b",
        "papermill": {
          "duration": 0.073924,
          "end_time": "2022-05-03T22:25:42.356086",
          "exception": false,
          "start_time": "2022-05-03T22:25:42.282162",
          "status": "completed"
        },
        "tags": []
      },
      "outputs": [],
      "source": [
        "start_time = time.time()"
      ]
    },
    {
      "cell_type": "code",
      "execution_count": null,
      "id": "e499900c",
      "metadata": {
        "execution": {
          "iopub.execute_input": "2022-05-03T22:25:42.489832Z",
          "iopub.status.busy": "2022-05-03T22:25:42.489260Z",
          "iopub.status.idle": "2022-05-04T00:56:18.893734Z",
          "shell.execute_reply": "2022-05-04T00:56:18.892860Z"
        },
        "id": "e499900c",
        "papermill": {
          "duration": 9036.47117,
          "end_time": "2022-05-04T00:56:18.895786",
          "exception": false,
          "start_time": "2022-05-03T22:25:42.424616",
          "status": "completed"
        },
        "tags": []
      },
      "outputs": [],
      "source": [
        "grid_scores = []\n",
        "iters = 1\n",
        "#Creating a Random Search\n",
        "for _ in range(MAX_COMBINATIONS):\n",
        "    hidden_size, epochs, lr, batch_size = hyper_space[np.random.randint(0, len(hyper_space))]\n",
        "    hyper_space.remove((hidden_size, epochs, lr, batch_size))\n",
        "    #Model init\n",
        "    pt_train = DataLoader(tensor_dataset, batch_size=batch_size, shuffle=False, drop_last=False)\n",
        "    mlp = MLP(hidden_size).to(device)\n",
        "    criterion = nn.BCELoss()\n",
        "    optimizer = torch.optim.SGD(mlp.parameters(), lr = lr)\n",
        "\n",
        "    #Training Loop\n",
        "    run = wandb.init(entity='ahsen', project='nids', \n",
        "                     name=f'{EXPERIMENT_NAME}_{iters}', \n",
        "                     group=EXPERIMENT_NAME, reinit=True,\n",
        "                     )\n",
        "    wandb.config[\"lr\"] = lr\n",
        "    wandb.config[\"batch_size\"] = batch_size\n",
        "    wandb.config[\"epochs\"] = epochs\n",
        "    wandb.config[\"hidden_size\"] = hidden_size\n",
        "    print('========================================================')\n",
        "    print(f\"Hidden Size:{hidden_size}\\tEpochs:{epochs}\\tLR:{lr}\\tBatch Size:{batch_size}\")\n",
        "    num_epochs = epochs\n",
        "    losses = []\n",
        "    for epoch in range(num_epochs):\n",
        "        for instance, y in pt_train:\n",
        "            output = mlp(instance)\n",
        "            loss = criterion(output, y)\n",
        "            optimizer.zero_grad()\n",
        "            loss.backward()\n",
        "            optimizer.step()\n",
        "        losses.append(loss.item())\n",
        "        acc = validation_accuracy(mlp, X_test, y_test)\n",
        "        novel_acc = validation_accuracy(mlp, novel_attacks, \n",
        "                                        torch.ones((novel_attacks.shape[0],)))\n",
        "        wandb.log({'loss':loss.item()})\n",
        "        print('-------------------------------------------------------------------')\n",
        "        print(f'Epoch:{epoch+1}  \\tLoss:{loss.item():.4f}\\t Acc:{acc:.4f}\\t Novel acc:{novel_acc:.4f}')\n",
        "\n",
        "    print(\"*************************************************\")\n",
        "    print(f'Final Score for (H:{hidden_size}, Ep:{epochs}, LR:{lr}, B:{batch_size})')\n",
        "    print(f'Acc: {acc:.4f}')\n",
        "    #Save scores\n",
        "    obj = {\n",
        "      \"name\":f'{EXPERIMENT_NAME}_{iters}',\n",
        "      \"config\":{\n",
        "        \"learning_rate\": lr,\n",
        "        \"epochs\": epochs,\n",
        "        \"batch_size\": batch_size,\n",
        "        \"acc\": acc,\n",
        "        \"hidden_size\": hidden_size\n",
        "        },\n",
        "      \"weights\": mlp.state_dict(),\n",
        "      \"losses\": losses\n",
        "    }\n",
        "    wandb.log({\"acc\" : acc})\n",
        "    run.finish()\n",
        "    grid_scores.append(obj)\n",
        "    elapsed = time.time() - start_time\n",
        "    print(f'Time Elapsed:\\t{elapsed:.0f} seconds')\n",
        "    iters = iters + 1"
      ]
    },
    {
      "cell_type": "code",
      "execution_count": null,
      "id": "55e70ffc",
      "metadata": {
        "execution": {
          "iopub.execute_input": "2022-05-04T00:56:20.150992Z",
          "iopub.status.busy": "2022-05-04T00:56:20.150405Z",
          "iopub.status.idle": "2022-05-04T00:56:20.155600Z",
          "shell.execute_reply": "2022-05-04T00:56:20.154957Z"
        },
        "id": "55e70ffc",
        "papermill": {
          "duration": 0.620734,
          "end_time": "2022-05-04T00:56:20.157591",
          "exception": false,
          "start_time": "2022-05-04T00:56:19.536857",
          "status": "completed"
        },
        "tags": []
      },
      "outputs": [],
      "source": [
        "highest = 0\n",
        "for i,score in enumerate(grid_scores):\n",
        "  if score['config']['acc'] > grid_scores[highest]['config']['acc']:\n",
        "    highest = i"
      ]
    },
    {
      "cell_type": "code",
      "execution_count": null,
      "id": "f3f17812",
      "metadata": {
        "execution": {
          "iopub.execute_input": "2022-05-04T00:56:21.346920Z",
          "iopub.status.busy": "2022-05-04T00:56:21.346432Z",
          "iopub.status.idle": "2022-05-04T00:56:21.352005Z",
          "shell.execute_reply": "2022-05-04T00:56:21.351194Z"
        },
        "id": "f3f17812",
        "papermill": {
          "duration": 0.604826,
          "end_time": "2022-05-04T00:56:21.353841",
          "exception": false,
          "start_time": "2022-05-04T00:56:20.749015",
          "status": "completed"
        },
        "tags": [],
        "outputId": "3f0e17c9-6c73-4eca-8034-3acfabdd672d"
      },
      "outputs": [
        {
          "name": "stdout",
          "output_type": "stream",
          "text": [
            "=====================================\n",
            "Total time taken: 9038 seconds\n",
            "Best scores with:\tMLP_GAN_1:4_3_13\n",
            "{'learning_rate': 0.1, 'epochs': 100, 'batch_size': 128, 'acc': 0.8378726046841731, 'hidden_size': 80}\n"
          ]
        }
      ],
      "source": [
        "end_time = time.time()\n",
        "print(\"=====================================\")\n",
        "print(f'Total time taken: {int(end_time-start_time)} seconds')\n",
        "print(f'Best scores with:\\t{grid_scores[highest][\"name\"]}')\n",
        "print(f'{grid_scores[highest][\"config\"]}')"
      ]
    },
    {
      "cell_type": "code",
      "execution_count": null,
      "id": "6b956c88",
      "metadata": {
        "execution": {
          "iopub.execute_input": "2022-05-04T00:56:22.573342Z",
          "iopub.status.busy": "2022-05-04T00:56:22.573032Z",
          "iopub.status.idle": "2022-05-04T00:56:22.810995Z",
          "shell.execute_reply": "2022-05-04T00:56:22.810138Z"
        },
        "id": "6b956c88",
        "papermill": {
          "duration": 0.864279,
          "end_time": "2022-05-04T00:56:22.813187",
          "exception": false,
          "start_time": "2022-05-04T00:56:21.948908",
          "status": "completed"
        },
        "tags": [],
        "outputId": "fa2bc845-071a-455c-c014-8f7416aecb83"
      },
      "outputs": [
        {
          "data": {
            "image/png": "[encoded data removed]",
            "text/plain": [
              "<Figure size 432x288 with 1 Axes>"
            ]
          },
          "metadata": {
            "needs_background": "light"
          },
          "output_type": "display_data"
        }
      ],
      "source": [
        "losses = grid_scores[highest]['losses']\n",
        "num_epochs = grid_scores[highest]['config']['epochs']\n",
        "plt.plot(losses)\n",
        "plt.xlabel(f\"epochs({num_epochs})\")\n",
        "plt.ylabel(f\"loss\")\n",
        "_ = plt.legend(['Loss'])"
      ]
    },
    {
      "cell_type": "code",
      "execution_count": null,
      "id": "d20a3645",
      "metadata": {
        "execution": {
          "iopub.execute_input": "2022-05-04T00:56:24.017548Z",
          "iopub.status.busy": "2022-05-04T00:56:24.017161Z",
          "iopub.status.idle": "2022-05-04T00:56:24.282801Z",
          "shell.execute_reply": "2022-05-04T00:56:24.281991Z"
        },
        "id": "d20a3645",
        "papermill": {
          "duration": 0.867011,
          "end_time": "2022-05-04T00:56:24.285250",
          "exception": false,
          "start_time": "2022-05-04T00:56:23.418239",
          "status": "completed"
        },
        "tags": []
      },
      "outputs": [],
      "source": [
        "mlp = MLP(grid_scores[highest]['config']['hidden_size']).to(device)\n",
        "mlp.load_state_dict(grid_scores[highest]['weights'])\n",
        "mlp.eval()\n",
        "with torch.no_grad():\n",
        "    lr_probs = mlp(X_test).detach().squeeze()\n",
        "    lr_probs_novel = mlp(novel_attacks).detach().squeeze()\n",
        "probs = torch.max(lr_probs, dim=1)\n",
        "probs_novel = torch.max(lr_probs_novel, dim=1)\n",
        "\n",
        "idxs, scores = probs.indices, probs.values\n",
        "probs = [scores[i].item() if idxs[i]==1 else 1-scores[i].item() for i in range(len(idxs))]\n",
        "\n",
        "idxs, scores = probs_novel.indices, probs_novel.values\n",
        "probs_novel = [scores[i].item() if idxs[i]==1 else 1-scores[i].item() for i in range(len(idxs))]\n",
        "\n",
        "preds = torch.argmax(lr_probs, dim=1).cpu()\n",
        "preds_novel = torch.argmax(lr_probs_novel, dim=1).cpu()\n",
        "\n",
        "lr_probs = torch.max(lr_probs, dim=1).values\n",
        "lr_probs_novel = torch.max(lr_probs_novel, dim=1).values\n",
        "\n",
        "probs = np.array(probs)\n",
        "probs_novel = np.array(probs_novel)"
      ]
    },
    {
      "cell_type": "code",
      "execution_count": null,
      "id": "3af8e652",
      "metadata": {
        "execution": {
          "iopub.execute_input": "2022-05-04T00:56:25.497366Z",
          "iopub.status.busy": "2022-05-04T00:56:25.496737Z",
          "iopub.status.idle": "2022-05-04T00:56:25.500918Z",
          "shell.execute_reply": "2022-05-04T00:56:25.500289Z"
        },
        "id": "3af8e652",
        "papermill": {
          "duration": 0.612936,
          "end_time": "2022-05-04T00:56:25.503127",
          "exception": false,
          "start_time": "2022-05-04T00:56:24.890191",
          "status": "completed"
        },
        "tags": []
      },
      "outputs": [],
      "source": [
        "suspicious = probs[(probs>0.4) & (probs<0.5)].shape[0]"
      ]
    },
    {
      "cell_type": "code",
      "execution_count": null,
      "id": "c2f80934",
      "metadata": {
        "execution": {
          "iopub.execute_input": "2022-05-04T00:56:26.706711Z",
          "iopub.status.busy": "2022-05-04T00:56:26.705722Z",
          "iopub.status.idle": "2022-05-04T00:56:26.710812Z",
          "shell.execute_reply": "2022-05-04T00:56:26.709893Z"
        },
        "id": "c2f80934",
        "papermill": {
          "duration": 0.604526,
          "end_time": "2022-05-04T00:56:26.712760",
          "exception": false,
          "start_time": "2022-05-04T00:56:26.108234",
          "status": "completed"
        },
        "tags": [],
        "outputId": "2334a705-ee4d-4cf6-bbb1-879414cdfb4a"
      },
      "outputs": [
        {
          "name": "stdout",
          "output_type": "stream",
          "text": [
            "92 packets are suspicious\n"
          ]
        }
      ],
      "source": [
        "print(f'{suspicious} packets are suspicious')"
      ]
    },
    {
      "cell_type": "code",
      "execution_count": null,
      "id": "48e43d14",
      "metadata": {
        "execution": {
          "iopub.execute_input": "2022-05-04T00:56:27.914215Z",
          "iopub.status.busy": "2022-05-04T00:56:27.913675Z",
          "iopub.status.idle": "2022-05-04T00:56:27.920495Z",
          "shell.execute_reply": "2022-05-04T00:56:27.919595Z"
        },
        "id": "48e43d14",
        "papermill": {
          "duration": 0.606846,
          "end_time": "2022-05-04T00:56:27.922265",
          "exception": false,
          "start_time": "2022-05-04T00:56:27.315419",
          "status": "completed"
        },
        "tags": []
      },
      "outputs": [],
      "source": [
        "def get_cm(y_test, preds):\n",
        "    cm = confusion_matrix(y_test, preds)\n",
        "    tn=cm[1][1] #tn\n",
        "    fn=cm[0][1] #fn\n",
        "    fp=cm[1][0] #fp\n",
        "    tp=cm[0][0] #tp\n",
        "    acc= (tp+tn)/(tp+tn+fn+fp)\n",
        "    epsilon = 1e-7 # is used so that to avoid divide by zero error\n",
        "    precision = tp / (tp + fp + epsilon)\n",
        "    recall = tp / (tp + fn + epsilon)\n",
        "    sensitivity,specificity = tp/(tp+fn),tn/(tn+fp)\n",
        "    print(\"Test accuracy is:\"+str(format(acc,'.4f')))\n",
        "    print(\"Precision: \"+str(format(precision,'.4f'))+\"\\nRecall: \"+str(format(recall,'.4f')))\n",
        "    return cm"
      ]
    },
    {
      "cell_type": "code",
      "execution_count": null,
      "id": "4e86a70d",
      "metadata": {
        "execution": {
          "iopub.execute_input": "2022-05-04T00:56:29.127190Z",
          "iopub.status.busy": "2022-05-04T00:56:29.126622Z",
          "iopub.status.idle": "2022-05-04T00:56:29.138698Z",
          "shell.execute_reply": "2022-05-04T00:56:29.137970Z"
        },
        "papermill": {
          "duration": 0.615631,
          "end_time": "2022-05-04T00:56:29.141112",
          "exception": false,
          "start_time": "2022-05-04T00:56:28.525481",
          "status": "completed"
        },
        "tags": [],
        "id": "4e86a70d",
        "outputId": "aafa3e13-a4ce-4f7b-bfdf-22e81b7fb64c"
      },
      "outputs": [
        {
          "name": "stdout",
          "output_type": "stream",
          "text": [
            "Test accuracy is:0.8379\n",
            "Precision: 0.7359\n",
            "Recall: 0.9726\n"
          ]
        }
      ],
      "source": [
        "cm = get_cm(y_test, preds)"
      ]
    },
    {
      "cell_type": "code",
      "execution_count": null,
      "id": "bcf17f3f",
      "metadata": {
        "execution": {
          "iopub.execute_input": "2022-05-04T00:56:30.363324Z",
          "iopub.status.busy": "2022-05-04T00:56:30.363000Z",
          "iopub.status.idle": "2022-05-04T00:56:30.373309Z",
          "shell.execute_reply": "2022-05-04T00:56:30.372421Z"
        },
        "papermill": {
          "duration": 0.624851,
          "end_time": "2022-05-04T00:56:30.375081",
          "exception": false,
          "start_time": "2022-05-04T00:56:29.750230",
          "status": "completed"
        },
        "tags": [],
        "id": "bcf17f3f",
        "outputId": "8d9c47d7-0cad-4687-8ada-4caae3f20213"
      },
      "outputs": [
        {
          "name": "stdout",
          "output_type": "stream",
          "text": [
            "Test accuracy is:0.5661\n",
            "Precision: 0.0000\n",
            "Recall: 0.0000\n"
          ]
        },
        {
          "name": "stderr",
          "output_type": "stream",
          "text": [
            "/opt/conda/lib/python3.7/site-packages/ipykernel_launcher.py:11: RuntimeWarning: invalid value encountered in long_scalars\n",
            "  # This is added back by InteractiveShellApp.init_path()\n"
          ]
        }
      ],
      "source": [
        "cm_novel = get_cm(np.ones(novel_attacks.shape[0],), preds_novel)"
      ]
    },
    {
      "cell_type": "code",
      "execution_count": null,
      "id": "eedd017b",
      "metadata": {
        "execution": {
          "iopub.execute_input": "2022-05-04T00:56:31.656965Z",
          "iopub.status.busy": "2022-05-04T00:56:31.656414Z",
          "iopub.status.idle": "2022-05-04T00:56:31.662810Z",
          "shell.execute_reply": "2022-05-04T00:56:31.662225Z"
        },
        "id": "eedd017b",
        "papermill": {
          "duration": 0.611253,
          "end_time": "2022-05-04T00:56:31.664967",
          "exception": false,
          "start_time": "2022-05-04T00:56:31.053714",
          "status": "completed"
        },
        "tags": []
      },
      "outputs": [],
      "source": [
        "def disp_PR(y_test, probs, preds, cm, title):\n",
        "    lr_precision, lr_recall, _ = precision_recall_curve(y_test, probs)\n",
        "    lr_f1, lr_auc = f1_score(y_test, preds), auc(lr_recall, lr_precision)\n",
        "    no_skill = len(y_test[y_test==0]) / len(y_test)\n",
        "    acc = accuracy_score(y_test, preds)\n",
        "    plt.plot(lr_recall, lr_precision, marker='.', alpha=0.5)\n",
        "    # axis labels\n",
        "    plt.xlabel('Recall')\n",
        "    plt.ylabel('Precision')\n",
        "    plt.legend(title)\n",
        "\n",
        "    # show the plot\n",
        "    plt.show()\n",
        "    disp = ConfusionMatrixDisplay(confusion_matrix = cm, display_labels = ['normal', 'malicious'])\n",
        "    disp.plot(cmap=\"Blues\", colorbar = False)\n",
        "    print(f\"F1:\\t {lr_f1*100:.3f}%\")\n",
        "    print(f\"AUC:\\t {lr_auc*100:.3f}%\")\n",
        "    print(f\"Accuracy:{acc*100:.3f}%\")"
      ]
    },
    {
      "cell_type": "code",
      "execution_count": null,
      "id": "da298dbf",
      "metadata": {
        "execution": {
          "iopub.execute_input": "2022-05-04T00:56:32.872698Z",
          "iopub.status.busy": "2022-05-04T00:56:32.872152Z",
          "iopub.status.idle": "2022-05-04T00:56:33.170961Z",
          "shell.execute_reply": "2022-05-04T00:56:33.170057Z"
        },
        "papermill": {
          "duration": 0.906303,
          "end_time": "2022-05-04T00:56:33.173507",
          "exception": false,
          "start_time": "2022-05-04T00:56:32.267204",
          "status": "completed"
        },
        "tags": [],
        "id": "da298dbf",
        "outputId": "2aa579a1-52cf-439b-8be9-06efde1fe05f"
      },
      "outputs": [
        {
          "data": {
            "image/png": "[encoded data removed]",
            "text/plain": [
              "<Figure size 432x288 with 1 Axes>"
            ]
          },
          "metadata": {
            "needs_background": "light"
          },
          "output_type": "display_data"
        },
        {
          "name": "stdout",
          "output_type": "stream",
          "text": [
            "F1:\t 83.787%\n",
            "AUC:\t 96.077%\n",
            "Accuracy:83.787%\n"
          ]
        },
        {
          "data": {
            "image/png": "[encoded data removed]",
            "text/plain": [
              "<Figure size 432x288 with 1 Axes>"
            ]
          },
          "metadata": {
            "needs_background": "light"
          },
          "output_type": "display_data"
        }
      ],
      "source": [
        "disp_PR(y_test, probs, preds, cm, title = '')"
      ]
    },
    {
      "cell_type": "code",
      "execution_count": null,
      "id": "00a4af51",
      "metadata": {
        "execution": {
          "iopub.execute_input": "2022-05-04T00:56:34.429117Z",
          "iopub.status.busy": "2022-05-04T00:56:34.428800Z",
          "iopub.status.idle": "2022-05-04T00:56:34.716737Z",
          "shell.execute_reply": "2022-05-04T00:56:34.715716Z"
        },
        "papermill": {
          "duration": 0.89123,
          "end_time": "2022-05-04T00:56:34.719586",
          "exception": false,
          "start_time": "2022-05-04T00:56:33.828356",
          "status": "completed"
        },
        "tags": [],
        "id": "00a4af51",
        "outputId": "784a2745-a17d-47e0-8215-0af224c0bdb6"
      },
      "outputs": [
        {
          "data": {
            "image/png": "[encoded data removed]",
            "text/plain": [
              "<Figure size 432x288 with 1 Axes>"
            ]
          },
          "metadata": {
            "needs_background": "light"
          },
          "output_type": "display_data"
        },
        {
          "name": "stdout",
          "output_type": "stream",
          "text": [
            "F1:\t 72.297%\n",
            "AUC:\t 100.000%\n",
            "Accuracy:56.613%\n"
          ]
        },
        {
          "data": {
            "image/png": "[encoded data removed]",
            "text/plain": [
              "<Figure size 432x288 with 1 Axes>"
            ]
          },
          "metadata": {
            "needs_background": "light"
          },
          "output_type": "display_data"
        }
      ],
      "source": [
        "disp_PR(np.ones(novel_attacks.shape[0]), probs_novel, preds_novel, cm_novel, title = 'Novel Detection')"
      ]
    },
    {
      "cell_type": "code",
      "execution_count": null,
      "id": "40add919",
      "metadata": {
        "execution": {
          "iopub.execute_input": "2022-05-04T00:56:35.970107Z",
          "iopub.status.busy": "2022-05-04T00:56:35.968934Z",
          "iopub.status.idle": "2022-05-04T00:56:36.175628Z",
          "shell.execute_reply": "2022-05-04T00:56:36.174734Z"
        },
        "id": "40add919",
        "papermill": {
          "duration": 0.817159,
          "end_time": "2022-05-04T00:56:36.177540",
          "exception": false,
          "start_time": "2022-05-04T00:56:35.360381",
          "status": "completed"
        },
        "tags": [],
        "outputId": "62db09b2-4ca3-481f-daa6-cd82d4ea3d86"
      },
      "outputs": [
        {
          "data": {
            "image/png": "[encoded data removed]",
            "text/plain": [
              "<Figure size 432x288 with 1 Axes>"
            ]
          },
          "metadata": {
            "needs_background": "light"
          },
          "output_type": "display_data"
        }
      ],
      "source": [
        "_ = RocCurveDisplay.from_predictions(y_test,probs)"
      ]
    },
    {
      "cell_type": "code",
      "execution_count": null,
      "id": "7b6cc45e",
      "metadata": {
        "execution": {
          "iopub.execute_input": "2022-05-04T00:56:37.388020Z",
          "iopub.status.busy": "2022-05-04T00:56:37.387484Z",
          "iopub.status.idle": "2022-05-04T00:56:37.392451Z",
          "shell.execute_reply": "2022-05-04T00:56:37.391641Z"
        },
        "papermill": {
          "duration": 0.61226,
          "end_time": "2022-05-04T00:56:37.394158",
          "exception": false,
          "start_time": "2022-05-04T00:56:36.781898",
          "status": "completed"
        },
        "tags": [],
        "id": "7b6cc45e",
        "outputId": "8f07e949-d519-425f-f55e-89596c24acb0"
      },
      "outputs": [
        {
          "data": {
            "text/plain": [
              "((22544,), (22544,))"
            ]
          },
          "execution_count": 69,
          "metadata": {},
          "output_type": "execute_result"
        }
      ],
      "source": [
        "y_test.shape, probs.shape"
      ]
    },
    {
      "cell_type": "code",
      "execution_count": null,
      "id": "444c2d71",
      "metadata": {
        "execution": {
          "iopub.execute_input": "2022-05-04T00:56:38.604785Z",
          "iopub.status.busy": "2022-05-04T00:56:38.604492Z",
          "iopub.status.idle": "2022-05-04T00:56:38.608874Z",
          "shell.execute_reply": "2022-05-04T00:56:38.608365Z"
        },
        "papermill": {
          "duration": 0.611531,
          "end_time": "2022-05-04T00:56:38.610658",
          "exception": false,
          "start_time": "2022-05-04T00:56:37.999127",
          "status": "completed"
        },
        "tags": [],
        "id": "444c2d71",
        "outputId": "1d7f0689-041a-4d53-edee-9bbd08ff54dd"
      },
      "outputs": [
        {
          "data": {
            "text/plain": [
              "torch.Size([3750, 41])"
            ]
          },
          "execution_count": 70,
          "metadata": {},
          "output_type": "execute_result"
        }
      ],
      "source": [
        "novel_attacks.shape"
      ]
    },
    {
      "cell_type": "code",
      "execution_count": null,
      "id": "46919a41",
      "metadata": {
        "execution": {
          "iopub.execute_input": "2022-05-04T00:56:39.811937Z",
          "iopub.status.busy": "2022-05-04T00:56:39.810970Z",
          "iopub.status.idle": "2022-05-04T00:56:39.815735Z",
          "shell.execute_reply": "2022-05-04T00:56:39.814866Z"
        },
        "id": "46919a41",
        "papermill": {
          "duration": 0.607703,
          "end_time": "2022-05-04T00:56:39.817490",
          "exception": false,
          "start_time": "2022-05-04T00:56:39.209787",
          "status": "completed"
        },
        "tags": []
      },
      "outputs": [],
      "source": [
        "wandb.finish()"
      ]
    },
    {
      "cell_type": "code",
      "execution_count": null,
      "id": "f5d74097",
      "metadata": {
        "execution": {
          "iopub.execute_input": "2022-05-04T00:56:41.060954Z",
          "iopub.status.busy": "2022-05-04T00:56:41.059958Z",
          "iopub.status.idle": "2022-05-04T00:56:41.066642Z",
          "shell.execute_reply": "2022-05-04T00:56:41.066049Z"
        },
        "id": "f5d74097",
        "papermill": {
          "duration": 0.615773,
          "end_time": "2022-05-04T00:56:41.068635",
          "exception": false,
          "start_time": "2022-05-04T00:56:40.452862",
          "status": "completed"
        },
        "tags": []
      },
      "outputs": [],
      "source": [
        "torch.save(mlp.state_dict(), 'mlp.pt')"
      ]
    }
  ],
  "metadata": {
    "kernelspec": {
      "display_name": "Python 3",
      "language": "python",
      "name": "python3"
    },
    "language_info": {
      "codemirror_mode": {
        "name": "ipython",
        "version": 3
      },
      "file_extension": ".py",
      "mimetype": "text/x-python",
      "name": "python",
      "nbconvert_exporter": "python",
      "pygments_lexer": "ipython3",
      "version": "3.7.12"
    },
    "papermill": {
      "default_parameters": {},
      "duration": 9107.282029,
      "end_time": "2022-05-04T00:56:44.329716",
      "environment_variables": {},
      "exception": null,
      "input_path": "__notebook__.ipynb",
      "output_path": "__notebook__.ipynb",
      "parameters": {},
      "start_time": "2022-05-03T22:24:57.047687",
      "version": "2.3.4"
    },
    "colab": {
      "name": "gan-balanced-mlp-1-4.ipynb",
      "provenance": []
    }
  },
  "nbformat": 4,
  "nbformat_minor": 5
}