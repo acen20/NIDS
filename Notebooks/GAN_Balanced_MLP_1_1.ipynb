{
  "cells": [
    {
      "cell_type": "code",
      "execution_count": 122,
      "metadata": {
        "id": "BG8KAlexCxKQ"
      },
      "outputs": [],
      "source": [
        "import os\n",
        "exp_num = 1\n",
        "os.environ[\"WANDB_API_KEY\"] = \"00c5bcfd2b2fbe9bce38152923c98635448f8c6f\"\n",
        "EXPERIMENT_NAME = f'MLP_GAN_1:1_{exp_num}'"
      ],
      "id": "BG8KAlexCxKQ"
    },
    {
      "cell_type": "code",
      "execution_count": 123,
      "metadata": {
        "colab": {
          "base_uri": "https://localhost:8080/"
        },
        "id": "3dgcz0LaVCIU",
        "outputId": "ce99f577-a1a3-49e9-fa07-5c389687e877"
      },
      "outputs": [
        {
          "output_type": "execute_result",
          "data": {
            "text/plain": [
              "0"
            ]
          },
          "metadata": {},
          "execution_count": 123
        }
      ],
      "source": [
        "os.system('mkdir ../dataset') \n",
        "os.system('mkdir ../models')\n",
        "os.system('wget -O ../dataset/KDDTrain+.txt https://raw.githubusercontent.com/acen20/DEL/master/deep-ensemble-jet/dataset/KDDTrain%2B.txt')\n",
        "os.system('wget -O ../dataset/KDDTest+.txt https://raw.githubusercontent.com/acen20/DEL/master/deep-ensemble-jet/dataset/KDDTest%2B.txt')\n",
        "os.system('wget -O ../dataset/KDDTrain+_20Percent.txt https://raw.githubusercontent.com/acen20/DEL/master/deep-ensemble-jet/dataset/KDDTrain%2B_20Percent.txt')\n",
        "os.system('wget -O ../dataset/KDDTest-21.txt https://raw.githubusercontent.com/acen20/DEL/master/deep-ensemble-jet/dataset/KDDTest-21.txt')\n",
        "os.system('wget -O ../models/r2l_gen.pt https://github.com/acen20/DEL/raw/master/IDSGAN/r2l_gen.pt')\n",
        "os.system('wget -O ../models/u2r_gen.pt https://github.com/acen20/DEL/raw/master/IDSGAN/u2r_gen.pt')\n",
        "os.system('wget -O ../models/dos_gen.pt https://github.com/acen20/DEL/raw/master/IDSGAN/dos_gen.pt')\n",
        "os.system('wget -O ../models/probe_gen.pt https://github.com/acen20/DEL/raw/master/IDSGAN/probe_gen.pt')\n",
        "os.system('wget -O ../models/normal_gen.pt https://github.com/acen20/DEL/raw/master/IDSGAN/normal_gen.pt')"
      ],
      "id": "3dgcz0LaVCIU"
    },
    {
      "cell_type": "code",
      "execution_count": 124,
      "metadata": {
        "id": "rIiZ4FR4yy4n"
      },
      "outputs": [],
      "source": [
        "os.system('pip install wandb -q')\n",
        "os.system(f'wandb login {os.environ[\"WANDB_API_KEY\"]}')\n",
        "import wandb"
      ],
      "id": "rIiZ4FR4yy4n"
    },
    {
      "cell_type": "code",
      "execution_count": 125,
      "metadata": {
        "id": "8ec7a96a"
      },
      "outputs": [],
      "source": [
        "import torch\n",
        "from torch import nn\n",
        "from torchvision import transforms\n",
        "from torch.utils.data import TensorDataset, DataLoader\n",
        "import matplotlib.pyplot as plt\n",
        "#plt.style.use('grayscale')\n",
        "from sklearn.metrics import precision_recall_curve,RocCurveDisplay\n",
        "from matplotlib import pyplot\n",
        "from sklearn.metrics import f1_score\n",
        "from sklearn.metrics import ConfusionMatrixDisplay\n",
        "from sklearn.model_selection import cross_val_score\n",
        "import numpy as np\n",
        "from sklearn.preprocessing import LabelEncoder\n",
        "from sklearn.model_selection import train_test_split\n",
        "from sklearn.metrics import classification_report\n",
        "from sklearn.preprocessing import MinMaxScaler\n",
        "from sklearn.model_selection import StratifiedKFold as KFold\n",
        "from sklearn.metrics import auc\n",
        "from sklearn.metrics import accuracy_score\n",
        "import matplotlib.pyplot as plt\n",
        "from sklearn.metrics import confusion_matrix\n",
        "from sklearn.decomposition import PCA\n",
        "from sklearn.preprocessing import LabelEncoder\n",
        "import pandas as pd\n",
        "from sklearn import preprocessing\n",
        "import time"
      ],
      "id": "8ec7a96a"
    },
    {
      "cell_type": "code",
      "execution_count": 126,
      "metadata": {
        "id": "2c580674"
      },
      "outputs": [],
      "source": [
        "from warnings import simplefilter\n",
        "from sklearn.exceptions import ConvergenceWarning\n",
        "simplefilter(\"ignore\", category=ConvergenceWarning)"
      ],
      "id": "2c580674"
    },
    {
      "cell_type": "code",
      "execution_count": 127,
      "metadata": {
        "id": "SzHa9dbaDSNO"
      },
      "outputs": [],
      "source": [
        "device = 'cuda' if torch.cuda.is_available() else 'cpu'"
      ],
      "id": "SzHa9dbaDSNO"
    },
    {
      "cell_type": "code",
      "execution_count": 128,
      "metadata": {
        "colab": {
          "base_uri": "https://localhost:8080/"
        },
        "id": "4qLhXlUUWXgw",
        "outputId": "bbd9086b-df97-4b27-c1cd-3c5e24fa9dc5"
      },
      "outputs": [
        {
          "output_type": "stream",
          "name": "stdout",
          "text": [
            "Using cpu as device\n"
          ]
        }
      ],
      "source": [
        "print(f'Using {device} as device')"
      ],
      "id": "4qLhXlUUWXgw"
    },
    {
      "cell_type": "code",
      "execution_count": 129,
      "metadata": {
        "id": "K5RgWPZuSvzI"
      },
      "outputs": [],
      "source": [
        "class Critic(nn.Module):\n",
        "  def __init__(self, data_dim):\n",
        "    super(Critic,self).__init__()\n",
        "    self.disc = nn.Sequential(\n",
        "        nn.Conv1d(1,3,kernel_size=3,stride=1),\n",
        "        #nn.BatchNorm2d(3),\n",
        "        nn.ReLU(),\n",
        "        nn.Conv1d(3,3,kernel_size=3,stride=1),\n",
        "        #nn.BatchNorm2d(3),\n",
        "        nn.ReLU(),\n",
        "        nn.Flatten(),\n",
        "        nn.Linear(111, data_dim),\n",
        "    )\n",
        "\n",
        "  def forward(self, x):\n",
        "    return self.disc(x)\n",
        "\n",
        "\n",
        "class Generator(nn.Module):\n",
        "  def __init__(self, z_dim, data_dim):\n",
        "    super(Generator,self).__init__()\n",
        "    self.gen = nn.Sequential(\n",
        "        nn.Conv1d(1,3,kernel_size=3,stride=1),\n",
        "        #nn.BatchNorm2d(3),\n",
        "        nn.ReLU(),\n",
        "        nn.Conv1d(3,3,kernel_size=3,stride=1),\n",
        "        #nn.BatchNorm2d(3),\n",
        "        nn.ReLU(),\n",
        "        nn.Linear(96, data_dim),\n",
        "        nn.Sigmoid()\n",
        "    )\n",
        "\n",
        "  def forward(self, x):\n",
        "    return self.gen(x)"
      ],
      "id": "K5RgWPZuSvzI"
    },
    {
      "cell_type": "code",
      "execution_count": 130,
      "metadata": {
        "id": "2GDvxJAFDTBx"
      },
      "outputs": [],
      "source": [
        "def visualize_synthetic_data(generated, original, title):\n",
        "  generated = generated[np.random.randint(0,len(generated),41)]\n",
        "  original = original.iloc[np.random.randint(0,len(original),41),:41][:41]\n",
        "\n",
        "  fig, (original_ax, synthesized_ax) = plt.subplots(1,2,figsize=(12,12))\n",
        "  original_ax.set_title(f'Original({title})')\n",
        "  synthesized_ax.set_title(f'Synthetic({title})')\n",
        "  _ = original_ax.imshow(original)\n",
        "  _ = synthesized_ax.imshow(generated)"
      ],
      "id": "2GDvxJAFDTBx"
    },
    {
      "cell_type": "code",
      "execution_count": 131,
      "metadata": {
        "id": "4ZKNPi9s_5vU"
      },
      "outputs": [],
      "source": [
        "def generate_data(generator, num_instances, z_dim):\n",
        "  generator.eval()\n",
        "  with torch.no_grad():\n",
        "    out = generator(torch.randn(num_instances, z_dim).view(-1,1,z_dim))\n",
        "    return out.detach().reshape(-1,41)[:num_instances]"
      ],
      "id": "4ZKNPi9s_5vU"
    },
    {
      "cell_type": "code",
      "execution_count": 132,
      "metadata": {
        "id": "hYpVs6OTCNDo"
      },
      "outputs": [],
      "source": [
        "def create_dataloader(X, y, batch_size):\n",
        "  if y:\n",
        "    y = np.array(X['41'])\n",
        "  else:\n",
        "    y = torch.ones(size=(X.shape[0],))\n",
        "  y = torch.tensor(y, dtype=torch.float).to(device)\n",
        "\n",
        "  X = np.array(X.iloc[:,:-1])\n",
        "  X = torch.tensor(X, dtype=torch.float).to(device)\n",
        "\n",
        "  pt_train = TensorDataset(X,y)\n",
        "  pt_train = DataLoader(pt_train, batch_size=batch_size)\n",
        "  return pt_train"
      ],
      "id": "hYpVs6OTCNDo"
    },
    {
      "cell_type": "code",
      "execution_count": 133,
      "metadata": {
        "id": "So1T7XFWELWp"
      },
      "outputs": [],
      "source": [
        "def normalize_data(X):\n",
        "  mms = MinMaxScaler()\n",
        "  return mms.fit_transform(X)"
      ],
      "id": "So1T7XFWELWp"
    },
    {
      "cell_type": "code",
      "execution_count": 134,
      "metadata": {
        "id": "NwDdmaxrG6gY"
      },
      "outputs": [],
      "source": [
        "def visualize_train_loss(loss_1, labels, epochs, loss_2 = None):\n",
        "  plt.figure(figsize=(10,4))\n",
        "  plt.plot(loss_1, linewidth=2)\n",
        "  if loss_2:\n",
        "    plt.plot(loss_2, linewidth=2)\n",
        "  plt.legend(labels)\n",
        "  plt.ylabel(\"loss\")\n",
        "  _ = plt.xlabel(f\"epochs ({epochs})\")"
      ],
      "id": "NwDdmaxrG6gY"
    },
    {
      "cell_type": "markdown",
      "metadata": {
        "id": "5b488c60"
      },
      "source": [
        "## Preprocessing"
      ],
      "id": "5b488c60"
    },
    {
      "cell_type": "code",
      "execution_count": 135,
      "metadata": {
        "id": "929c5c3c"
      },
      "outputs": [],
      "source": [
        "df=pd.read_csv('../dataset/KDDTrain+.txt', header=None)\n",
        "df2=pd.read_csv('../dataset/KDDTest+.txt', header=None)"
      ],
      "id": "929c5c3c"
    },
    {
      "cell_type": "code",
      "execution_count": 136,
      "metadata": {
        "colab": {
          "base_uri": "https://localhost:8080/",
          "height": 236
        },
        "id": "e919a469",
        "outputId": "ea38429e-10e5-46a9-bb59-69f9d3ff24f7",
        "scrolled": false
      },
      "outputs": [
        {
          "output_type": "execute_result",
          "data": {
            "text/plain": [
              "   0    1         2   3    4     5   6   7   8   9   ...    33    34    35  \\\n",
              "0   0  tcp  ftp_data  SF  491     0   0   0   0   0  ...  0.17  0.03  0.17   \n",
              "1   0  udp     other  SF  146     0   0   0   0   0  ...  0.00  0.60  0.88   \n",
              "2   0  tcp   private  S0    0     0   0   0   0   0  ...  0.10  0.05  0.00   \n",
              "3   0  tcp      http  SF  232  8153   0   0   0   0  ...  1.00  0.00  0.03   \n",
              "4   0  tcp      http  SF  199   420   0   0   0   0  ...  1.00  0.00  0.00   \n",
              "\n",
              "     36    37    38    39    40       41  42  \n",
              "0  0.00  0.00  0.00  0.05  0.00   normal  20  \n",
              "1  0.00  0.00  0.00  0.00  0.00   normal  15  \n",
              "2  0.00  1.00  1.00  0.00  0.00  neptune  19  \n",
              "3  0.04  0.03  0.01  0.00  0.01   normal  21  \n",
              "4  0.00  0.00  0.00  0.00  0.00   normal  21  \n",
              "\n",
              "[5 rows x 43 columns]"
            ],
            "text/html": [
              "\n",
              "  <div id=\"df-84813730-dd06-45e6-bf76-acfa27fa620d\">\n",
              "    <div class=\"colab-df-container\">\n",
              "      <div>\n",
              "<style scoped>\n",
              "    .dataframe tbody tr th:only-of-type {\n",
              "        vertical-align: middle;\n",
              "    }\n",
              "\n",
              "    .dataframe tbody tr th {\n",
              "        vertical-align: top;\n",
              "    }\n",
              "\n",
              "    .dataframe thead th {\n",
              "        text-align: right;\n",
              "    }\n",
              "</style>\n",
              "<table border=\"1\" class=\"dataframe\">\n",
              "  <thead>\n",
              "    <tr style=\"text-align: right;\">\n",
              "      <th></th>\n",
              "      <th>0</th>\n",
              "      <th>1</th>\n",
              "      <th>2</th>\n",
              "      <th>3</th>\n",
              "      <th>4</th>\n",
              "      <th>5</th>\n",
              "      <th>6</th>\n",
              "      <th>7</th>\n",
              "      <th>8</th>\n",
              "      <th>9</th>\n",
              "      <th>...</th>\n",
              "      <th>33</th>\n",
              "      <th>34</th>\n",
              "      <th>35</th>\n",
              "      <th>36</th>\n",
              "      <th>37</th>\n",
              "      <th>38</th>\n",
              "      <th>39</th>\n",
              "      <th>40</th>\n",
              "      <th>41</th>\n",
              "      <th>42</th>\n",
              "    </tr>\n",
              "  </thead>\n",
              "  <tbody>\n",
              "    <tr>\n",
              "      <th>0</th>\n",
              "      <td>0</td>\n",
              "      <td>tcp</td>\n",
              "      <td>ftp_data</td>\n",
              "      <td>SF</td>\n",
              "      <td>491</td>\n",
              "      <td>0</td>\n",
              "      <td>0</td>\n",
              "      <td>0</td>\n",
              "      <td>0</td>\n",
              "      <td>0</td>\n",
              "      <td>...</td>\n",
              "      <td>0.17</td>\n",
              "      <td>0.03</td>\n",
              "      <td>0.17</td>\n",
              "      <td>0.00</td>\n",
              "      <td>0.00</td>\n",
              "      <td>0.00</td>\n",
              "      <td>0.05</td>\n",
              "      <td>0.00</td>\n",
              "      <td>normal</td>\n",
              "      <td>20</td>\n",
              "    </tr>\n",
              "    <tr>\n",
              "      <th>1</th>\n",
              "      <td>0</td>\n",
              "      <td>udp</td>\n",
              "      <td>other</td>\n",
              "      <td>SF</td>\n",
              "      <td>146</td>\n",
              "      <td>0</td>\n",
              "      <td>0</td>\n",
              "      <td>0</td>\n",
              "      <td>0</td>\n",
              "      <td>0</td>\n",
              "      <td>...</td>\n",
              "      <td>0.00</td>\n",
              "      <td>0.60</td>\n",
              "      <td>0.88</td>\n",
              "      <td>0.00</td>\n",
              "      <td>0.00</td>\n",
              "      <td>0.00</td>\n",
              "      <td>0.00</td>\n",
              "      <td>0.00</td>\n",
              "      <td>normal</td>\n",
              "      <td>15</td>\n",
              "    </tr>\n",
              "    <tr>\n",
              "      <th>2</th>\n",
              "      <td>0</td>\n",
              "      <td>tcp</td>\n",
              "      <td>private</td>\n",
              "      <td>S0</td>\n",
              "      <td>0</td>\n",
              "      <td>0</td>\n",
              "      <td>0</td>\n",
              "      <td>0</td>\n",
              "      <td>0</td>\n",
              "      <td>0</td>\n",
              "      <td>...</td>\n",
              "      <td>0.10</td>\n",
              "      <td>0.05</td>\n",
              "      <td>0.00</td>\n",
              "      <td>0.00</td>\n",
              "      <td>1.00</td>\n",
              "      <td>1.00</td>\n",
              "      <td>0.00</td>\n",
              "      <td>0.00</td>\n",
              "      <td>neptune</td>\n",
              "      <td>19</td>\n",
              "    </tr>\n",
              "    <tr>\n",
              "      <th>3</th>\n",
              "      <td>0</td>\n",
              "      <td>tcp</td>\n",
              "      <td>http</td>\n",
              "      <td>SF</td>\n",
              "      <td>232</td>\n",
              "      <td>8153</td>\n",
              "      <td>0</td>\n",
              "      <td>0</td>\n",
              "      <td>0</td>\n",
              "      <td>0</td>\n",
              "      <td>...</td>\n",
              "      <td>1.00</td>\n",
              "      <td>0.00</td>\n",
              "      <td>0.03</td>\n",
              "      <td>0.04</td>\n",
              "      <td>0.03</td>\n",
              "      <td>0.01</td>\n",
              "      <td>0.00</td>\n",
              "      <td>0.01</td>\n",
              "      <td>normal</td>\n",
              "      <td>21</td>\n",
              "    </tr>\n",
              "    <tr>\n",
              "      <th>4</th>\n",
              "      <td>0</td>\n",
              "      <td>tcp</td>\n",
              "      <td>http</td>\n",
              "      <td>SF</td>\n",
              "      <td>199</td>\n",
              "      <td>420</td>\n",
              "      <td>0</td>\n",
              "      <td>0</td>\n",
              "      <td>0</td>\n",
              "      <td>0</td>\n",
              "      <td>...</td>\n",
              "      <td>1.00</td>\n",
              "      <td>0.00</td>\n",
              "      <td>0.00</td>\n",
              "      <td>0.00</td>\n",
              "      <td>0.00</td>\n",
              "      <td>0.00</td>\n",
              "      <td>0.00</td>\n",
              "      <td>0.00</td>\n",
              "      <td>normal</td>\n",
              "      <td>21</td>\n",
              "    </tr>\n",
              "  </tbody>\n",
              "</table>\n",
              "<p>5 rows × 43 columns</p>\n",
              "</div>\n",
              "      <button class=\"colab-df-convert\" onclick=\"convertToInteractive('df-84813730-dd06-45e6-bf76-acfa27fa620d')\"\n",
              "              title=\"Convert this dataframe to an interactive table.\"\n",
              "              style=\"display:none;\">\n",
              "        \n",
              "  <svg xmlns=\"http://www.w3.org/2000/svg\" height=\"24px\"viewBox=\"0 0 24 24\"\n",
              "       width=\"24px\">\n",
              "    <path d=\"M0 0h24v24H0V0z\" fill=\"none\"/>\n",
              "    <path d=\"M18.56 5.44l.94 2.06.94-2.06 2.06-.94-2.06-.94-.94-2.06-.94 2.06-2.06.94zm-11 1L8.5 8.5l.94-2.06 2.06-.94-2.06-.94L8.5 2.5l-.94 2.06-2.06.94zm10 10l.94 2.06.94-2.06 2.06-.94-2.06-.94-.94-2.06-.94 2.06-2.06.94z\"/><path d=\"M17.41 7.96l-1.37-1.37c-.4-.4-.92-.59-1.43-.59-.52 0-1.04.2-1.43.59L10.3 9.45l-7.72 7.72c-.78.78-.78 2.05 0 2.83L4 21.41c.39.39.9.59 1.41.59.51 0 1.02-.2 1.41-.59l7.78-7.78 2.81-2.81c.8-.78.8-2.07 0-2.86zM5.41 20L4 18.59l7.72-7.72 1.47 1.35L5.41 20z\"/>\n",
              "  </svg>\n",
              "      </button>\n",
              "      \n",
              "  <style>\n",
              "    .colab-df-container {\n",
              "      display:flex;\n",
              "      flex-wrap:wrap;\n",
              "      gap: 12px;\n",
              "    }\n",
              "\n",
              "    .colab-df-convert {\n",
              "      background-color: #E8F0FE;\n",
              "      border: none;\n",
              "      border-radius: 50%;\n",
              "      cursor: pointer;\n",
              "      display: none;\n",
              "      fill: #1967D2;\n",
              "      height: 32px;\n",
              "      padding: 0 0 0 0;\n",
              "      width: 32px;\n",
              "    }\n",
              "\n",
              "    .colab-df-convert:hover {\n",
              "      background-color: #E2EBFA;\n",
              "      box-shadow: 0px 1px 2px rgba(60, 64, 67, 0.3), 0px 1px 3px 1px rgba(60, 64, 67, 0.15);\n",
              "      fill: #174EA6;\n",
              "    }\n",
              "\n",
              "    [theme=dark] .colab-df-convert {\n",
              "      background-color: #3B4455;\n",
              "      fill: #D2E3FC;\n",
              "    }\n",
              "\n",
              "    [theme=dark] .colab-df-convert:hover {\n",
              "      background-color: #434B5C;\n",
              "      box-shadow: 0px 1px 3px 1px rgba(0, 0, 0, 0.15);\n",
              "      filter: drop-shadow(0px 1px 2px rgba(0, 0, 0, 0.3));\n",
              "      fill: #FFFFFF;\n",
              "    }\n",
              "  </style>\n",
              "\n",
              "      <script>\n",
              "        const buttonEl =\n",
              "          document.querySelector('#df-84813730-dd06-45e6-bf76-acfa27fa620d button.colab-df-convert');\n",
              "        buttonEl.style.display =\n",
              "          google.colab.kernel.accessAllowed ? 'block' : 'none';\n",
              "\n",
              "        async function convertToInteractive(key) {\n",
              "          const element = document.querySelector('#df-84813730-dd06-45e6-bf76-acfa27fa620d');\n",
              "          const dataTable =\n",
              "            await google.colab.kernel.invokeFunction('convertToInteractive',\n",
              "                                                     [key], {});\n",
              "          if (!dataTable) return;\n",
              "\n",
              "          const docLinkHtml = 'Like what you see? Visit the ' +\n",
              "            '<a target=\"_blank\" href=https://colab.research.google.com/notebooks/data_table.ipynb>data table notebook</a>'\n",
              "            + ' to learn more about interactive tables.';\n",
              "          element.innerHTML = '';\n",
              "          dataTable['output_type'] = 'display_data';\n",
              "          await google.colab.output.renderOutput(dataTable, element);\n",
              "          const docLink = document.createElement('div');\n",
              "          docLink.innerHTML = docLinkHtml;\n",
              "          element.appendChild(docLink);\n",
              "        }\n",
              "      </script>\n",
              "    </div>\n",
              "  </div>\n",
              "  "
            ]
          },
          "metadata": {},
          "execution_count": 136
        }
      ],
      "source": [
        "df.head()"
      ],
      "id": "e919a469"
    },
    {
      "cell_type": "code",
      "execution_count": 137,
      "metadata": {
        "id": "b7a65747"
      },
      "outputs": [],
      "source": [
        "df.columns = [str(i) for i in range(0, len(df.columns))]\n",
        "df2.columns = [str(i) for i in range(0, len(df2.columns))]"
      ],
      "id": "b7a65747"
    },
    {
      "cell_type": "code",
      "execution_count": 138,
      "metadata": {
        "id": "aa639012"
      },
      "outputs": [],
      "source": [
        "# Replacing Null values with 0. ML classifer cannot learn on Null values\n",
        "df.fillna(0, inplace=True)\n",
        "df2.fillna(0, inplace=True)"
      ],
      "id": "aa639012"
    },
    {
      "cell_type": "code",
      "execution_count": 139,
      "metadata": {
        "colab": {
          "base_uri": "https://localhost:8080/",
          "height": 236
        },
        "id": "740bf015",
        "outputId": "940e023e-fd7f-47fb-de8b-91bcdd5fffb0"
      },
      "outputs": [
        {
          "output_type": "execute_result",
          "data": {
            "text/plain": [
              "   0    1         2   3    4     5  6  7  8  9  ...    33    34    35    36  \\\n",
              "0  0  tcp  ftp_data  SF  491     0  0  0  0  0  ...  0.17  0.03  0.17  0.00   \n",
              "1  0  udp     other  SF  146     0  0  0  0  0  ...  0.00  0.60  0.88  0.00   \n",
              "2  0  tcp   private  S0    0     0  0  0  0  0  ...  0.10  0.05  0.00  0.00   \n",
              "3  0  tcp      http  SF  232  8153  0  0  0  0  ...  1.00  0.00  0.03  0.04   \n",
              "4  0  tcp      http  SF  199   420  0  0  0  0  ...  1.00  0.00  0.00  0.00   \n",
              "\n",
              "     37    38    39    40       41  42  \n",
              "0  0.00  0.00  0.05  0.00   normal  20  \n",
              "1  0.00  0.00  0.00  0.00   normal  15  \n",
              "2  1.00  1.00  0.00  0.00  neptune  19  \n",
              "3  0.03  0.01  0.00  0.01   normal  21  \n",
              "4  0.00  0.00  0.00  0.00   normal  21  \n",
              "\n",
              "[5 rows x 43 columns]"
            ],
            "text/html": [
              "\n",
              "  <div id=\"df-a56701a1-dd52-43e5-aad5-b3c9f71c0caa\">\n",
              "    <div class=\"colab-df-container\">\n",
              "      <div>\n",
              "<style scoped>\n",
              "    .dataframe tbody tr th:only-of-type {\n",
              "        vertical-align: middle;\n",
              "    }\n",
              "\n",
              "    .dataframe tbody tr th {\n",
              "        vertical-align: top;\n",
              "    }\n",
              "\n",
              "    .dataframe thead th {\n",
              "        text-align: right;\n",
              "    }\n",
              "</style>\n",
              "<table border=\"1\" class=\"dataframe\">\n",
              "  <thead>\n",
              "    <tr style=\"text-align: right;\">\n",
              "      <th></th>\n",
              "      <th>0</th>\n",
              "      <th>1</th>\n",
              "      <th>2</th>\n",
              "      <th>3</th>\n",
              "      <th>4</th>\n",
              "      <th>5</th>\n",
              "      <th>6</th>\n",
              "      <th>7</th>\n",
              "      <th>8</th>\n",
              "      <th>9</th>\n",
              "      <th>...</th>\n",
              "      <th>33</th>\n",
              "      <th>34</th>\n",
              "      <th>35</th>\n",
              "      <th>36</th>\n",
              "      <th>37</th>\n",
              "      <th>38</th>\n",
              "      <th>39</th>\n",
              "      <th>40</th>\n",
              "      <th>41</th>\n",
              "      <th>42</th>\n",
              "    </tr>\n",
              "  </thead>\n",
              "  <tbody>\n",
              "    <tr>\n",
              "      <th>0</th>\n",
              "      <td>0</td>\n",
              "      <td>tcp</td>\n",
              "      <td>ftp_data</td>\n",
              "      <td>SF</td>\n",
              "      <td>491</td>\n",
              "      <td>0</td>\n",
              "      <td>0</td>\n",
              "      <td>0</td>\n",
              "      <td>0</td>\n",
              "      <td>0</td>\n",
              "      <td>...</td>\n",
              "      <td>0.17</td>\n",
              "      <td>0.03</td>\n",
              "      <td>0.17</td>\n",
              "      <td>0.00</td>\n",
              "      <td>0.00</td>\n",
              "      <td>0.00</td>\n",
              "      <td>0.05</td>\n",
              "      <td>0.00</td>\n",
              "      <td>normal</td>\n",
              "      <td>20</td>\n",
              "    </tr>\n",
              "    <tr>\n",
              "      <th>1</th>\n",
              "      <td>0</td>\n",
              "      <td>udp</td>\n",
              "      <td>other</td>\n",
              "      <td>SF</td>\n",
              "      <td>146</td>\n",
              "      <td>0</td>\n",
              "      <td>0</td>\n",
              "      <td>0</td>\n",
              "      <td>0</td>\n",
              "      <td>0</td>\n",
              "      <td>...</td>\n",
              "      <td>0.00</td>\n",
              "      <td>0.60</td>\n",
              "      <td>0.88</td>\n",
              "      <td>0.00</td>\n",
              "      <td>0.00</td>\n",
              "      <td>0.00</td>\n",
              "      <td>0.00</td>\n",
              "      <td>0.00</td>\n",
              "      <td>normal</td>\n",
              "      <td>15</td>\n",
              "    </tr>\n",
              "    <tr>\n",
              "      <th>2</th>\n",
              "      <td>0</td>\n",
              "      <td>tcp</td>\n",
              "      <td>private</td>\n",
              "      <td>S0</td>\n",
              "      <td>0</td>\n",
              "      <td>0</td>\n",
              "      <td>0</td>\n",
              "      <td>0</td>\n",
              "      <td>0</td>\n",
              "      <td>0</td>\n",
              "      <td>...</td>\n",
              "      <td>0.10</td>\n",
              "      <td>0.05</td>\n",
              "      <td>0.00</td>\n",
              "      <td>0.00</td>\n",
              "      <td>1.00</td>\n",
              "      <td>1.00</td>\n",
              "      <td>0.00</td>\n",
              "      <td>0.00</td>\n",
              "      <td>neptune</td>\n",
              "      <td>19</td>\n",
              "    </tr>\n",
              "    <tr>\n",
              "      <th>3</th>\n",
              "      <td>0</td>\n",
              "      <td>tcp</td>\n",
              "      <td>http</td>\n",
              "      <td>SF</td>\n",
              "      <td>232</td>\n",
              "      <td>8153</td>\n",
              "      <td>0</td>\n",
              "      <td>0</td>\n",
              "      <td>0</td>\n",
              "      <td>0</td>\n",
              "      <td>...</td>\n",
              "      <td>1.00</td>\n",
              "      <td>0.00</td>\n",
              "      <td>0.03</td>\n",
              "      <td>0.04</td>\n",
              "      <td>0.03</td>\n",
              "      <td>0.01</td>\n",
              "      <td>0.00</td>\n",
              "      <td>0.01</td>\n",
              "      <td>normal</td>\n",
              "      <td>21</td>\n",
              "    </tr>\n",
              "    <tr>\n",
              "      <th>4</th>\n",
              "      <td>0</td>\n",
              "      <td>tcp</td>\n",
              "      <td>http</td>\n",
              "      <td>SF</td>\n",
              "      <td>199</td>\n",
              "      <td>420</td>\n",
              "      <td>0</td>\n",
              "      <td>0</td>\n",
              "      <td>0</td>\n",
              "      <td>0</td>\n",
              "      <td>...</td>\n",
              "      <td>1.00</td>\n",
              "      <td>0.00</td>\n",
              "      <td>0.00</td>\n",
              "      <td>0.00</td>\n",
              "      <td>0.00</td>\n",
              "      <td>0.00</td>\n",
              "      <td>0.00</td>\n",
              "      <td>0.00</td>\n",
              "      <td>normal</td>\n",
              "      <td>21</td>\n",
              "    </tr>\n",
              "  </tbody>\n",
              "</table>\n",
              "<p>5 rows × 43 columns</p>\n",
              "</div>\n",
              "      <button class=\"colab-df-convert\" onclick=\"convertToInteractive('df-a56701a1-dd52-43e5-aad5-b3c9f71c0caa')\"\n",
              "              title=\"Convert this dataframe to an interactive table.\"\n",
              "              style=\"display:none;\">\n",
              "        \n",
              "  <svg xmlns=\"http://www.w3.org/2000/svg\" height=\"24px\"viewBox=\"0 0 24 24\"\n",
              "       width=\"24px\">\n",
              "    <path d=\"M0 0h24v24H0V0z\" fill=\"none\"/>\n",
              "    <path d=\"M18.56 5.44l.94 2.06.94-2.06 2.06-.94-2.06-.94-.94-2.06-.94 2.06-2.06.94zm-11 1L8.5 8.5l.94-2.06 2.06-.94-2.06-.94L8.5 2.5l-.94 2.06-2.06.94zm10 10l.94 2.06.94-2.06 2.06-.94-2.06-.94-.94-2.06-.94 2.06-2.06.94z\"/><path d=\"M17.41 7.96l-1.37-1.37c-.4-.4-.92-.59-1.43-.59-.52 0-1.04.2-1.43.59L10.3 9.45l-7.72 7.72c-.78.78-.78 2.05 0 2.83L4 21.41c.39.39.9.59 1.41.59.51 0 1.02-.2 1.41-.59l7.78-7.78 2.81-2.81c.8-.78.8-2.07 0-2.86zM5.41 20L4 18.59l7.72-7.72 1.47 1.35L5.41 20z\"/>\n",
              "  </svg>\n",
              "      </button>\n",
              "      \n",
              "  <style>\n",
              "    .colab-df-container {\n",
              "      display:flex;\n",
              "      flex-wrap:wrap;\n",
              "      gap: 12px;\n",
              "    }\n",
              "\n",
              "    .colab-df-convert {\n",
              "      background-color: #E8F0FE;\n",
              "      border: none;\n",
              "      border-radius: 50%;\n",
              "      cursor: pointer;\n",
              "      display: none;\n",
              "      fill: #1967D2;\n",
              "      height: 32px;\n",
              "      padding: 0 0 0 0;\n",
              "      width: 32px;\n",
              "    }\n",
              "\n",
              "    .colab-df-convert:hover {\n",
              "      background-color: #E2EBFA;\n",
              "      box-shadow: 0px 1px 2px rgba(60, 64, 67, 0.3), 0px 1px 3px 1px rgba(60, 64, 67, 0.15);\n",
              "      fill: #174EA6;\n",
              "    }\n",
              "\n",
              "    [theme=dark] .colab-df-convert {\n",
              "      background-color: #3B4455;\n",
              "      fill: #D2E3FC;\n",
              "    }\n",
              "\n",
              "    [theme=dark] .colab-df-convert:hover {\n",
              "      background-color: #434B5C;\n",
              "      box-shadow: 0px 1px 3px 1px rgba(0, 0, 0, 0.15);\n",
              "      filter: drop-shadow(0px 1px 2px rgba(0, 0, 0, 0.3));\n",
              "      fill: #FFFFFF;\n",
              "    }\n",
              "  </style>\n",
              "\n",
              "      <script>\n",
              "        const buttonEl =\n",
              "          document.querySelector('#df-a56701a1-dd52-43e5-aad5-b3c9f71c0caa button.colab-df-convert');\n",
              "        buttonEl.style.display =\n",
              "          google.colab.kernel.accessAllowed ? 'block' : 'none';\n",
              "\n",
              "        async function convertToInteractive(key) {\n",
              "          const element = document.querySelector('#df-a56701a1-dd52-43e5-aad5-b3c9f71c0caa');\n",
              "          const dataTable =\n",
              "            await google.colab.kernel.invokeFunction('convertToInteractive',\n",
              "                                                     [key], {});\n",
              "          if (!dataTable) return;\n",
              "\n",
              "          const docLinkHtml = 'Like what you see? Visit the ' +\n",
              "            '<a target=\"_blank\" href=https://colab.research.google.com/notebooks/data_table.ipynb>data table notebook</a>'\n",
              "            + ' to learn more about interactive tables.';\n",
              "          element.innerHTML = '';\n",
              "          dataTable['output_type'] = 'display_data';\n",
              "          await google.colab.output.renderOutput(dataTable, element);\n",
              "          const docLink = document.createElement('div');\n",
              "          docLink.innerHTML = docLinkHtml;\n",
              "          element.appendChild(docLink);\n",
              "        }\n",
              "      </script>\n",
              "    </div>\n",
              "  </div>\n",
              "  "
            ]
          },
          "metadata": {},
          "execution_count": 139
        }
      ],
      "source": [
        "# Peak on dataset\n",
        "df.head()"
      ],
      "id": "740bf015"
    },
    {
      "cell_type": "code",
      "execution_count": 140,
      "metadata": {
        "colab": {
          "base_uri": "https://localhost:8080/"
        },
        "id": "9ec1c0af",
        "outputId": "88328750-ecbb-4732-a99c-b93d7c548dee"
      },
      "outputs": [
        {
          "output_type": "execute_result",
          "data": {
            "text/plain": [
              "(125973, 43)"
            ]
          },
          "metadata": {},
          "execution_count": 140
        }
      ],
      "source": [
        "df.shape"
      ],
      "id": "9ec1c0af"
    },
    {
      "cell_type": "code",
      "execution_count": 141,
      "metadata": {
        "colab": {
          "base_uri": "https://localhost:8080/",
          "height": 236
        },
        "id": "bfbee834",
        "outputId": "c8b976cb-37b9-4459-8fc6-cc00d9286a85"
      },
      "outputs": [
        {
          "output_type": "execute_result",
          "data": {
            "text/plain": [
              "   0    1         2   3    4     5  6  7  8  9  ...   32    33    34    35  \\\n",
              "0  0  tcp  ftp_data  SF  491     0  0  0  0  0  ...   25  0.17  0.03  0.17   \n",
              "1  0  udp     other  SF  146     0  0  0  0  0  ...    1  0.00  0.60  0.88   \n",
              "2  0  tcp   private  S0    0     0  0  0  0  0  ...   26  0.10  0.05  0.00   \n",
              "3  0  tcp      http  SF  232  8153  0  0  0  0  ...  255  1.00  0.00  0.03   \n",
              "4  0  tcp      http  SF  199   420  0  0  0  0  ...  255  1.00  0.00  0.00   \n",
              "\n",
              "     36    37    38    39    40       41  \n",
              "0  0.00  0.00  0.00  0.05  0.00   normal  \n",
              "1  0.00  0.00  0.00  0.00  0.00   normal  \n",
              "2  0.00  1.00  1.00  0.00  0.00  neptune  \n",
              "3  0.04  0.03  0.01  0.00  0.01   normal  \n",
              "4  0.00  0.00  0.00  0.00  0.00   normal  \n",
              "\n",
              "[5 rows x 42 columns]"
            ],
            "text/html": [
              "\n",
              "  <div id=\"df-5edd08e9-e393-4085-b069-d6912ed57286\">\n",
              "    <div class=\"colab-df-container\">\n",
              "      <div>\n",
              "<style scoped>\n",
              "    .dataframe tbody tr th:only-of-type {\n",
              "        vertical-align: middle;\n",
              "    }\n",
              "\n",
              "    .dataframe tbody tr th {\n",
              "        vertical-align: top;\n",
              "    }\n",
              "\n",
              "    .dataframe thead th {\n",
              "        text-align: right;\n",
              "    }\n",
              "</style>\n",
              "<table border=\"1\" class=\"dataframe\">\n",
              "  <thead>\n",
              "    <tr style=\"text-align: right;\">\n",
              "      <th></th>\n",
              "      <th>0</th>\n",
              "      <th>1</th>\n",
              "      <th>2</th>\n",
              "      <th>3</th>\n",
              "      <th>4</th>\n",
              "      <th>5</th>\n",
              "      <th>6</th>\n",
              "      <th>7</th>\n",
              "      <th>8</th>\n",
              "      <th>9</th>\n",
              "      <th>...</th>\n",
              "      <th>32</th>\n",
              "      <th>33</th>\n",
              "      <th>34</th>\n",
              "      <th>35</th>\n",
              "      <th>36</th>\n",
              "      <th>37</th>\n",
              "      <th>38</th>\n",
              "      <th>39</th>\n",
              "      <th>40</th>\n",
              "      <th>41</th>\n",
              "    </tr>\n",
              "  </thead>\n",
              "  <tbody>\n",
              "    <tr>\n",
              "      <th>0</th>\n",
              "      <td>0</td>\n",
              "      <td>tcp</td>\n",
              "      <td>ftp_data</td>\n",
              "      <td>SF</td>\n",
              "      <td>491</td>\n",
              "      <td>0</td>\n",
              "      <td>0</td>\n",
              "      <td>0</td>\n",
              "      <td>0</td>\n",
              "      <td>0</td>\n",
              "      <td>...</td>\n",
              "      <td>25</td>\n",
              "      <td>0.17</td>\n",
              "      <td>0.03</td>\n",
              "      <td>0.17</td>\n",
              "      <td>0.00</td>\n",
              "      <td>0.00</td>\n",
              "      <td>0.00</td>\n",
              "      <td>0.05</td>\n",
              "      <td>0.00</td>\n",
              "      <td>normal</td>\n",
              "    </tr>\n",
              "    <tr>\n",
              "      <th>1</th>\n",
              "      <td>0</td>\n",
              "      <td>udp</td>\n",
              "      <td>other</td>\n",
              "      <td>SF</td>\n",
              "      <td>146</td>\n",
              "      <td>0</td>\n",
              "      <td>0</td>\n",
              "      <td>0</td>\n",
              "      <td>0</td>\n",
              "      <td>0</td>\n",
              "      <td>...</td>\n",
              "      <td>1</td>\n",
              "      <td>0.00</td>\n",
              "      <td>0.60</td>\n",
              "      <td>0.88</td>\n",
              "      <td>0.00</td>\n",
              "      <td>0.00</td>\n",
              "      <td>0.00</td>\n",
              "      <td>0.00</td>\n",
              "      <td>0.00</td>\n",
              "      <td>normal</td>\n",
              "    </tr>\n",
              "    <tr>\n",
              "      <th>2</th>\n",
              "      <td>0</td>\n",
              "      <td>tcp</td>\n",
              "      <td>private</td>\n",
              "      <td>S0</td>\n",
              "      <td>0</td>\n",
              "      <td>0</td>\n",
              "      <td>0</td>\n",
              "      <td>0</td>\n",
              "      <td>0</td>\n",
              "      <td>0</td>\n",
              "      <td>...</td>\n",
              "      <td>26</td>\n",
              "      <td>0.10</td>\n",
              "      <td>0.05</td>\n",
              "      <td>0.00</td>\n",
              "      <td>0.00</td>\n",
              "      <td>1.00</td>\n",
              "      <td>1.00</td>\n",
              "      <td>0.00</td>\n",
              "      <td>0.00</td>\n",
              "      <td>neptune</td>\n",
              "    </tr>\n",
              "    <tr>\n",
              "      <th>3</th>\n",
              "      <td>0</td>\n",
              "      <td>tcp</td>\n",
              "      <td>http</td>\n",
              "      <td>SF</td>\n",
              "      <td>232</td>\n",
              "      <td>8153</td>\n",
              "      <td>0</td>\n",
              "      <td>0</td>\n",
              "      <td>0</td>\n",
              "      <td>0</td>\n",
              "      <td>...</td>\n",
              "      <td>255</td>\n",
              "      <td>1.00</td>\n",
              "      <td>0.00</td>\n",
              "      <td>0.03</td>\n",
              "      <td>0.04</td>\n",
              "      <td>0.03</td>\n",
              "      <td>0.01</td>\n",
              "      <td>0.00</td>\n",
              "      <td>0.01</td>\n",
              "      <td>normal</td>\n",
              "    </tr>\n",
              "    <tr>\n",
              "      <th>4</th>\n",
              "      <td>0</td>\n",
              "      <td>tcp</td>\n",
              "      <td>http</td>\n",
              "      <td>SF</td>\n",
              "      <td>199</td>\n",
              "      <td>420</td>\n",
              "      <td>0</td>\n",
              "      <td>0</td>\n",
              "      <td>0</td>\n",
              "      <td>0</td>\n",
              "      <td>...</td>\n",
              "      <td>255</td>\n",
              "      <td>1.00</td>\n",
              "      <td>0.00</td>\n",
              "      <td>0.00</td>\n",
              "      <td>0.00</td>\n",
              "      <td>0.00</td>\n",
              "      <td>0.00</td>\n",
              "      <td>0.00</td>\n",
              "      <td>0.00</td>\n",
              "      <td>normal</td>\n",
              "    </tr>\n",
              "  </tbody>\n",
              "</table>\n",
              "<p>5 rows × 42 columns</p>\n",
              "</div>\n",
              "      <button class=\"colab-df-convert\" onclick=\"convertToInteractive('df-5edd08e9-e393-4085-b069-d6912ed57286')\"\n",
              "              title=\"Convert this dataframe to an interactive table.\"\n",
              "              style=\"display:none;\">\n",
              "        \n",
              "  <svg xmlns=\"http://www.w3.org/2000/svg\" height=\"24px\"viewBox=\"0 0 24 24\"\n",
              "       width=\"24px\">\n",
              "    <path d=\"M0 0h24v24H0V0z\" fill=\"none\"/>\n",
              "    <path d=\"M18.56 5.44l.94 2.06.94-2.06 2.06-.94-2.06-.94-.94-2.06-.94 2.06-2.06.94zm-11 1L8.5 8.5l.94-2.06 2.06-.94-2.06-.94L8.5 2.5l-.94 2.06-2.06.94zm10 10l.94 2.06.94-2.06 2.06-.94-2.06-.94-.94-2.06-.94 2.06-2.06.94z\"/><path d=\"M17.41 7.96l-1.37-1.37c-.4-.4-.92-.59-1.43-.59-.52 0-1.04.2-1.43.59L10.3 9.45l-7.72 7.72c-.78.78-.78 2.05 0 2.83L4 21.41c.39.39.9.59 1.41.59.51 0 1.02-.2 1.41-.59l7.78-7.78 2.81-2.81c.8-.78.8-2.07 0-2.86zM5.41 20L4 18.59l7.72-7.72 1.47 1.35L5.41 20z\"/>\n",
              "  </svg>\n",
              "      </button>\n",
              "      \n",
              "  <style>\n",
              "    .colab-df-container {\n",
              "      display:flex;\n",
              "      flex-wrap:wrap;\n",
              "      gap: 12px;\n",
              "    }\n",
              "\n",
              "    .colab-df-convert {\n",
              "      background-color: #E8F0FE;\n",
              "      border: none;\n",
              "      border-radius: 50%;\n",
              "      cursor: pointer;\n",
              "      display: none;\n",
              "      fill: #1967D2;\n",
              "      height: 32px;\n",
              "      padding: 0 0 0 0;\n",
              "      width: 32px;\n",
              "    }\n",
              "\n",
              "    .colab-df-convert:hover {\n",
              "      background-color: #E2EBFA;\n",
              "      box-shadow: 0px 1px 2px rgba(60, 64, 67, 0.3), 0px 1px 3px 1px rgba(60, 64, 67, 0.15);\n",
              "      fill: #174EA6;\n",
              "    }\n",
              "\n",
              "    [theme=dark] .colab-df-convert {\n",
              "      background-color: #3B4455;\n",
              "      fill: #D2E3FC;\n",
              "    }\n",
              "\n",
              "    [theme=dark] .colab-df-convert:hover {\n",
              "      background-color: #434B5C;\n",
              "      box-shadow: 0px 1px 3px 1px rgba(0, 0, 0, 0.15);\n",
              "      filter: drop-shadow(0px 1px 2px rgba(0, 0, 0, 0.3));\n",
              "      fill: #FFFFFF;\n",
              "    }\n",
              "  </style>\n",
              "\n",
              "      <script>\n",
              "        const buttonEl =\n",
              "          document.querySelector('#df-5edd08e9-e393-4085-b069-d6912ed57286 button.colab-df-convert');\n",
              "        buttonEl.style.display =\n",
              "          google.colab.kernel.accessAllowed ? 'block' : 'none';\n",
              "\n",
              "        async function convertToInteractive(key) {\n",
              "          const element = document.querySelector('#df-5edd08e9-e393-4085-b069-d6912ed57286');\n",
              "          const dataTable =\n",
              "            await google.colab.kernel.invokeFunction('convertToInteractive',\n",
              "                                                     [key], {});\n",
              "          if (!dataTable) return;\n",
              "\n",
              "          const docLinkHtml = 'Like what you see? Visit the ' +\n",
              "            '<a target=\"_blank\" href=https://colab.research.google.com/notebooks/data_table.ipynb>data table notebook</a>'\n",
              "            + ' to learn more about interactive tables.';\n",
              "          element.innerHTML = '';\n",
              "          dataTable['output_type'] = 'display_data';\n",
              "          await google.colab.output.renderOutput(dataTable, element);\n",
              "          const docLink = document.createElement('div');\n",
              "          docLink.innerHTML = docLinkHtml;\n",
              "          element.appendChild(docLink);\n",
              "        }\n",
              "      </script>\n",
              "    </div>\n",
              "  </div>\n",
              "  "
            ]
          },
          "metadata": {},
          "execution_count": 141
        }
      ],
      "source": [
        "# Peak on the dataset\n",
        "df.drop('42',axis=1, inplace=True)\n",
        "df2.drop('42',axis=1, inplace=True)\n",
        "df.head()"
      ],
      "id": "bfbee834"
    },
    {
      "cell_type": "code",
      "execution_count": 142,
      "metadata": {
        "id": "7debc84a",
        "scrolled": true
      },
      "outputs": [],
      "source": [
        "sub_classes = df.iloc[:,41].value_counts()"
      ],
      "id": "7debc84a"
    },
    {
      "cell_type": "code",
      "execution_count": 143,
      "metadata": {
        "colab": {
          "base_uri": "https://localhost:8080/"
        },
        "id": "46a4fd5b",
        "outputId": "3478d606-ac00-462a-ef78-9e4da98de72c"
      },
      "outputs": [
        {
          "output_type": "stream",
          "name": "stdout",
          "text": [
            "normal             67343\n",
            "neptune            41214\n",
            "satan               3633\n",
            "ipsweep             3599\n",
            "portsweep           2931\n",
            "smurf               2646\n",
            "nmap                1493\n",
            "back                 956\n",
            "teardrop             892\n",
            "warezclient          890\n",
            "pod                  201\n",
            "guess_passwd          53\n",
            "buffer_overflow       30\n",
            "warezmaster           20\n",
            "land                  18\n",
            "imap                  11\n",
            "rootkit               10\n",
            "loadmodule             9\n",
            "ftp_write              8\n",
            "multihop               7\n",
            "phf                    4\n",
            "perl                   3\n",
            "spy                    2\n",
            "Name: 41, dtype: int64\n"
          ]
        }
      ],
      "source": [
        "print(sub_classes)"
      ],
      "id": "46a4fd5b"
    },
    {
      "cell_type": "code",
      "execution_count": 144,
      "metadata": {
        "id": "8gBzAOhUjozz"
      },
      "outputs": [],
      "source": [
        "r2l = ['ftp_write','guess_passwd', 'imap', 'multihop', 'phf', 'spy','warezclient','warezmaster','xlock', 'xsnoop','named',\n",
        "       'sendmail','snmpgetattack', 'snmpguess','httptunnel']\n",
        "u2r = ['buffer_overflow', 'loadmodule','perl','ps','rootkit','sqlattack','xterm']\n",
        "dos = ['back', 'land', 'neptune', 'smurf', 'teardrop','pod','mailbomb', 'processtable','udpstorm', 'worm','apache2']\n",
        "probe = ['ipsweep', 'nmap', 'portsweep', 'satan','saint','mscan']\n",
        "normal = ['normal']"
      ],
      "id": "8gBzAOhUjozz"
    },
    {
      "cell_type": "code",
      "execution_count": 145,
      "metadata": {
        "colab": {
          "base_uri": "https://localhost:8080/",
          "height": 143
        },
        "id": "RRuiCdWOcCrW",
        "outputId": "a8305e45-d704-4dc0-d664-80c9b0594be2"
      },
      "outputs": [
        {
          "output_type": "execute_result",
          "data": {
            "text/plain": [
              "       Train   Test\n",
              "tcp   102689  18880\n",
              "udp    14993   2621\n",
              "icmp    8291   1043"
            ],
            "text/html": [
              "\n",
              "  <div id=\"df-4d0ec595-ad61-4f6d-a559-ea68eb5db0f9\">\n",
              "    <div class=\"colab-df-container\">\n",
              "      <div>\n",
              "<style scoped>\n",
              "    .dataframe tbody tr th:only-of-type {\n",
              "        vertical-align: middle;\n",
              "    }\n",
              "\n",
              "    .dataframe tbody tr th {\n",
              "        vertical-align: top;\n",
              "    }\n",
              "\n",
              "    .dataframe thead th {\n",
              "        text-align: right;\n",
              "    }\n",
              "</style>\n",
              "<table border=\"1\" class=\"dataframe\">\n",
              "  <thead>\n",
              "    <tr style=\"text-align: right;\">\n",
              "      <th></th>\n",
              "      <th>Train</th>\n",
              "      <th>Test</th>\n",
              "    </tr>\n",
              "  </thead>\n",
              "  <tbody>\n",
              "    <tr>\n",
              "      <th>tcp</th>\n",
              "      <td>102689</td>\n",
              "      <td>18880</td>\n",
              "    </tr>\n",
              "    <tr>\n",
              "      <th>udp</th>\n",
              "      <td>14993</td>\n",
              "      <td>2621</td>\n",
              "    </tr>\n",
              "    <tr>\n",
              "      <th>icmp</th>\n",
              "      <td>8291</td>\n",
              "      <td>1043</td>\n",
              "    </tr>\n",
              "  </tbody>\n",
              "</table>\n",
              "</div>\n",
              "      <button class=\"colab-df-convert\" onclick=\"convertToInteractive('df-4d0ec595-ad61-4f6d-a559-ea68eb5db0f9')\"\n",
              "              title=\"Convert this dataframe to an interactive table.\"\n",
              "              style=\"display:none;\">\n",
              "        \n",
              "  <svg xmlns=\"http://www.w3.org/2000/svg\" height=\"24px\"viewBox=\"0 0 24 24\"\n",
              "       width=\"24px\">\n",
              "    <path d=\"M0 0h24v24H0V0z\" fill=\"none\"/>\n",
              "    <path d=\"M18.56 5.44l.94 2.06.94-2.06 2.06-.94-2.06-.94-.94-2.06-.94 2.06-2.06.94zm-11 1L8.5 8.5l.94-2.06 2.06-.94-2.06-.94L8.5 2.5l-.94 2.06-2.06.94zm10 10l.94 2.06.94-2.06 2.06-.94-2.06-.94-.94-2.06-.94 2.06-2.06.94z\"/><path d=\"M17.41 7.96l-1.37-1.37c-.4-.4-.92-.59-1.43-.59-.52 0-1.04.2-1.43.59L10.3 9.45l-7.72 7.72c-.78.78-.78 2.05 0 2.83L4 21.41c.39.39.9.59 1.41.59.51 0 1.02-.2 1.41-.59l7.78-7.78 2.81-2.81c.8-.78.8-2.07 0-2.86zM5.41 20L4 18.59l7.72-7.72 1.47 1.35L5.41 20z\"/>\n",
              "  </svg>\n",
              "      </button>\n",
              "      \n",
              "  <style>\n",
              "    .colab-df-container {\n",
              "      display:flex;\n",
              "      flex-wrap:wrap;\n",
              "      gap: 12px;\n",
              "    }\n",
              "\n",
              "    .colab-df-convert {\n",
              "      background-color: #E8F0FE;\n",
              "      border: none;\n",
              "      border-radius: 50%;\n",
              "      cursor: pointer;\n",
              "      display: none;\n",
              "      fill: #1967D2;\n",
              "      height: 32px;\n",
              "      padding: 0 0 0 0;\n",
              "      width: 32px;\n",
              "    }\n",
              "\n",
              "    .colab-df-convert:hover {\n",
              "      background-color: #E2EBFA;\n",
              "      box-shadow: 0px 1px 2px rgba(60, 64, 67, 0.3), 0px 1px 3px 1px rgba(60, 64, 67, 0.15);\n",
              "      fill: #174EA6;\n",
              "    }\n",
              "\n",
              "    [theme=dark] .colab-df-convert {\n",
              "      background-color: #3B4455;\n",
              "      fill: #D2E3FC;\n",
              "    }\n",
              "\n",
              "    [theme=dark] .colab-df-convert:hover {\n",
              "      background-color: #434B5C;\n",
              "      box-shadow: 0px 1px 3px 1px rgba(0, 0, 0, 0.15);\n",
              "      filter: drop-shadow(0px 1px 2px rgba(0, 0, 0, 0.3));\n",
              "      fill: #FFFFFF;\n",
              "    }\n",
              "  </style>\n",
              "\n",
              "      <script>\n",
              "        const buttonEl =\n",
              "          document.querySelector('#df-4d0ec595-ad61-4f6d-a559-ea68eb5db0f9 button.colab-df-convert');\n",
              "        buttonEl.style.display =\n",
              "          google.colab.kernel.accessAllowed ? 'block' : 'none';\n",
              "\n",
              "        async function convertToInteractive(key) {\n",
              "          const element = document.querySelector('#df-4d0ec595-ad61-4f6d-a559-ea68eb5db0f9');\n",
              "          const dataTable =\n",
              "            await google.colab.kernel.invokeFunction('convertToInteractive',\n",
              "                                                     [key], {});\n",
              "          if (!dataTable) return;\n",
              "\n",
              "          const docLinkHtml = 'Like what you see? Visit the ' +\n",
              "            '<a target=\"_blank\" href=https://colab.research.google.com/notebooks/data_table.ipynb>data table notebook</a>'\n",
              "            + ' to learn more about interactive tables.';\n",
              "          element.innerHTML = '';\n",
              "          dataTable['output_type'] = 'display_data';\n",
              "          await google.colab.output.renderOutput(dataTable, element);\n",
              "          const docLink = document.createElement('div');\n",
              "          docLink.innerHTML = docLinkHtml;\n",
              "          element.appendChild(docLink);\n",
              "        }\n",
              "      </script>\n",
              "    </div>\n",
              "  </div>\n",
              "  "
            ]
          },
          "metadata": {},
          "execution_count": 145
        }
      ],
      "source": [
        "pd.set_option('display.max_rows', None) # or 1000.\n",
        "train_1 = df['1'].value_counts()\n",
        "train_1.rename('Train', inplace=True)\n",
        "test_1 = df2['1'].value_counts()\n",
        "test_1.rename('Test', inplace=True)\n",
        "cnct = pd.concat([train_1, test_1], axis = 1)\n",
        "cnct"
      ],
      "id": "RRuiCdWOcCrW"
    },
    {
      "cell_type": "code",
      "execution_count": 146,
      "metadata": {
        "colab": {
          "base_uri": "https://localhost:8080/",
          "height": 1000
        },
        "id": "NFJBiwv4cXHu",
        "outputId": "8cc4f2e5-a00a-4b71-8b61-0e3785597461"
      },
      "outputs": [
        {
          "output_type": "execute_result",
          "data": {
            "text/plain": [
              "             Train    Test\n",
              "http         40338  7853.0\n",
              "private      21853  4774.0\n",
              "domain_u      9043   894.0\n",
              "smtp          7313   934.0\n",
              "ftp_data      6860   851.0\n",
              "eco_i         4586   262.0\n",
              "other         4359   838.0\n",
              "ecr_i         3077   752.0\n",
              "telnet        2353  1626.0\n",
              "finger        1767   136.0\n",
              "ftp           1754   692.0\n",
              "auth           955    67.0\n",
              "Z39_50         862    45.0\n",
              "uucp           780    50.0\n",
              "courier        734    40.0\n",
              "bgp            710    46.0\n",
              "whois          693    40.0\n",
              "uucp_path      689    46.0\n",
              "iso_tsap       687    48.0\n",
              "time           654    36.0\n",
              "imap4          647   306.0\n",
              "nnsp           630    42.0\n",
              "vmnet          617    43.0\n",
              "urp_i          602    23.0\n",
              "domain         569    51.0\n",
              "ctf            563    41.0\n",
              "csnet_ns       545    34.0\n",
              "supdup         544    27.0\n",
              "discard        538    26.0\n",
              "http_443       530    36.0\n",
              "daytime        521    28.0\n",
              "gopher         518    34.0\n",
              "efs            485    33.0\n",
              "systat         477    32.0\n",
              "link           475    41.0\n",
              "exec           474    27.0\n",
              "hostnames      460    23.0\n",
              "name           451    37.0\n",
              "mtp            439    32.0\n",
              "echo           434    37.0\n",
              "klogin         433    21.0\n",
              "login          429    29.0\n",
              "ldap           410    19.0\n",
              "netbios_dgm    405    25.0\n",
              "sunrpc         381   159.0\n",
              "netbios_ssn    362    15.0\n",
              "netstat        360    26.0\n",
              "netbios_ns     347    36.0\n",
              "ssh            311    26.0\n",
              "kshell         299    24.0\n",
              "nntp           296    21.0\n",
              "pop_3          264  1019.0\n",
              "sql_net        245    18.0\n",
              "IRC            187    13.0\n",
              "ntp_u          168    10.0\n",
              "rje             86     8.0\n",
              "remote_job      78    14.0\n",
              "pop_2           78    13.0\n",
              "X11             73    15.0\n",
              "printer         69    11.0\n",
              "shell           65    16.0\n",
              "urh_i           10     NaN\n",
              "tim_i            8     6.0\n",
              "red_i            8     NaN\n",
              "pm_dump          5    16.0\n",
              "tftp_u           3     1.0\n",
              "http_8001        2     NaN\n",
              "aol              2     NaN\n",
              "harvest          2     NaN\n",
              "http_2784        1     NaN"
            ],
            "text/html": [
              "\n",
              "  <div id=\"df-205e2dd2-3d6d-4447-92d4-212b57e6f3c1\">\n",
              "    <div class=\"colab-df-container\">\n",
              "      <div>\n",
              "<style scoped>\n",
              "    .dataframe tbody tr th:only-of-type {\n",
              "        vertical-align: middle;\n",
              "    }\n",
              "\n",
              "    .dataframe tbody tr th {\n",
              "        vertical-align: top;\n",
              "    }\n",
              "\n",
              "    .dataframe thead th {\n",
              "        text-align: right;\n",
              "    }\n",
              "</style>\n",
              "<table border=\"1\" class=\"dataframe\">\n",
              "  <thead>\n",
              "    <tr style=\"text-align: right;\">\n",
              "      <th></th>\n",
              "      <th>Train</th>\n",
              "      <th>Test</th>\n",
              "    </tr>\n",
              "  </thead>\n",
              "  <tbody>\n",
              "    <tr>\n",
              "      <th>http</th>\n",
              "      <td>40338</td>\n",
              "      <td>7853.0</td>\n",
              "    </tr>\n",
              "    <tr>\n",
              "      <th>private</th>\n",
              "      <td>21853</td>\n",
              "      <td>4774.0</td>\n",
              "    </tr>\n",
              "    <tr>\n",
              "      <th>domain_u</th>\n",
              "      <td>9043</td>\n",
              "      <td>894.0</td>\n",
              "    </tr>\n",
              "    <tr>\n",
              "      <th>smtp</th>\n",
              "      <td>7313</td>\n",
              "      <td>934.0</td>\n",
              "    </tr>\n",
              "    <tr>\n",
              "      <th>ftp_data</th>\n",
              "      <td>6860</td>\n",
              "      <td>851.0</td>\n",
              "    </tr>\n",
              "    <tr>\n",
              "      <th>eco_i</th>\n",
              "      <td>4586</td>\n",
              "      <td>262.0</td>\n",
              "    </tr>\n",
              "    <tr>\n",
              "      <th>other</th>\n",
              "      <td>4359</td>\n",
              "      <td>838.0</td>\n",
              "    </tr>\n",
              "    <tr>\n",
              "      <th>ecr_i</th>\n",
              "      <td>3077</td>\n",
              "      <td>752.0</td>\n",
              "    </tr>\n",
              "    <tr>\n",
              "      <th>telnet</th>\n",
              "      <td>2353</td>\n",
              "      <td>1626.0</td>\n",
              "    </tr>\n",
              "    <tr>\n",
              "      <th>finger</th>\n",
              "      <td>1767</td>\n",
              "      <td>136.0</td>\n",
              "    </tr>\n",
              "    <tr>\n",
              "      <th>ftp</th>\n",
              "      <td>1754</td>\n",
              "      <td>692.0</td>\n",
              "    </tr>\n",
              "    <tr>\n",
              "      <th>auth</th>\n",
              "      <td>955</td>\n",
              "      <td>67.0</td>\n",
              "    </tr>\n",
              "    <tr>\n",
              "      <th>Z39_50</th>\n",
              "      <td>862</td>\n",
              "      <td>45.0</td>\n",
              "    </tr>\n",
              "    <tr>\n",
              "      <th>uucp</th>\n",
              "      <td>780</td>\n",
              "      <td>50.0</td>\n",
              "    </tr>\n",
              "    <tr>\n",
              "      <th>courier</th>\n",
              "      <td>734</td>\n",
              "      <td>40.0</td>\n",
              "    </tr>\n",
              "    <tr>\n",
              "      <th>bgp</th>\n",
              "      <td>710</td>\n",
              "      <td>46.0</td>\n",
              "    </tr>\n",
              "    <tr>\n",
              "      <th>whois</th>\n",
              "      <td>693</td>\n",
              "      <td>40.0</td>\n",
              "    </tr>\n",
              "    <tr>\n",
              "      <th>uucp_path</th>\n",
              "      <td>689</td>\n",
              "      <td>46.0</td>\n",
              "    </tr>\n",
              "    <tr>\n",
              "      <th>iso_tsap</th>\n",
              "      <td>687</td>\n",
              "      <td>48.0</td>\n",
              "    </tr>\n",
              "    <tr>\n",
              "      <th>time</th>\n",
              "      <td>654</td>\n",
              "      <td>36.0</td>\n",
              "    </tr>\n",
              "    <tr>\n",
              "      <th>imap4</th>\n",
              "      <td>647</td>\n",
              "      <td>306.0</td>\n",
              "    </tr>\n",
              "    <tr>\n",
              "      <th>nnsp</th>\n",
              "      <td>630</td>\n",
              "      <td>42.0</td>\n",
              "    </tr>\n",
              "    <tr>\n",
              "      <th>vmnet</th>\n",
              "      <td>617</td>\n",
              "      <td>43.0</td>\n",
              "    </tr>\n",
              "    <tr>\n",
              "      <th>urp_i</th>\n",
              "      <td>602</td>\n",
              "      <td>23.0</td>\n",
              "    </tr>\n",
              "    <tr>\n",
              "      <th>domain</th>\n",
              "      <td>569</td>\n",
              "      <td>51.0</td>\n",
              "    </tr>\n",
              "    <tr>\n",
              "      <th>ctf</th>\n",
              "      <td>563</td>\n",
              "      <td>41.0</td>\n",
              "    </tr>\n",
              "    <tr>\n",
              "      <th>csnet_ns</th>\n",
              "      <td>545</td>\n",
              "      <td>34.0</td>\n",
              "    </tr>\n",
              "    <tr>\n",
              "      <th>supdup</th>\n",
              "      <td>544</td>\n",
              "      <td>27.0</td>\n",
              "    </tr>\n",
              "    <tr>\n",
              "      <th>discard</th>\n",
              "      <td>538</td>\n",
              "      <td>26.0</td>\n",
              "    </tr>\n",
              "    <tr>\n",
              "      <th>http_443</th>\n",
              "      <td>530</td>\n",
              "      <td>36.0</td>\n",
              "    </tr>\n",
              "    <tr>\n",
              "      <th>daytime</th>\n",
              "      <td>521</td>\n",
              "      <td>28.0</td>\n",
              "    </tr>\n",
              "    <tr>\n",
              "      <th>gopher</th>\n",
              "      <td>518</td>\n",
              "      <td>34.0</td>\n",
              "    </tr>\n",
              "    <tr>\n",
              "      <th>efs</th>\n",
              "      <td>485</td>\n",
              "      <td>33.0</td>\n",
              "    </tr>\n",
              "    <tr>\n",
              "      <th>systat</th>\n",
              "      <td>477</td>\n",
              "      <td>32.0</td>\n",
              "    </tr>\n",
              "    <tr>\n",
              "      <th>link</th>\n",
              "      <td>475</td>\n",
              "      <td>41.0</td>\n",
              "    </tr>\n",
              "    <tr>\n",
              "      <th>exec</th>\n",
              "      <td>474</td>\n",
              "      <td>27.0</td>\n",
              "    </tr>\n",
              "    <tr>\n",
              "      <th>hostnames</th>\n",
              "      <td>460</td>\n",
              "      <td>23.0</td>\n",
              "    </tr>\n",
              "    <tr>\n",
              "      <th>name</th>\n",
              "      <td>451</td>\n",
              "      <td>37.0</td>\n",
              "    </tr>\n",
              "    <tr>\n",
              "      <th>mtp</th>\n",
              "      <td>439</td>\n",
              "      <td>32.0</td>\n",
              "    </tr>\n",
              "    <tr>\n",
              "      <th>echo</th>\n",
              "      <td>434</td>\n",
              "      <td>37.0</td>\n",
              "    </tr>\n",
              "    <tr>\n",
              "      <th>klogin</th>\n",
              "      <td>433</td>\n",
              "      <td>21.0</td>\n",
              "    </tr>\n",
              "    <tr>\n",
              "      <th>login</th>\n",
              "      <td>429</td>\n",
              "      <td>29.0</td>\n",
              "    </tr>\n",
              "    <tr>\n",
              "      <th>ldap</th>\n",
              "      <td>410</td>\n",
              "      <td>19.0</td>\n",
              "    </tr>\n",
              "    <tr>\n",
              "      <th>netbios_dgm</th>\n",
              "      <td>405</td>\n",
              "      <td>25.0</td>\n",
              "    </tr>\n",
              "    <tr>\n",
              "      <th>sunrpc</th>\n",
              "      <td>381</td>\n",
              "      <td>159.0</td>\n",
              "    </tr>\n",
              "    <tr>\n",
              "      <th>netbios_ssn</th>\n",
              "      <td>362</td>\n",
              "      <td>15.0</td>\n",
              "    </tr>\n",
              "    <tr>\n",
              "      <th>netstat</th>\n",
              "      <td>360</td>\n",
              "      <td>26.0</td>\n",
              "    </tr>\n",
              "    <tr>\n",
              "      <th>netbios_ns</th>\n",
              "      <td>347</td>\n",
              "      <td>36.0</td>\n",
              "    </tr>\n",
              "    <tr>\n",
              "      <th>ssh</th>\n",
              "      <td>311</td>\n",
              "      <td>26.0</td>\n",
              "    </tr>\n",
              "    <tr>\n",
              "      <th>kshell</th>\n",
              "      <td>299</td>\n",
              "      <td>24.0</td>\n",
              "    </tr>\n",
              "    <tr>\n",
              "      <th>nntp</th>\n",
              "      <td>296</td>\n",
              "      <td>21.0</td>\n",
              "    </tr>\n",
              "    <tr>\n",
              "      <th>pop_3</th>\n",
              "      <td>264</td>\n",
              "      <td>1019.0</td>\n",
              "    </tr>\n",
              "    <tr>\n",
              "      <th>sql_net</th>\n",
              "      <td>245</td>\n",
              "      <td>18.0</td>\n",
              "    </tr>\n",
              "    <tr>\n",
              "      <th>IRC</th>\n",
              "      <td>187</td>\n",
              "      <td>13.0</td>\n",
              "    </tr>\n",
              "    <tr>\n",
              "      <th>ntp_u</th>\n",
              "      <td>168</td>\n",
              "      <td>10.0</td>\n",
              "    </tr>\n",
              "    <tr>\n",
              "      <th>rje</th>\n",
              "      <td>86</td>\n",
              "      <td>8.0</td>\n",
              "    </tr>\n",
              "    <tr>\n",
              "      <th>remote_job</th>\n",
              "      <td>78</td>\n",
              "      <td>14.0</td>\n",
              "    </tr>\n",
              "    <tr>\n",
              "      <th>pop_2</th>\n",
              "      <td>78</td>\n",
              "      <td>13.0</td>\n",
              "    </tr>\n",
              "    <tr>\n",
              "      <th>X11</th>\n",
              "      <td>73</td>\n",
              "      <td>15.0</td>\n",
              "    </tr>\n",
              "    <tr>\n",
              "      <th>printer</th>\n",
              "      <td>69</td>\n",
              "      <td>11.0</td>\n",
              "    </tr>\n",
              "    <tr>\n",
              "      <th>shell</th>\n",
              "      <td>65</td>\n",
              "      <td>16.0</td>\n",
              "    </tr>\n",
              "    <tr>\n",
              "      <th>urh_i</th>\n",
              "      <td>10</td>\n",
              "      <td>NaN</td>\n",
              "    </tr>\n",
              "    <tr>\n",
              "      <th>tim_i</th>\n",
              "      <td>8</td>\n",
              "      <td>6.0</td>\n",
              "    </tr>\n",
              "    <tr>\n",
              "      <th>red_i</th>\n",
              "      <td>8</td>\n",
              "      <td>NaN</td>\n",
              "    </tr>\n",
              "    <tr>\n",
              "      <th>pm_dump</th>\n",
              "      <td>5</td>\n",
              "      <td>16.0</td>\n",
              "    </tr>\n",
              "    <tr>\n",
              "      <th>tftp_u</th>\n",
              "      <td>3</td>\n",
              "      <td>1.0</td>\n",
              "    </tr>\n",
              "    <tr>\n",
              "      <th>http_8001</th>\n",
              "      <td>2</td>\n",
              "      <td>NaN</td>\n",
              "    </tr>\n",
              "    <tr>\n",
              "      <th>aol</th>\n",
              "      <td>2</td>\n",
              "      <td>NaN</td>\n",
              "    </tr>\n",
              "    <tr>\n",
              "      <th>harvest</th>\n",
              "      <td>2</td>\n",
              "      <td>NaN</td>\n",
              "    </tr>\n",
              "    <tr>\n",
              "      <th>http_2784</th>\n",
              "      <td>1</td>\n",
              "      <td>NaN</td>\n",
              "    </tr>\n",
              "  </tbody>\n",
              "</table>\n",
              "</div>\n",
              "      <button class=\"colab-df-convert\" onclick=\"convertToInteractive('df-205e2dd2-3d6d-4447-92d4-212b57e6f3c1')\"\n",
              "              title=\"Convert this dataframe to an interactive table.\"\n",
              "              style=\"display:none;\">\n",
              "        \n",
              "  <svg xmlns=\"http://www.w3.org/2000/svg\" height=\"24px\"viewBox=\"0 0 24 24\"\n",
              "       width=\"24px\">\n",
              "    <path d=\"M0 0h24v24H0V0z\" fill=\"none\"/>\n",
              "    <path d=\"M18.56 5.44l.94 2.06.94-2.06 2.06-.94-2.06-.94-.94-2.06-.94 2.06-2.06.94zm-11 1L8.5 8.5l.94-2.06 2.06-.94-2.06-.94L8.5 2.5l-.94 2.06-2.06.94zm10 10l.94 2.06.94-2.06 2.06-.94-2.06-.94-.94-2.06-.94 2.06-2.06.94z\"/><path d=\"M17.41 7.96l-1.37-1.37c-.4-.4-.92-.59-1.43-.59-.52 0-1.04.2-1.43.59L10.3 9.45l-7.72 7.72c-.78.78-.78 2.05 0 2.83L4 21.41c.39.39.9.59 1.41.59.51 0 1.02-.2 1.41-.59l7.78-7.78 2.81-2.81c.8-.78.8-2.07 0-2.86zM5.41 20L4 18.59l7.72-7.72 1.47 1.35L5.41 20z\"/>\n",
              "  </svg>\n",
              "      </button>\n",
              "      \n",
              "  <style>\n",
              "    .colab-df-container {\n",
              "      display:flex;\n",
              "      flex-wrap:wrap;\n",
              "      gap: 12px;\n",
              "    }\n",
              "\n",
              "    .colab-df-convert {\n",
              "      background-color: #E8F0FE;\n",
              "      border: none;\n",
              "      border-radius: 50%;\n",
              "      cursor: pointer;\n",
              "      display: none;\n",
              "      fill: #1967D2;\n",
              "      height: 32px;\n",
              "      padding: 0 0 0 0;\n",
              "      width: 32px;\n",
              "    }\n",
              "\n",
              "    .colab-df-convert:hover {\n",
              "      background-color: #E2EBFA;\n",
              "      box-shadow: 0px 1px 2px rgba(60, 64, 67, 0.3), 0px 1px 3px 1px rgba(60, 64, 67, 0.15);\n",
              "      fill: #174EA6;\n",
              "    }\n",
              "\n",
              "    [theme=dark] .colab-df-convert {\n",
              "      background-color: #3B4455;\n",
              "      fill: #D2E3FC;\n",
              "    }\n",
              "\n",
              "    [theme=dark] .colab-df-convert:hover {\n",
              "      background-color: #434B5C;\n",
              "      box-shadow: 0px 1px 3px 1px rgba(0, 0, 0, 0.15);\n",
              "      filter: drop-shadow(0px 1px 2px rgba(0, 0, 0, 0.3));\n",
              "      fill: #FFFFFF;\n",
              "    }\n",
              "  </style>\n",
              "\n",
              "      <script>\n",
              "        const buttonEl =\n",
              "          document.querySelector('#df-205e2dd2-3d6d-4447-92d4-212b57e6f3c1 button.colab-df-convert');\n",
              "        buttonEl.style.display =\n",
              "          google.colab.kernel.accessAllowed ? 'block' : 'none';\n",
              "\n",
              "        async function convertToInteractive(key) {\n",
              "          const element = document.querySelector('#df-205e2dd2-3d6d-4447-92d4-212b57e6f3c1');\n",
              "          const dataTable =\n",
              "            await google.colab.kernel.invokeFunction('convertToInteractive',\n",
              "                                                     [key], {});\n",
              "          if (!dataTable) return;\n",
              "\n",
              "          const docLinkHtml = 'Like what you see? Visit the ' +\n",
              "            '<a target=\"_blank\" href=https://colab.research.google.com/notebooks/data_table.ipynb>data table notebook</a>'\n",
              "            + ' to learn more about interactive tables.';\n",
              "          element.innerHTML = '';\n",
              "          dataTable['output_type'] = 'display_data';\n",
              "          await google.colab.output.renderOutput(dataTable, element);\n",
              "          const docLink = document.createElement('div');\n",
              "          docLink.innerHTML = docLinkHtml;\n",
              "          element.appendChild(docLink);\n",
              "        }\n",
              "      </script>\n",
              "    </div>\n",
              "  </div>\n",
              "  "
            ]
          },
          "metadata": {},
          "execution_count": 146
        }
      ],
      "source": [
        "train_2 = df['2'].value_counts()\n",
        "train_2.rename('Train', inplace=True)\n",
        "test_2 = df2['2'].value_counts()\n",
        "test_2.rename('Test', inplace=True)\n",
        "cnct = pd.concat([train_2, test_2], axis = 1)\n",
        "cnct"
      ],
      "id": "NFJBiwv4cXHu"
    },
    {
      "cell_type": "code",
      "execution_count": 147,
      "metadata": {
        "colab": {
          "base_uri": "https://localhost:8080/",
          "height": 394
        },
        "id": "OfdiwlCReLRJ",
        "outputId": "c7f1db09-08d0-4c46-f0fa-2a4f5ad46938"
      },
      "outputs": [
        {
          "output_type": "execute_result",
          "data": {
            "text/plain": [
              "        Train   Test\n",
              "SF      74945  14875\n",
              "S0      34851   2013\n",
              "REJ     11233   3850\n",
              "RSTR     2421    669\n",
              "RSTO     1562    773\n",
              "S1        365     21\n",
              "SH        271     73\n",
              "S2        127     15\n",
              "RSTOS0    103      2\n",
              "S3         49    249\n",
              "OTH        46      4"
            ],
            "text/html": [
              "\n",
              "  <div id=\"df-93716888-fab9-4860-a969-70136fc4d3db\">\n",
              "    <div class=\"colab-df-container\">\n",
              "      <div>\n",
              "<style scoped>\n",
              "    .dataframe tbody tr th:only-of-type {\n",
              "        vertical-align: middle;\n",
              "    }\n",
              "\n",
              "    .dataframe tbody tr th {\n",
              "        vertical-align: top;\n",
              "    }\n",
              "\n",
              "    .dataframe thead th {\n",
              "        text-align: right;\n",
              "    }\n",
              "</style>\n",
              "<table border=\"1\" class=\"dataframe\">\n",
              "  <thead>\n",
              "    <tr style=\"text-align: right;\">\n",
              "      <th></th>\n",
              "      <th>Train</th>\n",
              "      <th>Test</th>\n",
              "    </tr>\n",
              "  </thead>\n",
              "  <tbody>\n",
              "    <tr>\n",
              "      <th>SF</th>\n",
              "      <td>74945</td>\n",
              "      <td>14875</td>\n",
              "    </tr>\n",
              "    <tr>\n",
              "      <th>S0</th>\n",
              "      <td>34851</td>\n",
              "      <td>2013</td>\n",
              "    </tr>\n",
              "    <tr>\n",
              "      <th>REJ</th>\n",
              "      <td>11233</td>\n",
              "      <td>3850</td>\n",
              "    </tr>\n",
              "    <tr>\n",
              "      <th>RSTR</th>\n",
              "      <td>2421</td>\n",
              "      <td>669</td>\n",
              "    </tr>\n",
              "    <tr>\n",
              "      <th>RSTO</th>\n",
              "      <td>1562</td>\n",
              "      <td>773</td>\n",
              "    </tr>\n",
              "    <tr>\n",
              "      <th>S1</th>\n",
              "      <td>365</td>\n",
              "      <td>21</td>\n",
              "    </tr>\n",
              "    <tr>\n",
              "      <th>SH</th>\n",
              "      <td>271</td>\n",
              "      <td>73</td>\n",
              "    </tr>\n",
              "    <tr>\n",
              "      <th>S2</th>\n",
              "      <td>127</td>\n",
              "      <td>15</td>\n",
              "    </tr>\n",
              "    <tr>\n",
              "      <th>RSTOS0</th>\n",
              "      <td>103</td>\n",
              "      <td>2</td>\n",
              "    </tr>\n",
              "    <tr>\n",
              "      <th>S3</th>\n",
              "      <td>49</td>\n",
              "      <td>249</td>\n",
              "    </tr>\n",
              "    <tr>\n",
              "      <th>OTH</th>\n",
              "      <td>46</td>\n",
              "      <td>4</td>\n",
              "    </tr>\n",
              "  </tbody>\n",
              "</table>\n",
              "</div>\n",
              "      <button class=\"colab-df-convert\" onclick=\"convertToInteractive('df-93716888-fab9-4860-a969-70136fc4d3db')\"\n",
              "              title=\"Convert this dataframe to an interactive table.\"\n",
              "              style=\"display:none;\">\n",
              "        \n",
              "  <svg xmlns=\"http://www.w3.org/2000/svg\" height=\"24px\"viewBox=\"0 0 24 24\"\n",
              "       width=\"24px\">\n",
              "    <path d=\"M0 0h24v24H0V0z\" fill=\"none\"/>\n",
              "    <path d=\"M18.56 5.44l.94 2.06.94-2.06 2.06-.94-2.06-.94-.94-2.06-.94 2.06-2.06.94zm-11 1L8.5 8.5l.94-2.06 2.06-.94-2.06-.94L8.5 2.5l-.94 2.06-2.06.94zm10 10l.94 2.06.94-2.06 2.06-.94-2.06-.94-.94-2.06-.94 2.06-2.06.94z\"/><path d=\"M17.41 7.96l-1.37-1.37c-.4-.4-.92-.59-1.43-.59-.52 0-1.04.2-1.43.59L10.3 9.45l-7.72 7.72c-.78.78-.78 2.05 0 2.83L4 21.41c.39.39.9.59 1.41.59.51 0 1.02-.2 1.41-.59l7.78-7.78 2.81-2.81c.8-.78.8-2.07 0-2.86zM5.41 20L4 18.59l7.72-7.72 1.47 1.35L5.41 20z\"/>\n",
              "  </svg>\n",
              "      </button>\n",
              "      \n",
              "  <style>\n",
              "    .colab-df-container {\n",
              "      display:flex;\n",
              "      flex-wrap:wrap;\n",
              "      gap: 12px;\n",
              "    }\n",
              "\n",
              "    .colab-df-convert {\n",
              "      background-color: #E8F0FE;\n",
              "      border: none;\n",
              "      border-radius: 50%;\n",
              "      cursor: pointer;\n",
              "      display: none;\n",
              "      fill: #1967D2;\n",
              "      height: 32px;\n",
              "      padding: 0 0 0 0;\n",
              "      width: 32px;\n",
              "    }\n",
              "\n",
              "    .colab-df-convert:hover {\n",
              "      background-color: #E2EBFA;\n",
              "      box-shadow: 0px 1px 2px rgba(60, 64, 67, 0.3), 0px 1px 3px 1px rgba(60, 64, 67, 0.15);\n",
              "      fill: #174EA6;\n",
              "    }\n",
              "\n",
              "    [theme=dark] .colab-df-convert {\n",
              "      background-color: #3B4455;\n",
              "      fill: #D2E3FC;\n",
              "    }\n",
              "\n",
              "    [theme=dark] .colab-df-convert:hover {\n",
              "      background-color: #434B5C;\n",
              "      box-shadow: 0px 1px 3px 1px rgba(0, 0, 0, 0.15);\n",
              "      filter: drop-shadow(0px 1px 2px rgba(0, 0, 0, 0.3));\n",
              "      fill: #FFFFFF;\n",
              "    }\n",
              "  </style>\n",
              "\n",
              "      <script>\n",
              "        const buttonEl =\n",
              "          document.querySelector('#df-93716888-fab9-4860-a969-70136fc4d3db button.colab-df-convert');\n",
              "        buttonEl.style.display =\n",
              "          google.colab.kernel.accessAllowed ? 'block' : 'none';\n",
              "\n",
              "        async function convertToInteractive(key) {\n",
              "          const element = document.querySelector('#df-93716888-fab9-4860-a969-70136fc4d3db');\n",
              "          const dataTable =\n",
              "            await google.colab.kernel.invokeFunction('convertToInteractive',\n",
              "                                                     [key], {});\n",
              "          if (!dataTable) return;\n",
              "\n",
              "          const docLinkHtml = 'Like what you see? Visit the ' +\n",
              "            '<a target=\"_blank\" href=https://colab.research.google.com/notebooks/data_table.ipynb>data table notebook</a>'\n",
              "            + ' to learn more about interactive tables.';\n",
              "          element.innerHTML = '';\n",
              "          dataTable['output_type'] = 'display_data';\n",
              "          await google.colab.output.renderOutput(dataTable, element);\n",
              "          const docLink = document.createElement('div');\n",
              "          docLink.innerHTML = docLinkHtml;\n",
              "          element.appendChild(docLink);\n",
              "        }\n",
              "      </script>\n",
              "    </div>\n",
              "  </div>\n",
              "  "
            ]
          },
          "metadata": {},
          "execution_count": 147
        }
      ],
      "source": [
        "train_3 = df['3'].value_counts()\n",
        "train_3.rename('Train', inplace=True)\n",
        "test_3 = df2['3'].value_counts()\n",
        "test_3.rename('Test', inplace=True)\n",
        "cnct = pd.concat([train_3, test_3], axis = 1)\n",
        "cnct"
      ],
      "id": "OfdiwlCReLRJ"
    },
    {
      "cell_type": "code",
      "execution_count": 148,
      "metadata": {
        "id": "CtWrB74-g9rp"
      },
      "outputs": [],
      "source": [
        "df_X = df.drop('41', axis=1)\n",
        "le = LabelEncoder()\n",
        "for i in df_X:\n",
        "  if df_X[i].dtype=='object':\n",
        "    le.fit(df_X[i])\n",
        "    df_X[i] = le.transform(df_X[i])\n",
        "    df2[i] = le.transform(df2[i])\n",
        "df.iloc[:,:40] = df_X"
      ],
      "id": "CtWrB74-g9rp"
    },
    {
      "cell_type": "code",
      "execution_count": 149,
      "metadata": {
        "id": "B_QBteI3FboO"
      },
      "outputs": [],
      "source": [
        "df.iloc[:,:40] = normalize_data(df.iloc[:,:40])\n",
        "df2.iloc[:,:40] = normalize_data(df2.iloc[:,:40])"
      ],
      "id": "B_QBteI3FboO"
    },
    {
      "cell_type": "code",
      "execution_count": 150,
      "metadata": {
        "id": "dDY2mxULlf8W"
      },
      "outputs": [],
      "source": [
        "u2r_attacks = df[df['41'].apply(lambda x: x in u2r)].copy()\n",
        "r2l_attacks = df[df['41'].apply(lambda x: x in r2l)].copy()\n",
        "dos_attacks = df[df['41'].apply(lambda x: x in dos)].copy()\n",
        "probe_attacks = df[df['41'].apply(lambda x: x in probe)].copy()\n",
        "normal_traffic = df[df['41'].apply(lambda x: x in normal)].copy()\n",
        "\n",
        "df['41'] = df['41'].map(\n",
        "    lambda x: 'malicious' if x in r2l \n",
        "    else 'malicious' if x in u2r \n",
        "    else 'malicious' if x in dos \n",
        "    else 'malicious' if x in probe \n",
        "    else 'normal' if x is 'normal'\n",
        "    else x\n",
        "    )\n",
        "\n",
        "df2['41'] = df2['41'].map(\n",
        "    lambda x: 'malicious' if x in r2l \n",
        "    else 'malicious' if x in u2r \n",
        "    else 'malicious' if x in dos \n",
        "    else 'malicious' if x in probe \n",
        "    else 'normal' if x is 'normal'\n",
        "    else x\n",
        "    )"
      ],
      "id": "dDY2mxULlf8W"
    },
    {
      "cell_type": "markdown",
      "metadata": {
        "id": "lc4aEOflw528"
      },
      "source": [
        "### Training set value counts"
      ],
      "id": "lc4aEOflw528"
    },
    {
      "cell_type": "code",
      "execution_count": 151,
      "metadata": {
        "colab": {
          "base_uri": "https://localhost:8080/"
        },
        "id": "UEFVMzAOgiLk",
        "outputId": "a80fb241-e238-4543-e9fc-38ec1e220f9a"
      },
      "outputs": [
        {
          "output_type": "execute_result",
          "data": {
            "text/plain": [
              "normal       67343\n",
              "malicious    58630\n",
              "Name: 41, dtype: int64"
            ]
          },
          "metadata": {},
          "execution_count": 151
        }
      ],
      "source": [
        "df['41'].value_counts()"
      ],
      "id": "UEFVMzAOgiLk"
    },
    {
      "cell_type": "markdown",
      "metadata": {
        "id": "v7WffV5JxAev"
      },
      "source": [
        "### Testing set value counts"
      ],
      "id": "v7WffV5JxAev"
    },
    {
      "cell_type": "code",
      "execution_count": 152,
      "metadata": {
        "colab": {
          "base_uri": "https://localhost:8080/"
        },
        "id": "rXFth6dhpqQ2",
        "outputId": "5d6a436a-b9f8-4a30-8f54-ea73589874a6"
      },
      "outputs": [
        {
          "output_type": "stream",
          "name": "stdout",
          "text": [
            "malicious    12833\n",
            "normal        9711\n",
            "Name: 41, dtype: int64\n"
          ]
        }
      ],
      "source": [
        "print(df2['41'].value_counts())"
      ],
      "id": "rXFth6dhpqQ2"
    },
    {
      "cell_type": "code",
      "execution_count": 153,
      "metadata": {
        "id": "e613e569"
      },
      "outputs": [],
      "source": [
        "#In case of multi-class classification\n",
        "#df_Y = le.fit(df['41']).transform(df['41'])\n",
        "#df.iloc[:,41] = df_Y\n",
        "#df_Y = le.transform(df2['41'])\n",
        "#df2.iloc[:,41] = df_Y\n",
        "\n",
        "#In case of binary classification\n",
        "df.iloc[:,41] = df['41'].map(lambda x: 0 if x=='normal' else 1)\n",
        "df2.iloc[:,41] = df2['41'].map(lambda x: 0 if x=='normal' else 1)\n",
        "\n",
        "X_train = df.drop(['41'],axis=1)\n",
        "y_train = df['41']\n",
        "\n",
        "X_test = df2.drop(['41'],axis=1)\n",
        "y_test = df2['41']\n",
        "X_test = torch.tensor(np.array(X_test), dtype=torch.float, device=device)"
      ],
      "id": "e613e569"
    },
    {
      "cell_type": "markdown",
      "metadata": {
        "id": "sjvMDNKmLxVk"
      },
      "source": [
        "**Creating TensorDatasets**"
      ],
      "id": "sjvMDNKmLxVk"
    },
    {
      "cell_type": "code",
      "execution_count": 154,
      "metadata": {
        "colab": {
          "base_uri": "https://localhost:8080/"
        },
        "id": "BGSzLNqmH31k",
        "outputId": "b3914268-9b4c-41e3-c8f7-6261c1a66f6b"
      },
      "outputs": [
        {
          "output_type": "stream",
          "name": "stderr",
          "text": [
            "/usr/local/lib/python3.7/dist-packages/ipykernel_launcher.py:6: UserWarning: To copy construct from a tensor, it is recommended to use sourceTensor.clone().detach() or sourceTensor.clone().detach().requires_grad_(True), rather than torch.tensor(sourceTensor).\n",
            "  \n"
          ]
        }
      ],
      "source": [
        "r2l_dataset = create_dataloader(r2l_attacks, None, batch_size = 64)\n",
        "u2r_dataset = create_dataloader(u2r_attacks, None, batch_size = 64)\n",
        "dos_dataset = create_dataloader(dos_attacks, None, batch_size = 64)\n",
        "probe_dataset = create_dataloader(probe_attacks, None, batch_size = 64)\n",
        "normal_dataset = create_dataloader(normal_traffic, None, batch_size = 64)"
      ],
      "id": "BGSzLNqmH31k"
    },
    {
      "cell_type": "code",
      "execution_count": 155,
      "metadata": {
        "colab": {
          "base_uri": "https://localhost:8080/"
        },
        "id": "bjwy9_5sbVXK",
        "outputId": "8ee6293b-b312-4fb9-c609-4759d5b43228"
      },
      "outputs": [
        {
          "output_type": "execute_result",
          "data": {
            "text/plain": [
              "<All keys matched successfully>"
            ]
          },
          "metadata": {},
          "execution_count": 155
        }
      ],
      "source": [
        "r2l_generator = Generator(100,41)\n",
        "r2l_generator.load_state_dict(torch.load('../models/r2l_gen.pt'))\n",
        "u2r_generator = Generator(100,41)\n",
        "u2r_generator.load_state_dict(torch.load('../models/u2r_gen.pt'))\n",
        "dos_generator = Generator(100,41)\n",
        "dos_generator.load_state_dict(torch.load('../models/dos_gen.pt'))\n",
        "probe_generator = Generator(100,41)\n",
        "probe_generator.load_state_dict(torch.load('../models/probe_gen.pt'))\n",
        "normal_generator = Generator(100,41)\n",
        "normal_generator.load_state_dict(torch.load('../models/normal_gen.pt'))"
      ],
      "id": "bjwy9_5sbVXK"
    },
    {
      "cell_type": "code",
      "execution_count": 156,
      "metadata": {
        "colab": {
          "base_uri": "https://localhost:8080/"
        },
        "id": "S6yvL_v0oRji",
        "outputId": "7ac1919d-2e9e-49a9-b5b6-40d1852d8981"
      },
      "outputs": [
        {
          "output_type": "execute_result",
          "data": {
            "text/plain": [
              "((995, 42), (11656, 42))"
            ]
          },
          "metadata": {},
          "execution_count": 156
        }
      ],
      "source": [
        "r2l_attacks.shape, probe_attacks.shape"
      ],
      "id": "S6yvL_v0oRji"
    },
    {
      "cell_type": "code",
      "execution_count": 157,
      "metadata": {
        "id": "34FEtROXf_5d"
      },
      "outputs": [],
      "source": [
        "sample_space = 20000\n",
        "total_attacks = sample_space * 4\n",
        "r2l_req = 0 if sample_space <= r2l_attacks.shape[0] else sample_space - r2l_attacks.shape[0]\n",
        "probe_req = 0 if sample_space <= probe_attacks.shape[0] else sample_space - probe_attacks.shape[0]\n",
        "dos_req = 0 if sample_space <= dos_attacks.shape[0] else sample_space - dos_attacks.shape[0]\n",
        "u2r_req = 0 if sample_space <= u2r_attacks.shape[0] else sample_space - u2r_attacks.shape[0]\n",
        "normal_req = 0 if total_attacks <= normal_traffic.shape[0] else total_attacks - normal_traffic.shape[0]"
      ],
      "id": "34FEtROXf_5d"
    },
    {
      "cell_type": "code",
      "execution_count": 158,
      "metadata": {
        "id": "wFzk4DuyMF9m"
      },
      "outputs": [],
      "source": [
        "r2l_generated = generate_data(generator=r2l_generator, num_instances=r2l_req, z_dim=100)\n",
        "u2r_generated = generate_data(generator=u2r_generator, num_instances=u2r_req, z_dim=100)\n",
        "dos_generated = generate_data(generator=dos_generator, num_instances=dos_req, z_dim=100)\n",
        "probe_generated = generate_data(generator=probe_generator, num_instances=probe_req, z_dim=100)\n",
        "normal_generated = generate_data(generator=normal_generator, num_instances=normal_req, z_dim=100)"
      ],
      "id": "wFzk4DuyMF9m"
    },
    {
      "cell_type": "code",
      "execution_count": 159,
      "metadata": {
        "colab": {
          "base_uri": "https://localhost:8080/"
        },
        "id": "_eSqN6fu2Fml",
        "outputId": "93b5bbcc-3977-4fa5-acbe-bf612bdac27c"
      },
      "outputs": [
        {
          "output_type": "execute_result",
          "data": {
            "text/plain": [
              "torch.Size([19005, 41])"
            ]
          },
          "metadata": {},
          "execution_count": 159
        }
      ],
      "source": [
        "r2l_generated.shape"
      ],
      "id": "_eSqN6fu2Fml"
    },
    {
      "cell_type": "code",
      "execution_count": 160,
      "metadata": {
        "id": "WN32Jmi13Unz"
      },
      "outputs": [],
      "source": [
        "r2l_generated = pd.DataFrame(r2l_generated.detach().numpy())\n",
        "u2r_generated = pd.DataFrame(u2r_generated.detach().numpy())\n",
        "dos_generated = pd.DataFrame(dos_generated.detach().numpy())\n",
        "probe_generated = pd.DataFrame(probe_generated.detach().numpy())\n",
        "normal_generated = pd.DataFrame(normal_generated.detach().numpy())"
      ],
      "id": "WN32Jmi13Unz"
    },
    {
      "cell_type": "code",
      "execution_count": 161,
      "metadata": {
        "id": "8ToRjZdjzPDQ"
      },
      "outputs": [],
      "source": [
        "r2l_attacks.columns = [i for i in range(df.shape[1])]\n",
        "r2l_attacks = r2l_attacks.append(r2l_generated)\n",
        "u2r_attacks.columns = [i for i in range(df.shape[1])]\n",
        "u2r_attacks = u2r_attacks.append(u2r_generated)\n",
        "dos_attacks.columns = [i for i in range(df.shape[1])]\n",
        "dos_attacks = dos_attacks.append(dos_generated)[:sample_space]\n",
        "probe_attacks.columns = [i for i in range(df.shape[1])]\n",
        "probe_attacks = probe_attacks.append(probe_generated)\n",
        "normal_traffic.columns = [i for i in range(df.shape[1])]\n",
        "normal_traffic = normal_traffic.append(normal_generated)[:total_attacks]"
      ],
      "id": "8ToRjZdjzPDQ"
    },
    {
      "cell_type": "code",
      "execution_count": 162,
      "metadata": {
        "id": "RKudtdfr4LCo"
      },
      "outputs": [],
      "source": [
        "def create_stratified_dataset(x, sample_space):\n",
        "  dataset = []\n",
        "\n",
        "  x[0].iloc[:,41] = 1\n",
        "  x[1].iloc[:,41] = 1\n",
        "  x[2].iloc[:,41] = 1\n",
        "  x[3].iloc[:,41] = 1\n",
        "\n",
        "  x[0] = x[0].to_numpy()\n",
        "  x[1] = x[1].to_numpy()\n",
        "  x[2] = x[2].to_numpy()\n",
        "  x[3] = x[3].to_numpy()\n",
        "  x[4] = x[4].to_numpy()\n",
        "\n",
        "  for i in range(sample_space):\n",
        "    dataset.append(x[0][i])\n",
        "    dataset.append(x[1][i])\n",
        "    dataset.append(x[2][i])\n",
        "    dataset.append(x[3][i])\n",
        "    dataset.append(x[4][i])\n",
        "    \n",
        "  return pd.DataFrame(dataset, columns=[str(i) for i in range(42)])"
      ],
      "id": "RKudtdfr4LCo"
    },
    {
      "cell_type": "code",
      "execution_count": 163,
      "metadata": {
        "id": "gBOc4FCif72h"
      },
      "outputs": [],
      "source": [
        "dataset = pd.concat([r2l_attacks, u2r_attacks, dos_attacks, probe_attacks], axis=0)\n",
        "dataset.columns = [str(i) for i in range(len(dataset.columns))]\n",
        "normal_traffic.columns = [str(i) for i in range(len(dataset.columns))]\n",
        "dataset.iloc[:,41] = 1\n",
        "normal_traffic.iloc[:,41] = 0\n",
        "dataset.reset_index(inplace=True, drop=True)\n",
        "dataset = pd.concat([dataset, normal_traffic])\n",
        "dataset = dataset.sample(frac=1)\n",
        "#dataset = create_stratified_dataset([r2l_attacks, u2r_attacks, dos_attacks, probe_attacks, normal_traffic], sample_space)"
      ],
      "id": "gBOc4FCif72h"
    },
    {
      "cell_type": "code",
      "execution_count": 164,
      "metadata": {
        "colab": {
          "base_uri": "https://localhost:8080/"
        },
        "id": "t7s8q_Gwe9U_",
        "outputId": "cf93ac7a-0b64-40a2-fe19-101c168f05bc"
      },
      "outputs": [
        {
          "output_type": "execute_result",
          "data": {
            "text/plain": [
              "((20000, 42), (20000, 42), (20000, 42), (20000, 42), (80000, 42))"
            ]
          },
          "metadata": {},
          "execution_count": 164
        }
      ],
      "source": [
        "r2l_attacks.shape,u2r_attacks.shape,dos_attacks.shape,probe_attacks.shape, normal_traffic.shape"
      ],
      "id": "t7s8q_Gwe9U_"
    },
    {
      "cell_type": "code",
      "execution_count": 165,
      "metadata": {
        "id": "T58H0H8FL9Dv"
      },
      "outputs": [],
      "source": [
        "X = dataset.drop('41', axis=1).to_numpy()\n",
        "y = dataset['41']"
      ],
      "id": "T58H0H8FL9Dv"
    },
    {
      "cell_type": "code",
      "execution_count": 166,
      "metadata": {
        "colab": {
          "base_uri": "https://localhost:8080/"
        },
        "id": "KmmHvUm1M8VH",
        "outputId": "e425748f-4000-4ad5-d74a-afcc7780baee"
      },
      "outputs": [
        {
          "output_type": "stream",
          "name": "stdout",
          "text": [
            "(160000, 41) final size\n",
            "Following are the label counts\n",
            "0    80000\n",
            "1    80000\n",
            "Name: 41, dtype: int64\n"
          ]
        }
      ],
      "source": [
        "print(f'{X.shape} final size') \n",
        "print(f'Following are the label counts\\n{y.value_counts()}')"
      ],
      "id": "KmmHvUm1M8VH"
    },
    {
      "cell_type": "code",
      "execution_count": 167,
      "metadata": {
        "id": "sU72dH_Yw10L"
      },
      "outputs": [],
      "source": [
        "pt_x_train = torch.tensor(X, dtype=torch.float).to(device)\n",
        "y = nn.functional.one_hot(torch.tensor(y.to_numpy(dtype='int')))\n",
        "pt_y_train = y.float().to(device)\n",
        "tensor_dataset = TensorDataset(pt_x_train, pt_y_train)"
      ],
      "id": "sU72dH_Yw10L"
    },
    {
      "cell_type": "code",
      "execution_count": 168,
      "metadata": {
        "colab": {
          "base_uri": "https://localhost:8080/"
        },
        "id": "WbuD8PGaahxT",
        "outputId": "38a171cb-b2a7-4725-b99c-d0cd31cc4f83"
      },
      "outputs": [
        {
          "output_type": "execute_result",
          "data": {
            "text/plain": [
              "(torch.Size([160000, 41]), torch.Size([160000, 2]))"
            ]
          },
          "metadata": {},
          "execution_count": 168
        }
      ],
      "source": [
        "pt_x_train.shape, pt_y_train.shape"
      ],
      "id": "WbuD8PGaahxT"
    },
    {
      "cell_type": "markdown",
      "metadata": {
        "id": "cd8383d7"
      },
      "source": [
        "## **MLP**\n",
        "\n"
      ],
      "id": "cd8383d7"
    },
    {
      "cell_type": "code",
      "execution_count": 169,
      "metadata": {
        "id": "TCuvg7npEMqU"
      },
      "outputs": [],
      "source": [
        "class MLP(nn.Module):\n",
        "  data_dim = 41\n",
        "  def __init__(self, hidden_size):\n",
        "      super(MLP, self).__init__()\n",
        "      self.mlp = nn.Sequential(\n",
        "          nn.Linear(self.data_dim, hidden_size),\n",
        "          nn.ReLU(),\n",
        "          nn.BatchNorm1d(hidden_size)\n",
        "      )\n",
        "\n",
        "      self.clf = nn.Sequential(\n",
        "          nn.Linear(hidden_size,2),\n",
        "          nn.Sigmoid()\n",
        "      )\n",
        "\n",
        "  def forward(self, x):\n",
        "      features = self.mlp(x)\n",
        "      return self.clf(features)"
      ],
      "id": "TCuvg7npEMqU"
    },
    {
      "cell_type": "code",
      "execution_count": 170,
      "metadata": {
        "id": "t9WPOBqDNkjC"
      },
      "outputs": [],
      "source": [
        "def validation_accuracy(model, X, y):\n",
        "  model.eval()\n",
        "  with torch.no_grad():\n",
        "    lr_probs = model(X).detach().squeeze()\n",
        "  preds = torch.argmax(lr_probs, dim=1).cpu()\n",
        "  acc = accuracy_score(y, preds)\n",
        "  model.train()\n",
        "  return acc"
      ],
      "id": "t9WPOBqDNkjC"
    },
    {
      "cell_type": "code",
      "execution_count": 171,
      "metadata": {
        "id": "LQaoWXrLRh8y"
      },
      "outputs": [],
      "source": [
        "hidden_sizes = [64, 80, 128, 256]\n",
        "batch_sizes = [64, 128, 256]\n",
        "epochs_ = [50, 75, 100]\n",
        "learning_rates = [1e-3, 1e-2, 1e-1]"
      ],
      "id": "LQaoWXrLRh8y"
    },
    {
      "cell_type": "code",
      "execution_count": 172,
      "metadata": {
        "id": "fYd6GYz2boYY"
      },
      "outputs": [],
      "source": [
        "start_time = time.time()"
      ],
      "id": "fYd6GYz2boYY"
    },
    {
      "cell_type": "code",
      "execution_count": null,
      "metadata": {
        "id": "FsOpwkvtch7o"
      },
      "outputs": [],
      "source": [
        "grid_scores = []\n",
        "iters = 0\n",
        "#Creating a Grid Search\n",
        "for hidden_size in hidden_sizes:\n",
        "  for epochs in epochs_:\n",
        "    for lr in learning_rates:\n",
        "      for batch_size in batch_sizes:\n",
        "        #Model init\n",
        "        pt_train = DataLoader(tensor_dataset, batch_size=batch_size, shuffle=False, drop_last=False)\n",
        "        mlp = MLP(hidden_size).to(device)\n",
        "        criterion = nn.BCELoss()\n",
        "        optimizer = torch.optim.SGD(mlp.parameters(), lr = lr)\n",
        "        \n",
        "        #Training Loop\n",
        "        run = wandb.init(entity='ahsen', project='nids', name=f'{EXPERIMENT_NAME}_{iters}', group=EXPERIMENT_NAME, reinit=True)\n",
        "        wandb.config[\"lr\"] = lr\n",
        "        wandb.config[\"batch_size\"] = batch_size\n",
        "        wandb.config[\"epochs\"] = epochs\n",
        "        wandb.config[\"hidden_size\"] = hidden_size\n",
        "        print('========================================================')\n",
        "        print(f\"Hidden Size:{hidden_size}\\tEpochs:{epochs}\\tLR:{lr}\\tBatch Size:{batch_size}\")\n",
        "        num_epochs = epochs\n",
        "        losses = []\n",
        "        for epoch in range(num_epochs):\n",
        "            for instance, y in pt_train:\n",
        "                output = mlp(instance)\n",
        "                loss = criterion(output, y)\n",
        "                optimizer.zero_grad()\n",
        "                loss.backward()\n",
        "                optimizer.step()\n",
        "            losses.append(loss.item())\n",
        "            acc = validation_accuracy(mlp, X_test, y_test)\n",
        "            wandb.log({'loss':loss.item()})\n",
        "            print('------------------------------------------------')\n",
        "            print(f'Epoch:{epoch+1}  \\tLoss:{loss.item():.4f}\\t Acc: {acc:.4f}')\n",
        "\n",
        "        print(\"*************************************************\")\n",
        "        print(f'Final Score for (H:{hidden_size}, Ep:{epochs}, LR:{lr}, B:{batch_size})')\n",
        "        print(f'Acc: {acc:.4f}')\n",
        "        #Save scores\n",
        "        obj = {\n",
        "          \"name\":f'{EXPERIMENT_NAME}_{iters}',\n",
        "          \"config\":{\n",
        "            \"learning_rate\": lr,\n",
        "            \"epochs\": epochs,\n",
        "            \"batch_size\": batch_size,\n",
        "            \"acc\": acc,\n",
        "            \"hidden_size\": hidden_size\n",
        "            },\n",
        "          \"weights\": mlp.state_dict(),\n",
        "          \"losses\": losses\n",
        "        }\n",
        "        wandb.log({\"acc\" : acc})\n",
        "        run.finish()\n",
        "        grid_scores.append(obj)\n",
        "        elapsed = time.time() - start_time\n",
        "        print(f'Time Elapsed:\\t{elapsed:.0f} seconds')\n",
        "        iters = iters + 1"
      ],
      "id": "FsOpwkvtch7o"
    },
    {
      "cell_type": "code",
      "execution_count": 174,
      "metadata": {
        "id": "h9g5Fu0jeduw"
      },
      "outputs": [],
      "source": [
        "highest = 0\n",
        "for i,score in enumerate(grid_scores):\n",
        "  if score['config']['acc'] > grid_scores[highest]['config']['acc']:\n",
        "    highest = i"
      ],
      "id": "h9g5Fu0jeduw"
    },
    {
      "cell_type": "code",
      "execution_count": 175,
      "metadata": {
        "id": "3OhxAV--dhFC",
        "colab": {
          "base_uri": "https://localhost:8080/"
        },
        "outputId": "43facab9-262e-4148-b909-267c04675b4c"
      },
      "outputs": [
        {
          "output_type": "stream",
          "name": "stdout",
          "text": [
            "=====================================\n",
            "Total time taken: 17855 seconds\n",
            "Best scores with:\tMLP_GAN_1:1_1_62\n",
            "{'learning_rate': 0.1, 'epochs': 50, 'batch_size': 256, 'acc': 0.8052696948190206, 'hidden_size': 128}\n"
          ]
        }
      ],
      "source": [
        "end_time = time.time()\n",
        "print(\"=====================================\")\n",
        "print(f'Total time taken: {int(end_time-start_time)} seconds')\n",
        "print(f'Best scores with:\\t{grid_scores[highest][\"name\"]}')\n",
        "print(f'{grid_scores[highest][\"config\"]}')"
      ],
      "id": "3OhxAV--dhFC"
    },
    {
      "cell_type": "code",
      "execution_count": 176,
      "metadata": {
        "id": "Zh5uq27aGTI8",
        "colab": {
          "base_uri": "https://localhost:8080/",
          "height": 279
        },
        "outputId": "45ec5dc4-b632-459b-f716-d01b9ae32cff"
      },
      "outputs": [
        {
          "output_type": "display_data",
          "data": {
            "text/plain": [
              "<Figure size 432x288 with 1 Axes>"
            ],
            "image/png": "[encoded data removed]"
          },
          "metadata": {
            "needs_background": "light"
          }
        }
      ],
      "source": [
        "losses = grid_scores[highest]['losses']\n",
        "num_epochs = grid_scores[highest]['config']['epochs']\n",
        "plt.plot(losses)\n",
        "plt.xlabel(f\"epochs({num_epochs})\")\n",
        "plt.ylabel(f\"loss\")\n",
        "_ = plt.legend(['Loss'])"
      ],
      "id": "Zh5uq27aGTI8"
    },
    {
      "cell_type": "code",
      "execution_count": 177,
      "metadata": {
        "id": "Atr62Nq7iRa0"
      },
      "outputs": [],
      "source": [
        "mlp = MLP(grid_scores[highest]['config']['hidden_size']).to(device)\n",
        "mlp.load_state_dict(grid_scores[highest]['weights'])\n",
        "mlp.eval()\n",
        "with torch.no_grad():\n",
        "  lr_probs = mlp(X_test).detach().squeeze()\n",
        "probs = torch.max(lr_probs, dim=1)\n",
        "idxs, scores = probs.indices, probs.values\n",
        "probs = [scores[i].item() if idxs[i]==1 else 1-scores[i].item() for i in range(len(idxs))]\n",
        "preds = torch.argmax(lr_probs, dim=1).cpu()\n",
        "lr_probs = torch.max(lr_probs, dim=1).values\n",
        "probs = np.array(probs)"
      ],
      "id": "Atr62Nq7iRa0"
    },
    {
      "cell_type": "code",
      "execution_count": 178,
      "metadata": {
        "id": "GZeHbi90iCtj"
      },
      "outputs": [],
      "source": [
        "suspicious = probs[(probs>0.4) & (probs<0.5)].shape[0]"
      ],
      "id": "GZeHbi90iCtj"
    },
    {
      "cell_type": "code",
      "execution_count": 179,
      "metadata": {
        "id": "C4GkaMRFii8V",
        "colab": {
          "base_uri": "https://localhost:8080/"
        },
        "outputId": "f229f86b-448f-4a18-cbb0-3dc33a02ce17"
      },
      "outputs": [
        {
          "output_type": "stream",
          "name": "stdout",
          "text": [
            "124 packets are suspicious\n"
          ]
        }
      ],
      "source": [
        "print(f'{suspicious} packets are suspicious')"
      ],
      "id": "C4GkaMRFii8V"
    },
    {
      "cell_type": "code",
      "execution_count": 180,
      "metadata": {
        "id": "fNNdO3CTib7c",
        "colab": {
          "base_uri": "https://localhost:8080/"
        },
        "outputId": "a46ddafb-1dfd-45ef-f6a0-63c31c9eeaa2"
      },
      "outputs": [
        {
          "output_type": "stream",
          "name": "stdout",
          "text": [
            "Test accuracy is:0.8053\n",
            "Precision: 0.6953\n",
            "Recall: 0.9753\n"
          ]
        }
      ],
      "source": [
        "cm = confusion_matrix(y_test, preds)\n",
        "tn=cm[1][1] #tn\n",
        "fn=cm[0][1] #fn\n",
        "fp=cm[1][0] #fp\n",
        "tp=cm[0][0] #tp\n",
        "acc= (tp+tn)/(tp+tn+fn+fp)\n",
        "epsilon = 1e-7 # is used so that to avoid divide by zero error\n",
        "precision = tp / (tp + fp + epsilon)\n",
        "recall = tp / (tp + fn + epsilon)\n",
        "sensitivity,specificity = tp/(tp+fn),tn/(tn+fp)\n",
        "print(\"Test accuracy is:\"+str(format(acc,'.4f')))\n",
        "print(\"Precision: \"+str(format(precision,'.4f'))+\"\\nRecall: \"+str(format(recall,'.4f')))"
      ],
      "id": "fNNdO3CTib7c"
    },
    {
      "cell_type": "code",
      "execution_count": 181,
      "metadata": {
        "id": "QfBgTwTD2fwa",
        "colab": {
          "base_uri": "https://localhost:8080/",
          "height": 593
        },
        "outputId": "fbda6fa9-2473-42c7-b4c3-0bf3bb8eb470"
      },
      "outputs": [
        {
          "output_type": "display_data",
          "data": {
            "text/plain": [
              "<Figure size 432x288 with 1 Axes>"
            ],
            "image/png": "[encoded data removed]"
          },
          "metadata": {
            "needs_background": "light"
          }
        },
        {
          "output_type": "stream",
          "name": "stdout",
          "text": [
            "F1:\t 79.822%\n",
            "AUC:\t 93.771%\n",
            "Accuracy:80.527%\n"
          ]
        },
        {
          "output_type": "display_data",
          "data": {
            "text/plain": [
              "<Figure size 432x288 with 1 Axes>"
            ],
            "image/png": "[encoded data removed]"
          },
          "metadata": {
            "needs_background": "light"
          }
        }
      ],
      "source": [
        "lr_precision, lr_recall, _ = precision_recall_curve(y_test, probs)\n",
        "lr_f1, lr_auc = f1_score(y_test, preds), auc(lr_recall, lr_precision)\n",
        "no_skill = len(y_test[y_test==0]) / len(y_test)\n",
        "acc = accuracy_score(y_test, preds)\n",
        "plt.plot(lr_recall, lr_precision, marker='.', alpha=0.5)\n",
        "# axis labels\n",
        "plt.xlabel('Recall')\n",
        "plt.ylabel('Precision')\n",
        "\n",
        "# show the plot\n",
        "plt.show()\n",
        "_ = plt.rc('legend', fontsize=18)\n",
        "disp = ConfusionMatrixDisplay(confusion_matrix = cm, display_labels = ['normal', 'malicious'])\n",
        "disp.plot(cmap=\"Blues\", colorbar = False)\n",
        "print(f\"F1:\\t {lr_f1*100:.3f}%\")\n",
        "print(f\"AUC:\\t {lr_auc*100:.3f}%\")\n",
        "print(f\"Accuracy:{acc*100:.3f}%\")"
      ],
      "id": "QfBgTwTD2fwa"
    },
    {
      "cell_type": "code",
      "execution_count": 182,
      "metadata": {
        "id": "kGr49iwv08Wz",
        "colab": {
          "base_uri": "https://localhost:8080/",
          "height": 279
        },
        "outputId": "39e316eb-8b27-4cc0-826d-6fbfec7fd945"
      },
      "outputs": [
        {
          "output_type": "display_data",
          "data": {
            "text/plain": [
              "<Figure size 432x288 with 1 Axes>"
            ],
            "image/png": "[encoded data removed]"
          },
          "metadata": {
            "needs_background": "light"
          }
        }
      ],
      "source": [
        "_ = RocCurveDisplay.from_predictions(y_test,probs)"
      ],
      "id": "kGr49iwv08Wz"
    },
    {
      "cell_type": "code",
      "execution_count": 183,
      "metadata": {
        "id": "jVzohgro3Cos"
      },
      "outputs": [],
      "source": [
        "wandb.finish()"
      ],
      "id": "jVzohgro3Cos"
    },
    {
      "cell_type": "code",
      "execution_count": 185,
      "metadata": {
        "id": "kx_A6hMbCC1P"
      },
      "outputs": [],
      "source": [
        "torch.save(mlp.state_dict(), 'mlp_1:1.pt')"
      ],
      "id": "kx_A6hMbCC1P"
    }
  ],
  "metadata": {
    "colab": {
      "collapsed_sections": [],
      "name": "GAN-Balanced-MLP-1:1.ipynb",
      "provenance": []
    },
    "kernelspec": {
      "display_name": "Python 3 (ipykernel)",
      "language": "python",
      "name": "python3"
    },
    "language_info": {
      "codemirror_mode": {
        "name": "ipython",
        "version": 3
      },
      "file_extension": ".py",
      "mimetype": "text/x-python",
      "name": "python",
      "nbconvert_exporter": "python",
      "pygments_lexer": "ipython3",
      "version": "3.8.10"
    }
  },
  "nbformat": 4,
  "nbformat_minor": 5
}