{
  "cells": [
    {
      "cell_type": "code",
      "source": [
        "import os\n",
        "os.environ[\"WANDB_API_KEY\"] = \"00c5bcfd2b2fbe9bce38152923c98635448f8c6f\""
      ],
      "metadata": {
        "id": "BG8KAlexCxKQ"
      },
      "id": "BG8KAlexCxKQ",
      "execution_count": null,
      "outputs": []
    },
    {
      "cell_type": "code",
      "execution_count": null,
      "metadata": {
        "colab": {
          "base_uri": "https://localhost:8080/"
        },
        "id": "3dgcz0LaVCIU",
        "outputId": "898f68b5-2f7a-4225-c2e9-2a6c9ab241b5"
      },
      "outputs": [
        {
          "output_type": "execute_result",
          "data": {
            "text/plain": [
              "0"
            ]
          },
          "metadata": {},
          "execution_count": 2
        }
      ],
      "source": [
        "os.system('mkdir ../dataset') \n",
        "os.system('mkdir ../models')\n",
        "os.system('wget -O ../dataset/KDDTrain+.txt https://raw.githubusercontent.com/acen20/DEL/master/deep-ensemble-jet/dataset/KDDTrain%2B.txt')\n",
        "os.system('wget -O ../dataset/KDDTest+.txt https://raw.githubusercontent.com/acen20/DEL/master/deep-ensemble-jet/dataset/KDDTest%2B.txt')\n",
        "os.system('wget -O ../dataset/KDDTrain+_20Percent.txt https://raw.githubusercontent.com/acen20/DEL/master/deep-ensemble-jet/dataset/KDDTrain%2B_20Percent.txt')\n",
        "os.system('wget -O ../dataset/KDDTest-21.txt https://raw.githubusercontent.com/acen20/DEL/master/deep-ensemble-jet/dataset/KDDTest-21.txt')\n",
        "os.system('wget -O ../models/r2l_gen.pt https://github.com/acen20/DEL/raw/master/IDSGAN/r2l_gen.pt')\n",
        "os.system('wget -O ../models/u2r_gen.pt https://github.com/acen20/DEL/raw/master/IDSGAN/u2r_gen.pt')\n",
        "os.system('wget -O ../models/dos_gen.pt https://github.com/acen20/DEL/raw/master/IDSGAN/dos_gen.pt')\n",
        "os.system('wget -O ../models/probe_gen.pt https://github.com/acen20/DEL/raw/master/IDSGAN/probe_gen.pt')\n",
        "os.system('wget -O ../models/normal_gen.pt https://github.com/acen20/DEL/raw/master/IDSGAN/normal_gen.pt')"
      ],
      "id": "3dgcz0LaVCIU"
    },
    {
      "cell_type": "code",
      "source": [
        "os.system('pip install wandb -q')\n",
        "os.system(f'wandb login {os.environ[\"WANDB_API_KEY\"]}')\n",
        "import wandb"
      ],
      "metadata": {
        "id": "rIiZ4FR4yy4n"
      },
      "id": "rIiZ4FR4yy4n",
      "execution_count": null,
      "outputs": []
    },
    {
      "cell_type": "code",
      "execution_count": null,
      "metadata": {
        "id": "8ec7a96a"
      },
      "outputs": [],
      "source": [
        "import torch\n",
        "from torch import nn\n",
        "from torchvision import transforms\n",
        "from torch.utils.data import TensorDataset, DataLoader\n",
        "import matplotlib.pyplot as plt\n",
        "#plt.style.use('grayscale')\n",
        "from sklearn.metrics import precision_recall_curve,RocCurveDisplay\n",
        "from matplotlib import pyplot\n",
        "from sklearn.metrics import f1_score\n",
        "from sklearn.metrics import ConfusionMatrixDisplay\n",
        "from sklearn.model_selection import cross_val_score\n",
        "import numpy as np\n",
        "from sklearn.preprocessing import LabelEncoder\n",
        "from sklearn.model_selection import train_test_split\n",
        "from sklearn.metrics import classification_report\n",
        "from sklearn.preprocessing import MinMaxScaler\n",
        "from sklearn.model_selection import StratifiedKFold as KFold\n",
        "from sklearn.metrics import auc\n",
        "from sklearn.metrics import accuracy_score\n",
        "import matplotlib.pyplot as plt\n",
        "from sklearn.metrics import confusion_matrix\n",
        "from sklearn.decomposition import PCA\n",
        "from sklearn.preprocessing import LabelEncoder\n",
        "import pandas as pd\n",
        "from sklearn import preprocessing\n",
        "import time"
      ],
      "id": "8ec7a96a"
    },
    {
      "cell_type": "code",
      "execution_count": null,
      "metadata": {
        "id": "2c580674"
      },
      "outputs": [],
      "source": [
        "from warnings import simplefilter\n",
        "from sklearn.exceptions import ConvergenceWarning\n",
        "simplefilter(\"ignore\", category=ConvergenceWarning)"
      ],
      "id": "2c580674"
    },
    {
      "cell_type": "code",
      "execution_count": null,
      "metadata": {
        "id": "SzHa9dbaDSNO"
      },
      "outputs": [],
      "source": [
        "device = 'cuda' if torch.cuda.is_available() else 'cpu'"
      ],
      "id": "SzHa9dbaDSNO"
    },
    {
      "cell_type": "code",
      "source": [
        "print(f'Using {device} as device')"
      ],
      "metadata": {
        "colab": {
          "base_uri": "https://localhost:8080/"
        },
        "id": "4qLhXlUUWXgw",
        "outputId": "c6bf81c8-e525-4519-91ea-c03cf09c2b0a"
      },
      "id": "4qLhXlUUWXgw",
      "execution_count": null,
      "outputs": [
        {
          "output_type": "stream",
          "name": "stdout",
          "text": [
            "Using cpu as device\n"
          ]
        }
      ]
    },
    {
      "cell_type": "code",
      "execution_count": null,
      "metadata": {
        "id": "K5RgWPZuSvzI"
      },
      "outputs": [],
      "source": [
        "class Critic(nn.Module):\n",
        "  def __init__(self, data_dim):\n",
        "    super(Critic,self).__init__()\n",
        "    self.disc = nn.Sequential(\n",
        "        nn.Conv1d(1,3,kernel_size=3,stride=1),\n",
        "        #nn.BatchNorm2d(3),\n",
        "        nn.ReLU(),\n",
        "        nn.Conv1d(3,3,kernel_size=3,stride=1),\n",
        "        #nn.BatchNorm2d(3),\n",
        "        nn.ReLU(),\n",
        "        nn.Flatten(),\n",
        "        nn.Linear(111, data_dim),\n",
        "    )\n",
        "\n",
        "  def forward(self, x):\n",
        "    return self.disc(x)\n",
        "\n",
        "\n",
        "class Generator(nn.Module):\n",
        "  def __init__(self, z_dim, data_dim):\n",
        "    super(Generator,self).__init__()\n",
        "    self.gen = nn.Sequential(\n",
        "        nn.Conv1d(1,3,kernel_size=3,stride=1),\n",
        "        #nn.BatchNorm2d(3),\n",
        "        nn.ReLU(),\n",
        "        nn.Conv1d(3,3,kernel_size=3,stride=1),\n",
        "        #nn.BatchNorm2d(3),\n",
        "        nn.ReLU(),\n",
        "        nn.Linear(96, data_dim),\n",
        "        nn.Sigmoid()\n",
        "    )\n",
        "\n",
        "  def forward(self, x):\n",
        "    return self.gen(x)"
      ],
      "id": "K5RgWPZuSvzI"
    },
    {
      "cell_type": "code",
      "execution_count": null,
      "metadata": {
        "id": "2GDvxJAFDTBx"
      },
      "outputs": [],
      "source": [
        "def visualize_synthetic_data(generated, original, title):\n",
        "  generated = generated[np.random.randint(0,len(generated),41)]\n",
        "  original = original.iloc[np.random.randint(0,len(original),41),:41][:41]\n",
        "\n",
        "  fig, (original_ax, synthesized_ax) = plt.subplots(1,2,figsize=(12,12))\n",
        "  original_ax.set_title(f'Original({title})')\n",
        "  synthesized_ax.set_title(f'Synthetic({title})')\n",
        "  _ = original_ax.imshow(original)\n",
        "  _ = synthesized_ax.imshow(generated)"
      ],
      "id": "2GDvxJAFDTBx"
    },
    {
      "cell_type": "code",
      "execution_count": null,
      "metadata": {
        "id": "4ZKNPi9s_5vU"
      },
      "outputs": [],
      "source": [
        "def generate_data(generator, num_instances, z_dim):\n",
        "  generator.eval()\n",
        "  with torch.no_grad():\n",
        "    out = generator(torch.randn(num_instances, z_dim).view(-1,1,z_dim))\n",
        "    return out.detach().reshape(-1,41)[:num_instances]"
      ],
      "id": "4ZKNPi9s_5vU"
    },
    {
      "cell_type": "code",
      "execution_count": null,
      "metadata": {
        "id": "hYpVs6OTCNDo"
      },
      "outputs": [],
      "source": [
        "def create_dataloader(X, y, batch_size):\n",
        "  if y:\n",
        "    y = np.array(X['41'])\n",
        "  else:\n",
        "    y = torch.ones(size=(X.shape[0],))\n",
        "  y = torch.tensor(y, dtype=torch.float).to(device)\n",
        "\n",
        "  X = np.array(X.iloc[:,:-1])\n",
        "  X = torch.tensor(X, dtype=torch.float).to(device)\n",
        "\n",
        "  pt_train = TensorDataset(X,y)\n",
        "  pt_train = DataLoader(pt_train, batch_size=batch_size)\n",
        "  return pt_train"
      ],
      "id": "hYpVs6OTCNDo"
    },
    {
      "cell_type": "code",
      "execution_count": null,
      "metadata": {
        "id": "So1T7XFWELWp"
      },
      "outputs": [],
      "source": [
        "def normalize_data(X):\n",
        "  mms = MinMaxScaler()\n",
        "  return mms.fit_transform(X)"
      ],
      "id": "So1T7XFWELWp"
    },
    {
      "cell_type": "code",
      "execution_count": null,
      "metadata": {
        "id": "NwDdmaxrG6gY"
      },
      "outputs": [],
      "source": [
        "def visualize_train_loss(loss_1, labels, epochs, loss_2 = None):\n",
        "  plt.figure(figsize=(10,4))\n",
        "  plt.plot(loss_1, linewidth=2)\n",
        "  if loss_2:\n",
        "    plt.plot(loss_2, linewidth=2)\n",
        "  plt.legend(labels)\n",
        "  plt.ylabel(\"loss\")\n",
        "  _ = plt.xlabel(f\"epochs ({epochs})\")"
      ],
      "id": "NwDdmaxrG6gY"
    },
    {
      "cell_type": "markdown",
      "metadata": {
        "id": "5b488c60"
      },
      "source": [
        "## Preprocessing"
      ],
      "id": "5b488c60"
    },
    {
      "cell_type": "code",
      "execution_count": null,
      "metadata": {
        "id": "929c5c3c"
      },
      "outputs": [],
      "source": [
        "df=pd.read_csv('../dataset/KDDTrain+.txt', header=None)\n",
        "df2=pd.read_csv('../dataset/KDDTest+.txt', header=None)"
      ],
      "id": "929c5c3c"
    },
    {
      "cell_type": "code",
      "execution_count": null,
      "metadata": {
        "colab": {
          "base_uri": "https://localhost:8080/",
          "height": 299
        },
        "id": "e919a469",
        "outputId": "dc6cc7c8-94fd-464f-97a8-7f0039912f53",
        "scrolled": false
      },
      "outputs": [
        {
          "output_type": "execute_result",
          "data": {
            "text/plain": [
              "   0    1         2   3    4     5   6   7   8   9   ...    33    34    35  \\\n",
              "0   0  tcp  ftp_data  SF  491     0   0   0   0   0  ...  0.17  0.03  0.17   \n",
              "1   0  udp     other  SF  146     0   0   0   0   0  ...  0.00  0.60  0.88   \n",
              "2   0  tcp   private  S0    0     0   0   0   0   0  ...  0.10  0.05  0.00   \n",
              "3   0  tcp      http  SF  232  8153   0   0   0   0  ...  1.00  0.00  0.03   \n",
              "4   0  tcp      http  SF  199   420   0   0   0   0  ...  1.00  0.00  0.00   \n",
              "\n",
              "     36    37    38    39    40       41  42  \n",
              "0  0.00  0.00  0.00  0.05  0.00   normal  20  \n",
              "1  0.00  0.00  0.00  0.00  0.00   normal  15  \n",
              "2  0.00  1.00  1.00  0.00  0.00  neptune  19  \n",
              "3  0.04  0.03  0.01  0.00  0.01   normal  21  \n",
              "4  0.00  0.00  0.00  0.00  0.00   normal  21  \n",
              "\n",
              "[5 rows x 43 columns]"
            ],
            "text/html": [
              "\n",
              "  <div id=\"df-ae3eedac-b63a-45a2-9e23-85a5196559ec\">\n",
              "    <div class=\"colab-df-container\">\n",
              "      <div>\n",
              "<style scoped>\n",
              "    .dataframe tbody tr th:only-of-type {\n",
              "        vertical-align: middle;\n",
              "    }\n",
              "\n",
              "    .dataframe tbody tr th {\n",
              "        vertical-align: top;\n",
              "    }\n",
              "\n",
              "    .dataframe thead th {\n",
              "        text-align: right;\n",
              "    }\n",
              "</style>\n",
              "<table border=\"1\" class=\"dataframe\">\n",
              "  <thead>\n",
              "    <tr style=\"text-align: right;\">\n",
              "      <th></th>\n",
              "      <th>0</th>\n",
              "      <th>1</th>\n",
              "      <th>2</th>\n",
              "      <th>3</th>\n",
              "      <th>4</th>\n",
              "      <th>5</th>\n",
              "      <th>6</th>\n",
              "      <th>7</th>\n",
              "      <th>8</th>\n",
              "      <th>9</th>\n",
              "      <th>...</th>\n",
              "      <th>33</th>\n",
              "      <th>34</th>\n",
              "      <th>35</th>\n",
              "      <th>36</th>\n",
              "      <th>37</th>\n",
              "      <th>38</th>\n",
              "      <th>39</th>\n",
              "      <th>40</th>\n",
              "      <th>41</th>\n",
              "      <th>42</th>\n",
              "    </tr>\n",
              "  </thead>\n",
              "  <tbody>\n",
              "    <tr>\n",
              "      <th>0</th>\n",
              "      <td>0</td>\n",
              "      <td>tcp</td>\n",
              "      <td>ftp_data</td>\n",
              "      <td>SF</td>\n",
              "      <td>491</td>\n",
              "      <td>0</td>\n",
              "      <td>0</td>\n",
              "      <td>0</td>\n",
              "      <td>0</td>\n",
              "      <td>0</td>\n",
              "      <td>...</td>\n",
              "      <td>0.17</td>\n",
              "      <td>0.03</td>\n",
              "      <td>0.17</td>\n",
              "      <td>0.00</td>\n",
              "      <td>0.00</td>\n",
              "      <td>0.00</td>\n",
              "      <td>0.05</td>\n",
              "      <td>0.00</td>\n",
              "      <td>normal</td>\n",
              "      <td>20</td>\n",
              "    </tr>\n",
              "    <tr>\n",
              "      <th>1</th>\n",
              "      <td>0</td>\n",
              "      <td>udp</td>\n",
              "      <td>other</td>\n",
              "      <td>SF</td>\n",
              "      <td>146</td>\n",
              "      <td>0</td>\n",
              "      <td>0</td>\n",
              "      <td>0</td>\n",
              "      <td>0</td>\n",
              "      <td>0</td>\n",
              "      <td>...</td>\n",
              "      <td>0.00</td>\n",
              "      <td>0.60</td>\n",
              "      <td>0.88</td>\n",
              "      <td>0.00</td>\n",
              "      <td>0.00</td>\n",
              "      <td>0.00</td>\n",
              "      <td>0.00</td>\n",
              "      <td>0.00</td>\n",
              "      <td>normal</td>\n",
              "      <td>15</td>\n",
              "    </tr>\n",
              "    <tr>\n",
              "      <th>2</th>\n",
              "      <td>0</td>\n",
              "      <td>tcp</td>\n",
              "      <td>private</td>\n",
              "      <td>S0</td>\n",
              "      <td>0</td>\n",
              "      <td>0</td>\n",
              "      <td>0</td>\n",
              "      <td>0</td>\n",
              "      <td>0</td>\n",
              "      <td>0</td>\n",
              "      <td>...</td>\n",
              "      <td>0.10</td>\n",
              "      <td>0.05</td>\n",
              "      <td>0.00</td>\n",
              "      <td>0.00</td>\n",
              "      <td>1.00</td>\n",
              "      <td>1.00</td>\n",
              "      <td>0.00</td>\n",
              "      <td>0.00</td>\n",
              "      <td>neptune</td>\n",
              "      <td>19</td>\n",
              "    </tr>\n",
              "    <tr>\n",
              "      <th>3</th>\n",
              "      <td>0</td>\n",
              "      <td>tcp</td>\n",
              "      <td>http</td>\n",
              "      <td>SF</td>\n",
              "      <td>232</td>\n",
              "      <td>8153</td>\n",
              "      <td>0</td>\n",
              "      <td>0</td>\n",
              "      <td>0</td>\n",
              "      <td>0</td>\n",
              "      <td>...</td>\n",
              "      <td>1.00</td>\n",
              "      <td>0.00</td>\n",
              "      <td>0.03</td>\n",
              "      <td>0.04</td>\n",
              "      <td>0.03</td>\n",
              "      <td>0.01</td>\n",
              "      <td>0.00</td>\n",
              "      <td>0.01</td>\n",
              "      <td>normal</td>\n",
              "      <td>21</td>\n",
              "    </tr>\n",
              "    <tr>\n",
              "      <th>4</th>\n",
              "      <td>0</td>\n",
              "      <td>tcp</td>\n",
              "      <td>http</td>\n",
              "      <td>SF</td>\n",
              "      <td>199</td>\n",
              "      <td>420</td>\n",
              "      <td>0</td>\n",
              "      <td>0</td>\n",
              "      <td>0</td>\n",
              "      <td>0</td>\n",
              "      <td>...</td>\n",
              "      <td>1.00</td>\n",
              "      <td>0.00</td>\n",
              "      <td>0.00</td>\n",
              "      <td>0.00</td>\n",
              "      <td>0.00</td>\n",
              "      <td>0.00</td>\n",
              "      <td>0.00</td>\n",
              "      <td>0.00</td>\n",
              "      <td>normal</td>\n",
              "      <td>21</td>\n",
              "    </tr>\n",
              "  </tbody>\n",
              "</table>\n",
              "<p>5 rows × 43 columns</p>\n",
              "</div>\n",
              "      <button class=\"colab-df-convert\" onclick=\"convertToInteractive('df-ae3eedac-b63a-45a2-9e23-85a5196559ec')\"\n",
              "              title=\"Convert this dataframe to an interactive table.\"\n",
              "              style=\"display:none;\">\n",
              "        \n",
              "  <svg xmlns=\"http://www.w3.org/2000/svg\" height=\"24px\"viewBox=\"0 0 24 24\"\n",
              "       width=\"24px\">\n",
              "    <path d=\"M0 0h24v24H0V0z\" fill=\"none\"/>\n",
              "    <path d=\"M18.56 5.44l.94 2.06.94-2.06 2.06-.94-2.06-.94-.94-2.06-.94 2.06-2.06.94zm-11 1L8.5 8.5l.94-2.06 2.06-.94-2.06-.94L8.5 2.5l-.94 2.06-2.06.94zm10 10l.94 2.06.94-2.06 2.06-.94-2.06-.94-.94-2.06-.94 2.06-2.06.94z\"/><path d=\"M17.41 7.96l-1.37-1.37c-.4-.4-.92-.59-1.43-.59-.52 0-1.04.2-1.43.59L10.3 9.45l-7.72 7.72c-.78.78-.78 2.05 0 2.83L4 21.41c.39.39.9.59 1.41.59.51 0 1.02-.2 1.41-.59l7.78-7.78 2.81-2.81c.8-.78.8-2.07 0-2.86zM5.41 20L4 18.59l7.72-7.72 1.47 1.35L5.41 20z\"/>\n",
              "  </svg>\n",
              "      </button>\n",
              "      \n",
              "  <style>\n",
              "    .colab-df-container {\n",
              "      display:flex;\n",
              "      flex-wrap:wrap;\n",
              "      gap: 12px;\n",
              "    }\n",
              "\n",
              "    .colab-df-convert {\n",
              "      background-color: #E8F0FE;\n",
              "      border: none;\n",
              "      border-radius: 50%;\n",
              "      cursor: pointer;\n",
              "      display: none;\n",
              "      fill: #1967D2;\n",
              "      height: 32px;\n",
              "      padding: 0 0 0 0;\n",
              "      width: 32px;\n",
              "    }\n",
              "\n",
              "    .colab-df-convert:hover {\n",
              "      background-color: #E2EBFA;\n",
              "      box-shadow: 0px 1px 2px rgba(60, 64, 67, 0.3), 0px 1px 3px 1px rgba(60, 64, 67, 0.15);\n",
              "      fill: #174EA6;\n",
              "    }\n",
              "\n",
              "    [theme=dark] .colab-df-convert {\n",
              "      background-color: #3B4455;\n",
              "      fill: #D2E3FC;\n",
              "    }\n",
              "\n",
              "    [theme=dark] .colab-df-convert:hover {\n",
              "      background-color: #434B5C;\n",
              "      box-shadow: 0px 1px 3px 1px rgba(0, 0, 0, 0.15);\n",
              "      filter: drop-shadow(0px 1px 2px rgba(0, 0, 0, 0.3));\n",
              "      fill: #FFFFFF;\n",
              "    }\n",
              "  </style>\n",
              "\n",
              "      <script>\n",
              "        const buttonEl =\n",
              "          document.querySelector('#df-ae3eedac-b63a-45a2-9e23-85a5196559ec button.colab-df-convert');\n",
              "        buttonEl.style.display =\n",
              "          google.colab.kernel.accessAllowed ? 'block' : 'none';\n",
              "\n",
              "        async function convertToInteractive(key) {\n",
              "          const element = document.querySelector('#df-ae3eedac-b63a-45a2-9e23-85a5196559ec');\n",
              "          const dataTable =\n",
              "            await google.colab.kernel.invokeFunction('convertToInteractive',\n",
              "                                                     [key], {});\n",
              "          if (!dataTable) return;\n",
              "\n",
              "          const docLinkHtml = 'Like what you see? Visit the ' +\n",
              "            '<a target=\"_blank\" href=https://colab.research.google.com/notebooks/data_table.ipynb>data table notebook</a>'\n",
              "            + ' to learn more about interactive tables.';\n",
              "          element.innerHTML = '';\n",
              "          dataTable['output_type'] = 'display_data';\n",
              "          await google.colab.output.renderOutput(dataTable, element);\n",
              "          const docLink = document.createElement('div');\n",
              "          docLink.innerHTML = docLinkHtml;\n",
              "          element.appendChild(docLink);\n",
              "        }\n",
              "      </script>\n",
              "    </div>\n",
              "  </div>\n",
              "  "
            ]
          },
          "metadata": {},
          "execution_count": 15
        }
      ],
      "source": [
        "df.head()"
      ],
      "id": "e919a469"
    },
    {
      "cell_type": "code",
      "execution_count": null,
      "metadata": {
        "id": "b7a65747"
      },
      "outputs": [],
      "source": [
        "df.columns = [str(i) for i in range(0, len(df.columns))]\n",
        "df2.columns = [str(i) for i in range(0, len(df2.columns))]"
      ],
      "id": "b7a65747"
    },
    {
      "cell_type": "code",
      "execution_count": null,
      "metadata": {
        "id": "aa639012"
      },
      "outputs": [],
      "source": [
        "# Replacing Null values with 0. ML classifer cannot learn on Null values\n",
        "df.fillna(0, inplace=True)\n",
        "df2.fillna(0, inplace=True)"
      ],
      "id": "aa639012"
    },
    {
      "cell_type": "code",
      "execution_count": null,
      "metadata": {
        "colab": {
          "base_uri": "https://localhost:8080/",
          "height": 299
        },
        "id": "740bf015",
        "outputId": "59acbf91-f1a9-440a-c416-b592e82a1af8"
      },
      "outputs": [
        {
          "output_type": "execute_result",
          "data": {
            "text/plain": [
              "   0    1         2   3    4     5  6  7  8  9  ...    33    34    35    36  \\\n",
              "0  0  tcp  ftp_data  SF  491     0  0  0  0  0  ...  0.17  0.03  0.17  0.00   \n",
              "1  0  udp     other  SF  146     0  0  0  0  0  ...  0.00  0.60  0.88  0.00   \n",
              "2  0  tcp   private  S0    0     0  0  0  0  0  ...  0.10  0.05  0.00  0.00   \n",
              "3  0  tcp      http  SF  232  8153  0  0  0  0  ...  1.00  0.00  0.03  0.04   \n",
              "4  0  tcp      http  SF  199   420  0  0  0  0  ...  1.00  0.00  0.00  0.00   \n",
              "\n",
              "     37    38    39    40       41  42  \n",
              "0  0.00  0.00  0.05  0.00   normal  20  \n",
              "1  0.00  0.00  0.00  0.00   normal  15  \n",
              "2  1.00  1.00  0.00  0.00  neptune  19  \n",
              "3  0.03  0.01  0.00  0.01   normal  21  \n",
              "4  0.00  0.00  0.00  0.00   normal  21  \n",
              "\n",
              "[5 rows x 43 columns]"
            ],
            "text/html": [
              "\n",
              "  <div id=\"df-25a9d1cd-6cec-498e-8c6b-f56d0b710e36\">\n",
              "    <div class=\"colab-df-container\">\n",
              "      <div>\n",
              "<style scoped>\n",
              "    .dataframe tbody tr th:only-of-type {\n",
              "        vertical-align: middle;\n",
              "    }\n",
              "\n",
              "    .dataframe tbody tr th {\n",
              "        vertical-align: top;\n",
              "    }\n",
              "\n",
              "    .dataframe thead th {\n",
              "        text-align: right;\n",
              "    }\n",
              "</style>\n",
              "<table border=\"1\" class=\"dataframe\">\n",
              "  <thead>\n",
              "    <tr style=\"text-align: right;\">\n",
              "      <th></th>\n",
              "      <th>0</th>\n",
              "      <th>1</th>\n",
              "      <th>2</th>\n",
              "      <th>3</th>\n",
              "      <th>4</th>\n",
              "      <th>5</th>\n",
              "      <th>6</th>\n",
              "      <th>7</th>\n",
              "      <th>8</th>\n",
              "      <th>9</th>\n",
              "      <th>...</th>\n",
              "      <th>33</th>\n",
              "      <th>34</th>\n",
              "      <th>35</th>\n",
              "      <th>36</th>\n",
              "      <th>37</th>\n",
              "      <th>38</th>\n",
              "      <th>39</th>\n",
              "      <th>40</th>\n",
              "      <th>41</th>\n",
              "      <th>42</th>\n",
              "    </tr>\n",
              "  </thead>\n",
              "  <tbody>\n",
              "    <tr>\n",
              "      <th>0</th>\n",
              "      <td>0</td>\n",
              "      <td>tcp</td>\n",
              "      <td>ftp_data</td>\n",
              "      <td>SF</td>\n",
              "      <td>491</td>\n",
              "      <td>0</td>\n",
              "      <td>0</td>\n",
              "      <td>0</td>\n",
              "      <td>0</td>\n",
              "      <td>0</td>\n",
              "      <td>...</td>\n",
              "      <td>0.17</td>\n",
              "      <td>0.03</td>\n",
              "      <td>0.17</td>\n",
              "      <td>0.00</td>\n",
              "      <td>0.00</td>\n",
              "      <td>0.00</td>\n",
              "      <td>0.05</td>\n",
              "      <td>0.00</td>\n",
              "      <td>normal</td>\n",
              "      <td>20</td>\n",
              "    </tr>\n",
              "    <tr>\n",
              "      <th>1</th>\n",
              "      <td>0</td>\n",
              "      <td>udp</td>\n",
              "      <td>other</td>\n",
              "      <td>SF</td>\n",
              "      <td>146</td>\n",
              "      <td>0</td>\n",
              "      <td>0</td>\n",
              "      <td>0</td>\n",
              "      <td>0</td>\n",
              "      <td>0</td>\n",
              "      <td>...</td>\n",
              "      <td>0.00</td>\n",
              "      <td>0.60</td>\n",
              "      <td>0.88</td>\n",
              "      <td>0.00</td>\n",
              "      <td>0.00</td>\n",
              "      <td>0.00</td>\n",
              "      <td>0.00</td>\n",
              "      <td>0.00</td>\n",
              "      <td>normal</td>\n",
              "      <td>15</td>\n",
              "    </tr>\n",
              "    <tr>\n",
              "      <th>2</th>\n",
              "      <td>0</td>\n",
              "      <td>tcp</td>\n",
              "      <td>private</td>\n",
              "      <td>S0</td>\n",
              "      <td>0</td>\n",
              "      <td>0</td>\n",
              "      <td>0</td>\n",
              "      <td>0</td>\n",
              "      <td>0</td>\n",
              "      <td>0</td>\n",
              "      <td>...</td>\n",
              "      <td>0.10</td>\n",
              "      <td>0.05</td>\n",
              "      <td>0.00</td>\n",
              "      <td>0.00</td>\n",
              "      <td>1.00</td>\n",
              "      <td>1.00</td>\n",
              "      <td>0.00</td>\n",
              "      <td>0.00</td>\n",
              "      <td>neptune</td>\n",
              "      <td>19</td>\n",
              "    </tr>\n",
              "    <tr>\n",
              "      <th>3</th>\n",
              "      <td>0</td>\n",
              "      <td>tcp</td>\n",
              "      <td>http</td>\n",
              "      <td>SF</td>\n",
              "      <td>232</td>\n",
              "      <td>8153</td>\n",
              "      <td>0</td>\n",
              "      <td>0</td>\n",
              "      <td>0</td>\n",
              "      <td>0</td>\n",
              "      <td>...</td>\n",
              "      <td>1.00</td>\n",
              "      <td>0.00</td>\n",
              "      <td>0.03</td>\n",
              "      <td>0.04</td>\n",
              "      <td>0.03</td>\n",
              "      <td>0.01</td>\n",
              "      <td>0.00</td>\n",
              "      <td>0.01</td>\n",
              "      <td>normal</td>\n",
              "      <td>21</td>\n",
              "    </tr>\n",
              "    <tr>\n",
              "      <th>4</th>\n",
              "      <td>0</td>\n",
              "      <td>tcp</td>\n",
              "      <td>http</td>\n",
              "      <td>SF</td>\n",
              "      <td>199</td>\n",
              "      <td>420</td>\n",
              "      <td>0</td>\n",
              "      <td>0</td>\n",
              "      <td>0</td>\n",
              "      <td>0</td>\n",
              "      <td>...</td>\n",
              "      <td>1.00</td>\n",
              "      <td>0.00</td>\n",
              "      <td>0.00</td>\n",
              "      <td>0.00</td>\n",
              "      <td>0.00</td>\n",
              "      <td>0.00</td>\n",
              "      <td>0.00</td>\n",
              "      <td>0.00</td>\n",
              "      <td>normal</td>\n",
              "      <td>21</td>\n",
              "    </tr>\n",
              "  </tbody>\n",
              "</table>\n",
              "<p>5 rows × 43 columns</p>\n",
              "</div>\n",
              "      <button class=\"colab-df-convert\" onclick=\"convertToInteractive('df-25a9d1cd-6cec-498e-8c6b-f56d0b710e36')\"\n",
              "              title=\"Convert this dataframe to an interactive table.\"\n",
              "              style=\"display:none;\">\n",
              "        \n",
              "  <svg xmlns=\"http://www.w3.org/2000/svg\" height=\"24px\"viewBox=\"0 0 24 24\"\n",
              "       width=\"24px\">\n",
              "    <path d=\"M0 0h24v24H0V0z\" fill=\"none\"/>\n",
              "    <path d=\"M18.56 5.44l.94 2.06.94-2.06 2.06-.94-2.06-.94-.94-2.06-.94 2.06-2.06.94zm-11 1L8.5 8.5l.94-2.06 2.06-.94-2.06-.94L8.5 2.5l-.94 2.06-2.06.94zm10 10l.94 2.06.94-2.06 2.06-.94-2.06-.94-.94-2.06-.94 2.06-2.06.94z\"/><path d=\"M17.41 7.96l-1.37-1.37c-.4-.4-.92-.59-1.43-.59-.52 0-1.04.2-1.43.59L10.3 9.45l-7.72 7.72c-.78.78-.78 2.05 0 2.83L4 21.41c.39.39.9.59 1.41.59.51 0 1.02-.2 1.41-.59l7.78-7.78 2.81-2.81c.8-.78.8-2.07 0-2.86zM5.41 20L4 18.59l7.72-7.72 1.47 1.35L5.41 20z\"/>\n",
              "  </svg>\n",
              "      </button>\n",
              "      \n",
              "  <style>\n",
              "    .colab-df-container {\n",
              "      display:flex;\n",
              "      flex-wrap:wrap;\n",
              "      gap: 12px;\n",
              "    }\n",
              "\n",
              "    .colab-df-convert {\n",
              "      background-color: #E8F0FE;\n",
              "      border: none;\n",
              "      border-radius: 50%;\n",
              "      cursor: pointer;\n",
              "      display: none;\n",
              "      fill: #1967D2;\n",
              "      height: 32px;\n",
              "      padding: 0 0 0 0;\n",
              "      width: 32px;\n",
              "    }\n",
              "\n",
              "    .colab-df-convert:hover {\n",
              "      background-color: #E2EBFA;\n",
              "      box-shadow: 0px 1px 2px rgba(60, 64, 67, 0.3), 0px 1px 3px 1px rgba(60, 64, 67, 0.15);\n",
              "      fill: #174EA6;\n",
              "    }\n",
              "\n",
              "    [theme=dark] .colab-df-convert {\n",
              "      background-color: #3B4455;\n",
              "      fill: #D2E3FC;\n",
              "    }\n",
              "\n",
              "    [theme=dark] .colab-df-convert:hover {\n",
              "      background-color: #434B5C;\n",
              "      box-shadow: 0px 1px 3px 1px rgba(0, 0, 0, 0.15);\n",
              "      filter: drop-shadow(0px 1px 2px rgba(0, 0, 0, 0.3));\n",
              "      fill: #FFFFFF;\n",
              "    }\n",
              "  </style>\n",
              "\n",
              "      <script>\n",
              "        const buttonEl =\n",
              "          document.querySelector('#df-25a9d1cd-6cec-498e-8c6b-f56d0b710e36 button.colab-df-convert');\n",
              "        buttonEl.style.display =\n",
              "          google.colab.kernel.accessAllowed ? 'block' : 'none';\n",
              "\n",
              "        async function convertToInteractive(key) {\n",
              "          const element = document.querySelector('#df-25a9d1cd-6cec-498e-8c6b-f56d0b710e36');\n",
              "          const dataTable =\n",
              "            await google.colab.kernel.invokeFunction('convertToInteractive',\n",
              "                                                     [key], {});\n",
              "          if (!dataTable) return;\n",
              "\n",
              "          const docLinkHtml = 'Like what you see? Visit the ' +\n",
              "            '<a target=\"_blank\" href=https://colab.research.google.com/notebooks/data_table.ipynb>data table notebook</a>'\n",
              "            + ' to learn more about interactive tables.';\n",
              "          element.innerHTML = '';\n",
              "          dataTable['output_type'] = 'display_data';\n",
              "          await google.colab.output.renderOutput(dataTable, element);\n",
              "          const docLink = document.createElement('div');\n",
              "          docLink.innerHTML = docLinkHtml;\n",
              "          element.appendChild(docLink);\n",
              "        }\n",
              "      </script>\n",
              "    </div>\n",
              "  </div>\n",
              "  "
            ]
          },
          "metadata": {},
          "execution_count": 18
        }
      ],
      "source": [
        "# Peak on dataset\n",
        "df.head()"
      ],
      "id": "740bf015"
    },
    {
      "cell_type": "code",
      "execution_count": null,
      "metadata": {
        "colab": {
          "base_uri": "https://localhost:8080/"
        },
        "id": "9ec1c0af",
        "outputId": "41353152-0d83-4893-8867-7b026aacc5c1"
      },
      "outputs": [
        {
          "output_type": "execute_result",
          "data": {
            "text/plain": [
              "(125973, 43)"
            ]
          },
          "metadata": {},
          "execution_count": 19
        }
      ],
      "source": [
        "df.shape"
      ],
      "id": "9ec1c0af"
    },
    {
      "cell_type": "code",
      "execution_count": null,
      "metadata": {
        "colab": {
          "base_uri": "https://localhost:8080/",
          "height": 299
        },
        "id": "bfbee834",
        "outputId": "0f5597e9-ea3c-4e63-986c-b06df470ba56"
      },
      "outputs": [
        {
          "output_type": "execute_result",
          "data": {
            "text/plain": [
              "   0    1         2   3    4     5  6  7  8  9  ...   32    33    34    35  \\\n",
              "0  0  tcp  ftp_data  SF  491     0  0  0  0  0  ...   25  0.17  0.03  0.17   \n",
              "1  0  udp     other  SF  146     0  0  0  0  0  ...    1  0.00  0.60  0.88   \n",
              "2  0  tcp   private  S0    0     0  0  0  0  0  ...   26  0.10  0.05  0.00   \n",
              "3  0  tcp      http  SF  232  8153  0  0  0  0  ...  255  1.00  0.00  0.03   \n",
              "4  0  tcp      http  SF  199   420  0  0  0  0  ...  255  1.00  0.00  0.00   \n",
              "\n",
              "     36    37    38    39    40       41  \n",
              "0  0.00  0.00  0.00  0.05  0.00   normal  \n",
              "1  0.00  0.00  0.00  0.00  0.00   normal  \n",
              "2  0.00  1.00  1.00  0.00  0.00  neptune  \n",
              "3  0.04  0.03  0.01  0.00  0.01   normal  \n",
              "4  0.00  0.00  0.00  0.00  0.00   normal  \n",
              "\n",
              "[5 rows x 42 columns]"
            ],
            "text/html": [
              "\n",
              "  <div id=\"df-e161f2bc-1c61-4e3b-8f3d-db75698ab505\">\n",
              "    <div class=\"colab-df-container\">\n",
              "      <div>\n",
              "<style scoped>\n",
              "    .dataframe tbody tr th:only-of-type {\n",
              "        vertical-align: middle;\n",
              "    }\n",
              "\n",
              "    .dataframe tbody tr th {\n",
              "        vertical-align: top;\n",
              "    }\n",
              "\n",
              "    .dataframe thead th {\n",
              "        text-align: right;\n",
              "    }\n",
              "</style>\n",
              "<table border=\"1\" class=\"dataframe\">\n",
              "  <thead>\n",
              "    <tr style=\"text-align: right;\">\n",
              "      <th></th>\n",
              "      <th>0</th>\n",
              "      <th>1</th>\n",
              "      <th>2</th>\n",
              "      <th>3</th>\n",
              "      <th>4</th>\n",
              "      <th>5</th>\n",
              "      <th>6</th>\n",
              "      <th>7</th>\n",
              "      <th>8</th>\n",
              "      <th>9</th>\n",
              "      <th>...</th>\n",
              "      <th>32</th>\n",
              "      <th>33</th>\n",
              "      <th>34</th>\n",
              "      <th>35</th>\n",
              "      <th>36</th>\n",
              "      <th>37</th>\n",
              "      <th>38</th>\n",
              "      <th>39</th>\n",
              "      <th>40</th>\n",
              "      <th>41</th>\n",
              "    </tr>\n",
              "  </thead>\n",
              "  <tbody>\n",
              "    <tr>\n",
              "      <th>0</th>\n",
              "      <td>0</td>\n",
              "      <td>tcp</td>\n",
              "      <td>ftp_data</td>\n",
              "      <td>SF</td>\n",
              "      <td>491</td>\n",
              "      <td>0</td>\n",
              "      <td>0</td>\n",
              "      <td>0</td>\n",
              "      <td>0</td>\n",
              "      <td>0</td>\n",
              "      <td>...</td>\n",
              "      <td>25</td>\n",
              "      <td>0.17</td>\n",
              "      <td>0.03</td>\n",
              "      <td>0.17</td>\n",
              "      <td>0.00</td>\n",
              "      <td>0.00</td>\n",
              "      <td>0.00</td>\n",
              "      <td>0.05</td>\n",
              "      <td>0.00</td>\n",
              "      <td>normal</td>\n",
              "    </tr>\n",
              "    <tr>\n",
              "      <th>1</th>\n",
              "      <td>0</td>\n",
              "      <td>udp</td>\n",
              "      <td>other</td>\n",
              "      <td>SF</td>\n",
              "      <td>146</td>\n",
              "      <td>0</td>\n",
              "      <td>0</td>\n",
              "      <td>0</td>\n",
              "      <td>0</td>\n",
              "      <td>0</td>\n",
              "      <td>...</td>\n",
              "      <td>1</td>\n",
              "      <td>0.00</td>\n",
              "      <td>0.60</td>\n",
              "      <td>0.88</td>\n",
              "      <td>0.00</td>\n",
              "      <td>0.00</td>\n",
              "      <td>0.00</td>\n",
              "      <td>0.00</td>\n",
              "      <td>0.00</td>\n",
              "      <td>normal</td>\n",
              "    </tr>\n",
              "    <tr>\n",
              "      <th>2</th>\n",
              "      <td>0</td>\n",
              "      <td>tcp</td>\n",
              "      <td>private</td>\n",
              "      <td>S0</td>\n",
              "      <td>0</td>\n",
              "      <td>0</td>\n",
              "      <td>0</td>\n",
              "      <td>0</td>\n",
              "      <td>0</td>\n",
              "      <td>0</td>\n",
              "      <td>...</td>\n",
              "      <td>26</td>\n",
              "      <td>0.10</td>\n",
              "      <td>0.05</td>\n",
              "      <td>0.00</td>\n",
              "      <td>0.00</td>\n",
              "      <td>1.00</td>\n",
              "      <td>1.00</td>\n",
              "      <td>0.00</td>\n",
              "      <td>0.00</td>\n",
              "      <td>neptune</td>\n",
              "    </tr>\n",
              "    <tr>\n",
              "      <th>3</th>\n",
              "      <td>0</td>\n",
              "      <td>tcp</td>\n",
              "      <td>http</td>\n",
              "      <td>SF</td>\n",
              "      <td>232</td>\n",
              "      <td>8153</td>\n",
              "      <td>0</td>\n",
              "      <td>0</td>\n",
              "      <td>0</td>\n",
              "      <td>0</td>\n",
              "      <td>...</td>\n",
              "      <td>255</td>\n",
              "      <td>1.00</td>\n",
              "      <td>0.00</td>\n",
              "      <td>0.03</td>\n",
              "      <td>0.04</td>\n",
              "      <td>0.03</td>\n",
              "      <td>0.01</td>\n",
              "      <td>0.00</td>\n",
              "      <td>0.01</td>\n",
              "      <td>normal</td>\n",
              "    </tr>\n",
              "    <tr>\n",
              "      <th>4</th>\n",
              "      <td>0</td>\n",
              "      <td>tcp</td>\n",
              "      <td>http</td>\n",
              "      <td>SF</td>\n",
              "      <td>199</td>\n",
              "      <td>420</td>\n",
              "      <td>0</td>\n",
              "      <td>0</td>\n",
              "      <td>0</td>\n",
              "      <td>0</td>\n",
              "      <td>...</td>\n",
              "      <td>255</td>\n",
              "      <td>1.00</td>\n",
              "      <td>0.00</td>\n",
              "      <td>0.00</td>\n",
              "      <td>0.00</td>\n",
              "      <td>0.00</td>\n",
              "      <td>0.00</td>\n",
              "      <td>0.00</td>\n",
              "      <td>0.00</td>\n",
              "      <td>normal</td>\n",
              "    </tr>\n",
              "  </tbody>\n",
              "</table>\n",
              "<p>5 rows × 42 columns</p>\n",
              "</div>\n",
              "      <button class=\"colab-df-convert\" onclick=\"convertToInteractive('df-e161f2bc-1c61-4e3b-8f3d-db75698ab505')\"\n",
              "              title=\"Convert this dataframe to an interactive table.\"\n",
              "              style=\"display:none;\">\n",
              "        \n",
              "  <svg xmlns=\"http://www.w3.org/2000/svg\" height=\"24px\"viewBox=\"0 0 24 24\"\n",
              "       width=\"24px\">\n",
              "    <path d=\"M0 0h24v24H0V0z\" fill=\"none\"/>\n",
              "    <path d=\"M18.56 5.44l.94 2.06.94-2.06 2.06-.94-2.06-.94-.94-2.06-.94 2.06-2.06.94zm-11 1L8.5 8.5l.94-2.06 2.06-.94-2.06-.94L8.5 2.5l-.94 2.06-2.06.94zm10 10l.94 2.06.94-2.06 2.06-.94-2.06-.94-.94-2.06-.94 2.06-2.06.94z\"/><path d=\"M17.41 7.96l-1.37-1.37c-.4-.4-.92-.59-1.43-.59-.52 0-1.04.2-1.43.59L10.3 9.45l-7.72 7.72c-.78.78-.78 2.05 0 2.83L4 21.41c.39.39.9.59 1.41.59.51 0 1.02-.2 1.41-.59l7.78-7.78 2.81-2.81c.8-.78.8-2.07 0-2.86zM5.41 20L4 18.59l7.72-7.72 1.47 1.35L5.41 20z\"/>\n",
              "  </svg>\n",
              "      </button>\n",
              "      \n",
              "  <style>\n",
              "    .colab-df-container {\n",
              "      display:flex;\n",
              "      flex-wrap:wrap;\n",
              "      gap: 12px;\n",
              "    }\n",
              "\n",
              "    .colab-df-convert {\n",
              "      background-color: #E8F0FE;\n",
              "      border: none;\n",
              "      border-radius: 50%;\n",
              "      cursor: pointer;\n",
              "      display: none;\n",
              "      fill: #1967D2;\n",
              "      height: 32px;\n",
              "      padding: 0 0 0 0;\n",
              "      width: 32px;\n",
              "    }\n",
              "\n",
              "    .colab-df-convert:hover {\n",
              "      background-color: #E2EBFA;\n",
              "      box-shadow: 0px 1px 2px rgba(60, 64, 67, 0.3), 0px 1px 3px 1px rgba(60, 64, 67, 0.15);\n",
              "      fill: #174EA6;\n",
              "    }\n",
              "\n",
              "    [theme=dark] .colab-df-convert {\n",
              "      background-color: #3B4455;\n",
              "      fill: #D2E3FC;\n",
              "    }\n",
              "\n",
              "    [theme=dark] .colab-df-convert:hover {\n",
              "      background-color: #434B5C;\n",
              "      box-shadow: 0px 1px 3px 1px rgba(0, 0, 0, 0.15);\n",
              "      filter: drop-shadow(0px 1px 2px rgba(0, 0, 0, 0.3));\n",
              "      fill: #FFFFFF;\n",
              "    }\n",
              "  </style>\n",
              "\n",
              "      <script>\n",
              "        const buttonEl =\n",
              "          document.querySelector('#df-e161f2bc-1c61-4e3b-8f3d-db75698ab505 button.colab-df-convert');\n",
              "        buttonEl.style.display =\n",
              "          google.colab.kernel.accessAllowed ? 'block' : 'none';\n",
              "\n",
              "        async function convertToInteractive(key) {\n",
              "          const element = document.querySelector('#df-e161f2bc-1c61-4e3b-8f3d-db75698ab505');\n",
              "          const dataTable =\n",
              "            await google.colab.kernel.invokeFunction('convertToInteractive',\n",
              "                                                     [key], {});\n",
              "          if (!dataTable) return;\n",
              "\n",
              "          const docLinkHtml = 'Like what you see? Visit the ' +\n",
              "            '<a target=\"_blank\" href=https://colab.research.google.com/notebooks/data_table.ipynb>data table notebook</a>'\n",
              "            + ' to learn more about interactive tables.';\n",
              "          element.innerHTML = '';\n",
              "          dataTable['output_type'] = 'display_data';\n",
              "          await google.colab.output.renderOutput(dataTable, element);\n",
              "          const docLink = document.createElement('div');\n",
              "          docLink.innerHTML = docLinkHtml;\n",
              "          element.appendChild(docLink);\n",
              "        }\n",
              "      </script>\n",
              "    </div>\n",
              "  </div>\n",
              "  "
            ]
          },
          "metadata": {},
          "execution_count": 20
        }
      ],
      "source": [
        "# Peak on the dataset\n",
        "df.drop('42',axis=1, inplace=True)\n",
        "df2.drop('42',axis=1, inplace=True)\n",
        "df.head()"
      ],
      "id": "bfbee834"
    },
    {
      "cell_type": "code",
      "execution_count": null,
      "metadata": {
        "id": "7debc84a",
        "scrolled": true
      },
      "outputs": [],
      "source": [
        "sub_classes = df.iloc[:,41].value_counts()"
      ],
      "id": "7debc84a"
    },
    {
      "cell_type": "code",
      "execution_count": null,
      "metadata": {
        "colab": {
          "base_uri": "https://localhost:8080/"
        },
        "id": "46a4fd5b",
        "outputId": "6cc31e52-e97c-4413-c25b-964c4c1b93c4"
      },
      "outputs": [
        {
          "output_type": "stream",
          "name": "stdout",
          "text": [
            "normal             67343\n",
            "neptune            41214\n",
            "satan               3633\n",
            "ipsweep             3599\n",
            "portsweep           2931\n",
            "smurf               2646\n",
            "nmap                1493\n",
            "back                 956\n",
            "teardrop             892\n",
            "warezclient          890\n",
            "pod                  201\n",
            "guess_passwd          53\n",
            "buffer_overflow       30\n",
            "warezmaster           20\n",
            "land                  18\n",
            "imap                  11\n",
            "rootkit               10\n",
            "loadmodule             9\n",
            "ftp_write              8\n",
            "multihop               7\n",
            "phf                    4\n",
            "perl                   3\n",
            "spy                    2\n",
            "Name: 41, dtype: int64\n"
          ]
        }
      ],
      "source": [
        "print(sub_classes)"
      ],
      "id": "46a4fd5b"
    },
    {
      "cell_type": "code",
      "execution_count": null,
      "metadata": {
        "id": "8gBzAOhUjozz"
      },
      "outputs": [],
      "source": [
        "r2l = ['ftp_write','guess_passwd', 'imap', 'multihop', 'phf', 'spy','warezclient','warezmaster','xlock', 'xsnoop','named',\n",
        "       'sendmail','snmpgetattack', 'snmpguess','httptunnel']\n",
        "u2r = ['buffer_overflow', 'loadmodule','perl','ps','rootkit','sqlattack','xterm']\n",
        "dos = ['back', 'land', 'neptune', 'smurf', 'teardrop','pod','mailbomb', 'processtable','udpstorm', 'worm','apache2']\n",
        "probe = ['ipsweep', 'nmap', 'portsweep', 'satan','saint','mscan']\n",
        "normal = ['normal']"
      ],
      "id": "8gBzAOhUjozz"
    },
    {
      "cell_type": "code",
      "execution_count": null,
      "metadata": {
        "colab": {
          "base_uri": "https://localhost:8080/",
          "height": 143
        },
        "id": "RRuiCdWOcCrW",
        "outputId": "ce9e989c-c9d5-49b2-b41f-412397ace2d5"
      },
      "outputs": [
        {
          "output_type": "execute_result",
          "data": {
            "text/plain": [
              "       Train   Test\n",
              "tcp   102689  18880\n",
              "udp    14993   2621\n",
              "icmp    8291   1043"
            ],
            "text/html": [
              "\n",
              "  <div id=\"df-90d20f02-430b-4065-8e25-225a2f9338f8\">\n",
              "    <div class=\"colab-df-container\">\n",
              "      <div>\n",
              "<style scoped>\n",
              "    .dataframe tbody tr th:only-of-type {\n",
              "        vertical-align: middle;\n",
              "    }\n",
              "\n",
              "    .dataframe tbody tr th {\n",
              "        vertical-align: top;\n",
              "    }\n",
              "\n",
              "    .dataframe thead th {\n",
              "        text-align: right;\n",
              "    }\n",
              "</style>\n",
              "<table border=\"1\" class=\"dataframe\">\n",
              "  <thead>\n",
              "    <tr style=\"text-align: right;\">\n",
              "      <th></th>\n",
              "      <th>Train</th>\n",
              "      <th>Test</th>\n",
              "    </tr>\n",
              "  </thead>\n",
              "  <tbody>\n",
              "    <tr>\n",
              "      <th>tcp</th>\n",
              "      <td>102689</td>\n",
              "      <td>18880</td>\n",
              "    </tr>\n",
              "    <tr>\n",
              "      <th>udp</th>\n",
              "      <td>14993</td>\n",
              "      <td>2621</td>\n",
              "    </tr>\n",
              "    <tr>\n",
              "      <th>icmp</th>\n",
              "      <td>8291</td>\n",
              "      <td>1043</td>\n",
              "    </tr>\n",
              "  </tbody>\n",
              "</table>\n",
              "</div>\n",
              "      <button class=\"colab-df-convert\" onclick=\"convertToInteractive('df-90d20f02-430b-4065-8e25-225a2f9338f8')\"\n",
              "              title=\"Convert this dataframe to an interactive table.\"\n",
              "              style=\"display:none;\">\n",
              "        \n",
              "  <svg xmlns=\"http://www.w3.org/2000/svg\" height=\"24px\"viewBox=\"0 0 24 24\"\n",
              "       width=\"24px\">\n",
              "    <path d=\"M0 0h24v24H0V0z\" fill=\"none\"/>\n",
              "    <path d=\"M18.56 5.44l.94 2.06.94-2.06 2.06-.94-2.06-.94-.94-2.06-.94 2.06-2.06.94zm-11 1L8.5 8.5l.94-2.06 2.06-.94-2.06-.94L8.5 2.5l-.94 2.06-2.06.94zm10 10l.94 2.06.94-2.06 2.06-.94-2.06-.94-.94-2.06-.94 2.06-2.06.94z\"/><path d=\"M17.41 7.96l-1.37-1.37c-.4-.4-.92-.59-1.43-.59-.52 0-1.04.2-1.43.59L10.3 9.45l-7.72 7.72c-.78.78-.78 2.05 0 2.83L4 21.41c.39.39.9.59 1.41.59.51 0 1.02-.2 1.41-.59l7.78-7.78 2.81-2.81c.8-.78.8-2.07 0-2.86zM5.41 20L4 18.59l7.72-7.72 1.47 1.35L5.41 20z\"/>\n",
              "  </svg>\n",
              "      </button>\n",
              "      \n",
              "  <style>\n",
              "    .colab-df-container {\n",
              "      display:flex;\n",
              "      flex-wrap:wrap;\n",
              "      gap: 12px;\n",
              "    }\n",
              "\n",
              "    .colab-df-convert {\n",
              "      background-color: #E8F0FE;\n",
              "      border: none;\n",
              "      border-radius: 50%;\n",
              "      cursor: pointer;\n",
              "      display: none;\n",
              "      fill: #1967D2;\n",
              "      height: 32px;\n",
              "      padding: 0 0 0 0;\n",
              "      width: 32px;\n",
              "    }\n",
              "\n",
              "    .colab-df-convert:hover {\n",
              "      background-color: #E2EBFA;\n",
              "      box-shadow: 0px 1px 2px rgba(60, 64, 67, 0.3), 0px 1px 3px 1px rgba(60, 64, 67, 0.15);\n",
              "      fill: #174EA6;\n",
              "    }\n",
              "\n",
              "    [theme=dark] .colab-df-convert {\n",
              "      background-color: #3B4455;\n",
              "      fill: #D2E3FC;\n",
              "    }\n",
              "\n",
              "    [theme=dark] .colab-df-convert:hover {\n",
              "      background-color: #434B5C;\n",
              "      box-shadow: 0px 1px 3px 1px rgba(0, 0, 0, 0.15);\n",
              "      filter: drop-shadow(0px 1px 2px rgba(0, 0, 0, 0.3));\n",
              "      fill: #FFFFFF;\n",
              "    }\n",
              "  </style>\n",
              "\n",
              "      <script>\n",
              "        const buttonEl =\n",
              "          document.querySelector('#df-90d20f02-430b-4065-8e25-225a2f9338f8 button.colab-df-convert');\n",
              "        buttonEl.style.display =\n",
              "          google.colab.kernel.accessAllowed ? 'block' : 'none';\n",
              "\n",
              "        async function convertToInteractive(key) {\n",
              "          const element = document.querySelector('#df-90d20f02-430b-4065-8e25-225a2f9338f8');\n",
              "          const dataTable =\n",
              "            await google.colab.kernel.invokeFunction('convertToInteractive',\n",
              "                                                     [key], {});\n",
              "          if (!dataTable) return;\n",
              "\n",
              "          const docLinkHtml = 'Like what you see? Visit the ' +\n",
              "            '<a target=\"_blank\" href=https://colab.research.google.com/notebooks/data_table.ipynb>data table notebook</a>'\n",
              "            + ' to learn more about interactive tables.';\n",
              "          element.innerHTML = '';\n",
              "          dataTable['output_type'] = 'display_data';\n",
              "          await google.colab.output.renderOutput(dataTable, element);\n",
              "          const docLink = document.createElement('div');\n",
              "          docLink.innerHTML = docLinkHtml;\n",
              "          element.appendChild(docLink);\n",
              "        }\n",
              "      </script>\n",
              "    </div>\n",
              "  </div>\n",
              "  "
            ]
          },
          "metadata": {},
          "execution_count": 24
        }
      ],
      "source": [
        "pd.set_option('display.max_rows', None) # or 1000.\n",
        "train_1 = df['1'].value_counts()\n",
        "train_1.rename('Train', inplace=True)\n",
        "test_1 = df2['1'].value_counts()\n",
        "test_1.rename('Test', inplace=True)\n",
        "cnct = pd.concat([train_1, test_1], axis = 1)\n",
        "cnct"
      ],
      "id": "RRuiCdWOcCrW"
    },
    {
      "cell_type": "code",
      "execution_count": null,
      "metadata": {
        "colab": {
          "base_uri": "https://localhost:8080/",
          "height": 1000
        },
        "id": "NFJBiwv4cXHu",
        "outputId": "fc6ab617-f9c6-49e4-eb0f-42cb4851a571"
      },
      "outputs": [
        {
          "output_type": "execute_result",
          "data": {
            "text/plain": [
              "             Train    Test\n",
              "http         40338  7853.0\n",
              "private      21853  4774.0\n",
              "domain_u      9043   894.0\n",
              "smtp          7313   934.0\n",
              "ftp_data      6860   851.0\n",
              "eco_i         4586   262.0\n",
              "other         4359   838.0\n",
              "ecr_i         3077   752.0\n",
              "telnet        2353  1626.0\n",
              "finger        1767   136.0\n",
              "ftp           1754   692.0\n",
              "auth           955    67.0\n",
              "Z39_50         862    45.0\n",
              "uucp           780    50.0\n",
              "courier        734    40.0\n",
              "bgp            710    46.0\n",
              "whois          693    40.0\n",
              "uucp_path      689    46.0\n",
              "iso_tsap       687    48.0\n",
              "time           654    36.0\n",
              "imap4          647   306.0\n",
              "nnsp           630    42.0\n",
              "vmnet          617    43.0\n",
              "urp_i          602    23.0\n",
              "domain         569    51.0\n",
              "ctf            563    41.0\n",
              "csnet_ns       545    34.0\n",
              "supdup         544    27.0\n",
              "discard        538    26.0\n",
              "http_443       530    36.0\n",
              "daytime        521    28.0\n",
              "gopher         518    34.0\n",
              "efs            485    33.0\n",
              "systat         477    32.0\n",
              "link           475    41.0\n",
              "exec           474    27.0\n",
              "hostnames      460    23.0\n",
              "name           451    37.0\n",
              "mtp            439    32.0\n",
              "echo           434    37.0\n",
              "klogin         433    21.0\n",
              "login          429    29.0\n",
              "ldap           410    19.0\n",
              "netbios_dgm    405    25.0\n",
              "sunrpc         381   159.0\n",
              "netbios_ssn    362    15.0\n",
              "netstat        360    26.0\n",
              "netbios_ns     347    36.0\n",
              "ssh            311    26.0\n",
              "kshell         299    24.0\n",
              "nntp           296    21.0\n",
              "pop_3          264  1019.0\n",
              "sql_net        245    18.0\n",
              "IRC            187    13.0\n",
              "ntp_u          168    10.0\n",
              "rje             86     8.0\n",
              "remote_job      78    14.0\n",
              "pop_2           78    13.0\n",
              "X11             73    15.0\n",
              "printer         69    11.0\n",
              "shell           65    16.0\n",
              "urh_i           10     NaN\n",
              "tim_i            8     6.0\n",
              "red_i            8     NaN\n",
              "pm_dump          5    16.0\n",
              "tftp_u           3     1.0\n",
              "http_8001        2     NaN\n",
              "aol              2     NaN\n",
              "harvest          2     NaN\n",
              "http_2784        1     NaN"
            ],
            "text/html": [
              "\n",
              "  <div id=\"df-00e61f1d-9ef7-4e55-9ce5-551712805cd8\">\n",
              "    <div class=\"colab-df-container\">\n",
              "      <div>\n",
              "<style scoped>\n",
              "    .dataframe tbody tr th:only-of-type {\n",
              "        vertical-align: middle;\n",
              "    }\n",
              "\n",
              "    .dataframe tbody tr th {\n",
              "        vertical-align: top;\n",
              "    }\n",
              "\n",
              "    .dataframe thead th {\n",
              "        text-align: right;\n",
              "    }\n",
              "</style>\n",
              "<table border=\"1\" class=\"dataframe\">\n",
              "  <thead>\n",
              "    <tr style=\"text-align: right;\">\n",
              "      <th></th>\n",
              "      <th>Train</th>\n",
              "      <th>Test</th>\n",
              "    </tr>\n",
              "  </thead>\n",
              "  <tbody>\n",
              "    <tr>\n",
              "      <th>http</th>\n",
              "      <td>40338</td>\n",
              "      <td>7853.0</td>\n",
              "    </tr>\n",
              "    <tr>\n",
              "      <th>private</th>\n",
              "      <td>21853</td>\n",
              "      <td>4774.0</td>\n",
              "    </tr>\n",
              "    <tr>\n",
              "      <th>domain_u</th>\n",
              "      <td>9043</td>\n",
              "      <td>894.0</td>\n",
              "    </tr>\n",
              "    <tr>\n",
              "      <th>smtp</th>\n",
              "      <td>7313</td>\n",
              "      <td>934.0</td>\n",
              "    </tr>\n",
              "    <tr>\n",
              "      <th>ftp_data</th>\n",
              "      <td>6860</td>\n",
              "      <td>851.0</td>\n",
              "    </tr>\n",
              "    <tr>\n",
              "      <th>eco_i</th>\n",
              "      <td>4586</td>\n",
              "      <td>262.0</td>\n",
              "    </tr>\n",
              "    <tr>\n",
              "      <th>other</th>\n",
              "      <td>4359</td>\n",
              "      <td>838.0</td>\n",
              "    </tr>\n",
              "    <tr>\n",
              "      <th>ecr_i</th>\n",
              "      <td>3077</td>\n",
              "      <td>752.0</td>\n",
              "    </tr>\n",
              "    <tr>\n",
              "      <th>telnet</th>\n",
              "      <td>2353</td>\n",
              "      <td>1626.0</td>\n",
              "    </tr>\n",
              "    <tr>\n",
              "      <th>finger</th>\n",
              "      <td>1767</td>\n",
              "      <td>136.0</td>\n",
              "    </tr>\n",
              "    <tr>\n",
              "      <th>ftp</th>\n",
              "      <td>1754</td>\n",
              "      <td>692.0</td>\n",
              "    </tr>\n",
              "    <tr>\n",
              "      <th>auth</th>\n",
              "      <td>955</td>\n",
              "      <td>67.0</td>\n",
              "    </tr>\n",
              "    <tr>\n",
              "      <th>Z39_50</th>\n",
              "      <td>862</td>\n",
              "      <td>45.0</td>\n",
              "    </tr>\n",
              "    <tr>\n",
              "      <th>uucp</th>\n",
              "      <td>780</td>\n",
              "      <td>50.0</td>\n",
              "    </tr>\n",
              "    <tr>\n",
              "      <th>courier</th>\n",
              "      <td>734</td>\n",
              "      <td>40.0</td>\n",
              "    </tr>\n",
              "    <tr>\n",
              "      <th>bgp</th>\n",
              "      <td>710</td>\n",
              "      <td>46.0</td>\n",
              "    </tr>\n",
              "    <tr>\n",
              "      <th>whois</th>\n",
              "      <td>693</td>\n",
              "      <td>40.0</td>\n",
              "    </tr>\n",
              "    <tr>\n",
              "      <th>uucp_path</th>\n",
              "      <td>689</td>\n",
              "      <td>46.0</td>\n",
              "    </tr>\n",
              "    <tr>\n",
              "      <th>iso_tsap</th>\n",
              "      <td>687</td>\n",
              "      <td>48.0</td>\n",
              "    </tr>\n",
              "    <tr>\n",
              "      <th>time</th>\n",
              "      <td>654</td>\n",
              "      <td>36.0</td>\n",
              "    </tr>\n",
              "    <tr>\n",
              "      <th>imap4</th>\n",
              "      <td>647</td>\n",
              "      <td>306.0</td>\n",
              "    </tr>\n",
              "    <tr>\n",
              "      <th>nnsp</th>\n",
              "      <td>630</td>\n",
              "      <td>42.0</td>\n",
              "    </tr>\n",
              "    <tr>\n",
              "      <th>vmnet</th>\n",
              "      <td>617</td>\n",
              "      <td>43.0</td>\n",
              "    </tr>\n",
              "    <tr>\n",
              "      <th>urp_i</th>\n",
              "      <td>602</td>\n",
              "      <td>23.0</td>\n",
              "    </tr>\n",
              "    <tr>\n",
              "      <th>domain</th>\n",
              "      <td>569</td>\n",
              "      <td>51.0</td>\n",
              "    </tr>\n",
              "    <tr>\n",
              "      <th>ctf</th>\n",
              "      <td>563</td>\n",
              "      <td>41.0</td>\n",
              "    </tr>\n",
              "    <tr>\n",
              "      <th>csnet_ns</th>\n",
              "      <td>545</td>\n",
              "      <td>34.0</td>\n",
              "    </tr>\n",
              "    <tr>\n",
              "      <th>supdup</th>\n",
              "      <td>544</td>\n",
              "      <td>27.0</td>\n",
              "    </tr>\n",
              "    <tr>\n",
              "      <th>discard</th>\n",
              "      <td>538</td>\n",
              "      <td>26.0</td>\n",
              "    </tr>\n",
              "    <tr>\n",
              "      <th>http_443</th>\n",
              "      <td>530</td>\n",
              "      <td>36.0</td>\n",
              "    </tr>\n",
              "    <tr>\n",
              "      <th>daytime</th>\n",
              "      <td>521</td>\n",
              "      <td>28.0</td>\n",
              "    </tr>\n",
              "    <tr>\n",
              "      <th>gopher</th>\n",
              "      <td>518</td>\n",
              "      <td>34.0</td>\n",
              "    </tr>\n",
              "    <tr>\n",
              "      <th>efs</th>\n",
              "      <td>485</td>\n",
              "      <td>33.0</td>\n",
              "    </tr>\n",
              "    <tr>\n",
              "      <th>systat</th>\n",
              "      <td>477</td>\n",
              "      <td>32.0</td>\n",
              "    </tr>\n",
              "    <tr>\n",
              "      <th>link</th>\n",
              "      <td>475</td>\n",
              "      <td>41.0</td>\n",
              "    </tr>\n",
              "    <tr>\n",
              "      <th>exec</th>\n",
              "      <td>474</td>\n",
              "      <td>27.0</td>\n",
              "    </tr>\n",
              "    <tr>\n",
              "      <th>hostnames</th>\n",
              "      <td>460</td>\n",
              "      <td>23.0</td>\n",
              "    </tr>\n",
              "    <tr>\n",
              "      <th>name</th>\n",
              "      <td>451</td>\n",
              "      <td>37.0</td>\n",
              "    </tr>\n",
              "    <tr>\n",
              "      <th>mtp</th>\n",
              "      <td>439</td>\n",
              "      <td>32.0</td>\n",
              "    </tr>\n",
              "    <tr>\n",
              "      <th>echo</th>\n",
              "      <td>434</td>\n",
              "      <td>37.0</td>\n",
              "    </tr>\n",
              "    <tr>\n",
              "      <th>klogin</th>\n",
              "      <td>433</td>\n",
              "      <td>21.0</td>\n",
              "    </tr>\n",
              "    <tr>\n",
              "      <th>login</th>\n",
              "      <td>429</td>\n",
              "      <td>29.0</td>\n",
              "    </tr>\n",
              "    <tr>\n",
              "      <th>ldap</th>\n",
              "      <td>410</td>\n",
              "      <td>19.0</td>\n",
              "    </tr>\n",
              "    <tr>\n",
              "      <th>netbios_dgm</th>\n",
              "      <td>405</td>\n",
              "      <td>25.0</td>\n",
              "    </tr>\n",
              "    <tr>\n",
              "      <th>sunrpc</th>\n",
              "      <td>381</td>\n",
              "      <td>159.0</td>\n",
              "    </tr>\n",
              "    <tr>\n",
              "      <th>netbios_ssn</th>\n",
              "      <td>362</td>\n",
              "      <td>15.0</td>\n",
              "    </tr>\n",
              "    <tr>\n",
              "      <th>netstat</th>\n",
              "      <td>360</td>\n",
              "      <td>26.0</td>\n",
              "    </tr>\n",
              "    <tr>\n",
              "      <th>netbios_ns</th>\n",
              "      <td>347</td>\n",
              "      <td>36.0</td>\n",
              "    </tr>\n",
              "    <tr>\n",
              "      <th>ssh</th>\n",
              "      <td>311</td>\n",
              "      <td>26.0</td>\n",
              "    </tr>\n",
              "    <tr>\n",
              "      <th>kshell</th>\n",
              "      <td>299</td>\n",
              "      <td>24.0</td>\n",
              "    </tr>\n",
              "    <tr>\n",
              "      <th>nntp</th>\n",
              "      <td>296</td>\n",
              "      <td>21.0</td>\n",
              "    </tr>\n",
              "    <tr>\n",
              "      <th>pop_3</th>\n",
              "      <td>264</td>\n",
              "      <td>1019.0</td>\n",
              "    </tr>\n",
              "    <tr>\n",
              "      <th>sql_net</th>\n",
              "      <td>245</td>\n",
              "      <td>18.0</td>\n",
              "    </tr>\n",
              "    <tr>\n",
              "      <th>IRC</th>\n",
              "      <td>187</td>\n",
              "      <td>13.0</td>\n",
              "    </tr>\n",
              "    <tr>\n",
              "      <th>ntp_u</th>\n",
              "      <td>168</td>\n",
              "      <td>10.0</td>\n",
              "    </tr>\n",
              "    <tr>\n",
              "      <th>rje</th>\n",
              "      <td>86</td>\n",
              "      <td>8.0</td>\n",
              "    </tr>\n",
              "    <tr>\n",
              "      <th>remote_job</th>\n",
              "      <td>78</td>\n",
              "      <td>14.0</td>\n",
              "    </tr>\n",
              "    <tr>\n",
              "      <th>pop_2</th>\n",
              "      <td>78</td>\n",
              "      <td>13.0</td>\n",
              "    </tr>\n",
              "    <tr>\n",
              "      <th>X11</th>\n",
              "      <td>73</td>\n",
              "      <td>15.0</td>\n",
              "    </tr>\n",
              "    <tr>\n",
              "      <th>printer</th>\n",
              "      <td>69</td>\n",
              "      <td>11.0</td>\n",
              "    </tr>\n",
              "    <tr>\n",
              "      <th>shell</th>\n",
              "      <td>65</td>\n",
              "      <td>16.0</td>\n",
              "    </tr>\n",
              "    <tr>\n",
              "      <th>urh_i</th>\n",
              "      <td>10</td>\n",
              "      <td>NaN</td>\n",
              "    </tr>\n",
              "    <tr>\n",
              "      <th>tim_i</th>\n",
              "      <td>8</td>\n",
              "      <td>6.0</td>\n",
              "    </tr>\n",
              "    <tr>\n",
              "      <th>red_i</th>\n",
              "      <td>8</td>\n",
              "      <td>NaN</td>\n",
              "    </tr>\n",
              "    <tr>\n",
              "      <th>pm_dump</th>\n",
              "      <td>5</td>\n",
              "      <td>16.0</td>\n",
              "    </tr>\n",
              "    <tr>\n",
              "      <th>tftp_u</th>\n",
              "      <td>3</td>\n",
              "      <td>1.0</td>\n",
              "    </tr>\n",
              "    <tr>\n",
              "      <th>http_8001</th>\n",
              "      <td>2</td>\n",
              "      <td>NaN</td>\n",
              "    </tr>\n",
              "    <tr>\n",
              "      <th>aol</th>\n",
              "      <td>2</td>\n",
              "      <td>NaN</td>\n",
              "    </tr>\n",
              "    <tr>\n",
              "      <th>harvest</th>\n",
              "      <td>2</td>\n",
              "      <td>NaN</td>\n",
              "    </tr>\n",
              "    <tr>\n",
              "      <th>http_2784</th>\n",
              "      <td>1</td>\n",
              "      <td>NaN</td>\n",
              "    </tr>\n",
              "  </tbody>\n",
              "</table>\n",
              "</div>\n",
              "      <button class=\"colab-df-convert\" onclick=\"convertToInteractive('df-00e61f1d-9ef7-4e55-9ce5-551712805cd8')\"\n",
              "              title=\"Convert this dataframe to an interactive table.\"\n",
              "              style=\"display:none;\">\n",
              "        \n",
              "  <svg xmlns=\"http://www.w3.org/2000/svg\" height=\"24px\"viewBox=\"0 0 24 24\"\n",
              "       width=\"24px\">\n",
              "    <path d=\"M0 0h24v24H0V0z\" fill=\"none\"/>\n",
              "    <path d=\"M18.56 5.44l.94 2.06.94-2.06 2.06-.94-2.06-.94-.94-2.06-.94 2.06-2.06.94zm-11 1L8.5 8.5l.94-2.06 2.06-.94-2.06-.94L8.5 2.5l-.94 2.06-2.06.94zm10 10l.94 2.06.94-2.06 2.06-.94-2.06-.94-.94-2.06-.94 2.06-2.06.94z\"/><path d=\"M17.41 7.96l-1.37-1.37c-.4-.4-.92-.59-1.43-.59-.52 0-1.04.2-1.43.59L10.3 9.45l-7.72 7.72c-.78.78-.78 2.05 0 2.83L4 21.41c.39.39.9.59 1.41.59.51 0 1.02-.2 1.41-.59l7.78-7.78 2.81-2.81c.8-.78.8-2.07 0-2.86zM5.41 20L4 18.59l7.72-7.72 1.47 1.35L5.41 20z\"/>\n",
              "  </svg>\n",
              "      </button>\n",
              "      \n",
              "  <style>\n",
              "    .colab-df-container {\n",
              "      display:flex;\n",
              "      flex-wrap:wrap;\n",
              "      gap: 12px;\n",
              "    }\n",
              "\n",
              "    .colab-df-convert {\n",
              "      background-color: #E8F0FE;\n",
              "      border: none;\n",
              "      border-radius: 50%;\n",
              "      cursor: pointer;\n",
              "      display: none;\n",
              "      fill: #1967D2;\n",
              "      height: 32px;\n",
              "      padding: 0 0 0 0;\n",
              "      width: 32px;\n",
              "    }\n",
              "\n",
              "    .colab-df-convert:hover {\n",
              "      background-color: #E2EBFA;\n",
              "      box-shadow: 0px 1px 2px rgba(60, 64, 67, 0.3), 0px 1px 3px 1px rgba(60, 64, 67, 0.15);\n",
              "      fill: #174EA6;\n",
              "    }\n",
              "\n",
              "    [theme=dark] .colab-df-convert {\n",
              "      background-color: #3B4455;\n",
              "      fill: #D2E3FC;\n",
              "    }\n",
              "\n",
              "    [theme=dark] .colab-df-convert:hover {\n",
              "      background-color: #434B5C;\n",
              "      box-shadow: 0px 1px 3px 1px rgba(0, 0, 0, 0.15);\n",
              "      filter: drop-shadow(0px 1px 2px rgba(0, 0, 0, 0.3));\n",
              "      fill: #FFFFFF;\n",
              "    }\n",
              "  </style>\n",
              "\n",
              "      <script>\n",
              "        const buttonEl =\n",
              "          document.querySelector('#df-00e61f1d-9ef7-4e55-9ce5-551712805cd8 button.colab-df-convert');\n",
              "        buttonEl.style.display =\n",
              "          google.colab.kernel.accessAllowed ? 'block' : 'none';\n",
              "\n",
              "        async function convertToInteractive(key) {\n",
              "          const element = document.querySelector('#df-00e61f1d-9ef7-4e55-9ce5-551712805cd8');\n",
              "          const dataTable =\n",
              "            await google.colab.kernel.invokeFunction('convertToInteractive',\n",
              "                                                     [key], {});\n",
              "          if (!dataTable) return;\n",
              "\n",
              "          const docLinkHtml = 'Like what you see? Visit the ' +\n",
              "            '<a target=\"_blank\" href=https://colab.research.google.com/notebooks/data_table.ipynb>data table notebook</a>'\n",
              "            + ' to learn more about interactive tables.';\n",
              "          element.innerHTML = '';\n",
              "          dataTable['output_type'] = 'display_data';\n",
              "          await google.colab.output.renderOutput(dataTable, element);\n",
              "          const docLink = document.createElement('div');\n",
              "          docLink.innerHTML = docLinkHtml;\n",
              "          element.appendChild(docLink);\n",
              "        }\n",
              "      </script>\n",
              "    </div>\n",
              "  </div>\n",
              "  "
            ]
          },
          "metadata": {},
          "execution_count": 25
        }
      ],
      "source": [
        "train_2 = df['2'].value_counts()\n",
        "train_2.rename('Train', inplace=True)\n",
        "test_2 = df2['2'].value_counts()\n",
        "test_2.rename('Test', inplace=True)\n",
        "cnct = pd.concat([train_2, test_2], axis = 1)\n",
        "cnct"
      ],
      "id": "NFJBiwv4cXHu"
    },
    {
      "cell_type": "code",
      "execution_count": null,
      "metadata": {
        "colab": {
          "base_uri": "https://localhost:8080/",
          "height": 394
        },
        "id": "OfdiwlCReLRJ",
        "outputId": "fd0b3eef-b871-4ec0-92cb-970e767e224f"
      },
      "outputs": [
        {
          "output_type": "execute_result",
          "data": {
            "text/plain": [
              "        Train   Test\n",
              "SF      74945  14875\n",
              "S0      34851   2013\n",
              "REJ     11233   3850\n",
              "RSTR     2421    669\n",
              "RSTO     1562    773\n",
              "S1        365     21\n",
              "SH        271     73\n",
              "S2        127     15\n",
              "RSTOS0    103      2\n",
              "S3         49    249\n",
              "OTH        46      4"
            ],
            "text/html": [
              "\n",
              "  <div id=\"df-aae524b2-9f32-45fd-ba5f-1da9db318214\">\n",
              "    <div class=\"colab-df-container\">\n",
              "      <div>\n",
              "<style scoped>\n",
              "    .dataframe tbody tr th:only-of-type {\n",
              "        vertical-align: middle;\n",
              "    }\n",
              "\n",
              "    .dataframe tbody tr th {\n",
              "        vertical-align: top;\n",
              "    }\n",
              "\n",
              "    .dataframe thead th {\n",
              "        text-align: right;\n",
              "    }\n",
              "</style>\n",
              "<table border=\"1\" class=\"dataframe\">\n",
              "  <thead>\n",
              "    <tr style=\"text-align: right;\">\n",
              "      <th></th>\n",
              "      <th>Train</th>\n",
              "      <th>Test</th>\n",
              "    </tr>\n",
              "  </thead>\n",
              "  <tbody>\n",
              "    <tr>\n",
              "      <th>SF</th>\n",
              "      <td>74945</td>\n",
              "      <td>14875</td>\n",
              "    </tr>\n",
              "    <tr>\n",
              "      <th>S0</th>\n",
              "      <td>34851</td>\n",
              "      <td>2013</td>\n",
              "    </tr>\n",
              "    <tr>\n",
              "      <th>REJ</th>\n",
              "      <td>11233</td>\n",
              "      <td>3850</td>\n",
              "    </tr>\n",
              "    <tr>\n",
              "      <th>RSTR</th>\n",
              "      <td>2421</td>\n",
              "      <td>669</td>\n",
              "    </tr>\n",
              "    <tr>\n",
              "      <th>RSTO</th>\n",
              "      <td>1562</td>\n",
              "      <td>773</td>\n",
              "    </tr>\n",
              "    <tr>\n",
              "      <th>S1</th>\n",
              "      <td>365</td>\n",
              "      <td>21</td>\n",
              "    </tr>\n",
              "    <tr>\n",
              "      <th>SH</th>\n",
              "      <td>271</td>\n",
              "      <td>73</td>\n",
              "    </tr>\n",
              "    <tr>\n",
              "      <th>S2</th>\n",
              "      <td>127</td>\n",
              "      <td>15</td>\n",
              "    </tr>\n",
              "    <tr>\n",
              "      <th>RSTOS0</th>\n",
              "      <td>103</td>\n",
              "      <td>2</td>\n",
              "    </tr>\n",
              "    <tr>\n",
              "      <th>S3</th>\n",
              "      <td>49</td>\n",
              "      <td>249</td>\n",
              "    </tr>\n",
              "    <tr>\n",
              "      <th>OTH</th>\n",
              "      <td>46</td>\n",
              "      <td>4</td>\n",
              "    </tr>\n",
              "  </tbody>\n",
              "</table>\n",
              "</div>\n",
              "      <button class=\"colab-df-convert\" onclick=\"convertToInteractive('df-aae524b2-9f32-45fd-ba5f-1da9db318214')\"\n",
              "              title=\"Convert this dataframe to an interactive table.\"\n",
              "              style=\"display:none;\">\n",
              "        \n",
              "  <svg xmlns=\"http://www.w3.org/2000/svg\" height=\"24px\"viewBox=\"0 0 24 24\"\n",
              "       width=\"24px\">\n",
              "    <path d=\"M0 0h24v24H0V0z\" fill=\"none\"/>\n",
              "    <path d=\"M18.56 5.44l.94 2.06.94-2.06 2.06-.94-2.06-.94-.94-2.06-.94 2.06-2.06.94zm-11 1L8.5 8.5l.94-2.06 2.06-.94-2.06-.94L8.5 2.5l-.94 2.06-2.06.94zm10 10l.94 2.06.94-2.06 2.06-.94-2.06-.94-.94-2.06-.94 2.06-2.06.94z\"/><path d=\"M17.41 7.96l-1.37-1.37c-.4-.4-.92-.59-1.43-.59-.52 0-1.04.2-1.43.59L10.3 9.45l-7.72 7.72c-.78.78-.78 2.05 0 2.83L4 21.41c.39.39.9.59 1.41.59.51 0 1.02-.2 1.41-.59l7.78-7.78 2.81-2.81c.8-.78.8-2.07 0-2.86zM5.41 20L4 18.59l7.72-7.72 1.47 1.35L5.41 20z\"/>\n",
              "  </svg>\n",
              "      </button>\n",
              "      \n",
              "  <style>\n",
              "    .colab-df-container {\n",
              "      display:flex;\n",
              "      flex-wrap:wrap;\n",
              "      gap: 12px;\n",
              "    }\n",
              "\n",
              "    .colab-df-convert {\n",
              "      background-color: #E8F0FE;\n",
              "      border: none;\n",
              "      border-radius: 50%;\n",
              "      cursor: pointer;\n",
              "      display: none;\n",
              "      fill: #1967D2;\n",
              "      height: 32px;\n",
              "      padding: 0 0 0 0;\n",
              "      width: 32px;\n",
              "    }\n",
              "\n",
              "    .colab-df-convert:hover {\n",
              "      background-color: #E2EBFA;\n",
              "      box-shadow: 0px 1px 2px rgba(60, 64, 67, 0.3), 0px 1px 3px 1px rgba(60, 64, 67, 0.15);\n",
              "      fill: #174EA6;\n",
              "    }\n",
              "\n",
              "    [theme=dark] .colab-df-convert {\n",
              "      background-color: #3B4455;\n",
              "      fill: #D2E3FC;\n",
              "    }\n",
              "\n",
              "    [theme=dark] .colab-df-convert:hover {\n",
              "      background-color: #434B5C;\n",
              "      box-shadow: 0px 1px 3px 1px rgba(0, 0, 0, 0.15);\n",
              "      filter: drop-shadow(0px 1px 2px rgba(0, 0, 0, 0.3));\n",
              "      fill: #FFFFFF;\n",
              "    }\n",
              "  </style>\n",
              "\n",
              "      <script>\n",
              "        const buttonEl =\n",
              "          document.querySelector('#df-aae524b2-9f32-45fd-ba5f-1da9db318214 button.colab-df-convert');\n",
              "        buttonEl.style.display =\n",
              "          google.colab.kernel.accessAllowed ? 'block' : 'none';\n",
              "\n",
              "        async function convertToInteractive(key) {\n",
              "          const element = document.querySelector('#df-aae524b2-9f32-45fd-ba5f-1da9db318214');\n",
              "          const dataTable =\n",
              "            await google.colab.kernel.invokeFunction('convertToInteractive',\n",
              "                                                     [key], {});\n",
              "          if (!dataTable) return;\n",
              "\n",
              "          const docLinkHtml = 'Like what you see? Visit the ' +\n",
              "            '<a target=\"_blank\" href=https://colab.research.google.com/notebooks/data_table.ipynb>data table notebook</a>'\n",
              "            + ' to learn more about interactive tables.';\n",
              "          element.innerHTML = '';\n",
              "          dataTable['output_type'] = 'display_data';\n",
              "          await google.colab.output.renderOutput(dataTable, element);\n",
              "          const docLink = document.createElement('div');\n",
              "          docLink.innerHTML = docLinkHtml;\n",
              "          element.appendChild(docLink);\n",
              "        }\n",
              "      </script>\n",
              "    </div>\n",
              "  </div>\n",
              "  "
            ]
          },
          "metadata": {},
          "execution_count": 26
        }
      ],
      "source": [
        "train_3 = df['3'].value_counts()\n",
        "train_3.rename('Train', inplace=True)\n",
        "test_3 = df2['3'].value_counts()\n",
        "test_3.rename('Test', inplace=True)\n",
        "cnct = pd.concat([train_3, test_3], axis = 1)\n",
        "cnct"
      ],
      "id": "OfdiwlCReLRJ"
    },
    {
      "cell_type": "code",
      "execution_count": null,
      "metadata": {
        "id": "CtWrB74-g9rp"
      },
      "outputs": [],
      "source": [
        "df_X = df.drop('41', axis=1)\n",
        "le = LabelEncoder()\n",
        "for i in df_X:\n",
        "  if df_X[i].dtype=='object':\n",
        "    le.fit(df_X[i])\n",
        "    df_X[i] = le.transform(df_X[i])\n",
        "    df2[i] = le.transform(df2[i])\n",
        "df.iloc[:,:40] = df_X"
      ],
      "id": "CtWrB74-g9rp"
    },
    {
      "cell_type": "code",
      "execution_count": null,
      "metadata": {
        "id": "B_QBteI3FboO"
      },
      "outputs": [],
      "source": [
        "df.iloc[:,:40] = normalize_data(df.iloc[:,:40])\n",
        "df2.iloc[:,:40] = normalize_data(df2.iloc[:,:40])"
      ],
      "id": "B_QBteI3FboO"
    },
    {
      "cell_type": "code",
      "execution_count": null,
      "metadata": {
        "id": "dDY2mxULlf8W"
      },
      "outputs": [],
      "source": [
        "u2r_attacks = df[df['41'].apply(lambda x: x in u2r)].copy()\n",
        "r2l_attacks = df[df['41'].apply(lambda x: x in r2l)].copy()\n",
        "dos_attacks = df[df['41'].apply(lambda x: x in dos)].copy()\n",
        "probe_attacks = df[df['41'].apply(lambda x: x in probe)].copy()\n",
        "normal_traffic = df[df['41'].apply(lambda x: x in normal)].copy()\n",
        "\n",
        "df['41'] = df['41'].map(\n",
        "    lambda x: 'malicious' if x in r2l \n",
        "    else 'malicious' if x in u2r \n",
        "    else 'malicious' if x in dos \n",
        "    else 'malicious' if x in probe \n",
        "    else 'normal' if x is 'normal'\n",
        "    else x\n",
        "    )\n",
        "\n",
        "df2['41'] = df2['41'].map(\n",
        "    lambda x: 'malicious' if x in r2l \n",
        "    else 'malicious' if x in u2r \n",
        "    else 'malicious' if x in dos \n",
        "    else 'malicious' if x in probe \n",
        "    else 'normal' if x is 'normal'\n",
        "    else x\n",
        "    )"
      ],
      "id": "dDY2mxULlf8W"
    },
    {
      "cell_type": "markdown",
      "metadata": {
        "id": "lc4aEOflw528"
      },
      "source": [
        "### Training set value counts"
      ],
      "id": "lc4aEOflw528"
    },
    {
      "cell_type": "code",
      "execution_count": null,
      "metadata": {
        "colab": {
          "base_uri": "https://localhost:8080/"
        },
        "id": "UEFVMzAOgiLk",
        "outputId": "e0026daa-75fd-4d21-ac0b-d4a89788f0c8"
      },
      "outputs": [
        {
          "output_type": "execute_result",
          "data": {
            "text/plain": [
              "normal       67343\n",
              "malicious    58630\n",
              "Name: 41, dtype: int64"
            ]
          },
          "metadata": {},
          "execution_count": 30
        }
      ],
      "source": [
        "df['41'].value_counts()"
      ],
      "id": "UEFVMzAOgiLk"
    },
    {
      "cell_type": "markdown",
      "metadata": {
        "id": "v7WffV5JxAev"
      },
      "source": [
        "### Testing set value counts"
      ],
      "id": "v7WffV5JxAev"
    },
    {
      "cell_type": "code",
      "execution_count": null,
      "metadata": {
        "colab": {
          "base_uri": "https://localhost:8080/"
        },
        "id": "rXFth6dhpqQ2",
        "outputId": "af4b40bb-2faf-4d3e-9467-ccc3164febca"
      },
      "outputs": [
        {
          "output_type": "stream",
          "name": "stdout",
          "text": [
            "malicious    12833\n",
            "normal        9711\n",
            "Name: 41, dtype: int64\n"
          ]
        }
      ],
      "source": [
        "print(df2['41'].value_counts())"
      ],
      "id": "rXFth6dhpqQ2"
    },
    {
      "cell_type": "code",
      "execution_count": null,
      "metadata": {
        "id": "e613e569"
      },
      "outputs": [],
      "source": [
        "#In case of multi-class classification\n",
        "#df_Y = le.fit(df['41']).transform(df['41'])\n",
        "#df.iloc[:,41] = df_Y\n",
        "#df_Y = le.transform(df2['41'])\n",
        "#df2.iloc[:,41] = df_Y\n",
        "\n",
        "#In case of binary classification\n",
        "df.iloc[:,41] = df['41'].map(lambda x: 0 if x=='normal' else 1)\n",
        "df2.iloc[:,41] = df2['41'].map(lambda x: 0 if x=='normal' else 1)\n",
        "\n",
        "X_train = df.drop(['41'],axis=1)\n",
        "y_train = df['41']\n",
        "\n",
        "X_test = df2.drop(['41'],axis=1)\n",
        "y_test = df2['41']\n",
        "X_test = torch.tensor(np.array(X_test), dtype=torch.float, device=device)"
      ],
      "id": "e613e569"
    },
    {
      "cell_type": "markdown",
      "metadata": {
        "id": "sjvMDNKmLxVk"
      },
      "source": [
        "**Creating TensorDatasets**"
      ],
      "id": "sjvMDNKmLxVk"
    },
    {
      "cell_type": "code",
      "execution_count": null,
      "metadata": {
        "colab": {
          "base_uri": "https://localhost:8080/"
        },
        "id": "BGSzLNqmH31k",
        "outputId": "ca181127-6752-4754-9a4b-5967211d1ae7"
      },
      "outputs": [
        {
          "output_type": "stream",
          "name": "stderr",
          "text": [
            "/usr/local/lib/python3.7/dist-packages/ipykernel_launcher.py:6: UserWarning: To copy construct from a tensor, it is recommended to use sourceTensor.clone().detach() or sourceTensor.clone().detach().requires_grad_(True), rather than torch.tensor(sourceTensor).\n",
            "  \n"
          ]
        }
      ],
      "source": [
        "r2l_dataset = create_dataloader(r2l_attacks, None, batch_size = 64)\n",
        "u2r_dataset = create_dataloader(u2r_attacks, None, batch_size = 64)\n",
        "dos_dataset = create_dataloader(dos_attacks, None, batch_size = 64)\n",
        "probe_dataset = create_dataloader(probe_attacks, None, batch_size = 64)\n",
        "normal_dataset = create_dataloader(normal_traffic, None, batch_size = 64)"
      ],
      "id": "BGSzLNqmH31k"
    },
    {
      "cell_type": "code",
      "execution_count": null,
      "metadata": {
        "colab": {
          "base_uri": "https://localhost:8080/"
        },
        "id": "bjwy9_5sbVXK",
        "outputId": "fecc587f-6396-46b7-9f68-6accfd850433"
      },
      "outputs": [
        {
          "output_type": "execute_result",
          "data": {
            "text/plain": [
              "<All keys matched successfully>"
            ]
          },
          "metadata": {},
          "execution_count": 34
        }
      ],
      "source": [
        "r2l_generator = Generator(100,41)\n",
        "r2l_generator.load_state_dict(torch.load('../models/r2l_gen.pt'))\n",
        "u2r_generator = Generator(100,41)\n",
        "u2r_generator.load_state_dict(torch.load('../models/u2r_gen.pt'))\n",
        "dos_generator = Generator(100,41)\n",
        "dos_generator.load_state_dict(torch.load('../models/dos_gen.pt'))\n",
        "probe_generator = Generator(100,41)\n",
        "probe_generator.load_state_dict(torch.load('../models/probe_gen.pt'))\n",
        "normal_generator = Generator(100,41)\n",
        "normal_generator.load_state_dict(torch.load('../models/normal_gen.pt'))"
      ],
      "id": "bjwy9_5sbVXK"
    },
    {
      "cell_type": "code",
      "source": [
        "r2l_attacks.shape, probe_attacks.shape"
      ],
      "metadata": {
        "colab": {
          "base_uri": "https://localhost:8080/"
        },
        "id": "S6yvL_v0oRji",
        "outputId": "227f0021-1946-417f-f71f-86cecbb07957"
      },
      "id": "S6yvL_v0oRji",
      "execution_count": null,
      "outputs": [
        {
          "output_type": "execute_result",
          "data": {
            "text/plain": [
              "((995, 42), (11656, 42))"
            ]
          },
          "metadata": {},
          "execution_count": 35
        }
      ]
    },
    {
      "cell_type": "code",
      "execution_count": null,
      "metadata": {
        "id": "34FEtROXf_5d"
      },
      "outputs": [],
      "source": [
        "sample_space = 40000\n",
        "total_attacks = sample_space * 1\n",
        "r2l_req = 0 if sample_space <= r2l_attacks.shape[0] else sample_space - r2l_attacks.shape[0]\n",
        "probe_req = 0 if sample_space <= probe_attacks.shape[0] else sample_space - probe_attacks.shape[0]\n",
        "dos_req = 0 if sample_space <= dos_attacks.shape[0] else sample_space - dos_attacks.shape[0]\n",
        "u2r_req = 0 if sample_space <= u2r_attacks.shape[0] else sample_space - u2r_attacks.shape[0]\n",
        "normal_req = 0 if total_attacks <= normal_traffic.shape[0] else total_attacks - normal_traffic.shape[0]"
      ],
      "id": "34FEtROXf_5d"
    },
    {
      "cell_type": "code",
      "execution_count": null,
      "metadata": {
        "id": "wFzk4DuyMF9m"
      },
      "outputs": [],
      "source": [
        "r2l_generated = generate_data(generator=r2l_generator, num_instances=r2l_req, z_dim=100)\n",
        "u2r_generated = generate_data(generator=u2r_generator, num_instances=u2r_req, z_dim=100)\n",
        "dos_generated = generate_data(generator=dos_generator, num_instances=dos_req, z_dim=100)\n",
        "probe_generated = generate_data(generator=probe_generator, num_instances=probe_req, z_dim=100)\n",
        "normal_generated = generate_data(generator=normal_generator, num_instances=normal_req, z_dim=100)"
      ],
      "id": "wFzk4DuyMF9m"
    },
    {
      "cell_type": "code",
      "source": [
        "r2l_generated.shape"
      ],
      "metadata": {
        "colab": {
          "base_uri": "https://localhost:8080/"
        },
        "id": "_eSqN6fu2Fml",
        "outputId": "c5167cd2-7101-435b-b021-e6ab7b1e7859"
      },
      "id": "_eSqN6fu2Fml",
      "execution_count": null,
      "outputs": [
        {
          "output_type": "execute_result",
          "data": {
            "text/plain": [
              "torch.Size([39005, 41])"
            ]
          },
          "metadata": {},
          "execution_count": 38
        }
      ]
    },
    {
      "cell_type": "code",
      "execution_count": null,
      "metadata": {
        "id": "WN32Jmi13Unz"
      },
      "outputs": [],
      "source": [
        "r2l_generated = pd.DataFrame(r2l_generated.detach().numpy())\n",
        "u2r_generated = pd.DataFrame(u2r_generated.detach().numpy())\n",
        "dos_generated = pd.DataFrame(dos_generated.detach().numpy())\n",
        "probe_generated = pd.DataFrame(probe_generated.detach().numpy())\n",
        "normal_generated = pd.DataFrame(normal_generated.detach().numpy())"
      ],
      "id": "WN32Jmi13Unz"
    },
    {
      "cell_type": "code",
      "source": [
        "r2l_attacks.columns = [i for i in range(df.shape[1])]\n",
        "r2l_attacks = r2l_attacks.append(r2l_generated)\n",
        "u2r_attacks.columns = [i for i in range(df.shape[1])]\n",
        "u2r_attacks = u2r_attacks.append(u2r_generated)\n",
        "dos_attacks.columns = [i for i in range(df.shape[1])]\n",
        "dos_attacks = dos_attacks.append(dos_generated)[:sample_space]\n",
        "probe_attacks.columns = [i for i in range(df.shape[1])]\n",
        "probe_attacks = probe_attacks.append(probe_generated)\n",
        "normal_traffic.columns = [i for i in range(df.shape[1])]\n",
        "normal_traffic = normal_traffic.append(normal_generated)[:sample_space]"
      ],
      "metadata": {
        "id": "8ToRjZdjzPDQ"
      },
      "id": "8ToRjZdjzPDQ",
      "execution_count": null,
      "outputs": []
    },
    {
      "cell_type": "code",
      "source": [
        "def create_stratified_dataset(x, sample_space):\n",
        "  dataset = []\n",
        "\n",
        "  x[0].iloc[:,41] = 1\n",
        "  x[1].iloc[:,41] = 1\n",
        "  x[2].iloc[:,41] = 1\n",
        "  x[3].iloc[:,41] = 1\n",
        "\n",
        "  x[0] = x[0].to_numpy()\n",
        "  x[1] = x[1].to_numpy()\n",
        "  x[2] = x[2].to_numpy()\n",
        "  x[3] = x[3].to_numpy()\n",
        "  x[4] = x[4].to_numpy()\n",
        "\n",
        "  for i in range(sample_space):\n",
        "    dataset.append(x[0][i])\n",
        "    dataset.append(x[1][i])\n",
        "    dataset.append(x[2][i])\n",
        "    dataset.append(x[3][i])\n",
        "    dataset.append(x[4][i])\n",
        "    \n",
        "  return pd.DataFrame(dataset, columns=[str(i) for i in range(42)])"
      ],
      "metadata": {
        "id": "RKudtdfr4LCo"
      },
      "id": "RKudtdfr4LCo",
      "execution_count": null,
      "outputs": []
    },
    {
      "cell_type": "code",
      "execution_count": null,
      "metadata": {
        "id": "gBOc4FCif72h"
      },
      "outputs": [],
      "source": [
        "dataset = pd.concat([r2l_attacks, u2r_attacks, dos_attacks, probe_attacks], axis=0)\n",
        "dataset.columns = [str(i) for i in range(len(dataset.columns))]\n",
        "normal_traffic.columns = [str(i) for i in range(len(dataset.columns))]\n",
        "dataset.iloc[:,41] = 1\n",
        "normal_traffic.iloc[:,41] = 0\n",
        "dataset.reset_index(inplace=True, drop=True)\n",
        "dataset = pd.concat([dataset, normal_traffic])\n",
        "dataset = dataset.sample(frac=1)\n",
        "#dataset = create_stratified_dataset([r2l_attacks, u2r_attacks, dos_attacks, probe_attacks, normal_traffic], sample_space)"
      ],
      "id": "gBOc4FCif72h"
    },
    {
      "cell_type": "code",
      "execution_count": null,
      "metadata": {
        "id": "t7s8q_Gwe9U_",
        "colab": {
          "base_uri": "https://localhost:8080/"
        },
        "outputId": "afcf9b76-37ac-4cef-b6f2-e205109f1af9"
      },
      "outputs": [
        {
          "output_type": "execute_result",
          "data": {
            "text/plain": [
              "((40000, 42), (40000, 42), (40000, 42), (40000, 42), (40000, 42))"
            ]
          },
          "metadata": {},
          "execution_count": 43
        }
      ],
      "source": [
        "r2l_attacks.shape,u2r_attacks.shape,dos_attacks.shape,probe_attacks.shape, normal_traffic.shape"
      ],
      "id": "t7s8q_Gwe9U_"
    },
    {
      "cell_type": "code",
      "execution_count": null,
      "metadata": {
        "id": "T58H0H8FL9Dv"
      },
      "outputs": [],
      "source": [
        "X = dataset.drop('41', axis=1).to_numpy()\n",
        "y = dataset['41']"
      ],
      "id": "T58H0H8FL9Dv"
    },
    {
      "cell_type": "code",
      "execution_count": null,
      "metadata": {
        "id": "KmmHvUm1M8VH",
        "colab": {
          "base_uri": "https://localhost:8080/"
        },
        "outputId": "a69c3a78-fd7f-478d-ec80-a960b61a3afe"
      },
      "outputs": [
        {
          "output_type": "stream",
          "name": "stdout",
          "text": [
            "(200000, 41) final size\n",
            "Following are the label counts\n",
            "1    160000\n",
            "0     40000\n",
            "Name: 41, dtype: int64\n"
          ]
        }
      ],
      "source": [
        "print(f'{X.shape} final size') \n",
        "print(f'Following are the label counts\\n{y.value_counts()}')"
      ],
      "id": "KmmHvUm1M8VH"
    },
    {
      "cell_type": "code",
      "execution_count": null,
      "metadata": {
        "id": "sU72dH_Yw10L"
      },
      "outputs": [],
      "source": [
        "pt_x_train = torch.tensor(X, dtype=torch.float).to(device)\n",
        "y = nn.functional.one_hot(torch.tensor(y.to_numpy(dtype='int')))\n",
        "pt_y_train = y.float().to(device)\n",
        "tensor_dataset = TensorDataset(pt_x_train, pt_y_train)"
      ],
      "id": "sU72dH_Yw10L"
    },
    {
      "cell_type": "code",
      "execution_count": null,
      "metadata": {
        "id": "WbuD8PGaahxT",
        "colab": {
          "base_uri": "https://localhost:8080/"
        },
        "outputId": "29c52c5a-326e-4c4b-db6b-78c2b866a63d"
      },
      "outputs": [
        {
          "output_type": "execute_result",
          "data": {
            "text/plain": [
              "(torch.Size([200000, 41]), torch.Size([200000, 2]))"
            ]
          },
          "metadata": {},
          "execution_count": 47
        }
      ],
      "source": [
        "pt_x_train.shape, pt_y_train.shape"
      ],
      "id": "WbuD8PGaahxT"
    },
    {
      "cell_type": "markdown",
      "metadata": {
        "id": "cd8383d7"
      },
      "source": [
        "## **MLP**\n",
        "\n"
      ],
      "id": "cd8383d7"
    },
    {
      "cell_type": "code",
      "execution_count": null,
      "metadata": {
        "id": "TCuvg7npEMqU"
      },
      "outputs": [],
      "source": [
        "class MLP(nn.Module):\n",
        "  data_dim = 41\n",
        "  def __init__(self):\n",
        "      super(MLP, self).__init__()\n",
        "      self.mlp = nn.Sequential(\n",
        "          nn.Linear(self.data_dim, 80),\n",
        "          nn.ReLU(),\n",
        "          nn.BatchNorm1d(80)\n",
        "      )\n",
        "      '''self.cnn = nn.Sequential(\n",
        "          nn.Conv1d(1,10,kernel_size = (1,3), stride=1),\n",
        "          nn.ReLU(),\n",
        "          nn.BatchNorm2d(10),\n",
        "          nn.Conv1d(10,10,kernel_size = (1,3), stride=1),\n",
        "          nn.ReLU(),\n",
        "          nn.BatchNorm2d(10),\n",
        "          nn.Conv1d(10,10,kernel_size = (1,3), stride=1),\n",
        "          nn.ReLU(),\n",
        "          nn.BatchNorm2d(10),\n",
        "          nn.Conv1d(10,10,kernel_size = (1,3), stride=1),\n",
        "          nn.ReLU(),\n",
        "          nn.BatchNorm2d(10),\n",
        "          nn.Flatten(),\n",
        "          nn.Linear(330, 24),\n",
        "          nn.ReLU(),\n",
        "      )'''\n",
        "\n",
        "      self.clf = nn.Sequential(\n",
        "          nn.Linear(80,2),\n",
        "          nn.Sigmoid()\n",
        "      )\n",
        "\n",
        "  def forward(self, x):\n",
        "      features = self.mlp(x)\n",
        "      return self.clf(features)\n",
        "\n",
        "  def transform(self, x):\n",
        "      return self.cnn(x)"
      ],
      "id": "TCuvg7npEMqU"
    },
    {
      "cell_type": "code",
      "source": [
        "def validation_accuracy(model, X, y):\n",
        "  model.eval()\n",
        "  with torch.no_grad():\n",
        "    lr_probs = model(X).detach().squeeze()\n",
        "  preds = torch.argmax(lr_probs, dim=1).cpu()\n",
        "  acc = accuracy_score(y, preds)\n",
        "  model.train()\n",
        "  return acc"
      ],
      "metadata": {
        "id": "t9WPOBqDNkjC"
      },
      "id": "t9WPOBqDNkjC",
      "execution_count": null,
      "outputs": []
    },
    {
      "cell_type": "code",
      "source": [
        "batch_sizes = [32, 64, 128, 256]\n",
        "epochs_ = [25, 40, 55, 70]\n",
        "learning_rates = [1e-3, 1e-2, 1e-1]"
      ],
      "metadata": {
        "id": "LQaoWXrLRh8y"
      },
      "id": "LQaoWXrLRh8y",
      "execution_count": null,
      "outputs": []
    },
    {
      "cell_type": "code",
      "source": [
        "start_time = time.time()"
      ],
      "metadata": {
        "id": "fYd6GYz2boYY"
      },
      "id": "fYd6GYz2boYY",
      "execution_count": null,
      "outputs": []
    },
    {
      "cell_type": "code",
      "execution_count": null,
      "metadata": {
        "id": "FsOpwkvtch7o",
        "colab": {
          "base_uri": "https://localhost:8080/",
          "height": 1000,
          "referenced_widgets": [
            "c243d05b19ef4f2f987f42523a7911b9",
            "a2d6aa0449b743be95c6334def67a6fb",
            "0f43892d327947318bfa993db50cc01a",
            "a0c81303b8eb4116bd9233f890819361",
            "5bfd62f3ee654e6ebdafa9bd9b627923",
            "543943b3a2ec4f6bb083d8d8c8930f72",
            "23deb72a6fa54527bd3494d51d4a496e",
            "55fdeeb742d74f5888effa1338b5b53a",
            "6ea4e14763604a50a76e9ad5e6623492",
            "35b834cf11ce44f1bdd183b0bda8429e",
            "317cfbc2e0d94d37932f6447878d3a03",
            "5992192588074e0aa8c46ebdd5c5ba84",
            "11e9e408c8484fff883989e056d8f15d",
            "918c35223dbd42af8d869d8aa2f0ee30",
            "b20d460466564024b45600f1b4df78dc",
            "84884bd44393410baa2649dd0c8ac8e2",
            "ef80c8339a0046c88d9b1b7c7ab2f8dc",
            "96054044f0b2485bb5658a9e03668da9",
            "660b274cd0e4424fb96db3b0a22d9dbf",
            "9cf7e3b3726e4d9491976e9d4a71dfd3",
            "4da701a0177944c68243e70d3b246f29",
            "86c16a57d72443ef9573c5bb551ae20f",
            "88bceac44cf84ba281df8e817c2e1ed3",
            "acce291fa26b49e49066056cd7b5ff2a",
            "473aa5d9373243ec9bc0eb5de2e1d431",
            "d25c92d658644b71b520f8b0f3812833",
            "b9cf7d78dc9a473a972ddb5f18596151",
            "c593b0ad77f647bf90e33c636de0f682",
            "7da3311d0b3542a6bf0dc9ba605e02f4",
            "9cff7873f01943b4ad751307025f0943",
            "0e6c8292d0a64679bf9d9ed6dd1f37e9",
            "19c8cae10dd243f9ad98608e67ff1590",
            "9223c4da40374437b45f1e72268f3697",
            "0e91bc8364b3430eb04972cd72ef0666",
            "a299ed7a9d114a35851140c503141d60",
            "2a9b2fb04b9844b497526b6fc14af5ab",
            "78ef3312431d41589048617f4036b348",
            "552c1e0cd9e44ce59e4d64eb2ce84918",
            "9a066ad110fa4830a4f5f3ead00c72a8",
            "219e806347804626b31f93b98adac22b",
            "3f8296b18f764d6b855b053b154d8875",
            "c7502b4f63e64a95b37f369504147e7b",
            "fe8bf4438ae7494cb744b757b386bf62",
            "16107ce2ef4944f382064c151d64e7e2",
            "da032bdff8444a73887a8024da5cc1f6",
            "4622fa8f860f4a3f8e139f6aa3a97bc7",
            "e757d7e6dd054e5c9b80b33ba52e738b",
            "9667d06bfc254c49acef4169a205837c",
            "d5643c0a193e4454b28ac49eb1121d31",
            "93bba17f4a294316bd3f2a9797165d10",
            "00c37244af3046f9845544cfab537963",
            "f53fa9a7b24f4a558b1573d327b35604",
            "c222967af12040afb00eb65d22894070",
            "e70271a6034840d2aa6c538e8c9f1b87",
            "0f4a4991f44e42cab38e7e9ac862b4cf",
            "737568c8e4fc4416b8d668dd9d8daac3",
            "4a9899b56fa7478e8b3c6c254c5e326c",
            "12e77d1ea7094484ac390db0403b8cc1",
            "523c5207b3d843269bc3a9d50186510e",
            "aeabf084d18d45e39a202f54a6578852",
            "fed4382356de405e97321a2f6ba1c1bc",
            "6ad7a31cab6249e7b9d7552836c466af",
            "059027d453cc4f828b8f221bae071629",
            "21b055b85db14481ab76de5432b58a0b",
            "46b5a9cad52b41e284bc170eebb4a09b",
            "07f17e4048d246ca965b971647432670",
            "a3c2e507862146ad922ac7c2899a264e",
            "8c8b491601944d08affb183596d9443a",
            "6054c59790c24fd8b736f3afdba2bc60",
            "16a956a2baf1450cbd38d72fd53185ee",
            "d951bfac9e7445fc9ae7d26a0199592f",
            "2d833ce2f5af42a7a8a8cb958b49391c",
            "39727c10439640d7a72062d55226a3fb",
            "08006c560009436888e427b8ddc16d43",
            "8c7d4e9b79564cefbcbe54f23e253aff",
            "bb3c5d3ea26c484cbf4252b89a9d9326",
            "6dac2ded8b1347d1823a19554f796846",
            "930da77e3aa847b28b25955a87d1969d",
            "01455627f4d446538de642c0e59ae93a",
            "f709effeddb14767a4accc2a5cbc6d9f",
            "446c8422d6f049b99d94f490e6e217a7",
            "166c539ff6454912a38897852322721d",
            "122b04211be24b1289d191c0f962f2f2",
            "21440c08187a42d4b3b4505a233aaff7",
            "fbe1c6e80fc94b46b04d0631e6dccf92",
            "6170588e34504eeeb572bc975f02c1fb",
            "e9984a88e7534956ac7542b39dc95aef",
            "6b8fe0562d9349b1ac5ddf97dd6a9e3b",
            "e9c39d221b544acdbe4ff4d3e2b85565",
            "62178773f83349e1a6f82c4ffecd0bfc",
            "abf2d27696e74c99887f699fd2c4230e",
            "1614045e80c240b9a1ff1274531da46b",
            "f76e577f56494511ba71f838d3190145",
            "010a8be2001c46f38452d55b965f84fc",
            "6976f50b4cf84ae48c6eab4996f47d57",
            "9c96e6891b1343af8a3b8f46fa3ac07b",
            "a6c4975e70c74757b18d4fc278629bff",
            "73ab51574f014bcb931e13fe768846f9",
            "eb34f2472cd24c608d00d2251c717101",
            "06e5f59582b047c78b8fab9e99ade554",
            "fadf40c66c214e52a02e3dcb367f0a1d",
            "ac675bce38b1473b936de06da2d63f59",
            "740bf51694b541c9b656a1f0ce90d99a",
            "a00bbe400eec41b5aaca917e588b97bb",
            "14e4ef9c3d6248c1b0c08a97a32ca0a8",
            "cee37252ef9b4876b930aa2fb2355522",
            "dac22ff5c18e4379b6761f468d4d124a",
            "48f49bd69a0041cb81c5fee127d4bfff",
            "582d2a034c7d4f6e983c87eafd4a27d2",
            "690e2a9bba3a4726a5767bc689b3f7c4",
            "8044a84a34f641a68a33480f96cf4993",
            "411c7ea48fcf4a318e949a8c6bac3aa8",
            "6daf6a1897aa4c2aacb070af17b4c5ec",
            "9288184c5eec4ba4bde098c54f7d0805",
            "2e4f29ec26444c6ebd6c0c4e123e5511",
            "4fcbb7bad18b4f5ca856bcbf83e1de02",
            "af0efe00c73a4c0eb8f9398300450dc4",
            "24f5ecad7c714cd39e678b80338acfdf",
            "2abfb7d1554b41549a931298fe877b3f",
            "28be2bb5269e4f2fa8fcc89271514089",
            "e87c0cc637cb415a922ab2b1bf05edec",
            "4f7b4cdf273944508da96c137b288acf",
            "7d23375016744e90afb8958acf967780",
            "1bc08aa9ed524a8b83fd2c4f3742a472",
            "c59dc667a93a42db9e5aa8e5adb7695d",
            "a93843b351994a22a76ee6983bb9a722",
            "e9d7b70f033a40109362598d3cdf93b1",
            "b15638b1cc7e4424a310d5b7876a916a",
            "a789cb3aa1654de4a8b7eef33d9b5f1d",
            "5c4ba2bc89e24eeeb905942aad5ee599",
            "b1aa4b01521f4bdfaf1a8873556c43b6",
            "05da8bcd3556479d80cb501213f2f708",
            "bebfa3eb98d344c7ae4557f07cdd47c0",
            "9b2cb48fbbf64341bc97ad8963e702e2",
            "f9bad08321bd44acb57701ba70b6312c",
            "cbb4f7375eda4aec8ba7f22ba65c8158",
            "3dbaa6d1b4df4183b3370a9c084e11fb",
            "5cb93e58ea894afd81a14be4fedb7ae2",
            "e2e7ed39bd844b94b700e91d8927a3c7",
            "2ef751b33bb44b0cad9c5c02ec5382f9",
            "93dd30f3a84742439b45887089235eaf",
            "f04573fee4b84cafa1511a6119d73904",
            "02642f9b2bd3465fa3a8917600779975",
            "5f0821ea7d524c59bf3aae5d684096c6",
            "d30f6b789c354c17896049244b10e30d",
            "2a6b70e9008342bb9840e706d27730c8",
            "575c4a1be9794607bd199c0f8fcd53ac",
            "064032e04d3449f2ab5740d80516efa7",
            "2cce88d3bae04b90ae7c62a20014c0a8",
            "9c40435956ca4489ba4255a447915eef",
            "4cdd84a13a0b4f67ba31b91bcaea9242",
            "458ab74ad9a0448d8707b1c958ff1b96",
            "62558da5ec294e7699e2953b5b2fb503",
            "c76288a3dba741dd8d8bbe5efa4aebb2",
            "c29ee90458a94e31a04cfbfedbcff0db",
            "f36cbcd13c81428996acb622ba545fe7",
            "b61e4441cd2d4c639a33d8340fe13c95",
            "e3e8e301ace945dbb0264a2d6227eaae",
            "b05515bffef04936adc67f1c6590b3c7",
            "3a666b8ad1ea4eec99fff80c045a396d",
            "5700373b523543e98b45ffa58a649db0",
            "9852b1ddb5c942919e26698c8e01b1e7",
            "ef16729fd86c4e77add824404519831a",
            "ede56c6c4185482c8c9415caebe0e2c8",
            "cd622164448748dabb5bf23110b98842",
            "8fa30eea1f49462e8e7fe768b8054a32",
            "e6c56b70675a40e5b71a18910da44b01",
            "85c6a65fc6e74e688673238f01bed563",
            "facfbac3672f43878ec7f7beb5795897",
            "47c4bca3ab0840d3807be22fef910d16",
            "5c35bc69e48b40ab936723b0540db289",
            "dcb24741aa30458487198bfda432ef18",
            "9cc59221e0c245538b402ccd03ccfd40",
            "2c1926c9f39647c19a6467bf7e5d447b",
            "39b6f4d4d4524ba786b68f2f5c36a46b",
            "fc2f31b3d202474c88508540793b9d39",
            "beefb8099aed440a90ddaaac78a0ef81",
            "f03bf77f9a234c83b2abc9029133e2c6",
            "04587f92253f4a4bb068284c82ce530c",
            "3e2dc81dacd6425882944df25f90ac07",
            "5c279984eb284374a9b3a2b86ffcf851",
            "bd793d3cf7ba4527910947be5b229a05",
            "496e7f31a2ae4cb1ab61978cb38d0bc4",
            "5bc5deeafdd84b23bb5863761d16c67f",
            "95f4fa7c7b0e49eb9bb0a15d92187b40",
            "aab35da08ca64f7c98761fcbe17e0d4c",
            "3eb6069f56584dfda2de48490cf86ef2",
            "8609627530e540dbada2f221676070b8",
            "af7585da667f442abb7c96a221fe270b",
            "dd14da9e203a4f5ab30183761536e59f",
            "9bbe406889924867b088ec7036d5efed",
            "0a5a951b75974db4b2c6793c268eb169",
            "7624c02bcf1648c38cdb2658677f3b8b",
            "35ff6041930c498f80862a297c461303",
            "444d3c49070141008692dbabc898ffb5",
            "3221fcc80d204887a7165d00cfcf3abf",
            "715e73138a4d4f87ae6b91d5240026e0",
            "604ebdd7feea4ef581c944e7dc8d15ba",
            "01c0dade651844eb8529059d3b3d35fc",
            "f91556c217de4b2182ab7250630a3b67",
            "eeb39f1ce5fd46d583ceba5cc410a1dd",
            "14fb41d3b1214a61a2a4abaf95e765a0",
            "a6470bca9e064d4da04242cc39bed00f",
            "b05a8629e4d141ddbba388e6ea845420",
            "efcea232394e4f56a74f32ca795e42fd",
            "762590dea61d44398e6345c01fe6a8cd",
            "f45be9a506fc4904b4c46110d2399e63",
            "5929bd3818ee44efabf27f36b5250ba7",
            "3f94b883affb465fb95fd62fb6f2b73d",
            "152cb54505834a1c9b594f83fbfe13ab",
            "d3c1dcaed2e449f2b9b876104d9ea974",
            "2c10dda237984fad84d91ac1116f131c",
            "5aaf69b983a2450db276dc477bb961b0",
            "e1ee3e8098a244b6ad77812235c91455",
            "5b8811d70bac46238063cd428ec5355d",
            "b1ca7e221efd43d6ac487445dfbe4e5c",
            "8088443841fd40fda9ef45cc9fa11fe2",
            "b0b7095040fc4b1ab8d8e04437253f00",
            "182dd5a9973d49129b1e038b707dcd41",
            "ebf754bc11ae4d739b649e9d35a09d68",
            "0280a622aa8a440ea7abfac41e342cb4",
            "e504e9c2ec984c54baf910303e587755",
            "666439d7d6c8435ab1ce6dacb45048d8",
            "290dee69faf046d8950b3e953d18722c",
            "6384cfc144134c079ee2e10cddd55aab",
            "4641c53967aa4926bd4f24321b74298f",
            "8a209d4bf7a341eda7a55557e248b606",
            "81884fce9b0c413290d9a1c5ed6044a7",
            "035938f4289d4752865722954a6f24aa",
            "d9bd9a0b46a84233af80ff0ca425ade1",
            "e9f5748f8d3c4b9785850a3cfcda5c18",
            "aabea984e5ee4737a68aec805f011d69",
            "0fad07792ac440be95dba791e2797981",
            "b445be384772479b9026f9284867a631",
            "bf60fa90ce9b455286d3d38172d236de",
            "da4b1e98c7d945ec8332af7309c797c6",
            "9fb38b87c07a4b56847dd2e1aa90e6d5",
            "d11977bf65ba4f64bb122777817c7f8a",
            "60387e5f3a734551ab60fcbf0faa9504",
            "850de65c662f4493949c4986bf0ffa14",
            "825d1538736f4554a5502161d2c0a121",
            "7e82222b3d94479994131cb0c2d1ee85",
            "9ab9860a690f47e1961eb845a7354e0e",
            "7b874f9a81584c2c8cbddfa6dab14d12",
            "5f2b8d9ed3b44fe995319dca8394b377",
            "bcb80b994bf64ff788aec2911c5d8d33",
            "bb997df6a0fe4c359031ec29c564d2b9",
            "8d8002de1f0444768d78f4044b20135a",
            "2255bb9460844fa3baea108130cc9c0d",
            "4011b0ae1caf4df694136a0e27374bb8",
            "f7b0f69436894f0e8605780bb48b7c93",
            "f68785a084cb4f3fab7a4d0dcf91ff6d",
            "4e7b2fbac4f9409697e4fb72f9f84735",
            "11901885ab5348d48cd4395ad82d378b",
            "8804eff8175c42a38d7b8f07f5db801f",
            "ad67a7863c3f4a7d846584aea885f8d8",
            "7daaf81c3a7f49419ad79aeacd16d2c6",
            "530bfbf501ad44b3b15c86d37294923a",
            "5c64fb8bb3464052bd55589207e59563",
            "cf46c13ce1cd41e5837f46bce47afd0a",
            "29b917f2abb44c0687a4fe72aad277d5",
            "db6add0c8a264bc2af4dcaac2624b44e",
            "012f328646114a82903b1dc84c18640a",
            "861d4d73d51f45bd916c38e778bcfa01",
            "c38942c122f1488ebf49d4c9d55aa3e9",
            "af3f5a72dc94485d9447f46c2f7103e9",
            "be8e5857303a44dd9ca73fa278611636",
            "2a5c9590460b4c45b221da5e2a1fbfc8",
            "136e11e16d044b14989a3ebc3c3a38fd",
            "a2193c06ff2b4fcaa12327a4b5b3b9a2",
            "ff1050b64eca4474a197fa2fba7186d7",
            "1cf9c72d968b401dbabaa63c35419c8b",
            "66d9fffc047347fd854dace9dccac426",
            "b3158daa73864785b1c7e31bd286bca4",
            "aec7192f2af0431881ecd29b2451a892",
            "e601787ec78f4327bf5480403bfe291f",
            "660c988ceda140be93dbfdccded90ba3",
            "3ee6efc4cfc046d780898af40d9b38f7",
            "90795cb7437b4b02906efcc0c703f43d",
            "9e2b4010c1d74d6ba335aa58eb2fd049",
            "91078ed3c3344f3781c6170d6086b16c",
            "83090610b0b843d08f7733297ef75463",
            "242e5ee5f3234f668ab373f47dcb1cb7",
            "54c3f49b59d548429584caa7524ef054",
            "712bdb0b17be405dbdf614c44458e88a",
            "99575892cb27420b984f64ebeda884bc",
            "8acb7025e38449e382dd342efb518be4",
            "f28a2588b801408aaa92baa2a6987685",
            "f900a44255b24673924ac6d5d0e94ac5",
            "211fc525ff65468fb1a4f3be3d70ba42",
            "50d2a4f5dbda4dafbbf7e8d7e69f66cf",
            "40559461242d42e098e6d46ae004ab9b",
            "3185bde03e0c4a46aa342b259334d155",
            "907de3111fa84608b3500af816bf0ebd",
            "6effd163377f4b02bd8e99235d9fa48c",
            "ff2aae5964ae4213802796ff8868015b",
            "a9abe787c2314869ba5d989c62a525b2",
            "771877efe5424df9bb9fa403cbdf5d68",
            "b142fef601754110bd8b3ca6bc81f81b",
            "4c6e052a872f4c799ea9ab05ccbde507",
            "2a7cea1d830b4858a6635a7b30a02fb9",
            "5739db22592d4e0988b3c2296cc0b8eb",
            "4eed381b6bdd4975803813611799df4e",
            "f4cd7de7e26e4c439a5994286a04a041",
            "122d9295e3a0419ba40c87669b6ffbe7",
            "f1e0ef29ded0449fb5e6687d9e48203d",
            "092fedebfd5a43d08f0ed6f5e2ebda2f",
            "ea2d5b720d1240cba6a45b9c3cc6494f",
            "f78200e1982648d889dcc5c4f211cbd6",
            "4a8e271fa10b45f098b7d904f8a42a9a",
            "535dfd7be58a416bb1508734395033e3",
            "c4c13683844540c1bab134e586813906",
            "dee76c3c1d1243728f3d3ddf019ef445",
            "ea17197bce1e44cbbc44b9941e40c6f0"
          ]
        },
        "outputId": "71d18777-85c2-4ff7-dda5-2b9fa3e9d693"
      },
      "outputs": [
        {
          "metadata": {
            "tags": null
          },
          "name": "stderr",
          "output_type": "stream",
          "text": [
            "\u001b[34m\u001b[1mwandb\u001b[0m: Currently logged in as: \u001b[33mahsen\u001b[0m (use `wandb login --relogin` to force relogin)\n"
          ]
        },
        {
          "data": {
            "text/html": [
              "Tracking run with wandb version 0.12.15"
            ],
            "text/plain": [
              "<IPython.core.display.HTML object>"
            ]
          },
          "metadata": {},
          "output_type": "display_data"
        },
        {
          "data": {
            "text/html": [
              "Run data is saved locally in <code>/content/wandb/run-20220430_135253-3rfwklia</code>"
            ],
            "text/plain": [
              "<IPython.core.display.HTML object>"
            ]
          },
          "metadata": {},
          "output_type": "display_data"
        },
        {
          "data": {
            "text/html": [
              "Syncing run <strong><a href=\"https://wandb.ai/ahsen/NIDS/runs/3rfwklia\" target=\"_blank\">MLP_GAN_0</a></strong> to <a href=\"https://wandb.ai/ahsen/NIDS\" target=\"_blank\">Weights & Biases</a> (<a href=\"https://wandb.me/run\" target=\"_blank\">docs</a>)<br/>"
            ],
            "text/plain": [
              "<IPython.core.display.HTML object>"
            ]
          },
          "metadata": {},
          "output_type": "display_data"
        },
        {
          "metadata": {
            "tags": null
          },
          "name": "stdout",
          "output_type": "stream",
          "text": [
            "===============================================\n",
            "Batch Size:32\tEpochs:25\tLR:0.001\n",
            "------------------------------------------------\n",
            "Epoch:1  \tLoss:0.0554\t Acc: 0.7449\n",
            "------------------------------------------------\n",
            "Epoch:2  \tLoss:0.0277\t Acc: 0.7464\n",
            "------------------------------------------------\n",
            "Epoch:3  \tLoss:0.0190\t Acc: 0.7342\n",
            "------------------------------------------------\n",
            "Epoch:4  \tLoss:0.0167\t Acc: 0.7376\n",
            "------------------------------------------------\n",
            "Epoch:5  \tLoss:0.0151\t Acc: 0.7387\n",
            "------------------------------------------------\n",
            "Epoch:6  \tLoss:0.0118\t Acc: 0.7412\n",
            "------------------------------------------------\n",
            "Epoch:7  \tLoss:0.0118\t Acc: 0.7415\n",
            "------------------------------------------------\n",
            "Epoch:8  \tLoss:0.0151\t Acc: 0.7397\n",
            "------------------------------------------------\n",
            "Epoch:9  \tLoss:0.0133\t Acc: 0.7417\n",
            "------------------------------------------------\n",
            "Epoch:10  \tLoss:0.0107\t Acc: 0.7441\n",
            "------------------------------------------------\n",
            "Epoch:11  \tLoss:0.0102\t Acc: 0.7449\n",
            "------------------------------------------------\n",
            "Epoch:12  \tLoss:0.0082\t Acc: 0.7497\n",
            "------------------------------------------------\n",
            "Epoch:13  \tLoss:0.0069\t Acc: 0.7545\n",
            "------------------------------------------------\n",
            "Epoch:14  \tLoss:0.0060\t Acc: 0.7613\n",
            "------------------------------------------------\n",
            "Epoch:15  \tLoss:0.0073\t Acc: 0.7547\n",
            "------------------------------------------------\n",
            "Epoch:16  \tLoss:0.0061\t Acc: 0.7560\n",
            "------------------------------------------------\n",
            "Epoch:17  \tLoss:0.0065\t Acc: 0.7587\n",
            "------------------------------------------------\n",
            "Epoch:18  \tLoss:0.0056\t Acc: 0.7628\n",
            "------------------------------------------------\n",
            "Epoch:19  \tLoss:0.0055\t Acc: 0.7622\n",
            "------------------------------------------------\n",
            "Epoch:20  \tLoss:0.0043\t Acc: 0.7659\n",
            "------------------------------------------------\n",
            "Epoch:21  \tLoss:0.0042\t Acc: 0.7612\n",
            "------------------------------------------------\n",
            "Epoch:22  \tLoss:0.0039\t Acc: 0.7601\n",
            "------------------------------------------------\n",
            "Epoch:23  \tLoss:0.0049\t Acc: 0.7614\n",
            "------------------------------------------------\n",
            "Epoch:24  \tLoss:0.0043\t Acc: 0.7669\n",
            "------------------------------------------------\n",
            "Epoch:25  \tLoss:0.0073\t Acc: 0.7583\n",
            "*************************************************\n",
            "Final Score for (B:32, Ep:25, LR:0.001)\n",
            "Acc: 0.7583\n"
          ]
        },
        {
          "data": {
            "text/html": [
              "Waiting for W&B process to finish... <strong style=\"color:green\">(success).</strong>"
            ],
            "text/plain": [
              "<IPython.core.display.HTML object>"
            ]
          },
          "metadata": {},
          "output_type": "display_data"
        },
        {
          "data": {
            "application/vnd.jupyter.widget-view+json": {
              "model_id": "c243d05b19ef4f2f987f42523a7911b9",
              "version_major": 2,
              "version_minor": 0
            },
            "text/plain": [
              "VBox(children=(Label(value='0.001 MB of 0.001 MB uploaded (0.000 MB deduped)\\r'), FloatProgress(value=1.0, max…"
            ]
          },
          "metadata": {},
          "output_type": "display_data"
        },
        {
          "data": {
            "text/html": [
              "<style>\n",
              "    table.wandb td:nth-child(1) { padding: 0 10px; text-align: right }\n",
              "    .wandb-row { display: flex; flex-direction: row; flex-wrap: wrap; width: 100% }\n",
              "    .wandb-col { display: flex; flex-direction: column; flex-basis: 100%; flex: 1; padding: 10px; }\n",
              "    </style>\n",
              "<div class=\"wandb-row\"><div class=\"wandb-col\"><h3>Run history:</h3><br/><table class=\"wandb\"><tr><td>acc</td><td>▁</td></tr><tr><td>loss</td><td>█▄▃▃▃▂▂▃▂▂▂▂▁▁▁▁▁▁▁▁▁▁▁▁▁</td></tr></table><br/></div><div class=\"wandb-col\"><h3>Run summary:</h3><br/><table class=\"wandb\"><tr><td>acc</td><td>0.75834</td></tr><tr><td>loss</td><td>0.00733</td></tr></table><br/></div></div>"
            ],
            "text/plain": [
              "<IPython.core.display.HTML object>"
            ]
          },
          "metadata": {},
          "output_type": "display_data"
        },
        {
          "data": {
            "text/html": [
              "Synced <strong style=\"color:#cdcd00\">MLP_GAN_0</strong>: <a href=\"https://wandb.ai/ahsen/NIDS/runs/3rfwklia\" target=\"_blank\">https://wandb.ai/ahsen/NIDS/runs/3rfwklia</a><br/>Synced 5 W&B file(s), 0 media file(s), 0 artifact file(s) and 0 other file(s)"
            ],
            "text/plain": [
              "<IPython.core.display.HTML object>"
            ]
          },
          "metadata": {},
          "output_type": "display_data"
        },
        {
          "data": {
            "text/html": [
              "Find logs at: <code>./wandb/run-20220430_135253-3rfwklia/logs</code>"
            ],
            "text/plain": [
              "<IPython.core.display.HTML object>"
            ]
          },
          "metadata": {},
          "output_type": "display_data"
        },
        {
          "data": {
            "text/html": [
              "Tracking run with wandb version 0.12.15"
            ],
            "text/plain": [
              "<IPython.core.display.HTML object>"
            ]
          },
          "metadata": {},
          "output_type": "display_data"
        },
        {
          "data": {
            "text/html": [
              "Run data is saved locally in <code>/content/wandb/run-20220430_135633-29n5ezte</code>"
            ],
            "text/plain": [
              "<IPython.core.display.HTML object>"
            ]
          },
          "metadata": {},
          "output_type": "display_data"
        },
        {
          "data": {
            "text/html": [
              "Syncing run <strong><a href=\"https://wandb.ai/ahsen/NIDS/runs/29n5ezte\" target=\"_blank\">MLP_GAN_1</a></strong> to <a href=\"https://wandb.ai/ahsen/NIDS\" target=\"_blank\">Weights & Biases</a> (<a href=\"https://wandb.me/run\" target=\"_blank\">docs</a>)<br/>"
            ],
            "text/plain": [
              "<IPython.core.display.HTML object>"
            ]
          },
          "metadata": {},
          "output_type": "display_data"
        },
        {
          "metadata": {
            "tags": null
          },
          "name": "stdout",
          "output_type": "stream",
          "text": [
            "===============================================\n",
            "Batch Size:64\tEpochs:25\tLR:0.001\n",
            "------------------------------------------------\n",
            "Epoch:1  \tLoss:0.1944\t Acc: 0.7294\n",
            "------------------------------------------------\n",
            "Epoch:2  \tLoss:0.1404\t Acc: 0.7465\n",
            "------------------------------------------------\n",
            "Epoch:3  \tLoss:0.1154\t Acc: 0.7466\n",
            "------------------------------------------------\n",
            "Epoch:4  \tLoss:0.0973\t Acc: 0.7557\n",
            "------------------------------------------------\n",
            "Epoch:5  \tLoss:0.0829\t Acc: 0.7689\n",
            "------------------------------------------------\n",
            "Epoch:6  \tLoss:0.0718\t Acc: 0.7728\n",
            "------------------------------------------------\n",
            "Epoch:7  \tLoss:0.0618\t Acc: 0.7778\n",
            "------------------------------------------------\n",
            "Epoch:8  \tLoss:0.0545\t Acc: 0.7804\n",
            "------------------------------------------------\n",
            "Epoch:9  \tLoss:0.0495\t Acc: 0.7822\n",
            "------------------------------------------------\n",
            "Epoch:10  \tLoss:0.0451\t Acc: 0.7840\n",
            "------------------------------------------------\n",
            "Epoch:11  \tLoss:0.0413\t Acc: 0.7885\n",
            "------------------------------------------------\n",
            "Epoch:12  \tLoss:0.0382\t Acc: 0.7918\n",
            "------------------------------------------------\n",
            "Epoch:13  \tLoss:0.0352\t Acc: 0.7949\n",
            "------------------------------------------------\n",
            "Epoch:14  \tLoss:0.0336\t Acc: 0.7980\n",
            "------------------------------------------------\n",
            "Epoch:15  \tLoss:0.0312\t Acc: 0.7971\n",
            "------------------------------------------------\n",
            "Epoch:16  \tLoss:0.0307\t Acc: 0.7954\n",
            "------------------------------------------------\n",
            "Epoch:17  \tLoss:0.0294\t Acc: 0.7954\n",
            "------------------------------------------------\n",
            "Epoch:18  \tLoss:0.0280\t Acc: 0.7947\n",
            "------------------------------------------------\n",
            "Epoch:19  \tLoss:0.0264\t Acc: 0.7952\n",
            "------------------------------------------------\n",
            "Epoch:20  \tLoss:0.0255\t Acc: 0.7959\n",
            "------------------------------------------------\n",
            "Epoch:21  \tLoss:0.0248\t Acc: 0.7964\n",
            "------------------------------------------------\n",
            "Epoch:22  \tLoss:0.0230\t Acc: 0.7983\n",
            "------------------------------------------------\n",
            "Epoch:23  \tLoss:0.0230\t Acc: 0.7991\n",
            "------------------------------------------------\n",
            "Epoch:24  \tLoss:0.0218\t Acc: 0.7995\n",
            "------------------------------------------------\n",
            "Epoch:25  \tLoss:0.0210\t Acc: 0.7995\n",
            "*************************************************\n",
            "Final Score for (B:64, Ep:25, LR:0.001)\n",
            "Acc: 0.7995\n"
          ]
        },
        {
          "data": {
            "text/html": [
              "Waiting for W&B process to finish... <strong style=\"color:green\">(success).</strong>"
            ],
            "text/plain": [
              "<IPython.core.display.HTML object>"
            ]
          },
          "metadata": {},
          "output_type": "display_data"
        },
        {
          "data": {
            "application/vnd.jupyter.widget-view+json": {
              "model_id": "6ea4e14763604a50a76e9ad5e6623492",
              "version_major": 2,
              "version_minor": 0
            },
            "text/plain": [
              "VBox(children=(Label(value='0.001 MB of 0.001 MB uploaded (0.000 MB deduped)\\r'), FloatProgress(value=1.0, max…"
            ]
          },
          "metadata": {},
          "output_type": "display_data"
        },
        {
          "data": {
            "text/html": [
              "<style>\n",
              "    table.wandb td:nth-child(1) { padding: 0 10px; text-align: right }\n",
              "    .wandb-row { display: flex; flex-direction: row; flex-wrap: wrap; width: 100% }\n",
              "    .wandb-col { display: flex; flex-direction: column; flex-basis: 100%; flex: 1; padding: 10px; }\n",
              "    </style>\n",
              "<div class=\"wandb-row\"><div class=\"wandb-col\"><h3>Run history:</h3><br/><table class=\"wandb\"><tr><td>acc</td><td>▁</td></tr><tr><td>loss</td><td>█▆▅▄▃▃▃▂▂▂▂▂▂▂▁▁▁▁▁▁▁▁▁▁▁</td></tr></table><br/></div><div class=\"wandb-col\"><h3>Run summary:</h3><br/><table class=\"wandb\"><tr><td>acc</td><td>0.79955</td></tr><tr><td>loss</td><td>0.02102</td></tr></table><br/></div></div>"
            ],
            "text/plain": [
              "<IPython.core.display.HTML object>"
            ]
          },
          "metadata": {},
          "output_type": "display_data"
        },
        {
          "data": {
            "text/html": [
              "Synced <strong style=\"color:#cdcd00\">MLP_GAN_1</strong>: <a href=\"https://wandb.ai/ahsen/NIDS/runs/29n5ezte\" target=\"_blank\">https://wandb.ai/ahsen/NIDS/runs/29n5ezte</a><br/>Synced 5 W&B file(s), 0 media file(s), 0 artifact file(s) and 0 other file(s)"
            ],
            "text/plain": [
              "<IPython.core.display.HTML object>"
            ]
          },
          "metadata": {},
          "output_type": "display_data"
        },
        {
          "data": {
            "text/html": [
              "Find logs at: <code>./wandb/run-20220430_135633-29n5ezte/logs</code>"
            ],
            "text/plain": [
              "<IPython.core.display.HTML object>"
            ]
          },
          "metadata": {},
          "output_type": "display_data"
        },
        {
          "data": {
            "text/html": [
              "Tracking run with wandb version 0.12.15"
            ],
            "text/plain": [
              "<IPython.core.display.HTML object>"
            ]
          },
          "metadata": {},
          "output_type": "display_data"
        },
        {
          "data": {
            "text/html": [
              "Run data is saved locally in <code>/content/wandb/run-20220430_135832-3gunp8az</code>"
            ],
            "text/plain": [
              "<IPython.core.display.HTML object>"
            ]
          },
          "metadata": {},
          "output_type": "display_data"
        },
        {
          "data": {
            "text/html": [
              "Syncing run <strong><a href=\"https://wandb.ai/ahsen/NIDS/runs/3gunp8az\" target=\"_blank\">MLP_GAN_2</a></strong> to <a href=\"https://wandb.ai/ahsen/NIDS\" target=\"_blank\">Weights & Biases</a> (<a href=\"https://wandb.me/run\" target=\"_blank\">docs</a>)<br/>"
            ],
            "text/plain": [
              "<IPython.core.display.HTML object>"
            ]
          },
          "metadata": {},
          "output_type": "display_data"
        },
        {
          "output_type": "stream",
          "name": "stdout",
          "text": [
            "===============================================\n",
            "Batch Size:128\tEpochs:25\tLR:0.001\n",
            "------------------------------------------------\n",
            "Epoch:1  \tLoss:0.3045\t Acc: 0.7547\n",
            "------------------------------------------------\n",
            "Epoch:2  \tLoss:0.2064\t Acc: 0.7669\n",
            "------------------------------------------------\n",
            "Epoch:3  \tLoss:0.1638\t Acc: 0.7655\n",
            "------------------------------------------------\n",
            "Epoch:4  \tLoss:0.1410\t Acc: 0.7697\n",
            "------------------------------------------------\n",
            "Epoch:5  \tLoss:0.1248\t Acc: 0.7730\n",
            "------------------------------------------------\n",
            "Epoch:6  \tLoss:0.1141\t Acc: 0.7765\n",
            "------------------------------------------------\n",
            "Epoch:7  \tLoss:0.1057\t Acc: 0.7787\n",
            "------------------------------------------------\n",
            "Epoch:8  \tLoss:0.0968\t Acc: 0.7772\n",
            "------------------------------------------------\n",
            "Epoch:9  \tLoss:0.0903\t Acc: 0.7798\n",
            "------------------------------------------------\n",
            "Epoch:10  \tLoss:0.0824\t Acc: 0.7818\n",
            "------------------------------------------------\n",
            "Epoch:11  \tLoss:0.0732\t Acc: 0.7821\n",
            "------------------------------------------------\n",
            "Epoch:12  \tLoss:0.0688\t Acc: 0.7818\n",
            "------------------------------------------------\n",
            "Epoch:13  \tLoss:0.0645\t Acc: 0.7820\n",
            "------------------------------------------------\n",
            "Epoch:14  \tLoss:0.0616\t Acc: 0.7827\n",
            "------------------------------------------------\n",
            "Epoch:15  \tLoss:0.0584\t Acc: 0.7827\n",
            "------------------------------------------------\n",
            "Epoch:16  \tLoss:0.0553\t Acc: 0.7825\n",
            "------------------------------------------------\n",
            "Epoch:17  \tLoss:0.0526\t Acc: 0.7830\n",
            "------------------------------------------------\n",
            "Epoch:18  \tLoss:0.0503\t Acc: 0.7832\n",
            "------------------------------------------------\n",
            "Epoch:19  \tLoss:0.0481\t Acc: 0.7838\n",
            "------------------------------------------------\n",
            "Epoch:20  \tLoss:0.0466\t Acc: 0.7846\n",
            "------------------------------------------------\n",
            "Epoch:21  \tLoss:0.0454\t Acc: 0.7852\n",
            "------------------------------------------------\n",
            "Epoch:22  \tLoss:0.0437\t Acc: 0.7856\n",
            "------------------------------------------------\n",
            "Epoch:23  \tLoss:0.0425\t Acc: 0.7852\n",
            "------------------------------------------------\n",
            "Epoch:24  \tLoss:0.0410\t Acc: 0.7850\n",
            "------------------------------------------------\n",
            "Epoch:25  \tLoss:0.0397\t Acc: 0.7846\n",
            "*************************************************\n",
            "Final Score for (B:128, Ep:25, LR:0.001)\n",
            "Acc: 0.7846\n"
          ]
        },
        {
          "output_type": "display_data",
          "data": {
            "text/plain": [
              "<IPython.core.display.HTML object>"
            ],
            "text/html": [
              "Waiting for W&B process to finish... <strong style=\"color:green\">(success).</strong>"
            ]
          },
          "metadata": {}
        },
        {
          "output_type": "display_data",
          "data": {
            "text/plain": [
              "VBox(children=(Label(value='0.001 MB of 0.001 MB uploaded (0.000 MB deduped)\\r'), FloatProgress(value=1.0, max…"
            ],
            "application/vnd.jupyter.widget-view+json": {
              "version_major": 2,
              "version_minor": 0,
              "model_id": "35b834cf11ce44f1bdd183b0bda8429e"
            }
          },
          "metadata": {}
        },
        {
          "output_type": "display_data",
          "data": {
            "text/plain": [
              "<IPython.core.display.HTML object>"
            ],
            "text/html": [
              "<style>\n",
              "    table.wandb td:nth-child(1) { padding: 0 10px; text-align: right }\n",
              "    .wandb-row { display: flex; flex-direction: row; flex-wrap: wrap; width: 100% }\n",
              "    .wandb-col { display: flex; flex-direction: column; flex-basis: 100%; flex: 1; padding: 10px; }\n",
              "    </style>\n",
              "<div class=\"wandb-row\"><div class=\"wandb-col\"><h3>Run history:</h3><br/><table class=\"wandb\"><tr><td>acc</td><td>▁</td></tr><tr><td>loss</td><td>█▅▄▄▃▃▃▃▂▂▂▂▂▂▁▁▁▁▁▁▁▁▁▁▁</td></tr></table><br/></div><div class=\"wandb-col\"><h3>Run summary:</h3><br/><table class=\"wandb\"><tr><td>acc</td><td>0.78455</td></tr><tr><td>loss</td><td>0.03974</td></tr></table><br/></div></div>"
            ]
          },
          "metadata": {}
        },
        {
          "output_type": "display_data",
          "data": {
            "text/plain": [
              "<IPython.core.display.HTML object>"
            ],
            "text/html": [
              "Synced <strong style=\"color:#cdcd00\">MLP_GAN_2</strong>: <a href=\"https://wandb.ai/ahsen/NIDS/runs/3gunp8az\" target=\"_blank\">https://wandb.ai/ahsen/NIDS/runs/3gunp8az</a><br/>Synced 5 W&B file(s), 0 media file(s), 0 artifact file(s) and 0 other file(s)"
            ]
          },
          "metadata": {}
        },
        {
          "output_type": "display_data",
          "data": {
            "text/plain": [
              "<IPython.core.display.HTML object>"
            ],
            "text/html": [
              "Find logs at: <code>./wandb/run-20220430_135832-3gunp8az/logs</code>"
            ]
          },
          "metadata": {}
        },
        {
          "output_type": "display_data",
          "data": {
            "text/plain": [
              "<IPython.core.display.HTML object>"
            ],
            "text/html": [
              "Tracking run with wandb version 0.12.15"
            ]
          },
          "metadata": {}
        },
        {
          "output_type": "display_data",
          "data": {
            "text/plain": [
              "<IPython.core.display.HTML object>"
            ],
            "text/html": [
              "Run data is saved locally in <code>/content/wandb/run-20220430_135948-805ylj7a</code>"
            ]
          },
          "metadata": {}
        },
        {
          "output_type": "display_data",
          "data": {
            "text/plain": [
              "<IPython.core.display.HTML object>"
            ],
            "text/html": [
              "Syncing run <strong><a href=\"https://wandb.ai/ahsen/NIDS/runs/805ylj7a\" target=\"_blank\">MLP_GAN_3</a></strong> to <a href=\"https://wandb.ai/ahsen/NIDS\" target=\"_blank\">Weights & Biases</a> (<a href=\"https://wandb.me/run\" target=\"_blank\">docs</a>)<br/>"
            ]
          },
          "metadata": {}
        },
        {
          "output_type": "stream",
          "name": "stdout",
          "text": [
            "===============================================\n",
            "Batch Size:256\tEpochs:25\tLR:0.001\n",
            "------------------------------------------------\n",
            "Epoch:1  \tLoss:0.3632\t Acc: 0.7340\n",
            "------------------------------------------------\n",
            "Epoch:2  \tLoss:0.2635\t Acc: 0.7458\n",
            "------------------------------------------------\n",
            "Epoch:3  \tLoss:0.2098\t Acc: 0.7500\n",
            "------------------------------------------------\n",
            "Epoch:4  \tLoss:0.1803\t Acc: 0.7543\n",
            "------------------------------------------------\n",
            "Epoch:5  \tLoss:0.1615\t Acc: 0.7556\n",
            "------------------------------------------------\n",
            "Epoch:6  \tLoss:0.1472\t Acc: 0.7600\n",
            "------------------------------------------------\n",
            "Epoch:7  \tLoss:0.1349\t Acc: 0.7619\n",
            "------------------------------------------------\n",
            "Epoch:8  \tLoss:0.1247\t Acc: 0.7620\n",
            "------------------------------------------------\n",
            "Epoch:9  \tLoss:0.1159\t Acc: 0.7657\n",
            "------------------------------------------------\n",
            "Epoch:10  \tLoss:0.1082\t Acc: 0.7668\n",
            "------------------------------------------------\n",
            "Epoch:11  \tLoss:0.1011\t Acc: 0.7669\n",
            "------------------------------------------------\n",
            "Epoch:12  \tLoss:0.0949\t Acc: 0.7682\n",
            "------------------------------------------------\n",
            "Epoch:13  \tLoss:0.0896\t Acc: 0.7701\n",
            "------------------------------------------------\n",
            "Epoch:14  \tLoss:0.0854\t Acc: 0.7734\n",
            "------------------------------------------------\n",
            "Epoch:15  \tLoss:0.0810\t Acc: 0.7748\n",
            "------------------------------------------------\n",
            "Epoch:16  \tLoss:0.0745\t Acc: 0.7762\n",
            "------------------------------------------------\n",
            "Epoch:17  \tLoss:0.0707\t Acc: 0.7770\n",
            "------------------------------------------------\n",
            "Epoch:18  \tLoss:0.0677\t Acc: 0.7769\n",
            "------------------------------------------------\n",
            "Epoch:19  \tLoss:0.0640\t Acc: 0.7777\n",
            "------------------------------------------------\n",
            "Epoch:20  \tLoss:0.0604\t Acc: 0.7780\n",
            "------------------------------------------------\n",
            "Epoch:21  \tLoss:0.0573\t Acc: 0.7778\n",
            "------------------------------------------------\n",
            "Epoch:22  \tLoss:0.0544\t Acc: 0.7781\n",
            "------------------------------------------------\n",
            "Epoch:23  \tLoss:0.0520\t Acc: 0.7791\n",
            "------------------------------------------------\n",
            "Epoch:24  \tLoss:0.0491\t Acc: 0.7798\n",
            "------------------------------------------------\n",
            "Epoch:25  \tLoss:0.0468\t Acc: 0.7805\n",
            "*************************************************\n",
            "Final Score for (B:256, Ep:25, LR:0.001)\n",
            "Acc: 0.7805\n"
          ]
        },
        {
          "output_type": "display_data",
          "data": {
            "text/plain": [
              "<IPython.core.display.HTML object>"
            ],
            "text/html": [
              "Waiting for W&B process to finish... <strong style=\"color:green\">(success).</strong>"
            ]
          },
          "metadata": {}
        },
        {
          "output_type": "display_data",
          "data": {
            "text/plain": [
              "VBox(children=(Label(value='0.001 MB of 0.001 MB uploaded (0.000 MB deduped)\\r'), FloatProgress(value=1.0, max…"
            ],
            "application/vnd.jupyter.widget-view+json": {
              "version_major": 2,
              "version_minor": 0,
              "model_id": "317cfbc2e0d94d37932f6447878d3a03"
            }
          },
          "metadata": {}
        },
        {
          "output_type": "display_data",
          "data": {
            "text/plain": [
              "<IPython.core.display.HTML object>"
            ],
            "text/html": [
              "<style>\n",
              "    table.wandb td:nth-child(1) { padding: 0 10px; text-align: right }\n",
              "    .wandb-row { display: flex; flex-direction: row; flex-wrap: wrap; width: 100% }\n",
              "    .wandb-col { display: flex; flex-direction: column; flex-basis: 100%; flex: 1; padding: 10px; }\n",
              "    </style>\n",
              "<div class=\"wandb-row\"><div class=\"wandb-col\"><h3>Run history:</h3><br/><table class=\"wandb\"><tr><td>acc</td><td>▁</td></tr><tr><td>loss</td><td>█▆▅▄▄▃▃▃▃▂▂▂▂▂▂▂▂▁▁▁▁▁▁▁▁</td></tr></table><br/></div><div class=\"wandb-col\"><h3>Run summary:</h3><br/><table class=\"wandb\"><tr><td>acc</td><td>0.78047</td></tr><tr><td>loss</td><td>0.0468</td></tr></table><br/></div></div>"
            ]
          },
          "metadata": {}
        },
        {
          "output_type": "display_data",
          "data": {
            "text/plain": [
              "<IPython.core.display.HTML object>"
            ],
            "text/html": [
              "Synced <strong style=\"color:#cdcd00\">MLP_GAN_3</strong>: <a href=\"https://wandb.ai/ahsen/NIDS/runs/805ylj7a\" target=\"_blank\">https://wandb.ai/ahsen/NIDS/runs/805ylj7a</a><br/>Synced 5 W&B file(s), 0 media file(s), 0 artifact file(s) and 0 other file(s)"
            ]
          },
          "metadata": {}
        },
        {
          "output_type": "display_data",
          "data": {
            "text/plain": [
              "<IPython.core.display.HTML object>"
            ],
            "text/html": [
              "Find logs at: <code>./wandb/run-20220430_135948-805ylj7a/logs</code>"
            ]
          },
          "metadata": {}
        },
        {
          "output_type": "display_data",
          "data": {
            "text/plain": [
              "<IPython.core.display.HTML object>"
            ],
            "text/html": [
              "Tracking run with wandb version 0.12.15"
            ]
          },
          "metadata": {}
        },
        {
          "output_type": "display_data",
          "data": {
            "text/plain": [
              "<IPython.core.display.HTML object>"
            ],
            "text/html": [
              "Run data is saved locally in <code>/content/wandb/run-20220430_140058-3fezs8qo</code>"
            ]
          },
          "metadata": {}
        },
        {
          "output_type": "display_data",
          "data": {
            "text/plain": [
              "<IPython.core.display.HTML object>"
            ],
            "text/html": [
              "Syncing run <strong><a href=\"https://wandb.ai/ahsen/NIDS/runs/3fezs8qo\" target=\"_blank\">MLP_GAN_4</a></strong> to <a href=\"https://wandb.ai/ahsen/NIDS\" target=\"_blank\">Weights & Biases</a> (<a href=\"https://wandb.me/run\" target=\"_blank\">docs</a>)<br/>"
            ]
          },
          "metadata": {}
        },
        {
          "output_type": "stream",
          "name": "stdout",
          "text": [
            "===============================================\n",
            "Batch Size:32\tEpochs:25\tLR:0.01\n",
            "------------------------------------------------\n",
            "Epoch:1  \tLoss:0.0137\t Acc: 0.7882\n",
            "------------------------------------------------\n",
            "Epoch:2  \tLoss:0.0083\t Acc: 0.7551\n",
            "------------------------------------------------\n",
            "Epoch:3  \tLoss:0.0112\t Acc: 0.7583\n",
            "------------------------------------------------\n",
            "Epoch:4  \tLoss:0.0040\t Acc: 0.7807\n",
            "------------------------------------------------\n",
            "Epoch:5  \tLoss:0.0049\t Acc: 0.7623\n",
            "------------------------------------------------\n",
            "Epoch:6  \tLoss:0.0082\t Acc: 0.7537\n",
            "------------------------------------------------\n",
            "Epoch:7  \tLoss:0.0040\t Acc: 0.7627\n",
            "------------------------------------------------\n",
            "Epoch:8  \tLoss:0.0021\t Acc: 0.7879\n",
            "------------------------------------------------\n",
            "Epoch:9  \tLoss:0.0036\t Acc: 0.7789\n",
            "------------------------------------------------\n",
            "Epoch:10  \tLoss:0.0030\t Acc: 0.7736\n",
            "------------------------------------------------\n",
            "Epoch:11  \tLoss:0.0023\t Acc: 0.7752\n",
            "------------------------------------------------\n",
            "Epoch:12  \tLoss:0.0021\t Acc: 0.7816\n",
            "------------------------------------------------\n",
            "Epoch:13  \tLoss:0.0018\t Acc: 0.7818\n",
            "------------------------------------------------\n",
            "Epoch:14  \tLoss:0.0018\t Acc: 0.7774\n",
            "------------------------------------------------\n",
            "Epoch:15  \tLoss:0.0022\t Acc: 0.7757\n",
            "------------------------------------------------\n",
            "Epoch:16  \tLoss:0.0026\t Acc: 0.7592\n",
            "------------------------------------------------\n",
            "Epoch:17  \tLoss:0.0018\t Acc: 0.7666\n",
            "------------------------------------------------\n",
            "Epoch:18  \tLoss:0.0016\t Acc: 0.7690\n",
            "------------------------------------------------\n",
            "Epoch:19  \tLoss:0.0017\t Acc: 0.7669\n",
            "------------------------------------------------\n",
            "Epoch:20  \tLoss:0.0012\t Acc: 0.7630\n",
            "------------------------------------------------\n",
            "Epoch:21  \tLoss:0.0011\t Acc: 0.7636\n",
            "------------------------------------------------\n",
            "Epoch:22  \tLoss:0.0014\t Acc: 0.7586\n",
            "------------------------------------------------\n",
            "Epoch:23  \tLoss:0.0016\t Acc: 0.7641\n",
            "------------------------------------------------\n",
            "Epoch:24  \tLoss:0.0005\t Acc: 0.7573\n",
            "------------------------------------------------\n",
            "Epoch:25  \tLoss:0.0009\t Acc: 0.7623\n",
            "*************************************************\n",
            "Final Score for (B:32, Ep:25, LR:0.01)\n",
            "Acc: 0.7623\n"
          ]
        },
        {
          "output_type": "display_data",
          "data": {
            "text/plain": [
              "<IPython.core.display.HTML object>"
            ],
            "text/html": [
              "Waiting for W&B process to finish... <strong style=\"color:green\">(success).</strong>"
            ]
          },
          "metadata": {}
        },
        {
          "output_type": "display_data",
          "data": {
            "text/plain": [
              "VBox(children=(Label(value='0.001 MB of 0.001 MB uploaded (0.000 MB deduped)\\r'), FloatProgress(value=1.0, max…"
            ],
            "application/vnd.jupyter.widget-view+json": {
              "version_major": 2,
              "version_minor": 0,
              "model_id": "660b274cd0e4424fb96db3b0a22d9dbf"
            }
          },
          "metadata": {}
        },
        {
          "output_type": "display_data",
          "data": {
            "text/plain": [
              "<IPython.core.display.HTML object>"
            ],
            "text/html": [
              "<style>\n",
              "    table.wandb td:nth-child(1) { padding: 0 10px; text-align: right }\n",
              "    .wandb-row { display: flex; flex-direction: row; flex-wrap: wrap; width: 100% }\n",
              "    .wandb-col { display: flex; flex-direction: column; flex-basis: 100%; flex: 1; padding: 10px; }\n",
              "    </style>\n",
              "<div class=\"wandb-row\"><div class=\"wandb-col\"><h3>Run history:</h3><br/><table class=\"wandb\"><tr><td>acc</td><td>▁</td></tr><tr><td>loss</td><td>█▅▇▃▃▅▃▂▃▂▂▂▂▂▂▂▂▂▂▁▁▁▂▁▁</td></tr></table><br/></div><div class=\"wandb-col\"><h3>Run summary:</h3><br/><table class=\"wandb\"><tr><td>acc</td><td>0.76233</td></tr><tr><td>loss</td><td>0.00091</td></tr></table><br/></div></div>"
            ]
          },
          "metadata": {}
        },
        {
          "output_type": "display_data",
          "data": {
            "text/plain": [
              "<IPython.core.display.HTML object>"
            ],
            "text/html": [
              "Synced <strong style=\"color:#cdcd00\">MLP_GAN_4</strong>: <a href=\"https://wandb.ai/ahsen/NIDS/runs/3fezs8qo\" target=\"_blank\">https://wandb.ai/ahsen/NIDS/runs/3fezs8qo</a><br/>Synced 5 W&B file(s), 0 media file(s), 0 artifact file(s) and 0 other file(s)"
            ]
          },
          "metadata": {}
        },
        {
          "output_type": "display_data",
          "data": {
            "text/plain": [
              "<IPython.core.display.HTML object>"
            ],
            "text/html": [
              "Find logs at: <code>./wandb/run-20220430_140058-3fezs8qo/logs</code>"
            ]
          },
          "metadata": {}
        },
        {
          "output_type": "display_data",
          "data": {
            "text/plain": [
              "<IPython.core.display.HTML object>"
            ],
            "text/html": [
              "Tracking run with wandb version 0.12.15"
            ]
          },
          "metadata": {}
        },
        {
          "output_type": "display_data",
          "data": {
            "text/plain": [
              "<IPython.core.display.HTML object>"
            ],
            "text/html": [
              "Run data is saved locally in <code>/content/wandb/run-20220430_140337-2g3fpzcg</code>"
            ]
          },
          "metadata": {}
        },
        {
          "output_type": "display_data",
          "data": {
            "text/plain": [
              "<IPython.core.display.HTML object>"
            ],
            "text/html": [
              "Syncing run <strong><a href=\"https://wandb.ai/ahsen/NIDS/runs/2g3fpzcg\" target=\"_blank\">MLP_GAN_5</a></strong> to <a href=\"https://wandb.ai/ahsen/NIDS\" target=\"_blank\">Weights & Biases</a> (<a href=\"https://wandb.me/run\" target=\"_blank\">docs</a>)<br/>"
            ]
          },
          "metadata": {}
        },
        {
          "output_type": "stream",
          "name": "stdout",
          "text": [
            "===============================================\n",
            "Batch Size:64\tEpochs:25\tLR:0.01\n",
            "------------------------------------------------\n",
            "Epoch:1  \tLoss:0.0392\t Acc: 0.7670\n",
            "------------------------------------------------\n",
            "Epoch:2  \tLoss:0.0197\t Acc: 0.7682\n",
            "------------------------------------------------\n",
            "Epoch:3  \tLoss:0.0159\t Acc: 0.7838\n",
            "------------------------------------------------\n",
            "Epoch:4  \tLoss:0.0217\t Acc: 0.7829\n",
            "------------------------------------------------\n",
            "Epoch:5  \tLoss:0.0151\t Acc: 0.7932\n",
            "------------------------------------------------\n",
            "Epoch:6  \tLoss:0.0156\t Acc: 0.7794\n",
            "------------------------------------------------\n",
            "Epoch:7  \tLoss:0.0096\t Acc: 0.7775\n",
            "------------------------------------------------\n",
            "Epoch:8  \tLoss:0.0104\t Acc: 0.7826\n",
            "------------------------------------------------\n",
            "Epoch:9  \tLoss:0.0090\t Acc: 0.7638\n",
            "------------------------------------------------\n",
            "Epoch:10  \tLoss:0.0081\t Acc: 0.7771\n",
            "------------------------------------------------\n",
            "Epoch:11  \tLoss:0.0096\t Acc: 0.7646\n",
            "------------------------------------------------\n",
            "Epoch:12  \tLoss:0.0077\t Acc: 0.7640\n",
            "------------------------------------------------\n",
            "Epoch:13  \tLoss:0.0095\t Acc: 0.7634\n",
            "------------------------------------------------\n",
            "Epoch:14  \tLoss:0.0092\t Acc: 0.7585\n",
            "------------------------------------------------\n",
            "Epoch:15  \tLoss:0.0101\t Acc: 0.7707\n",
            "------------------------------------------------\n",
            "Epoch:16  \tLoss:0.0075\t Acc: 0.7610\n",
            "------------------------------------------------\n",
            "Epoch:17  \tLoss:0.0068\t Acc: 0.7585\n",
            "------------------------------------------------\n",
            "Epoch:18  \tLoss:0.0137\t Acc: 0.7636\n",
            "------------------------------------------------\n",
            "Epoch:19  \tLoss:0.0117\t Acc: 0.7603\n",
            "------------------------------------------------\n",
            "Epoch:20  \tLoss:0.0089\t Acc: 0.7709\n",
            "------------------------------------------------\n",
            "Epoch:21  \tLoss:0.0151\t Acc: 0.7748\n",
            "------------------------------------------------\n",
            "Epoch:22  \tLoss:0.0124\t Acc: 0.7740\n",
            "------------------------------------------------\n",
            "Epoch:23  \tLoss:0.0094\t Acc: 0.7572\n",
            "------------------------------------------------\n",
            "Epoch:24  \tLoss:0.0147\t Acc: 0.7760\n",
            "------------------------------------------------\n",
            "Epoch:25  \tLoss:0.0097\t Acc: 0.7700\n",
            "*************************************************\n",
            "Final Score for (B:64, Ep:25, LR:0.01)\n",
            "Acc: 0.7700\n"
          ]
        },
        {
          "output_type": "display_data",
          "data": {
            "text/plain": [
              "<IPython.core.display.HTML object>"
            ],
            "text/html": [
              "Waiting for W&B process to finish... <strong style=\"color:green\">(success).</strong>"
            ]
          },
          "metadata": {}
        },
        {
          "output_type": "display_data",
          "data": {
            "text/plain": [
              "VBox(children=(Label(value='0.001 MB of 0.001 MB uploaded (0.000 MB deduped)\\r'), FloatProgress(value=1.0, max…"
            ],
            "application/vnd.jupyter.widget-view+json": {
              "version_major": 2,
              "version_minor": 0,
              "model_id": "b9cf7d78dc9a473a972ddb5f18596151"
            }
          },
          "metadata": {}
        },
        {
          "output_type": "display_data",
          "data": {
            "text/plain": [
              "<IPython.core.display.HTML object>"
            ],
            "text/html": [
              "<style>\n",
              "    table.wandb td:nth-child(1) { padding: 0 10px; text-align: right }\n",
              "    .wandb-row { display: flex; flex-direction: row; flex-wrap: wrap; width: 100% }\n",
              "    .wandb-col { display: flex; flex-direction: column; flex-basis: 100%; flex: 1; padding: 10px; }\n",
              "    </style>\n",
              "<div class=\"wandb-row\"><div class=\"wandb-col\"><h3>Run history:</h3><br/><table class=\"wandb\"><tr><td>acc</td><td>▁</td></tr><tr><td>loss</td><td>█▄▃▄▃▃▂▂▁▁▂▁▂▂▂▁▁▂▂▁▃▂▂▃▂</td></tr></table><br/></div><div class=\"wandb-col\"><h3>Run summary:</h3><br/><table class=\"wandb\"><tr><td>acc</td><td>0.76996</td></tr><tr><td>loss</td><td>0.00968</td></tr></table><br/></div></div>"
            ]
          },
          "metadata": {}
        },
        {
          "output_type": "display_data",
          "data": {
            "text/plain": [
              "<IPython.core.display.HTML object>"
            ],
            "text/html": [
              "Synced <strong style=\"color:#cdcd00\">MLP_GAN_5</strong>: <a href=\"https://wandb.ai/ahsen/NIDS/runs/2g3fpzcg\" target=\"_blank\">https://wandb.ai/ahsen/NIDS/runs/2g3fpzcg</a><br/>Synced 5 W&B file(s), 0 media file(s), 0 artifact file(s) and 0 other file(s)"
            ]
          },
          "metadata": {}
        },
        {
          "output_type": "display_data",
          "data": {
            "text/plain": [
              "<IPython.core.display.HTML object>"
            ],
            "text/html": [
              "Find logs at: <code>./wandb/run-20220430_140337-2g3fpzcg/logs</code>"
            ]
          },
          "metadata": {}
        },
        {
          "output_type": "display_data",
          "data": {
            "text/plain": [
              "<IPython.core.display.HTML object>"
            ],
            "text/html": [
              "Tracking run with wandb version 0.12.15"
            ]
          },
          "metadata": {}
        },
        {
          "output_type": "display_data",
          "data": {
            "text/plain": [
              "<IPython.core.display.HTML object>"
            ],
            "text/html": [
              "Run data is saved locally in <code>/content/wandb/run-20220430_140518-k8mtmrhk</code>"
            ]
          },
          "metadata": {}
        },
        {
          "output_type": "display_data",
          "data": {
            "text/plain": [
              "<IPython.core.display.HTML object>"
            ],
            "text/html": [
              "Syncing run <strong><a href=\"https://wandb.ai/ahsen/NIDS/runs/k8mtmrhk\" target=\"_blank\">MLP_GAN_6</a></strong> to <a href=\"https://wandb.ai/ahsen/NIDS\" target=\"_blank\">Weights & Biases</a> (<a href=\"https://wandb.me/run\" target=\"_blank\">docs</a>)<br/>"
            ]
          },
          "metadata": {}
        },
        {
          "output_type": "stream",
          "name": "stdout",
          "text": [
            "===============================================\n",
            "Batch Size:128\tEpochs:25\tLR:0.01\n",
            "------------------------------------------------\n",
            "Epoch:1  \tLoss:0.0824\t Acc: 0.7695\n",
            "------------------------------------------------\n",
            "Epoch:2  \tLoss:0.0440\t Acc: 0.7808\n",
            "------------------------------------------------\n",
            "Epoch:3  \tLoss:0.0294\t Acc: 0.7927\n",
            "------------------------------------------------\n",
            "Epoch:4  \tLoss:0.0199\t Acc: 0.8007\n",
            "------------------------------------------------\n",
            "Epoch:5  \tLoss:0.0138\t Acc: 0.8023\n",
            "------------------------------------------------\n",
            "Epoch:6  \tLoss:0.0132\t Acc: 0.8003\n",
            "------------------------------------------------\n",
            "Epoch:7  \tLoss:0.0129\t Acc: 0.7930\n",
            "------------------------------------------------\n",
            "Epoch:8  \tLoss:0.0133\t Acc: 0.7946\n",
            "------------------------------------------------\n",
            "Epoch:9  \tLoss:0.0111\t Acc: 0.7997\n",
            "------------------------------------------------\n",
            "Epoch:10  \tLoss:0.0107\t Acc: 0.8006\n",
            "------------------------------------------------\n",
            "Epoch:11  \tLoss:0.0089\t Acc: 0.8015\n",
            "------------------------------------------------\n",
            "Epoch:12  \tLoss:0.0109\t Acc: 0.7993\n",
            "------------------------------------------------\n",
            "Epoch:13  \tLoss:0.0091\t Acc: 0.8007\n",
            "------------------------------------------------\n",
            "Epoch:14  \tLoss:0.0099\t Acc: 0.8006\n",
            "------------------------------------------------\n",
            "Epoch:15  \tLoss:0.0075\t Acc: 0.8011\n",
            "------------------------------------------------\n",
            "Epoch:16  \tLoss:0.0117\t Acc: 0.8034\n",
            "------------------------------------------------\n",
            "Epoch:17  \tLoss:0.0100\t Acc: 0.8043\n",
            "------------------------------------------------\n",
            "Epoch:18  \tLoss:0.0108\t Acc: 0.7980\n",
            "------------------------------------------------\n",
            "Epoch:19  \tLoss:0.0082\t Acc: 0.7995\n",
            "------------------------------------------------\n",
            "Epoch:20  \tLoss:0.0105\t Acc: 0.7974\n",
            "------------------------------------------------\n",
            "Epoch:21  \tLoss:0.0102\t Acc: 0.8020\n",
            "------------------------------------------------\n",
            "Epoch:22  \tLoss:0.0145\t Acc: 0.8037\n",
            "------------------------------------------------\n",
            "Epoch:23  \tLoss:0.0120\t Acc: 0.8003\n",
            "------------------------------------------------\n",
            "Epoch:24  \tLoss:0.0125\t Acc: 0.7962\n",
            "------------------------------------------------\n",
            "Epoch:25  \tLoss:0.0100\t Acc: 0.7993\n",
            "*************************************************\n",
            "Final Score for (B:128, Ep:25, LR:0.01)\n",
            "Acc: 0.7993\n"
          ]
        },
        {
          "output_type": "display_data",
          "data": {
            "text/plain": [
              "<IPython.core.display.HTML object>"
            ],
            "text/html": [
              "Waiting for W&B process to finish... <strong style=\"color:green\">(success).</strong>"
            ]
          },
          "metadata": {}
        },
        {
          "output_type": "display_data",
          "data": {
            "text/plain": [
              "VBox(children=(Label(value='0.001 MB of 0.001 MB uploaded (0.000 MB deduped)\\r'), FloatProgress(value=1.0, max…"
            ],
            "application/vnd.jupyter.widget-view+json": {
              "version_major": 2,
              "version_minor": 0,
              "model_id": "a299ed7a9d114a35851140c503141d60"
            }
          },
          "metadata": {}
        },
        {
          "output_type": "display_data",
          "data": {
            "text/plain": [
              "<IPython.core.display.HTML object>"
            ],
            "text/html": [
              "<style>\n",
              "    table.wandb td:nth-child(1) { padding: 0 10px; text-align: right }\n",
              "    .wandb-row { display: flex; flex-direction: row; flex-wrap: wrap; width: 100% }\n",
              "    .wandb-col { display: flex; flex-direction: column; flex-basis: 100%; flex: 1; padding: 10px; }\n",
              "    </style>\n",
              "<div class=\"wandb-row\"><div class=\"wandb-col\"><h3>Run history:</h3><br/><table class=\"wandb\"><tr><td>acc</td><td>▁</td></tr><tr><td>loss</td><td>█▄▃▂▂▂▂▂▁▁▁▁▁▁▁▁▁▁▁▁▁▂▁▁▁</td></tr></table><br/></div><div class=\"wandb-col\"><h3>Run summary:</h3><br/><table class=\"wandb\"><tr><td>acc</td><td>0.79933</td></tr><tr><td>loss</td><td>0.00998</td></tr></table><br/></div></div>"
            ]
          },
          "metadata": {}
        },
        {
          "output_type": "display_data",
          "data": {
            "text/plain": [
              "<IPython.core.display.HTML object>"
            ],
            "text/html": [
              "Synced <strong style=\"color:#cdcd00\">MLP_GAN_6</strong>: <a href=\"https://wandb.ai/ahsen/NIDS/runs/k8mtmrhk\" target=\"_blank\">https://wandb.ai/ahsen/NIDS/runs/k8mtmrhk</a><br/>Synced 5 W&B file(s), 0 media file(s), 0 artifact file(s) and 0 other file(s)"
            ]
          },
          "metadata": {}
        },
        {
          "output_type": "display_data",
          "data": {
            "text/plain": [
              "<IPython.core.display.HTML object>"
            ],
            "text/html": [
              "Find logs at: <code>./wandb/run-20220430_140518-k8mtmrhk/logs</code>"
            ]
          },
          "metadata": {}
        },
        {
          "output_type": "display_data",
          "data": {
            "text/plain": [
              "<IPython.core.display.HTML object>"
            ],
            "text/html": [
              "Tracking run with wandb version 0.12.15"
            ]
          },
          "metadata": {}
        },
        {
          "output_type": "display_data",
          "data": {
            "text/plain": [
              "<IPython.core.display.HTML object>"
            ],
            "text/html": [
              "Run data is saved locally in <code>/content/wandb/run-20220430_140633-diw1mjjh</code>"
            ]
          },
          "metadata": {}
        },
        {
          "output_type": "display_data",
          "data": {
            "text/plain": [
              "<IPython.core.display.HTML object>"
            ],
            "text/html": [
              "Syncing run <strong><a href=\"https://wandb.ai/ahsen/NIDS/runs/diw1mjjh\" target=\"_blank\">MLP_GAN_7</a></strong> to <a href=\"https://wandb.ai/ahsen/NIDS\" target=\"_blank\">Weights & Biases</a> (<a href=\"https://wandb.me/run\" target=\"_blank\">docs</a>)<br/>"
            ]
          },
          "metadata": {}
        },
        {
          "output_type": "stream",
          "name": "stdout",
          "text": [
            "===============================================\n",
            "Batch Size:256\tEpochs:25\tLR:0.01\n",
            "------------------------------------------------\n",
            "Epoch:1  \tLoss:0.1091\t Acc: 0.7486\n",
            "------------------------------------------------\n",
            "Epoch:2  \tLoss:0.0679\t Acc: 0.7561\n",
            "------------------------------------------------\n",
            "Epoch:3  \tLoss:0.0431\t Acc: 0.7812\n",
            "------------------------------------------------\n",
            "Epoch:4  \tLoss:0.0325\t Acc: 0.7832\n",
            "------------------------------------------------\n",
            "Epoch:5  \tLoss:0.0294\t Acc: 0.7850\n",
            "------------------------------------------------\n",
            "Epoch:6  \tLoss:0.0270\t Acc: 0.7870\n",
            "------------------------------------------------\n",
            "Epoch:7  \tLoss:0.0231\t Acc: 0.7903\n",
            "------------------------------------------------\n",
            "Epoch:8  \tLoss:0.0233\t Acc: 0.7980\n",
            "------------------------------------------------\n",
            "Epoch:9  \tLoss:0.0224\t Acc: 0.8011\n",
            "------------------------------------------------\n",
            "Epoch:10  \tLoss:0.0195\t Acc: 0.8022\n",
            "------------------------------------------------\n",
            "Epoch:11  \tLoss:0.0182\t Acc: 0.8025\n",
            "------------------------------------------------\n",
            "Epoch:12  \tLoss:0.0169\t Acc: 0.8018\n",
            "------------------------------------------------\n",
            "Epoch:13  \tLoss:0.0156\t Acc: 0.8030\n",
            "------------------------------------------------\n",
            "Epoch:14  \tLoss:0.0123\t Acc: 0.8005\n",
            "------------------------------------------------\n",
            "Epoch:15  \tLoss:0.0140\t Acc: 0.8035\n",
            "------------------------------------------------\n",
            "Epoch:16  \tLoss:0.0138\t Acc: 0.8034\n",
            "------------------------------------------------\n",
            "Epoch:17  \tLoss:0.0147\t Acc: 0.8071\n",
            "------------------------------------------------\n",
            "Epoch:18  \tLoss:0.0134\t Acc: 0.8062\n",
            "------------------------------------------------\n",
            "Epoch:19  \tLoss:0.0144\t Acc: 0.8081\n",
            "------------------------------------------------\n",
            "Epoch:20  \tLoss:0.0138\t Acc: 0.8084\n",
            "------------------------------------------------\n",
            "Epoch:21  \tLoss:0.0128\t Acc: 0.8101\n",
            "------------------------------------------------\n",
            "Epoch:22  \tLoss:0.0117\t Acc: 0.8079\n",
            "------------------------------------------------\n",
            "Epoch:23  \tLoss:0.0134\t Acc: 0.8061\n",
            "------------------------------------------------\n",
            "Epoch:24  \tLoss:0.0108\t Acc: 0.8076\n",
            "------------------------------------------------\n",
            "Epoch:25  \tLoss:0.0105\t Acc: 0.8068\n",
            "*************************************************\n",
            "Final Score for (B:256, Ep:25, LR:0.01)\n",
            "Acc: 0.8068\n"
          ]
        },
        {
          "output_type": "display_data",
          "data": {
            "text/plain": [
              "<IPython.core.display.HTML object>"
            ],
            "text/html": [
              "Waiting for W&B process to finish... <strong style=\"color:green\">(success).</strong>"
            ]
          },
          "metadata": {}
        },
        {
          "output_type": "display_data",
          "data": {
            "text/plain": [
              "VBox(children=(Label(value='0.001 MB of 0.001 MB uploaded (0.000 MB deduped)\\r'), FloatProgress(value=1.0, max…"
            ],
            "application/vnd.jupyter.widget-view+json": {
              "version_major": 2,
              "version_minor": 0,
              "model_id": "fe8bf4438ae7494cb744b757b386bf62"
            }
          },
          "metadata": {}
        },
        {
          "output_type": "display_data",
          "data": {
            "text/plain": [
              "<IPython.core.display.HTML object>"
            ],
            "text/html": [
              "<style>\n",
              "    table.wandb td:nth-child(1) { padding: 0 10px; text-align: right }\n",
              "    .wandb-row { display: flex; flex-direction: row; flex-wrap: wrap; width: 100% }\n",
              "    .wandb-col { display: flex; flex-direction: column; flex-basis: 100%; flex: 1; padding: 10px; }\n",
              "    </style>\n",
              "<div class=\"wandb-row\"><div class=\"wandb-col\"><h3>Run history:</h3><br/><table class=\"wandb\"><tr><td>acc</td><td>▁</td></tr><tr><td>loss</td><td>█▅▃▃▂▂▂▂▂▂▂▁▁▁▁▁▁▁▁▁▁▁▁▁▁</td></tr></table><br/></div><div class=\"wandb-col\"><h3>Run summary:</h3><br/><table class=\"wandb\"><tr><td>acc</td><td>0.80682</td></tr><tr><td>loss</td><td>0.01054</td></tr></table><br/></div></div>"
            ]
          },
          "metadata": {}
        },
        {
          "output_type": "display_data",
          "data": {
            "text/plain": [
              "<IPython.core.display.HTML object>"
            ],
            "text/html": [
              "Synced <strong style=\"color:#cdcd00\">MLP_GAN_7</strong>: <a href=\"https://wandb.ai/ahsen/NIDS/runs/diw1mjjh\" target=\"_blank\">https://wandb.ai/ahsen/NIDS/runs/diw1mjjh</a><br/>Synced 5 W&B file(s), 0 media file(s), 0 artifact file(s) and 0 other file(s)"
            ]
          },
          "metadata": {}
        },
        {
          "output_type": "display_data",
          "data": {
            "text/plain": [
              "<IPython.core.display.HTML object>"
            ],
            "text/html": [
              "Find logs at: <code>./wandb/run-20220430_140633-diw1mjjh/logs</code>"
            ]
          },
          "metadata": {}
        },
        {
          "output_type": "display_data",
          "data": {
            "text/plain": [
              "<IPython.core.display.HTML object>"
            ],
            "text/html": [
              "Tracking run with wandb version 0.12.15"
            ]
          },
          "metadata": {}
        },
        {
          "output_type": "display_data",
          "data": {
            "text/plain": [
              "<IPython.core.display.HTML object>"
            ],
            "text/html": [
              "Run data is saved locally in <code>/content/wandb/run-20220430_140742-1zao6ze0</code>"
            ]
          },
          "metadata": {}
        },
        {
          "output_type": "display_data",
          "data": {
            "text/plain": [
              "<IPython.core.display.HTML object>"
            ],
            "text/html": [
              "Syncing run <strong><a href=\"https://wandb.ai/ahsen/NIDS/runs/1zao6ze0\" target=\"_blank\">MLP_GAN_8</a></strong> to <a href=\"https://wandb.ai/ahsen/NIDS\" target=\"_blank\">Weights & Biases</a> (<a href=\"https://wandb.me/run\" target=\"_blank\">docs</a>)<br/>"
            ]
          },
          "metadata": {}
        },
        {
          "output_type": "stream",
          "name": "stdout",
          "text": [
            "===============================================\n",
            "Batch Size:32\tEpochs:25\tLR:0.1\n",
            "------------------------------------------------\n",
            "Epoch:1  \tLoss:0.0064\t Acc: 0.7721\n",
            "------------------------------------------------\n",
            "Epoch:2  \tLoss:0.0033\t Acc: 0.7867\n",
            "------------------------------------------------\n",
            "Epoch:3  \tLoss:0.0031\t Acc: 0.7680\n",
            "------------------------------------------------\n",
            "Epoch:4  \tLoss:0.0032\t Acc: 0.7906\n",
            "------------------------------------------------\n",
            "Epoch:5  \tLoss:0.0053\t Acc: 0.7782\n",
            "------------------------------------------------\n",
            "Epoch:6  \tLoss:0.0039\t Acc: 0.7833\n",
            "------------------------------------------------\n",
            "Epoch:7  \tLoss:0.0047\t Acc: 0.7862\n",
            "------------------------------------------------\n",
            "Epoch:8  \tLoss:0.0063\t Acc: 0.7858\n",
            "------------------------------------------------\n",
            "Epoch:9  \tLoss:0.0085\t Acc: 0.7861\n",
            "------------------------------------------------\n",
            "Epoch:10  \tLoss:0.0092\t Acc: 0.7864\n",
            "------------------------------------------------\n",
            "Epoch:11  \tLoss:0.0108\t Acc: 0.7855\n",
            "------------------------------------------------\n",
            "Epoch:12  \tLoss:0.0121\t Acc: 0.7813\n",
            "------------------------------------------------\n",
            "Epoch:13  \tLoss:0.0122\t Acc: 0.7829\n",
            "------------------------------------------------\n",
            "Epoch:14  \tLoss:0.0126\t Acc: 0.7856\n",
            "------------------------------------------------\n",
            "Epoch:15  \tLoss:0.0125\t Acc: 0.7843\n",
            "------------------------------------------------\n",
            "Epoch:16  \tLoss:0.0124\t Acc: 0.7879\n",
            "------------------------------------------------\n",
            "Epoch:17  \tLoss:0.0156\t Acc: 0.7820\n",
            "------------------------------------------------\n",
            "Epoch:18  \tLoss:0.0179\t Acc: 0.7795\n",
            "------------------------------------------------\n",
            "Epoch:19  \tLoss:0.0186\t Acc: 0.7764\n",
            "------------------------------------------------\n",
            "Epoch:20  \tLoss:0.0190\t Acc: 0.7756\n",
            "------------------------------------------------\n",
            "Epoch:21  \tLoss:0.0209\t Acc: 0.7762\n",
            "------------------------------------------------\n",
            "Epoch:22  \tLoss:0.0205\t Acc: 0.7754\n",
            "------------------------------------------------\n",
            "Epoch:23  \tLoss:0.0213\t Acc: 0.7730\n",
            "------------------------------------------------\n",
            "Epoch:24  \tLoss:0.0211\t Acc: 0.7725\n",
            "------------------------------------------------\n",
            "Epoch:25  \tLoss:0.0195\t Acc: 0.7723\n",
            "*************************************************\n",
            "Final Score for (B:32, Ep:25, LR:0.1)\n",
            "Acc: 0.7723\n"
          ]
        },
        {
          "output_type": "display_data",
          "data": {
            "text/plain": [
              "<IPython.core.display.HTML object>"
            ],
            "text/html": [
              "Waiting for W&B process to finish... <strong style=\"color:green\">(success).</strong>"
            ]
          },
          "metadata": {}
        },
        {
          "output_type": "display_data",
          "data": {
            "text/plain": [
              "VBox(children=(Label(value='0.001 MB of 0.001 MB uploaded (0.000 MB deduped)\\r'), FloatProgress(value=1.0, max…"
            ],
            "application/vnd.jupyter.widget-view+json": {
              "version_major": 2,
              "version_minor": 0,
              "model_id": "00c37244af3046f9845544cfab537963"
            }
          },
          "metadata": {}
        },
        {
          "output_type": "display_data",
          "data": {
            "text/plain": [
              "<IPython.core.display.HTML object>"
            ],
            "text/html": [
              "<style>\n",
              "    table.wandb td:nth-child(1) { padding: 0 10px; text-align: right }\n",
              "    .wandb-row { display: flex; flex-direction: row; flex-wrap: wrap; width: 100% }\n",
              "    .wandb-col { display: flex; flex-direction: column; flex-basis: 100%; flex: 1; padding: 10px; }\n",
              "    </style>\n",
              "<div class=\"wandb-row\"><div class=\"wandb-col\"><h3>Run history:</h3><br/><table class=\"wandb\"><tr><td>acc</td><td>▁</td></tr><tr><td>loss</td><td>▂▁▁▁▂▁▂▂▃▃▄▄▄▅▅▅▆▇▇▇████▇</td></tr></table><br/></div><div class=\"wandb-col\"><h3>Run summary:</h3><br/><table class=\"wandb\"><tr><td>acc</td><td>0.77231</td></tr><tr><td>loss</td><td>0.01949</td></tr></table><br/></div></div>"
            ]
          },
          "metadata": {}
        },
        {
          "output_type": "display_data",
          "data": {
            "text/plain": [
              "<IPython.core.display.HTML object>"
            ],
            "text/html": [
              "Synced <strong style=\"color:#cdcd00\">MLP_GAN_8</strong>: <a href=\"https://wandb.ai/ahsen/NIDS/runs/1zao6ze0\" target=\"_blank\">https://wandb.ai/ahsen/NIDS/runs/1zao6ze0</a><br/>Synced 5 W&B file(s), 0 media file(s), 0 artifact file(s) and 0 other file(s)"
            ]
          },
          "metadata": {}
        },
        {
          "output_type": "display_data",
          "data": {
            "text/plain": [
              "<IPython.core.display.HTML object>"
            ],
            "text/html": [
              "Find logs at: <code>./wandb/run-20220430_140742-1zao6ze0/logs</code>"
            ]
          },
          "metadata": {}
        },
        {
          "output_type": "display_data",
          "data": {
            "text/plain": [
              "<IPython.core.display.HTML object>"
            ],
            "text/html": [
              "Tracking run with wandb version 0.12.15"
            ]
          },
          "metadata": {}
        },
        {
          "output_type": "display_data",
          "data": {
            "text/plain": [
              "<IPython.core.display.HTML object>"
            ],
            "text/html": [
              "Run data is saved locally in <code>/content/wandb/run-20220430_141019-1ylfq7v0</code>"
            ]
          },
          "metadata": {}
        },
        {
          "output_type": "display_data",
          "data": {
            "text/plain": [
              "<IPython.core.display.HTML object>"
            ],
            "text/html": [
              "Syncing run <strong><a href=\"https://wandb.ai/ahsen/NIDS/runs/1ylfq7v0\" target=\"_blank\">MLP_GAN_9</a></strong> to <a href=\"https://wandb.ai/ahsen/NIDS\" target=\"_blank\">Weights & Biases</a> (<a href=\"https://wandb.me/run\" target=\"_blank\">docs</a>)<br/>"
            ]
          },
          "metadata": {}
        },
        {
          "output_type": "stream",
          "name": "stdout",
          "text": [
            "===============================================\n",
            "Batch Size:64\tEpochs:25\tLR:0.1\n",
            "------------------------------------------------\n",
            "Epoch:1  \tLoss:0.0315\t Acc: 0.7879\n",
            "------------------------------------------------\n",
            "Epoch:2  \tLoss:0.0313\t Acc: 0.7842\n",
            "------------------------------------------------\n",
            "Epoch:3  \tLoss:0.0185\t Acc: 0.7826\n",
            "------------------------------------------------\n",
            "Epoch:4  \tLoss:0.0218\t Acc: 0.7689\n",
            "------------------------------------------------\n",
            "Epoch:5  \tLoss:0.0122\t Acc: 0.7662\n",
            "------------------------------------------------\n",
            "Epoch:6  \tLoss:0.0130\t Acc: 0.7588\n",
            "------------------------------------------------\n",
            "Epoch:7  \tLoss:0.0150\t Acc: 0.7631\n",
            "------------------------------------------------\n",
            "Epoch:8  \tLoss:0.0126\t Acc: 0.7647\n",
            "------------------------------------------------\n",
            "Epoch:9  \tLoss:0.0107\t Acc: 0.7711\n",
            "------------------------------------------------\n",
            "Epoch:10  \tLoss:0.0170\t Acc: 0.7586\n",
            "------------------------------------------------\n",
            "Epoch:11  \tLoss:0.0170\t Acc: 0.7660\n",
            "------------------------------------------------\n",
            "Epoch:12  \tLoss:0.0136\t Acc: 0.7712\n",
            "------------------------------------------------\n",
            "Epoch:13  \tLoss:0.0122\t Acc: 0.7741\n",
            "------------------------------------------------\n",
            "Epoch:14  \tLoss:0.0107\t Acc: 0.7671\n",
            "------------------------------------------------\n",
            "Epoch:15  \tLoss:0.0115\t Acc: 0.7650\n",
            "------------------------------------------------\n",
            "Epoch:16  \tLoss:0.0098\t Acc: 0.7683\n",
            "------------------------------------------------\n",
            "Epoch:17  \tLoss:0.0136\t Acc: 0.7724\n",
            "------------------------------------------------\n",
            "Epoch:18  \tLoss:0.0098\t Acc: 0.7664\n",
            "------------------------------------------------\n",
            "Epoch:19  \tLoss:0.0105\t Acc: 0.7644\n",
            "------------------------------------------------\n",
            "Epoch:20  \tLoss:0.0123\t Acc: 0.7670\n",
            "------------------------------------------------\n",
            "Epoch:21  \tLoss:0.0132\t Acc: 0.7662\n",
            "------------------------------------------------\n",
            "Epoch:22  \tLoss:0.0116\t Acc: 0.7668\n",
            "------------------------------------------------\n",
            "Epoch:23  \tLoss:0.0094\t Acc: 0.7636\n",
            "------------------------------------------------\n",
            "Epoch:24  \tLoss:0.0078\t Acc: 0.7645\n",
            "------------------------------------------------\n",
            "Epoch:25  \tLoss:0.0090\t Acc: 0.7673\n",
            "*************************************************\n",
            "Final Score for (B:64, Ep:25, LR:0.1)\n",
            "Acc: 0.7673\n"
          ]
        },
        {
          "output_type": "display_data",
          "data": {
            "text/plain": [
              "<IPython.core.display.HTML object>"
            ],
            "text/html": [
              "Waiting for W&B process to finish... <strong style=\"color:green\">(success).</strong>"
            ]
          },
          "metadata": {}
        },
        {
          "output_type": "display_data",
          "data": {
            "text/plain": [
              "VBox(children=(Label(value='0.001 MB of 0.001 MB uploaded (0.000 MB deduped)\\r'), FloatProgress(value=1.0, max…"
            ],
            "application/vnd.jupyter.widget-view+json": {
              "version_major": 2,
              "version_minor": 0,
              "model_id": "523c5207b3d843269bc3a9d50186510e"
            }
          },
          "metadata": {}
        },
        {
          "output_type": "display_data",
          "data": {
            "text/plain": [
              "<IPython.core.display.HTML object>"
            ],
            "text/html": [
              "<style>\n",
              "    table.wandb td:nth-child(1) { padding: 0 10px; text-align: right }\n",
              "    .wandb-row { display: flex; flex-direction: row; flex-wrap: wrap; width: 100% }\n",
              "    .wandb-col { display: flex; flex-direction: column; flex-basis: 100%; flex: 1; padding: 10px; }\n",
              "    </style>\n",
              "<div class=\"wandb-row\"><div class=\"wandb-col\"><h3>Run history:</h3><br/><table class=\"wandb\"><tr><td>acc</td><td>▁</td></tr><tr><td>loss</td><td>██▄▅▂▃▃▂▂▄▄▃▂▂▂▂▃▂▂▂▃▂▁▁▁</td></tr></table><br/></div><div class=\"wandb-col\"><h3>Run summary:</h3><br/><table class=\"wandb\"><tr><td>acc</td><td>0.76726</td></tr><tr><td>loss</td><td>0.00895</td></tr></table><br/></div></div>"
            ]
          },
          "metadata": {}
        },
        {
          "output_type": "display_data",
          "data": {
            "text/plain": [
              "<IPython.core.display.HTML object>"
            ],
            "text/html": [
              "Synced <strong style=\"color:#cdcd00\">MLP_GAN_9</strong>: <a href=\"https://wandb.ai/ahsen/NIDS/runs/1ylfq7v0\" target=\"_blank\">https://wandb.ai/ahsen/NIDS/runs/1ylfq7v0</a><br/>Synced 5 W&B file(s), 0 media file(s), 0 artifact file(s) and 0 other file(s)"
            ]
          },
          "metadata": {}
        },
        {
          "output_type": "display_data",
          "data": {
            "text/plain": [
              "<IPython.core.display.HTML object>"
            ],
            "text/html": [
              "Find logs at: <code>./wandb/run-20220430_141019-1ylfq7v0/logs</code>"
            ]
          },
          "metadata": {}
        },
        {
          "output_type": "display_data",
          "data": {
            "text/plain": [
              "<IPython.core.display.HTML object>"
            ],
            "text/html": [
              "Tracking run with wandb version 0.12.15"
            ]
          },
          "metadata": {}
        },
        {
          "output_type": "display_data",
          "data": {
            "text/plain": [
              "<IPython.core.display.HTML object>"
            ],
            "text/html": [
              "Run data is saved locally in <code>/content/wandb/run-20220430_141202-252bbjn1</code>"
            ]
          },
          "metadata": {}
        },
        {
          "output_type": "display_data",
          "data": {
            "text/plain": [
              "<IPython.core.display.HTML object>"
            ],
            "text/html": [
              "Syncing run <strong><a href=\"https://wandb.ai/ahsen/NIDS/runs/252bbjn1\" target=\"_blank\">MLP_GAN_10</a></strong> to <a href=\"https://wandb.ai/ahsen/NIDS\" target=\"_blank\">Weights & Biases</a> (<a href=\"https://wandb.me/run\" target=\"_blank\">docs</a>)<br/>"
            ]
          },
          "metadata": {}
        },
        {
          "output_type": "stream",
          "name": "stdout",
          "text": [
            "===============================================\n",
            "Batch Size:128\tEpochs:25\tLR:0.1\n",
            "------------------------------------------------\n",
            "Epoch:1  \tLoss:0.0233\t Acc: 0.7972\n",
            "------------------------------------------------\n",
            "Epoch:2  \tLoss:0.0178\t Acc: 0.7893\n",
            "------------------------------------------------\n",
            "Epoch:3  \tLoss:0.0315\t Acc: 0.8170\n",
            "------------------------------------------------\n",
            "Epoch:4  \tLoss:0.0146\t Acc: 0.7927\n",
            "------------------------------------------------\n",
            "Epoch:5  \tLoss:0.0148\t Acc: 0.7953\n",
            "------------------------------------------------\n",
            "Epoch:6  \tLoss:0.0098\t Acc: 0.7954\n",
            "------------------------------------------------\n",
            "Epoch:7  \tLoss:0.0079\t Acc: 0.7938\n",
            "------------------------------------------------\n",
            "Epoch:8  \tLoss:0.0072\t Acc: 0.7941\n",
            "------------------------------------------------\n",
            "Epoch:9  \tLoss:0.0073\t Acc: 0.7950\n",
            "------------------------------------------------\n",
            "Epoch:10  \tLoss:0.0065\t Acc: 0.7896\n",
            "------------------------------------------------\n",
            "Epoch:11  \tLoss:0.0081\t Acc: 0.7925\n",
            "------------------------------------------------\n",
            "Epoch:12  \tLoss:0.0096\t Acc: 0.7919\n",
            "------------------------------------------------\n",
            "Epoch:13  \tLoss:0.0091\t Acc: 0.7929\n",
            "------------------------------------------------\n",
            "Epoch:14  \tLoss:0.0090\t Acc: 0.7931\n",
            "------------------------------------------------\n",
            "Epoch:15  \tLoss:0.0106\t Acc: 0.7946\n",
            "------------------------------------------------\n",
            "Epoch:16  \tLoss:0.0091\t Acc: 0.7836\n",
            "------------------------------------------------\n",
            "Epoch:17  \tLoss:0.0094\t Acc: 0.7876\n",
            "------------------------------------------------\n",
            "Epoch:18  \tLoss:0.0094\t Acc: 0.7861\n",
            "------------------------------------------------\n",
            "Epoch:19  \tLoss:0.0096\t Acc: 0.7799\n",
            "------------------------------------------------\n",
            "Epoch:20  \tLoss:0.0106\t Acc: 0.7833\n",
            "------------------------------------------------\n",
            "Epoch:21  \tLoss:0.0112\t Acc: 0.7859\n",
            "------------------------------------------------\n",
            "Epoch:22  \tLoss:0.0119\t Acc: 0.7826\n",
            "------------------------------------------------\n",
            "Epoch:23  \tLoss:0.0107\t Acc: 0.7795\n",
            "------------------------------------------------\n",
            "Epoch:24  \tLoss:0.0119\t Acc: 0.7765\n",
            "------------------------------------------------\n",
            "Epoch:25  \tLoss:0.0089\t Acc: 0.7749\n",
            "*************************************************\n",
            "Final Score for (B:128, Ep:25, LR:0.1)\n",
            "Acc: 0.7749\n"
          ]
        },
        {
          "output_type": "display_data",
          "data": {
            "text/plain": [
              "<IPython.core.display.HTML object>"
            ],
            "text/html": [
              "Waiting for W&B process to finish... <strong style=\"color:green\">(success).</strong>"
            ]
          },
          "metadata": {}
        },
        {
          "output_type": "display_data",
          "data": {
            "text/plain": [
              "VBox(children=(Label(value='0.001 MB of 0.001 MB uploaded (0.000 MB deduped)\\r'), FloatProgress(value=1.0, max…"
            ],
            "application/vnd.jupyter.widget-view+json": {
              "version_major": 2,
              "version_minor": 0,
              "model_id": "a3c2e507862146ad922ac7c2899a264e"
            }
          },
          "metadata": {}
        },
        {
          "output_type": "display_data",
          "data": {
            "text/plain": [
              "<IPython.core.display.HTML object>"
            ],
            "text/html": [
              "<style>\n",
              "    table.wandb td:nth-child(1) { padding: 0 10px; text-align: right }\n",
              "    .wandb-row { display: flex; flex-direction: row; flex-wrap: wrap; width: 100% }\n",
              "    .wandb-col { display: flex; flex-direction: column; flex-basis: 100%; flex: 1; padding: 10px; }\n",
              "    </style>\n",
              "<div class=\"wandb-row\"><div class=\"wandb-col\"><h3>Run history:</h3><br/><table class=\"wandb\"><tr><td>acc</td><td>▁</td></tr><tr><td>loss</td><td>▆▄█▃▃▂▁▁▁▁▁▂▂▂▂▂▂▂▂▂▂▃▂▃▂</td></tr></table><br/></div><div class=\"wandb-col\"><h3>Run summary:</h3><br/><table class=\"wandb\"><tr><td>acc</td><td>0.77488</td></tr><tr><td>loss</td><td>0.00887</td></tr></table><br/></div></div>"
            ]
          },
          "metadata": {}
        },
        {
          "output_type": "display_data",
          "data": {
            "text/plain": [
              "<IPython.core.display.HTML object>"
            ],
            "text/html": [
              "Synced <strong style=\"color:#cdcd00\">MLP_GAN_10</strong>: <a href=\"https://wandb.ai/ahsen/NIDS/runs/252bbjn1\" target=\"_blank\">https://wandb.ai/ahsen/NIDS/runs/252bbjn1</a><br/>Synced 5 W&B file(s), 0 media file(s), 0 artifact file(s) and 0 other file(s)"
            ]
          },
          "metadata": {}
        },
        {
          "output_type": "display_data",
          "data": {
            "text/plain": [
              "<IPython.core.display.HTML object>"
            ],
            "text/html": [
              "Find logs at: <code>./wandb/run-20220430_141202-252bbjn1/logs</code>"
            ]
          },
          "metadata": {}
        },
        {
          "output_type": "display_data",
          "data": {
            "text/plain": [
              "<IPython.core.display.HTML object>"
            ],
            "text/html": [
              "Tracking run with wandb version 0.12.15"
            ]
          },
          "metadata": {}
        },
        {
          "output_type": "display_data",
          "data": {
            "text/plain": [
              "<IPython.core.display.HTML object>"
            ],
            "text/html": [
              "Run data is saved locally in <code>/content/wandb/run-20220430_141319-12quffre</code>"
            ]
          },
          "metadata": {}
        },
        {
          "output_type": "display_data",
          "data": {
            "text/plain": [
              "<IPython.core.display.HTML object>"
            ],
            "text/html": [
              "Syncing run <strong><a href=\"https://wandb.ai/ahsen/NIDS/runs/12quffre\" target=\"_blank\">MLP_GAN_11</a></strong> to <a href=\"https://wandb.ai/ahsen/NIDS\" target=\"_blank\">Weights & Biases</a> (<a href=\"https://wandb.me/run\" target=\"_blank\">docs</a>)<br/>"
            ]
          },
          "metadata": {}
        },
        {
          "output_type": "stream",
          "name": "stdout",
          "text": [
            "===============================================\n",
            "Batch Size:256\tEpochs:25\tLR:0.1\n",
            "------------------------------------------------\n",
            "Epoch:1  \tLoss:0.0391\t Acc: 0.7709\n",
            "------------------------------------------------\n",
            "Epoch:2  \tLoss:0.0260\t Acc: 0.7843\n",
            "------------------------------------------------\n",
            "Epoch:3  \tLoss:0.0224\t Acc: 0.7994\n",
            "------------------------------------------------\n",
            "Epoch:4  \tLoss:0.0303\t Acc: 0.7867\n",
            "------------------------------------------------\n",
            "Epoch:5  \tLoss:0.0295\t Acc: 0.8180\n",
            "------------------------------------------------\n",
            "Epoch:6  \tLoss:0.0255\t Acc: 0.8117\n",
            "------------------------------------------------\n",
            "Epoch:7  \tLoss:0.0148\t Acc: 0.8113\n",
            "------------------------------------------------\n",
            "Epoch:8  \tLoss:0.0152\t Acc: 0.8101\n",
            "------------------------------------------------\n",
            "Epoch:9  \tLoss:0.0130\t Acc: 0.8072\n",
            "------------------------------------------------\n",
            "Epoch:10  \tLoss:0.0113\t Acc: 0.8107\n",
            "------------------------------------------------\n",
            "Epoch:11  \tLoss:0.0120\t Acc: 0.8148\n",
            "------------------------------------------------\n",
            "Epoch:12  \tLoss:0.0171\t Acc: 0.8047\n",
            "------------------------------------------------\n",
            "Epoch:13  \tLoss:0.0058\t Acc: 0.8067\n",
            "------------------------------------------------\n",
            "Epoch:14  \tLoss:0.0148\t Acc: 0.8212\n",
            "------------------------------------------------\n",
            "Epoch:15  \tLoss:0.0116\t Acc: 0.8109\n",
            "------------------------------------------------\n",
            "Epoch:16  \tLoss:0.0137\t Acc: 0.8166\n",
            "------------------------------------------------\n",
            "Epoch:17  \tLoss:0.0091\t Acc: 0.8079\n",
            "------------------------------------------------\n",
            "Epoch:18  \tLoss:0.0104\t Acc: 0.8048\n",
            "------------------------------------------------\n",
            "Epoch:19  \tLoss:0.0109\t Acc: 0.7846\n",
            "------------------------------------------------\n",
            "Epoch:20  \tLoss:0.0053\t Acc: 0.8038\n",
            "------------------------------------------------\n",
            "Epoch:21  \tLoss:0.0094\t Acc: 0.7942\n",
            "------------------------------------------------\n",
            "Epoch:22  \tLoss:0.0133\t Acc: 0.8209\n",
            "------------------------------------------------\n",
            "Epoch:23  \tLoss:0.0151\t Acc: 0.8102\n",
            "------------------------------------------------\n",
            "Epoch:24  \tLoss:0.0091\t Acc: 0.7832\n",
            "------------------------------------------------\n",
            "Epoch:25  \tLoss:0.0067\t Acc: 0.7906\n",
            "*************************************************\n",
            "Final Score for (B:256, Ep:25, LR:0.1)\n",
            "Acc: 0.7906\n"
          ]
        },
        {
          "output_type": "display_data",
          "data": {
            "text/plain": [
              "<IPython.core.display.HTML object>"
            ],
            "text/html": [
              "Waiting for W&B process to finish... <strong style=\"color:green\">(success).</strong>"
            ]
          },
          "metadata": {}
        },
        {
          "output_type": "display_data",
          "data": {
            "text/plain": [
              "VBox(children=(Label(value='0.001 MB of 0.001 MB uploaded (0.000 MB deduped)\\r'), FloatProgress(value=1.0, max…"
            ],
            "application/vnd.jupyter.widget-view+json": {
              "version_major": 2,
              "version_minor": 0,
              "model_id": "8c7d4e9b79564cefbcbe54f23e253aff"
            }
          },
          "metadata": {}
        },
        {
          "output_type": "display_data",
          "data": {
            "text/plain": [
              "<IPython.core.display.HTML object>"
            ],
            "text/html": [
              "<style>\n",
              "    table.wandb td:nth-child(1) { padding: 0 10px; text-align: right }\n",
              "    .wandb-row { display: flex; flex-direction: row; flex-wrap: wrap; width: 100% }\n",
              "    .wandb-col { display: flex; flex-direction: column; flex-basis: 100%; flex: 1; padding: 10px; }\n",
              "    </style>\n",
              "<div class=\"wandb-row\"><div class=\"wandb-col\"><h3>Run history:</h3><br/><table class=\"wandb\"><tr><td>acc</td><td>▁</td></tr><tr><td>loss</td><td>█▅▅▆▆▅▃▃▃▂▂▃▁▃▂▃▂▂▂▁▂▃▃▂▁</td></tr></table><br/></div><div class=\"wandb-col\"><h3>Run summary:</h3><br/><table class=\"wandb\"><tr><td>acc</td><td>0.79063</td></tr><tr><td>loss</td><td>0.00671</td></tr></table><br/></div></div>"
            ]
          },
          "metadata": {}
        },
        {
          "output_type": "display_data",
          "data": {
            "text/plain": [
              "<IPython.core.display.HTML object>"
            ],
            "text/html": [
              "Synced <strong style=\"color:#cdcd00\">MLP_GAN_11</strong>: <a href=\"https://wandb.ai/ahsen/NIDS/runs/12quffre\" target=\"_blank\">https://wandb.ai/ahsen/NIDS/runs/12quffre</a><br/>Synced 5 W&B file(s), 0 media file(s), 0 artifact file(s) and 0 other file(s)"
            ]
          },
          "metadata": {}
        },
        {
          "output_type": "display_data",
          "data": {
            "text/plain": [
              "<IPython.core.display.HTML object>"
            ],
            "text/html": [
              "Find logs at: <code>./wandb/run-20220430_141319-12quffre/logs</code>"
            ]
          },
          "metadata": {}
        },
        {
          "output_type": "display_data",
          "data": {
            "text/plain": [
              "<IPython.core.display.HTML object>"
            ],
            "text/html": [
              "Tracking run with wandb version 0.12.15"
            ]
          },
          "metadata": {}
        },
        {
          "output_type": "display_data",
          "data": {
            "text/plain": [
              "<IPython.core.display.HTML object>"
            ],
            "text/html": [
              "Run data is saved locally in <code>/content/wandb/run-20220430_141426-2valzwkj</code>"
            ]
          },
          "metadata": {}
        },
        {
          "output_type": "display_data",
          "data": {
            "text/plain": [
              "<IPython.core.display.HTML object>"
            ],
            "text/html": [
              "Syncing run <strong><a href=\"https://wandb.ai/ahsen/NIDS/runs/2valzwkj\" target=\"_blank\">MLP_GAN_12</a></strong> to <a href=\"https://wandb.ai/ahsen/NIDS\" target=\"_blank\">Weights & Biases</a> (<a href=\"https://wandb.me/run\" target=\"_blank\">docs</a>)<br/>"
            ]
          },
          "metadata": {}
        },
        {
          "output_type": "stream",
          "name": "stdout",
          "text": [
            "===============================================\n",
            "Batch Size:32\tEpochs:40\tLR:0.001\n",
            "------------------------------------------------\n",
            "Epoch:1  \tLoss:0.0576\t Acc: 0.7730\n",
            "------------------------------------------------\n",
            "Epoch:2  \tLoss:0.0293\t Acc: 0.7880\n",
            "------------------------------------------------\n",
            "Epoch:3  \tLoss:0.0199\t Acc: 0.7812\n",
            "------------------------------------------------\n",
            "Epoch:4  \tLoss:0.0153\t Acc: 0.7757\n",
            "------------------------------------------------\n",
            "Epoch:5  \tLoss:0.0147\t Acc: 0.7739\n",
            "------------------------------------------------\n",
            "Epoch:6  \tLoss:0.0127\t Acc: 0.7687\n",
            "------------------------------------------------\n",
            "Epoch:7  \tLoss:0.0104\t Acc: 0.7689\n",
            "------------------------------------------------\n",
            "Epoch:8  \tLoss:0.0089\t Acc: 0.7684\n",
            "------------------------------------------------\n",
            "Epoch:9  \tLoss:0.0083\t Acc: 0.7662\n",
            "------------------------------------------------\n",
            "Epoch:10  \tLoss:0.0064\t Acc: 0.7676\n",
            "------------------------------------------------\n",
            "Epoch:11  \tLoss:0.0045\t Acc: 0.7686\n",
            "------------------------------------------------\n",
            "Epoch:12  \tLoss:0.0049\t Acc: 0.7681\n",
            "------------------------------------------------\n",
            "Epoch:13  \tLoss:0.0043\t Acc: 0.7692\n",
            "------------------------------------------------\n",
            "Epoch:14  \tLoss:0.0039\t Acc: 0.7704\n",
            "------------------------------------------------\n",
            "Epoch:15  \tLoss:0.0030\t Acc: 0.7712\n",
            "------------------------------------------------\n",
            "Epoch:16  \tLoss:0.0031\t Acc: 0.7710\n",
            "------------------------------------------------\n",
            "Epoch:17  \tLoss:0.0029\t Acc: 0.7702\n",
            "------------------------------------------------\n",
            "Epoch:18  \tLoss:0.0028\t Acc: 0.7708\n",
            "------------------------------------------------\n",
            "Epoch:19  \tLoss:0.0025\t Acc: 0.7705\n",
            "------------------------------------------------\n",
            "Epoch:20  \tLoss:0.0026\t Acc: 0.7693\n",
            "------------------------------------------------\n",
            "Epoch:21  \tLoss:0.0019\t Acc: 0.7698\n",
            "------------------------------------------------\n",
            "Epoch:22  \tLoss:0.0019\t Acc: 0.7695\n",
            "------------------------------------------------\n",
            "Epoch:23  \tLoss:0.0021\t Acc: 0.7685\n",
            "------------------------------------------------\n",
            "Epoch:24  \tLoss:0.0019\t Acc: 0.7691\n",
            "------------------------------------------------\n",
            "Epoch:25  \tLoss:0.0018\t Acc: 0.7683\n",
            "------------------------------------------------\n",
            "Epoch:26  \tLoss:0.0016\t Acc: 0.7701\n",
            "------------------------------------------------\n",
            "Epoch:27  \tLoss:0.0027\t Acc: 0.7713\n",
            "------------------------------------------------\n",
            "Epoch:28  \tLoss:0.0026\t Acc: 0.7707\n",
            "------------------------------------------------\n",
            "Epoch:29  \tLoss:0.0016\t Acc: 0.7704\n",
            "------------------------------------------------\n",
            "Epoch:30  \tLoss:0.0017\t Acc: 0.7705\n",
            "------------------------------------------------\n",
            "Epoch:31  \tLoss:0.0015\t Acc: 0.7692\n",
            "------------------------------------------------\n",
            "Epoch:32  \tLoss:0.0051\t Acc: 0.7703\n",
            "------------------------------------------------\n",
            "Epoch:33  \tLoss:0.0033\t Acc: 0.7712\n",
            "------------------------------------------------\n",
            "Epoch:34  \tLoss:0.0011\t Acc: 0.7698\n",
            "------------------------------------------------\n",
            "Epoch:35  \tLoss:0.0027\t Acc: 0.7685\n",
            "------------------------------------------------\n",
            "Epoch:36  \tLoss:0.0019\t Acc: 0.7700\n",
            "------------------------------------------------\n",
            "Epoch:37  \tLoss:0.0029\t Acc: 0.7693\n",
            "------------------------------------------------\n",
            "Epoch:38  \tLoss:0.0023\t Acc: 0.7742\n",
            "------------------------------------------------\n",
            "Epoch:39  \tLoss:0.0014\t Acc: 0.7679\n",
            "------------------------------------------------\n",
            "Epoch:40  \tLoss:0.0009\t Acc: 0.7676\n",
            "*************************************************\n",
            "Final Score for (B:32, Ep:40, LR:0.001)\n",
            "Acc: 0.7676\n"
          ]
        },
        {
          "output_type": "display_data",
          "data": {
            "text/plain": [
              "<IPython.core.display.HTML object>"
            ],
            "text/html": [
              "Waiting for W&B process to finish... <strong style=\"color:green\">(success).</strong>"
            ]
          },
          "metadata": {}
        },
        {
          "output_type": "display_data",
          "data": {
            "text/plain": [
              "VBox(children=(Label(value='0.001 MB of 0.001 MB uploaded (0.000 MB deduped)\\r'), FloatProgress(value=1.0, max…"
            ],
            "application/vnd.jupyter.widget-view+json": {
              "version_major": 2,
              "version_minor": 0,
              "model_id": "122b04211be24b1289d191c0f962f2f2"
            }
          },
          "metadata": {}
        },
        {
          "output_type": "display_data",
          "data": {
            "text/plain": [
              "<IPython.core.display.HTML object>"
            ],
            "text/html": [
              "<style>\n",
              "    table.wandb td:nth-child(1) { padding: 0 10px; text-align: right }\n",
              "    .wandb-row { display: flex; flex-direction: row; flex-wrap: wrap; width: 100% }\n",
              "    .wandb-col { display: flex; flex-direction: column; flex-basis: 100%; flex: 1; padding: 10px; }\n",
              "    </style>\n",
              "<div class=\"wandb-row\"><div class=\"wandb-col\"><h3>Run history:</h3><br/><table class=\"wandb\"><tr><td>acc</td><td>▁</td></tr><tr><td>loss</td><td>█▅▃▃▃▂▂▂▂▂▁▂▁▁▁▁▁▁▁▁▁▁▁▁▁▁▁▁▁▁▁▂▁▁▁▁▁▁▁▁</td></tr></table><br/></div><div class=\"wandb-col\"><h3>Run summary:</h3><br/><table class=\"wandb\"><tr><td>acc</td><td>0.76761</td></tr><tr><td>loss</td><td>0.0009</td></tr></table><br/></div></div>"
            ]
          },
          "metadata": {}
        },
        {
          "output_type": "display_data",
          "data": {
            "text/plain": [
              "<IPython.core.display.HTML object>"
            ],
            "text/html": [
              "Synced <strong style=\"color:#cdcd00\">MLP_GAN_12</strong>: <a href=\"https://wandb.ai/ahsen/NIDS/runs/2valzwkj\" target=\"_blank\">https://wandb.ai/ahsen/NIDS/runs/2valzwkj</a><br/>Synced 5 W&B file(s), 0 media file(s), 0 artifact file(s) and 0 other file(s)"
            ]
          },
          "metadata": {}
        },
        {
          "output_type": "display_data",
          "data": {
            "text/plain": [
              "<IPython.core.display.HTML object>"
            ],
            "text/html": [
              "Find logs at: <code>./wandb/run-20220430_141426-2valzwkj/logs</code>"
            ]
          },
          "metadata": {}
        },
        {
          "output_type": "display_data",
          "data": {
            "text/plain": [
              "<IPython.core.display.HTML object>"
            ],
            "text/html": [
              "Tracking run with wandb version 0.12.15"
            ]
          },
          "metadata": {}
        },
        {
          "output_type": "display_data",
          "data": {
            "text/plain": [
              "<IPython.core.display.HTML object>"
            ],
            "text/html": [
              "Run data is saved locally in <code>/content/wandb/run-20220430_141830-yg1q6s7q</code>"
            ]
          },
          "metadata": {}
        },
        {
          "output_type": "display_data",
          "data": {
            "text/plain": [
              "<IPython.core.display.HTML object>"
            ],
            "text/html": [
              "Syncing run <strong><a href=\"https://wandb.ai/ahsen/NIDS/runs/yg1q6s7q\" target=\"_blank\">MLP_GAN_13</a></strong> to <a href=\"https://wandb.ai/ahsen/NIDS\" target=\"_blank\">Weights & Biases</a> (<a href=\"https://wandb.me/run\" target=\"_blank\">docs</a>)<br/>"
            ]
          },
          "metadata": {}
        },
        {
          "output_type": "stream",
          "name": "stdout",
          "text": [
            "===============================================\n",
            "Batch Size:64\tEpochs:40\tLR:0.001\n",
            "------------------------------------------------\n",
            "Epoch:1  \tLoss:0.1939\t Acc: 0.7601\n",
            "------------------------------------------------\n",
            "Epoch:2  \tLoss:0.1353\t Acc: 0.7818\n",
            "------------------------------------------------\n",
            "Epoch:3  \tLoss:0.1079\t Acc: 0.7817\n",
            "------------------------------------------------\n",
            "Epoch:4  \tLoss:0.0899\t Acc: 0.7864\n",
            "------------------------------------------------\n",
            "Epoch:5  \tLoss:0.0763\t Acc: 0.7895\n",
            "------------------------------------------------\n",
            "Epoch:6  \tLoss:0.0696\t Acc: 0.7903\n",
            "------------------------------------------------\n",
            "Epoch:7  \tLoss:0.0618\t Acc: 0.7901\n",
            "------------------------------------------------\n",
            "Epoch:8  \tLoss:0.0540\t Acc: 0.7882\n",
            "------------------------------------------------\n",
            "Epoch:9  \tLoss:0.0483\t Acc: 0.7860\n",
            "------------------------------------------------\n",
            "Epoch:10  \tLoss:0.0435\t Acc: 0.7824\n",
            "------------------------------------------------\n",
            "Epoch:11  \tLoss:0.0410\t Acc: 0.7794\n",
            "------------------------------------------------\n",
            "Epoch:12  \tLoss:0.0369\t Acc: 0.7743\n",
            "------------------------------------------------\n",
            "Epoch:13  \tLoss:0.0332\t Acc: 0.7700\n",
            "------------------------------------------------\n",
            "Epoch:14  \tLoss:0.0308\t Acc: 0.7701\n",
            "------------------------------------------------\n",
            "Epoch:15  \tLoss:0.0290\t Acc: 0.7708\n",
            "------------------------------------------------\n",
            "Epoch:16  \tLoss:0.0281\t Acc: 0.7724\n",
            "------------------------------------------------\n",
            "Epoch:17  \tLoss:0.0263\t Acc: 0.7734\n",
            "------------------------------------------------\n",
            "Epoch:18  \tLoss:0.0236\t Acc: 0.7745\n",
            "------------------------------------------------\n",
            "Epoch:19  \tLoss:0.0224\t Acc: 0.7753\n",
            "------------------------------------------------\n",
            "Epoch:20  \tLoss:0.0210\t Acc: 0.7762\n",
            "------------------------------------------------\n",
            "Epoch:21  \tLoss:0.0197\t Acc: 0.7780\n",
            "------------------------------------------------\n",
            "Epoch:22  \tLoss:0.0181\t Acc: 0.7795\n",
            "------------------------------------------------\n",
            "Epoch:23  \tLoss:0.0177\t Acc: 0.7818\n",
            "------------------------------------------------\n",
            "Epoch:24  \tLoss:0.0160\t Acc: 0.7862\n",
            "------------------------------------------------\n",
            "Epoch:25  \tLoss:0.0148\t Acc: 0.7913\n",
            "------------------------------------------------\n",
            "Epoch:26  \tLoss:0.0141\t Acc: 0.7953\n",
            "------------------------------------------------\n",
            "Epoch:27  \tLoss:0.0131\t Acc: 0.7965\n",
            "------------------------------------------------\n",
            "Epoch:28  \tLoss:0.0120\t Acc: 0.7966\n",
            "------------------------------------------------\n",
            "Epoch:29  \tLoss:0.0122\t Acc: 0.7972\n",
            "------------------------------------------------\n",
            "Epoch:30  \tLoss:0.0114\t Acc: 0.7979\n",
            "------------------------------------------------\n",
            "Epoch:31  \tLoss:0.0108\t Acc: 0.7983\n",
            "------------------------------------------------\n",
            "Epoch:32  \tLoss:0.0105\t Acc: 0.7994\n",
            "------------------------------------------------\n",
            "Epoch:33  \tLoss:0.0096\t Acc: 0.8004\n",
            "------------------------------------------------\n",
            "Epoch:34  \tLoss:0.0092\t Acc: 0.8025\n",
            "------------------------------------------------\n",
            "Epoch:35  \tLoss:0.0095\t Acc: 0.8046\n",
            "------------------------------------------------\n",
            "Epoch:36  \tLoss:0.0084\t Acc: 0.8064\n",
            "------------------------------------------------\n",
            "Epoch:37  \tLoss:0.0087\t Acc: 0.8079\n",
            "------------------------------------------------\n",
            "Epoch:38  \tLoss:0.0089\t Acc: 0.8074\n",
            "------------------------------------------------\n",
            "Epoch:39  \tLoss:0.0084\t Acc: 0.8075\n",
            "------------------------------------------------\n",
            "Epoch:40  \tLoss:0.0083\t Acc: 0.8072\n",
            "*************************************************\n",
            "Final Score for (B:64, Ep:40, LR:0.001)\n",
            "Acc: 0.8072\n"
          ]
        },
        {
          "output_type": "display_data",
          "data": {
            "text/plain": [
              "<IPython.core.display.HTML object>"
            ],
            "text/html": [
              "Waiting for W&B process to finish... <strong style=\"color:green\">(success).</strong>"
            ]
          },
          "metadata": {}
        },
        {
          "output_type": "display_data",
          "data": {
            "text/plain": [
              "VBox(children=(Label(value='0.001 MB of 0.001 MB uploaded (0.000 MB deduped)\\r'), FloatProgress(value=1.0, max…"
            ],
            "application/vnd.jupyter.widget-view+json": {
              "version_major": 2,
              "version_minor": 0,
              "model_id": "abf2d27696e74c99887f699fd2c4230e"
            }
          },
          "metadata": {}
        },
        {
          "output_type": "display_data",
          "data": {
            "text/plain": [
              "<IPython.core.display.HTML object>"
            ],
            "text/html": [
              "<style>\n",
              "    table.wandb td:nth-child(1) { padding: 0 10px; text-align: right }\n",
              "    .wandb-row { display: flex; flex-direction: row; flex-wrap: wrap; width: 100% }\n",
              "    .wandb-col { display: flex; flex-direction: column; flex-basis: 100%; flex: 1; padding: 10px; }\n",
              "    </style>\n",
              "<div class=\"wandb-row\"><div class=\"wandb-col\"><h3>Run history:</h3><br/><table class=\"wandb\"><tr><td>acc</td><td>▁</td></tr><tr><td>loss</td><td>█▆▅▄▄▃▃▃▃▂▂▂▂▂▂▂▂▂▂▁▁▁▁▁▁▁▁▁▁▁▁▁▁▁▁▁▁▁▁▁</td></tr></table><br/></div><div class=\"wandb-col\"><h3>Run summary:</h3><br/><table class=\"wandb\"><tr><td>acc</td><td>0.80718</td></tr><tr><td>loss</td><td>0.00832</td></tr></table><br/></div></div>"
            ]
          },
          "metadata": {}
        },
        {
          "output_type": "display_data",
          "data": {
            "text/plain": [
              "<IPython.core.display.HTML object>"
            ],
            "text/html": [
              "Synced <strong style=\"color:#cdcd00\">MLP_GAN_13</strong>: <a href=\"https://wandb.ai/ahsen/NIDS/runs/yg1q6s7q\" target=\"_blank\">https://wandb.ai/ahsen/NIDS/runs/yg1q6s7q</a><br/>Synced 5 W&B file(s), 0 media file(s), 0 artifact file(s) and 0 other file(s)"
            ]
          },
          "metadata": {}
        },
        {
          "output_type": "display_data",
          "data": {
            "text/plain": [
              "<IPython.core.display.HTML object>"
            ],
            "text/html": [
              "Find logs at: <code>./wandb/run-20220430_141830-yg1q6s7q/logs</code>"
            ]
          },
          "metadata": {}
        },
        {
          "output_type": "display_data",
          "data": {
            "text/plain": [
              "<IPython.core.display.HTML object>"
            ],
            "text/html": [
              "Tracking run with wandb version 0.12.15"
            ]
          },
          "metadata": {}
        },
        {
          "output_type": "display_data",
          "data": {
            "text/plain": [
              "<IPython.core.display.HTML object>"
            ],
            "text/html": [
              "Run data is saved locally in <code>/content/wandb/run-20220430_142101-1ikbt9yz</code>"
            ]
          },
          "metadata": {}
        },
        {
          "output_type": "display_data",
          "data": {
            "text/plain": [
              "<IPython.core.display.HTML object>"
            ],
            "text/html": [
              "Syncing run <strong><a href=\"https://wandb.ai/ahsen/NIDS/runs/1ikbt9yz\" target=\"_blank\">MLP_GAN_14</a></strong> to <a href=\"https://wandb.ai/ahsen/NIDS\" target=\"_blank\">Weights & Biases</a> (<a href=\"https://wandb.me/run\" target=\"_blank\">docs</a>)<br/>"
            ]
          },
          "metadata": {}
        },
        {
          "output_type": "stream",
          "name": "stdout",
          "text": [
            "===============================================\n",
            "Batch Size:128\tEpochs:40\tLR:0.001\n",
            "------------------------------------------------\n",
            "Epoch:1  \tLoss:0.2869\t Acc: 0.7252\n",
            "------------------------------------------------\n",
            "Epoch:2  \tLoss:0.1904\t Acc: 0.7360\n",
            "------------------------------------------------\n",
            "Epoch:3  \tLoss:0.1470\t Acc: 0.7461\n",
            "------------------------------------------------\n",
            "Epoch:4  \tLoss:0.1236\t Acc: 0.7515\n",
            "------------------------------------------------\n",
            "Epoch:5  \tLoss:0.1087\t Acc: 0.7568\n",
            "------------------------------------------------\n",
            "Epoch:6  \tLoss:0.0977\t Acc: 0.7605\n",
            "------------------------------------------------\n",
            "Epoch:7  \tLoss:0.0874\t Acc: 0.7617\n",
            "------------------------------------------------\n",
            "Epoch:8  \tLoss:0.0779\t Acc: 0.7636\n",
            "------------------------------------------------\n",
            "Epoch:9  \tLoss:0.0701\t Acc: 0.7659\n",
            "------------------------------------------------\n",
            "Epoch:10  \tLoss:0.0652\t Acc: 0.7676\n",
            "------------------------------------------------\n",
            "Epoch:11  \tLoss:0.0620\t Acc: 0.7692\n",
            "------------------------------------------------\n",
            "Epoch:12  \tLoss:0.0595\t Acc: 0.7704\n",
            "------------------------------------------------\n",
            "Epoch:13  \tLoss:0.0570\t Acc: 0.7712\n",
            "------------------------------------------------\n",
            "Epoch:14  \tLoss:0.0542\t Acc: 0.7725\n",
            "------------------------------------------------\n",
            "Epoch:15  \tLoss:0.0494\t Acc: 0.7744\n",
            "------------------------------------------------\n",
            "Epoch:16  \tLoss:0.0460\t Acc: 0.7745\n",
            "------------------------------------------------\n",
            "Epoch:17  \tLoss:0.0441\t Acc: 0.7757\n",
            "------------------------------------------------\n",
            "Epoch:18  \tLoss:0.0415\t Acc: 0.7769\n",
            "------------------------------------------------\n",
            "Epoch:19  \tLoss:0.0396\t Acc: 0.7788\n",
            "------------------------------------------------\n",
            "Epoch:20  \tLoss:0.0381\t Acc: 0.7793\n",
            "------------------------------------------------\n",
            "Epoch:21  \tLoss:0.0368\t Acc: 0.7798\n",
            "------------------------------------------------\n",
            "Epoch:22  \tLoss:0.0354\t Acc: 0.7787\n",
            "------------------------------------------------\n",
            "Epoch:23  \tLoss:0.0340\t Acc: 0.7783\n",
            "------------------------------------------------\n",
            "Epoch:24  \tLoss:0.0331\t Acc: 0.7776\n",
            "------------------------------------------------\n",
            "Epoch:25  \tLoss:0.0318\t Acc: 0.7775\n",
            "------------------------------------------------\n",
            "Epoch:26  \tLoss:0.0311\t Acc: 0.7784\n",
            "------------------------------------------------\n",
            "Epoch:27  \tLoss:0.0302\t Acc: 0.7791\n",
            "------------------------------------------------\n",
            "Epoch:28  \tLoss:0.0290\t Acc: 0.7789\n",
            "------------------------------------------------\n",
            "Epoch:29  \tLoss:0.0283\t Acc: 0.7786\n",
            "------------------------------------------------\n",
            "Epoch:30  \tLoss:0.0284\t Acc: 0.7791\n",
            "------------------------------------------------\n",
            "Epoch:31  \tLoss:0.0280\t Acc: 0.7797\n",
            "------------------------------------------------\n",
            "Epoch:32  \tLoss:0.0271\t Acc: 0.7805\n",
            "------------------------------------------------\n",
            "Epoch:33  \tLoss:0.0261\t Acc: 0.7818\n",
            "------------------------------------------------\n",
            "Epoch:34  \tLoss:0.0268\t Acc: 0.7818\n",
            "------------------------------------------------\n",
            "Epoch:35  \tLoss:0.0262\t Acc: 0.7821\n",
            "------------------------------------------------\n",
            "Epoch:36  \tLoss:0.0258\t Acc: 0.7818\n",
            "------------------------------------------------\n",
            "Epoch:37  \tLoss:0.0257\t Acc: 0.7824\n",
            "------------------------------------------------\n",
            "Epoch:38  \tLoss:0.0252\t Acc: 0.7845\n",
            "------------------------------------------------\n",
            "Epoch:39  \tLoss:0.0246\t Acc: 0.7893\n",
            "------------------------------------------------\n",
            "Epoch:40  \tLoss:0.0239\t Acc: 0.7913\n",
            "*************************************************\n",
            "Final Score for (B:128, Ep:40, LR:0.001)\n",
            "Acc: 0.7913\n"
          ]
        },
        {
          "output_type": "display_data",
          "data": {
            "text/plain": [
              "<IPython.core.display.HTML object>"
            ],
            "text/html": [
              "Waiting for W&B process to finish... <strong style=\"color:green\">(success).</strong>"
            ]
          },
          "metadata": {}
        },
        {
          "output_type": "display_data",
          "data": {
            "text/plain": [
              "VBox(children=(Label(value='0.001 MB of 0.001 MB uploaded (0.000 MB deduped)\\r'), FloatProgress(value=1.0, max…"
            ],
            "application/vnd.jupyter.widget-view+json": {
              "version_major": 2,
              "version_minor": 0,
              "model_id": "eb34f2472cd24c608d00d2251c717101"
            }
          },
          "metadata": {}
        },
        {
          "output_type": "display_data",
          "data": {
            "text/plain": [
              "<IPython.core.display.HTML object>"
            ],
            "text/html": [
              "<style>\n",
              "    table.wandb td:nth-child(1) { padding: 0 10px; text-align: right }\n",
              "    .wandb-row { display: flex; flex-direction: row; flex-wrap: wrap; width: 100% }\n",
              "    .wandb-col { display: flex; flex-direction: column; flex-basis: 100%; flex: 1; padding: 10px; }\n",
              "    </style>\n",
              "<div class=\"wandb-row\"><div class=\"wandb-col\"><h3>Run history:</h3><br/><table class=\"wandb\"><tr><td>acc</td><td>▁</td></tr><tr><td>loss</td><td>█▅▄▄▃▃▃▂▂▂▂▂▂▂▂▂▂▁▁▁▁▁▁▁▁▁▁▁▁▁▁▁▁▁▁▁▁▁▁▁</td></tr></table><br/></div><div class=\"wandb-col\"><h3>Run summary:</h3><br/><table class=\"wandb\"><tr><td>acc</td><td>0.79134</td></tr><tr><td>loss</td><td>0.02387</td></tr></table><br/></div></div>"
            ]
          },
          "metadata": {}
        },
        {
          "output_type": "display_data",
          "data": {
            "text/plain": [
              "<IPython.core.display.HTML object>"
            ],
            "text/html": [
              "Synced <strong style=\"color:#cdcd00\">MLP_GAN_14</strong>: <a href=\"https://wandb.ai/ahsen/NIDS/runs/1ikbt9yz\" target=\"_blank\">https://wandb.ai/ahsen/NIDS/runs/1ikbt9yz</a><br/>Synced 5 W&B file(s), 0 media file(s), 0 artifact file(s) and 0 other file(s)"
            ]
          },
          "metadata": {}
        },
        {
          "output_type": "display_data",
          "data": {
            "text/plain": [
              "<IPython.core.display.HTML object>"
            ],
            "text/html": [
              "Find logs at: <code>./wandb/run-20220430_142101-1ikbt9yz/logs</code>"
            ]
          },
          "metadata": {}
        },
        {
          "output_type": "display_data",
          "data": {
            "text/plain": [
              "<IPython.core.display.HTML object>"
            ],
            "text/html": [
              "Tracking run with wandb version 0.12.15"
            ]
          },
          "metadata": {}
        },
        {
          "output_type": "display_data",
          "data": {
            "text/plain": [
              "<IPython.core.display.HTML object>"
            ],
            "text/html": [
              "Run data is saved locally in <code>/content/wandb/run-20220430_142252-2ahq9rx4</code>"
            ]
          },
          "metadata": {}
        },
        {
          "output_type": "display_data",
          "data": {
            "text/plain": [
              "<IPython.core.display.HTML object>"
            ],
            "text/html": [
              "Syncing run <strong><a href=\"https://wandb.ai/ahsen/NIDS/runs/2ahq9rx4\" target=\"_blank\">MLP_GAN_15</a></strong> to <a href=\"https://wandb.ai/ahsen/NIDS\" target=\"_blank\">Weights & Biases</a> (<a href=\"https://wandb.me/run\" target=\"_blank\">docs</a>)<br/>"
            ]
          },
          "metadata": {}
        },
        {
          "output_type": "stream",
          "name": "stdout",
          "text": [
            "===============================================\n",
            "Batch Size:256\tEpochs:40\tLR:0.001\n",
            "------------------------------------------------\n",
            "Epoch:1  \tLoss:0.4042\t Acc: 0.7186\n",
            "------------------------------------------------\n",
            "Epoch:2  \tLoss:0.2928\t Acc: 0.7273\n",
            "------------------------------------------------\n",
            "Epoch:3  \tLoss:0.2340\t Acc: 0.7295\n",
            "------------------------------------------------\n",
            "Epoch:4  \tLoss:0.1987\t Acc: 0.7361\n",
            "------------------------------------------------\n",
            "Epoch:5  \tLoss:0.1771\t Acc: 0.7412\n",
            "------------------------------------------------\n",
            "Epoch:6  \tLoss:0.1625\t Acc: 0.7471\n",
            "------------------------------------------------\n",
            "Epoch:7  \tLoss:0.1519\t Acc: 0.7526\n",
            "------------------------------------------------\n",
            "Epoch:8  \tLoss:0.1439\t Acc: 0.7571\n",
            "------------------------------------------------\n",
            "Epoch:9  \tLoss:0.1376\t Acc: 0.7611\n",
            "------------------------------------------------\n",
            "Epoch:10  \tLoss:0.1320\t Acc: 0.7644\n",
            "------------------------------------------------\n",
            "Epoch:11  \tLoss:0.1265\t Acc: 0.7649\n",
            "------------------------------------------------\n",
            "Epoch:12  \tLoss:0.1212\t Acc: 0.7678\n",
            "------------------------------------------------\n",
            "Epoch:13  \tLoss:0.1158\t Acc: 0.7695\n",
            "------------------------------------------------\n",
            "Epoch:14  \tLoss:0.1105\t Acc: 0.7711\n",
            "------------------------------------------------\n",
            "Epoch:15  \tLoss:0.1049\t Acc: 0.7735\n",
            "------------------------------------------------\n",
            "Epoch:16  \tLoss:0.1001\t Acc: 0.7759\n",
            "------------------------------------------------\n",
            "Epoch:17  \tLoss:0.0958\t Acc: 0.7775\n",
            "------------------------------------------------\n",
            "Epoch:18  \tLoss:0.0911\t Acc: 0.7787\n",
            "------------------------------------------------\n",
            "Epoch:19  \tLoss:0.0875\t Acc: 0.7793\n",
            "------------------------------------------------\n",
            "Epoch:20  \tLoss:0.0839\t Acc: 0.7806\n",
            "------------------------------------------------\n",
            "Epoch:21  \tLoss:0.0804\t Acc: 0.7811\n",
            "------------------------------------------------\n",
            "Epoch:22  \tLoss:0.0774\t Acc: 0.7829\n",
            "------------------------------------------------\n",
            "Epoch:23  \tLoss:0.0749\t Acc: 0.7851\n",
            "------------------------------------------------\n",
            "Epoch:24  \tLoss:0.0730\t Acc: 0.7869\n",
            "------------------------------------------------\n",
            "Epoch:25  \tLoss:0.0713\t Acc: 0.7873\n",
            "------------------------------------------------\n",
            "Epoch:26  \tLoss:0.0698\t Acc: 0.7879\n",
            "------------------------------------------------\n",
            "Epoch:27  \tLoss:0.0681\t Acc: 0.7881\n",
            "------------------------------------------------\n",
            "Epoch:28  \tLoss:0.0667\t Acc: 0.7879\n",
            "------------------------------------------------\n",
            "Epoch:29  \tLoss:0.0654\t Acc: 0.7876\n",
            "------------------------------------------------\n",
            "Epoch:30  \tLoss:0.0639\t Acc: 0.7880\n",
            "------------------------------------------------\n",
            "Epoch:31  \tLoss:0.0632\t Acc: 0.7878\n",
            "------------------------------------------------\n",
            "Epoch:32  \tLoss:0.0625\t Acc: 0.7873\n",
            "------------------------------------------------\n",
            "Epoch:33  \tLoss:0.0616\t Acc: 0.7864\n",
            "------------------------------------------------\n",
            "Epoch:34  \tLoss:0.0606\t Acc: 0.7869\n",
            "------------------------------------------------\n",
            "Epoch:35  \tLoss:0.0596\t Acc: 0.7873\n",
            "------------------------------------------------\n",
            "Epoch:36  \tLoss:0.0582\t Acc: 0.7880\n",
            "------------------------------------------------\n",
            "Epoch:37  \tLoss:0.0569\t Acc: 0.7882\n",
            "------------------------------------------------\n",
            "Epoch:38  \tLoss:0.0556\t Acc: 0.7885\n",
            "------------------------------------------------\n",
            "Epoch:39  \tLoss:0.0544\t Acc: 0.7886\n",
            "------------------------------------------------\n",
            "Epoch:40  \tLoss:0.0530\t Acc: 0.7887\n",
            "*************************************************\n",
            "Final Score for (B:256, Ep:40, LR:0.001)\n",
            "Acc: 0.7887\n"
          ]
        },
        {
          "output_type": "display_data",
          "data": {
            "text/plain": [
              "<IPython.core.display.HTML object>"
            ],
            "text/html": [
              "Waiting for W&B process to finish... <strong style=\"color:green\">(success).</strong>"
            ]
          },
          "metadata": {}
        },
        {
          "output_type": "display_data",
          "data": {
            "text/plain": [
              "VBox(children=(Label(value='0.001 MB of 0.001 MB uploaded (0.000 MB deduped)\\r'), FloatProgress(value=1.0, max…"
            ],
            "application/vnd.jupyter.widget-view+json": {
              "version_major": 2,
              "version_minor": 0,
              "model_id": "dac22ff5c18e4379b6761f468d4d124a"
            }
          },
          "metadata": {}
        },
        {
          "output_type": "display_data",
          "data": {
            "text/plain": [
              "<IPython.core.display.HTML object>"
            ],
            "text/html": [
              "<style>\n",
              "    table.wandb td:nth-child(1) { padding: 0 10px; text-align: right }\n",
              "    .wandb-row { display: flex; flex-direction: row; flex-wrap: wrap; width: 100% }\n",
              "    .wandb-col { display: flex; flex-direction: column; flex-basis: 100%; flex: 1; padding: 10px; }\n",
              "    </style>\n",
              "<div class=\"wandb-row\"><div class=\"wandb-col\"><h3>Run history:</h3><br/><table class=\"wandb\"><tr><td>acc</td><td>▁</td></tr><tr><td>loss</td><td>█▆▅▄▃▃▃▃▃▃▂▂▂▂▂▂▂▂▂▂▂▁▁▁▁▁▁▁▁▁▁▁▁▁▁▁▁▁▁▁</td></tr></table><br/></div><div class=\"wandb-col\"><h3>Run summary:</h3><br/><table class=\"wandb\"><tr><td>acc</td><td>0.78868</td></tr><tr><td>loss</td><td>0.053</td></tr></table><br/></div></div>"
            ]
          },
          "metadata": {}
        },
        {
          "output_type": "display_data",
          "data": {
            "text/plain": [
              "<IPython.core.display.HTML object>"
            ],
            "text/html": [
              "Synced <strong style=\"color:#cdcd00\">MLP_GAN_15</strong>: <a href=\"https://wandb.ai/ahsen/NIDS/runs/2ahq9rx4\" target=\"_blank\">https://wandb.ai/ahsen/NIDS/runs/2ahq9rx4</a><br/>Synced 5 W&B file(s), 0 media file(s), 0 artifact file(s) and 0 other file(s)"
            ]
          },
          "metadata": {}
        },
        {
          "output_type": "display_data",
          "data": {
            "text/plain": [
              "<IPython.core.display.HTML object>"
            ],
            "text/html": [
              "Find logs at: <code>./wandb/run-20220430_142252-2ahq9rx4/logs</code>"
            ]
          },
          "metadata": {}
        },
        {
          "output_type": "display_data",
          "data": {
            "text/plain": [
              "<IPython.core.display.HTML object>"
            ],
            "text/html": [
              "Tracking run with wandb version 0.12.15"
            ]
          },
          "metadata": {}
        },
        {
          "output_type": "display_data",
          "data": {
            "text/plain": [
              "<IPython.core.display.HTML object>"
            ],
            "text/html": [
              "Run data is saved locally in <code>/content/wandb/run-20220430_142425-1icvgzd8</code>"
            ]
          },
          "metadata": {}
        },
        {
          "output_type": "display_data",
          "data": {
            "text/plain": [
              "<IPython.core.display.HTML object>"
            ],
            "text/html": [
              "Syncing run <strong><a href=\"https://wandb.ai/ahsen/NIDS/runs/1icvgzd8\" target=\"_blank\">MLP_GAN_16</a></strong> to <a href=\"https://wandb.ai/ahsen/NIDS\" target=\"_blank\">Weights & Biases</a> (<a href=\"https://wandb.me/run\" target=\"_blank\">docs</a>)<br/>"
            ]
          },
          "metadata": {}
        },
        {
          "output_type": "stream",
          "name": "stdout",
          "text": [
            "===============================================\n",
            "Batch Size:32\tEpochs:40\tLR:0.01\n",
            "------------------------------------------------\n",
            "Epoch:1  \tLoss:0.0098\t Acc: 0.7764\n",
            "------------------------------------------------\n",
            "Epoch:2  \tLoss:0.0046\t Acc: 0.7545\n",
            "------------------------------------------------\n",
            "Epoch:3  \tLoss:0.0121\t Acc: 0.7616\n",
            "------------------------------------------------\n",
            "Epoch:4  \tLoss:0.0087\t Acc: 0.7633\n",
            "------------------------------------------------\n",
            "Epoch:5  \tLoss:0.0064\t Acc: 0.7570\n",
            "------------------------------------------------\n",
            "Epoch:6  \tLoss:0.0061\t Acc: 0.7672\n",
            "------------------------------------------------\n",
            "Epoch:7  \tLoss:0.0062\t Acc: 0.7654\n",
            "------------------------------------------------\n",
            "Epoch:8  \tLoss:0.0089\t Acc: 0.7791\n",
            "------------------------------------------------\n",
            "Epoch:9  \tLoss:0.0048\t Acc: 0.7709\n",
            "------------------------------------------------\n",
            "Epoch:10  \tLoss:0.0042\t Acc: 0.7827\n",
            "------------------------------------------------\n",
            "Epoch:11  \tLoss:0.0066\t Acc: 0.7767\n",
            "------------------------------------------------\n",
            "Epoch:12  \tLoss:0.0129\t Acc: 0.7775\n",
            "------------------------------------------------\n",
            "Epoch:13  \tLoss:0.0059\t Acc: 0.7857\n",
            "------------------------------------------------\n",
            "Epoch:14  \tLoss:0.0056\t Acc: 0.7572\n",
            "------------------------------------------------\n",
            "Epoch:15  \tLoss:0.0040\t Acc: 0.7490\n",
            "------------------------------------------------\n",
            "Epoch:16  \tLoss:0.0033\t Acc: 0.7780\n",
            "------------------------------------------------\n",
            "Epoch:17  \tLoss:0.0050\t Acc: 0.7500\n",
            "------------------------------------------------\n",
            "Epoch:18  \tLoss:0.0043\t Acc: 0.7627\n",
            "------------------------------------------------\n",
            "Epoch:19  \tLoss:0.0034\t Acc: 0.7454\n",
            "------------------------------------------------\n",
            "Epoch:20  \tLoss:0.0048\t Acc: 0.7573\n",
            "------------------------------------------------\n",
            "Epoch:21  \tLoss:0.0043\t Acc: 0.7457\n",
            "------------------------------------------------\n",
            "Epoch:22  \tLoss:0.0220\t Acc: 0.7613\n",
            "------------------------------------------------\n",
            "Epoch:23  \tLoss:0.0020\t Acc: 0.7463\n",
            "------------------------------------------------\n",
            "Epoch:24  \tLoss:0.0040\t Acc: 0.7535\n",
            "------------------------------------------------\n",
            "Epoch:25  \tLoss:0.0027\t Acc: 0.7669\n",
            "------------------------------------------------\n",
            "Epoch:26  \tLoss:0.0023\t Acc: 0.7481\n",
            "------------------------------------------------\n",
            "Epoch:27  \tLoss:0.0040\t Acc: 0.7452\n",
            "------------------------------------------------\n",
            "Epoch:28  \tLoss:0.0017\t Acc: 0.7500\n",
            "------------------------------------------------\n",
            "Epoch:29  \tLoss:0.0020\t Acc: 0.7486\n",
            "------------------------------------------------\n",
            "Epoch:30  \tLoss:0.0021\t Acc: 0.7536\n",
            "------------------------------------------------\n",
            "Epoch:31  \tLoss:0.0013\t Acc: 0.7501\n",
            "------------------------------------------------\n",
            "Epoch:32  \tLoss:0.0016\t Acc: 0.7570\n",
            "------------------------------------------------\n",
            "Epoch:33  \tLoss:0.0013\t Acc: 0.7551\n",
            "------------------------------------------------\n",
            "Epoch:34  \tLoss:0.0011\t Acc: 0.7570\n",
            "------------------------------------------------\n",
            "Epoch:35  \tLoss:0.0013\t Acc: 0.7539\n",
            "------------------------------------------------\n",
            "Epoch:36  \tLoss:0.0008\t Acc: 0.7584\n",
            "------------------------------------------------\n",
            "Epoch:37  \tLoss:0.0020\t Acc: 0.7586\n",
            "------------------------------------------------\n",
            "Epoch:38  \tLoss:0.0012\t Acc: 0.7515\n",
            "------------------------------------------------\n",
            "Epoch:39  \tLoss:0.0021\t Acc: 0.7583\n",
            "------------------------------------------------\n",
            "Epoch:40  \tLoss:0.0007\t Acc: 0.7629\n",
            "*************************************************\n",
            "Final Score for (B:32, Ep:40, LR:0.01)\n",
            "Acc: 0.7629\n"
          ]
        },
        {
          "output_type": "display_data",
          "data": {
            "text/plain": [
              "<IPython.core.display.HTML object>"
            ],
            "text/html": [
              "Waiting for W&B process to finish... <strong style=\"color:green\">(success).</strong>"
            ]
          },
          "metadata": {}
        },
        {
          "output_type": "display_data",
          "data": {
            "text/plain": [
              "VBox(children=(Label(value='0.001 MB of 0.001 MB uploaded (0.000 MB deduped)\\r'), FloatProgress(value=1.0, max…"
            ],
            "application/vnd.jupyter.widget-view+json": {
              "version_major": 2,
              "version_minor": 0,
              "model_id": "2e4f29ec26444c6ebd6c0c4e123e5511"
            }
          },
          "metadata": {}
        },
        {
          "output_type": "display_data",
          "data": {
            "text/plain": [
              "<IPython.core.display.HTML object>"
            ],
            "text/html": [
              "<style>\n",
              "    table.wandb td:nth-child(1) { padding: 0 10px; text-align: right }\n",
              "    .wandb-row { display: flex; flex-direction: row; flex-wrap: wrap; width: 100% }\n",
              "    .wandb-col { display: flex; flex-direction: column; flex-basis: 100%; flex: 1; padding: 10px; }\n",
              "    </style>\n",
              "<div class=\"wandb-row\"><div class=\"wandb-col\"><h3>Run history:</h3><br/><table class=\"wandb\"><tr><td>acc</td><td>▁</td></tr><tr><td>loss</td><td>▄▂▅▄▃▃▃▄▂▂▃▅▃▃▂▂▂▂▂▂▂█▁▂▂▂▂▁▁▁▁▁▁▁▁▁▁▁▁▁</td></tr></table><br/></div><div class=\"wandb-col\"><h3>Run summary:</h3><br/><table class=\"wandb\"><tr><td>acc</td><td>0.76291</td></tr><tr><td>loss</td><td>0.00069</td></tr></table><br/></div></div>"
            ]
          },
          "metadata": {}
        },
        {
          "output_type": "display_data",
          "data": {
            "text/plain": [
              "<IPython.core.display.HTML object>"
            ],
            "text/html": [
              "Synced <strong style=\"color:#cdcd00\">MLP_GAN_16</strong>: <a href=\"https://wandb.ai/ahsen/NIDS/runs/1icvgzd8\" target=\"_blank\">https://wandb.ai/ahsen/NIDS/runs/1icvgzd8</a><br/>Synced 5 W&B file(s), 0 media file(s), 0 artifact file(s) and 0 other file(s)"
            ]
          },
          "metadata": {}
        },
        {
          "output_type": "display_data",
          "data": {
            "text/plain": [
              "<IPython.core.display.HTML object>"
            ],
            "text/html": [
              "Find logs at: <code>./wandb/run-20220430_142425-1icvgzd8/logs</code>"
            ]
          },
          "metadata": {}
        },
        {
          "output_type": "display_data",
          "data": {
            "text/plain": [
              "<IPython.core.display.HTML object>"
            ],
            "text/html": [
              "Tracking run with wandb version 0.12.15"
            ]
          },
          "metadata": {}
        },
        {
          "output_type": "display_data",
          "data": {
            "text/plain": [
              "<IPython.core.display.HTML object>"
            ],
            "text/html": [
              "Run data is saved locally in <code>/content/wandb/run-20220430_142902-vjxkgq13</code>"
            ]
          },
          "metadata": {}
        },
        {
          "output_type": "display_data",
          "data": {
            "text/plain": [
              "<IPython.core.display.HTML object>"
            ],
            "text/html": [
              "Syncing run <strong><a href=\"https://wandb.ai/ahsen/NIDS/runs/vjxkgq13\" target=\"_blank\">MLP_GAN_17</a></strong> to <a href=\"https://wandb.ai/ahsen/NIDS\" target=\"_blank\">Weights & Biases</a> (<a href=\"https://wandb.me/run\" target=\"_blank\">docs</a>)<br/>"
            ]
          },
          "metadata": {}
        },
        {
          "output_type": "stream",
          "name": "stdout",
          "text": [
            "===============================================\n",
            "Batch Size:64\tEpochs:40\tLR:0.01\n",
            "------------------------------------------------\n",
            "Epoch:1  \tLoss:0.0483\t Acc: 0.7907\n",
            "------------------------------------------------\n",
            "Epoch:2  \tLoss:0.0276\t Acc: 0.7853\n",
            "------------------------------------------------\n",
            "Epoch:3  \tLoss:0.0169\t Acc: 0.7761\n",
            "------------------------------------------------\n",
            "Epoch:4  \tLoss:0.0137\t Acc: 0.7714\n",
            "------------------------------------------------\n",
            "Epoch:5  \tLoss:0.0101\t Acc: 0.7669\n",
            "------------------------------------------------\n",
            "Epoch:6  \tLoss:0.0106\t Acc: 0.7635\n",
            "------------------------------------------------\n",
            "Epoch:7  \tLoss:0.0163\t Acc: 0.7540\n",
            "------------------------------------------------\n",
            "Epoch:8  \tLoss:0.0097\t Acc: 0.7668\n",
            "------------------------------------------------\n",
            "Epoch:9  \tLoss:0.0074\t Acc: 0.7708\n",
            "------------------------------------------------\n",
            "Epoch:10  \tLoss:0.0144\t Acc: 0.7686\n",
            "------------------------------------------------\n",
            "Epoch:11  \tLoss:0.0071\t Acc: 0.7765\n",
            "------------------------------------------------\n",
            "Epoch:12  \tLoss:0.0116\t Acc: 0.7644\n",
            "------------------------------------------------\n",
            "Epoch:13  \tLoss:0.0079\t Acc: 0.7526\n",
            "------------------------------------------------\n",
            "Epoch:14  \tLoss:0.0093\t Acc: 0.7685\n",
            "------------------------------------------------\n",
            "Epoch:15  \tLoss:0.0075\t Acc: 0.7596\n",
            "------------------------------------------------\n",
            "Epoch:16  \tLoss:0.0088\t Acc: 0.7570\n",
            "------------------------------------------------\n",
            "Epoch:17  \tLoss:0.0134\t Acc: 0.7583\n",
            "------------------------------------------------\n",
            "Epoch:18  \tLoss:0.0143\t Acc: 0.7729\n",
            "------------------------------------------------\n",
            "Epoch:19  \tLoss:0.0106\t Acc: 0.7665\n",
            "------------------------------------------------\n",
            "Epoch:20  \tLoss:0.0138\t Acc: 0.7782\n",
            "------------------------------------------------\n",
            "Epoch:21  \tLoss:0.0145\t Acc: 0.7684\n",
            "------------------------------------------------\n",
            "Epoch:22  \tLoss:0.0144\t Acc: 0.7590\n",
            "------------------------------------------------\n",
            "Epoch:23  \tLoss:0.0111\t Acc: 0.7677\n",
            "------------------------------------------------\n",
            "Epoch:24  \tLoss:0.0135\t Acc: 0.7852\n",
            "------------------------------------------------\n",
            "Epoch:25  \tLoss:0.0158\t Acc: 0.7735\n",
            "------------------------------------------------\n",
            "Epoch:26  \tLoss:0.0145\t Acc: 0.7744\n",
            "------------------------------------------------\n",
            "Epoch:27  \tLoss:0.0139\t Acc: 0.7872\n",
            "------------------------------------------------\n",
            "Epoch:28  \tLoss:0.0141\t Acc: 0.7742\n",
            "------------------------------------------------\n",
            "Epoch:29  \tLoss:0.0220\t Acc: 0.7708\n",
            "------------------------------------------------\n",
            "Epoch:30  \tLoss:0.0123\t Acc: 0.7829\n",
            "------------------------------------------------\n",
            "Epoch:31  \tLoss:0.0128\t Acc: 0.7857\n",
            "------------------------------------------------\n",
            "Epoch:32  \tLoss:0.0183\t Acc: 0.7820\n",
            "------------------------------------------------\n",
            "Epoch:33  \tLoss:0.0162\t Acc: 0.7745\n",
            "------------------------------------------------\n",
            "Epoch:34  \tLoss:0.0193\t Acc: 0.7724\n",
            "------------------------------------------------\n",
            "Epoch:35  \tLoss:0.0156\t Acc: 0.7762\n",
            "------------------------------------------------\n",
            "Epoch:36  \tLoss:0.0134\t Acc: 0.7755\n",
            "------------------------------------------------\n",
            "Epoch:37  \tLoss:0.0097\t Acc: 0.7856\n",
            "------------------------------------------------\n",
            "Epoch:38  \tLoss:0.0151\t Acc: 0.7845\n",
            "------------------------------------------------\n",
            "Epoch:39  \tLoss:0.0092\t Acc: 0.7856\n",
            "------------------------------------------------\n",
            "Epoch:40  \tLoss:0.0082\t Acc: 0.7855\n",
            "*************************************************\n",
            "Final Score for (B:64, Ep:40, LR:0.01)\n",
            "Acc: 0.7855\n"
          ]
        },
        {
          "output_type": "display_data",
          "data": {
            "text/plain": [
              "<IPython.core.display.HTML object>"
            ],
            "text/html": [
              "Waiting for W&B process to finish... <strong style=\"color:green\">(success).</strong>"
            ]
          },
          "metadata": {}
        },
        {
          "output_type": "display_data",
          "data": {
            "text/plain": [
              "VBox(children=(Label(value='0.001 MB of 0.001 MB uploaded (0.000 MB deduped)\\r'), FloatProgress(value=1.0, max…"
            ],
            "application/vnd.jupyter.widget-view+json": {
              "version_major": 2,
              "version_minor": 0,
              "model_id": "7d23375016744e90afb8958acf967780"
            }
          },
          "metadata": {}
        },
        {
          "output_type": "display_data",
          "data": {
            "text/plain": [
              "<IPython.core.display.HTML object>"
            ],
            "text/html": [
              "<style>\n",
              "    table.wandb td:nth-child(1) { padding: 0 10px; text-align: right }\n",
              "    .wandb-row { display: flex; flex-direction: row; flex-wrap: wrap; width: 100% }\n",
              "    .wandb-col { display: flex; flex-direction: column; flex-basis: 100%; flex: 1; padding: 10px; }\n",
              "    </style>\n",
              "<div class=\"wandb-row\"><div class=\"wandb-col\"><h3>Run history:</h3><br/><table class=\"wandb\"><tr><td>acc</td><td>▁</td></tr><tr><td>loss</td><td>█▄▃▂▂▂▃▁▁▂▁▂▁▁▁▁▂▂▂▂▂▂▂▂▂▂▂▂▄▂▂▃▃▃▂▂▁▂▁▁</td></tr></table><br/></div><div class=\"wandb-col\"><h3>Run summary:</h3><br/><table class=\"wandb\"><tr><td>acc</td><td>0.78553</td></tr><tr><td>loss</td><td>0.00821</td></tr></table><br/></div></div>"
            ]
          },
          "metadata": {}
        },
        {
          "output_type": "display_data",
          "data": {
            "text/plain": [
              "<IPython.core.display.HTML object>"
            ],
            "text/html": [
              "Synced <strong style=\"color:#cdcd00\">MLP_GAN_17</strong>: <a href=\"https://wandb.ai/ahsen/NIDS/runs/vjxkgq13\" target=\"_blank\">https://wandb.ai/ahsen/NIDS/runs/vjxkgq13</a><br/>Synced 5 W&B file(s), 0 media file(s), 0 artifact file(s) and 0 other file(s)"
            ]
          },
          "metadata": {}
        },
        {
          "output_type": "display_data",
          "data": {
            "text/plain": [
              "<IPython.core.display.HTML object>"
            ],
            "text/html": [
              "Find logs at: <code>./wandb/run-20220430_142902-vjxkgq13/logs</code>"
            ]
          },
          "metadata": {}
        },
        {
          "output_type": "display_data",
          "data": {
            "text/plain": [
              "<IPython.core.display.HTML object>"
            ],
            "text/html": [
              "Tracking run with wandb version 0.12.15"
            ]
          },
          "metadata": {}
        },
        {
          "output_type": "display_data",
          "data": {
            "text/plain": [
              "<IPython.core.display.HTML object>"
            ],
            "text/html": [
              "Run data is saved locally in <code>/content/wandb/run-20220430_143132-3r6lt22b</code>"
            ]
          },
          "metadata": {}
        },
        {
          "output_type": "display_data",
          "data": {
            "text/plain": [
              "<IPython.core.display.HTML object>"
            ],
            "text/html": [
              "Syncing run <strong><a href=\"https://wandb.ai/ahsen/NIDS/runs/3r6lt22b\" target=\"_blank\">MLP_GAN_18</a></strong> to <a href=\"https://wandb.ai/ahsen/NIDS\" target=\"_blank\">Weights & Biases</a> (<a href=\"https://wandb.me/run\" target=\"_blank\">docs</a>)<br/>"
            ]
          },
          "metadata": {}
        },
        {
          "output_type": "stream",
          "name": "stdout",
          "text": [
            "===============================================\n",
            "Batch Size:128\tEpochs:40\tLR:0.01\n",
            "------------------------------------------------\n",
            "Epoch:1  \tLoss:0.0894\t Acc: 0.7866\n",
            "------------------------------------------------\n",
            "Epoch:2  \tLoss:0.0446\t Acc: 0.7832\n",
            "------------------------------------------------\n",
            "Epoch:3  \tLoss:0.0309\t Acc: 0.7986\n",
            "------------------------------------------------\n",
            "Epoch:4  \tLoss:0.0285\t Acc: 0.7979\n",
            "------------------------------------------------\n",
            "Epoch:5  \tLoss:0.0219\t Acc: 0.7973\n",
            "------------------------------------------------\n",
            "Epoch:6  \tLoss:0.0194\t Acc: 0.8006\n",
            "------------------------------------------------\n",
            "Epoch:7  \tLoss:0.0260\t Acc: 0.7981\n",
            "------------------------------------------------\n",
            "Epoch:8  \tLoss:0.0233\t Acc: 0.7972\n",
            "------------------------------------------------\n",
            "Epoch:9  \tLoss:0.0276\t Acc: 0.7968\n",
            "------------------------------------------------\n",
            "Epoch:10  \tLoss:0.0261\t Acc: 0.7956\n",
            "------------------------------------------------\n",
            "Epoch:11  \tLoss:0.0194\t Acc: 0.7936\n",
            "------------------------------------------------\n",
            "Epoch:12  \tLoss:0.0171\t Acc: 0.7932\n",
            "------------------------------------------------\n",
            "Epoch:13  \tLoss:0.0161\t Acc: 0.7877\n",
            "------------------------------------------------\n",
            "Epoch:14  \tLoss:0.0163\t Acc: 0.7878\n",
            "------------------------------------------------\n",
            "Epoch:15  \tLoss:0.0122\t Acc: 0.7872\n",
            "------------------------------------------------\n",
            "Epoch:16  \tLoss:0.0162\t Acc: 0.7932\n",
            "------------------------------------------------\n",
            "Epoch:17  \tLoss:0.0132\t Acc: 0.7932\n",
            "------------------------------------------------\n",
            "Epoch:18  \tLoss:0.0124\t Acc: 0.7906\n",
            "------------------------------------------------\n",
            "Epoch:19  \tLoss:0.0142\t Acc: 0.7921\n",
            "------------------------------------------------\n",
            "Epoch:20  \tLoss:0.0119\t Acc: 0.7950\n",
            "------------------------------------------------\n",
            "Epoch:21  \tLoss:0.0160\t Acc: 0.7995\n",
            "------------------------------------------------\n",
            "Epoch:22  \tLoss:0.0147\t Acc: 0.7988\n",
            "------------------------------------------------\n",
            "Epoch:23  \tLoss:0.0110\t Acc: 0.7955\n",
            "------------------------------------------------\n",
            "Epoch:24  \tLoss:0.0129\t Acc: 0.7985\n",
            "------------------------------------------------\n",
            "Epoch:25  \tLoss:0.0143\t Acc: 0.8054\n",
            "------------------------------------------------\n",
            "Epoch:26  \tLoss:0.0111\t Acc: 0.7974\n",
            "------------------------------------------------\n",
            "Epoch:27  \tLoss:0.0126\t Acc: 0.7984\n",
            "------------------------------------------------\n",
            "Epoch:28  \tLoss:0.0133\t Acc: 0.8042\n",
            "------------------------------------------------\n",
            "Epoch:29  \tLoss:0.0114\t Acc: 0.7995\n",
            "------------------------------------------------\n",
            "Epoch:30  \tLoss:0.0168\t Acc: 0.7947\n",
            "------------------------------------------------\n",
            "Epoch:31  \tLoss:0.0159\t Acc: 0.8105\n",
            "------------------------------------------------\n",
            "Epoch:32  \tLoss:0.0128\t Acc: 0.8031\n",
            "------------------------------------------------\n",
            "Epoch:33  \tLoss:0.0134\t Acc: 0.8008\n",
            "------------------------------------------------\n",
            "Epoch:34  \tLoss:0.0146\t Acc: 0.8162\n",
            "------------------------------------------------\n",
            "Epoch:35  \tLoss:0.0110\t Acc: 0.8041\n",
            "------------------------------------------------\n",
            "Epoch:36  \tLoss:0.0149\t Acc: 0.7963\n",
            "------------------------------------------------\n",
            "Epoch:37  \tLoss:0.0134\t Acc: 0.7961\n",
            "------------------------------------------------\n",
            "Epoch:38  \tLoss:0.0163\t Acc: 0.7984\n",
            "------------------------------------------------\n",
            "Epoch:39  \tLoss:0.0141\t Acc: 0.7927\n",
            "------------------------------------------------\n",
            "Epoch:40  \tLoss:0.0108\t Acc: 0.7952\n",
            "*************************************************\n",
            "Final Score for (B:128, Ep:40, LR:0.01)\n",
            "Acc: 0.7952\n"
          ]
        },
        {
          "output_type": "display_data",
          "data": {
            "text/plain": [
              "<IPython.core.display.HTML object>"
            ],
            "text/html": [
              "Waiting for W&B process to finish... <strong style=\"color:green\">(success).</strong>"
            ]
          },
          "metadata": {}
        },
        {
          "output_type": "display_data",
          "data": {
            "text/plain": [
              "VBox(children=(Label(value='0.001 MB of 0.001 MB uploaded (0.000 MB deduped)\\r'), FloatProgress(value=1.0, max…"
            ],
            "application/vnd.jupyter.widget-view+json": {
              "version_major": 2,
              "version_minor": 0,
              "model_id": "b1aa4b01521f4bdfaf1a8873556c43b6"
            }
          },
          "metadata": {}
        },
        {
          "output_type": "display_data",
          "data": {
            "text/plain": [
              "<IPython.core.display.HTML object>"
            ],
            "text/html": [
              "<style>\n",
              "    table.wandb td:nth-child(1) { padding: 0 10px; text-align: right }\n",
              "    .wandb-row { display: flex; flex-direction: row; flex-wrap: wrap; width: 100% }\n",
              "    .wandb-col { display: flex; flex-direction: column; flex-basis: 100%; flex: 1; padding: 10px; }\n",
              "    </style>\n",
              "<div class=\"wandb-row\"><div class=\"wandb-col\"><h3>Run history:</h3><br/><table class=\"wandb\"><tr><td>acc</td><td>▁</td></tr><tr><td>loss</td><td>█▄▃▃▂▂▂▂▂▂▂▂▁▁▁▁▁▁▁▁▁▁▁▁▁▁▁▁▁▂▁▁▁▁▁▁▁▁▁▁</td></tr></table><br/></div><div class=\"wandb-col\"><h3>Run summary:</h3><br/><table class=\"wandb\"><tr><td>acc</td><td>0.79516</td></tr><tr><td>loss</td><td>0.01082</td></tr></table><br/></div></div>"
            ]
          },
          "metadata": {}
        },
        {
          "output_type": "display_data",
          "data": {
            "text/plain": [
              "<IPython.core.display.HTML object>"
            ],
            "text/html": [
              "Synced <strong style=\"color:#cdcd00\">MLP_GAN_18</strong>: <a href=\"https://wandb.ai/ahsen/NIDS/runs/3r6lt22b\" target=\"_blank\">https://wandb.ai/ahsen/NIDS/runs/3r6lt22b</a><br/>Synced 5 W&B file(s), 0 media file(s), 0 artifact file(s) and 0 other file(s)"
            ]
          },
          "metadata": {}
        },
        {
          "output_type": "display_data",
          "data": {
            "text/plain": [
              "<IPython.core.display.HTML object>"
            ],
            "text/html": [
              "Find logs at: <code>./wandb/run-20220430_143132-3r6lt22b/logs</code>"
            ]
          },
          "metadata": {}
        },
        {
          "output_type": "display_data",
          "data": {
            "text/plain": [
              "<IPython.core.display.HTML object>"
            ],
            "text/html": [
              "Tracking run with wandb version 0.12.15"
            ]
          },
          "metadata": {}
        },
        {
          "output_type": "display_data",
          "data": {
            "text/plain": [
              "<IPython.core.display.HTML object>"
            ],
            "text/html": [
              "Run data is saved locally in <code>/content/wandb/run-20220430_143323-nwz3hd84</code>"
            ]
          },
          "metadata": {}
        },
        {
          "output_type": "display_data",
          "data": {
            "text/plain": [
              "<IPython.core.display.HTML object>"
            ],
            "text/html": [
              "Syncing run <strong><a href=\"https://wandb.ai/ahsen/NIDS/runs/nwz3hd84\" target=\"_blank\">MLP_GAN_19</a></strong> to <a href=\"https://wandb.ai/ahsen/NIDS\" target=\"_blank\">Weights & Biases</a> (<a href=\"https://wandb.me/run\" target=\"_blank\">docs</a>)<br/>"
            ]
          },
          "metadata": {}
        },
        {
          "output_type": "stream",
          "name": "stdout",
          "text": [
            "===============================================\n",
            "Batch Size:256\tEpochs:40\tLR:0.01\n",
            "------------------------------------------------\n",
            "Epoch:1  \tLoss:0.1265\t Acc: 0.7522\n",
            "------------------------------------------------\n",
            "Epoch:2  \tLoss:0.0881\t Acc: 0.7670\n",
            "------------------------------------------------\n",
            "Epoch:3  \tLoss:0.0540\t Acc: 0.7720\n",
            "------------------------------------------------\n",
            "Epoch:4  \tLoss:0.0352\t Acc: 0.7772\n",
            "------------------------------------------------\n",
            "Epoch:5  \tLoss:0.0298\t Acc: 0.7796\n",
            "------------------------------------------------\n",
            "Epoch:6  \tLoss:0.0253\t Acc: 0.7795\n",
            "------------------------------------------------\n",
            "Epoch:7  \tLoss:0.0271\t Acc: 0.7848\n",
            "------------------------------------------------\n",
            "Epoch:8  \tLoss:0.0254\t Acc: 0.7878\n",
            "------------------------------------------------\n",
            "Epoch:9  \tLoss:0.0235\t Acc: 0.7895\n",
            "------------------------------------------------\n",
            "Epoch:10  \tLoss:0.0236\t Acc: 0.7910\n",
            "------------------------------------------------\n",
            "Epoch:11  \tLoss:0.0206\t Acc: 0.7903\n",
            "------------------------------------------------\n",
            "Epoch:12  \tLoss:0.0176\t Acc: 0.7901\n",
            "------------------------------------------------\n",
            "Epoch:13  \tLoss:0.0183\t Acc: 0.7910\n",
            "------------------------------------------------\n",
            "Epoch:14  \tLoss:0.0176\t Acc: 0.7909\n",
            "------------------------------------------------\n",
            "Epoch:15  \tLoss:0.0179\t Acc: 0.7978\n",
            "------------------------------------------------\n",
            "Epoch:16  \tLoss:0.0184\t Acc: 0.8002\n",
            "------------------------------------------------\n",
            "Epoch:17  \tLoss:0.0165\t Acc: 0.7940\n",
            "------------------------------------------------\n",
            "Epoch:18  \tLoss:0.0158\t Acc: 0.7929\n",
            "------------------------------------------------\n",
            "Epoch:19  \tLoss:0.0159\t Acc: 0.7934\n",
            "------------------------------------------------\n",
            "Epoch:20  \tLoss:0.0150\t Acc: 0.7936\n",
            "------------------------------------------------\n",
            "Epoch:21  \tLoss:0.0163\t Acc: 0.7921\n",
            "------------------------------------------------\n",
            "Epoch:22  \tLoss:0.0135\t Acc: 0.7930\n",
            "------------------------------------------------\n",
            "Epoch:23  \tLoss:0.0111\t Acc: 0.7896\n",
            "------------------------------------------------\n",
            "Epoch:24  \tLoss:0.0118\t Acc: 0.7931\n",
            "------------------------------------------------\n",
            "Epoch:25  \tLoss:0.0098\t Acc: 0.7897\n",
            "------------------------------------------------\n",
            "Epoch:26  \tLoss:0.0127\t Acc: 0.7908\n",
            "------------------------------------------------\n",
            "Epoch:27  \tLoss:0.0119\t Acc: 0.7908\n",
            "------------------------------------------------\n",
            "Epoch:28  \tLoss:0.0103\t Acc: 0.7900\n",
            "------------------------------------------------\n",
            "Epoch:29  \tLoss:0.0102\t Acc: 0.7917\n",
            "------------------------------------------------\n",
            "Epoch:30  \tLoss:0.0094\t Acc: 0.7925\n",
            "------------------------------------------------\n",
            "Epoch:31  \tLoss:0.0068\t Acc: 0.7899\n",
            "------------------------------------------------\n",
            "Epoch:32  \tLoss:0.0092\t Acc: 0.7950\n",
            "------------------------------------------------\n",
            "Epoch:33  \tLoss:0.0063\t Acc: 0.7917\n",
            "------------------------------------------------\n",
            "Epoch:34  \tLoss:0.0056\t Acc: 0.7942\n",
            "------------------------------------------------\n",
            "Epoch:35  \tLoss:0.0065\t Acc: 0.7965\n",
            "------------------------------------------------\n",
            "Epoch:36  \tLoss:0.0060\t Acc: 0.7968\n",
            "------------------------------------------------\n",
            "Epoch:37  \tLoss:0.0062\t Acc: 0.7975\n",
            "------------------------------------------------\n",
            "Epoch:38  \tLoss:0.0049\t Acc: 0.7945\n",
            "------------------------------------------------\n",
            "Epoch:39  \tLoss:0.0059\t Acc: 0.7996\n",
            "------------------------------------------------\n",
            "Epoch:40  \tLoss:0.0057\t Acc: 0.7976\n",
            "*************************************************\n",
            "Final Score for (B:256, Ep:40, LR:0.01)\n",
            "Acc: 0.7976\n"
          ]
        },
        {
          "output_type": "display_data",
          "data": {
            "text/plain": [
              "<IPython.core.display.HTML object>"
            ],
            "text/html": [
              "Waiting for W&B process to finish... <strong style=\"color:green\">(success).</strong>"
            ]
          },
          "metadata": {}
        },
        {
          "output_type": "display_data",
          "data": {
            "text/plain": [
              "VBox(children=(Label(value='0.001 MB of 0.001 MB uploaded (0.000 MB deduped)\\r'), FloatProgress(value=1.0, max…"
            ],
            "application/vnd.jupyter.widget-view+json": {
              "version_major": 2,
              "version_minor": 0,
              "model_id": "e2e7ed39bd844b94b700e91d8927a3c7"
            }
          },
          "metadata": {}
        },
        {
          "output_type": "display_data",
          "data": {
            "text/plain": [
              "<IPython.core.display.HTML object>"
            ],
            "text/html": [
              "<style>\n",
              "    table.wandb td:nth-child(1) { padding: 0 10px; text-align: right }\n",
              "    .wandb-row { display: flex; flex-direction: row; flex-wrap: wrap; width: 100% }\n",
              "    .wandb-col { display: flex; flex-direction: column; flex-basis: 100%; flex: 1; padding: 10px; }\n",
              "    </style>\n",
              "<div class=\"wandb-row\"><div class=\"wandb-col\"><h3>Run history:</h3><br/><table class=\"wandb\"><tr><td>acc</td><td>▁</td></tr><tr><td>loss</td><td>█▆▄▃▂▂▂▂▂▂▂▂▂▂▂▂▂▂▂▂▂▁▁▁▁▁▁▁▁▁▁▁▁▁▁▁▁▁▁▁</td></tr></table><br/></div><div class=\"wandb-col\"><h3>Run summary:</h3><br/><table class=\"wandb\"><tr><td>acc</td><td>0.79755</td></tr><tr><td>loss</td><td>0.00571</td></tr></table><br/></div></div>"
            ]
          },
          "metadata": {}
        },
        {
          "output_type": "display_data",
          "data": {
            "text/plain": [
              "<IPython.core.display.HTML object>"
            ],
            "text/html": [
              "Synced <strong style=\"color:#cdcd00\">MLP_GAN_19</strong>: <a href=\"https://wandb.ai/ahsen/NIDS/runs/nwz3hd84\" target=\"_blank\">https://wandb.ai/ahsen/NIDS/runs/nwz3hd84</a><br/>Synced 5 W&B file(s), 0 media file(s), 0 artifact file(s) and 0 other file(s)"
            ]
          },
          "metadata": {}
        },
        {
          "output_type": "display_data",
          "data": {
            "text/plain": [
              "<IPython.core.display.HTML object>"
            ],
            "text/html": [
              "Find logs at: <code>./wandb/run-20220430_143323-nwz3hd84/logs</code>"
            ]
          },
          "metadata": {}
        },
        {
          "output_type": "display_data",
          "data": {
            "text/plain": [
              "<IPython.core.display.HTML object>"
            ],
            "text/html": [
              "Tracking run with wandb version 0.12.15"
            ]
          },
          "metadata": {}
        },
        {
          "output_type": "display_data",
          "data": {
            "text/plain": [
              "<IPython.core.display.HTML object>"
            ],
            "text/html": [
              "Run data is saved locally in <code>/content/wandb/run-20220430_143456-2ace3aqy</code>"
            ]
          },
          "metadata": {}
        },
        {
          "output_type": "display_data",
          "data": {
            "text/plain": [
              "<IPython.core.display.HTML object>"
            ],
            "text/html": [
              "Syncing run <strong><a href=\"https://wandb.ai/ahsen/NIDS/runs/2ace3aqy\" target=\"_blank\">MLP_GAN_20</a></strong> to <a href=\"https://wandb.ai/ahsen/NIDS\" target=\"_blank\">Weights & Biases</a> (<a href=\"https://wandb.me/run\" target=\"_blank\">docs</a>)<br/>"
            ]
          },
          "metadata": {}
        },
        {
          "output_type": "stream",
          "name": "stdout",
          "text": [
            "===============================================\n",
            "Batch Size:32\tEpochs:40\tLR:0.1\n",
            "------------------------------------------------\n",
            "Epoch:1  \tLoss:0.0104\t Acc: 0.7943\n",
            "------------------------------------------------\n",
            "Epoch:2  \tLoss:0.0069\t Acc: 0.7751\n",
            "------------------------------------------------\n",
            "Epoch:3  \tLoss:0.0050\t Acc: 0.7881\n",
            "------------------------------------------------\n",
            "Epoch:4  \tLoss:0.0054\t Acc: 0.7805\n",
            "------------------------------------------------\n",
            "Epoch:5  \tLoss:0.0043\t Acc: 0.7776\n",
            "------------------------------------------------\n",
            "Epoch:6  \tLoss:0.0039\t Acc: 0.7758\n",
            "------------------------------------------------\n",
            "Epoch:7  \tLoss:0.0035\t Acc: 0.7735\n",
            "------------------------------------------------\n",
            "Epoch:8  \tLoss:0.0039\t Acc: 0.7771\n",
            "------------------------------------------------\n",
            "Epoch:9  \tLoss:0.0029\t Acc: 0.7791\n",
            "------------------------------------------------\n",
            "Epoch:10  \tLoss:0.0033\t Acc: 0.7782\n",
            "------------------------------------------------\n",
            "Epoch:11  \tLoss:0.0032\t Acc: 0.7761\n",
            "------------------------------------------------\n",
            "Epoch:12  \tLoss:0.0036\t Acc: 0.7738\n",
            "------------------------------------------------\n",
            "Epoch:13  \tLoss:0.0040\t Acc: 0.7726\n",
            "------------------------------------------------\n",
            "Epoch:14  \tLoss:0.0052\t Acc: 0.7747\n",
            "------------------------------------------------\n",
            "Epoch:15  \tLoss:0.0065\t Acc: 0.7771\n",
            "------------------------------------------------\n",
            "Epoch:16  \tLoss:0.0069\t Acc: 0.7726\n",
            "------------------------------------------------\n",
            "Epoch:17  \tLoss:0.0065\t Acc: 0.7768\n",
            "------------------------------------------------\n",
            "Epoch:18  \tLoss:0.0076\t Acc: 0.7773\n",
            "------------------------------------------------\n",
            "Epoch:19  \tLoss:0.0060\t Acc: 0.7767\n",
            "------------------------------------------------\n",
            "Epoch:20  \tLoss:0.0051\t Acc: 0.7779\n",
            "------------------------------------------------\n",
            "Epoch:21  \tLoss:0.0061\t Acc: 0.7782\n",
            "------------------------------------------------\n",
            "Epoch:22  \tLoss:0.0065\t Acc: 0.7776\n",
            "------------------------------------------------\n",
            "Epoch:23  \tLoss:0.0068\t Acc: 0.7766\n",
            "------------------------------------------------\n",
            "Epoch:24  \tLoss:0.0061\t Acc: 0.7787\n",
            "------------------------------------------------\n",
            "Epoch:25  \tLoss:0.0072\t Acc: 0.7777\n",
            "------------------------------------------------\n",
            "Epoch:26  \tLoss:0.0077\t Acc: 0.7799\n",
            "------------------------------------------------\n",
            "Epoch:27  \tLoss:0.0088\t Acc: 0.7796\n",
            "------------------------------------------------\n",
            "Epoch:28  \tLoss:0.0094\t Acc: 0.7789\n",
            "------------------------------------------------\n",
            "Epoch:29  \tLoss:0.0082\t Acc: 0.7721\n",
            "------------------------------------------------\n",
            "Epoch:30  \tLoss:0.0087\t Acc: 0.7730\n",
            "------------------------------------------------\n",
            "Epoch:31  \tLoss:0.0089\t Acc: 0.7740\n",
            "------------------------------------------------\n",
            "Epoch:32  \tLoss:0.0099\t Acc: 0.7725\n",
            "------------------------------------------------\n",
            "Epoch:33  \tLoss:0.0096\t Acc: 0.7719\n",
            "------------------------------------------------\n",
            "Epoch:34  \tLoss:0.0095\t Acc: 0.7724\n",
            "------------------------------------------------\n",
            "Epoch:35  \tLoss:0.0095\t Acc: 0.7727\n",
            "------------------------------------------------\n",
            "Epoch:36  \tLoss:0.0097\t Acc: 0.7719\n",
            "------------------------------------------------\n",
            "Epoch:37  \tLoss:0.0097\t Acc: 0.7711\n",
            "------------------------------------------------\n",
            "Epoch:38  \tLoss:0.0105\t Acc: 0.7710\n",
            "------------------------------------------------\n",
            "Epoch:39  \tLoss:0.0115\t Acc: 0.7718\n",
            "------------------------------------------------\n",
            "Epoch:40  \tLoss:0.0117\t Acc: 0.7723\n",
            "*************************************************\n",
            "Final Score for (B:32, Ep:40, LR:0.1)\n",
            "Acc: 0.7723\n"
          ]
        },
        {
          "output_type": "display_data",
          "data": {
            "text/plain": [
              "<IPython.core.display.HTML object>"
            ],
            "text/html": [
              "Waiting for W&B process to finish... <strong style=\"color:green\">(success).</strong>"
            ]
          },
          "metadata": {}
        },
        {
          "output_type": "display_data",
          "data": {
            "text/plain": [
              "VBox(children=(Label(value='0.001 MB of 0.001 MB uploaded (0.000 MB deduped)\\r'), FloatProgress(value=1.0, max…"
            ],
            "application/vnd.jupyter.widget-view+json": {
              "version_major": 2,
              "version_minor": 0,
              "model_id": "575c4a1be9794607bd199c0f8fcd53ac"
            }
          },
          "metadata": {}
        },
        {
          "output_type": "display_data",
          "data": {
            "text/plain": [
              "<IPython.core.display.HTML object>"
            ],
            "text/html": [
              "<style>\n",
              "    table.wandb td:nth-child(1) { padding: 0 10px; text-align: right }\n",
              "    .wandb-row { display: flex; flex-direction: row; flex-wrap: wrap; width: 100% }\n",
              "    .wandb-col { display: flex; flex-direction: column; flex-basis: 100%; flex: 1; padding: 10px; }\n",
              "    </style>\n",
              "<div class=\"wandb-row\"><div class=\"wandb-col\"><h3>Run history:</h3><br/><table class=\"wandb\"><tr><td>acc</td><td>▁</td></tr><tr><td>loss</td><td>▇▄▃▃▂▂▁▂▁▁▁▁▂▃▄▄▄▅▃▃▄▄▄▄▄▅▆▆▅▆▆▇▆▆▆▆▆▇██</td></tr></table><br/></div><div class=\"wandb-col\"><h3>Run summary:</h3><br/><table class=\"wandb\"><tr><td>acc</td><td>0.77227</td></tr><tr><td>loss</td><td>0.01166</td></tr></table><br/></div></div>"
            ]
          },
          "metadata": {}
        },
        {
          "output_type": "display_data",
          "data": {
            "text/plain": [
              "<IPython.core.display.HTML object>"
            ],
            "text/html": [
              "Synced <strong style=\"color:#cdcd00\">MLP_GAN_20</strong>: <a href=\"https://wandb.ai/ahsen/NIDS/runs/2ace3aqy\" target=\"_blank\">https://wandb.ai/ahsen/NIDS/runs/2ace3aqy</a><br/>Synced 5 W&B file(s), 0 media file(s), 0 artifact file(s) and 0 other file(s)"
            ]
          },
          "metadata": {}
        },
        {
          "output_type": "display_data",
          "data": {
            "text/plain": [
              "<IPython.core.display.HTML object>"
            ],
            "text/html": [
              "Find logs at: <code>./wandb/run-20220430_143456-2ace3aqy/logs</code>"
            ]
          },
          "metadata": {}
        },
        {
          "output_type": "display_data",
          "data": {
            "text/plain": [
              "<IPython.core.display.HTML object>"
            ],
            "text/html": [
              "Tracking run with wandb version 0.12.15"
            ]
          },
          "metadata": {}
        },
        {
          "output_type": "display_data",
          "data": {
            "text/plain": [
              "<IPython.core.display.HTML object>"
            ],
            "text/html": [
              "Run data is saved locally in <code>/content/wandb/run-20220430_143849-3lriy3u5</code>"
            ]
          },
          "metadata": {}
        },
        {
          "output_type": "display_data",
          "data": {
            "text/plain": [
              "<IPython.core.display.HTML object>"
            ],
            "text/html": [
              "Syncing run <strong><a href=\"https://wandb.ai/ahsen/NIDS/runs/3lriy3u5\" target=\"_blank\">MLP_GAN_21</a></strong> to <a href=\"https://wandb.ai/ahsen/NIDS\" target=\"_blank\">Weights & Biases</a> (<a href=\"https://wandb.me/run\" target=\"_blank\">docs</a>)<br/>"
            ]
          },
          "metadata": {}
        },
        {
          "output_type": "stream",
          "name": "stdout",
          "text": [
            "===============================================\n",
            "Batch Size:64\tEpochs:40\tLR:0.1\n",
            "------------------------------------------------\n",
            "Epoch:1  \tLoss:0.0291\t Acc: 0.7850\n",
            "------------------------------------------------\n",
            "Epoch:2  \tLoss:0.0213\t Acc: 0.7755\n",
            "------------------------------------------------\n",
            "Epoch:3  \tLoss:0.0197\t Acc: 0.7672\n",
            "------------------------------------------------\n",
            "Epoch:4  \tLoss:0.0193\t Acc: 0.7893\n",
            "------------------------------------------------\n",
            "Epoch:5  \tLoss:0.0229\t Acc: 0.7618\n",
            "------------------------------------------------\n",
            "Epoch:6  \tLoss:0.0218\t Acc: 0.7913\n",
            "------------------------------------------------\n",
            "Epoch:7  \tLoss:0.0192\t Acc: 0.7944\n",
            "------------------------------------------------\n",
            "Epoch:8  \tLoss:0.0146\t Acc: 0.7885\n",
            "------------------------------------------------\n",
            "Epoch:9  \tLoss:0.0123\t Acc: 0.7883\n",
            "------------------------------------------------\n",
            "Epoch:10  \tLoss:0.0121\t Acc: 0.7839\n",
            "------------------------------------------------\n",
            "Epoch:11  \tLoss:0.0110\t Acc: 0.7936\n",
            "------------------------------------------------\n",
            "Epoch:12  \tLoss:0.0108\t Acc: 0.7977\n",
            "------------------------------------------------\n",
            "Epoch:13  \tLoss:0.0117\t Acc: 0.7958\n",
            "------------------------------------------------\n",
            "Epoch:14  \tLoss:0.0111\t Acc: 0.7969\n",
            "------------------------------------------------\n",
            "Epoch:15  \tLoss:0.0118\t Acc: 0.7755\n",
            "------------------------------------------------\n",
            "Epoch:16  \tLoss:0.0114\t Acc: 0.7799\n",
            "------------------------------------------------\n",
            "Epoch:17  \tLoss:0.0112\t Acc: 0.7814\n",
            "------------------------------------------------\n",
            "Epoch:18  \tLoss:0.0113\t Acc: 0.7822\n",
            "------------------------------------------------\n",
            "Epoch:19  \tLoss:0.0115\t Acc: 0.7822\n",
            "------------------------------------------------\n",
            "Epoch:20  \tLoss:0.0112\t Acc: 0.7818\n",
            "------------------------------------------------\n",
            "Epoch:21  \tLoss:0.0115\t Acc: 0.7811\n",
            "------------------------------------------------\n",
            "Epoch:22  \tLoss:0.0131\t Acc: 0.7788\n",
            "------------------------------------------------\n",
            "Epoch:23  \tLoss:0.0110\t Acc: 0.7789\n",
            "------------------------------------------------\n",
            "Epoch:24  \tLoss:0.0100\t Acc: 0.7779\n",
            "------------------------------------------------\n",
            "Epoch:25  \tLoss:0.0100\t Acc: 0.7804\n",
            "------------------------------------------------\n",
            "Epoch:26  \tLoss:0.0094\t Acc: 0.7789\n",
            "------------------------------------------------\n",
            "Epoch:27  \tLoss:0.0104\t Acc: 0.7810\n",
            "------------------------------------------------\n",
            "Epoch:28  \tLoss:0.0093\t Acc: 0.7810\n",
            "------------------------------------------------\n",
            "Epoch:29  \tLoss:0.0102\t Acc: 0.7813\n",
            "------------------------------------------------\n",
            "Epoch:30  \tLoss:0.0094\t Acc: 0.7812\n",
            "------------------------------------------------\n",
            "Epoch:31  \tLoss:0.0096\t Acc: 0.7818\n",
            "------------------------------------------------\n",
            "Epoch:32  \tLoss:0.0103\t Acc: 0.7801\n",
            "------------------------------------------------\n",
            "Epoch:33  \tLoss:0.0100\t Acc: 0.7816\n",
            "------------------------------------------------\n",
            "Epoch:34  \tLoss:0.0102\t Acc: 0.7814\n",
            "------------------------------------------------\n",
            "Epoch:35  \tLoss:0.0105\t Acc: 0.7807\n",
            "------------------------------------------------\n",
            "Epoch:36  \tLoss:0.0098\t Acc: 0.7817\n",
            "------------------------------------------------\n",
            "Epoch:37  \tLoss:0.0113\t Acc: 0.7811\n",
            "------------------------------------------------\n",
            "Epoch:38  \tLoss:0.0121\t Acc: 0.7833\n",
            "------------------------------------------------\n",
            "Epoch:39  \tLoss:0.0118\t Acc: 0.7825\n",
            "------------------------------------------------\n",
            "Epoch:40  \tLoss:0.0116\t Acc: 0.7807\n",
            "*************************************************\n",
            "Final Score for (B:64, Ep:40, LR:0.1)\n",
            "Acc: 0.7807\n"
          ]
        },
        {
          "output_type": "display_data",
          "data": {
            "text/plain": [
              "<IPython.core.display.HTML object>"
            ],
            "text/html": [
              "Waiting for W&B process to finish... <strong style=\"color:green\">(success).</strong>"
            ]
          },
          "metadata": {}
        },
        {
          "output_type": "display_data",
          "data": {
            "text/plain": [
              "VBox(children=(Label(value='0.001 MB of 0.001 MB uploaded (0.000 MB deduped)\\r'), FloatProgress(value=1.0, max…"
            ],
            "application/vnd.jupyter.widget-view+json": {
              "version_major": 2,
              "version_minor": 0,
              "model_id": "c29ee90458a94e31a04cfbfedbcff0db"
            }
          },
          "metadata": {}
        },
        {
          "output_type": "display_data",
          "data": {
            "text/plain": [
              "<IPython.core.display.HTML object>"
            ],
            "text/html": [
              "<style>\n",
              "    table.wandb td:nth-child(1) { padding: 0 10px; text-align: right }\n",
              "    .wandb-row { display: flex; flex-direction: row; flex-wrap: wrap; width: 100% }\n",
              "    .wandb-col { display: flex; flex-direction: column; flex-basis: 100%; flex: 1; padding: 10px; }\n",
              "    </style>\n",
              "<div class=\"wandb-row\"><div class=\"wandb-col\"><h3>Run history:</h3><br/><table class=\"wandb\"><tr><td>acc</td><td>▁</td></tr><tr><td>loss</td><td>█▅▅▅▆▅▅▃▂▂▂▂▂▂▂▂▂▂▂▂▂▂▂▁▁▁▁▁▁▁▁▁▁▁▁▁▂▂▂▂</td></tr></table><br/></div><div class=\"wandb-col\"><h3>Run summary:</h3><br/><table class=\"wandb\"><tr><td>acc</td><td>0.7807</td></tr><tr><td>loss</td><td>0.01159</td></tr></table><br/></div></div>"
            ]
          },
          "metadata": {}
        },
        {
          "output_type": "display_data",
          "data": {
            "text/plain": [
              "<IPython.core.display.HTML object>"
            ],
            "text/html": [
              "Synced <strong style=\"color:#cdcd00\">MLP_GAN_21</strong>: <a href=\"https://wandb.ai/ahsen/NIDS/runs/3lriy3u5\" target=\"_blank\">https://wandb.ai/ahsen/NIDS/runs/3lriy3u5</a><br/>Synced 5 W&B file(s), 0 media file(s), 0 artifact file(s) and 0 other file(s)"
            ]
          },
          "metadata": {}
        },
        {
          "output_type": "display_data",
          "data": {
            "text/plain": [
              "<IPython.core.display.HTML object>"
            ],
            "text/html": [
              "Find logs at: <code>./wandb/run-20220430_143849-3lriy3u5/logs</code>"
            ]
          },
          "metadata": {}
        },
        {
          "output_type": "display_data",
          "data": {
            "text/plain": [
              "<IPython.core.display.HTML object>"
            ],
            "text/html": [
              "Tracking run with wandb version 0.12.15"
            ]
          },
          "metadata": {}
        },
        {
          "output_type": "display_data",
          "data": {
            "text/plain": [
              "<IPython.core.display.HTML object>"
            ],
            "text/html": [
              "Run data is saved locally in <code>/content/wandb/run-20220430_144117-3aox6czq</code>"
            ]
          },
          "metadata": {}
        },
        {
          "output_type": "display_data",
          "data": {
            "text/plain": [
              "<IPython.core.display.HTML object>"
            ],
            "text/html": [
              "Syncing run <strong><a href=\"https://wandb.ai/ahsen/NIDS/runs/3aox6czq\" target=\"_blank\">MLP_GAN_22</a></strong> to <a href=\"https://wandb.ai/ahsen/NIDS\" target=\"_blank\">Weights & Biases</a> (<a href=\"https://wandb.me/run\" target=\"_blank\">docs</a>)<br/>"
            ]
          },
          "metadata": {}
        },
        {
          "output_type": "stream",
          "name": "stdout",
          "text": [
            "===============================================\n",
            "Batch Size:128\tEpochs:40\tLR:0.1\n",
            "------------------------------------------------\n",
            "Epoch:1  \tLoss:0.0252\t Acc: 0.8189\n",
            "------------------------------------------------\n",
            "Epoch:2  \tLoss:0.0252\t Acc: 0.7842\n",
            "------------------------------------------------\n",
            "Epoch:3  \tLoss:0.0358\t Acc: 0.7740\n",
            "------------------------------------------------\n",
            "Epoch:4  \tLoss:0.0318\t Acc: 0.7812\n",
            "------------------------------------------------\n",
            "Epoch:5  \tLoss:0.0303\t Acc: 0.7685\n",
            "------------------------------------------------\n",
            "Epoch:6  \tLoss:0.0321\t Acc: 0.7764\n",
            "------------------------------------------------\n",
            "Epoch:7  \tLoss:0.0337\t Acc: 0.7759\n",
            "------------------------------------------------\n",
            "Epoch:8  \tLoss:0.0188\t Acc: 0.7812\n",
            "------------------------------------------------\n",
            "Epoch:9  \tLoss:0.0180\t Acc: 0.7801\n",
            "------------------------------------------------\n",
            "Epoch:10  \tLoss:0.0163\t Acc: 0.7911\n",
            "------------------------------------------------\n",
            "Epoch:11  \tLoss:0.0137\t Acc: 0.7793\n",
            "------------------------------------------------\n",
            "Epoch:12  \tLoss:0.0141\t Acc: 0.7713\n",
            "------------------------------------------------\n",
            "Epoch:13  \tLoss:0.0095\t Acc: 0.7752\n",
            "------------------------------------------------\n",
            "Epoch:14  \tLoss:0.0097\t Acc: 0.7784\n",
            "------------------------------------------------\n",
            "Epoch:15  \tLoss:0.0091\t Acc: 0.7769\n",
            "------------------------------------------------\n",
            "Epoch:16  \tLoss:0.0085\t Acc: 0.7756\n",
            "------------------------------------------------\n",
            "Epoch:17  \tLoss:0.0082\t Acc: 0.7639\n",
            "------------------------------------------------\n",
            "Epoch:18  \tLoss:0.0072\t Acc: 0.7651\n",
            "------------------------------------------------\n",
            "Epoch:19  \tLoss:0.0071\t Acc: 0.7728\n",
            "------------------------------------------------\n",
            "Epoch:20  \tLoss:0.0067\t Acc: 0.7701\n",
            "------------------------------------------------\n",
            "Epoch:21  \tLoss:0.0065\t Acc: 0.7739\n",
            "------------------------------------------------\n",
            "Epoch:22  \tLoss:0.0065\t Acc: 0.7696\n",
            "------------------------------------------------\n",
            "Epoch:23  \tLoss:0.0063\t Acc: 0.7726\n",
            "------------------------------------------------\n",
            "Epoch:24  \tLoss:0.0059\t Acc: 0.7793\n",
            "------------------------------------------------\n",
            "Epoch:25  \tLoss:0.0060\t Acc: 0.7745\n",
            "------------------------------------------------\n",
            "Epoch:26  \tLoss:0.0057\t Acc: 0.7793\n",
            "------------------------------------------------\n",
            "Epoch:27  \tLoss:0.0053\t Acc: 0.7767\n",
            "------------------------------------------------\n",
            "Epoch:28  \tLoss:0.0052\t Acc: 0.7740\n",
            "------------------------------------------------\n",
            "Epoch:29  \tLoss:0.0044\t Acc: 0.7640\n",
            "------------------------------------------------\n",
            "Epoch:30  \tLoss:0.0039\t Acc: 0.7648\n",
            "------------------------------------------------\n",
            "Epoch:31  \tLoss:0.0031\t Acc: 0.7654\n",
            "------------------------------------------------\n",
            "Epoch:32  \tLoss:0.0050\t Acc: 0.7713\n",
            "------------------------------------------------\n",
            "Epoch:33  \tLoss:0.0092\t Acc: 0.7696\n",
            "------------------------------------------------\n",
            "Epoch:34  \tLoss:0.0053\t Acc: 0.7731\n",
            "------------------------------------------------\n",
            "Epoch:35  \tLoss:0.0051\t Acc: 0.7690\n",
            "------------------------------------------------\n",
            "Epoch:36  \tLoss:0.0052\t Acc: 0.7725\n",
            "------------------------------------------------\n",
            "Epoch:37  \tLoss:0.0048\t Acc: 0.7747\n",
            "------------------------------------------------\n",
            "Epoch:38  \tLoss:0.0051\t Acc: 0.7743\n",
            "------------------------------------------------\n",
            "Epoch:39  \tLoss:0.0049\t Acc: 0.7779\n",
            "------------------------------------------------\n",
            "Epoch:40  \tLoss:0.0048\t Acc: 0.7771\n",
            "*************************************************\n",
            "Final Score for (B:128, Ep:40, LR:0.1)\n",
            "Acc: 0.7771\n"
          ]
        },
        {
          "output_type": "display_data",
          "data": {
            "text/plain": [
              "<IPython.core.display.HTML object>"
            ],
            "text/html": [
              "Waiting for W&B process to finish... <strong style=\"color:green\">(success).</strong>"
            ]
          },
          "metadata": {}
        },
        {
          "output_type": "display_data",
          "data": {
            "text/plain": [
              "VBox(children=(Label(value='0.001 MB of 0.001 MB uploaded (0.000 MB deduped)\\r'), FloatProgress(value=1.0, max…"
            ],
            "application/vnd.jupyter.widget-view+json": {
              "version_major": 2,
              "version_minor": 0,
              "model_id": "ef16729fd86c4e77add824404519831a"
            }
          },
          "metadata": {}
        },
        {
          "output_type": "display_data",
          "data": {
            "text/plain": [
              "<IPython.core.display.HTML object>"
            ],
            "text/html": [
              "<style>\n",
              "    table.wandb td:nth-child(1) { padding: 0 10px; text-align: right }\n",
              "    .wandb-row { display: flex; flex-direction: row; flex-wrap: wrap; width: 100% }\n",
              "    .wandb-col { display: flex; flex-direction: column; flex-basis: 100%; flex: 1; padding: 10px; }\n",
              "    </style>\n",
              "<div class=\"wandb-row\"><div class=\"wandb-col\"><h3>Run history:</h3><br/><table class=\"wandb\"><tr><td>acc</td><td>▁</td></tr><tr><td>loss</td><td>▆▆█▇▇▇█▄▄▄▃▃▂▂▂▂▂▂▂▂▂▂▂▂▂▂▁▁▁▁▁▁▂▁▁▁▁▁▁▁</td></tr></table><br/></div><div class=\"wandb-col\"><h3>Run summary:</h3><br/><table class=\"wandb\"><tr><td>acc</td><td>0.77706</td></tr><tr><td>loss</td><td>0.00481</td></tr></table><br/></div></div>"
            ]
          },
          "metadata": {}
        },
        {
          "output_type": "display_data",
          "data": {
            "text/plain": [
              "<IPython.core.display.HTML object>"
            ],
            "text/html": [
              "Synced <strong style=\"color:#cdcd00\">MLP_GAN_22</strong>: <a href=\"https://wandb.ai/ahsen/NIDS/runs/3aox6czq\" target=\"_blank\">https://wandb.ai/ahsen/NIDS/runs/3aox6czq</a><br/>Synced 5 W&B file(s), 0 media file(s), 0 artifact file(s) and 0 other file(s)"
            ]
          },
          "metadata": {}
        },
        {
          "output_type": "display_data",
          "data": {
            "text/plain": [
              "<IPython.core.display.HTML object>"
            ],
            "text/html": [
              "Find logs at: <code>./wandb/run-20220430_144117-3aox6czq/logs</code>"
            ]
          },
          "metadata": {}
        },
        {
          "output_type": "display_data",
          "data": {
            "text/plain": [
              "<IPython.core.display.HTML object>"
            ],
            "text/html": [
              "Tracking run with wandb version 0.12.15"
            ]
          },
          "metadata": {}
        },
        {
          "output_type": "display_data",
          "data": {
            "text/plain": [
              "<IPython.core.display.HTML object>"
            ],
            "text/html": [
              "Run data is saved locally in <code>/content/wandb/run-20220430_144306-3vs6j2jh</code>"
            ]
          },
          "metadata": {}
        },
        {
          "output_type": "display_data",
          "data": {
            "text/plain": [
              "<IPython.core.display.HTML object>"
            ],
            "text/html": [
              "Syncing run <strong><a href=\"https://wandb.ai/ahsen/NIDS/runs/3vs6j2jh\" target=\"_blank\">MLP_GAN_23</a></strong> to <a href=\"https://wandb.ai/ahsen/NIDS\" target=\"_blank\">Weights & Biases</a> (<a href=\"https://wandb.me/run\" target=\"_blank\">docs</a>)<br/>"
            ]
          },
          "metadata": {}
        },
        {
          "output_type": "stream",
          "name": "stdout",
          "text": [
            "===============================================\n",
            "Batch Size:256\tEpochs:40\tLR:0.1\n",
            "------------------------------------------------\n",
            "Epoch:1  \tLoss:0.0303\t Acc: 0.8052\n",
            "------------------------------------------------\n",
            "Epoch:2  \tLoss:0.0344\t Acc: 0.8120\n",
            "------------------------------------------------\n",
            "Epoch:3  \tLoss:0.0218\t Acc: 0.7957\n",
            "------------------------------------------------\n",
            "Epoch:4  \tLoss:0.0169\t Acc: 0.7990\n",
            "------------------------------------------------\n",
            "Epoch:5  \tLoss:0.0141\t Acc: 0.7988\n",
            "------------------------------------------------\n",
            "Epoch:6  \tLoss:0.0247\t Acc: 0.7934\n",
            "------------------------------------------------\n",
            "Epoch:7  \tLoss:0.0220\t Acc: 0.7969\n",
            "------------------------------------------------\n",
            "Epoch:8  \tLoss:0.0172\t Acc: 0.8155\n",
            "------------------------------------------------\n",
            "Epoch:9  \tLoss:0.0130\t Acc: 0.8152\n",
            "------------------------------------------------\n",
            "Epoch:10  \tLoss:0.0103\t Acc: 0.8065\n",
            "------------------------------------------------\n",
            "Epoch:11  \tLoss:0.0123\t Acc: 0.8149\n",
            "------------------------------------------------\n",
            "Epoch:12  \tLoss:0.0106\t Acc: 0.8136\n",
            "------------------------------------------------\n",
            "Epoch:13  \tLoss:0.0093\t Acc: 0.8148\n",
            "------------------------------------------------\n",
            "Epoch:14  \tLoss:0.0096\t Acc: 0.8202\n",
            "------------------------------------------------\n",
            "Epoch:15  \tLoss:0.0092\t Acc: 0.8147\n",
            "------------------------------------------------\n",
            "Epoch:16  \tLoss:0.0096\t Acc: 0.7898\n",
            "------------------------------------------------\n",
            "Epoch:17  \tLoss:0.0082\t Acc: 0.8037\n",
            "------------------------------------------------\n",
            "Epoch:18  \tLoss:0.0121\t Acc: 0.8031\n",
            "------------------------------------------------\n",
            "Epoch:19  \tLoss:0.0142\t Acc: 0.7899\n",
            "------------------------------------------------\n",
            "Epoch:20  \tLoss:0.0131\t Acc: 0.7754\n",
            "------------------------------------------------\n",
            "Epoch:21  \tLoss:0.0117\t Acc: 0.7985\n",
            "------------------------------------------------\n",
            "Epoch:22  \tLoss:0.0131\t Acc: 0.7806\n",
            "------------------------------------------------\n",
            "Epoch:23  \tLoss:0.0129\t Acc: 0.7983\n",
            "------------------------------------------------\n",
            "Epoch:24  \tLoss:0.0094\t Acc: 0.8053\n",
            "------------------------------------------------\n",
            "Epoch:25  \tLoss:0.0081\t Acc: 0.7999\n",
            "------------------------------------------------\n",
            "Epoch:26  \tLoss:0.0132\t Acc: 0.8035\n",
            "------------------------------------------------\n",
            "Epoch:27  \tLoss:0.0109\t Acc: 0.8019\n",
            "------------------------------------------------\n",
            "Epoch:28  \tLoss:0.0079\t Acc: 0.7952\n",
            "------------------------------------------------\n",
            "Epoch:29  \tLoss:0.0071\t Acc: 0.8132\n",
            "------------------------------------------------\n",
            "Epoch:30  \tLoss:0.0143\t Acc: 0.7896\n",
            "------------------------------------------------\n",
            "Epoch:31  \tLoss:0.0123\t Acc: 0.8048\n",
            "------------------------------------------------\n",
            "Epoch:32  \tLoss:0.0085\t Acc: 0.8118\n",
            "------------------------------------------------\n",
            "Epoch:33  \tLoss:0.0078\t Acc: 0.8157\n",
            "------------------------------------------------\n",
            "Epoch:34  \tLoss:0.0065\t Acc: 0.7944\n",
            "------------------------------------------------\n",
            "Epoch:35  \tLoss:0.0068\t Acc: 0.8298\n",
            "------------------------------------------------\n",
            "Epoch:36  \tLoss:0.0079\t Acc: 0.8282\n",
            "------------------------------------------------\n",
            "Epoch:37  \tLoss:0.0070\t Acc: 0.8204\n",
            "------------------------------------------------\n",
            "Epoch:38  \tLoss:0.0059\t Acc: 0.8150\n",
            "------------------------------------------------\n",
            "Epoch:39  \tLoss:0.0067\t Acc: 0.8253\n",
            "------------------------------------------------\n",
            "Epoch:40  \tLoss:0.0079\t Acc: 0.8288\n",
            "*************************************************\n",
            "Final Score for (B:256, Ep:40, LR:0.1)\n",
            "Acc: 0.8288\n"
          ]
        },
        {
          "output_type": "display_data",
          "data": {
            "text/plain": [
              "<IPython.core.display.HTML object>"
            ],
            "text/html": [
              "Waiting for W&B process to finish... <strong style=\"color:green\">(success).</strong>"
            ]
          },
          "metadata": {}
        },
        {
          "output_type": "display_data",
          "data": {
            "text/plain": [
              "VBox(children=(Label(value='0.001 MB of 0.001 MB uploaded (0.000 MB deduped)\\r'), FloatProgress(value=1.0, max…"
            ],
            "application/vnd.jupyter.widget-view+json": {
              "version_major": 2,
              "version_minor": 0,
              "model_id": "5c35bc69e48b40ab936723b0540db289"
            }
          },
          "metadata": {}
        },
        {
          "output_type": "display_data",
          "data": {
            "text/plain": [
              "<IPython.core.display.HTML object>"
            ],
            "text/html": [
              "<style>\n",
              "    table.wandb td:nth-child(1) { padding: 0 10px; text-align: right }\n",
              "    .wandb-row { display: flex; flex-direction: row; flex-wrap: wrap; width: 100% }\n",
              "    .wandb-col { display: flex; flex-direction: column; flex-basis: 100%; flex: 1; padding: 10px; }\n",
              "    </style>\n",
              "<div class=\"wandb-row\"><div class=\"wandb-col\"><h3>Run history:</h3><br/><table class=\"wandb\"><tr><td>acc</td><td>▁</td></tr><tr><td>loss</td><td>▇█▅▄▃▆▅▄▃▂▃▂▂▂▂▂▂▃▃▃▂▃▃▂▂▃▂▁▁▃▃▂▁▁▁▁▁▁▁▁</td></tr></table><br/></div><div class=\"wandb-col\"><h3>Run summary:</h3><br/><table class=\"wandb\"><tr><td>acc</td><td>0.82882</td></tr><tr><td>loss</td><td>0.00788</td></tr></table><br/></div></div>"
            ]
          },
          "metadata": {}
        },
        {
          "output_type": "display_data",
          "data": {
            "text/plain": [
              "<IPython.core.display.HTML object>"
            ],
            "text/html": [
              "Synced <strong style=\"color:#cdcd00\">MLP_GAN_23</strong>: <a href=\"https://wandb.ai/ahsen/NIDS/runs/3vs6j2jh\" target=\"_blank\">https://wandb.ai/ahsen/NIDS/runs/3vs6j2jh</a><br/>Synced 5 W&B file(s), 0 media file(s), 0 artifact file(s) and 0 other file(s)"
            ]
          },
          "metadata": {}
        },
        {
          "output_type": "display_data",
          "data": {
            "text/plain": [
              "<IPython.core.display.HTML object>"
            ],
            "text/html": [
              "Find logs at: <code>./wandb/run-20220430_144306-3vs6j2jh/logs</code>"
            ]
          },
          "metadata": {}
        },
        {
          "output_type": "display_data",
          "data": {
            "text/plain": [
              "<IPython.core.display.HTML object>"
            ],
            "text/html": [
              "Tracking run with wandb version 0.12.15"
            ]
          },
          "metadata": {}
        },
        {
          "output_type": "display_data",
          "data": {
            "text/plain": [
              "<IPython.core.display.HTML object>"
            ],
            "text/html": [
              "Run data is saved locally in <code>/content/wandb/run-20220430_144441-3r0jyiok</code>"
            ]
          },
          "metadata": {}
        },
        {
          "output_type": "display_data",
          "data": {
            "text/plain": [
              "<IPython.core.display.HTML object>"
            ],
            "text/html": [
              "Syncing run <strong><a href=\"https://wandb.ai/ahsen/NIDS/runs/3r0jyiok\" target=\"_blank\">MLP_GAN_24</a></strong> to <a href=\"https://wandb.ai/ahsen/NIDS\" target=\"_blank\">Weights & Biases</a> (<a href=\"https://wandb.me/run\" target=\"_blank\">docs</a>)<br/>"
            ]
          },
          "metadata": {}
        },
        {
          "output_type": "stream",
          "name": "stdout",
          "text": [
            "===============================================\n",
            "Batch Size:32\tEpochs:55\tLR:0.001\n",
            "------------------------------------------------\n",
            "Epoch:1  \tLoss:0.0688\t Acc: 0.7694\n",
            "------------------------------------------------\n",
            "Epoch:2  \tLoss:0.0288\t Acc: 0.7844\n",
            "------------------------------------------------\n",
            "Epoch:3  \tLoss:0.0209\t Acc: 0.7848\n",
            "------------------------------------------------\n",
            "Epoch:4  \tLoss:0.0150\t Acc: 0.7704\n",
            "------------------------------------------------\n",
            "Epoch:5  \tLoss:0.0098\t Acc: 0.7696\n",
            "------------------------------------------------\n",
            "Epoch:6  \tLoss:0.0080\t Acc: 0.7754\n",
            "------------------------------------------------\n",
            "Epoch:7  \tLoss:0.0063\t Acc: 0.7842\n",
            "------------------------------------------------\n",
            "Epoch:8  \tLoss:0.0056\t Acc: 0.7887\n",
            "------------------------------------------------\n",
            "Epoch:9  \tLoss:0.0053\t Acc: 0.7897\n",
            "------------------------------------------------\n",
            "Epoch:10  \tLoss:0.0037\t Acc: 0.7933\n",
            "------------------------------------------------\n",
            "Epoch:11  \tLoss:0.0037\t Acc: 0.7940\n",
            "------------------------------------------------\n",
            "Epoch:12  \tLoss:0.0037\t Acc: 0.7949\n",
            "------------------------------------------------\n",
            "Epoch:13  \tLoss:0.0083\t Acc: 0.7947\n",
            "------------------------------------------------\n",
            "Epoch:14  \tLoss:0.0074\t Acc: 0.7945\n",
            "------------------------------------------------\n",
            "Epoch:15  \tLoss:0.0100\t Acc: 0.7956\n",
            "------------------------------------------------\n",
            "Epoch:16  \tLoss:0.0102\t Acc: 0.7922\n",
            "------------------------------------------------\n",
            "Epoch:17  \tLoss:0.0060\t Acc: 0.7931\n",
            "------------------------------------------------\n",
            "Epoch:18  \tLoss:0.0035\t Acc: 0.7932\n",
            "------------------------------------------------\n",
            "Epoch:19  \tLoss:0.0053\t Acc: 0.7940\n",
            "------------------------------------------------\n",
            "Epoch:20  \tLoss:0.0030\t Acc: 0.7929\n",
            "------------------------------------------------\n",
            "Epoch:21  \tLoss:0.0049\t Acc: 0.7930\n",
            "------------------------------------------------\n",
            "Epoch:22  \tLoss:0.0051\t Acc: 0.7931\n",
            "------------------------------------------------\n",
            "Epoch:23  \tLoss:0.0031\t Acc: 0.7931\n",
            "------------------------------------------------\n",
            "Epoch:24  \tLoss:0.0041\t Acc: 0.7927\n",
            "------------------------------------------------\n",
            "Epoch:25  \tLoss:0.0023\t Acc: 0.7893\n",
            "------------------------------------------------\n",
            "Epoch:26  \tLoss:0.0027\t Acc: 0.7923\n",
            "------------------------------------------------\n",
            "Epoch:27  \tLoss:0.0028\t Acc: 0.7929\n",
            "------------------------------------------------\n",
            "Epoch:28  \tLoss:0.0023\t Acc: 0.7932\n",
            "------------------------------------------------\n",
            "Epoch:29  \tLoss:0.0023\t Acc: 0.7904\n",
            "------------------------------------------------\n",
            "Epoch:30  \tLoss:0.0025\t Acc: 0.7911\n",
            "------------------------------------------------\n",
            "Epoch:31  \tLoss:0.0025\t Acc: 0.7928\n",
            "------------------------------------------------\n",
            "Epoch:32  \tLoss:0.0024\t Acc: 0.7914\n",
            "------------------------------------------------\n",
            "Epoch:33  \tLoss:0.0023\t Acc: 0.7914\n",
            "------------------------------------------------\n",
            "Epoch:34  \tLoss:0.0025\t Acc: 0.7892\n",
            "------------------------------------------------\n",
            "Epoch:35  \tLoss:0.0026\t Acc: 0.7879\n",
            "------------------------------------------------\n",
            "Epoch:36  \tLoss:0.0037\t Acc: 0.7868\n",
            "------------------------------------------------\n",
            "Epoch:37  \tLoss:0.0029\t Acc: 0.7907\n",
            "------------------------------------------------\n",
            "Epoch:38  \tLoss:0.0029\t Acc: 0.7900\n",
            "------------------------------------------------\n",
            "Epoch:39  \tLoss:0.0027\t Acc: 0.7880\n",
            "------------------------------------------------\n",
            "Epoch:40  \tLoss:0.0032\t Acc: 0.7879\n",
            "------------------------------------------------\n",
            "Epoch:41  \tLoss:0.0025\t Acc: 0.7890\n",
            "------------------------------------------------\n",
            "Epoch:42  \tLoss:0.0038\t Acc: 0.7884\n",
            "------------------------------------------------\n",
            "Epoch:43  \tLoss:0.0034\t Acc: 0.7885\n",
            "------------------------------------------------\n",
            "Epoch:44  \tLoss:0.0034\t Acc: 0.7878\n",
            "------------------------------------------------\n",
            "Epoch:45  \tLoss:0.0034\t Acc: 0.7889\n",
            "------------------------------------------------\n",
            "Epoch:46  \tLoss:0.0023\t Acc: 0.7899\n",
            "------------------------------------------------\n",
            "Epoch:47  \tLoss:0.0024\t Acc: 0.7893\n",
            "------------------------------------------------\n",
            "Epoch:48  \tLoss:0.0023\t Acc: 0.7893\n",
            "------------------------------------------------\n",
            "Epoch:49  \tLoss:0.0022\t Acc: 0.7885\n",
            "------------------------------------------------\n",
            "Epoch:50  \tLoss:0.0025\t Acc: 0.7917\n",
            "------------------------------------------------\n",
            "Epoch:51  \tLoss:0.0027\t Acc: 0.7914\n",
            "------------------------------------------------\n",
            "Epoch:52  \tLoss:0.0025\t Acc: 0.7895\n",
            "------------------------------------------------\n",
            "Epoch:53  \tLoss:0.0023\t Acc: 0.7911\n",
            "------------------------------------------------\n",
            "Epoch:54  \tLoss:0.0025\t Acc: 0.7889\n",
            "------------------------------------------------\n",
            "Epoch:55  \tLoss:0.0025\t Acc: 0.7913\n",
            "*************************************************\n",
            "Final Score for (B:32, Ep:55, LR:0.001)\n",
            "Acc: 0.7913\n"
          ]
        },
        {
          "output_type": "display_data",
          "data": {
            "text/plain": [
              "<IPython.core.display.HTML object>"
            ],
            "text/html": [
              "Waiting for W&B process to finish... <strong style=\"color:green\">(success).</strong>"
            ]
          },
          "metadata": {}
        },
        {
          "output_type": "display_data",
          "data": {
            "text/plain": [
              "VBox(children=(Label(value='0.001 MB of 0.001 MB uploaded (0.000 MB deduped)\\r'), FloatProgress(value=1.0, max…"
            ],
            "application/vnd.jupyter.widget-view+json": {
              "version_major": 2,
              "version_minor": 0,
              "model_id": "04587f92253f4a4bb068284c82ce530c"
            }
          },
          "metadata": {}
        },
        {
          "output_type": "display_data",
          "data": {
            "text/plain": [
              "<IPython.core.display.HTML object>"
            ],
            "text/html": [
              "<style>\n",
              "    table.wandb td:nth-child(1) { padding: 0 10px; text-align: right }\n",
              "    .wandb-row { display: flex; flex-direction: row; flex-wrap: wrap; width: 100% }\n",
              "    .wandb-col { display: flex; flex-direction: column; flex-basis: 100%; flex: 1; padding: 10px; }\n",
              "    </style>\n",
              "<div class=\"wandb-row\"><div class=\"wandb-col\"><h3>Run history:</h3><br/><table class=\"wandb\"><tr><td>acc</td><td>▁</td></tr><tr><td>loss</td><td>█▄▃▂▂▁▁▁▁▂▂▂▁▁▁▁▁▁▁▁▁▁▁▁▁▁▁▁▁▁▁▁▁▁▁▁▁▁▁▁</td></tr></table><br/></div><div class=\"wandb-col\"><h3>Run summary:</h3><br/><table class=\"wandb\"><tr><td>acc</td><td>0.79125</td></tr><tr><td>loss</td><td>0.00248</td></tr></table><br/></div></div>"
            ]
          },
          "metadata": {}
        },
        {
          "output_type": "display_data",
          "data": {
            "text/plain": [
              "<IPython.core.display.HTML object>"
            ],
            "text/html": [
              "Synced <strong style=\"color:#cdcd00\">MLP_GAN_24</strong>: <a href=\"https://wandb.ai/ahsen/NIDS/runs/3r0jyiok\" target=\"_blank\">https://wandb.ai/ahsen/NIDS/runs/3r0jyiok</a><br/>Synced 5 W&B file(s), 0 media file(s), 0 artifact file(s) and 0 other file(s)"
            ]
          },
          "metadata": {}
        },
        {
          "output_type": "display_data",
          "data": {
            "text/plain": [
              "<IPython.core.display.HTML object>"
            ],
            "text/html": [
              "Find logs at: <code>./wandb/run-20220430_144441-3r0jyiok/logs</code>"
            ]
          },
          "metadata": {}
        },
        {
          "output_type": "display_data",
          "data": {
            "text/plain": [
              "<IPython.core.display.HTML object>"
            ],
            "text/html": [
              "Tracking run with wandb version 0.12.15"
            ]
          },
          "metadata": {}
        },
        {
          "output_type": "display_data",
          "data": {
            "text/plain": [
              "<IPython.core.display.HTML object>"
            ],
            "text/html": [
              "Run data is saved locally in <code>/content/wandb/run-20220430_144956-2dxu2vgh</code>"
            ]
          },
          "metadata": {}
        },
        {
          "output_type": "display_data",
          "data": {
            "text/plain": [
              "<IPython.core.display.HTML object>"
            ],
            "text/html": [
              "Syncing run <strong><a href=\"https://wandb.ai/ahsen/NIDS/runs/2dxu2vgh\" target=\"_blank\">MLP_GAN_25</a></strong> to <a href=\"https://wandb.ai/ahsen/NIDS\" target=\"_blank\">Weights & Biases</a> (<a href=\"https://wandb.me/run\" target=\"_blank\">docs</a>)<br/>"
            ]
          },
          "metadata": {}
        },
        {
          "output_type": "stream",
          "name": "stdout",
          "text": [
            "===============================================\n",
            "Batch Size:64\tEpochs:55\tLR:0.001\n",
            "------------------------------------------------\n",
            "Epoch:1  \tLoss:0.2078\t Acc: 0.7488\n",
            "------------------------------------------------\n",
            "Epoch:2  \tLoss:0.1454\t Acc: 0.7583\n",
            "------------------------------------------------\n",
            "Epoch:3  \tLoss:0.1105\t Acc: 0.7529\n",
            "------------------------------------------------\n",
            "Epoch:4  \tLoss:0.0951\t Acc: 0.7524\n",
            "------------------------------------------------\n",
            "Epoch:5  \tLoss:0.0845\t Acc: 0.7504\n",
            "------------------------------------------------\n",
            "Epoch:6  \tLoss:0.0646\t Acc: 0.7524\n",
            "------------------------------------------------\n",
            "Epoch:7  \tLoss:0.0540\t Acc: 0.7538\n",
            "------------------------------------------------\n",
            "Epoch:8  \tLoss:0.0470\t Acc: 0.7559\n",
            "------------------------------------------------\n",
            "Epoch:9  \tLoss:0.0407\t Acc: 0.7569\n",
            "------------------------------------------------\n",
            "Epoch:10  \tLoss:0.0352\t Acc: 0.7606\n",
            "------------------------------------------------\n",
            "Epoch:11  \tLoss:0.0312\t Acc: 0.7745\n",
            "------------------------------------------------\n",
            "Epoch:12  \tLoss:0.0294\t Acc: 0.7763\n",
            "------------------------------------------------\n",
            "Epoch:13  \tLoss:0.0305\t Acc: 0.7779\n",
            "------------------------------------------------\n",
            "Epoch:14  \tLoss:0.0266\t Acc: 0.7786\n",
            "------------------------------------------------\n",
            "Epoch:15  \tLoss:0.0259\t Acc: 0.7826\n",
            "------------------------------------------------\n",
            "Epoch:16  \tLoss:0.0229\t Acc: 0.7862\n",
            "------------------------------------------------\n",
            "Epoch:17  \tLoss:0.0245\t Acc: 0.7859\n",
            "------------------------------------------------\n",
            "Epoch:18  \tLoss:0.0235\t Acc: 0.7881\n",
            "------------------------------------------------\n",
            "Epoch:19  \tLoss:0.0196\t Acc: 0.7895\n",
            "------------------------------------------------\n",
            "Epoch:20  \tLoss:0.0181\t Acc: 0.7903\n",
            "------------------------------------------------\n",
            "Epoch:21  \tLoss:0.0181\t Acc: 0.7896\n",
            "------------------------------------------------\n",
            "Epoch:22  \tLoss:0.0160\t Acc: 0.7911\n",
            "------------------------------------------------\n",
            "Epoch:23  \tLoss:0.0162\t Acc: 0.7901\n",
            "------------------------------------------------\n",
            "Epoch:24  \tLoss:0.0156\t Acc: 0.7888\n",
            "------------------------------------------------\n",
            "Epoch:25  \tLoss:0.0139\t Acc: 0.7882\n",
            "------------------------------------------------\n",
            "Epoch:26  \tLoss:0.0137\t Acc: 0.7904\n",
            "------------------------------------------------\n",
            "Epoch:27  \tLoss:0.0133\t Acc: 0.7899\n",
            "------------------------------------------------\n",
            "Epoch:28  \tLoss:0.0113\t Acc: 0.7905\n",
            "------------------------------------------------\n",
            "Epoch:29  \tLoss:0.0121\t Acc: 0.7893\n",
            "------------------------------------------------\n",
            "Epoch:30  \tLoss:0.0118\t Acc: 0.7905\n",
            "------------------------------------------------\n",
            "Epoch:31  \tLoss:0.0116\t Acc: 0.7893\n",
            "------------------------------------------------\n",
            "Epoch:32  \tLoss:0.0104\t Acc: 0.7879\n",
            "------------------------------------------------\n",
            "Epoch:33  \tLoss:0.0114\t Acc: 0.7855\n",
            "------------------------------------------------\n",
            "Epoch:34  \tLoss:0.0089\t Acc: 0.7852\n",
            "------------------------------------------------\n",
            "Epoch:35  \tLoss:0.0091\t Acc: 0.7859\n",
            "------------------------------------------------\n",
            "Epoch:36  \tLoss:0.0089\t Acc: 0.7866\n",
            "------------------------------------------------\n",
            "Epoch:37  \tLoss:0.0088\t Acc: 0.7866\n",
            "------------------------------------------------\n",
            "Epoch:38  \tLoss:0.0097\t Acc: 0.7877\n",
            "------------------------------------------------\n",
            "Epoch:39  \tLoss:0.0080\t Acc: 0.7868\n",
            "------------------------------------------------\n",
            "Epoch:40  \tLoss:0.0079\t Acc: 0.7870\n",
            "------------------------------------------------\n",
            "Epoch:41  \tLoss:0.0080\t Acc: 0.7873\n",
            "------------------------------------------------\n",
            "Epoch:42  \tLoss:0.0086\t Acc: 0.7878\n",
            "------------------------------------------------\n",
            "Epoch:43  \tLoss:0.0086\t Acc: 0.7883\n",
            "------------------------------------------------\n",
            "Epoch:44  \tLoss:0.0070\t Acc: 0.7877\n",
            "------------------------------------------------\n",
            "Epoch:45  \tLoss:0.0076\t Acc: 0.7892\n",
            "------------------------------------------------\n",
            "Epoch:46  \tLoss:0.0081\t Acc: 0.7889\n",
            "------------------------------------------------\n",
            "Epoch:47  \tLoss:0.0071\t Acc: 0.7894\n",
            "------------------------------------------------\n",
            "Epoch:48  \tLoss:0.0081\t Acc: 0.7891\n",
            "------------------------------------------------\n",
            "Epoch:49  \tLoss:0.0072\t Acc: 0.7896\n",
            "------------------------------------------------\n",
            "Epoch:50  \tLoss:0.0074\t Acc: 0.7888\n",
            "------------------------------------------------\n",
            "Epoch:51  \tLoss:0.0078\t Acc: 0.7887\n",
            "------------------------------------------------\n",
            "Epoch:52  \tLoss:0.0072\t Acc: 0.7933\n",
            "------------------------------------------------\n",
            "Epoch:53  \tLoss:0.0063\t Acc: 0.7971\n",
            "------------------------------------------------\n",
            "Epoch:54  \tLoss:0.0066\t Acc: 0.7934\n",
            "------------------------------------------------\n",
            "Epoch:55  \tLoss:0.0065\t Acc: 0.7930\n",
            "*************************************************\n",
            "Final Score for (B:64, Ep:55, LR:0.001)\n",
            "Acc: 0.7930\n"
          ]
        },
        {
          "output_type": "display_data",
          "data": {
            "text/plain": [
              "<IPython.core.display.HTML object>"
            ],
            "text/html": [
              "Waiting for W&B process to finish... <strong style=\"color:green\">(success).</strong>"
            ]
          },
          "metadata": {}
        },
        {
          "output_type": "display_data",
          "data": {
            "text/plain": [
              "VBox(children=(Label(value='0.001 MB of 0.001 MB uploaded (0.000 MB deduped)\\r'), FloatProgress(value=1.0, max…"
            ],
            "application/vnd.jupyter.widget-view+json": {
              "version_major": 2,
              "version_minor": 0,
              "model_id": "3eb6069f56584dfda2de48490cf86ef2"
            }
          },
          "metadata": {}
        },
        {
          "output_type": "display_data",
          "data": {
            "text/plain": [
              "<IPython.core.display.HTML object>"
            ],
            "text/html": [
              "<style>\n",
              "    table.wandb td:nth-child(1) { padding: 0 10px; text-align: right }\n",
              "    .wandb-row { display: flex; flex-direction: row; flex-wrap: wrap; width: 100% }\n",
              "    .wandb-col { display: flex; flex-direction: column; flex-basis: 100%; flex: 1; padding: 10px; }\n",
              "    </style>\n",
              "<div class=\"wandb-row\"><div class=\"wandb-col\"><h3>Run history:</h3><br/><table class=\"wandb\"><tr><td>acc</td><td>▁</td></tr><tr><td>loss</td><td>█▆▅▄▃▃▂▂▂▂▂▂▂▁▁▁▁▁▁▁▁▁▁▁▁▁▁▁▁▁▁▁▁▁▁▁▁▁▁▁</td></tr></table><br/></div><div class=\"wandb-col\"><h3>Run summary:</h3><br/><table class=\"wandb\"><tr><td>acc</td><td>0.79303</td></tr><tr><td>loss</td><td>0.00646</td></tr></table><br/></div></div>"
            ]
          },
          "metadata": {}
        },
        {
          "output_type": "display_data",
          "data": {
            "text/plain": [
              "<IPython.core.display.HTML object>"
            ],
            "text/html": [
              "Synced <strong style=\"color:#cdcd00\">MLP_GAN_25</strong>: <a href=\"https://wandb.ai/ahsen/NIDS/runs/2dxu2vgh\" target=\"_blank\">https://wandb.ai/ahsen/NIDS/runs/2dxu2vgh</a><br/>Synced 5 W&B file(s), 0 media file(s), 0 artifact file(s) and 0 other file(s)"
            ]
          },
          "metadata": {}
        },
        {
          "output_type": "display_data",
          "data": {
            "text/plain": [
              "<IPython.core.display.HTML object>"
            ],
            "text/html": [
              "Find logs at: <code>./wandb/run-20220430_144956-2dxu2vgh/logs</code>"
            ]
          },
          "metadata": {}
        },
        {
          "output_type": "display_data",
          "data": {
            "text/plain": [
              "<IPython.core.display.HTML object>"
            ],
            "text/html": [
              "Tracking run with wandb version 0.12.15"
            ]
          },
          "metadata": {}
        },
        {
          "output_type": "display_data",
          "data": {
            "text/plain": [
              "<IPython.core.display.HTML object>"
            ],
            "text/html": [
              "Run data is saved locally in <code>/content/wandb/run-20220430_145316-3tmjo4w5</code>"
            ]
          },
          "metadata": {}
        },
        {
          "output_type": "display_data",
          "data": {
            "text/plain": [
              "<IPython.core.display.HTML object>"
            ],
            "text/html": [
              "Syncing run <strong><a href=\"https://wandb.ai/ahsen/NIDS/runs/3tmjo4w5\" target=\"_blank\">MLP_GAN_26</a></strong> to <a href=\"https://wandb.ai/ahsen/NIDS\" target=\"_blank\">Weights & Biases</a> (<a href=\"https://wandb.me/run\" target=\"_blank\">docs</a>)<br/>"
            ]
          },
          "metadata": {}
        },
        {
          "output_type": "stream",
          "name": "stdout",
          "text": [
            "===============================================\n",
            "Batch Size:128\tEpochs:55\tLR:0.001\n",
            "------------------------------------------------\n",
            "Epoch:1  \tLoss:0.2913\t Acc: 0.7322\n",
            "------------------------------------------------\n",
            "Epoch:2  \tLoss:0.2035\t Acc: 0.7337\n",
            "------------------------------------------------\n",
            "Epoch:3  \tLoss:0.1653\t Acc: 0.7580\n",
            "------------------------------------------------\n",
            "Epoch:4  \tLoss:0.1418\t Acc: 0.7622\n",
            "------------------------------------------------\n",
            "Epoch:5  \tLoss:0.1252\t Acc: 0.7647\n",
            "------------------------------------------------\n",
            "Epoch:6  \tLoss:0.1117\t Acc: 0.7664\n",
            "------------------------------------------------\n",
            "Epoch:7  \tLoss:0.1003\t Acc: 0.7663\n",
            "------------------------------------------------\n",
            "Epoch:8  \tLoss:0.0934\t Acc: 0.7683\n",
            "------------------------------------------------\n",
            "Epoch:9  \tLoss:0.0875\t Acc: 0.7704\n",
            "------------------------------------------------\n",
            "Epoch:10  \tLoss:0.0810\t Acc: 0.7699\n",
            "------------------------------------------------\n",
            "Epoch:11  \tLoss:0.0714\t Acc: 0.7689\n",
            "------------------------------------------------\n",
            "Epoch:12  \tLoss:0.0625\t Acc: 0.7688\n",
            "------------------------------------------------\n",
            "Epoch:13  \tLoss:0.0572\t Acc: 0.7699\n",
            "------------------------------------------------\n",
            "Epoch:14  \tLoss:0.0512\t Acc: 0.7699\n",
            "------------------------------------------------\n",
            "Epoch:15  \tLoss:0.0447\t Acc: 0.7688\n",
            "------------------------------------------------\n",
            "Epoch:16  \tLoss:0.0390\t Acc: 0.7706\n",
            "------------------------------------------------\n",
            "Epoch:17  \tLoss:0.0355\t Acc: 0.7712\n",
            "------------------------------------------------\n",
            "Epoch:18  \tLoss:0.0328\t Acc: 0.7708\n",
            "------------------------------------------------\n",
            "Epoch:19  \tLoss:0.0298\t Acc: 0.7700\n",
            "------------------------------------------------\n",
            "Epoch:20  \tLoss:0.0268\t Acc: 0.7709\n",
            "------------------------------------------------\n",
            "Epoch:21  \tLoss:0.0250\t Acc: 0.7727\n",
            "------------------------------------------------\n",
            "Epoch:22  \tLoss:0.0235\t Acc: 0.7743\n",
            "------------------------------------------------\n",
            "Epoch:23  \tLoss:0.0221\t Acc: 0.7748\n",
            "------------------------------------------------\n",
            "Epoch:24  \tLoss:0.0211\t Acc: 0.7762\n",
            "------------------------------------------------\n",
            "Epoch:25  \tLoss:0.0197\t Acc: 0.7775\n",
            "------------------------------------------------\n",
            "Epoch:26  \tLoss:0.0188\t Acc: 0.7791\n",
            "------------------------------------------------\n",
            "Epoch:27  \tLoss:0.0181\t Acc: 0.7804\n",
            "------------------------------------------------\n",
            "Epoch:28  \tLoss:0.0180\t Acc: 0.7824\n",
            "------------------------------------------------\n",
            "Epoch:29  \tLoss:0.0173\t Acc: 0.7835\n",
            "------------------------------------------------\n",
            "Epoch:30  \tLoss:0.0173\t Acc: 0.7842\n",
            "------------------------------------------------\n",
            "Epoch:31  \tLoss:0.0168\t Acc: 0.7841\n",
            "------------------------------------------------\n",
            "Epoch:32  \tLoss:0.0168\t Acc: 0.7854\n",
            "------------------------------------------------\n",
            "Epoch:33  \tLoss:0.0163\t Acc: 0.7867\n",
            "------------------------------------------------\n",
            "Epoch:34  \tLoss:0.0163\t Acc: 0.7876\n",
            "------------------------------------------------\n",
            "Epoch:35  \tLoss:0.0161\t Acc: 0.7893\n",
            "------------------------------------------------\n",
            "Epoch:36  \tLoss:0.0159\t Acc: 0.7905\n",
            "------------------------------------------------\n",
            "Epoch:37  \tLoss:0.0153\t Acc: 0.7906\n",
            "------------------------------------------------\n",
            "Epoch:38  \tLoss:0.0151\t Acc: 0.7911\n",
            "------------------------------------------------\n",
            "Epoch:39  \tLoss:0.0149\t Acc: 0.7916\n",
            "------------------------------------------------\n",
            "Epoch:40  \tLoss:0.0147\t Acc: 0.7927\n",
            "------------------------------------------------\n",
            "Epoch:41  \tLoss:0.0150\t Acc: 0.7928\n",
            "------------------------------------------------\n",
            "Epoch:42  \tLoss:0.0151\t Acc: 0.7934\n",
            "------------------------------------------------\n",
            "Epoch:43  \tLoss:0.0149\t Acc: 0.7932\n",
            "------------------------------------------------\n",
            "Epoch:44  \tLoss:0.0152\t Acc: 0.7936\n",
            "------------------------------------------------\n",
            "Epoch:45  \tLoss:0.0148\t Acc: 0.7940\n",
            "------------------------------------------------\n",
            "Epoch:46  \tLoss:0.0147\t Acc: 0.7948\n",
            "------------------------------------------------\n",
            "Epoch:47  \tLoss:0.0144\t Acc: 0.7953\n",
            "------------------------------------------------\n",
            "Epoch:48  \tLoss:0.0138\t Acc: 0.7957\n",
            "------------------------------------------------\n",
            "Epoch:49  \tLoss:0.0136\t Acc: 0.7962\n",
            "------------------------------------------------\n",
            "Epoch:50  \tLoss:0.0130\t Acc: 0.7965\n",
            "------------------------------------------------\n",
            "Epoch:51  \tLoss:0.0129\t Acc: 0.7969\n",
            "------------------------------------------------\n",
            "Epoch:52  \tLoss:0.0127\t Acc: 0.7968\n",
            "------------------------------------------------\n",
            "Epoch:53  \tLoss:0.0126\t Acc: 0.7970\n",
            "------------------------------------------------\n",
            "Epoch:54  \tLoss:0.0124\t Acc: 0.7979\n",
            "------------------------------------------------\n",
            "Epoch:55  \tLoss:0.0124\t Acc: 0.7977\n",
            "*************************************************\n",
            "Final Score for (B:128, Ep:55, LR:0.001)\n",
            "Acc: 0.7977\n"
          ]
        },
        {
          "output_type": "display_data",
          "data": {
            "text/plain": [
              "<IPython.core.display.HTML object>"
            ],
            "text/html": [
              "Waiting for W&B process to finish... <strong style=\"color:green\">(success).</strong>"
            ]
          },
          "metadata": {}
        },
        {
          "output_type": "display_data",
          "data": {
            "text/plain": [
              "VBox(children=(Label(value='0.001 MB of 0.001 MB uploaded (0.000 MB deduped)\\r'), FloatProgress(value=1.0, max…"
            ],
            "application/vnd.jupyter.widget-view+json": {
              "version_major": 2,
              "version_minor": 0,
              "model_id": "444d3c49070141008692dbabc898ffb5"
            }
          },
          "metadata": {}
        },
        {
          "output_type": "display_data",
          "data": {
            "text/plain": [
              "<IPython.core.display.HTML object>"
            ],
            "text/html": [
              "<style>\n",
              "    table.wandb td:nth-child(1) { padding: 0 10px; text-align: right }\n",
              "    .wandb-row { display: flex; flex-direction: row; flex-wrap: wrap; width: 100% }\n",
              "    .wandb-col { display: flex; flex-direction: column; flex-basis: 100%; flex: 1; padding: 10px; }\n",
              "    </style>\n",
              "<div class=\"wandb-row\"><div class=\"wandb-col\"><h3>Run history:</h3><br/><table class=\"wandb\"><tr><td>acc</td><td>▁</td></tr><tr><td>loss</td><td>█▆▅▄▃▃▃▃▂▂▂▂▂▁▁▁▁▁▁▁▁▁▁▁▁▁▁▁▁▁▁▁▁▁▁▁▁▁▁▁</td></tr></table><br/></div><div class=\"wandb-col\"><h3>Run summary:</h3><br/><table class=\"wandb\"><tr><td>acc</td><td>0.79773</td></tr><tr><td>loss</td><td>0.01243</td></tr></table><br/></div></div>"
            ]
          },
          "metadata": {}
        },
        {
          "output_type": "display_data",
          "data": {
            "text/plain": [
              "<IPython.core.display.HTML object>"
            ],
            "text/html": [
              "Synced <strong style=\"color:#cdcd00\">MLP_GAN_26</strong>: <a href=\"https://wandb.ai/ahsen/NIDS/runs/3tmjo4w5\" target=\"_blank\">https://wandb.ai/ahsen/NIDS/runs/3tmjo4w5</a><br/>Synced 5 W&B file(s), 0 media file(s), 0 artifact file(s) and 0 other file(s)"
            ]
          },
          "metadata": {}
        },
        {
          "output_type": "display_data",
          "data": {
            "text/plain": [
              "<IPython.core.display.HTML object>"
            ],
            "text/html": [
              "Find logs at: <code>./wandb/run-20220430_145316-3tmjo4w5/logs</code>"
            ]
          },
          "metadata": {}
        },
        {
          "output_type": "display_data",
          "data": {
            "text/plain": [
              "<IPython.core.display.HTML object>"
            ],
            "text/html": [
              "Tracking run with wandb version 0.12.15"
            ]
          },
          "metadata": {}
        },
        {
          "output_type": "display_data",
          "data": {
            "text/plain": [
              "<IPython.core.display.HTML object>"
            ],
            "text/html": [
              "Run data is saved locally in <code>/content/wandb/run-20220430_145542-3pm6gm61</code>"
            ]
          },
          "metadata": {}
        },
        {
          "output_type": "display_data",
          "data": {
            "text/plain": [
              "<IPython.core.display.HTML object>"
            ],
            "text/html": [
              "Syncing run <strong><a href=\"https://wandb.ai/ahsen/NIDS/runs/3pm6gm61\" target=\"_blank\">MLP_GAN_27</a></strong> to <a href=\"https://wandb.ai/ahsen/NIDS\" target=\"_blank\">Weights & Biases</a> (<a href=\"https://wandb.me/run\" target=\"_blank\">docs</a>)<br/>"
            ]
          },
          "metadata": {}
        },
        {
          "output_type": "stream",
          "name": "stdout",
          "text": [
            "===============================================\n",
            "Batch Size:256\tEpochs:55\tLR:0.001\n",
            "------------------------------------------------\n",
            "Epoch:1  \tLoss:0.4029\t Acc: 0.7427\n",
            "------------------------------------------------\n",
            "Epoch:2  \tLoss:0.2993\t Acc: 0.7508\n",
            "------------------------------------------------\n",
            "Epoch:3  \tLoss:0.2361\t Acc: 0.7511\n",
            "------------------------------------------------\n",
            "Epoch:4  \tLoss:0.1986\t Acc: 0.7547\n",
            "------------------------------------------------\n",
            "Epoch:5  \tLoss:0.1732\t Acc: 0.7613\n",
            "------------------------------------------------\n",
            "Epoch:6  \tLoss:0.1550\t Acc: 0.7694\n",
            "------------------------------------------------\n",
            "Epoch:7  \tLoss:0.1411\t Acc: 0.7726\n",
            "------------------------------------------------\n",
            "Epoch:8  \tLoss:0.1298\t Acc: 0.7723\n",
            "------------------------------------------------\n",
            "Epoch:9  \tLoss:0.1223\t Acc: 0.7747\n",
            "------------------------------------------------\n",
            "Epoch:10  \tLoss:0.1156\t Acc: 0.7747\n",
            "------------------------------------------------\n",
            "Epoch:11  \tLoss:0.1096\t Acc: 0.7743\n",
            "------------------------------------------------\n",
            "Epoch:12  \tLoss:0.1035\t Acc: 0.7759\n",
            "------------------------------------------------\n",
            "Epoch:13  \tLoss:0.0975\t Acc: 0.7765\n",
            "------------------------------------------------\n",
            "Epoch:14  \tLoss:0.0914\t Acc: 0.7768\n",
            "------------------------------------------------\n",
            "Epoch:15  \tLoss:0.0859\t Acc: 0.7777\n",
            "------------------------------------------------\n",
            "Epoch:16  \tLoss:0.0825\t Acc: 0.7754\n",
            "------------------------------------------------\n",
            "Epoch:17  \tLoss:0.0784\t Acc: 0.7750\n",
            "------------------------------------------------\n",
            "Epoch:18  \tLoss:0.0734\t Acc: 0.7745\n",
            "------------------------------------------------\n",
            "Epoch:19  \tLoss:0.0699\t Acc: 0.7746\n",
            "------------------------------------------------\n",
            "Epoch:20  \tLoss:0.0649\t Acc: 0.7784\n",
            "------------------------------------------------\n",
            "Epoch:21  \tLoss:0.0618\t Acc: 0.7794\n",
            "------------------------------------------------\n",
            "Epoch:22  \tLoss:0.0592\t Acc: 0.7793\n",
            "------------------------------------------------\n",
            "Epoch:23  \tLoss:0.0542\t Acc: 0.7798\n",
            "------------------------------------------------\n",
            "Epoch:24  \tLoss:0.0531\t Acc: 0.7804\n",
            "------------------------------------------------\n",
            "Epoch:25  \tLoss:0.0521\t Acc: 0.7797\n",
            "------------------------------------------------\n",
            "Epoch:26  \tLoss:0.0508\t Acc: 0.7792\n",
            "------------------------------------------------\n",
            "Epoch:27  \tLoss:0.0495\t Acc: 0.7796\n",
            "------------------------------------------------\n",
            "Epoch:28  \tLoss:0.0482\t Acc: 0.7798\n",
            "------------------------------------------------\n",
            "Epoch:29  \tLoss:0.0467\t Acc: 0.7796\n",
            "------------------------------------------------\n",
            "Epoch:30  \tLoss:0.0454\t Acc: 0.7792\n",
            "------------------------------------------------\n",
            "Epoch:31  \tLoss:0.0440\t Acc: 0.7775\n",
            "------------------------------------------------\n",
            "Epoch:32  \tLoss:0.0425\t Acc: 0.7764\n",
            "------------------------------------------------\n",
            "Epoch:33  \tLoss:0.0411\t Acc: 0.7758\n",
            "------------------------------------------------\n",
            "Epoch:34  \tLoss:0.0397\t Acc: 0.7757\n",
            "------------------------------------------------\n",
            "Epoch:35  \tLoss:0.0384\t Acc: 0.7752\n",
            "------------------------------------------------\n",
            "Epoch:36  \tLoss:0.0371\t Acc: 0.7751\n",
            "------------------------------------------------\n",
            "Epoch:37  \tLoss:0.0366\t Acc: 0.7755\n",
            "------------------------------------------------\n",
            "Epoch:38  \tLoss:0.0354\t Acc: 0.7752\n",
            "------------------------------------------------\n",
            "Epoch:39  \tLoss:0.0343\t Acc: 0.7757\n",
            "------------------------------------------------\n",
            "Epoch:40  \tLoss:0.0334\t Acc: 0.7761\n",
            "------------------------------------------------\n",
            "Epoch:41  \tLoss:0.0326\t Acc: 0.7763\n",
            "------------------------------------------------\n",
            "Epoch:42  \tLoss:0.0318\t Acc: 0.7764\n",
            "------------------------------------------------\n",
            "Epoch:43  \tLoss:0.0310\t Acc: 0.7764\n",
            "------------------------------------------------\n",
            "Epoch:44  \tLoss:0.0302\t Acc: 0.7767\n",
            "------------------------------------------------\n",
            "Epoch:45  \tLoss:0.0297\t Acc: 0.7765\n",
            "------------------------------------------------\n",
            "Epoch:46  \tLoss:0.0291\t Acc: 0.7767\n",
            "------------------------------------------------\n",
            "Epoch:47  \tLoss:0.0290\t Acc: 0.7765\n",
            "------------------------------------------------\n",
            "Epoch:48  \tLoss:0.0283\t Acc: 0.7767\n",
            "------------------------------------------------\n",
            "Epoch:49  \tLoss:0.0280\t Acc: 0.7767\n",
            "------------------------------------------------\n",
            "Epoch:50  \tLoss:0.0278\t Acc: 0.7767\n",
            "------------------------------------------------\n",
            "Epoch:51  \tLoss:0.0271\t Acc: 0.7767\n",
            "------------------------------------------------\n",
            "Epoch:52  \tLoss:0.0270\t Acc: 0.7773\n",
            "------------------------------------------------\n",
            "Epoch:53  \tLoss:0.0266\t Acc: 0.7771\n",
            "------------------------------------------------\n",
            "Epoch:54  \tLoss:0.0264\t Acc: 0.7772\n",
            "------------------------------------------------\n",
            "Epoch:55  \tLoss:0.0260\t Acc: 0.7775\n",
            "*************************************************\n",
            "Final Score for (B:256, Ep:55, LR:0.001)\n",
            "Acc: 0.7775\n"
          ]
        },
        {
          "output_type": "display_data",
          "data": {
            "text/plain": [
              "<IPython.core.display.HTML object>"
            ],
            "text/html": [
              "Waiting for W&B process to finish... <strong style=\"color:green\">(success).</strong>"
            ]
          },
          "metadata": {}
        },
        {
          "output_type": "display_data",
          "data": {
            "text/plain": [
              "VBox(children=(Label(value='0.001 MB of 0.001 MB uploaded (0.000 MB deduped)\\r'), FloatProgress(value=1.0, max…"
            ],
            "application/vnd.jupyter.widget-view+json": {
              "version_major": 2,
              "version_minor": 0,
              "model_id": "a6470bca9e064d4da04242cc39bed00f"
            }
          },
          "metadata": {}
        },
        {
          "output_type": "display_data",
          "data": {
            "text/plain": [
              "<IPython.core.display.HTML object>"
            ],
            "text/html": [
              "<style>\n",
              "    table.wandb td:nth-child(1) { padding: 0 10px; text-align: right }\n",
              "    .wandb-row { display: flex; flex-direction: row; flex-wrap: wrap; width: 100% }\n",
              "    .wandb-col { display: flex; flex-direction: column; flex-basis: 100%; flex: 1; padding: 10px; }\n",
              "    </style>\n",
              "<div class=\"wandb-row\"><div class=\"wandb-col\"><h3>Run history:</h3><br/><table class=\"wandb\"><tr><td>acc</td><td>▁</td></tr><tr><td>loss</td><td>█▆▅▄▃▃▃▃▂▂▂▂▂▂▂▂▂▂▁▁▁▁▁▁▁▁▁▁▁▁▁▁▁▁▁▁▁▁▁▁</td></tr></table><br/></div><div class=\"wandb-col\"><h3>Run summary:</h3><br/><table class=\"wandb\"><tr><td>acc</td><td>0.7775</td></tr><tr><td>loss</td><td>0.02596</td></tr></table><br/></div></div>"
            ]
          },
          "metadata": {}
        },
        {
          "output_type": "display_data",
          "data": {
            "text/plain": [
              "<IPython.core.display.HTML object>"
            ],
            "text/html": [
              "Synced <strong style=\"color:#cdcd00\">MLP_GAN_27</strong>: <a href=\"https://wandb.ai/ahsen/NIDS/runs/3pm6gm61\" target=\"_blank\">https://wandb.ai/ahsen/NIDS/runs/3pm6gm61</a><br/>Synced 5 W&B file(s), 0 media file(s), 0 artifact file(s) and 0 other file(s)"
            ]
          },
          "metadata": {}
        },
        {
          "output_type": "display_data",
          "data": {
            "text/plain": [
              "<IPython.core.display.HTML object>"
            ],
            "text/html": [
              "Find logs at: <code>./wandb/run-20220430_145542-3pm6gm61/logs</code>"
            ]
          },
          "metadata": {}
        },
        {
          "output_type": "display_data",
          "data": {
            "text/plain": [
              "<IPython.core.display.HTML object>"
            ],
            "text/html": [
              "Tracking run with wandb version 0.12.15"
            ]
          },
          "metadata": {}
        },
        {
          "output_type": "display_data",
          "data": {
            "text/plain": [
              "<IPython.core.display.HTML object>"
            ],
            "text/html": [
              "Run data is saved locally in <code>/content/wandb/run-20220430_145745-1apki5ok</code>"
            ]
          },
          "metadata": {}
        },
        {
          "output_type": "display_data",
          "data": {
            "text/plain": [
              "<IPython.core.display.HTML object>"
            ],
            "text/html": [
              "Syncing run <strong><a href=\"https://wandb.ai/ahsen/NIDS/runs/1apki5ok\" target=\"_blank\">MLP_GAN_28</a></strong> to <a href=\"https://wandb.ai/ahsen/NIDS\" target=\"_blank\">Weights & Biases</a> (<a href=\"https://wandb.me/run\" target=\"_blank\">docs</a>)<br/>"
            ]
          },
          "metadata": {}
        },
        {
          "output_type": "stream",
          "name": "stdout",
          "text": [
            "===============================================\n",
            "Batch Size:32\tEpochs:55\tLR:0.01\n",
            "------------------------------------------------\n",
            "Epoch:1  \tLoss:0.0079\t Acc: 0.7623\n",
            "------------------------------------------------\n",
            "Epoch:2  \tLoss:0.0054\t Acc: 0.7687\n",
            "------------------------------------------------\n",
            "Epoch:3  \tLoss:0.0040\t Acc: 0.7578\n",
            "------------------------------------------------\n",
            "Epoch:4  \tLoss:0.0044\t Acc: 0.7603\n",
            "------------------------------------------------\n",
            "Epoch:5  \tLoss:0.0031\t Acc: 0.7575\n",
            "------------------------------------------------\n",
            "Epoch:6  \tLoss:0.0027\t Acc: 0.7628\n",
            "------------------------------------------------\n",
            "Epoch:7  \tLoss:0.0038\t Acc: 0.7695\n",
            "------------------------------------------------\n",
            "Epoch:8  \tLoss:0.0035\t Acc: 0.7677\n",
            "------------------------------------------------\n",
            "Epoch:9  \tLoss:0.0042\t Acc: 0.7722\n",
            "------------------------------------------------\n",
            "Epoch:10  \tLoss:0.0241\t Acc: 0.7693\n",
            "------------------------------------------------\n",
            "Epoch:11  \tLoss:0.0026\t Acc: 0.7843\n",
            "------------------------------------------------\n",
            "Epoch:12  \tLoss:0.0028\t Acc: 0.7789\n",
            "------------------------------------------------\n",
            "Epoch:13  \tLoss:0.0033\t Acc: 0.7812\n",
            "------------------------------------------------\n",
            "Epoch:14  \tLoss:0.0026\t Acc: 0.7764\n",
            "------------------------------------------------\n",
            "Epoch:15  \tLoss:0.0020\t Acc: 0.7649\n",
            "------------------------------------------------\n",
            "Epoch:16  \tLoss:0.0050\t Acc: 0.7789\n",
            "------------------------------------------------\n",
            "Epoch:17  \tLoss:0.0046\t Acc: 0.7767\n",
            "------------------------------------------------\n",
            "Epoch:18  \tLoss:0.0051\t Acc: 0.7884\n",
            "------------------------------------------------\n",
            "Epoch:19  \tLoss:0.0033\t Acc: 0.7682\n",
            "------------------------------------------------\n",
            "Epoch:20  \tLoss:0.0065\t Acc: 0.7943\n",
            "------------------------------------------------\n",
            "Epoch:21  \tLoss:0.0064\t Acc: 0.7897\n",
            "------------------------------------------------\n",
            "Epoch:22  \tLoss:0.0033\t Acc: 0.7706\n",
            "------------------------------------------------\n",
            "Epoch:23  \tLoss:0.0034\t Acc: 0.7709\n",
            "------------------------------------------------\n",
            "Epoch:24  \tLoss:0.0039\t Acc: 0.7674\n",
            "------------------------------------------------\n",
            "Epoch:25  \tLoss:0.0048\t Acc: 0.7678\n",
            "------------------------------------------------\n",
            "Epoch:26  \tLoss:0.0045\t Acc: 0.7733\n",
            "------------------------------------------------\n",
            "Epoch:27  \tLoss:0.0073\t Acc: 0.7801\n",
            "------------------------------------------------\n",
            "Epoch:28  \tLoss:0.0062\t Acc: 0.7843\n",
            "------------------------------------------------\n",
            "Epoch:29  \tLoss:0.0074\t Acc: 0.7842\n",
            "------------------------------------------------\n",
            "Epoch:30  \tLoss:0.0206\t Acc: 0.7684\n",
            "------------------------------------------------\n",
            "Epoch:31  \tLoss:0.0068\t Acc: 0.7717\n",
            "------------------------------------------------\n",
            "Epoch:32  \tLoss:0.0048\t Acc: 0.7773\n",
            "------------------------------------------------\n",
            "Epoch:33  \tLoss:0.0097\t Acc: 0.7763\n",
            "------------------------------------------------\n",
            "Epoch:34  \tLoss:0.0029\t Acc: 0.7935\n",
            "------------------------------------------------\n",
            "Epoch:35  \tLoss:0.0054\t Acc: 0.7830\n",
            "------------------------------------------------\n",
            "Epoch:36  \tLoss:0.0067\t Acc: 0.7737\n",
            "------------------------------------------------\n",
            "Epoch:37  \tLoss:0.0062\t Acc: 0.7952\n",
            "------------------------------------------------\n",
            "Epoch:38  \tLoss:0.0069\t Acc: 0.7802\n",
            "------------------------------------------------\n",
            "Epoch:39  \tLoss:0.0076\t Acc: 0.7878\n",
            "------------------------------------------------\n",
            "Epoch:40  \tLoss:0.0093\t Acc: 0.7852\n",
            "------------------------------------------------\n",
            "Epoch:41  \tLoss:0.0136\t Acc: 0.7766\n",
            "------------------------------------------------\n",
            "Epoch:42  \tLoss:0.0165\t Acc: 0.7912\n",
            "------------------------------------------------\n",
            "Epoch:43  \tLoss:0.0112\t Acc: 0.7917\n",
            "------------------------------------------------\n",
            "Epoch:44  \tLoss:0.0110\t Acc: 0.7983\n",
            "------------------------------------------------\n",
            "Epoch:45  \tLoss:0.0108\t Acc: 0.7883\n",
            "------------------------------------------------\n",
            "Epoch:46  \tLoss:0.0128\t Acc: 0.7718\n",
            "------------------------------------------------\n",
            "Epoch:47  \tLoss:0.0122\t Acc: 0.8047\n",
            "------------------------------------------------\n",
            "Epoch:48  \tLoss:0.0130\t Acc: 0.7850\n",
            "------------------------------------------------\n",
            "Epoch:49  \tLoss:0.0098\t Acc: 0.7961\n",
            "------------------------------------------------\n",
            "Epoch:50  \tLoss:0.0157\t Acc: 0.7706\n",
            "------------------------------------------------\n",
            "Epoch:51  \tLoss:0.0219\t Acc: 0.7767\n",
            "------------------------------------------------\n",
            "Epoch:52  \tLoss:0.0207\t Acc: 0.7689\n",
            "------------------------------------------------\n",
            "Epoch:53  \tLoss:0.0168\t Acc: 0.7752\n",
            "------------------------------------------------\n",
            "Epoch:54  \tLoss:0.0194\t Acc: 0.7661\n",
            "------------------------------------------------\n",
            "Epoch:55  \tLoss:0.0145\t Acc: 0.7681\n",
            "*************************************************\n",
            "Final Score for (B:32, Ep:55, LR:0.01)\n",
            "Acc: 0.7681\n"
          ]
        },
        {
          "output_type": "display_data",
          "data": {
            "text/plain": [
              "<IPython.core.display.HTML object>"
            ],
            "text/html": [
              "Waiting for W&B process to finish... <strong style=\"color:green\">(success).</strong>"
            ]
          },
          "metadata": {}
        },
        {
          "output_type": "display_data",
          "data": {
            "text/plain": [
              "VBox(children=(Label(value='0.001 MB of 0.001 MB uploaded (0.000 MB deduped)\\r'), FloatProgress(value=1.0, max…"
            ],
            "application/vnd.jupyter.widget-view+json": {
              "version_major": 2,
              "version_minor": 0,
              "model_id": "d3c1dcaed2e449f2b9b876104d9ea974"
            }
          },
          "metadata": {}
        },
        {
          "output_type": "display_data",
          "data": {
            "text/plain": [
              "<IPython.core.display.HTML object>"
            ],
            "text/html": [
              "<style>\n",
              "    table.wandb td:nth-child(1) { padding: 0 10px; text-align: right }\n",
              "    .wandb-row { display: flex; flex-direction: row; flex-wrap: wrap; width: 100% }\n",
              "    .wandb-col { display: flex; flex-direction: column; flex-basis: 100%; flex: 1; padding: 10px; }\n",
              "    </style>\n",
              "<div class=\"wandb-row\"><div class=\"wandb-col\"><h3>Run history:</h3><br/><table class=\"wandb\"><tr><td>acc</td><td>▁</td></tr><tr><td>loss</td><td>▃▂▁▁▁▁▂█▁▁▁▂▂▁▂▂▁▁▂▃▂▇▂▂▁▂▂▂▃▅▆▄▄▄▄▃▅▇▆▅</td></tr></table><br/></div><div class=\"wandb-col\"><h3>Run summary:</h3><br/><table class=\"wandb\"><tr><td>acc</td><td>0.76805</td></tr><tr><td>loss</td><td>0.01447</td></tr></table><br/></div></div>"
            ]
          },
          "metadata": {}
        },
        {
          "output_type": "display_data",
          "data": {
            "text/plain": [
              "<IPython.core.display.HTML object>"
            ],
            "text/html": [
              "Synced <strong style=\"color:#cdcd00\">MLP_GAN_28</strong>: <a href=\"https://wandb.ai/ahsen/NIDS/runs/1apki5ok\" target=\"_blank\">https://wandb.ai/ahsen/NIDS/runs/1apki5ok</a><br/>Synced 5 W&B file(s), 0 media file(s), 0 artifact file(s) and 0 other file(s)"
            ]
          },
          "metadata": {}
        },
        {
          "output_type": "display_data",
          "data": {
            "text/plain": [
              "<IPython.core.display.HTML object>"
            ],
            "text/html": [
              "Find logs at: <code>./wandb/run-20220430_145745-1apki5ok/logs</code>"
            ]
          },
          "metadata": {}
        },
        {
          "output_type": "display_data",
          "data": {
            "text/plain": [
              "<IPython.core.display.HTML object>"
            ],
            "text/html": [
              "Tracking run with wandb version 0.12.15"
            ]
          },
          "metadata": {}
        },
        {
          "output_type": "display_data",
          "data": {
            "text/plain": [
              "<IPython.core.display.HTML object>"
            ],
            "text/html": [
              "Run data is saved locally in <code>/content/wandb/run-20220430_150305-344hswqy</code>"
            ]
          },
          "metadata": {}
        },
        {
          "output_type": "display_data",
          "data": {
            "text/plain": [
              "<IPython.core.display.HTML object>"
            ],
            "text/html": [
              "Syncing run <strong><a href=\"https://wandb.ai/ahsen/NIDS/runs/344hswqy\" target=\"_blank\">MLP_GAN_29</a></strong> to <a href=\"https://wandb.ai/ahsen/NIDS\" target=\"_blank\">Weights & Biases</a> (<a href=\"https://wandb.me/run\" target=\"_blank\">docs</a>)<br/>"
            ]
          },
          "metadata": {}
        },
        {
          "output_type": "stream",
          "name": "stdout",
          "text": [
            "===============================================\n",
            "Batch Size:64\tEpochs:55\tLR:0.01\n",
            "------------------------------------------------\n",
            "Epoch:1  \tLoss:0.0383\t Acc: 0.7825\n",
            "------------------------------------------------\n",
            "Epoch:2  \tLoss:0.0213\t Acc: 0.7812\n",
            "------------------------------------------------\n",
            "Epoch:3  \tLoss:0.0158\t Acc: 0.7766\n",
            "------------------------------------------------\n",
            "Epoch:4  \tLoss:0.0172\t Acc: 0.7766\n",
            "------------------------------------------------\n",
            "Epoch:5  \tLoss:0.0130\t Acc: 0.7793\n",
            "------------------------------------------------\n",
            "Epoch:6  \tLoss:0.0124\t Acc: 0.7846\n",
            "------------------------------------------------\n",
            "Epoch:7  \tLoss:0.0143\t Acc: 0.7944\n",
            "------------------------------------------------\n",
            "Epoch:8  \tLoss:0.0098\t Acc: 0.7926\n",
            "------------------------------------------------\n",
            "Epoch:9  \tLoss:0.0100\t Acc: 0.7955\n",
            "------------------------------------------------\n",
            "Epoch:10  \tLoss:0.0083\t Acc: 0.7949\n",
            "------------------------------------------------\n",
            "Epoch:11  \tLoss:0.0102\t Acc: 0.7920\n",
            "------------------------------------------------\n",
            "Epoch:12  \tLoss:0.0073\t Acc: 0.7912\n",
            "------------------------------------------------\n",
            "Epoch:13  \tLoss:0.0109\t Acc: 0.7909\n",
            "------------------------------------------------\n",
            "Epoch:14  \tLoss:0.0119\t Acc: 0.7902\n",
            "------------------------------------------------\n",
            "Epoch:15  \tLoss:0.0097\t Acc: 0.7993\n",
            "------------------------------------------------\n",
            "Epoch:16  \tLoss:0.0116\t Acc: 0.7951\n",
            "------------------------------------------------\n",
            "Epoch:17  \tLoss:0.0168\t Acc: 0.7847\n",
            "------------------------------------------------\n",
            "Epoch:18  \tLoss:0.0189\t Acc: 0.7828\n",
            "------------------------------------------------\n",
            "Epoch:19  \tLoss:0.0137\t Acc: 0.7801\n",
            "------------------------------------------------\n",
            "Epoch:20  \tLoss:0.0127\t Acc: 0.7778\n",
            "------------------------------------------------\n",
            "Epoch:21  \tLoss:0.0073\t Acc: 0.7952\n",
            "------------------------------------------------\n",
            "Epoch:22  \tLoss:0.0123\t Acc: 0.7917\n",
            "------------------------------------------------\n",
            "Epoch:23  \tLoss:0.0096\t Acc: 0.7870\n",
            "------------------------------------------------\n",
            "Epoch:24  \tLoss:0.0068\t Acc: 0.7970\n",
            "------------------------------------------------\n",
            "Epoch:25  \tLoss:0.0133\t Acc: 0.7846\n",
            "------------------------------------------------\n",
            "Epoch:26  \tLoss:0.0089\t Acc: 0.7881\n",
            "------------------------------------------------\n",
            "Epoch:27  \tLoss:0.0108\t Acc: 0.7848\n",
            "------------------------------------------------\n",
            "Epoch:28  \tLoss:0.0111\t Acc: 0.7833\n",
            "------------------------------------------------\n",
            "Epoch:29  \tLoss:0.0112\t Acc: 0.7659\n",
            "------------------------------------------------\n",
            "Epoch:30  \tLoss:0.0125\t Acc: 0.7628\n",
            "------------------------------------------------\n",
            "Epoch:31  \tLoss:0.0132\t Acc: 0.7814\n",
            "------------------------------------------------\n",
            "Epoch:32  \tLoss:0.0095\t Acc: 0.7703\n",
            "------------------------------------------------\n",
            "Epoch:33  \tLoss:0.0141\t Acc: 0.7704\n",
            "------------------------------------------------\n",
            "Epoch:34  \tLoss:0.0096\t Acc: 0.7632\n",
            "------------------------------------------------\n",
            "Epoch:35  \tLoss:0.0143\t Acc: 0.7713\n",
            "------------------------------------------------\n",
            "Epoch:36  \tLoss:0.0093\t Acc: 0.7723\n",
            "------------------------------------------------\n",
            "Epoch:37  \tLoss:0.0109\t Acc: 0.7717\n",
            "------------------------------------------------\n",
            "Epoch:38  \tLoss:0.0066\t Acc: 0.7714\n",
            "------------------------------------------------\n",
            "Epoch:39  \tLoss:0.0071\t Acc: 0.7794\n",
            "------------------------------------------------\n",
            "Epoch:40  \tLoss:0.0091\t Acc: 0.7590\n",
            "------------------------------------------------\n",
            "Epoch:41  \tLoss:0.0091\t Acc: 0.7621\n",
            "------------------------------------------------\n",
            "Epoch:42  \tLoss:0.0104\t Acc: 0.7771\n",
            "------------------------------------------------\n",
            "Epoch:43  \tLoss:0.0124\t Acc: 0.7602\n",
            "------------------------------------------------\n",
            "Epoch:44  \tLoss:0.0120\t Acc: 0.7695\n",
            "------------------------------------------------\n",
            "Epoch:45  \tLoss:0.0073\t Acc: 0.7816\n",
            "------------------------------------------------\n",
            "Epoch:46  \tLoss:0.0123\t Acc: 0.7733\n",
            "------------------------------------------------\n",
            "Epoch:47  \tLoss:0.0094\t Acc: 0.7679\n",
            "------------------------------------------------\n",
            "Epoch:48  \tLoss:0.0091\t Acc: 0.7759\n",
            "------------------------------------------------\n",
            "Epoch:49  \tLoss:0.0099\t Acc: 0.7750\n",
            "------------------------------------------------\n",
            "Epoch:50  \tLoss:0.0080\t Acc: 0.7706\n",
            "------------------------------------------------\n",
            "Epoch:51  \tLoss:0.0096\t Acc: 0.7803\n",
            "------------------------------------------------\n",
            "Epoch:52  \tLoss:0.0096\t Acc: 0.7725\n",
            "------------------------------------------------\n",
            "Epoch:53  \tLoss:0.0079\t Acc: 0.7699\n",
            "------------------------------------------------\n",
            "Epoch:54  \tLoss:0.0064\t Acc: 0.7715\n",
            "------------------------------------------------\n",
            "Epoch:55  \tLoss:0.0110\t Acc: 0.7637\n",
            "*************************************************\n",
            "Final Score for (B:64, Ep:55, LR:0.01)\n",
            "Acc: 0.7637\n"
          ]
        },
        {
          "output_type": "display_data",
          "data": {
            "text/plain": [
              "<IPython.core.display.HTML object>"
            ],
            "text/html": [
              "Waiting for W&B process to finish... <strong style=\"color:green\">(success).</strong>"
            ]
          },
          "metadata": {}
        },
        {
          "output_type": "display_data",
          "data": {
            "text/plain": [
              "VBox(children=(Label(value='0.001 MB of 0.001 MB uploaded (0.000 MB deduped)\\r'), FloatProgress(value=1.0, max…"
            ],
            "application/vnd.jupyter.widget-view+json": {
              "version_major": 2,
              "version_minor": 0,
              "model_id": "182dd5a9973d49129b1e038b707dcd41"
            }
          },
          "metadata": {}
        },
        {
          "output_type": "display_data",
          "data": {
            "text/plain": [
              "<IPython.core.display.HTML object>"
            ],
            "text/html": [
              "<style>\n",
              "    table.wandb td:nth-child(1) { padding: 0 10px; text-align: right }\n",
              "    .wandb-row { display: flex; flex-direction: row; flex-wrap: wrap; width: 100% }\n",
              "    .wandb-col { display: flex; flex-direction: column; flex-basis: 100%; flex: 1; padding: 10px; }\n",
              "    </style>\n",
              "<div class=\"wandb-row\"><div class=\"wandb-col\"><h3>Run history:</h3><br/><table class=\"wandb\"><tr><td>acc</td><td>▁</td></tr><tr><td>loss</td><td>█▄▃▂▂▃▂▁▁▂▂▂▃▃▂▁▂▁▂▂▂▂▂▂▂▃▂▁▁▂▂▂▁▂▂▂▁▂▁▂</td></tr></table><br/></div><div class=\"wandb-col\"><h3>Run summary:</h3><br/><table class=\"wandb\"><tr><td>acc</td><td>0.76366</td></tr><tr><td>loss</td><td>0.011</td></tr></table><br/></div></div>"
            ]
          },
          "metadata": {}
        },
        {
          "output_type": "display_data",
          "data": {
            "text/plain": [
              "<IPython.core.display.HTML object>"
            ],
            "text/html": [
              "Synced <strong style=\"color:#cdcd00\">MLP_GAN_29</strong>: <a href=\"https://wandb.ai/ahsen/NIDS/runs/344hswqy\" target=\"_blank\">https://wandb.ai/ahsen/NIDS/runs/344hswqy</a><br/>Synced 5 W&B file(s), 0 media file(s), 0 artifact file(s) and 0 other file(s)"
            ]
          },
          "metadata": {}
        },
        {
          "output_type": "display_data",
          "data": {
            "text/plain": [
              "<IPython.core.display.HTML object>"
            ],
            "text/html": [
              "Find logs at: <code>./wandb/run-20220430_150305-344hswqy/logs</code>"
            ]
          },
          "metadata": {}
        },
        {
          "output_type": "display_data",
          "data": {
            "text/plain": [
              "<IPython.core.display.HTML object>"
            ],
            "text/html": [
              "Tracking run with wandb version 0.12.15"
            ]
          },
          "metadata": {}
        },
        {
          "output_type": "display_data",
          "data": {
            "text/plain": [
              "<IPython.core.display.HTML object>"
            ],
            "text/html": [
              "Run data is saved locally in <code>/content/wandb/run-20220430_150625-3rlk8tdj</code>"
            ]
          },
          "metadata": {}
        },
        {
          "output_type": "display_data",
          "data": {
            "text/plain": [
              "<IPython.core.display.HTML object>"
            ],
            "text/html": [
              "Syncing run <strong><a href=\"https://wandb.ai/ahsen/NIDS/runs/3rlk8tdj\" target=\"_blank\">MLP_GAN_30</a></strong> to <a href=\"https://wandb.ai/ahsen/NIDS\" target=\"_blank\">Weights & Biases</a> (<a href=\"https://wandb.me/run\" target=\"_blank\">docs</a>)<br/>"
            ]
          },
          "metadata": {}
        },
        {
          "output_type": "stream",
          "name": "stdout",
          "text": [
            "===============================================\n",
            "Batch Size:128\tEpochs:55\tLR:0.01\n",
            "------------------------------------------------\n",
            "Epoch:1  \tLoss:0.0654\t Acc: 0.7722\n",
            "------------------------------------------------\n",
            "Epoch:2  \tLoss:0.0380\t Acc: 0.7767\n",
            "------------------------------------------------\n",
            "Epoch:3  \tLoss:0.0266\t Acc: 0.7734\n",
            "------------------------------------------------\n",
            "Epoch:4  \tLoss:0.0213\t Acc: 0.7873\n",
            "------------------------------------------------\n",
            "Epoch:5  \tLoss:0.0211\t Acc: 0.7830\n",
            "------------------------------------------------\n",
            "Epoch:6  \tLoss:0.0194\t Acc: 0.7888\n",
            "------------------------------------------------\n",
            "Epoch:7  \tLoss:0.0175\t Acc: 0.7864\n",
            "------------------------------------------------\n",
            "Epoch:8  \tLoss:0.0155\t Acc: 0.7786\n",
            "------------------------------------------------\n",
            "Epoch:9  \tLoss:0.0161\t Acc: 0.7741\n",
            "------------------------------------------------\n",
            "Epoch:10  \tLoss:0.0137\t Acc: 0.7783\n",
            "------------------------------------------------\n",
            "Epoch:11  \tLoss:0.0135\t Acc: 0.7821\n",
            "------------------------------------------------\n",
            "Epoch:12  \tLoss:0.0093\t Acc: 0.7790\n",
            "------------------------------------------------\n",
            "Epoch:13  \tLoss:0.0086\t Acc: 0.7771\n",
            "------------------------------------------------\n",
            "Epoch:14  \tLoss:0.0096\t Acc: 0.7785\n",
            "------------------------------------------------\n",
            "Epoch:15  \tLoss:0.0089\t Acc: 0.7803\n",
            "------------------------------------------------\n",
            "Epoch:16  \tLoss:0.0073\t Acc: 0.7799\n",
            "------------------------------------------------\n",
            "Epoch:17  \tLoss:0.0090\t Acc: 0.7767\n",
            "------------------------------------------------\n",
            "Epoch:18  \tLoss:0.0088\t Acc: 0.7791\n",
            "------------------------------------------------\n",
            "Epoch:19  \tLoss:0.0096\t Acc: 0.7685\n",
            "------------------------------------------------\n",
            "Epoch:20  \tLoss:0.0051\t Acc: 0.7731\n",
            "------------------------------------------------\n",
            "Epoch:21  \tLoss:0.0054\t Acc: 0.7706\n",
            "------------------------------------------------\n",
            "Epoch:22  \tLoss:0.0049\t Acc: 0.7722\n",
            "------------------------------------------------\n",
            "Epoch:23  \tLoss:0.0049\t Acc: 0.7718\n",
            "------------------------------------------------\n",
            "Epoch:24  \tLoss:0.0045\t Acc: 0.7713\n",
            "------------------------------------------------\n",
            "Epoch:25  \tLoss:0.0054\t Acc: 0.7740\n",
            "------------------------------------------------\n",
            "Epoch:26  \tLoss:0.0056\t Acc: 0.7700\n",
            "------------------------------------------------\n",
            "Epoch:27  \tLoss:0.0034\t Acc: 0.7631\n",
            "------------------------------------------------\n",
            "Epoch:28  \tLoss:0.0036\t Acc: 0.7781\n",
            "------------------------------------------------\n",
            "Epoch:29  \tLoss:0.0049\t Acc: 0.7631\n",
            "------------------------------------------------\n",
            "Epoch:30  \tLoss:0.0040\t Acc: 0.7651\n",
            "------------------------------------------------\n",
            "Epoch:31  \tLoss:0.0048\t Acc: 0.7650\n",
            "------------------------------------------------\n",
            "Epoch:32  \tLoss:0.0070\t Acc: 0.7616\n",
            "------------------------------------------------\n",
            "Epoch:33  \tLoss:0.0056\t Acc: 0.7586\n",
            "------------------------------------------------\n",
            "Epoch:34  \tLoss:0.0067\t Acc: 0.7626\n",
            "------------------------------------------------\n",
            "Epoch:35  \tLoss:0.0074\t Acc: 0.7563\n",
            "------------------------------------------------\n",
            "Epoch:36  \tLoss:0.0043\t Acc: 0.7613\n",
            "------------------------------------------------\n",
            "Epoch:37  \tLoss:0.0037\t Acc: 0.7558\n",
            "------------------------------------------------\n",
            "Epoch:38  \tLoss:0.0061\t Acc: 0.7589\n",
            "------------------------------------------------\n",
            "Epoch:39  \tLoss:0.0039\t Acc: 0.7574\n",
            "------------------------------------------------\n",
            "Epoch:40  \tLoss:0.0048\t Acc: 0.7579\n",
            "------------------------------------------------\n",
            "Epoch:41  \tLoss:0.0043\t Acc: 0.7659\n",
            "------------------------------------------------\n",
            "Epoch:42  \tLoss:0.0051\t Acc: 0.7595\n",
            "------------------------------------------------\n",
            "Epoch:43  \tLoss:0.0052\t Acc: 0.7620\n",
            "------------------------------------------------\n",
            "Epoch:44  \tLoss:0.0044\t Acc: 0.7612\n",
            "------------------------------------------------\n",
            "Epoch:45  \tLoss:0.0045\t Acc: 0.7619\n",
            "------------------------------------------------\n",
            "Epoch:46  \tLoss:0.0054\t Acc: 0.7686\n",
            "------------------------------------------------\n",
            "Epoch:47  \tLoss:0.0045\t Acc: 0.7828\n",
            "------------------------------------------------\n",
            "Epoch:48  \tLoss:0.0046\t Acc: 0.7704\n",
            "------------------------------------------------\n",
            "Epoch:49  \tLoss:0.0071\t Acc: 0.7692\n",
            "------------------------------------------------\n",
            "Epoch:50  \tLoss:0.0043\t Acc: 0.7743\n",
            "------------------------------------------------\n",
            "Epoch:51  \tLoss:0.0043\t Acc: 0.7707\n",
            "------------------------------------------------\n",
            "Epoch:52  \tLoss:0.0036\t Acc: 0.7718\n",
            "------------------------------------------------\n",
            "Epoch:53  \tLoss:0.0035\t Acc: 0.7689\n",
            "------------------------------------------------\n",
            "Epoch:54  \tLoss:0.0043\t Acc: 0.7681\n",
            "------------------------------------------------\n",
            "Epoch:55  \tLoss:0.0045\t Acc: 0.7684\n",
            "*************************************************\n",
            "Final Score for (B:128, Ep:55, LR:0.01)\n",
            "Acc: 0.7684\n"
          ]
        },
        {
          "output_type": "display_data",
          "data": {
            "text/plain": [
              "<IPython.core.display.HTML object>"
            ],
            "text/html": [
              "Waiting for W&B process to finish... <strong style=\"color:green\">(success).</strong>"
            ]
          },
          "metadata": {}
        },
        {
          "output_type": "display_data",
          "data": {
            "text/plain": [
              "VBox(children=(Label(value='0.001 MB of 0.001 MB uploaded (0.000 MB deduped)\\r'), FloatProgress(value=1.0, max…"
            ],
            "application/vnd.jupyter.widget-view+json": {
              "version_major": 2,
              "version_minor": 0,
              "model_id": "8a209d4bf7a341eda7a55557e248b606"
            }
          },
          "metadata": {}
        },
        {
          "output_type": "display_data",
          "data": {
            "text/plain": [
              "<IPython.core.display.HTML object>"
            ],
            "text/html": [
              "<style>\n",
              "    table.wandb td:nth-child(1) { padding: 0 10px; text-align: right }\n",
              "    .wandb-row { display: flex; flex-direction: row; flex-wrap: wrap; width: 100% }\n",
              "    .wandb-col { display: flex; flex-direction: column; flex-basis: 100%; flex: 1; padding: 10px; }\n",
              "    </style>\n",
              "<div class=\"wandb-row\"><div class=\"wandb-col\"><h3>Run history:</h3><br/><table class=\"wandb\"><tr><td>acc</td><td>▁</td></tr><tr><td>loss</td><td>█▅▄▃▃▃▂▂▂▂▂▁▂▂▁▁▁▁▁▁▁▁▁▁▁▁▁▁▁▁▁▁▁▁▁▁▁▁▁▁</td></tr></table><br/></div><div class=\"wandb-col\"><h3>Run summary:</h3><br/><table class=\"wandb\"><tr><td>acc</td><td>0.76836</td></tr><tr><td>loss</td><td>0.00446</td></tr></table><br/></div></div>"
            ]
          },
          "metadata": {}
        },
        {
          "output_type": "display_data",
          "data": {
            "text/plain": [
              "<IPython.core.display.HTML object>"
            ],
            "text/html": [
              "Synced <strong style=\"color:#cdcd00\">MLP_GAN_30</strong>: <a href=\"https://wandb.ai/ahsen/NIDS/runs/3rlk8tdj\" target=\"_blank\">https://wandb.ai/ahsen/NIDS/runs/3rlk8tdj</a><br/>Synced 5 W&B file(s), 0 media file(s), 0 artifact file(s) and 0 other file(s)"
            ]
          },
          "metadata": {}
        },
        {
          "output_type": "display_data",
          "data": {
            "text/plain": [
              "<IPython.core.display.HTML object>"
            ],
            "text/html": [
              "Find logs at: <code>./wandb/run-20220430_150625-3rlk8tdj/logs</code>"
            ]
          },
          "metadata": {}
        },
        {
          "output_type": "display_data",
          "data": {
            "text/plain": [
              "<IPython.core.display.HTML object>"
            ],
            "text/html": [
              "Tracking run with wandb version 0.12.15"
            ]
          },
          "metadata": {}
        },
        {
          "output_type": "display_data",
          "data": {
            "text/plain": [
              "<IPython.core.display.HTML object>"
            ],
            "text/html": [
              "Run data is saved locally in <code>/content/wandb/run-20220430_150849-3jeycpda</code>"
            ]
          },
          "metadata": {}
        },
        {
          "output_type": "display_data",
          "data": {
            "text/plain": [
              "<IPython.core.display.HTML object>"
            ],
            "text/html": [
              "Syncing run <strong><a href=\"https://wandb.ai/ahsen/NIDS/runs/3jeycpda\" target=\"_blank\">MLP_GAN_31</a></strong> to <a href=\"https://wandb.ai/ahsen/NIDS\" target=\"_blank\">Weights & Biases</a> (<a href=\"https://wandb.me/run\" target=\"_blank\">docs</a>)<br/>"
            ]
          },
          "metadata": {}
        },
        {
          "output_type": "stream",
          "name": "stdout",
          "text": [
            "===============================================\n",
            "Batch Size:256\tEpochs:55\tLR:0.01\n",
            "------------------------------------------------\n",
            "Epoch:1  \tLoss:0.1315\t Acc: 0.7577\n",
            "------------------------------------------------\n",
            "Epoch:2  \tLoss:0.0836\t Acc: 0.7830\n",
            "------------------------------------------------\n",
            "Epoch:3  \tLoss:0.0563\t Acc: 0.7944\n",
            "------------------------------------------------\n",
            "Epoch:4  \tLoss:0.0411\t Acc: 0.7932\n",
            "------------------------------------------------\n",
            "Epoch:5  \tLoss:0.0292\t Acc: 0.7884\n",
            "------------------------------------------------\n",
            "Epoch:6  \tLoss:0.0215\t Acc: 0.7975\n",
            "------------------------------------------------\n",
            "Epoch:7  \tLoss:0.0194\t Acc: 0.7941\n",
            "------------------------------------------------\n",
            "Epoch:8  \tLoss:0.0175\t Acc: 0.7996\n",
            "------------------------------------------------\n",
            "Epoch:9  \tLoss:0.0174\t Acc: 0.7986\n",
            "------------------------------------------------\n",
            "Epoch:10  \tLoss:0.0170\t Acc: 0.7990\n",
            "------------------------------------------------\n",
            "Epoch:11  \tLoss:0.0164\t Acc: 0.8003\n",
            "------------------------------------------------\n",
            "Epoch:12  \tLoss:0.0179\t Acc: 0.8015\n",
            "------------------------------------------------\n",
            "Epoch:13  \tLoss:0.0147\t Acc: 0.8014\n",
            "------------------------------------------------\n",
            "Epoch:14  \tLoss:0.0157\t Acc: 0.7992\n",
            "------------------------------------------------\n",
            "Epoch:15  \tLoss:0.0120\t Acc: 0.8029\n",
            "------------------------------------------------\n",
            "Epoch:16  \tLoss:0.0152\t Acc: 0.8023\n",
            "------------------------------------------------\n",
            "Epoch:17  \tLoss:0.0125\t Acc: 0.8036\n",
            "------------------------------------------------\n",
            "Epoch:18  \tLoss:0.0145\t Acc: 0.8039\n",
            "------------------------------------------------\n",
            "Epoch:19  \tLoss:0.0109\t Acc: 0.8054\n",
            "------------------------------------------------\n",
            "Epoch:20  \tLoss:0.0145\t Acc: 0.8037\n",
            "------------------------------------------------\n",
            "Epoch:21  \tLoss:0.0096\t Acc: 0.8077\n",
            "------------------------------------------------\n",
            "Epoch:22  \tLoss:0.0093\t Acc: 0.8069\n",
            "------------------------------------------------\n",
            "Epoch:23  \tLoss:0.0128\t Acc: 0.8070\n",
            "------------------------------------------------\n",
            "Epoch:24  \tLoss:0.0094\t Acc: 0.8072\n",
            "------------------------------------------------\n",
            "Epoch:25  \tLoss:0.0099\t Acc: 0.8106\n",
            "------------------------------------------------\n",
            "Epoch:26  \tLoss:0.0082\t Acc: 0.8113\n",
            "------------------------------------------------\n",
            "Epoch:27  \tLoss:0.0109\t Acc: 0.8123\n",
            "------------------------------------------------\n",
            "Epoch:28  \tLoss:0.0096\t Acc: 0.8128\n",
            "------------------------------------------------\n",
            "Epoch:29  \tLoss:0.0090\t Acc: 0.8121\n",
            "------------------------------------------------\n",
            "Epoch:30  \tLoss:0.0140\t Acc: 0.8102\n",
            "------------------------------------------------\n",
            "Epoch:31  \tLoss:0.0087\t Acc: 0.8133\n",
            "------------------------------------------------\n",
            "Epoch:32  \tLoss:0.0096\t Acc: 0.8153\n",
            "------------------------------------------------\n",
            "Epoch:33  \tLoss:0.0057\t Acc: 0.8127\n",
            "------------------------------------------------\n",
            "Epoch:34  \tLoss:0.0081\t Acc: 0.8176\n",
            "------------------------------------------------\n",
            "Epoch:35  \tLoss:0.0088\t Acc: 0.8162\n",
            "------------------------------------------------\n",
            "Epoch:36  \tLoss:0.0084\t Acc: 0.8181\n",
            "------------------------------------------------\n",
            "Epoch:37  \tLoss:0.0101\t Acc: 0.8183\n",
            "------------------------------------------------\n",
            "Epoch:38  \tLoss:0.0085\t Acc: 0.8201\n",
            "------------------------------------------------\n",
            "Epoch:39  \tLoss:0.0112\t Acc: 0.8219\n",
            "------------------------------------------------\n",
            "Epoch:40  \tLoss:0.0114\t Acc: 0.8251\n",
            "------------------------------------------------\n",
            "Epoch:41  \tLoss:0.0091\t Acc: 0.8215\n",
            "------------------------------------------------\n",
            "Epoch:42  \tLoss:0.0093\t Acc: 0.8271\n",
            "------------------------------------------------\n",
            "Epoch:43  \tLoss:0.0099\t Acc: 0.8241\n",
            "------------------------------------------------\n",
            "Epoch:44  \tLoss:0.0093\t Acc: 0.8265\n",
            "------------------------------------------------\n",
            "Epoch:45  \tLoss:0.0173\t Acc: 0.8088\n",
            "------------------------------------------------\n",
            "Epoch:46  \tLoss:0.0162\t Acc: 0.8179\n",
            "------------------------------------------------\n",
            "Epoch:47  \tLoss:0.0076\t Acc: 0.8184\n",
            "------------------------------------------------\n",
            "Epoch:48  \tLoss:0.0164\t Acc: 0.8088\n",
            "------------------------------------------------\n",
            "Epoch:49  \tLoss:0.0062\t Acc: 0.8155\n",
            "------------------------------------------------\n",
            "Epoch:50  \tLoss:0.0069\t Acc: 0.8206\n",
            "------------------------------------------------\n",
            "Epoch:51  \tLoss:0.0093\t Acc: 0.8262\n",
            "------------------------------------------------\n",
            "Epoch:52  \tLoss:0.0090\t Acc: 0.8270\n",
            "------------------------------------------------\n",
            "Epoch:53  \tLoss:0.0054\t Acc: 0.8229\n",
            "------------------------------------------------\n",
            "Epoch:54  \tLoss:0.0067\t Acc: 0.8216\n",
            "------------------------------------------------\n",
            "Epoch:55  \tLoss:0.0174\t Acc: 0.8163\n",
            "*************************************************\n",
            "Final Score for (B:256, Ep:55, LR:0.01)\n",
            "Acc: 0.8163\n"
          ]
        },
        {
          "output_type": "display_data",
          "data": {
            "text/plain": [
              "<IPython.core.display.HTML object>"
            ],
            "text/html": [
              "Waiting for W&B process to finish... <strong style=\"color:green\">(success).</strong>"
            ]
          },
          "metadata": {}
        },
        {
          "output_type": "display_data",
          "data": {
            "text/plain": [
              "VBox(children=(Label(value='0.001 MB of 0.001 MB uploaded (0.000 MB deduped)\\r'), FloatProgress(value=1.0, max…"
            ],
            "application/vnd.jupyter.widget-view+json": {
              "version_major": 2,
              "version_minor": 0,
              "model_id": "bf60fa90ce9b455286d3d38172d236de"
            }
          },
          "metadata": {}
        },
        {
          "output_type": "display_data",
          "data": {
            "text/plain": [
              "<IPython.core.display.HTML object>"
            ],
            "text/html": [
              "<style>\n",
              "    table.wandb td:nth-child(1) { padding: 0 10px; text-align: right }\n",
              "    .wandb-row { display: flex; flex-direction: row; flex-wrap: wrap; width: 100% }\n",
              "    .wandb-col { display: flex; flex-direction: column; flex-basis: 100%; flex: 1; padding: 10px; }\n",
              "    </style>\n",
              "<div class=\"wandb-row\"><div class=\"wandb-col\"><h3>Run history:</h3><br/><table class=\"wandb\"><tr><td>acc</td><td>▁</td></tr><tr><td>loss</td><td>█▅▄▂▂▂▂▂▂▂▂▂▁▁▂▁▁▁▁▁▁▁▁▁▁▁▁▁▁▁▁▁▂▂▂▁▁▁▁▂</td></tr></table><br/></div><div class=\"wandb-col\"><h3>Run summary:</h3><br/><table class=\"wandb\"><tr><td>acc</td><td>0.81631</td></tr><tr><td>loss</td><td>0.0174</td></tr></table><br/></div></div>"
            ]
          },
          "metadata": {}
        },
        {
          "output_type": "display_data",
          "data": {
            "text/plain": [
              "<IPython.core.display.HTML object>"
            ],
            "text/html": [
              "Synced <strong style=\"color:#cdcd00\">MLP_GAN_31</strong>: <a href=\"https://wandb.ai/ahsen/NIDS/runs/3jeycpda\" target=\"_blank\">https://wandb.ai/ahsen/NIDS/runs/3jeycpda</a><br/>Synced 5 W&B file(s), 0 media file(s), 0 artifact file(s) and 0 other file(s)"
            ]
          },
          "metadata": {}
        },
        {
          "output_type": "display_data",
          "data": {
            "text/plain": [
              "<IPython.core.display.HTML object>"
            ],
            "text/html": [
              "Find logs at: <code>./wandb/run-20220430_150849-3jeycpda/logs</code>"
            ]
          },
          "metadata": {}
        },
        {
          "output_type": "display_data",
          "data": {
            "text/plain": [
              "<IPython.core.display.HTML object>"
            ],
            "text/html": [
              "Tracking run with wandb version 0.12.15"
            ]
          },
          "metadata": {}
        },
        {
          "output_type": "display_data",
          "data": {
            "text/plain": [
              "<IPython.core.display.HTML object>"
            ],
            "text/html": [
              "Run data is saved locally in <code>/content/wandb/run-20220430_151051-1tnvsv3m</code>"
            ]
          },
          "metadata": {}
        },
        {
          "output_type": "display_data",
          "data": {
            "text/plain": [
              "<IPython.core.display.HTML object>"
            ],
            "text/html": [
              "Syncing run <strong><a href=\"https://wandb.ai/ahsen/NIDS/runs/1tnvsv3m\" target=\"_blank\">MLP_GAN_32</a></strong> to <a href=\"https://wandb.ai/ahsen/NIDS\" target=\"_blank\">Weights & Biases</a> (<a href=\"https://wandb.me/run\" target=\"_blank\">docs</a>)<br/>"
            ]
          },
          "metadata": {}
        },
        {
          "output_type": "stream",
          "name": "stdout",
          "text": [
            "===============================================\n",
            "Batch Size:32\tEpochs:55\tLR:0.1\n",
            "------------------------------------------------\n",
            "Epoch:1  \tLoss:0.0137\t Acc: 0.7548\n",
            "------------------------------------------------\n",
            "Epoch:2  \tLoss:0.0078\t Acc: 0.7751\n",
            "------------------------------------------------\n",
            "Epoch:3  \tLoss:0.0038\t Acc: 0.7643\n",
            "------------------------------------------------\n",
            "Epoch:4  \tLoss:0.0054\t Acc: 0.7679\n",
            "------------------------------------------------\n",
            "Epoch:5  \tLoss:0.0060\t Acc: 0.7621\n",
            "------------------------------------------------\n",
            "Epoch:6  \tLoss:0.0048\t Acc: 0.7636\n",
            "------------------------------------------------\n",
            "Epoch:7  \tLoss:0.0046\t Acc: 0.7758\n",
            "------------------------------------------------\n",
            "Epoch:8  \tLoss:0.0051\t Acc: 0.7708\n",
            "------------------------------------------------\n",
            "Epoch:9  \tLoss:0.0032\t Acc: 0.7579\n",
            "------------------------------------------------\n",
            "Epoch:10  \tLoss:0.0027\t Acc: 0.7570\n",
            "------------------------------------------------\n",
            "Epoch:11  \tLoss:0.0031\t Acc: 0.7665\n",
            "------------------------------------------------\n",
            "Epoch:12  \tLoss:0.0033\t Acc: 0.7673\n",
            "------------------------------------------------\n",
            "Epoch:13  \tLoss:0.0034\t Acc: 0.7644\n",
            "------------------------------------------------\n",
            "Epoch:14  \tLoss:0.0033\t Acc: 0.7739\n",
            "------------------------------------------------\n",
            "Epoch:15  \tLoss:0.0032\t Acc: 0.7737\n",
            "------------------------------------------------\n",
            "Epoch:16  \tLoss:0.0024\t Acc: 0.7739\n",
            "------------------------------------------------\n",
            "Epoch:17  \tLoss:0.0024\t Acc: 0.7712\n",
            "------------------------------------------------\n",
            "Epoch:18  \tLoss:0.0023\t Acc: 0.7733\n",
            "------------------------------------------------\n",
            "Epoch:19  \tLoss:0.0026\t Acc: 0.7730\n",
            "------------------------------------------------\n",
            "Epoch:20  \tLoss:0.0025\t Acc: 0.7714\n",
            "------------------------------------------------\n",
            "Epoch:21  \tLoss:0.0023\t Acc: 0.7734\n",
            "------------------------------------------------\n",
            "Epoch:22  \tLoss:0.0029\t Acc: 0.7728\n",
            "------------------------------------------------\n",
            "Epoch:23  \tLoss:0.0027\t Acc: 0.7678\n",
            "------------------------------------------------\n",
            "Epoch:24  \tLoss:0.0023\t Acc: 0.7703\n",
            "------------------------------------------------\n",
            "Epoch:25  \tLoss:0.0023\t Acc: 0.7701\n",
            "------------------------------------------------\n",
            "Epoch:26  \tLoss:0.0019\t Acc: 0.7695\n",
            "------------------------------------------------\n",
            "Epoch:27  \tLoss:0.0032\t Acc: 0.7642\n",
            "------------------------------------------------\n",
            "Epoch:28  \tLoss:0.0038\t Acc: 0.7657\n",
            "------------------------------------------------\n",
            "Epoch:29  \tLoss:0.0029\t Acc: 0.7709\n",
            "------------------------------------------------\n",
            "Epoch:30  \tLoss:0.0032\t Acc: 0.7662\n",
            "------------------------------------------------\n",
            "Epoch:31  \tLoss:0.0021\t Acc: 0.7718\n",
            "------------------------------------------------\n",
            "Epoch:32  \tLoss:0.0022\t Acc: 0.7697\n",
            "------------------------------------------------\n",
            "Epoch:33  \tLoss:0.0018\t Acc: 0.7652\n",
            "------------------------------------------------\n",
            "Epoch:34  \tLoss:0.0016\t Acc: 0.7665\n",
            "------------------------------------------------\n",
            "Epoch:35  \tLoss:0.0014\t Acc: 0.7669\n",
            "------------------------------------------------\n",
            "Epoch:36  \tLoss:0.0013\t Acc: 0.7675\n",
            "------------------------------------------------\n",
            "Epoch:37  \tLoss:0.0009\t Acc: 0.7672\n",
            "------------------------------------------------\n",
            "Epoch:38  \tLoss:0.0011\t Acc: 0.7625\n",
            "------------------------------------------------\n",
            "Epoch:39  \tLoss:0.0012\t Acc: 0.7643\n",
            "------------------------------------------------\n",
            "Epoch:40  \tLoss:0.0012\t Acc: 0.7667\n",
            "------------------------------------------------\n",
            "Epoch:41  \tLoss:0.0011\t Acc: 0.7626\n",
            "------------------------------------------------\n",
            "Epoch:42  \tLoss:0.0012\t Acc: 0.7654\n",
            "------------------------------------------------\n",
            "Epoch:43  \tLoss:0.0011\t Acc: 0.7658\n",
            "------------------------------------------------\n",
            "Epoch:44  \tLoss:0.0012\t Acc: 0.7653\n",
            "------------------------------------------------\n",
            "Epoch:45  \tLoss:0.0010\t Acc: 0.7653\n",
            "------------------------------------------------\n",
            "Epoch:46  \tLoss:0.0009\t Acc: 0.7661\n",
            "------------------------------------------------\n",
            "Epoch:47  \tLoss:0.0013\t Acc: 0.7658\n",
            "------------------------------------------------\n",
            "Epoch:48  \tLoss:0.0012\t Acc: 0.7656\n",
            "------------------------------------------------\n",
            "Epoch:49  \tLoss:0.0011\t Acc: 0.7660\n",
            "------------------------------------------------\n",
            "Epoch:50  \tLoss:0.0012\t Acc: 0.7662\n",
            "------------------------------------------------\n",
            "Epoch:51  \tLoss:0.0013\t Acc: 0.7656\n",
            "------------------------------------------------\n",
            "Epoch:52  \tLoss:0.0012\t Acc: 0.7671\n",
            "------------------------------------------------\n",
            "Epoch:53  \tLoss:0.0008\t Acc: 0.7809\n",
            "------------------------------------------------\n",
            "Epoch:54  \tLoss:0.0009\t Acc: 0.7786\n",
            "------------------------------------------------\n",
            "Epoch:55  \tLoss:0.0008\t Acc: 0.7805\n",
            "*************************************************\n",
            "Final Score for (B:32, Ep:55, LR:0.1)\n",
            "Acc: 0.7805\n"
          ]
        },
        {
          "output_type": "display_data",
          "data": {
            "text/plain": [
              "<IPython.core.display.HTML object>"
            ],
            "text/html": [
              "Waiting for W&B process to finish... <strong style=\"color:green\">(success).</strong>"
            ]
          },
          "metadata": {}
        },
        {
          "output_type": "display_data",
          "data": {
            "text/plain": [
              "VBox(children=(Label(value='0.001 MB of 0.001 MB uploaded (0.000 MB deduped)\\r'), FloatProgress(value=1.0, max…"
            ],
            "application/vnd.jupyter.widget-view+json": {
              "version_major": 2,
              "version_minor": 0,
              "model_id": "9ab9860a690f47e1961eb845a7354e0e"
            }
          },
          "metadata": {}
        },
        {
          "output_type": "display_data",
          "data": {
            "text/plain": [
              "<IPython.core.display.HTML object>"
            ],
            "text/html": [
              "<style>\n",
              "    table.wandb td:nth-child(1) { padding: 0 10px; text-align: right }\n",
              "    .wandb-row { display: flex; flex-direction: row; flex-wrap: wrap; width: 100% }\n",
              "    .wandb-col { display: flex; flex-direction: column; flex-basis: 100%; flex: 1; padding: 10px; }\n",
              "    </style>\n",
              "<div class=\"wandb-row\"><div class=\"wandb-col\"><h3>Run history:</h3><br/><table class=\"wandb\"><tr><td>acc</td><td>▁</td></tr><tr><td>loss</td><td>█▅▃▄▃▃▂▂▂▂▂▂▂▂▂▂▂▂▂▂▃▂▂▂▁▁▁▁▁▁▁▁▁▁▁▁▁▁▁▁</td></tr></table><br/></div><div class=\"wandb-col\"><h3>Run summary:</h3><br/><table class=\"wandb\"><tr><td>acc</td><td>0.78047</td></tr><tr><td>loss</td><td>0.00085</td></tr></table><br/></div></div>"
            ]
          },
          "metadata": {}
        },
        {
          "output_type": "display_data",
          "data": {
            "text/plain": [
              "<IPython.core.display.HTML object>"
            ],
            "text/html": [
              "Synced <strong style=\"color:#cdcd00\">MLP_GAN_32</strong>: <a href=\"https://wandb.ai/ahsen/NIDS/runs/1tnvsv3m\" target=\"_blank\">https://wandb.ai/ahsen/NIDS/runs/1tnvsv3m</a><br/>Synced 5 W&B file(s), 0 media file(s), 0 artifact file(s) and 0 other file(s)"
            ]
          },
          "metadata": {}
        },
        {
          "output_type": "display_data",
          "data": {
            "text/plain": [
              "<IPython.core.display.HTML object>"
            ],
            "text/html": [
              "Find logs at: <code>./wandb/run-20220430_151051-1tnvsv3m/logs</code>"
            ]
          },
          "metadata": {}
        },
        {
          "output_type": "display_data",
          "data": {
            "text/plain": [
              "<IPython.core.display.HTML object>"
            ],
            "text/html": [
              "Tracking run with wandb version 0.12.15"
            ]
          },
          "metadata": {}
        },
        {
          "output_type": "display_data",
          "data": {
            "text/plain": [
              "<IPython.core.display.HTML object>"
            ],
            "text/html": [
              "Run data is saved locally in <code>/content/wandb/run-20220430_151612-2ugdml4z</code>"
            ]
          },
          "metadata": {}
        },
        {
          "output_type": "display_data",
          "data": {
            "text/plain": [
              "<IPython.core.display.HTML object>"
            ],
            "text/html": [
              "Syncing run <strong><a href=\"https://wandb.ai/ahsen/NIDS/runs/2ugdml4z\" target=\"_blank\">MLP_GAN_33</a></strong> to <a href=\"https://wandb.ai/ahsen/NIDS\" target=\"_blank\">Weights & Biases</a> (<a href=\"https://wandb.me/run\" target=\"_blank\">docs</a>)<br/>"
            ]
          },
          "metadata": {}
        },
        {
          "output_type": "stream",
          "name": "stdout",
          "text": [
            "===============================================\n",
            "Batch Size:64\tEpochs:55\tLR:0.1\n",
            "------------------------------------------------\n",
            "Epoch:1  \tLoss:0.0267\t Acc: 0.7553\n",
            "------------------------------------------------\n",
            "Epoch:2  \tLoss:0.0280\t Acc: 0.7942\n",
            "------------------------------------------------\n",
            "Epoch:3  \tLoss:0.0196\t Acc: 0.7863\n",
            "------------------------------------------------\n",
            "Epoch:4  \tLoss:0.0114\t Acc: 0.7785\n",
            "------------------------------------------------\n",
            "Epoch:5  \tLoss:0.0155\t Acc: 0.7834\n",
            "------------------------------------------------\n",
            "Epoch:6  \tLoss:0.0200\t Acc: 0.7843\n",
            "------------------------------------------------\n",
            "Epoch:7  \tLoss:0.0118\t Acc: 0.7662\n",
            "------------------------------------------------\n",
            "Epoch:8  \tLoss:0.0118\t Acc: 0.7736\n",
            "------------------------------------------------\n",
            "Epoch:9  \tLoss:0.0133\t Acc: 0.7668\n",
            "------------------------------------------------\n",
            "Epoch:10  \tLoss:0.0113\t Acc: 0.7714\n",
            "------------------------------------------------\n",
            "Epoch:11  \tLoss:0.0125\t Acc: 0.7679\n",
            "------------------------------------------------\n",
            "Epoch:12  \tLoss:0.0143\t Acc: 0.7698\n",
            "------------------------------------------------\n",
            "Epoch:13  \tLoss:0.0099\t Acc: 0.7685\n",
            "------------------------------------------------\n",
            "Epoch:14  \tLoss:0.0088\t Acc: 0.7648\n",
            "------------------------------------------------\n",
            "Epoch:15  \tLoss:0.0081\t Acc: 0.7715\n",
            "------------------------------------------------\n",
            "Epoch:16  \tLoss:0.0080\t Acc: 0.7739\n",
            "------------------------------------------------\n",
            "Epoch:17  \tLoss:0.0085\t Acc: 0.7785\n",
            "------------------------------------------------\n",
            "Epoch:18  \tLoss:0.0065\t Acc: 0.7778\n",
            "------------------------------------------------\n",
            "Epoch:19  \tLoss:0.0070\t Acc: 0.7771\n",
            "------------------------------------------------\n",
            "Epoch:20  \tLoss:0.0074\t Acc: 0.7775\n",
            "------------------------------------------------\n",
            "Epoch:21  \tLoss:0.0089\t Acc: 0.7824\n",
            "------------------------------------------------\n",
            "Epoch:22  \tLoss:0.0098\t Acc: 0.7823\n",
            "------------------------------------------------\n",
            "Epoch:23  \tLoss:0.0104\t Acc: 0.7795\n",
            "------------------------------------------------\n",
            "Epoch:24  \tLoss:0.0079\t Acc: 0.7811\n",
            "------------------------------------------------\n",
            "Epoch:25  \tLoss:0.0095\t Acc: 0.7842\n",
            "------------------------------------------------\n",
            "Epoch:26  \tLoss:0.0073\t Acc: 0.7868\n",
            "------------------------------------------------\n",
            "Epoch:27  \tLoss:0.0082\t Acc: 0.7890\n",
            "------------------------------------------------\n",
            "Epoch:28  \tLoss:0.0084\t Acc: 0.7904\n",
            "------------------------------------------------\n",
            "Epoch:29  \tLoss:0.0059\t Acc: 0.7797\n",
            "------------------------------------------------\n",
            "Epoch:30  \tLoss:0.0067\t Acc: 0.7841\n",
            "------------------------------------------------\n",
            "Epoch:31  \tLoss:0.0071\t Acc: 0.7867\n",
            "------------------------------------------------\n",
            "Epoch:32  \tLoss:0.0066\t Acc: 0.7882\n",
            "------------------------------------------------\n",
            "Epoch:33  \tLoss:0.0040\t Acc: 0.7807\n",
            "------------------------------------------------\n",
            "Epoch:34  \tLoss:0.0045\t Acc: 0.7820\n",
            "------------------------------------------------\n",
            "Epoch:35  \tLoss:0.0048\t Acc: 0.7827\n",
            "------------------------------------------------\n",
            "Epoch:36  \tLoss:0.0049\t Acc: 0.7822\n",
            "------------------------------------------------\n",
            "Epoch:37  \tLoss:0.0042\t Acc: 0.7858\n",
            "------------------------------------------------\n",
            "Epoch:38  \tLoss:0.0046\t Acc: 0.7885\n",
            "------------------------------------------------\n",
            "Epoch:39  \tLoss:0.0037\t Acc: 0.7862\n",
            "------------------------------------------------\n",
            "Epoch:40  \tLoss:0.0037\t Acc: 0.7830\n",
            "------------------------------------------------\n",
            "Epoch:41  \tLoss:0.0038\t Acc: 0.7859\n",
            "------------------------------------------------\n",
            "Epoch:42  \tLoss:0.0036\t Acc: 0.7838\n",
            "------------------------------------------------\n",
            "Epoch:43  \tLoss:0.0029\t Acc: 0.7801\n",
            "------------------------------------------------\n",
            "Epoch:44  \tLoss:0.0034\t Acc: 0.7861\n",
            "------------------------------------------------\n",
            "Epoch:45  \tLoss:0.0025\t Acc: 0.7810\n",
            "------------------------------------------------\n",
            "Epoch:46  \tLoss:0.0026\t Acc: 0.7846\n",
            "------------------------------------------------\n",
            "Epoch:47  \tLoss:0.0025\t Acc: 0.7788\n",
            "------------------------------------------------\n",
            "Epoch:48  \tLoss:0.0022\t Acc: 0.7818\n",
            "------------------------------------------------\n",
            "Epoch:49  \tLoss:0.0021\t Acc: 0.7792\n",
            "------------------------------------------------\n",
            "Epoch:50  \tLoss:0.0015\t Acc: 0.7759\n",
            "------------------------------------------------\n",
            "Epoch:51  \tLoss:0.0016\t Acc: 0.7793\n",
            "------------------------------------------------\n",
            "Epoch:52  \tLoss:0.0015\t Acc: 0.7738\n",
            "------------------------------------------------\n",
            "Epoch:53  \tLoss:0.0014\t Acc: 0.7761\n",
            "------------------------------------------------\n",
            "Epoch:54  \tLoss:0.0013\t Acc: 0.7800\n",
            "------------------------------------------------\n",
            "Epoch:55  \tLoss:0.0011\t Acc: 0.7812\n",
            "*************************************************\n",
            "Final Score for (B:64, Ep:55, LR:0.1)\n",
            "Acc: 0.7812\n"
          ]
        },
        {
          "output_type": "display_data",
          "data": {
            "text/plain": [
              "<IPython.core.display.HTML object>"
            ],
            "text/html": [
              "Waiting for W&B process to finish... <strong style=\"color:green\">(success).</strong>"
            ]
          },
          "metadata": {}
        },
        {
          "output_type": "display_data",
          "data": {
            "text/plain": [
              "VBox(children=(Label(value='0.001 MB of 0.001 MB uploaded (0.000 MB deduped)\\r'), FloatProgress(value=1.0, max…"
            ],
            "application/vnd.jupyter.widget-view+json": {
              "version_major": 2,
              "version_minor": 0,
              "model_id": "f7b0f69436894f0e8605780bb48b7c93"
            }
          },
          "metadata": {}
        },
        {
          "output_type": "display_data",
          "data": {
            "text/plain": [
              "<IPython.core.display.HTML object>"
            ],
            "text/html": [
              "<style>\n",
              "    table.wandb td:nth-child(1) { padding: 0 10px; text-align: right }\n",
              "    .wandb-row { display: flex; flex-direction: row; flex-wrap: wrap; width: 100% }\n",
              "    .wandb-col { display: flex; flex-direction: column; flex-basis: 100%; flex: 1; padding: 10px; }\n",
              "    </style>\n",
              "<div class=\"wandb-row\"><div class=\"wandb-col\"><h3>Run history:</h3><br/><table class=\"wandb\"><tr><td>acc</td><td>▁</td></tr><tr><td>loss</td><td>██▆▅▆▄▄▄▄▃▃▃▃▃▃▃▃▃▃▃▃▂▃▂▂▂▂▂▂▂▂▁▁▁▁▁▁▁▁▁</td></tr></table><br/></div><div class=\"wandb-col\"><h3>Run summary:</h3><br/><table class=\"wandb\"><tr><td>acc</td><td>0.78118</td></tr><tr><td>loss</td><td>0.00114</td></tr></table><br/></div></div>"
            ]
          },
          "metadata": {}
        },
        {
          "output_type": "display_data",
          "data": {
            "text/plain": [
              "<IPython.core.display.HTML object>"
            ],
            "text/html": [
              "Synced <strong style=\"color:#cdcd00\">MLP_GAN_33</strong>: <a href=\"https://wandb.ai/ahsen/NIDS/runs/2ugdml4z\" target=\"_blank\">https://wandb.ai/ahsen/NIDS/runs/2ugdml4z</a><br/>Synced 5 W&B file(s), 0 media file(s), 0 artifact file(s) and 0 other file(s)"
            ]
          },
          "metadata": {}
        },
        {
          "output_type": "display_data",
          "data": {
            "text/plain": [
              "<IPython.core.display.HTML object>"
            ],
            "text/html": [
              "Find logs at: <code>./wandb/run-20220430_151612-2ugdml4z/logs</code>"
            ]
          },
          "metadata": {}
        },
        {
          "output_type": "display_data",
          "data": {
            "text/plain": [
              "<IPython.core.display.HTML object>"
            ],
            "text/html": [
              "Tracking run with wandb version 0.12.15"
            ]
          },
          "metadata": {}
        },
        {
          "output_type": "display_data",
          "data": {
            "text/plain": [
              "<IPython.core.display.HTML object>"
            ],
            "text/html": [
              "Run data is saved locally in <code>/content/wandb/run-20220430_151933-2zi2e652</code>"
            ]
          },
          "metadata": {}
        },
        {
          "output_type": "display_data",
          "data": {
            "text/plain": [
              "<IPython.core.display.HTML object>"
            ],
            "text/html": [
              "Syncing run <strong><a href=\"https://wandb.ai/ahsen/NIDS/runs/2zi2e652\" target=\"_blank\">MLP_GAN_34</a></strong> to <a href=\"https://wandb.ai/ahsen/NIDS\" target=\"_blank\">Weights & Biases</a> (<a href=\"https://wandb.me/run\" target=\"_blank\">docs</a>)<br/>"
            ]
          },
          "metadata": {}
        },
        {
          "output_type": "stream",
          "name": "stdout",
          "text": [
            "===============================================\n",
            "Batch Size:128\tEpochs:55\tLR:0.1\n",
            "------------------------------------------------\n",
            "Epoch:1  \tLoss:0.0289\t Acc: 0.7885\n",
            "------------------------------------------------\n",
            "Epoch:2  \tLoss:0.0312\t Acc: 0.8079\n",
            "------------------------------------------------\n",
            "Epoch:3  \tLoss:0.0283\t Acc: 0.7972\n",
            "------------------------------------------------\n",
            "Epoch:4  \tLoss:0.0233\t Acc: 0.7898\n",
            "------------------------------------------------\n",
            "Epoch:5  \tLoss:0.0213\t Acc: 0.8018\n",
            "------------------------------------------------\n",
            "Epoch:6  \tLoss:0.0202\t Acc: 0.7881\n",
            "------------------------------------------------\n",
            "Epoch:7  \tLoss:0.0194\t Acc: 0.7866\n",
            "------------------------------------------------\n",
            "Epoch:8  \tLoss:0.0164\t Acc: 0.7917\n",
            "------------------------------------------------\n",
            "Epoch:9  \tLoss:0.0137\t Acc: 0.7940\n",
            "------------------------------------------------\n",
            "Epoch:10  \tLoss:0.0144\t Acc: 0.7975\n",
            "------------------------------------------------\n",
            "Epoch:11  \tLoss:0.0123\t Acc: 0.7891\n",
            "------------------------------------------------\n",
            "Epoch:12  \tLoss:0.0166\t Acc: 0.7852\n",
            "------------------------------------------------\n",
            "Epoch:13  \tLoss:0.0168\t Acc: 0.7869\n",
            "------------------------------------------------\n",
            "Epoch:14  \tLoss:0.0136\t Acc: 0.8013\n",
            "------------------------------------------------\n",
            "Epoch:15  \tLoss:0.0172\t Acc: 0.7957\n",
            "------------------------------------------------\n",
            "Epoch:16  \tLoss:0.0173\t Acc: 0.7968\n",
            "------------------------------------------------\n",
            "Epoch:17  \tLoss:0.0143\t Acc: 0.7983\n",
            "------------------------------------------------\n",
            "Epoch:18  \tLoss:0.0108\t Acc: 0.8037\n",
            "------------------------------------------------\n",
            "Epoch:19  \tLoss:0.0069\t Acc: 0.7814\n",
            "------------------------------------------------\n",
            "Epoch:20  \tLoss:0.0059\t Acc: 0.7821\n",
            "------------------------------------------------\n",
            "Epoch:21  \tLoss:0.0073\t Acc: 0.7815\n",
            "------------------------------------------------\n",
            "Epoch:22  \tLoss:0.0068\t Acc: 0.7767\n",
            "------------------------------------------------\n",
            "Epoch:23  \tLoss:0.0053\t Acc: 0.7806\n",
            "------------------------------------------------\n",
            "Epoch:24  \tLoss:0.0063\t Acc: 0.7767\n",
            "------------------------------------------------\n",
            "Epoch:25  \tLoss:0.0078\t Acc: 0.7876\n",
            "------------------------------------------------\n",
            "Epoch:26  \tLoss:0.0054\t Acc: 0.7953\n",
            "------------------------------------------------\n",
            "Epoch:27  \tLoss:0.0044\t Acc: 0.7855\n",
            "------------------------------------------------\n",
            "Epoch:28  \tLoss:0.0046\t Acc: 0.7787\n",
            "------------------------------------------------\n",
            "Epoch:29  \tLoss:0.0063\t Acc: 0.7977\n",
            "------------------------------------------------\n",
            "Epoch:30  \tLoss:0.0072\t Acc: 0.7799\n",
            "------------------------------------------------\n",
            "Epoch:31  \tLoss:0.0060\t Acc: 0.7763\n",
            "------------------------------------------------\n",
            "Epoch:32  \tLoss:0.0079\t Acc: 0.7873\n",
            "------------------------------------------------\n",
            "Epoch:33  \tLoss:0.0062\t Acc: 0.7962\n",
            "------------------------------------------------\n",
            "Epoch:34  \tLoss:0.0070\t Acc: 0.7936\n",
            "------------------------------------------------\n",
            "Epoch:35  \tLoss:0.0053\t Acc: 0.7860\n",
            "------------------------------------------------\n",
            "Epoch:36  \tLoss:0.0089\t Acc: 0.7924\n",
            "------------------------------------------------\n",
            "Epoch:37  \tLoss:0.0116\t Acc: 0.7748\n",
            "------------------------------------------------\n",
            "Epoch:38  \tLoss:0.0111\t Acc: 0.7807\n",
            "------------------------------------------------\n",
            "Epoch:39  \tLoss:0.0107\t Acc: 0.7861\n",
            "------------------------------------------------\n",
            "Epoch:40  \tLoss:0.0091\t Acc: 0.7887\n",
            "------------------------------------------------\n",
            "Epoch:41  \tLoss:0.0081\t Acc: 0.7902\n",
            "------------------------------------------------\n",
            "Epoch:42  \tLoss:0.0064\t Acc: 0.7786\n",
            "------------------------------------------------\n",
            "Epoch:43  \tLoss:0.0059\t Acc: 0.7925\n",
            "------------------------------------------------\n",
            "Epoch:44  \tLoss:0.0101\t Acc: 0.7747\n",
            "------------------------------------------------\n",
            "Epoch:45  \tLoss:0.0072\t Acc: 0.7752\n",
            "------------------------------------------------\n",
            "Epoch:46  \tLoss:0.0096\t Acc: 0.7870\n",
            "------------------------------------------------\n",
            "Epoch:47  \tLoss:0.0066\t Acc: 0.7804\n",
            "------------------------------------------------\n",
            "Epoch:48  \tLoss:0.0058\t Acc: 0.7826\n",
            "------------------------------------------------\n",
            "Epoch:49  \tLoss:0.0058\t Acc: 0.7805\n",
            "------------------------------------------------\n",
            "Epoch:50  \tLoss:0.0055\t Acc: 0.7741\n",
            "------------------------------------------------\n",
            "Epoch:51  \tLoss:0.0050\t Acc: 0.7760\n",
            "------------------------------------------------\n",
            "Epoch:52  \tLoss:0.0050\t Acc: 0.7753\n",
            "------------------------------------------------\n",
            "Epoch:53  \tLoss:0.0058\t Acc: 0.7787\n",
            "------------------------------------------------\n",
            "Epoch:54  \tLoss:0.0045\t Acc: 0.7821\n",
            "------------------------------------------------\n",
            "Epoch:55  \tLoss:0.0024\t Acc: 0.7885\n",
            "*************************************************\n",
            "Final Score for (B:128, Ep:55, LR:0.1)\n",
            "Acc: 0.7885\n"
          ]
        },
        {
          "output_type": "display_data",
          "data": {
            "text/plain": [
              "<IPython.core.display.HTML object>"
            ],
            "text/html": [
              "Waiting for W&B process to finish... <strong style=\"color:green\">(success).</strong>"
            ]
          },
          "metadata": {}
        },
        {
          "output_type": "display_data",
          "data": {
            "text/plain": [
              "VBox(children=(Label(value='0.001 MB of 0.001 MB uploaded (0.000 MB deduped)\\r'), FloatProgress(value=1.0, max…"
            ],
            "application/vnd.jupyter.widget-view+json": {
              "version_major": 2,
              "version_minor": 0,
              "model_id": "5c64fb8bb3464052bd55589207e59563"
            }
          },
          "metadata": {}
        },
        {
          "output_type": "display_data",
          "data": {
            "text/plain": [
              "<IPython.core.display.HTML object>"
            ],
            "text/html": [
              "<style>\n",
              "    table.wandb td:nth-child(1) { padding: 0 10px; text-align: right }\n",
              "    .wandb-row { display: flex; flex-direction: row; flex-wrap: wrap; width: 100% }\n",
              "    .wandb-col { display: flex; flex-direction: column; flex-basis: 100%; flex: 1; padding: 10px; }\n",
              "    </style>\n",
              "<div class=\"wandb-row\"><div class=\"wandb-col\"><h3>Run history:</h3><br/><table class=\"wandb\"><tr><td>acc</td><td>▁</td></tr><tr><td>loss</td><td>▇█▇▆▅▅▄▄▄▅▄▅▄▂▂▂▂▂▂▁▂▂▂▂▂▂▃▃▃▂▂▂▂▃▂▂▂▂▂▁</td></tr></table><br/></div><div class=\"wandb-col\"><h3>Run summary:</h3><br/><table class=\"wandb\"><tr><td>acc</td><td>0.7885</td></tr><tr><td>loss</td><td>0.00239</td></tr></table><br/></div></div>"
            ]
          },
          "metadata": {}
        },
        {
          "output_type": "display_data",
          "data": {
            "text/plain": [
              "<IPython.core.display.HTML object>"
            ],
            "text/html": [
              "Synced <strong style=\"color:#cdcd00\">MLP_GAN_34</strong>: <a href=\"https://wandb.ai/ahsen/NIDS/runs/2zi2e652\" target=\"_blank\">https://wandb.ai/ahsen/NIDS/runs/2zi2e652</a><br/>Synced 5 W&B file(s), 0 media file(s), 0 artifact file(s) and 0 other file(s)"
            ]
          },
          "metadata": {}
        },
        {
          "output_type": "display_data",
          "data": {
            "text/plain": [
              "<IPython.core.display.HTML object>"
            ],
            "text/html": [
              "Find logs at: <code>./wandb/run-20220430_151933-2zi2e652/logs</code>"
            ]
          },
          "metadata": {}
        },
        {
          "output_type": "display_data",
          "data": {
            "text/plain": [
              "<IPython.core.display.HTML object>"
            ],
            "text/html": [
              "Tracking run with wandb version 0.12.15"
            ]
          },
          "metadata": {}
        },
        {
          "output_type": "display_data",
          "data": {
            "text/plain": [
              "<IPython.core.display.HTML object>"
            ],
            "text/html": [
              "Run data is saved locally in <code>/content/wandb/run-20220430_152206-3pr73ky5</code>"
            ]
          },
          "metadata": {}
        },
        {
          "output_type": "display_data",
          "data": {
            "text/plain": [
              "<IPython.core.display.HTML object>"
            ],
            "text/html": [
              "Syncing run <strong><a href=\"https://wandb.ai/ahsen/NIDS/runs/3pr73ky5\" target=\"_blank\">MLP_GAN_35</a></strong> to <a href=\"https://wandb.ai/ahsen/NIDS\" target=\"_blank\">Weights & Biases</a> (<a href=\"https://wandb.me/run\" target=\"_blank\">docs</a>)<br/>"
            ]
          },
          "metadata": {}
        },
        {
          "output_type": "stream",
          "name": "stdout",
          "text": [
            "===============================================\n",
            "Batch Size:256\tEpochs:55\tLR:0.1\n",
            "------------------------------------------------\n",
            "Epoch:1  \tLoss:0.0312\t Acc: 0.7997\n",
            "------------------------------------------------\n",
            "Epoch:2  \tLoss:0.0213\t Acc: 0.7851\n",
            "------------------------------------------------\n",
            "Epoch:3  \tLoss:0.0251\t Acc: 0.8046\n",
            "------------------------------------------------\n",
            "Epoch:4  \tLoss:0.0220\t Acc: 0.8024\n",
            "------------------------------------------------\n",
            "Epoch:5  \tLoss:0.0188\t Acc: 0.8049\n",
            "------------------------------------------------\n",
            "Epoch:6  \tLoss:0.0208\t Acc: 0.7960\n",
            "------------------------------------------------\n",
            "Epoch:7  \tLoss:0.0147\t Acc: 0.8011\n",
            "------------------------------------------------\n",
            "Epoch:8  \tLoss:0.0152\t Acc: 0.8061\n",
            "------------------------------------------------\n",
            "Epoch:9  \tLoss:0.0153\t Acc: 0.7996\n",
            "------------------------------------------------\n",
            "Epoch:10  \tLoss:0.0164\t Acc: 0.8025\n",
            "------------------------------------------------\n",
            "Epoch:11  \tLoss:0.0163\t Acc: 0.8027\n",
            "------------------------------------------------\n",
            "Epoch:12  \tLoss:0.0119\t Acc: 0.8022\n",
            "------------------------------------------------\n",
            "Epoch:13  \tLoss:0.0097\t Acc: 0.8007\n",
            "------------------------------------------------\n",
            "Epoch:14  \tLoss:0.0112\t Acc: 0.8009\n",
            "------------------------------------------------\n",
            "Epoch:15  \tLoss:0.0199\t Acc: 0.7968\n",
            "------------------------------------------------\n",
            "Epoch:16  \tLoss:0.0151\t Acc: 0.7998\n",
            "------------------------------------------------\n",
            "Epoch:17  \tLoss:0.0102\t Acc: 0.7998\n",
            "------------------------------------------------\n",
            "Epoch:18  \tLoss:0.0104\t Acc: 0.8035\n",
            "------------------------------------------------\n",
            "Epoch:19  \tLoss:0.0144\t Acc: 0.7999\n",
            "------------------------------------------------\n",
            "Epoch:20  \tLoss:0.0104\t Acc: 0.8016\n",
            "------------------------------------------------\n",
            "Epoch:21  \tLoss:0.0089\t Acc: 0.7998\n",
            "------------------------------------------------\n",
            "Epoch:22  \tLoss:0.0098\t Acc: 0.7997\n",
            "------------------------------------------------\n",
            "Epoch:23  \tLoss:0.0122\t Acc: 0.8009\n",
            "------------------------------------------------\n",
            "Epoch:24  \tLoss:0.0126\t Acc: 0.8015\n",
            "------------------------------------------------\n",
            "Epoch:25  \tLoss:0.0123\t Acc: 0.8025\n",
            "------------------------------------------------\n",
            "Epoch:26  \tLoss:0.0140\t Acc: 0.8050\n",
            "------------------------------------------------\n",
            "Epoch:27  \tLoss:0.0119\t Acc: 0.8021\n",
            "------------------------------------------------\n",
            "Epoch:28  \tLoss:0.0138\t Acc: 0.8053\n",
            "------------------------------------------------\n",
            "Epoch:29  \tLoss:0.0114\t Acc: 0.8026\n",
            "------------------------------------------------\n",
            "Epoch:30  \tLoss:0.0138\t Acc: 0.8024\n",
            "------------------------------------------------\n",
            "Epoch:31  \tLoss:0.0098\t Acc: 0.7879\n",
            "------------------------------------------------\n",
            "Epoch:32  \tLoss:0.0097\t Acc: 0.7904\n",
            "------------------------------------------------\n",
            "Epoch:33  \tLoss:0.0195\t Acc: 0.8054\n",
            "------------------------------------------------\n",
            "Epoch:34  \tLoss:0.0108\t Acc: 0.7912\n",
            "------------------------------------------------\n",
            "Epoch:35  \tLoss:0.0119\t Acc: 0.7914\n",
            "------------------------------------------------\n",
            "Epoch:36  \tLoss:0.0162\t Acc: 0.7827\n",
            "------------------------------------------------\n",
            "Epoch:37  \tLoss:0.0543\t Acc: 0.8086\n",
            "------------------------------------------------\n",
            "Epoch:38  \tLoss:0.0401\t Acc: 0.8056\n",
            "------------------------------------------------\n",
            "Epoch:39  \tLoss:0.0303\t Acc: 0.8035\n",
            "------------------------------------------------\n",
            "Epoch:40  \tLoss:0.0297\t Acc: 0.8059\n",
            "------------------------------------------------\n",
            "Epoch:41  \tLoss:0.0356\t Acc: 0.8046\n",
            "------------------------------------------------\n",
            "Epoch:42  \tLoss:0.0276\t Acc: 0.8032\n",
            "------------------------------------------------\n",
            "Epoch:43  \tLoss:0.0194\t Acc: 0.7990\n",
            "------------------------------------------------\n",
            "Epoch:44  \tLoss:0.0256\t Acc: 0.8039\n",
            "------------------------------------------------\n",
            "Epoch:45  \tLoss:0.0175\t Acc: 0.8021\n",
            "------------------------------------------------\n",
            "Epoch:46  \tLoss:0.0246\t Acc: 0.8036\n",
            "------------------------------------------------\n",
            "Epoch:47  \tLoss:0.0277\t Acc: 0.8034\n",
            "------------------------------------------------\n",
            "Epoch:48  \tLoss:0.0222\t Acc: 0.8036\n",
            "------------------------------------------------\n",
            "Epoch:49  \tLoss:0.0207\t Acc: 0.7929\n",
            "------------------------------------------------\n",
            "Epoch:50  \tLoss:0.0204\t Acc: 0.8035\n",
            "------------------------------------------------\n",
            "Epoch:51  \tLoss:0.0263\t Acc: 0.7987\n",
            "------------------------------------------------\n",
            "Epoch:52  \tLoss:0.0204\t Acc: 0.7927\n",
            "------------------------------------------------\n",
            "Epoch:53  \tLoss:0.0210\t Acc: 0.8052\n",
            "------------------------------------------------\n",
            "Epoch:54  \tLoss:0.0142\t Acc: 0.8036\n",
            "------------------------------------------------\n",
            "Epoch:55  \tLoss:0.0164\t Acc: 0.7942\n",
            "*************************************************\n",
            "Final Score for (B:256, Ep:55, LR:0.1)\n",
            "Acc: 0.7942\n"
          ]
        },
        {
          "output_type": "display_data",
          "data": {
            "text/plain": [
              "<IPython.core.display.HTML object>"
            ],
            "text/html": [
              "Waiting for W&B process to finish... <strong style=\"color:green\">(success).</strong>"
            ]
          },
          "metadata": {}
        },
        {
          "output_type": "display_data",
          "data": {
            "text/plain": [
              "VBox(children=(Label(value='0.001 MB of 0.001 MB uploaded (0.000 MB deduped)\\r'), FloatProgress(value=1.0, max…"
            ],
            "application/vnd.jupyter.widget-view+json": {
              "version_major": 2,
              "version_minor": 0,
              "model_id": "be8e5857303a44dd9ca73fa278611636"
            }
          },
          "metadata": {}
        },
        {
          "output_type": "display_data",
          "data": {
            "text/plain": [
              "<IPython.core.display.HTML object>"
            ],
            "text/html": [
              "<style>\n",
              "    table.wandb td:nth-child(1) { padding: 0 10px; text-align: right }\n",
              "    .wandb-row { display: flex; flex-direction: row; flex-wrap: wrap; width: 100% }\n",
              "    .wandb-col { display: flex; flex-direction: column; flex-basis: 100%; flex: 1; padding: 10px; }\n",
              "    </style>\n",
              "<div class=\"wandb-row\"><div class=\"wandb-col\"><h3>Run history:</h3><br/><table class=\"wandb\"><tr><td>acc</td><td>▁</td></tr><tr><td>loss</td><td>▄▃▃▃▃▂▂▂▁▁▁▂▁▂▁▁▂▂▂▁▂▂▁▁▁▁█▆▄▅▄▃▂▃▃▃▃▃▃▂</td></tr></table><br/></div><div class=\"wandb-col\"><h3>Run summary:</h3><br/><table class=\"wandb\"><tr><td>acc</td><td>0.79418</td></tr><tr><td>loss</td><td>0.01644</td></tr></table><br/></div></div>"
            ]
          },
          "metadata": {}
        },
        {
          "output_type": "display_data",
          "data": {
            "text/plain": [
              "<IPython.core.display.HTML object>"
            ],
            "text/html": [
              "Synced <strong style=\"color:#cdcd00\">MLP_GAN_35</strong>: <a href=\"https://wandb.ai/ahsen/NIDS/runs/3pr73ky5\" target=\"_blank\">https://wandb.ai/ahsen/NIDS/runs/3pr73ky5</a><br/>Synced 5 W&B file(s), 0 media file(s), 0 artifact file(s) and 0 other file(s)"
            ]
          },
          "metadata": {}
        },
        {
          "output_type": "display_data",
          "data": {
            "text/plain": [
              "<IPython.core.display.HTML object>"
            ],
            "text/html": [
              "Find logs at: <code>./wandb/run-20220430_152206-3pr73ky5/logs</code>"
            ]
          },
          "metadata": {}
        },
        {
          "output_type": "display_data",
          "data": {
            "text/plain": [
              "<IPython.core.display.HTML object>"
            ],
            "text/html": [
              "Tracking run with wandb version 0.12.15"
            ]
          },
          "metadata": {}
        },
        {
          "output_type": "display_data",
          "data": {
            "text/plain": [
              "<IPython.core.display.HTML object>"
            ],
            "text/html": [
              "Run data is saved locally in <code>/content/wandb/run-20220430_152422-1tzpie1y</code>"
            ]
          },
          "metadata": {}
        },
        {
          "output_type": "display_data",
          "data": {
            "text/plain": [
              "<IPython.core.display.HTML object>"
            ],
            "text/html": [
              "Syncing run <strong><a href=\"https://wandb.ai/ahsen/NIDS/runs/1tzpie1y\" target=\"_blank\">MLP_GAN_36</a></strong> to <a href=\"https://wandb.ai/ahsen/NIDS\" target=\"_blank\">Weights & Biases</a> (<a href=\"https://wandb.me/run\" target=\"_blank\">docs</a>)<br/>"
            ]
          },
          "metadata": {}
        },
        {
          "output_type": "stream",
          "name": "stdout",
          "text": [
            "===============================================\n",
            "Batch Size:32\tEpochs:70\tLR:0.001\n",
            "------------------------------------------------\n",
            "Epoch:1  \tLoss:0.0662\t Acc: 0.7576\n",
            "------------------------------------------------\n",
            "Epoch:2  \tLoss:0.0341\t Acc: 0.7798\n",
            "------------------------------------------------\n",
            "Epoch:3  \tLoss:0.0201\t Acc: 0.7838\n",
            "------------------------------------------------\n",
            "Epoch:4  \tLoss:0.0128\t Acc: 0.7829\n",
            "------------------------------------------------\n",
            "Epoch:5  \tLoss:0.0134\t Acc: 0.7782\n",
            "------------------------------------------------\n",
            "Epoch:6  \tLoss:0.0118\t Acc: 0.7706\n",
            "------------------------------------------------\n",
            "Epoch:7  \tLoss:0.0075\t Acc: 0.7696\n",
            "------------------------------------------------\n",
            "Epoch:8  \tLoss:0.0093\t Acc: 0.7699\n",
            "------------------------------------------------\n",
            "Epoch:9  \tLoss:0.0095\t Acc: 0.7690\n",
            "------------------------------------------------\n",
            "Epoch:10  \tLoss:0.0076\t Acc: 0.7691\n",
            "------------------------------------------------\n",
            "Epoch:11  \tLoss:0.0062\t Acc: 0.7718\n",
            "------------------------------------------------\n",
            "Epoch:12  \tLoss:0.0077\t Acc: 0.7731\n",
            "------------------------------------------------\n",
            "Epoch:13  \tLoss:0.0069\t Acc: 0.7732\n",
            "------------------------------------------------\n",
            "Epoch:14  \tLoss:0.0056\t Acc: 0.7733\n",
            "------------------------------------------------\n",
            "Epoch:15  \tLoss:0.0051\t Acc: 0.7725\n",
            "------------------------------------------------\n",
            "Epoch:16  \tLoss:0.0046\t Acc: 0.7728\n",
            "------------------------------------------------\n",
            "Epoch:17  \tLoss:0.0052\t Acc: 0.7747\n",
            "------------------------------------------------\n",
            "Epoch:18  \tLoss:0.0063\t Acc: 0.7709\n",
            "------------------------------------------------\n",
            "Epoch:19  \tLoss:0.0060\t Acc: 0.7712\n",
            "------------------------------------------------\n",
            "Epoch:20  \tLoss:0.0060\t Acc: 0.7702\n",
            "------------------------------------------------\n",
            "Epoch:21  \tLoss:0.0048\t Acc: 0.7731\n",
            "------------------------------------------------\n",
            "Epoch:22  \tLoss:0.0038\t Acc: 0.7744\n",
            "------------------------------------------------\n",
            "Epoch:23  \tLoss:0.0052\t Acc: 0.7779\n",
            "------------------------------------------------\n",
            "Epoch:24  \tLoss:0.0047\t Acc: 0.7728\n",
            "------------------------------------------------\n",
            "Epoch:25  \tLoss:0.0053\t Acc: 0.7688\n",
            "------------------------------------------------\n",
            "Epoch:26  \tLoss:0.0045\t Acc: 0.7739\n",
            "------------------------------------------------\n",
            "Epoch:27  \tLoss:0.0031\t Acc: 0.7748\n",
            "------------------------------------------------\n",
            "Epoch:28  \tLoss:0.0030\t Acc: 0.7767\n",
            "------------------------------------------------\n",
            "Epoch:29  \tLoss:0.0044\t Acc: 0.7791\n",
            "------------------------------------------------\n",
            "Epoch:30  \tLoss:0.0048\t Acc: 0.7793\n",
            "------------------------------------------------\n",
            "Epoch:31  \tLoss:0.0049\t Acc: 0.7719\n",
            "------------------------------------------------\n",
            "Epoch:32  \tLoss:0.0040\t Acc: 0.7739\n",
            "------------------------------------------------\n",
            "Epoch:33  \tLoss:0.0039\t Acc: 0.7734\n",
            "------------------------------------------------\n",
            "Epoch:34  \tLoss:0.0029\t Acc: 0.7727\n",
            "------------------------------------------------\n",
            "Epoch:35  \tLoss:0.0028\t Acc: 0.7730\n",
            "------------------------------------------------\n",
            "Epoch:36  \tLoss:0.0037\t Acc: 0.7750\n",
            "------------------------------------------------\n",
            "Epoch:37  \tLoss:0.0047\t Acc: 0.7720\n",
            "------------------------------------------------\n",
            "Epoch:38  \tLoss:0.0049\t Acc: 0.7733\n",
            "------------------------------------------------\n",
            "Epoch:39  \tLoss:0.0045\t Acc: 0.7724\n",
            "------------------------------------------------\n",
            "Epoch:40  \tLoss:0.0034\t Acc: 0.7712\n",
            "------------------------------------------------\n",
            "Epoch:41  \tLoss:0.0030\t Acc: 0.7710\n",
            "------------------------------------------------\n",
            "Epoch:42  \tLoss:0.0030\t Acc: 0.7742\n",
            "------------------------------------------------\n",
            "Epoch:43  \tLoss:0.0024\t Acc: 0.7689\n",
            "------------------------------------------------\n",
            "Epoch:44  \tLoss:0.0019\t Acc: 0.7712\n",
            "------------------------------------------------\n",
            "Epoch:45  \tLoss:0.0077\t Acc: 0.7699\n",
            "------------------------------------------------\n",
            "Epoch:46  \tLoss:0.0042\t Acc: 0.7697\n",
            "------------------------------------------------\n",
            "Epoch:47  \tLoss:0.0079\t Acc: 0.7710\n",
            "------------------------------------------------\n",
            "Epoch:48  \tLoss:0.0021\t Acc: 0.7717\n",
            "------------------------------------------------\n",
            "Epoch:49  \tLoss:0.0026\t Acc: 0.7720\n",
            "------------------------------------------------\n",
            "Epoch:50  \tLoss:0.0035\t Acc: 0.7719\n",
            "------------------------------------------------\n",
            "Epoch:51  \tLoss:0.0027\t Acc: 0.7715\n",
            "------------------------------------------------\n",
            "Epoch:52  \tLoss:0.0022\t Acc: 0.7730\n",
            "------------------------------------------------\n",
            "Epoch:53  \tLoss:0.0036\t Acc: 0.7714\n",
            "------------------------------------------------\n",
            "Epoch:54  \tLoss:0.0022\t Acc: 0.7708\n",
            "------------------------------------------------\n",
            "Epoch:55  \tLoss:0.0082\t Acc: 0.7734\n",
            "------------------------------------------------\n",
            "Epoch:56  \tLoss:0.0037\t Acc: 0.7689\n",
            "------------------------------------------------\n",
            "Epoch:57  \tLoss:0.0067\t Acc: 0.7685\n",
            "------------------------------------------------\n",
            "Epoch:58  \tLoss:0.0067\t Acc: 0.7731\n",
            "------------------------------------------------\n",
            "Epoch:59  \tLoss:0.0095\t Acc: 0.7685\n",
            "------------------------------------------------\n",
            "Epoch:60  \tLoss:0.0056\t Acc: 0.7724\n",
            "------------------------------------------------\n",
            "Epoch:61  \tLoss:0.0049\t Acc: 0.7689\n",
            "------------------------------------------------\n",
            "Epoch:62  \tLoss:0.0038\t Acc: 0.7706\n",
            "------------------------------------------------\n",
            "Epoch:63  \tLoss:0.0038\t Acc: 0.7712\n",
            "------------------------------------------------\n",
            "Epoch:64  \tLoss:0.0038\t Acc: 0.7704\n",
            "------------------------------------------------\n",
            "Epoch:65  \tLoss:0.0060\t Acc: 0.7716\n",
            "------------------------------------------------\n",
            "Epoch:66  \tLoss:0.0041\t Acc: 0.7701\n",
            "------------------------------------------------\n",
            "Epoch:67  \tLoss:0.0074\t Acc: 0.7671\n",
            "------------------------------------------------\n",
            "Epoch:68  \tLoss:0.0033\t Acc: 0.7703\n",
            "------------------------------------------------\n",
            "Epoch:69  \tLoss:0.0041\t Acc: 0.7683\n",
            "------------------------------------------------\n",
            "Epoch:70  \tLoss:0.0059\t Acc: 0.7684\n",
            "*************************************************\n",
            "Final Score for (B:32, Ep:70, LR:0.001)\n",
            "Acc: 0.7684\n"
          ]
        },
        {
          "output_type": "display_data",
          "data": {
            "text/plain": [
              "<IPython.core.display.HTML object>"
            ],
            "text/html": [
              "Waiting for W&B process to finish... <strong style=\"color:green\">(success).</strong>"
            ]
          },
          "metadata": {}
        },
        {
          "output_type": "display_data",
          "data": {
            "text/plain": [
              "VBox(children=(Label(value='0.001 MB of 0.001 MB uploaded (0.000 MB deduped)\\r'), FloatProgress(value=1.0, max…"
            ],
            "application/vnd.jupyter.widget-view+json": {
              "version_major": 2,
              "version_minor": 0,
              "model_id": "aec7192f2af0431881ecd29b2451a892"
            }
          },
          "metadata": {}
        },
        {
          "output_type": "display_data",
          "data": {
            "text/plain": [
              "<IPython.core.display.HTML object>"
            ],
            "text/html": [
              "<style>\n",
              "    table.wandb td:nth-child(1) { padding: 0 10px; text-align: right }\n",
              "    .wandb-row { display: flex; flex-direction: row; flex-wrap: wrap; width: 100% }\n",
              "    .wandb-col { display: flex; flex-direction: column; flex-basis: 100%; flex: 1; padding: 10px; }\n",
              "    </style>\n",
              "<div class=\"wandb-row\"><div class=\"wandb-col\"><h3>Run history:</h3><br/><table class=\"wandb\"><tr><td>acc</td><td>▁</td></tr><tr><td>loss</td><td>█▄▂▂▂▂▁▂▁▁▁▁▁▁▁▁▁▁▁▁▁▁▁▁▁▂▂▁▁▁▁▂▂▂▁▁▁▁▁▁</td></tr></table><br/></div><div class=\"wandb-col\"><h3>Run summary:</h3><br/><table class=\"wandb\"><tr><td>acc</td><td>0.76841</td></tr><tr><td>loss</td><td>0.00588</td></tr></table><br/></div></div>"
            ]
          },
          "metadata": {}
        },
        {
          "output_type": "display_data",
          "data": {
            "text/plain": [
              "<IPython.core.display.HTML object>"
            ],
            "text/html": [
              "Synced <strong style=\"color:#cdcd00\">MLP_GAN_36</strong>: <a href=\"https://wandb.ai/ahsen/NIDS/runs/1tzpie1y\" target=\"_blank\">https://wandb.ai/ahsen/NIDS/runs/1tzpie1y</a><br/>Synced 5 W&B file(s), 0 media file(s), 0 artifact file(s) and 0 other file(s)"
            ]
          },
          "metadata": {}
        },
        {
          "output_type": "display_data",
          "data": {
            "text/plain": [
              "<IPython.core.display.HTML object>"
            ],
            "text/html": [
              "Find logs at: <code>./wandb/run-20220430_152422-1tzpie1y/logs</code>"
            ]
          },
          "metadata": {}
        },
        {
          "output_type": "display_data",
          "data": {
            "text/plain": [
              "<IPython.core.display.HTML object>"
            ],
            "text/html": [
              "Tracking run with wandb version 0.12.15"
            ]
          },
          "metadata": {}
        },
        {
          "output_type": "display_data",
          "data": {
            "text/plain": [
              "<IPython.core.display.HTML object>"
            ],
            "text/html": [
              "Run data is saved locally in <code>/content/wandb/run-20220430_153110-32irbksx</code>"
            ]
          },
          "metadata": {}
        },
        {
          "output_type": "display_data",
          "data": {
            "text/plain": [
              "<IPython.core.display.HTML object>"
            ],
            "text/html": [
              "Syncing run <strong><a href=\"https://wandb.ai/ahsen/NIDS/runs/32irbksx\" target=\"_blank\">MLP_GAN_37</a></strong> to <a href=\"https://wandb.ai/ahsen/NIDS\" target=\"_blank\">Weights & Biases</a> (<a href=\"https://wandb.me/run\" target=\"_blank\">docs</a>)<br/>"
            ]
          },
          "metadata": {}
        },
        {
          "output_type": "stream",
          "name": "stdout",
          "text": [
            "===============================================\n",
            "Batch Size:64\tEpochs:70\tLR:0.001\n",
            "------------------------------------------------\n",
            "Epoch:1  \tLoss:0.1911\t Acc: 0.7458\n",
            "------------------------------------------------\n",
            "Epoch:2  \tLoss:0.1277\t Acc: 0.7645\n",
            "------------------------------------------------\n",
            "Epoch:3  \tLoss:0.0997\t Acc: 0.7807\n",
            "------------------------------------------------\n",
            "Epoch:4  \tLoss:0.0814\t Acc: 0.7895\n",
            "------------------------------------------------\n",
            "Epoch:5  \tLoss:0.0617\t Acc: 0.7947\n",
            "------------------------------------------------\n",
            "Epoch:6  \tLoss:0.0549\t Acc: 0.7978\n",
            "------------------------------------------------\n",
            "Epoch:7  \tLoss:0.0461\t Acc: 0.8000\n",
            "------------------------------------------------\n",
            "Epoch:8  \tLoss:0.0406\t Acc: 0.7966\n",
            "------------------------------------------------\n",
            "Epoch:9  \tLoss:0.0377\t Acc: 0.7993\n",
            "------------------------------------------------\n",
            "Epoch:10  \tLoss:0.0361\t Acc: 0.8012\n",
            "------------------------------------------------\n",
            "Epoch:11  \tLoss:0.0327\t Acc: 0.8012\n",
            "------------------------------------------------\n",
            "Epoch:12  \tLoss:0.0319\t Acc: 0.7998\n",
            "------------------------------------------------\n",
            "Epoch:13  \tLoss:0.0303\t Acc: 0.7984\n",
            "------------------------------------------------\n",
            "Epoch:14  \tLoss:0.0281\t Acc: 0.7986\n",
            "------------------------------------------------\n",
            "Epoch:15  \tLoss:0.0264\t Acc: 0.7984\n",
            "------------------------------------------------\n",
            "Epoch:16  \tLoss:0.0258\t Acc: 0.7990\n",
            "------------------------------------------------\n",
            "Epoch:17  \tLoss:0.0251\t Acc: 0.7990\n",
            "------------------------------------------------\n",
            "Epoch:18  \tLoss:0.0219\t Acc: 0.8003\n",
            "------------------------------------------------\n",
            "Epoch:19  \tLoss:0.0212\t Acc: 0.8003\n",
            "------------------------------------------------\n",
            "Epoch:20  \tLoss:0.0198\t Acc: 0.8014\n",
            "------------------------------------------------\n",
            "Epoch:21  \tLoss:0.0191\t Acc: 0.8005\n",
            "------------------------------------------------\n",
            "Epoch:22  \tLoss:0.0173\t Acc: 0.8031\n",
            "------------------------------------------------\n",
            "Epoch:23  \tLoss:0.0170\t Acc: 0.8042\n",
            "------------------------------------------------\n",
            "Epoch:24  \tLoss:0.0169\t Acc: 0.8023\n",
            "------------------------------------------------\n",
            "Epoch:25  \tLoss:0.0163\t Acc: 0.8047\n",
            "------------------------------------------------\n",
            "Epoch:26  \tLoss:0.0157\t Acc: 0.8042\n",
            "------------------------------------------------\n",
            "Epoch:27  \tLoss:0.0154\t Acc: 0.8018\n",
            "------------------------------------------------\n",
            "Epoch:28  \tLoss:0.0150\t Acc: 0.8027\n",
            "------------------------------------------------\n",
            "Epoch:29  \tLoss:0.0146\t Acc: 0.8009\n",
            "------------------------------------------------\n",
            "Epoch:30  \tLoss:0.0144\t Acc: 0.8004\n",
            "------------------------------------------------\n",
            "Epoch:31  \tLoss:0.0137\t Acc: 0.7992\n",
            "------------------------------------------------\n",
            "Epoch:32  \tLoss:0.0137\t Acc: 0.7995\n",
            "------------------------------------------------\n",
            "Epoch:33  \tLoss:0.0134\t Acc: 0.8011\n",
            "------------------------------------------------\n",
            "Epoch:34  \tLoss:0.0131\t Acc: 0.7997\n",
            "------------------------------------------------\n",
            "Epoch:35  \tLoss:0.0132\t Acc: 0.8037\n",
            "------------------------------------------------\n",
            "Epoch:36  \tLoss:0.0121\t Acc: 0.8020\n",
            "------------------------------------------------\n",
            "Epoch:37  \tLoss:0.0118\t Acc: 0.8032\n",
            "------------------------------------------------\n",
            "Epoch:38  \tLoss:0.0112\t Acc: 0.8005\n",
            "------------------------------------------------\n",
            "Epoch:39  \tLoss:0.0104\t Acc: 0.8018\n",
            "------------------------------------------------\n",
            "Epoch:40  \tLoss:0.0105\t Acc: 0.8008\n",
            "------------------------------------------------\n",
            "Epoch:41  \tLoss:0.0101\t Acc: 0.8010\n",
            "------------------------------------------------\n",
            "Epoch:42  \tLoss:0.0102\t Acc: 0.8024\n",
            "------------------------------------------------\n",
            "Epoch:43  \tLoss:0.0097\t Acc: 0.8038\n",
            "------------------------------------------------\n",
            "Epoch:44  \tLoss:0.0099\t Acc: 0.8033\n",
            "------------------------------------------------\n",
            "Epoch:45  \tLoss:0.0094\t Acc: 0.8036\n",
            "------------------------------------------------\n",
            "Epoch:46  \tLoss:0.0108\t Acc: 0.8033\n",
            "------------------------------------------------\n",
            "Epoch:47  \tLoss:0.0100\t Acc: 0.8028\n",
            "------------------------------------------------\n",
            "Epoch:48  \tLoss:0.0083\t Acc: 0.8046\n",
            "------------------------------------------------\n",
            "Epoch:49  \tLoss:0.0100\t Acc: 0.8041\n",
            "------------------------------------------------\n",
            "Epoch:50  \tLoss:0.0096\t Acc: 0.8041\n",
            "------------------------------------------------\n",
            "Epoch:51  \tLoss:0.0089\t Acc: 0.8051\n",
            "------------------------------------------------\n",
            "Epoch:52  \tLoss:0.0090\t Acc: 0.8040\n",
            "------------------------------------------------\n",
            "Epoch:53  \tLoss:0.0063\t Acc: 0.8058\n",
            "------------------------------------------------\n",
            "Epoch:54  \tLoss:0.0082\t Acc: 0.8035\n",
            "------------------------------------------------\n",
            "Epoch:55  \tLoss:0.0084\t Acc: 0.8047\n",
            "------------------------------------------------\n",
            "Epoch:56  \tLoss:0.0080\t Acc: 0.8047\n",
            "------------------------------------------------\n",
            "Epoch:57  \tLoss:0.0084\t Acc: 0.8041\n",
            "------------------------------------------------\n",
            "Epoch:58  \tLoss:0.0074\t Acc: 0.8050\n",
            "------------------------------------------------\n",
            "Epoch:59  \tLoss:0.0074\t Acc: 0.8047\n",
            "------------------------------------------------\n",
            "Epoch:60  \tLoss:0.0080\t Acc: 0.8035\n",
            "------------------------------------------------\n",
            "Epoch:61  \tLoss:0.0073\t Acc: 0.8036\n",
            "------------------------------------------------\n",
            "Epoch:62  \tLoss:0.0072\t Acc: 0.8048\n",
            "------------------------------------------------\n",
            "Epoch:63  \tLoss:0.0054\t Acc: 0.8052\n",
            "------------------------------------------------\n",
            "Epoch:64  \tLoss:0.0074\t Acc: 0.8042\n",
            "------------------------------------------------\n",
            "Epoch:65  \tLoss:0.0073\t Acc: 0.8052\n",
            "------------------------------------------------\n",
            "Epoch:66  \tLoss:0.0060\t Acc: 0.8063\n",
            "------------------------------------------------\n",
            "Epoch:67  \tLoss:0.0053\t Acc: 0.8055\n",
            "------------------------------------------------\n",
            "Epoch:68  \tLoss:0.0068\t Acc: 0.8035\n",
            "------------------------------------------------\n",
            "Epoch:69  \tLoss:0.0059\t Acc: 0.8042\n",
            "------------------------------------------------\n",
            "Epoch:70  \tLoss:0.0050\t Acc: 0.8071\n",
            "*************************************************\n",
            "Final Score for (B:64, Ep:70, LR:0.001)\n",
            "Acc: 0.8071\n"
          ]
        },
        {
          "output_type": "display_data",
          "data": {
            "text/plain": [
              "<IPython.core.display.HTML object>"
            ],
            "text/html": [
              "Waiting for W&B process to finish... <strong style=\"color:green\">(success).</strong>"
            ]
          },
          "metadata": {}
        },
        {
          "output_type": "display_data",
          "data": {
            "text/plain": [
              "VBox(children=(Label(value='0.001 MB of 0.001 MB uploaded (0.000 MB deduped)\\r'), FloatProgress(value=1.0, max…"
            ],
            "application/vnd.jupyter.widget-view+json": {
              "version_major": 2,
              "version_minor": 0,
              "model_id": "242e5ee5f3234f668ab373f47dcb1cb7"
            }
          },
          "metadata": {}
        },
        {
          "output_type": "display_data",
          "data": {
            "text/plain": [
              "<IPython.core.display.HTML object>"
            ],
            "text/html": [
              "<style>\n",
              "    table.wandb td:nth-child(1) { padding: 0 10px; text-align: right }\n",
              "    .wandb-row { display: flex; flex-direction: row; flex-wrap: wrap; width: 100% }\n",
              "    .wandb-col { display: flex; flex-direction: column; flex-basis: 100%; flex: 1; padding: 10px; }\n",
              "    </style>\n",
              "<div class=\"wandb-row\"><div class=\"wandb-col\"><h3>Run history:</h3><br/><table class=\"wandb\"><tr><td>acc</td><td>▁</td></tr><tr><td>loss</td><td>█▆▄▃▂▂▂▂▂▂▂▂▁▁▁▁▁▁▁▁▁▁▁▁▁▁▁▁▁▁▁▁▁▁▁▁▁▁▁▁</td></tr></table><br/></div><div class=\"wandb-col\"><h3>Run summary:</h3><br/><table class=\"wandb\"><tr><td>acc</td><td>0.80709</td></tr><tr><td>loss</td><td>0.00496</td></tr></table><br/></div></div>"
            ]
          },
          "metadata": {}
        },
        {
          "output_type": "display_data",
          "data": {
            "text/plain": [
              "<IPython.core.display.HTML object>"
            ],
            "text/html": [
              "Synced <strong style=\"color:#cdcd00\">MLP_GAN_37</strong>: <a href=\"https://wandb.ai/ahsen/NIDS/runs/32irbksx\" target=\"_blank\">https://wandb.ai/ahsen/NIDS/runs/32irbksx</a><br/>Synced 5 W&B file(s), 0 media file(s), 0 artifact file(s) and 0 other file(s)"
            ]
          },
          "metadata": {}
        },
        {
          "output_type": "display_data",
          "data": {
            "text/plain": [
              "<IPython.core.display.HTML object>"
            ],
            "text/html": [
              "Find logs at: <code>./wandb/run-20220430_153110-32irbksx/logs</code>"
            ]
          },
          "metadata": {}
        },
        {
          "output_type": "display_data",
          "data": {
            "text/plain": [
              "<IPython.core.display.HTML object>"
            ],
            "text/html": [
              "Tracking run with wandb version 0.12.15"
            ]
          },
          "metadata": {}
        },
        {
          "output_type": "display_data",
          "data": {
            "text/plain": [
              "<IPython.core.display.HTML object>"
            ],
            "text/html": [
              "Run data is saved locally in <code>/content/wandb/run-20220430_153531-2e3skync</code>"
            ]
          },
          "metadata": {}
        },
        {
          "output_type": "display_data",
          "data": {
            "text/plain": [
              "<IPython.core.display.HTML object>"
            ],
            "text/html": [
              "Syncing run <strong><a href=\"https://wandb.ai/ahsen/NIDS/runs/2e3skync\" target=\"_blank\">MLP_GAN_38</a></strong> to <a href=\"https://wandb.ai/ahsen/NIDS\" target=\"_blank\">Weights & Biases</a> (<a href=\"https://wandb.me/run\" target=\"_blank\">docs</a>)<br/>"
            ]
          },
          "metadata": {}
        },
        {
          "output_type": "stream",
          "name": "stdout",
          "text": [
            "===============================================\n",
            "Batch Size:128\tEpochs:70\tLR:0.001\n",
            "------------------------------------------------\n",
            "Epoch:1  \tLoss:0.2771\t Acc: 0.7049\n",
            "------------------------------------------------\n",
            "Epoch:2  \tLoss:0.1850\t Acc: 0.7096\n",
            "------------------------------------------------\n",
            "Epoch:3  \tLoss:0.1471\t Acc: 0.7284\n",
            "------------------------------------------------\n",
            "Epoch:4  \tLoss:0.1249\t Acc: 0.7378\n",
            "------------------------------------------------\n",
            "Epoch:5  \tLoss:0.1068\t Acc: 0.7441\n",
            "------------------------------------------------\n",
            "Epoch:6  \tLoss:0.0903\t Acc: 0.7506\n",
            "------------------------------------------------\n",
            "Epoch:7  \tLoss:0.0766\t Acc: 0.7565\n",
            "------------------------------------------------\n",
            "Epoch:8  \tLoss:0.0670\t Acc: 0.7627\n",
            "------------------------------------------------\n",
            "Epoch:9  \tLoss:0.0598\t Acc: 0.7653\n",
            "------------------------------------------------\n",
            "Epoch:10  \tLoss:0.0543\t Acc: 0.7680\n",
            "------------------------------------------------\n",
            "Epoch:11  \tLoss:0.0510\t Acc: 0.7698\n",
            "------------------------------------------------\n",
            "Epoch:12  \tLoss:0.0475\t Acc: 0.7710\n",
            "------------------------------------------------\n",
            "Epoch:13  \tLoss:0.0448\t Acc: 0.7724\n",
            "------------------------------------------------\n",
            "Epoch:14  \tLoss:0.0425\t Acc: 0.7735\n",
            "------------------------------------------------\n",
            "Epoch:15  \tLoss:0.0404\t Acc: 0.7744\n",
            "------------------------------------------------\n",
            "Epoch:16  \tLoss:0.0392\t Acc: 0.7752\n",
            "------------------------------------------------\n",
            "Epoch:17  \tLoss:0.0377\t Acc: 0.7759\n",
            "------------------------------------------------\n",
            "Epoch:18  \tLoss:0.0360\t Acc: 0.7762\n",
            "------------------------------------------------\n",
            "Epoch:19  \tLoss:0.0347\t Acc: 0.7773\n",
            "------------------------------------------------\n",
            "Epoch:20  \tLoss:0.0335\t Acc: 0.7775\n",
            "------------------------------------------------\n",
            "Epoch:21  \tLoss:0.0325\t Acc: 0.7770\n",
            "------------------------------------------------\n",
            "Epoch:22  \tLoss:0.0318\t Acc: 0.7772\n",
            "------------------------------------------------\n",
            "Epoch:23  \tLoss:0.0310\t Acc: 0.7774\n",
            "------------------------------------------------\n",
            "Epoch:24  \tLoss:0.0304\t Acc: 0.7765\n",
            "------------------------------------------------\n",
            "Epoch:25  \tLoss:0.0298\t Acc: 0.7759\n",
            "------------------------------------------------\n",
            "Epoch:26  \tLoss:0.0290\t Acc: 0.7745\n",
            "------------------------------------------------\n",
            "Epoch:27  \tLoss:0.0285\t Acc: 0.7745\n",
            "------------------------------------------------\n",
            "Epoch:28  \tLoss:0.0281\t Acc: 0.7749\n",
            "------------------------------------------------\n",
            "Epoch:29  \tLoss:0.0277\t Acc: 0.7752\n",
            "------------------------------------------------\n",
            "Epoch:30  \tLoss:0.0278\t Acc: 0.7757\n",
            "------------------------------------------------\n",
            "Epoch:31  \tLoss:0.0274\t Acc: 0.7767\n",
            "------------------------------------------------\n",
            "Epoch:32  \tLoss:0.0270\t Acc: 0.7768\n",
            "------------------------------------------------\n",
            "Epoch:33  \tLoss:0.0271\t Acc: 0.7774\n",
            "------------------------------------------------\n",
            "Epoch:34  \tLoss:0.0265\t Acc: 0.7775\n",
            "------------------------------------------------\n",
            "Epoch:35  \tLoss:0.0262\t Acc: 0.7775\n",
            "------------------------------------------------\n",
            "Epoch:36  \tLoss:0.0261\t Acc: 0.7777\n",
            "------------------------------------------------\n",
            "Epoch:37  \tLoss:0.0262\t Acc: 0.7771\n",
            "------------------------------------------------\n",
            "Epoch:38  \tLoss:0.0263\t Acc: 0.7771\n",
            "------------------------------------------------\n",
            "Epoch:39  \tLoss:0.0261\t Acc: 0.7777\n",
            "------------------------------------------------\n",
            "Epoch:40  \tLoss:0.0264\t Acc: 0.7793\n",
            "------------------------------------------------\n",
            "Epoch:41  \tLoss:0.0261\t Acc: 0.7800\n",
            "------------------------------------------------\n",
            "Epoch:42  \tLoss:0.0261\t Acc: 0.7805\n",
            "------------------------------------------------\n",
            "Epoch:43  \tLoss:0.0259\t Acc: 0.7811\n",
            "------------------------------------------------\n",
            "Epoch:44  \tLoss:0.0245\t Acc: 0.7815\n",
            "------------------------------------------------\n",
            "Epoch:45  \tLoss:0.0246\t Acc: 0.7828\n",
            "------------------------------------------------\n",
            "Epoch:46  \tLoss:0.0245\t Acc: 0.7836\n",
            "------------------------------------------------\n",
            "Epoch:47  \tLoss:0.0242\t Acc: 0.7853\n",
            "------------------------------------------------\n",
            "Epoch:48  \tLoss:0.0237\t Acc: 0.7851\n",
            "------------------------------------------------\n",
            "Epoch:49  \tLoss:0.0232\t Acc: 0.7857\n",
            "------------------------------------------------\n",
            "Epoch:50  \tLoss:0.0229\t Acc: 0.7860\n",
            "------------------------------------------------\n",
            "Epoch:51  \tLoss:0.0226\t Acc: 0.7859\n",
            "------------------------------------------------\n",
            "Epoch:52  \tLoss:0.0222\t Acc: 0.7859\n",
            "------------------------------------------------\n",
            "Epoch:53  \tLoss:0.0217\t Acc: 0.7863\n",
            "------------------------------------------------\n",
            "Epoch:54  \tLoss:0.0212\t Acc: 0.7867\n",
            "------------------------------------------------\n",
            "Epoch:55  \tLoss:0.0207\t Acc: 0.7869\n",
            "------------------------------------------------\n",
            "Epoch:56  \tLoss:0.0206\t Acc: 0.7871\n",
            "------------------------------------------------\n",
            "Epoch:57  \tLoss:0.0200\t Acc: 0.7871\n",
            "------------------------------------------------\n",
            "Epoch:58  \tLoss:0.0199\t Acc: 0.7875\n",
            "------------------------------------------------\n",
            "Epoch:59  \tLoss:0.0193\t Acc: 0.7880\n",
            "------------------------------------------------\n",
            "Epoch:60  \tLoss:0.0191\t Acc: 0.7885\n",
            "------------------------------------------------\n",
            "Epoch:61  \tLoss:0.0181\t Acc: 0.7889\n",
            "------------------------------------------------\n",
            "Epoch:62  \tLoss:0.0179\t Acc: 0.7893\n",
            "------------------------------------------------\n",
            "Epoch:63  \tLoss:0.0178\t Acc: 0.7900\n",
            "------------------------------------------------\n",
            "Epoch:64  \tLoss:0.0176\t Acc: 0.7910\n",
            "------------------------------------------------\n",
            "Epoch:65  \tLoss:0.0169\t Acc: 0.7912\n",
            "------------------------------------------------\n",
            "Epoch:66  \tLoss:0.0168\t Acc: 0.7918\n",
            "------------------------------------------------\n",
            "Epoch:67  \tLoss:0.0159\t Acc: 0.7933\n",
            "------------------------------------------------\n",
            "Epoch:68  \tLoss:0.0145\t Acc: 0.7943\n",
            "------------------------------------------------\n",
            "Epoch:69  \tLoss:0.0143\t Acc: 0.7945\n",
            "------------------------------------------------\n",
            "Epoch:70  \tLoss:0.0136\t Acc: 0.7948\n",
            "*************************************************\n",
            "Final Score for (B:128, Ep:70, LR:0.001)\n",
            "Acc: 0.7948\n"
          ]
        },
        {
          "output_type": "display_data",
          "data": {
            "text/plain": [
              "<IPython.core.display.HTML object>"
            ],
            "text/html": [
              "Waiting for W&B process to finish... <strong style=\"color:green\">(success).</strong>"
            ]
          },
          "metadata": {}
        },
        {
          "output_type": "display_data",
          "data": {
            "text/plain": [
              "VBox(children=(Label(value='0.001 MB of 0.001 MB uploaded (0.000 MB deduped)\\r'), FloatProgress(value=1.0, max…"
            ],
            "application/vnd.jupyter.widget-view+json": {
              "version_major": 2,
              "version_minor": 0,
              "model_id": "50d2a4f5dbda4dafbbf7e8d7e69f66cf"
            }
          },
          "metadata": {}
        },
        {
          "output_type": "display_data",
          "data": {
            "text/plain": [
              "<IPython.core.display.HTML object>"
            ],
            "text/html": [
              "<style>\n",
              "    table.wandb td:nth-child(1) { padding: 0 10px; text-align: right }\n",
              "    .wandb-row { display: flex; flex-direction: row; flex-wrap: wrap; width: 100% }\n",
              "    .wandb-col { display: flex; flex-direction: column; flex-basis: 100%; flex: 1; padding: 10px; }\n",
              "    </style>\n",
              "<div class=\"wandb-row\"><div class=\"wandb-col\"><h3>Run history:</h3><br/><table class=\"wandb\"><tr><td>acc</td><td>▁</td></tr><tr><td>loss</td><td>█▆▄▃▂▂▂▂▂▂▂▂▁▁▁▁▁▁▁▁▁▁▁▁▁▁▁▁▁▁▁▁▁▁▁▁▁▁▁▁</td></tr></table><br/></div><div class=\"wandb-col\"><h3>Run summary:</h3><br/><table class=\"wandb\"><tr><td>acc</td><td>0.7948</td></tr><tr><td>loss</td><td>0.01357</td></tr></table><br/></div></div>"
            ]
          },
          "metadata": {}
        },
        {
          "output_type": "display_data",
          "data": {
            "text/plain": [
              "<IPython.core.display.HTML object>"
            ],
            "text/html": [
              "Synced <strong style=\"color:#cdcd00\">MLP_GAN_38</strong>: <a href=\"https://wandb.ai/ahsen/NIDS/runs/2e3skync\" target=\"_blank\">https://wandb.ai/ahsen/NIDS/runs/2e3skync</a><br/>Synced 5 W&B file(s), 0 media file(s), 0 artifact file(s) and 0 other file(s)"
            ]
          },
          "metadata": {}
        },
        {
          "output_type": "display_data",
          "data": {
            "text/plain": [
              "<IPython.core.display.HTML object>"
            ],
            "text/html": [
              "Find logs at: <code>./wandb/run-20220430_153531-2e3skync/logs</code>"
            ]
          },
          "metadata": {}
        },
        {
          "output_type": "display_data",
          "data": {
            "text/plain": [
              "<IPython.core.display.HTML object>"
            ],
            "text/html": [
              "Tracking run with wandb version 0.12.15"
            ]
          },
          "metadata": {}
        },
        {
          "output_type": "display_data",
          "data": {
            "text/plain": [
              "<IPython.core.display.HTML object>"
            ],
            "text/html": [
              "Run data is saved locally in <code>/content/wandb/run-20220430_153838-28oe537p</code>"
            ]
          },
          "metadata": {}
        },
        {
          "output_type": "display_data",
          "data": {
            "text/plain": [
              "<IPython.core.display.HTML object>"
            ],
            "text/html": [
              "Syncing run <strong><a href=\"https://wandb.ai/ahsen/NIDS/runs/28oe537p\" target=\"_blank\">MLP_GAN_39</a></strong> to <a href=\"https://wandb.ai/ahsen/NIDS\" target=\"_blank\">Weights & Biases</a> (<a href=\"https://wandb.me/run\" target=\"_blank\">docs</a>)<br/>"
            ]
          },
          "metadata": {}
        },
        {
          "output_type": "stream",
          "name": "stdout",
          "text": [
            "===============================================\n",
            "Batch Size:256\tEpochs:70\tLR:0.001\n",
            "------------------------------------------------\n",
            "Epoch:1  \tLoss:0.3990\t Acc: 0.7383\n",
            "------------------------------------------------\n",
            "Epoch:2  \tLoss:0.2905\t Acc: 0.7238\n",
            "------------------------------------------------\n",
            "Epoch:3  \tLoss:0.2316\t Acc: 0.7274\n",
            "------------------------------------------------\n",
            "Epoch:4  \tLoss:0.1950\t Acc: 0.7359\n",
            "------------------------------------------------\n",
            "Epoch:5  \tLoss:0.1714\t Acc: 0.7427\n",
            "------------------------------------------------\n",
            "Epoch:6  \tLoss:0.1539\t Acc: 0.7474\n",
            "------------------------------------------------\n",
            "Epoch:7  \tLoss:0.1404\t Acc: 0.7500\n",
            "------------------------------------------------\n",
            "Epoch:8  \tLoss:0.1290\t Acc: 0.7522\n",
            "------------------------------------------------\n",
            "Epoch:9  \tLoss:0.1187\t Acc: 0.7549\n",
            "------------------------------------------------\n",
            "Epoch:10  \tLoss:0.1095\t Acc: 0.7583\n",
            "------------------------------------------------\n",
            "Epoch:11  \tLoss:0.1022\t Acc: 0.7610\n",
            "------------------------------------------------\n",
            "Epoch:12  \tLoss:0.0963\t Acc: 0.7640\n",
            "------------------------------------------------\n",
            "Epoch:13  \tLoss:0.0917\t Acc: 0.7673\n",
            "------------------------------------------------\n",
            "Epoch:14  \tLoss:0.0880\t Acc: 0.7691\n",
            "------------------------------------------------\n",
            "Epoch:15  \tLoss:0.0848\t Acc: 0.7708\n",
            "------------------------------------------------\n",
            "Epoch:16  \tLoss:0.0819\t Acc: 0.7718\n",
            "------------------------------------------------\n",
            "Epoch:17  \tLoss:0.0793\t Acc: 0.7721\n",
            "------------------------------------------------\n",
            "Epoch:18  \tLoss:0.0768\t Acc: 0.7728\n",
            "------------------------------------------------\n",
            "Epoch:19  \tLoss:0.0739\t Acc: 0.7727\n",
            "------------------------------------------------\n",
            "Epoch:20  \tLoss:0.0713\t Acc: 0.7730\n",
            "------------------------------------------------\n",
            "Epoch:21  \tLoss:0.0688\t Acc: 0.7738\n",
            "------------------------------------------------\n",
            "Epoch:22  \tLoss:0.0665\t Acc: 0.7748\n",
            "------------------------------------------------\n",
            "Epoch:23  \tLoss:0.0653\t Acc: 0.7763\n",
            "------------------------------------------------\n",
            "Epoch:24  \tLoss:0.0645\t Acc: 0.7788\n",
            "------------------------------------------------\n",
            "Epoch:25  \tLoss:0.0638\t Acc: 0.7807\n",
            "------------------------------------------------\n",
            "Epoch:26  \tLoss:0.0628\t Acc: 0.7816\n",
            "------------------------------------------------\n",
            "Epoch:27  \tLoss:0.0625\t Acc: 0.7826\n",
            "------------------------------------------------\n",
            "Epoch:28  \tLoss:0.0624\t Acc: 0.7834\n",
            "------------------------------------------------\n",
            "Epoch:29  \tLoss:0.0617\t Acc: 0.7832\n",
            "------------------------------------------------\n",
            "Epoch:30  \tLoss:0.0613\t Acc: 0.7836\n",
            "------------------------------------------------\n",
            "Epoch:31  \tLoss:0.0609\t Acc: 0.7839\n",
            "------------------------------------------------\n",
            "Epoch:32  \tLoss:0.0605\t Acc: 0.7834\n",
            "------------------------------------------------\n",
            "Epoch:33  \tLoss:0.0592\t Acc: 0.7843\n",
            "------------------------------------------------\n",
            "Epoch:34  \tLoss:0.0569\t Acc: 0.7847\n",
            "------------------------------------------------\n",
            "Epoch:35  \tLoss:0.0550\t Acc: 0.7842\n",
            "------------------------------------------------\n",
            "Epoch:36  \tLoss:0.0528\t Acc: 0.7848\n",
            "------------------------------------------------\n",
            "Epoch:37  \tLoss:0.0505\t Acc: 0.7852\n",
            "------------------------------------------------\n",
            "Epoch:38  \tLoss:0.0477\t Acc: 0.7851\n",
            "------------------------------------------------\n",
            "Epoch:39  \tLoss:0.0448\t Acc: 0.7853\n",
            "------------------------------------------------\n",
            "Epoch:40  \tLoss:0.0422\t Acc: 0.7855\n",
            "------------------------------------------------\n",
            "Epoch:41  \tLoss:0.0389\t Acc: 0.7855\n",
            "------------------------------------------------\n",
            "Epoch:42  \tLoss:0.0363\t Acc: 0.7851\n",
            "------------------------------------------------\n",
            "Epoch:43  \tLoss:0.0356\t Acc: 0.7851\n",
            "------------------------------------------------\n",
            "Epoch:44  \tLoss:0.0349\t Acc: 0.7846\n",
            "------------------------------------------------\n",
            "Epoch:45  \tLoss:0.0343\t Acc: 0.7846\n",
            "------------------------------------------------\n",
            "Epoch:46  \tLoss:0.0338\t Acc: 0.7844\n",
            "------------------------------------------------\n",
            "Epoch:47  \tLoss:0.0332\t Acc: 0.7842\n",
            "------------------------------------------------\n",
            "Epoch:48  \tLoss:0.0327\t Acc: 0.7839\n",
            "------------------------------------------------\n",
            "Epoch:49  \tLoss:0.0322\t Acc: 0.7838\n",
            "------------------------------------------------\n",
            "Epoch:50  \tLoss:0.0316\t Acc: 0.7837\n",
            "------------------------------------------------\n",
            "Epoch:51  \tLoss:0.0310\t Acc: 0.7837\n",
            "------------------------------------------------\n",
            "Epoch:52  \tLoss:0.0306\t Acc: 0.7834\n",
            "------------------------------------------------\n",
            "Epoch:53  \tLoss:0.0299\t Acc: 0.7830\n",
            "------------------------------------------------\n",
            "Epoch:54  \tLoss:0.0292\t Acc: 0.7831\n",
            "------------------------------------------------\n",
            "Epoch:55  \tLoss:0.0284\t Acc: 0.7830\n",
            "------------------------------------------------\n",
            "Epoch:56  \tLoss:0.0277\t Acc: 0.7837\n",
            "------------------------------------------------\n",
            "Epoch:57  \tLoss:0.0266\t Acc: 0.7838\n",
            "------------------------------------------------\n",
            "Epoch:58  \tLoss:0.0253\t Acc: 0.7842\n",
            "------------------------------------------------\n",
            "Epoch:59  \tLoss:0.0245\t Acc: 0.7843\n",
            "------------------------------------------------\n",
            "Epoch:60  \tLoss:0.0238\t Acc: 0.7846\n",
            "------------------------------------------------\n",
            "Epoch:61  \tLoss:0.0236\t Acc: 0.7850\n",
            "------------------------------------------------\n",
            "Epoch:62  \tLoss:0.0234\t Acc: 0.7853\n",
            "------------------------------------------------\n",
            "Epoch:63  \tLoss:0.0230\t Acc: 0.7857\n",
            "------------------------------------------------\n",
            "Epoch:64  \tLoss:0.0227\t Acc: 0.7862\n",
            "------------------------------------------------\n",
            "Epoch:65  \tLoss:0.0220\t Acc: 0.7865\n",
            "------------------------------------------------\n",
            "Epoch:66  \tLoss:0.0220\t Acc: 0.7869\n",
            "------------------------------------------------\n",
            "Epoch:67  \tLoss:0.0217\t Acc: 0.7870\n",
            "------------------------------------------------\n",
            "Epoch:68  \tLoss:0.0216\t Acc: 0.7875\n",
            "------------------------------------------------\n",
            "Epoch:69  \tLoss:0.0213\t Acc: 0.7876\n",
            "------------------------------------------------\n",
            "Epoch:70  \tLoss:0.0208\t Acc: 0.7877\n",
            "*************************************************\n",
            "Final Score for (B:256, Ep:70, LR:0.001)\n",
            "Acc: 0.7877\n"
          ]
        },
        {
          "output_type": "display_data",
          "data": {
            "text/plain": [
              "<IPython.core.display.HTML object>"
            ],
            "text/html": [
              "Waiting for W&B process to finish... <strong style=\"color:green\">(success).</strong>"
            ]
          },
          "metadata": {}
        },
        {
          "output_type": "display_data",
          "data": {
            "text/plain": [
              "VBox(children=(Label(value='0.001 MB of 0.001 MB uploaded (0.000 MB deduped)\\r'), FloatProgress(value=1.0, max…"
            ],
            "application/vnd.jupyter.widget-view+json": {
              "version_major": 2,
              "version_minor": 0,
              "model_id": "b142fef601754110bd8b3ca6bc81f81b"
            }
          },
          "metadata": {}
        },
        {
          "output_type": "display_data",
          "data": {
            "text/plain": [
              "<IPython.core.display.HTML object>"
            ],
            "text/html": [
              "<style>\n",
              "    table.wandb td:nth-child(1) { padding: 0 10px; text-align: right }\n",
              "    .wandb-row { display: flex; flex-direction: row; flex-wrap: wrap; width: 100% }\n",
              "    .wandb-col { display: flex; flex-direction: column; flex-basis: 100%; flex: 1; padding: 10px; }\n",
              "    </style>\n",
              "<div class=\"wandb-row\"><div class=\"wandb-col\"><h3>Run history:</h3><br/><table class=\"wandb\"><tr><td>acc</td><td>▁</td></tr><tr><td>loss</td><td>█▆▄▃▃▃▃▂▂▂▂▂▂▂▂▂▂▂▂▂▂▁▁▁▁▁▁▁▁▁▁▁▁▁▁▁▁▁▁▁</td></tr></table><br/></div><div class=\"wandb-col\"><h3>Run summary:</h3><br/><table class=\"wandb\"><tr><td>acc</td><td>0.78775</td></tr><tr><td>loss</td><td>0.02084</td></tr></table><br/></div></div>"
            ]
          },
          "metadata": {}
        },
        {
          "output_type": "display_data",
          "data": {
            "text/plain": [
              "<IPython.core.display.HTML object>"
            ],
            "text/html": [
              "Synced <strong style=\"color:#cdcd00\">MLP_GAN_39</strong>: <a href=\"https://wandb.ai/ahsen/NIDS/runs/28oe537p\" target=\"_blank\">https://wandb.ai/ahsen/NIDS/runs/28oe537p</a><br/>Synced 5 W&B file(s), 0 media file(s), 0 artifact file(s) and 0 other file(s)"
            ]
          },
          "metadata": {}
        },
        {
          "output_type": "display_data",
          "data": {
            "text/plain": [
              "<IPython.core.display.HTML object>"
            ],
            "text/html": [
              "Find logs at: <code>./wandb/run-20220430_153838-28oe537p/logs</code>"
            ]
          },
          "metadata": {}
        },
        {
          "output_type": "display_data",
          "data": {
            "text/plain": [
              "<IPython.core.display.HTML object>"
            ],
            "text/html": [
              "Tracking run with wandb version 0.12.15"
            ]
          },
          "metadata": {}
        },
        {
          "output_type": "display_data",
          "data": {
            "text/plain": [
              "<IPython.core.display.HTML object>"
            ],
            "text/html": [
              "Run data is saved locally in <code>/content/wandb/run-20220430_154116-29kb4yww</code>"
            ]
          },
          "metadata": {}
        },
        {
          "output_type": "display_data",
          "data": {
            "text/plain": [
              "<IPython.core.display.HTML object>"
            ],
            "text/html": [
              "Syncing run <strong><a href=\"https://wandb.ai/ahsen/NIDS/runs/29kb4yww\" target=\"_blank\">MLP_GAN_40</a></strong> to <a href=\"https://wandb.ai/ahsen/NIDS\" target=\"_blank\">Weights & Biases</a> (<a href=\"https://wandb.me/run\" target=\"_blank\">docs</a>)<br/>"
            ]
          },
          "metadata": {}
        },
        {
          "output_type": "stream",
          "name": "stdout",
          "text": [
            "===============================================\n",
            "Batch Size:32\tEpochs:70\tLR:0.01\n",
            "------------------------------------------------\n",
            "Epoch:1  \tLoss:0.0138\t Acc: 0.7703\n",
            "------------------------------------------------\n",
            "Epoch:2  \tLoss:0.0080\t Acc: 0.7606\n",
            "------------------------------------------------\n",
            "Epoch:3  \tLoss:0.0061\t Acc: 0.7869\n",
            "------------------------------------------------\n",
            "Epoch:4  \tLoss:0.0066\t Acc: 0.7826\n",
            "------------------------------------------------\n",
            "Epoch:5  \tLoss:0.0049\t Acc: 0.7883\n",
            "------------------------------------------------\n",
            "Epoch:6  \tLoss:0.0034\t Acc: 0.7877\n",
            "------------------------------------------------\n",
            "Epoch:7  \tLoss:0.0084\t Acc: 0.7722\n",
            "------------------------------------------------\n",
            "Epoch:8  \tLoss:0.0060\t Acc: 0.7885\n",
            "------------------------------------------------\n",
            "Epoch:9  \tLoss:0.0045\t Acc: 0.7898\n",
            "------------------------------------------------\n",
            "Epoch:10  \tLoss:0.0051\t Acc: 0.7854\n",
            "------------------------------------------------\n",
            "Epoch:11  \tLoss:0.0052\t Acc: 0.7838\n",
            "------------------------------------------------\n",
            "Epoch:12  \tLoss:0.0039\t Acc: 0.7815\n",
            "------------------------------------------------\n",
            "Epoch:13  \tLoss:0.0050\t Acc: 0.7725\n",
            "------------------------------------------------\n",
            "Epoch:14  \tLoss:0.0045\t Acc: 0.7825\n",
            "------------------------------------------------\n",
            "Epoch:15  \tLoss:0.0058\t Acc: 0.7821\n",
            "------------------------------------------------\n",
            "Epoch:16  \tLoss:0.0050\t Acc: 0.7864\n",
            "------------------------------------------------\n",
            "Epoch:17  \tLoss:0.0042\t Acc: 0.7814\n",
            "------------------------------------------------\n",
            "Epoch:18  \tLoss:0.0043\t Acc: 0.7825\n",
            "------------------------------------------------\n",
            "Epoch:19  \tLoss:0.0047\t Acc: 0.7736\n",
            "------------------------------------------------\n",
            "Epoch:20  \tLoss:0.0096\t Acc: 0.7870\n",
            "------------------------------------------------\n",
            "Epoch:21  \tLoss:0.0046\t Acc: 0.7760\n",
            "------------------------------------------------\n",
            "Epoch:22  \tLoss:0.0046\t Acc: 0.7674\n",
            "------------------------------------------------\n",
            "Epoch:23  \tLoss:0.0054\t Acc: 0.7536\n",
            "------------------------------------------------\n",
            "Epoch:24  \tLoss:0.0037\t Acc: 0.7482\n",
            "------------------------------------------------\n",
            "Epoch:25  \tLoss:0.0071\t Acc: 0.7584\n",
            "------------------------------------------------\n",
            "Epoch:26  \tLoss:0.0043\t Acc: 0.7743\n",
            "------------------------------------------------\n",
            "Epoch:27  \tLoss:0.0028\t Acc: 0.7605\n",
            "------------------------------------------------\n",
            "Epoch:28  \tLoss:0.0072\t Acc: 0.7489\n",
            "------------------------------------------------\n",
            "Epoch:29  \tLoss:0.0055\t Acc: 0.7645\n",
            "------------------------------------------------\n",
            "Epoch:30  \tLoss:0.0043\t Acc: 0.7618\n",
            "------------------------------------------------\n",
            "Epoch:31  \tLoss:0.0032\t Acc: 0.7764\n",
            "------------------------------------------------\n",
            "Epoch:32  \tLoss:0.0041\t Acc: 0.7575\n",
            "------------------------------------------------\n",
            "Epoch:33  \tLoss:0.0073\t Acc: 0.7582\n",
            "------------------------------------------------\n",
            "Epoch:34  \tLoss:0.0077\t Acc: 0.7488\n",
            "------------------------------------------------\n",
            "Epoch:35  \tLoss:0.0089\t Acc: 0.7478\n",
            "------------------------------------------------\n",
            "Epoch:36  \tLoss:0.0070\t Acc: 0.7637\n",
            "------------------------------------------------\n",
            "Epoch:37  \tLoss:0.0085\t Acc: 0.7602\n",
            "------------------------------------------------\n",
            "Epoch:38  \tLoss:0.0048\t Acc: 0.7731\n",
            "------------------------------------------------\n",
            "Epoch:39  \tLoss:0.0030\t Acc: 0.7731\n",
            "------------------------------------------------\n",
            "Epoch:40  \tLoss:0.0067\t Acc: 0.7781\n",
            "------------------------------------------------\n",
            "Epoch:41  \tLoss:0.0028\t Acc: 0.7687\n",
            "------------------------------------------------\n",
            "Epoch:42  \tLoss:0.0069\t Acc: 0.7638\n",
            "------------------------------------------------\n",
            "Epoch:43  \tLoss:0.0052\t Acc: 0.7787\n",
            "------------------------------------------------\n",
            "Epoch:44  \tLoss:0.0072\t Acc: 0.7679\n",
            "------------------------------------------------\n",
            "Epoch:45  \tLoss:0.0055\t Acc: 0.7676\n",
            "------------------------------------------------\n",
            "Epoch:46  \tLoss:0.0033\t Acc: 0.7801\n",
            "------------------------------------------------\n",
            "Epoch:47  \tLoss:0.0038\t Acc: 0.7712\n",
            "------------------------------------------------\n",
            "Epoch:48  \tLoss:0.0036\t Acc: 0.7713\n",
            "------------------------------------------------\n",
            "Epoch:49  \tLoss:0.0042\t Acc: 0.7703\n",
            "------------------------------------------------\n",
            "Epoch:50  \tLoss:0.0042\t Acc: 0.7708\n",
            "------------------------------------------------\n",
            "Epoch:51  \tLoss:0.0038\t Acc: 0.7693\n",
            "------------------------------------------------\n",
            "Epoch:52  \tLoss:0.0079\t Acc: 0.7653\n",
            "------------------------------------------------\n",
            "Epoch:53  \tLoss:0.0039\t Acc: 0.7651\n",
            "------------------------------------------------\n",
            "Epoch:54  \tLoss:0.0057\t Acc: 0.7754\n",
            "------------------------------------------------\n",
            "Epoch:55  \tLoss:0.0059\t Acc: 0.7747\n",
            "------------------------------------------------\n",
            "Epoch:56  \tLoss:0.0158\t Acc: 0.7654\n",
            "------------------------------------------------\n",
            "Epoch:57  \tLoss:0.0057\t Acc: 0.7753\n",
            "------------------------------------------------\n",
            "Epoch:58  \tLoss:0.0072\t Acc: 0.7743\n",
            "------------------------------------------------\n",
            "Epoch:59  \tLoss:0.0084\t Acc: 0.7778\n",
            "------------------------------------------------\n",
            "Epoch:60  \tLoss:0.0046\t Acc: 0.7747\n",
            "------------------------------------------------\n",
            "Epoch:61  \tLoss:0.0046\t Acc: 0.7685\n",
            "------------------------------------------------\n",
            "Epoch:62  \tLoss:0.0046\t Acc: 0.7773\n",
            "------------------------------------------------\n",
            "Epoch:63  \tLoss:0.0061\t Acc: 0.7747\n",
            "------------------------------------------------\n",
            "Epoch:64  \tLoss:0.0043\t Acc: 0.7746\n",
            "------------------------------------------------\n",
            "Epoch:65  \tLoss:0.0046\t Acc: 0.7744\n",
            "------------------------------------------------\n",
            "Epoch:66  \tLoss:0.0031\t Acc: 0.7721\n",
            "------------------------------------------------\n",
            "Epoch:67  \tLoss:0.0041\t Acc: 0.7702\n",
            "------------------------------------------------\n",
            "Epoch:68  \tLoss:0.0055\t Acc: 0.7742\n",
            "------------------------------------------------\n",
            "Epoch:69  \tLoss:0.0056\t Acc: 0.7746\n",
            "------------------------------------------------\n",
            "Epoch:70  \tLoss:0.0047\t Acc: 0.7775\n",
            "*************************************************\n",
            "Final Score for (B:32, Ep:70, LR:0.01)\n",
            "Acc: 0.7775\n"
          ]
        },
        {
          "output_type": "display_data",
          "data": {
            "text/plain": [
              "<IPython.core.display.HTML object>"
            ],
            "text/html": [
              "Waiting for W&B process to finish... <strong style=\"color:green\">(success).</strong>"
            ]
          },
          "metadata": {}
        },
        {
          "output_type": "display_data",
          "data": {
            "text/plain": [
              "VBox(children=(Label(value='0.001 MB of 0.001 MB uploaded (0.000 MB deduped)\\r'), FloatProgress(value=1.0, max…"
            ],
            "application/vnd.jupyter.widget-view+json": {
              "version_major": 2,
              "version_minor": 0,
              "model_id": "092fedebfd5a43d08f0ed6f5e2ebda2f"
            }
          },
          "metadata": {}
        },
        {
          "output_type": "display_data",
          "data": {
            "text/plain": [
              "<IPython.core.display.HTML object>"
            ],
            "text/html": [
              "<style>\n",
              "    table.wandb td:nth-child(1) { padding: 0 10px; text-align: right }\n",
              "    .wandb-row { display: flex; flex-direction: row; flex-wrap: wrap; width: 100% }\n",
              "    .wandb-col { display: flex; flex-direction: column; flex-basis: 100%; flex: 1; padding: 10px; }\n",
              "    </style>\n",
              "<div class=\"wandb-row\"><div class=\"wandb-col\"><h3>Run history:</h3><br/><table class=\"wandb\"><tr><td>acc</td><td>▁</td></tr><tr><td>loss</td><td>█▄▃▁▃▂▃▂▃▂▂▅▂▂▄▁▃▁▂▄▄▂▁▁▃▃▂▂▂▄▃▃▃▅▂▂▂▁▃▂</td></tr></table><br/></div><div class=\"wandb-col\"><h3>Run summary:</h3><br/><table class=\"wandb\"><tr><td>acc</td><td>0.77746</td></tr><tr><td>loss</td><td>0.00473</td></tr></table><br/></div></div>"
            ]
          },
          "metadata": {}
        },
        {
          "output_type": "display_data",
          "data": {
            "text/plain": [
              "<IPython.core.display.HTML object>"
            ],
            "text/html": [
              "Synced <strong style=\"color:#cdcd00\">MLP_GAN_40</strong>: <a href=\"https://wandb.ai/ahsen/NIDS/runs/29kb4yww\" target=\"_blank\">https://wandb.ai/ahsen/NIDS/runs/29kb4yww</a><br/>Synced 5 W&B file(s), 0 media file(s), 0 artifact file(s) and 0 other file(s)"
            ]
          },
          "metadata": {}
        },
        {
          "output_type": "display_data",
          "data": {
            "text/plain": [
              "<IPython.core.display.HTML object>"
            ],
            "text/html": [
              "Find logs at: <code>./wandb/run-20220430_154116-29kb4yww/logs</code>"
            ]
          },
          "metadata": {}
        },
        {
          "output_type": "display_data",
          "data": {
            "text/plain": [
              "<IPython.core.display.HTML object>"
            ],
            "text/html": [
              "Tracking run with wandb version 0.12.15"
            ]
          },
          "metadata": {}
        },
        {
          "output_type": "display_data",
          "data": {
            "text/plain": [
              "<IPython.core.display.HTML object>"
            ],
            "text/html": [
              "Run data is saved locally in <code>/content/wandb/run-20220430_154809-xbsknf2u</code>"
            ]
          },
          "metadata": {}
        },
        {
          "output_type": "display_data",
          "data": {
            "text/plain": [
              "<IPython.core.display.HTML object>"
            ],
            "text/html": [
              "Syncing run <strong><a href=\"https://wandb.ai/ahsen/NIDS/runs/xbsknf2u\" target=\"_blank\">MLP_GAN_41</a></strong> to <a href=\"https://wandb.ai/ahsen/NIDS\" target=\"_blank\">Weights & Biases</a> (<a href=\"https://wandb.me/run\" target=\"_blank\">docs</a>)<br/>"
            ]
          },
          "metadata": {}
        },
        {
          "output_type": "stream",
          "name": "stdout",
          "text": [
            "===============================================\n",
            "Batch Size:64\tEpochs:70\tLR:0.01\n",
            "------------------------------------------------\n",
            "Epoch:1  \tLoss:0.0461\t Acc: 0.7897\n",
            "------------------------------------------------\n",
            "Epoch:2  \tLoss:0.0287\t Acc: 0.8032\n",
            "------------------------------------------------\n",
            "Epoch:3  \tLoss:0.0183\t Acc: 0.7967\n",
            "------------------------------------------------\n",
            "Epoch:4  \tLoss:0.0224\t Acc: 0.7957\n",
            "------------------------------------------------\n",
            "Epoch:5  \tLoss:0.0184\t Acc: 0.8085\n",
            "------------------------------------------------\n",
            "Epoch:6  \tLoss:0.0150\t Acc: 0.7883\n",
            "------------------------------------------------\n",
            "Epoch:7  \tLoss:0.0089\t Acc: 0.7857\n",
            "------------------------------------------------\n",
            "Epoch:8  \tLoss:0.0135\t Acc: 0.7862\n",
            "------------------------------------------------\n",
            "Epoch:9  \tLoss:0.0114\t Acc: 0.7827\n",
            "------------------------------------------------\n",
            "Epoch:10  \tLoss:0.0089\t Acc: 0.7880\n",
            "------------------------------------------------\n",
            "Epoch:11  \tLoss:0.0069\t Acc: 0.7892\n",
            "------------------------------------------------\n",
            "Epoch:12  \tLoss:0.0140\t Acc: 0.7758\n",
            "------------------------------------------------\n",
            "Epoch:13  \tLoss:0.0116\t Acc: 0.7803\n",
            "------------------------------------------------\n",
            "Epoch:14  \tLoss:0.0098\t Acc: 0.7772\n",
            "------------------------------------------------\n",
            "Epoch:15  \tLoss:0.0088\t Acc: 0.7820\n",
            "------------------------------------------------\n",
            "Epoch:16  \tLoss:0.0082\t Acc: 0.7791\n",
            "------------------------------------------------\n",
            "Epoch:17  \tLoss:0.0102\t Acc: 0.7809\n",
            "------------------------------------------------\n",
            "Epoch:18  \tLoss:0.0079\t Acc: 0.7762\n",
            "------------------------------------------------\n",
            "Epoch:19  \tLoss:0.0088\t Acc: 0.7762\n",
            "------------------------------------------------\n",
            "Epoch:20  \tLoss:0.0113\t Acc: 0.7841\n",
            "------------------------------------------------\n",
            "Epoch:21  \tLoss:0.0100\t Acc: 0.7866\n",
            "------------------------------------------------\n",
            "Epoch:22  \tLoss:0.0097\t Acc: 0.7808\n",
            "------------------------------------------------\n",
            "Epoch:23  \tLoss:0.0122\t Acc: 0.7799\n",
            "------------------------------------------------\n",
            "Epoch:24  \tLoss:0.0124\t Acc: 0.7819\n",
            "------------------------------------------------\n",
            "Epoch:25  \tLoss:0.0123\t Acc: 0.7828\n",
            "------------------------------------------------\n",
            "Epoch:26  \tLoss:0.0160\t Acc: 0.7831\n",
            "------------------------------------------------\n",
            "Epoch:27  \tLoss:0.0154\t Acc: 0.7893\n",
            "------------------------------------------------\n",
            "Epoch:28  \tLoss:0.0168\t Acc: 0.7871\n",
            "------------------------------------------------\n",
            "Epoch:29  \tLoss:0.0181\t Acc: 0.7913\n",
            "------------------------------------------------\n",
            "Epoch:30  \tLoss:0.0066\t Acc: 0.7916\n",
            "------------------------------------------------\n",
            "Epoch:31  \tLoss:0.0074\t Acc: 0.7842\n",
            "------------------------------------------------\n",
            "Epoch:32  \tLoss:0.0136\t Acc: 0.7744\n",
            "------------------------------------------------\n",
            "Epoch:33  \tLoss:0.0103\t Acc: 0.7877\n",
            "------------------------------------------------\n",
            "Epoch:34  \tLoss:0.0143\t Acc: 0.7830\n"
          ]
        }
      ],
      "source": [
        "grid_scores = []\n",
        "iters = 0\n",
        "#Creating a Grid Search\n",
        "for epochs in epochs_:\n",
        "  for lr in learning_rates:\n",
        "    for batch_size in batch_sizes:\n",
        "      #Model init\n",
        "      pt_train = DataLoader(tensor_dataset, batch_size=batch_size, shuffle=False, drop_last=False)\n",
        "      mlp = MLP().to(device)\n",
        "      criterion = nn.BCELoss()\n",
        "      optimizer = torch.optim.SGD(mlp.parameters(), lr = lr)\n",
        "      \n",
        "      #Training Loop\n",
        "      run = wandb.init(entity='ahsen', project='nids', name=f'MLP_GAN_{iters}', reinit=True)\n",
        "      wandb.config[\"lr\"] = lr\n",
        "      wandb.config[\"batch_size\"] = batch_size\n",
        "      wandb.config[\"epochs\"] = epochs\n",
        "      print('===============================================')\n",
        "      print(f\"Batch Size:{batch_size}\\tEpochs:{epochs}\\tLR:{lr}\")\n",
        "      num_epochs = epochs\n",
        "      outputs = []\n",
        "      losses = []\n",
        "      for epoch in range(num_epochs):\n",
        "          for instance, y in pt_train:\n",
        "              output = mlp(instance)\n",
        "              loss = criterion(output, y)\n",
        "              optimizer.zero_grad()\n",
        "              loss.backward()\n",
        "              optimizer.step()\n",
        "          losses.append(loss.item())\n",
        "          acc = validation_accuracy(mlp, X_test, y_test)\n",
        "          wandb.log({'loss':loss.item()})\n",
        "          print('------------------------------------------------')\n",
        "          print(f'Epoch:{epoch+1}  \\tLoss:{loss.item():.4f}\\t Acc: {acc:.4f}')\n",
        "\n",
        "      print(\"*************************************************\")\n",
        "      print(f'Final Score for (B:{batch_size}, Ep:{epochs}, LR:{lr})')\n",
        "      print(f'Acc: {acc:.4f}')\n",
        "      #Save scores\n",
        "      obj = {\n",
        "        \"config\":{\n",
        "          \"learning_rate\": lr,\n",
        "          \"epochs\": epochs,\n",
        "          \"batch_size\": batch_size,\n",
        "          \"acc\": acc,\n",
        "          },\n",
        "        \"weights\": mlp.state_dict()\n",
        "      }\n",
        "      wandb.log({\"acc\" : acc})\n",
        "      run.finish()\n",
        "      grid_scores.append(obj)\n",
        "      iters = iters + 1"
      ],
      "id": "FsOpwkvtch7o"
    },
    {
      "cell_type": "code",
      "source": [
        "highest = 0\n",
        "for i,score in enumerate(grid_scores):\n",
        "  if score['config']['acc'] > grid_scores[highest]['config']['acc']:\n",
        "    highest = i"
      ],
      "metadata": {
        "id": "h9g5Fu0jeduw"
      },
      "id": "h9g5Fu0jeduw",
      "execution_count": null,
      "outputs": []
    },
    {
      "cell_type": "code",
      "source": [
        "end_time = time.time()\n",
        "print(\"=====================================\")\n",
        "print(f'Total time taken: {int(end_time-start_time)} seconds')\n",
        "print(f'Best scores with\\n{grid_scores[highest]['config']}')"
      ],
      "metadata": {
        "id": "3OhxAV--dhFC"
      },
      "id": "3OhxAV--dhFC",
      "execution_count": null,
      "outputs": []
    },
    {
      "cell_type": "code",
      "execution_count": null,
      "metadata": {
        "id": "Zh5uq27aGTI8"
      },
      "outputs": [],
      "source": [
        "plt.plot(losses)\n",
        "plt.xlabel(f\"epochs({num_epochs})\")\n",
        "plt.ylabel(f\"loss\")\n",
        "_ = plt.legend(['Loss'])"
      ],
      "id": "Zh5uq27aGTI8"
    },
    {
      "cell_type": "code",
      "execution_count": null,
      "metadata": {
        "id": "Atr62Nq7iRa0"
      },
      "outputs": [],
      "source": [
        "\n",
        "mlp.load_state_dict(grid_scores[highest]['weights'])\n",
        "mlp.eval()\n",
        "with torch.no_grad():\n",
        "  #lr_probs = cnn(X_train.view(-1,1,1,41)).detach().squeeze()\n",
        "  lr_probs = mlp(X_test).detach().squeeze()\n",
        "probs = torch.max(lr_probs, dim=1)\n",
        "idxs, scores = probs.indices, probs.values\n",
        "probs = [scores[i].item() if idxs[i]==1 else 1-scores[i].item() for i in range(len(idxs))]\n",
        "preds = torch.argmax(lr_probs, dim=1).cpu()\n",
        "lr_probs = torch.max(lr_probs, dim=1).values\n",
        "probs = np.array(probs)"
      ],
      "id": "Atr62Nq7iRa0"
    },
    {
      "cell_type": "code",
      "source": [
        "suspicious = probs[(probs>0.4) & (probs<0.5)].shape[0]"
      ],
      "metadata": {
        "id": "GZeHbi90iCtj"
      },
      "id": "GZeHbi90iCtj",
      "execution_count": null,
      "outputs": []
    },
    {
      "cell_type": "code",
      "source": [
        "print(f'{suspicious} packets are suspicious')"
      ],
      "metadata": {
        "id": "C4GkaMRFii8V"
      },
      "id": "C4GkaMRFii8V",
      "execution_count": null,
      "outputs": []
    },
    {
      "cell_type": "code",
      "execution_count": null,
      "metadata": {
        "id": "fNNdO3CTib7c"
      },
      "outputs": [],
      "source": [
        "cm = confusion_matrix(y_test, preds)\n",
        "tn=cm[1][1] #tn\n",
        "fn=cm[0][1] #fn\n",
        "fp=cm[1][0] #fp\n",
        "tp=cm[0][0] #tp\n",
        "acc= (tp+tn)/(tp+tn+fn+fp)\n",
        "epsilon = 1e-7 # is used so that to avoid divide by zero error\n",
        "precision = tp / (tp + fp + epsilon)\n",
        "recall = tp / (tp + fn + epsilon)\n",
        "sensitivity,specificity = tp/(tp+fn),tn/(tn+fp)\n",
        "print(\"Test accuracy is:\"+str(format(acc,'.4f')))\n",
        "print(\"Precision: \"+str(format(precision,'.4f'))+\"\\nRecall: \"+str(format(recall,'.4f')))"
      ],
      "id": "fNNdO3CTib7c"
    },
    {
      "cell_type": "code",
      "execution_count": null,
      "metadata": {
        "id": "QfBgTwTD2fwa"
      },
      "outputs": [],
      "source": [
        "lr_precision, lr_recall, _ = precision_recall_curve(y_test, probs)\n",
        "lr_f1, lr_auc = f1_score(y_test, preds), auc(lr_recall, lr_precision)\n",
        "no_skill = len(y_test[y_test==0]) / len(y_test)\n",
        "acc = accuracy_score(y_test, preds)\n",
        "plt.plot(lr_recall, lr_precision, marker='.', alpha=0.5)\n",
        "# axis labels\n",
        "plt.xlabel('Recall')\n",
        "plt.ylabel('Precision')\n",
        "\n",
        "# show the plot\n",
        "plt.show()\n",
        "_ = plt.rc('legend', fontsize=18)\n",
        "disp = ConfusionMatrixDisplay(confusion_matrix = cm, display_labels = ['normal', 'malicious'])\n",
        "disp.plot(cmap=\"Blues\", colorbar = False)\n",
        "print(f\"F1:\\t {lr_f1*100:.3f}%\")\n",
        "print(f\"AUC:\\t {lr_auc*100:.3f}%\")\n",
        "print(f\"Accuracy:{acc*100:.3f}%\")"
      ],
      "id": "QfBgTwTD2fwa"
    },
    {
      "cell_type": "code",
      "source": [
        "_ = RocCurveDisplay.from_predictions(y_test,probs)"
      ],
      "metadata": {
        "id": "kGr49iwv08Wz"
      },
      "id": "kGr49iwv08Wz",
      "execution_count": null,
      "outputs": []
    },
    {
      "cell_type": "code",
      "source": [
        "wandb.finish()"
      ],
      "metadata": {
        "id": "jVzohgro3Cos"
      },
      "id": "jVzohgro3Cos",
      "execution_count": null,
      "outputs": []
    },
    {
      "cell_type": "code",
      "execution_count": null,
      "metadata": {
        "id": "kx_A6hMbCC1P"
      },
      "outputs": [],
      "source": [
        "torch.save(mlp.state_dict(), 'mlp.pt')"
      ],
      "id": "kx_A6hMbCC1P"
    }
  ],
  "metadata": {
    "colab": {
      "collapsed_sections": [],
      "name": "GAN-StratifiedSample-MLP.ipynb",
      "provenance": []
    },
    "kernelspec": {
      "display_name": "Python 3 (ipykernel)",
      "language": "python",
      "name": "python3"
    },
    "language_info": {
      "codemirror_mode": {
        "name": "ipython",
        "version": 3
      },
      "file_extension": ".py",
      "mimetype": "text/x-python",
      "name": "python",
      "nbconvert_exporter": "python",
      "pygments_lexer": "ipython3",
      "version": "3.8.10"
    },
    "widgets": {
      "application/vnd.jupyter.widget-state+json": {
        "c243d05b19ef4f2f987f42523a7911b9": {
          "model_module": "@jupyter-widgets/controls",
          "model_name": "VBoxModel",
          "model_module_version": "1.5.0",
          "state": {
            "_dom_classes": [],
            "_model_module": "@jupyter-widgets/controls",
            "_model_module_version": "1.5.0",
            "_model_name": "VBoxModel",
            "_view_count": null,
            "_view_module": "@jupyter-widgets/controls",
            "_view_module_version": "1.5.0",
            "_view_name": "VBoxView",
            "box_style": "",
            "children": [
              "IPY_MODEL_a2d6aa0449b743be95c6334def67a6fb",
              "IPY_MODEL_0f43892d327947318bfa993db50cc01a"
            ],
            "layout": "IPY_MODEL_a0c81303b8eb4116bd9233f890819361"
          }
        },
        "a2d6aa0449b743be95c6334def67a6fb": {
          "model_module": "@jupyter-widgets/controls",
          "model_name": "LabelModel",
          "model_module_version": "1.5.0",
          "state": {
            "_dom_classes": [],
            "_model_module": "@jupyter-widgets/controls",
            "_model_module_version": "1.5.0",
            "_model_name": "LabelModel",
            "_view_count": null,
            "_view_module": "@jupyter-widgets/controls",
            "_view_module_version": "1.5.0",
            "_view_name": "LabelView",
            "description": "",
            "description_tooltip": null,
            "layout": "IPY_MODEL_5bfd62f3ee654e6ebdafa9bd9b627923",
            "placeholder": "​",
            "style": "IPY_MODEL_543943b3a2ec4f6bb083d8d8c8930f72",
            "value": "0.010 MB of 0.010 MB uploaded (0.000 MB deduped)\r"
          }
        },
        "0f43892d327947318bfa993db50cc01a": {
          "model_module": "@jupyter-widgets/controls",
          "model_name": "FloatProgressModel",
          "model_module_version": "1.5.0",
          "state": {
            "_dom_classes": [],
            "_model_module": "@jupyter-widgets/controls",
            "_model_module_version": "1.5.0",
            "_model_name": "FloatProgressModel",
            "_view_count": null,
            "_view_module": "@jupyter-widgets/controls",
            "_view_module_version": "1.5.0",
            "_view_name": "ProgressView",
            "bar_style": "",
            "description": "",
            "description_tooltip": null,
            "layout": "IPY_MODEL_23deb72a6fa54527bd3494d51d4a496e",
            "max": 1,
            "min": 0,
            "orientation": "horizontal",
            "style": "IPY_MODEL_55fdeeb742d74f5888effa1338b5b53a",
            "value": 1
          }
        },
        "a0c81303b8eb4116bd9233f890819361": {
          "model_module": "@jupyter-widgets/base",
          "model_name": "LayoutModel",
          "model_module_version": "1.2.0",
          "state": {
            "_model_module": "@jupyter-widgets/base",
            "_model_module_version": "1.2.0",
            "_model_name": "LayoutModel",
            "_view_count": null,
            "_view_module": "@jupyter-widgets/base",
            "_view_module_version": "1.2.0",
            "_view_name": "LayoutView",
            "align_content": null,
            "align_items": null,
            "align_self": null,
            "border": null,
            "bottom": null,
            "display": null,
            "flex": null,
            "flex_flow": null,
            "grid_area": null,
            "grid_auto_columns": null,
            "grid_auto_flow": null,
            "grid_auto_rows": null,
            "grid_column": null,
            "grid_gap": null,
            "grid_row": null,
            "grid_template_areas": null,
            "grid_template_columns": null,
            "grid_template_rows": null,
            "height": null,
            "justify_content": null,
            "justify_items": null,
            "left": null,
            "margin": null,
            "max_height": null,
            "max_width": null,
            "min_height": null,
            "min_width": null,
            "object_fit": null,
            "object_position": null,
            "order": null,
            "overflow": null,
            "overflow_x": null,
            "overflow_y": null,
            "padding": null,
            "right": null,
            "top": null,
            "visibility": null,
            "width": null
          }
        },
        "5bfd62f3ee654e6ebdafa9bd9b627923": {
          "model_module": "@jupyter-widgets/base",
          "model_name": "LayoutModel",
          "model_module_version": "1.2.0",
          "state": {
            "_model_module": "@jupyter-widgets/base",
            "_model_module_version": "1.2.0",
            "_model_name": "LayoutModel",
            "_view_count": null,
            "_view_module": "@jupyter-widgets/base",
            "_view_module_version": "1.2.0",
            "_view_name": "LayoutView",
            "align_content": null,
            "align_items": null,
            "align_self": null,
            "border": null,
            "bottom": null,
            "display": null,
            "flex": null,
            "flex_flow": null,
            "grid_area": null,
            "grid_auto_columns": null,
            "grid_auto_flow": null,
            "grid_auto_rows": null,
            "grid_column": null,
            "grid_gap": null,
            "grid_row": null,
            "grid_template_areas": null,
            "grid_template_columns": null,
            "grid_template_rows": null,
            "height": null,
            "justify_content": null,
            "justify_items": null,
            "left": null,
            "margin": null,
            "max_height": null,
            "max_width": null,
            "min_height": null,
            "min_width": null,
            "object_fit": null,
            "object_position": null,
            "order": null,
            "overflow": null,
            "overflow_x": null,
            "overflow_y": null,
            "padding": null,
            "right": null,
            "top": null,
            "visibility": null,
            "width": null
          }
        },
        "543943b3a2ec4f6bb083d8d8c8930f72": {
          "model_module": "@jupyter-widgets/controls",
          "model_name": "DescriptionStyleModel",
          "model_module_version": "1.5.0",
          "state": {
            "_model_module": "@jupyter-widgets/controls",
            "_model_module_version": "1.5.0",
            "_model_name": "DescriptionStyleModel",
            "_view_count": null,
            "_view_module": "@jupyter-widgets/base",
            "_view_module_version": "1.2.0",
            "_view_name": "StyleView",
            "description_width": ""
          }
        },
        "23deb72a6fa54527bd3494d51d4a496e": {
          "model_module": "@jupyter-widgets/base",
          "model_name": "LayoutModel",
          "model_module_version": "1.2.0",
          "state": {
            "_model_module": "@jupyter-widgets/base",
            "_model_module_version": "1.2.0",
            "_model_name": "LayoutModel",
            "_view_count": null,
            "_view_module": "@jupyter-widgets/base",
            "_view_module_version": "1.2.0",
            "_view_name": "LayoutView",
            "align_content": null,
            "align_items": null,
            "align_self": null,
            "border": null,
            "bottom": null,
            "display": null,
            "flex": null,
            "flex_flow": null,
            "grid_area": null,
            "grid_auto_columns": null,
            "grid_auto_flow": null,
            "grid_auto_rows": null,
            "grid_column": null,
            "grid_gap": null,
            "grid_row": null,
            "grid_template_areas": null,
            "grid_template_columns": null,
            "grid_template_rows": null,
            "height": null,
            "justify_content": null,
            "justify_items": null,
            "left": null,
            "margin": null,
            "max_height": null,
            "max_width": null,
            "min_height": null,
            "min_width": null,
            "object_fit": null,
            "object_position": null,
            "order": null,
            "overflow": null,
            "overflow_x": null,
            "overflow_y": null,
            "padding": null,
            "right": null,
            "top": null,
            "visibility": null,
            "width": null
          }
        },
        "55fdeeb742d74f5888effa1338b5b53a": {
          "model_module": "@jupyter-widgets/controls",
          "model_name": "ProgressStyleModel",
          "model_module_version": "1.5.0",
          "state": {
            "_model_module": "@jupyter-widgets/controls",
            "_model_module_version": "1.5.0",
            "_model_name": "ProgressStyleModel",
            "_view_count": null,
            "_view_module": "@jupyter-widgets/base",
            "_view_module_version": "1.2.0",
            "_view_name": "StyleView",
            "bar_color": null,
            "description_width": ""
          }
        },
        "317cfbc2e0d94d37932f6447878d3a03": {
          "model_module": "@jupyter-widgets/controls",
          "model_name": "VBoxModel",
          "model_module_version": "1.5.0",
          "state": {
            "_dom_classes": [],
            "_model_module": "@jupyter-widgets/controls",
            "_model_module_version": "1.5.0",
            "_model_name": "VBoxModel",
            "_view_count": null,
            "_view_module": "@jupyter-widgets/controls",
            "_view_module_version": "1.5.0",
            "_view_name": "VBoxView",
            "box_style": "",
            "children": [
              "IPY_MODEL_5992192588074e0aa8c46ebdd5c5ba84",
              "IPY_MODEL_11e9e408c8484fff883989e056d8f15d"
            ],
            "layout": "IPY_MODEL_918c35223dbd42af8d869d8aa2f0ee30"
          }
        },
        "5992192588074e0aa8c46ebdd5c5ba84": {
          "model_module": "@jupyter-widgets/controls",
          "model_name": "LabelModel",
          "model_module_version": "1.5.0",
          "state": {
            "_dom_classes": [],
            "_model_module": "@jupyter-widgets/controls",
            "_model_module_version": "1.5.0",
            "_model_name": "LabelModel",
            "_view_count": null,
            "_view_module": "@jupyter-widgets/controls",
            "_view_module_version": "1.5.0",
            "_view_name": "LabelView",
            "description": "",
            "description_tooltip": null,
            "layout": "IPY_MODEL_b20d460466564024b45600f1b4df78dc",
            "placeholder": "​",
            "style": "IPY_MODEL_84884bd44393410baa2649dd0c8ac8e2",
            "value": "0.010 MB of 0.010 MB uploaded (0.000 MB deduped)\r"
          }
        },
        "11e9e408c8484fff883989e056d8f15d": {
          "model_module": "@jupyter-widgets/controls",
          "model_name": "FloatProgressModel",
          "model_module_version": "1.5.0",
          "state": {
            "_dom_classes": [],
            "_model_module": "@jupyter-widgets/controls",
            "_model_module_version": "1.5.0",
            "_model_name": "FloatProgressModel",
            "_view_count": null,
            "_view_module": "@jupyter-widgets/controls",
            "_view_module_version": "1.5.0",
            "_view_name": "ProgressView",
            "bar_style": "",
            "description": "",
            "description_tooltip": null,
            "layout": "IPY_MODEL_ef80c8339a0046c88d9b1b7c7ab2f8dc",
            "max": 1,
            "min": 0,
            "orientation": "horizontal",
            "style": "IPY_MODEL_96054044f0b2485bb5658a9e03668da9",
            "value": 1
          }
        },
        "918c35223dbd42af8d869d8aa2f0ee30": {
          "model_module": "@jupyter-widgets/base",
          "model_name": "LayoutModel",
          "model_module_version": "1.2.0",
          "state": {
            "_model_module": "@jupyter-widgets/base",
            "_model_module_version": "1.2.0",
            "_model_name": "LayoutModel",
            "_view_count": null,
            "_view_module": "@jupyter-widgets/base",
            "_view_module_version": "1.2.0",
            "_view_name": "LayoutView",
            "align_content": null,
            "align_items": null,
            "align_self": null,
            "border": null,
            "bottom": null,
            "display": null,
            "flex": null,
            "flex_flow": null,
            "grid_area": null,
            "grid_auto_columns": null,
            "grid_auto_flow": null,
            "grid_auto_rows": null,
            "grid_column": null,
            "grid_gap": null,
            "grid_row": null,
            "grid_template_areas": null,
            "grid_template_columns": null,
            "grid_template_rows": null,
            "height": null,
            "justify_content": null,
            "justify_items": null,
            "left": null,
            "margin": null,
            "max_height": null,
            "max_width": null,
            "min_height": null,
            "min_width": null,
            "object_fit": null,
            "object_position": null,
            "order": null,
            "overflow": null,
            "overflow_x": null,
            "overflow_y": null,
            "padding": null,
            "right": null,
            "top": null,
            "visibility": null,
            "width": null
          }
        },
        "b20d460466564024b45600f1b4df78dc": {
          "model_module": "@jupyter-widgets/base",
          "model_name": "LayoutModel",
          "model_module_version": "1.2.0",
          "state": {
            "_model_module": "@jupyter-widgets/base",
            "_model_module_version": "1.2.0",
            "_model_name": "LayoutModel",
            "_view_count": null,
            "_view_module": "@jupyter-widgets/base",
            "_view_module_version": "1.2.0",
            "_view_name": "LayoutView",
            "align_content": null,
            "align_items": null,
            "align_self": null,
            "border": null,
            "bottom": null,
            "display": null,
            "flex": null,
            "flex_flow": null,
            "grid_area": null,
            "grid_auto_columns": null,
            "grid_auto_flow": null,
            "grid_auto_rows": null,
            "grid_column": null,
            "grid_gap": null,
            "grid_row": null,
            "grid_template_areas": null,
            "grid_template_columns": null,
            "grid_template_rows": null,
            "height": null,
            "justify_content": null,
            "justify_items": null,
            "left": null,
            "margin": null,
            "max_height": null,
            "max_width": null,
            "min_height": null,
            "min_width": null,
            "object_fit": null,
            "object_position": null,
            "order": null,
            "overflow": null,
            "overflow_x": null,
            "overflow_y": null,
            "padding": null,
            "right": null,
            "top": null,
            "visibility": null,
            "width": null
          }
        },
        "84884bd44393410baa2649dd0c8ac8e2": {
          "model_module": "@jupyter-widgets/controls",
          "model_name": "DescriptionStyleModel",
          "model_module_version": "1.5.0",
          "state": {
            "_model_module": "@jupyter-widgets/controls",
            "_model_module_version": "1.5.0",
            "_model_name": "DescriptionStyleModel",
            "_view_count": null,
            "_view_module": "@jupyter-widgets/base",
            "_view_module_version": "1.2.0",
            "_view_name": "StyleView",
            "description_width": ""
          }
        },
        "ef80c8339a0046c88d9b1b7c7ab2f8dc": {
          "model_module": "@jupyter-widgets/base",
          "model_name": "LayoutModel",
          "model_module_version": "1.2.0",
          "state": {
            "_model_module": "@jupyter-widgets/base",
            "_model_module_version": "1.2.0",
            "_model_name": "LayoutModel",
            "_view_count": null,
            "_view_module": "@jupyter-widgets/base",
            "_view_module_version": "1.2.0",
            "_view_name": "LayoutView",
            "align_content": null,
            "align_items": null,
            "align_self": null,
            "border": null,
            "bottom": null,
            "display": null,
            "flex": null,
            "flex_flow": null,
            "grid_area": null,
            "grid_auto_columns": null,
            "grid_auto_flow": null,
            "grid_auto_rows": null,
            "grid_column": null,
            "grid_gap": null,
            "grid_row": null,
            "grid_template_areas": null,
            "grid_template_columns": null,
            "grid_template_rows": null,
            "height": null,
            "justify_content": null,
            "justify_items": null,
            "left": null,
            "margin": null,
            "max_height": null,
            "max_width": null,
            "min_height": null,
            "min_width": null,
            "object_fit": null,
            "object_position": null,
            "order": null,
            "overflow": null,
            "overflow_x": null,
            "overflow_y": null,
            "padding": null,
            "right": null,
            "top": null,
            "visibility": null,
            "width": null
          }
        },
        "96054044f0b2485bb5658a9e03668da9": {
          "model_module": "@jupyter-widgets/controls",
          "model_name": "ProgressStyleModel",
          "model_module_version": "1.5.0",
          "state": {
            "_model_module": "@jupyter-widgets/controls",
            "_model_module_version": "1.5.0",
            "_model_name": "ProgressStyleModel",
            "_view_count": null,
            "_view_module": "@jupyter-widgets/base",
            "_view_module_version": "1.2.0",
            "_view_name": "StyleView",
            "bar_color": null,
            "description_width": ""
          }
        },
        "660b274cd0e4424fb96db3b0a22d9dbf": {
          "model_module": "@jupyter-widgets/controls",
          "model_name": "VBoxModel",
          "model_module_version": "1.5.0",
          "state": {
            "_dom_classes": [],
            "_model_module": "@jupyter-widgets/controls",
            "_model_module_version": "1.5.0",
            "_model_name": "VBoxModel",
            "_view_count": null,
            "_view_module": "@jupyter-widgets/controls",
            "_view_module_version": "1.5.0",
            "_view_name": "VBoxView",
            "box_style": "",
            "children": [
              "IPY_MODEL_9cf7e3b3726e4d9491976e9d4a71dfd3",
              "IPY_MODEL_4da701a0177944c68243e70d3b246f29"
            ],
            "layout": "IPY_MODEL_86c16a57d72443ef9573c5bb551ae20f"
          }
        },
        "9cf7e3b3726e4d9491976e9d4a71dfd3": {
          "model_module": "@jupyter-widgets/controls",
          "model_name": "LabelModel",
          "model_module_version": "1.5.0",
          "state": {
            "_dom_classes": [],
            "_model_module": "@jupyter-widgets/controls",
            "_model_module_version": "1.5.0",
            "_model_name": "LabelModel",
            "_view_count": null,
            "_view_module": "@jupyter-widgets/controls",
            "_view_module_version": "1.5.0",
            "_view_name": "LabelView",
            "description": "",
            "description_tooltip": null,
            "layout": "IPY_MODEL_88bceac44cf84ba281df8e817c2e1ed3",
            "placeholder": "​",
            "style": "IPY_MODEL_acce291fa26b49e49066056cd7b5ff2a",
            "value": "0.010 MB of 0.010 MB uploaded (0.000 MB deduped)\r"
          }
        },
        "4da701a0177944c68243e70d3b246f29": {
          "model_module": "@jupyter-widgets/controls",
          "model_name": "FloatProgressModel",
          "model_module_version": "1.5.0",
          "state": {
            "_dom_classes": [],
            "_model_module": "@jupyter-widgets/controls",
            "_model_module_version": "1.5.0",
            "_model_name": "FloatProgressModel",
            "_view_count": null,
            "_view_module": "@jupyter-widgets/controls",
            "_view_module_version": "1.5.0",
            "_view_name": "ProgressView",
            "bar_style": "",
            "description": "",
            "description_tooltip": null,
            "layout": "IPY_MODEL_473aa5d9373243ec9bc0eb5de2e1d431",
            "max": 1,
            "min": 0,
            "orientation": "horizontal",
            "style": "IPY_MODEL_d25c92d658644b71b520f8b0f3812833",
            "value": 1
          }
        },
        "86c16a57d72443ef9573c5bb551ae20f": {
          "model_module": "@jupyter-widgets/base",
          "model_name": "LayoutModel",
          "model_module_version": "1.2.0",
          "state": {
            "_model_module": "@jupyter-widgets/base",
            "_model_module_version": "1.2.0",
            "_model_name": "LayoutModel",
            "_view_count": null,
            "_view_module": "@jupyter-widgets/base",
            "_view_module_version": "1.2.0",
            "_view_name": "LayoutView",
            "align_content": null,
            "align_items": null,
            "align_self": null,
            "border": null,
            "bottom": null,
            "display": null,
            "flex": null,
            "flex_flow": null,
            "grid_area": null,
            "grid_auto_columns": null,
            "grid_auto_flow": null,
            "grid_auto_rows": null,
            "grid_column": null,
            "grid_gap": null,
            "grid_row": null,
            "grid_template_areas": null,
            "grid_template_columns": null,
            "grid_template_rows": null,
            "height": null,
            "justify_content": null,
            "justify_items": null,
            "left": null,
            "margin": null,
            "max_height": null,
            "max_width": null,
            "min_height": null,
            "min_width": null,
            "object_fit": null,
            "object_position": null,
            "order": null,
            "overflow": null,
            "overflow_x": null,
            "overflow_y": null,
            "padding": null,
            "right": null,
            "top": null,
            "visibility": null,
            "width": null
          }
        },
        "88bceac44cf84ba281df8e817c2e1ed3": {
          "model_module": "@jupyter-widgets/base",
          "model_name": "LayoutModel",
          "model_module_version": "1.2.0",
          "state": {
            "_model_module": "@jupyter-widgets/base",
            "_model_module_version": "1.2.0",
            "_model_name": "LayoutModel",
            "_view_count": null,
            "_view_module": "@jupyter-widgets/base",
            "_view_module_version": "1.2.0",
            "_view_name": "LayoutView",
            "align_content": null,
            "align_items": null,
            "align_self": null,
            "border": null,
            "bottom": null,
            "display": null,
            "flex": null,
            "flex_flow": null,
            "grid_area": null,
            "grid_auto_columns": null,
            "grid_auto_flow": null,
            "grid_auto_rows": null,
            "grid_column": null,
            "grid_gap": null,
            "grid_row": null,
            "grid_template_areas": null,
            "grid_template_columns": null,
            "grid_template_rows": null,
            "height": null,
            "justify_content": null,
            "justify_items": null,
            "left": null,
            "margin": null,
            "max_height": null,
            "max_width": null,
            "min_height": null,
            "min_width": null,
            "object_fit": null,
            "object_position": null,
            "order": null,
            "overflow": null,
            "overflow_x": null,
            "overflow_y": null,
            "padding": null,
            "right": null,
            "top": null,
            "visibility": null,
            "width": null
          }
        },
        "acce291fa26b49e49066056cd7b5ff2a": {
          "model_module": "@jupyter-widgets/controls",
          "model_name": "DescriptionStyleModel",
          "model_module_version": "1.5.0",
          "state": {
            "_model_module": "@jupyter-widgets/controls",
            "_model_module_version": "1.5.0",
            "_model_name": "DescriptionStyleModel",
            "_view_count": null,
            "_view_module": "@jupyter-widgets/base",
            "_view_module_version": "1.2.0",
            "_view_name": "StyleView",
            "description_width": ""
          }
        },
        "473aa5d9373243ec9bc0eb5de2e1d431": {
          "model_module": "@jupyter-widgets/base",
          "model_name": "LayoutModel",
          "model_module_version": "1.2.0",
          "state": {
            "_model_module": "@jupyter-widgets/base",
            "_model_module_version": "1.2.0",
            "_model_name": "LayoutModel",
            "_view_count": null,
            "_view_module": "@jupyter-widgets/base",
            "_view_module_version": "1.2.0",
            "_view_name": "LayoutView",
            "align_content": null,
            "align_items": null,
            "align_self": null,
            "border": null,
            "bottom": null,
            "display": null,
            "flex": null,
            "flex_flow": null,
            "grid_area": null,
            "grid_auto_columns": null,
            "grid_auto_flow": null,
            "grid_auto_rows": null,
            "grid_column": null,
            "grid_gap": null,
            "grid_row": null,
            "grid_template_areas": null,
            "grid_template_columns": null,
            "grid_template_rows": null,
            "height": null,
            "justify_content": null,
            "justify_items": null,
            "left": null,
            "margin": null,
            "max_height": null,
            "max_width": null,
            "min_height": null,
            "min_width": null,
            "object_fit": null,
            "object_position": null,
            "order": null,
            "overflow": null,
            "overflow_x": null,
            "overflow_y": null,
            "padding": null,
            "right": null,
            "top": null,
            "visibility": null,
            "width": null
          }
        },
        "d25c92d658644b71b520f8b0f3812833": {
          "model_module": "@jupyter-widgets/controls",
          "model_name": "ProgressStyleModel",
          "model_module_version": "1.5.0",
          "state": {
            "_model_module": "@jupyter-widgets/controls",
            "_model_module_version": "1.5.0",
            "_model_name": "ProgressStyleModel",
            "_view_count": null,
            "_view_module": "@jupyter-widgets/base",
            "_view_module_version": "1.2.0",
            "_view_name": "StyleView",
            "bar_color": null,
            "description_width": ""
          }
        },
        "b9cf7d78dc9a473a972ddb5f18596151": {
          "model_module": "@jupyter-widgets/controls",
          "model_name": "VBoxModel",
          "model_module_version": "1.5.0",
          "state": {
            "_dom_classes": [],
            "_model_module": "@jupyter-widgets/controls",
            "_model_module_version": "1.5.0",
            "_model_name": "VBoxModel",
            "_view_count": null,
            "_view_module": "@jupyter-widgets/controls",
            "_view_module_version": "1.5.0",
            "_view_name": "VBoxView",
            "box_style": "",
            "children": [
              "IPY_MODEL_c593b0ad77f647bf90e33c636de0f682",
              "IPY_MODEL_7da3311d0b3542a6bf0dc9ba605e02f4"
            ],
            "layout": "IPY_MODEL_9cff7873f01943b4ad751307025f0943"
          }
        },
        "c593b0ad77f647bf90e33c636de0f682": {
          "model_module": "@jupyter-widgets/controls",
          "model_name": "LabelModel",
          "model_module_version": "1.5.0",
          "state": {
            "_dom_classes": [],
            "_model_module": "@jupyter-widgets/controls",
            "_model_module_version": "1.5.0",
            "_model_name": "LabelModel",
            "_view_count": null,
            "_view_module": "@jupyter-widgets/controls",
            "_view_module_version": "1.5.0",
            "_view_name": "LabelView",
            "description": "",
            "description_tooltip": null,
            "layout": "IPY_MODEL_0e6c8292d0a64679bf9d9ed6dd1f37e9",
            "placeholder": "​",
            "style": "IPY_MODEL_19c8cae10dd243f9ad98608e67ff1590",
            "value": "0.010 MB of 0.010 MB uploaded (0.000 MB deduped)\r"
          }
        },
        "7da3311d0b3542a6bf0dc9ba605e02f4": {
          "model_module": "@jupyter-widgets/controls",
          "model_name": "FloatProgressModel",
          "model_module_version": "1.5.0",
          "state": {
            "_dom_classes": [],
            "_model_module": "@jupyter-widgets/controls",
            "_model_module_version": "1.5.0",
            "_model_name": "FloatProgressModel",
            "_view_count": null,
            "_view_module": "@jupyter-widgets/controls",
            "_view_module_version": "1.5.0",
            "_view_name": "ProgressView",
            "bar_style": "",
            "description": "",
            "description_tooltip": null,
            "layout": "IPY_MODEL_9223c4da40374437b45f1e72268f3697",
            "max": 1,
            "min": 0,
            "orientation": "horizontal",
            "style": "IPY_MODEL_0e91bc8364b3430eb04972cd72ef0666",
            "value": 1
          }
        },
        "9cff7873f01943b4ad751307025f0943": {
          "model_module": "@jupyter-widgets/base",
          "model_name": "LayoutModel",
          "model_module_version": "1.2.0",
          "state": {
            "_model_module": "@jupyter-widgets/base",
            "_model_module_version": "1.2.0",
            "_model_name": "LayoutModel",
            "_view_count": null,
            "_view_module": "@jupyter-widgets/base",
            "_view_module_version": "1.2.0",
            "_view_name": "LayoutView",
            "align_content": null,
            "align_items": null,
            "align_self": null,
            "border": null,
            "bottom": null,
            "display": null,
            "flex": null,
            "flex_flow": null,
            "grid_area": null,
            "grid_auto_columns": null,
            "grid_auto_flow": null,
            "grid_auto_rows": null,
            "grid_column": null,
            "grid_gap": null,
            "grid_row": null,
            "grid_template_areas": null,
            "grid_template_columns": null,
            "grid_template_rows": null,
            "height": null,
            "justify_content": null,
            "justify_items": null,
            "left": null,
            "margin": null,
            "max_height": null,
            "max_width": null,
            "min_height": null,
            "min_width": null,
            "object_fit": null,
            "object_position": null,
            "order": null,
            "overflow": null,
            "overflow_x": null,
            "overflow_y": null,
            "padding": null,
            "right": null,
            "top": null,
            "visibility": null,
            "width": null
          }
        },
        "0e6c8292d0a64679bf9d9ed6dd1f37e9": {
          "model_module": "@jupyter-widgets/base",
          "model_name": "LayoutModel",
          "model_module_version": "1.2.0",
          "state": {
            "_model_module": "@jupyter-widgets/base",
            "_model_module_version": "1.2.0",
            "_model_name": "LayoutModel",
            "_view_count": null,
            "_view_module": "@jupyter-widgets/base",
            "_view_module_version": "1.2.0",
            "_view_name": "LayoutView",
            "align_content": null,
            "align_items": null,
            "align_self": null,
            "border": null,
            "bottom": null,
            "display": null,
            "flex": null,
            "flex_flow": null,
            "grid_area": null,
            "grid_auto_columns": null,
            "grid_auto_flow": null,
            "grid_auto_rows": null,
            "grid_column": null,
            "grid_gap": null,
            "grid_row": null,
            "grid_template_areas": null,
            "grid_template_columns": null,
            "grid_template_rows": null,
            "height": null,
            "justify_content": null,
            "justify_items": null,
            "left": null,
            "margin": null,
            "max_height": null,
            "max_width": null,
            "min_height": null,
            "min_width": null,
            "object_fit": null,
            "object_position": null,
            "order": null,
            "overflow": null,
            "overflow_x": null,
            "overflow_y": null,
            "padding": null,
            "right": null,
            "top": null,
            "visibility": null,
            "width": null
          }
        },
        "19c8cae10dd243f9ad98608e67ff1590": {
          "model_module": "@jupyter-widgets/controls",
          "model_name": "DescriptionStyleModel",
          "model_module_version": "1.5.0",
          "state": {
            "_model_module": "@jupyter-widgets/controls",
            "_model_module_version": "1.5.0",
            "_model_name": "DescriptionStyleModel",
            "_view_count": null,
            "_view_module": "@jupyter-widgets/base",
            "_view_module_version": "1.2.0",
            "_view_name": "StyleView",
            "description_width": ""
          }
        },
        "9223c4da40374437b45f1e72268f3697": {
          "model_module": "@jupyter-widgets/base",
          "model_name": "LayoutModel",
          "model_module_version": "1.2.0",
          "state": {
            "_model_module": "@jupyter-widgets/base",
            "_model_module_version": "1.2.0",
            "_model_name": "LayoutModel",
            "_view_count": null,
            "_view_module": "@jupyter-widgets/base",
            "_view_module_version": "1.2.0",
            "_view_name": "LayoutView",
            "align_content": null,
            "align_items": null,
            "align_self": null,
            "border": null,
            "bottom": null,
            "display": null,
            "flex": null,
            "flex_flow": null,
            "grid_area": null,
            "grid_auto_columns": null,
            "grid_auto_flow": null,
            "grid_auto_rows": null,
            "grid_column": null,
            "grid_gap": null,
            "grid_row": null,
            "grid_template_areas": null,
            "grid_template_columns": null,
            "grid_template_rows": null,
            "height": null,
            "justify_content": null,
            "justify_items": null,
            "left": null,
            "margin": null,
            "max_height": null,
            "max_width": null,
            "min_height": null,
            "min_width": null,
            "object_fit": null,
            "object_position": null,
            "order": null,
            "overflow": null,
            "overflow_x": null,
            "overflow_y": null,
            "padding": null,
            "right": null,
            "top": null,
            "visibility": null,
            "width": null
          }
        },
        "0e91bc8364b3430eb04972cd72ef0666": {
          "model_module": "@jupyter-widgets/controls",
          "model_name": "ProgressStyleModel",
          "model_module_version": "1.5.0",
          "state": {
            "_model_module": "@jupyter-widgets/controls",
            "_model_module_version": "1.5.0",
            "_model_name": "ProgressStyleModel",
            "_view_count": null,
            "_view_module": "@jupyter-widgets/base",
            "_view_module_version": "1.2.0",
            "_view_name": "StyleView",
            "bar_color": null,
            "description_width": ""
          }
        },
        "a299ed7a9d114a35851140c503141d60": {
          "model_module": "@jupyter-widgets/controls",
          "model_name": "VBoxModel",
          "model_module_version": "1.5.0",
          "state": {
            "_dom_classes": [],
            "_model_module": "@jupyter-widgets/controls",
            "_model_module_version": "1.5.0",
            "_model_name": "VBoxModel",
            "_view_count": null,
            "_view_module": "@jupyter-widgets/controls",
            "_view_module_version": "1.5.0",
            "_view_name": "VBoxView",
            "box_style": "",
            "children": [
              "IPY_MODEL_2a9b2fb04b9844b497526b6fc14af5ab",
              "IPY_MODEL_78ef3312431d41589048617f4036b348"
            ],
            "layout": "IPY_MODEL_552c1e0cd9e44ce59e4d64eb2ce84918"
          }
        },
        "2a9b2fb04b9844b497526b6fc14af5ab": {
          "model_module": "@jupyter-widgets/controls",
          "model_name": "LabelModel",
          "model_module_version": "1.5.0",
          "state": {
            "_dom_classes": [],
            "_model_module": "@jupyter-widgets/controls",
            "_model_module_version": "1.5.0",
            "_model_name": "LabelModel",
            "_view_count": null,
            "_view_module": "@jupyter-widgets/controls",
            "_view_module_version": "1.5.0",
            "_view_name": "LabelView",
            "description": "",
            "description_tooltip": null,
            "layout": "IPY_MODEL_9a066ad110fa4830a4f5f3ead00c72a8",
            "placeholder": "​",
            "style": "IPY_MODEL_219e806347804626b31f93b98adac22b",
            "value": "0.010 MB of 0.010 MB uploaded (0.000 MB deduped)\r"
          }
        },
        "78ef3312431d41589048617f4036b348": {
          "model_module": "@jupyter-widgets/controls",
          "model_name": "FloatProgressModel",
          "model_module_version": "1.5.0",
          "state": {
            "_dom_classes": [],
            "_model_module": "@jupyter-widgets/controls",
            "_model_module_version": "1.5.0",
            "_model_name": "FloatProgressModel",
            "_view_count": null,
            "_view_module": "@jupyter-widgets/controls",
            "_view_module_version": "1.5.0",
            "_view_name": "ProgressView",
            "bar_style": "",
            "description": "",
            "description_tooltip": null,
            "layout": "IPY_MODEL_3f8296b18f764d6b855b053b154d8875",
            "max": 1,
            "min": 0,
            "orientation": "horizontal",
            "style": "IPY_MODEL_c7502b4f63e64a95b37f369504147e7b",
            "value": 1
          }
        },
        "552c1e0cd9e44ce59e4d64eb2ce84918": {
          "model_module": "@jupyter-widgets/base",
          "model_name": "LayoutModel",
          "model_module_version": "1.2.0",
          "state": {
            "_model_module": "@jupyter-widgets/base",
            "_model_module_version": "1.2.0",
            "_model_name": "LayoutModel",
            "_view_count": null,
            "_view_module": "@jupyter-widgets/base",
            "_view_module_version": "1.2.0",
            "_view_name": "LayoutView",
            "align_content": null,
            "align_items": null,
            "align_self": null,
            "border": null,
            "bottom": null,
            "display": null,
            "flex": null,
            "flex_flow": null,
            "grid_area": null,
            "grid_auto_columns": null,
            "grid_auto_flow": null,
            "grid_auto_rows": null,
            "grid_column": null,
            "grid_gap": null,
            "grid_row": null,
            "grid_template_areas": null,
            "grid_template_columns": null,
            "grid_template_rows": null,
            "height": null,
            "justify_content": null,
            "justify_items": null,
            "left": null,
            "margin": null,
            "max_height": null,
            "max_width": null,
            "min_height": null,
            "min_width": null,
            "object_fit": null,
            "object_position": null,
            "order": null,
            "overflow": null,
            "overflow_x": null,
            "overflow_y": null,
            "padding": null,
            "right": null,
            "top": null,
            "visibility": null,
            "width": null
          }
        },
        "9a066ad110fa4830a4f5f3ead00c72a8": {
          "model_module": "@jupyter-widgets/base",
          "model_name": "LayoutModel",
          "model_module_version": "1.2.0",
          "state": {
            "_model_module": "@jupyter-widgets/base",
            "_model_module_version": "1.2.0",
            "_model_name": "LayoutModel",
            "_view_count": null,
            "_view_module": "@jupyter-widgets/base",
            "_view_module_version": "1.2.0",
            "_view_name": "LayoutView",
            "align_content": null,
            "align_items": null,
            "align_self": null,
            "border": null,
            "bottom": null,
            "display": null,
            "flex": null,
            "flex_flow": null,
            "grid_area": null,
            "grid_auto_columns": null,
            "grid_auto_flow": null,
            "grid_auto_rows": null,
            "grid_column": null,
            "grid_gap": null,
            "grid_row": null,
            "grid_template_areas": null,
            "grid_template_columns": null,
            "grid_template_rows": null,
            "height": null,
            "justify_content": null,
            "justify_items": null,
            "left": null,
            "margin": null,
            "max_height": null,
            "max_width": null,
            "min_height": null,
            "min_width": null,
            "object_fit": null,
            "object_position": null,
            "order": null,
            "overflow": null,
            "overflow_x": null,
            "overflow_y": null,
            "padding": null,
            "right": null,
            "top": null,
            "visibility": null,
            "width": null
          }
        },
        "219e806347804626b31f93b98adac22b": {
          "model_module": "@jupyter-widgets/controls",
          "model_name": "DescriptionStyleModel",
          "model_module_version": "1.5.0",
          "state": {
            "_model_module": "@jupyter-widgets/controls",
            "_model_module_version": "1.5.0",
            "_model_name": "DescriptionStyleModel",
            "_view_count": null,
            "_view_module": "@jupyter-widgets/base",
            "_view_module_version": "1.2.0",
            "_view_name": "StyleView",
            "description_width": ""
          }
        },
        "3f8296b18f764d6b855b053b154d8875": {
          "model_module": "@jupyter-widgets/base",
          "model_name": "LayoutModel",
          "model_module_version": "1.2.0",
          "state": {
            "_model_module": "@jupyter-widgets/base",
            "_model_module_version": "1.2.0",
            "_model_name": "LayoutModel",
            "_view_count": null,
            "_view_module": "@jupyter-widgets/base",
            "_view_module_version": "1.2.0",
            "_view_name": "LayoutView",
            "align_content": null,
            "align_items": null,
            "align_self": null,
            "border": null,
            "bottom": null,
            "display": null,
            "flex": null,
            "flex_flow": null,
            "grid_area": null,
            "grid_auto_columns": null,
            "grid_auto_flow": null,
            "grid_auto_rows": null,
            "grid_column": null,
            "grid_gap": null,
            "grid_row": null,
            "grid_template_areas": null,
            "grid_template_columns": null,
            "grid_template_rows": null,
            "height": null,
            "justify_content": null,
            "justify_items": null,
            "left": null,
            "margin": null,
            "max_height": null,
            "max_width": null,
            "min_height": null,
            "min_width": null,
            "object_fit": null,
            "object_position": null,
            "order": null,
            "overflow": null,
            "overflow_x": null,
            "overflow_y": null,
            "padding": null,
            "right": null,
            "top": null,
            "visibility": null,
            "width": null
          }
        },
        "c7502b4f63e64a95b37f369504147e7b": {
          "model_module": "@jupyter-widgets/controls",
          "model_name": "ProgressStyleModel",
          "model_module_version": "1.5.0",
          "state": {
            "_model_module": "@jupyter-widgets/controls",
            "_model_module_version": "1.5.0",
            "_model_name": "ProgressStyleModel",
            "_view_count": null,
            "_view_module": "@jupyter-widgets/base",
            "_view_module_version": "1.2.0",
            "_view_name": "StyleView",
            "bar_color": null,
            "description_width": ""
          }
        },
        "fe8bf4438ae7494cb744b757b386bf62": {
          "model_module": "@jupyter-widgets/controls",
          "model_name": "VBoxModel",
          "model_module_version": "1.5.0",
          "state": {
            "_dom_classes": [],
            "_model_module": "@jupyter-widgets/controls",
            "_model_module_version": "1.5.0",
            "_model_name": "VBoxModel",
            "_view_count": null,
            "_view_module": "@jupyter-widgets/controls",
            "_view_module_version": "1.5.0",
            "_view_name": "VBoxView",
            "box_style": "",
            "children": [
              "IPY_MODEL_16107ce2ef4944f382064c151d64e7e2",
              "IPY_MODEL_da032bdff8444a73887a8024da5cc1f6"
            ],
            "layout": "IPY_MODEL_4622fa8f860f4a3f8e139f6aa3a97bc7"
          }
        },
        "16107ce2ef4944f382064c151d64e7e2": {
          "model_module": "@jupyter-widgets/controls",
          "model_name": "LabelModel",
          "model_module_version": "1.5.0",
          "state": {
            "_dom_classes": [],
            "_model_module": "@jupyter-widgets/controls",
            "_model_module_version": "1.5.0",
            "_model_name": "LabelModel",
            "_view_count": null,
            "_view_module": "@jupyter-widgets/controls",
            "_view_module_version": "1.5.0",
            "_view_name": "LabelView",
            "description": "",
            "description_tooltip": null,
            "layout": "IPY_MODEL_e757d7e6dd054e5c9b80b33ba52e738b",
            "placeholder": "​",
            "style": "IPY_MODEL_9667d06bfc254c49acef4169a205837c",
            "value": "0.010 MB of 0.010 MB uploaded (0.000 MB deduped)\r"
          }
        },
        "da032bdff8444a73887a8024da5cc1f6": {
          "model_module": "@jupyter-widgets/controls",
          "model_name": "FloatProgressModel",
          "model_module_version": "1.5.0",
          "state": {
            "_dom_classes": [],
            "_model_module": "@jupyter-widgets/controls",
            "_model_module_version": "1.5.0",
            "_model_name": "FloatProgressModel",
            "_view_count": null,
            "_view_module": "@jupyter-widgets/controls",
            "_view_module_version": "1.5.0",
            "_view_name": "ProgressView",
            "bar_style": "",
            "description": "",
            "description_tooltip": null,
            "layout": "IPY_MODEL_d5643c0a193e4454b28ac49eb1121d31",
            "max": 1,
            "min": 0,
            "orientation": "horizontal",
            "style": "IPY_MODEL_93bba17f4a294316bd3f2a9797165d10",
            "value": 1
          }
        },
        "4622fa8f860f4a3f8e139f6aa3a97bc7": {
          "model_module": "@jupyter-widgets/base",
          "model_name": "LayoutModel",
          "model_module_version": "1.2.0",
          "state": {
            "_model_module": "@jupyter-widgets/base",
            "_model_module_version": "1.2.0",
            "_model_name": "LayoutModel",
            "_view_count": null,
            "_view_module": "@jupyter-widgets/base",
            "_view_module_version": "1.2.0",
            "_view_name": "LayoutView",
            "align_content": null,
            "align_items": null,
            "align_self": null,
            "border": null,
            "bottom": null,
            "display": null,
            "flex": null,
            "flex_flow": null,
            "grid_area": null,
            "grid_auto_columns": null,
            "grid_auto_flow": null,
            "grid_auto_rows": null,
            "grid_column": null,
            "grid_gap": null,
            "grid_row": null,
            "grid_template_areas": null,
            "grid_template_columns": null,
            "grid_template_rows": null,
            "height": null,
            "justify_content": null,
            "justify_items": null,
            "left": null,
            "margin": null,
            "max_height": null,
            "max_width": null,
            "min_height": null,
            "min_width": null,
            "object_fit": null,
            "object_position": null,
            "order": null,
            "overflow": null,
            "overflow_x": null,
            "overflow_y": null,
            "padding": null,
            "right": null,
            "top": null,
            "visibility": null,
            "width": null
          }
        },
        "e757d7e6dd054e5c9b80b33ba52e738b": {
          "model_module": "@jupyter-widgets/base",
          "model_name": "LayoutModel",
          "model_module_version": "1.2.0",
          "state": {
            "_model_module": "@jupyter-widgets/base",
            "_model_module_version": "1.2.0",
            "_model_name": "LayoutModel",
            "_view_count": null,
            "_view_module": "@jupyter-widgets/base",
            "_view_module_version": "1.2.0",
            "_view_name": "LayoutView",
            "align_content": null,
            "align_items": null,
            "align_self": null,
            "border": null,
            "bottom": null,
            "display": null,
            "flex": null,
            "flex_flow": null,
            "grid_area": null,
            "grid_auto_columns": null,
            "grid_auto_flow": null,
            "grid_auto_rows": null,
            "grid_column": null,
            "grid_gap": null,
            "grid_row": null,
            "grid_template_areas": null,
            "grid_template_columns": null,
            "grid_template_rows": null,
            "height": null,
            "justify_content": null,
            "justify_items": null,
            "left": null,
            "margin": null,
            "max_height": null,
            "max_width": null,
            "min_height": null,
            "min_width": null,
            "object_fit": null,
            "object_position": null,
            "order": null,
            "overflow": null,
            "overflow_x": null,
            "overflow_y": null,
            "padding": null,
            "right": null,
            "top": null,
            "visibility": null,
            "width": null
          }
        },
        "9667d06bfc254c49acef4169a205837c": {
          "model_module": "@jupyter-widgets/controls",
          "model_name": "DescriptionStyleModel",
          "model_module_version": "1.5.0",
          "state": {
            "_model_module": "@jupyter-widgets/controls",
            "_model_module_version": "1.5.0",
            "_model_name": "DescriptionStyleModel",
            "_view_count": null,
            "_view_module": "@jupyter-widgets/base",
            "_view_module_version": "1.2.0",
            "_view_name": "StyleView",
            "description_width": ""
          }
        },
        "d5643c0a193e4454b28ac49eb1121d31": {
          "model_module": "@jupyter-widgets/base",
          "model_name": "LayoutModel",
          "model_module_version": "1.2.0",
          "state": {
            "_model_module": "@jupyter-widgets/base",
            "_model_module_version": "1.2.0",
            "_model_name": "LayoutModel",
            "_view_count": null,
            "_view_module": "@jupyter-widgets/base",
            "_view_module_version": "1.2.0",
            "_view_name": "LayoutView",
            "align_content": null,
            "align_items": null,
            "align_self": null,
            "border": null,
            "bottom": null,
            "display": null,
            "flex": null,
            "flex_flow": null,
            "grid_area": null,
            "grid_auto_columns": null,
            "grid_auto_flow": null,
            "grid_auto_rows": null,
            "grid_column": null,
            "grid_gap": null,
            "grid_row": null,
            "grid_template_areas": null,
            "grid_template_columns": null,
            "grid_template_rows": null,
            "height": null,
            "justify_content": null,
            "justify_items": null,
            "left": null,
            "margin": null,
            "max_height": null,
            "max_width": null,
            "min_height": null,
            "min_width": null,
            "object_fit": null,
            "object_position": null,
            "order": null,
            "overflow": null,
            "overflow_x": null,
            "overflow_y": null,
            "padding": null,
            "right": null,
            "top": null,
            "visibility": null,
            "width": null
          }
        },
        "93bba17f4a294316bd3f2a9797165d10": {
          "model_module": "@jupyter-widgets/controls",
          "model_name": "ProgressStyleModel",
          "model_module_version": "1.5.0",
          "state": {
            "_model_module": "@jupyter-widgets/controls",
            "_model_module_version": "1.5.0",
            "_model_name": "ProgressStyleModel",
            "_view_count": null,
            "_view_module": "@jupyter-widgets/base",
            "_view_module_version": "1.2.0",
            "_view_name": "StyleView",
            "bar_color": null,
            "description_width": ""
          }
        },
        "00c37244af3046f9845544cfab537963": {
          "model_module": "@jupyter-widgets/controls",
          "model_name": "VBoxModel",
          "model_module_version": "1.5.0",
          "state": {
            "_dom_classes": [],
            "_model_module": "@jupyter-widgets/controls",
            "_model_module_version": "1.5.0",
            "_model_name": "VBoxModel",
            "_view_count": null,
            "_view_module": "@jupyter-widgets/controls",
            "_view_module_version": "1.5.0",
            "_view_name": "VBoxView",
            "box_style": "",
            "children": [
              "IPY_MODEL_f53fa9a7b24f4a558b1573d327b35604",
              "IPY_MODEL_c222967af12040afb00eb65d22894070"
            ],
            "layout": "IPY_MODEL_e70271a6034840d2aa6c538e8c9f1b87"
          }
        },
        "f53fa9a7b24f4a558b1573d327b35604": {
          "model_module": "@jupyter-widgets/controls",
          "model_name": "LabelModel",
          "model_module_version": "1.5.0",
          "state": {
            "_dom_classes": [],
            "_model_module": "@jupyter-widgets/controls",
            "_model_module_version": "1.5.0",
            "_model_name": "LabelModel",
            "_view_count": null,
            "_view_module": "@jupyter-widgets/controls",
            "_view_module_version": "1.5.0",
            "_view_name": "LabelView",
            "description": "",
            "description_tooltip": null,
            "layout": "IPY_MODEL_0f4a4991f44e42cab38e7e9ac862b4cf",
            "placeholder": "​",
            "style": "IPY_MODEL_737568c8e4fc4416b8d668dd9d8daac3",
            "value": "0.010 MB of 0.010 MB uploaded (0.000 MB deduped)\r"
          }
        },
        "c222967af12040afb00eb65d22894070": {
          "model_module": "@jupyter-widgets/controls",
          "model_name": "FloatProgressModel",
          "model_module_version": "1.5.0",
          "state": {
            "_dom_classes": [],
            "_model_module": "@jupyter-widgets/controls",
            "_model_module_version": "1.5.0",
            "_model_name": "FloatProgressModel",
            "_view_count": null,
            "_view_module": "@jupyter-widgets/controls",
            "_view_module_version": "1.5.0",
            "_view_name": "ProgressView",
            "bar_style": "",
            "description": "",
            "description_tooltip": null,
            "layout": "IPY_MODEL_4a9899b56fa7478e8b3c6c254c5e326c",
            "max": 1,
            "min": 0,
            "orientation": "horizontal",
            "style": "IPY_MODEL_12e77d1ea7094484ac390db0403b8cc1",
            "value": 1
          }
        },
        "e70271a6034840d2aa6c538e8c9f1b87": {
          "model_module": "@jupyter-widgets/base",
          "model_name": "LayoutModel",
          "model_module_version": "1.2.0",
          "state": {
            "_model_module": "@jupyter-widgets/base",
            "_model_module_version": "1.2.0",
            "_model_name": "LayoutModel",
            "_view_count": null,
            "_view_module": "@jupyter-widgets/base",
            "_view_module_version": "1.2.0",
            "_view_name": "LayoutView",
            "align_content": null,
            "align_items": null,
            "align_self": null,
            "border": null,
            "bottom": null,
            "display": null,
            "flex": null,
            "flex_flow": null,
            "grid_area": null,
            "grid_auto_columns": null,
            "grid_auto_flow": null,
            "grid_auto_rows": null,
            "grid_column": null,
            "grid_gap": null,
            "grid_row": null,
            "grid_template_areas": null,
            "grid_template_columns": null,
            "grid_template_rows": null,
            "height": null,
            "justify_content": null,
            "justify_items": null,
            "left": null,
            "margin": null,
            "max_height": null,
            "max_width": null,
            "min_height": null,
            "min_width": null,
            "object_fit": null,
            "object_position": null,
            "order": null,
            "overflow": null,
            "overflow_x": null,
            "overflow_y": null,
            "padding": null,
            "right": null,
            "top": null,
            "visibility": null,
            "width": null
          }
        },
        "0f4a4991f44e42cab38e7e9ac862b4cf": {
          "model_module": "@jupyter-widgets/base",
          "model_name": "LayoutModel",
          "model_module_version": "1.2.0",
          "state": {
            "_model_module": "@jupyter-widgets/base",
            "_model_module_version": "1.2.0",
            "_model_name": "LayoutModel",
            "_view_count": null,
            "_view_module": "@jupyter-widgets/base",
            "_view_module_version": "1.2.0",
            "_view_name": "LayoutView",
            "align_content": null,
            "align_items": null,
            "align_self": null,
            "border": null,
            "bottom": null,
            "display": null,
            "flex": null,
            "flex_flow": null,
            "grid_area": null,
            "grid_auto_columns": null,
            "grid_auto_flow": null,
            "grid_auto_rows": null,
            "grid_column": null,
            "grid_gap": null,
            "grid_row": null,
            "grid_template_areas": null,
            "grid_template_columns": null,
            "grid_template_rows": null,
            "height": null,
            "justify_content": null,
            "justify_items": null,
            "left": null,
            "margin": null,
            "max_height": null,
            "max_width": null,
            "min_height": null,
            "min_width": null,
            "object_fit": null,
            "object_position": null,
            "order": null,
            "overflow": null,
            "overflow_x": null,
            "overflow_y": null,
            "padding": null,
            "right": null,
            "top": null,
            "visibility": null,
            "width": null
          }
        },
        "737568c8e4fc4416b8d668dd9d8daac3": {
          "model_module": "@jupyter-widgets/controls",
          "model_name": "DescriptionStyleModel",
          "model_module_version": "1.5.0",
          "state": {
            "_model_module": "@jupyter-widgets/controls",
            "_model_module_version": "1.5.0",
            "_model_name": "DescriptionStyleModel",
            "_view_count": null,
            "_view_module": "@jupyter-widgets/base",
            "_view_module_version": "1.2.0",
            "_view_name": "StyleView",
            "description_width": ""
          }
        },
        "4a9899b56fa7478e8b3c6c254c5e326c": {
          "model_module": "@jupyter-widgets/base",
          "model_name": "LayoutModel",
          "model_module_version": "1.2.0",
          "state": {
            "_model_module": "@jupyter-widgets/base",
            "_model_module_version": "1.2.0",
            "_model_name": "LayoutModel",
            "_view_count": null,
            "_view_module": "@jupyter-widgets/base",
            "_view_module_version": "1.2.0",
            "_view_name": "LayoutView",
            "align_content": null,
            "align_items": null,
            "align_self": null,
            "border": null,
            "bottom": null,
            "display": null,
            "flex": null,
            "flex_flow": null,
            "grid_area": null,
            "grid_auto_columns": null,
            "grid_auto_flow": null,
            "grid_auto_rows": null,
            "grid_column": null,
            "grid_gap": null,
            "grid_row": null,
            "grid_template_areas": null,
            "grid_template_columns": null,
            "grid_template_rows": null,
            "height": null,
            "justify_content": null,
            "justify_items": null,
            "left": null,
            "margin": null,
            "max_height": null,
            "max_width": null,
            "min_height": null,
            "min_width": null,
            "object_fit": null,
            "object_position": null,
            "order": null,
            "overflow": null,
            "overflow_x": null,
            "overflow_y": null,
            "padding": null,
            "right": null,
            "top": null,
            "visibility": null,
            "width": null
          }
        },
        "12e77d1ea7094484ac390db0403b8cc1": {
          "model_module": "@jupyter-widgets/controls",
          "model_name": "ProgressStyleModel",
          "model_module_version": "1.5.0",
          "state": {
            "_model_module": "@jupyter-widgets/controls",
            "_model_module_version": "1.5.0",
            "_model_name": "ProgressStyleModel",
            "_view_count": null,
            "_view_module": "@jupyter-widgets/base",
            "_view_module_version": "1.2.0",
            "_view_name": "StyleView",
            "bar_color": null,
            "description_width": ""
          }
        },
        "523c5207b3d843269bc3a9d50186510e": {
          "model_module": "@jupyter-widgets/controls",
          "model_name": "VBoxModel",
          "model_module_version": "1.5.0",
          "state": {
            "_dom_classes": [],
            "_model_module": "@jupyter-widgets/controls",
            "_model_module_version": "1.5.0",
            "_model_name": "VBoxModel",
            "_view_count": null,
            "_view_module": "@jupyter-widgets/controls",
            "_view_module_version": "1.5.0",
            "_view_name": "VBoxView",
            "box_style": "",
            "children": [
              "IPY_MODEL_aeabf084d18d45e39a202f54a6578852",
              "IPY_MODEL_fed4382356de405e97321a2f6ba1c1bc"
            ],
            "layout": "IPY_MODEL_6ad7a31cab6249e7b9d7552836c466af"
          }
        },
        "aeabf084d18d45e39a202f54a6578852": {
          "model_module": "@jupyter-widgets/controls",
          "model_name": "LabelModel",
          "model_module_version": "1.5.0",
          "state": {
            "_dom_classes": [],
            "_model_module": "@jupyter-widgets/controls",
            "_model_module_version": "1.5.0",
            "_model_name": "LabelModel",
            "_view_count": null,
            "_view_module": "@jupyter-widgets/controls",
            "_view_module_version": "1.5.0",
            "_view_name": "LabelView",
            "description": "",
            "description_tooltip": null,
            "layout": "IPY_MODEL_059027d453cc4f828b8f221bae071629",
            "placeholder": "​",
            "style": "IPY_MODEL_21b055b85db14481ab76de5432b58a0b",
            "value": "0.010 MB of 0.010 MB uploaded (0.000 MB deduped)\r"
          }
        },
        "fed4382356de405e97321a2f6ba1c1bc": {
          "model_module": "@jupyter-widgets/controls",
          "model_name": "FloatProgressModel",
          "model_module_version": "1.5.0",
          "state": {
            "_dom_classes": [],
            "_model_module": "@jupyter-widgets/controls",
            "_model_module_version": "1.5.0",
            "_model_name": "FloatProgressModel",
            "_view_count": null,
            "_view_module": "@jupyter-widgets/controls",
            "_view_module_version": "1.5.0",
            "_view_name": "ProgressView",
            "bar_style": "",
            "description": "",
            "description_tooltip": null,
            "layout": "IPY_MODEL_46b5a9cad52b41e284bc170eebb4a09b",
            "max": 1,
            "min": 0,
            "orientation": "horizontal",
            "style": "IPY_MODEL_07f17e4048d246ca965b971647432670",
            "value": 1
          }
        },
        "6ad7a31cab6249e7b9d7552836c466af": {
          "model_module": "@jupyter-widgets/base",
          "model_name": "LayoutModel",
          "model_module_version": "1.2.0",
          "state": {
            "_model_module": "@jupyter-widgets/base",
            "_model_module_version": "1.2.0",
            "_model_name": "LayoutModel",
            "_view_count": null,
            "_view_module": "@jupyter-widgets/base",
            "_view_module_version": "1.2.0",
            "_view_name": "LayoutView",
            "align_content": null,
            "align_items": null,
            "align_self": null,
            "border": null,
            "bottom": null,
            "display": null,
            "flex": null,
            "flex_flow": null,
            "grid_area": null,
            "grid_auto_columns": null,
            "grid_auto_flow": null,
            "grid_auto_rows": null,
            "grid_column": null,
            "grid_gap": null,
            "grid_row": null,
            "grid_template_areas": null,
            "grid_template_columns": null,
            "grid_template_rows": null,
            "height": null,
            "justify_content": null,
            "justify_items": null,
            "left": null,
            "margin": null,
            "max_height": null,
            "max_width": null,
            "min_height": null,
            "min_width": null,
            "object_fit": null,
            "object_position": null,
            "order": null,
            "overflow": null,
            "overflow_x": null,
            "overflow_y": null,
            "padding": null,
            "right": null,
            "top": null,
            "visibility": null,
            "width": null
          }
        },
        "059027d453cc4f828b8f221bae071629": {
          "model_module": "@jupyter-widgets/base",
          "model_name": "LayoutModel",
          "model_module_version": "1.2.0",
          "state": {
            "_model_module": "@jupyter-widgets/base",
            "_model_module_version": "1.2.0",
            "_model_name": "LayoutModel",
            "_view_count": null,
            "_view_module": "@jupyter-widgets/base",
            "_view_module_version": "1.2.0",
            "_view_name": "LayoutView",
            "align_content": null,
            "align_items": null,
            "align_self": null,
            "border": null,
            "bottom": null,
            "display": null,
            "flex": null,
            "flex_flow": null,
            "grid_area": null,
            "grid_auto_columns": null,
            "grid_auto_flow": null,
            "grid_auto_rows": null,
            "grid_column": null,
            "grid_gap": null,
            "grid_row": null,
            "grid_template_areas": null,
            "grid_template_columns": null,
            "grid_template_rows": null,
            "height": null,
            "justify_content": null,
            "justify_items": null,
            "left": null,
            "margin": null,
            "max_height": null,
            "max_width": null,
            "min_height": null,
            "min_width": null,
            "object_fit": null,
            "object_position": null,
            "order": null,
            "overflow": null,
            "overflow_x": null,
            "overflow_y": null,
            "padding": null,
            "right": null,
            "top": null,
            "visibility": null,
            "width": null
          }
        },
        "21b055b85db14481ab76de5432b58a0b": {
          "model_module": "@jupyter-widgets/controls",
          "model_name": "DescriptionStyleModel",
          "model_module_version": "1.5.0",
          "state": {
            "_model_module": "@jupyter-widgets/controls",
            "_model_module_version": "1.5.0",
            "_model_name": "DescriptionStyleModel",
            "_view_count": null,
            "_view_module": "@jupyter-widgets/base",
            "_view_module_version": "1.2.0",
            "_view_name": "StyleView",
            "description_width": ""
          }
        },
        "46b5a9cad52b41e284bc170eebb4a09b": {
          "model_module": "@jupyter-widgets/base",
          "model_name": "LayoutModel",
          "model_module_version": "1.2.0",
          "state": {
            "_model_module": "@jupyter-widgets/base",
            "_model_module_version": "1.2.0",
            "_model_name": "LayoutModel",
            "_view_count": null,
            "_view_module": "@jupyter-widgets/base",
            "_view_module_version": "1.2.0",
            "_view_name": "LayoutView",
            "align_content": null,
            "align_items": null,
            "align_self": null,
            "border": null,
            "bottom": null,
            "display": null,
            "flex": null,
            "flex_flow": null,
            "grid_area": null,
            "grid_auto_columns": null,
            "grid_auto_flow": null,
            "grid_auto_rows": null,
            "grid_column": null,
            "grid_gap": null,
            "grid_row": null,
            "grid_template_areas": null,
            "grid_template_columns": null,
            "grid_template_rows": null,
            "height": null,
            "justify_content": null,
            "justify_items": null,
            "left": null,
            "margin": null,
            "max_height": null,
            "max_width": null,
            "min_height": null,
            "min_width": null,
            "object_fit": null,
            "object_position": null,
            "order": null,
            "overflow": null,
            "overflow_x": null,
            "overflow_y": null,
            "padding": null,
            "right": null,
            "top": null,
            "visibility": null,
            "width": null
          }
        },
        "07f17e4048d246ca965b971647432670": {
          "model_module": "@jupyter-widgets/controls",
          "model_name": "ProgressStyleModel",
          "model_module_version": "1.5.0",
          "state": {
            "_model_module": "@jupyter-widgets/controls",
            "_model_module_version": "1.5.0",
            "_model_name": "ProgressStyleModel",
            "_view_count": null,
            "_view_module": "@jupyter-widgets/base",
            "_view_module_version": "1.2.0",
            "_view_name": "StyleView",
            "bar_color": null,
            "description_width": ""
          }
        },
        "a3c2e507862146ad922ac7c2899a264e": {
          "model_module": "@jupyter-widgets/controls",
          "model_name": "VBoxModel",
          "model_module_version": "1.5.0",
          "state": {
            "_dom_classes": [],
            "_model_module": "@jupyter-widgets/controls",
            "_model_module_version": "1.5.0",
            "_model_name": "VBoxModel",
            "_view_count": null,
            "_view_module": "@jupyter-widgets/controls",
            "_view_module_version": "1.5.0",
            "_view_name": "VBoxView",
            "box_style": "",
            "children": [
              "IPY_MODEL_8c8b491601944d08affb183596d9443a",
              "IPY_MODEL_6054c59790c24fd8b736f3afdba2bc60"
            ],
            "layout": "IPY_MODEL_16a956a2baf1450cbd38d72fd53185ee"
          }
        },
        "8c8b491601944d08affb183596d9443a": {
          "model_module": "@jupyter-widgets/controls",
          "model_name": "LabelModel",
          "model_module_version": "1.5.0",
          "state": {
            "_dom_classes": [],
            "_model_module": "@jupyter-widgets/controls",
            "_model_module_version": "1.5.0",
            "_model_name": "LabelModel",
            "_view_count": null,
            "_view_module": "@jupyter-widgets/controls",
            "_view_module_version": "1.5.0",
            "_view_name": "LabelView",
            "description": "",
            "description_tooltip": null,
            "layout": "IPY_MODEL_d951bfac9e7445fc9ae7d26a0199592f",
            "placeholder": "​",
            "style": "IPY_MODEL_2d833ce2f5af42a7a8a8cb958b49391c",
            "value": "0.010 MB of 0.010 MB uploaded (0.000 MB deduped)\r"
          }
        },
        "6054c59790c24fd8b736f3afdba2bc60": {
          "model_module": "@jupyter-widgets/controls",
          "model_name": "FloatProgressModel",
          "model_module_version": "1.5.0",
          "state": {
            "_dom_classes": [],
            "_model_module": "@jupyter-widgets/controls",
            "_model_module_version": "1.5.0",
            "_model_name": "FloatProgressModel",
            "_view_count": null,
            "_view_module": "@jupyter-widgets/controls",
            "_view_module_version": "1.5.0",
            "_view_name": "ProgressView",
            "bar_style": "",
            "description": "",
            "description_tooltip": null,
            "layout": "IPY_MODEL_39727c10439640d7a72062d55226a3fb",
            "max": 1,
            "min": 0,
            "orientation": "horizontal",
            "style": "IPY_MODEL_08006c560009436888e427b8ddc16d43",
            "value": 1
          }
        },
        "16a956a2baf1450cbd38d72fd53185ee": {
          "model_module": "@jupyter-widgets/base",
          "model_name": "LayoutModel",
          "model_module_version": "1.2.0",
          "state": {
            "_model_module": "@jupyter-widgets/base",
            "_model_module_version": "1.2.0",
            "_model_name": "LayoutModel",
            "_view_count": null,
            "_view_module": "@jupyter-widgets/base",
            "_view_module_version": "1.2.0",
            "_view_name": "LayoutView",
            "align_content": null,
            "align_items": null,
            "align_self": null,
            "border": null,
            "bottom": null,
            "display": null,
            "flex": null,
            "flex_flow": null,
            "grid_area": null,
            "grid_auto_columns": null,
            "grid_auto_flow": null,
            "grid_auto_rows": null,
            "grid_column": null,
            "grid_gap": null,
            "grid_row": null,
            "grid_template_areas": null,
            "grid_template_columns": null,
            "grid_template_rows": null,
            "height": null,
            "justify_content": null,
            "justify_items": null,
            "left": null,
            "margin": null,
            "max_height": null,
            "max_width": null,
            "min_height": null,
            "min_width": null,
            "object_fit": null,
            "object_position": null,
            "order": null,
            "overflow": null,
            "overflow_x": null,
            "overflow_y": null,
            "padding": null,
            "right": null,
            "top": null,
            "visibility": null,
            "width": null
          }
        },
        "d951bfac9e7445fc9ae7d26a0199592f": {
          "model_module": "@jupyter-widgets/base",
          "model_name": "LayoutModel",
          "model_module_version": "1.2.0",
          "state": {
            "_model_module": "@jupyter-widgets/base",
            "_model_module_version": "1.2.0",
            "_model_name": "LayoutModel",
            "_view_count": null,
            "_view_module": "@jupyter-widgets/base",
            "_view_module_version": "1.2.0",
            "_view_name": "LayoutView",
            "align_content": null,
            "align_items": null,
            "align_self": null,
            "border": null,
            "bottom": null,
            "display": null,
            "flex": null,
            "flex_flow": null,
            "grid_area": null,
            "grid_auto_columns": null,
            "grid_auto_flow": null,
            "grid_auto_rows": null,
            "grid_column": null,
            "grid_gap": null,
            "grid_row": null,
            "grid_template_areas": null,
            "grid_template_columns": null,
            "grid_template_rows": null,
            "height": null,
            "justify_content": null,
            "justify_items": null,
            "left": null,
            "margin": null,
            "max_height": null,
            "max_width": null,
            "min_height": null,
            "min_width": null,
            "object_fit": null,
            "object_position": null,
            "order": null,
            "overflow": null,
            "overflow_x": null,
            "overflow_y": null,
            "padding": null,
            "right": null,
            "top": null,
            "visibility": null,
            "width": null
          }
        },
        "2d833ce2f5af42a7a8a8cb958b49391c": {
          "model_module": "@jupyter-widgets/controls",
          "model_name": "DescriptionStyleModel",
          "model_module_version": "1.5.0",
          "state": {
            "_model_module": "@jupyter-widgets/controls",
            "_model_module_version": "1.5.0",
            "_model_name": "DescriptionStyleModel",
            "_view_count": null,
            "_view_module": "@jupyter-widgets/base",
            "_view_module_version": "1.2.0",
            "_view_name": "StyleView",
            "description_width": ""
          }
        },
        "39727c10439640d7a72062d55226a3fb": {
          "model_module": "@jupyter-widgets/base",
          "model_name": "LayoutModel",
          "model_module_version": "1.2.0",
          "state": {
            "_model_module": "@jupyter-widgets/base",
            "_model_module_version": "1.2.0",
            "_model_name": "LayoutModel",
            "_view_count": null,
            "_view_module": "@jupyter-widgets/base",
            "_view_module_version": "1.2.0",
            "_view_name": "LayoutView",
            "align_content": null,
            "align_items": null,
            "align_self": null,
            "border": null,
            "bottom": null,
            "display": null,
            "flex": null,
            "flex_flow": null,
            "grid_area": null,
            "grid_auto_columns": null,
            "grid_auto_flow": null,
            "grid_auto_rows": null,
            "grid_column": null,
            "grid_gap": null,
            "grid_row": null,
            "grid_template_areas": null,
            "grid_template_columns": null,
            "grid_template_rows": null,
            "height": null,
            "justify_content": null,
            "justify_items": null,
            "left": null,
            "margin": null,
            "max_height": null,
            "max_width": null,
            "min_height": null,
            "min_width": null,
            "object_fit": null,
            "object_position": null,
            "order": null,
            "overflow": null,
            "overflow_x": null,
            "overflow_y": null,
            "padding": null,
            "right": null,
            "top": null,
            "visibility": null,
            "width": null
          }
        },
        "08006c560009436888e427b8ddc16d43": {
          "model_module": "@jupyter-widgets/controls",
          "model_name": "ProgressStyleModel",
          "model_module_version": "1.5.0",
          "state": {
            "_model_module": "@jupyter-widgets/controls",
            "_model_module_version": "1.5.0",
            "_model_name": "ProgressStyleModel",
            "_view_count": null,
            "_view_module": "@jupyter-widgets/base",
            "_view_module_version": "1.2.0",
            "_view_name": "StyleView",
            "bar_color": null,
            "description_width": ""
          }
        },
        "8c7d4e9b79564cefbcbe54f23e253aff": {
          "model_module": "@jupyter-widgets/controls",
          "model_name": "VBoxModel",
          "model_module_version": "1.5.0",
          "state": {
            "_dom_classes": [],
            "_model_module": "@jupyter-widgets/controls",
            "_model_module_version": "1.5.0",
            "_model_name": "VBoxModel",
            "_view_count": null,
            "_view_module": "@jupyter-widgets/controls",
            "_view_module_version": "1.5.0",
            "_view_name": "VBoxView",
            "box_style": "",
            "children": [
              "IPY_MODEL_bb3c5d3ea26c484cbf4252b89a9d9326",
              "IPY_MODEL_6dac2ded8b1347d1823a19554f796846"
            ],
            "layout": "IPY_MODEL_930da77e3aa847b28b25955a87d1969d"
          }
        },
        "bb3c5d3ea26c484cbf4252b89a9d9326": {
          "model_module": "@jupyter-widgets/controls",
          "model_name": "LabelModel",
          "model_module_version": "1.5.0",
          "state": {
            "_dom_classes": [],
            "_model_module": "@jupyter-widgets/controls",
            "_model_module_version": "1.5.0",
            "_model_name": "LabelModel",
            "_view_count": null,
            "_view_module": "@jupyter-widgets/controls",
            "_view_module_version": "1.5.0",
            "_view_name": "LabelView",
            "description": "",
            "description_tooltip": null,
            "layout": "IPY_MODEL_01455627f4d446538de642c0e59ae93a",
            "placeholder": "​",
            "style": "IPY_MODEL_f709effeddb14767a4accc2a5cbc6d9f",
            "value": "0.010 MB of 0.010 MB uploaded (0.000 MB deduped)\r"
          }
        },
        "6dac2ded8b1347d1823a19554f796846": {
          "model_module": "@jupyter-widgets/controls",
          "model_name": "FloatProgressModel",
          "model_module_version": "1.5.0",
          "state": {
            "_dom_classes": [],
            "_model_module": "@jupyter-widgets/controls",
            "_model_module_version": "1.5.0",
            "_model_name": "FloatProgressModel",
            "_view_count": null,
            "_view_module": "@jupyter-widgets/controls",
            "_view_module_version": "1.5.0",
            "_view_name": "ProgressView",
            "bar_style": "",
            "description": "",
            "description_tooltip": null,
            "layout": "IPY_MODEL_446c8422d6f049b99d94f490e6e217a7",
            "max": 1,
            "min": 0,
            "orientation": "horizontal",
            "style": "IPY_MODEL_166c539ff6454912a38897852322721d",
            "value": 1
          }
        },
        "930da77e3aa847b28b25955a87d1969d": {
          "model_module": "@jupyter-widgets/base",
          "model_name": "LayoutModel",
          "model_module_version": "1.2.0",
          "state": {
            "_model_module": "@jupyter-widgets/base",
            "_model_module_version": "1.2.0",
            "_model_name": "LayoutModel",
            "_view_count": null,
            "_view_module": "@jupyter-widgets/base",
            "_view_module_version": "1.2.0",
            "_view_name": "LayoutView",
            "align_content": null,
            "align_items": null,
            "align_self": null,
            "border": null,
            "bottom": null,
            "display": null,
            "flex": null,
            "flex_flow": null,
            "grid_area": null,
            "grid_auto_columns": null,
            "grid_auto_flow": null,
            "grid_auto_rows": null,
            "grid_column": null,
            "grid_gap": null,
            "grid_row": null,
            "grid_template_areas": null,
            "grid_template_columns": null,
            "grid_template_rows": null,
            "height": null,
            "justify_content": null,
            "justify_items": null,
            "left": null,
            "margin": null,
            "max_height": null,
            "max_width": null,
            "min_height": null,
            "min_width": null,
            "object_fit": null,
            "object_position": null,
            "order": null,
            "overflow": null,
            "overflow_x": null,
            "overflow_y": null,
            "padding": null,
            "right": null,
            "top": null,
            "visibility": null,
            "width": null
          }
        },
        "01455627f4d446538de642c0e59ae93a": {
          "model_module": "@jupyter-widgets/base",
          "model_name": "LayoutModel",
          "model_module_version": "1.2.0",
          "state": {
            "_model_module": "@jupyter-widgets/base",
            "_model_module_version": "1.2.0",
            "_model_name": "LayoutModel",
            "_view_count": null,
            "_view_module": "@jupyter-widgets/base",
            "_view_module_version": "1.2.0",
            "_view_name": "LayoutView",
            "align_content": null,
            "align_items": null,
            "align_self": null,
            "border": null,
            "bottom": null,
            "display": null,
            "flex": null,
            "flex_flow": null,
            "grid_area": null,
            "grid_auto_columns": null,
            "grid_auto_flow": null,
            "grid_auto_rows": null,
            "grid_column": null,
            "grid_gap": null,
            "grid_row": null,
            "grid_template_areas": null,
            "grid_template_columns": null,
            "grid_template_rows": null,
            "height": null,
            "justify_content": null,
            "justify_items": null,
            "left": null,
            "margin": null,
            "max_height": null,
            "max_width": null,
            "min_height": null,
            "min_width": null,
            "object_fit": null,
            "object_position": null,
            "order": null,
            "overflow": null,
            "overflow_x": null,
            "overflow_y": null,
            "padding": null,
            "right": null,
            "top": null,
            "visibility": null,
            "width": null
          }
        },
        "f709effeddb14767a4accc2a5cbc6d9f": {
          "model_module": "@jupyter-widgets/controls",
          "model_name": "DescriptionStyleModel",
          "model_module_version": "1.5.0",
          "state": {
            "_model_module": "@jupyter-widgets/controls",
            "_model_module_version": "1.5.0",
            "_model_name": "DescriptionStyleModel",
            "_view_count": null,
            "_view_module": "@jupyter-widgets/base",
            "_view_module_version": "1.2.0",
            "_view_name": "StyleView",
            "description_width": ""
          }
        },
        "446c8422d6f049b99d94f490e6e217a7": {
          "model_module": "@jupyter-widgets/base",
          "model_name": "LayoutModel",
          "model_module_version": "1.2.0",
          "state": {
            "_model_module": "@jupyter-widgets/base",
            "_model_module_version": "1.2.0",
            "_model_name": "LayoutModel",
            "_view_count": null,
            "_view_module": "@jupyter-widgets/base",
            "_view_module_version": "1.2.0",
            "_view_name": "LayoutView",
            "align_content": null,
            "align_items": null,
            "align_self": null,
            "border": null,
            "bottom": null,
            "display": null,
            "flex": null,
            "flex_flow": null,
            "grid_area": null,
            "grid_auto_columns": null,
            "grid_auto_flow": null,
            "grid_auto_rows": null,
            "grid_column": null,
            "grid_gap": null,
            "grid_row": null,
            "grid_template_areas": null,
            "grid_template_columns": null,
            "grid_template_rows": null,
            "height": null,
            "justify_content": null,
            "justify_items": null,
            "left": null,
            "margin": null,
            "max_height": null,
            "max_width": null,
            "min_height": null,
            "min_width": null,
            "object_fit": null,
            "object_position": null,
            "order": null,
            "overflow": null,
            "overflow_x": null,
            "overflow_y": null,
            "padding": null,
            "right": null,
            "top": null,
            "visibility": null,
            "width": null
          }
        },
        "166c539ff6454912a38897852322721d": {
          "model_module": "@jupyter-widgets/controls",
          "model_name": "ProgressStyleModel",
          "model_module_version": "1.5.0",
          "state": {
            "_model_module": "@jupyter-widgets/controls",
            "_model_module_version": "1.5.0",
            "_model_name": "ProgressStyleModel",
            "_view_count": null,
            "_view_module": "@jupyter-widgets/base",
            "_view_module_version": "1.2.0",
            "_view_name": "StyleView",
            "bar_color": null,
            "description_width": ""
          }
        },
        "122b04211be24b1289d191c0f962f2f2": {
          "model_module": "@jupyter-widgets/controls",
          "model_name": "VBoxModel",
          "model_module_version": "1.5.0",
          "state": {
            "_dom_classes": [],
            "_model_module": "@jupyter-widgets/controls",
            "_model_module_version": "1.5.0",
            "_model_name": "VBoxModel",
            "_view_count": null,
            "_view_module": "@jupyter-widgets/controls",
            "_view_module_version": "1.5.0",
            "_view_name": "VBoxView",
            "box_style": "",
            "children": [
              "IPY_MODEL_21440c08187a42d4b3b4505a233aaff7",
              "IPY_MODEL_fbe1c6e80fc94b46b04d0631e6dccf92"
            ],
            "layout": "IPY_MODEL_6170588e34504eeeb572bc975f02c1fb"
          }
        },
        "21440c08187a42d4b3b4505a233aaff7": {
          "model_module": "@jupyter-widgets/controls",
          "model_name": "LabelModel",
          "model_module_version": "1.5.0",
          "state": {
            "_dom_classes": [],
            "_model_module": "@jupyter-widgets/controls",
            "_model_module_version": "1.5.0",
            "_model_name": "LabelModel",
            "_view_count": null,
            "_view_module": "@jupyter-widgets/controls",
            "_view_module_version": "1.5.0",
            "_view_name": "LabelView",
            "description": "",
            "description_tooltip": null,
            "layout": "IPY_MODEL_e9984a88e7534956ac7542b39dc95aef",
            "placeholder": "​",
            "style": "IPY_MODEL_6b8fe0562d9349b1ac5ddf97dd6a9e3b",
            "value": "0.012 MB of 0.012 MB uploaded (0.000 MB deduped)\r"
          }
        },
        "fbe1c6e80fc94b46b04d0631e6dccf92": {
          "model_module": "@jupyter-widgets/controls",
          "model_name": "FloatProgressModel",
          "model_module_version": "1.5.0",
          "state": {
            "_dom_classes": [],
            "_model_module": "@jupyter-widgets/controls",
            "_model_module_version": "1.5.0",
            "_model_name": "FloatProgressModel",
            "_view_count": null,
            "_view_module": "@jupyter-widgets/controls",
            "_view_module_version": "1.5.0",
            "_view_name": "ProgressView",
            "bar_style": "",
            "description": "",
            "description_tooltip": null,
            "layout": "IPY_MODEL_e9c39d221b544acdbe4ff4d3e2b85565",
            "max": 1,
            "min": 0,
            "orientation": "horizontal",
            "style": "IPY_MODEL_62178773f83349e1a6f82c4ffecd0bfc",
            "value": 1
          }
        },
        "6170588e34504eeeb572bc975f02c1fb": {
          "model_module": "@jupyter-widgets/base",
          "model_name": "LayoutModel",
          "model_module_version": "1.2.0",
          "state": {
            "_model_module": "@jupyter-widgets/base",
            "_model_module_version": "1.2.0",
            "_model_name": "LayoutModel",
            "_view_count": null,
            "_view_module": "@jupyter-widgets/base",
            "_view_module_version": "1.2.0",
            "_view_name": "LayoutView",
            "align_content": null,
            "align_items": null,
            "align_self": null,
            "border": null,
            "bottom": null,
            "display": null,
            "flex": null,
            "flex_flow": null,
            "grid_area": null,
            "grid_auto_columns": null,
            "grid_auto_flow": null,
            "grid_auto_rows": null,
            "grid_column": null,
            "grid_gap": null,
            "grid_row": null,
            "grid_template_areas": null,
            "grid_template_columns": null,
            "grid_template_rows": null,
            "height": null,
            "justify_content": null,
            "justify_items": null,
            "left": null,
            "margin": null,
            "max_height": null,
            "max_width": null,
            "min_height": null,
            "min_width": null,
            "object_fit": null,
            "object_position": null,
            "order": null,
            "overflow": null,
            "overflow_x": null,
            "overflow_y": null,
            "padding": null,
            "right": null,
            "top": null,
            "visibility": null,
            "width": null
          }
        },
        "e9984a88e7534956ac7542b39dc95aef": {
          "model_module": "@jupyter-widgets/base",
          "model_name": "LayoutModel",
          "model_module_version": "1.2.0",
          "state": {
            "_model_module": "@jupyter-widgets/base",
            "_model_module_version": "1.2.0",
            "_model_name": "LayoutModel",
            "_view_count": null,
            "_view_module": "@jupyter-widgets/base",
            "_view_module_version": "1.2.0",
            "_view_name": "LayoutView",
            "align_content": null,
            "align_items": null,
            "align_self": null,
            "border": null,
            "bottom": null,
            "display": null,
            "flex": null,
            "flex_flow": null,
            "grid_area": null,
            "grid_auto_columns": null,
            "grid_auto_flow": null,
            "grid_auto_rows": null,
            "grid_column": null,
            "grid_gap": null,
            "grid_row": null,
            "grid_template_areas": null,
            "grid_template_columns": null,
            "grid_template_rows": null,
            "height": null,
            "justify_content": null,
            "justify_items": null,
            "left": null,
            "margin": null,
            "max_height": null,
            "max_width": null,
            "min_height": null,
            "min_width": null,
            "object_fit": null,
            "object_position": null,
            "order": null,
            "overflow": null,
            "overflow_x": null,
            "overflow_y": null,
            "padding": null,
            "right": null,
            "top": null,
            "visibility": null,
            "width": null
          }
        },
        "6b8fe0562d9349b1ac5ddf97dd6a9e3b": {
          "model_module": "@jupyter-widgets/controls",
          "model_name": "DescriptionStyleModel",
          "model_module_version": "1.5.0",
          "state": {
            "_model_module": "@jupyter-widgets/controls",
            "_model_module_version": "1.5.0",
            "_model_name": "DescriptionStyleModel",
            "_view_count": null,
            "_view_module": "@jupyter-widgets/base",
            "_view_module_version": "1.2.0",
            "_view_name": "StyleView",
            "description_width": ""
          }
        },
        "e9c39d221b544acdbe4ff4d3e2b85565": {
          "model_module": "@jupyter-widgets/base",
          "model_name": "LayoutModel",
          "model_module_version": "1.2.0",
          "state": {
            "_model_module": "@jupyter-widgets/base",
            "_model_module_version": "1.2.0",
            "_model_name": "LayoutModel",
            "_view_count": null,
            "_view_module": "@jupyter-widgets/base",
            "_view_module_version": "1.2.0",
            "_view_name": "LayoutView",
            "align_content": null,
            "align_items": null,
            "align_self": null,
            "border": null,
            "bottom": null,
            "display": null,
            "flex": null,
            "flex_flow": null,
            "grid_area": null,
            "grid_auto_columns": null,
            "grid_auto_flow": null,
            "grid_auto_rows": null,
            "grid_column": null,
            "grid_gap": null,
            "grid_row": null,
            "grid_template_areas": null,
            "grid_template_columns": null,
            "grid_template_rows": null,
            "height": null,
            "justify_content": null,
            "justify_items": null,
            "left": null,
            "margin": null,
            "max_height": null,
            "max_width": null,
            "min_height": null,
            "min_width": null,
            "object_fit": null,
            "object_position": null,
            "order": null,
            "overflow": null,
            "overflow_x": null,
            "overflow_y": null,
            "padding": null,
            "right": null,
            "top": null,
            "visibility": null,
            "width": null
          }
        },
        "62178773f83349e1a6f82c4ffecd0bfc": {
          "model_module": "@jupyter-widgets/controls",
          "model_name": "ProgressStyleModel",
          "model_module_version": "1.5.0",
          "state": {
            "_model_module": "@jupyter-widgets/controls",
            "_model_module_version": "1.5.0",
            "_model_name": "ProgressStyleModel",
            "_view_count": null,
            "_view_module": "@jupyter-widgets/base",
            "_view_module_version": "1.2.0",
            "_view_name": "StyleView",
            "bar_color": null,
            "description_width": ""
          }
        },
        "abf2d27696e74c99887f699fd2c4230e": {
          "model_module": "@jupyter-widgets/controls",
          "model_name": "VBoxModel",
          "model_module_version": "1.5.0",
          "state": {
            "_dom_classes": [],
            "_model_module": "@jupyter-widgets/controls",
            "_model_module_version": "1.5.0",
            "_model_name": "VBoxModel",
            "_view_count": null,
            "_view_module": "@jupyter-widgets/controls",
            "_view_module_version": "1.5.0",
            "_view_name": "VBoxView",
            "box_style": "",
            "children": [
              "IPY_MODEL_1614045e80c240b9a1ff1274531da46b",
              "IPY_MODEL_f76e577f56494511ba71f838d3190145"
            ],
            "layout": "IPY_MODEL_010a8be2001c46f38452d55b965f84fc"
          }
        },
        "1614045e80c240b9a1ff1274531da46b": {
          "model_module": "@jupyter-widgets/controls",
          "model_name": "LabelModel",
          "model_module_version": "1.5.0",
          "state": {
            "_dom_classes": [],
            "_model_module": "@jupyter-widgets/controls",
            "_model_module_version": "1.5.0",
            "_model_name": "LabelModel",
            "_view_count": null,
            "_view_module": "@jupyter-widgets/controls",
            "_view_module_version": "1.5.0",
            "_view_name": "LabelView",
            "description": "",
            "description_tooltip": null,
            "layout": "IPY_MODEL_6976f50b4cf84ae48c6eab4996f47d57",
            "placeholder": "​",
            "style": "IPY_MODEL_9c96e6891b1343af8a3b8f46fa3ac07b",
            "value": "0.012 MB of 0.012 MB uploaded (0.000 MB deduped)\r"
          }
        },
        "f76e577f56494511ba71f838d3190145": {
          "model_module": "@jupyter-widgets/controls",
          "model_name": "FloatProgressModel",
          "model_module_version": "1.5.0",
          "state": {
            "_dom_classes": [],
            "_model_module": "@jupyter-widgets/controls",
            "_model_module_version": "1.5.0",
            "_model_name": "FloatProgressModel",
            "_view_count": null,
            "_view_module": "@jupyter-widgets/controls",
            "_view_module_version": "1.5.0",
            "_view_name": "ProgressView",
            "bar_style": "",
            "description": "",
            "description_tooltip": null,
            "layout": "IPY_MODEL_a6c4975e70c74757b18d4fc278629bff",
            "max": 1,
            "min": 0,
            "orientation": "horizontal",
            "style": "IPY_MODEL_73ab51574f014bcb931e13fe768846f9",
            "value": 1
          }
        },
        "010a8be2001c46f38452d55b965f84fc": {
          "model_module": "@jupyter-widgets/base",
          "model_name": "LayoutModel",
          "model_module_version": "1.2.0",
          "state": {
            "_model_module": "@jupyter-widgets/base",
            "_model_module_version": "1.2.0",
            "_model_name": "LayoutModel",
            "_view_count": null,
            "_view_module": "@jupyter-widgets/base",
            "_view_module_version": "1.2.0",
            "_view_name": "LayoutView",
            "align_content": null,
            "align_items": null,
            "align_self": null,
            "border": null,
            "bottom": null,
            "display": null,
            "flex": null,
            "flex_flow": null,
            "grid_area": null,
            "grid_auto_columns": null,
            "grid_auto_flow": null,
            "grid_auto_rows": null,
            "grid_column": null,
            "grid_gap": null,
            "grid_row": null,
            "grid_template_areas": null,
            "grid_template_columns": null,
            "grid_template_rows": null,
            "height": null,
            "justify_content": null,
            "justify_items": null,
            "left": null,
            "margin": null,
            "max_height": null,
            "max_width": null,
            "min_height": null,
            "min_width": null,
            "object_fit": null,
            "object_position": null,
            "order": null,
            "overflow": null,
            "overflow_x": null,
            "overflow_y": null,
            "padding": null,
            "right": null,
            "top": null,
            "visibility": null,
            "width": null
          }
        },
        "6976f50b4cf84ae48c6eab4996f47d57": {
          "model_module": "@jupyter-widgets/base",
          "model_name": "LayoutModel",
          "model_module_version": "1.2.0",
          "state": {
            "_model_module": "@jupyter-widgets/base",
            "_model_module_version": "1.2.0",
            "_model_name": "LayoutModel",
            "_view_count": null,
            "_view_module": "@jupyter-widgets/base",
            "_view_module_version": "1.2.0",
            "_view_name": "LayoutView",
            "align_content": null,
            "align_items": null,
            "align_self": null,
            "border": null,
            "bottom": null,
            "display": null,
            "flex": null,
            "flex_flow": null,
            "grid_area": null,
            "grid_auto_columns": null,
            "grid_auto_flow": null,
            "grid_auto_rows": null,
            "grid_column": null,
            "grid_gap": null,
            "grid_row": null,
            "grid_template_areas": null,
            "grid_template_columns": null,
            "grid_template_rows": null,
            "height": null,
            "justify_content": null,
            "justify_items": null,
            "left": null,
            "margin": null,
            "max_height": null,
            "max_width": null,
            "min_height": null,
            "min_width": null,
            "object_fit": null,
            "object_position": null,
            "order": null,
            "overflow": null,
            "overflow_x": null,
            "overflow_y": null,
            "padding": null,
            "right": null,
            "top": null,
            "visibility": null,
            "width": null
          }
        },
        "9c96e6891b1343af8a3b8f46fa3ac07b": {
          "model_module": "@jupyter-widgets/controls",
          "model_name": "DescriptionStyleModel",
          "model_module_version": "1.5.0",
          "state": {
            "_model_module": "@jupyter-widgets/controls",
            "_model_module_version": "1.5.0",
            "_model_name": "DescriptionStyleModel",
            "_view_count": null,
            "_view_module": "@jupyter-widgets/base",
            "_view_module_version": "1.2.0",
            "_view_name": "StyleView",
            "description_width": ""
          }
        },
        "a6c4975e70c74757b18d4fc278629bff": {
          "model_module": "@jupyter-widgets/base",
          "model_name": "LayoutModel",
          "model_module_version": "1.2.0",
          "state": {
            "_model_module": "@jupyter-widgets/base",
            "_model_module_version": "1.2.0",
            "_model_name": "LayoutModel",
            "_view_count": null,
            "_view_module": "@jupyter-widgets/base",
            "_view_module_version": "1.2.0",
            "_view_name": "LayoutView",
            "align_content": null,
            "align_items": null,
            "align_self": null,
            "border": null,
            "bottom": null,
            "display": null,
            "flex": null,
            "flex_flow": null,
            "grid_area": null,
            "grid_auto_columns": null,
            "grid_auto_flow": null,
            "grid_auto_rows": null,
            "grid_column": null,
            "grid_gap": null,
            "grid_row": null,
            "grid_template_areas": null,
            "grid_template_columns": null,
            "grid_template_rows": null,
            "height": null,
            "justify_content": null,
            "justify_items": null,
            "left": null,
            "margin": null,
            "max_height": null,
            "max_width": null,
            "min_height": null,
            "min_width": null,
            "object_fit": null,
            "object_position": null,
            "order": null,
            "overflow": null,
            "overflow_x": null,
            "overflow_y": null,
            "padding": null,
            "right": null,
            "top": null,
            "visibility": null,
            "width": null
          }
        },
        "73ab51574f014bcb931e13fe768846f9": {
          "model_module": "@jupyter-widgets/controls",
          "model_name": "ProgressStyleModel",
          "model_module_version": "1.5.0",
          "state": {
            "_model_module": "@jupyter-widgets/controls",
            "_model_module_version": "1.5.0",
            "_model_name": "ProgressStyleModel",
            "_view_count": null,
            "_view_module": "@jupyter-widgets/base",
            "_view_module_version": "1.2.0",
            "_view_name": "StyleView",
            "bar_color": null,
            "description_width": ""
          }
        },
        "eb34f2472cd24c608d00d2251c717101": {
          "model_module": "@jupyter-widgets/controls",
          "model_name": "VBoxModel",
          "model_module_version": "1.5.0",
          "state": {
            "_dom_classes": [],
            "_model_module": "@jupyter-widgets/controls",
            "_model_module_version": "1.5.0",
            "_model_name": "VBoxModel",
            "_view_count": null,
            "_view_module": "@jupyter-widgets/controls",
            "_view_module_version": "1.5.0",
            "_view_name": "VBoxView",
            "box_style": "",
            "children": [
              "IPY_MODEL_06e5f59582b047c78b8fab9e99ade554",
              "IPY_MODEL_fadf40c66c214e52a02e3dcb367f0a1d"
            ],
            "layout": "IPY_MODEL_ac675bce38b1473b936de06da2d63f59"
          }
        },
        "06e5f59582b047c78b8fab9e99ade554": {
          "model_module": "@jupyter-widgets/controls",
          "model_name": "LabelModel",
          "model_module_version": "1.5.0",
          "state": {
            "_dom_classes": [],
            "_model_module": "@jupyter-widgets/controls",
            "_model_module_version": "1.5.0",
            "_model_name": "LabelModel",
            "_view_count": null,
            "_view_module": "@jupyter-widgets/controls",
            "_view_module_version": "1.5.0",
            "_view_name": "LabelView",
            "description": "",
            "description_tooltip": null,
            "layout": "IPY_MODEL_740bf51694b541c9b656a1f0ce90d99a",
            "placeholder": "​",
            "style": "IPY_MODEL_a00bbe400eec41b5aaca917e588b97bb",
            "value": "0.012 MB of 0.012 MB uploaded (0.000 MB deduped)\r"
          }
        },
        "fadf40c66c214e52a02e3dcb367f0a1d": {
          "model_module": "@jupyter-widgets/controls",
          "model_name": "FloatProgressModel",
          "model_module_version": "1.5.0",
          "state": {
            "_dom_classes": [],
            "_model_module": "@jupyter-widgets/controls",
            "_model_module_version": "1.5.0",
            "_model_name": "FloatProgressModel",
            "_view_count": null,
            "_view_module": "@jupyter-widgets/controls",
            "_view_module_version": "1.5.0",
            "_view_name": "ProgressView",
            "bar_style": "",
            "description": "",
            "description_tooltip": null,
            "layout": "IPY_MODEL_14e4ef9c3d6248c1b0c08a97a32ca0a8",
            "max": 1,
            "min": 0,
            "orientation": "horizontal",
            "style": "IPY_MODEL_cee37252ef9b4876b930aa2fb2355522",
            "value": 1
          }
        },
        "ac675bce38b1473b936de06da2d63f59": {
          "model_module": "@jupyter-widgets/base",
          "model_name": "LayoutModel",
          "model_module_version": "1.2.0",
          "state": {
            "_model_module": "@jupyter-widgets/base",
            "_model_module_version": "1.2.0",
            "_model_name": "LayoutModel",
            "_view_count": null,
            "_view_module": "@jupyter-widgets/base",
            "_view_module_version": "1.2.0",
            "_view_name": "LayoutView",
            "align_content": null,
            "align_items": null,
            "align_self": null,
            "border": null,
            "bottom": null,
            "display": null,
            "flex": null,
            "flex_flow": null,
            "grid_area": null,
            "grid_auto_columns": null,
            "grid_auto_flow": null,
            "grid_auto_rows": null,
            "grid_column": null,
            "grid_gap": null,
            "grid_row": null,
            "grid_template_areas": null,
            "grid_template_columns": null,
            "grid_template_rows": null,
            "height": null,
            "justify_content": null,
            "justify_items": null,
            "left": null,
            "margin": null,
            "max_height": null,
            "max_width": null,
            "min_height": null,
            "min_width": null,
            "object_fit": null,
            "object_position": null,
            "order": null,
            "overflow": null,
            "overflow_x": null,
            "overflow_y": null,
            "padding": null,
            "right": null,
            "top": null,
            "visibility": null,
            "width": null
          }
        },
        "740bf51694b541c9b656a1f0ce90d99a": {
          "model_module": "@jupyter-widgets/base",
          "model_name": "LayoutModel",
          "model_module_version": "1.2.0",
          "state": {
            "_model_module": "@jupyter-widgets/base",
            "_model_module_version": "1.2.0",
            "_model_name": "LayoutModel",
            "_view_count": null,
            "_view_module": "@jupyter-widgets/base",
            "_view_module_version": "1.2.0",
            "_view_name": "LayoutView",
            "align_content": null,
            "align_items": null,
            "align_self": null,
            "border": null,
            "bottom": null,
            "display": null,
            "flex": null,
            "flex_flow": null,
            "grid_area": null,
            "grid_auto_columns": null,
            "grid_auto_flow": null,
            "grid_auto_rows": null,
            "grid_column": null,
            "grid_gap": null,
            "grid_row": null,
            "grid_template_areas": null,
            "grid_template_columns": null,
            "grid_template_rows": null,
            "height": null,
            "justify_content": null,
            "justify_items": null,
            "left": null,
            "margin": null,
            "max_height": null,
            "max_width": null,
            "min_height": null,
            "min_width": null,
            "object_fit": null,
            "object_position": null,
            "order": null,
            "overflow": null,
            "overflow_x": null,
            "overflow_y": null,
            "padding": null,
            "right": null,
            "top": null,
            "visibility": null,
            "width": null
          }
        },
        "a00bbe400eec41b5aaca917e588b97bb": {
          "model_module": "@jupyter-widgets/controls",
          "model_name": "DescriptionStyleModel",
          "model_module_version": "1.5.0",
          "state": {
            "_model_module": "@jupyter-widgets/controls",
            "_model_module_version": "1.5.0",
            "_model_name": "DescriptionStyleModel",
            "_view_count": null,
            "_view_module": "@jupyter-widgets/base",
            "_view_module_version": "1.2.0",
            "_view_name": "StyleView",
            "description_width": ""
          }
        },
        "14e4ef9c3d6248c1b0c08a97a32ca0a8": {
          "model_module": "@jupyter-widgets/base",
          "model_name": "LayoutModel",
          "model_module_version": "1.2.0",
          "state": {
            "_model_module": "@jupyter-widgets/base",
            "_model_module_version": "1.2.0",
            "_model_name": "LayoutModel",
            "_view_count": null,
            "_view_module": "@jupyter-widgets/base",
            "_view_module_version": "1.2.0",
            "_view_name": "LayoutView",
            "align_content": null,
            "align_items": null,
            "align_self": null,
            "border": null,
            "bottom": null,
            "display": null,
            "flex": null,
            "flex_flow": null,
            "grid_area": null,
            "grid_auto_columns": null,
            "grid_auto_flow": null,
            "grid_auto_rows": null,
            "grid_column": null,
            "grid_gap": null,
            "grid_row": null,
            "grid_template_areas": null,
            "grid_template_columns": null,
            "grid_template_rows": null,
            "height": null,
            "justify_content": null,
            "justify_items": null,
            "left": null,
            "margin": null,
            "max_height": null,
            "max_width": null,
            "min_height": null,
            "min_width": null,
            "object_fit": null,
            "object_position": null,
            "order": null,
            "overflow": null,
            "overflow_x": null,
            "overflow_y": null,
            "padding": null,
            "right": null,
            "top": null,
            "visibility": null,
            "width": null
          }
        },
        "cee37252ef9b4876b930aa2fb2355522": {
          "model_module": "@jupyter-widgets/controls",
          "model_name": "ProgressStyleModel",
          "model_module_version": "1.5.0",
          "state": {
            "_model_module": "@jupyter-widgets/controls",
            "_model_module_version": "1.5.0",
            "_model_name": "ProgressStyleModel",
            "_view_count": null,
            "_view_module": "@jupyter-widgets/base",
            "_view_module_version": "1.2.0",
            "_view_name": "StyleView",
            "bar_color": null,
            "description_width": ""
          }
        },
        "dac22ff5c18e4379b6761f468d4d124a": {
          "model_module": "@jupyter-widgets/controls",
          "model_name": "VBoxModel",
          "model_module_version": "1.5.0",
          "state": {
            "_dom_classes": [],
            "_model_module": "@jupyter-widgets/controls",
            "_model_module_version": "1.5.0",
            "_model_name": "VBoxModel",
            "_view_count": null,
            "_view_module": "@jupyter-widgets/controls",
            "_view_module_version": "1.5.0",
            "_view_name": "VBoxView",
            "box_style": "",
            "children": [
              "IPY_MODEL_48f49bd69a0041cb81c5fee127d4bfff",
              "IPY_MODEL_582d2a034c7d4f6e983c87eafd4a27d2"
            ],
            "layout": "IPY_MODEL_690e2a9bba3a4726a5767bc689b3f7c4"
          }
        },
        "48f49bd69a0041cb81c5fee127d4bfff": {
          "model_module": "@jupyter-widgets/controls",
          "model_name": "LabelModel",
          "model_module_version": "1.5.0",
          "state": {
            "_dom_classes": [],
            "_model_module": "@jupyter-widgets/controls",
            "_model_module_version": "1.5.0",
            "_model_name": "LabelModel",
            "_view_count": null,
            "_view_module": "@jupyter-widgets/controls",
            "_view_module_version": "1.5.0",
            "_view_name": "LabelView",
            "description": "",
            "description_tooltip": null,
            "layout": "IPY_MODEL_8044a84a34f641a68a33480f96cf4993",
            "placeholder": "​",
            "style": "IPY_MODEL_411c7ea48fcf4a318e949a8c6bac3aa8",
            "value": "0.012 MB of 0.012 MB uploaded (0.000 MB deduped)\r"
          }
        },
        "582d2a034c7d4f6e983c87eafd4a27d2": {
          "model_module": "@jupyter-widgets/controls",
          "model_name": "FloatProgressModel",
          "model_module_version": "1.5.0",
          "state": {
            "_dom_classes": [],
            "_model_module": "@jupyter-widgets/controls",
            "_model_module_version": "1.5.0",
            "_model_name": "FloatProgressModel",
            "_view_count": null,
            "_view_module": "@jupyter-widgets/controls",
            "_view_module_version": "1.5.0",
            "_view_name": "ProgressView",
            "bar_style": "",
            "description": "",
            "description_tooltip": null,
            "layout": "IPY_MODEL_6daf6a1897aa4c2aacb070af17b4c5ec",
            "max": 1,
            "min": 0,
            "orientation": "horizontal",
            "style": "IPY_MODEL_9288184c5eec4ba4bde098c54f7d0805",
            "value": 1
          }
        },
        "690e2a9bba3a4726a5767bc689b3f7c4": {
          "model_module": "@jupyter-widgets/base",
          "model_name": "LayoutModel",
          "model_module_version": "1.2.0",
          "state": {
            "_model_module": "@jupyter-widgets/base",
            "_model_module_version": "1.2.0",
            "_model_name": "LayoutModel",
            "_view_count": null,
            "_view_module": "@jupyter-widgets/base",
            "_view_module_version": "1.2.0",
            "_view_name": "LayoutView",
            "align_content": null,
            "align_items": null,
            "align_self": null,
            "border": null,
            "bottom": null,
            "display": null,
            "flex": null,
            "flex_flow": null,
            "grid_area": null,
            "grid_auto_columns": null,
            "grid_auto_flow": null,
            "grid_auto_rows": null,
            "grid_column": null,
            "grid_gap": null,
            "grid_row": null,
            "grid_template_areas": null,
            "grid_template_columns": null,
            "grid_template_rows": null,
            "height": null,
            "justify_content": null,
            "justify_items": null,
            "left": null,
            "margin": null,
            "max_height": null,
            "max_width": null,
            "min_height": null,
            "min_width": null,
            "object_fit": null,
            "object_position": null,
            "order": null,
            "overflow": null,
            "overflow_x": null,
            "overflow_y": null,
            "padding": null,
            "right": null,
            "top": null,
            "visibility": null,
            "width": null
          }
        },
        "8044a84a34f641a68a33480f96cf4993": {
          "model_module": "@jupyter-widgets/base",
          "model_name": "LayoutModel",
          "model_module_version": "1.2.0",
          "state": {
            "_model_module": "@jupyter-widgets/base",
            "_model_module_version": "1.2.0",
            "_model_name": "LayoutModel",
            "_view_count": null,
            "_view_module": "@jupyter-widgets/base",
            "_view_module_version": "1.2.0",
            "_view_name": "LayoutView",
            "align_content": null,
            "align_items": null,
            "align_self": null,
            "border": null,
            "bottom": null,
            "display": null,
            "flex": null,
            "flex_flow": null,
            "grid_area": null,
            "grid_auto_columns": null,
            "grid_auto_flow": null,
            "grid_auto_rows": null,
            "grid_column": null,
            "grid_gap": null,
            "grid_row": null,
            "grid_template_areas": null,
            "grid_template_columns": null,
            "grid_template_rows": null,
            "height": null,
            "justify_content": null,
            "justify_items": null,
            "left": null,
            "margin": null,
            "max_height": null,
            "max_width": null,
            "min_height": null,
            "min_width": null,
            "object_fit": null,
            "object_position": null,
            "order": null,
            "overflow": null,
            "overflow_x": null,
            "overflow_y": null,
            "padding": null,
            "right": null,
            "top": null,
            "visibility": null,
            "width": null
          }
        },
        "411c7ea48fcf4a318e949a8c6bac3aa8": {
          "model_module": "@jupyter-widgets/controls",
          "model_name": "DescriptionStyleModel",
          "model_module_version": "1.5.0",
          "state": {
            "_model_module": "@jupyter-widgets/controls",
            "_model_module_version": "1.5.0",
            "_model_name": "DescriptionStyleModel",
            "_view_count": null,
            "_view_module": "@jupyter-widgets/base",
            "_view_module_version": "1.2.0",
            "_view_name": "StyleView",
            "description_width": ""
          }
        },
        "6daf6a1897aa4c2aacb070af17b4c5ec": {
          "model_module": "@jupyter-widgets/base",
          "model_name": "LayoutModel",
          "model_module_version": "1.2.0",
          "state": {
            "_model_module": "@jupyter-widgets/base",
            "_model_module_version": "1.2.0",
            "_model_name": "LayoutModel",
            "_view_count": null,
            "_view_module": "@jupyter-widgets/base",
            "_view_module_version": "1.2.0",
            "_view_name": "LayoutView",
            "align_content": null,
            "align_items": null,
            "align_self": null,
            "border": null,
            "bottom": null,
            "display": null,
            "flex": null,
            "flex_flow": null,
            "grid_area": null,
            "grid_auto_columns": null,
            "grid_auto_flow": null,
            "grid_auto_rows": null,
            "grid_column": null,
            "grid_gap": null,
            "grid_row": null,
            "grid_template_areas": null,
            "grid_template_columns": null,
            "grid_template_rows": null,
            "height": null,
            "justify_content": null,
            "justify_items": null,
            "left": null,
            "margin": null,
            "max_height": null,
            "max_width": null,
            "min_height": null,
            "min_width": null,
            "object_fit": null,
            "object_position": null,
            "order": null,
            "overflow": null,
            "overflow_x": null,
            "overflow_y": null,
            "padding": null,
            "right": null,
            "top": null,
            "visibility": null,
            "width": null
          }
        },
        "9288184c5eec4ba4bde098c54f7d0805": {
          "model_module": "@jupyter-widgets/controls",
          "model_name": "ProgressStyleModel",
          "model_module_version": "1.5.0",
          "state": {
            "_model_module": "@jupyter-widgets/controls",
            "_model_module_version": "1.5.0",
            "_model_name": "ProgressStyleModel",
            "_view_count": null,
            "_view_module": "@jupyter-widgets/base",
            "_view_module_version": "1.2.0",
            "_view_name": "StyleView",
            "bar_color": null,
            "description_width": ""
          }
        },
        "2e4f29ec26444c6ebd6c0c4e123e5511": {
          "model_module": "@jupyter-widgets/controls",
          "model_name": "VBoxModel",
          "model_module_version": "1.5.0",
          "state": {
            "_dom_classes": [],
            "_model_module": "@jupyter-widgets/controls",
            "_model_module_version": "1.5.0",
            "_model_name": "VBoxModel",
            "_view_count": null,
            "_view_module": "@jupyter-widgets/controls",
            "_view_module_version": "1.5.0",
            "_view_name": "VBoxView",
            "box_style": "",
            "children": [
              "IPY_MODEL_4fcbb7bad18b4f5ca856bcbf83e1de02",
              "IPY_MODEL_af0efe00c73a4c0eb8f9398300450dc4"
            ],
            "layout": "IPY_MODEL_24f5ecad7c714cd39e678b80338acfdf"
          }
        },
        "4fcbb7bad18b4f5ca856bcbf83e1de02": {
          "model_module": "@jupyter-widgets/controls",
          "model_name": "LabelModel",
          "model_module_version": "1.5.0",
          "state": {
            "_dom_classes": [],
            "_model_module": "@jupyter-widgets/controls",
            "_model_module_version": "1.5.0",
            "_model_name": "LabelModel",
            "_view_count": null,
            "_view_module": "@jupyter-widgets/controls",
            "_view_module_version": "1.5.0",
            "_view_name": "LabelView",
            "description": "",
            "description_tooltip": null,
            "layout": "IPY_MODEL_2abfb7d1554b41549a931298fe877b3f",
            "placeholder": "​",
            "style": "IPY_MODEL_28be2bb5269e4f2fa8fcc89271514089",
            "value": "0.012 MB of 0.012 MB uploaded (0.000 MB deduped)\r"
          }
        },
        "af0efe00c73a4c0eb8f9398300450dc4": {
          "model_module": "@jupyter-widgets/controls",
          "model_name": "FloatProgressModel",
          "model_module_version": "1.5.0",
          "state": {
            "_dom_classes": [],
            "_model_module": "@jupyter-widgets/controls",
            "_model_module_version": "1.5.0",
            "_model_name": "FloatProgressModel",
            "_view_count": null,
            "_view_module": "@jupyter-widgets/controls",
            "_view_module_version": "1.5.0",
            "_view_name": "ProgressView",
            "bar_style": "",
            "description": "",
            "description_tooltip": null,
            "layout": "IPY_MODEL_e87c0cc637cb415a922ab2b1bf05edec",
            "max": 1,
            "min": 0,
            "orientation": "horizontal",
            "style": "IPY_MODEL_4f7b4cdf273944508da96c137b288acf",
            "value": 1
          }
        },
        "24f5ecad7c714cd39e678b80338acfdf": {
          "model_module": "@jupyter-widgets/base",
          "model_name": "LayoutModel",
          "model_module_version": "1.2.0",
          "state": {
            "_model_module": "@jupyter-widgets/base",
            "_model_module_version": "1.2.0",
            "_model_name": "LayoutModel",
            "_view_count": null,
            "_view_module": "@jupyter-widgets/base",
            "_view_module_version": "1.2.0",
            "_view_name": "LayoutView",
            "align_content": null,
            "align_items": null,
            "align_self": null,
            "border": null,
            "bottom": null,
            "display": null,
            "flex": null,
            "flex_flow": null,
            "grid_area": null,
            "grid_auto_columns": null,
            "grid_auto_flow": null,
            "grid_auto_rows": null,
            "grid_column": null,
            "grid_gap": null,
            "grid_row": null,
            "grid_template_areas": null,
            "grid_template_columns": null,
            "grid_template_rows": null,
            "height": null,
            "justify_content": null,
            "justify_items": null,
            "left": null,
            "margin": null,
            "max_height": null,
            "max_width": null,
            "min_height": null,
            "min_width": null,
            "object_fit": null,
            "object_position": null,
            "order": null,
            "overflow": null,
            "overflow_x": null,
            "overflow_y": null,
            "padding": null,
            "right": null,
            "top": null,
            "visibility": null,
            "width": null
          }
        },
        "2abfb7d1554b41549a931298fe877b3f": {
          "model_module": "@jupyter-widgets/base",
          "model_name": "LayoutModel",
          "model_module_version": "1.2.0",
          "state": {
            "_model_module": "@jupyter-widgets/base",
            "_model_module_version": "1.2.0",
            "_model_name": "LayoutModel",
            "_view_count": null,
            "_view_module": "@jupyter-widgets/base",
            "_view_module_version": "1.2.0",
            "_view_name": "LayoutView",
            "align_content": null,
            "align_items": null,
            "align_self": null,
            "border": null,
            "bottom": null,
            "display": null,
            "flex": null,
            "flex_flow": null,
            "grid_area": null,
            "grid_auto_columns": null,
            "grid_auto_flow": null,
            "grid_auto_rows": null,
            "grid_column": null,
            "grid_gap": null,
            "grid_row": null,
            "grid_template_areas": null,
            "grid_template_columns": null,
            "grid_template_rows": null,
            "height": null,
            "justify_content": null,
            "justify_items": null,
            "left": null,
            "margin": null,
            "max_height": null,
            "max_width": null,
            "min_height": null,
            "min_width": null,
            "object_fit": null,
            "object_position": null,
            "order": null,
            "overflow": null,
            "overflow_x": null,
            "overflow_y": null,
            "padding": null,
            "right": null,
            "top": null,
            "visibility": null,
            "width": null
          }
        },
        "28be2bb5269e4f2fa8fcc89271514089": {
          "model_module": "@jupyter-widgets/controls",
          "model_name": "DescriptionStyleModel",
          "model_module_version": "1.5.0",
          "state": {
            "_model_module": "@jupyter-widgets/controls",
            "_model_module_version": "1.5.0",
            "_model_name": "DescriptionStyleModel",
            "_view_count": null,
            "_view_module": "@jupyter-widgets/base",
            "_view_module_version": "1.2.0",
            "_view_name": "StyleView",
            "description_width": ""
          }
        },
        "e87c0cc637cb415a922ab2b1bf05edec": {
          "model_module": "@jupyter-widgets/base",
          "model_name": "LayoutModel",
          "model_module_version": "1.2.0",
          "state": {
            "_model_module": "@jupyter-widgets/base",
            "_model_module_version": "1.2.0",
            "_model_name": "LayoutModel",
            "_view_count": null,
            "_view_module": "@jupyter-widgets/base",
            "_view_module_version": "1.2.0",
            "_view_name": "LayoutView",
            "align_content": null,
            "align_items": null,
            "align_self": null,
            "border": null,
            "bottom": null,
            "display": null,
            "flex": null,
            "flex_flow": null,
            "grid_area": null,
            "grid_auto_columns": null,
            "grid_auto_flow": null,
            "grid_auto_rows": null,
            "grid_column": null,
            "grid_gap": null,
            "grid_row": null,
            "grid_template_areas": null,
            "grid_template_columns": null,
            "grid_template_rows": null,
            "height": null,
            "justify_content": null,
            "justify_items": null,
            "left": null,
            "margin": null,
            "max_height": null,
            "max_width": null,
            "min_height": null,
            "min_width": null,
            "object_fit": null,
            "object_position": null,
            "order": null,
            "overflow": null,
            "overflow_x": null,
            "overflow_y": null,
            "padding": null,
            "right": null,
            "top": null,
            "visibility": null,
            "width": null
          }
        },
        "4f7b4cdf273944508da96c137b288acf": {
          "model_module": "@jupyter-widgets/controls",
          "model_name": "ProgressStyleModel",
          "model_module_version": "1.5.0",
          "state": {
            "_model_module": "@jupyter-widgets/controls",
            "_model_module_version": "1.5.0",
            "_model_name": "ProgressStyleModel",
            "_view_count": null,
            "_view_module": "@jupyter-widgets/base",
            "_view_module_version": "1.2.0",
            "_view_name": "StyleView",
            "bar_color": null,
            "description_width": ""
          }
        },
        "7d23375016744e90afb8958acf967780": {
          "model_module": "@jupyter-widgets/controls",
          "model_name": "VBoxModel",
          "model_module_version": "1.5.0",
          "state": {
            "_dom_classes": [],
            "_model_module": "@jupyter-widgets/controls",
            "_model_module_version": "1.5.0",
            "_model_name": "VBoxModel",
            "_view_count": null,
            "_view_module": "@jupyter-widgets/controls",
            "_view_module_version": "1.5.0",
            "_view_name": "VBoxView",
            "box_style": "",
            "children": [
              "IPY_MODEL_1bc08aa9ed524a8b83fd2c4f3742a472",
              "IPY_MODEL_c59dc667a93a42db9e5aa8e5adb7695d"
            ],
            "layout": "IPY_MODEL_a93843b351994a22a76ee6983bb9a722"
          }
        },
        "1bc08aa9ed524a8b83fd2c4f3742a472": {
          "model_module": "@jupyter-widgets/controls",
          "model_name": "LabelModel",
          "model_module_version": "1.5.0",
          "state": {
            "_dom_classes": [],
            "_model_module": "@jupyter-widgets/controls",
            "_model_module_version": "1.5.0",
            "_model_name": "LabelModel",
            "_view_count": null,
            "_view_module": "@jupyter-widgets/controls",
            "_view_module_version": "1.5.0",
            "_view_name": "LabelView",
            "description": "",
            "description_tooltip": null,
            "layout": "IPY_MODEL_e9d7b70f033a40109362598d3cdf93b1",
            "placeholder": "​",
            "style": "IPY_MODEL_b15638b1cc7e4424a310d5b7876a916a",
            "value": "0.012 MB of 0.012 MB uploaded (0.000 MB deduped)\r"
          }
        },
        "c59dc667a93a42db9e5aa8e5adb7695d": {
          "model_module": "@jupyter-widgets/controls",
          "model_name": "FloatProgressModel",
          "model_module_version": "1.5.0",
          "state": {
            "_dom_classes": [],
            "_model_module": "@jupyter-widgets/controls",
            "_model_module_version": "1.5.0",
            "_model_name": "FloatProgressModel",
            "_view_count": null,
            "_view_module": "@jupyter-widgets/controls",
            "_view_module_version": "1.5.0",
            "_view_name": "ProgressView",
            "bar_style": "",
            "description": "",
            "description_tooltip": null,
            "layout": "IPY_MODEL_a789cb3aa1654de4a8b7eef33d9b5f1d",
            "max": 1,
            "min": 0,
            "orientation": "horizontal",
            "style": "IPY_MODEL_5c4ba2bc89e24eeeb905942aad5ee599",
            "value": 1
          }
        },
        "a93843b351994a22a76ee6983bb9a722": {
          "model_module": "@jupyter-widgets/base",
          "model_name": "LayoutModel",
          "model_module_version": "1.2.0",
          "state": {
            "_model_module": "@jupyter-widgets/base",
            "_model_module_version": "1.2.0",
            "_model_name": "LayoutModel",
            "_view_count": null,
            "_view_module": "@jupyter-widgets/base",
            "_view_module_version": "1.2.0",
            "_view_name": "LayoutView",
            "align_content": null,
            "align_items": null,
            "align_self": null,
            "border": null,
            "bottom": null,
            "display": null,
            "flex": null,
            "flex_flow": null,
            "grid_area": null,
            "grid_auto_columns": null,
            "grid_auto_flow": null,
            "grid_auto_rows": null,
            "grid_column": null,
            "grid_gap": null,
            "grid_row": null,
            "grid_template_areas": null,
            "grid_template_columns": null,
            "grid_template_rows": null,
            "height": null,
            "justify_content": null,
            "justify_items": null,
            "left": null,
            "margin": null,
            "max_height": null,
            "max_width": null,
            "min_height": null,
            "min_width": null,
            "object_fit": null,
            "object_position": null,
            "order": null,
            "overflow": null,
            "overflow_x": null,
            "overflow_y": null,
            "padding": null,
            "right": null,
            "top": null,
            "visibility": null,
            "width": null
          }
        },
        "e9d7b70f033a40109362598d3cdf93b1": {
          "model_module": "@jupyter-widgets/base",
          "model_name": "LayoutModel",
          "model_module_version": "1.2.0",
          "state": {
            "_model_module": "@jupyter-widgets/base",
            "_model_module_version": "1.2.0",
            "_model_name": "LayoutModel",
            "_view_count": null,
            "_view_module": "@jupyter-widgets/base",
            "_view_module_version": "1.2.0",
            "_view_name": "LayoutView",
            "align_content": null,
            "align_items": null,
            "align_self": null,
            "border": null,
            "bottom": null,
            "display": null,
            "flex": null,
            "flex_flow": null,
            "grid_area": null,
            "grid_auto_columns": null,
            "grid_auto_flow": null,
            "grid_auto_rows": null,
            "grid_column": null,
            "grid_gap": null,
            "grid_row": null,
            "grid_template_areas": null,
            "grid_template_columns": null,
            "grid_template_rows": null,
            "height": null,
            "justify_content": null,
            "justify_items": null,
            "left": null,
            "margin": null,
            "max_height": null,
            "max_width": null,
            "min_height": null,
            "min_width": null,
            "object_fit": null,
            "object_position": null,
            "order": null,
            "overflow": null,
            "overflow_x": null,
            "overflow_y": null,
            "padding": null,
            "right": null,
            "top": null,
            "visibility": null,
            "width": null
          }
        },
        "b15638b1cc7e4424a310d5b7876a916a": {
          "model_module": "@jupyter-widgets/controls",
          "model_name": "DescriptionStyleModel",
          "model_module_version": "1.5.0",
          "state": {
            "_model_module": "@jupyter-widgets/controls",
            "_model_module_version": "1.5.0",
            "_model_name": "DescriptionStyleModel",
            "_view_count": null,
            "_view_module": "@jupyter-widgets/base",
            "_view_module_version": "1.2.0",
            "_view_name": "StyleView",
            "description_width": ""
          }
        },
        "a789cb3aa1654de4a8b7eef33d9b5f1d": {
          "model_module": "@jupyter-widgets/base",
          "model_name": "LayoutModel",
          "model_module_version": "1.2.0",
          "state": {
            "_model_module": "@jupyter-widgets/base",
            "_model_module_version": "1.2.0",
            "_model_name": "LayoutModel",
            "_view_count": null,
            "_view_module": "@jupyter-widgets/base",
            "_view_module_version": "1.2.0",
            "_view_name": "LayoutView",
            "align_content": null,
            "align_items": null,
            "align_self": null,
            "border": null,
            "bottom": null,
            "display": null,
            "flex": null,
            "flex_flow": null,
            "grid_area": null,
            "grid_auto_columns": null,
            "grid_auto_flow": null,
            "grid_auto_rows": null,
            "grid_column": null,
            "grid_gap": null,
            "grid_row": null,
            "grid_template_areas": null,
            "grid_template_columns": null,
            "grid_template_rows": null,
            "height": null,
            "justify_content": null,
            "justify_items": null,
            "left": null,
            "margin": null,
            "max_height": null,
            "max_width": null,
            "min_height": null,
            "min_width": null,
            "object_fit": null,
            "object_position": null,
            "order": null,
            "overflow": null,
            "overflow_x": null,
            "overflow_y": null,
            "padding": null,
            "right": null,
            "top": null,
            "visibility": null,
            "width": null
          }
        },
        "5c4ba2bc89e24eeeb905942aad5ee599": {
          "model_module": "@jupyter-widgets/controls",
          "model_name": "ProgressStyleModel",
          "model_module_version": "1.5.0",
          "state": {
            "_model_module": "@jupyter-widgets/controls",
            "_model_module_version": "1.5.0",
            "_model_name": "ProgressStyleModel",
            "_view_count": null,
            "_view_module": "@jupyter-widgets/base",
            "_view_module_version": "1.2.0",
            "_view_name": "StyleView",
            "bar_color": null,
            "description_width": ""
          }
        },
        "b1aa4b01521f4bdfaf1a8873556c43b6": {
          "model_module": "@jupyter-widgets/controls",
          "model_name": "VBoxModel",
          "model_module_version": "1.5.0",
          "state": {
            "_dom_classes": [],
            "_model_module": "@jupyter-widgets/controls",
            "_model_module_version": "1.5.0",
            "_model_name": "VBoxModel",
            "_view_count": null,
            "_view_module": "@jupyter-widgets/controls",
            "_view_module_version": "1.5.0",
            "_view_name": "VBoxView",
            "box_style": "",
            "children": [
              "IPY_MODEL_05da8bcd3556479d80cb501213f2f708",
              "IPY_MODEL_bebfa3eb98d344c7ae4557f07cdd47c0"
            ],
            "layout": "IPY_MODEL_9b2cb48fbbf64341bc97ad8963e702e2"
          }
        },
        "05da8bcd3556479d80cb501213f2f708": {
          "model_module": "@jupyter-widgets/controls",
          "model_name": "LabelModel",
          "model_module_version": "1.5.0",
          "state": {
            "_dom_classes": [],
            "_model_module": "@jupyter-widgets/controls",
            "_model_module_version": "1.5.0",
            "_model_name": "LabelModel",
            "_view_count": null,
            "_view_module": "@jupyter-widgets/controls",
            "_view_module_version": "1.5.0",
            "_view_name": "LabelView",
            "description": "",
            "description_tooltip": null,
            "layout": "IPY_MODEL_f9bad08321bd44acb57701ba70b6312c",
            "placeholder": "​",
            "style": "IPY_MODEL_cbb4f7375eda4aec8ba7f22ba65c8158",
            "value": "0.012 MB of 0.012 MB uploaded (0.000 MB deduped)\r"
          }
        },
        "bebfa3eb98d344c7ae4557f07cdd47c0": {
          "model_module": "@jupyter-widgets/controls",
          "model_name": "FloatProgressModel",
          "model_module_version": "1.5.0",
          "state": {
            "_dom_classes": [],
            "_model_module": "@jupyter-widgets/controls",
            "_model_module_version": "1.5.0",
            "_model_name": "FloatProgressModel",
            "_view_count": null,
            "_view_module": "@jupyter-widgets/controls",
            "_view_module_version": "1.5.0",
            "_view_name": "ProgressView",
            "bar_style": "",
            "description": "",
            "description_tooltip": null,
            "layout": "IPY_MODEL_3dbaa6d1b4df4183b3370a9c084e11fb",
            "max": 1,
            "min": 0,
            "orientation": "horizontal",
            "style": "IPY_MODEL_5cb93e58ea894afd81a14be4fedb7ae2",
            "value": 1
          }
        },
        "9b2cb48fbbf64341bc97ad8963e702e2": {
          "model_module": "@jupyter-widgets/base",
          "model_name": "LayoutModel",
          "model_module_version": "1.2.0",
          "state": {
            "_model_module": "@jupyter-widgets/base",
            "_model_module_version": "1.2.0",
            "_model_name": "LayoutModel",
            "_view_count": null,
            "_view_module": "@jupyter-widgets/base",
            "_view_module_version": "1.2.0",
            "_view_name": "LayoutView",
            "align_content": null,
            "align_items": null,
            "align_self": null,
            "border": null,
            "bottom": null,
            "display": null,
            "flex": null,
            "flex_flow": null,
            "grid_area": null,
            "grid_auto_columns": null,
            "grid_auto_flow": null,
            "grid_auto_rows": null,
            "grid_column": null,
            "grid_gap": null,
            "grid_row": null,
            "grid_template_areas": null,
            "grid_template_columns": null,
            "grid_template_rows": null,
            "height": null,
            "justify_content": null,
            "justify_items": null,
            "left": null,
            "margin": null,
            "max_height": null,
            "max_width": null,
            "min_height": null,
            "min_width": null,
            "object_fit": null,
            "object_position": null,
            "order": null,
            "overflow": null,
            "overflow_x": null,
            "overflow_y": null,
            "padding": null,
            "right": null,
            "top": null,
            "visibility": null,
            "width": null
          }
        },
        "f9bad08321bd44acb57701ba70b6312c": {
          "model_module": "@jupyter-widgets/base",
          "model_name": "LayoutModel",
          "model_module_version": "1.2.0",
          "state": {
            "_model_module": "@jupyter-widgets/base",
            "_model_module_version": "1.2.0",
            "_model_name": "LayoutModel",
            "_view_count": null,
            "_view_module": "@jupyter-widgets/base",
            "_view_module_version": "1.2.0",
            "_view_name": "LayoutView",
            "align_content": null,
            "align_items": null,
            "align_self": null,
            "border": null,
            "bottom": null,
            "display": null,
            "flex": null,
            "flex_flow": null,
            "grid_area": null,
            "grid_auto_columns": null,
            "grid_auto_flow": null,
            "grid_auto_rows": null,
            "grid_column": null,
            "grid_gap": null,
            "grid_row": null,
            "grid_template_areas": null,
            "grid_template_columns": null,
            "grid_template_rows": null,
            "height": null,
            "justify_content": null,
            "justify_items": null,
            "left": null,
            "margin": null,
            "max_height": null,
            "max_width": null,
            "min_height": null,
            "min_width": null,
            "object_fit": null,
            "object_position": null,
            "order": null,
            "overflow": null,
            "overflow_x": null,
            "overflow_y": null,
            "padding": null,
            "right": null,
            "top": null,
            "visibility": null,
            "width": null
          }
        },
        "cbb4f7375eda4aec8ba7f22ba65c8158": {
          "model_module": "@jupyter-widgets/controls",
          "model_name": "DescriptionStyleModel",
          "model_module_version": "1.5.0",
          "state": {
            "_model_module": "@jupyter-widgets/controls",
            "_model_module_version": "1.5.0",
            "_model_name": "DescriptionStyleModel",
            "_view_count": null,
            "_view_module": "@jupyter-widgets/base",
            "_view_module_version": "1.2.0",
            "_view_name": "StyleView",
            "description_width": ""
          }
        },
        "3dbaa6d1b4df4183b3370a9c084e11fb": {
          "model_module": "@jupyter-widgets/base",
          "model_name": "LayoutModel",
          "model_module_version": "1.2.0",
          "state": {
            "_model_module": "@jupyter-widgets/base",
            "_model_module_version": "1.2.0",
            "_model_name": "LayoutModel",
            "_view_count": null,
            "_view_module": "@jupyter-widgets/base",
            "_view_module_version": "1.2.0",
            "_view_name": "LayoutView",
            "align_content": null,
            "align_items": null,
            "align_self": null,
            "border": null,
            "bottom": null,
            "display": null,
            "flex": null,
            "flex_flow": null,
            "grid_area": null,
            "grid_auto_columns": null,
            "grid_auto_flow": null,
            "grid_auto_rows": null,
            "grid_column": null,
            "grid_gap": null,
            "grid_row": null,
            "grid_template_areas": null,
            "grid_template_columns": null,
            "grid_template_rows": null,
            "height": null,
            "justify_content": null,
            "justify_items": null,
            "left": null,
            "margin": null,
            "max_height": null,
            "max_width": null,
            "min_height": null,
            "min_width": null,
            "object_fit": null,
            "object_position": null,
            "order": null,
            "overflow": null,
            "overflow_x": null,
            "overflow_y": null,
            "padding": null,
            "right": null,
            "top": null,
            "visibility": null,
            "width": null
          }
        },
        "5cb93e58ea894afd81a14be4fedb7ae2": {
          "model_module": "@jupyter-widgets/controls",
          "model_name": "ProgressStyleModel",
          "model_module_version": "1.5.0",
          "state": {
            "_model_module": "@jupyter-widgets/controls",
            "_model_module_version": "1.5.0",
            "_model_name": "ProgressStyleModel",
            "_view_count": null,
            "_view_module": "@jupyter-widgets/base",
            "_view_module_version": "1.2.0",
            "_view_name": "StyleView",
            "bar_color": null,
            "description_width": ""
          }
        },
        "e2e7ed39bd844b94b700e91d8927a3c7": {
          "model_module": "@jupyter-widgets/controls",
          "model_name": "VBoxModel",
          "model_module_version": "1.5.0",
          "state": {
            "_dom_classes": [],
            "_model_module": "@jupyter-widgets/controls",
            "_model_module_version": "1.5.0",
            "_model_name": "VBoxModel",
            "_view_count": null,
            "_view_module": "@jupyter-widgets/controls",
            "_view_module_version": "1.5.0",
            "_view_name": "VBoxView",
            "box_style": "",
            "children": [
              "IPY_MODEL_2ef751b33bb44b0cad9c5c02ec5382f9",
              "IPY_MODEL_93dd30f3a84742439b45887089235eaf"
            ],
            "layout": "IPY_MODEL_f04573fee4b84cafa1511a6119d73904"
          }
        },
        "2ef751b33bb44b0cad9c5c02ec5382f9": {
          "model_module": "@jupyter-widgets/controls",
          "model_name": "LabelModel",
          "model_module_version": "1.5.0",
          "state": {
            "_dom_classes": [],
            "_model_module": "@jupyter-widgets/controls",
            "_model_module_version": "1.5.0",
            "_model_name": "LabelModel",
            "_view_count": null,
            "_view_module": "@jupyter-widgets/controls",
            "_view_module_version": "1.5.0",
            "_view_name": "LabelView",
            "description": "",
            "description_tooltip": null,
            "layout": "IPY_MODEL_02642f9b2bd3465fa3a8917600779975",
            "placeholder": "​",
            "style": "IPY_MODEL_5f0821ea7d524c59bf3aae5d684096c6",
            "value": "0.012 MB of 0.012 MB uploaded (0.000 MB deduped)\r"
          }
        },
        "93dd30f3a84742439b45887089235eaf": {
          "model_module": "@jupyter-widgets/controls",
          "model_name": "FloatProgressModel",
          "model_module_version": "1.5.0",
          "state": {
            "_dom_classes": [],
            "_model_module": "@jupyter-widgets/controls",
            "_model_module_version": "1.5.0",
            "_model_name": "FloatProgressModel",
            "_view_count": null,
            "_view_module": "@jupyter-widgets/controls",
            "_view_module_version": "1.5.0",
            "_view_name": "ProgressView",
            "bar_style": "",
            "description": "",
            "description_tooltip": null,
            "layout": "IPY_MODEL_d30f6b789c354c17896049244b10e30d",
            "max": 1,
            "min": 0,
            "orientation": "horizontal",
            "style": "IPY_MODEL_2a6b70e9008342bb9840e706d27730c8",
            "value": 1
          }
        },
        "f04573fee4b84cafa1511a6119d73904": {
          "model_module": "@jupyter-widgets/base",
          "model_name": "LayoutModel",
          "model_module_version": "1.2.0",
          "state": {
            "_model_module": "@jupyter-widgets/base",
            "_model_module_version": "1.2.0",
            "_model_name": "LayoutModel",
            "_view_count": null,
            "_view_module": "@jupyter-widgets/base",
            "_view_module_version": "1.2.0",
            "_view_name": "LayoutView",
            "align_content": null,
            "align_items": null,
            "align_self": null,
            "border": null,
            "bottom": null,
            "display": null,
            "flex": null,
            "flex_flow": null,
            "grid_area": null,
            "grid_auto_columns": null,
            "grid_auto_flow": null,
            "grid_auto_rows": null,
            "grid_column": null,
            "grid_gap": null,
            "grid_row": null,
            "grid_template_areas": null,
            "grid_template_columns": null,
            "grid_template_rows": null,
            "height": null,
            "justify_content": null,
            "justify_items": null,
            "left": null,
            "margin": null,
            "max_height": null,
            "max_width": null,
            "min_height": null,
            "min_width": null,
            "object_fit": null,
            "object_position": null,
            "order": null,
            "overflow": null,
            "overflow_x": null,
            "overflow_y": null,
            "padding": null,
            "right": null,
            "top": null,
            "visibility": null,
            "width": null
          }
        },
        "02642f9b2bd3465fa3a8917600779975": {
          "model_module": "@jupyter-widgets/base",
          "model_name": "LayoutModel",
          "model_module_version": "1.2.0",
          "state": {
            "_model_module": "@jupyter-widgets/base",
            "_model_module_version": "1.2.0",
            "_model_name": "LayoutModel",
            "_view_count": null,
            "_view_module": "@jupyter-widgets/base",
            "_view_module_version": "1.2.0",
            "_view_name": "LayoutView",
            "align_content": null,
            "align_items": null,
            "align_self": null,
            "border": null,
            "bottom": null,
            "display": null,
            "flex": null,
            "flex_flow": null,
            "grid_area": null,
            "grid_auto_columns": null,
            "grid_auto_flow": null,
            "grid_auto_rows": null,
            "grid_column": null,
            "grid_gap": null,
            "grid_row": null,
            "grid_template_areas": null,
            "grid_template_columns": null,
            "grid_template_rows": null,
            "height": null,
            "justify_content": null,
            "justify_items": null,
            "left": null,
            "margin": null,
            "max_height": null,
            "max_width": null,
            "min_height": null,
            "min_width": null,
            "object_fit": null,
            "object_position": null,
            "order": null,
            "overflow": null,
            "overflow_x": null,
            "overflow_y": null,
            "padding": null,
            "right": null,
            "top": null,
            "visibility": null,
            "width": null
          }
        },
        "5f0821ea7d524c59bf3aae5d684096c6": {
          "model_module": "@jupyter-widgets/controls",
          "model_name": "DescriptionStyleModel",
          "model_module_version": "1.5.0",
          "state": {
            "_model_module": "@jupyter-widgets/controls",
            "_model_module_version": "1.5.0",
            "_model_name": "DescriptionStyleModel",
            "_view_count": null,
            "_view_module": "@jupyter-widgets/base",
            "_view_module_version": "1.2.0",
            "_view_name": "StyleView",
            "description_width": ""
          }
        },
        "d30f6b789c354c17896049244b10e30d": {
          "model_module": "@jupyter-widgets/base",
          "model_name": "LayoutModel",
          "model_module_version": "1.2.0",
          "state": {
            "_model_module": "@jupyter-widgets/base",
            "_model_module_version": "1.2.0",
            "_model_name": "LayoutModel",
            "_view_count": null,
            "_view_module": "@jupyter-widgets/base",
            "_view_module_version": "1.2.0",
            "_view_name": "LayoutView",
            "align_content": null,
            "align_items": null,
            "align_self": null,
            "border": null,
            "bottom": null,
            "display": null,
            "flex": null,
            "flex_flow": null,
            "grid_area": null,
            "grid_auto_columns": null,
            "grid_auto_flow": null,
            "grid_auto_rows": null,
            "grid_column": null,
            "grid_gap": null,
            "grid_row": null,
            "grid_template_areas": null,
            "grid_template_columns": null,
            "grid_template_rows": null,
            "height": null,
            "justify_content": null,
            "justify_items": null,
            "left": null,
            "margin": null,
            "max_height": null,
            "max_width": null,
            "min_height": null,
            "min_width": null,
            "object_fit": null,
            "object_position": null,
            "order": null,
            "overflow": null,
            "overflow_x": null,
            "overflow_y": null,
            "padding": null,
            "right": null,
            "top": null,
            "visibility": null,
            "width": null
          }
        },
        "2a6b70e9008342bb9840e706d27730c8": {
          "model_module": "@jupyter-widgets/controls",
          "model_name": "ProgressStyleModel",
          "model_module_version": "1.5.0",
          "state": {
            "_model_module": "@jupyter-widgets/controls",
            "_model_module_version": "1.5.0",
            "_model_name": "ProgressStyleModel",
            "_view_count": null,
            "_view_module": "@jupyter-widgets/base",
            "_view_module_version": "1.2.0",
            "_view_name": "StyleView",
            "bar_color": null,
            "description_width": ""
          }
        },
        "575c4a1be9794607bd199c0f8fcd53ac": {
          "model_module": "@jupyter-widgets/controls",
          "model_name": "VBoxModel",
          "model_module_version": "1.5.0",
          "state": {
            "_dom_classes": [],
            "_model_module": "@jupyter-widgets/controls",
            "_model_module_version": "1.5.0",
            "_model_name": "VBoxModel",
            "_view_count": null,
            "_view_module": "@jupyter-widgets/controls",
            "_view_module_version": "1.5.0",
            "_view_name": "VBoxView",
            "box_style": "",
            "children": [
              "IPY_MODEL_064032e04d3449f2ab5740d80516efa7",
              "IPY_MODEL_2cce88d3bae04b90ae7c62a20014c0a8"
            ],
            "layout": "IPY_MODEL_9c40435956ca4489ba4255a447915eef"
          }
        },
        "064032e04d3449f2ab5740d80516efa7": {
          "model_module": "@jupyter-widgets/controls",
          "model_name": "LabelModel",
          "model_module_version": "1.5.0",
          "state": {
            "_dom_classes": [],
            "_model_module": "@jupyter-widgets/controls",
            "_model_module_version": "1.5.0",
            "_model_name": "LabelModel",
            "_view_count": null,
            "_view_module": "@jupyter-widgets/controls",
            "_view_module_version": "1.5.0",
            "_view_name": "LabelView",
            "description": "",
            "description_tooltip": null,
            "layout": "IPY_MODEL_4cdd84a13a0b4f67ba31b91bcaea9242",
            "placeholder": "​",
            "style": "IPY_MODEL_458ab74ad9a0448d8707b1c958ff1b96",
            "value": "0.012 MB of 0.012 MB uploaded (0.000 MB deduped)\r"
          }
        },
        "2cce88d3bae04b90ae7c62a20014c0a8": {
          "model_module": "@jupyter-widgets/controls",
          "model_name": "FloatProgressModel",
          "model_module_version": "1.5.0",
          "state": {
            "_dom_classes": [],
            "_model_module": "@jupyter-widgets/controls",
            "_model_module_version": "1.5.0",
            "_model_name": "FloatProgressModel",
            "_view_count": null,
            "_view_module": "@jupyter-widgets/controls",
            "_view_module_version": "1.5.0",
            "_view_name": "ProgressView",
            "bar_style": "",
            "description": "",
            "description_tooltip": null,
            "layout": "IPY_MODEL_62558da5ec294e7699e2953b5b2fb503",
            "max": 1,
            "min": 0,
            "orientation": "horizontal",
            "style": "IPY_MODEL_c76288a3dba741dd8d8bbe5efa4aebb2",
            "value": 1
          }
        },
        "9c40435956ca4489ba4255a447915eef": {
          "model_module": "@jupyter-widgets/base",
          "model_name": "LayoutModel",
          "model_module_version": "1.2.0",
          "state": {
            "_model_module": "@jupyter-widgets/base",
            "_model_module_version": "1.2.0",
            "_model_name": "LayoutModel",
            "_view_count": null,
            "_view_module": "@jupyter-widgets/base",
            "_view_module_version": "1.2.0",
            "_view_name": "LayoutView",
            "align_content": null,
            "align_items": null,
            "align_self": null,
            "border": null,
            "bottom": null,
            "display": null,
            "flex": null,
            "flex_flow": null,
            "grid_area": null,
            "grid_auto_columns": null,
            "grid_auto_flow": null,
            "grid_auto_rows": null,
            "grid_column": null,
            "grid_gap": null,
            "grid_row": null,
            "grid_template_areas": null,
            "grid_template_columns": null,
            "grid_template_rows": null,
            "height": null,
            "justify_content": null,
            "justify_items": null,
            "left": null,
            "margin": null,
            "max_height": null,
            "max_width": null,
            "min_height": null,
            "min_width": null,
            "object_fit": null,
            "object_position": null,
            "order": null,
            "overflow": null,
            "overflow_x": null,
            "overflow_y": null,
            "padding": null,
            "right": null,
            "top": null,
            "visibility": null,
            "width": null
          }
        },
        "4cdd84a13a0b4f67ba31b91bcaea9242": {
          "model_module": "@jupyter-widgets/base",
          "model_name": "LayoutModel",
          "model_module_version": "1.2.0",
          "state": {
            "_model_module": "@jupyter-widgets/base",
            "_model_module_version": "1.2.0",
            "_model_name": "LayoutModel",
            "_view_count": null,
            "_view_module": "@jupyter-widgets/base",
            "_view_module_version": "1.2.0",
            "_view_name": "LayoutView",
            "align_content": null,
            "align_items": null,
            "align_self": null,
            "border": null,
            "bottom": null,
            "display": null,
            "flex": null,
            "flex_flow": null,
            "grid_area": null,
            "grid_auto_columns": null,
            "grid_auto_flow": null,
            "grid_auto_rows": null,
            "grid_column": null,
            "grid_gap": null,
            "grid_row": null,
            "grid_template_areas": null,
            "grid_template_columns": null,
            "grid_template_rows": null,
            "height": null,
            "justify_content": null,
            "justify_items": null,
            "left": null,
            "margin": null,
            "max_height": null,
            "max_width": null,
            "min_height": null,
            "min_width": null,
            "object_fit": null,
            "object_position": null,
            "order": null,
            "overflow": null,
            "overflow_x": null,
            "overflow_y": null,
            "padding": null,
            "right": null,
            "top": null,
            "visibility": null,
            "width": null
          }
        },
        "458ab74ad9a0448d8707b1c958ff1b96": {
          "model_module": "@jupyter-widgets/controls",
          "model_name": "DescriptionStyleModel",
          "model_module_version": "1.5.0",
          "state": {
            "_model_module": "@jupyter-widgets/controls",
            "_model_module_version": "1.5.0",
            "_model_name": "DescriptionStyleModel",
            "_view_count": null,
            "_view_module": "@jupyter-widgets/base",
            "_view_module_version": "1.2.0",
            "_view_name": "StyleView",
            "description_width": ""
          }
        },
        "62558da5ec294e7699e2953b5b2fb503": {
          "model_module": "@jupyter-widgets/base",
          "model_name": "LayoutModel",
          "model_module_version": "1.2.0",
          "state": {
            "_model_module": "@jupyter-widgets/base",
            "_model_module_version": "1.2.0",
            "_model_name": "LayoutModel",
            "_view_count": null,
            "_view_module": "@jupyter-widgets/base",
            "_view_module_version": "1.2.0",
            "_view_name": "LayoutView",
            "align_content": null,
            "align_items": null,
            "align_self": null,
            "border": null,
            "bottom": null,
            "display": null,
            "flex": null,
            "flex_flow": null,
            "grid_area": null,
            "grid_auto_columns": null,
            "grid_auto_flow": null,
            "grid_auto_rows": null,
            "grid_column": null,
            "grid_gap": null,
            "grid_row": null,
            "grid_template_areas": null,
            "grid_template_columns": null,
            "grid_template_rows": null,
            "height": null,
            "justify_content": null,
            "justify_items": null,
            "left": null,
            "margin": null,
            "max_height": null,
            "max_width": null,
            "min_height": null,
            "min_width": null,
            "object_fit": null,
            "object_position": null,
            "order": null,
            "overflow": null,
            "overflow_x": null,
            "overflow_y": null,
            "padding": null,
            "right": null,
            "top": null,
            "visibility": null,
            "width": null
          }
        },
        "c76288a3dba741dd8d8bbe5efa4aebb2": {
          "model_module": "@jupyter-widgets/controls",
          "model_name": "ProgressStyleModel",
          "model_module_version": "1.5.0",
          "state": {
            "_model_module": "@jupyter-widgets/controls",
            "_model_module_version": "1.5.0",
            "_model_name": "ProgressStyleModel",
            "_view_count": null,
            "_view_module": "@jupyter-widgets/base",
            "_view_module_version": "1.2.0",
            "_view_name": "StyleView",
            "bar_color": null,
            "description_width": ""
          }
        },
        "c29ee90458a94e31a04cfbfedbcff0db": {
          "model_module": "@jupyter-widgets/controls",
          "model_name": "VBoxModel",
          "model_module_version": "1.5.0",
          "state": {
            "_dom_classes": [],
            "_model_module": "@jupyter-widgets/controls",
            "_model_module_version": "1.5.0",
            "_model_name": "VBoxModel",
            "_view_count": null,
            "_view_module": "@jupyter-widgets/controls",
            "_view_module_version": "1.5.0",
            "_view_name": "VBoxView",
            "box_style": "",
            "children": [
              "IPY_MODEL_f36cbcd13c81428996acb622ba545fe7",
              "IPY_MODEL_b61e4441cd2d4c639a33d8340fe13c95"
            ],
            "layout": "IPY_MODEL_e3e8e301ace945dbb0264a2d6227eaae"
          }
        },
        "f36cbcd13c81428996acb622ba545fe7": {
          "model_module": "@jupyter-widgets/controls",
          "model_name": "LabelModel",
          "model_module_version": "1.5.0",
          "state": {
            "_dom_classes": [],
            "_model_module": "@jupyter-widgets/controls",
            "_model_module_version": "1.5.0",
            "_model_name": "LabelModel",
            "_view_count": null,
            "_view_module": "@jupyter-widgets/controls",
            "_view_module_version": "1.5.0",
            "_view_name": "LabelView",
            "description": "",
            "description_tooltip": null,
            "layout": "IPY_MODEL_b05515bffef04936adc67f1c6590b3c7",
            "placeholder": "​",
            "style": "IPY_MODEL_3a666b8ad1ea4eec99fff80c045a396d",
            "value": "0.012 MB of 0.012 MB uploaded (0.000 MB deduped)\r"
          }
        },
        "b61e4441cd2d4c639a33d8340fe13c95": {
          "model_module": "@jupyter-widgets/controls",
          "model_name": "FloatProgressModel",
          "model_module_version": "1.5.0",
          "state": {
            "_dom_classes": [],
            "_model_module": "@jupyter-widgets/controls",
            "_model_module_version": "1.5.0",
            "_model_name": "FloatProgressModel",
            "_view_count": null,
            "_view_module": "@jupyter-widgets/controls",
            "_view_module_version": "1.5.0",
            "_view_name": "ProgressView",
            "bar_style": "",
            "description": "",
            "description_tooltip": null,
            "layout": "IPY_MODEL_5700373b523543e98b45ffa58a649db0",
            "max": 1,
            "min": 0,
            "orientation": "horizontal",
            "style": "IPY_MODEL_9852b1ddb5c942919e26698c8e01b1e7",
            "value": 1
          }
        },
        "e3e8e301ace945dbb0264a2d6227eaae": {
          "model_module": "@jupyter-widgets/base",
          "model_name": "LayoutModel",
          "model_module_version": "1.2.0",
          "state": {
            "_model_module": "@jupyter-widgets/base",
            "_model_module_version": "1.2.0",
            "_model_name": "LayoutModel",
            "_view_count": null,
            "_view_module": "@jupyter-widgets/base",
            "_view_module_version": "1.2.0",
            "_view_name": "LayoutView",
            "align_content": null,
            "align_items": null,
            "align_self": null,
            "border": null,
            "bottom": null,
            "display": null,
            "flex": null,
            "flex_flow": null,
            "grid_area": null,
            "grid_auto_columns": null,
            "grid_auto_flow": null,
            "grid_auto_rows": null,
            "grid_column": null,
            "grid_gap": null,
            "grid_row": null,
            "grid_template_areas": null,
            "grid_template_columns": null,
            "grid_template_rows": null,
            "height": null,
            "justify_content": null,
            "justify_items": null,
            "left": null,
            "margin": null,
            "max_height": null,
            "max_width": null,
            "min_height": null,
            "min_width": null,
            "object_fit": null,
            "object_position": null,
            "order": null,
            "overflow": null,
            "overflow_x": null,
            "overflow_y": null,
            "padding": null,
            "right": null,
            "top": null,
            "visibility": null,
            "width": null
          }
        },
        "b05515bffef04936adc67f1c6590b3c7": {
          "model_module": "@jupyter-widgets/base",
          "model_name": "LayoutModel",
          "model_module_version": "1.2.0",
          "state": {
            "_model_module": "@jupyter-widgets/base",
            "_model_module_version": "1.2.0",
            "_model_name": "LayoutModel",
            "_view_count": null,
            "_view_module": "@jupyter-widgets/base",
            "_view_module_version": "1.2.0",
            "_view_name": "LayoutView",
            "align_content": null,
            "align_items": null,
            "align_self": null,
            "border": null,
            "bottom": null,
            "display": null,
            "flex": null,
            "flex_flow": null,
            "grid_area": null,
            "grid_auto_columns": null,
            "grid_auto_flow": null,
            "grid_auto_rows": null,
            "grid_column": null,
            "grid_gap": null,
            "grid_row": null,
            "grid_template_areas": null,
            "grid_template_columns": null,
            "grid_template_rows": null,
            "height": null,
            "justify_content": null,
            "justify_items": null,
            "left": null,
            "margin": null,
            "max_height": null,
            "max_width": null,
            "min_height": null,
            "min_width": null,
            "object_fit": null,
            "object_position": null,
            "order": null,
            "overflow": null,
            "overflow_x": null,
            "overflow_y": null,
            "padding": null,
            "right": null,
            "top": null,
            "visibility": null,
            "width": null
          }
        },
        "3a666b8ad1ea4eec99fff80c045a396d": {
          "model_module": "@jupyter-widgets/controls",
          "model_name": "DescriptionStyleModel",
          "model_module_version": "1.5.0",
          "state": {
            "_model_module": "@jupyter-widgets/controls",
            "_model_module_version": "1.5.0",
            "_model_name": "DescriptionStyleModel",
            "_view_count": null,
            "_view_module": "@jupyter-widgets/base",
            "_view_module_version": "1.2.0",
            "_view_name": "StyleView",
            "description_width": ""
          }
        },
        "5700373b523543e98b45ffa58a649db0": {
          "model_module": "@jupyter-widgets/base",
          "model_name": "LayoutModel",
          "model_module_version": "1.2.0",
          "state": {
            "_model_module": "@jupyter-widgets/base",
            "_model_module_version": "1.2.0",
            "_model_name": "LayoutModel",
            "_view_count": null,
            "_view_module": "@jupyter-widgets/base",
            "_view_module_version": "1.2.0",
            "_view_name": "LayoutView",
            "align_content": null,
            "align_items": null,
            "align_self": null,
            "border": null,
            "bottom": null,
            "display": null,
            "flex": null,
            "flex_flow": null,
            "grid_area": null,
            "grid_auto_columns": null,
            "grid_auto_flow": null,
            "grid_auto_rows": null,
            "grid_column": null,
            "grid_gap": null,
            "grid_row": null,
            "grid_template_areas": null,
            "grid_template_columns": null,
            "grid_template_rows": null,
            "height": null,
            "justify_content": null,
            "justify_items": null,
            "left": null,
            "margin": null,
            "max_height": null,
            "max_width": null,
            "min_height": null,
            "min_width": null,
            "object_fit": null,
            "object_position": null,
            "order": null,
            "overflow": null,
            "overflow_x": null,
            "overflow_y": null,
            "padding": null,
            "right": null,
            "top": null,
            "visibility": null,
            "width": null
          }
        },
        "9852b1ddb5c942919e26698c8e01b1e7": {
          "model_module": "@jupyter-widgets/controls",
          "model_name": "ProgressStyleModel",
          "model_module_version": "1.5.0",
          "state": {
            "_model_module": "@jupyter-widgets/controls",
            "_model_module_version": "1.5.0",
            "_model_name": "ProgressStyleModel",
            "_view_count": null,
            "_view_module": "@jupyter-widgets/base",
            "_view_module_version": "1.2.0",
            "_view_name": "StyleView",
            "bar_color": null,
            "description_width": ""
          }
        },
        "ef16729fd86c4e77add824404519831a": {
          "model_module": "@jupyter-widgets/controls",
          "model_name": "VBoxModel",
          "model_module_version": "1.5.0",
          "state": {
            "_dom_classes": [],
            "_model_module": "@jupyter-widgets/controls",
            "_model_module_version": "1.5.0",
            "_model_name": "VBoxModel",
            "_view_count": null,
            "_view_module": "@jupyter-widgets/controls",
            "_view_module_version": "1.5.0",
            "_view_name": "VBoxView",
            "box_style": "",
            "children": [
              "IPY_MODEL_ede56c6c4185482c8c9415caebe0e2c8",
              "IPY_MODEL_cd622164448748dabb5bf23110b98842"
            ],
            "layout": "IPY_MODEL_8fa30eea1f49462e8e7fe768b8054a32"
          }
        },
        "ede56c6c4185482c8c9415caebe0e2c8": {
          "model_module": "@jupyter-widgets/controls",
          "model_name": "LabelModel",
          "model_module_version": "1.5.0",
          "state": {
            "_dom_classes": [],
            "_model_module": "@jupyter-widgets/controls",
            "_model_module_version": "1.5.0",
            "_model_name": "LabelModel",
            "_view_count": null,
            "_view_module": "@jupyter-widgets/controls",
            "_view_module_version": "1.5.0",
            "_view_name": "LabelView",
            "description": "",
            "description_tooltip": null,
            "layout": "IPY_MODEL_e6c56b70675a40e5b71a18910da44b01",
            "placeholder": "​",
            "style": "IPY_MODEL_85c6a65fc6e74e688673238f01bed563",
            "value": "0.012 MB of 0.012 MB uploaded (0.000 MB deduped)\r"
          }
        },
        "cd622164448748dabb5bf23110b98842": {
          "model_module": "@jupyter-widgets/controls",
          "model_name": "FloatProgressModel",
          "model_module_version": "1.5.0",
          "state": {
            "_dom_classes": [],
            "_model_module": "@jupyter-widgets/controls",
            "_model_module_version": "1.5.0",
            "_model_name": "FloatProgressModel",
            "_view_count": null,
            "_view_module": "@jupyter-widgets/controls",
            "_view_module_version": "1.5.0",
            "_view_name": "ProgressView",
            "bar_style": "",
            "description": "",
            "description_tooltip": null,
            "layout": "IPY_MODEL_facfbac3672f43878ec7f7beb5795897",
            "max": 1,
            "min": 0,
            "orientation": "horizontal",
            "style": "IPY_MODEL_47c4bca3ab0840d3807be22fef910d16",
            "value": 1
          }
        },
        "8fa30eea1f49462e8e7fe768b8054a32": {
          "model_module": "@jupyter-widgets/base",
          "model_name": "LayoutModel",
          "model_module_version": "1.2.0",
          "state": {
            "_model_module": "@jupyter-widgets/base",
            "_model_module_version": "1.2.0",
            "_model_name": "LayoutModel",
            "_view_count": null,
            "_view_module": "@jupyter-widgets/base",
            "_view_module_version": "1.2.0",
            "_view_name": "LayoutView",
            "align_content": null,
            "align_items": null,
            "align_self": null,
            "border": null,
            "bottom": null,
            "display": null,
            "flex": null,
            "flex_flow": null,
            "grid_area": null,
            "grid_auto_columns": null,
            "grid_auto_flow": null,
            "grid_auto_rows": null,
            "grid_column": null,
            "grid_gap": null,
            "grid_row": null,
            "grid_template_areas": null,
            "grid_template_columns": null,
            "grid_template_rows": null,
            "height": null,
            "justify_content": null,
            "justify_items": null,
            "left": null,
            "margin": null,
            "max_height": null,
            "max_width": null,
            "min_height": null,
            "min_width": null,
            "object_fit": null,
            "object_position": null,
            "order": null,
            "overflow": null,
            "overflow_x": null,
            "overflow_y": null,
            "padding": null,
            "right": null,
            "top": null,
            "visibility": null,
            "width": null
          }
        },
        "e6c56b70675a40e5b71a18910da44b01": {
          "model_module": "@jupyter-widgets/base",
          "model_name": "LayoutModel",
          "model_module_version": "1.2.0",
          "state": {
            "_model_module": "@jupyter-widgets/base",
            "_model_module_version": "1.2.0",
            "_model_name": "LayoutModel",
            "_view_count": null,
            "_view_module": "@jupyter-widgets/base",
            "_view_module_version": "1.2.0",
            "_view_name": "LayoutView",
            "align_content": null,
            "align_items": null,
            "align_self": null,
            "border": null,
            "bottom": null,
            "display": null,
            "flex": null,
            "flex_flow": null,
            "grid_area": null,
            "grid_auto_columns": null,
            "grid_auto_flow": null,
            "grid_auto_rows": null,
            "grid_column": null,
            "grid_gap": null,
            "grid_row": null,
            "grid_template_areas": null,
            "grid_template_columns": null,
            "grid_template_rows": null,
            "height": null,
            "justify_content": null,
            "justify_items": null,
            "left": null,
            "margin": null,
            "max_height": null,
            "max_width": null,
            "min_height": null,
            "min_width": null,
            "object_fit": null,
            "object_position": null,
            "order": null,
            "overflow": null,
            "overflow_x": null,
            "overflow_y": null,
            "padding": null,
            "right": null,
            "top": null,
            "visibility": null,
            "width": null
          }
        },
        "85c6a65fc6e74e688673238f01bed563": {
          "model_module": "@jupyter-widgets/controls",
          "model_name": "DescriptionStyleModel",
          "model_module_version": "1.5.0",
          "state": {
            "_model_module": "@jupyter-widgets/controls",
            "_model_module_version": "1.5.0",
            "_model_name": "DescriptionStyleModel",
            "_view_count": null,
            "_view_module": "@jupyter-widgets/base",
            "_view_module_version": "1.2.0",
            "_view_name": "StyleView",
            "description_width": ""
          }
        },
        "facfbac3672f43878ec7f7beb5795897": {
          "model_module": "@jupyter-widgets/base",
          "model_name": "LayoutModel",
          "model_module_version": "1.2.0",
          "state": {
            "_model_module": "@jupyter-widgets/base",
            "_model_module_version": "1.2.0",
            "_model_name": "LayoutModel",
            "_view_count": null,
            "_view_module": "@jupyter-widgets/base",
            "_view_module_version": "1.2.0",
            "_view_name": "LayoutView",
            "align_content": null,
            "align_items": null,
            "align_self": null,
            "border": null,
            "bottom": null,
            "display": null,
            "flex": null,
            "flex_flow": null,
            "grid_area": null,
            "grid_auto_columns": null,
            "grid_auto_flow": null,
            "grid_auto_rows": null,
            "grid_column": null,
            "grid_gap": null,
            "grid_row": null,
            "grid_template_areas": null,
            "grid_template_columns": null,
            "grid_template_rows": null,
            "height": null,
            "justify_content": null,
            "justify_items": null,
            "left": null,
            "margin": null,
            "max_height": null,
            "max_width": null,
            "min_height": null,
            "min_width": null,
            "object_fit": null,
            "object_position": null,
            "order": null,
            "overflow": null,
            "overflow_x": null,
            "overflow_y": null,
            "padding": null,
            "right": null,
            "top": null,
            "visibility": null,
            "width": null
          }
        },
        "47c4bca3ab0840d3807be22fef910d16": {
          "model_module": "@jupyter-widgets/controls",
          "model_name": "ProgressStyleModel",
          "model_module_version": "1.5.0",
          "state": {
            "_model_module": "@jupyter-widgets/controls",
            "_model_module_version": "1.5.0",
            "_model_name": "ProgressStyleModel",
            "_view_count": null,
            "_view_module": "@jupyter-widgets/base",
            "_view_module_version": "1.2.0",
            "_view_name": "StyleView",
            "bar_color": null,
            "description_width": ""
          }
        },
        "5c35bc69e48b40ab936723b0540db289": {
          "model_module": "@jupyter-widgets/controls",
          "model_name": "VBoxModel",
          "model_module_version": "1.5.0",
          "state": {
            "_dom_classes": [],
            "_model_module": "@jupyter-widgets/controls",
            "_model_module_version": "1.5.0",
            "_model_name": "VBoxModel",
            "_view_count": null,
            "_view_module": "@jupyter-widgets/controls",
            "_view_module_version": "1.5.0",
            "_view_name": "VBoxView",
            "box_style": "",
            "children": [
              "IPY_MODEL_dcb24741aa30458487198bfda432ef18",
              "IPY_MODEL_9cc59221e0c245538b402ccd03ccfd40"
            ],
            "layout": "IPY_MODEL_2c1926c9f39647c19a6467bf7e5d447b"
          }
        },
        "dcb24741aa30458487198bfda432ef18": {
          "model_module": "@jupyter-widgets/controls",
          "model_name": "LabelModel",
          "model_module_version": "1.5.0",
          "state": {
            "_dom_classes": [],
            "_model_module": "@jupyter-widgets/controls",
            "_model_module_version": "1.5.0",
            "_model_name": "LabelModel",
            "_view_count": null,
            "_view_module": "@jupyter-widgets/controls",
            "_view_module_version": "1.5.0",
            "_view_name": "LabelView",
            "description": "",
            "description_tooltip": null,
            "layout": "IPY_MODEL_39b6f4d4d4524ba786b68f2f5c36a46b",
            "placeholder": "​",
            "style": "IPY_MODEL_fc2f31b3d202474c88508540793b9d39",
            "value": "0.012 MB of 0.012 MB uploaded (0.000 MB deduped)\r"
          }
        },
        "9cc59221e0c245538b402ccd03ccfd40": {
          "model_module": "@jupyter-widgets/controls",
          "model_name": "FloatProgressModel",
          "model_module_version": "1.5.0",
          "state": {
            "_dom_classes": [],
            "_model_module": "@jupyter-widgets/controls",
            "_model_module_version": "1.5.0",
            "_model_name": "FloatProgressModel",
            "_view_count": null,
            "_view_module": "@jupyter-widgets/controls",
            "_view_module_version": "1.5.0",
            "_view_name": "ProgressView",
            "bar_style": "",
            "description": "",
            "description_tooltip": null,
            "layout": "IPY_MODEL_beefb8099aed440a90ddaaac78a0ef81",
            "max": 1,
            "min": 0,
            "orientation": "horizontal",
            "style": "IPY_MODEL_f03bf77f9a234c83b2abc9029133e2c6",
            "value": 1
          }
        },
        "2c1926c9f39647c19a6467bf7e5d447b": {
          "model_module": "@jupyter-widgets/base",
          "model_name": "LayoutModel",
          "model_module_version": "1.2.0",
          "state": {
            "_model_module": "@jupyter-widgets/base",
            "_model_module_version": "1.2.0",
            "_model_name": "LayoutModel",
            "_view_count": null,
            "_view_module": "@jupyter-widgets/base",
            "_view_module_version": "1.2.0",
            "_view_name": "LayoutView",
            "align_content": null,
            "align_items": null,
            "align_self": null,
            "border": null,
            "bottom": null,
            "display": null,
            "flex": null,
            "flex_flow": null,
            "grid_area": null,
            "grid_auto_columns": null,
            "grid_auto_flow": null,
            "grid_auto_rows": null,
            "grid_column": null,
            "grid_gap": null,
            "grid_row": null,
            "grid_template_areas": null,
            "grid_template_columns": null,
            "grid_template_rows": null,
            "height": null,
            "justify_content": null,
            "justify_items": null,
            "left": null,
            "margin": null,
            "max_height": null,
            "max_width": null,
            "min_height": null,
            "min_width": null,
            "object_fit": null,
            "object_position": null,
            "order": null,
            "overflow": null,
            "overflow_x": null,
            "overflow_y": null,
            "padding": null,
            "right": null,
            "top": null,
            "visibility": null,
            "width": null
          }
        },
        "39b6f4d4d4524ba786b68f2f5c36a46b": {
          "model_module": "@jupyter-widgets/base",
          "model_name": "LayoutModel",
          "model_module_version": "1.2.0",
          "state": {
            "_model_module": "@jupyter-widgets/base",
            "_model_module_version": "1.2.0",
            "_model_name": "LayoutModel",
            "_view_count": null,
            "_view_module": "@jupyter-widgets/base",
            "_view_module_version": "1.2.0",
            "_view_name": "LayoutView",
            "align_content": null,
            "align_items": null,
            "align_self": null,
            "border": null,
            "bottom": null,
            "display": null,
            "flex": null,
            "flex_flow": null,
            "grid_area": null,
            "grid_auto_columns": null,
            "grid_auto_flow": null,
            "grid_auto_rows": null,
            "grid_column": null,
            "grid_gap": null,
            "grid_row": null,
            "grid_template_areas": null,
            "grid_template_columns": null,
            "grid_template_rows": null,
            "height": null,
            "justify_content": null,
            "justify_items": null,
            "left": null,
            "margin": null,
            "max_height": null,
            "max_width": null,
            "min_height": null,
            "min_width": null,
            "object_fit": null,
            "object_position": null,
            "order": null,
            "overflow": null,
            "overflow_x": null,
            "overflow_y": null,
            "padding": null,
            "right": null,
            "top": null,
            "visibility": null,
            "width": null
          }
        },
        "fc2f31b3d202474c88508540793b9d39": {
          "model_module": "@jupyter-widgets/controls",
          "model_name": "DescriptionStyleModel",
          "model_module_version": "1.5.0",
          "state": {
            "_model_module": "@jupyter-widgets/controls",
            "_model_module_version": "1.5.0",
            "_model_name": "DescriptionStyleModel",
            "_view_count": null,
            "_view_module": "@jupyter-widgets/base",
            "_view_module_version": "1.2.0",
            "_view_name": "StyleView",
            "description_width": ""
          }
        },
        "beefb8099aed440a90ddaaac78a0ef81": {
          "model_module": "@jupyter-widgets/base",
          "model_name": "LayoutModel",
          "model_module_version": "1.2.0",
          "state": {
            "_model_module": "@jupyter-widgets/base",
            "_model_module_version": "1.2.0",
            "_model_name": "LayoutModel",
            "_view_count": null,
            "_view_module": "@jupyter-widgets/base",
            "_view_module_version": "1.2.0",
            "_view_name": "LayoutView",
            "align_content": null,
            "align_items": null,
            "align_self": null,
            "border": null,
            "bottom": null,
            "display": null,
            "flex": null,
            "flex_flow": null,
            "grid_area": null,
            "grid_auto_columns": null,
            "grid_auto_flow": null,
            "grid_auto_rows": null,
            "grid_column": null,
            "grid_gap": null,
            "grid_row": null,
            "grid_template_areas": null,
            "grid_template_columns": null,
            "grid_template_rows": null,
            "height": null,
            "justify_content": null,
            "justify_items": null,
            "left": null,
            "margin": null,
            "max_height": null,
            "max_width": null,
            "min_height": null,
            "min_width": null,
            "object_fit": null,
            "object_position": null,
            "order": null,
            "overflow": null,
            "overflow_x": null,
            "overflow_y": null,
            "padding": null,
            "right": null,
            "top": null,
            "visibility": null,
            "width": null
          }
        },
        "f03bf77f9a234c83b2abc9029133e2c6": {
          "model_module": "@jupyter-widgets/controls",
          "model_name": "ProgressStyleModel",
          "model_module_version": "1.5.0",
          "state": {
            "_model_module": "@jupyter-widgets/controls",
            "_model_module_version": "1.5.0",
            "_model_name": "ProgressStyleModel",
            "_view_count": null,
            "_view_module": "@jupyter-widgets/base",
            "_view_module_version": "1.2.0",
            "_view_name": "StyleView",
            "bar_color": null,
            "description_width": ""
          }
        },
        "04587f92253f4a4bb068284c82ce530c": {
          "model_module": "@jupyter-widgets/controls",
          "model_name": "VBoxModel",
          "model_module_version": "1.5.0",
          "state": {
            "_dom_classes": [],
            "_model_module": "@jupyter-widgets/controls",
            "_model_module_version": "1.5.0",
            "_model_name": "VBoxModel",
            "_view_count": null,
            "_view_module": "@jupyter-widgets/controls",
            "_view_module_version": "1.5.0",
            "_view_name": "VBoxView",
            "box_style": "",
            "children": [
              "IPY_MODEL_3e2dc81dacd6425882944df25f90ac07",
              "IPY_MODEL_5c279984eb284374a9b3a2b86ffcf851"
            ],
            "layout": "IPY_MODEL_bd793d3cf7ba4527910947be5b229a05"
          }
        },
        "3e2dc81dacd6425882944df25f90ac07": {
          "model_module": "@jupyter-widgets/controls",
          "model_name": "LabelModel",
          "model_module_version": "1.5.0",
          "state": {
            "_dom_classes": [],
            "_model_module": "@jupyter-widgets/controls",
            "_model_module_version": "1.5.0",
            "_model_name": "LabelModel",
            "_view_count": null,
            "_view_module": "@jupyter-widgets/controls",
            "_view_module_version": "1.5.0",
            "_view_name": "LabelView",
            "description": "",
            "description_tooltip": null,
            "layout": "IPY_MODEL_496e7f31a2ae4cb1ab61978cb38d0bc4",
            "placeholder": "​",
            "style": "IPY_MODEL_5bc5deeafdd84b23bb5863761d16c67f",
            "value": "0.013 MB of 0.013 MB uploaded (0.000 MB deduped)\r"
          }
        },
        "5c279984eb284374a9b3a2b86ffcf851": {
          "model_module": "@jupyter-widgets/controls",
          "model_name": "FloatProgressModel",
          "model_module_version": "1.5.0",
          "state": {
            "_dom_classes": [],
            "_model_module": "@jupyter-widgets/controls",
            "_model_module_version": "1.5.0",
            "_model_name": "FloatProgressModel",
            "_view_count": null,
            "_view_module": "@jupyter-widgets/controls",
            "_view_module_version": "1.5.0",
            "_view_name": "ProgressView",
            "bar_style": "",
            "description": "",
            "description_tooltip": null,
            "layout": "IPY_MODEL_95f4fa7c7b0e49eb9bb0a15d92187b40",
            "max": 1,
            "min": 0,
            "orientation": "horizontal",
            "style": "IPY_MODEL_aab35da08ca64f7c98761fcbe17e0d4c",
            "value": 1
          }
        },
        "bd793d3cf7ba4527910947be5b229a05": {
          "model_module": "@jupyter-widgets/base",
          "model_name": "LayoutModel",
          "model_module_version": "1.2.0",
          "state": {
            "_model_module": "@jupyter-widgets/base",
            "_model_module_version": "1.2.0",
            "_model_name": "LayoutModel",
            "_view_count": null,
            "_view_module": "@jupyter-widgets/base",
            "_view_module_version": "1.2.0",
            "_view_name": "LayoutView",
            "align_content": null,
            "align_items": null,
            "align_self": null,
            "border": null,
            "bottom": null,
            "display": null,
            "flex": null,
            "flex_flow": null,
            "grid_area": null,
            "grid_auto_columns": null,
            "grid_auto_flow": null,
            "grid_auto_rows": null,
            "grid_column": null,
            "grid_gap": null,
            "grid_row": null,
            "grid_template_areas": null,
            "grid_template_columns": null,
            "grid_template_rows": null,
            "height": null,
            "justify_content": null,
            "justify_items": null,
            "left": null,
            "margin": null,
            "max_height": null,
            "max_width": null,
            "min_height": null,
            "min_width": null,
            "object_fit": null,
            "object_position": null,
            "order": null,
            "overflow": null,
            "overflow_x": null,
            "overflow_y": null,
            "padding": null,
            "right": null,
            "top": null,
            "visibility": null,
            "width": null
          }
        },
        "496e7f31a2ae4cb1ab61978cb38d0bc4": {
          "model_module": "@jupyter-widgets/base",
          "model_name": "LayoutModel",
          "model_module_version": "1.2.0",
          "state": {
            "_model_module": "@jupyter-widgets/base",
            "_model_module_version": "1.2.0",
            "_model_name": "LayoutModel",
            "_view_count": null,
            "_view_module": "@jupyter-widgets/base",
            "_view_module_version": "1.2.0",
            "_view_name": "LayoutView",
            "align_content": null,
            "align_items": null,
            "align_self": null,
            "border": null,
            "bottom": null,
            "display": null,
            "flex": null,
            "flex_flow": null,
            "grid_area": null,
            "grid_auto_columns": null,
            "grid_auto_flow": null,
            "grid_auto_rows": null,
            "grid_column": null,
            "grid_gap": null,
            "grid_row": null,
            "grid_template_areas": null,
            "grid_template_columns": null,
            "grid_template_rows": null,
            "height": null,
            "justify_content": null,
            "justify_items": null,
            "left": null,
            "margin": null,
            "max_height": null,
            "max_width": null,
            "min_height": null,
            "min_width": null,
            "object_fit": null,
            "object_position": null,
            "order": null,
            "overflow": null,
            "overflow_x": null,
            "overflow_y": null,
            "padding": null,
            "right": null,
            "top": null,
            "visibility": null,
            "width": null
          }
        },
        "5bc5deeafdd84b23bb5863761d16c67f": {
          "model_module": "@jupyter-widgets/controls",
          "model_name": "DescriptionStyleModel",
          "model_module_version": "1.5.0",
          "state": {
            "_model_module": "@jupyter-widgets/controls",
            "_model_module_version": "1.5.0",
            "_model_name": "DescriptionStyleModel",
            "_view_count": null,
            "_view_module": "@jupyter-widgets/base",
            "_view_module_version": "1.2.0",
            "_view_name": "StyleView",
            "description_width": ""
          }
        },
        "95f4fa7c7b0e49eb9bb0a15d92187b40": {
          "model_module": "@jupyter-widgets/base",
          "model_name": "LayoutModel",
          "model_module_version": "1.2.0",
          "state": {
            "_model_module": "@jupyter-widgets/base",
            "_model_module_version": "1.2.0",
            "_model_name": "LayoutModel",
            "_view_count": null,
            "_view_module": "@jupyter-widgets/base",
            "_view_module_version": "1.2.0",
            "_view_name": "LayoutView",
            "align_content": null,
            "align_items": null,
            "align_self": null,
            "border": null,
            "bottom": null,
            "display": null,
            "flex": null,
            "flex_flow": null,
            "grid_area": null,
            "grid_auto_columns": null,
            "grid_auto_flow": null,
            "grid_auto_rows": null,
            "grid_column": null,
            "grid_gap": null,
            "grid_row": null,
            "grid_template_areas": null,
            "grid_template_columns": null,
            "grid_template_rows": null,
            "height": null,
            "justify_content": null,
            "justify_items": null,
            "left": null,
            "margin": null,
            "max_height": null,
            "max_width": null,
            "min_height": null,
            "min_width": null,
            "object_fit": null,
            "object_position": null,
            "order": null,
            "overflow": null,
            "overflow_x": null,
            "overflow_y": null,
            "padding": null,
            "right": null,
            "top": null,
            "visibility": null,
            "width": null
          }
        },
        "aab35da08ca64f7c98761fcbe17e0d4c": {
          "model_module": "@jupyter-widgets/controls",
          "model_name": "ProgressStyleModel",
          "model_module_version": "1.5.0",
          "state": {
            "_model_module": "@jupyter-widgets/controls",
            "_model_module_version": "1.5.0",
            "_model_name": "ProgressStyleModel",
            "_view_count": null,
            "_view_module": "@jupyter-widgets/base",
            "_view_module_version": "1.2.0",
            "_view_name": "StyleView",
            "bar_color": null,
            "description_width": ""
          }
        },
        "3eb6069f56584dfda2de48490cf86ef2": {
          "model_module": "@jupyter-widgets/controls",
          "model_name": "VBoxModel",
          "model_module_version": "1.5.0",
          "state": {
            "_dom_classes": [],
            "_model_module": "@jupyter-widgets/controls",
            "_model_module_version": "1.5.0",
            "_model_name": "VBoxModel",
            "_view_count": null,
            "_view_module": "@jupyter-widgets/controls",
            "_view_module_version": "1.5.0",
            "_view_name": "VBoxView",
            "box_style": "",
            "children": [
              "IPY_MODEL_8609627530e540dbada2f221676070b8",
              "IPY_MODEL_af7585da667f442abb7c96a221fe270b"
            ],
            "layout": "IPY_MODEL_dd14da9e203a4f5ab30183761536e59f"
          }
        },
        "8609627530e540dbada2f221676070b8": {
          "model_module": "@jupyter-widgets/controls",
          "model_name": "LabelModel",
          "model_module_version": "1.5.0",
          "state": {
            "_dom_classes": [],
            "_model_module": "@jupyter-widgets/controls",
            "_model_module_version": "1.5.0",
            "_model_name": "LabelModel",
            "_view_count": null,
            "_view_module": "@jupyter-widgets/controls",
            "_view_module_version": "1.5.0",
            "_view_name": "LabelView",
            "description": "",
            "description_tooltip": null,
            "layout": "IPY_MODEL_9bbe406889924867b088ec7036d5efed",
            "placeholder": "​",
            "style": "IPY_MODEL_0a5a951b75974db4b2c6793c268eb169",
            "value": "0.013 MB of 0.013 MB uploaded (0.000 MB deduped)\r"
          }
        },
        "af7585da667f442abb7c96a221fe270b": {
          "model_module": "@jupyter-widgets/controls",
          "model_name": "FloatProgressModel",
          "model_module_version": "1.5.0",
          "state": {
            "_dom_classes": [],
            "_model_module": "@jupyter-widgets/controls",
            "_model_module_version": "1.5.0",
            "_model_name": "FloatProgressModel",
            "_view_count": null,
            "_view_module": "@jupyter-widgets/controls",
            "_view_module_version": "1.5.0",
            "_view_name": "ProgressView",
            "bar_style": "",
            "description": "",
            "description_tooltip": null,
            "layout": "IPY_MODEL_7624c02bcf1648c38cdb2658677f3b8b",
            "max": 1,
            "min": 0,
            "orientation": "horizontal",
            "style": "IPY_MODEL_35ff6041930c498f80862a297c461303",
            "value": 1
          }
        },
        "dd14da9e203a4f5ab30183761536e59f": {
          "model_module": "@jupyter-widgets/base",
          "model_name": "LayoutModel",
          "model_module_version": "1.2.0",
          "state": {
            "_model_module": "@jupyter-widgets/base",
            "_model_module_version": "1.2.0",
            "_model_name": "LayoutModel",
            "_view_count": null,
            "_view_module": "@jupyter-widgets/base",
            "_view_module_version": "1.2.0",
            "_view_name": "LayoutView",
            "align_content": null,
            "align_items": null,
            "align_self": null,
            "border": null,
            "bottom": null,
            "display": null,
            "flex": null,
            "flex_flow": null,
            "grid_area": null,
            "grid_auto_columns": null,
            "grid_auto_flow": null,
            "grid_auto_rows": null,
            "grid_column": null,
            "grid_gap": null,
            "grid_row": null,
            "grid_template_areas": null,
            "grid_template_columns": null,
            "grid_template_rows": null,
            "height": null,
            "justify_content": null,
            "justify_items": null,
            "left": null,
            "margin": null,
            "max_height": null,
            "max_width": null,
            "min_height": null,
            "min_width": null,
            "object_fit": null,
            "object_position": null,
            "order": null,
            "overflow": null,
            "overflow_x": null,
            "overflow_y": null,
            "padding": null,
            "right": null,
            "top": null,
            "visibility": null,
            "width": null
          }
        },
        "9bbe406889924867b088ec7036d5efed": {
          "model_module": "@jupyter-widgets/base",
          "model_name": "LayoutModel",
          "model_module_version": "1.2.0",
          "state": {
            "_model_module": "@jupyter-widgets/base",
            "_model_module_version": "1.2.0",
            "_model_name": "LayoutModel",
            "_view_count": null,
            "_view_module": "@jupyter-widgets/base",
            "_view_module_version": "1.2.0",
            "_view_name": "LayoutView",
            "align_content": null,
            "align_items": null,
            "align_self": null,
            "border": null,
            "bottom": null,
            "display": null,
            "flex": null,
            "flex_flow": null,
            "grid_area": null,
            "grid_auto_columns": null,
            "grid_auto_flow": null,
            "grid_auto_rows": null,
            "grid_column": null,
            "grid_gap": null,
            "grid_row": null,
            "grid_template_areas": null,
            "grid_template_columns": null,
            "grid_template_rows": null,
            "height": null,
            "justify_content": null,
            "justify_items": null,
            "left": null,
            "margin": null,
            "max_height": null,
            "max_width": null,
            "min_height": null,
            "min_width": null,
            "object_fit": null,
            "object_position": null,
            "order": null,
            "overflow": null,
            "overflow_x": null,
            "overflow_y": null,
            "padding": null,
            "right": null,
            "top": null,
            "visibility": null,
            "width": null
          }
        },
        "0a5a951b75974db4b2c6793c268eb169": {
          "model_module": "@jupyter-widgets/controls",
          "model_name": "DescriptionStyleModel",
          "model_module_version": "1.5.0",
          "state": {
            "_model_module": "@jupyter-widgets/controls",
            "_model_module_version": "1.5.0",
            "_model_name": "DescriptionStyleModel",
            "_view_count": null,
            "_view_module": "@jupyter-widgets/base",
            "_view_module_version": "1.2.0",
            "_view_name": "StyleView",
            "description_width": ""
          }
        },
        "7624c02bcf1648c38cdb2658677f3b8b": {
          "model_module": "@jupyter-widgets/base",
          "model_name": "LayoutModel",
          "model_module_version": "1.2.0",
          "state": {
            "_model_module": "@jupyter-widgets/base",
            "_model_module_version": "1.2.0",
            "_model_name": "LayoutModel",
            "_view_count": null,
            "_view_module": "@jupyter-widgets/base",
            "_view_module_version": "1.2.0",
            "_view_name": "LayoutView",
            "align_content": null,
            "align_items": null,
            "align_self": null,
            "border": null,
            "bottom": null,
            "display": null,
            "flex": null,
            "flex_flow": null,
            "grid_area": null,
            "grid_auto_columns": null,
            "grid_auto_flow": null,
            "grid_auto_rows": null,
            "grid_column": null,
            "grid_gap": null,
            "grid_row": null,
            "grid_template_areas": null,
            "grid_template_columns": null,
            "grid_template_rows": null,
            "height": null,
            "justify_content": null,
            "justify_items": null,
            "left": null,
            "margin": null,
            "max_height": null,
            "max_width": null,
            "min_height": null,
            "min_width": null,
            "object_fit": null,
            "object_position": null,
            "order": null,
            "overflow": null,
            "overflow_x": null,
            "overflow_y": null,
            "padding": null,
            "right": null,
            "top": null,
            "visibility": null,
            "width": null
          }
        },
        "35ff6041930c498f80862a297c461303": {
          "model_module": "@jupyter-widgets/controls",
          "model_name": "ProgressStyleModel",
          "model_module_version": "1.5.0",
          "state": {
            "_model_module": "@jupyter-widgets/controls",
            "_model_module_version": "1.5.0",
            "_model_name": "ProgressStyleModel",
            "_view_count": null,
            "_view_module": "@jupyter-widgets/base",
            "_view_module_version": "1.2.0",
            "_view_name": "StyleView",
            "bar_color": null,
            "description_width": ""
          }
        },
        "444d3c49070141008692dbabc898ffb5": {
          "model_module": "@jupyter-widgets/controls",
          "model_name": "VBoxModel",
          "model_module_version": "1.5.0",
          "state": {
            "_dom_classes": [],
            "_model_module": "@jupyter-widgets/controls",
            "_model_module_version": "1.5.0",
            "_model_name": "VBoxModel",
            "_view_count": null,
            "_view_module": "@jupyter-widgets/controls",
            "_view_module_version": "1.5.0",
            "_view_name": "VBoxView",
            "box_style": "",
            "children": [
              "IPY_MODEL_3221fcc80d204887a7165d00cfcf3abf",
              "IPY_MODEL_715e73138a4d4f87ae6b91d5240026e0"
            ],
            "layout": "IPY_MODEL_604ebdd7feea4ef581c944e7dc8d15ba"
          }
        },
        "3221fcc80d204887a7165d00cfcf3abf": {
          "model_module": "@jupyter-widgets/controls",
          "model_name": "LabelModel",
          "model_module_version": "1.5.0",
          "state": {
            "_dom_classes": [],
            "_model_module": "@jupyter-widgets/controls",
            "_model_module_version": "1.5.0",
            "_model_name": "LabelModel",
            "_view_count": null,
            "_view_module": "@jupyter-widgets/controls",
            "_view_module_version": "1.5.0",
            "_view_name": "LabelView",
            "description": "",
            "description_tooltip": null,
            "layout": "IPY_MODEL_01c0dade651844eb8529059d3b3d35fc",
            "placeholder": "​",
            "style": "IPY_MODEL_f91556c217de4b2182ab7250630a3b67",
            "value": "0.013 MB of 0.013 MB uploaded (0.000 MB deduped)\r"
          }
        },
        "715e73138a4d4f87ae6b91d5240026e0": {
          "model_module": "@jupyter-widgets/controls",
          "model_name": "FloatProgressModel",
          "model_module_version": "1.5.0",
          "state": {
            "_dom_classes": [],
            "_model_module": "@jupyter-widgets/controls",
            "_model_module_version": "1.5.0",
            "_model_name": "FloatProgressModel",
            "_view_count": null,
            "_view_module": "@jupyter-widgets/controls",
            "_view_module_version": "1.5.0",
            "_view_name": "ProgressView",
            "bar_style": "",
            "description": "",
            "description_tooltip": null,
            "layout": "IPY_MODEL_eeb39f1ce5fd46d583ceba5cc410a1dd",
            "max": 1,
            "min": 0,
            "orientation": "horizontal",
            "style": "IPY_MODEL_14fb41d3b1214a61a2a4abaf95e765a0",
            "value": 1
          }
        },
        "604ebdd7feea4ef581c944e7dc8d15ba": {
          "model_module": "@jupyter-widgets/base",
          "model_name": "LayoutModel",
          "model_module_version": "1.2.0",
          "state": {
            "_model_module": "@jupyter-widgets/base",
            "_model_module_version": "1.2.0",
            "_model_name": "LayoutModel",
            "_view_count": null,
            "_view_module": "@jupyter-widgets/base",
            "_view_module_version": "1.2.0",
            "_view_name": "LayoutView",
            "align_content": null,
            "align_items": null,
            "align_self": null,
            "border": null,
            "bottom": null,
            "display": null,
            "flex": null,
            "flex_flow": null,
            "grid_area": null,
            "grid_auto_columns": null,
            "grid_auto_flow": null,
            "grid_auto_rows": null,
            "grid_column": null,
            "grid_gap": null,
            "grid_row": null,
            "grid_template_areas": null,
            "grid_template_columns": null,
            "grid_template_rows": null,
            "height": null,
            "justify_content": null,
            "justify_items": null,
            "left": null,
            "margin": null,
            "max_height": null,
            "max_width": null,
            "min_height": null,
            "min_width": null,
            "object_fit": null,
            "object_position": null,
            "order": null,
            "overflow": null,
            "overflow_x": null,
            "overflow_y": null,
            "padding": null,
            "right": null,
            "top": null,
            "visibility": null,
            "width": null
          }
        },
        "01c0dade651844eb8529059d3b3d35fc": {
          "model_module": "@jupyter-widgets/base",
          "model_name": "LayoutModel",
          "model_module_version": "1.2.0",
          "state": {
            "_model_module": "@jupyter-widgets/base",
            "_model_module_version": "1.2.0",
            "_model_name": "LayoutModel",
            "_view_count": null,
            "_view_module": "@jupyter-widgets/base",
            "_view_module_version": "1.2.0",
            "_view_name": "LayoutView",
            "align_content": null,
            "align_items": null,
            "align_self": null,
            "border": null,
            "bottom": null,
            "display": null,
            "flex": null,
            "flex_flow": null,
            "grid_area": null,
            "grid_auto_columns": null,
            "grid_auto_flow": null,
            "grid_auto_rows": null,
            "grid_column": null,
            "grid_gap": null,
            "grid_row": null,
            "grid_template_areas": null,
            "grid_template_columns": null,
            "grid_template_rows": null,
            "height": null,
            "justify_content": null,
            "justify_items": null,
            "left": null,
            "margin": null,
            "max_height": null,
            "max_width": null,
            "min_height": null,
            "min_width": null,
            "object_fit": null,
            "object_position": null,
            "order": null,
            "overflow": null,
            "overflow_x": null,
            "overflow_y": null,
            "padding": null,
            "right": null,
            "top": null,
            "visibility": null,
            "width": null
          }
        },
        "f91556c217de4b2182ab7250630a3b67": {
          "model_module": "@jupyter-widgets/controls",
          "model_name": "DescriptionStyleModel",
          "model_module_version": "1.5.0",
          "state": {
            "_model_module": "@jupyter-widgets/controls",
            "_model_module_version": "1.5.0",
            "_model_name": "DescriptionStyleModel",
            "_view_count": null,
            "_view_module": "@jupyter-widgets/base",
            "_view_module_version": "1.2.0",
            "_view_name": "StyleView",
            "description_width": ""
          }
        },
        "eeb39f1ce5fd46d583ceba5cc410a1dd": {
          "model_module": "@jupyter-widgets/base",
          "model_name": "LayoutModel",
          "model_module_version": "1.2.0",
          "state": {
            "_model_module": "@jupyter-widgets/base",
            "_model_module_version": "1.2.0",
            "_model_name": "LayoutModel",
            "_view_count": null,
            "_view_module": "@jupyter-widgets/base",
            "_view_module_version": "1.2.0",
            "_view_name": "LayoutView",
            "align_content": null,
            "align_items": null,
            "align_self": null,
            "border": null,
            "bottom": null,
            "display": null,
            "flex": null,
            "flex_flow": null,
            "grid_area": null,
            "grid_auto_columns": null,
            "grid_auto_flow": null,
            "grid_auto_rows": null,
            "grid_column": null,
            "grid_gap": null,
            "grid_row": null,
            "grid_template_areas": null,
            "grid_template_columns": null,
            "grid_template_rows": null,
            "height": null,
            "justify_content": null,
            "justify_items": null,
            "left": null,
            "margin": null,
            "max_height": null,
            "max_width": null,
            "min_height": null,
            "min_width": null,
            "object_fit": null,
            "object_position": null,
            "order": null,
            "overflow": null,
            "overflow_x": null,
            "overflow_y": null,
            "padding": null,
            "right": null,
            "top": null,
            "visibility": null,
            "width": null
          }
        },
        "14fb41d3b1214a61a2a4abaf95e765a0": {
          "model_module": "@jupyter-widgets/controls",
          "model_name": "ProgressStyleModel",
          "model_module_version": "1.5.0",
          "state": {
            "_model_module": "@jupyter-widgets/controls",
            "_model_module_version": "1.5.0",
            "_model_name": "ProgressStyleModel",
            "_view_count": null,
            "_view_module": "@jupyter-widgets/base",
            "_view_module_version": "1.2.0",
            "_view_name": "StyleView",
            "bar_color": null,
            "description_width": ""
          }
        },
        "a6470bca9e064d4da04242cc39bed00f": {
          "model_module": "@jupyter-widgets/controls",
          "model_name": "VBoxModel",
          "model_module_version": "1.5.0",
          "state": {
            "_dom_classes": [],
            "_model_module": "@jupyter-widgets/controls",
            "_model_module_version": "1.5.0",
            "_model_name": "VBoxModel",
            "_view_count": null,
            "_view_module": "@jupyter-widgets/controls",
            "_view_module_version": "1.5.0",
            "_view_name": "VBoxView",
            "box_style": "",
            "children": [
              "IPY_MODEL_b05a8629e4d141ddbba388e6ea845420",
              "IPY_MODEL_efcea232394e4f56a74f32ca795e42fd"
            ],
            "layout": "IPY_MODEL_762590dea61d44398e6345c01fe6a8cd"
          }
        },
        "b05a8629e4d141ddbba388e6ea845420": {
          "model_module": "@jupyter-widgets/controls",
          "model_name": "LabelModel",
          "model_module_version": "1.5.0",
          "state": {
            "_dom_classes": [],
            "_model_module": "@jupyter-widgets/controls",
            "_model_module_version": "1.5.0",
            "_model_name": "LabelModel",
            "_view_count": null,
            "_view_module": "@jupyter-widgets/controls",
            "_view_module_version": "1.5.0",
            "_view_name": "LabelView",
            "description": "",
            "description_tooltip": null,
            "layout": "IPY_MODEL_f45be9a506fc4904b4c46110d2399e63",
            "placeholder": "​",
            "style": "IPY_MODEL_5929bd3818ee44efabf27f36b5250ba7",
            "value": "0.013 MB of 0.013 MB uploaded (0.000 MB deduped)\r"
          }
        },
        "efcea232394e4f56a74f32ca795e42fd": {
          "model_module": "@jupyter-widgets/controls",
          "model_name": "FloatProgressModel",
          "model_module_version": "1.5.0",
          "state": {
            "_dom_classes": [],
            "_model_module": "@jupyter-widgets/controls",
            "_model_module_version": "1.5.0",
            "_model_name": "FloatProgressModel",
            "_view_count": null,
            "_view_module": "@jupyter-widgets/controls",
            "_view_module_version": "1.5.0",
            "_view_name": "ProgressView",
            "bar_style": "",
            "description": "",
            "description_tooltip": null,
            "layout": "IPY_MODEL_3f94b883affb465fb95fd62fb6f2b73d",
            "max": 1,
            "min": 0,
            "orientation": "horizontal",
            "style": "IPY_MODEL_152cb54505834a1c9b594f83fbfe13ab",
            "value": 1
          }
        },
        "762590dea61d44398e6345c01fe6a8cd": {
          "model_module": "@jupyter-widgets/base",
          "model_name": "LayoutModel",
          "model_module_version": "1.2.0",
          "state": {
            "_model_module": "@jupyter-widgets/base",
            "_model_module_version": "1.2.0",
            "_model_name": "LayoutModel",
            "_view_count": null,
            "_view_module": "@jupyter-widgets/base",
            "_view_module_version": "1.2.0",
            "_view_name": "LayoutView",
            "align_content": null,
            "align_items": null,
            "align_self": null,
            "border": null,
            "bottom": null,
            "display": null,
            "flex": null,
            "flex_flow": null,
            "grid_area": null,
            "grid_auto_columns": null,
            "grid_auto_flow": null,
            "grid_auto_rows": null,
            "grid_column": null,
            "grid_gap": null,
            "grid_row": null,
            "grid_template_areas": null,
            "grid_template_columns": null,
            "grid_template_rows": null,
            "height": null,
            "justify_content": null,
            "justify_items": null,
            "left": null,
            "margin": null,
            "max_height": null,
            "max_width": null,
            "min_height": null,
            "min_width": null,
            "object_fit": null,
            "object_position": null,
            "order": null,
            "overflow": null,
            "overflow_x": null,
            "overflow_y": null,
            "padding": null,
            "right": null,
            "top": null,
            "visibility": null,
            "width": null
          }
        },
        "f45be9a506fc4904b4c46110d2399e63": {
          "model_module": "@jupyter-widgets/base",
          "model_name": "LayoutModel",
          "model_module_version": "1.2.0",
          "state": {
            "_model_module": "@jupyter-widgets/base",
            "_model_module_version": "1.2.0",
            "_model_name": "LayoutModel",
            "_view_count": null,
            "_view_module": "@jupyter-widgets/base",
            "_view_module_version": "1.2.0",
            "_view_name": "LayoutView",
            "align_content": null,
            "align_items": null,
            "align_self": null,
            "border": null,
            "bottom": null,
            "display": null,
            "flex": null,
            "flex_flow": null,
            "grid_area": null,
            "grid_auto_columns": null,
            "grid_auto_flow": null,
            "grid_auto_rows": null,
            "grid_column": null,
            "grid_gap": null,
            "grid_row": null,
            "grid_template_areas": null,
            "grid_template_columns": null,
            "grid_template_rows": null,
            "height": null,
            "justify_content": null,
            "justify_items": null,
            "left": null,
            "margin": null,
            "max_height": null,
            "max_width": null,
            "min_height": null,
            "min_width": null,
            "object_fit": null,
            "object_position": null,
            "order": null,
            "overflow": null,
            "overflow_x": null,
            "overflow_y": null,
            "padding": null,
            "right": null,
            "top": null,
            "visibility": null,
            "width": null
          }
        },
        "5929bd3818ee44efabf27f36b5250ba7": {
          "model_module": "@jupyter-widgets/controls",
          "model_name": "DescriptionStyleModel",
          "model_module_version": "1.5.0",
          "state": {
            "_model_module": "@jupyter-widgets/controls",
            "_model_module_version": "1.5.0",
            "_model_name": "DescriptionStyleModel",
            "_view_count": null,
            "_view_module": "@jupyter-widgets/base",
            "_view_module_version": "1.2.0",
            "_view_name": "StyleView",
            "description_width": ""
          }
        },
        "3f94b883affb465fb95fd62fb6f2b73d": {
          "model_module": "@jupyter-widgets/base",
          "model_name": "LayoutModel",
          "model_module_version": "1.2.0",
          "state": {
            "_model_module": "@jupyter-widgets/base",
            "_model_module_version": "1.2.0",
            "_model_name": "LayoutModel",
            "_view_count": null,
            "_view_module": "@jupyter-widgets/base",
            "_view_module_version": "1.2.0",
            "_view_name": "LayoutView",
            "align_content": null,
            "align_items": null,
            "align_self": null,
            "border": null,
            "bottom": null,
            "display": null,
            "flex": null,
            "flex_flow": null,
            "grid_area": null,
            "grid_auto_columns": null,
            "grid_auto_flow": null,
            "grid_auto_rows": null,
            "grid_column": null,
            "grid_gap": null,
            "grid_row": null,
            "grid_template_areas": null,
            "grid_template_columns": null,
            "grid_template_rows": null,
            "height": null,
            "justify_content": null,
            "justify_items": null,
            "left": null,
            "margin": null,
            "max_height": null,
            "max_width": null,
            "min_height": null,
            "min_width": null,
            "object_fit": null,
            "object_position": null,
            "order": null,
            "overflow": null,
            "overflow_x": null,
            "overflow_y": null,
            "padding": null,
            "right": null,
            "top": null,
            "visibility": null,
            "width": null
          }
        },
        "152cb54505834a1c9b594f83fbfe13ab": {
          "model_module": "@jupyter-widgets/controls",
          "model_name": "ProgressStyleModel",
          "model_module_version": "1.5.0",
          "state": {
            "_model_module": "@jupyter-widgets/controls",
            "_model_module_version": "1.5.0",
            "_model_name": "ProgressStyleModel",
            "_view_count": null,
            "_view_module": "@jupyter-widgets/base",
            "_view_module_version": "1.2.0",
            "_view_name": "StyleView",
            "bar_color": null,
            "description_width": ""
          }
        },
        "d3c1dcaed2e449f2b9b876104d9ea974": {
          "model_module": "@jupyter-widgets/controls",
          "model_name": "VBoxModel",
          "model_module_version": "1.5.0",
          "state": {
            "_dom_classes": [],
            "_model_module": "@jupyter-widgets/controls",
            "_model_module_version": "1.5.0",
            "_model_name": "VBoxModel",
            "_view_count": null,
            "_view_module": "@jupyter-widgets/controls",
            "_view_module_version": "1.5.0",
            "_view_name": "VBoxView",
            "box_style": "",
            "children": [
              "IPY_MODEL_2c10dda237984fad84d91ac1116f131c",
              "IPY_MODEL_5aaf69b983a2450db276dc477bb961b0"
            ],
            "layout": "IPY_MODEL_e1ee3e8098a244b6ad77812235c91455"
          }
        },
        "2c10dda237984fad84d91ac1116f131c": {
          "model_module": "@jupyter-widgets/controls",
          "model_name": "LabelModel",
          "model_module_version": "1.5.0",
          "state": {
            "_dom_classes": [],
            "_model_module": "@jupyter-widgets/controls",
            "_model_module_version": "1.5.0",
            "_model_name": "LabelModel",
            "_view_count": null,
            "_view_module": "@jupyter-widgets/controls",
            "_view_module_version": "1.5.0",
            "_view_name": "LabelView",
            "description": "",
            "description_tooltip": null,
            "layout": "IPY_MODEL_5b8811d70bac46238063cd428ec5355d",
            "placeholder": "​",
            "style": "IPY_MODEL_b1ca7e221efd43d6ac487445dfbe4e5c",
            "value": "0.013 MB of 0.013 MB uploaded (0.000 MB deduped)\r"
          }
        },
        "5aaf69b983a2450db276dc477bb961b0": {
          "model_module": "@jupyter-widgets/controls",
          "model_name": "FloatProgressModel",
          "model_module_version": "1.5.0",
          "state": {
            "_dom_classes": [],
            "_model_module": "@jupyter-widgets/controls",
            "_model_module_version": "1.5.0",
            "_model_name": "FloatProgressModel",
            "_view_count": null,
            "_view_module": "@jupyter-widgets/controls",
            "_view_module_version": "1.5.0",
            "_view_name": "ProgressView",
            "bar_style": "",
            "description": "",
            "description_tooltip": null,
            "layout": "IPY_MODEL_8088443841fd40fda9ef45cc9fa11fe2",
            "max": 1,
            "min": 0,
            "orientation": "horizontal",
            "style": "IPY_MODEL_b0b7095040fc4b1ab8d8e04437253f00",
            "value": 1
          }
        },
        "e1ee3e8098a244b6ad77812235c91455": {
          "model_module": "@jupyter-widgets/base",
          "model_name": "LayoutModel",
          "model_module_version": "1.2.0",
          "state": {
            "_model_module": "@jupyter-widgets/base",
            "_model_module_version": "1.2.0",
            "_model_name": "LayoutModel",
            "_view_count": null,
            "_view_module": "@jupyter-widgets/base",
            "_view_module_version": "1.2.0",
            "_view_name": "LayoutView",
            "align_content": null,
            "align_items": null,
            "align_self": null,
            "border": null,
            "bottom": null,
            "display": null,
            "flex": null,
            "flex_flow": null,
            "grid_area": null,
            "grid_auto_columns": null,
            "grid_auto_flow": null,
            "grid_auto_rows": null,
            "grid_column": null,
            "grid_gap": null,
            "grid_row": null,
            "grid_template_areas": null,
            "grid_template_columns": null,
            "grid_template_rows": null,
            "height": null,
            "justify_content": null,
            "justify_items": null,
            "left": null,
            "margin": null,
            "max_height": null,
            "max_width": null,
            "min_height": null,
            "min_width": null,
            "object_fit": null,
            "object_position": null,
            "order": null,
            "overflow": null,
            "overflow_x": null,
            "overflow_y": null,
            "padding": null,
            "right": null,
            "top": null,
            "visibility": null,
            "width": null
          }
        },
        "5b8811d70bac46238063cd428ec5355d": {
          "model_module": "@jupyter-widgets/base",
          "model_name": "LayoutModel",
          "model_module_version": "1.2.0",
          "state": {
            "_model_module": "@jupyter-widgets/base",
            "_model_module_version": "1.2.0",
            "_model_name": "LayoutModel",
            "_view_count": null,
            "_view_module": "@jupyter-widgets/base",
            "_view_module_version": "1.2.0",
            "_view_name": "LayoutView",
            "align_content": null,
            "align_items": null,
            "align_self": null,
            "border": null,
            "bottom": null,
            "display": null,
            "flex": null,
            "flex_flow": null,
            "grid_area": null,
            "grid_auto_columns": null,
            "grid_auto_flow": null,
            "grid_auto_rows": null,
            "grid_column": null,
            "grid_gap": null,
            "grid_row": null,
            "grid_template_areas": null,
            "grid_template_columns": null,
            "grid_template_rows": null,
            "height": null,
            "justify_content": null,
            "justify_items": null,
            "left": null,
            "margin": null,
            "max_height": null,
            "max_width": null,
            "min_height": null,
            "min_width": null,
            "object_fit": null,
            "object_position": null,
            "order": null,
            "overflow": null,
            "overflow_x": null,
            "overflow_y": null,
            "padding": null,
            "right": null,
            "top": null,
            "visibility": null,
            "width": null
          }
        },
        "b1ca7e221efd43d6ac487445dfbe4e5c": {
          "model_module": "@jupyter-widgets/controls",
          "model_name": "DescriptionStyleModel",
          "model_module_version": "1.5.0",
          "state": {
            "_model_module": "@jupyter-widgets/controls",
            "_model_module_version": "1.5.0",
            "_model_name": "DescriptionStyleModel",
            "_view_count": null,
            "_view_module": "@jupyter-widgets/base",
            "_view_module_version": "1.2.0",
            "_view_name": "StyleView",
            "description_width": ""
          }
        },
        "8088443841fd40fda9ef45cc9fa11fe2": {
          "model_module": "@jupyter-widgets/base",
          "model_name": "LayoutModel",
          "model_module_version": "1.2.0",
          "state": {
            "_model_module": "@jupyter-widgets/base",
            "_model_module_version": "1.2.0",
            "_model_name": "LayoutModel",
            "_view_count": null,
            "_view_module": "@jupyter-widgets/base",
            "_view_module_version": "1.2.0",
            "_view_name": "LayoutView",
            "align_content": null,
            "align_items": null,
            "align_self": null,
            "border": null,
            "bottom": null,
            "display": null,
            "flex": null,
            "flex_flow": null,
            "grid_area": null,
            "grid_auto_columns": null,
            "grid_auto_flow": null,
            "grid_auto_rows": null,
            "grid_column": null,
            "grid_gap": null,
            "grid_row": null,
            "grid_template_areas": null,
            "grid_template_columns": null,
            "grid_template_rows": null,
            "height": null,
            "justify_content": null,
            "justify_items": null,
            "left": null,
            "margin": null,
            "max_height": null,
            "max_width": null,
            "min_height": null,
            "min_width": null,
            "object_fit": null,
            "object_position": null,
            "order": null,
            "overflow": null,
            "overflow_x": null,
            "overflow_y": null,
            "padding": null,
            "right": null,
            "top": null,
            "visibility": null,
            "width": null
          }
        },
        "b0b7095040fc4b1ab8d8e04437253f00": {
          "model_module": "@jupyter-widgets/controls",
          "model_name": "ProgressStyleModel",
          "model_module_version": "1.5.0",
          "state": {
            "_model_module": "@jupyter-widgets/controls",
            "_model_module_version": "1.5.0",
            "_model_name": "ProgressStyleModel",
            "_view_count": null,
            "_view_module": "@jupyter-widgets/base",
            "_view_module_version": "1.2.0",
            "_view_name": "StyleView",
            "bar_color": null,
            "description_width": ""
          }
        },
        "182dd5a9973d49129b1e038b707dcd41": {
          "model_module": "@jupyter-widgets/controls",
          "model_name": "VBoxModel",
          "model_module_version": "1.5.0",
          "state": {
            "_dom_classes": [],
            "_model_module": "@jupyter-widgets/controls",
            "_model_module_version": "1.5.0",
            "_model_name": "VBoxModel",
            "_view_count": null,
            "_view_module": "@jupyter-widgets/controls",
            "_view_module_version": "1.5.0",
            "_view_name": "VBoxView",
            "box_style": "",
            "children": [
              "IPY_MODEL_ebf754bc11ae4d739b649e9d35a09d68",
              "IPY_MODEL_0280a622aa8a440ea7abfac41e342cb4"
            ],
            "layout": "IPY_MODEL_e504e9c2ec984c54baf910303e587755"
          }
        },
        "ebf754bc11ae4d739b649e9d35a09d68": {
          "model_module": "@jupyter-widgets/controls",
          "model_name": "LabelModel",
          "model_module_version": "1.5.0",
          "state": {
            "_dom_classes": [],
            "_model_module": "@jupyter-widgets/controls",
            "_model_module_version": "1.5.0",
            "_model_name": "LabelModel",
            "_view_count": null,
            "_view_module": "@jupyter-widgets/controls",
            "_view_module_version": "1.5.0",
            "_view_name": "LabelView",
            "description": "",
            "description_tooltip": null,
            "layout": "IPY_MODEL_666439d7d6c8435ab1ce6dacb45048d8",
            "placeholder": "​",
            "style": "IPY_MODEL_290dee69faf046d8950b3e953d18722c",
            "value": "0.013 MB of 0.013 MB uploaded (0.000 MB deduped)\r"
          }
        },
        "0280a622aa8a440ea7abfac41e342cb4": {
          "model_module": "@jupyter-widgets/controls",
          "model_name": "FloatProgressModel",
          "model_module_version": "1.5.0",
          "state": {
            "_dom_classes": [],
            "_model_module": "@jupyter-widgets/controls",
            "_model_module_version": "1.5.0",
            "_model_name": "FloatProgressModel",
            "_view_count": null,
            "_view_module": "@jupyter-widgets/controls",
            "_view_module_version": "1.5.0",
            "_view_name": "ProgressView",
            "bar_style": "",
            "description": "",
            "description_tooltip": null,
            "layout": "IPY_MODEL_6384cfc144134c079ee2e10cddd55aab",
            "max": 1,
            "min": 0,
            "orientation": "horizontal",
            "style": "IPY_MODEL_4641c53967aa4926bd4f24321b74298f",
            "value": 1
          }
        },
        "e504e9c2ec984c54baf910303e587755": {
          "model_module": "@jupyter-widgets/base",
          "model_name": "LayoutModel",
          "model_module_version": "1.2.0",
          "state": {
            "_model_module": "@jupyter-widgets/base",
            "_model_module_version": "1.2.0",
            "_model_name": "LayoutModel",
            "_view_count": null,
            "_view_module": "@jupyter-widgets/base",
            "_view_module_version": "1.2.0",
            "_view_name": "LayoutView",
            "align_content": null,
            "align_items": null,
            "align_self": null,
            "border": null,
            "bottom": null,
            "display": null,
            "flex": null,
            "flex_flow": null,
            "grid_area": null,
            "grid_auto_columns": null,
            "grid_auto_flow": null,
            "grid_auto_rows": null,
            "grid_column": null,
            "grid_gap": null,
            "grid_row": null,
            "grid_template_areas": null,
            "grid_template_columns": null,
            "grid_template_rows": null,
            "height": null,
            "justify_content": null,
            "justify_items": null,
            "left": null,
            "margin": null,
            "max_height": null,
            "max_width": null,
            "min_height": null,
            "min_width": null,
            "object_fit": null,
            "object_position": null,
            "order": null,
            "overflow": null,
            "overflow_x": null,
            "overflow_y": null,
            "padding": null,
            "right": null,
            "top": null,
            "visibility": null,
            "width": null
          }
        },
        "666439d7d6c8435ab1ce6dacb45048d8": {
          "model_module": "@jupyter-widgets/base",
          "model_name": "LayoutModel",
          "model_module_version": "1.2.0",
          "state": {
            "_model_module": "@jupyter-widgets/base",
            "_model_module_version": "1.2.0",
            "_model_name": "LayoutModel",
            "_view_count": null,
            "_view_module": "@jupyter-widgets/base",
            "_view_module_version": "1.2.0",
            "_view_name": "LayoutView",
            "align_content": null,
            "align_items": null,
            "align_self": null,
            "border": null,
            "bottom": null,
            "display": null,
            "flex": null,
            "flex_flow": null,
            "grid_area": null,
            "grid_auto_columns": null,
            "grid_auto_flow": null,
            "grid_auto_rows": null,
            "grid_column": null,
            "grid_gap": null,
            "grid_row": null,
            "grid_template_areas": null,
            "grid_template_columns": null,
            "grid_template_rows": null,
            "height": null,
            "justify_content": null,
            "justify_items": null,
            "left": null,
            "margin": null,
            "max_height": null,
            "max_width": null,
            "min_height": null,
            "min_width": null,
            "object_fit": null,
            "object_position": null,
            "order": null,
            "overflow": null,
            "overflow_x": null,
            "overflow_y": null,
            "padding": null,
            "right": null,
            "top": null,
            "visibility": null,
            "width": null
          }
        },
        "290dee69faf046d8950b3e953d18722c": {
          "model_module": "@jupyter-widgets/controls",
          "model_name": "DescriptionStyleModel",
          "model_module_version": "1.5.0",
          "state": {
            "_model_module": "@jupyter-widgets/controls",
            "_model_module_version": "1.5.0",
            "_model_name": "DescriptionStyleModel",
            "_view_count": null,
            "_view_module": "@jupyter-widgets/base",
            "_view_module_version": "1.2.0",
            "_view_name": "StyleView",
            "description_width": ""
          }
        },
        "6384cfc144134c079ee2e10cddd55aab": {
          "model_module": "@jupyter-widgets/base",
          "model_name": "LayoutModel",
          "model_module_version": "1.2.0",
          "state": {
            "_model_module": "@jupyter-widgets/base",
            "_model_module_version": "1.2.0",
            "_model_name": "LayoutModel",
            "_view_count": null,
            "_view_module": "@jupyter-widgets/base",
            "_view_module_version": "1.2.0",
            "_view_name": "LayoutView",
            "align_content": null,
            "align_items": null,
            "align_self": null,
            "border": null,
            "bottom": null,
            "display": null,
            "flex": null,
            "flex_flow": null,
            "grid_area": null,
            "grid_auto_columns": null,
            "grid_auto_flow": null,
            "grid_auto_rows": null,
            "grid_column": null,
            "grid_gap": null,
            "grid_row": null,
            "grid_template_areas": null,
            "grid_template_columns": null,
            "grid_template_rows": null,
            "height": null,
            "justify_content": null,
            "justify_items": null,
            "left": null,
            "margin": null,
            "max_height": null,
            "max_width": null,
            "min_height": null,
            "min_width": null,
            "object_fit": null,
            "object_position": null,
            "order": null,
            "overflow": null,
            "overflow_x": null,
            "overflow_y": null,
            "padding": null,
            "right": null,
            "top": null,
            "visibility": null,
            "width": null
          }
        },
        "4641c53967aa4926bd4f24321b74298f": {
          "model_module": "@jupyter-widgets/controls",
          "model_name": "ProgressStyleModel",
          "model_module_version": "1.5.0",
          "state": {
            "_model_module": "@jupyter-widgets/controls",
            "_model_module_version": "1.5.0",
            "_model_name": "ProgressStyleModel",
            "_view_count": null,
            "_view_module": "@jupyter-widgets/base",
            "_view_module_version": "1.2.0",
            "_view_name": "StyleView",
            "bar_color": null,
            "description_width": ""
          }
        },
        "8a209d4bf7a341eda7a55557e248b606": {
          "model_module": "@jupyter-widgets/controls",
          "model_name": "VBoxModel",
          "model_module_version": "1.5.0",
          "state": {
            "_dom_classes": [],
            "_model_module": "@jupyter-widgets/controls",
            "_model_module_version": "1.5.0",
            "_model_name": "VBoxModel",
            "_view_count": null,
            "_view_module": "@jupyter-widgets/controls",
            "_view_module_version": "1.5.0",
            "_view_name": "VBoxView",
            "box_style": "",
            "children": [
              "IPY_MODEL_81884fce9b0c413290d9a1c5ed6044a7",
              "IPY_MODEL_035938f4289d4752865722954a6f24aa"
            ],
            "layout": "IPY_MODEL_d9bd9a0b46a84233af80ff0ca425ade1"
          }
        },
        "81884fce9b0c413290d9a1c5ed6044a7": {
          "model_module": "@jupyter-widgets/controls",
          "model_name": "LabelModel",
          "model_module_version": "1.5.0",
          "state": {
            "_dom_classes": [],
            "_model_module": "@jupyter-widgets/controls",
            "_model_module_version": "1.5.0",
            "_model_name": "LabelModel",
            "_view_count": null,
            "_view_module": "@jupyter-widgets/controls",
            "_view_module_version": "1.5.0",
            "_view_name": "LabelView",
            "description": "",
            "description_tooltip": null,
            "layout": "IPY_MODEL_e9f5748f8d3c4b9785850a3cfcda5c18",
            "placeholder": "​",
            "style": "IPY_MODEL_aabea984e5ee4737a68aec805f011d69",
            "value": "0.013 MB of 0.013 MB uploaded (0.000 MB deduped)\r"
          }
        },
        "035938f4289d4752865722954a6f24aa": {
          "model_module": "@jupyter-widgets/controls",
          "model_name": "FloatProgressModel",
          "model_module_version": "1.5.0",
          "state": {
            "_dom_classes": [],
            "_model_module": "@jupyter-widgets/controls",
            "_model_module_version": "1.5.0",
            "_model_name": "FloatProgressModel",
            "_view_count": null,
            "_view_module": "@jupyter-widgets/controls",
            "_view_module_version": "1.5.0",
            "_view_name": "ProgressView",
            "bar_style": "",
            "description": "",
            "description_tooltip": null,
            "layout": "IPY_MODEL_0fad07792ac440be95dba791e2797981",
            "max": 1,
            "min": 0,
            "orientation": "horizontal",
            "style": "IPY_MODEL_b445be384772479b9026f9284867a631",
            "value": 1
          }
        },
        "d9bd9a0b46a84233af80ff0ca425ade1": {
          "model_module": "@jupyter-widgets/base",
          "model_name": "LayoutModel",
          "model_module_version": "1.2.0",
          "state": {
            "_model_module": "@jupyter-widgets/base",
            "_model_module_version": "1.2.0",
            "_model_name": "LayoutModel",
            "_view_count": null,
            "_view_module": "@jupyter-widgets/base",
            "_view_module_version": "1.2.0",
            "_view_name": "LayoutView",
            "align_content": null,
            "align_items": null,
            "align_self": null,
            "border": null,
            "bottom": null,
            "display": null,
            "flex": null,
            "flex_flow": null,
            "grid_area": null,
            "grid_auto_columns": null,
            "grid_auto_flow": null,
            "grid_auto_rows": null,
            "grid_column": null,
            "grid_gap": null,
            "grid_row": null,
            "grid_template_areas": null,
            "grid_template_columns": null,
            "grid_template_rows": null,
            "height": null,
            "justify_content": null,
            "justify_items": null,
            "left": null,
            "margin": null,
            "max_height": null,
            "max_width": null,
            "min_height": null,
            "min_width": null,
            "object_fit": null,
            "object_position": null,
            "order": null,
            "overflow": null,
            "overflow_x": null,
            "overflow_y": null,
            "padding": null,
            "right": null,
            "top": null,
            "visibility": null,
            "width": null
          }
        },
        "e9f5748f8d3c4b9785850a3cfcda5c18": {
          "model_module": "@jupyter-widgets/base",
          "model_name": "LayoutModel",
          "model_module_version": "1.2.0",
          "state": {
            "_model_module": "@jupyter-widgets/base",
            "_model_module_version": "1.2.0",
            "_model_name": "LayoutModel",
            "_view_count": null,
            "_view_module": "@jupyter-widgets/base",
            "_view_module_version": "1.2.0",
            "_view_name": "LayoutView",
            "align_content": null,
            "align_items": null,
            "align_self": null,
            "border": null,
            "bottom": null,
            "display": null,
            "flex": null,
            "flex_flow": null,
            "grid_area": null,
            "grid_auto_columns": null,
            "grid_auto_flow": null,
            "grid_auto_rows": null,
            "grid_column": null,
            "grid_gap": null,
            "grid_row": null,
            "grid_template_areas": null,
            "grid_template_columns": null,
            "grid_template_rows": null,
            "height": null,
            "justify_content": null,
            "justify_items": null,
            "left": null,
            "margin": null,
            "max_height": null,
            "max_width": null,
            "min_height": null,
            "min_width": null,
            "object_fit": null,
            "object_position": null,
            "order": null,
            "overflow": null,
            "overflow_x": null,
            "overflow_y": null,
            "padding": null,
            "right": null,
            "top": null,
            "visibility": null,
            "width": null
          }
        },
        "aabea984e5ee4737a68aec805f011d69": {
          "model_module": "@jupyter-widgets/controls",
          "model_name": "DescriptionStyleModel",
          "model_module_version": "1.5.0",
          "state": {
            "_model_module": "@jupyter-widgets/controls",
            "_model_module_version": "1.5.0",
            "_model_name": "DescriptionStyleModel",
            "_view_count": null,
            "_view_module": "@jupyter-widgets/base",
            "_view_module_version": "1.2.0",
            "_view_name": "StyleView",
            "description_width": ""
          }
        },
        "0fad07792ac440be95dba791e2797981": {
          "model_module": "@jupyter-widgets/base",
          "model_name": "LayoutModel",
          "model_module_version": "1.2.0",
          "state": {
            "_model_module": "@jupyter-widgets/base",
            "_model_module_version": "1.2.0",
            "_model_name": "LayoutModel",
            "_view_count": null,
            "_view_module": "@jupyter-widgets/base",
            "_view_module_version": "1.2.0",
            "_view_name": "LayoutView",
            "align_content": null,
            "align_items": null,
            "align_self": null,
            "border": null,
            "bottom": null,
            "display": null,
            "flex": null,
            "flex_flow": null,
            "grid_area": null,
            "grid_auto_columns": null,
            "grid_auto_flow": null,
            "grid_auto_rows": null,
            "grid_column": null,
            "grid_gap": null,
            "grid_row": null,
            "grid_template_areas": null,
            "grid_template_columns": null,
            "grid_template_rows": null,
            "height": null,
            "justify_content": null,
            "justify_items": null,
            "left": null,
            "margin": null,
            "max_height": null,
            "max_width": null,
            "min_height": null,
            "min_width": null,
            "object_fit": null,
            "object_position": null,
            "order": null,
            "overflow": null,
            "overflow_x": null,
            "overflow_y": null,
            "padding": null,
            "right": null,
            "top": null,
            "visibility": null,
            "width": null
          }
        },
        "b445be384772479b9026f9284867a631": {
          "model_module": "@jupyter-widgets/controls",
          "model_name": "ProgressStyleModel",
          "model_module_version": "1.5.0",
          "state": {
            "_model_module": "@jupyter-widgets/controls",
            "_model_module_version": "1.5.0",
            "_model_name": "ProgressStyleModel",
            "_view_count": null,
            "_view_module": "@jupyter-widgets/base",
            "_view_module_version": "1.2.0",
            "_view_name": "StyleView",
            "bar_color": null,
            "description_width": ""
          }
        },
        "bf60fa90ce9b455286d3d38172d236de": {
          "model_module": "@jupyter-widgets/controls",
          "model_name": "VBoxModel",
          "model_module_version": "1.5.0",
          "state": {
            "_dom_classes": [],
            "_model_module": "@jupyter-widgets/controls",
            "_model_module_version": "1.5.0",
            "_model_name": "VBoxModel",
            "_view_count": null,
            "_view_module": "@jupyter-widgets/controls",
            "_view_module_version": "1.5.0",
            "_view_name": "VBoxView",
            "box_style": "",
            "children": [
              "IPY_MODEL_da4b1e98c7d945ec8332af7309c797c6",
              "IPY_MODEL_9fb38b87c07a4b56847dd2e1aa90e6d5"
            ],
            "layout": "IPY_MODEL_d11977bf65ba4f64bb122777817c7f8a"
          }
        },
        "da4b1e98c7d945ec8332af7309c797c6": {
          "model_module": "@jupyter-widgets/controls",
          "model_name": "LabelModel",
          "model_module_version": "1.5.0",
          "state": {
            "_dom_classes": [],
            "_model_module": "@jupyter-widgets/controls",
            "_model_module_version": "1.5.0",
            "_model_name": "LabelModel",
            "_view_count": null,
            "_view_module": "@jupyter-widgets/controls",
            "_view_module_version": "1.5.0",
            "_view_name": "LabelView",
            "description": "",
            "description_tooltip": null,
            "layout": "IPY_MODEL_60387e5f3a734551ab60fcbf0faa9504",
            "placeholder": "​",
            "style": "IPY_MODEL_850de65c662f4493949c4986bf0ffa14",
            "value": "0.013 MB of 0.013 MB uploaded (0.000 MB deduped)\r"
          }
        },
        "9fb38b87c07a4b56847dd2e1aa90e6d5": {
          "model_module": "@jupyter-widgets/controls",
          "model_name": "FloatProgressModel",
          "model_module_version": "1.5.0",
          "state": {
            "_dom_classes": [],
            "_model_module": "@jupyter-widgets/controls",
            "_model_module_version": "1.5.0",
            "_model_name": "FloatProgressModel",
            "_view_count": null,
            "_view_module": "@jupyter-widgets/controls",
            "_view_module_version": "1.5.0",
            "_view_name": "ProgressView",
            "bar_style": "",
            "description": "",
            "description_tooltip": null,
            "layout": "IPY_MODEL_825d1538736f4554a5502161d2c0a121",
            "max": 1,
            "min": 0,
            "orientation": "horizontal",
            "style": "IPY_MODEL_7e82222b3d94479994131cb0c2d1ee85",
            "value": 1
          }
        },
        "d11977bf65ba4f64bb122777817c7f8a": {
          "model_module": "@jupyter-widgets/base",
          "model_name": "LayoutModel",
          "model_module_version": "1.2.0",
          "state": {
            "_model_module": "@jupyter-widgets/base",
            "_model_module_version": "1.2.0",
            "_model_name": "LayoutModel",
            "_view_count": null,
            "_view_module": "@jupyter-widgets/base",
            "_view_module_version": "1.2.0",
            "_view_name": "LayoutView",
            "align_content": null,
            "align_items": null,
            "align_self": null,
            "border": null,
            "bottom": null,
            "display": null,
            "flex": null,
            "flex_flow": null,
            "grid_area": null,
            "grid_auto_columns": null,
            "grid_auto_flow": null,
            "grid_auto_rows": null,
            "grid_column": null,
            "grid_gap": null,
            "grid_row": null,
            "grid_template_areas": null,
            "grid_template_columns": null,
            "grid_template_rows": null,
            "height": null,
            "justify_content": null,
            "justify_items": null,
            "left": null,
            "margin": null,
            "max_height": null,
            "max_width": null,
            "min_height": null,
            "min_width": null,
            "object_fit": null,
            "object_position": null,
            "order": null,
            "overflow": null,
            "overflow_x": null,
            "overflow_y": null,
            "padding": null,
            "right": null,
            "top": null,
            "visibility": null,
            "width": null
          }
        },
        "60387e5f3a734551ab60fcbf0faa9504": {
          "model_module": "@jupyter-widgets/base",
          "model_name": "LayoutModel",
          "model_module_version": "1.2.0",
          "state": {
            "_model_module": "@jupyter-widgets/base",
            "_model_module_version": "1.2.0",
            "_model_name": "LayoutModel",
            "_view_count": null,
            "_view_module": "@jupyter-widgets/base",
            "_view_module_version": "1.2.0",
            "_view_name": "LayoutView",
            "align_content": null,
            "align_items": null,
            "align_self": null,
            "border": null,
            "bottom": null,
            "display": null,
            "flex": null,
            "flex_flow": null,
            "grid_area": null,
            "grid_auto_columns": null,
            "grid_auto_flow": null,
            "grid_auto_rows": null,
            "grid_column": null,
            "grid_gap": null,
            "grid_row": null,
            "grid_template_areas": null,
            "grid_template_columns": null,
            "grid_template_rows": null,
            "height": null,
            "justify_content": null,
            "justify_items": null,
            "left": null,
            "margin": null,
            "max_height": null,
            "max_width": null,
            "min_height": null,
            "min_width": null,
            "object_fit": null,
            "object_position": null,
            "order": null,
            "overflow": null,
            "overflow_x": null,
            "overflow_y": null,
            "padding": null,
            "right": null,
            "top": null,
            "visibility": null,
            "width": null
          }
        },
        "850de65c662f4493949c4986bf0ffa14": {
          "model_module": "@jupyter-widgets/controls",
          "model_name": "DescriptionStyleModel",
          "model_module_version": "1.5.0",
          "state": {
            "_model_module": "@jupyter-widgets/controls",
            "_model_module_version": "1.5.0",
            "_model_name": "DescriptionStyleModel",
            "_view_count": null,
            "_view_module": "@jupyter-widgets/base",
            "_view_module_version": "1.2.0",
            "_view_name": "StyleView",
            "description_width": ""
          }
        },
        "825d1538736f4554a5502161d2c0a121": {
          "model_module": "@jupyter-widgets/base",
          "model_name": "LayoutModel",
          "model_module_version": "1.2.0",
          "state": {
            "_model_module": "@jupyter-widgets/base",
            "_model_module_version": "1.2.0",
            "_model_name": "LayoutModel",
            "_view_count": null,
            "_view_module": "@jupyter-widgets/base",
            "_view_module_version": "1.2.0",
            "_view_name": "LayoutView",
            "align_content": null,
            "align_items": null,
            "align_self": null,
            "border": null,
            "bottom": null,
            "display": null,
            "flex": null,
            "flex_flow": null,
            "grid_area": null,
            "grid_auto_columns": null,
            "grid_auto_flow": null,
            "grid_auto_rows": null,
            "grid_column": null,
            "grid_gap": null,
            "grid_row": null,
            "grid_template_areas": null,
            "grid_template_columns": null,
            "grid_template_rows": null,
            "height": null,
            "justify_content": null,
            "justify_items": null,
            "left": null,
            "margin": null,
            "max_height": null,
            "max_width": null,
            "min_height": null,
            "min_width": null,
            "object_fit": null,
            "object_position": null,
            "order": null,
            "overflow": null,
            "overflow_x": null,
            "overflow_y": null,
            "padding": null,
            "right": null,
            "top": null,
            "visibility": null,
            "width": null
          }
        },
        "7e82222b3d94479994131cb0c2d1ee85": {
          "model_module": "@jupyter-widgets/controls",
          "model_name": "ProgressStyleModel",
          "model_module_version": "1.5.0",
          "state": {
            "_model_module": "@jupyter-widgets/controls",
            "_model_module_version": "1.5.0",
            "_model_name": "ProgressStyleModel",
            "_view_count": null,
            "_view_module": "@jupyter-widgets/base",
            "_view_module_version": "1.2.0",
            "_view_name": "StyleView",
            "bar_color": null,
            "description_width": ""
          }
        },
        "9ab9860a690f47e1961eb845a7354e0e": {
          "model_module": "@jupyter-widgets/controls",
          "model_name": "VBoxModel",
          "model_module_version": "1.5.0",
          "state": {
            "_dom_classes": [],
            "_model_module": "@jupyter-widgets/controls",
            "_model_module_version": "1.5.0",
            "_model_name": "VBoxModel",
            "_view_count": null,
            "_view_module": "@jupyter-widgets/controls",
            "_view_module_version": "1.5.0",
            "_view_name": "VBoxView",
            "box_style": "",
            "children": [
              "IPY_MODEL_7b874f9a81584c2c8cbddfa6dab14d12",
              "IPY_MODEL_5f2b8d9ed3b44fe995319dca8394b377"
            ],
            "layout": "IPY_MODEL_bcb80b994bf64ff788aec2911c5d8d33"
          }
        },
        "7b874f9a81584c2c8cbddfa6dab14d12": {
          "model_module": "@jupyter-widgets/controls",
          "model_name": "LabelModel",
          "model_module_version": "1.5.0",
          "state": {
            "_dom_classes": [],
            "_model_module": "@jupyter-widgets/controls",
            "_model_module_version": "1.5.0",
            "_model_name": "LabelModel",
            "_view_count": null,
            "_view_module": "@jupyter-widgets/controls",
            "_view_module_version": "1.5.0",
            "_view_name": "LabelView",
            "description": "",
            "description_tooltip": null,
            "layout": "IPY_MODEL_bb997df6a0fe4c359031ec29c564d2b9",
            "placeholder": "​",
            "style": "IPY_MODEL_8d8002de1f0444768d78f4044b20135a",
            "value": "0.013 MB of 0.013 MB uploaded (0.000 MB deduped)\r"
          }
        },
        "5f2b8d9ed3b44fe995319dca8394b377": {
          "model_module": "@jupyter-widgets/controls",
          "model_name": "FloatProgressModel",
          "model_module_version": "1.5.0",
          "state": {
            "_dom_classes": [],
            "_model_module": "@jupyter-widgets/controls",
            "_model_module_version": "1.5.0",
            "_model_name": "FloatProgressModel",
            "_view_count": null,
            "_view_module": "@jupyter-widgets/controls",
            "_view_module_version": "1.5.0",
            "_view_name": "ProgressView",
            "bar_style": "",
            "description": "",
            "description_tooltip": null,
            "layout": "IPY_MODEL_2255bb9460844fa3baea108130cc9c0d",
            "max": 1,
            "min": 0,
            "orientation": "horizontal",
            "style": "IPY_MODEL_4011b0ae1caf4df694136a0e27374bb8",
            "value": 1
          }
        },
        "bcb80b994bf64ff788aec2911c5d8d33": {
          "model_module": "@jupyter-widgets/base",
          "model_name": "LayoutModel",
          "model_module_version": "1.2.0",
          "state": {
            "_model_module": "@jupyter-widgets/base",
            "_model_module_version": "1.2.0",
            "_model_name": "LayoutModel",
            "_view_count": null,
            "_view_module": "@jupyter-widgets/base",
            "_view_module_version": "1.2.0",
            "_view_name": "LayoutView",
            "align_content": null,
            "align_items": null,
            "align_self": null,
            "border": null,
            "bottom": null,
            "display": null,
            "flex": null,
            "flex_flow": null,
            "grid_area": null,
            "grid_auto_columns": null,
            "grid_auto_flow": null,
            "grid_auto_rows": null,
            "grid_column": null,
            "grid_gap": null,
            "grid_row": null,
            "grid_template_areas": null,
            "grid_template_columns": null,
            "grid_template_rows": null,
            "height": null,
            "justify_content": null,
            "justify_items": null,
            "left": null,
            "margin": null,
            "max_height": null,
            "max_width": null,
            "min_height": null,
            "min_width": null,
            "object_fit": null,
            "object_position": null,
            "order": null,
            "overflow": null,
            "overflow_x": null,
            "overflow_y": null,
            "padding": null,
            "right": null,
            "top": null,
            "visibility": null,
            "width": null
          }
        },
        "bb997df6a0fe4c359031ec29c564d2b9": {
          "model_module": "@jupyter-widgets/base",
          "model_name": "LayoutModel",
          "model_module_version": "1.2.0",
          "state": {
            "_model_module": "@jupyter-widgets/base",
            "_model_module_version": "1.2.0",
            "_model_name": "LayoutModel",
            "_view_count": null,
            "_view_module": "@jupyter-widgets/base",
            "_view_module_version": "1.2.0",
            "_view_name": "LayoutView",
            "align_content": null,
            "align_items": null,
            "align_self": null,
            "border": null,
            "bottom": null,
            "display": null,
            "flex": null,
            "flex_flow": null,
            "grid_area": null,
            "grid_auto_columns": null,
            "grid_auto_flow": null,
            "grid_auto_rows": null,
            "grid_column": null,
            "grid_gap": null,
            "grid_row": null,
            "grid_template_areas": null,
            "grid_template_columns": null,
            "grid_template_rows": null,
            "height": null,
            "justify_content": null,
            "justify_items": null,
            "left": null,
            "margin": null,
            "max_height": null,
            "max_width": null,
            "min_height": null,
            "min_width": null,
            "object_fit": null,
            "object_position": null,
            "order": null,
            "overflow": null,
            "overflow_x": null,
            "overflow_y": null,
            "padding": null,
            "right": null,
            "top": null,
            "visibility": null,
            "width": null
          }
        },
        "8d8002de1f0444768d78f4044b20135a": {
          "model_module": "@jupyter-widgets/controls",
          "model_name": "DescriptionStyleModel",
          "model_module_version": "1.5.0",
          "state": {
            "_model_module": "@jupyter-widgets/controls",
            "_model_module_version": "1.5.0",
            "_model_name": "DescriptionStyleModel",
            "_view_count": null,
            "_view_module": "@jupyter-widgets/base",
            "_view_module_version": "1.2.0",
            "_view_name": "StyleView",
            "description_width": ""
          }
        },
        "2255bb9460844fa3baea108130cc9c0d": {
          "model_module": "@jupyter-widgets/base",
          "model_name": "LayoutModel",
          "model_module_version": "1.2.0",
          "state": {
            "_model_module": "@jupyter-widgets/base",
            "_model_module_version": "1.2.0",
            "_model_name": "LayoutModel",
            "_view_count": null,
            "_view_module": "@jupyter-widgets/base",
            "_view_module_version": "1.2.0",
            "_view_name": "LayoutView",
            "align_content": null,
            "align_items": null,
            "align_self": null,
            "border": null,
            "bottom": null,
            "display": null,
            "flex": null,
            "flex_flow": null,
            "grid_area": null,
            "grid_auto_columns": null,
            "grid_auto_flow": null,
            "grid_auto_rows": null,
            "grid_column": null,
            "grid_gap": null,
            "grid_row": null,
            "grid_template_areas": null,
            "grid_template_columns": null,
            "grid_template_rows": null,
            "height": null,
            "justify_content": null,
            "justify_items": null,
            "left": null,
            "margin": null,
            "max_height": null,
            "max_width": null,
            "min_height": null,
            "min_width": null,
            "object_fit": null,
            "object_position": null,
            "order": null,
            "overflow": null,
            "overflow_x": null,
            "overflow_y": null,
            "padding": null,
            "right": null,
            "top": null,
            "visibility": null,
            "width": null
          }
        },
        "4011b0ae1caf4df694136a0e27374bb8": {
          "model_module": "@jupyter-widgets/controls",
          "model_name": "ProgressStyleModel",
          "model_module_version": "1.5.0",
          "state": {
            "_model_module": "@jupyter-widgets/controls",
            "_model_module_version": "1.5.0",
            "_model_name": "ProgressStyleModel",
            "_view_count": null,
            "_view_module": "@jupyter-widgets/base",
            "_view_module_version": "1.2.0",
            "_view_name": "StyleView",
            "bar_color": null,
            "description_width": ""
          }
        },
        "f7b0f69436894f0e8605780bb48b7c93": {
          "model_module": "@jupyter-widgets/controls",
          "model_name": "VBoxModel",
          "model_module_version": "1.5.0",
          "state": {
            "_dom_classes": [],
            "_model_module": "@jupyter-widgets/controls",
            "_model_module_version": "1.5.0",
            "_model_name": "VBoxModel",
            "_view_count": null,
            "_view_module": "@jupyter-widgets/controls",
            "_view_module_version": "1.5.0",
            "_view_name": "VBoxView",
            "box_style": "",
            "children": [
              "IPY_MODEL_f68785a084cb4f3fab7a4d0dcf91ff6d",
              "IPY_MODEL_4e7b2fbac4f9409697e4fb72f9f84735"
            ],
            "layout": "IPY_MODEL_11901885ab5348d48cd4395ad82d378b"
          }
        },
        "f68785a084cb4f3fab7a4d0dcf91ff6d": {
          "model_module": "@jupyter-widgets/controls",
          "model_name": "LabelModel",
          "model_module_version": "1.5.0",
          "state": {
            "_dom_classes": [],
            "_model_module": "@jupyter-widgets/controls",
            "_model_module_version": "1.5.0",
            "_model_name": "LabelModel",
            "_view_count": null,
            "_view_module": "@jupyter-widgets/controls",
            "_view_module_version": "1.5.0",
            "_view_name": "LabelView",
            "description": "",
            "description_tooltip": null,
            "layout": "IPY_MODEL_8804eff8175c42a38d7b8f07f5db801f",
            "placeholder": "​",
            "style": "IPY_MODEL_ad67a7863c3f4a7d846584aea885f8d8",
            "value": "0.013 MB of 0.013 MB uploaded (0.000 MB deduped)\r"
          }
        },
        "4e7b2fbac4f9409697e4fb72f9f84735": {
          "model_module": "@jupyter-widgets/controls",
          "model_name": "FloatProgressModel",
          "model_module_version": "1.5.0",
          "state": {
            "_dom_classes": [],
            "_model_module": "@jupyter-widgets/controls",
            "_model_module_version": "1.5.0",
            "_model_name": "FloatProgressModel",
            "_view_count": null,
            "_view_module": "@jupyter-widgets/controls",
            "_view_module_version": "1.5.0",
            "_view_name": "ProgressView",
            "bar_style": "",
            "description": "",
            "description_tooltip": null,
            "layout": "IPY_MODEL_7daaf81c3a7f49419ad79aeacd16d2c6",
            "max": 1,
            "min": 0,
            "orientation": "horizontal",
            "style": "IPY_MODEL_530bfbf501ad44b3b15c86d37294923a",
            "value": 1
          }
        },
        "11901885ab5348d48cd4395ad82d378b": {
          "model_module": "@jupyter-widgets/base",
          "model_name": "LayoutModel",
          "model_module_version": "1.2.0",
          "state": {
            "_model_module": "@jupyter-widgets/base",
            "_model_module_version": "1.2.0",
            "_model_name": "LayoutModel",
            "_view_count": null,
            "_view_module": "@jupyter-widgets/base",
            "_view_module_version": "1.2.0",
            "_view_name": "LayoutView",
            "align_content": null,
            "align_items": null,
            "align_self": null,
            "border": null,
            "bottom": null,
            "display": null,
            "flex": null,
            "flex_flow": null,
            "grid_area": null,
            "grid_auto_columns": null,
            "grid_auto_flow": null,
            "grid_auto_rows": null,
            "grid_column": null,
            "grid_gap": null,
            "grid_row": null,
            "grid_template_areas": null,
            "grid_template_columns": null,
            "grid_template_rows": null,
            "height": null,
            "justify_content": null,
            "justify_items": null,
            "left": null,
            "margin": null,
            "max_height": null,
            "max_width": null,
            "min_height": null,
            "min_width": null,
            "object_fit": null,
            "object_position": null,
            "order": null,
            "overflow": null,
            "overflow_x": null,
            "overflow_y": null,
            "padding": null,
            "right": null,
            "top": null,
            "visibility": null,
            "width": null
          }
        },
        "8804eff8175c42a38d7b8f07f5db801f": {
          "model_module": "@jupyter-widgets/base",
          "model_name": "LayoutModel",
          "model_module_version": "1.2.0",
          "state": {
            "_model_module": "@jupyter-widgets/base",
            "_model_module_version": "1.2.0",
            "_model_name": "LayoutModel",
            "_view_count": null,
            "_view_module": "@jupyter-widgets/base",
            "_view_module_version": "1.2.0",
            "_view_name": "LayoutView",
            "align_content": null,
            "align_items": null,
            "align_self": null,
            "border": null,
            "bottom": null,
            "display": null,
            "flex": null,
            "flex_flow": null,
            "grid_area": null,
            "grid_auto_columns": null,
            "grid_auto_flow": null,
            "grid_auto_rows": null,
            "grid_column": null,
            "grid_gap": null,
            "grid_row": null,
            "grid_template_areas": null,
            "grid_template_columns": null,
            "grid_template_rows": null,
            "height": null,
            "justify_content": null,
            "justify_items": null,
            "left": null,
            "margin": null,
            "max_height": null,
            "max_width": null,
            "min_height": null,
            "min_width": null,
            "object_fit": null,
            "object_position": null,
            "order": null,
            "overflow": null,
            "overflow_x": null,
            "overflow_y": null,
            "padding": null,
            "right": null,
            "top": null,
            "visibility": null,
            "width": null
          }
        },
        "ad67a7863c3f4a7d846584aea885f8d8": {
          "model_module": "@jupyter-widgets/controls",
          "model_name": "DescriptionStyleModel",
          "model_module_version": "1.5.0",
          "state": {
            "_model_module": "@jupyter-widgets/controls",
            "_model_module_version": "1.5.0",
            "_model_name": "DescriptionStyleModel",
            "_view_count": null,
            "_view_module": "@jupyter-widgets/base",
            "_view_module_version": "1.2.0",
            "_view_name": "StyleView",
            "description_width": ""
          }
        },
        "7daaf81c3a7f49419ad79aeacd16d2c6": {
          "model_module": "@jupyter-widgets/base",
          "model_name": "LayoutModel",
          "model_module_version": "1.2.0",
          "state": {
            "_model_module": "@jupyter-widgets/base",
            "_model_module_version": "1.2.0",
            "_model_name": "LayoutModel",
            "_view_count": null,
            "_view_module": "@jupyter-widgets/base",
            "_view_module_version": "1.2.0",
            "_view_name": "LayoutView",
            "align_content": null,
            "align_items": null,
            "align_self": null,
            "border": null,
            "bottom": null,
            "display": null,
            "flex": null,
            "flex_flow": null,
            "grid_area": null,
            "grid_auto_columns": null,
            "grid_auto_flow": null,
            "grid_auto_rows": null,
            "grid_column": null,
            "grid_gap": null,
            "grid_row": null,
            "grid_template_areas": null,
            "grid_template_columns": null,
            "grid_template_rows": null,
            "height": null,
            "justify_content": null,
            "justify_items": null,
            "left": null,
            "margin": null,
            "max_height": null,
            "max_width": null,
            "min_height": null,
            "min_width": null,
            "object_fit": null,
            "object_position": null,
            "order": null,
            "overflow": null,
            "overflow_x": null,
            "overflow_y": null,
            "padding": null,
            "right": null,
            "top": null,
            "visibility": null,
            "width": null
          }
        },
        "530bfbf501ad44b3b15c86d37294923a": {
          "model_module": "@jupyter-widgets/controls",
          "model_name": "ProgressStyleModel",
          "model_module_version": "1.5.0",
          "state": {
            "_model_module": "@jupyter-widgets/controls",
            "_model_module_version": "1.5.0",
            "_model_name": "ProgressStyleModel",
            "_view_count": null,
            "_view_module": "@jupyter-widgets/base",
            "_view_module_version": "1.2.0",
            "_view_name": "StyleView",
            "bar_color": null,
            "description_width": ""
          }
        },
        "5c64fb8bb3464052bd55589207e59563": {
          "model_module": "@jupyter-widgets/controls",
          "model_name": "VBoxModel",
          "model_module_version": "1.5.0",
          "state": {
            "_dom_classes": [],
            "_model_module": "@jupyter-widgets/controls",
            "_model_module_version": "1.5.0",
            "_model_name": "VBoxModel",
            "_view_count": null,
            "_view_module": "@jupyter-widgets/controls",
            "_view_module_version": "1.5.0",
            "_view_name": "VBoxView",
            "box_style": "",
            "children": [
              "IPY_MODEL_cf46c13ce1cd41e5837f46bce47afd0a",
              "IPY_MODEL_29b917f2abb44c0687a4fe72aad277d5"
            ],
            "layout": "IPY_MODEL_db6add0c8a264bc2af4dcaac2624b44e"
          }
        },
        "cf46c13ce1cd41e5837f46bce47afd0a": {
          "model_module": "@jupyter-widgets/controls",
          "model_name": "LabelModel",
          "model_module_version": "1.5.0",
          "state": {
            "_dom_classes": [],
            "_model_module": "@jupyter-widgets/controls",
            "_model_module_version": "1.5.0",
            "_model_name": "LabelModel",
            "_view_count": null,
            "_view_module": "@jupyter-widgets/controls",
            "_view_module_version": "1.5.0",
            "_view_name": "LabelView",
            "description": "",
            "description_tooltip": null,
            "layout": "IPY_MODEL_012f328646114a82903b1dc84c18640a",
            "placeholder": "​",
            "style": "IPY_MODEL_861d4d73d51f45bd916c38e778bcfa01",
            "value": "0.013 MB of 0.013 MB uploaded (0.000 MB deduped)\r"
          }
        },
        "29b917f2abb44c0687a4fe72aad277d5": {
          "model_module": "@jupyter-widgets/controls",
          "model_name": "FloatProgressModel",
          "model_module_version": "1.5.0",
          "state": {
            "_dom_classes": [],
            "_model_module": "@jupyter-widgets/controls",
            "_model_module_version": "1.5.0",
            "_model_name": "FloatProgressModel",
            "_view_count": null,
            "_view_module": "@jupyter-widgets/controls",
            "_view_module_version": "1.5.0",
            "_view_name": "ProgressView",
            "bar_style": "",
            "description": "",
            "description_tooltip": null,
            "layout": "IPY_MODEL_c38942c122f1488ebf49d4c9d55aa3e9",
            "max": 1,
            "min": 0,
            "orientation": "horizontal",
            "style": "IPY_MODEL_af3f5a72dc94485d9447f46c2f7103e9",
            "value": 1
          }
        },
        "db6add0c8a264bc2af4dcaac2624b44e": {
          "model_module": "@jupyter-widgets/base",
          "model_name": "LayoutModel",
          "model_module_version": "1.2.0",
          "state": {
            "_model_module": "@jupyter-widgets/base",
            "_model_module_version": "1.2.0",
            "_model_name": "LayoutModel",
            "_view_count": null,
            "_view_module": "@jupyter-widgets/base",
            "_view_module_version": "1.2.0",
            "_view_name": "LayoutView",
            "align_content": null,
            "align_items": null,
            "align_self": null,
            "border": null,
            "bottom": null,
            "display": null,
            "flex": null,
            "flex_flow": null,
            "grid_area": null,
            "grid_auto_columns": null,
            "grid_auto_flow": null,
            "grid_auto_rows": null,
            "grid_column": null,
            "grid_gap": null,
            "grid_row": null,
            "grid_template_areas": null,
            "grid_template_columns": null,
            "grid_template_rows": null,
            "height": null,
            "justify_content": null,
            "justify_items": null,
            "left": null,
            "margin": null,
            "max_height": null,
            "max_width": null,
            "min_height": null,
            "min_width": null,
            "object_fit": null,
            "object_position": null,
            "order": null,
            "overflow": null,
            "overflow_x": null,
            "overflow_y": null,
            "padding": null,
            "right": null,
            "top": null,
            "visibility": null,
            "width": null
          }
        },
        "012f328646114a82903b1dc84c18640a": {
          "model_module": "@jupyter-widgets/base",
          "model_name": "LayoutModel",
          "model_module_version": "1.2.0",
          "state": {
            "_model_module": "@jupyter-widgets/base",
            "_model_module_version": "1.2.0",
            "_model_name": "LayoutModel",
            "_view_count": null,
            "_view_module": "@jupyter-widgets/base",
            "_view_module_version": "1.2.0",
            "_view_name": "LayoutView",
            "align_content": null,
            "align_items": null,
            "align_self": null,
            "border": null,
            "bottom": null,
            "display": null,
            "flex": null,
            "flex_flow": null,
            "grid_area": null,
            "grid_auto_columns": null,
            "grid_auto_flow": null,
            "grid_auto_rows": null,
            "grid_column": null,
            "grid_gap": null,
            "grid_row": null,
            "grid_template_areas": null,
            "grid_template_columns": null,
            "grid_template_rows": null,
            "height": null,
            "justify_content": null,
            "justify_items": null,
            "left": null,
            "margin": null,
            "max_height": null,
            "max_width": null,
            "min_height": null,
            "min_width": null,
            "object_fit": null,
            "object_position": null,
            "order": null,
            "overflow": null,
            "overflow_x": null,
            "overflow_y": null,
            "padding": null,
            "right": null,
            "top": null,
            "visibility": null,
            "width": null
          }
        },
        "861d4d73d51f45bd916c38e778bcfa01": {
          "model_module": "@jupyter-widgets/controls",
          "model_name": "DescriptionStyleModel",
          "model_module_version": "1.5.0",
          "state": {
            "_model_module": "@jupyter-widgets/controls",
            "_model_module_version": "1.5.0",
            "_model_name": "DescriptionStyleModel",
            "_view_count": null,
            "_view_module": "@jupyter-widgets/base",
            "_view_module_version": "1.2.0",
            "_view_name": "StyleView",
            "description_width": ""
          }
        },
        "c38942c122f1488ebf49d4c9d55aa3e9": {
          "model_module": "@jupyter-widgets/base",
          "model_name": "LayoutModel",
          "model_module_version": "1.2.0",
          "state": {
            "_model_module": "@jupyter-widgets/base",
            "_model_module_version": "1.2.0",
            "_model_name": "LayoutModel",
            "_view_count": null,
            "_view_module": "@jupyter-widgets/base",
            "_view_module_version": "1.2.0",
            "_view_name": "LayoutView",
            "align_content": null,
            "align_items": null,
            "align_self": null,
            "border": null,
            "bottom": null,
            "display": null,
            "flex": null,
            "flex_flow": null,
            "grid_area": null,
            "grid_auto_columns": null,
            "grid_auto_flow": null,
            "grid_auto_rows": null,
            "grid_column": null,
            "grid_gap": null,
            "grid_row": null,
            "grid_template_areas": null,
            "grid_template_columns": null,
            "grid_template_rows": null,
            "height": null,
            "justify_content": null,
            "justify_items": null,
            "left": null,
            "margin": null,
            "max_height": null,
            "max_width": null,
            "min_height": null,
            "min_width": null,
            "object_fit": null,
            "object_position": null,
            "order": null,
            "overflow": null,
            "overflow_x": null,
            "overflow_y": null,
            "padding": null,
            "right": null,
            "top": null,
            "visibility": null,
            "width": null
          }
        },
        "af3f5a72dc94485d9447f46c2f7103e9": {
          "model_module": "@jupyter-widgets/controls",
          "model_name": "ProgressStyleModel",
          "model_module_version": "1.5.0",
          "state": {
            "_model_module": "@jupyter-widgets/controls",
            "_model_module_version": "1.5.0",
            "_model_name": "ProgressStyleModel",
            "_view_count": null,
            "_view_module": "@jupyter-widgets/base",
            "_view_module_version": "1.2.0",
            "_view_name": "StyleView",
            "bar_color": null,
            "description_width": ""
          }
        },
        "be8e5857303a44dd9ca73fa278611636": {
          "model_module": "@jupyter-widgets/controls",
          "model_name": "VBoxModel",
          "model_module_version": "1.5.0",
          "state": {
            "_dom_classes": [],
            "_model_module": "@jupyter-widgets/controls",
            "_model_module_version": "1.5.0",
            "_model_name": "VBoxModel",
            "_view_count": null,
            "_view_module": "@jupyter-widgets/controls",
            "_view_module_version": "1.5.0",
            "_view_name": "VBoxView",
            "box_style": "",
            "children": [
              "IPY_MODEL_2a5c9590460b4c45b221da5e2a1fbfc8",
              "IPY_MODEL_136e11e16d044b14989a3ebc3c3a38fd"
            ],
            "layout": "IPY_MODEL_a2193c06ff2b4fcaa12327a4b5b3b9a2"
          }
        },
        "2a5c9590460b4c45b221da5e2a1fbfc8": {
          "model_module": "@jupyter-widgets/controls",
          "model_name": "LabelModel",
          "model_module_version": "1.5.0",
          "state": {
            "_dom_classes": [],
            "_model_module": "@jupyter-widgets/controls",
            "_model_module_version": "1.5.0",
            "_model_name": "LabelModel",
            "_view_count": null,
            "_view_module": "@jupyter-widgets/controls",
            "_view_module_version": "1.5.0",
            "_view_name": "LabelView",
            "description": "",
            "description_tooltip": null,
            "layout": "IPY_MODEL_ff1050b64eca4474a197fa2fba7186d7",
            "placeholder": "​",
            "style": "IPY_MODEL_1cf9c72d968b401dbabaa63c35419c8b",
            "value": "0.013 MB of 0.013 MB uploaded (0.000 MB deduped)\r"
          }
        },
        "136e11e16d044b14989a3ebc3c3a38fd": {
          "model_module": "@jupyter-widgets/controls",
          "model_name": "FloatProgressModel",
          "model_module_version": "1.5.0",
          "state": {
            "_dom_classes": [],
            "_model_module": "@jupyter-widgets/controls",
            "_model_module_version": "1.5.0",
            "_model_name": "FloatProgressModel",
            "_view_count": null,
            "_view_module": "@jupyter-widgets/controls",
            "_view_module_version": "1.5.0",
            "_view_name": "ProgressView",
            "bar_style": "",
            "description": "",
            "description_tooltip": null,
            "layout": "IPY_MODEL_66d9fffc047347fd854dace9dccac426",
            "max": 1,
            "min": 0,
            "orientation": "horizontal",
            "style": "IPY_MODEL_b3158daa73864785b1c7e31bd286bca4",
            "value": 1
          }
        },
        "a2193c06ff2b4fcaa12327a4b5b3b9a2": {
          "model_module": "@jupyter-widgets/base",
          "model_name": "LayoutModel",
          "model_module_version": "1.2.0",
          "state": {
            "_model_module": "@jupyter-widgets/base",
            "_model_module_version": "1.2.0",
            "_model_name": "LayoutModel",
            "_view_count": null,
            "_view_module": "@jupyter-widgets/base",
            "_view_module_version": "1.2.0",
            "_view_name": "LayoutView",
            "align_content": null,
            "align_items": null,
            "align_self": null,
            "border": null,
            "bottom": null,
            "display": null,
            "flex": null,
            "flex_flow": null,
            "grid_area": null,
            "grid_auto_columns": null,
            "grid_auto_flow": null,
            "grid_auto_rows": null,
            "grid_column": null,
            "grid_gap": null,
            "grid_row": null,
            "grid_template_areas": null,
            "grid_template_columns": null,
            "grid_template_rows": null,
            "height": null,
            "justify_content": null,
            "justify_items": null,
            "left": null,
            "margin": null,
            "max_height": null,
            "max_width": null,
            "min_height": null,
            "min_width": null,
            "object_fit": null,
            "object_position": null,
            "order": null,
            "overflow": null,
            "overflow_x": null,
            "overflow_y": null,
            "padding": null,
            "right": null,
            "top": null,
            "visibility": null,
            "width": null
          }
        },
        "ff1050b64eca4474a197fa2fba7186d7": {
          "model_module": "@jupyter-widgets/base",
          "model_name": "LayoutModel",
          "model_module_version": "1.2.0",
          "state": {
            "_model_module": "@jupyter-widgets/base",
            "_model_module_version": "1.2.0",
            "_model_name": "LayoutModel",
            "_view_count": null,
            "_view_module": "@jupyter-widgets/base",
            "_view_module_version": "1.2.0",
            "_view_name": "LayoutView",
            "align_content": null,
            "align_items": null,
            "align_self": null,
            "border": null,
            "bottom": null,
            "display": null,
            "flex": null,
            "flex_flow": null,
            "grid_area": null,
            "grid_auto_columns": null,
            "grid_auto_flow": null,
            "grid_auto_rows": null,
            "grid_column": null,
            "grid_gap": null,
            "grid_row": null,
            "grid_template_areas": null,
            "grid_template_columns": null,
            "grid_template_rows": null,
            "height": null,
            "justify_content": null,
            "justify_items": null,
            "left": null,
            "margin": null,
            "max_height": null,
            "max_width": null,
            "min_height": null,
            "min_width": null,
            "object_fit": null,
            "object_position": null,
            "order": null,
            "overflow": null,
            "overflow_x": null,
            "overflow_y": null,
            "padding": null,
            "right": null,
            "top": null,
            "visibility": null,
            "width": null
          }
        },
        "1cf9c72d968b401dbabaa63c35419c8b": {
          "model_module": "@jupyter-widgets/controls",
          "model_name": "DescriptionStyleModel",
          "model_module_version": "1.5.0",
          "state": {
            "_model_module": "@jupyter-widgets/controls",
            "_model_module_version": "1.5.0",
            "_model_name": "DescriptionStyleModel",
            "_view_count": null,
            "_view_module": "@jupyter-widgets/base",
            "_view_module_version": "1.2.0",
            "_view_name": "StyleView",
            "description_width": ""
          }
        },
        "66d9fffc047347fd854dace9dccac426": {
          "model_module": "@jupyter-widgets/base",
          "model_name": "LayoutModel",
          "model_module_version": "1.2.0",
          "state": {
            "_model_module": "@jupyter-widgets/base",
            "_model_module_version": "1.2.0",
            "_model_name": "LayoutModel",
            "_view_count": null,
            "_view_module": "@jupyter-widgets/base",
            "_view_module_version": "1.2.0",
            "_view_name": "LayoutView",
            "align_content": null,
            "align_items": null,
            "align_self": null,
            "border": null,
            "bottom": null,
            "display": null,
            "flex": null,
            "flex_flow": null,
            "grid_area": null,
            "grid_auto_columns": null,
            "grid_auto_flow": null,
            "grid_auto_rows": null,
            "grid_column": null,
            "grid_gap": null,
            "grid_row": null,
            "grid_template_areas": null,
            "grid_template_columns": null,
            "grid_template_rows": null,
            "height": null,
            "justify_content": null,
            "justify_items": null,
            "left": null,
            "margin": null,
            "max_height": null,
            "max_width": null,
            "min_height": null,
            "min_width": null,
            "object_fit": null,
            "object_position": null,
            "order": null,
            "overflow": null,
            "overflow_x": null,
            "overflow_y": null,
            "padding": null,
            "right": null,
            "top": null,
            "visibility": null,
            "width": null
          }
        },
        "b3158daa73864785b1c7e31bd286bca4": {
          "model_module": "@jupyter-widgets/controls",
          "model_name": "ProgressStyleModel",
          "model_module_version": "1.5.0",
          "state": {
            "_model_module": "@jupyter-widgets/controls",
            "_model_module_version": "1.5.0",
            "_model_name": "ProgressStyleModel",
            "_view_count": null,
            "_view_module": "@jupyter-widgets/base",
            "_view_module_version": "1.2.0",
            "_view_name": "StyleView",
            "bar_color": null,
            "description_width": ""
          }
        },
        "aec7192f2af0431881ecd29b2451a892": {
          "model_module": "@jupyter-widgets/controls",
          "model_name": "VBoxModel",
          "model_module_version": "1.5.0",
          "state": {
            "_dom_classes": [],
            "_model_module": "@jupyter-widgets/controls",
            "_model_module_version": "1.5.0",
            "_model_name": "VBoxModel",
            "_view_count": null,
            "_view_module": "@jupyter-widgets/controls",
            "_view_module_version": "1.5.0",
            "_view_name": "VBoxView",
            "box_style": "",
            "children": [
              "IPY_MODEL_e601787ec78f4327bf5480403bfe291f",
              "IPY_MODEL_660c988ceda140be93dbfdccded90ba3"
            ],
            "layout": "IPY_MODEL_3ee6efc4cfc046d780898af40d9b38f7"
          }
        },
        "e601787ec78f4327bf5480403bfe291f": {
          "model_module": "@jupyter-widgets/controls",
          "model_name": "LabelModel",
          "model_module_version": "1.5.0",
          "state": {
            "_dom_classes": [],
            "_model_module": "@jupyter-widgets/controls",
            "_model_module_version": "1.5.0",
            "_model_name": "LabelModel",
            "_view_count": null,
            "_view_module": "@jupyter-widgets/controls",
            "_view_module_version": "1.5.0",
            "_view_name": "LabelView",
            "description": "",
            "description_tooltip": null,
            "layout": "IPY_MODEL_90795cb7437b4b02906efcc0c703f43d",
            "placeholder": "​",
            "style": "IPY_MODEL_9e2b4010c1d74d6ba335aa58eb2fd049",
            "value": "0.014 MB of 0.014 MB uploaded (0.000 MB deduped)\r"
          }
        },
        "660c988ceda140be93dbfdccded90ba3": {
          "model_module": "@jupyter-widgets/controls",
          "model_name": "FloatProgressModel",
          "model_module_version": "1.5.0",
          "state": {
            "_dom_classes": [],
            "_model_module": "@jupyter-widgets/controls",
            "_model_module_version": "1.5.0",
            "_model_name": "FloatProgressModel",
            "_view_count": null,
            "_view_module": "@jupyter-widgets/controls",
            "_view_module_version": "1.5.0",
            "_view_name": "ProgressView",
            "bar_style": "",
            "description": "",
            "description_tooltip": null,
            "layout": "IPY_MODEL_91078ed3c3344f3781c6170d6086b16c",
            "max": 1,
            "min": 0,
            "orientation": "horizontal",
            "style": "IPY_MODEL_83090610b0b843d08f7733297ef75463",
            "value": 1
          }
        },
        "3ee6efc4cfc046d780898af40d9b38f7": {
          "model_module": "@jupyter-widgets/base",
          "model_name": "LayoutModel",
          "model_module_version": "1.2.0",
          "state": {
            "_model_module": "@jupyter-widgets/base",
            "_model_module_version": "1.2.0",
            "_model_name": "LayoutModel",
            "_view_count": null,
            "_view_module": "@jupyter-widgets/base",
            "_view_module_version": "1.2.0",
            "_view_name": "LayoutView",
            "align_content": null,
            "align_items": null,
            "align_self": null,
            "border": null,
            "bottom": null,
            "display": null,
            "flex": null,
            "flex_flow": null,
            "grid_area": null,
            "grid_auto_columns": null,
            "grid_auto_flow": null,
            "grid_auto_rows": null,
            "grid_column": null,
            "grid_gap": null,
            "grid_row": null,
            "grid_template_areas": null,
            "grid_template_columns": null,
            "grid_template_rows": null,
            "height": null,
            "justify_content": null,
            "justify_items": null,
            "left": null,
            "margin": null,
            "max_height": null,
            "max_width": null,
            "min_height": null,
            "min_width": null,
            "object_fit": null,
            "object_position": null,
            "order": null,
            "overflow": null,
            "overflow_x": null,
            "overflow_y": null,
            "padding": null,
            "right": null,
            "top": null,
            "visibility": null,
            "width": null
          }
        },
        "90795cb7437b4b02906efcc0c703f43d": {
          "model_module": "@jupyter-widgets/base",
          "model_name": "LayoutModel",
          "model_module_version": "1.2.0",
          "state": {
            "_model_module": "@jupyter-widgets/base",
            "_model_module_version": "1.2.0",
            "_model_name": "LayoutModel",
            "_view_count": null,
            "_view_module": "@jupyter-widgets/base",
            "_view_module_version": "1.2.0",
            "_view_name": "LayoutView",
            "align_content": null,
            "align_items": null,
            "align_self": null,
            "border": null,
            "bottom": null,
            "display": null,
            "flex": null,
            "flex_flow": null,
            "grid_area": null,
            "grid_auto_columns": null,
            "grid_auto_flow": null,
            "grid_auto_rows": null,
            "grid_column": null,
            "grid_gap": null,
            "grid_row": null,
            "grid_template_areas": null,
            "grid_template_columns": null,
            "grid_template_rows": null,
            "height": null,
            "justify_content": null,
            "justify_items": null,
            "left": null,
            "margin": null,
            "max_height": null,
            "max_width": null,
            "min_height": null,
            "min_width": null,
            "object_fit": null,
            "object_position": null,
            "order": null,
            "overflow": null,
            "overflow_x": null,
            "overflow_y": null,
            "padding": null,
            "right": null,
            "top": null,
            "visibility": null,
            "width": null
          }
        },
        "9e2b4010c1d74d6ba335aa58eb2fd049": {
          "model_module": "@jupyter-widgets/controls",
          "model_name": "DescriptionStyleModel",
          "model_module_version": "1.5.0",
          "state": {
            "_model_module": "@jupyter-widgets/controls",
            "_model_module_version": "1.5.0",
            "_model_name": "DescriptionStyleModel",
            "_view_count": null,
            "_view_module": "@jupyter-widgets/base",
            "_view_module_version": "1.2.0",
            "_view_name": "StyleView",
            "description_width": ""
          }
        },
        "91078ed3c3344f3781c6170d6086b16c": {
          "model_module": "@jupyter-widgets/base",
          "model_name": "LayoutModel",
          "model_module_version": "1.2.0",
          "state": {
            "_model_module": "@jupyter-widgets/base",
            "_model_module_version": "1.2.0",
            "_model_name": "LayoutModel",
            "_view_count": null,
            "_view_module": "@jupyter-widgets/base",
            "_view_module_version": "1.2.0",
            "_view_name": "LayoutView",
            "align_content": null,
            "align_items": null,
            "align_self": null,
            "border": null,
            "bottom": null,
            "display": null,
            "flex": null,
            "flex_flow": null,
            "grid_area": null,
            "grid_auto_columns": null,
            "grid_auto_flow": null,
            "grid_auto_rows": null,
            "grid_column": null,
            "grid_gap": null,
            "grid_row": null,
            "grid_template_areas": null,
            "grid_template_columns": null,
            "grid_template_rows": null,
            "height": null,
            "justify_content": null,
            "justify_items": null,
            "left": null,
            "margin": null,
            "max_height": null,
            "max_width": null,
            "min_height": null,
            "min_width": null,
            "object_fit": null,
            "object_position": null,
            "order": null,
            "overflow": null,
            "overflow_x": null,
            "overflow_y": null,
            "padding": null,
            "right": null,
            "top": null,
            "visibility": null,
            "width": null
          }
        },
        "83090610b0b843d08f7733297ef75463": {
          "model_module": "@jupyter-widgets/controls",
          "model_name": "ProgressStyleModel",
          "model_module_version": "1.5.0",
          "state": {
            "_model_module": "@jupyter-widgets/controls",
            "_model_module_version": "1.5.0",
            "_model_name": "ProgressStyleModel",
            "_view_count": null,
            "_view_module": "@jupyter-widgets/base",
            "_view_module_version": "1.2.0",
            "_view_name": "StyleView",
            "bar_color": null,
            "description_width": ""
          }
        },
        "242e5ee5f3234f668ab373f47dcb1cb7": {
          "model_module": "@jupyter-widgets/controls",
          "model_name": "VBoxModel",
          "model_module_version": "1.5.0",
          "state": {
            "_dom_classes": [],
            "_model_module": "@jupyter-widgets/controls",
            "_model_module_version": "1.5.0",
            "_model_name": "VBoxModel",
            "_view_count": null,
            "_view_module": "@jupyter-widgets/controls",
            "_view_module_version": "1.5.0",
            "_view_name": "VBoxView",
            "box_style": "",
            "children": [
              "IPY_MODEL_54c3f49b59d548429584caa7524ef054",
              "IPY_MODEL_712bdb0b17be405dbdf614c44458e88a"
            ],
            "layout": "IPY_MODEL_99575892cb27420b984f64ebeda884bc"
          }
        },
        "54c3f49b59d548429584caa7524ef054": {
          "model_module": "@jupyter-widgets/controls",
          "model_name": "LabelModel",
          "model_module_version": "1.5.0",
          "state": {
            "_dom_classes": [],
            "_model_module": "@jupyter-widgets/controls",
            "_model_module_version": "1.5.0",
            "_model_name": "LabelModel",
            "_view_count": null,
            "_view_module": "@jupyter-widgets/controls",
            "_view_module_version": "1.5.0",
            "_view_name": "LabelView",
            "description": "",
            "description_tooltip": null,
            "layout": "IPY_MODEL_8acb7025e38449e382dd342efb518be4",
            "placeholder": "​",
            "style": "IPY_MODEL_f28a2588b801408aaa92baa2a6987685",
            "value": "0.014 MB of 0.014 MB uploaded (0.000 MB deduped)\r"
          }
        },
        "712bdb0b17be405dbdf614c44458e88a": {
          "model_module": "@jupyter-widgets/controls",
          "model_name": "FloatProgressModel",
          "model_module_version": "1.5.0",
          "state": {
            "_dom_classes": [],
            "_model_module": "@jupyter-widgets/controls",
            "_model_module_version": "1.5.0",
            "_model_name": "FloatProgressModel",
            "_view_count": null,
            "_view_module": "@jupyter-widgets/controls",
            "_view_module_version": "1.5.0",
            "_view_name": "ProgressView",
            "bar_style": "",
            "description": "",
            "description_tooltip": null,
            "layout": "IPY_MODEL_f900a44255b24673924ac6d5d0e94ac5",
            "max": 1,
            "min": 0,
            "orientation": "horizontal",
            "style": "IPY_MODEL_211fc525ff65468fb1a4f3be3d70ba42",
            "value": 1
          }
        },
        "99575892cb27420b984f64ebeda884bc": {
          "model_module": "@jupyter-widgets/base",
          "model_name": "LayoutModel",
          "model_module_version": "1.2.0",
          "state": {
            "_model_module": "@jupyter-widgets/base",
            "_model_module_version": "1.2.0",
            "_model_name": "LayoutModel",
            "_view_count": null,
            "_view_module": "@jupyter-widgets/base",
            "_view_module_version": "1.2.0",
            "_view_name": "LayoutView",
            "align_content": null,
            "align_items": null,
            "align_self": null,
            "border": null,
            "bottom": null,
            "display": null,
            "flex": null,
            "flex_flow": null,
            "grid_area": null,
            "grid_auto_columns": null,
            "grid_auto_flow": null,
            "grid_auto_rows": null,
            "grid_column": null,
            "grid_gap": null,
            "grid_row": null,
            "grid_template_areas": null,
            "grid_template_columns": null,
            "grid_template_rows": null,
            "height": null,
            "justify_content": null,
            "justify_items": null,
            "left": null,
            "margin": null,
            "max_height": null,
            "max_width": null,
            "min_height": null,
            "min_width": null,
            "object_fit": null,
            "object_position": null,
            "order": null,
            "overflow": null,
            "overflow_x": null,
            "overflow_y": null,
            "padding": null,
            "right": null,
            "top": null,
            "visibility": null,
            "width": null
          }
        },
        "8acb7025e38449e382dd342efb518be4": {
          "model_module": "@jupyter-widgets/base",
          "model_name": "LayoutModel",
          "model_module_version": "1.2.0",
          "state": {
            "_model_module": "@jupyter-widgets/base",
            "_model_module_version": "1.2.0",
            "_model_name": "LayoutModel",
            "_view_count": null,
            "_view_module": "@jupyter-widgets/base",
            "_view_module_version": "1.2.0",
            "_view_name": "LayoutView",
            "align_content": null,
            "align_items": null,
            "align_self": null,
            "border": null,
            "bottom": null,
            "display": null,
            "flex": null,
            "flex_flow": null,
            "grid_area": null,
            "grid_auto_columns": null,
            "grid_auto_flow": null,
            "grid_auto_rows": null,
            "grid_column": null,
            "grid_gap": null,
            "grid_row": null,
            "grid_template_areas": null,
            "grid_template_columns": null,
            "grid_template_rows": null,
            "height": null,
            "justify_content": null,
            "justify_items": null,
            "left": null,
            "margin": null,
            "max_height": null,
            "max_width": null,
            "min_height": null,
            "min_width": null,
            "object_fit": null,
            "object_position": null,
            "order": null,
            "overflow": null,
            "overflow_x": null,
            "overflow_y": null,
            "padding": null,
            "right": null,
            "top": null,
            "visibility": null,
            "width": null
          }
        },
        "f28a2588b801408aaa92baa2a6987685": {
          "model_module": "@jupyter-widgets/controls",
          "model_name": "DescriptionStyleModel",
          "model_module_version": "1.5.0",
          "state": {
            "_model_module": "@jupyter-widgets/controls",
            "_model_module_version": "1.5.0",
            "_model_name": "DescriptionStyleModel",
            "_view_count": null,
            "_view_module": "@jupyter-widgets/base",
            "_view_module_version": "1.2.0",
            "_view_name": "StyleView",
            "description_width": ""
          }
        },
        "f900a44255b24673924ac6d5d0e94ac5": {
          "model_module": "@jupyter-widgets/base",
          "model_name": "LayoutModel",
          "model_module_version": "1.2.0",
          "state": {
            "_model_module": "@jupyter-widgets/base",
            "_model_module_version": "1.2.0",
            "_model_name": "LayoutModel",
            "_view_count": null,
            "_view_module": "@jupyter-widgets/base",
            "_view_module_version": "1.2.0",
            "_view_name": "LayoutView",
            "align_content": null,
            "align_items": null,
            "align_self": null,
            "border": null,
            "bottom": null,
            "display": null,
            "flex": null,
            "flex_flow": null,
            "grid_area": null,
            "grid_auto_columns": null,
            "grid_auto_flow": null,
            "grid_auto_rows": null,
            "grid_column": null,
            "grid_gap": null,
            "grid_row": null,
            "grid_template_areas": null,
            "grid_template_columns": null,
            "grid_template_rows": null,
            "height": null,
            "justify_content": null,
            "justify_items": null,
            "left": null,
            "margin": null,
            "max_height": null,
            "max_width": null,
            "min_height": null,
            "min_width": null,
            "object_fit": null,
            "object_position": null,
            "order": null,
            "overflow": null,
            "overflow_x": null,
            "overflow_y": null,
            "padding": null,
            "right": null,
            "top": null,
            "visibility": null,
            "width": null
          }
        },
        "211fc525ff65468fb1a4f3be3d70ba42": {
          "model_module": "@jupyter-widgets/controls",
          "model_name": "ProgressStyleModel",
          "model_module_version": "1.5.0",
          "state": {
            "_model_module": "@jupyter-widgets/controls",
            "_model_module_version": "1.5.0",
            "_model_name": "ProgressStyleModel",
            "_view_count": null,
            "_view_module": "@jupyter-widgets/base",
            "_view_module_version": "1.2.0",
            "_view_name": "StyleView",
            "bar_color": null,
            "description_width": ""
          }
        },
        "50d2a4f5dbda4dafbbf7e8d7e69f66cf": {
          "model_module": "@jupyter-widgets/controls",
          "model_name": "VBoxModel",
          "model_module_version": "1.5.0",
          "state": {
            "_dom_classes": [],
            "_model_module": "@jupyter-widgets/controls",
            "_model_module_version": "1.5.0",
            "_model_name": "VBoxModel",
            "_view_count": null,
            "_view_module": "@jupyter-widgets/controls",
            "_view_module_version": "1.5.0",
            "_view_name": "VBoxView",
            "box_style": "",
            "children": [
              "IPY_MODEL_40559461242d42e098e6d46ae004ab9b",
              "IPY_MODEL_3185bde03e0c4a46aa342b259334d155"
            ],
            "layout": "IPY_MODEL_907de3111fa84608b3500af816bf0ebd"
          }
        },
        "40559461242d42e098e6d46ae004ab9b": {
          "model_module": "@jupyter-widgets/controls",
          "model_name": "LabelModel",
          "model_module_version": "1.5.0",
          "state": {
            "_dom_classes": [],
            "_model_module": "@jupyter-widgets/controls",
            "_model_module_version": "1.5.0",
            "_model_name": "LabelModel",
            "_view_count": null,
            "_view_module": "@jupyter-widgets/controls",
            "_view_module_version": "1.5.0",
            "_view_name": "LabelView",
            "description": "",
            "description_tooltip": null,
            "layout": "IPY_MODEL_6effd163377f4b02bd8e99235d9fa48c",
            "placeholder": "​",
            "style": "IPY_MODEL_ff2aae5964ae4213802796ff8868015b",
            "value": "0.014 MB of 0.014 MB uploaded (0.000 MB deduped)\r"
          }
        },
        "3185bde03e0c4a46aa342b259334d155": {
          "model_module": "@jupyter-widgets/controls",
          "model_name": "FloatProgressModel",
          "model_module_version": "1.5.0",
          "state": {
            "_dom_classes": [],
            "_model_module": "@jupyter-widgets/controls",
            "_model_module_version": "1.5.0",
            "_model_name": "FloatProgressModel",
            "_view_count": null,
            "_view_module": "@jupyter-widgets/controls",
            "_view_module_version": "1.5.0",
            "_view_name": "ProgressView",
            "bar_style": "",
            "description": "",
            "description_tooltip": null,
            "layout": "IPY_MODEL_a9abe787c2314869ba5d989c62a525b2",
            "max": 1,
            "min": 0,
            "orientation": "horizontal",
            "style": "IPY_MODEL_771877efe5424df9bb9fa403cbdf5d68",
            "value": 1
          }
        },
        "907de3111fa84608b3500af816bf0ebd": {
          "model_module": "@jupyter-widgets/base",
          "model_name": "LayoutModel",
          "model_module_version": "1.2.0",
          "state": {
            "_model_module": "@jupyter-widgets/base",
            "_model_module_version": "1.2.0",
            "_model_name": "LayoutModel",
            "_view_count": null,
            "_view_module": "@jupyter-widgets/base",
            "_view_module_version": "1.2.0",
            "_view_name": "LayoutView",
            "align_content": null,
            "align_items": null,
            "align_self": null,
            "border": null,
            "bottom": null,
            "display": null,
            "flex": null,
            "flex_flow": null,
            "grid_area": null,
            "grid_auto_columns": null,
            "grid_auto_flow": null,
            "grid_auto_rows": null,
            "grid_column": null,
            "grid_gap": null,
            "grid_row": null,
            "grid_template_areas": null,
            "grid_template_columns": null,
            "grid_template_rows": null,
            "height": null,
            "justify_content": null,
            "justify_items": null,
            "left": null,
            "margin": null,
            "max_height": null,
            "max_width": null,
            "min_height": null,
            "min_width": null,
            "object_fit": null,
            "object_position": null,
            "order": null,
            "overflow": null,
            "overflow_x": null,
            "overflow_y": null,
            "padding": null,
            "right": null,
            "top": null,
            "visibility": null,
            "width": null
          }
        },
        "6effd163377f4b02bd8e99235d9fa48c": {
          "model_module": "@jupyter-widgets/base",
          "model_name": "LayoutModel",
          "model_module_version": "1.2.0",
          "state": {
            "_model_module": "@jupyter-widgets/base",
            "_model_module_version": "1.2.0",
            "_model_name": "LayoutModel",
            "_view_count": null,
            "_view_module": "@jupyter-widgets/base",
            "_view_module_version": "1.2.0",
            "_view_name": "LayoutView",
            "align_content": null,
            "align_items": null,
            "align_self": null,
            "border": null,
            "bottom": null,
            "display": null,
            "flex": null,
            "flex_flow": null,
            "grid_area": null,
            "grid_auto_columns": null,
            "grid_auto_flow": null,
            "grid_auto_rows": null,
            "grid_column": null,
            "grid_gap": null,
            "grid_row": null,
            "grid_template_areas": null,
            "grid_template_columns": null,
            "grid_template_rows": null,
            "height": null,
            "justify_content": null,
            "justify_items": null,
            "left": null,
            "margin": null,
            "max_height": null,
            "max_width": null,
            "min_height": null,
            "min_width": null,
            "object_fit": null,
            "object_position": null,
            "order": null,
            "overflow": null,
            "overflow_x": null,
            "overflow_y": null,
            "padding": null,
            "right": null,
            "top": null,
            "visibility": null,
            "width": null
          }
        },
        "ff2aae5964ae4213802796ff8868015b": {
          "model_module": "@jupyter-widgets/controls",
          "model_name": "DescriptionStyleModel",
          "model_module_version": "1.5.0",
          "state": {
            "_model_module": "@jupyter-widgets/controls",
            "_model_module_version": "1.5.0",
            "_model_name": "DescriptionStyleModel",
            "_view_count": null,
            "_view_module": "@jupyter-widgets/base",
            "_view_module_version": "1.2.0",
            "_view_name": "StyleView",
            "description_width": ""
          }
        },
        "a9abe787c2314869ba5d989c62a525b2": {
          "model_module": "@jupyter-widgets/base",
          "model_name": "LayoutModel",
          "model_module_version": "1.2.0",
          "state": {
            "_model_module": "@jupyter-widgets/base",
            "_model_module_version": "1.2.0",
            "_model_name": "LayoutModel",
            "_view_count": null,
            "_view_module": "@jupyter-widgets/base",
            "_view_module_version": "1.2.0",
            "_view_name": "LayoutView",
            "align_content": null,
            "align_items": null,
            "align_self": null,
            "border": null,
            "bottom": null,
            "display": null,
            "flex": null,
            "flex_flow": null,
            "grid_area": null,
            "grid_auto_columns": null,
            "grid_auto_flow": null,
            "grid_auto_rows": null,
            "grid_column": null,
            "grid_gap": null,
            "grid_row": null,
            "grid_template_areas": null,
            "grid_template_columns": null,
            "grid_template_rows": null,
            "height": null,
            "justify_content": null,
            "justify_items": null,
            "left": null,
            "margin": null,
            "max_height": null,
            "max_width": null,
            "min_height": null,
            "min_width": null,
            "object_fit": null,
            "object_position": null,
            "order": null,
            "overflow": null,
            "overflow_x": null,
            "overflow_y": null,
            "padding": null,
            "right": null,
            "top": null,
            "visibility": null,
            "width": null
          }
        },
        "771877efe5424df9bb9fa403cbdf5d68": {
          "model_module": "@jupyter-widgets/controls",
          "model_name": "ProgressStyleModel",
          "model_module_version": "1.5.0",
          "state": {
            "_model_module": "@jupyter-widgets/controls",
            "_model_module_version": "1.5.0",
            "_model_name": "ProgressStyleModel",
            "_view_count": null,
            "_view_module": "@jupyter-widgets/base",
            "_view_module_version": "1.2.0",
            "_view_name": "StyleView",
            "bar_color": null,
            "description_width": ""
          }
        },
        "b142fef601754110bd8b3ca6bc81f81b": {
          "model_module": "@jupyter-widgets/controls",
          "model_name": "VBoxModel",
          "model_module_version": "1.5.0",
          "state": {
            "_dom_classes": [],
            "_model_module": "@jupyter-widgets/controls",
            "_model_module_version": "1.5.0",
            "_model_name": "VBoxModel",
            "_view_count": null,
            "_view_module": "@jupyter-widgets/controls",
            "_view_module_version": "1.5.0",
            "_view_name": "VBoxView",
            "box_style": "",
            "children": [
              "IPY_MODEL_4c6e052a872f4c799ea9ab05ccbde507",
              "IPY_MODEL_2a7cea1d830b4858a6635a7b30a02fb9"
            ],
            "layout": "IPY_MODEL_5739db22592d4e0988b3c2296cc0b8eb"
          }
        },
        "4c6e052a872f4c799ea9ab05ccbde507": {
          "model_module": "@jupyter-widgets/controls",
          "model_name": "LabelModel",
          "model_module_version": "1.5.0",
          "state": {
            "_dom_classes": [],
            "_model_module": "@jupyter-widgets/controls",
            "_model_module_version": "1.5.0",
            "_model_name": "LabelModel",
            "_view_count": null,
            "_view_module": "@jupyter-widgets/controls",
            "_view_module_version": "1.5.0",
            "_view_name": "LabelView",
            "description": "",
            "description_tooltip": null,
            "layout": "IPY_MODEL_4eed381b6bdd4975803813611799df4e",
            "placeholder": "​",
            "style": "IPY_MODEL_f4cd7de7e26e4c439a5994286a04a041",
            "value": "0.014 MB of 0.014 MB uploaded (0.000 MB deduped)\r"
          }
        },
        "2a7cea1d830b4858a6635a7b30a02fb9": {
          "model_module": "@jupyter-widgets/controls",
          "model_name": "FloatProgressModel",
          "model_module_version": "1.5.0",
          "state": {
            "_dom_classes": [],
            "_model_module": "@jupyter-widgets/controls",
            "_model_module_version": "1.5.0",
            "_model_name": "FloatProgressModel",
            "_view_count": null,
            "_view_module": "@jupyter-widgets/controls",
            "_view_module_version": "1.5.0",
            "_view_name": "ProgressView",
            "bar_style": "",
            "description": "",
            "description_tooltip": null,
            "layout": "IPY_MODEL_122d9295e3a0419ba40c87669b6ffbe7",
            "max": 1,
            "min": 0,
            "orientation": "horizontal",
            "style": "IPY_MODEL_f1e0ef29ded0449fb5e6687d9e48203d",
            "value": 1
          }
        },
        "5739db22592d4e0988b3c2296cc0b8eb": {
          "model_module": "@jupyter-widgets/base",
          "model_name": "LayoutModel",
          "model_module_version": "1.2.0",
          "state": {
            "_model_module": "@jupyter-widgets/base",
            "_model_module_version": "1.2.0",
            "_model_name": "LayoutModel",
            "_view_count": null,
            "_view_module": "@jupyter-widgets/base",
            "_view_module_version": "1.2.0",
            "_view_name": "LayoutView",
            "align_content": null,
            "align_items": null,
            "align_self": null,
            "border": null,
            "bottom": null,
            "display": null,
            "flex": null,
            "flex_flow": null,
            "grid_area": null,
            "grid_auto_columns": null,
            "grid_auto_flow": null,
            "grid_auto_rows": null,
            "grid_column": null,
            "grid_gap": null,
            "grid_row": null,
            "grid_template_areas": null,
            "grid_template_columns": null,
            "grid_template_rows": null,
            "height": null,
            "justify_content": null,
            "justify_items": null,
            "left": null,
            "margin": null,
            "max_height": null,
            "max_width": null,
            "min_height": null,
            "min_width": null,
            "object_fit": null,
            "object_position": null,
            "order": null,
            "overflow": null,
            "overflow_x": null,
            "overflow_y": null,
            "padding": null,
            "right": null,
            "top": null,
            "visibility": null,
            "width": null
          }
        },
        "4eed381b6bdd4975803813611799df4e": {
          "model_module": "@jupyter-widgets/base",
          "model_name": "LayoutModel",
          "model_module_version": "1.2.0",
          "state": {
            "_model_module": "@jupyter-widgets/base",
            "_model_module_version": "1.2.0",
            "_model_name": "LayoutModel",
            "_view_count": null,
            "_view_module": "@jupyter-widgets/base",
            "_view_module_version": "1.2.0",
            "_view_name": "LayoutView",
            "align_content": null,
            "align_items": null,
            "align_self": null,
            "border": null,
            "bottom": null,
            "display": null,
            "flex": null,
            "flex_flow": null,
            "grid_area": null,
            "grid_auto_columns": null,
            "grid_auto_flow": null,
            "grid_auto_rows": null,
            "grid_column": null,
            "grid_gap": null,
            "grid_row": null,
            "grid_template_areas": null,
            "grid_template_columns": null,
            "grid_template_rows": null,
            "height": null,
            "justify_content": null,
            "justify_items": null,
            "left": null,
            "margin": null,
            "max_height": null,
            "max_width": null,
            "min_height": null,
            "min_width": null,
            "object_fit": null,
            "object_position": null,
            "order": null,
            "overflow": null,
            "overflow_x": null,
            "overflow_y": null,
            "padding": null,
            "right": null,
            "top": null,
            "visibility": null,
            "width": null
          }
        },
        "f4cd7de7e26e4c439a5994286a04a041": {
          "model_module": "@jupyter-widgets/controls",
          "model_name": "DescriptionStyleModel",
          "model_module_version": "1.5.0",
          "state": {
            "_model_module": "@jupyter-widgets/controls",
            "_model_module_version": "1.5.0",
            "_model_name": "DescriptionStyleModel",
            "_view_count": null,
            "_view_module": "@jupyter-widgets/base",
            "_view_module_version": "1.2.0",
            "_view_name": "StyleView",
            "description_width": ""
          }
        },
        "122d9295e3a0419ba40c87669b6ffbe7": {
          "model_module": "@jupyter-widgets/base",
          "model_name": "LayoutModel",
          "model_module_version": "1.2.0",
          "state": {
            "_model_module": "@jupyter-widgets/base",
            "_model_module_version": "1.2.0",
            "_model_name": "LayoutModel",
            "_view_count": null,
            "_view_module": "@jupyter-widgets/base",
            "_view_module_version": "1.2.0",
            "_view_name": "LayoutView",
            "align_content": null,
            "align_items": null,
            "align_self": null,
            "border": null,
            "bottom": null,
            "display": null,
            "flex": null,
            "flex_flow": null,
            "grid_area": null,
            "grid_auto_columns": null,
            "grid_auto_flow": null,
            "grid_auto_rows": null,
            "grid_column": null,
            "grid_gap": null,
            "grid_row": null,
            "grid_template_areas": null,
            "grid_template_columns": null,
            "grid_template_rows": null,
            "height": null,
            "justify_content": null,
            "justify_items": null,
            "left": null,
            "margin": null,
            "max_height": null,
            "max_width": null,
            "min_height": null,
            "min_width": null,
            "object_fit": null,
            "object_position": null,
            "order": null,
            "overflow": null,
            "overflow_x": null,
            "overflow_y": null,
            "padding": null,
            "right": null,
            "top": null,
            "visibility": null,
            "width": null
          }
        },
        "f1e0ef29ded0449fb5e6687d9e48203d": {
          "model_module": "@jupyter-widgets/controls",
          "model_name": "ProgressStyleModel",
          "model_module_version": "1.5.0",
          "state": {
            "_model_module": "@jupyter-widgets/controls",
            "_model_module_version": "1.5.0",
            "_model_name": "ProgressStyleModel",
            "_view_count": null,
            "_view_module": "@jupyter-widgets/base",
            "_view_module_version": "1.2.0",
            "_view_name": "StyleView",
            "bar_color": null,
            "description_width": ""
          }
        },
        "092fedebfd5a43d08f0ed6f5e2ebda2f": {
          "model_module": "@jupyter-widgets/controls",
          "model_name": "VBoxModel",
          "model_module_version": "1.5.0",
          "state": {
            "_dom_classes": [],
            "_model_module": "@jupyter-widgets/controls",
            "_model_module_version": "1.5.0",
            "_model_name": "VBoxModel",
            "_view_count": null,
            "_view_module": "@jupyter-widgets/controls",
            "_view_module_version": "1.5.0",
            "_view_name": "VBoxView",
            "box_style": "",
            "children": [
              "IPY_MODEL_ea2d5b720d1240cba6a45b9c3cc6494f",
              "IPY_MODEL_f78200e1982648d889dcc5c4f211cbd6"
            ],
            "layout": "IPY_MODEL_4a8e271fa10b45f098b7d904f8a42a9a"
          }
        },
        "ea2d5b720d1240cba6a45b9c3cc6494f": {
          "model_module": "@jupyter-widgets/controls",
          "model_name": "LabelModel",
          "model_module_version": "1.5.0",
          "state": {
            "_dom_classes": [],
            "_model_module": "@jupyter-widgets/controls",
            "_model_module_version": "1.5.0",
            "_model_name": "LabelModel",
            "_view_count": null,
            "_view_module": "@jupyter-widgets/controls",
            "_view_module_version": "1.5.0",
            "_view_name": "LabelView",
            "description": "",
            "description_tooltip": null,
            "layout": "IPY_MODEL_535dfd7be58a416bb1508734395033e3",
            "placeholder": "​",
            "style": "IPY_MODEL_c4c13683844540c1bab134e586813906",
            "value": "0.014 MB of 0.014 MB uploaded (0.000 MB deduped)\r"
          }
        },
        "f78200e1982648d889dcc5c4f211cbd6": {
          "model_module": "@jupyter-widgets/controls",
          "model_name": "FloatProgressModel",
          "model_module_version": "1.5.0",
          "state": {
            "_dom_classes": [],
            "_model_module": "@jupyter-widgets/controls",
            "_model_module_version": "1.5.0",
            "_model_name": "FloatProgressModel",
            "_view_count": null,
            "_view_module": "@jupyter-widgets/controls",
            "_view_module_version": "1.5.0",
            "_view_name": "ProgressView",
            "bar_style": "",
            "description": "",
            "description_tooltip": null,
            "layout": "IPY_MODEL_dee76c3c1d1243728f3d3ddf019ef445",
            "max": 1,
            "min": 0,
            "orientation": "horizontal",
            "style": "IPY_MODEL_ea17197bce1e44cbbc44b9941e40c6f0",
            "value": 1
          }
        },
        "4a8e271fa10b45f098b7d904f8a42a9a": {
          "model_module": "@jupyter-widgets/base",
          "model_name": "LayoutModel",
          "model_module_version": "1.2.0",
          "state": {
            "_model_module": "@jupyter-widgets/base",
            "_model_module_version": "1.2.0",
            "_model_name": "LayoutModel",
            "_view_count": null,
            "_view_module": "@jupyter-widgets/base",
            "_view_module_version": "1.2.0",
            "_view_name": "LayoutView",
            "align_content": null,
            "align_items": null,
            "align_self": null,
            "border": null,
            "bottom": null,
            "display": null,
            "flex": null,
            "flex_flow": null,
            "grid_area": null,
            "grid_auto_columns": null,
            "grid_auto_flow": null,
            "grid_auto_rows": null,
            "grid_column": null,
            "grid_gap": null,
            "grid_row": null,
            "grid_template_areas": null,
            "grid_template_columns": null,
            "grid_template_rows": null,
            "height": null,
            "justify_content": null,
            "justify_items": null,
            "left": null,
            "margin": null,
            "max_height": null,
            "max_width": null,
            "min_height": null,
            "min_width": null,
            "object_fit": null,
            "object_position": null,
            "order": null,
            "overflow": null,
            "overflow_x": null,
            "overflow_y": null,
            "padding": null,
            "right": null,
            "top": null,
            "visibility": null,
            "width": null
          }
        },
        "535dfd7be58a416bb1508734395033e3": {
          "model_module": "@jupyter-widgets/base",
          "model_name": "LayoutModel",
          "model_module_version": "1.2.0",
          "state": {
            "_model_module": "@jupyter-widgets/base",
            "_model_module_version": "1.2.0",
            "_model_name": "LayoutModel",
            "_view_count": null,
            "_view_module": "@jupyter-widgets/base",
            "_view_module_version": "1.2.0",
            "_view_name": "LayoutView",
            "align_content": null,
            "align_items": null,
            "align_self": null,
            "border": null,
            "bottom": null,
            "display": null,
            "flex": null,
            "flex_flow": null,
            "grid_area": null,
            "grid_auto_columns": null,
            "grid_auto_flow": null,
            "grid_auto_rows": null,
            "grid_column": null,
            "grid_gap": null,
            "grid_row": null,
            "grid_template_areas": null,
            "grid_template_columns": null,
            "grid_template_rows": null,
            "height": null,
            "justify_content": null,
            "justify_items": null,
            "left": null,
            "margin": null,
            "max_height": null,
            "max_width": null,
            "min_height": null,
            "min_width": null,
            "object_fit": null,
            "object_position": null,
            "order": null,
            "overflow": null,
            "overflow_x": null,
            "overflow_y": null,
            "padding": null,
            "right": null,
            "top": null,
            "visibility": null,
            "width": null
          }
        },
        "c4c13683844540c1bab134e586813906": {
          "model_module": "@jupyter-widgets/controls",
          "model_name": "DescriptionStyleModel",
          "model_module_version": "1.5.0",
          "state": {
            "_model_module": "@jupyter-widgets/controls",
            "_model_module_version": "1.5.0",
            "_model_name": "DescriptionStyleModel",
            "_view_count": null,
            "_view_module": "@jupyter-widgets/base",
            "_view_module_version": "1.2.0",
            "_view_name": "StyleView",
            "description_width": ""
          }
        },
        "dee76c3c1d1243728f3d3ddf019ef445": {
          "model_module": "@jupyter-widgets/base",
          "model_name": "LayoutModel",
          "model_module_version": "1.2.0",
          "state": {
            "_model_module": "@jupyter-widgets/base",
            "_model_module_version": "1.2.0",
            "_model_name": "LayoutModel",
            "_view_count": null,
            "_view_module": "@jupyter-widgets/base",
            "_view_module_version": "1.2.0",
            "_view_name": "LayoutView",
            "align_content": null,
            "align_items": null,
            "align_self": null,
            "border": null,
            "bottom": null,
            "display": null,
            "flex": null,
            "flex_flow": null,
            "grid_area": null,
            "grid_auto_columns": null,
            "grid_auto_flow": null,
            "grid_auto_rows": null,
            "grid_column": null,
            "grid_gap": null,
            "grid_row": null,
            "grid_template_areas": null,
            "grid_template_columns": null,
            "grid_template_rows": null,
            "height": null,
            "justify_content": null,
            "justify_items": null,
            "left": null,
            "margin": null,
            "max_height": null,
            "max_width": null,
            "min_height": null,
            "min_width": null,
            "object_fit": null,
            "object_position": null,
            "order": null,
            "overflow": null,
            "overflow_x": null,
            "overflow_y": null,
            "padding": null,
            "right": null,
            "top": null,
            "visibility": null,
            "width": null
          }
        },
        "ea17197bce1e44cbbc44b9941e40c6f0": {
          "model_module": "@jupyter-widgets/controls",
          "model_name": "ProgressStyleModel",
          "model_module_version": "1.5.0",
          "state": {
            "_model_module": "@jupyter-widgets/controls",
            "_model_module_version": "1.5.0",
            "_model_name": "ProgressStyleModel",
            "_view_count": null,
            "_view_module": "@jupyter-widgets/base",
            "_view_module_version": "1.2.0",
            "_view_name": "StyleView",
            "bar_color": null,
            "description_width": ""
          }
        }
      }
    }
  },
  "nbformat": 4,
  "nbformat_minor": 5
}