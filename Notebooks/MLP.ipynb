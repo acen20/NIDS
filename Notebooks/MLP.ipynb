{
  "cells": [
    {
      "cell_type": "code",
      "source": [
        "import os\n",
        "os.environ[\"WANDB_API_KEY\"] = \"00c5bcfd2b2fbe9bce38152923c98635448f8c6f\""
      ],
      "metadata": {
        "id": "BG8KAlexCxKQ"
      },
      "id": "BG8KAlexCxKQ",
      "execution_count": null,
      "outputs": []
    },
    {
      "cell_type": "code",
      "execution_count": null,
      "metadata": {
        "colab": {
          "base_uri": "https://localhost:8080/"
        },
        "id": "3dgcz0LaVCIU",
        "outputId": "98259186-0838-424b-c05b-2394efa8ed13"
      },
      "outputs": [
        {
          "output_type": "execute_result",
          "data": {
            "text/plain": [
              "0"
            ]
          },
          "metadata": {},
          "execution_count": 80
        }
      ],
      "source": [
        "os.system('mkdir ../dataset') \n",
        "os.system('mkdir ../models')\n",
        "os.system('wget -O ../dataset/KDDTrain+.txt https://raw.githubusercontent.com/acen20/DEL/master/deep-ensemble-jet/dataset/KDDTrain%2B.txt')\n",
        "os.system('wget -O ../dataset/KDDTest+.txt https://raw.githubusercontent.com/acen20/DEL/master/deep-ensemble-jet/dataset/KDDTest%2B.txt')\n",
        "os.system('wget -O ../dataset/KDDTrain+_20Percent.txt https://raw.githubusercontent.com/acen20/DEL/master/deep-ensemble-jet/dataset/KDDTrain%2B_20Percent.txt')\n",
        "os.system('wget -O ../dataset/KDDTest-21.txt https://raw.githubusercontent.com/acen20/DEL/master/deep-ensemble-jet/dataset/KDDTest-21.txt')\n",
        "os.system('wget -O ../models/r2l_gen.pt https://github.com/acen20/DEL/raw/master/IDSGAN/r2l_gen.pt')\n",
        "os.system('wget -O ../models/u2r_gen.pt https://github.com/acen20/DEL/raw/master/IDSGAN/u2r_gen.pt')\n",
        "os.system('wget -O ../models/dos_gen.pt https://github.com/acen20/DEL/raw/master/IDSGAN/dos_gen.pt')\n",
        "os.system('wget -O ../models/probe_gen.pt https://github.com/acen20/DEL/raw/master/IDSGAN/probe_gen.pt')\n",
        "os.system('wget -O ../models/normal_gen.pt https://github.com/acen20/DEL/raw/master/IDSGAN/normal_gen.pt')"
      ],
      "id": "3dgcz0LaVCIU"
    },
    {
      "cell_type": "code",
      "source": [
        "os.system('pip install wandb -q')\n",
        "os.system(f'wandb login {os.environ[\"WANDB_API_KEY\"]}')\n",
        "import wandb"
      ],
      "metadata": {
        "id": "rIiZ4FR4yy4n"
      },
      "id": "rIiZ4FR4yy4n",
      "execution_count": null,
      "outputs": []
    },
    {
      "cell_type": "code",
      "execution_count": null,
      "metadata": {
        "id": "8ec7a96a"
      },
      "outputs": [],
      "source": [
        "import torch\n",
        "from torch import nn\n",
        "from torchvision import transforms\n",
        "from torch.utils.data import TensorDataset, DataLoader\n",
        "import matplotlib.pyplot as plt\n",
        "#plt.style.use('grayscale')\n",
        "from sklearn.metrics import precision_recall_curve,RocCurveDisplay\n",
        "from matplotlib import pyplot\n",
        "from sklearn.metrics import f1_score\n",
        "from sklearn.metrics import ConfusionMatrixDisplay\n",
        "from sklearn.model_selection import cross_val_score\n",
        "import numpy as np\n",
        "from sklearn.preprocessing import LabelEncoder\n",
        "from sklearn.model_selection import train_test_split\n",
        "from sklearn.metrics import classification_report\n",
        "from sklearn.preprocessing import MinMaxScaler\n",
        "from sklearn.model_selection import StratifiedKFold as KFold\n",
        "from sklearn.metrics import auc\n",
        "from sklearn.metrics import accuracy_score\n",
        "import matplotlib.pyplot as plt\n",
        "from sklearn.metrics import confusion_matrix\n",
        "from sklearn.decomposition import PCA\n",
        "from sklearn.preprocessing import LabelEncoder\n",
        "import pandas as pd\n",
        "from sklearn import preprocessing\n",
        "import time"
      ],
      "id": "8ec7a96a"
    },
    {
      "cell_type": "code",
      "execution_count": null,
      "metadata": {
        "id": "2c580674"
      },
      "outputs": [],
      "source": [
        "from warnings import simplefilter\n",
        "from sklearn.exceptions import ConvergenceWarning\n",
        "simplefilter(\"ignore\", category=ConvergenceWarning)"
      ],
      "id": "2c580674"
    },
    {
      "cell_type": "code",
      "execution_count": null,
      "metadata": {
        "id": "SzHa9dbaDSNO"
      },
      "outputs": [],
      "source": [
        "device = 'cuda' if torch.cuda.is_available() else 'cpu'"
      ],
      "id": "SzHa9dbaDSNO"
    },
    {
      "cell_type": "code",
      "source": [
        "print(f'Using {device} as device')"
      ],
      "metadata": {
        "colab": {
          "base_uri": "https://localhost:8080/"
        },
        "id": "4qLhXlUUWXgw",
        "outputId": "2f503ce7-850a-4834-f42e-81e3fcbfe876"
      },
      "id": "4qLhXlUUWXgw",
      "execution_count": null,
      "outputs": [
        {
          "output_type": "stream",
          "name": "stdout",
          "text": [
            "Using cpu as device\n"
          ]
        }
      ]
    },
    {
      "cell_type": "code",
      "execution_count": null,
      "metadata": {
        "id": "K5RgWPZuSvzI"
      },
      "outputs": [],
      "source": [
        "class Critic(nn.Module):\n",
        "  def __init__(self, data_dim):\n",
        "    super(Critic,self).__init__()\n",
        "    self.disc = nn.Sequential(\n",
        "        nn.Conv1d(1,3,kernel_size=3,stride=1),\n",
        "        #nn.BatchNorm2d(3),\n",
        "        nn.ReLU(),\n",
        "        nn.Conv1d(3,3,kernel_size=3,stride=1),\n",
        "        #nn.BatchNorm2d(3),\n",
        "        nn.ReLU(),\n",
        "        nn.Flatten(),\n",
        "        nn.Linear(111, data_dim),\n",
        "    )\n",
        "\n",
        "  def forward(self, x):\n",
        "    return self.disc(x)\n",
        "\n",
        "\n",
        "class Generator(nn.Module):\n",
        "  def __init__(self, z_dim, data_dim):\n",
        "    super(Generator,self).__init__()\n",
        "    self.gen = nn.Sequential(\n",
        "        nn.Conv1d(1,3,kernel_size=3,stride=1),\n",
        "        #nn.BatchNorm2d(3),\n",
        "        nn.ReLU(),\n",
        "        nn.Conv1d(3,3,kernel_size=3,stride=1),\n",
        "        #nn.BatchNorm2d(3),\n",
        "        nn.ReLU(),\n",
        "        nn.Linear(96, data_dim),\n",
        "        nn.Sigmoid()\n",
        "    )\n",
        "\n",
        "  def forward(self, x):\n",
        "    return self.gen(x)"
      ],
      "id": "K5RgWPZuSvzI"
    },
    {
      "cell_type": "code",
      "execution_count": null,
      "metadata": {
        "id": "2GDvxJAFDTBx"
      },
      "outputs": [],
      "source": [
        "def visualize_synthetic_data(generated, original, title):\n",
        "  generated = generated[np.random.randint(0,len(generated),41)]\n",
        "  original = original.iloc[np.random.randint(0,len(original),41),:41][:41]\n",
        "\n",
        "  fig, (original_ax, synthesized_ax) = plt.subplots(1,2,figsize=(12,12))\n",
        "  original_ax.set_title(f'Original({title})')\n",
        "  synthesized_ax.set_title(f'Synthetic({title})')\n",
        "  _ = original_ax.imshow(original)\n",
        "  _ = synthesized_ax.imshow(generated)"
      ],
      "id": "2GDvxJAFDTBx"
    },
    {
      "cell_type": "code",
      "execution_count": null,
      "metadata": {
        "id": "4ZKNPi9s_5vU"
      },
      "outputs": [],
      "source": [
        "def generate_data(generator, num_instances, z_dim):\n",
        "  generator.eval()\n",
        "  with torch.no_grad():\n",
        "    out = generator(torch.randn(num_instances, z_dim).view(-1,1,z_dim))\n",
        "    return out.detach().reshape(-1,41)[:num_instances]"
      ],
      "id": "4ZKNPi9s_5vU"
    },
    {
      "cell_type": "code",
      "execution_count": null,
      "metadata": {
        "id": "hYpVs6OTCNDo"
      },
      "outputs": [],
      "source": [
        "def create_dataloader(X, y, batch_size):\n",
        "  if y:\n",
        "    y = np.array(X['41'])\n",
        "  else:\n",
        "    y = torch.ones(size=(X.shape[0],))\n",
        "  y = torch.tensor(y, dtype=torch.float).to(device)\n",
        "\n",
        "  X = np.array(X.iloc[:,:-1])\n",
        "  X = torch.tensor(X, dtype=torch.float).to(device)\n",
        "\n",
        "  pt_train = TensorDataset(X,y)\n",
        "  pt_train = DataLoader(pt_train, batch_size=batch_size)\n",
        "  return pt_train"
      ],
      "id": "hYpVs6OTCNDo"
    },
    {
      "cell_type": "code",
      "execution_count": null,
      "metadata": {
        "id": "So1T7XFWELWp"
      },
      "outputs": [],
      "source": [
        "def normalize_data(X):\n",
        "  mms = MinMaxScaler()\n",
        "  return mms.fit_transform(X)"
      ],
      "id": "So1T7XFWELWp"
    },
    {
      "cell_type": "code",
      "execution_count": null,
      "metadata": {
        "id": "NwDdmaxrG6gY"
      },
      "outputs": [],
      "source": [
        "def visualize_train_loss(loss_1, labels, epochs, loss_2 = None):\n",
        "  plt.figure(figsize=(10,4))\n",
        "  plt.plot(loss_1, linewidth=2)\n",
        "  if loss_2:\n",
        "    plt.plot(loss_2, linewidth=2)\n",
        "  plt.legend(labels)\n",
        "  plt.ylabel(\"loss\")\n",
        "  _ = plt.xlabel(f\"epochs ({epochs})\")"
      ],
      "id": "NwDdmaxrG6gY"
    },
    {
      "cell_type": "markdown",
      "metadata": {
        "id": "5b488c60"
      },
      "source": [
        "## Preprocessing"
      ],
      "id": "5b488c60"
    },
    {
      "cell_type": "code",
      "execution_count": null,
      "metadata": {
        "id": "929c5c3c"
      },
      "outputs": [],
      "source": [
        "df=pd.read_csv('../dataset/KDDTrain+.txt', header=None)\n",
        "df2=pd.read_csv('../dataset/KDDTest+.txt', header=None)"
      ],
      "id": "929c5c3c"
    },
    {
      "cell_type": "code",
      "execution_count": null,
      "metadata": {
        "colab": {
          "base_uri": "https://localhost:8080/",
          "height": 236
        },
        "id": "e919a469",
        "outputId": "ca69e725-65e8-49ae-a8b6-8cf2cb393a5b",
        "scrolled": false
      },
      "outputs": [
        {
          "output_type": "execute_result",
          "data": {
            "text/plain": [
              "   0    1         2   3    4     5   6   7   8   9   ...    33    34    35  \\\n",
              "0   0  tcp  ftp_data  SF  491     0   0   0   0   0  ...  0.17  0.03  0.17   \n",
              "1   0  udp     other  SF  146     0   0   0   0   0  ...  0.00  0.60  0.88   \n",
              "2   0  tcp   private  S0    0     0   0   0   0   0  ...  0.10  0.05  0.00   \n",
              "3   0  tcp      http  SF  232  8153   0   0   0   0  ...  1.00  0.00  0.03   \n",
              "4   0  tcp      http  SF  199   420   0   0   0   0  ...  1.00  0.00  0.00   \n",
              "\n",
              "     36    37    38    39    40       41  42  \n",
              "0  0.00  0.00  0.00  0.05  0.00   normal  20  \n",
              "1  0.00  0.00  0.00  0.00  0.00   normal  15  \n",
              "2  0.00  1.00  1.00  0.00  0.00  neptune  19  \n",
              "3  0.04  0.03  0.01  0.00  0.01   normal  21  \n",
              "4  0.00  0.00  0.00  0.00  0.00   normal  21  \n",
              "\n",
              "[5 rows x 43 columns]"
            ],
            "text/html": [
              "\n",
              "  <div id=\"df-01e82cef-d739-496b-89e1-185d633c5973\">\n",
              "    <div class=\"colab-df-container\">\n",
              "      <div>\n",
              "<style scoped>\n",
              "    .dataframe tbody tr th:only-of-type {\n",
              "        vertical-align: middle;\n",
              "    }\n",
              "\n",
              "    .dataframe tbody tr th {\n",
              "        vertical-align: top;\n",
              "    }\n",
              "\n",
              "    .dataframe thead th {\n",
              "        text-align: right;\n",
              "    }\n",
              "</style>\n",
              "<table border=\"1\" class=\"dataframe\">\n",
              "  <thead>\n",
              "    <tr style=\"text-align: right;\">\n",
              "      <th></th>\n",
              "      <th>0</th>\n",
              "      <th>1</th>\n",
              "      <th>2</th>\n",
              "      <th>3</th>\n",
              "      <th>4</th>\n",
              "      <th>5</th>\n",
              "      <th>6</th>\n",
              "      <th>7</th>\n",
              "      <th>8</th>\n",
              "      <th>9</th>\n",
              "      <th>...</th>\n",
              "      <th>33</th>\n",
              "      <th>34</th>\n",
              "      <th>35</th>\n",
              "      <th>36</th>\n",
              "      <th>37</th>\n",
              "      <th>38</th>\n",
              "      <th>39</th>\n",
              "      <th>40</th>\n",
              "      <th>41</th>\n",
              "      <th>42</th>\n",
              "    </tr>\n",
              "  </thead>\n",
              "  <tbody>\n",
              "    <tr>\n",
              "      <th>0</th>\n",
              "      <td>0</td>\n",
              "      <td>tcp</td>\n",
              "      <td>ftp_data</td>\n",
              "      <td>SF</td>\n",
              "      <td>491</td>\n",
              "      <td>0</td>\n",
              "      <td>0</td>\n",
              "      <td>0</td>\n",
              "      <td>0</td>\n",
              "      <td>0</td>\n",
              "      <td>...</td>\n",
              "      <td>0.17</td>\n",
              "      <td>0.03</td>\n",
              "      <td>0.17</td>\n",
              "      <td>0.00</td>\n",
              "      <td>0.00</td>\n",
              "      <td>0.00</td>\n",
              "      <td>0.05</td>\n",
              "      <td>0.00</td>\n",
              "      <td>normal</td>\n",
              "      <td>20</td>\n",
              "    </tr>\n",
              "    <tr>\n",
              "      <th>1</th>\n",
              "      <td>0</td>\n",
              "      <td>udp</td>\n",
              "      <td>other</td>\n",
              "      <td>SF</td>\n",
              "      <td>146</td>\n",
              "      <td>0</td>\n",
              "      <td>0</td>\n",
              "      <td>0</td>\n",
              "      <td>0</td>\n",
              "      <td>0</td>\n",
              "      <td>...</td>\n",
              "      <td>0.00</td>\n",
              "      <td>0.60</td>\n",
              "      <td>0.88</td>\n",
              "      <td>0.00</td>\n",
              "      <td>0.00</td>\n",
              "      <td>0.00</td>\n",
              "      <td>0.00</td>\n",
              "      <td>0.00</td>\n",
              "      <td>normal</td>\n",
              "      <td>15</td>\n",
              "    </tr>\n",
              "    <tr>\n",
              "      <th>2</th>\n",
              "      <td>0</td>\n",
              "      <td>tcp</td>\n",
              "      <td>private</td>\n",
              "      <td>S0</td>\n",
              "      <td>0</td>\n",
              "      <td>0</td>\n",
              "      <td>0</td>\n",
              "      <td>0</td>\n",
              "      <td>0</td>\n",
              "      <td>0</td>\n",
              "      <td>...</td>\n",
              "      <td>0.10</td>\n",
              "      <td>0.05</td>\n",
              "      <td>0.00</td>\n",
              "      <td>0.00</td>\n",
              "      <td>1.00</td>\n",
              "      <td>1.00</td>\n",
              "      <td>0.00</td>\n",
              "      <td>0.00</td>\n",
              "      <td>neptune</td>\n",
              "      <td>19</td>\n",
              "    </tr>\n",
              "    <tr>\n",
              "      <th>3</th>\n",
              "      <td>0</td>\n",
              "      <td>tcp</td>\n",
              "      <td>http</td>\n",
              "      <td>SF</td>\n",
              "      <td>232</td>\n",
              "      <td>8153</td>\n",
              "      <td>0</td>\n",
              "      <td>0</td>\n",
              "      <td>0</td>\n",
              "      <td>0</td>\n",
              "      <td>...</td>\n",
              "      <td>1.00</td>\n",
              "      <td>0.00</td>\n",
              "      <td>0.03</td>\n",
              "      <td>0.04</td>\n",
              "      <td>0.03</td>\n",
              "      <td>0.01</td>\n",
              "      <td>0.00</td>\n",
              "      <td>0.01</td>\n",
              "      <td>normal</td>\n",
              "      <td>21</td>\n",
              "    </tr>\n",
              "    <tr>\n",
              "      <th>4</th>\n",
              "      <td>0</td>\n",
              "      <td>tcp</td>\n",
              "      <td>http</td>\n",
              "      <td>SF</td>\n",
              "      <td>199</td>\n",
              "      <td>420</td>\n",
              "      <td>0</td>\n",
              "      <td>0</td>\n",
              "      <td>0</td>\n",
              "      <td>0</td>\n",
              "      <td>...</td>\n",
              "      <td>1.00</td>\n",
              "      <td>0.00</td>\n",
              "      <td>0.00</td>\n",
              "      <td>0.00</td>\n",
              "      <td>0.00</td>\n",
              "      <td>0.00</td>\n",
              "      <td>0.00</td>\n",
              "      <td>0.00</td>\n",
              "      <td>normal</td>\n",
              "      <td>21</td>\n",
              "    </tr>\n",
              "  </tbody>\n",
              "</table>\n",
              "<p>5 rows × 43 columns</p>\n",
              "</div>\n",
              "      <button class=\"colab-df-convert\" onclick=\"convertToInteractive('df-01e82cef-d739-496b-89e1-185d633c5973')\"\n",
              "              title=\"Convert this dataframe to an interactive table.\"\n",
              "              style=\"display:none;\">\n",
              "        \n",
              "  <svg xmlns=\"http://www.w3.org/2000/svg\" height=\"24px\"viewBox=\"0 0 24 24\"\n",
              "       width=\"24px\">\n",
              "    <path d=\"M0 0h24v24H0V0z\" fill=\"none\"/>\n",
              "    <path d=\"M18.56 5.44l.94 2.06.94-2.06 2.06-.94-2.06-.94-.94-2.06-.94 2.06-2.06.94zm-11 1L8.5 8.5l.94-2.06 2.06-.94-2.06-.94L8.5 2.5l-.94 2.06-2.06.94zm10 10l.94 2.06.94-2.06 2.06-.94-2.06-.94-.94-2.06-.94 2.06-2.06.94z\"/><path d=\"M17.41 7.96l-1.37-1.37c-.4-.4-.92-.59-1.43-.59-.52 0-1.04.2-1.43.59L10.3 9.45l-7.72 7.72c-.78.78-.78 2.05 0 2.83L4 21.41c.39.39.9.59 1.41.59.51 0 1.02-.2 1.41-.59l7.78-7.78 2.81-2.81c.8-.78.8-2.07 0-2.86zM5.41 20L4 18.59l7.72-7.72 1.47 1.35L5.41 20z\"/>\n",
              "  </svg>\n",
              "      </button>\n",
              "      \n",
              "  <style>\n",
              "    .colab-df-container {\n",
              "      display:flex;\n",
              "      flex-wrap:wrap;\n",
              "      gap: 12px;\n",
              "    }\n",
              "\n",
              "    .colab-df-convert {\n",
              "      background-color: #E8F0FE;\n",
              "      border: none;\n",
              "      border-radius: 50%;\n",
              "      cursor: pointer;\n",
              "      display: none;\n",
              "      fill: #1967D2;\n",
              "      height: 32px;\n",
              "      padding: 0 0 0 0;\n",
              "      width: 32px;\n",
              "    }\n",
              "\n",
              "    .colab-df-convert:hover {\n",
              "      background-color: #E2EBFA;\n",
              "      box-shadow: 0px 1px 2px rgba(60, 64, 67, 0.3), 0px 1px 3px 1px rgba(60, 64, 67, 0.15);\n",
              "      fill: #174EA6;\n",
              "    }\n",
              "\n",
              "    [theme=dark] .colab-df-convert {\n",
              "      background-color: #3B4455;\n",
              "      fill: #D2E3FC;\n",
              "    }\n",
              "\n",
              "    [theme=dark] .colab-df-convert:hover {\n",
              "      background-color: #434B5C;\n",
              "      box-shadow: 0px 1px 3px 1px rgba(0, 0, 0, 0.15);\n",
              "      filter: drop-shadow(0px 1px 2px rgba(0, 0, 0, 0.3));\n",
              "      fill: #FFFFFF;\n",
              "    }\n",
              "  </style>\n",
              "\n",
              "      <script>\n",
              "        const buttonEl =\n",
              "          document.querySelector('#df-01e82cef-d739-496b-89e1-185d633c5973 button.colab-df-convert');\n",
              "        buttonEl.style.display =\n",
              "          google.colab.kernel.accessAllowed ? 'block' : 'none';\n",
              "\n",
              "        async function convertToInteractive(key) {\n",
              "          const element = document.querySelector('#df-01e82cef-d739-496b-89e1-185d633c5973');\n",
              "          const dataTable =\n",
              "            await google.colab.kernel.invokeFunction('convertToInteractive',\n",
              "                                                     [key], {});\n",
              "          if (!dataTable) return;\n",
              "\n",
              "          const docLinkHtml = 'Like what you see? Visit the ' +\n",
              "            '<a target=\"_blank\" href=https://colab.research.google.com/notebooks/data_table.ipynb>data table notebook</a>'\n",
              "            + ' to learn more about interactive tables.';\n",
              "          element.innerHTML = '';\n",
              "          dataTable['output_type'] = 'display_data';\n",
              "          await google.colab.output.renderOutput(dataTable, element);\n",
              "          const docLink = document.createElement('div');\n",
              "          docLink.innerHTML = docLinkHtml;\n",
              "          element.appendChild(docLink);\n",
              "        }\n",
              "      </script>\n",
              "    </div>\n",
              "  </div>\n",
              "  "
            ]
          },
          "metadata": {},
          "execution_count": 93
        }
      ],
      "source": [
        "df.head()"
      ],
      "id": "e919a469"
    },
    {
      "cell_type": "code",
      "execution_count": null,
      "metadata": {
        "id": "b7a65747"
      },
      "outputs": [],
      "source": [
        "df.columns = [str(i) for i in range(0, len(df.columns))]\n",
        "df2.columns = [str(i) for i in range(0, len(df2.columns))]"
      ],
      "id": "b7a65747"
    },
    {
      "cell_type": "code",
      "execution_count": null,
      "metadata": {
        "id": "aa639012"
      },
      "outputs": [],
      "source": [
        "# Replacing Null values with 0. ML classifer cannot learn on Null values\n",
        "df.fillna(0, inplace=True)\n",
        "df2.fillna(0, inplace=True)"
      ],
      "id": "aa639012"
    },
    {
      "cell_type": "code",
      "execution_count": null,
      "metadata": {
        "colab": {
          "base_uri": "https://localhost:8080/",
          "height": 236
        },
        "id": "740bf015",
        "outputId": "7f3ff5e8-e4c7-4a60-f1d8-3992d0eb6476"
      },
      "outputs": [
        {
          "output_type": "execute_result",
          "data": {
            "text/plain": [
              "   0    1         2   3    4     5  6  7  8  9  ...    33    34    35    36  \\\n",
              "0  0  tcp  ftp_data  SF  491     0  0  0  0  0  ...  0.17  0.03  0.17  0.00   \n",
              "1  0  udp     other  SF  146     0  0  0  0  0  ...  0.00  0.60  0.88  0.00   \n",
              "2  0  tcp   private  S0    0     0  0  0  0  0  ...  0.10  0.05  0.00  0.00   \n",
              "3  0  tcp      http  SF  232  8153  0  0  0  0  ...  1.00  0.00  0.03  0.04   \n",
              "4  0  tcp      http  SF  199   420  0  0  0  0  ...  1.00  0.00  0.00  0.00   \n",
              "\n",
              "     37    38    39    40       41  42  \n",
              "0  0.00  0.00  0.05  0.00   normal  20  \n",
              "1  0.00  0.00  0.00  0.00   normal  15  \n",
              "2  1.00  1.00  0.00  0.00  neptune  19  \n",
              "3  0.03  0.01  0.00  0.01   normal  21  \n",
              "4  0.00  0.00  0.00  0.00   normal  21  \n",
              "\n",
              "[5 rows x 43 columns]"
            ],
            "text/html": [
              "\n",
              "  <div id=\"df-d23f2761-23ce-43d6-8ee8-7054b698f7ff\">\n",
              "    <div class=\"colab-df-container\">\n",
              "      <div>\n",
              "<style scoped>\n",
              "    .dataframe tbody tr th:only-of-type {\n",
              "        vertical-align: middle;\n",
              "    }\n",
              "\n",
              "    .dataframe tbody tr th {\n",
              "        vertical-align: top;\n",
              "    }\n",
              "\n",
              "    .dataframe thead th {\n",
              "        text-align: right;\n",
              "    }\n",
              "</style>\n",
              "<table border=\"1\" class=\"dataframe\">\n",
              "  <thead>\n",
              "    <tr style=\"text-align: right;\">\n",
              "      <th></th>\n",
              "      <th>0</th>\n",
              "      <th>1</th>\n",
              "      <th>2</th>\n",
              "      <th>3</th>\n",
              "      <th>4</th>\n",
              "      <th>5</th>\n",
              "      <th>6</th>\n",
              "      <th>7</th>\n",
              "      <th>8</th>\n",
              "      <th>9</th>\n",
              "      <th>...</th>\n",
              "      <th>33</th>\n",
              "      <th>34</th>\n",
              "      <th>35</th>\n",
              "      <th>36</th>\n",
              "      <th>37</th>\n",
              "      <th>38</th>\n",
              "      <th>39</th>\n",
              "      <th>40</th>\n",
              "      <th>41</th>\n",
              "      <th>42</th>\n",
              "    </tr>\n",
              "  </thead>\n",
              "  <tbody>\n",
              "    <tr>\n",
              "      <th>0</th>\n",
              "      <td>0</td>\n",
              "      <td>tcp</td>\n",
              "      <td>ftp_data</td>\n",
              "      <td>SF</td>\n",
              "      <td>491</td>\n",
              "      <td>0</td>\n",
              "      <td>0</td>\n",
              "      <td>0</td>\n",
              "      <td>0</td>\n",
              "      <td>0</td>\n",
              "      <td>...</td>\n",
              "      <td>0.17</td>\n",
              "      <td>0.03</td>\n",
              "      <td>0.17</td>\n",
              "      <td>0.00</td>\n",
              "      <td>0.00</td>\n",
              "      <td>0.00</td>\n",
              "      <td>0.05</td>\n",
              "      <td>0.00</td>\n",
              "      <td>normal</td>\n",
              "      <td>20</td>\n",
              "    </tr>\n",
              "    <tr>\n",
              "      <th>1</th>\n",
              "      <td>0</td>\n",
              "      <td>udp</td>\n",
              "      <td>other</td>\n",
              "      <td>SF</td>\n",
              "      <td>146</td>\n",
              "      <td>0</td>\n",
              "      <td>0</td>\n",
              "      <td>0</td>\n",
              "      <td>0</td>\n",
              "      <td>0</td>\n",
              "      <td>...</td>\n",
              "      <td>0.00</td>\n",
              "      <td>0.60</td>\n",
              "      <td>0.88</td>\n",
              "      <td>0.00</td>\n",
              "      <td>0.00</td>\n",
              "      <td>0.00</td>\n",
              "      <td>0.00</td>\n",
              "      <td>0.00</td>\n",
              "      <td>normal</td>\n",
              "      <td>15</td>\n",
              "    </tr>\n",
              "    <tr>\n",
              "      <th>2</th>\n",
              "      <td>0</td>\n",
              "      <td>tcp</td>\n",
              "      <td>private</td>\n",
              "      <td>S0</td>\n",
              "      <td>0</td>\n",
              "      <td>0</td>\n",
              "      <td>0</td>\n",
              "      <td>0</td>\n",
              "      <td>0</td>\n",
              "      <td>0</td>\n",
              "      <td>...</td>\n",
              "      <td>0.10</td>\n",
              "      <td>0.05</td>\n",
              "      <td>0.00</td>\n",
              "      <td>0.00</td>\n",
              "      <td>1.00</td>\n",
              "      <td>1.00</td>\n",
              "      <td>0.00</td>\n",
              "      <td>0.00</td>\n",
              "      <td>neptune</td>\n",
              "      <td>19</td>\n",
              "    </tr>\n",
              "    <tr>\n",
              "      <th>3</th>\n",
              "      <td>0</td>\n",
              "      <td>tcp</td>\n",
              "      <td>http</td>\n",
              "      <td>SF</td>\n",
              "      <td>232</td>\n",
              "      <td>8153</td>\n",
              "      <td>0</td>\n",
              "      <td>0</td>\n",
              "      <td>0</td>\n",
              "      <td>0</td>\n",
              "      <td>...</td>\n",
              "      <td>1.00</td>\n",
              "      <td>0.00</td>\n",
              "      <td>0.03</td>\n",
              "      <td>0.04</td>\n",
              "      <td>0.03</td>\n",
              "      <td>0.01</td>\n",
              "      <td>0.00</td>\n",
              "      <td>0.01</td>\n",
              "      <td>normal</td>\n",
              "      <td>21</td>\n",
              "    </tr>\n",
              "    <tr>\n",
              "      <th>4</th>\n",
              "      <td>0</td>\n",
              "      <td>tcp</td>\n",
              "      <td>http</td>\n",
              "      <td>SF</td>\n",
              "      <td>199</td>\n",
              "      <td>420</td>\n",
              "      <td>0</td>\n",
              "      <td>0</td>\n",
              "      <td>0</td>\n",
              "      <td>0</td>\n",
              "      <td>...</td>\n",
              "      <td>1.00</td>\n",
              "      <td>0.00</td>\n",
              "      <td>0.00</td>\n",
              "      <td>0.00</td>\n",
              "      <td>0.00</td>\n",
              "      <td>0.00</td>\n",
              "      <td>0.00</td>\n",
              "      <td>0.00</td>\n",
              "      <td>normal</td>\n",
              "      <td>21</td>\n",
              "    </tr>\n",
              "  </tbody>\n",
              "</table>\n",
              "<p>5 rows × 43 columns</p>\n",
              "</div>\n",
              "      <button class=\"colab-df-convert\" onclick=\"convertToInteractive('df-d23f2761-23ce-43d6-8ee8-7054b698f7ff')\"\n",
              "              title=\"Convert this dataframe to an interactive table.\"\n",
              "              style=\"display:none;\">\n",
              "        \n",
              "  <svg xmlns=\"http://www.w3.org/2000/svg\" height=\"24px\"viewBox=\"0 0 24 24\"\n",
              "       width=\"24px\">\n",
              "    <path d=\"M0 0h24v24H0V0z\" fill=\"none\"/>\n",
              "    <path d=\"M18.56 5.44l.94 2.06.94-2.06 2.06-.94-2.06-.94-.94-2.06-.94 2.06-2.06.94zm-11 1L8.5 8.5l.94-2.06 2.06-.94-2.06-.94L8.5 2.5l-.94 2.06-2.06.94zm10 10l.94 2.06.94-2.06 2.06-.94-2.06-.94-.94-2.06-.94 2.06-2.06.94z\"/><path d=\"M17.41 7.96l-1.37-1.37c-.4-.4-.92-.59-1.43-.59-.52 0-1.04.2-1.43.59L10.3 9.45l-7.72 7.72c-.78.78-.78 2.05 0 2.83L4 21.41c.39.39.9.59 1.41.59.51 0 1.02-.2 1.41-.59l7.78-7.78 2.81-2.81c.8-.78.8-2.07 0-2.86zM5.41 20L4 18.59l7.72-7.72 1.47 1.35L5.41 20z\"/>\n",
              "  </svg>\n",
              "      </button>\n",
              "      \n",
              "  <style>\n",
              "    .colab-df-container {\n",
              "      display:flex;\n",
              "      flex-wrap:wrap;\n",
              "      gap: 12px;\n",
              "    }\n",
              "\n",
              "    .colab-df-convert {\n",
              "      background-color: #E8F0FE;\n",
              "      border: none;\n",
              "      border-radius: 50%;\n",
              "      cursor: pointer;\n",
              "      display: none;\n",
              "      fill: #1967D2;\n",
              "      height: 32px;\n",
              "      padding: 0 0 0 0;\n",
              "      width: 32px;\n",
              "    }\n",
              "\n",
              "    .colab-df-convert:hover {\n",
              "      background-color: #E2EBFA;\n",
              "      box-shadow: 0px 1px 2px rgba(60, 64, 67, 0.3), 0px 1px 3px 1px rgba(60, 64, 67, 0.15);\n",
              "      fill: #174EA6;\n",
              "    }\n",
              "\n",
              "    [theme=dark] .colab-df-convert {\n",
              "      background-color: #3B4455;\n",
              "      fill: #D2E3FC;\n",
              "    }\n",
              "\n",
              "    [theme=dark] .colab-df-convert:hover {\n",
              "      background-color: #434B5C;\n",
              "      box-shadow: 0px 1px 3px 1px rgba(0, 0, 0, 0.15);\n",
              "      filter: drop-shadow(0px 1px 2px rgba(0, 0, 0, 0.3));\n",
              "      fill: #FFFFFF;\n",
              "    }\n",
              "  </style>\n",
              "\n",
              "      <script>\n",
              "        const buttonEl =\n",
              "          document.querySelector('#df-d23f2761-23ce-43d6-8ee8-7054b698f7ff button.colab-df-convert');\n",
              "        buttonEl.style.display =\n",
              "          google.colab.kernel.accessAllowed ? 'block' : 'none';\n",
              "\n",
              "        async function convertToInteractive(key) {\n",
              "          const element = document.querySelector('#df-d23f2761-23ce-43d6-8ee8-7054b698f7ff');\n",
              "          const dataTable =\n",
              "            await google.colab.kernel.invokeFunction('convertToInteractive',\n",
              "                                                     [key], {});\n",
              "          if (!dataTable) return;\n",
              "\n",
              "          const docLinkHtml = 'Like what you see? Visit the ' +\n",
              "            '<a target=\"_blank\" href=https://colab.research.google.com/notebooks/data_table.ipynb>data table notebook</a>'\n",
              "            + ' to learn more about interactive tables.';\n",
              "          element.innerHTML = '';\n",
              "          dataTable['output_type'] = 'display_data';\n",
              "          await google.colab.output.renderOutput(dataTable, element);\n",
              "          const docLink = document.createElement('div');\n",
              "          docLink.innerHTML = docLinkHtml;\n",
              "          element.appendChild(docLink);\n",
              "        }\n",
              "      </script>\n",
              "    </div>\n",
              "  </div>\n",
              "  "
            ]
          },
          "metadata": {},
          "execution_count": 96
        }
      ],
      "source": [
        "# Peak on dataset\n",
        "df.head()"
      ],
      "id": "740bf015"
    },
    {
      "cell_type": "code",
      "execution_count": null,
      "metadata": {
        "colab": {
          "base_uri": "https://localhost:8080/"
        },
        "id": "9ec1c0af",
        "outputId": "3cac0e8a-d291-4161-fc54-c7646d2c824b"
      },
      "outputs": [
        {
          "output_type": "execute_result",
          "data": {
            "text/plain": [
              "(125973, 43)"
            ]
          },
          "metadata": {},
          "execution_count": 97
        }
      ],
      "source": [
        "df.shape"
      ],
      "id": "9ec1c0af"
    },
    {
      "cell_type": "code",
      "execution_count": null,
      "metadata": {
        "colab": {
          "base_uri": "https://localhost:8080/",
          "height": 236
        },
        "id": "bfbee834",
        "outputId": "c6fee824-891a-4433-b932-34e05f52fe6d"
      },
      "outputs": [
        {
          "output_type": "execute_result",
          "data": {
            "text/plain": [
              "   0    1         2   3    4     5  6  7  8  9  ...   32    33    34    35  \\\n",
              "0  0  tcp  ftp_data  SF  491     0  0  0  0  0  ...   25  0.17  0.03  0.17   \n",
              "1  0  udp     other  SF  146     0  0  0  0  0  ...    1  0.00  0.60  0.88   \n",
              "2  0  tcp   private  S0    0     0  0  0  0  0  ...   26  0.10  0.05  0.00   \n",
              "3  0  tcp      http  SF  232  8153  0  0  0  0  ...  255  1.00  0.00  0.03   \n",
              "4  0  tcp      http  SF  199   420  0  0  0  0  ...  255  1.00  0.00  0.00   \n",
              "\n",
              "     36    37    38    39    40       41  \n",
              "0  0.00  0.00  0.00  0.05  0.00   normal  \n",
              "1  0.00  0.00  0.00  0.00  0.00   normal  \n",
              "2  0.00  1.00  1.00  0.00  0.00  neptune  \n",
              "3  0.04  0.03  0.01  0.00  0.01   normal  \n",
              "4  0.00  0.00  0.00  0.00  0.00   normal  \n",
              "\n",
              "[5 rows x 42 columns]"
            ],
            "text/html": [
              "\n",
              "  <div id=\"df-875ecc65-1263-4494-890f-c5b3e22cc4cf\">\n",
              "    <div class=\"colab-df-container\">\n",
              "      <div>\n",
              "<style scoped>\n",
              "    .dataframe tbody tr th:only-of-type {\n",
              "        vertical-align: middle;\n",
              "    }\n",
              "\n",
              "    .dataframe tbody tr th {\n",
              "        vertical-align: top;\n",
              "    }\n",
              "\n",
              "    .dataframe thead th {\n",
              "        text-align: right;\n",
              "    }\n",
              "</style>\n",
              "<table border=\"1\" class=\"dataframe\">\n",
              "  <thead>\n",
              "    <tr style=\"text-align: right;\">\n",
              "      <th></th>\n",
              "      <th>0</th>\n",
              "      <th>1</th>\n",
              "      <th>2</th>\n",
              "      <th>3</th>\n",
              "      <th>4</th>\n",
              "      <th>5</th>\n",
              "      <th>6</th>\n",
              "      <th>7</th>\n",
              "      <th>8</th>\n",
              "      <th>9</th>\n",
              "      <th>...</th>\n",
              "      <th>32</th>\n",
              "      <th>33</th>\n",
              "      <th>34</th>\n",
              "      <th>35</th>\n",
              "      <th>36</th>\n",
              "      <th>37</th>\n",
              "      <th>38</th>\n",
              "      <th>39</th>\n",
              "      <th>40</th>\n",
              "      <th>41</th>\n",
              "    </tr>\n",
              "  </thead>\n",
              "  <tbody>\n",
              "    <tr>\n",
              "      <th>0</th>\n",
              "      <td>0</td>\n",
              "      <td>tcp</td>\n",
              "      <td>ftp_data</td>\n",
              "      <td>SF</td>\n",
              "      <td>491</td>\n",
              "      <td>0</td>\n",
              "      <td>0</td>\n",
              "      <td>0</td>\n",
              "      <td>0</td>\n",
              "      <td>0</td>\n",
              "      <td>...</td>\n",
              "      <td>25</td>\n",
              "      <td>0.17</td>\n",
              "      <td>0.03</td>\n",
              "      <td>0.17</td>\n",
              "      <td>0.00</td>\n",
              "      <td>0.00</td>\n",
              "      <td>0.00</td>\n",
              "      <td>0.05</td>\n",
              "      <td>0.00</td>\n",
              "      <td>normal</td>\n",
              "    </tr>\n",
              "    <tr>\n",
              "      <th>1</th>\n",
              "      <td>0</td>\n",
              "      <td>udp</td>\n",
              "      <td>other</td>\n",
              "      <td>SF</td>\n",
              "      <td>146</td>\n",
              "      <td>0</td>\n",
              "      <td>0</td>\n",
              "      <td>0</td>\n",
              "      <td>0</td>\n",
              "      <td>0</td>\n",
              "      <td>...</td>\n",
              "      <td>1</td>\n",
              "      <td>0.00</td>\n",
              "      <td>0.60</td>\n",
              "      <td>0.88</td>\n",
              "      <td>0.00</td>\n",
              "      <td>0.00</td>\n",
              "      <td>0.00</td>\n",
              "      <td>0.00</td>\n",
              "      <td>0.00</td>\n",
              "      <td>normal</td>\n",
              "    </tr>\n",
              "    <tr>\n",
              "      <th>2</th>\n",
              "      <td>0</td>\n",
              "      <td>tcp</td>\n",
              "      <td>private</td>\n",
              "      <td>S0</td>\n",
              "      <td>0</td>\n",
              "      <td>0</td>\n",
              "      <td>0</td>\n",
              "      <td>0</td>\n",
              "      <td>0</td>\n",
              "      <td>0</td>\n",
              "      <td>...</td>\n",
              "      <td>26</td>\n",
              "      <td>0.10</td>\n",
              "      <td>0.05</td>\n",
              "      <td>0.00</td>\n",
              "      <td>0.00</td>\n",
              "      <td>1.00</td>\n",
              "      <td>1.00</td>\n",
              "      <td>0.00</td>\n",
              "      <td>0.00</td>\n",
              "      <td>neptune</td>\n",
              "    </tr>\n",
              "    <tr>\n",
              "      <th>3</th>\n",
              "      <td>0</td>\n",
              "      <td>tcp</td>\n",
              "      <td>http</td>\n",
              "      <td>SF</td>\n",
              "      <td>232</td>\n",
              "      <td>8153</td>\n",
              "      <td>0</td>\n",
              "      <td>0</td>\n",
              "      <td>0</td>\n",
              "      <td>0</td>\n",
              "      <td>...</td>\n",
              "      <td>255</td>\n",
              "      <td>1.00</td>\n",
              "      <td>0.00</td>\n",
              "      <td>0.03</td>\n",
              "      <td>0.04</td>\n",
              "      <td>0.03</td>\n",
              "      <td>0.01</td>\n",
              "      <td>0.00</td>\n",
              "      <td>0.01</td>\n",
              "      <td>normal</td>\n",
              "    </tr>\n",
              "    <tr>\n",
              "      <th>4</th>\n",
              "      <td>0</td>\n",
              "      <td>tcp</td>\n",
              "      <td>http</td>\n",
              "      <td>SF</td>\n",
              "      <td>199</td>\n",
              "      <td>420</td>\n",
              "      <td>0</td>\n",
              "      <td>0</td>\n",
              "      <td>0</td>\n",
              "      <td>0</td>\n",
              "      <td>...</td>\n",
              "      <td>255</td>\n",
              "      <td>1.00</td>\n",
              "      <td>0.00</td>\n",
              "      <td>0.00</td>\n",
              "      <td>0.00</td>\n",
              "      <td>0.00</td>\n",
              "      <td>0.00</td>\n",
              "      <td>0.00</td>\n",
              "      <td>0.00</td>\n",
              "      <td>normal</td>\n",
              "    </tr>\n",
              "  </tbody>\n",
              "</table>\n",
              "<p>5 rows × 42 columns</p>\n",
              "</div>\n",
              "      <button class=\"colab-df-convert\" onclick=\"convertToInteractive('df-875ecc65-1263-4494-890f-c5b3e22cc4cf')\"\n",
              "              title=\"Convert this dataframe to an interactive table.\"\n",
              "              style=\"display:none;\">\n",
              "        \n",
              "  <svg xmlns=\"http://www.w3.org/2000/svg\" height=\"24px\"viewBox=\"0 0 24 24\"\n",
              "       width=\"24px\">\n",
              "    <path d=\"M0 0h24v24H0V0z\" fill=\"none\"/>\n",
              "    <path d=\"M18.56 5.44l.94 2.06.94-2.06 2.06-.94-2.06-.94-.94-2.06-.94 2.06-2.06.94zm-11 1L8.5 8.5l.94-2.06 2.06-.94-2.06-.94L8.5 2.5l-.94 2.06-2.06.94zm10 10l.94 2.06.94-2.06 2.06-.94-2.06-.94-.94-2.06-.94 2.06-2.06.94z\"/><path d=\"M17.41 7.96l-1.37-1.37c-.4-.4-.92-.59-1.43-.59-.52 0-1.04.2-1.43.59L10.3 9.45l-7.72 7.72c-.78.78-.78 2.05 0 2.83L4 21.41c.39.39.9.59 1.41.59.51 0 1.02-.2 1.41-.59l7.78-7.78 2.81-2.81c.8-.78.8-2.07 0-2.86zM5.41 20L4 18.59l7.72-7.72 1.47 1.35L5.41 20z\"/>\n",
              "  </svg>\n",
              "      </button>\n",
              "      \n",
              "  <style>\n",
              "    .colab-df-container {\n",
              "      display:flex;\n",
              "      flex-wrap:wrap;\n",
              "      gap: 12px;\n",
              "    }\n",
              "\n",
              "    .colab-df-convert {\n",
              "      background-color: #E8F0FE;\n",
              "      border: none;\n",
              "      border-radius: 50%;\n",
              "      cursor: pointer;\n",
              "      display: none;\n",
              "      fill: #1967D2;\n",
              "      height: 32px;\n",
              "      padding: 0 0 0 0;\n",
              "      width: 32px;\n",
              "    }\n",
              "\n",
              "    .colab-df-convert:hover {\n",
              "      background-color: #E2EBFA;\n",
              "      box-shadow: 0px 1px 2px rgba(60, 64, 67, 0.3), 0px 1px 3px 1px rgba(60, 64, 67, 0.15);\n",
              "      fill: #174EA6;\n",
              "    }\n",
              "\n",
              "    [theme=dark] .colab-df-convert {\n",
              "      background-color: #3B4455;\n",
              "      fill: #D2E3FC;\n",
              "    }\n",
              "\n",
              "    [theme=dark] .colab-df-convert:hover {\n",
              "      background-color: #434B5C;\n",
              "      box-shadow: 0px 1px 3px 1px rgba(0, 0, 0, 0.15);\n",
              "      filter: drop-shadow(0px 1px 2px rgba(0, 0, 0, 0.3));\n",
              "      fill: #FFFFFF;\n",
              "    }\n",
              "  </style>\n",
              "\n",
              "      <script>\n",
              "        const buttonEl =\n",
              "          document.querySelector('#df-875ecc65-1263-4494-890f-c5b3e22cc4cf button.colab-df-convert');\n",
              "        buttonEl.style.display =\n",
              "          google.colab.kernel.accessAllowed ? 'block' : 'none';\n",
              "\n",
              "        async function convertToInteractive(key) {\n",
              "          const element = document.querySelector('#df-875ecc65-1263-4494-890f-c5b3e22cc4cf');\n",
              "          const dataTable =\n",
              "            await google.colab.kernel.invokeFunction('convertToInteractive',\n",
              "                                                     [key], {});\n",
              "          if (!dataTable) return;\n",
              "\n",
              "          const docLinkHtml = 'Like what you see? Visit the ' +\n",
              "            '<a target=\"_blank\" href=https://colab.research.google.com/notebooks/data_table.ipynb>data table notebook</a>'\n",
              "            + ' to learn more about interactive tables.';\n",
              "          element.innerHTML = '';\n",
              "          dataTable['output_type'] = 'display_data';\n",
              "          await google.colab.output.renderOutput(dataTable, element);\n",
              "          const docLink = document.createElement('div');\n",
              "          docLink.innerHTML = docLinkHtml;\n",
              "          element.appendChild(docLink);\n",
              "        }\n",
              "      </script>\n",
              "    </div>\n",
              "  </div>\n",
              "  "
            ]
          },
          "metadata": {},
          "execution_count": 98
        }
      ],
      "source": [
        "# Peak on the dataset\n",
        "df.drop('42',axis=1, inplace=True)\n",
        "df2.drop('42',axis=1, inplace=True)\n",
        "df.head()"
      ],
      "id": "bfbee834"
    },
    {
      "cell_type": "code",
      "execution_count": null,
      "metadata": {
        "id": "7debc84a",
        "scrolled": true
      },
      "outputs": [],
      "source": [
        "sub_classes = df.iloc[:,41].value_counts()"
      ],
      "id": "7debc84a"
    },
    {
      "cell_type": "code",
      "execution_count": null,
      "metadata": {
        "colab": {
          "base_uri": "https://localhost:8080/"
        },
        "id": "46a4fd5b",
        "outputId": "8fb4a5ed-d19b-43e6-f87d-fa2093d6f588"
      },
      "outputs": [
        {
          "output_type": "stream",
          "name": "stdout",
          "text": [
            "normal             67343\n",
            "neptune            41214\n",
            "satan               3633\n",
            "ipsweep             3599\n",
            "portsweep           2931\n",
            "smurf               2646\n",
            "nmap                1493\n",
            "back                 956\n",
            "teardrop             892\n",
            "warezclient          890\n",
            "pod                  201\n",
            "guess_passwd          53\n",
            "buffer_overflow       30\n",
            "warezmaster           20\n",
            "land                  18\n",
            "imap                  11\n",
            "rootkit               10\n",
            "loadmodule             9\n",
            "ftp_write              8\n",
            "multihop               7\n",
            "phf                    4\n",
            "perl                   3\n",
            "spy                    2\n",
            "Name: 41, dtype: int64\n"
          ]
        }
      ],
      "source": [
        "print(sub_classes)"
      ],
      "id": "46a4fd5b"
    },
    {
      "cell_type": "code",
      "execution_count": null,
      "metadata": {
        "id": "8gBzAOhUjozz"
      },
      "outputs": [],
      "source": [
        "r2l = ['ftp_write','guess_passwd', 'imap', 'multihop', 'phf', 'spy','warezclient','warezmaster','xlock', 'xsnoop','named',\n",
        "       'sendmail','snmpgetattack', 'snmpguess','httptunnel']\n",
        "u2r = ['buffer_overflow', 'loadmodule','perl','ps','rootkit','sqlattack','xterm']\n",
        "dos = ['back', 'land', 'neptune', 'smurf', 'teardrop','pod','mailbomb', 'processtable','udpstorm', 'worm','apache2']\n",
        "probe = ['ipsweep', 'nmap', 'portsweep', 'satan','saint','mscan']\n",
        "normal = ['normal']"
      ],
      "id": "8gBzAOhUjozz"
    },
    {
      "cell_type": "code",
      "execution_count": null,
      "metadata": {
        "colab": {
          "base_uri": "https://localhost:8080/",
          "height": 143
        },
        "id": "RRuiCdWOcCrW",
        "outputId": "8ca67516-045b-4cfe-f3ef-c578d9e1784e"
      },
      "outputs": [
        {
          "output_type": "execute_result",
          "data": {
            "text/plain": [
              "       Train   Test\n",
              "tcp   102689  18880\n",
              "udp    14993   2621\n",
              "icmp    8291   1043"
            ],
            "text/html": [
              "\n",
              "  <div id=\"df-2ca601e1-79eb-470d-9191-0aba50510f51\">\n",
              "    <div class=\"colab-df-container\">\n",
              "      <div>\n",
              "<style scoped>\n",
              "    .dataframe tbody tr th:only-of-type {\n",
              "        vertical-align: middle;\n",
              "    }\n",
              "\n",
              "    .dataframe tbody tr th {\n",
              "        vertical-align: top;\n",
              "    }\n",
              "\n",
              "    .dataframe thead th {\n",
              "        text-align: right;\n",
              "    }\n",
              "</style>\n",
              "<table border=\"1\" class=\"dataframe\">\n",
              "  <thead>\n",
              "    <tr style=\"text-align: right;\">\n",
              "      <th></th>\n",
              "      <th>Train</th>\n",
              "      <th>Test</th>\n",
              "    </tr>\n",
              "  </thead>\n",
              "  <tbody>\n",
              "    <tr>\n",
              "      <th>tcp</th>\n",
              "      <td>102689</td>\n",
              "      <td>18880</td>\n",
              "    </tr>\n",
              "    <tr>\n",
              "      <th>udp</th>\n",
              "      <td>14993</td>\n",
              "      <td>2621</td>\n",
              "    </tr>\n",
              "    <tr>\n",
              "      <th>icmp</th>\n",
              "      <td>8291</td>\n",
              "      <td>1043</td>\n",
              "    </tr>\n",
              "  </tbody>\n",
              "</table>\n",
              "</div>\n",
              "      <button class=\"colab-df-convert\" onclick=\"convertToInteractive('df-2ca601e1-79eb-470d-9191-0aba50510f51')\"\n",
              "              title=\"Convert this dataframe to an interactive table.\"\n",
              "              style=\"display:none;\">\n",
              "        \n",
              "  <svg xmlns=\"http://www.w3.org/2000/svg\" height=\"24px\"viewBox=\"0 0 24 24\"\n",
              "       width=\"24px\">\n",
              "    <path d=\"M0 0h24v24H0V0z\" fill=\"none\"/>\n",
              "    <path d=\"M18.56 5.44l.94 2.06.94-2.06 2.06-.94-2.06-.94-.94-2.06-.94 2.06-2.06.94zm-11 1L8.5 8.5l.94-2.06 2.06-.94-2.06-.94L8.5 2.5l-.94 2.06-2.06.94zm10 10l.94 2.06.94-2.06 2.06-.94-2.06-.94-.94-2.06-.94 2.06-2.06.94z\"/><path d=\"M17.41 7.96l-1.37-1.37c-.4-.4-.92-.59-1.43-.59-.52 0-1.04.2-1.43.59L10.3 9.45l-7.72 7.72c-.78.78-.78 2.05 0 2.83L4 21.41c.39.39.9.59 1.41.59.51 0 1.02-.2 1.41-.59l7.78-7.78 2.81-2.81c.8-.78.8-2.07 0-2.86zM5.41 20L4 18.59l7.72-7.72 1.47 1.35L5.41 20z\"/>\n",
              "  </svg>\n",
              "      </button>\n",
              "      \n",
              "  <style>\n",
              "    .colab-df-container {\n",
              "      display:flex;\n",
              "      flex-wrap:wrap;\n",
              "      gap: 12px;\n",
              "    }\n",
              "\n",
              "    .colab-df-convert {\n",
              "      background-color: #E8F0FE;\n",
              "      border: none;\n",
              "      border-radius: 50%;\n",
              "      cursor: pointer;\n",
              "      display: none;\n",
              "      fill: #1967D2;\n",
              "      height: 32px;\n",
              "      padding: 0 0 0 0;\n",
              "      width: 32px;\n",
              "    }\n",
              "\n",
              "    .colab-df-convert:hover {\n",
              "      background-color: #E2EBFA;\n",
              "      box-shadow: 0px 1px 2px rgba(60, 64, 67, 0.3), 0px 1px 3px 1px rgba(60, 64, 67, 0.15);\n",
              "      fill: #174EA6;\n",
              "    }\n",
              "\n",
              "    [theme=dark] .colab-df-convert {\n",
              "      background-color: #3B4455;\n",
              "      fill: #D2E3FC;\n",
              "    }\n",
              "\n",
              "    [theme=dark] .colab-df-convert:hover {\n",
              "      background-color: #434B5C;\n",
              "      box-shadow: 0px 1px 3px 1px rgba(0, 0, 0, 0.15);\n",
              "      filter: drop-shadow(0px 1px 2px rgba(0, 0, 0, 0.3));\n",
              "      fill: #FFFFFF;\n",
              "    }\n",
              "  </style>\n",
              "\n",
              "      <script>\n",
              "        const buttonEl =\n",
              "          document.querySelector('#df-2ca601e1-79eb-470d-9191-0aba50510f51 button.colab-df-convert');\n",
              "        buttonEl.style.display =\n",
              "          google.colab.kernel.accessAllowed ? 'block' : 'none';\n",
              "\n",
              "        async function convertToInteractive(key) {\n",
              "          const element = document.querySelector('#df-2ca601e1-79eb-470d-9191-0aba50510f51');\n",
              "          const dataTable =\n",
              "            await google.colab.kernel.invokeFunction('convertToInteractive',\n",
              "                                                     [key], {});\n",
              "          if (!dataTable) return;\n",
              "\n",
              "          const docLinkHtml = 'Like what you see? Visit the ' +\n",
              "            '<a target=\"_blank\" href=https://colab.research.google.com/notebooks/data_table.ipynb>data table notebook</a>'\n",
              "            + ' to learn more about interactive tables.';\n",
              "          element.innerHTML = '';\n",
              "          dataTable['output_type'] = 'display_data';\n",
              "          await google.colab.output.renderOutput(dataTable, element);\n",
              "          const docLink = document.createElement('div');\n",
              "          docLink.innerHTML = docLinkHtml;\n",
              "          element.appendChild(docLink);\n",
              "        }\n",
              "      </script>\n",
              "    </div>\n",
              "  </div>\n",
              "  "
            ]
          },
          "metadata": {},
          "execution_count": 102
        }
      ],
      "source": [
        "pd.set_option('display.max_rows', None) # or 1000.\n",
        "train_1 = df['1'].value_counts()\n",
        "train_1.rename('Train', inplace=True)\n",
        "test_1 = df2['1'].value_counts()\n",
        "test_1.rename('Test', inplace=True)\n",
        "cnct = pd.concat([train_1, test_1], axis = 1)\n",
        "cnct"
      ],
      "id": "RRuiCdWOcCrW"
    },
    {
      "cell_type": "code",
      "execution_count": null,
      "metadata": {
        "colab": {
          "base_uri": "https://localhost:8080/",
          "height": 1000
        },
        "id": "NFJBiwv4cXHu",
        "outputId": "89f9dde7-42f0-4211-b466-33ae66f8ba32"
      },
      "outputs": [
        {
          "output_type": "execute_result",
          "data": {
            "text/plain": [
              "             Train    Test\n",
              "http         40338  7853.0\n",
              "private      21853  4774.0\n",
              "domain_u      9043   894.0\n",
              "smtp          7313   934.0\n",
              "ftp_data      6860   851.0\n",
              "eco_i         4586   262.0\n",
              "other         4359   838.0\n",
              "ecr_i         3077   752.0\n",
              "telnet        2353  1626.0\n",
              "finger        1767   136.0\n",
              "ftp           1754   692.0\n",
              "auth           955    67.0\n",
              "Z39_50         862    45.0\n",
              "uucp           780    50.0\n",
              "courier        734    40.0\n",
              "bgp            710    46.0\n",
              "whois          693    40.0\n",
              "uucp_path      689    46.0\n",
              "iso_tsap       687    48.0\n",
              "time           654    36.0\n",
              "imap4          647   306.0\n",
              "nnsp           630    42.0\n",
              "vmnet          617    43.0\n",
              "urp_i          602    23.0\n",
              "domain         569    51.0\n",
              "ctf            563    41.0\n",
              "csnet_ns       545    34.0\n",
              "supdup         544    27.0\n",
              "discard        538    26.0\n",
              "http_443       530    36.0\n",
              "daytime        521    28.0\n",
              "gopher         518    34.0\n",
              "efs            485    33.0\n",
              "systat         477    32.0\n",
              "link           475    41.0\n",
              "exec           474    27.0\n",
              "hostnames      460    23.0\n",
              "name           451    37.0\n",
              "mtp            439    32.0\n",
              "echo           434    37.0\n",
              "klogin         433    21.0\n",
              "login          429    29.0\n",
              "ldap           410    19.0\n",
              "netbios_dgm    405    25.0\n",
              "sunrpc         381   159.0\n",
              "netbios_ssn    362    15.0\n",
              "netstat        360    26.0\n",
              "netbios_ns     347    36.0\n",
              "ssh            311    26.0\n",
              "kshell         299    24.0\n",
              "nntp           296    21.0\n",
              "pop_3          264  1019.0\n",
              "sql_net        245    18.0\n",
              "IRC            187    13.0\n",
              "ntp_u          168    10.0\n",
              "rje             86     8.0\n",
              "remote_job      78    14.0\n",
              "pop_2           78    13.0\n",
              "X11             73    15.0\n",
              "printer         69    11.0\n",
              "shell           65    16.0\n",
              "urh_i           10     NaN\n",
              "tim_i            8     6.0\n",
              "red_i            8     NaN\n",
              "pm_dump          5    16.0\n",
              "tftp_u           3     1.0\n",
              "http_8001        2     NaN\n",
              "aol              2     NaN\n",
              "harvest          2     NaN\n",
              "http_2784        1     NaN"
            ],
            "text/html": [
              "\n",
              "  <div id=\"df-7357198e-7b9f-4d1e-889a-02e02382ba65\">\n",
              "    <div class=\"colab-df-container\">\n",
              "      <div>\n",
              "<style scoped>\n",
              "    .dataframe tbody tr th:only-of-type {\n",
              "        vertical-align: middle;\n",
              "    }\n",
              "\n",
              "    .dataframe tbody tr th {\n",
              "        vertical-align: top;\n",
              "    }\n",
              "\n",
              "    .dataframe thead th {\n",
              "        text-align: right;\n",
              "    }\n",
              "</style>\n",
              "<table border=\"1\" class=\"dataframe\">\n",
              "  <thead>\n",
              "    <tr style=\"text-align: right;\">\n",
              "      <th></th>\n",
              "      <th>Train</th>\n",
              "      <th>Test</th>\n",
              "    </tr>\n",
              "  </thead>\n",
              "  <tbody>\n",
              "    <tr>\n",
              "      <th>http</th>\n",
              "      <td>40338</td>\n",
              "      <td>7853.0</td>\n",
              "    </tr>\n",
              "    <tr>\n",
              "      <th>private</th>\n",
              "      <td>21853</td>\n",
              "      <td>4774.0</td>\n",
              "    </tr>\n",
              "    <tr>\n",
              "      <th>domain_u</th>\n",
              "      <td>9043</td>\n",
              "      <td>894.0</td>\n",
              "    </tr>\n",
              "    <tr>\n",
              "      <th>smtp</th>\n",
              "      <td>7313</td>\n",
              "      <td>934.0</td>\n",
              "    </tr>\n",
              "    <tr>\n",
              "      <th>ftp_data</th>\n",
              "      <td>6860</td>\n",
              "      <td>851.0</td>\n",
              "    </tr>\n",
              "    <tr>\n",
              "      <th>eco_i</th>\n",
              "      <td>4586</td>\n",
              "      <td>262.0</td>\n",
              "    </tr>\n",
              "    <tr>\n",
              "      <th>other</th>\n",
              "      <td>4359</td>\n",
              "      <td>838.0</td>\n",
              "    </tr>\n",
              "    <tr>\n",
              "      <th>ecr_i</th>\n",
              "      <td>3077</td>\n",
              "      <td>752.0</td>\n",
              "    </tr>\n",
              "    <tr>\n",
              "      <th>telnet</th>\n",
              "      <td>2353</td>\n",
              "      <td>1626.0</td>\n",
              "    </tr>\n",
              "    <tr>\n",
              "      <th>finger</th>\n",
              "      <td>1767</td>\n",
              "      <td>136.0</td>\n",
              "    </tr>\n",
              "    <tr>\n",
              "      <th>ftp</th>\n",
              "      <td>1754</td>\n",
              "      <td>692.0</td>\n",
              "    </tr>\n",
              "    <tr>\n",
              "      <th>auth</th>\n",
              "      <td>955</td>\n",
              "      <td>67.0</td>\n",
              "    </tr>\n",
              "    <tr>\n",
              "      <th>Z39_50</th>\n",
              "      <td>862</td>\n",
              "      <td>45.0</td>\n",
              "    </tr>\n",
              "    <tr>\n",
              "      <th>uucp</th>\n",
              "      <td>780</td>\n",
              "      <td>50.0</td>\n",
              "    </tr>\n",
              "    <tr>\n",
              "      <th>courier</th>\n",
              "      <td>734</td>\n",
              "      <td>40.0</td>\n",
              "    </tr>\n",
              "    <tr>\n",
              "      <th>bgp</th>\n",
              "      <td>710</td>\n",
              "      <td>46.0</td>\n",
              "    </tr>\n",
              "    <tr>\n",
              "      <th>whois</th>\n",
              "      <td>693</td>\n",
              "      <td>40.0</td>\n",
              "    </tr>\n",
              "    <tr>\n",
              "      <th>uucp_path</th>\n",
              "      <td>689</td>\n",
              "      <td>46.0</td>\n",
              "    </tr>\n",
              "    <tr>\n",
              "      <th>iso_tsap</th>\n",
              "      <td>687</td>\n",
              "      <td>48.0</td>\n",
              "    </tr>\n",
              "    <tr>\n",
              "      <th>time</th>\n",
              "      <td>654</td>\n",
              "      <td>36.0</td>\n",
              "    </tr>\n",
              "    <tr>\n",
              "      <th>imap4</th>\n",
              "      <td>647</td>\n",
              "      <td>306.0</td>\n",
              "    </tr>\n",
              "    <tr>\n",
              "      <th>nnsp</th>\n",
              "      <td>630</td>\n",
              "      <td>42.0</td>\n",
              "    </tr>\n",
              "    <tr>\n",
              "      <th>vmnet</th>\n",
              "      <td>617</td>\n",
              "      <td>43.0</td>\n",
              "    </tr>\n",
              "    <tr>\n",
              "      <th>urp_i</th>\n",
              "      <td>602</td>\n",
              "      <td>23.0</td>\n",
              "    </tr>\n",
              "    <tr>\n",
              "      <th>domain</th>\n",
              "      <td>569</td>\n",
              "      <td>51.0</td>\n",
              "    </tr>\n",
              "    <tr>\n",
              "      <th>ctf</th>\n",
              "      <td>563</td>\n",
              "      <td>41.0</td>\n",
              "    </tr>\n",
              "    <tr>\n",
              "      <th>csnet_ns</th>\n",
              "      <td>545</td>\n",
              "      <td>34.0</td>\n",
              "    </tr>\n",
              "    <tr>\n",
              "      <th>supdup</th>\n",
              "      <td>544</td>\n",
              "      <td>27.0</td>\n",
              "    </tr>\n",
              "    <tr>\n",
              "      <th>discard</th>\n",
              "      <td>538</td>\n",
              "      <td>26.0</td>\n",
              "    </tr>\n",
              "    <tr>\n",
              "      <th>http_443</th>\n",
              "      <td>530</td>\n",
              "      <td>36.0</td>\n",
              "    </tr>\n",
              "    <tr>\n",
              "      <th>daytime</th>\n",
              "      <td>521</td>\n",
              "      <td>28.0</td>\n",
              "    </tr>\n",
              "    <tr>\n",
              "      <th>gopher</th>\n",
              "      <td>518</td>\n",
              "      <td>34.0</td>\n",
              "    </tr>\n",
              "    <tr>\n",
              "      <th>efs</th>\n",
              "      <td>485</td>\n",
              "      <td>33.0</td>\n",
              "    </tr>\n",
              "    <tr>\n",
              "      <th>systat</th>\n",
              "      <td>477</td>\n",
              "      <td>32.0</td>\n",
              "    </tr>\n",
              "    <tr>\n",
              "      <th>link</th>\n",
              "      <td>475</td>\n",
              "      <td>41.0</td>\n",
              "    </tr>\n",
              "    <tr>\n",
              "      <th>exec</th>\n",
              "      <td>474</td>\n",
              "      <td>27.0</td>\n",
              "    </tr>\n",
              "    <tr>\n",
              "      <th>hostnames</th>\n",
              "      <td>460</td>\n",
              "      <td>23.0</td>\n",
              "    </tr>\n",
              "    <tr>\n",
              "      <th>name</th>\n",
              "      <td>451</td>\n",
              "      <td>37.0</td>\n",
              "    </tr>\n",
              "    <tr>\n",
              "      <th>mtp</th>\n",
              "      <td>439</td>\n",
              "      <td>32.0</td>\n",
              "    </tr>\n",
              "    <tr>\n",
              "      <th>echo</th>\n",
              "      <td>434</td>\n",
              "      <td>37.0</td>\n",
              "    </tr>\n",
              "    <tr>\n",
              "      <th>klogin</th>\n",
              "      <td>433</td>\n",
              "      <td>21.0</td>\n",
              "    </tr>\n",
              "    <tr>\n",
              "      <th>login</th>\n",
              "      <td>429</td>\n",
              "      <td>29.0</td>\n",
              "    </tr>\n",
              "    <tr>\n",
              "      <th>ldap</th>\n",
              "      <td>410</td>\n",
              "      <td>19.0</td>\n",
              "    </tr>\n",
              "    <tr>\n",
              "      <th>netbios_dgm</th>\n",
              "      <td>405</td>\n",
              "      <td>25.0</td>\n",
              "    </tr>\n",
              "    <tr>\n",
              "      <th>sunrpc</th>\n",
              "      <td>381</td>\n",
              "      <td>159.0</td>\n",
              "    </tr>\n",
              "    <tr>\n",
              "      <th>netbios_ssn</th>\n",
              "      <td>362</td>\n",
              "      <td>15.0</td>\n",
              "    </tr>\n",
              "    <tr>\n",
              "      <th>netstat</th>\n",
              "      <td>360</td>\n",
              "      <td>26.0</td>\n",
              "    </tr>\n",
              "    <tr>\n",
              "      <th>netbios_ns</th>\n",
              "      <td>347</td>\n",
              "      <td>36.0</td>\n",
              "    </tr>\n",
              "    <tr>\n",
              "      <th>ssh</th>\n",
              "      <td>311</td>\n",
              "      <td>26.0</td>\n",
              "    </tr>\n",
              "    <tr>\n",
              "      <th>kshell</th>\n",
              "      <td>299</td>\n",
              "      <td>24.0</td>\n",
              "    </tr>\n",
              "    <tr>\n",
              "      <th>nntp</th>\n",
              "      <td>296</td>\n",
              "      <td>21.0</td>\n",
              "    </tr>\n",
              "    <tr>\n",
              "      <th>pop_3</th>\n",
              "      <td>264</td>\n",
              "      <td>1019.0</td>\n",
              "    </tr>\n",
              "    <tr>\n",
              "      <th>sql_net</th>\n",
              "      <td>245</td>\n",
              "      <td>18.0</td>\n",
              "    </tr>\n",
              "    <tr>\n",
              "      <th>IRC</th>\n",
              "      <td>187</td>\n",
              "      <td>13.0</td>\n",
              "    </tr>\n",
              "    <tr>\n",
              "      <th>ntp_u</th>\n",
              "      <td>168</td>\n",
              "      <td>10.0</td>\n",
              "    </tr>\n",
              "    <tr>\n",
              "      <th>rje</th>\n",
              "      <td>86</td>\n",
              "      <td>8.0</td>\n",
              "    </tr>\n",
              "    <tr>\n",
              "      <th>remote_job</th>\n",
              "      <td>78</td>\n",
              "      <td>14.0</td>\n",
              "    </tr>\n",
              "    <tr>\n",
              "      <th>pop_2</th>\n",
              "      <td>78</td>\n",
              "      <td>13.0</td>\n",
              "    </tr>\n",
              "    <tr>\n",
              "      <th>X11</th>\n",
              "      <td>73</td>\n",
              "      <td>15.0</td>\n",
              "    </tr>\n",
              "    <tr>\n",
              "      <th>printer</th>\n",
              "      <td>69</td>\n",
              "      <td>11.0</td>\n",
              "    </tr>\n",
              "    <tr>\n",
              "      <th>shell</th>\n",
              "      <td>65</td>\n",
              "      <td>16.0</td>\n",
              "    </tr>\n",
              "    <tr>\n",
              "      <th>urh_i</th>\n",
              "      <td>10</td>\n",
              "      <td>NaN</td>\n",
              "    </tr>\n",
              "    <tr>\n",
              "      <th>tim_i</th>\n",
              "      <td>8</td>\n",
              "      <td>6.0</td>\n",
              "    </tr>\n",
              "    <tr>\n",
              "      <th>red_i</th>\n",
              "      <td>8</td>\n",
              "      <td>NaN</td>\n",
              "    </tr>\n",
              "    <tr>\n",
              "      <th>pm_dump</th>\n",
              "      <td>5</td>\n",
              "      <td>16.0</td>\n",
              "    </tr>\n",
              "    <tr>\n",
              "      <th>tftp_u</th>\n",
              "      <td>3</td>\n",
              "      <td>1.0</td>\n",
              "    </tr>\n",
              "    <tr>\n",
              "      <th>http_8001</th>\n",
              "      <td>2</td>\n",
              "      <td>NaN</td>\n",
              "    </tr>\n",
              "    <tr>\n",
              "      <th>aol</th>\n",
              "      <td>2</td>\n",
              "      <td>NaN</td>\n",
              "    </tr>\n",
              "    <tr>\n",
              "      <th>harvest</th>\n",
              "      <td>2</td>\n",
              "      <td>NaN</td>\n",
              "    </tr>\n",
              "    <tr>\n",
              "      <th>http_2784</th>\n",
              "      <td>1</td>\n",
              "      <td>NaN</td>\n",
              "    </tr>\n",
              "  </tbody>\n",
              "</table>\n",
              "</div>\n",
              "      <button class=\"colab-df-convert\" onclick=\"convertToInteractive('df-7357198e-7b9f-4d1e-889a-02e02382ba65')\"\n",
              "              title=\"Convert this dataframe to an interactive table.\"\n",
              "              style=\"display:none;\">\n",
              "        \n",
              "  <svg xmlns=\"http://www.w3.org/2000/svg\" height=\"24px\"viewBox=\"0 0 24 24\"\n",
              "       width=\"24px\">\n",
              "    <path d=\"M0 0h24v24H0V0z\" fill=\"none\"/>\n",
              "    <path d=\"M18.56 5.44l.94 2.06.94-2.06 2.06-.94-2.06-.94-.94-2.06-.94 2.06-2.06.94zm-11 1L8.5 8.5l.94-2.06 2.06-.94-2.06-.94L8.5 2.5l-.94 2.06-2.06.94zm10 10l.94 2.06.94-2.06 2.06-.94-2.06-.94-.94-2.06-.94 2.06-2.06.94z\"/><path d=\"M17.41 7.96l-1.37-1.37c-.4-.4-.92-.59-1.43-.59-.52 0-1.04.2-1.43.59L10.3 9.45l-7.72 7.72c-.78.78-.78 2.05 0 2.83L4 21.41c.39.39.9.59 1.41.59.51 0 1.02-.2 1.41-.59l7.78-7.78 2.81-2.81c.8-.78.8-2.07 0-2.86zM5.41 20L4 18.59l7.72-7.72 1.47 1.35L5.41 20z\"/>\n",
              "  </svg>\n",
              "      </button>\n",
              "      \n",
              "  <style>\n",
              "    .colab-df-container {\n",
              "      display:flex;\n",
              "      flex-wrap:wrap;\n",
              "      gap: 12px;\n",
              "    }\n",
              "\n",
              "    .colab-df-convert {\n",
              "      background-color: #E8F0FE;\n",
              "      border: none;\n",
              "      border-radius: 50%;\n",
              "      cursor: pointer;\n",
              "      display: none;\n",
              "      fill: #1967D2;\n",
              "      height: 32px;\n",
              "      padding: 0 0 0 0;\n",
              "      width: 32px;\n",
              "    }\n",
              "\n",
              "    .colab-df-convert:hover {\n",
              "      background-color: #E2EBFA;\n",
              "      box-shadow: 0px 1px 2px rgba(60, 64, 67, 0.3), 0px 1px 3px 1px rgba(60, 64, 67, 0.15);\n",
              "      fill: #174EA6;\n",
              "    }\n",
              "\n",
              "    [theme=dark] .colab-df-convert {\n",
              "      background-color: #3B4455;\n",
              "      fill: #D2E3FC;\n",
              "    }\n",
              "\n",
              "    [theme=dark] .colab-df-convert:hover {\n",
              "      background-color: #434B5C;\n",
              "      box-shadow: 0px 1px 3px 1px rgba(0, 0, 0, 0.15);\n",
              "      filter: drop-shadow(0px 1px 2px rgba(0, 0, 0, 0.3));\n",
              "      fill: #FFFFFF;\n",
              "    }\n",
              "  </style>\n",
              "\n",
              "      <script>\n",
              "        const buttonEl =\n",
              "          document.querySelector('#df-7357198e-7b9f-4d1e-889a-02e02382ba65 button.colab-df-convert');\n",
              "        buttonEl.style.display =\n",
              "          google.colab.kernel.accessAllowed ? 'block' : 'none';\n",
              "\n",
              "        async function convertToInteractive(key) {\n",
              "          const element = document.querySelector('#df-7357198e-7b9f-4d1e-889a-02e02382ba65');\n",
              "          const dataTable =\n",
              "            await google.colab.kernel.invokeFunction('convertToInteractive',\n",
              "                                                     [key], {});\n",
              "          if (!dataTable) return;\n",
              "\n",
              "          const docLinkHtml = 'Like what you see? Visit the ' +\n",
              "            '<a target=\"_blank\" href=https://colab.research.google.com/notebooks/data_table.ipynb>data table notebook</a>'\n",
              "            + ' to learn more about interactive tables.';\n",
              "          element.innerHTML = '';\n",
              "          dataTable['output_type'] = 'display_data';\n",
              "          await google.colab.output.renderOutput(dataTable, element);\n",
              "          const docLink = document.createElement('div');\n",
              "          docLink.innerHTML = docLinkHtml;\n",
              "          element.appendChild(docLink);\n",
              "        }\n",
              "      </script>\n",
              "    </div>\n",
              "  </div>\n",
              "  "
            ]
          },
          "metadata": {},
          "execution_count": 103
        }
      ],
      "source": [
        "train_2 = df['2'].value_counts()\n",
        "train_2.rename('Train', inplace=True)\n",
        "test_2 = df2['2'].value_counts()\n",
        "test_2.rename('Test', inplace=True)\n",
        "cnct = pd.concat([train_2, test_2], axis = 1)\n",
        "cnct"
      ],
      "id": "NFJBiwv4cXHu"
    },
    {
      "cell_type": "code",
      "execution_count": null,
      "metadata": {
        "colab": {
          "base_uri": "https://localhost:8080/",
          "height": 394
        },
        "id": "OfdiwlCReLRJ",
        "outputId": "db31c928-5dfc-4ae0-e43f-5ff9a7b6a7fb"
      },
      "outputs": [
        {
          "output_type": "execute_result",
          "data": {
            "text/plain": [
              "        Train   Test\n",
              "SF      74945  14875\n",
              "S0      34851   2013\n",
              "REJ     11233   3850\n",
              "RSTR     2421    669\n",
              "RSTO     1562    773\n",
              "S1        365     21\n",
              "SH        271     73\n",
              "S2        127     15\n",
              "RSTOS0    103      2\n",
              "S3         49    249\n",
              "OTH        46      4"
            ],
            "text/html": [
              "\n",
              "  <div id=\"df-f3f4b016-1c40-43bb-ae9f-1776da1fd438\">\n",
              "    <div class=\"colab-df-container\">\n",
              "      <div>\n",
              "<style scoped>\n",
              "    .dataframe tbody tr th:only-of-type {\n",
              "        vertical-align: middle;\n",
              "    }\n",
              "\n",
              "    .dataframe tbody tr th {\n",
              "        vertical-align: top;\n",
              "    }\n",
              "\n",
              "    .dataframe thead th {\n",
              "        text-align: right;\n",
              "    }\n",
              "</style>\n",
              "<table border=\"1\" class=\"dataframe\">\n",
              "  <thead>\n",
              "    <tr style=\"text-align: right;\">\n",
              "      <th></th>\n",
              "      <th>Train</th>\n",
              "      <th>Test</th>\n",
              "    </tr>\n",
              "  </thead>\n",
              "  <tbody>\n",
              "    <tr>\n",
              "      <th>SF</th>\n",
              "      <td>74945</td>\n",
              "      <td>14875</td>\n",
              "    </tr>\n",
              "    <tr>\n",
              "      <th>S0</th>\n",
              "      <td>34851</td>\n",
              "      <td>2013</td>\n",
              "    </tr>\n",
              "    <tr>\n",
              "      <th>REJ</th>\n",
              "      <td>11233</td>\n",
              "      <td>3850</td>\n",
              "    </tr>\n",
              "    <tr>\n",
              "      <th>RSTR</th>\n",
              "      <td>2421</td>\n",
              "      <td>669</td>\n",
              "    </tr>\n",
              "    <tr>\n",
              "      <th>RSTO</th>\n",
              "      <td>1562</td>\n",
              "      <td>773</td>\n",
              "    </tr>\n",
              "    <tr>\n",
              "      <th>S1</th>\n",
              "      <td>365</td>\n",
              "      <td>21</td>\n",
              "    </tr>\n",
              "    <tr>\n",
              "      <th>SH</th>\n",
              "      <td>271</td>\n",
              "      <td>73</td>\n",
              "    </tr>\n",
              "    <tr>\n",
              "      <th>S2</th>\n",
              "      <td>127</td>\n",
              "      <td>15</td>\n",
              "    </tr>\n",
              "    <tr>\n",
              "      <th>RSTOS0</th>\n",
              "      <td>103</td>\n",
              "      <td>2</td>\n",
              "    </tr>\n",
              "    <tr>\n",
              "      <th>S3</th>\n",
              "      <td>49</td>\n",
              "      <td>249</td>\n",
              "    </tr>\n",
              "    <tr>\n",
              "      <th>OTH</th>\n",
              "      <td>46</td>\n",
              "      <td>4</td>\n",
              "    </tr>\n",
              "  </tbody>\n",
              "</table>\n",
              "</div>\n",
              "      <button class=\"colab-df-convert\" onclick=\"convertToInteractive('df-f3f4b016-1c40-43bb-ae9f-1776da1fd438')\"\n",
              "              title=\"Convert this dataframe to an interactive table.\"\n",
              "              style=\"display:none;\">\n",
              "        \n",
              "  <svg xmlns=\"http://www.w3.org/2000/svg\" height=\"24px\"viewBox=\"0 0 24 24\"\n",
              "       width=\"24px\">\n",
              "    <path d=\"M0 0h24v24H0V0z\" fill=\"none\"/>\n",
              "    <path d=\"M18.56 5.44l.94 2.06.94-2.06 2.06-.94-2.06-.94-.94-2.06-.94 2.06-2.06.94zm-11 1L8.5 8.5l.94-2.06 2.06-.94-2.06-.94L8.5 2.5l-.94 2.06-2.06.94zm10 10l.94 2.06.94-2.06 2.06-.94-2.06-.94-.94-2.06-.94 2.06-2.06.94z\"/><path d=\"M17.41 7.96l-1.37-1.37c-.4-.4-.92-.59-1.43-.59-.52 0-1.04.2-1.43.59L10.3 9.45l-7.72 7.72c-.78.78-.78 2.05 0 2.83L4 21.41c.39.39.9.59 1.41.59.51 0 1.02-.2 1.41-.59l7.78-7.78 2.81-2.81c.8-.78.8-2.07 0-2.86zM5.41 20L4 18.59l7.72-7.72 1.47 1.35L5.41 20z\"/>\n",
              "  </svg>\n",
              "      </button>\n",
              "      \n",
              "  <style>\n",
              "    .colab-df-container {\n",
              "      display:flex;\n",
              "      flex-wrap:wrap;\n",
              "      gap: 12px;\n",
              "    }\n",
              "\n",
              "    .colab-df-convert {\n",
              "      background-color: #E8F0FE;\n",
              "      border: none;\n",
              "      border-radius: 50%;\n",
              "      cursor: pointer;\n",
              "      display: none;\n",
              "      fill: #1967D2;\n",
              "      height: 32px;\n",
              "      padding: 0 0 0 0;\n",
              "      width: 32px;\n",
              "    }\n",
              "\n",
              "    .colab-df-convert:hover {\n",
              "      background-color: #E2EBFA;\n",
              "      box-shadow: 0px 1px 2px rgba(60, 64, 67, 0.3), 0px 1px 3px 1px rgba(60, 64, 67, 0.15);\n",
              "      fill: #174EA6;\n",
              "    }\n",
              "\n",
              "    [theme=dark] .colab-df-convert {\n",
              "      background-color: #3B4455;\n",
              "      fill: #D2E3FC;\n",
              "    }\n",
              "\n",
              "    [theme=dark] .colab-df-convert:hover {\n",
              "      background-color: #434B5C;\n",
              "      box-shadow: 0px 1px 3px 1px rgba(0, 0, 0, 0.15);\n",
              "      filter: drop-shadow(0px 1px 2px rgba(0, 0, 0, 0.3));\n",
              "      fill: #FFFFFF;\n",
              "    }\n",
              "  </style>\n",
              "\n",
              "      <script>\n",
              "        const buttonEl =\n",
              "          document.querySelector('#df-f3f4b016-1c40-43bb-ae9f-1776da1fd438 button.colab-df-convert');\n",
              "        buttonEl.style.display =\n",
              "          google.colab.kernel.accessAllowed ? 'block' : 'none';\n",
              "\n",
              "        async function convertToInteractive(key) {\n",
              "          const element = document.querySelector('#df-f3f4b016-1c40-43bb-ae9f-1776da1fd438');\n",
              "          const dataTable =\n",
              "            await google.colab.kernel.invokeFunction('convertToInteractive',\n",
              "                                                     [key], {});\n",
              "          if (!dataTable) return;\n",
              "\n",
              "          const docLinkHtml = 'Like what you see? Visit the ' +\n",
              "            '<a target=\"_blank\" href=https://colab.research.google.com/notebooks/data_table.ipynb>data table notebook</a>'\n",
              "            + ' to learn more about interactive tables.';\n",
              "          element.innerHTML = '';\n",
              "          dataTable['output_type'] = 'display_data';\n",
              "          await google.colab.output.renderOutput(dataTable, element);\n",
              "          const docLink = document.createElement('div');\n",
              "          docLink.innerHTML = docLinkHtml;\n",
              "          element.appendChild(docLink);\n",
              "        }\n",
              "      </script>\n",
              "    </div>\n",
              "  </div>\n",
              "  "
            ]
          },
          "metadata": {},
          "execution_count": 104
        }
      ],
      "source": [
        "train_3 = df['3'].value_counts()\n",
        "train_3.rename('Train', inplace=True)\n",
        "test_3 = df2['3'].value_counts()\n",
        "test_3.rename('Test', inplace=True)\n",
        "cnct = pd.concat([train_3, test_3], axis = 1)\n",
        "cnct"
      ],
      "id": "OfdiwlCReLRJ"
    },
    {
      "cell_type": "code",
      "execution_count": null,
      "metadata": {
        "id": "CtWrB74-g9rp"
      },
      "outputs": [],
      "source": [
        "df_X = df.drop('41', axis=1)\n",
        "le = LabelEncoder()\n",
        "for i in df_X:\n",
        "  if df_X[i].dtype=='object':\n",
        "    le.fit(df_X[i])\n",
        "    df_X[i] = le.transform(df_X[i])\n",
        "    df2[i] = le.transform(df2[i])\n",
        "df.iloc[:,:40] = df_X"
      ],
      "id": "CtWrB74-g9rp"
    },
    {
      "cell_type": "code",
      "execution_count": null,
      "metadata": {
        "id": "B_QBteI3FboO"
      },
      "outputs": [],
      "source": [
        "df.iloc[:,:40] = normalize_data(df.iloc[:,:40])\n",
        "df2.iloc[:,:40] = normalize_data(df2.iloc[:,:40])"
      ],
      "id": "B_QBteI3FboO"
    },
    {
      "cell_type": "code",
      "execution_count": null,
      "metadata": {
        "id": "dDY2mxULlf8W"
      },
      "outputs": [],
      "source": [
        "u2r_attacks = df[df['41'].apply(lambda x: x in u2r)].copy()\n",
        "r2l_attacks = df[df['41'].apply(lambda x: x in r2l)].copy()\n",
        "dos_attacks = df[df['41'].apply(lambda x: x in dos)].copy()\n",
        "probe_attacks = df[df['41'].apply(lambda x: x in probe)].copy()\n",
        "normal_traffic = df[df['41'].apply(lambda x: x in normal)].copy()\n",
        "\n",
        "df['41'] = df['41'].map(\n",
        "    lambda x: 'malicious' if x in r2l \n",
        "    else 'malicious' if x in u2r \n",
        "    else 'malicious' if x in dos \n",
        "    else 'malicious' if x in probe \n",
        "    else 'normal' if x is 'normal'\n",
        "    else x\n",
        "    )\n",
        "\n",
        "df2['41'] = df2['41'].map(\n",
        "    lambda x: 'malicious' if x in r2l \n",
        "    else 'malicious' if x in u2r \n",
        "    else 'malicious' if x in dos \n",
        "    else 'malicious' if x in probe \n",
        "    else 'normal' if x is 'normal'\n",
        "    else x\n",
        "    )"
      ],
      "id": "dDY2mxULlf8W"
    },
    {
      "cell_type": "markdown",
      "metadata": {
        "id": "lc4aEOflw528"
      },
      "source": [
        "### Training set value counts"
      ],
      "id": "lc4aEOflw528"
    },
    {
      "cell_type": "code",
      "execution_count": null,
      "metadata": {
        "colab": {
          "base_uri": "https://localhost:8080/"
        },
        "id": "UEFVMzAOgiLk",
        "outputId": "26ee06f5-3887-4a3a-962d-2cdd80cda7d0"
      },
      "outputs": [
        {
          "output_type": "execute_result",
          "data": {
            "text/plain": [
              "normal       67343\n",
              "malicious    58630\n",
              "Name: 41, dtype: int64"
            ]
          },
          "metadata": {},
          "execution_count": 108
        }
      ],
      "source": [
        "df['41'].value_counts()"
      ],
      "id": "UEFVMzAOgiLk"
    },
    {
      "cell_type": "markdown",
      "metadata": {
        "id": "v7WffV5JxAev"
      },
      "source": [
        "### Testing set value counts"
      ],
      "id": "v7WffV5JxAev"
    },
    {
      "cell_type": "code",
      "execution_count": null,
      "metadata": {
        "colab": {
          "base_uri": "https://localhost:8080/"
        },
        "id": "rXFth6dhpqQ2",
        "outputId": "5ddeef05-3a04-4ec4-9977-1cd4755d25d7"
      },
      "outputs": [
        {
          "output_type": "stream",
          "name": "stdout",
          "text": [
            "malicious    12833\n",
            "normal        9711\n",
            "Name: 41, dtype: int64\n"
          ]
        }
      ],
      "source": [
        "print(df2['41'].value_counts())"
      ],
      "id": "rXFth6dhpqQ2"
    },
    {
      "cell_type": "code",
      "execution_count": null,
      "metadata": {
        "id": "e613e569"
      },
      "outputs": [],
      "source": [
        "#In case of multi-class classification\n",
        "#df_Y = le.fit(df['41']).transform(df['41'])\n",
        "#df.iloc[:,41] = df_Y\n",
        "#df_Y = le.transform(df2['41'])\n",
        "#df2.iloc[:,41] = df_Y\n",
        "\n",
        "#In case of binary classification\n",
        "df.iloc[:,41] = df['41'].map(lambda x: 0 if x=='normal' else 1)\n",
        "df2.iloc[:,41] = df2['41'].map(lambda x: 0 if x=='normal' else 1)\n",
        "\n",
        "X_train = df.drop(['41'],axis=1)\n",
        "y_train = df['41']\n",
        "\n",
        "X_test = df2.drop(['41'],axis=1)\n",
        "y_test = df2['41']\n",
        "X_test = torch.tensor(np.array(X_test), dtype=torch.float, device=device)"
      ],
      "id": "e613e569"
    },
    {
      "cell_type": "markdown",
      "metadata": {
        "id": "sjvMDNKmLxVk"
      },
      "source": [
        "**Creating TensorDataset**"
      ],
      "id": "sjvMDNKmLxVk"
    },
    {
      "cell_type": "code",
      "execution_count": null,
      "metadata": {
        "id": "sU72dH_Yw10L"
      },
      "outputs": [],
      "source": [
        "pt_x_train = torch.tensor(X_train.to_numpy(), dtype=torch.float).to(device)\n",
        "y = nn.functional.one_hot(torch.tensor(y_train.to_numpy()))\n",
        "pt_y_train = y.float().to(device)\n",
        "tensor_dataset = TensorDataset(pt_x_train, pt_y_train)"
      ],
      "id": "sU72dH_Yw10L"
    },
    {
      "cell_type": "code",
      "execution_count": null,
      "metadata": {
        "id": "WbuD8PGaahxT",
        "colab": {
          "base_uri": "https://localhost:8080/"
        },
        "outputId": "465936c2-bb0a-478d-a89a-b584c845966a"
      },
      "outputs": [
        {
          "output_type": "execute_result",
          "data": {
            "text/plain": [
              "(torch.Size([125973, 41]), torch.Size([125973, 2]))"
            ]
          },
          "metadata": {},
          "execution_count": 112
        }
      ],
      "source": [
        "pt_x_train.shape, pt_y_train.shape"
      ],
      "id": "WbuD8PGaahxT"
    },
    {
      "cell_type": "markdown",
      "metadata": {
        "id": "cd8383d7"
      },
      "source": [
        "## **MLP**\n",
        "\n"
      ],
      "id": "cd8383d7"
    },
    {
      "cell_type": "code",
      "execution_count": null,
      "metadata": {
        "id": "TCuvg7npEMqU"
      },
      "outputs": [],
      "source": [
        "class MLP(nn.Module):\n",
        "  data_dim = 41\n",
        "  def __init__(self):\n",
        "      super(MLP, self).__init__()\n",
        "      self.mlp = nn.Sequential(\n",
        "          nn.Linear(self.data_dim, 80),\n",
        "          nn.ReLU(),\n",
        "          nn.BatchNorm1d(80)\n",
        "      )\n",
        "      '''self.cnn = nn.Sequential(\n",
        "          nn.Conv1d(1,10,kernel_size = (1,3), stride=1),\n",
        "          nn.ReLU(),\n",
        "          nn.BatchNorm2d(10),\n",
        "          nn.Conv1d(10,10,kernel_size = (1,3), stride=1),\n",
        "          nn.ReLU(),\n",
        "          nn.BatchNorm2d(10),\n",
        "          nn.Conv1d(10,10,kernel_size = (1,3), stride=1),\n",
        "          nn.ReLU(),\n",
        "          nn.BatchNorm2d(10),\n",
        "          nn.Conv1d(10,10,kernel_size = (1,3), stride=1),\n",
        "          nn.ReLU(),\n",
        "          nn.BatchNorm2d(10),\n",
        "          nn.Flatten(),\n",
        "          nn.Linear(330, 24),\n",
        "          nn.ReLU(),\n",
        "      )'''\n",
        "\n",
        "      self.clf = nn.Sequential(\n",
        "          nn.Linear(80,2),\n",
        "          nn.Sigmoid()\n",
        "      )\n",
        "\n",
        "  def forward(self, x):\n",
        "      features = self.mlp(x)\n",
        "      return self.clf(features)\n",
        "\n",
        "  def transform(self, x):\n",
        "      return self.cnn(x)"
      ],
      "id": "TCuvg7npEMqU"
    },
    {
      "cell_type": "code",
      "source": [
        "def validation_accuracy(model, X, y):\n",
        "  model.eval()\n",
        "  with torch.no_grad():\n",
        "    lr_probs = model(X).detach().squeeze()\n",
        "  preds = torch.argmax(lr_probs, dim=1).cpu()\n",
        "  acc = accuracy_score(y, preds)\n",
        "  model.train()\n",
        "  return acc"
      ],
      "metadata": {
        "id": "t9WPOBqDNkjC"
      },
      "id": "t9WPOBqDNkjC",
      "execution_count": null,
      "outputs": []
    },
    {
      "cell_type": "code",
      "source": [
        "batch_sizes = [32, 64, 128, 256]\n",
        "epochs_ = [25, 40, 55, 70]\n",
        "learning_rates = [1e-3, 1e-2, 1e-1]"
      ],
      "metadata": {
        "id": "LQaoWXrLRh8y"
      },
      "id": "LQaoWXrLRh8y",
      "execution_count": null,
      "outputs": []
    },
    {
      "cell_type": "code",
      "source": [
        "start_time = time.time()"
      ],
      "metadata": {
        "id": "fYd6GYz2boYY"
      },
      "id": "fYd6GYz2boYY",
      "execution_count": null,
      "outputs": []
    },
    {
      "cell_type": "code",
      "execution_count": null,
      "metadata": {
        "id": "FsOpwkvtch7o",
        "colab": {
          "base_uri": "https://localhost:8080/",
          "height": 1000,
          "referenced_widgets": [
            "f48361671a904525a38d70a61f22b21e",
            "ae8af7dfe2224d19a32eab2b3e228acd",
            "152337cbf9784186b93a47f57638cff5",
            "9d8c032f851a495a9838838fb44a35ed",
            "e2eeacc9ef374c109525e465350ac589",
            "ab9a7c44c9274bc0b9861fea24afd968",
            "dc7a863e291745c1ab9e8bb1a90ee2cc",
            "feafe859cb294ca49ccd0ba443db30b3",
            "d960205b08a94a9292a6b6fd2097403a",
            "7e380940288e4c4788b5ca663c525308",
            "8c3042d1e66646f48ac4510d2d7d6585",
            "de098466bc294b07bcade6a7ab04f449",
            "d21771fe35ca441ba506b9c9bf45eb99",
            "7dbed50b624a435fa38378a0f1f7dbf5",
            "97fadfebdc0d4b81b99c466c5bb7d95a",
            "c38651a3ed3e4b1da478dce3ef9dce44",
            "3934683ae180462c8bfe309be0b95289",
            "1718a501eb5244bbbc274b3c417c154d",
            "5b810428be624301ba632e2214b2220f",
            "6527c576e593434389537fda283c6c70",
            "1563b1ff8d0b4d40b41744853ef67b37",
            "78a98136fe504c2186311874085a71be",
            "5ab7e3a7151044ebaf88cd705495e49b",
            "6bb279ca35b948f9ab5e3649e83927d7",
            "577a40e7378d46488ce6f65c9ff5514f",
            "1c76b54fd2dd41d59361f3cd5bcb9034",
            "4264874a274e44c4a4a8bf8d4a9c000e",
            "fafa7daa19394b82adff117aa41f1bc5",
            "61af136da77c47f3b31cb97cabb7574c",
            "1b724737984d4c8b8e9b3c7c9f674ab4",
            "3cc0116460c0489ab0ebc57c41cd60b2",
            "ceeb86f89d6745b59008ac13b24cbdd3",
            "4333c37aa94d4a9bb50cd032b4eee64a",
            "4a97bb95169c41f185e4985a7caa8cd6",
            "bf826fdc1b474f8fadd051754a334983",
            "355335356a024a0e83a7d9fcd87f4f21",
            "2e97f62e965f4c9cab2dcafa704f263d",
            "2a77bb46ede74db189b2257578b878bb",
            "1b0d0fb69edf4a62a40fb5f06efb0540",
            "e387f9d4569846cea81c2aab0a4c0443",
            "99affef8b1ed4a948bf510d9a32da2f5",
            "f99616be9cab4c82b87147b58c76746d",
            "cc336b7781974417929f5429b8149099",
            "eb96cad287f54bbea4a7bb648ccf6e45",
            "c745e70128be46a199e750cb9697bf98",
            "5ccc76c9f5424c2199d8f0a0519b1236",
            "c6b99474339f41d8a5607cbed4d46819",
            "4b8bb90ae8324dd9bcf0da1533828774",
            "39e8ad7fe2544c6d9a48861623645601",
            "0aa95328e22c4312a9160f15145a0566",
            "d177032a211248ef8f0081189bc375cd",
            "bd1ea8ff8fbb404a819c2c9495dc3fc3",
            "405c483fc52f4e32ac6d45ab0f2c1c9b",
            "42f02d9d709f4ba2a43e6d1581d65e98",
            "ad719ffe27f548159010de74e0b24871",
            "9eea3eedc0c9486b92261869ad11590f",
            "d37f7a26c17b40988f0919d683445621",
            "a2c33b96129647548bce0b0a13888377",
            "aad92a6dd0ad4cf4abdbff52c058cc37",
            "1a11c5865ad540abac32a5c481101257",
            "fae2567e180f48e4a06f01bbce847979",
            "bd2ce16878ab4b3894096bc07300d26a",
            "3d66f67f32b84f49a22b6ee0d83fe090",
            "a91d04f9f6f4449a8bef7845b753fe00",
            "6759dc9284c24b879a71a5ebf7905a6d",
            "f99e985ceffc4612b8d8572273c50d0a",
            "fc67a0a6f8d84dbea4b8faf6b277b7a6",
            "4de7b3a8b7184c1390273ccc6d2b69e2",
            "a6d68e67894e49f6acdfdcaed3a47773",
            "0402c2de2b5747b48c2fe516b64c3652",
            "c0ca3da9bcfa4d3794c5666894e40b5a",
            "02e38b9209c84aab8b53b947b46d87d8",
            "aff6f45f36e24a35bdfc4379f5d94913",
            "881a771960404e97bfd95cb48bb6a042",
            "5e4d82d6ea69424f84c9cd36a4b878bb",
            "4d70abe9c1d24975a221ee82bfcd759f",
            "a2218cad94da4077a06600a955646827",
            "0dbe61946a254255961c16d2b50823a1",
            "c6e26279574d41a990978b174a1dc4d3",
            "4db8fc8f8f304d7293d519795f2aa079",
            "ecd6f3dc4463497989717f0b63898234",
            "1ef073d0164e49e19f06e2b1b88c52d7",
            "fd88efa61ab8433da8e5bd0e92551945",
            "3c24c52581d94b4982c530bd75b534c6",
            "3c69f5c7986b411cb41ca7aa563ef7fe",
            "d4ec702b02e846569884f7e4006c23ef",
            "345c64364ef442d6890d1c95131a814a",
            "2c8e60fa35cf4f10b10c427fc00620fb",
            "17e141ef83d243599f0cb41c8add66a9",
            "55c73a73c6724fa2b3d80e8326500c49",
            "18c7f65610b54c6c963dc38271b47155",
            "56b4d0e85350413cb89909daa30aa383",
            "fa9a71d59c854c5092994bcb866e9d74",
            "3090b897339a4790bd39e431c3fee232",
            "a66e1ba8ffcb45f3afe1fcb823d26387",
            "aa42f02e0cd84917a3c415a17d005fe9",
            "06accbd056004049b4a54eaa63c459de",
            "692a3cdcf12240249c3a229616cd908b",
            "0b1fb89f943c4122a2e452389dbdc569",
            "d4fb6569036d47bebd59e4e6cd037ebf",
            "da4b955b56db439596ee49aea8fc02e4",
            "fa01d291808e4243a85990b4c450589a",
            "18d72848539b4ed487640752b6466756",
            "5cb07e5ce3254b8181ea02d88102b0f4",
            "de89c5bf67894d3298622e67e5f27138",
            "7a6c92faa07e4481910112ce8215de5d",
            "50981785bf074ea7a8a1f04e059e6175",
            "139b052963fd47b9845521bb4a6617f3",
            "15f8e58d625149f19b59827ae39aaeb2",
            "c747e85fa298404b99fb368d6e821b62",
            "134326d7f50d48099d20aab75dfe683f",
            "8da58826dcba4e1f8f2854567fa535d4",
            "7cd02727feae4772a53e05f5d86ac818",
            "426e2f0fb7884e3e916c514df14fd7eb",
            "89a956b7bbf346fab83c91fc109fea55",
            "b70a8812cca74490b4eea8631c9cb1df",
            "23521416223947a7b6fd2ab0c5148f16",
            "35711b52bdde41c595ee99e1296c9528",
            "002b1b94aab546108b6341335207b513",
            "6e0f5785dc714a68afb4eca1fc9f2291",
            "a54952e923e84a44bc6dde1dbc205f90",
            "6c00b978739249b1b1bf4297aba696da",
            "0ade5e199d27480aa30d01b3a43aaa40",
            "3d21dec69f6e4153a6590ad085307cd0",
            "6671641057d34546a6a29e810b730626",
            "0d848746f58a4b49a02043b14eb28d72",
            "a43ffa12f8a74a568906c26c8a9df59a",
            "98fedca9fae84fd68b27aebe5a2ddbb1",
            "45286c79141e4907a1691c16ce5a6f13",
            "ac05bc12666343fb8198508e7cf42dc8",
            "2bdd66c9095e42e3baae3c9ea43f237c",
            "0f9aa0ca90c5495083b92f127055df0b",
            "215ae31820ae4240a5a22d1370807cac",
            "4a6c987aab9641a58cbe12ec7f8f808c",
            "2e20e540cf504eeaa09e7cf2cd3b535b",
            "4274e713d206462d969c17a42281ccc9",
            "e07933a96e5d498fbbc9fe4ddbde86de",
            "dcefaa675a6848e7aa08a87b2e6318a4",
            "2557f0098d3f4bec9f83669896505ed4",
            "5987cf8581c44e798ff518ba199070cc",
            "ac575e6c448f4a3aac33ea8cc24c31f3",
            "111b44c680e244fa9b94af02792c5ed8",
            "da387af265a84df6a6c16d80ee173d24",
            "6cf21fe285f94e3caef2b0bc3d64f638",
            "13428a1151ae440b9b5e5b01ba9e2a47",
            "63bd33d66b9d4baaba5d597d273d76a1",
            "9a1dcb26d07c4b808a425cc2c660528c",
            "3f1cd6278c30445080a3c77597b18632",
            "7704510b869d427a9bbc8b566fae455f",
            "336bcb362eb14dba9fec666dbf97fe4a",
            "195560fde00049db827f11d495a41b68",
            "4eb1371fe4704e3c81127824c01f68e0",
            "a11bd2fe0e234417be6cff0195687d7a",
            "317c97c5feac4347becbd33be0ca5977",
            "c0c6e6e370074bcab4c2aab2fb869d3e",
            "cccaefca78f04dd9a826520f7cfc38a1",
            "7e892a7ff2754d0e997b863a1e484bef",
            "83827c074e99457cbe4a7908550fdd71",
            "0802934b98c0474b9afbc312bcb804fe",
            "00ae8bac774945cda1255573bb961233",
            "4272c2ed87c84d4baa3f075c9bb50ddb",
            "67503ae2151b4dd6b1c8ae04e5810776",
            "35cec0688dd54705910c39e5332b19f7",
            "65706b0b03e240668d57382995c1a26d",
            "8e62a0a755244b66b88d85c44aa0be6a",
            "23f2813a1f5d499cbaec82034866d352",
            "6441a3c3a3a3473994a7281d25e3af17",
            "fd5a87d2ec4646ee81621ae856545487",
            "f9089f26fb1f4e6b8c09ac8847604e25",
            "52c4897962e8458f8e1cffa52f4ace5f",
            "a34c8ddc9f0049809117786af43941f8",
            "a497a53270074235849f44e5bb094cd0",
            "674ded0817f647e1b0632a16484cd95c",
            "05a69b7eb9aa460b950365d7a4ffbb54",
            "498bd9ac280b426fa6db4d93d5e4b5c5",
            "4d5e64c0d3174ba89685aa631a40e9ad",
            "b95af695a41e44e196601b71376deaae",
            "84fa62fdcfd64e9689896e8e4b0e7813",
            "7de710a3fbcb44d9b0cd7f71e3a5f7a1",
            "b4c72b61a6c54b06955e3d897e420592",
            "26f74de20d374fe3b5ca6bd1f3da31af",
            "38744e6b4c554666828aafe55981f2d0",
            "3c3fd37e113c47719ee1a07827408bc5",
            "5b0c40e73afa405e9274c499695db206",
            "5577b15b76ee46898ea58284c80fa2de",
            "73b6c5eb3e4c40a7a39971f54ae8118e",
            "222e538ee9b84984894675d28eb3ca13",
            "104edeb065ae483699c838413ce77c76",
            "2f4f43787cf5404a97189ef1e811c397",
            "99cb0fdf73144d30b9fbb7a9641e7d8f",
            "a6ba160dc4854b11bfb1632192ee27a5",
            "53f57f3ffab342c69fb18f67933c612b",
            "5d3dd9612ea94770a3841a6845dcdb65",
            "bee716f7bfa3439cbbef8aa25024d2e3",
            "abe35360e29d469ab20fcbefa20e4ed8",
            "e81abf82a1304d9d86bf350033fc0efb",
            "039104c10f9b4032894b42603ec087fe",
            "56cb549a753246a296222f3963661b3b",
            "31418c047af348cc901690d66e5958a6",
            "20d48b7332f146248830e2809c05d82b",
            "66f01f07284847acacd67b1fb7c565a2",
            "cf3a5c8b8bb649d5a43c21a302765341",
            "c6898e81ff7c403097cf292cc2434f45",
            "12125f01e70549b6b358651e533fef0c",
            "05e948daaf0a4330b6fcdb2d5eabc825",
            "27aa9daeb3b241ebb319029a7b6f232f",
            "17b92dbb3b36416cb2766e90a21a10a7",
            "3cbb30ab0d77417daf06a331c3f60bcb",
            "354bf23a26b24af18ab56e1ad07da648",
            "de343924533e41bc9763d58c9817ab02",
            "47012d28891242c2a6d63a9fba4cde61",
            "4f64e3c149b042659ab95c138ddbd89f",
            "b66b8782ffab4ef9998662eddb1a5ca2",
            "e45d523e458248f2a4805f718d394223",
            "f381d22c482441a483a596fa4e390da8",
            "96dcba0df9cc44a59cb2d76d82730ef1",
            "7788b403932d4a7795c43190097129d0",
            "d26863d2bd31447b855d7389d0c9aae6",
            "5ca5543a2e8c4ee89be52bb667162eb9",
            "a1ce2c61cb5343789f9edf478fe57804",
            "3552f8d4554546d0941caf547af20c83",
            "f56260f3806c41a195e4222192652799",
            "1b1b6ba5d39e468b93f7fc43761c598f",
            "69c2f6cb18944e749f2e5c95dad2bd60",
            "5a96411f766a433e9e5f20413b720f75",
            "0382fe2261f94889bd6a18d15849b628",
            "6790a490fc8c4b0e88dc12bb54ab5e07",
            "32e85bc3176d48cbb00b7cadf545271b",
            "ae2a3fa40fd3426cb96e877dde4d6096",
            "5c2d05d6a8254a97bef5f4f64c9b89d7",
            "6902250704da4e9f83d2095eb179f63f",
            "08dec262fa1741748426ff74252f2e66",
            "cdd99b6a6d43488d920c53629930b728",
            "6df214b3821d4f97be121ae38f4286e0",
            "e8f31c7ea87545a49352333eb48e94a7",
            "d9963e89350342c1b929dde48ea0f4a2",
            "27bc569a40274b62a4f9d2f29dfbe724",
            "4c7ad71bce02451fa407d79da6c2756c",
            "696bf2fd07af4201b5d6460f29510649",
            "d26a456b6fbd447dae9f6d1746719f0d",
            "786052a8cda342e981c67eeac5fa0a32",
            "7b80e01015ba4a598c96373698a78844",
            "423637d49b254851b29bee68c8831bff",
            "086369ed432044149aef9ed4665a70e4",
            "1513767d0937480eac8526551e6ee47d",
            "5e7d8efd31a64857934a6ec56fec7df3",
            "856a4ff165ec4562a6672b0e5b9847bb",
            "ba116dac655e4d029b53edd67bbce287",
            "a7d88bf2a1024bb7a2ca2b8742fc48e3",
            "e8efc605ad9b45aaa4cb7626fb81c084",
            "1e31f1ed1abf421a8f40d042ccadbaa5",
            "00e4dd52fa044ae78dece3bd6e2f28c8",
            "817b27ee2d23438abe34fd2b683d29ff",
            "64ddc6adf4b14adfaa6ff0751899ee96",
            "5f0653bf51744a4e806a5f59943c5491",
            "a20a6dfda5fd48e4b13b716816de5087",
            "4cb8015768c94d7f98a3580346a28270",
            "c83ebed4bdb54434ba1a2624822777b0",
            "679b216328464c17b8a985910785e71a",
            "151d9a16560649aa9acbe2972fc4de38",
            "96838d3dbb9f445a848103cc78b5e9c8",
            "14604eae5c3e4f63848b7f6cd2b3e224",
            "f0210bd45a3343ec88c9dbb9ef68144b",
            "d9694fb254014657982c50428aec4f37",
            "4ae059e14e57495ebe521d636e039839",
            "94e5480c49e64f0394f4b242e3f6bc6b",
            "5a48f58957714ccc902ca1e01b4bebb7",
            "c4b168f616d140679e49251db989707b",
            "ba4502639ad54a49b4ae73cb11a31b40",
            "108103797f3c4b09897484e946a222a7",
            "75758d6e53c64bc6bac75a1fe1d92bc1",
            "4a8a8f694971461d9366cd7ea9a53743",
            "7d4283b9e89b46d0b72c991cbda5f123",
            "defb0c3c3c534a69bc702286422aec59",
            "e6ff010dfaaa46089c406de78db02b4c",
            "ba6d273205054c7c8894195aeef2c8d4",
            "56d6725ea8184d9c98a798da0acd9374",
            "989cfde3022c4051aabccb9ccb719198",
            "c964601f60944e9ab171eee287092b6a",
            "6d71f7d89dfa46119bdc429414226149",
            "ce12e3bc34ea420e96851b79c542ddbb",
            "ab0e305dc3fb4959921a39619bd38bcf",
            "a24f99e64a574ba69b461a7e39cd4abf",
            "d604ed3f928848e1b3c307a5f1f2658b",
            "b7e5f30e78424183921d8618e9b7b274",
            "0d5d866d7a7b42719173765594cd8f0b",
            "dff390ade1a542ad9bd20fd668832355",
            "87ac1966de6146cfb0b0aa4f5a3ccdcb",
            "d2876fa8661d477399926135bf734d11",
            "0099bcf08693428ebcc39b3432012559",
            "7664eed0c18741989dab56bd37e5a443",
            "348944b0edcf407e9c8a6ff1084a61cf",
            "fef59525b1cc49208bc52852b00eedda",
            "13a4e6574c7f4f8da25d00011765ced8",
            "14149a2fbe0e4cfeb374fc7b41a262a0",
            "feb005a0b8334bbdae991848b9a4dc7b"
          ]
        },
        "outputId": "e9168b0b-4f19-4d50-c7f3-c9a139c1a390"
      },
      "outputs": [
        {
          "output_type": "display_data",
          "data": {
            "text/plain": [
              "<IPython.core.display.HTML object>"
            ],
            "text/html": [
              "Finishing last run (ID:3cb6ahty) before initializing another..."
            ]
          },
          "metadata": {}
        },
        {
          "output_type": "display_data",
          "data": {
            "text/plain": [
              "<IPython.core.display.HTML object>"
            ],
            "text/html": [
              "Waiting for W&B process to finish... <strong style=\"color:green\">(success).</strong>"
            ]
          },
          "metadata": {}
        },
        {
          "output_type": "display_data",
          "data": {
            "text/plain": [
              "VBox(children=(Label(value='0.001 MB of 0.001 MB uploaded (0.000 MB deduped)\\r'), FloatProgress(value=1.0, max…"
            ],
            "application/vnd.jupyter.widget-view+json": {
              "version_major": 2,
              "version_minor": 0,
              "model_id": "f48361671a904525a38d70a61f22b21e"
            }
          },
          "metadata": {}
        },
        {
          "output_type": "display_data",
          "data": {
            "text/plain": [
              "<IPython.core.display.HTML object>"
            ],
            "text/html": [
              "Synced <strong style=\"color:#cdcd00\">MLP</strong>: <a href=\"https://wandb.ai/ahsen/NIDS/runs/3cb6ahty\" target=\"_blank\">https://wandb.ai/ahsen/NIDS/runs/3cb6ahty</a><br/>Synced 5 W&B file(s), 0 media file(s), 0 artifact file(s) and 0 other file(s)"
            ]
          },
          "metadata": {}
        },
        {
          "output_type": "display_data",
          "data": {
            "text/plain": [
              "<IPython.core.display.HTML object>"
            ],
            "text/html": [
              "Find logs at: <code>./wandb/run-20220430_021632-3cb6ahty/logs</code>"
            ]
          },
          "metadata": {}
        },
        {
          "output_type": "display_data",
          "data": {
            "text/plain": [
              "<IPython.core.display.HTML object>"
            ],
            "text/html": [
              "Successfully finished last run (ID:3cb6ahty). Initializing new run:<br/>"
            ]
          },
          "metadata": {}
        },
        {
          "output_type": "display_data",
          "data": {
            "text/plain": [
              "<IPython.core.display.HTML object>"
            ],
            "text/html": [
              "Tracking run with wandb version 0.12.15"
            ]
          },
          "metadata": {}
        },
        {
          "output_type": "display_data",
          "data": {
            "text/plain": [
              "<IPython.core.display.HTML object>"
            ],
            "text/html": [
              "Run data is saved locally in <code>/content/wandb/run-20220430_021725-19vvuixf</code>"
            ]
          },
          "metadata": {}
        },
        {
          "output_type": "display_data",
          "data": {
            "text/plain": [
              "<IPython.core.display.HTML object>"
            ],
            "text/html": [
              "Syncing run <strong><a href=\"https://wandb.ai/ahsen/NIDS/runs/19vvuixf\" target=\"_blank\">MLP</a></strong> to <a href=\"https://wandb.ai/ahsen/NIDS\" target=\"_blank\">Weights & Biases</a> (<a href=\"https://wandb.me/run\" target=\"_blank\">docs</a>)<br/>"
            ]
          },
          "metadata": {}
        },
        {
          "output_type": "stream",
          "name": "stdout",
          "text": [
            "===============================================\n",
            "Batch Size:32\tEpochs:30\tLR:0.004\n",
            "------------------------------------------------\n",
            "Epoch:1  \tLoss:0.1898\t Acc: 0.7790\n",
            "------------------------------------------------\n",
            "Epoch:2  \tLoss:0.1543\t Acc: 0.7890\n",
            "------------------------------------------------\n",
            "Epoch:3  \tLoss:0.0977\t Acc: 0.7779\n",
            "------------------------------------------------\n",
            "Epoch:4  \tLoss:0.0746\t Acc: 0.7835\n",
            "------------------------------------------------\n",
            "Epoch:5  \tLoss:0.0658\t Acc: 0.7873\n",
            "------------------------------------------------\n",
            "Epoch:6  \tLoss:0.0353\t Acc: 0.7886\n",
            "------------------------------------------------\n",
            "Epoch:7  \tLoss:0.0336\t Acc: 0.7715\n",
            "------------------------------------------------\n",
            "Epoch:8  \tLoss:0.0337\t Acc: 0.7810\n",
            "------------------------------------------------\n",
            "Epoch:9  \tLoss:0.0515\t Acc: 0.7782\n",
            "------------------------------------------------\n",
            "Epoch:10  \tLoss:0.0416\t Acc: 0.7838\n",
            "------------------------------------------------\n",
            "Epoch:11  \tLoss:0.0246\t Acc: 0.7838\n",
            "------------------------------------------------\n",
            "Epoch:12  \tLoss:0.0285\t Acc: 0.7846\n",
            "------------------------------------------------\n",
            "Epoch:13  \tLoss:0.0346\t Acc: 0.7598\n",
            "------------------------------------------------\n",
            "Epoch:14  \tLoss:0.0441\t Acc: 0.7930\n",
            "------------------------------------------------\n",
            "Epoch:15  \tLoss:0.0343\t Acc: 0.7787\n",
            "------------------------------------------------\n",
            "Epoch:16  \tLoss:0.0242\t Acc: 0.7810\n",
            "------------------------------------------------\n",
            "Epoch:17  \tLoss:0.0294\t Acc: 0.7677\n",
            "------------------------------------------------\n",
            "Epoch:18  \tLoss:0.0184\t Acc: 0.7698\n",
            "------------------------------------------------\n",
            "Epoch:19  \tLoss:0.0166\t Acc: 0.7720\n",
            "------------------------------------------------\n",
            "Epoch:20  \tLoss:0.0184\t Acc: 0.7955\n",
            "------------------------------------------------\n",
            "Epoch:21  \tLoss:0.0245\t Acc: 0.7749\n",
            "------------------------------------------------\n",
            "Epoch:22  \tLoss:0.0189\t Acc: 0.7754\n",
            "------------------------------------------------\n",
            "Epoch:23  \tLoss:0.0230\t Acc: 0.7730\n",
            "------------------------------------------------\n",
            "Epoch:24  \tLoss:0.0216\t Acc: 0.7837\n",
            "------------------------------------------------\n",
            "Epoch:25  \tLoss:0.0288\t Acc: 0.7814\n",
            "------------------------------------------------\n",
            "Epoch:26  \tLoss:0.0220\t Acc: 0.7766\n",
            "------------------------------------------------\n",
            "Epoch:27  \tLoss:0.0522\t Acc: 0.7606\n",
            "------------------------------------------------\n",
            "Epoch:28  \tLoss:0.0327\t Acc: 0.7828\n",
            "------------------------------------------------\n",
            "Epoch:29  \tLoss:0.0265\t Acc: 0.7771\n",
            "------------------------------------------------\n",
            "Epoch:30  \tLoss:0.0158\t Acc: 0.7819\n",
            "*************************************************\n",
            "Final Score for (B:32, Ep:30, LR:0.004)\n",
            "Acc: 0.7819\n"
          ]
        },
        {
          "output_type": "display_data",
          "data": {
            "text/plain": [
              "<IPython.core.display.HTML object>"
            ],
            "text/html": [
              "Waiting for W&B process to finish... <strong style=\"color:green\">(success).</strong>"
            ]
          },
          "metadata": {}
        },
        {
          "output_type": "display_data",
          "data": {
            "text/plain": [
              "VBox(children=(Label(value='0.001 MB of 0.001 MB uploaded (0.000 MB deduped)\\r'), FloatProgress(value=1.0, max…"
            ],
            "application/vnd.jupyter.widget-view+json": {
              "version_major": 2,
              "version_minor": 0,
              "model_id": "d960205b08a94a9292a6b6fd2097403a"
            }
          },
          "metadata": {}
        },
        {
          "output_type": "display_data",
          "data": {
            "text/plain": [
              "<IPython.core.display.HTML object>"
            ],
            "text/html": [
              "<style>\n",
              "    table.wandb td:nth-child(1) { padding: 0 10px; text-align: right }\n",
              "    .wandb-row { display: flex; flex-direction: row; flex-wrap: wrap; width: 100% }\n",
              "    .wandb-col { display: flex; flex-direction: column; flex-basis: 100%; flex: 1; padding: 10px; }\n",
              "    </style>\n",
              "<div class=\"wandb-row\"><div class=\"wandb-col\"><h3>Run history:</h3><br/><table class=\"wandb\"><tr><td>loss</td><td>█▇▄▃▃▂▂▂▂▂▁▂▂▂▂▁▂▁▁▁▁▁▁▁▂▁▂▂▁▁</td></tr></table><br/></div><div class=\"wandb-col\"><h3>Run summary:</h3><br/><table class=\"wandb\"><tr><td>loss</td><td>0.01582</td></tr></table><br/></div></div>"
            ]
          },
          "metadata": {}
        },
        {
          "output_type": "display_data",
          "data": {
            "text/plain": [
              "<IPython.core.display.HTML object>"
            ],
            "text/html": [
              "Synced <strong style=\"color:#cdcd00\">MLP</strong>: <a href=\"https://wandb.ai/ahsen/NIDS/runs/19vvuixf\" target=\"_blank\">https://wandb.ai/ahsen/NIDS/runs/19vvuixf</a><br/>Synced 5 W&B file(s), 0 media file(s), 0 artifact file(s) and 0 other file(s)"
            ]
          },
          "metadata": {}
        },
        {
          "output_type": "display_data",
          "data": {
            "text/plain": [
              "<IPython.core.display.HTML object>"
            ],
            "text/html": [
              "Find logs at: <code>./wandb/run-20220430_021725-19vvuixf/logs</code>"
            ]
          },
          "metadata": {}
        },
        {
          "output_type": "display_data",
          "data": {
            "text/plain": [
              "<IPython.core.display.HTML object>"
            ],
            "text/html": [
              "Tracking run with wandb version 0.12.15"
            ]
          },
          "metadata": {}
        },
        {
          "output_type": "display_data",
          "data": {
            "text/plain": [
              "<IPython.core.display.HTML object>"
            ],
            "text/html": [
              "Run data is saved locally in <code>/content/wandb/run-20220430_021940-3unkfwfb</code>"
            ]
          },
          "metadata": {}
        },
        {
          "output_type": "display_data",
          "data": {
            "text/plain": [
              "<IPython.core.display.HTML object>"
            ],
            "text/html": [
              "Syncing run <strong><a href=\"https://wandb.ai/ahsen/NIDS/runs/3unkfwfb\" target=\"_blank\">MLP</a></strong> to <a href=\"https://wandb.ai/ahsen/NIDS\" target=\"_blank\">Weights & Biases</a> (<a href=\"https://wandb.me/run\" target=\"_blank\">docs</a>)<br/>"
            ]
          },
          "metadata": {}
        },
        {
          "output_type": "stream",
          "name": "stdout",
          "text": [
            "===============================================\n",
            "Batch Size:64\tEpochs:30\tLR:0.004\n",
            "------------------------------------------------\n",
            "Epoch:1  \tLoss:0.1386\t Acc: 0.7689\n",
            "------------------------------------------------\n",
            "Epoch:2  \tLoss:0.0967\t Acc: 0.7585\n",
            "------------------------------------------------\n",
            "Epoch:3  \tLoss:0.0779\t Acc: 0.7684\n",
            "------------------------------------------------\n",
            "Epoch:4  \tLoss:0.0540\t Acc: 0.7694\n",
            "------------------------------------------------\n",
            "Epoch:5  \tLoss:0.0474\t Acc: 0.7770\n",
            "------------------------------------------------\n",
            "Epoch:6  \tLoss:0.0414\t Acc: 0.7773\n",
            "------------------------------------------------\n",
            "Epoch:7  \tLoss:0.0387\t Acc: 0.7781\n",
            "------------------------------------------------\n",
            "Epoch:8  \tLoss:0.0456\t Acc: 0.7630\n",
            "------------------------------------------------\n",
            "Epoch:9  \tLoss:0.0422\t Acc: 0.7710\n",
            "------------------------------------------------\n",
            "Epoch:10  \tLoss:0.0437\t Acc: 0.7702\n",
            "------------------------------------------------\n",
            "Epoch:11  \tLoss:0.0391\t Acc: 0.7639\n",
            "------------------------------------------------\n",
            "Epoch:12  \tLoss:0.0390\t Acc: 0.7625\n",
            "------------------------------------------------\n",
            "Epoch:13  \tLoss:0.0445\t Acc: 0.7634\n",
            "------------------------------------------------\n",
            "Epoch:14  \tLoss:0.0407\t Acc: 0.7700\n",
            "------------------------------------------------\n",
            "Epoch:15  \tLoss:0.0399\t Acc: 0.7691\n",
            "------------------------------------------------\n",
            "Epoch:16  \tLoss:0.0453\t Acc: 0.7706\n",
            "------------------------------------------------\n",
            "Epoch:17  \tLoss:0.0395\t Acc: 0.7736\n",
            "------------------------------------------------\n",
            "Epoch:18  \tLoss:0.0461\t Acc: 0.7592\n",
            "------------------------------------------------\n",
            "Epoch:19  \tLoss:0.0374\t Acc: 0.7764\n",
            "------------------------------------------------\n",
            "Epoch:20  \tLoss:0.0559\t Acc: 0.7748\n",
            "------------------------------------------------\n",
            "Epoch:21  \tLoss:0.0407\t Acc: 0.7780\n",
            "------------------------------------------------\n",
            "Epoch:22  \tLoss:0.0488\t Acc: 0.7786\n",
            "------------------------------------------------\n",
            "Epoch:23  \tLoss:0.0413\t Acc: 0.7810\n",
            "------------------------------------------------\n",
            "Epoch:24  \tLoss:0.0451\t Acc: 0.7811\n",
            "------------------------------------------------\n",
            "Epoch:25  \tLoss:0.0422\t Acc: 0.7828\n",
            "------------------------------------------------\n",
            "Epoch:26  \tLoss:0.0436\t Acc: 0.7814\n",
            "------------------------------------------------\n",
            "Epoch:27  \tLoss:0.0528\t Acc: 0.7768\n",
            "------------------------------------------------\n",
            "Epoch:28  \tLoss:0.0342\t Acc: 0.7719\n",
            "------------------------------------------------\n",
            "Epoch:29  \tLoss:0.0462\t Acc: 0.7790\n",
            "------------------------------------------------\n",
            "Epoch:30  \tLoss:0.0282\t Acc: 0.7739\n",
            "*************************************************\n",
            "Final Score for (B:64, Ep:30, LR:0.004)\n",
            "Acc: 0.7739\n"
          ]
        },
        {
          "output_type": "display_data",
          "data": {
            "text/plain": [
              "<IPython.core.display.HTML object>"
            ],
            "text/html": [
              "Waiting for W&B process to finish... <strong style=\"color:green\">(success).</strong>"
            ]
          },
          "metadata": {}
        },
        {
          "output_type": "display_data",
          "data": {
            "text/plain": [
              "VBox(children=(Label(value='0.001 MB of 0.001 MB uploaded (0.000 MB deduped)\\r'), FloatProgress(value=1.0, max…"
            ],
            "application/vnd.jupyter.widget-view+json": {
              "version_major": 2,
              "version_minor": 0,
              "model_id": "3934683ae180462c8bfe309be0b95289"
            }
          },
          "metadata": {}
        },
        {
          "output_type": "display_data",
          "data": {
            "text/plain": [
              "<IPython.core.display.HTML object>"
            ],
            "text/html": [
              "<style>\n",
              "    table.wandb td:nth-child(1) { padding: 0 10px; text-align: right }\n",
              "    .wandb-row { display: flex; flex-direction: row; flex-wrap: wrap; width: 100% }\n",
              "    .wandb-col { display: flex; flex-direction: column; flex-basis: 100%; flex: 1; padding: 10px; }\n",
              "    </style>\n",
              "<div class=\"wandb-row\"><div class=\"wandb-col\"><h3>Run history:</h3><br/><table class=\"wandb\"><tr><td>loss</td><td>█▅▄▃▂▂▂▂▂▂▂▂▂▂▂▂▂▂▂▃▂▂▂▂▂▂▃▁▂▁</td></tr></table><br/></div><div class=\"wandb-col\"><h3>Run summary:</h3><br/><table class=\"wandb\"><tr><td>loss</td><td>0.02819</td></tr></table><br/></div></div>"
            ]
          },
          "metadata": {}
        },
        {
          "output_type": "display_data",
          "data": {
            "text/plain": [
              "<IPython.core.display.HTML object>"
            ],
            "text/html": [
              "Synced <strong style=\"color:#cdcd00\">MLP</strong>: <a href=\"https://wandb.ai/ahsen/NIDS/runs/3unkfwfb\" target=\"_blank\">https://wandb.ai/ahsen/NIDS/runs/3unkfwfb</a><br/>Synced 5 W&B file(s), 0 media file(s), 0 artifact file(s) and 0 other file(s)"
            ]
          },
          "metadata": {}
        },
        {
          "output_type": "display_data",
          "data": {
            "text/plain": [
              "<IPython.core.display.HTML object>"
            ],
            "text/html": [
              "Find logs at: <code>./wandb/run-20220430_021940-3unkfwfb/logs</code>"
            ]
          },
          "metadata": {}
        },
        {
          "output_type": "display_data",
          "data": {
            "text/plain": [
              "<IPython.core.display.HTML object>"
            ],
            "text/html": [
              "Tracking run with wandb version 0.12.15"
            ]
          },
          "metadata": {}
        },
        {
          "output_type": "display_data",
          "data": {
            "text/plain": [
              "<IPython.core.display.HTML object>"
            ],
            "text/html": [
              "Run data is saved locally in <code>/content/wandb/run-20220430_022052-2ggq30e2</code>"
            ]
          },
          "metadata": {}
        },
        {
          "output_type": "display_data",
          "data": {
            "text/plain": [
              "<IPython.core.display.HTML object>"
            ],
            "text/html": [
              "Syncing run <strong><a href=\"https://wandb.ai/ahsen/NIDS/runs/2ggq30e2\" target=\"_blank\">MLP</a></strong> to <a href=\"https://wandb.ai/ahsen/NIDS\" target=\"_blank\">Weights & Biases</a> (<a href=\"https://wandb.me/run\" target=\"_blank\">docs</a>)<br/>"
            ]
          },
          "metadata": {}
        },
        {
          "output_type": "stream",
          "name": "stdout",
          "text": [
            "===============================================\n",
            "Batch Size:128\tEpochs:30\tLR:0.004\n",
            "------------------------------------------------\n",
            "Epoch:1  \tLoss:0.2070\t Acc: 0.7547\n",
            "------------------------------------------------\n",
            "Epoch:2  \tLoss:0.1695\t Acc: 0.7558\n",
            "------------------------------------------------\n",
            "Epoch:3  \tLoss:0.1432\t Acc: 0.7597\n",
            "------------------------------------------------\n",
            "Epoch:4  \tLoss:0.1340\t Acc: 0.7634\n",
            "------------------------------------------------\n",
            "Epoch:5  \tLoss:0.1319\t Acc: 0.7676\n",
            "------------------------------------------------\n",
            "Epoch:6  \tLoss:0.1146\t Acc: 0.7711\n",
            "------------------------------------------------\n",
            "Epoch:7  \tLoss:0.1078\t Acc: 0.7810\n",
            "------------------------------------------------\n",
            "Epoch:8  \tLoss:0.1022\t Acc: 0.7888\n",
            "------------------------------------------------\n",
            "Epoch:9  \tLoss:0.0955\t Acc: 0.7891\n",
            "------------------------------------------------\n",
            "Epoch:10  \tLoss:0.0887\t Acc: 0.7882\n",
            "------------------------------------------------\n",
            "Epoch:11  \tLoss:0.0848\t Acc: 0.7892\n",
            "------------------------------------------------\n",
            "Epoch:12  \tLoss:0.0819\t Acc: 0.7894\n",
            "------------------------------------------------\n",
            "Epoch:13  \tLoss:0.0795\t Acc: 0.7893\n",
            "------------------------------------------------\n",
            "Epoch:14  \tLoss:0.0766\t Acc: 0.7872\n",
            "------------------------------------------------\n",
            "Epoch:15  \tLoss:0.0738\t Acc: 0.7876\n",
            "------------------------------------------------\n",
            "Epoch:16  \tLoss:0.0706\t Acc: 0.7872\n",
            "------------------------------------------------\n",
            "Epoch:17  \tLoss:0.0658\t Acc: 0.7874\n",
            "------------------------------------------------\n",
            "Epoch:18  \tLoss:0.0622\t Acc: 0.7871\n",
            "------------------------------------------------\n",
            "Epoch:19  \tLoss:0.0573\t Acc: 0.7863\n",
            "------------------------------------------------\n",
            "Epoch:20  \tLoss:0.0521\t Acc: 0.7869\n",
            "------------------------------------------------\n",
            "Epoch:21  \tLoss:0.0474\t Acc: 0.7865\n",
            "------------------------------------------------\n",
            "Epoch:22  \tLoss:0.0445\t Acc: 0.7860\n",
            "------------------------------------------------\n",
            "Epoch:23  \tLoss:0.0428\t Acc: 0.7859\n",
            "------------------------------------------------\n",
            "Epoch:24  \tLoss:0.0429\t Acc: 0.7851\n",
            "------------------------------------------------\n",
            "Epoch:25  \tLoss:0.0413\t Acc: 0.7834\n",
            "------------------------------------------------\n",
            "Epoch:26  \tLoss:0.0406\t Acc: 0.7814\n",
            "------------------------------------------------\n",
            "Epoch:27  \tLoss:0.0421\t Acc: 0.7815\n",
            "------------------------------------------------\n",
            "Epoch:28  \tLoss:0.0409\t Acc: 0.7794\n",
            "------------------------------------------------\n",
            "Epoch:29  \tLoss:0.0384\t Acc: 0.7785\n",
            "------------------------------------------------\n",
            "Epoch:30  \tLoss:0.0386\t Acc: 0.7769\n",
            "*************************************************\n",
            "Final Score for (B:128, Ep:30, LR:0.004)\n",
            "Acc: 0.7769\n"
          ]
        },
        {
          "output_type": "display_data",
          "data": {
            "text/plain": [
              "<IPython.core.display.HTML object>"
            ],
            "text/html": [
              "Waiting for W&B process to finish... <strong style=\"color:green\">(success).</strong>"
            ]
          },
          "metadata": {}
        },
        {
          "output_type": "display_data",
          "data": {
            "text/plain": [
              "VBox(children=(Label(value='0.001 MB of 0.001 MB uploaded (0.000 MB deduped)\\r'), FloatProgress(value=1.0, max…"
            ],
            "application/vnd.jupyter.widget-view+json": {
              "version_major": 2,
              "version_minor": 0,
              "model_id": "577a40e7378d46488ce6f65c9ff5514f"
            }
          },
          "metadata": {}
        },
        {
          "output_type": "display_data",
          "data": {
            "text/plain": [
              "<IPython.core.display.HTML object>"
            ],
            "text/html": [
              "<style>\n",
              "    table.wandb td:nth-child(1) { padding: 0 10px; text-align: right }\n",
              "    .wandb-row { display: flex; flex-direction: row; flex-wrap: wrap; width: 100% }\n",
              "    .wandb-col { display: flex; flex-direction: column; flex-basis: 100%; flex: 1; padding: 10px; }\n",
              "    </style>\n",
              "<div class=\"wandb-row\"><div class=\"wandb-col\"><h3>Run history:</h3><br/><table class=\"wandb\"><tr><td>loss</td><td>█▆▅▅▅▄▄▄▃▃▃▃▃▃▂▂▂▂▂▂▁▁▁▁▁▁▁▁▁▁</td></tr></table><br/></div><div class=\"wandb-col\"><h3>Run summary:</h3><br/><table class=\"wandb\"><tr><td>loss</td><td>0.03858</td></tr></table><br/></div></div>"
            ]
          },
          "metadata": {}
        },
        {
          "output_type": "display_data",
          "data": {
            "text/plain": [
              "<IPython.core.display.HTML object>"
            ],
            "text/html": [
              "Synced <strong style=\"color:#cdcd00\">MLP</strong>: <a href=\"https://wandb.ai/ahsen/NIDS/runs/2ggq30e2\" target=\"_blank\">https://wandb.ai/ahsen/NIDS/runs/2ggq30e2</a><br/>Synced 5 W&B file(s), 0 media file(s), 0 artifact file(s) and 0 other file(s)"
            ]
          },
          "metadata": {}
        },
        {
          "output_type": "display_data",
          "data": {
            "text/plain": [
              "<IPython.core.display.HTML object>"
            ],
            "text/html": [
              "Find logs at: <code>./wandb/run-20220430_022052-2ggq30e2/logs</code>"
            ]
          },
          "metadata": {}
        },
        {
          "output_type": "display_data",
          "data": {
            "text/plain": [
              "<IPython.core.display.HTML object>"
            ],
            "text/html": [
              "Tracking run with wandb version 0.12.15"
            ]
          },
          "metadata": {}
        },
        {
          "output_type": "display_data",
          "data": {
            "text/plain": [
              "<IPython.core.display.HTML object>"
            ],
            "text/html": [
              "Run data is saved locally in <code>/content/wandb/run-20220430_022146-1j9t5vbq</code>"
            ]
          },
          "metadata": {}
        },
        {
          "output_type": "display_data",
          "data": {
            "text/plain": [
              "<IPython.core.display.HTML object>"
            ],
            "text/html": [
              "Syncing run <strong><a href=\"https://wandb.ai/ahsen/NIDS/runs/1j9t5vbq\" target=\"_blank\">MLP</a></strong> to <a href=\"https://wandb.ai/ahsen/NIDS\" target=\"_blank\">Weights & Biases</a> (<a href=\"https://wandb.me/run\" target=\"_blank\">docs</a>)<br/>"
            ]
          },
          "metadata": {}
        },
        {
          "output_type": "stream",
          "name": "stdout",
          "text": [
            "===============================================\n",
            "Batch Size:256\tEpochs:30\tLR:0.004\n",
            "------------------------------------------------\n",
            "Epoch:1  \tLoss:0.1979\t Acc: 0.7830\n",
            "------------------------------------------------\n",
            "Epoch:2  \tLoss:0.1692\t Acc: 0.7825\n",
            "------------------------------------------------\n",
            "Epoch:3  \tLoss:0.1551\t Acc: 0.7867\n",
            "------------------------------------------------\n",
            "Epoch:4  \tLoss:0.1474\t Acc: 0.7903\n",
            "------------------------------------------------\n",
            "Epoch:5  \tLoss:0.1472\t Acc: 0.7901\n",
            "------------------------------------------------\n",
            "Epoch:6  \tLoss:0.1492\t Acc: 0.7909\n",
            "------------------------------------------------\n",
            "Epoch:7  \tLoss:0.1546\t Acc: 0.7903\n",
            "------------------------------------------------\n",
            "Epoch:8  \tLoss:0.1573\t Acc: 0.7897\n",
            "------------------------------------------------\n",
            "Epoch:9  \tLoss:0.1551\t Acc: 0.7847\n",
            "------------------------------------------------\n",
            "Epoch:10  \tLoss:0.1439\t Acc: 0.7769\n",
            "------------------------------------------------\n",
            "Epoch:11  \tLoss:0.1420\t Acc: 0.7735\n",
            "------------------------------------------------\n",
            "Epoch:12  \tLoss:0.1423\t Acc: 0.7724\n",
            "------------------------------------------------\n",
            "Epoch:13  \tLoss:0.1406\t Acc: 0.7714\n",
            "------------------------------------------------\n",
            "Epoch:14  \tLoss:0.1349\t Acc: 0.7710\n",
            "------------------------------------------------\n",
            "Epoch:15  \tLoss:0.1341\t Acc: 0.7709\n",
            "------------------------------------------------\n",
            "Epoch:16  \tLoss:0.1334\t Acc: 0.7706\n",
            "------------------------------------------------\n",
            "Epoch:17  \tLoss:0.1319\t Acc: 0.7703\n",
            "------------------------------------------------\n",
            "Epoch:18  \tLoss:0.1296\t Acc: 0.7705\n",
            "------------------------------------------------\n",
            "Epoch:19  \tLoss:0.1272\t Acc: 0.7706\n",
            "------------------------------------------------\n",
            "Epoch:20  \tLoss:0.1244\t Acc: 0.7708\n",
            "------------------------------------------------\n",
            "Epoch:21  \tLoss:0.1213\t Acc: 0.7719\n",
            "------------------------------------------------\n",
            "Epoch:22  \tLoss:0.1178\t Acc: 0.7735\n",
            "------------------------------------------------\n",
            "Epoch:23  \tLoss:0.1145\t Acc: 0.7744\n",
            "------------------------------------------------\n",
            "Epoch:24  \tLoss:0.1109\t Acc: 0.7736\n",
            "------------------------------------------------\n",
            "Epoch:25  \tLoss:0.1061\t Acc: 0.7745\n",
            "------------------------------------------------\n",
            "Epoch:26  \tLoss:0.1001\t Acc: 0.7743\n",
            "------------------------------------------------\n",
            "Epoch:27  \tLoss:0.0963\t Acc: 0.7727\n",
            "------------------------------------------------\n",
            "Epoch:28  \tLoss:0.0917\t Acc: 0.7764\n",
            "------------------------------------------------\n",
            "Epoch:29  \tLoss:0.0881\t Acc: 0.7779\n",
            "------------------------------------------------\n",
            "Epoch:30  \tLoss:0.0844\t Acc: 0.7796\n",
            "*************************************************\n",
            "Final Score for (B:256, Ep:30, LR:0.004)\n",
            "Acc: 0.7796\n"
          ]
        },
        {
          "output_type": "display_data",
          "data": {
            "text/plain": [
              "<IPython.core.display.HTML object>"
            ],
            "text/html": [
              "Waiting for W&B process to finish... <strong style=\"color:green\">(success).</strong>"
            ]
          },
          "metadata": {}
        },
        {
          "output_type": "display_data",
          "data": {
            "text/plain": [
              "VBox(children=(Label(value='0.001 MB of 0.001 MB uploaded (0.000 MB deduped)\\r'), FloatProgress(value=1.0, max…"
            ],
            "application/vnd.jupyter.widget-view+json": {
              "version_major": 2,
              "version_minor": 0,
              "model_id": "4333c37aa94d4a9bb50cd032b4eee64a"
            }
          },
          "metadata": {}
        },
        {
          "output_type": "display_data",
          "data": {
            "text/plain": [
              "<IPython.core.display.HTML object>"
            ],
            "text/html": [
              "<style>\n",
              "    table.wandb td:nth-child(1) { padding: 0 10px; text-align: right }\n",
              "    .wandb-row { display: flex; flex-direction: row; flex-wrap: wrap; width: 100% }\n",
              "    .wandb-col { display: flex; flex-direction: column; flex-basis: 100%; flex: 1; padding: 10px; }\n",
              "    </style>\n",
              "<div class=\"wandb-row\"><div class=\"wandb-col\"><h3>Run history:</h3><br/><table class=\"wandb\"><tr><td>loss</td><td>█▆▅▅▅▅▅▅▅▅▅▅▄▄▄▄▄▄▄▃▃▃▃▃▂▂▂▁▁▁</td></tr></table><br/></div><div class=\"wandb-col\"><h3>Run summary:</h3><br/><table class=\"wandb\"><tr><td>loss</td><td>0.0844</td></tr></table><br/></div></div>"
            ]
          },
          "metadata": {}
        },
        {
          "output_type": "display_data",
          "data": {
            "text/plain": [
              "<IPython.core.display.HTML object>"
            ],
            "text/html": [
              "Synced <strong style=\"color:#cdcd00\">MLP</strong>: <a href=\"https://wandb.ai/ahsen/NIDS/runs/1j9t5vbq\" target=\"_blank\">https://wandb.ai/ahsen/NIDS/runs/1j9t5vbq</a><br/>Synced 5 W&B file(s), 0 media file(s), 0 artifact file(s) and 0 other file(s)"
            ]
          },
          "metadata": {}
        },
        {
          "output_type": "display_data",
          "data": {
            "text/plain": [
              "<IPython.core.display.HTML object>"
            ],
            "text/html": [
              "Find logs at: <code>./wandb/run-20220430_022146-1j9t5vbq/logs</code>"
            ]
          },
          "metadata": {}
        },
        {
          "output_type": "display_data",
          "data": {
            "text/plain": [
              "<IPython.core.display.HTML object>"
            ],
            "text/html": [
              "Tracking run with wandb version 0.12.15"
            ]
          },
          "metadata": {}
        },
        {
          "output_type": "display_data",
          "data": {
            "text/plain": [
              "<IPython.core.display.HTML object>"
            ],
            "text/html": [
              "Run data is saved locally in <code>/content/wandb/run-20220430_022232-2ay826p9</code>"
            ]
          },
          "metadata": {}
        },
        {
          "output_type": "display_data",
          "data": {
            "text/plain": [
              "<IPython.core.display.HTML object>"
            ],
            "text/html": [
              "Syncing run <strong><a href=\"https://wandb.ai/ahsen/NIDS/runs/2ay826p9\" target=\"_blank\">MLP</a></strong> to <a href=\"https://wandb.ai/ahsen/NIDS\" target=\"_blank\">Weights & Biases</a> (<a href=\"https://wandb.me/run\" target=\"_blank\">docs</a>)<br/>"
            ]
          },
          "metadata": {}
        },
        {
          "output_type": "stream",
          "name": "stdout",
          "text": [
            "===============================================\n",
            "Batch Size:32\tEpochs:30\tLR:0.01\n",
            "------------------------------------------------\n",
            "Epoch:1  \tLoss:0.1088\t Acc: 0.7782\n",
            "------------------------------------------------\n",
            "Epoch:2  \tLoss:0.0521\t Acc: 0.7897\n",
            "------------------------------------------------\n",
            "Epoch:3  \tLoss:0.0412\t Acc: 0.7883\n",
            "------------------------------------------------\n",
            "Epoch:4  \tLoss:0.0361\t Acc: 0.7878\n",
            "------------------------------------------------\n",
            "Epoch:5  \tLoss:0.0284\t Acc: 0.7832\n",
            "------------------------------------------------\n",
            "Epoch:6  \tLoss:0.0344\t Acc: 0.7589\n",
            "------------------------------------------------\n",
            "Epoch:7  \tLoss:0.0363\t Acc: 0.7761\n",
            "------------------------------------------------\n",
            "Epoch:8  \tLoss:0.0360\t Acc: 0.7746\n",
            "------------------------------------------------\n",
            "Epoch:9  \tLoss:0.0221\t Acc: 0.7652\n",
            "------------------------------------------------\n",
            "Epoch:10  \tLoss:0.0608\t Acc: 0.7901\n",
            "------------------------------------------------\n",
            "Epoch:11  \tLoss:0.0445\t Acc: 0.7886\n",
            "------------------------------------------------\n",
            "Epoch:12  \tLoss:0.0320\t Acc: 0.8051\n",
            "------------------------------------------------\n",
            "Epoch:13  \tLoss:0.0363\t Acc: 0.7985\n",
            "------------------------------------------------\n",
            "Epoch:14  \tLoss:0.0419\t Acc: 0.7900\n",
            "------------------------------------------------\n",
            "Epoch:15  \tLoss:0.0247\t Acc: 0.7867\n",
            "------------------------------------------------\n",
            "Epoch:16  \tLoss:0.0260\t Acc: 0.7930\n",
            "------------------------------------------------\n",
            "Epoch:17  \tLoss:0.0615\t Acc: 0.7786\n",
            "------------------------------------------------\n",
            "Epoch:18  \tLoss:0.0326\t Acc: 0.7930\n",
            "------------------------------------------------\n",
            "Epoch:19  \tLoss:0.0522\t Acc: 0.7983\n",
            "------------------------------------------------\n",
            "Epoch:20  \tLoss:0.0367\t Acc: 0.7818\n",
            "------------------------------------------------\n",
            "Epoch:21  \tLoss:0.0232\t Acc: 0.7723\n",
            "------------------------------------------------\n",
            "Epoch:22  \tLoss:0.0289\t Acc: 0.7766\n",
            "------------------------------------------------\n",
            "Epoch:23  \tLoss:0.0196\t Acc: 0.7924\n",
            "------------------------------------------------\n",
            "Epoch:24  \tLoss:0.0236\t Acc: 0.7895\n",
            "------------------------------------------------\n",
            "Epoch:25  \tLoss:0.0228\t Acc: 0.7810\n",
            "------------------------------------------------\n",
            "Epoch:26  \tLoss:0.0169\t Acc: 0.7795\n",
            "------------------------------------------------\n",
            "Epoch:27  \tLoss:0.0164\t Acc: 0.7840\n",
            "------------------------------------------------\n",
            "Epoch:28  \tLoss:0.0163\t Acc: 0.7811\n",
            "------------------------------------------------\n",
            "Epoch:29  \tLoss:0.0211\t Acc: 0.7752\n",
            "------------------------------------------------\n",
            "Epoch:30  \tLoss:0.0177\t Acc: 0.7818\n",
            "*************************************************\n",
            "Final Score for (B:32, Ep:30, LR:0.01)\n",
            "Acc: 0.7818\n"
          ]
        },
        {
          "output_type": "display_data",
          "data": {
            "text/plain": [
              "<IPython.core.display.HTML object>"
            ],
            "text/html": [
              "Waiting for W&B process to finish... <strong style=\"color:green\">(success).</strong>"
            ]
          },
          "metadata": {}
        },
        {
          "output_type": "display_data",
          "data": {
            "text/plain": [
              "VBox(children=(Label(value='0.001 MB of 0.001 MB uploaded (0.000 MB deduped)\\r'), FloatProgress(value=1.0, max…"
            ],
            "application/vnd.jupyter.widget-view+json": {
              "version_major": 2,
              "version_minor": 0,
              "model_id": "99affef8b1ed4a948bf510d9a32da2f5"
            }
          },
          "metadata": {}
        },
        {
          "output_type": "display_data",
          "data": {
            "text/plain": [
              "<IPython.core.display.HTML object>"
            ],
            "text/html": [
              "<style>\n",
              "    table.wandb td:nth-child(1) { padding: 0 10px; text-align: right }\n",
              "    .wandb-row { display: flex; flex-direction: row; flex-wrap: wrap; width: 100% }\n",
              "    .wandb-col { display: flex; flex-direction: column; flex-basis: 100%; flex: 1; padding: 10px; }\n",
              "    </style>\n",
              "<div class=\"wandb-row\"><div class=\"wandb-col\"><h3>Run history:</h3><br/><table class=\"wandb\"><tr><td>loss</td><td>█▄▃▂▂▂▃▂▁▄▃▂▃▃▂▂▄▂▄▃▂▂▁▂▁▁▁▁▁▁</td></tr></table><br/></div><div class=\"wandb-col\"><h3>Run summary:</h3><br/><table class=\"wandb\"><tr><td>loss</td><td>0.01766</td></tr></table><br/></div></div>"
            ]
          },
          "metadata": {}
        },
        {
          "output_type": "display_data",
          "data": {
            "text/plain": [
              "<IPython.core.display.HTML object>"
            ],
            "text/html": [
              "Synced <strong style=\"color:#cdcd00\">MLP</strong>: <a href=\"https://wandb.ai/ahsen/NIDS/runs/2ay826p9\" target=\"_blank\">https://wandb.ai/ahsen/NIDS/runs/2ay826p9</a><br/>Synced 5 W&B file(s), 0 media file(s), 0 artifact file(s) and 0 other file(s)"
            ]
          },
          "metadata": {}
        },
        {
          "output_type": "display_data",
          "data": {
            "text/plain": [
              "<IPython.core.display.HTML object>"
            ],
            "text/html": [
              "Find logs at: <code>./wandb/run-20220430_022232-2ay826p9/logs</code>"
            ]
          },
          "metadata": {}
        },
        {
          "output_type": "display_data",
          "data": {
            "text/plain": [
              "<IPython.core.display.HTML object>"
            ],
            "text/html": [
              "Tracking run with wandb version 0.12.15"
            ]
          },
          "metadata": {}
        },
        {
          "output_type": "display_data",
          "data": {
            "text/plain": [
              "<IPython.core.display.HTML object>"
            ],
            "text/html": [
              "Run data is saved locally in <code>/content/wandb/run-20220430_022424-3n2bmk8g</code>"
            ]
          },
          "metadata": {}
        },
        {
          "output_type": "display_data",
          "data": {
            "text/plain": [
              "<IPython.core.display.HTML object>"
            ],
            "text/html": [
              "Syncing run <strong><a href=\"https://wandb.ai/ahsen/NIDS/runs/3n2bmk8g\" target=\"_blank\">MLP</a></strong> to <a href=\"https://wandb.ai/ahsen/NIDS\" target=\"_blank\">Weights & Biases</a> (<a href=\"https://wandb.me/run\" target=\"_blank\">docs</a>)<br/>"
            ]
          },
          "metadata": {}
        },
        {
          "output_type": "stream",
          "name": "stdout",
          "text": [
            "===============================================\n",
            "Batch Size:64\tEpochs:30\tLR:0.01\n",
            "------------------------------------------------\n",
            "Epoch:1  \tLoss:0.1342\t Acc: 0.7846\n",
            "------------------------------------------------\n",
            "Epoch:2  \tLoss:0.1270\t Acc: 0.7701\n",
            "------------------------------------------------\n",
            "Epoch:3  \tLoss:0.0939\t Acc: 0.7694\n",
            "------------------------------------------------\n",
            "Epoch:4  \tLoss:0.0874\t Acc: 0.7773\n",
            "------------------------------------------------\n",
            "Epoch:5  \tLoss:0.0785\t Acc: 0.7911\n",
            "------------------------------------------------\n",
            "Epoch:6  \tLoss:0.0668\t Acc: 0.7885\n",
            "------------------------------------------------\n",
            "Epoch:7  \tLoss:0.0456\t Acc: 0.7904\n",
            "------------------------------------------------\n",
            "Epoch:8  \tLoss:0.0373\t Acc: 0.7906\n",
            "------------------------------------------------\n",
            "Epoch:9  \tLoss:0.0369\t Acc: 0.7899\n",
            "------------------------------------------------\n",
            "Epoch:10  \tLoss:0.0539\t Acc: 0.7948\n",
            "------------------------------------------------\n",
            "Epoch:11  \tLoss:0.0485\t Acc: 0.7939\n",
            "------------------------------------------------\n",
            "Epoch:12  \tLoss:0.0430\t Acc: 0.7947\n",
            "------------------------------------------------\n",
            "Epoch:13  \tLoss:0.0404\t Acc: 0.7928\n",
            "------------------------------------------------\n",
            "Epoch:14  \tLoss:0.0438\t Acc: 0.7950\n",
            "------------------------------------------------\n",
            "Epoch:15  \tLoss:0.0534\t Acc: 0.7943\n",
            "------------------------------------------------\n",
            "Epoch:16  \tLoss:0.0249\t Acc: 0.7960\n",
            "------------------------------------------------\n",
            "Epoch:17  \tLoss:0.0343\t Acc: 0.7918\n",
            "------------------------------------------------\n",
            "Epoch:18  \tLoss:0.0373\t Acc: 0.7908\n",
            "------------------------------------------------\n",
            "Epoch:19  \tLoss:0.0296\t Acc: 0.7922\n",
            "------------------------------------------------\n",
            "Epoch:20  \tLoss:0.0551\t Acc: 0.7910\n",
            "------------------------------------------------\n",
            "Epoch:21  \tLoss:0.0408\t Acc: 0.7937\n",
            "------------------------------------------------\n",
            "Epoch:22  \tLoss:0.0823\t Acc: 0.7867\n",
            "------------------------------------------------\n",
            "Epoch:23  \tLoss:0.0533\t Acc: 0.7905\n",
            "------------------------------------------------\n",
            "Epoch:24  \tLoss:0.0298\t Acc: 0.7859\n",
            "------------------------------------------------\n",
            "Epoch:25  \tLoss:0.0266\t Acc: 0.7873\n",
            "------------------------------------------------\n",
            "Epoch:26  \tLoss:0.0352\t Acc: 0.7893\n",
            "------------------------------------------------\n",
            "Epoch:27  \tLoss:0.0474\t Acc: 0.7841\n",
            "------------------------------------------------\n",
            "Epoch:28  \tLoss:0.0313\t Acc: 0.7851\n",
            "------------------------------------------------\n",
            "Epoch:29  \tLoss:0.0383\t Acc: 0.7835\n",
            "------------------------------------------------\n",
            "Epoch:30  \tLoss:0.0296\t Acc: 0.7787\n",
            "*************************************************\n",
            "Final Score for (B:64, Ep:30, LR:0.01)\n",
            "Acc: 0.7787\n"
          ]
        },
        {
          "output_type": "display_data",
          "data": {
            "text/plain": [
              "<IPython.core.display.HTML object>"
            ],
            "text/html": [
              "Waiting for W&B process to finish... <strong style=\"color:green\">(success).</strong>"
            ]
          },
          "metadata": {}
        },
        {
          "output_type": "display_data",
          "data": {
            "text/plain": [
              "VBox(children=(Label(value='0.001 MB of 0.001 MB uploaded (0.000 MB deduped)\\r'), FloatProgress(value=1.0, max…"
            ],
            "application/vnd.jupyter.widget-view+json": {
              "version_major": 2,
              "version_minor": 0,
              "model_id": "39e8ad7fe2544c6d9a48861623645601"
            }
          },
          "metadata": {}
        },
        {
          "output_type": "display_data",
          "data": {
            "text/plain": [
              "<IPython.core.display.HTML object>"
            ],
            "text/html": [
              "<style>\n",
              "    table.wandb td:nth-child(1) { padding: 0 10px; text-align: right }\n",
              "    .wandb-row { display: flex; flex-direction: row; flex-wrap: wrap; width: 100% }\n",
              "    .wandb-col { display: flex; flex-direction: column; flex-basis: 100%; flex: 1; padding: 10px; }\n",
              "    </style>\n",
              "<div class=\"wandb-row\"><div class=\"wandb-col\"><h3>Run history:</h3><br/><table class=\"wandb\"><tr><td>loss</td><td>██▅▅▄▄▂▂▂▃▃▂▂▂▃▁▂▂▁▃▂▅▃▁▁▂▂▁▂▁</td></tr></table><br/></div><div class=\"wandb-col\"><h3>Run summary:</h3><br/><table class=\"wandb\"><tr><td>loss</td><td>0.02962</td></tr></table><br/></div></div>"
            ]
          },
          "metadata": {}
        },
        {
          "output_type": "display_data",
          "data": {
            "text/plain": [
              "<IPython.core.display.HTML object>"
            ],
            "text/html": [
              "Synced <strong style=\"color:#cdcd00\">MLP</strong>: <a href=\"https://wandb.ai/ahsen/NIDS/runs/3n2bmk8g\" target=\"_blank\">https://wandb.ai/ahsen/NIDS/runs/3n2bmk8g</a><br/>Synced 5 W&B file(s), 0 media file(s), 0 artifact file(s) and 0 other file(s)"
            ]
          },
          "metadata": {}
        },
        {
          "output_type": "display_data",
          "data": {
            "text/plain": [
              "<IPython.core.display.HTML object>"
            ],
            "text/html": [
              "Find logs at: <code>./wandb/run-20220430_022424-3n2bmk8g/logs</code>"
            ]
          },
          "metadata": {}
        },
        {
          "output_type": "display_data",
          "data": {
            "text/plain": [
              "<IPython.core.display.HTML object>"
            ],
            "text/html": [
              "Tracking run with wandb version 0.12.15"
            ]
          },
          "metadata": {}
        },
        {
          "output_type": "display_data",
          "data": {
            "text/plain": [
              "<IPython.core.display.HTML object>"
            ],
            "text/html": [
              "Run data is saved locally in <code>/content/wandb/run-20220430_022535-1xhb4ts9</code>"
            ]
          },
          "metadata": {}
        },
        {
          "output_type": "display_data",
          "data": {
            "text/plain": [
              "<IPython.core.display.HTML object>"
            ],
            "text/html": [
              "Syncing run <strong><a href=\"https://wandb.ai/ahsen/NIDS/runs/1xhb4ts9\" target=\"_blank\">MLP</a></strong> to <a href=\"https://wandb.ai/ahsen/NIDS\" target=\"_blank\">Weights & Biases</a> (<a href=\"https://wandb.me/run\" target=\"_blank\">docs</a>)<br/>"
            ]
          },
          "metadata": {}
        },
        {
          "output_type": "stream",
          "name": "stdout",
          "text": [
            "===============================================\n",
            "Batch Size:128\tEpochs:30\tLR:0.01\n",
            "------------------------------------------------\n",
            "Epoch:1  \tLoss:0.1720\t Acc: 0.7799\n",
            "------------------------------------------------\n",
            "Epoch:2  \tLoss:0.1336\t Acc: 0.7836\n",
            "------------------------------------------------\n",
            "Epoch:3  \tLoss:0.1149\t Acc: 0.8116\n",
            "------------------------------------------------\n",
            "Epoch:4  \tLoss:0.1211\t Acc: 0.8186\n",
            "------------------------------------------------\n",
            "Epoch:5  \tLoss:0.1031\t Acc: 0.8130\n",
            "------------------------------------------------\n",
            "Epoch:6  \tLoss:0.0806\t Acc: 0.8026\n",
            "------------------------------------------------\n",
            "Epoch:7  \tLoss:0.0639\t Acc: 0.8070\n",
            "------------------------------------------------\n",
            "Epoch:8  \tLoss:0.0497\t Acc: 0.8061\n",
            "------------------------------------------------\n",
            "Epoch:9  \tLoss:0.0635\t Acc: 0.7993\n",
            "------------------------------------------------\n",
            "Epoch:10  \tLoss:0.0487\t Acc: 0.8029\n",
            "------------------------------------------------\n",
            "Epoch:11  \tLoss:0.0376\t Acc: 0.8006\n",
            "------------------------------------------------\n",
            "Epoch:12  \tLoss:0.0349\t Acc: 0.7845\n",
            "------------------------------------------------\n",
            "Epoch:13  \tLoss:0.0393\t Acc: 0.8048\n",
            "------------------------------------------------\n",
            "Epoch:14  \tLoss:0.0297\t Acc: 0.7923\n",
            "------------------------------------------------\n",
            "Epoch:15  \tLoss:0.0336\t Acc: 0.7995\n",
            "------------------------------------------------\n",
            "Epoch:16  \tLoss:0.0291\t Acc: 0.7950\n",
            "------------------------------------------------\n",
            "Epoch:17  \tLoss:0.0362\t Acc: 0.8007\n",
            "------------------------------------------------\n",
            "Epoch:18  \tLoss:0.0393\t Acc: 0.7825\n",
            "------------------------------------------------\n",
            "Epoch:19  \tLoss:0.0341\t Acc: 0.8036\n",
            "------------------------------------------------\n",
            "Epoch:20  \tLoss:0.0421\t Acc: 0.8015\n",
            "------------------------------------------------\n",
            "Epoch:21  \tLoss:0.0423\t Acc: 0.7929\n",
            "------------------------------------------------\n",
            "Epoch:22  \tLoss:0.0492\t Acc: 0.8042\n",
            "------------------------------------------------\n",
            "Epoch:23  \tLoss:0.0400\t Acc: 0.7999\n",
            "------------------------------------------------\n",
            "Epoch:24  \tLoss:0.0475\t Acc: 0.7824\n",
            "------------------------------------------------\n",
            "Epoch:25  \tLoss:0.0248\t Acc: 0.8058\n",
            "------------------------------------------------\n",
            "Epoch:26  \tLoss:0.0265\t Acc: 0.7890\n",
            "------------------------------------------------\n",
            "Epoch:27  \tLoss:0.0279\t Acc: 0.7948\n",
            "------------------------------------------------\n",
            "Epoch:28  \tLoss:0.0219\t Acc: 0.7930\n",
            "------------------------------------------------\n",
            "Epoch:29  \tLoss:0.0236\t Acc: 0.7886\n",
            "------------------------------------------------\n",
            "Epoch:30  \tLoss:0.0240\t Acc: 0.7753\n",
            "*************************************************\n",
            "Final Score for (B:128, Ep:30, LR:0.01)\n",
            "Acc: 0.7753\n"
          ]
        },
        {
          "output_type": "display_data",
          "data": {
            "text/plain": [
              "<IPython.core.display.HTML object>"
            ],
            "text/html": [
              "Waiting for W&B process to finish... <strong style=\"color:green\">(success).</strong>"
            ]
          },
          "metadata": {}
        },
        {
          "output_type": "display_data",
          "data": {
            "text/plain": [
              "VBox(children=(Label(value='0.001 MB of 0.001 MB uploaded (0.000 MB deduped)\\r'), FloatProgress(value=1.0, max…"
            ],
            "application/vnd.jupyter.widget-view+json": {
              "version_major": 2,
              "version_minor": 0,
              "model_id": "d37f7a26c17b40988f0919d683445621"
            }
          },
          "metadata": {}
        },
        {
          "output_type": "display_data",
          "data": {
            "text/plain": [
              "<IPython.core.display.HTML object>"
            ],
            "text/html": [
              "<style>\n",
              "    table.wandb td:nth-child(1) { padding: 0 10px; text-align: right }\n",
              "    .wandb-row { display: flex; flex-direction: row; flex-wrap: wrap; width: 100% }\n",
              "    .wandb-col { display: flex; flex-direction: column; flex-basis: 100%; flex: 1; padding: 10px; }\n",
              "    </style>\n",
              "<div class=\"wandb-row\"><div class=\"wandb-col\"><h3>Run history:</h3><br/><table class=\"wandb\"><tr><td>loss</td><td>█▆▅▆▅▄▃▂▃▂▂▂▂▁▂▁▂▂▂▂▂▂▂▂▁▁▁▁▁▁</td></tr></table><br/></div><div class=\"wandb-col\"><h3>Run summary:</h3><br/><table class=\"wandb\"><tr><td>loss</td><td>0.02403</td></tr></table><br/></div></div>"
            ]
          },
          "metadata": {}
        },
        {
          "output_type": "display_data",
          "data": {
            "text/plain": [
              "<IPython.core.display.HTML object>"
            ],
            "text/html": [
              "Synced <strong style=\"color:#cdcd00\">MLP</strong>: <a href=\"https://wandb.ai/ahsen/NIDS/runs/1xhb4ts9\" target=\"_blank\">https://wandb.ai/ahsen/NIDS/runs/1xhb4ts9</a><br/>Synced 5 W&B file(s), 0 media file(s), 0 artifact file(s) and 0 other file(s)"
            ]
          },
          "metadata": {}
        },
        {
          "output_type": "display_data",
          "data": {
            "text/plain": [
              "<IPython.core.display.HTML object>"
            ],
            "text/html": [
              "Find logs at: <code>./wandb/run-20220430_022535-1xhb4ts9/logs</code>"
            ]
          },
          "metadata": {}
        },
        {
          "output_type": "display_data",
          "data": {
            "text/plain": [
              "<IPython.core.display.HTML object>"
            ],
            "text/html": [
              "Tracking run with wandb version 0.12.15"
            ]
          },
          "metadata": {}
        },
        {
          "output_type": "display_data",
          "data": {
            "text/plain": [
              "<IPython.core.display.HTML object>"
            ],
            "text/html": [
              "Run data is saved locally in <code>/content/wandb/run-20220430_022638-3ny6nb5e</code>"
            ]
          },
          "metadata": {}
        },
        {
          "output_type": "display_data",
          "data": {
            "text/plain": [
              "<IPython.core.display.HTML object>"
            ],
            "text/html": [
              "Syncing run <strong><a href=\"https://wandb.ai/ahsen/NIDS/runs/3ny6nb5e\" target=\"_blank\">MLP</a></strong> to <a href=\"https://wandb.ai/ahsen/NIDS\" target=\"_blank\">Weights & Biases</a> (<a href=\"https://wandb.me/run\" target=\"_blank\">docs</a>)<br/>"
            ]
          },
          "metadata": {}
        },
        {
          "output_type": "stream",
          "name": "stdout",
          "text": [
            "===============================================\n",
            "Batch Size:256\tEpochs:30\tLR:0.01\n",
            "------------------------------------------------\n",
            "Epoch:1  \tLoss:0.1591\t Acc: 0.7893\n",
            "------------------------------------------------\n",
            "Epoch:2  \tLoss:0.1510\t Acc: 0.7865\n",
            "------------------------------------------------\n",
            "Epoch:3  \tLoss:0.1405\t Acc: 0.7866\n",
            "------------------------------------------------\n",
            "Epoch:4  \tLoss:0.1308\t Acc: 0.7771\n",
            "------------------------------------------------\n",
            "Epoch:5  \tLoss:0.1240\t Acc: 0.7754\n",
            "------------------------------------------------\n",
            "Epoch:6  \tLoss:0.1235\t Acc: 0.7857\n",
            "------------------------------------------------\n",
            "Epoch:7  \tLoss:0.1212\t Acc: 0.7754\n",
            "------------------------------------------------\n",
            "Epoch:8  \tLoss:0.1120\t Acc: 0.7766\n",
            "------------------------------------------------\n",
            "Epoch:9  \tLoss:0.1048\t Acc: 0.7807\n",
            "------------------------------------------------\n",
            "Epoch:10  \tLoss:0.0989\t Acc: 0.7944\n",
            "------------------------------------------------\n",
            "Epoch:11  \tLoss:0.0930\t Acc: 0.7929\n",
            "------------------------------------------------\n",
            "Epoch:12  \tLoss:0.0877\t Acc: 0.7926\n",
            "------------------------------------------------\n",
            "Epoch:13  \tLoss:0.0802\t Acc: 0.7955\n",
            "------------------------------------------------\n",
            "Epoch:14  \tLoss:0.0774\t Acc: 0.7995\n",
            "------------------------------------------------\n",
            "Epoch:15  \tLoss:0.0661\t Acc: 0.7964\n",
            "------------------------------------------------\n",
            "Epoch:16  \tLoss:0.0593\t Acc: 0.7988\n",
            "------------------------------------------------\n",
            "Epoch:17  \tLoss:0.0600\t Acc: 0.8010\n",
            "------------------------------------------------\n",
            "Epoch:18  \tLoss:0.0586\t Acc: 0.8023\n",
            "------------------------------------------------\n",
            "Epoch:19  \tLoss:0.0575\t Acc: 0.8030\n",
            "------------------------------------------------\n",
            "Epoch:20  \tLoss:0.0549\t Acc: 0.8020\n",
            "------------------------------------------------\n",
            "Epoch:21  \tLoss:0.0530\t Acc: 0.8034\n",
            "------------------------------------------------\n",
            "Epoch:22  \tLoss:0.0510\t Acc: 0.8041\n",
            "------------------------------------------------\n",
            "Epoch:23  \tLoss:0.0550\t Acc: 0.8035\n",
            "------------------------------------------------\n",
            "Epoch:24  \tLoss:0.0510\t Acc: 0.8040\n",
            "------------------------------------------------\n",
            "Epoch:25  \tLoss:0.0514\t Acc: 0.8041\n",
            "------------------------------------------------\n",
            "Epoch:26  \tLoss:0.0769\t Acc: 0.8014\n",
            "------------------------------------------------\n",
            "Epoch:27  \tLoss:0.0594\t Acc: 0.8012\n",
            "------------------------------------------------\n",
            "Epoch:28  \tLoss:0.0512\t Acc: 0.8029\n",
            "------------------------------------------------\n",
            "Epoch:29  \tLoss:0.0408\t Acc: 0.8033\n",
            "------------------------------------------------\n",
            "Epoch:30  \tLoss:0.0367\t Acc: 0.8024\n",
            "*************************************************\n",
            "Final Score for (B:256, Ep:30, LR:0.01)\n",
            "Acc: 0.8024\n"
          ]
        },
        {
          "output_type": "display_data",
          "data": {
            "text/plain": [
              "<IPython.core.display.HTML object>"
            ],
            "text/html": [
              "Waiting for W&B process to finish... <strong style=\"color:green\">(success).</strong>"
            ]
          },
          "metadata": {}
        },
        {
          "output_type": "display_data",
          "data": {
            "text/plain": [
              "VBox(children=(Label(value='0.001 MB of 0.001 MB uploaded (0.000 MB deduped)\\r'), FloatProgress(value=1.0, max…"
            ],
            "application/vnd.jupyter.widget-view+json": {
              "version_major": 2,
              "version_minor": 0,
              "model_id": "6759dc9284c24b879a71a5ebf7905a6d"
            }
          },
          "metadata": {}
        },
        {
          "output_type": "display_data",
          "data": {
            "text/plain": [
              "<IPython.core.display.HTML object>"
            ],
            "text/html": [
              "<style>\n",
              "    table.wandb td:nth-child(1) { padding: 0 10px; text-align: right }\n",
              "    .wandb-row { display: flex; flex-direction: row; flex-wrap: wrap; width: 100% }\n",
              "    .wandb-col { display: flex; flex-direction: column; flex-basis: 100%; flex: 1; padding: 10px; }\n",
              "    </style>\n",
              "<div class=\"wandb-row\"><div class=\"wandb-col\"><h3>Run history:</h3><br/><table class=\"wandb\"><tr><td>loss</td><td>██▇▆▆▆▆▅▅▅▄▄▃▃▃▂▂▂▂▂▂▂▂▂▂▃▂▂▁▁</td></tr></table><br/></div><div class=\"wandb-col\"><h3>Run summary:</h3><br/><table class=\"wandb\"><tr><td>loss</td><td>0.03674</td></tr></table><br/></div></div>"
            ]
          },
          "metadata": {}
        },
        {
          "output_type": "display_data",
          "data": {
            "text/plain": [
              "<IPython.core.display.HTML object>"
            ],
            "text/html": [
              "Synced <strong style=\"color:#cdcd00\">MLP</strong>: <a href=\"https://wandb.ai/ahsen/NIDS/runs/3ny6nb5e\" target=\"_blank\">https://wandb.ai/ahsen/NIDS/runs/3ny6nb5e</a><br/>Synced 5 W&B file(s), 0 media file(s), 0 artifact file(s) and 0 other file(s)"
            ]
          },
          "metadata": {}
        },
        {
          "output_type": "display_data",
          "data": {
            "text/plain": [
              "<IPython.core.display.HTML object>"
            ],
            "text/html": [
              "Find logs at: <code>./wandb/run-20220430_022638-3ny6nb5e/logs</code>"
            ]
          },
          "metadata": {}
        },
        {
          "output_type": "display_data",
          "data": {
            "text/plain": [
              "<IPython.core.display.HTML object>"
            ],
            "text/html": [
              "Tracking run with wandb version 0.12.15"
            ]
          },
          "metadata": {}
        },
        {
          "output_type": "display_data",
          "data": {
            "text/plain": [
              "<IPython.core.display.HTML object>"
            ],
            "text/html": [
              "Run data is saved locally in <code>/content/wandb/run-20220430_022730-32wdjz61</code>"
            ]
          },
          "metadata": {}
        },
        {
          "output_type": "display_data",
          "data": {
            "text/plain": [
              "<IPython.core.display.HTML object>"
            ],
            "text/html": [
              "Syncing run <strong><a href=\"https://wandb.ai/ahsen/NIDS/runs/32wdjz61\" target=\"_blank\">MLP</a></strong> to <a href=\"https://wandb.ai/ahsen/NIDS\" target=\"_blank\">Weights & Biases</a> (<a href=\"https://wandb.me/run\" target=\"_blank\">docs</a>)<br/>"
            ]
          },
          "metadata": {}
        },
        {
          "output_type": "stream",
          "name": "stdout",
          "text": [
            "===============================================\n",
            "Batch Size:32\tEpochs:30\tLR:0.1\n",
            "------------------------------------------------\n",
            "Epoch:1  \tLoss:0.0992\t Acc: 0.7610\n",
            "------------------------------------------------\n",
            "Epoch:2  \tLoss:0.0229\t Acc: 0.7908\n",
            "------------------------------------------------\n",
            "Epoch:3  \tLoss:0.0686\t Acc: 0.7835\n",
            "------------------------------------------------\n",
            "Epoch:4  \tLoss:0.0466\t Acc: 0.7818\n",
            "------------------------------------------------\n",
            "Epoch:5  \tLoss:0.0424\t Acc: 0.7865\n",
            "------------------------------------------------\n",
            "Epoch:6  \tLoss:0.0396\t Acc: 0.7849\n",
            "------------------------------------------------\n",
            "Epoch:7  \tLoss:0.0340\t Acc: 0.7833\n",
            "------------------------------------------------\n",
            "Epoch:8  \tLoss:0.0330\t Acc: 0.7799\n",
            "------------------------------------------------\n",
            "Epoch:9  \tLoss:0.0280\t Acc: 0.7799\n",
            "------------------------------------------------\n",
            "Epoch:10  \tLoss:0.0212\t Acc: 0.7737\n",
            "------------------------------------------------\n",
            "Epoch:11  \tLoss:0.0229\t Acc: 0.7686\n",
            "------------------------------------------------\n",
            "Epoch:12  \tLoss:0.0215\t Acc: 0.7650\n",
            "------------------------------------------------\n",
            "Epoch:13  \tLoss:0.0276\t Acc: 0.7625\n",
            "------------------------------------------------\n",
            "Epoch:14  \tLoss:0.0309\t Acc: 0.7627\n",
            "------------------------------------------------\n",
            "Epoch:15  \tLoss:0.0267\t Acc: 0.7599\n",
            "------------------------------------------------\n",
            "Epoch:16  \tLoss:0.0236\t Acc: 0.7591\n",
            "------------------------------------------------\n",
            "Epoch:17  \tLoss:0.0235\t Acc: 0.7598\n",
            "------------------------------------------------\n",
            "Epoch:18  \tLoss:0.0241\t Acc: 0.7661\n",
            "------------------------------------------------\n",
            "Epoch:19  \tLoss:0.0225\t Acc: 0.7647\n",
            "------------------------------------------------\n",
            "Epoch:20  \tLoss:0.0218\t Acc: 0.7647\n",
            "------------------------------------------------\n",
            "Epoch:21  \tLoss:0.0218\t Acc: 0.7624\n",
            "------------------------------------------------\n",
            "Epoch:22  \tLoss:0.0208\t Acc: 0.7640\n",
            "------------------------------------------------\n",
            "Epoch:23  \tLoss:0.0203\t Acc: 0.7630\n",
            "------------------------------------------------\n",
            "Epoch:24  \tLoss:0.0205\t Acc: 0.7689\n",
            "------------------------------------------------\n",
            "Epoch:25  \tLoss:0.0190\t Acc: 0.7691\n",
            "------------------------------------------------\n",
            "Epoch:26  \tLoss:0.0171\t Acc: 0.7706\n",
            "------------------------------------------------\n",
            "Epoch:27  \tLoss:0.0166\t Acc: 0.7697\n",
            "------------------------------------------------\n",
            "Epoch:28  \tLoss:0.0142\t Acc: 0.7689\n",
            "------------------------------------------------\n",
            "Epoch:29  \tLoss:0.0151\t Acc: 0.7689\n",
            "------------------------------------------------\n",
            "Epoch:30  \tLoss:0.0134\t Acc: 0.7703\n",
            "*************************************************\n",
            "Final Score for (B:32, Ep:30, LR:0.1)\n",
            "Acc: 0.7703\n"
          ]
        },
        {
          "output_type": "display_data",
          "data": {
            "text/plain": [
              "<IPython.core.display.HTML object>"
            ],
            "text/html": [
              "Waiting for W&B process to finish... <strong style=\"color:green\">(success).</strong>"
            ]
          },
          "metadata": {}
        },
        {
          "output_type": "display_data",
          "data": {
            "text/plain": [
              "VBox(children=(Label(value='0.001 MB of 0.001 MB uploaded (0.000 MB deduped)\\r'), FloatProgress(value=1.0, max…"
            ],
            "application/vnd.jupyter.widget-view+json": {
              "version_major": 2,
              "version_minor": 0,
              "model_id": "aff6f45f36e24a35bdfc4379f5d94913"
            }
          },
          "metadata": {}
        },
        {
          "output_type": "display_data",
          "data": {
            "text/plain": [
              "<IPython.core.display.HTML object>"
            ],
            "text/html": [
              "<style>\n",
              "    table.wandb td:nth-child(1) { padding: 0 10px; text-align: right }\n",
              "    .wandb-row { display: flex; flex-direction: row; flex-wrap: wrap; width: 100% }\n",
              "    .wandb-col { display: flex; flex-direction: column; flex-basis: 100%; flex: 1; padding: 10px; }\n",
              "    </style>\n",
              "<div class=\"wandb-row\"><div class=\"wandb-col\"><h3>Run history:</h3><br/><table class=\"wandb\"><tr><td>loss</td><td>█▂▆▄▃▃▃▃▂▂▂▂▂▂▂▂▂▂▂▂▂▂▂▂▁▁▁▁▁▁</td></tr></table><br/></div><div class=\"wandb-col\"><h3>Run summary:</h3><br/><table class=\"wandb\"><tr><td>loss</td><td>0.01337</td></tr></table><br/></div></div>"
            ]
          },
          "metadata": {}
        },
        {
          "output_type": "display_data",
          "data": {
            "text/plain": [
              "<IPython.core.display.HTML object>"
            ],
            "text/html": [
              "Synced <strong style=\"color:#cdcd00\">MLP</strong>: <a href=\"https://wandb.ai/ahsen/NIDS/runs/32wdjz61\" target=\"_blank\">https://wandb.ai/ahsen/NIDS/runs/32wdjz61</a><br/>Synced 5 W&B file(s), 0 media file(s), 0 artifact file(s) and 0 other file(s)"
            ]
          },
          "metadata": {}
        },
        {
          "output_type": "display_data",
          "data": {
            "text/plain": [
              "<IPython.core.display.HTML object>"
            ],
            "text/html": [
              "Find logs at: <code>./wandb/run-20220430_022730-32wdjz61/logs</code>"
            ]
          },
          "metadata": {}
        },
        {
          "output_type": "display_data",
          "data": {
            "text/plain": [
              "<IPython.core.display.HTML object>"
            ],
            "text/html": [
              "Tracking run with wandb version 0.12.15"
            ]
          },
          "metadata": {}
        },
        {
          "output_type": "display_data",
          "data": {
            "text/plain": [
              "<IPython.core.display.HTML object>"
            ],
            "text/html": [
              "Run data is saved locally in <code>/content/wandb/run-20220430_022922-25wh85rz</code>"
            ]
          },
          "metadata": {}
        },
        {
          "output_type": "display_data",
          "data": {
            "text/plain": [
              "<IPython.core.display.HTML object>"
            ],
            "text/html": [
              "Syncing run <strong><a href=\"https://wandb.ai/ahsen/NIDS/runs/25wh85rz\" target=\"_blank\">MLP</a></strong> to <a href=\"https://wandb.ai/ahsen/NIDS\" target=\"_blank\">Weights & Biases</a> (<a href=\"https://wandb.me/run\" target=\"_blank\">docs</a>)<br/>"
            ]
          },
          "metadata": {}
        },
        {
          "output_type": "stream",
          "name": "stdout",
          "text": [
            "===============================================\n",
            "Batch Size:64\tEpochs:30\tLR:0.1\n",
            "------------------------------------------------\n",
            "Epoch:1  \tLoss:0.0490\t Acc: 0.7981\n",
            "------------------------------------------------\n",
            "Epoch:2  \tLoss:0.0832\t Acc: 0.7977\n",
            "------------------------------------------------\n",
            "Epoch:3  \tLoss:0.0454\t Acc: 0.7889\n",
            "------------------------------------------------\n",
            "Epoch:4  \tLoss:0.0323\t Acc: 0.7919\n",
            "------------------------------------------------\n",
            "Epoch:5  \tLoss:0.0242\t Acc: 0.7862\n",
            "------------------------------------------------\n",
            "Epoch:6  \tLoss:0.0322\t Acc: 0.7828\n",
            "------------------------------------------------\n",
            "Epoch:7  \tLoss:0.0489\t Acc: 0.7657\n",
            "------------------------------------------------\n",
            "Epoch:8  \tLoss:0.0331\t Acc: 0.7662\n",
            "------------------------------------------------\n",
            "Epoch:9  \tLoss:0.0287\t Acc: 0.7785\n",
            "------------------------------------------------\n",
            "Epoch:10  \tLoss:0.0338\t Acc: 0.7207\n",
            "------------------------------------------------\n",
            "Epoch:11  \tLoss:0.0175\t Acc: 0.7819\n",
            "------------------------------------------------\n",
            "Epoch:12  \tLoss:0.0406\t Acc: 0.7461\n",
            "------------------------------------------------\n",
            "Epoch:13  \tLoss:0.0157\t Acc: 0.7534\n",
            "------------------------------------------------\n",
            "Epoch:14  \tLoss:0.0217\t Acc: 0.7689\n",
            "------------------------------------------------\n",
            "Epoch:15  \tLoss:0.0304\t Acc: 0.7883\n",
            "------------------------------------------------\n",
            "Epoch:16  \tLoss:0.0215\t Acc: 0.7919\n",
            "------------------------------------------------\n",
            "Epoch:17  \tLoss:0.0145\t Acc: 0.7791\n",
            "------------------------------------------------\n",
            "Epoch:18  \tLoss:0.0229\t Acc: 0.7836\n",
            "------------------------------------------------\n",
            "Epoch:19  \tLoss:0.0146\t Acc: 0.7898\n",
            "------------------------------------------------\n",
            "Epoch:20  \tLoss:0.0287\t Acc: 0.7728\n",
            "------------------------------------------------\n",
            "Epoch:21  \tLoss:0.0465\t Acc: 0.7838\n",
            "------------------------------------------------\n",
            "Epoch:22  \tLoss:0.0385\t Acc: 0.7748\n",
            "------------------------------------------------\n",
            "Epoch:23  \tLoss:0.0369\t Acc: 0.7768\n",
            "------------------------------------------------\n",
            "Epoch:24  \tLoss:0.0366\t Acc: 0.7758\n",
            "------------------------------------------------\n",
            "Epoch:25  \tLoss:0.0281\t Acc: 0.7659\n",
            "------------------------------------------------\n",
            "Epoch:26  \tLoss:0.0275\t Acc: 0.7714\n",
            "------------------------------------------------\n",
            "Epoch:27  \tLoss:0.0275\t Acc: 0.7658\n",
            "------------------------------------------------\n",
            "Epoch:28  \tLoss:0.0278\t Acc: 0.7728\n",
            "------------------------------------------------\n",
            "Epoch:29  \tLoss:0.0208\t Acc: 0.7747\n",
            "------------------------------------------------\n",
            "Epoch:30  \tLoss:0.0196\t Acc: 0.7757\n",
            "*************************************************\n",
            "Final Score for (B:64, Ep:30, LR:0.1)\n",
            "Acc: 0.7757\n"
          ]
        },
        {
          "output_type": "display_data",
          "data": {
            "text/plain": [
              "<IPython.core.display.HTML object>"
            ],
            "text/html": [
              "Waiting for W&B process to finish... <strong style=\"color:green\">(success).</strong>"
            ]
          },
          "metadata": {}
        },
        {
          "output_type": "display_data",
          "data": {
            "text/plain": [
              "VBox(children=(Label(value='0.001 MB of 0.001 MB uploaded (0.000 MB deduped)\\r'), FloatProgress(value=1.0, max…"
            ],
            "application/vnd.jupyter.widget-view+json": {
              "version_major": 2,
              "version_minor": 0,
              "model_id": "ecd6f3dc4463497989717f0b63898234"
            }
          },
          "metadata": {}
        },
        {
          "output_type": "display_data",
          "data": {
            "text/plain": [
              "<IPython.core.display.HTML object>"
            ],
            "text/html": [
              "<style>\n",
              "    table.wandb td:nth-child(1) { padding: 0 10px; text-align: right }\n",
              "    .wandb-row { display: flex; flex-direction: row; flex-wrap: wrap; width: 100% }\n",
              "    .wandb-col { display: flex; flex-direction: column; flex-basis: 100%; flex: 1; padding: 10px; }\n",
              "    </style>\n",
              "<div class=\"wandb-row\"><div class=\"wandb-col\"><h3>Run history:</h3><br/><table class=\"wandb\"><tr><td>loss</td><td>▅█▄▃▂▃▅▃▂▃▁▄▁▂▃▂▁▂▁▂▄▃▃▃▂▂▂▂▂▂</td></tr></table><br/></div><div class=\"wandb-col\"><h3>Run summary:</h3><br/><table class=\"wandb\"><tr><td>loss</td><td>0.01961</td></tr></table><br/></div></div>"
            ]
          },
          "metadata": {}
        },
        {
          "output_type": "display_data",
          "data": {
            "text/plain": [
              "<IPython.core.display.HTML object>"
            ],
            "text/html": [
              "Synced <strong style=\"color:#cdcd00\">MLP</strong>: <a href=\"https://wandb.ai/ahsen/NIDS/runs/25wh85rz\" target=\"_blank\">https://wandb.ai/ahsen/NIDS/runs/25wh85rz</a><br/>Synced 5 W&B file(s), 0 media file(s), 0 artifact file(s) and 0 other file(s)"
            ]
          },
          "metadata": {}
        },
        {
          "output_type": "display_data",
          "data": {
            "text/plain": [
              "<IPython.core.display.HTML object>"
            ],
            "text/html": [
              "Find logs at: <code>./wandb/run-20220430_022922-25wh85rz/logs</code>"
            ]
          },
          "metadata": {}
        },
        {
          "output_type": "display_data",
          "data": {
            "text/plain": [
              "<IPython.core.display.HTML object>"
            ],
            "text/html": [
              "Tracking run with wandb version 0.12.15"
            ]
          },
          "metadata": {}
        },
        {
          "output_type": "display_data",
          "data": {
            "text/plain": [
              "<IPython.core.display.HTML object>"
            ],
            "text/html": [
              "Run data is saved locally in <code>/content/wandb/run-20220430_023034-xq8b7nt5</code>"
            ]
          },
          "metadata": {}
        },
        {
          "output_type": "display_data",
          "data": {
            "text/plain": [
              "<IPython.core.display.HTML object>"
            ],
            "text/html": [
              "Syncing run <strong><a href=\"https://wandb.ai/ahsen/NIDS/runs/xq8b7nt5\" target=\"_blank\">MLP</a></strong> to <a href=\"https://wandb.ai/ahsen/NIDS\" target=\"_blank\">Weights & Biases</a> (<a href=\"https://wandb.me/run\" target=\"_blank\">docs</a>)<br/>"
            ]
          },
          "metadata": {}
        },
        {
          "output_type": "stream",
          "name": "stdout",
          "text": [
            "===============================================\n",
            "Batch Size:128\tEpochs:30\tLR:0.1\n",
            "------------------------------------------------\n",
            "Epoch:1  \tLoss:0.0731\t Acc: 0.7765\n",
            "------------------------------------------------\n",
            "Epoch:2  \tLoss:0.0688\t Acc: 0.7773\n",
            "------------------------------------------------\n",
            "Epoch:3  \tLoss:0.0812\t Acc: 0.7899\n",
            "------------------------------------------------\n",
            "Epoch:4  \tLoss:0.1418\t Acc: 0.7456\n",
            "------------------------------------------------\n",
            "Epoch:5  \tLoss:0.0745\t Acc: 0.7245\n",
            "------------------------------------------------\n",
            "Epoch:6  \tLoss:0.0825\t Acc: 0.7263\n",
            "------------------------------------------------\n",
            "Epoch:7  \tLoss:0.0587\t Acc: 0.7639\n",
            "------------------------------------------------\n",
            "Epoch:8  \tLoss:0.1148\t Acc: 0.7488\n",
            "------------------------------------------------\n",
            "Epoch:9  \tLoss:0.1144\t Acc: 0.7813\n",
            "------------------------------------------------\n",
            "Epoch:10  \tLoss:0.1258\t Acc: 0.7386\n",
            "------------------------------------------------\n",
            "Epoch:11  \tLoss:0.0365\t Acc: 0.7880\n",
            "------------------------------------------------\n",
            "Epoch:12  \tLoss:0.0534\t Acc: 0.7744\n",
            "------------------------------------------------\n",
            "Epoch:13  \tLoss:0.0509\t Acc: 0.7535\n",
            "------------------------------------------------\n",
            "Epoch:14  \tLoss:0.0531\t Acc: 0.7548\n",
            "------------------------------------------------\n",
            "Epoch:15  \tLoss:0.0720\t Acc: 0.7567\n",
            "------------------------------------------------\n",
            "Epoch:16  \tLoss:0.0471\t Acc: 0.7712\n",
            "------------------------------------------------\n",
            "Epoch:17  \tLoss:0.1464\t Acc: 0.7001\n",
            "------------------------------------------------\n",
            "Epoch:18  \tLoss:0.0663\t Acc: 0.7720\n",
            "------------------------------------------------\n",
            "Epoch:19  \tLoss:0.1156\t Acc: 0.7417\n",
            "------------------------------------------------\n",
            "Epoch:20  \tLoss:0.0613\t Acc: 0.7665\n",
            "------------------------------------------------\n",
            "Epoch:21  \tLoss:0.0838\t Acc: 0.7481\n",
            "------------------------------------------------\n",
            "Epoch:22  \tLoss:0.0721\t Acc: 0.7291\n",
            "------------------------------------------------\n",
            "Epoch:23  \tLoss:0.1170\t Acc: 0.7556\n",
            "------------------------------------------------\n",
            "Epoch:24  \tLoss:0.1195\t Acc: 0.7626\n",
            "------------------------------------------------\n",
            "Epoch:25  \tLoss:0.0943\t Acc: 0.7545\n",
            "------------------------------------------------\n",
            "Epoch:26  \tLoss:0.0769\t Acc: 0.7536\n",
            "------------------------------------------------\n",
            "Epoch:27  \tLoss:0.1368\t Acc: 0.7311\n",
            "------------------------------------------------\n",
            "Epoch:28  \tLoss:0.0536\t Acc: 0.7582\n",
            "------------------------------------------------\n",
            "Epoch:29  \tLoss:0.0586\t Acc: 0.7531\n",
            "------------------------------------------------\n",
            "Epoch:30  \tLoss:0.0567\t Acc: 0.7648\n",
            "*************************************************\n",
            "Final Score for (B:128, Ep:30, LR:0.1)\n",
            "Acc: 0.7648\n"
          ]
        },
        {
          "output_type": "display_data",
          "data": {
            "text/plain": [
              "<IPython.core.display.HTML object>"
            ],
            "text/html": [
              "Waiting for W&B process to finish... <strong style=\"color:green\">(success).</strong>"
            ]
          },
          "metadata": {}
        },
        {
          "output_type": "display_data",
          "data": {
            "text/plain": [
              "VBox(children=(Label(value='0.001 MB of 0.001 MB uploaded (0.000 MB deduped)\\r'), FloatProgress(value=1.0, max…"
            ],
            "application/vnd.jupyter.widget-view+json": {
              "version_major": 2,
              "version_minor": 0,
              "model_id": "17e141ef83d243599f0cb41c8add66a9"
            }
          },
          "metadata": {}
        },
        {
          "output_type": "display_data",
          "data": {
            "text/plain": [
              "<IPython.core.display.HTML object>"
            ],
            "text/html": [
              "<style>\n",
              "    table.wandb td:nth-child(1) { padding: 0 10px; text-align: right }\n",
              "    .wandb-row { display: flex; flex-direction: row; flex-wrap: wrap; width: 100% }\n",
              "    .wandb-col { display: flex; flex-direction: column; flex-basis: 100%; flex: 1; padding: 10px; }\n",
              "    </style>\n",
              "<div class=\"wandb-row\"><div class=\"wandb-col\"><h3>Run history:</h3><br/><table class=\"wandb\"><tr><td>loss</td><td>▃▃▄█▃▄▂▆▆▇▁▂▂▂▃▂█▃▆▃▄▃▆▆▅▄▇▂▂▂</td></tr></table><br/></div><div class=\"wandb-col\"><h3>Run summary:</h3><br/><table class=\"wandb\"><tr><td>loss</td><td>0.05673</td></tr></table><br/></div></div>"
            ]
          },
          "metadata": {}
        },
        {
          "output_type": "display_data",
          "data": {
            "text/plain": [
              "<IPython.core.display.HTML object>"
            ],
            "text/html": [
              "Synced <strong style=\"color:#cdcd00\">MLP</strong>: <a href=\"https://wandb.ai/ahsen/NIDS/runs/xq8b7nt5\" target=\"_blank\">https://wandb.ai/ahsen/NIDS/runs/xq8b7nt5</a><br/>Synced 5 W&B file(s), 0 media file(s), 0 artifact file(s) and 0 other file(s)"
            ]
          },
          "metadata": {}
        },
        {
          "output_type": "display_data",
          "data": {
            "text/plain": [
              "<IPython.core.display.HTML object>"
            ],
            "text/html": [
              "Find logs at: <code>./wandb/run-20220430_023034-xq8b7nt5/logs</code>"
            ]
          },
          "metadata": {}
        },
        {
          "output_type": "display_data",
          "data": {
            "text/plain": [
              "<IPython.core.display.HTML object>"
            ],
            "text/html": [
              "Tracking run with wandb version 0.12.15"
            ]
          },
          "metadata": {}
        },
        {
          "output_type": "display_data",
          "data": {
            "text/plain": [
              "<IPython.core.display.HTML object>"
            ],
            "text/html": [
              "Run data is saved locally in <code>/content/wandb/run-20220430_023128-3gd9aifc</code>"
            ]
          },
          "metadata": {}
        },
        {
          "output_type": "display_data",
          "data": {
            "text/plain": [
              "<IPython.core.display.HTML object>"
            ],
            "text/html": [
              "Syncing run <strong><a href=\"https://wandb.ai/ahsen/NIDS/runs/3gd9aifc\" target=\"_blank\">MLP</a></strong> to <a href=\"https://wandb.ai/ahsen/NIDS\" target=\"_blank\">Weights & Biases</a> (<a href=\"https://wandb.me/run\" target=\"_blank\">docs</a>)<br/>"
            ]
          },
          "metadata": {}
        },
        {
          "output_type": "stream",
          "name": "stdout",
          "text": [
            "===============================================\n",
            "Batch Size:256\tEpochs:30\tLR:0.1\n",
            "------------------------------------------------\n",
            "Epoch:1  \tLoss:0.0905\t Acc: 0.7931\n",
            "------------------------------------------------\n",
            "Epoch:2  \tLoss:0.1184\t Acc: 0.7619\n",
            "------------------------------------------------\n",
            "Epoch:3  \tLoss:0.0819\t Acc: 0.7892\n",
            "------------------------------------------------\n",
            "Epoch:4  \tLoss:0.0388\t Acc: 0.7642\n",
            "------------------------------------------------\n",
            "Epoch:5  \tLoss:0.0422\t Acc: 0.7745\n",
            "------------------------------------------------\n",
            "Epoch:6  \tLoss:0.0474\t Acc: 0.7682\n",
            "------------------------------------------------\n",
            "Epoch:7  \tLoss:0.0524\t Acc: 0.7760\n",
            "------------------------------------------------\n",
            "Epoch:8  \tLoss:0.0871\t Acc: 0.7699\n",
            "------------------------------------------------\n",
            "Epoch:9  \tLoss:0.0793\t Acc: 0.7881\n",
            "------------------------------------------------\n",
            "Epoch:10  \tLoss:0.0540\t Acc: 0.7941\n",
            "------------------------------------------------\n",
            "Epoch:11  \tLoss:0.0411\t Acc: 0.7781\n",
            "------------------------------------------------\n",
            "Epoch:12  \tLoss:0.0495\t Acc: 0.7416\n",
            "------------------------------------------------\n",
            "Epoch:13  \tLoss:0.0759\t Acc: 0.6360\n",
            "------------------------------------------------\n",
            "Epoch:14  \tLoss:0.0483\t Acc: 0.8017\n",
            "------------------------------------------------\n",
            "Epoch:15  \tLoss:0.0378\t Acc: 0.7930\n",
            "------------------------------------------------\n",
            "Epoch:16  \tLoss:0.0374\t Acc: 0.7952\n",
            "------------------------------------------------\n",
            "Epoch:17  \tLoss:0.0588\t Acc: 0.7906\n",
            "------------------------------------------------\n",
            "Epoch:18  \tLoss:0.0350\t Acc: 0.7841\n",
            "------------------------------------------------\n",
            "Epoch:19  \tLoss:0.0304\t Acc: 0.7965\n",
            "------------------------------------------------\n",
            "Epoch:20  \tLoss:0.0414\t Acc: 0.7850\n",
            "------------------------------------------------\n",
            "Epoch:21  \tLoss:0.0300\t Acc: 0.7911\n",
            "------------------------------------------------\n",
            "Epoch:22  \tLoss:0.0261\t Acc: 0.7944\n",
            "------------------------------------------------\n",
            "Epoch:23  \tLoss:0.0282\t Acc: 0.6762\n",
            "------------------------------------------------\n",
            "Epoch:24  \tLoss:0.0869\t Acc: 0.7950\n",
            "------------------------------------------------\n",
            "Epoch:25  \tLoss:0.0369\t Acc: 0.8019\n",
            "------------------------------------------------\n",
            "Epoch:26  \tLoss:0.1124\t Acc: 0.8247\n",
            "------------------------------------------------\n",
            "Epoch:27  \tLoss:0.0353\t Acc: 0.7989\n",
            "------------------------------------------------\n",
            "Epoch:28  \tLoss:0.0464\t Acc: 0.7905\n",
            "------------------------------------------------\n",
            "Epoch:29  \tLoss:0.0335\t Acc: 0.7995\n",
            "------------------------------------------------\n",
            "Epoch:30  \tLoss:0.0602\t Acc: 0.8040\n",
            "*************************************************\n",
            "Final Score for (B:256, Ep:30, LR:0.1)\n",
            "Acc: 0.8040\n"
          ]
        },
        {
          "output_type": "display_data",
          "data": {
            "text/plain": [
              "<IPython.core.display.HTML object>"
            ],
            "text/html": [
              "Waiting for W&B process to finish... <strong style=\"color:green\">(success).</strong>"
            ]
          },
          "metadata": {}
        },
        {
          "output_type": "display_data",
          "data": {
            "text/plain": [
              "VBox(children=(Label(value='0.001 MB of 0.001 MB uploaded (0.000 MB deduped)\\r'), FloatProgress(value=1.0, max…"
            ],
            "application/vnd.jupyter.widget-view+json": {
              "version_major": 2,
              "version_minor": 0,
              "model_id": "06accbd056004049b4a54eaa63c459de"
            }
          },
          "metadata": {}
        },
        {
          "output_type": "display_data",
          "data": {
            "text/plain": [
              "<IPython.core.display.HTML object>"
            ],
            "text/html": [
              "<style>\n",
              "    table.wandb td:nth-child(1) { padding: 0 10px; text-align: right }\n",
              "    .wandb-row { display: flex; flex-direction: row; flex-wrap: wrap; width: 100% }\n",
              "    .wandb-col { display: flex; flex-direction: column; flex-basis: 100%; flex: 1; padding: 10px; }\n",
              "    </style>\n",
              "<div class=\"wandb-row\"><div class=\"wandb-col\"><h3>Run history:</h3><br/><table class=\"wandb\"><tr><td>loss</td><td>▆█▅▂▂▃▃▆▅▃▂▃▅▃▂▂▃▂▁▂▁▁▁▆▂█▂▃▂▄</td></tr></table><br/></div><div class=\"wandb-col\"><h3>Run summary:</h3><br/><table class=\"wandb\"><tr><td>loss</td><td>0.0602</td></tr></table><br/></div></div>"
            ]
          },
          "metadata": {}
        },
        {
          "output_type": "display_data",
          "data": {
            "text/plain": [
              "<IPython.core.display.HTML object>"
            ],
            "text/html": [
              "Synced <strong style=\"color:#cdcd00\">MLP</strong>: <a href=\"https://wandb.ai/ahsen/NIDS/runs/3gd9aifc\" target=\"_blank\">https://wandb.ai/ahsen/NIDS/runs/3gd9aifc</a><br/>Synced 5 W&B file(s), 0 media file(s), 0 artifact file(s) and 0 other file(s)"
            ]
          },
          "metadata": {}
        },
        {
          "output_type": "display_data",
          "data": {
            "text/plain": [
              "<IPython.core.display.HTML object>"
            ],
            "text/html": [
              "Find logs at: <code>./wandb/run-20220430_023128-3gd9aifc/logs</code>"
            ]
          },
          "metadata": {}
        },
        {
          "output_type": "display_data",
          "data": {
            "text/plain": [
              "<IPython.core.display.HTML object>"
            ],
            "text/html": [
              "Tracking run with wandb version 0.12.15"
            ]
          },
          "metadata": {}
        },
        {
          "output_type": "display_data",
          "data": {
            "text/plain": [
              "<IPython.core.display.HTML object>"
            ],
            "text/html": [
              "Run data is saved locally in <code>/content/wandb/run-20220430_023212-c498hm40</code>"
            ]
          },
          "metadata": {}
        },
        {
          "output_type": "display_data",
          "data": {
            "text/plain": [
              "<IPython.core.display.HTML object>"
            ],
            "text/html": [
              "Syncing run <strong><a href=\"https://wandb.ai/ahsen/NIDS/runs/c498hm40\" target=\"_blank\">MLP</a></strong> to <a href=\"https://wandb.ai/ahsen/NIDS\" target=\"_blank\">Weights & Biases</a> (<a href=\"https://wandb.me/run\" target=\"_blank\">docs</a>)<br/>"
            ]
          },
          "metadata": {}
        },
        {
          "output_type": "stream",
          "name": "stdout",
          "text": [
            "===============================================\n",
            "Batch Size:32\tEpochs:60\tLR:0.004\n",
            "------------------------------------------------\n",
            "Epoch:1  \tLoss:0.1009\t Acc: 0.7820\n",
            "------------------------------------------------\n",
            "Epoch:2  \tLoss:0.0927\t Acc: 0.7676\n",
            "------------------------------------------------\n",
            "Epoch:3  \tLoss:0.0795\t Acc: 0.7697\n",
            "------------------------------------------------\n",
            "Epoch:4  \tLoss:0.0572\t Acc: 0.7676\n",
            "------------------------------------------------\n",
            "Epoch:5  \tLoss:0.0552\t Acc: 0.7673\n",
            "------------------------------------------------\n",
            "Epoch:6  \tLoss:0.0419\t Acc: 0.7586\n",
            "------------------------------------------------\n",
            "Epoch:7  \tLoss:0.0363\t Acc: 0.7641\n",
            "------------------------------------------------\n",
            "Epoch:8  \tLoss:0.0525\t Acc: 0.7699\n",
            "------------------------------------------------\n",
            "Epoch:9  \tLoss:0.0543\t Acc: 0.7590\n",
            "------------------------------------------------\n",
            "Epoch:10  \tLoss:0.0455\t Acc: 0.7663\n",
            "------------------------------------------------\n",
            "Epoch:11  \tLoss:0.0446\t Acc: 0.7526\n",
            "------------------------------------------------\n",
            "Epoch:12  \tLoss:0.0274\t Acc: 0.7662\n",
            "------------------------------------------------\n",
            "Epoch:13  \tLoss:0.0293\t Acc: 0.7740\n",
            "------------------------------------------------\n",
            "Epoch:14  \tLoss:0.0165\t Acc: 0.7715\n",
            "------------------------------------------------\n",
            "Epoch:15  \tLoss:0.0191\t Acc: 0.7662\n",
            "------------------------------------------------\n",
            "Epoch:16  \tLoss:0.0387\t Acc: 0.7616\n",
            "------------------------------------------------\n",
            "Epoch:17  \tLoss:0.0353\t Acc: 0.7672\n",
            "------------------------------------------------\n",
            "Epoch:18  \tLoss:0.0331\t Acc: 0.7599\n",
            "------------------------------------------------\n",
            "Epoch:19  \tLoss:0.0290\t Acc: 0.7688\n",
            "------------------------------------------------\n",
            "Epoch:20  \tLoss:0.0172\t Acc: 0.7728\n",
            "------------------------------------------------\n",
            "Epoch:21  \tLoss:0.0441\t Acc: 0.7708\n",
            "------------------------------------------------\n",
            "Epoch:22  \tLoss:0.0179\t Acc: 0.7731\n",
            "------------------------------------------------\n",
            "Epoch:23  \tLoss:0.0364\t Acc: 0.7716\n",
            "------------------------------------------------\n",
            "Epoch:24  \tLoss:0.0159\t Acc: 0.7766\n",
            "------------------------------------------------\n",
            "Epoch:25  \tLoss:0.0202\t Acc: 0.7748\n",
            "------------------------------------------------\n",
            "Epoch:26  \tLoss:0.0183\t Acc: 0.7708\n",
            "------------------------------------------------\n",
            "Epoch:27  \tLoss:0.0216\t Acc: 0.7708\n",
            "------------------------------------------------\n",
            "Epoch:28  \tLoss:0.0188\t Acc: 0.7723\n",
            "------------------------------------------------\n",
            "Epoch:29  \tLoss:0.0178\t Acc: 0.7720\n",
            "------------------------------------------------\n",
            "Epoch:30  \tLoss:0.0185\t Acc: 0.7752\n",
            "------------------------------------------------\n",
            "Epoch:31  \tLoss:0.0218\t Acc: 0.7750\n",
            "------------------------------------------------\n",
            "Epoch:32  \tLoss:0.0160\t Acc: 0.7743\n",
            "------------------------------------------------\n",
            "Epoch:33  \tLoss:0.0227\t Acc: 0.7737\n",
            "------------------------------------------------\n",
            "Epoch:34  \tLoss:0.0220\t Acc: 0.7743\n",
            "------------------------------------------------\n",
            "Epoch:35  \tLoss:0.0284\t Acc: 0.7819\n",
            "------------------------------------------------\n",
            "Epoch:36  \tLoss:0.0213\t Acc: 0.7778\n",
            "------------------------------------------------\n",
            "Epoch:37  \tLoss:0.0232\t Acc: 0.7813\n",
            "------------------------------------------------\n",
            "Epoch:38  \tLoss:0.0235\t Acc: 0.7789\n",
            "------------------------------------------------\n",
            "Epoch:39  \tLoss:0.0260\t Acc: 0.7824\n",
            "------------------------------------------------\n",
            "Epoch:40  \tLoss:0.0246\t Acc: 0.7775\n",
            "------------------------------------------------\n",
            "Epoch:41  \tLoss:0.0188\t Acc: 0.7825\n",
            "------------------------------------------------\n",
            "Epoch:42  \tLoss:0.0551\t Acc: 0.7890\n",
            "------------------------------------------------\n",
            "Epoch:43  \tLoss:0.0110\t Acc: 0.7840\n",
            "------------------------------------------------\n",
            "Epoch:44  \tLoss:0.0110\t Acc: 0.7871\n",
            "------------------------------------------------\n",
            "Epoch:45  \tLoss:0.0192\t Acc: 0.7769\n",
            "------------------------------------------------\n",
            "Epoch:46  \tLoss:0.0171\t Acc: 0.7771\n",
            "------------------------------------------------\n",
            "Epoch:47  \tLoss:0.0172\t Acc: 0.7869\n",
            "------------------------------------------------\n",
            "Epoch:48  \tLoss:0.0195\t Acc: 0.7843\n",
            "------------------------------------------------\n",
            "Epoch:49  \tLoss:0.0684\t Acc: 0.7893\n",
            "------------------------------------------------\n",
            "Epoch:50  \tLoss:0.0166\t Acc: 0.7838\n",
            "------------------------------------------------\n",
            "Epoch:51  \tLoss:0.0204\t Acc: 0.7780\n",
            "------------------------------------------------\n",
            "Epoch:52  \tLoss:0.0182\t Acc: 0.7793\n",
            "------------------------------------------------\n",
            "Epoch:53  \tLoss:0.0224\t Acc: 0.7722\n",
            "------------------------------------------------\n",
            "Epoch:54  \tLoss:0.0222\t Acc: 0.7859\n",
            "------------------------------------------------\n",
            "Epoch:55  \tLoss:0.0308\t Acc: 0.7792\n",
            "------------------------------------------------\n",
            "Epoch:56  \tLoss:0.0178\t Acc: 0.7858\n",
            "------------------------------------------------\n",
            "Epoch:57  \tLoss:0.0160\t Acc: 0.7756\n",
            "------------------------------------------------\n",
            "Epoch:58  \tLoss:0.0169\t Acc: 0.7806\n",
            "------------------------------------------------\n",
            "Epoch:59  \tLoss:0.0139\t Acc: 0.7853\n",
            "------------------------------------------------\n",
            "Epoch:60  \tLoss:0.0142\t Acc: 0.7762\n",
            "*************************************************\n",
            "Final Score for (B:32, Ep:60, LR:0.004)\n",
            "Acc: 0.7762\n"
          ]
        },
        {
          "output_type": "display_data",
          "data": {
            "text/plain": [
              "<IPython.core.display.HTML object>"
            ],
            "text/html": [
              "Waiting for W&B process to finish... <strong style=\"color:green\">(success).</strong>"
            ]
          },
          "metadata": {}
        },
        {
          "output_type": "display_data",
          "data": {
            "text/plain": [
              "VBox(children=(Label(value='0.001 MB of 0.001 MB uploaded (0.000 MB deduped)\\r'), FloatProgress(value=1.0, max…"
            ],
            "application/vnd.jupyter.widget-view+json": {
              "version_major": 2,
              "version_minor": 0,
              "model_id": "de89c5bf67894d3298622e67e5f27138"
            }
          },
          "metadata": {}
        },
        {
          "output_type": "display_data",
          "data": {
            "text/plain": [
              "<IPython.core.display.HTML object>"
            ],
            "text/html": [
              "<style>\n",
              "    table.wandb td:nth-child(1) { padding: 0 10px; text-align: right }\n",
              "    .wandb-row { display: flex; flex-direction: row; flex-wrap: wrap; width: 100% }\n",
              "    .wandb-col { display: flex; flex-direction: column; flex-basis: 100%; flex: 1; padding: 10px; }\n",
              "    </style>\n",
              "<div class=\"wandb-row\"><div class=\"wandb-col\"><h3>Run history:</h3><br/><table class=\"wandb\"><tr><td>loss</td><td>█▇▅▄▃▄▄▄▂▁▃▃▂▁▂▃▂▂▂▂▂▁▂▂▂▂▂▂▁▁▁▁▅▁▂▂▃▂▁▁</td></tr></table><br/></div><div class=\"wandb-col\"><h3>Run summary:</h3><br/><table class=\"wandb\"><tr><td>loss</td><td>0.0142</td></tr></table><br/></div></div>"
            ]
          },
          "metadata": {}
        },
        {
          "output_type": "display_data",
          "data": {
            "text/plain": [
              "<IPython.core.display.HTML object>"
            ],
            "text/html": [
              "Synced <strong style=\"color:#cdcd00\">MLP</strong>: <a href=\"https://wandb.ai/ahsen/NIDS/runs/c498hm40\" target=\"_blank\">https://wandb.ai/ahsen/NIDS/runs/c498hm40</a><br/>Synced 5 W&B file(s), 0 media file(s), 0 artifact file(s) and 0 other file(s)"
            ]
          },
          "metadata": {}
        },
        {
          "output_type": "display_data",
          "data": {
            "text/plain": [
              "<IPython.core.display.HTML object>"
            ],
            "text/html": [
              "Find logs at: <code>./wandb/run-20220430_023212-c498hm40/logs</code>"
            ]
          },
          "metadata": {}
        },
        {
          "output_type": "display_data",
          "data": {
            "text/plain": [
              "<IPython.core.display.HTML object>"
            ],
            "text/html": [
              "Tracking run with wandb version 0.12.15"
            ]
          },
          "metadata": {}
        },
        {
          "output_type": "display_data",
          "data": {
            "text/plain": [
              "<IPython.core.display.HTML object>"
            ],
            "text/html": [
              "Run data is saved locally in <code>/content/wandb/run-20220430_023543-4ths52jw</code>"
            ]
          },
          "metadata": {}
        },
        {
          "output_type": "display_data",
          "data": {
            "text/plain": [
              "<IPython.core.display.HTML object>"
            ],
            "text/html": [
              "Syncing run <strong><a href=\"https://wandb.ai/ahsen/NIDS/runs/4ths52jw\" target=\"_blank\">MLP</a></strong> to <a href=\"https://wandb.ai/ahsen/NIDS\" target=\"_blank\">Weights & Biases</a> (<a href=\"https://wandb.me/run\" target=\"_blank\">docs</a>)<br/>"
            ]
          },
          "metadata": {}
        },
        {
          "output_type": "stream",
          "name": "stdout",
          "text": [
            "===============================================\n",
            "Batch Size:64\tEpochs:60\tLR:0.004\n",
            "------------------------------------------------\n",
            "Epoch:1  \tLoss:0.1321\t Acc: 0.7818\n",
            "------------------------------------------------\n",
            "Epoch:2  \tLoss:0.1202\t Acc: 0.7658\n",
            "------------------------------------------------\n",
            "Epoch:3  \tLoss:0.1071\t Acc: 0.7669\n",
            "------------------------------------------------\n",
            "Epoch:4  \tLoss:0.0961\t Acc: 0.7656\n",
            "------------------------------------------------\n",
            "Epoch:5  \tLoss:0.0917\t Acc: 0.7655\n",
            "------------------------------------------------\n",
            "Epoch:6  \tLoss:0.0850\t Acc: 0.7645\n",
            "------------------------------------------------\n",
            "Epoch:7  \tLoss:0.0802\t Acc: 0.7661\n",
            "------------------------------------------------\n",
            "Epoch:8  \tLoss:0.0744\t Acc: 0.7659\n",
            "------------------------------------------------\n",
            "Epoch:9  \tLoss:0.0687\t Acc: 0.7649\n",
            "------------------------------------------------\n",
            "Epoch:10  \tLoss:0.0612\t Acc: 0.7633\n",
            "------------------------------------------------\n",
            "Epoch:11  \tLoss:0.0538\t Acc: 0.7683\n",
            "------------------------------------------------\n",
            "Epoch:12  \tLoss:0.0464\t Acc: 0.7821\n",
            "------------------------------------------------\n",
            "Epoch:13  \tLoss:0.0458\t Acc: 0.7816\n",
            "------------------------------------------------\n",
            "Epoch:14  \tLoss:0.0417\t Acc: 0.7797\n",
            "------------------------------------------------\n",
            "Epoch:15  \tLoss:0.0423\t Acc: 0.7817\n",
            "------------------------------------------------\n",
            "Epoch:16  \tLoss:0.0467\t Acc: 0.7778\n",
            "------------------------------------------------\n",
            "Epoch:17  \tLoss:0.0441\t Acc: 0.7803\n",
            "------------------------------------------------\n",
            "Epoch:18  \tLoss:0.0441\t Acc: 0.7804\n",
            "------------------------------------------------\n",
            "Epoch:19  \tLoss:0.0433\t Acc: 0.7826\n",
            "------------------------------------------------\n",
            "Epoch:20  \tLoss:0.0451\t Acc: 0.7873\n",
            "------------------------------------------------\n",
            "Epoch:21  \tLoss:0.0423\t Acc: 0.7877\n",
            "------------------------------------------------\n",
            "Epoch:22  \tLoss:0.0447\t Acc: 0.7852\n",
            "------------------------------------------------\n",
            "Epoch:23  \tLoss:0.0302\t Acc: 0.7836\n",
            "------------------------------------------------\n",
            "Epoch:24  \tLoss:0.0343\t Acc: 0.7790\n",
            "------------------------------------------------\n",
            "Epoch:25  \tLoss:0.0397\t Acc: 0.7870\n",
            "------------------------------------------------\n",
            "Epoch:26  \tLoss:0.0287\t Acc: 0.7887\n",
            "------------------------------------------------\n",
            "Epoch:27  \tLoss:0.0347\t Acc: 0.7829\n",
            "------------------------------------------------\n",
            "Epoch:28  \tLoss:0.0293\t Acc: 0.7879\n",
            "------------------------------------------------\n",
            "Epoch:29  \tLoss:0.0246\t Acc: 0.7874\n",
            "------------------------------------------------\n",
            "Epoch:30  \tLoss:0.0245\t Acc: 0.7907\n",
            "------------------------------------------------\n",
            "Epoch:31  \tLoss:0.0263\t Acc: 0.7895\n",
            "------------------------------------------------\n",
            "Epoch:32  \tLoss:0.0210\t Acc: 0.7856\n",
            "------------------------------------------------\n",
            "Epoch:33  \tLoss:0.0248\t Acc: 0.7765\n",
            "------------------------------------------------\n",
            "Epoch:34  \tLoss:0.0213\t Acc: 0.7930\n",
            "------------------------------------------------\n",
            "Epoch:35  \tLoss:0.0220\t Acc: 0.7770\n",
            "------------------------------------------------\n",
            "Epoch:36  \tLoss:0.0156\t Acc: 0.7792\n",
            "------------------------------------------------\n",
            "Epoch:37  \tLoss:0.0146\t Acc: 0.7813\n",
            "------------------------------------------------\n",
            "Epoch:38  \tLoss:0.0115\t Acc: 0.7801\n",
            "------------------------------------------------\n",
            "Epoch:39  \tLoss:0.0186\t Acc: 0.7916\n",
            "------------------------------------------------\n",
            "Epoch:40  \tLoss:0.0179\t Acc: 0.7911\n",
            "------------------------------------------------\n",
            "Epoch:41  \tLoss:0.0166\t Acc: 0.7873\n",
            "------------------------------------------------\n",
            "Epoch:42  \tLoss:0.0129\t Acc: 0.7826\n",
            "------------------------------------------------\n",
            "Epoch:43  \tLoss:0.0197\t Acc: 0.7824\n",
            "------------------------------------------------\n",
            "Epoch:44  \tLoss:0.0188\t Acc: 0.7709\n",
            "------------------------------------------------\n",
            "Epoch:45  \tLoss:0.0184\t Acc: 0.7749\n",
            "------------------------------------------------\n",
            "Epoch:46  \tLoss:0.0156\t Acc: 0.7803\n",
            "------------------------------------------------\n",
            "Epoch:47  \tLoss:0.0172\t Acc: 0.7748\n",
            "------------------------------------------------\n",
            "Epoch:48  \tLoss:0.0126\t Acc: 0.7881\n",
            "------------------------------------------------\n",
            "Epoch:49  \tLoss:0.0141\t Acc: 0.7786\n",
            "------------------------------------------------\n",
            "Epoch:50  \tLoss:0.0137\t Acc: 0.7823\n",
            "------------------------------------------------\n",
            "Epoch:51  \tLoss:0.0145\t Acc: 0.7836\n",
            "------------------------------------------------\n",
            "Epoch:52  \tLoss:0.0165\t Acc: 0.7721\n",
            "------------------------------------------------\n",
            "Epoch:53  \tLoss:0.0170\t Acc: 0.7737\n",
            "------------------------------------------------\n",
            "Epoch:54  \tLoss:0.0136\t Acc: 0.7797\n",
            "------------------------------------------------\n",
            "Epoch:55  \tLoss:0.0150\t Acc: 0.7810\n",
            "------------------------------------------------\n",
            "Epoch:56  \tLoss:0.0159\t Acc: 0.7879\n",
            "------------------------------------------------\n",
            "Epoch:57  \tLoss:0.0241\t Acc: 0.7812\n",
            "------------------------------------------------\n",
            "Epoch:58  \tLoss:0.0150\t Acc: 0.7812\n",
            "------------------------------------------------\n",
            "Epoch:59  \tLoss:0.0125\t Acc: 0.7777\n",
            "------------------------------------------------\n",
            "Epoch:60  \tLoss:0.0169\t Acc: 0.7926\n",
            "*************************************************\n",
            "Final Score for (B:64, Ep:60, LR:0.004)\n",
            "Acc: 0.7926\n"
          ]
        },
        {
          "output_type": "display_data",
          "data": {
            "text/plain": [
              "<IPython.core.display.HTML object>"
            ],
            "text/html": [
              "Waiting for W&B process to finish... <strong style=\"color:green\">(success).</strong>"
            ]
          },
          "metadata": {}
        },
        {
          "output_type": "display_data",
          "data": {
            "text/plain": [
              "VBox(children=(Label(value='0.001 MB of 0.001 MB uploaded (0.000 MB deduped)\\r'), FloatProgress(value=1.0, max…"
            ],
            "application/vnd.jupyter.widget-view+json": {
              "version_major": 2,
              "version_minor": 0,
              "model_id": "7cd02727feae4772a53e05f5d86ac818"
            }
          },
          "metadata": {}
        },
        {
          "output_type": "display_data",
          "data": {
            "text/plain": [
              "<IPython.core.display.HTML object>"
            ],
            "text/html": [
              "<style>\n",
              "    table.wandb td:nth-child(1) { padding: 0 10px; text-align: right }\n",
              "    .wandb-row { display: flex; flex-direction: row; flex-wrap: wrap; width: 100% }\n",
              "    .wandb-col { display: flex; flex-direction: column; flex-basis: 100%; flex: 1; padding: 10px; }\n",
              "    </style>\n",
              "<div class=\"wandb-row\"><div class=\"wandb-col\"><h3>Run history:</h3><br/><table class=\"wandb\"><tr><td>loss</td><td>█▇▆▆▅▅▄▃▃▃▃▃▃▃▃▂▃▂▂▂▂▂▂▂▁▁▁▁▁▁▁▁▁▁▁▁▁▁▁▁</td></tr></table><br/></div><div class=\"wandb-col\"><h3>Run summary:</h3><br/><table class=\"wandb\"><tr><td>loss</td><td>0.01685</td></tr></table><br/></div></div>"
            ]
          },
          "metadata": {}
        },
        {
          "output_type": "display_data",
          "data": {
            "text/plain": [
              "<IPython.core.display.HTML object>"
            ],
            "text/html": [
              "Synced <strong style=\"color:#cdcd00\">MLP</strong>: <a href=\"https://wandb.ai/ahsen/NIDS/runs/4ths52jw\" target=\"_blank\">https://wandb.ai/ahsen/NIDS/runs/4ths52jw</a><br/>Synced 5 W&B file(s), 0 media file(s), 0 artifact file(s) and 0 other file(s)"
            ]
          },
          "metadata": {}
        },
        {
          "output_type": "display_data",
          "data": {
            "text/plain": [
              "<IPython.core.display.HTML object>"
            ],
            "text/html": [
              "Find logs at: <code>./wandb/run-20220430_023543-4ths52jw/logs</code>"
            ]
          },
          "metadata": {}
        },
        {
          "output_type": "display_data",
          "data": {
            "text/plain": [
              "<IPython.core.display.HTML object>"
            ],
            "text/html": [
              "Tracking run with wandb version 0.12.15"
            ]
          },
          "metadata": {}
        },
        {
          "output_type": "display_data",
          "data": {
            "text/plain": [
              "<IPython.core.display.HTML object>"
            ],
            "text/html": [
              "Run data is saved locally in <code>/content/wandb/run-20220430_023801-qqwil1q5</code>"
            ]
          },
          "metadata": {}
        },
        {
          "output_type": "display_data",
          "data": {
            "text/plain": [
              "<IPython.core.display.HTML object>"
            ],
            "text/html": [
              "Syncing run <strong><a href=\"https://wandb.ai/ahsen/NIDS/runs/qqwil1q5\" target=\"_blank\">MLP</a></strong> to <a href=\"https://wandb.ai/ahsen/NIDS\" target=\"_blank\">Weights & Biases</a> (<a href=\"https://wandb.me/run\" target=\"_blank\">docs</a>)<br/>"
            ]
          },
          "metadata": {}
        },
        {
          "output_type": "stream",
          "name": "stdout",
          "text": [
            "===============================================\n",
            "Batch Size:128\tEpochs:60\tLR:0.004\n",
            "------------------------------------------------\n",
            "Epoch:1  \tLoss:0.1616\t Acc: 0.7880\n",
            "------------------------------------------------\n",
            "Epoch:2  \tLoss:0.1383\t Acc: 0.7801\n",
            "------------------------------------------------\n",
            "Epoch:3  \tLoss:0.1197\t Acc: 0.7844\n",
            "------------------------------------------------\n",
            "Epoch:4  \tLoss:0.1072\t Acc: 0.7879\n",
            "------------------------------------------------\n",
            "Epoch:5  \tLoss:0.0888\t Acc: 0.7871\n",
            "------------------------------------------------\n",
            "Epoch:6  \tLoss:0.0822\t Acc: 0.7862\n",
            "------------------------------------------------\n",
            "Epoch:7  \tLoss:0.0753\t Acc: 0.8019\n",
            "------------------------------------------------\n",
            "Epoch:8  \tLoss:0.0688\t Acc: 0.8061\n",
            "------------------------------------------------\n",
            "Epoch:9  \tLoss:0.0652\t Acc: 0.8079\n",
            "------------------------------------------------\n",
            "Epoch:10  \tLoss:0.0591\t Acc: 0.8085\n",
            "------------------------------------------------\n",
            "Epoch:11  \tLoss:0.0643\t Acc: 0.8093\n",
            "------------------------------------------------\n",
            "Epoch:12  \tLoss:0.0561\t Acc: 0.8093\n",
            "------------------------------------------------\n",
            "Epoch:13  \tLoss:0.0483\t Acc: 0.8092\n",
            "------------------------------------------------\n",
            "Epoch:14  \tLoss:0.0471\t Acc: 0.8093\n",
            "------------------------------------------------\n",
            "Epoch:15  \tLoss:0.0435\t Acc: 0.8061\n",
            "------------------------------------------------\n",
            "Epoch:16  \tLoss:0.0422\t Acc: 0.8023\n",
            "------------------------------------------------\n",
            "Epoch:17  \tLoss:0.0415\t Acc: 0.7980\n",
            "------------------------------------------------\n",
            "Epoch:18  \tLoss:0.0415\t Acc: 0.7974\n",
            "------------------------------------------------\n",
            "Epoch:19  \tLoss:0.0395\t Acc: 0.7976\n",
            "------------------------------------------------\n",
            "Epoch:20  \tLoss:0.0634\t Acc: 0.7795\n",
            "------------------------------------------------\n",
            "Epoch:21  \tLoss:0.0539\t Acc: 0.7728\n",
            "------------------------------------------------\n",
            "Epoch:22  \tLoss:0.0508\t Acc: 0.7713\n",
            "------------------------------------------------\n",
            "Epoch:23  \tLoss:0.0484\t Acc: 0.7712\n",
            "------------------------------------------------\n",
            "Epoch:24  \tLoss:0.0460\t Acc: 0.7745\n",
            "------------------------------------------------\n",
            "Epoch:25  \tLoss:0.0445\t Acc: 0.7772\n",
            "------------------------------------------------\n",
            "Epoch:26  \tLoss:0.0449\t Acc: 0.7774\n",
            "------------------------------------------------\n",
            "Epoch:27  \tLoss:0.0433\t Acc: 0.7811\n",
            "------------------------------------------------\n",
            "Epoch:28  \tLoss:0.0416\t Acc: 0.7797\n",
            "------------------------------------------------\n",
            "Epoch:29  \tLoss:0.0397\t Acc: 0.7793\n",
            "------------------------------------------------\n",
            "Epoch:30  \tLoss:0.0410\t Acc: 0.7791\n",
            "------------------------------------------------\n",
            "Epoch:31  \tLoss:0.0423\t Acc: 0.7787\n",
            "------------------------------------------------\n",
            "Epoch:32  \tLoss:0.0475\t Acc: 0.7797\n",
            "------------------------------------------------\n",
            "Epoch:33  \tLoss:0.0362\t Acc: 0.7854\n",
            "------------------------------------------------\n",
            "Epoch:34  \tLoss:0.0467\t Acc: 0.7848\n",
            "------------------------------------------------\n",
            "Epoch:35  \tLoss:0.0372\t Acc: 0.7866\n",
            "------------------------------------------------\n",
            "Epoch:36  \tLoss:0.0343\t Acc: 0.7877\n",
            "------------------------------------------------\n",
            "Epoch:37  \tLoss:0.0325\t Acc: 0.7883\n",
            "------------------------------------------------\n",
            "Epoch:38  \tLoss:0.0322\t Acc: 0.7906\n",
            "------------------------------------------------\n",
            "Epoch:39  \tLoss:0.0309\t Acc: 0.7901\n",
            "------------------------------------------------\n",
            "Epoch:40  \tLoss:0.0323\t Acc: 0.7898\n",
            "------------------------------------------------\n",
            "Epoch:41  \tLoss:0.0311\t Acc: 0.7905\n",
            "------------------------------------------------\n",
            "Epoch:42  \tLoss:0.0323\t Acc: 0.7905\n",
            "------------------------------------------------\n",
            "Epoch:43  \tLoss:0.0344\t Acc: 0.7855\n",
            "------------------------------------------------\n",
            "Epoch:44  \tLoss:0.0291\t Acc: 0.7917\n",
            "------------------------------------------------\n",
            "Epoch:45  \tLoss:0.0266\t Acc: 0.7930\n",
            "------------------------------------------------\n",
            "Epoch:46  \tLoss:0.0256\t Acc: 0.7958\n",
            "------------------------------------------------\n",
            "Epoch:47  \tLoss:0.0255\t Acc: 0.7948\n",
            "------------------------------------------------\n",
            "Epoch:48  \tLoss:0.0251\t Acc: 0.7958\n",
            "------------------------------------------------\n",
            "Epoch:49  \tLoss:0.0241\t Acc: 0.7930\n",
            "------------------------------------------------\n",
            "Epoch:50  \tLoss:0.0250\t Acc: 0.7925\n",
            "------------------------------------------------\n",
            "Epoch:51  \tLoss:0.0301\t Acc: 0.7856\n",
            "------------------------------------------------\n",
            "Epoch:52  \tLoss:0.0235\t Acc: 0.7969\n",
            "------------------------------------------------\n",
            "Epoch:53  \tLoss:0.0234\t Acc: 0.7969\n",
            "------------------------------------------------\n",
            "Epoch:54  \tLoss:0.0236\t Acc: 0.7901\n",
            "------------------------------------------------\n",
            "Epoch:55  \tLoss:0.0310\t Acc: 0.7902\n",
            "------------------------------------------------\n",
            "Epoch:56  \tLoss:0.0188\t Acc: 0.7968\n",
            "------------------------------------------------\n",
            "Epoch:57  \tLoss:0.0239\t Acc: 0.7964\n",
            "------------------------------------------------\n",
            "Epoch:58  \tLoss:0.0214\t Acc: 0.7961\n",
            "------------------------------------------------\n",
            "Epoch:59  \tLoss:0.0282\t Acc: 0.7873\n",
            "------------------------------------------------\n",
            "Epoch:60  \tLoss:0.0190\t Acc: 0.7987\n",
            "*************************************************\n",
            "Final Score for (B:128, Ep:60, LR:0.004)\n",
            "Acc: 0.7987\n"
          ]
        },
        {
          "output_type": "display_data",
          "data": {
            "text/plain": [
              "<IPython.core.display.HTML object>"
            ],
            "text/html": [
              "Waiting for W&B process to finish... <strong style=\"color:green\">(success).</strong>"
            ]
          },
          "metadata": {}
        },
        {
          "output_type": "display_data",
          "data": {
            "text/plain": [
              "VBox(children=(Label(value='0.001 MB of 0.001 MB uploaded (0.000 MB deduped)\\r'), FloatProgress(value=1.0, max…"
            ],
            "application/vnd.jupyter.widget-view+json": {
              "version_major": 2,
              "version_minor": 0,
              "model_id": "a54952e923e84a44bc6dde1dbc205f90"
            }
          },
          "metadata": {}
        },
        {
          "output_type": "display_data",
          "data": {
            "text/plain": [
              "<IPython.core.display.HTML object>"
            ],
            "text/html": [
              "<style>\n",
              "    table.wandb td:nth-child(1) { padding: 0 10px; text-align: right }\n",
              "    .wandb-row { display: flex; flex-direction: row; flex-wrap: wrap; width: 100% }\n",
              "    .wandb-col { display: flex; flex-direction: column; flex-basis: 100%; flex: 1; padding: 10px; }\n",
              "    </style>\n",
              "<div class=\"wandb-row\"><div class=\"wandb-col\"><h3>Run history:</h3><br/><table class=\"wandb\"><tr><td>loss</td><td>█▇▅▄▄▃▃▃▂▂▂▂▂▃▃▂▂▂▂▂▂▂▂▂▂▂▂▂▂▂▁▁▁▁▁▁▂▁▁▁</td></tr></table><br/></div><div class=\"wandb-col\"><h3>Run summary:</h3><br/><table class=\"wandb\"><tr><td>loss</td><td>0.01902</td></tr></table><br/></div></div>"
            ]
          },
          "metadata": {}
        },
        {
          "output_type": "display_data",
          "data": {
            "text/plain": [
              "<IPython.core.display.HTML object>"
            ],
            "text/html": [
              "Synced <strong style=\"color:#cdcd00\">MLP</strong>: <a href=\"https://wandb.ai/ahsen/NIDS/runs/qqwil1q5\" target=\"_blank\">https://wandb.ai/ahsen/NIDS/runs/qqwil1q5</a><br/>Synced 5 W&B file(s), 0 media file(s), 0 artifact file(s) and 0 other file(s)"
            ]
          },
          "metadata": {}
        },
        {
          "output_type": "display_data",
          "data": {
            "text/plain": [
              "<IPython.core.display.HTML object>"
            ],
            "text/html": [
              "Find logs at: <code>./wandb/run-20220430_023801-qqwil1q5/logs</code>"
            ]
          },
          "metadata": {}
        },
        {
          "output_type": "display_data",
          "data": {
            "text/plain": [
              "<IPython.core.display.HTML object>"
            ],
            "text/html": [
              "Tracking run with wandb version 0.12.15"
            ]
          },
          "metadata": {}
        },
        {
          "output_type": "display_data",
          "data": {
            "text/plain": [
              "<IPython.core.display.HTML object>"
            ],
            "text/html": [
              "Run data is saved locally in <code>/content/wandb/run-20220430_023940-2rtybr1f</code>"
            ]
          },
          "metadata": {}
        },
        {
          "output_type": "display_data",
          "data": {
            "text/plain": [
              "<IPython.core.display.HTML object>"
            ],
            "text/html": [
              "Syncing run <strong><a href=\"https://wandb.ai/ahsen/NIDS/runs/2rtybr1f\" target=\"_blank\">MLP</a></strong> to <a href=\"https://wandb.ai/ahsen/NIDS\" target=\"_blank\">Weights & Biases</a> (<a href=\"https://wandb.me/run\" target=\"_blank\">docs</a>)<br/>"
            ]
          },
          "metadata": {}
        },
        {
          "output_type": "stream",
          "name": "stdout",
          "text": [
            "===============================================\n",
            "Batch Size:256\tEpochs:60\tLR:0.004\n",
            "------------------------------------------------\n",
            "Epoch:1  \tLoss:0.2653\t Acc: 0.7718\n",
            "------------------------------------------------\n",
            "Epoch:2  \tLoss:0.2167\t Acc: 0.7731\n",
            "------------------------------------------------\n",
            "Epoch:3  \tLoss:0.2045\t Acc: 0.7758\n",
            "------------------------------------------------\n",
            "Epoch:4  \tLoss:0.2005\t Acc: 0.7777\n",
            "------------------------------------------------\n",
            "Epoch:5  \tLoss:0.1960\t Acc: 0.7788\n",
            "------------------------------------------------\n",
            "Epoch:6  \tLoss:0.1922\t Acc: 0.7772\n",
            "------------------------------------------------\n",
            "Epoch:7  \tLoss:0.1888\t Acc: 0.7770\n",
            "------------------------------------------------\n",
            "Epoch:8  \tLoss:0.1815\t Acc: 0.7754\n",
            "------------------------------------------------\n",
            "Epoch:9  \tLoss:0.1709\t Acc: 0.7760\n",
            "------------------------------------------------\n",
            "Epoch:10  \tLoss:0.1662\t Acc: 0.7783\n",
            "------------------------------------------------\n",
            "Epoch:11  \tLoss:0.1683\t Acc: 0.7789\n",
            "------------------------------------------------\n",
            "Epoch:12  \tLoss:0.1644\t Acc: 0.7811\n",
            "------------------------------------------------\n",
            "Epoch:13  \tLoss:0.1672\t Acc: 0.7806\n",
            "------------------------------------------------\n",
            "Epoch:14  \tLoss:0.1620\t Acc: 0.7797\n",
            "------------------------------------------------\n",
            "Epoch:15  \tLoss:0.1616\t Acc: 0.7796\n",
            "------------------------------------------------\n",
            "Epoch:16  \tLoss:0.1622\t Acc: 0.7797\n",
            "------------------------------------------------\n",
            "Epoch:17  \tLoss:0.1617\t Acc: 0.7771\n",
            "------------------------------------------------\n",
            "Epoch:18  \tLoss:0.1606\t Acc: 0.7749\n",
            "------------------------------------------------\n",
            "Epoch:19  \tLoss:0.1599\t Acc: 0.7752\n",
            "------------------------------------------------\n",
            "Epoch:20  \tLoss:0.1563\t Acc: 0.7779\n",
            "------------------------------------------------\n",
            "Epoch:21  \tLoss:0.1535\t Acc: 0.7773\n",
            "------------------------------------------------\n",
            "Epoch:22  \tLoss:0.1525\t Acc: 0.7805\n",
            "------------------------------------------------\n",
            "Epoch:23  \tLoss:0.1467\t Acc: 0.7819\n",
            "------------------------------------------------\n",
            "Epoch:24  \tLoss:0.1443\t Acc: 0.7832\n",
            "------------------------------------------------\n",
            "Epoch:25  \tLoss:0.1364\t Acc: 0.7854\n",
            "------------------------------------------------\n",
            "Epoch:26  \tLoss:0.1302\t Acc: 0.7873\n",
            "------------------------------------------------\n",
            "Epoch:27  \tLoss:0.1254\t Acc: 0.7867\n",
            "------------------------------------------------\n",
            "Epoch:28  \tLoss:0.1199\t Acc: 0.7863\n",
            "------------------------------------------------\n",
            "Epoch:29  \tLoss:0.1125\t Acc: 0.7868\n",
            "------------------------------------------------\n",
            "Epoch:30  \tLoss:0.1061\t Acc: 0.7850\n",
            "------------------------------------------------\n",
            "Epoch:31  \tLoss:0.1007\t Acc: 0.7846\n",
            "------------------------------------------------\n",
            "Epoch:32  \tLoss:0.0982\t Acc: 0.7840\n",
            "------------------------------------------------\n",
            "Epoch:33  \tLoss:0.0937\t Acc: 0.7850\n",
            "------------------------------------------------\n",
            "Epoch:34  \tLoss:0.0896\t Acc: 0.7843\n",
            "------------------------------------------------\n",
            "Epoch:35  \tLoss:0.0872\t Acc: 0.7847\n",
            "------------------------------------------------\n",
            "Epoch:36  \tLoss:0.0829\t Acc: 0.7843\n",
            "------------------------------------------------\n",
            "Epoch:37  \tLoss:0.0800\t Acc: 0.7851\n",
            "------------------------------------------------\n",
            "Epoch:38  \tLoss:0.0812\t Acc: 0.7861\n",
            "------------------------------------------------\n",
            "Epoch:39  \tLoss:0.0792\t Acc: 0.7842\n",
            "------------------------------------------------\n",
            "Epoch:40  \tLoss:0.0782\t Acc: 0.7832\n",
            "------------------------------------------------\n",
            "Epoch:41  \tLoss:0.0778\t Acc: 0.7830\n",
            "------------------------------------------------\n",
            "Epoch:42  \tLoss:0.0773\t Acc: 0.7823\n",
            "------------------------------------------------\n",
            "Epoch:43  \tLoss:0.0785\t Acc: 0.7826\n",
            "------------------------------------------------\n",
            "Epoch:44  \tLoss:0.0737\t Acc: 0.7830\n",
            "------------------------------------------------\n",
            "Epoch:45  \tLoss:0.0791\t Acc: 0.7838\n",
            "------------------------------------------------\n",
            "Epoch:46  \tLoss:0.0691\t Acc: 0.7838\n",
            "------------------------------------------------\n",
            "Epoch:47  \tLoss:0.0698\t Acc: 0.7838\n",
            "------------------------------------------------\n",
            "Epoch:48  \tLoss:0.0660\t Acc: 0.7835\n",
            "------------------------------------------------\n",
            "Epoch:49  \tLoss:0.0646\t Acc: 0.7893\n",
            "------------------------------------------------\n",
            "Epoch:50  \tLoss:0.0640\t Acc: 0.7899\n",
            "------------------------------------------------\n",
            "Epoch:51  \tLoss:0.0630\t Acc: 0.7895\n",
            "------------------------------------------------\n",
            "Epoch:52  \tLoss:0.0631\t Acc: 0.7893\n",
            "------------------------------------------------\n",
            "Epoch:53  \tLoss:0.0603\t Acc: 0.7896\n",
            "------------------------------------------------\n",
            "Epoch:54  \tLoss:0.0590\t Acc: 0.7907\n",
            "------------------------------------------------\n",
            "Epoch:55  \tLoss:0.0579\t Acc: 0.7913\n",
            "------------------------------------------------\n",
            "Epoch:56  \tLoss:0.0585\t Acc: 0.7921\n",
            "------------------------------------------------\n",
            "Epoch:57  \tLoss:0.0559\t Acc: 0.7923\n",
            "------------------------------------------------\n",
            "Epoch:58  \tLoss:0.0602\t Acc: 0.7931\n",
            "------------------------------------------------\n",
            "Epoch:59  \tLoss:0.0578\t Acc: 0.7924\n",
            "------------------------------------------------\n",
            "Epoch:60  \tLoss:0.0593\t Acc: 0.7932\n",
            "*************************************************\n",
            "Final Score for (B:256, Ep:60, LR:0.004)\n",
            "Acc: 0.7932\n"
          ]
        },
        {
          "output_type": "display_data",
          "data": {
            "text/plain": [
              "<IPython.core.display.HTML object>"
            ],
            "text/html": [
              "Waiting for W&B process to finish... <strong style=\"color:green\">(success).</strong>"
            ]
          },
          "metadata": {}
        },
        {
          "output_type": "display_data",
          "data": {
            "text/plain": [
              "VBox(children=(Label(value='0.001 MB of 0.001 MB uploaded (0.000 MB deduped)\\r'), FloatProgress(value=1.0, max…"
            ],
            "application/vnd.jupyter.widget-view+json": {
              "version_major": 2,
              "version_minor": 0,
              "model_id": "45286c79141e4907a1691c16ce5a6f13"
            }
          },
          "metadata": {}
        },
        {
          "output_type": "display_data",
          "data": {
            "text/plain": [
              "<IPython.core.display.HTML object>"
            ],
            "text/html": [
              "<style>\n",
              "    table.wandb td:nth-child(1) { padding: 0 10px; text-align: right }\n",
              "    .wandb-row { display: flex; flex-direction: row; flex-wrap: wrap; width: 100% }\n",
              "    .wandb-col { display: flex; flex-direction: column; flex-basis: 100%; flex: 1; padding: 10px; }\n",
              "    </style>\n",
              "<div class=\"wandb-row\"><div class=\"wandb-col\"><h3>Run history:</h3><br/><table class=\"wandb\"><tr><td>loss</td><td>█▆▆▆▅▅▅▅▅▅▅▅▄▄▄▄▄▃▃▃▂▂▂▂▂▂▂▂▂▂▁▁▁▁▁▁▁▁▁▁</td></tr></table><br/></div><div class=\"wandb-col\"><h3>Run summary:</h3><br/><table class=\"wandb\"><tr><td>loss</td><td>0.05931</td></tr></table><br/></div></div>"
            ]
          },
          "metadata": {}
        },
        {
          "output_type": "display_data",
          "data": {
            "text/plain": [
              "<IPython.core.display.HTML object>"
            ],
            "text/html": [
              "Synced <strong style=\"color:#cdcd00\">MLP</strong>: <a href=\"https://wandb.ai/ahsen/NIDS/runs/2rtybr1f\" target=\"_blank\">https://wandb.ai/ahsen/NIDS/runs/2rtybr1f</a><br/>Synced 5 W&B file(s), 0 media file(s), 0 artifact file(s) and 0 other file(s)"
            ]
          },
          "metadata": {}
        },
        {
          "output_type": "display_data",
          "data": {
            "text/plain": [
              "<IPython.core.display.HTML object>"
            ],
            "text/html": [
              "Find logs at: <code>./wandb/run-20220430_023940-2rtybr1f/logs</code>"
            ]
          },
          "metadata": {}
        },
        {
          "output_type": "display_data",
          "data": {
            "text/plain": [
              "<IPython.core.display.HTML object>"
            ],
            "text/html": [
              "Tracking run with wandb version 0.12.15"
            ]
          },
          "metadata": {}
        },
        {
          "output_type": "display_data",
          "data": {
            "text/plain": [
              "<IPython.core.display.HTML object>"
            ],
            "text/html": [
              "Run data is saved locally in <code>/content/wandb/run-20220430_024105-1fqqt2ki</code>"
            ]
          },
          "metadata": {}
        },
        {
          "output_type": "display_data",
          "data": {
            "text/plain": [
              "<IPython.core.display.HTML object>"
            ],
            "text/html": [
              "Syncing run <strong><a href=\"https://wandb.ai/ahsen/NIDS/runs/1fqqt2ki\" target=\"_blank\">MLP</a></strong> to <a href=\"https://wandb.ai/ahsen/NIDS\" target=\"_blank\">Weights & Biases</a> (<a href=\"https://wandb.me/run\" target=\"_blank\">docs</a>)<br/>"
            ]
          },
          "metadata": {}
        },
        {
          "output_type": "stream",
          "name": "stdout",
          "text": [
            "===============================================\n",
            "Batch Size:32\tEpochs:60\tLR:0.01\n",
            "------------------------------------------------\n",
            "Epoch:1  \tLoss:0.0972\t Acc: 0.7505\n",
            "------------------------------------------------\n",
            "Epoch:2  \tLoss:0.0904\t Acc: 0.7956\n",
            "------------------------------------------------\n",
            "Epoch:3  \tLoss:0.0772\t Acc: 0.7960\n",
            "------------------------------------------------\n",
            "Epoch:4  \tLoss:0.0657\t Acc: 0.7853\n",
            "------------------------------------------------\n",
            "Epoch:5  \tLoss:0.0512\t Acc: 0.7767\n",
            "------------------------------------------------\n",
            "Epoch:6  \tLoss:0.0486\t Acc: 0.7801\n",
            "------------------------------------------------\n",
            "Epoch:7  \tLoss:0.0672\t Acc: 0.7951\n",
            "------------------------------------------------\n",
            "Epoch:8  \tLoss:0.0304\t Acc: 0.7951\n",
            "------------------------------------------------\n",
            "Epoch:9  \tLoss:0.0264\t Acc: 0.7982\n",
            "------------------------------------------------\n",
            "Epoch:10  \tLoss:0.0329\t Acc: 0.7919\n",
            "------------------------------------------------\n",
            "Epoch:11  \tLoss:0.0292\t Acc: 0.7876\n",
            "------------------------------------------------\n",
            "Epoch:12  \tLoss:0.0417\t Acc: 0.7994\n",
            "------------------------------------------------\n",
            "Epoch:13  \tLoss:0.0250\t Acc: 0.7901\n",
            "------------------------------------------------\n",
            "Epoch:14  \tLoss:0.0282\t Acc: 0.7897\n",
            "------------------------------------------------\n",
            "Epoch:15  \tLoss:0.0253\t Acc: 0.7892\n",
            "------------------------------------------------\n",
            "Epoch:16  \tLoss:0.0343\t Acc: 0.7917\n",
            "------------------------------------------------\n",
            "Epoch:17  \tLoss:0.0401\t Acc: 0.7896\n",
            "------------------------------------------------\n",
            "Epoch:18  \tLoss:0.0467\t Acc: 0.7963\n",
            "------------------------------------------------\n",
            "Epoch:19  \tLoss:0.0231\t Acc: 0.7853\n",
            "------------------------------------------------\n",
            "Epoch:20  \tLoss:0.0514\t Acc: 0.7907\n",
            "------------------------------------------------\n",
            "Epoch:21  \tLoss:0.0344\t Acc: 0.7869\n",
            "------------------------------------------------\n",
            "Epoch:22  \tLoss:0.0180\t Acc: 0.7928\n",
            "------------------------------------------------\n",
            "Epoch:23  \tLoss:0.0580\t Acc: 0.7842\n",
            "------------------------------------------------\n",
            "Epoch:24  \tLoss:0.0494\t Acc: 0.7842\n",
            "------------------------------------------------\n",
            "Epoch:25  \tLoss:0.0346\t Acc: 0.7888\n",
            "------------------------------------------------\n",
            "Epoch:26  \tLoss:0.0250\t Acc: 0.7870\n",
            "------------------------------------------------\n",
            "Epoch:27  \tLoss:0.0469\t Acc: 0.7826\n",
            "------------------------------------------------\n",
            "Epoch:28  \tLoss:0.0193\t Acc: 0.7812\n",
            "------------------------------------------------\n",
            "Epoch:29  \tLoss:0.0162\t Acc: 0.7916\n",
            "------------------------------------------------\n",
            "Epoch:30  \tLoss:0.0186\t Acc: 0.7905\n",
            "------------------------------------------------\n",
            "Epoch:31  \tLoss:0.0242\t Acc: 0.7885\n",
            "------------------------------------------------\n",
            "Epoch:32  \tLoss:0.0170\t Acc: 0.7837\n",
            "------------------------------------------------\n",
            "Epoch:33  \tLoss:0.0149\t Acc: 0.7849\n",
            "------------------------------------------------\n",
            "Epoch:34  \tLoss:0.0182\t Acc: 0.7937\n",
            "------------------------------------------------\n",
            "Epoch:35  \tLoss:0.0135\t Acc: 0.7888\n",
            "------------------------------------------------\n",
            "Epoch:36  \tLoss:0.0196\t Acc: 0.7845\n",
            "------------------------------------------------\n",
            "Epoch:37  \tLoss:0.0253\t Acc: 0.7879\n",
            "------------------------------------------------\n",
            "Epoch:38  \tLoss:0.0212\t Acc: 0.7896\n",
            "------------------------------------------------\n",
            "Epoch:39  \tLoss:0.0282\t Acc: 0.7670\n",
            "------------------------------------------------\n",
            "Epoch:40  \tLoss:0.0144\t Acc: 0.7754\n",
            "------------------------------------------------\n",
            "Epoch:41  \tLoss:0.0222\t Acc: 0.7857\n",
            "------------------------------------------------\n",
            "Epoch:42  \tLoss:0.0083\t Acc: 0.8005\n",
            "------------------------------------------------\n",
            "Epoch:43  \tLoss:0.0121\t Acc: 0.7781\n",
            "------------------------------------------------\n",
            "Epoch:44  \tLoss:0.0083\t Acc: 0.7686\n",
            "------------------------------------------------\n",
            "Epoch:45  \tLoss:0.0263\t Acc: 0.7762\n",
            "------------------------------------------------\n",
            "Epoch:46  \tLoss:0.0173\t Acc: 0.7686\n",
            "------------------------------------------------\n",
            "Epoch:47  \tLoss:0.0077\t Acc: 0.7842\n",
            "------------------------------------------------\n",
            "Epoch:48  \tLoss:0.0129\t Acc: 0.7942\n",
            "------------------------------------------------\n",
            "Epoch:49  \tLoss:0.0237\t Acc: 0.7947\n",
            "------------------------------------------------\n",
            "Epoch:50  \tLoss:0.0213\t Acc: 0.7805\n",
            "------------------------------------------------\n",
            "Epoch:51  \tLoss:0.0162\t Acc: 0.7779\n",
            "------------------------------------------------\n",
            "Epoch:52  \tLoss:0.0176\t Acc: 0.7919\n",
            "------------------------------------------------\n",
            "Epoch:53  \tLoss:0.0293\t Acc: 0.7827\n",
            "------------------------------------------------\n",
            "Epoch:54  \tLoss:0.0221\t Acc: 0.8029\n",
            "------------------------------------------------\n",
            "Epoch:55  \tLoss:0.0182\t Acc: 0.7641\n",
            "------------------------------------------------\n",
            "Epoch:56  \tLoss:0.0150\t Acc: 0.7849\n",
            "------------------------------------------------\n",
            "Epoch:57  \tLoss:0.0282\t Acc: 0.7809\n",
            "------------------------------------------------\n",
            "Epoch:58  \tLoss:0.0266\t Acc: 0.7817\n",
            "------------------------------------------------\n",
            "Epoch:59  \tLoss:0.0299\t Acc: 0.7823\n",
            "------------------------------------------------\n",
            "Epoch:60  \tLoss:0.0295\t Acc: 0.7864\n",
            "*************************************************\n",
            "Final Score for (B:32, Ep:60, LR:0.01)\n",
            "Acc: 0.7864\n"
          ]
        },
        {
          "output_type": "display_data",
          "data": {
            "text/plain": [
              "<IPython.core.display.HTML object>"
            ],
            "text/html": [
              "Waiting for W&B process to finish... <strong style=\"color:green\">(success).</strong>"
            ]
          },
          "metadata": {}
        },
        {
          "output_type": "display_data",
          "data": {
            "text/plain": [
              "VBox(children=(Label(value='0.001 MB of 0.001 MB uploaded (0.000 MB deduped)\\r'), FloatProgress(value=1.0, max…"
            ],
            "application/vnd.jupyter.widget-view+json": {
              "version_major": 2,
              "version_minor": 0,
              "model_id": "e07933a96e5d498fbbc9fe4ddbde86de"
            }
          },
          "metadata": {}
        },
        {
          "output_type": "display_data",
          "data": {
            "text/plain": [
              "<IPython.core.display.HTML object>"
            ],
            "text/html": [
              "<style>\n",
              "    table.wandb td:nth-child(1) { padding: 0 10px; text-align: right }\n",
              "    .wandb-row { display: flex; flex-direction: row; flex-wrap: wrap; width: 100% }\n",
              "    .wandb-col { display: flex; flex-direction: column; flex-basis: 100%; flex: 1; padding: 10px; }\n",
              "    </style>\n",
              "<div class=\"wandb-row\"><div class=\"wandb-col\"><h3>Run history:</h3><br/><table class=\"wandb\"><tr><td>loss</td><td>█▇▆▄▆▃▃▃▂▃▃▄▂▄▂▅▃▂▂▂▂▂▂▁▂▂▂▂▁▁▂▁▂▂▂▃▂▂▂▃</td></tr></table><br/></div><div class=\"wandb-col\"><h3>Run summary:</h3><br/><table class=\"wandb\"><tr><td>loss</td><td>0.02955</td></tr></table><br/></div></div>"
            ]
          },
          "metadata": {}
        },
        {
          "output_type": "display_data",
          "data": {
            "text/plain": [
              "<IPython.core.display.HTML object>"
            ],
            "text/html": [
              "Synced <strong style=\"color:#cdcd00\">MLP</strong>: <a href=\"https://wandb.ai/ahsen/NIDS/runs/1fqqt2ki\" target=\"_blank\">https://wandb.ai/ahsen/NIDS/runs/1fqqt2ki</a><br/>Synced 5 W&B file(s), 0 media file(s), 0 artifact file(s) and 0 other file(s)"
            ]
          },
          "metadata": {}
        },
        {
          "output_type": "display_data",
          "data": {
            "text/plain": [
              "<IPython.core.display.HTML object>"
            ],
            "text/html": [
              "Find logs at: <code>./wandb/run-20220430_024105-1fqqt2ki/logs</code>"
            ]
          },
          "metadata": {}
        },
        {
          "output_type": "display_data",
          "data": {
            "text/plain": [
              "<IPython.core.display.HTML object>"
            ],
            "text/html": [
              "Tracking run with wandb version 0.12.15"
            ]
          },
          "metadata": {}
        },
        {
          "output_type": "display_data",
          "data": {
            "text/plain": [
              "<IPython.core.display.HTML object>"
            ],
            "text/html": [
              "Run data is saved locally in <code>/content/wandb/run-20220430_024458-lhftml92</code>"
            ]
          },
          "metadata": {}
        },
        {
          "output_type": "display_data",
          "data": {
            "text/plain": [
              "<IPython.core.display.HTML object>"
            ],
            "text/html": [
              "Syncing run <strong><a href=\"https://wandb.ai/ahsen/NIDS/runs/lhftml92\" target=\"_blank\">MLP</a></strong> to <a href=\"https://wandb.ai/ahsen/NIDS\" target=\"_blank\">Weights & Biases</a> (<a href=\"https://wandb.me/run\" target=\"_blank\">docs</a>)<br/>"
            ]
          },
          "metadata": {}
        },
        {
          "output_type": "stream",
          "name": "stdout",
          "text": [
            "===============================================\n",
            "Batch Size:64\tEpochs:60\tLR:0.01\n",
            "------------------------------------------------\n",
            "Epoch:1  \tLoss:0.1201\t Acc: 0.7732\n",
            "------------------------------------------------\n",
            "Epoch:2  \tLoss:0.0796\t Acc: 0.7820\n",
            "------------------------------------------------\n",
            "Epoch:3  \tLoss:0.0668\t Acc: 0.7807\n",
            "------------------------------------------------\n",
            "Epoch:4  \tLoss:0.0449\t Acc: 0.7769\n",
            "------------------------------------------------\n",
            "Epoch:5  \tLoss:0.0488\t Acc: 0.7754\n",
            "------------------------------------------------\n",
            "Epoch:6  \tLoss:0.0459\t Acc: 0.7872\n",
            "------------------------------------------------\n",
            "Epoch:7  \tLoss:0.0464\t Acc: 0.7885\n",
            "------------------------------------------------\n",
            "Epoch:8  \tLoss:0.0623\t Acc: 0.7866\n",
            "------------------------------------------------\n",
            "Epoch:9  \tLoss:0.0582\t Acc: 0.7858\n",
            "------------------------------------------------\n",
            "Epoch:10  \tLoss:0.0581\t Acc: 0.7641\n",
            "------------------------------------------------\n",
            "Epoch:11  \tLoss:0.0325\t Acc: 0.7894\n",
            "------------------------------------------------\n",
            "Epoch:12  \tLoss:0.0297\t Acc: 0.7937\n",
            "------------------------------------------------\n",
            "Epoch:13  \tLoss:0.0220\t Acc: 0.7917\n",
            "------------------------------------------------\n",
            "Epoch:14  \tLoss:0.0299\t Acc: 0.7846\n",
            "------------------------------------------------\n",
            "Epoch:15  \tLoss:0.0260\t Acc: 0.7918\n",
            "------------------------------------------------\n",
            "Epoch:16  \tLoss:0.0170\t Acc: 0.7903\n",
            "------------------------------------------------\n",
            "Epoch:17  \tLoss:0.0388\t Acc: 0.7889\n",
            "------------------------------------------------\n",
            "Epoch:18  \tLoss:0.0168\t Acc: 0.8071\n",
            "------------------------------------------------\n",
            "Epoch:19  \tLoss:0.0149\t Acc: 0.7900\n",
            "------------------------------------------------\n",
            "Epoch:20  \tLoss:0.0494\t Acc: 0.7804\n",
            "------------------------------------------------\n",
            "Epoch:21  \tLoss:0.0268\t Acc: 0.7860\n",
            "------------------------------------------------\n",
            "Epoch:22  \tLoss:0.0257\t Acc: 0.8045\n",
            "------------------------------------------------\n",
            "Epoch:23  \tLoss:0.0200\t Acc: 0.7834\n",
            "------------------------------------------------\n",
            "Epoch:24  \tLoss:0.0617\t Acc: 0.7783\n",
            "------------------------------------------------\n",
            "Epoch:25  \tLoss:0.0327\t Acc: 0.7886\n",
            "------------------------------------------------\n",
            "Epoch:26  \tLoss:0.0365\t Acc: 0.7926\n",
            "------------------------------------------------\n",
            "Epoch:27  \tLoss:0.0250\t Acc: 0.7915\n",
            "------------------------------------------------\n",
            "Epoch:28  \tLoss:0.0161\t Acc: 0.7995\n",
            "------------------------------------------------\n",
            "Epoch:29  \tLoss:0.0124\t Acc: 0.7814\n",
            "------------------------------------------------\n",
            "Epoch:30  \tLoss:0.0144\t Acc: 0.8034\n",
            "------------------------------------------------\n",
            "Epoch:31  \tLoss:0.0443\t Acc: 0.7831\n",
            "------------------------------------------------\n",
            "Epoch:32  \tLoss:0.0157\t Acc: 0.7778\n",
            "------------------------------------------------\n",
            "Epoch:33  \tLoss:0.0213\t Acc: 0.7749\n",
            "------------------------------------------------\n",
            "Epoch:34  \tLoss:0.0147\t Acc: 0.7697\n",
            "------------------------------------------------\n",
            "Epoch:35  \tLoss:0.0143\t Acc: 0.7834\n",
            "------------------------------------------------\n",
            "Epoch:36  \tLoss:0.0208\t Acc: 0.7836\n",
            "------------------------------------------------\n",
            "Epoch:37  \tLoss:0.0188\t Acc: 0.7829\n",
            "------------------------------------------------\n",
            "Epoch:38  \tLoss:0.0243\t Acc: 0.7786\n",
            "------------------------------------------------\n",
            "Epoch:39  \tLoss:0.0288\t Acc: 0.7874\n",
            "------------------------------------------------\n",
            "Epoch:40  \tLoss:0.0206\t Acc: 0.7863\n",
            "------------------------------------------------\n",
            "Epoch:41  \tLoss:0.0235\t Acc: 0.7911\n",
            "------------------------------------------------\n",
            "Epoch:42  \tLoss:0.0180\t Acc: 0.7832\n",
            "------------------------------------------------\n",
            "Epoch:43  \tLoss:0.0173\t Acc: 0.7926\n",
            "------------------------------------------------\n",
            "Epoch:44  \tLoss:0.0187\t Acc: 0.7995\n",
            "------------------------------------------------\n",
            "Epoch:45  \tLoss:0.0189\t Acc: 0.7817\n",
            "------------------------------------------------\n",
            "Epoch:46  \tLoss:0.0261\t Acc: 0.7904\n",
            "------------------------------------------------\n",
            "Epoch:47  \tLoss:0.0230\t Acc: 0.7877\n",
            "------------------------------------------------\n",
            "Epoch:48  \tLoss:0.0175\t Acc: 0.7759\n",
            "------------------------------------------------\n",
            "Epoch:49  \tLoss:0.0130\t Acc: 0.7851\n",
            "------------------------------------------------\n",
            "Epoch:50  \tLoss:0.0125\t Acc: 0.7725\n",
            "------------------------------------------------\n",
            "Epoch:51  \tLoss:0.0234\t Acc: 0.7835\n",
            "------------------------------------------------\n",
            "Epoch:52  \tLoss:0.0428\t Acc: 0.7683\n",
            "------------------------------------------------\n",
            "Epoch:53  \tLoss:0.0290\t Acc: 0.7757\n",
            "------------------------------------------------\n",
            "Epoch:54  \tLoss:0.0193\t Acc: 0.7730\n",
            "------------------------------------------------\n",
            "Epoch:55  \tLoss:0.0287\t Acc: 0.7651\n",
            "------------------------------------------------\n",
            "Epoch:56  \tLoss:0.0226\t Acc: 0.7694\n",
            "------------------------------------------------\n",
            "Epoch:57  \tLoss:0.0182\t Acc: 0.7734\n",
            "------------------------------------------------\n",
            "Epoch:58  \tLoss:0.0231\t Acc: 0.7634\n",
            "------------------------------------------------\n",
            "Epoch:59  \tLoss:0.0175\t Acc: 0.7736\n",
            "------------------------------------------------\n",
            "Epoch:60  \tLoss:0.0239\t Acc: 0.7765\n",
            "*************************************************\n",
            "Final Score for (B:64, Ep:60, LR:0.01)\n",
            "Acc: 0.7765\n"
          ]
        },
        {
          "output_type": "display_data",
          "data": {
            "text/plain": [
              "<IPython.core.display.HTML object>"
            ],
            "text/html": [
              "Waiting for W&B process to finish... <strong style=\"color:green\">(success).</strong>"
            ]
          },
          "metadata": {}
        },
        {
          "output_type": "display_data",
          "data": {
            "text/plain": [
              "VBox(children=(Label(value='0.001 MB of 0.001 MB uploaded (0.000 MB deduped)\\r'), FloatProgress(value=1.0, max…"
            ],
            "application/vnd.jupyter.widget-view+json": {
              "version_major": 2,
              "version_minor": 0,
              "model_id": "13428a1151ae440b9b5e5b01ba9e2a47"
            }
          },
          "metadata": {}
        },
        {
          "output_type": "display_data",
          "data": {
            "text/plain": [
              "<IPython.core.display.HTML object>"
            ],
            "text/html": [
              "<style>\n",
              "    table.wandb td:nth-child(1) { padding: 0 10px; text-align: right }\n",
              "    .wandb-row { display: flex; flex-direction: row; flex-wrap: wrap; width: 100% }\n",
              "    .wandb-col { display: flex; flex-direction: column; flex-basis: 100%; flex: 1; padding: 10px; }\n",
              "    </style>\n",
              "<div class=\"wandb-row\"><div class=\"wandb-col\"><h3>Run history:</h3><br/><table class=\"wandb\"><tr><td>loss</td><td>█▅▃▃▃▄▄▂▂▂▁▃▁▃▂▁▂▃▁▁▃▁▁▁▁▂▂▂▁▁▂▂▁▁▃▂▂▂▂▂</td></tr></table><br/></div><div class=\"wandb-col\"><h3>Run summary:</h3><br/><table class=\"wandb\"><tr><td>loss</td><td>0.02391</td></tr></table><br/></div></div>"
            ]
          },
          "metadata": {}
        },
        {
          "output_type": "display_data",
          "data": {
            "text/plain": [
              "<IPython.core.display.HTML object>"
            ],
            "text/html": [
              "Synced <strong style=\"color:#cdcd00\">MLP</strong>: <a href=\"https://wandb.ai/ahsen/NIDS/runs/lhftml92\" target=\"_blank\">https://wandb.ai/ahsen/NIDS/runs/lhftml92</a><br/>Synced 5 W&B file(s), 0 media file(s), 0 artifact file(s) and 0 other file(s)"
            ]
          },
          "metadata": {}
        },
        {
          "output_type": "display_data",
          "data": {
            "text/plain": [
              "<IPython.core.display.HTML object>"
            ],
            "text/html": [
              "Find logs at: <code>./wandb/run-20220430_024458-lhftml92/logs</code>"
            ]
          },
          "metadata": {}
        },
        {
          "output_type": "display_data",
          "data": {
            "text/plain": [
              "<IPython.core.display.HTML object>"
            ],
            "text/html": [
              "Tracking run with wandb version 0.12.15"
            ]
          },
          "metadata": {}
        },
        {
          "output_type": "display_data",
          "data": {
            "text/plain": [
              "<IPython.core.display.HTML object>"
            ],
            "text/html": [
              "Run data is saved locally in <code>/content/wandb/run-20220430_024724-12625hgi</code>"
            ]
          },
          "metadata": {}
        },
        {
          "output_type": "display_data",
          "data": {
            "text/plain": [
              "<IPython.core.display.HTML object>"
            ],
            "text/html": [
              "Syncing run <strong><a href=\"https://wandb.ai/ahsen/NIDS/runs/12625hgi\" target=\"_blank\">MLP</a></strong> to <a href=\"https://wandb.ai/ahsen/NIDS\" target=\"_blank\">Weights & Biases</a> (<a href=\"https://wandb.me/run\" target=\"_blank\">docs</a>)<br/>"
            ]
          },
          "metadata": {}
        },
        {
          "output_type": "stream",
          "name": "stdout",
          "text": [
            "===============================================\n",
            "Batch Size:128\tEpochs:60\tLR:0.01\n",
            "------------------------------------------------\n",
            "Epoch:1  \tLoss:0.1793\t Acc: 0.7864\n",
            "------------------------------------------------\n",
            "Epoch:2  \tLoss:0.1525\t Acc: 0.7843\n",
            "------------------------------------------------\n",
            "Epoch:3  \tLoss:0.1453\t Acc: 0.7957\n",
            "------------------------------------------------\n",
            "Epoch:4  \tLoss:0.1334\t Acc: 0.8011\n",
            "------------------------------------------------\n",
            "Epoch:5  \tLoss:0.1107\t Acc: 0.7936\n",
            "------------------------------------------------\n",
            "Epoch:6  \tLoss:0.1125\t Acc: 0.8004\n",
            "------------------------------------------------\n",
            "Epoch:7  \tLoss:0.0666\t Acc: 0.7986\n",
            "------------------------------------------------\n",
            "Epoch:8  \tLoss:0.0594\t Acc: 0.7951\n",
            "------------------------------------------------\n",
            "Epoch:9  \tLoss:0.0571\t Acc: 0.7961\n",
            "------------------------------------------------\n",
            "Epoch:10  \tLoss:0.0732\t Acc: 0.8004\n",
            "------------------------------------------------\n",
            "Epoch:11  \tLoss:0.0511\t Acc: 0.7987\n",
            "------------------------------------------------\n",
            "Epoch:12  \tLoss:0.0453\t Acc: 0.7982\n",
            "------------------------------------------------\n",
            "Epoch:13  \tLoss:0.0390\t Acc: 0.7916\n",
            "------------------------------------------------\n",
            "Epoch:14  \tLoss:0.0498\t Acc: 0.7931\n",
            "------------------------------------------------\n",
            "Epoch:15  \tLoss:0.0354\t Acc: 0.7940\n",
            "------------------------------------------------\n",
            "Epoch:16  \tLoss:0.0348\t Acc: 0.7906\n",
            "------------------------------------------------\n",
            "Epoch:17  \tLoss:0.0328\t Acc: 0.7902\n",
            "------------------------------------------------\n",
            "Epoch:18  \tLoss:0.0313\t Acc: 0.7935\n",
            "------------------------------------------------\n",
            "Epoch:19  \tLoss:0.0294\t Acc: 0.7905\n",
            "------------------------------------------------\n",
            "Epoch:20  \tLoss:0.0367\t Acc: 0.7940\n",
            "------------------------------------------------\n",
            "Epoch:21  \tLoss:0.0311\t Acc: 0.7902\n",
            "------------------------------------------------\n",
            "Epoch:22  \tLoss:0.0363\t Acc: 0.7897\n",
            "------------------------------------------------\n",
            "Epoch:23  \tLoss:0.0366\t Acc: 0.7811\n",
            "------------------------------------------------\n",
            "Epoch:24  \tLoss:0.0260\t Acc: 0.7916\n",
            "------------------------------------------------\n",
            "Epoch:25  \tLoss:0.0233\t Acc: 0.7826\n",
            "------------------------------------------------\n",
            "Epoch:26  \tLoss:0.0322\t Acc: 0.7885\n",
            "------------------------------------------------\n",
            "Epoch:27  \tLoss:0.0268\t Acc: 0.7934\n",
            "------------------------------------------------\n",
            "Epoch:28  \tLoss:0.0382\t Acc: 0.7823\n",
            "------------------------------------------------\n",
            "Epoch:29  \tLoss:0.0291\t Acc: 0.7874\n",
            "------------------------------------------------\n",
            "Epoch:30  \tLoss:0.0296\t Acc: 0.7812\n",
            "------------------------------------------------\n",
            "Epoch:31  \tLoss:0.0280\t Acc: 0.7673\n",
            "------------------------------------------------\n",
            "Epoch:32  \tLoss:0.0303\t Acc: 0.7667\n",
            "------------------------------------------------\n",
            "Epoch:33  \tLoss:0.0243\t Acc: 0.7967\n",
            "------------------------------------------------\n",
            "Epoch:34  \tLoss:0.0230\t Acc: 0.7965\n",
            "------------------------------------------------\n",
            "Epoch:35  \tLoss:0.0193\t Acc: 0.7735\n",
            "------------------------------------------------\n",
            "Epoch:36  \tLoss:0.0323\t Acc: 0.7596\n",
            "------------------------------------------------\n",
            "Epoch:37  \tLoss:0.0353\t Acc: 0.7620\n",
            "------------------------------------------------\n",
            "Epoch:38  \tLoss:0.0397\t Acc: 0.7725\n",
            "------------------------------------------------\n",
            "Epoch:39  \tLoss:0.0307\t Acc: 0.7701\n",
            "------------------------------------------------\n",
            "Epoch:40  \tLoss:0.0232\t Acc: 0.7720\n",
            "------------------------------------------------\n",
            "Epoch:41  \tLoss:0.0232\t Acc: 0.7775\n",
            "------------------------------------------------\n",
            "Epoch:42  \tLoss:0.0245\t Acc: 0.7810\n",
            "------------------------------------------------\n",
            "Epoch:43  \tLoss:0.0242\t Acc: 0.7572\n",
            "------------------------------------------------\n",
            "Epoch:44  \tLoss:0.0250\t Acc: 0.7646\n",
            "------------------------------------------------\n",
            "Epoch:45  \tLoss:0.0256\t Acc: 0.7669\n",
            "------------------------------------------------\n",
            "Epoch:46  \tLoss:0.0177\t Acc: 0.7831\n",
            "------------------------------------------------\n",
            "Epoch:47  \tLoss:0.0287\t Acc: 0.7656\n",
            "------------------------------------------------\n",
            "Epoch:48  \tLoss:0.0180\t Acc: 0.7784\n",
            "------------------------------------------------\n",
            "Epoch:49  \tLoss:0.0269\t Acc: 0.7601\n",
            "------------------------------------------------\n",
            "Epoch:50  \tLoss:0.0174\t Acc: 0.7726\n",
            "------------------------------------------------\n",
            "Epoch:51  \tLoss:0.0182\t Acc: 0.7716\n",
            "------------------------------------------------\n",
            "Epoch:52  \tLoss:0.0296\t Acc: 0.7787\n",
            "------------------------------------------------\n",
            "Epoch:53  \tLoss:0.0262\t Acc: 0.7715\n",
            "------------------------------------------------\n",
            "Epoch:54  \tLoss:0.0423\t Acc: 0.7731\n",
            "------------------------------------------------\n",
            "Epoch:55  \tLoss:0.0288\t Acc: 0.7811\n",
            "------------------------------------------------\n",
            "Epoch:56  \tLoss:0.0335\t Acc: 0.7807\n",
            "------------------------------------------------\n",
            "Epoch:57  \tLoss:0.0227\t Acc: 0.7795\n",
            "------------------------------------------------\n",
            "Epoch:58  \tLoss:0.0279\t Acc: 0.7828\n",
            "------------------------------------------------\n",
            "Epoch:59  \tLoss:0.0221\t Acc: 0.7805\n",
            "------------------------------------------------\n",
            "Epoch:60  \tLoss:0.0231\t Acc: 0.7809\n",
            "*************************************************\n",
            "Final Score for (B:128, Ep:60, LR:0.01)\n",
            "Acc: 0.7809\n"
          ]
        },
        {
          "output_type": "display_data",
          "data": {
            "text/plain": [
              "<IPython.core.display.HTML object>"
            ],
            "text/html": [
              "Waiting for W&B process to finish... <strong style=\"color:green\">(success).</strong>"
            ]
          },
          "metadata": {}
        },
        {
          "output_type": "display_data",
          "data": {
            "text/plain": [
              "VBox(children=(Label(value='0.001 MB of 0.001 MB uploaded (0.000 MB deduped)\\r'), FloatProgress(value=1.0, max…"
            ],
            "application/vnd.jupyter.widget-view+json": {
              "version_major": 2,
              "version_minor": 0,
              "model_id": "a11bd2fe0e234417be6cff0195687d7a"
            }
          },
          "metadata": {}
        },
        {
          "output_type": "display_data",
          "data": {
            "text/plain": [
              "<IPython.core.display.HTML object>"
            ],
            "text/html": [
              "<style>\n",
              "    table.wandb td:nth-child(1) { padding: 0 10px; text-align: right }\n",
              "    .wandb-row { display: flex; flex-direction: row; flex-wrap: wrap; width: 100% }\n",
              "    .wandb-col { display: flex; flex-direction: column; flex-basis: 100%; flex: 1; padding: 10px; }\n",
              "    </style>\n",
              "<div class=\"wandb-row\"><div class=\"wandb-col\"><h3>Run history:</h3><br/><table class=\"wandb\"><tr><td>loss</td><td>█▇▆▅▃▃▃▂▂▂▂▂▂▂▂▂▁▂▂▂▁▂▁▁▂▂▁▁▁▁▁▁▁▁▂▁▁▂▁▁</td></tr></table><br/></div><div class=\"wandb-col\"><h3>Run summary:</h3><br/><table class=\"wandb\"><tr><td>loss</td><td>0.02308</td></tr></table><br/></div></div>"
            ]
          },
          "metadata": {}
        },
        {
          "output_type": "display_data",
          "data": {
            "text/plain": [
              "<IPython.core.display.HTML object>"
            ],
            "text/html": [
              "Synced <strong style=\"color:#cdcd00\">MLP</strong>: <a href=\"https://wandb.ai/ahsen/NIDS/runs/12625hgi\" target=\"_blank\">https://wandb.ai/ahsen/NIDS/runs/12625hgi</a><br/>Synced 5 W&B file(s), 0 media file(s), 0 artifact file(s) and 0 other file(s)"
            ]
          },
          "metadata": {}
        },
        {
          "output_type": "display_data",
          "data": {
            "text/plain": [
              "<IPython.core.display.HTML object>"
            ],
            "text/html": [
              "Find logs at: <code>./wandb/run-20220430_024724-12625hgi/logs</code>"
            ]
          },
          "metadata": {}
        },
        {
          "output_type": "display_data",
          "data": {
            "text/plain": [
              "<IPython.core.display.HTML object>"
            ],
            "text/html": [
              "Tracking run with wandb version 0.12.15"
            ]
          },
          "metadata": {}
        },
        {
          "output_type": "display_data",
          "data": {
            "text/plain": [
              "<IPython.core.display.HTML object>"
            ],
            "text/html": [
              "Run data is saved locally in <code>/content/wandb/run-20220430_024905-1zb0k6he</code>"
            ]
          },
          "metadata": {}
        },
        {
          "output_type": "display_data",
          "data": {
            "text/plain": [
              "<IPython.core.display.HTML object>"
            ],
            "text/html": [
              "Syncing run <strong><a href=\"https://wandb.ai/ahsen/NIDS/runs/1zb0k6he\" target=\"_blank\">MLP</a></strong> to <a href=\"https://wandb.ai/ahsen/NIDS\" target=\"_blank\">Weights & Biases</a> (<a href=\"https://wandb.me/run\" target=\"_blank\">docs</a>)<br/>"
            ]
          },
          "metadata": {}
        },
        {
          "output_type": "stream",
          "name": "stdout",
          "text": [
            "===============================================\n",
            "Batch Size:256\tEpochs:60\tLR:0.01\n",
            "------------------------------------------------\n",
            "Epoch:1  \tLoss:0.1812\t Acc: 0.7756\n",
            "------------------------------------------------\n",
            "Epoch:2  \tLoss:0.1431\t Acc: 0.7752\n",
            "------------------------------------------------\n",
            "Epoch:3  \tLoss:0.1285\t Acc: 0.7867\n",
            "------------------------------------------------\n",
            "Epoch:4  \tLoss:0.1126\t Acc: 0.7886\n",
            "------------------------------------------------\n",
            "Epoch:5  \tLoss:0.1125\t Acc: 0.7879\n",
            "------------------------------------------------\n",
            "Epoch:6  \tLoss:0.1067\t Acc: 0.7814\n",
            "------------------------------------------------\n",
            "Epoch:7  \tLoss:0.1045\t Acc: 0.7823\n",
            "------------------------------------------------\n",
            "Epoch:8  \tLoss:0.0987\t Acc: 0.7802\n",
            "------------------------------------------------\n",
            "Epoch:9  \tLoss:0.0836\t Acc: 0.7798\n",
            "------------------------------------------------\n",
            "Epoch:10  \tLoss:0.0760\t Acc: 0.7816\n",
            "------------------------------------------------\n",
            "Epoch:11  \tLoss:0.0720\t Acc: 0.7811\n",
            "------------------------------------------------\n",
            "Epoch:12  \tLoss:0.0683\t Acc: 0.7824\n",
            "------------------------------------------------\n",
            "Epoch:13  \tLoss:0.0651\t Acc: 0.7956\n",
            "------------------------------------------------\n",
            "Epoch:14  \tLoss:0.0642\t Acc: 0.8035\n",
            "------------------------------------------------\n",
            "Epoch:15  \tLoss:0.0644\t Acc: 0.8042\n",
            "------------------------------------------------\n",
            "Epoch:16  \tLoss:0.0625\t Acc: 0.8035\n",
            "------------------------------------------------\n",
            "Epoch:17  \tLoss:0.0612\t Acc: 0.8012\n",
            "------------------------------------------------\n",
            "Epoch:18  \tLoss:0.0604\t Acc: 0.7998\n",
            "------------------------------------------------\n",
            "Epoch:19  \tLoss:0.0600\t Acc: 0.8011\n",
            "------------------------------------------------\n",
            "Epoch:20  \tLoss:0.0603\t Acc: 0.8005\n",
            "------------------------------------------------\n",
            "Epoch:21  \tLoss:0.0585\t Acc: 0.8006\n",
            "------------------------------------------------\n",
            "Epoch:22  \tLoss:0.0539\t Acc: 0.7986\n",
            "------------------------------------------------\n",
            "Epoch:23  \tLoss:0.0513\t Acc: 0.7986\n",
            "------------------------------------------------\n",
            "Epoch:24  \tLoss:0.0533\t Acc: 0.7944\n",
            "------------------------------------------------\n",
            "Epoch:25  \tLoss:0.0454\t Acc: 0.7991\n",
            "------------------------------------------------\n",
            "Epoch:26  \tLoss:0.0594\t Acc: 0.7853\n",
            "------------------------------------------------\n",
            "Epoch:27  \tLoss:0.0441\t Acc: 0.7837\n",
            "------------------------------------------------\n",
            "Epoch:28  \tLoss:0.0503\t Acc: 0.7876\n",
            "------------------------------------------------\n",
            "Epoch:29  \tLoss:0.0427\t Acc: 0.7798\n",
            "------------------------------------------------\n",
            "Epoch:30  \tLoss:0.0469\t Acc: 0.7872\n",
            "------------------------------------------------\n",
            "Epoch:31  \tLoss:0.0408\t Acc: 0.7762\n",
            "------------------------------------------------\n",
            "Epoch:32  \tLoss:0.0414\t Acc: 0.7719\n",
            "------------------------------------------------\n",
            "Epoch:33  \tLoss:0.0431\t Acc: 0.7816\n",
            "------------------------------------------------\n",
            "Epoch:34  \tLoss:0.0541\t Acc: 0.7850\n",
            "------------------------------------------------\n",
            "Epoch:35  \tLoss:0.0479\t Acc: 0.7909\n",
            "------------------------------------------------\n",
            "Epoch:36  \tLoss:0.0451\t Acc: 0.7948\n",
            "------------------------------------------------\n",
            "Epoch:37  \tLoss:0.0423\t Acc: 0.7917\n",
            "------------------------------------------------\n",
            "Epoch:38  \tLoss:0.0436\t Acc: 0.7976\n",
            "------------------------------------------------\n",
            "Epoch:39  \tLoss:0.0415\t Acc: 0.7947\n",
            "------------------------------------------------\n",
            "Epoch:40  \tLoss:0.0402\t Acc: 0.7849\n",
            "------------------------------------------------\n",
            "Epoch:41  \tLoss:0.0408\t Acc: 0.7857\n",
            "------------------------------------------------\n",
            "Epoch:42  \tLoss:0.0394\t Acc: 0.7843\n",
            "------------------------------------------------\n",
            "Epoch:43  \tLoss:0.0365\t Acc: 0.7828\n",
            "------------------------------------------------\n",
            "Epoch:44  \tLoss:0.0316\t Acc: 0.7884\n",
            "------------------------------------------------\n",
            "Epoch:45  \tLoss:0.0369\t Acc: 0.7822\n",
            "------------------------------------------------\n",
            "Epoch:46  \tLoss:0.0335\t Acc: 0.7838\n",
            "------------------------------------------------\n",
            "Epoch:47  \tLoss:0.0361\t Acc: 0.7781\n",
            "------------------------------------------------\n",
            "Epoch:48  \tLoss:0.0343\t Acc: 0.7845\n",
            "------------------------------------------------\n",
            "Epoch:49  \tLoss:0.0341\t Acc: 0.7742\n",
            "------------------------------------------------\n",
            "Epoch:50  \tLoss:0.0298\t Acc: 0.7787\n",
            "------------------------------------------------\n",
            "Epoch:51  \tLoss:0.0363\t Acc: 0.7806\n",
            "------------------------------------------------\n",
            "Epoch:52  \tLoss:0.0284\t Acc: 0.7830\n",
            "------------------------------------------------\n",
            "Epoch:53  \tLoss:0.0337\t Acc: 0.7821\n",
            "------------------------------------------------\n",
            "Epoch:54  \tLoss:0.0326\t Acc: 0.7830\n",
            "------------------------------------------------\n",
            "Epoch:55  \tLoss:0.0311\t Acc: 0.7782\n",
            "------------------------------------------------\n",
            "Epoch:56  \tLoss:0.0294\t Acc: 0.7774\n",
            "------------------------------------------------\n",
            "Epoch:57  \tLoss:0.0366\t Acc: 0.7831\n",
            "------------------------------------------------\n",
            "Epoch:58  \tLoss:0.0296\t Acc: 0.7807\n",
            "------------------------------------------------\n",
            "Epoch:59  \tLoss:0.0296\t Acc: 0.7854\n",
            "------------------------------------------------\n",
            "Epoch:60  \tLoss:0.0299\t Acc: 0.7847\n",
            "*************************************************\n",
            "Final Score for (B:256, Ep:60, LR:0.01)\n",
            "Acc: 0.7847\n"
          ]
        },
        {
          "output_type": "display_data",
          "data": {
            "text/plain": [
              "<IPython.core.display.HTML object>"
            ],
            "text/html": [
              "Waiting for W&B process to finish... <strong style=\"color:green\">(success).</strong>"
            ]
          },
          "metadata": {}
        },
        {
          "output_type": "display_data",
          "data": {
            "text/plain": [
              "VBox(children=(Label(value='0.001 MB of 0.001 MB uploaded (0.000 MB deduped)\\r'), FloatProgress(value=1.0, max…"
            ],
            "application/vnd.jupyter.widget-view+json": {
              "version_major": 2,
              "version_minor": 0,
              "model_id": "4272c2ed87c84d4baa3f075c9bb50ddb"
            }
          },
          "metadata": {}
        },
        {
          "output_type": "display_data",
          "data": {
            "text/plain": [
              "<IPython.core.display.HTML object>"
            ],
            "text/html": [
              "<style>\n",
              "    table.wandb td:nth-child(1) { padding: 0 10px; text-align: right }\n",
              "    .wandb-row { display: flex; flex-direction: row; flex-wrap: wrap; width: 100% }\n",
              "    .wandb-col { display: flex; flex-direction: column; flex-basis: 100%; flex: 1; padding: 10px; }\n",
              "    </style>\n",
              "<div class=\"wandb-row\"><div class=\"wandb-col\"><h3>Run history:</h3><br/><table class=\"wandb\"><tr><td>loss</td><td>█▆▅▅▄▄▃▃▃▃▃▃▂▂▂▂▂▂▂▂▂▂▂▂▂▂▂▂▁▁▁▁▁▁▁▁▁▁▁▁</td></tr></table><br/></div><div class=\"wandb-col\"><h3>Run summary:</h3><br/><table class=\"wandb\"><tr><td>loss</td><td>0.02992</td></tr></table><br/></div></div>"
            ]
          },
          "metadata": {}
        },
        {
          "output_type": "display_data",
          "data": {
            "text/plain": [
              "<IPython.core.display.HTML object>"
            ],
            "text/html": [
              "Synced <strong style=\"color:#cdcd00\">MLP</strong>: <a href=\"https://wandb.ai/ahsen/NIDS/runs/1zb0k6he\" target=\"_blank\">https://wandb.ai/ahsen/NIDS/runs/1zb0k6he</a><br/>Synced 5 W&B file(s), 0 media file(s), 0 artifact file(s) and 0 other file(s)"
            ]
          },
          "metadata": {}
        },
        {
          "output_type": "display_data",
          "data": {
            "text/plain": [
              "<IPython.core.display.HTML object>"
            ],
            "text/html": [
              "Find logs at: <code>./wandb/run-20220430_024905-1zb0k6he/logs</code>"
            ]
          },
          "metadata": {}
        },
        {
          "output_type": "display_data",
          "data": {
            "text/plain": [
              "<IPython.core.display.HTML object>"
            ],
            "text/html": [
              "Tracking run with wandb version 0.12.15"
            ]
          },
          "metadata": {}
        },
        {
          "output_type": "display_data",
          "data": {
            "text/plain": [
              "<IPython.core.display.HTML object>"
            ],
            "text/html": [
              "Run data is saved locally in <code>/content/wandb/run-20220430_025040-6vcxz630</code>"
            ]
          },
          "metadata": {}
        },
        {
          "output_type": "display_data",
          "data": {
            "text/plain": [
              "<IPython.core.display.HTML object>"
            ],
            "text/html": [
              "Syncing run <strong><a href=\"https://wandb.ai/ahsen/NIDS/runs/6vcxz630\" target=\"_blank\">MLP</a></strong> to <a href=\"https://wandb.ai/ahsen/NIDS\" target=\"_blank\">Weights & Biases</a> (<a href=\"https://wandb.me/run\" target=\"_blank\">docs</a>)<br/>"
            ]
          },
          "metadata": {}
        },
        {
          "output_type": "stream",
          "name": "stdout",
          "text": [
            "===============================================\n",
            "Batch Size:32\tEpochs:60\tLR:0.1\n",
            "------------------------------------------------\n",
            "Epoch:1  \tLoss:0.0782\t Acc: 0.7978\n",
            "------------------------------------------------\n",
            "Epoch:2  \tLoss:0.0600\t Acc: 0.7845\n",
            "------------------------------------------------\n",
            "Epoch:3  \tLoss:0.0659\t Acc: 0.7658\n",
            "------------------------------------------------\n",
            "Epoch:4  \tLoss:0.0427\t Acc: 0.7708\n",
            "------------------------------------------------\n",
            "Epoch:5  \tLoss:0.0360\t Acc: 0.7742\n",
            "------------------------------------------------\n",
            "Epoch:6  \tLoss:0.0259\t Acc: 0.7720\n",
            "------------------------------------------------\n",
            "Epoch:7  \tLoss:0.0096\t Acc: 0.7492\n",
            "------------------------------------------------\n",
            "Epoch:8  \tLoss:0.0414\t Acc: 0.7420\n",
            "------------------------------------------------\n",
            "Epoch:9  \tLoss:0.0230\t Acc: 0.7733\n",
            "------------------------------------------------\n",
            "Epoch:10  \tLoss:0.0269\t Acc: 0.7845\n",
            "------------------------------------------------\n",
            "Epoch:11  \tLoss:0.0367\t Acc: 0.7700\n",
            "------------------------------------------------\n",
            "Epoch:12  \tLoss:0.0332\t Acc: 0.7570\n",
            "------------------------------------------------\n",
            "Epoch:13  \tLoss:0.0262\t Acc: 0.7609\n",
            "------------------------------------------------\n",
            "Epoch:14  \tLoss:0.0224\t Acc: 0.7682\n",
            "------------------------------------------------\n",
            "Epoch:15  \tLoss:0.0255\t Acc: 0.7684\n",
            "------------------------------------------------\n",
            "Epoch:16  \tLoss:0.0256\t Acc: 0.7648\n",
            "------------------------------------------------\n",
            "Epoch:17  \tLoss:0.0202\t Acc: 0.7684\n",
            "------------------------------------------------\n",
            "Epoch:18  \tLoss:0.0296\t Acc: 0.7526\n",
            "------------------------------------------------\n",
            "Epoch:19  \tLoss:0.0243\t Acc: 0.7533\n",
            "------------------------------------------------\n",
            "Epoch:20  \tLoss:0.0237\t Acc: 0.7689\n",
            "------------------------------------------------\n",
            "Epoch:21  \tLoss:0.0216\t Acc: 0.7691\n",
            "------------------------------------------------\n",
            "Epoch:22  \tLoss:0.0208\t Acc: 0.7691\n",
            "------------------------------------------------\n",
            "Epoch:23  \tLoss:0.0180\t Acc: 0.7730\n",
            "------------------------------------------------\n",
            "Epoch:24  \tLoss:0.0161\t Acc: 0.7624\n",
            "------------------------------------------------\n",
            "Epoch:25  \tLoss:0.0193\t Acc: 0.7583\n",
            "------------------------------------------------\n",
            "Epoch:26  \tLoss:0.0148\t Acc: 0.7627\n",
            "------------------------------------------------\n",
            "Epoch:27  \tLoss:0.0179\t Acc: 0.7635\n",
            "------------------------------------------------\n",
            "Epoch:28  \tLoss:0.0212\t Acc: 0.7663\n",
            "------------------------------------------------\n",
            "Epoch:29  \tLoss:0.0227\t Acc: 0.7709\n",
            "------------------------------------------------\n",
            "Epoch:30  \tLoss:0.0209\t Acc: 0.7730\n",
            "------------------------------------------------\n",
            "Epoch:31  \tLoss:0.0212\t Acc: 0.7765\n",
            "------------------------------------------------\n",
            "Epoch:32  \tLoss:0.0197\t Acc: 0.7839\n",
            "------------------------------------------------\n",
            "Epoch:33  \tLoss:0.0185\t Acc: 0.7817\n",
            "------------------------------------------------\n",
            "Epoch:34  \tLoss:0.0163\t Acc: 0.7797\n",
            "------------------------------------------------\n",
            "Epoch:35  \tLoss:0.0161\t Acc: 0.7800\n",
            "------------------------------------------------\n",
            "Epoch:36  \tLoss:0.0140\t Acc: 0.7800\n",
            "------------------------------------------------\n",
            "Epoch:37  \tLoss:0.0132\t Acc: 0.7799\n",
            "------------------------------------------------\n",
            "Epoch:38  \tLoss:0.0119\t Acc: 0.7830\n",
            "------------------------------------------------\n",
            "Epoch:39  \tLoss:0.0112\t Acc: 0.7812\n",
            "------------------------------------------------\n",
            "Epoch:40  \tLoss:0.0111\t Acc: 0.7798\n",
            "------------------------------------------------\n",
            "Epoch:41  \tLoss:0.0089\t Acc: 0.7775\n",
            "------------------------------------------------\n",
            "Epoch:42  \tLoss:0.0082\t Acc: 0.7768\n",
            "------------------------------------------------\n",
            "Epoch:43  \tLoss:0.0168\t Acc: 0.7521\n",
            "------------------------------------------------\n",
            "Epoch:44  \tLoss:0.0110\t Acc: 0.7598\n",
            "------------------------------------------------\n",
            "Epoch:45  \tLoss:0.0109\t Acc: 0.7579\n",
            "------------------------------------------------\n",
            "Epoch:46  \tLoss:0.0103\t Acc: 0.7589\n",
            "------------------------------------------------\n",
            "Epoch:47  \tLoss:0.0121\t Acc: 0.7611\n",
            "------------------------------------------------\n",
            "Epoch:48  \tLoss:0.0146\t Acc: 0.7602\n",
            "------------------------------------------------\n",
            "Epoch:49  \tLoss:0.0147\t Acc: 0.7605\n",
            "------------------------------------------------\n",
            "Epoch:50  \tLoss:0.0103\t Acc: 0.7616\n",
            "------------------------------------------------\n",
            "Epoch:51  \tLoss:0.0134\t Acc: 0.7626\n",
            "------------------------------------------------\n",
            "Epoch:52  \tLoss:0.0129\t Acc: 0.7630\n",
            "------------------------------------------------\n",
            "Epoch:53  \tLoss:0.0135\t Acc: 0.7620\n",
            "------------------------------------------------\n",
            "Epoch:54  \tLoss:0.0164\t Acc: 0.7609\n",
            "------------------------------------------------\n",
            "Epoch:55  \tLoss:0.0134\t Acc: 0.7609\n",
            "------------------------------------------------\n",
            "Epoch:56  \tLoss:0.0120\t Acc: 0.7625\n",
            "------------------------------------------------\n",
            "Epoch:57  \tLoss:0.0140\t Acc: 0.7597\n",
            "------------------------------------------------\n",
            "Epoch:58  \tLoss:0.0137\t Acc: 0.7615\n",
            "------------------------------------------------\n",
            "Epoch:59  \tLoss:0.0123\t Acc: 0.7630\n",
            "------------------------------------------------\n",
            "Epoch:60  \tLoss:0.0164\t Acc: 0.7594\n",
            "*************************************************\n",
            "Final Score for (B:32, Ep:60, LR:0.1)\n",
            "Acc: 0.7594\n"
          ]
        },
        {
          "output_type": "display_data",
          "data": {
            "text/plain": [
              "<IPython.core.display.HTML object>"
            ],
            "text/html": [
              "Waiting for W&B process to finish... <strong style=\"color:green\">(success).</strong>"
            ]
          },
          "metadata": {}
        },
        {
          "output_type": "display_data",
          "data": {
            "text/plain": [
              "VBox(children=(Label(value='0.001 MB of 0.001 MB uploaded (0.000 MB deduped)\\r'), FloatProgress(value=1.0, max…"
            ],
            "application/vnd.jupyter.widget-view+json": {
              "version_major": 2,
              "version_minor": 0,
              "model_id": "f9089f26fb1f4e6b8c09ac8847604e25"
            }
          },
          "metadata": {}
        },
        {
          "output_type": "display_data",
          "data": {
            "text/plain": [
              "<IPython.core.display.HTML object>"
            ],
            "text/html": [
              "<style>\n",
              "    table.wandb td:nth-child(1) { padding: 0 10px; text-align: right }\n",
              "    .wandb-row { display: flex; flex-direction: row; flex-wrap: wrap; width: 100% }\n",
              "    .wandb-col { display: flex; flex-direction: column; flex-basis: 100%; flex: 1; padding: 10px; }\n",
              "    </style>\n",
              "<div class=\"wandb-row\"><div class=\"wandb-col\"><h3>Run history:</h3><br/><table class=\"wandb\"><tr><td>loss</td><td>█▆▄▄▁▄▃▄▃▂▃▂▃▂▂▂▂▂▂▂▂▂▂▂▁▁▁▁▂▁▁▁▂▁▁▁▁▁▁▂</td></tr></table><br/></div><div class=\"wandb-col\"><h3>Run summary:</h3><br/><table class=\"wandb\"><tr><td>loss</td><td>0.01636</td></tr></table><br/></div></div>"
            ]
          },
          "metadata": {}
        },
        {
          "output_type": "display_data",
          "data": {
            "text/plain": [
              "<IPython.core.display.HTML object>"
            ],
            "text/html": [
              "Synced <strong style=\"color:#cdcd00\">MLP</strong>: <a href=\"https://wandb.ai/ahsen/NIDS/runs/6vcxz630\" target=\"_blank\">https://wandb.ai/ahsen/NIDS/runs/6vcxz630</a><br/>Synced 5 W&B file(s), 0 media file(s), 0 artifact file(s) and 0 other file(s)"
            ]
          },
          "metadata": {}
        },
        {
          "output_type": "display_data",
          "data": {
            "text/plain": [
              "<IPython.core.display.HTML object>"
            ],
            "text/html": [
              "Find logs at: <code>./wandb/run-20220430_025040-6vcxz630/logs</code>"
            ]
          },
          "metadata": {}
        },
        {
          "output_type": "display_data",
          "data": {
            "text/plain": [
              "<IPython.core.display.HTML object>"
            ],
            "text/html": [
              "Tracking run with wandb version 0.12.15"
            ]
          },
          "metadata": {}
        },
        {
          "output_type": "display_data",
          "data": {
            "text/plain": [
              "<IPython.core.display.HTML object>"
            ],
            "text/html": [
              "Run data is saved locally in <code>/content/wandb/run-20220430_025429-234rp8k4</code>"
            ]
          },
          "metadata": {}
        },
        {
          "output_type": "display_data",
          "data": {
            "text/plain": [
              "<IPython.core.display.HTML object>"
            ],
            "text/html": [
              "Syncing run <strong><a href=\"https://wandb.ai/ahsen/NIDS/runs/234rp8k4\" target=\"_blank\">MLP</a></strong> to <a href=\"https://wandb.ai/ahsen/NIDS\" target=\"_blank\">Weights & Biases</a> (<a href=\"https://wandb.me/run\" target=\"_blank\">docs</a>)<br/>"
            ]
          },
          "metadata": {}
        },
        {
          "output_type": "stream",
          "name": "stdout",
          "text": [
            "===============================================\n",
            "Batch Size:64\tEpochs:60\tLR:0.1\n",
            "------------------------------------------------\n",
            "Epoch:1  \tLoss:0.0851\t Acc: 0.7732\n",
            "------------------------------------------------\n",
            "Epoch:2  \tLoss:0.0637\t Acc: 0.7796\n",
            "------------------------------------------------\n",
            "Epoch:3  \tLoss:0.0432\t Acc: 0.7866\n",
            "------------------------------------------------\n",
            "Epoch:4  \tLoss:0.0482\t Acc: 0.7662\n",
            "------------------------------------------------\n",
            "Epoch:5  \tLoss:0.0605\t Acc: 0.7670\n",
            "------------------------------------------------\n",
            "Epoch:6  \tLoss:0.0413\t Acc: 0.7559\n",
            "------------------------------------------------\n",
            "Epoch:7  \tLoss:0.0391\t Acc: 0.7583\n",
            "------------------------------------------------\n",
            "Epoch:8  \tLoss:0.0414\t Acc: 0.7628\n",
            "------------------------------------------------\n",
            "Epoch:9  \tLoss:0.0268\t Acc: 0.7690\n",
            "------------------------------------------------\n",
            "Epoch:10  \tLoss:0.0294\t Acc: 0.7745\n",
            "------------------------------------------------\n",
            "Epoch:11  \tLoss:0.0619\t Acc: 0.7612\n",
            "------------------------------------------------\n",
            "Epoch:12  \tLoss:0.0532\t Acc: 0.7693\n",
            "------------------------------------------------\n",
            "Epoch:13  \tLoss:0.0435\t Acc: 0.7771\n",
            "------------------------------------------------\n",
            "Epoch:14  \tLoss:0.0248\t Acc: 0.7692\n",
            "------------------------------------------------\n",
            "Epoch:15  \tLoss:0.0358\t Acc: 0.7710\n",
            "------------------------------------------------\n",
            "Epoch:16  \tLoss:0.0265\t Acc: 0.7762\n",
            "------------------------------------------------\n",
            "Epoch:17  \tLoss:0.0257\t Acc: 0.7631\n",
            "------------------------------------------------\n",
            "Epoch:18  \tLoss:0.0274\t Acc: 0.7723\n",
            "------------------------------------------------\n",
            "Epoch:19  \tLoss:0.0425\t Acc: 0.7561\n",
            "------------------------------------------------\n",
            "Epoch:20  \tLoss:0.0373\t Acc: 0.7615\n",
            "------------------------------------------------\n",
            "Epoch:21  \tLoss:0.0247\t Acc: 0.7592\n",
            "------------------------------------------------\n",
            "Epoch:22  \tLoss:0.0232\t Acc: 0.7659\n",
            "------------------------------------------------\n",
            "Epoch:23  \tLoss:0.0221\t Acc: 0.7661\n",
            "------------------------------------------------\n",
            "Epoch:24  \tLoss:0.0202\t Acc: 0.7630\n",
            "------------------------------------------------\n",
            "Epoch:25  \tLoss:0.0214\t Acc: 0.7635\n",
            "------------------------------------------------\n",
            "Epoch:26  \tLoss:0.0321\t Acc: 0.7429\n",
            "------------------------------------------------\n",
            "Epoch:27  \tLoss:0.0277\t Acc: 0.7379\n",
            "------------------------------------------------\n",
            "Epoch:28  \tLoss:0.0364\t Acc: 0.7369\n",
            "------------------------------------------------\n",
            "Epoch:29  \tLoss:0.0249\t Acc: 0.7420\n",
            "------------------------------------------------\n",
            "Epoch:30  \tLoss:0.0221\t Acc: 0.7476\n",
            "------------------------------------------------\n",
            "Epoch:31  \tLoss:0.0180\t Acc: 0.7484\n",
            "------------------------------------------------\n",
            "Epoch:32  \tLoss:0.0218\t Acc: 0.7436\n",
            "------------------------------------------------\n",
            "Epoch:33  \tLoss:0.0216\t Acc: 0.7452\n",
            "------------------------------------------------\n",
            "Epoch:34  \tLoss:0.0202\t Acc: 0.7425\n",
            "------------------------------------------------\n",
            "Epoch:35  \tLoss:0.0233\t Acc: 0.7423\n",
            "------------------------------------------------\n",
            "Epoch:36  \tLoss:0.0252\t Acc: 0.7421\n",
            "------------------------------------------------\n",
            "Epoch:37  \tLoss:0.0303\t Acc: 0.7408\n",
            "------------------------------------------------\n",
            "Epoch:38  \tLoss:0.0245\t Acc: 0.7396\n",
            "------------------------------------------------\n",
            "Epoch:39  \tLoss:0.0259\t Acc: 0.7410\n",
            "------------------------------------------------\n",
            "Epoch:40  \tLoss:0.0204\t Acc: 0.7409\n",
            "------------------------------------------------\n",
            "Epoch:41  \tLoss:0.0237\t Acc: 0.7444\n",
            "------------------------------------------------\n",
            "Epoch:42  \tLoss:0.0208\t Acc: 0.7417\n",
            "------------------------------------------------\n",
            "Epoch:43  \tLoss:0.0195\t Acc: 0.7453\n",
            "------------------------------------------------\n",
            "Epoch:44  \tLoss:0.0220\t Acc: 0.7457\n",
            "------------------------------------------------\n",
            "Epoch:45  \tLoss:0.0218\t Acc: 0.7482\n",
            "------------------------------------------------\n",
            "Epoch:46  \tLoss:0.0214\t Acc: 0.7473\n",
            "------------------------------------------------\n",
            "Epoch:47  \tLoss:0.0228\t Acc: 0.7494\n",
            "------------------------------------------------\n",
            "Epoch:48  \tLoss:0.0262\t Acc: 0.7500\n",
            "------------------------------------------------\n",
            "Epoch:49  \tLoss:0.0230\t Acc: 0.7472\n",
            "------------------------------------------------\n",
            "Epoch:50  \tLoss:0.0307\t Acc: 0.7532\n",
            "------------------------------------------------\n",
            "Epoch:51  \tLoss:0.0287\t Acc: 0.7550\n",
            "------------------------------------------------\n",
            "Epoch:52  \tLoss:0.0219\t Acc: 0.7531\n",
            "------------------------------------------------\n",
            "Epoch:53  \tLoss:0.0276\t Acc: 0.7547\n",
            "------------------------------------------------\n",
            "Epoch:54  \tLoss:0.0292\t Acc: 0.7491\n",
            "------------------------------------------------\n",
            "Epoch:55  \tLoss:0.0203\t Acc: 0.7566\n",
            "------------------------------------------------\n",
            "Epoch:56  \tLoss:0.0202\t Acc: 0.7556\n",
            "------------------------------------------------\n",
            "Epoch:57  \tLoss:0.0210\t Acc: 0.7504\n",
            "------------------------------------------------\n",
            "Epoch:58  \tLoss:0.0235\t Acc: 0.7531\n",
            "------------------------------------------------\n",
            "Epoch:59  \tLoss:0.0234\t Acc: 0.7526\n",
            "------------------------------------------------\n",
            "Epoch:60  \tLoss:0.0230\t Acc: 0.7507\n",
            "*************************************************\n",
            "Final Score for (B:64, Ep:60, LR:0.1)\n",
            "Acc: 0.7507\n"
          ]
        },
        {
          "output_type": "display_data",
          "data": {
            "text/plain": [
              "<IPython.core.display.HTML object>"
            ],
            "text/html": [
              "Waiting for W&B process to finish... <strong style=\"color:green\">(success).</strong>"
            ]
          },
          "metadata": {}
        },
        {
          "output_type": "display_data",
          "data": {
            "text/plain": [
              "VBox(children=(Label(value='0.001 MB of 0.001 MB uploaded (0.000 MB deduped)\\r'), FloatProgress(value=1.0, max…"
            ],
            "application/vnd.jupyter.widget-view+json": {
              "version_major": 2,
              "version_minor": 0,
              "model_id": "b95af695a41e44e196601b71376deaae"
            }
          },
          "metadata": {}
        },
        {
          "output_type": "display_data",
          "data": {
            "text/plain": [
              "<IPython.core.display.HTML object>"
            ],
            "text/html": [
              "<style>\n",
              "    table.wandb td:nth-child(1) { padding: 0 10px; text-align: right }\n",
              "    .wandb-row { display: flex; flex-direction: row; flex-wrap: wrap; width: 100% }\n",
              "    .wandb-col { display: flex; flex-direction: column; flex-basis: 100%; flex: 1; padding: 10px; }\n",
              "    </style>\n",
              "<div class=\"wandb-row\"><div class=\"wandb-col\"><h3>Run history:</h3><br/><table class=\"wandb\"><tr><td>loss</td><td>█▆▄▅▃▃▂▆▄▂▂▂▄▃▂▁▁▂▃▂▁▁▁▂▂▂▁▂▁▁▁▂▂▂▁▂▁▁▂▂</td></tr></table><br/></div><div class=\"wandb-col\"><h3>Run summary:</h3><br/><table class=\"wandb\"><tr><td>loss</td><td>0.023</td></tr></table><br/></div></div>"
            ]
          },
          "metadata": {}
        },
        {
          "output_type": "display_data",
          "data": {
            "text/plain": [
              "<IPython.core.display.HTML object>"
            ],
            "text/html": [
              "Synced <strong style=\"color:#cdcd00\">MLP</strong>: <a href=\"https://wandb.ai/ahsen/NIDS/runs/234rp8k4\" target=\"_blank\">https://wandb.ai/ahsen/NIDS/runs/234rp8k4</a><br/>Synced 5 W&B file(s), 0 media file(s), 0 artifact file(s) and 0 other file(s)"
            ]
          },
          "metadata": {}
        },
        {
          "output_type": "display_data",
          "data": {
            "text/plain": [
              "<IPython.core.display.HTML object>"
            ],
            "text/html": [
              "Find logs at: <code>./wandb/run-20220430_025429-234rp8k4/logs</code>"
            ]
          },
          "metadata": {}
        },
        {
          "output_type": "display_data",
          "data": {
            "text/plain": [
              "<IPython.core.display.HTML object>"
            ],
            "text/html": [
              "Tracking run with wandb version 0.12.15"
            ]
          },
          "metadata": {}
        },
        {
          "output_type": "display_data",
          "data": {
            "text/plain": [
              "<IPython.core.display.HTML object>"
            ],
            "text/html": [
              "Run data is saved locally in <code>/content/wandb/run-20220430_025647-1rdrl811</code>"
            ]
          },
          "metadata": {}
        },
        {
          "output_type": "display_data",
          "data": {
            "text/plain": [
              "<IPython.core.display.HTML object>"
            ],
            "text/html": [
              "Syncing run <strong><a href=\"https://wandb.ai/ahsen/NIDS/runs/1rdrl811\" target=\"_blank\">MLP</a></strong> to <a href=\"https://wandb.ai/ahsen/NIDS\" target=\"_blank\">Weights & Biases</a> (<a href=\"https://wandb.me/run\" target=\"_blank\">docs</a>)<br/>"
            ]
          },
          "metadata": {}
        },
        {
          "output_type": "stream",
          "name": "stdout",
          "text": [
            "===============================================\n",
            "Batch Size:128\tEpochs:60\tLR:0.1\n",
            "------------------------------------------------\n",
            "Epoch:1  \tLoss:0.0881\t Acc: 0.7947\n",
            "------------------------------------------------\n",
            "Epoch:2  \tLoss:0.0702\t Acc: 0.7932\n",
            "------------------------------------------------\n",
            "Epoch:3  \tLoss:0.0542\t Acc: 0.7776\n",
            "------------------------------------------------\n",
            "Epoch:4  \tLoss:0.1157\t Acc: 0.7893\n",
            "------------------------------------------------\n",
            "Epoch:5  \tLoss:0.0831\t Acc: 0.7796\n",
            "------------------------------------------------\n",
            "Epoch:6  \tLoss:0.0426\t Acc: 0.7843\n",
            "------------------------------------------------\n",
            "Epoch:7  \tLoss:0.0278\t Acc: 0.7908\n",
            "------------------------------------------------\n",
            "Epoch:8  \tLoss:0.0433\t Acc: 0.7867\n",
            "------------------------------------------------\n",
            "Epoch:9  \tLoss:0.0385\t Acc: 0.7611\n",
            "------------------------------------------------\n",
            "Epoch:10  \tLoss:0.0300\t Acc: 0.7578\n",
            "------------------------------------------------\n",
            "Epoch:11  \tLoss:0.0269\t Acc: 0.7712\n",
            "------------------------------------------------\n",
            "Epoch:12  \tLoss:0.0351\t Acc: 0.7628\n",
            "------------------------------------------------\n",
            "Epoch:13  \tLoss:0.0227\t Acc: 0.7795\n",
            "------------------------------------------------\n",
            "Epoch:14  \tLoss:0.0235\t Acc: 0.7688\n",
            "------------------------------------------------\n",
            "Epoch:15  \tLoss:0.0305\t Acc: 0.7853\n",
            "------------------------------------------------\n",
            "Epoch:16  \tLoss:0.0489\t Acc: 0.7896\n",
            "------------------------------------------------\n",
            "Epoch:17  \tLoss:0.0451\t Acc: 0.7936\n",
            "------------------------------------------------\n",
            "Epoch:18  \tLoss:0.0848\t Acc: 0.8034\n",
            "------------------------------------------------\n",
            "Epoch:19  \tLoss:0.0657\t Acc: 0.8148\n",
            "------------------------------------------------\n",
            "Epoch:20  \tLoss:0.0468\t Acc: 0.7820\n",
            "------------------------------------------------\n",
            "Epoch:21  \tLoss:0.0194\t Acc: 0.7612\n",
            "------------------------------------------------\n",
            "Epoch:22  \tLoss:0.0153\t Acc: 0.7663\n",
            "------------------------------------------------\n",
            "Epoch:23  \tLoss:0.0196\t Acc: 0.7586\n",
            "------------------------------------------------\n",
            "Epoch:24  \tLoss:0.0201\t Acc: 0.7870\n",
            "------------------------------------------------\n",
            "Epoch:25  \tLoss:0.0175\t Acc: 0.7925\n",
            "------------------------------------------------\n",
            "Epoch:26  \tLoss:0.0257\t Acc: 0.7936\n",
            "------------------------------------------------\n",
            "Epoch:27  \tLoss:0.0294\t Acc: 0.7772\n",
            "------------------------------------------------\n",
            "Epoch:28  \tLoss:0.0297\t Acc: 0.7868\n",
            "------------------------------------------------\n",
            "Epoch:29  \tLoss:0.0288\t Acc: 0.7869\n",
            "------------------------------------------------\n",
            "Epoch:30  \tLoss:0.0299\t Acc: 0.7875\n",
            "------------------------------------------------\n",
            "Epoch:31  \tLoss:0.0308\t Acc: 0.7886\n",
            "------------------------------------------------\n",
            "Epoch:32  \tLoss:0.0299\t Acc: 0.7881\n",
            "------------------------------------------------\n",
            "Epoch:33  \tLoss:0.0343\t Acc: 0.7884\n",
            "------------------------------------------------\n",
            "Epoch:34  \tLoss:0.0264\t Acc: 0.7844\n",
            "------------------------------------------------\n",
            "Epoch:35  \tLoss:0.0313\t Acc: 0.7859\n",
            "------------------------------------------------\n",
            "Epoch:36  \tLoss:0.0293\t Acc: 0.7870\n",
            "------------------------------------------------\n",
            "Epoch:37  \tLoss:0.0302\t Acc: 0.7834\n",
            "------------------------------------------------\n",
            "Epoch:38  \tLoss:0.0302\t Acc: 0.7842\n",
            "------------------------------------------------\n",
            "Epoch:39  \tLoss:0.0288\t Acc: 0.7823\n",
            "------------------------------------------------\n",
            "Epoch:40  \tLoss:0.0270\t Acc: 0.7853\n",
            "------------------------------------------------\n",
            "Epoch:41  \tLoss:0.0242\t Acc: 0.7867\n",
            "------------------------------------------------\n",
            "Epoch:42  \tLoss:0.0235\t Acc: 0.7849\n",
            "------------------------------------------------\n",
            "Epoch:43  \tLoss:0.0223\t Acc: 0.7858\n",
            "------------------------------------------------\n",
            "Epoch:44  \tLoss:0.0280\t Acc: 0.7854\n",
            "------------------------------------------------\n",
            "Epoch:45  \tLoss:0.0173\t Acc: 0.7863\n",
            "------------------------------------------------\n",
            "Epoch:46  \tLoss:0.0177\t Acc: 0.7857\n",
            "------------------------------------------------\n",
            "Epoch:47  \tLoss:0.0174\t Acc: 0.7869\n",
            "------------------------------------------------\n",
            "Epoch:48  \tLoss:0.0176\t Acc: 0.7853\n",
            "------------------------------------------------\n",
            "Epoch:49  \tLoss:0.0147\t Acc: 0.7846\n",
            "------------------------------------------------\n",
            "Epoch:50  \tLoss:0.0151\t Acc: 0.7824\n",
            "------------------------------------------------\n",
            "Epoch:51  \tLoss:0.0172\t Acc: 0.7834\n",
            "------------------------------------------------\n",
            "Epoch:52  \tLoss:0.0157\t Acc: 0.7830\n",
            "------------------------------------------------\n",
            "Epoch:53  \tLoss:0.0153\t Acc: 0.7779\n",
            "------------------------------------------------\n",
            "Epoch:54  \tLoss:0.0172\t Acc: 0.7806\n",
            "------------------------------------------------\n",
            "Epoch:55  \tLoss:0.0200\t Acc: 0.7902\n",
            "------------------------------------------------\n",
            "Epoch:56  \tLoss:0.0186\t Acc: 0.7810\n",
            "------------------------------------------------\n",
            "Epoch:57  \tLoss:0.0150\t Acc: 0.7849\n",
            "------------------------------------------------\n",
            "Epoch:58  \tLoss:0.0193\t Acc: 0.7744\n",
            "------------------------------------------------\n",
            "Epoch:59  \tLoss:0.0202\t Acc: 0.7593\n",
            "------------------------------------------------\n",
            "Epoch:60  \tLoss:0.0179\t Acc: 0.7763\n",
            "*************************************************\n",
            "Final Score for (B:128, Ep:60, LR:0.1)\n",
            "Acc: 0.7763\n"
          ]
        },
        {
          "output_type": "display_data",
          "data": {
            "text/plain": [
              "<IPython.core.display.HTML object>"
            ],
            "text/html": [
              "Waiting for W&B process to finish... <strong style=\"color:green\">(success).</strong>"
            ]
          },
          "metadata": {}
        },
        {
          "output_type": "display_data",
          "data": {
            "text/plain": [
              "VBox(children=(Label(value='0.001 MB of 0.001 MB uploaded (0.000 MB deduped)\\r'), FloatProgress(value=1.0, max…"
            ],
            "application/vnd.jupyter.widget-view+json": {
              "version_major": 2,
              "version_minor": 0,
              "model_id": "5577b15b76ee46898ea58284c80fa2de"
            }
          },
          "metadata": {}
        },
        {
          "output_type": "display_data",
          "data": {
            "text/plain": [
              "<IPython.core.display.HTML object>"
            ],
            "text/html": [
              "<style>\n",
              "    table.wandb td:nth-child(1) { padding: 0 10px; text-align: right }\n",
              "    .wandb-row { display: flex; flex-direction: row; flex-wrap: wrap; width: 100% }\n",
              "    .wandb-col { display: flex; flex-direction: column; flex-basis: 100%; flex: 1; padding: 10px; }\n",
              "    </style>\n",
              "<div class=\"wandb-row\"><div class=\"wandb-col\"><h3>Run history:</h3><br/><table class=\"wandb\"><tr><td>loss</td><td>▆▅█▆▂▃▂▂▂▂▃▃▅▃▁▁▁▂▂▂▂▂▂▂▂▂▂▂▂▂▁▁▁▁▁▁▁▁▁▁</td></tr></table><br/></div><div class=\"wandb-col\"><h3>Run summary:</h3><br/><table class=\"wandb\"><tr><td>loss</td><td>0.01792</td></tr></table><br/></div></div>"
            ]
          },
          "metadata": {}
        },
        {
          "output_type": "display_data",
          "data": {
            "text/plain": [
              "<IPython.core.display.HTML object>"
            ],
            "text/html": [
              "Synced <strong style=\"color:#cdcd00\">MLP</strong>: <a href=\"https://wandb.ai/ahsen/NIDS/runs/1rdrl811\" target=\"_blank\">https://wandb.ai/ahsen/NIDS/runs/1rdrl811</a><br/>Synced 5 W&B file(s), 0 media file(s), 0 artifact file(s) and 0 other file(s)"
            ]
          },
          "metadata": {}
        },
        {
          "output_type": "display_data",
          "data": {
            "text/plain": [
              "<IPython.core.display.HTML object>"
            ],
            "text/html": [
              "Find logs at: <code>./wandb/run-20220430_025647-1rdrl811/logs</code>"
            ]
          },
          "metadata": {}
        },
        {
          "output_type": "display_data",
          "data": {
            "text/plain": [
              "<IPython.core.display.HTML object>"
            ],
            "text/html": [
              "Tracking run with wandb version 0.12.15"
            ]
          },
          "metadata": {}
        },
        {
          "output_type": "display_data",
          "data": {
            "text/plain": [
              "<IPython.core.display.HTML object>"
            ],
            "text/html": [
              "Run data is saved locally in <code>/content/wandb/run-20220430_025825-2sx4agyg</code>"
            ]
          },
          "metadata": {}
        },
        {
          "output_type": "display_data",
          "data": {
            "text/plain": [
              "<IPython.core.display.HTML object>"
            ],
            "text/html": [
              "Syncing run <strong><a href=\"https://wandb.ai/ahsen/NIDS/runs/2sx4agyg\" target=\"_blank\">MLP</a></strong> to <a href=\"https://wandb.ai/ahsen/NIDS\" target=\"_blank\">Weights & Biases</a> (<a href=\"https://wandb.me/run\" target=\"_blank\">docs</a>)<br/>"
            ]
          },
          "metadata": {}
        },
        {
          "output_type": "stream",
          "name": "stdout",
          "text": [
            "===============================================\n",
            "Batch Size:256\tEpochs:60\tLR:0.1\n",
            "------------------------------------------------\n",
            "Epoch:1  \tLoss:0.1336\t Acc: 0.7799\n",
            "------------------------------------------------\n",
            "Epoch:2  \tLoss:0.0751\t Acc: 0.7767\n",
            "------------------------------------------------\n",
            "Epoch:3  \tLoss:0.0825\t Acc: 0.7792\n",
            "------------------------------------------------\n",
            "Epoch:4  \tLoss:0.0798\t Acc: 0.8121\n",
            "------------------------------------------------\n",
            "Epoch:5  \tLoss:0.0455\t Acc: 0.7838\n",
            "------------------------------------------------\n",
            "Epoch:6  \tLoss:0.0321\t Acc: 0.7935\n",
            "------------------------------------------------\n",
            "Epoch:7  \tLoss:0.0560\t Acc: 0.7931\n",
            "------------------------------------------------\n",
            "Epoch:8  \tLoss:0.0618\t Acc: 0.8010\n",
            "------------------------------------------------\n",
            "Epoch:9  \tLoss:0.0436\t Acc: 0.7918\n",
            "------------------------------------------------\n",
            "Epoch:10  \tLoss:0.0283\t Acc: 0.7898\n",
            "------------------------------------------------\n",
            "Epoch:11  \tLoss:0.0999\t Acc: 0.7923\n",
            "------------------------------------------------\n",
            "Epoch:12  \tLoss:0.0424\t Acc: 0.7904\n",
            "------------------------------------------------\n",
            "Epoch:13  \tLoss:0.0539\t Acc: 0.7771\n",
            "------------------------------------------------\n",
            "Epoch:14  \tLoss:0.0501\t Acc: 0.7846\n",
            "------------------------------------------------\n",
            "Epoch:15  \tLoss:0.0565\t Acc: 0.7842\n",
            "------------------------------------------------\n",
            "Epoch:16  \tLoss:0.0443\t Acc: 0.7896\n",
            "------------------------------------------------\n",
            "Epoch:17  \tLoss:0.0611\t Acc: 0.7809\n",
            "------------------------------------------------\n",
            "Epoch:18  \tLoss:0.0590\t Acc: 0.8211\n",
            "------------------------------------------------\n",
            "Epoch:19  \tLoss:0.0545\t Acc: 0.7842\n",
            "------------------------------------------------\n",
            "Epoch:20  \tLoss:0.0507\t Acc: 0.7846\n",
            "------------------------------------------------\n",
            "Epoch:21  \tLoss:0.0509\t Acc: 0.7863\n",
            "------------------------------------------------\n",
            "Epoch:22  \tLoss:0.0407\t Acc: 0.7870\n",
            "------------------------------------------------\n",
            "Epoch:23  \tLoss:0.0497\t Acc: 0.7855\n",
            "------------------------------------------------\n",
            "Epoch:24  \tLoss:0.0362\t Acc: 0.8122\n",
            "------------------------------------------------\n",
            "Epoch:25  \tLoss:0.0598\t Acc: 0.8180\n",
            "------------------------------------------------\n",
            "Epoch:26  \tLoss:0.0557\t Acc: 0.7858\n",
            "------------------------------------------------\n",
            "Epoch:27  \tLoss:0.0326\t Acc: 0.7853\n",
            "------------------------------------------------\n",
            "Epoch:28  \tLoss:0.0314\t Acc: 0.7765\n",
            "------------------------------------------------\n",
            "Epoch:29  \tLoss:0.0288\t Acc: 0.7830\n",
            "------------------------------------------------\n",
            "Epoch:30  \tLoss:0.0446\t Acc: 0.7979\n",
            "------------------------------------------------\n",
            "Epoch:31  \tLoss:0.0424\t Acc: 0.7995\n",
            "------------------------------------------------\n",
            "Epoch:32  \tLoss:0.0343\t Acc: 0.8111\n",
            "------------------------------------------------\n",
            "Epoch:33  \tLoss:0.0376\t Acc: 0.7892\n",
            "------------------------------------------------\n",
            "Epoch:34  \tLoss:0.0388\t Acc: 0.8002\n",
            "------------------------------------------------\n",
            "Epoch:35  \tLoss:0.0344\t Acc: 0.7963\n",
            "------------------------------------------------\n",
            "Epoch:36  \tLoss:0.0281\t Acc: 0.7764\n",
            "------------------------------------------------\n",
            "Epoch:37  \tLoss:0.0232\t Acc: 0.7771\n",
            "------------------------------------------------\n",
            "Epoch:38  \tLoss:0.0214\t Acc: 0.7765\n",
            "------------------------------------------------\n",
            "Epoch:39  \tLoss:0.0246\t Acc: 0.7774\n",
            "------------------------------------------------\n",
            "Epoch:40  \tLoss:0.0237\t Acc: 0.7818\n",
            "------------------------------------------------\n",
            "Epoch:41  \tLoss:0.0274\t Acc: 0.7757\n",
            "------------------------------------------------\n",
            "Epoch:42  \tLoss:0.0250\t Acc: 0.7792\n",
            "------------------------------------------------\n",
            "Epoch:43  \tLoss:0.0240\t Acc: 0.8091\n",
            "------------------------------------------------\n",
            "Epoch:44  \tLoss:0.0181\t Acc: 0.7882\n",
            "------------------------------------------------\n",
            "Epoch:45  \tLoss:0.0358\t Acc: 0.7790\n",
            "------------------------------------------------\n",
            "Epoch:46  \tLoss:0.0258\t Acc: 0.7727\n",
            "------------------------------------------------\n",
            "Epoch:47  \tLoss:0.0309\t Acc: 0.7904\n",
            "------------------------------------------------\n",
            "Epoch:48  \tLoss:0.0325\t Acc: 0.8181\n",
            "------------------------------------------------\n",
            "Epoch:49  \tLoss:0.0296\t Acc: 0.7820\n",
            "------------------------------------------------\n",
            "Epoch:50  \tLoss:0.0245\t Acc: 0.7740\n",
            "------------------------------------------------\n",
            "Epoch:51  \tLoss:0.0214\t Acc: 0.7805\n",
            "------------------------------------------------\n",
            "Epoch:52  \tLoss:0.0253\t Acc: 0.7753\n",
            "------------------------------------------------\n",
            "Epoch:53  \tLoss:0.0468\t Acc: 0.7673\n",
            "------------------------------------------------\n",
            "Epoch:54  \tLoss:0.0193\t Acc: 0.7777\n",
            "------------------------------------------------\n",
            "Epoch:55  \tLoss:0.0190\t Acc: 0.7787\n",
            "------------------------------------------------\n",
            "Epoch:56  \tLoss:0.0214\t Acc: 0.7805\n",
            "------------------------------------------------\n",
            "Epoch:57  \tLoss:0.0270\t Acc: 0.7697\n",
            "------------------------------------------------\n",
            "Epoch:58  \tLoss:0.0189\t Acc: 0.7769\n",
            "------------------------------------------------\n",
            "Epoch:59  \tLoss:0.0204\t Acc: 0.7867\n",
            "------------------------------------------------\n",
            "Epoch:60  \tLoss:0.0216\t Acc: 0.7841\n",
            "*************************************************\n",
            "Final Score for (B:256, Ep:60, LR:0.1)\n",
            "Acc: 0.7841\n"
          ]
        },
        {
          "output_type": "display_data",
          "data": {
            "text/plain": [
              "<IPython.core.display.HTML object>"
            ],
            "text/html": [
              "Waiting for W&B process to finish... <strong style=\"color:green\">(success).</strong>"
            ]
          },
          "metadata": {}
        },
        {
          "output_type": "display_data",
          "data": {
            "text/plain": [
              "VBox(children=(Label(value='0.001 MB of 0.001 MB uploaded (0.000 MB deduped)\\r'), FloatProgress(value=1.0, max…"
            ],
            "application/vnd.jupyter.widget-view+json": {
              "version_major": 2,
              "version_minor": 0,
              "model_id": "5d3dd9612ea94770a3841a6845dcdb65"
            }
          },
          "metadata": {}
        },
        {
          "output_type": "display_data",
          "data": {
            "text/plain": [
              "<IPython.core.display.HTML object>"
            ],
            "text/html": [
              "<style>\n",
              "    table.wandb td:nth-child(1) { padding: 0 10px; text-align: right }\n",
              "    .wandb-row { display: flex; flex-direction: row; flex-wrap: wrap; width: 100% }\n",
              "    .wandb-col { display: flex; flex-direction: column; flex-basis: 100%; flex: 1; padding: 10px; }\n",
              "    </style>\n",
              "<div class=\"wandb-row\"><div class=\"wandb-col\"><h3>Run history:</h3><br/><table class=\"wandb\"><tr><td>loss</td><td>█▄▅▃▃▄▂▆▃▃▃▄▃▃▂▃▄▃▂▂▂▂▂▂▁▁▁▂▁▁▁▂▂▁▁▃▁▁▁▁</td></tr></table><br/></div><div class=\"wandb-col\"><h3>Run summary:</h3><br/><table class=\"wandb\"><tr><td>loss</td><td>0.02159</td></tr></table><br/></div></div>"
            ]
          },
          "metadata": {}
        },
        {
          "output_type": "display_data",
          "data": {
            "text/plain": [
              "<IPython.core.display.HTML object>"
            ],
            "text/html": [
              "Synced <strong style=\"color:#cdcd00\">MLP</strong>: <a href=\"https://wandb.ai/ahsen/NIDS/runs/2sx4agyg\" target=\"_blank\">https://wandb.ai/ahsen/NIDS/runs/2sx4agyg</a><br/>Synced 5 W&B file(s), 0 media file(s), 0 artifact file(s) and 0 other file(s)"
            ]
          },
          "metadata": {}
        },
        {
          "output_type": "display_data",
          "data": {
            "text/plain": [
              "<IPython.core.display.HTML object>"
            ],
            "text/html": [
              "Find logs at: <code>./wandb/run-20220430_025825-2sx4agyg/logs</code>"
            ]
          },
          "metadata": {}
        },
        {
          "output_type": "display_data",
          "data": {
            "text/plain": [
              "<IPython.core.display.HTML object>"
            ],
            "text/html": [
              "Tracking run with wandb version 0.12.15"
            ]
          },
          "metadata": {}
        },
        {
          "output_type": "display_data",
          "data": {
            "text/plain": [
              "<IPython.core.display.HTML object>"
            ],
            "text/html": [
              "Run data is saved locally in <code>/content/wandb/run-20220430_025946-edyvth8n</code>"
            ]
          },
          "metadata": {}
        },
        {
          "output_type": "display_data",
          "data": {
            "text/plain": [
              "<IPython.core.display.HTML object>"
            ],
            "text/html": [
              "Syncing run <strong><a href=\"https://wandb.ai/ahsen/NIDS/runs/edyvth8n\" target=\"_blank\">MLP</a></strong> to <a href=\"https://wandb.ai/ahsen/NIDS\" target=\"_blank\">Weights & Biases</a> (<a href=\"https://wandb.me/run\" target=\"_blank\">docs</a>)<br/>"
            ]
          },
          "metadata": {}
        },
        {
          "output_type": "stream",
          "name": "stdout",
          "text": [
            "===============================================\n",
            "Batch Size:32\tEpochs:90\tLR:0.004\n",
            "------------------------------------------------\n",
            "Epoch:1  \tLoss:0.1550\t Acc: 0.7723\n",
            "------------------------------------------------\n",
            "Epoch:2  \tLoss:0.1382\t Acc: 0.7734\n",
            "------------------------------------------------\n",
            "Epoch:3  \tLoss:0.0974\t Acc: 0.7884\n",
            "------------------------------------------------\n",
            "Epoch:4  \tLoss:0.0713\t Acc: 0.7939\n",
            "------------------------------------------------\n",
            "Epoch:5  \tLoss:0.0611\t Acc: 0.7894\n",
            "------------------------------------------------\n",
            "Epoch:6  \tLoss:0.0419\t Acc: 0.7877\n",
            "------------------------------------------------\n",
            "Epoch:7  \tLoss:0.0501\t Acc: 0.7861\n",
            "------------------------------------------------\n",
            "Epoch:8  \tLoss:0.0492\t Acc: 0.7841\n",
            "------------------------------------------------\n",
            "Epoch:9  \tLoss:0.0911\t Acc: 0.7801\n",
            "------------------------------------------------\n",
            "Epoch:10  \tLoss:0.0453\t Acc: 0.7932\n",
            "------------------------------------------------\n",
            "Epoch:11  \tLoss:0.0464\t Acc: 0.7836\n",
            "------------------------------------------------\n",
            "Epoch:12  \tLoss:0.0404\t Acc: 0.7831\n",
            "------------------------------------------------\n",
            "Epoch:13  \tLoss:0.0369\t Acc: 0.7854\n",
            "------------------------------------------------\n",
            "Epoch:14  \tLoss:0.0429\t Acc: 0.7801\n",
            "------------------------------------------------\n",
            "Epoch:15  \tLoss:0.0388\t Acc: 0.7836\n",
            "------------------------------------------------\n",
            "Epoch:16  \tLoss:0.0340\t Acc: 0.7830\n",
            "------------------------------------------------\n",
            "Epoch:17  \tLoss:0.0399\t Acc: 0.7885\n",
            "------------------------------------------------\n",
            "Epoch:18  \tLoss:0.0400\t Acc: 0.7906\n",
            "------------------------------------------------\n",
            "Epoch:19  \tLoss:0.0290\t Acc: 0.7870\n",
            "------------------------------------------------\n",
            "Epoch:20  \tLoss:0.0383\t Acc: 0.7874\n",
            "------------------------------------------------\n",
            "Epoch:21  \tLoss:0.0294\t Acc: 0.7809\n",
            "------------------------------------------------\n",
            "Epoch:22  \tLoss:0.0365\t Acc: 0.7860\n",
            "------------------------------------------------\n",
            "Epoch:23  \tLoss:0.0343\t Acc: 0.7850\n",
            "------------------------------------------------\n",
            "Epoch:24  \tLoss:0.0432\t Acc: 0.7871\n",
            "------------------------------------------------\n",
            "Epoch:25  \tLoss:0.0296\t Acc: 0.7884\n",
            "------------------------------------------------\n",
            "Epoch:26  \tLoss:0.0451\t Acc: 0.7848\n",
            "------------------------------------------------\n",
            "Epoch:27  \tLoss:0.0381\t Acc: 0.7876\n",
            "------------------------------------------------\n",
            "Epoch:28  \tLoss:0.0531\t Acc: 0.7898\n",
            "------------------------------------------------\n",
            "Epoch:29  \tLoss:0.1003\t Acc: 0.7861\n",
            "------------------------------------------------\n",
            "Epoch:30  \tLoss:0.0497\t Acc: 0.7852\n",
            "------------------------------------------------\n",
            "Epoch:31  \tLoss:0.0435\t Acc: 0.7865\n",
            "------------------------------------------------\n",
            "Epoch:32  \tLoss:0.0314\t Acc: 0.7917\n",
            "------------------------------------------------\n",
            "Epoch:33  \tLoss:0.0277\t Acc: 0.7946\n",
            "------------------------------------------------\n",
            "Epoch:34  \tLoss:0.0354\t Acc: 0.7897\n",
            "------------------------------------------------\n",
            "Epoch:35  \tLoss:0.0305\t Acc: 0.7918\n",
            "------------------------------------------------\n",
            "Epoch:36  \tLoss:0.0445\t Acc: 0.7914\n",
            "------------------------------------------------\n",
            "Epoch:37  \tLoss:0.0464\t Acc: 0.7944\n",
            "------------------------------------------------\n",
            "Epoch:38  \tLoss:0.0224\t Acc: 0.7926\n",
            "------------------------------------------------\n",
            "Epoch:39  \tLoss:0.0297\t Acc: 0.8020\n",
            "------------------------------------------------\n",
            "Epoch:40  \tLoss:0.0327\t Acc: 0.7919\n",
            "------------------------------------------------\n",
            "Epoch:41  \tLoss:0.0204\t Acc: 0.7931\n",
            "------------------------------------------------\n",
            "Epoch:42  \tLoss:0.0340\t Acc: 0.7979\n",
            "------------------------------------------------\n",
            "Epoch:43  \tLoss:0.1143\t Acc: 0.7983\n",
            "------------------------------------------------\n",
            "Epoch:44  \tLoss:0.0426\t Acc: 0.7956\n",
            "------------------------------------------------\n",
            "Epoch:45  \tLoss:0.0373\t Acc: 0.7956\n",
            "------------------------------------------------\n",
            "Epoch:46  \tLoss:0.0317\t Acc: 0.7969\n",
            "------------------------------------------------\n",
            "Epoch:47  \tLoss:0.0321\t Acc: 0.7907\n",
            "------------------------------------------------\n",
            "Epoch:48  \tLoss:0.0273\t Acc: 0.7904\n",
            "------------------------------------------------\n",
            "Epoch:49  \tLoss:0.0624\t Acc: 0.7897\n",
            "------------------------------------------------\n",
            "Epoch:50  \tLoss:0.0330\t Acc: 0.7928\n",
            "------------------------------------------------\n",
            "Epoch:51  \tLoss:0.0236\t Acc: 0.7914\n",
            "------------------------------------------------\n",
            "Epoch:52  \tLoss:0.0363\t Acc: 0.7901\n",
            "------------------------------------------------\n",
            "Epoch:53  \tLoss:0.0279\t Acc: 0.7828\n",
            "------------------------------------------------\n",
            "Epoch:54  \tLoss:0.0306\t Acc: 0.7779\n",
            "------------------------------------------------\n",
            "Epoch:55  \tLoss:0.0517\t Acc: 0.7854\n",
            "------------------------------------------------\n",
            "Epoch:56  \tLoss:0.0436\t Acc: 0.7886\n",
            "------------------------------------------------\n",
            "Epoch:57  \tLoss:0.0429\t Acc: 0.7886\n",
            "------------------------------------------------\n",
            "Epoch:58  \tLoss:0.0322\t Acc: 0.7887\n",
            "------------------------------------------------\n",
            "Epoch:59  \tLoss:0.0374\t Acc: 0.7865\n",
            "------------------------------------------------\n",
            "Epoch:60  \tLoss:0.0333\t Acc: 0.7872\n",
            "------------------------------------------------\n",
            "Epoch:61  \tLoss:0.0575\t Acc: 0.7868\n",
            "------------------------------------------------\n",
            "Epoch:62  \tLoss:0.0371\t Acc: 0.7899\n",
            "------------------------------------------------\n",
            "Epoch:63  \tLoss:0.0628\t Acc: 0.7867\n",
            "------------------------------------------------\n",
            "Epoch:64  \tLoss:0.0408\t Acc: 0.7854\n",
            "------------------------------------------------\n",
            "Epoch:65  \tLoss:0.0428\t Acc: 0.7888\n",
            "------------------------------------------------\n",
            "Epoch:66  \tLoss:0.0636\t Acc: 0.7905\n",
            "------------------------------------------------\n",
            "Epoch:67  \tLoss:0.0476\t Acc: 0.7878\n",
            "------------------------------------------------\n",
            "Epoch:68  \tLoss:0.0538\t Acc: 0.7783\n",
            "------------------------------------------------\n",
            "Epoch:69  \tLoss:0.0541\t Acc: 0.7788\n",
            "------------------------------------------------\n",
            "Epoch:70  \tLoss:0.0418\t Acc: 0.7809\n",
            "------------------------------------------------\n",
            "Epoch:71  \tLoss:0.0489\t Acc: 0.7853\n",
            "------------------------------------------------\n",
            "Epoch:72  \tLoss:0.0416\t Acc: 0.7861\n",
            "------------------------------------------------\n",
            "Epoch:73  \tLoss:0.0400\t Acc: 0.7881\n",
            "------------------------------------------------\n",
            "Epoch:74  \tLoss:0.0315\t Acc: 0.7915\n",
            "------------------------------------------------\n",
            "Epoch:75  \tLoss:0.0287\t Acc: 0.7850\n",
            "------------------------------------------------\n",
            "Epoch:76  \tLoss:0.0477\t Acc: 0.7767\n",
            "------------------------------------------------\n",
            "Epoch:77  \tLoss:0.0990\t Acc: 0.7811\n",
            "------------------------------------------------\n",
            "Epoch:78  \tLoss:0.0373\t Acc: 0.7815\n",
            "------------------------------------------------\n",
            "Epoch:79  \tLoss:0.0303\t Acc: 0.7811\n",
            "------------------------------------------------\n",
            "Epoch:80  \tLoss:0.0300\t Acc: 0.7806\n",
            "------------------------------------------------\n",
            "Epoch:81  \tLoss:0.0299\t Acc: 0.7841\n",
            "------------------------------------------------\n",
            "Epoch:82  \tLoss:0.0313\t Acc: 0.7856\n",
            "------------------------------------------------\n",
            "Epoch:83  \tLoss:0.0392\t Acc: 0.7824\n",
            "------------------------------------------------\n",
            "Epoch:84  \tLoss:0.0399\t Acc: 0.7827\n",
            "------------------------------------------------\n",
            "Epoch:85  \tLoss:0.0316\t Acc: 0.7771\n",
            "------------------------------------------------\n",
            "Epoch:86  \tLoss:0.0309\t Acc: 0.7803\n",
            "------------------------------------------------\n",
            "Epoch:87  \tLoss:0.0298\t Acc: 0.7841\n",
            "------------------------------------------------\n",
            "Epoch:88  \tLoss:0.0302\t Acc: 0.7834\n",
            "------------------------------------------------\n",
            "Epoch:89  \tLoss:0.0219\t Acc: 0.7824\n",
            "------------------------------------------------\n",
            "Epoch:90  \tLoss:0.0353\t Acc: 0.7796\n",
            "*************************************************\n",
            "Final Score for (B:32, Ep:90, LR:0.004)\n",
            "Acc: 0.7796\n"
          ]
        },
        {
          "output_type": "display_data",
          "data": {
            "text/plain": [
              "<IPython.core.display.HTML object>"
            ],
            "text/html": [
              "Waiting for W&B process to finish... <strong style=\"color:green\">(success).</strong>"
            ]
          },
          "metadata": {}
        },
        {
          "output_type": "display_data",
          "data": {
            "text/plain": [
              "VBox(children=(Label(value='0.001 MB of 0.001 MB uploaded (0.000 MB deduped)\\r'), FloatProgress(value=1.0, max…"
            ],
            "application/vnd.jupyter.widget-view+json": {
              "version_major": 2,
              "version_minor": 0,
              "model_id": "66f01f07284847acacd67b1fb7c565a2"
            }
          },
          "metadata": {}
        },
        {
          "output_type": "display_data",
          "data": {
            "text/plain": [
              "<IPython.core.display.HTML object>"
            ],
            "text/html": [
              "<style>\n",
              "    table.wandb td:nth-child(1) { padding: 0 10px; text-align: right }\n",
              "    .wandb-row { display: flex; flex-direction: row; flex-wrap: wrap; width: 100% }\n",
              "    .wandb-col { display: flex; flex-direction: column; flex-basis: 100%; flex: 1; padding: 10px; }\n",
              "    </style>\n",
              "<div class=\"wandb-row\"><div class=\"wandb-col\"><h3>Run history:</h3><br/><table class=\"wandb\"><tr><td>loss</td><td>█▅▃▂▂▂▂▂▁▁▂▂▃▂▁▁▂▁▂▂▁▁▁▁▂▁▂▂▂▂▃▂▁▂▂▁▂▁▁▂</td></tr></table><br/></div><div class=\"wandb-col\"><h3>Run summary:</h3><br/><table class=\"wandb\"><tr><td>loss</td><td>0.03526</td></tr></table><br/></div></div>"
            ]
          },
          "metadata": {}
        },
        {
          "output_type": "display_data",
          "data": {
            "text/plain": [
              "<IPython.core.display.HTML object>"
            ],
            "text/html": [
              "Synced <strong style=\"color:#cdcd00\">MLP</strong>: <a href=\"https://wandb.ai/ahsen/NIDS/runs/edyvth8n\" target=\"_blank\">https://wandb.ai/ahsen/NIDS/runs/edyvth8n</a><br/>Synced 5 W&B file(s), 0 media file(s), 0 artifact file(s) and 0 other file(s)"
            ]
          },
          "metadata": {}
        },
        {
          "output_type": "display_data",
          "data": {
            "text/plain": [
              "<IPython.core.display.HTML object>"
            ],
            "text/html": [
              "Find logs at: <code>./wandb/run-20220430_025946-edyvth8n/logs</code>"
            ]
          },
          "metadata": {}
        },
        {
          "output_type": "display_data",
          "data": {
            "text/plain": [
              "<IPython.core.display.HTML object>"
            ],
            "text/html": [
              "Tracking run with wandb version 0.12.15"
            ]
          },
          "metadata": {}
        },
        {
          "output_type": "display_data",
          "data": {
            "text/plain": [
              "<IPython.core.display.HTML object>"
            ],
            "text/html": [
              "Run data is saved locally in <code>/content/wandb/run-20220430_030501-34adf4j9</code>"
            ]
          },
          "metadata": {}
        },
        {
          "output_type": "display_data",
          "data": {
            "text/plain": [
              "<IPython.core.display.HTML object>"
            ],
            "text/html": [
              "Syncing run <strong><a href=\"https://wandb.ai/ahsen/NIDS/runs/34adf4j9\" target=\"_blank\">MLP</a></strong> to <a href=\"https://wandb.ai/ahsen/NIDS\" target=\"_blank\">Weights & Biases</a> (<a href=\"https://wandb.me/run\" target=\"_blank\">docs</a>)<br/>"
            ]
          },
          "metadata": {}
        },
        {
          "output_type": "stream",
          "name": "stdout",
          "text": [
            "===============================================\n",
            "Batch Size:64\tEpochs:90\tLR:0.004\n",
            "------------------------------------------------\n",
            "Epoch:1  \tLoss:0.1506\t Acc: 0.7905\n",
            "------------------------------------------------\n",
            "Epoch:2  \tLoss:0.1419\t Acc: 0.7744\n",
            "------------------------------------------------\n",
            "Epoch:3  \tLoss:0.1357\t Acc: 0.7960\n",
            "------------------------------------------------\n",
            "Epoch:4  \tLoss:0.1180\t Acc: 0.7985\n",
            "------------------------------------------------\n",
            "Epoch:5  \tLoss:0.0885\t Acc: 0.7766\n",
            "------------------------------------------------\n",
            "Epoch:6  \tLoss:0.0794\t Acc: 0.7760\n",
            "------------------------------------------------\n",
            "Epoch:7  \tLoss:0.0500\t Acc: 0.7992\n",
            "------------------------------------------------\n",
            "Epoch:8  \tLoss:0.0652\t Acc: 0.7780\n",
            "------------------------------------------------\n",
            "Epoch:9  \tLoss:0.0726\t Acc: 0.7791\n",
            "------------------------------------------------\n",
            "Epoch:10  \tLoss:0.0604\t Acc: 0.7795\n",
            "------------------------------------------------\n",
            "Epoch:11  \tLoss:0.0583\t Acc: 0.7797\n",
            "------------------------------------------------\n",
            "Epoch:12  \tLoss:0.0556\t Acc: 0.7776\n",
            "------------------------------------------------\n",
            "Epoch:13  \tLoss:0.0526\t Acc: 0.7925\n",
            "------------------------------------------------\n",
            "Epoch:14  \tLoss:0.0577\t Acc: 0.7872\n",
            "------------------------------------------------\n",
            "Epoch:15  \tLoss:0.0410\t Acc: 0.7897\n",
            "------------------------------------------------\n",
            "Epoch:16  \tLoss:0.0503\t Acc: 0.7940\n",
            "------------------------------------------------\n",
            "Epoch:17  \tLoss:0.0471\t Acc: 0.7934\n",
            "------------------------------------------------\n",
            "Epoch:18  \tLoss:0.0406\t Acc: 0.7934\n",
            "------------------------------------------------\n",
            "Epoch:19  \tLoss:0.0494\t Acc: 0.7901\n",
            "------------------------------------------------\n",
            "Epoch:20  \tLoss:0.1212\t Acc: 0.7839\n",
            "------------------------------------------------\n",
            "Epoch:21  \tLoss:0.0518\t Acc: 0.7958\n",
            "------------------------------------------------\n",
            "Epoch:22  \tLoss:0.0670\t Acc: 0.7965\n",
            "------------------------------------------------\n",
            "Epoch:23  \tLoss:0.1087\t Acc: 0.7875\n",
            "------------------------------------------------\n",
            "Epoch:24  \tLoss:0.0566\t Acc: 0.7979\n",
            "------------------------------------------------\n",
            "Epoch:25  \tLoss:0.0465\t Acc: 0.7956\n",
            "------------------------------------------------\n",
            "Epoch:26  \tLoss:0.0662\t Acc: 0.7986\n",
            "------------------------------------------------\n",
            "Epoch:27  \tLoss:0.0596\t Acc: 0.7979\n",
            "------------------------------------------------\n",
            "Epoch:28  \tLoss:0.0778\t Acc: 0.7990\n",
            "------------------------------------------------\n",
            "Epoch:29  \tLoss:0.0404\t Acc: 0.7984\n",
            "------------------------------------------------\n",
            "Epoch:30  \tLoss:0.0382\t Acc: 0.7960\n",
            "------------------------------------------------\n",
            "Epoch:31  \tLoss:0.0361\t Acc: 0.7981\n",
            "------------------------------------------------\n",
            "Epoch:32  \tLoss:0.0289\t Acc: 0.7957\n",
            "------------------------------------------------\n",
            "Epoch:33  \tLoss:0.0393\t Acc: 0.7992\n",
            "------------------------------------------------\n",
            "Epoch:34  \tLoss:0.0323\t Acc: 0.7941\n",
            "------------------------------------------------\n",
            "Epoch:35  \tLoss:0.0357\t Acc: 0.7972\n",
            "------------------------------------------------\n",
            "Epoch:36  \tLoss:0.0823\t Acc: 0.7870\n",
            "------------------------------------------------\n",
            "Epoch:37  \tLoss:0.0802\t Acc: 0.7835\n",
            "------------------------------------------------\n",
            "Epoch:38  \tLoss:0.0598\t Acc: 0.7785\n",
            "------------------------------------------------\n",
            "Epoch:39  \tLoss:0.0550\t Acc: 0.7774\n",
            "------------------------------------------------\n",
            "Epoch:40  \tLoss:0.0479\t Acc: 0.7765\n",
            "------------------------------------------------\n",
            "Epoch:41  \tLoss:0.0446\t Acc: 0.7771\n",
            "------------------------------------------------\n",
            "Epoch:42  \tLoss:0.0343\t Acc: 0.7802\n",
            "------------------------------------------------\n",
            "Epoch:43  \tLoss:0.0417\t Acc: 0.7797\n",
            "------------------------------------------------\n",
            "Epoch:44  \tLoss:0.0255\t Acc: 0.7781\n",
            "------------------------------------------------\n",
            "Epoch:45  \tLoss:0.0253\t Acc: 0.7835\n",
            "------------------------------------------------\n",
            "Epoch:46  \tLoss:0.0254\t Acc: 0.7867\n",
            "------------------------------------------------\n",
            "Epoch:47  \tLoss:0.0270\t Acc: 0.7827\n",
            "------------------------------------------------\n",
            "Epoch:48  \tLoss:0.0251\t Acc: 0.7830\n",
            "------------------------------------------------\n",
            "Epoch:49  \tLoss:0.0236\t Acc: 0.7836\n",
            "------------------------------------------------\n",
            "Epoch:50  \tLoss:0.0269\t Acc: 0.7821\n",
            "------------------------------------------------\n",
            "Epoch:51  \tLoss:0.0194\t Acc: 0.7698\n",
            "------------------------------------------------\n",
            "Epoch:52  \tLoss:0.0236\t Acc: 0.7847\n",
            "------------------------------------------------\n",
            "Epoch:53  \tLoss:0.0238\t Acc: 0.7781\n",
            "------------------------------------------------\n",
            "Epoch:54  \tLoss:0.0306\t Acc: 0.7825\n",
            "------------------------------------------------\n",
            "Epoch:55  \tLoss:0.0325\t Acc: 0.7906\n",
            "------------------------------------------------\n",
            "Epoch:56  \tLoss:0.0765\t Acc: 0.7494\n",
            "------------------------------------------------\n",
            "Epoch:57  \tLoss:0.0330\t Acc: 0.7819\n",
            "------------------------------------------------\n",
            "Epoch:58  \tLoss:0.0387\t Acc: 0.7672\n",
            "------------------------------------------------\n",
            "Epoch:59  \tLoss:0.0211\t Acc: 0.7797\n",
            "------------------------------------------------\n",
            "Epoch:60  \tLoss:0.0695\t Acc: 0.7634\n",
            "------------------------------------------------\n",
            "Epoch:61  \tLoss:0.0196\t Acc: 0.7852\n",
            "------------------------------------------------\n",
            "Epoch:62  \tLoss:0.0341\t Acc: 0.7852\n",
            "------------------------------------------------\n",
            "Epoch:63  \tLoss:0.0204\t Acc: 0.7866\n",
            "------------------------------------------------\n",
            "Epoch:64  \tLoss:0.0197\t Acc: 0.7840\n",
            "------------------------------------------------\n",
            "Epoch:65  \tLoss:0.0524\t Acc: 0.7909\n",
            "------------------------------------------------\n",
            "Epoch:66  \tLoss:0.0279\t Acc: 0.7869\n",
            "------------------------------------------------\n",
            "Epoch:67  \tLoss:0.0209\t Acc: 0.7863\n",
            "------------------------------------------------\n",
            "Epoch:68  \tLoss:0.0326\t Acc: 0.7897\n",
            "------------------------------------------------\n",
            "Epoch:69  \tLoss:0.0255\t Acc: 0.7953\n",
            "------------------------------------------------\n",
            "Epoch:70  \tLoss:0.0335\t Acc: 0.7954\n",
            "------------------------------------------------\n",
            "Epoch:71  \tLoss:0.0391\t Acc: 0.7882\n",
            "------------------------------------------------\n",
            "Epoch:72  \tLoss:0.0412\t Acc: 0.8017\n",
            "------------------------------------------------\n",
            "Epoch:73  \tLoss:0.0321\t Acc: 0.7870\n",
            "------------------------------------------------\n",
            "Epoch:74  \tLoss:0.0300\t Acc: 0.7960\n",
            "------------------------------------------------\n",
            "Epoch:75  \tLoss:0.0386\t Acc: 0.7976\n",
            "------------------------------------------------\n",
            "Epoch:76  \tLoss:0.0710\t Acc: 0.7977\n",
            "------------------------------------------------\n",
            "Epoch:77  \tLoss:0.0338\t Acc: 0.7962\n",
            "------------------------------------------------\n",
            "Epoch:78  \tLoss:0.0274\t Acc: 0.8041\n",
            "------------------------------------------------\n",
            "Epoch:79  \tLoss:0.0348\t Acc: 0.7881\n",
            "------------------------------------------------\n",
            "Epoch:80  \tLoss:0.0836\t Acc: 0.7978\n",
            "------------------------------------------------\n",
            "Epoch:81  \tLoss:0.0337\t Acc: 0.7993\n",
            "------------------------------------------------\n",
            "Epoch:82  \tLoss:0.0558\t Acc: 0.7827\n",
            "------------------------------------------------\n",
            "Epoch:83  \tLoss:0.0468\t Acc: 0.7966\n",
            "------------------------------------------------\n",
            "Epoch:84  \tLoss:0.0285\t Acc: 0.7963\n",
            "------------------------------------------------\n",
            "Epoch:85  \tLoss:0.0332\t Acc: 0.7989\n",
            "------------------------------------------------\n",
            "Epoch:86  \tLoss:0.0372\t Acc: 0.7907\n",
            "------------------------------------------------\n",
            "Epoch:87  \tLoss:0.0237\t Acc: 0.7896\n",
            "------------------------------------------------\n",
            "Epoch:88  \tLoss:0.0294\t Acc: 0.7897\n",
            "------------------------------------------------\n",
            "Epoch:89  \tLoss:0.0253\t Acc: 0.7801\n",
            "------------------------------------------------\n",
            "Epoch:90  \tLoss:0.0243\t Acc: 0.7840\n",
            "*************************************************\n",
            "Final Score for (B:64, Ep:90, LR:0.004)\n",
            "Acc: 0.7840\n"
          ]
        },
        {
          "output_type": "display_data",
          "data": {
            "text/plain": [
              "<IPython.core.display.HTML object>"
            ],
            "text/html": [
              "Waiting for W&B process to finish... <strong style=\"color:green\">(success).</strong>"
            ]
          },
          "metadata": {}
        },
        {
          "output_type": "display_data",
          "data": {
            "text/plain": [
              "VBox(children=(Label(value='0.001 MB of 0.001 MB uploaded (0.000 MB deduped)\\r'), FloatProgress(value=1.0, max…"
            ],
            "application/vnd.jupyter.widget-view+json": {
              "version_major": 2,
              "version_minor": 0,
              "model_id": "354bf23a26b24af18ab56e1ad07da648"
            }
          },
          "metadata": {}
        },
        {
          "output_type": "display_data",
          "data": {
            "text/plain": [
              "<IPython.core.display.HTML object>"
            ],
            "text/html": [
              "<style>\n",
              "    table.wandb td:nth-child(1) { padding: 0 10px; text-align: right }\n",
              "    .wandb-row { display: flex; flex-direction: row; flex-wrap: wrap; width: 100% }\n",
              "    .wandb-col { display: flex; flex-direction: column; flex-basis: 100%; flex: 1; padding: 10px; }\n",
              "    </style>\n",
              "<div class=\"wandb-row\"><div class=\"wandb-col\"><h3>Run history:</h3><br/><table class=\"wandb\"><tr><td>loss</td><td>█▇▅▃▃▃▃▃▃▃▆▃▄▂▂▂▄▃▂▁▁▁▁▁▂▂▄▂▁▁▁▂▂▄▁▄▂▂▁▁</td></tr></table><br/></div><div class=\"wandb-col\"><h3>Run summary:</h3><br/><table class=\"wandb\"><tr><td>loss</td><td>0.02434</td></tr></table><br/></div></div>"
            ]
          },
          "metadata": {}
        },
        {
          "output_type": "display_data",
          "data": {
            "text/plain": [
              "<IPython.core.display.HTML object>"
            ],
            "text/html": [
              "Synced <strong style=\"color:#cdcd00\">MLP</strong>: <a href=\"https://wandb.ai/ahsen/NIDS/runs/34adf4j9\" target=\"_blank\">https://wandb.ai/ahsen/NIDS/runs/34adf4j9</a><br/>Synced 5 W&B file(s), 0 media file(s), 0 artifact file(s) and 0 other file(s)"
            ]
          },
          "metadata": {}
        },
        {
          "output_type": "display_data",
          "data": {
            "text/plain": [
              "<IPython.core.display.HTML object>"
            ],
            "text/html": [
              "Find logs at: <code>./wandb/run-20220430_030501-34adf4j9/logs</code>"
            ]
          },
          "metadata": {}
        },
        {
          "output_type": "display_data",
          "data": {
            "text/plain": [
              "<IPython.core.display.HTML object>"
            ],
            "text/html": [
              "Tracking run with wandb version 0.12.15"
            ]
          },
          "metadata": {}
        },
        {
          "output_type": "display_data",
          "data": {
            "text/plain": [
              "<IPython.core.display.HTML object>"
            ],
            "text/html": [
              "Run data is saved locally in <code>/content/wandb/run-20220430_030827-11fpydng</code>"
            ]
          },
          "metadata": {}
        },
        {
          "output_type": "display_data",
          "data": {
            "text/plain": [
              "<IPython.core.display.HTML object>"
            ],
            "text/html": [
              "Syncing run <strong><a href=\"https://wandb.ai/ahsen/NIDS/runs/11fpydng\" target=\"_blank\">MLP</a></strong> to <a href=\"https://wandb.ai/ahsen/NIDS\" target=\"_blank\">Weights & Biases</a> (<a href=\"https://wandb.me/run\" target=\"_blank\">docs</a>)<br/>"
            ]
          },
          "metadata": {}
        },
        {
          "output_type": "stream",
          "name": "stdout",
          "text": [
            "===============================================\n",
            "Batch Size:128\tEpochs:90\tLR:0.004\n",
            "------------------------------------------------\n",
            "Epoch:1  \tLoss:0.2301\t Acc: 0.7892\n",
            "------------------------------------------------\n",
            "Epoch:2  \tLoss:0.1720\t Acc: 0.7941\n",
            "------------------------------------------------\n",
            "Epoch:3  \tLoss:0.1603\t Acc: 0.7877\n",
            "------------------------------------------------\n",
            "Epoch:4  \tLoss:0.1451\t Acc: 0.7881\n",
            "------------------------------------------------\n",
            "Epoch:5  \tLoss:0.1346\t Acc: 0.7884\n",
            "------------------------------------------------\n",
            "Epoch:6  \tLoss:0.1345\t Acc: 0.7888\n",
            "------------------------------------------------\n",
            "Epoch:7  \tLoss:0.1538\t Acc: 0.7878\n",
            "------------------------------------------------\n",
            "Epoch:8  \tLoss:0.1514\t Acc: 0.7951\n",
            "------------------------------------------------\n",
            "Epoch:9  \tLoss:0.1434\t Acc: 0.8066\n",
            "------------------------------------------------\n",
            "Epoch:10  \tLoss:0.1225\t Acc: 0.8064\n",
            "------------------------------------------------\n",
            "Epoch:11  \tLoss:0.1008\t Acc: 0.7982\n",
            "------------------------------------------------\n",
            "Epoch:12  \tLoss:0.0841\t Acc: 0.8072\n",
            "------------------------------------------------\n",
            "Epoch:13  \tLoss:0.0772\t Acc: 0.8058\n",
            "------------------------------------------------\n",
            "Epoch:14  \tLoss:0.0698\t Acc: 0.8032\n",
            "------------------------------------------------\n",
            "Epoch:15  \tLoss:0.0624\t Acc: 0.8042\n",
            "------------------------------------------------\n",
            "Epoch:16  \tLoss:0.0581\t Acc: 0.8006\n",
            "------------------------------------------------\n",
            "Epoch:17  \tLoss:0.0538\t Acc: 0.7996\n",
            "------------------------------------------------\n",
            "Epoch:18  \tLoss:0.0510\t Acc: 0.8004\n",
            "------------------------------------------------\n",
            "Epoch:19  \tLoss:0.0507\t Acc: 0.8018\n",
            "------------------------------------------------\n",
            "Epoch:20  \tLoss:0.0479\t Acc: 0.8019\n",
            "------------------------------------------------\n",
            "Epoch:21  \tLoss:0.0458\t Acc: 0.8011\n",
            "------------------------------------------------\n",
            "Epoch:22  \tLoss:0.0463\t Acc: 0.8009\n",
            "------------------------------------------------\n",
            "Epoch:23  \tLoss:0.0457\t Acc: 0.7988\n",
            "------------------------------------------------\n",
            "Epoch:24  \tLoss:0.0454\t Acc: 0.7981\n",
            "------------------------------------------------\n",
            "Epoch:25  \tLoss:0.0448\t Acc: 0.7994\n",
            "------------------------------------------------\n",
            "Epoch:26  \tLoss:0.0445\t Acc: 0.8006\n",
            "------------------------------------------------\n",
            "Epoch:27  \tLoss:0.0416\t Acc: 0.7993\n",
            "------------------------------------------------\n",
            "Epoch:28  \tLoss:0.0413\t Acc: 0.7989\n",
            "------------------------------------------------\n",
            "Epoch:29  \tLoss:0.0408\t Acc: 0.7992\n",
            "------------------------------------------------\n",
            "Epoch:30  \tLoss:0.0402\t Acc: 0.7991\n",
            "------------------------------------------------\n",
            "Epoch:31  \tLoss:0.0394\t Acc: 0.7987\n",
            "------------------------------------------------\n",
            "Epoch:32  \tLoss:0.0379\t Acc: 0.7972\n",
            "------------------------------------------------\n",
            "Epoch:33  \tLoss:0.0360\t Acc: 0.7970\n",
            "------------------------------------------------\n",
            "Epoch:34  \tLoss:0.0348\t Acc: 0.7964\n",
            "------------------------------------------------\n",
            "Epoch:35  \tLoss:0.0339\t Acc: 0.7959\n",
            "------------------------------------------------\n",
            "Epoch:36  \tLoss:0.0325\t Acc: 0.7955\n",
            "------------------------------------------------\n",
            "Epoch:37  \tLoss:0.0313\t Acc: 0.7946\n",
            "------------------------------------------------\n",
            "Epoch:38  \tLoss:0.0317\t Acc: 0.7944\n",
            "------------------------------------------------\n",
            "Epoch:39  \tLoss:0.0291\t Acc: 0.7941\n",
            "------------------------------------------------\n",
            "Epoch:40  \tLoss:0.0279\t Acc: 0.7938\n",
            "------------------------------------------------\n",
            "Epoch:41  \tLoss:0.0272\t Acc: 0.7939\n",
            "------------------------------------------------\n",
            "Epoch:42  \tLoss:0.0256\t Acc: 0.7948\n",
            "------------------------------------------------\n",
            "Epoch:43  \tLoss:0.0240\t Acc: 0.7943\n",
            "------------------------------------------------\n",
            "Epoch:44  \tLoss:0.0232\t Acc: 0.7920\n",
            "------------------------------------------------\n",
            "Epoch:45  \tLoss:0.0227\t Acc: 0.7924\n",
            "------------------------------------------------\n",
            "Epoch:46  \tLoss:0.0219\t Acc: 0.7912\n",
            "------------------------------------------------\n",
            "Epoch:47  \tLoss:0.0215\t Acc: 0.7919\n",
            "------------------------------------------------\n",
            "Epoch:48  \tLoss:0.0220\t Acc: 0.7913\n",
            "------------------------------------------------\n",
            "Epoch:49  \tLoss:0.0215\t Acc: 0.7905\n",
            "------------------------------------------------\n",
            "Epoch:50  \tLoss:0.0220\t Acc: 0.7897\n",
            "------------------------------------------------\n",
            "Epoch:51  \tLoss:0.0211\t Acc: 0.7877\n",
            "------------------------------------------------\n",
            "Epoch:52  \tLoss:0.0233\t Acc: 0.7892\n",
            "------------------------------------------------\n",
            "Epoch:53  \tLoss:0.0297\t Acc: 0.7820\n",
            "------------------------------------------------\n",
            "Epoch:54  \tLoss:0.0249\t Acc: 0.7917\n",
            "------------------------------------------------\n",
            "Epoch:55  \tLoss:0.0268\t Acc: 0.7927\n",
            "------------------------------------------------\n",
            "Epoch:56  \tLoss:0.0230\t Acc: 0.7873\n",
            "------------------------------------------------\n",
            "Epoch:57  \tLoss:0.0218\t Acc: 0.7885\n",
            "------------------------------------------------\n",
            "Epoch:58  \tLoss:0.0202\t Acc: 0.7851\n",
            "------------------------------------------------\n",
            "Epoch:59  \tLoss:0.0226\t Acc: 0.7891\n",
            "------------------------------------------------\n",
            "Epoch:60  \tLoss:0.0299\t Acc: 0.7805\n",
            "------------------------------------------------\n",
            "Epoch:61  \tLoss:0.0233\t Acc: 0.7881\n",
            "------------------------------------------------\n",
            "Epoch:62  \tLoss:0.0192\t Acc: 0.7869\n",
            "------------------------------------------------\n",
            "Epoch:63  \tLoss:0.0211\t Acc: 0.7863\n",
            "------------------------------------------------\n",
            "Epoch:64  \tLoss:0.0241\t Acc: 0.7884\n",
            "------------------------------------------------\n",
            "Epoch:65  \tLoss:0.0211\t Acc: 0.7837\n",
            "------------------------------------------------\n",
            "Epoch:66  \tLoss:0.0218\t Acc: 0.7876\n",
            "------------------------------------------------\n",
            "Epoch:67  \tLoss:0.0222\t Acc: 0.7913\n",
            "------------------------------------------------\n",
            "Epoch:68  \tLoss:0.0225\t Acc: 0.7843\n",
            "------------------------------------------------\n",
            "Epoch:69  \tLoss:0.0213\t Acc: 0.7872\n",
            "------------------------------------------------\n",
            "Epoch:70  \tLoss:0.0191\t Acc: 0.7850\n",
            "------------------------------------------------\n",
            "Epoch:71  \tLoss:0.0191\t Acc: 0.7843\n",
            "------------------------------------------------\n",
            "Epoch:72  \tLoss:0.0216\t Acc: 0.7862\n",
            "------------------------------------------------\n",
            "Epoch:73  \tLoss:0.0227\t Acc: 0.7793\n",
            "------------------------------------------------\n",
            "Epoch:74  \tLoss:0.0223\t Acc: 0.7796\n",
            "------------------------------------------------\n",
            "Epoch:75  \tLoss:0.0238\t Acc: 0.7778\n",
            "------------------------------------------------\n",
            "Epoch:76  \tLoss:0.0227\t Acc: 0.7796\n",
            "------------------------------------------------\n",
            "Epoch:77  \tLoss:0.0210\t Acc: 0.7849\n",
            "------------------------------------------------\n",
            "Epoch:78  \tLoss:0.0218\t Acc: 0.7853\n",
            "------------------------------------------------\n",
            "Epoch:79  \tLoss:0.0224\t Acc: 0.7785\n",
            "------------------------------------------------\n",
            "Epoch:80  \tLoss:0.0217\t Acc: 0.7786\n",
            "------------------------------------------------\n",
            "Epoch:81  \tLoss:0.0231\t Acc: 0.7794\n",
            "------------------------------------------------\n",
            "Epoch:82  \tLoss:0.0204\t Acc: 0.7856\n",
            "------------------------------------------------\n",
            "Epoch:83  \tLoss:0.0227\t Acc: 0.7793\n",
            "------------------------------------------------\n",
            "Epoch:84  \tLoss:0.0217\t Acc: 0.7779\n",
            "------------------------------------------------\n",
            "Epoch:85  \tLoss:0.0245\t Acc: 0.7816\n",
            "------------------------------------------------\n",
            "Epoch:86  \tLoss:0.0211\t Acc: 0.7842\n",
            "------------------------------------------------\n",
            "Epoch:87  \tLoss:0.0233\t Acc: 0.7814\n",
            "------------------------------------------------\n",
            "Epoch:88  \tLoss:0.0244\t Acc: 0.7828\n",
            "------------------------------------------------\n",
            "Epoch:89  \tLoss:0.0242\t Acc: 0.7839\n",
            "------------------------------------------------\n",
            "Epoch:90  \tLoss:0.0246\t Acc: 0.7820\n",
            "*************************************************\n",
            "Final Score for (B:128, Ep:90, LR:0.004)\n",
            "Acc: 0.7820\n"
          ]
        },
        {
          "output_type": "display_data",
          "data": {
            "text/plain": [
              "<IPython.core.display.HTML object>"
            ],
            "text/html": [
              "Waiting for W&B process to finish... <strong style=\"color:green\">(success).</strong>"
            ]
          },
          "metadata": {}
        },
        {
          "output_type": "display_data",
          "data": {
            "text/plain": [
              "VBox(children=(Label(value='0.001 MB of 0.001 MB uploaded (0.000 MB deduped)\\r'), FloatProgress(value=1.0, max…"
            ],
            "application/vnd.jupyter.widget-view+json": {
              "version_major": 2,
              "version_minor": 0,
              "model_id": "7788b403932d4a7795c43190097129d0"
            }
          },
          "metadata": {}
        },
        {
          "output_type": "display_data",
          "data": {
            "text/plain": [
              "<IPython.core.display.HTML object>"
            ],
            "text/html": [
              "<style>\n",
              "    table.wandb td:nth-child(1) { padding: 0 10px; text-align: right }\n",
              "    .wandb-row { display: flex; flex-direction: row; flex-wrap: wrap; width: 100% }\n",
              "    .wandb-col { display: flex; flex-direction: column; flex-basis: 100%; flex: 1; padding: 10px; }\n",
              "    </style>\n",
              "<div class=\"wandb-row\"><div class=\"wandb-col\"><h3>Run history:</h3><br/><table class=\"wandb\"><tr><td>loss</td><td>█▆▅▅▄▃▃▂▂▂▂▂▂▂▂▁▁▁▁▁▁▁▁▁▁▁▁▁▁▁▁▁▁▁▁▁▁▁▁▁</td></tr></table><br/></div><div class=\"wandb-col\"><h3>Run summary:</h3><br/><table class=\"wandb\"><tr><td>loss</td><td>0.02463</td></tr></table><br/></div></div>"
            ]
          },
          "metadata": {}
        },
        {
          "output_type": "display_data",
          "data": {
            "text/plain": [
              "<IPython.core.display.HTML object>"
            ],
            "text/html": [
              "Synced <strong style=\"color:#cdcd00\">MLP</strong>: <a href=\"https://wandb.ai/ahsen/NIDS/runs/11fpydng\" target=\"_blank\">https://wandb.ai/ahsen/NIDS/runs/11fpydng</a><br/>Synced 5 W&B file(s), 0 media file(s), 0 artifact file(s) and 0 other file(s)"
            ]
          },
          "metadata": {}
        },
        {
          "output_type": "display_data",
          "data": {
            "text/plain": [
              "<IPython.core.display.HTML object>"
            ],
            "text/html": [
              "Find logs at: <code>./wandb/run-20220430_030827-11fpydng/logs</code>"
            ]
          },
          "metadata": {}
        },
        {
          "output_type": "display_data",
          "data": {
            "text/plain": [
              "<IPython.core.display.HTML object>"
            ],
            "text/html": [
              "Tracking run with wandb version 0.12.15"
            ]
          },
          "metadata": {}
        },
        {
          "output_type": "display_data",
          "data": {
            "text/plain": [
              "<IPython.core.display.HTML object>"
            ],
            "text/html": [
              "Run data is saved locally in <code>/content/wandb/run-20220430_031057-qs0xq68g</code>"
            ]
          },
          "metadata": {}
        },
        {
          "output_type": "display_data",
          "data": {
            "text/plain": [
              "<IPython.core.display.HTML object>"
            ],
            "text/html": [
              "Syncing run <strong><a href=\"https://wandb.ai/ahsen/NIDS/runs/qs0xq68g\" target=\"_blank\">MLP</a></strong> to <a href=\"https://wandb.ai/ahsen/NIDS\" target=\"_blank\">Weights & Biases</a> (<a href=\"https://wandb.me/run\" target=\"_blank\">docs</a>)<br/>"
            ]
          },
          "metadata": {}
        },
        {
          "output_type": "stream",
          "name": "stdout",
          "text": [
            "===============================================\n",
            "Batch Size:256\tEpochs:90\tLR:0.004\n",
            "------------------------------------------------\n",
            "Epoch:1  \tLoss:0.2081\t Acc: 0.7687\n",
            "------------------------------------------------\n",
            "Epoch:2  \tLoss:0.1805\t Acc: 0.7708\n",
            "------------------------------------------------\n",
            "Epoch:3  \tLoss:0.1630\t Acc: 0.7613\n",
            "------------------------------------------------\n",
            "Epoch:4  \tLoss:0.1504\t Acc: 0.7510\n",
            "------------------------------------------------\n",
            "Epoch:5  \tLoss:0.1411\t Acc: 0.7478\n",
            "------------------------------------------------\n",
            "Epoch:6  \tLoss:0.1322\t Acc: 0.7509\n",
            "------------------------------------------------\n",
            "Epoch:7  \tLoss:0.1274\t Acc: 0.7534\n",
            "------------------------------------------------\n",
            "Epoch:8  \tLoss:0.1222\t Acc: 0.7552\n",
            "------------------------------------------------\n",
            "Epoch:9  \tLoss:0.1173\t Acc: 0.7582\n",
            "------------------------------------------------\n",
            "Epoch:10  \tLoss:0.1129\t Acc: 0.7597\n",
            "------------------------------------------------\n",
            "Epoch:11  \tLoss:0.1085\t Acc: 0.7675\n",
            "------------------------------------------------\n",
            "Epoch:12  \tLoss:0.1046\t Acc: 0.7790\n",
            "------------------------------------------------\n",
            "Epoch:13  \tLoss:0.1010\t Acc: 0.7818\n",
            "------------------------------------------------\n",
            "Epoch:14  \tLoss:0.0978\t Acc: 0.7823\n",
            "------------------------------------------------\n",
            "Epoch:15  \tLoss:0.0943\t Acc: 0.7828\n",
            "------------------------------------------------\n",
            "Epoch:16  \tLoss:0.0910\t Acc: 0.7839\n",
            "------------------------------------------------\n",
            "Epoch:17  \tLoss:0.0884\t Acc: 0.7846\n",
            "------------------------------------------------\n",
            "Epoch:18  \tLoss:0.0854\t Acc: 0.7850\n",
            "------------------------------------------------\n",
            "Epoch:19  \tLoss:0.0829\t Acc: 0.7845\n",
            "------------------------------------------------\n",
            "Epoch:20  \tLoss:0.0810\t Acc: 0.7855\n",
            "------------------------------------------------\n",
            "Epoch:21  \tLoss:0.0791\t Acc: 0.7857\n",
            "------------------------------------------------\n",
            "Epoch:22  \tLoss:0.0769\t Acc: 0.7860\n",
            "------------------------------------------------\n",
            "Epoch:23  \tLoss:0.0739\t Acc: 0.7866\n",
            "------------------------------------------------\n",
            "Epoch:24  \tLoss:0.0718\t Acc: 0.7870\n",
            "------------------------------------------------\n",
            "Epoch:25  \tLoss:0.0698\t Acc: 0.7877\n",
            "------------------------------------------------\n",
            "Epoch:26  \tLoss:0.0724\t Acc: 0.7873\n",
            "------------------------------------------------\n",
            "Epoch:27  \tLoss:0.0693\t Acc: 0.7883\n",
            "------------------------------------------------\n",
            "Epoch:28  \tLoss:0.0664\t Acc: 0.7874\n",
            "------------------------------------------------\n",
            "Epoch:29  \tLoss:0.0698\t Acc: 0.7865\n",
            "------------------------------------------------\n",
            "Epoch:30  \tLoss:0.0597\t Acc: 0.7811\n",
            "------------------------------------------------\n",
            "Epoch:31  \tLoss:0.0523\t Acc: 0.7818\n",
            "------------------------------------------------\n",
            "Epoch:32  \tLoss:0.0552\t Acc: 0.7814\n",
            "------------------------------------------------\n",
            "Epoch:33  \tLoss:0.0510\t Acc: 0.7804\n",
            "------------------------------------------------\n",
            "Epoch:34  \tLoss:0.0477\t Acc: 0.7799\n",
            "------------------------------------------------\n",
            "Epoch:35  \tLoss:0.0561\t Acc: 0.7800\n",
            "------------------------------------------------\n",
            "Epoch:36  \tLoss:0.0528\t Acc: 0.7784\n",
            "------------------------------------------------\n",
            "Epoch:37  \tLoss:0.0499\t Acc: 0.7667\n",
            "------------------------------------------------\n",
            "Epoch:38  \tLoss:0.0458\t Acc: 0.7774\n",
            "------------------------------------------------\n",
            "Epoch:39  \tLoss:0.0509\t Acc: 0.7673\n",
            "------------------------------------------------\n",
            "Epoch:40  \tLoss:0.0461\t Acc: 0.7756\n",
            "------------------------------------------------\n",
            "Epoch:41  \tLoss:0.0524\t Acc: 0.7670\n",
            "------------------------------------------------\n",
            "Epoch:42  \tLoss:0.0537\t Acc: 0.7756\n",
            "------------------------------------------------\n",
            "Epoch:43  \tLoss:0.0515\t Acc: 0.7666\n",
            "------------------------------------------------\n",
            "Epoch:44  \tLoss:0.0433\t Acc: 0.7737\n",
            "------------------------------------------------\n",
            "Epoch:45  \tLoss:0.0510\t Acc: 0.7663\n",
            "------------------------------------------------\n",
            "Epoch:46  \tLoss:0.0552\t Acc: 0.7703\n",
            "------------------------------------------------\n",
            "Epoch:47  \tLoss:0.0553\t Acc: 0.7766\n",
            "------------------------------------------------\n",
            "Epoch:48  \tLoss:0.0577\t Acc: 0.7827\n",
            "------------------------------------------------\n",
            "Epoch:49  \tLoss:0.0544\t Acc: 0.7850\n",
            "------------------------------------------------\n",
            "Epoch:50  \tLoss:0.0523\t Acc: 0.7870\n",
            "------------------------------------------------\n",
            "Epoch:51  \tLoss:0.0527\t Acc: 0.7871\n",
            "------------------------------------------------\n",
            "Epoch:52  \tLoss:0.0518\t Acc: 0.7854\n",
            "------------------------------------------------\n",
            "Epoch:53  \tLoss:0.0545\t Acc: 0.7857\n",
            "------------------------------------------------\n",
            "Epoch:54  \tLoss:0.0511\t Acc: 0.7846\n",
            "------------------------------------------------\n",
            "Epoch:55  \tLoss:0.0543\t Acc: 0.7846\n",
            "------------------------------------------------\n",
            "Epoch:56  \tLoss:0.0505\t Acc: 0.7847\n",
            "------------------------------------------------\n",
            "Epoch:57  \tLoss:0.0540\t Acc: 0.7852\n",
            "------------------------------------------------\n",
            "Epoch:58  \tLoss:0.0513\t Acc: 0.7851\n",
            "------------------------------------------------\n",
            "Epoch:59  \tLoss:0.0501\t Acc: 0.7849\n",
            "------------------------------------------------\n",
            "Epoch:60  \tLoss:0.0496\t Acc: 0.7850\n",
            "------------------------------------------------\n",
            "Epoch:61  \tLoss:0.0490\t Acc: 0.7852\n",
            "------------------------------------------------\n",
            "Epoch:62  \tLoss:0.0475\t Acc: 0.7855\n",
            "------------------------------------------------\n",
            "Epoch:63  \tLoss:0.0468\t Acc: 0.7855\n",
            "------------------------------------------------\n",
            "Epoch:64  \tLoss:0.0458\t Acc: 0.7853\n",
            "------------------------------------------------\n",
            "Epoch:65  \tLoss:0.0485\t Acc: 0.7857\n",
            "------------------------------------------------\n",
            "Epoch:66  \tLoss:0.0462\t Acc: 0.7857\n",
            "------------------------------------------------\n",
            "Epoch:67  \tLoss:0.0455\t Acc: 0.7856\n",
            "------------------------------------------------\n",
            "Epoch:68  \tLoss:0.0436\t Acc: 0.7857\n",
            "------------------------------------------------\n",
            "Epoch:69  \tLoss:0.0431\t Acc: 0.7853\n",
            "------------------------------------------------\n",
            "Epoch:70  \tLoss:0.0424\t Acc: 0.7851\n",
            "------------------------------------------------\n",
            "Epoch:71  \tLoss:0.0423\t Acc: 0.7841\n",
            "------------------------------------------------\n",
            "Epoch:72  \tLoss:0.0419\t Acc: 0.7837\n",
            "------------------------------------------------\n",
            "Epoch:73  \tLoss:0.0421\t Acc: 0.7826\n",
            "------------------------------------------------\n",
            "Epoch:74  \tLoss:0.0417\t Acc: 0.7824\n",
            "------------------------------------------------\n",
            "Epoch:75  \tLoss:0.0403\t Acc: 0.7831\n",
            "------------------------------------------------\n",
            "Epoch:76  \tLoss:0.0401\t Acc: 0.7822\n",
            "------------------------------------------------\n",
            "Epoch:77  \tLoss:0.0395\t Acc: 0.7826\n",
            "------------------------------------------------\n",
            "Epoch:78  \tLoss:0.0393\t Acc: 0.7821\n",
            "------------------------------------------------\n",
            "Epoch:79  \tLoss:0.0387\t Acc: 0.7817\n",
            "------------------------------------------------\n",
            "Epoch:80  \tLoss:0.0375\t Acc: 0.7812\n",
            "------------------------------------------------\n",
            "Epoch:81  \tLoss:0.0369\t Acc: 0.7812\n",
            "------------------------------------------------\n",
            "Epoch:82  \tLoss:0.0359\t Acc: 0.7807\n",
            "------------------------------------------------\n",
            "Epoch:83  \tLoss:0.0357\t Acc: 0.7806\n",
            "------------------------------------------------\n",
            "Epoch:84  \tLoss:0.0350\t Acc: 0.7802\n",
            "------------------------------------------------\n",
            "Epoch:85  \tLoss:0.0345\t Acc: 0.7800\n",
            "------------------------------------------------\n",
            "Epoch:86  \tLoss:0.0334\t Acc: 0.7818\n",
            "------------------------------------------------\n",
            "Epoch:87  \tLoss:0.0328\t Acc: 0.7813\n",
            "------------------------------------------------\n",
            "Epoch:88  \tLoss:0.0321\t Acc: 0.7808\n",
            "------------------------------------------------\n",
            "Epoch:89  \tLoss:0.0319\t Acc: 0.7807\n",
            "------------------------------------------------\n",
            "Epoch:90  \tLoss:0.0318\t Acc: 0.7805\n",
            "*************************************************\n",
            "Final Score for (B:256, Ep:90, LR:0.004)\n",
            "Acc: 0.7805\n"
          ]
        },
        {
          "output_type": "display_data",
          "data": {
            "text/plain": [
              "<IPython.core.display.HTML object>"
            ],
            "text/html": [
              "Waiting for W&B process to finish... <strong style=\"color:green\">(success).</strong>"
            ]
          },
          "metadata": {}
        },
        {
          "output_type": "display_data",
          "data": {
            "text/plain": [
              "VBox(children=(Label(value='0.001 MB of 0.001 MB uploaded (0.000 MB deduped)\\r'), FloatProgress(value=1.0, max…"
            ],
            "application/vnd.jupyter.widget-view+json": {
              "version_major": 2,
              "version_minor": 0,
              "model_id": "5a96411f766a433e9e5f20413b720f75"
            }
          },
          "metadata": {}
        },
        {
          "output_type": "display_data",
          "data": {
            "text/plain": [
              "<IPython.core.display.HTML object>"
            ],
            "text/html": [
              "<style>\n",
              "    table.wandb td:nth-child(1) { padding: 0 10px; text-align: right }\n",
              "    .wandb-row { display: flex; flex-direction: row; flex-wrap: wrap; width: 100% }\n",
              "    .wandb-col { display: flex; flex-direction: column; flex-basis: 100%; flex: 1; padding: 10px; }\n",
              "    </style>\n",
              "<div class=\"wandb-row\"><div class=\"wandb-col\"><h3>Run history:</h3><br/><table class=\"wandb\"><tr><td>loss</td><td>█▆▅▅▄▄▄▃▃▃▃▃▂▂▂▂▂▂▂▁▂▂▂▂▂▂▂▂▂▂▁▁▁▁▁▁▁▁▁▁</td></tr></table><br/></div><div class=\"wandb-col\"><h3>Run summary:</h3><br/><table class=\"wandb\"><tr><td>loss</td><td>0.03177</td></tr></table><br/></div></div>"
            ]
          },
          "metadata": {}
        },
        {
          "output_type": "display_data",
          "data": {
            "text/plain": [
              "<IPython.core.display.HTML object>"
            ],
            "text/html": [
              "Synced <strong style=\"color:#cdcd00\">MLP</strong>: <a href=\"https://wandb.ai/ahsen/NIDS/runs/qs0xq68g\" target=\"_blank\">https://wandb.ai/ahsen/NIDS/runs/qs0xq68g</a><br/>Synced 5 W&B file(s), 0 media file(s), 0 artifact file(s) and 0 other file(s)"
            ]
          },
          "metadata": {}
        },
        {
          "output_type": "display_data",
          "data": {
            "text/plain": [
              "<IPython.core.display.HTML object>"
            ],
            "text/html": [
              "Find logs at: <code>./wandb/run-20220430_031057-qs0xq68g/logs</code>"
            ]
          },
          "metadata": {}
        },
        {
          "output_type": "display_data",
          "data": {
            "text/plain": [
              "<IPython.core.display.HTML object>"
            ],
            "text/html": [
              "Tracking run with wandb version 0.12.15"
            ]
          },
          "metadata": {}
        },
        {
          "output_type": "display_data",
          "data": {
            "text/plain": [
              "<IPython.core.display.HTML object>"
            ],
            "text/html": [
              "Run data is saved locally in <code>/content/wandb/run-20220430_031306-1ajfkyu0</code>"
            ]
          },
          "metadata": {}
        },
        {
          "output_type": "display_data",
          "data": {
            "text/plain": [
              "<IPython.core.display.HTML object>"
            ],
            "text/html": [
              "Syncing run <strong><a href=\"https://wandb.ai/ahsen/NIDS/runs/1ajfkyu0\" target=\"_blank\">MLP</a></strong> to <a href=\"https://wandb.ai/ahsen/NIDS\" target=\"_blank\">Weights & Biases</a> (<a href=\"https://wandb.me/run\" target=\"_blank\">docs</a>)<br/>"
            ]
          },
          "metadata": {}
        },
        {
          "output_type": "stream",
          "name": "stdout",
          "text": [
            "===============================================\n",
            "Batch Size:32\tEpochs:90\tLR:0.01\n",
            "------------------------------------------------\n",
            "Epoch:1  \tLoss:0.0972\t Acc: 0.7477\n",
            "------------------------------------------------\n",
            "Epoch:2  \tLoss:0.0741\t Acc: 0.7736\n",
            "------------------------------------------------\n",
            "Epoch:3  \tLoss:0.1019\t Acc: 0.7896\n",
            "------------------------------------------------\n",
            "Epoch:4  \tLoss:0.0599\t Acc: 0.7777\n",
            "------------------------------------------------\n",
            "Epoch:5  \tLoss:0.0722\t Acc: 0.7872\n",
            "------------------------------------------------\n",
            "Epoch:6  \tLoss:0.0942\t Acc: 0.7846\n",
            "------------------------------------------------\n",
            "Epoch:7  \tLoss:0.0733\t Acc: 0.7937\n",
            "------------------------------------------------\n",
            "Epoch:8  \tLoss:0.0505\t Acc: 0.7979\n",
            "------------------------------------------------\n",
            "Epoch:9  \tLoss:0.0514\t Acc: 0.8007\n",
            "------------------------------------------------\n",
            "Epoch:10  \tLoss:0.0382\t Acc: 0.7835\n",
            "------------------------------------------------\n",
            "Epoch:11  \tLoss:0.0228\t Acc: 0.7886\n",
            "------------------------------------------------\n",
            "Epoch:12  \tLoss:0.0443\t Acc: 0.7912\n",
            "------------------------------------------------\n",
            "Epoch:13  \tLoss:0.0215\t Acc: 0.7867\n",
            "------------------------------------------------\n",
            "Epoch:14  \tLoss:0.0348\t Acc: 0.7860\n",
            "------------------------------------------------\n",
            "Epoch:15  \tLoss:0.0305\t Acc: 0.7861\n",
            "------------------------------------------------\n",
            "Epoch:16  \tLoss:0.0213\t Acc: 0.7856\n",
            "------------------------------------------------\n",
            "Epoch:17  \tLoss:0.0286\t Acc: 0.7767\n",
            "------------------------------------------------\n",
            "Epoch:18  \tLoss:0.0259\t Acc: 0.7842\n",
            "------------------------------------------------\n",
            "Epoch:19  \tLoss:0.0344\t Acc: 0.7821\n",
            "------------------------------------------------\n",
            "Epoch:20  \tLoss:0.0301\t Acc: 0.7789\n",
            "------------------------------------------------\n",
            "Epoch:21  \tLoss:0.0225\t Acc: 0.7826\n",
            "------------------------------------------------\n",
            "Epoch:22  \tLoss:0.0257\t Acc: 0.7771\n",
            "------------------------------------------------\n",
            "Epoch:23  \tLoss:0.0230\t Acc: 0.7818\n",
            "------------------------------------------------\n",
            "Epoch:24  \tLoss:0.0291\t Acc: 0.7698\n",
            "------------------------------------------------\n",
            "Epoch:25  \tLoss:0.0228\t Acc: 0.7751\n",
            "------------------------------------------------\n",
            "Epoch:26  \tLoss:0.0304\t Acc: 0.7771\n",
            "------------------------------------------------\n",
            "Epoch:27  \tLoss:0.0217\t Acc: 0.7733\n",
            "------------------------------------------------\n",
            "Epoch:28  \tLoss:0.0226\t Acc: 0.7714\n",
            "------------------------------------------------\n",
            "Epoch:29  \tLoss:0.0292\t Acc: 0.7760\n",
            "------------------------------------------------\n",
            "Epoch:30  \tLoss:0.0169\t Acc: 0.7606\n",
            "------------------------------------------------\n",
            "Epoch:31  \tLoss:0.0225\t Acc: 0.7768\n",
            "------------------------------------------------\n",
            "Epoch:32  \tLoss:0.0316\t Acc: 0.7811\n",
            "------------------------------------------------\n",
            "Epoch:33  \tLoss:0.0236\t Acc: 0.7754\n",
            "------------------------------------------------\n",
            "Epoch:34  \tLoss:0.0231\t Acc: 0.7714\n",
            "------------------------------------------------\n",
            "Epoch:35  \tLoss:0.0187\t Acc: 0.7693\n",
            "------------------------------------------------\n",
            "Epoch:36  \tLoss:0.0221\t Acc: 0.7753\n",
            "------------------------------------------------\n",
            "Epoch:37  \tLoss:0.0118\t Acc: 0.7799\n",
            "------------------------------------------------\n",
            "Epoch:38  \tLoss:0.0157\t Acc: 0.7756\n",
            "------------------------------------------------\n",
            "Epoch:39  \tLoss:0.0212\t Acc: 0.7786\n",
            "------------------------------------------------\n",
            "Epoch:40  \tLoss:0.0198\t Acc: 0.7609\n",
            "------------------------------------------------\n",
            "Epoch:41  \tLoss:0.0233\t Acc: 0.7673\n",
            "------------------------------------------------\n",
            "Epoch:42  \tLoss:0.0284\t Acc: 0.7736\n",
            "------------------------------------------------\n",
            "Epoch:43  \tLoss:0.0395\t Acc: 0.7733\n",
            "------------------------------------------------\n",
            "Epoch:44  \tLoss:0.0259\t Acc: 0.7703\n",
            "------------------------------------------------\n",
            "Epoch:45  \tLoss:0.0282\t Acc: 0.7684\n",
            "------------------------------------------------\n",
            "Epoch:46  \tLoss:0.0322\t Acc: 0.7671\n",
            "------------------------------------------------\n",
            "Epoch:47  \tLoss:0.0326\t Acc: 0.7673\n",
            "------------------------------------------------\n",
            "Epoch:48  \tLoss:0.0317\t Acc: 0.7708\n",
            "------------------------------------------------\n",
            "Epoch:49  \tLoss:0.0363\t Acc: 0.7707\n",
            "------------------------------------------------\n",
            "Epoch:50  \tLoss:0.0361\t Acc: 0.7683\n",
            "------------------------------------------------\n",
            "Epoch:51  \tLoss:0.0408\t Acc: 0.7758\n",
            "------------------------------------------------\n",
            "Epoch:52  \tLoss:0.0427\t Acc: 0.7769\n",
            "------------------------------------------------\n",
            "Epoch:53  \tLoss:0.0225\t Acc: 0.7808\n",
            "------------------------------------------------\n",
            "Epoch:54  \tLoss:0.0502\t Acc: 0.7794\n",
            "------------------------------------------------\n",
            "Epoch:55  \tLoss:0.0441\t Acc: 0.7785\n",
            "------------------------------------------------\n",
            "Epoch:56  \tLoss:0.0321\t Acc: 0.7832\n",
            "------------------------------------------------\n",
            "Epoch:57  \tLoss:0.0343\t Acc: 0.7809\n",
            "------------------------------------------------\n",
            "Epoch:58  \tLoss:0.0293\t Acc: 0.7793\n",
            "------------------------------------------------\n",
            "Epoch:59  \tLoss:0.0239\t Acc: 0.7851\n",
            "------------------------------------------------\n",
            "Epoch:60  \tLoss:0.0161\t Acc: 0.7775\n",
            "------------------------------------------------\n",
            "Epoch:61  \tLoss:0.0136\t Acc: 0.7751\n",
            "------------------------------------------------\n",
            "Epoch:62  \tLoss:0.0230\t Acc: 0.7626\n",
            "------------------------------------------------\n",
            "Epoch:63  \tLoss:0.0337\t Acc: 0.7748\n",
            "------------------------------------------------\n",
            "Epoch:64  \tLoss:0.0190\t Acc: 0.7745\n",
            "------------------------------------------------\n",
            "Epoch:65  \tLoss:0.0423\t Acc: 0.7880\n",
            "------------------------------------------------\n",
            "Epoch:66  \tLoss:0.0137\t Acc: 0.7762\n",
            "------------------------------------------------\n",
            "Epoch:67  \tLoss:0.0130\t Acc: 0.7822\n",
            "------------------------------------------------\n",
            "Epoch:68  \tLoss:0.0229\t Acc: 0.7863\n",
            "------------------------------------------------\n",
            "Epoch:69  \tLoss:0.0173\t Acc: 0.7832\n",
            "------------------------------------------------\n",
            "Epoch:70  \tLoss:0.0250\t Acc: 0.7871\n",
            "------------------------------------------------\n",
            "Epoch:71  \tLoss:0.0251\t Acc: 0.7845\n",
            "------------------------------------------------\n",
            "Epoch:72  \tLoss:0.0227\t Acc: 0.7851\n",
            "------------------------------------------------\n",
            "Epoch:73  \tLoss:0.0292\t Acc: 0.7861\n",
            "------------------------------------------------\n",
            "Epoch:74  \tLoss:0.0179\t Acc: 0.7764\n",
            "------------------------------------------------\n",
            "Epoch:75  \tLoss:0.0187\t Acc: 0.7712\n",
            "------------------------------------------------\n",
            "Epoch:76  \tLoss:0.0199\t Acc: 0.7770\n",
            "------------------------------------------------\n",
            "Epoch:77  \tLoss:0.0217\t Acc: 0.7737\n",
            "------------------------------------------------\n",
            "Epoch:78  \tLoss:0.0417\t Acc: 0.7671\n",
            "------------------------------------------------\n",
            "Epoch:79  \tLoss:0.0508\t Acc: 0.7569\n",
            "------------------------------------------------\n",
            "Epoch:80  \tLoss:0.0258\t Acc: 0.7517\n",
            "------------------------------------------------\n",
            "Epoch:81  \tLoss:0.0211\t Acc: 0.7500\n",
            "------------------------------------------------\n",
            "Epoch:82  \tLoss:0.0155\t Acc: 0.7561\n",
            "------------------------------------------------\n",
            "Epoch:83  \tLoss:0.0210\t Acc: 0.7505\n",
            "------------------------------------------------\n",
            "Epoch:84  \tLoss:0.0173\t Acc: 0.7606\n",
            "------------------------------------------------\n",
            "Epoch:85  \tLoss:0.0043\t Acc: 0.7734\n",
            "------------------------------------------------\n",
            "Epoch:86  \tLoss:0.0105\t Acc: 0.7522\n",
            "------------------------------------------------\n",
            "Epoch:87  \tLoss:0.0117\t Acc: 0.7486\n",
            "------------------------------------------------\n",
            "Epoch:88  \tLoss:0.0102\t Acc: 0.7578\n",
            "------------------------------------------------\n",
            "Epoch:89  \tLoss:0.0114\t Acc: 0.7519\n",
            "------------------------------------------------\n",
            "Epoch:90  \tLoss:0.0139\t Acc: 0.7566\n",
            "*************************************************\n",
            "Final Score for (B:32, Ep:90, LR:0.01)\n",
            "Acc: 0.7566\n"
          ]
        },
        {
          "output_type": "display_data",
          "data": {
            "text/plain": [
              "<IPython.core.display.HTML object>"
            ],
            "text/html": [
              "Waiting for W&B process to finish... <strong style=\"color:green\">(success).</strong>"
            ]
          },
          "metadata": {}
        },
        {
          "output_type": "display_data",
          "data": {
            "text/plain": [
              "VBox(children=(Label(value='0.001 MB of 0.001 MB uploaded (0.000 MB deduped)\\r'), FloatProgress(value=1.0, max…"
            ],
            "application/vnd.jupyter.widget-view+json": {
              "version_major": 2,
              "version_minor": 0,
              "model_id": "cdd99b6a6d43488d920c53629930b728"
            }
          },
          "metadata": {}
        },
        {
          "output_type": "display_data",
          "data": {
            "text/plain": [
              "<IPython.core.display.HTML object>"
            ],
            "text/html": [
              "<style>\n",
              "    table.wandb td:nth-child(1) { padding: 0 10px; text-align: right }\n",
              "    .wandb-row { display: flex; flex-direction: row; flex-wrap: wrap; width: 100% }\n",
              "    .wandb-col { display: flex; flex-direction: column; flex-basis: 100%; flex: 1; padding: 10px; }\n",
              "    </style>\n",
              "<div class=\"wandb-row\"><div class=\"wandb-col\"><h3>Run history:</h3><br/><table class=\"wandb\"><tr><td>loss</td><td>██▆▆▃▄▃▂▃▂▂▃▂▂▃▂▂▂▃▃▃▃▄▂▄▃▂▂▂▂▂▂▂▂▄▃▂▁▂▂</td></tr></table><br/></div><div class=\"wandb-col\"><h3>Run summary:</h3><br/><table class=\"wandb\"><tr><td>loss</td><td>0.0139</td></tr></table><br/></div></div>"
            ]
          },
          "metadata": {}
        },
        {
          "output_type": "display_data",
          "data": {
            "text/plain": [
              "<IPython.core.display.HTML object>"
            ],
            "text/html": [
              "Synced <strong style=\"color:#cdcd00\">MLP</strong>: <a href=\"https://wandb.ai/ahsen/NIDS/runs/1ajfkyu0\" target=\"_blank\">https://wandb.ai/ahsen/NIDS/runs/1ajfkyu0</a><br/>Synced 5 W&B file(s), 0 media file(s), 0 artifact file(s) and 0 other file(s)"
            ]
          },
          "metadata": {}
        },
        {
          "output_type": "display_data",
          "data": {
            "text/plain": [
              "<IPython.core.display.HTML object>"
            ],
            "text/html": [
              "Find logs at: <code>./wandb/run-20220430_031306-1ajfkyu0/logs</code>"
            ]
          },
          "metadata": {}
        },
        {
          "output_type": "display_data",
          "data": {
            "text/plain": [
              "<IPython.core.display.HTML object>"
            ],
            "text/html": [
              "Tracking run with wandb version 0.12.15"
            ]
          },
          "metadata": {}
        },
        {
          "output_type": "display_data",
          "data": {
            "text/plain": [
              "<IPython.core.display.HTML object>"
            ],
            "text/html": [
              "Run data is saved locally in <code>/content/wandb/run-20220430_031827-3v8aeadq</code>"
            ]
          },
          "metadata": {}
        },
        {
          "output_type": "display_data",
          "data": {
            "text/plain": [
              "<IPython.core.display.HTML object>"
            ],
            "text/html": [
              "Syncing run <strong><a href=\"https://wandb.ai/ahsen/NIDS/runs/3v8aeadq\" target=\"_blank\">MLP</a></strong> to <a href=\"https://wandb.ai/ahsen/NIDS\" target=\"_blank\">Weights & Biases</a> (<a href=\"https://wandb.me/run\" target=\"_blank\">docs</a>)<br/>"
            ]
          },
          "metadata": {}
        },
        {
          "output_type": "stream",
          "name": "stdout",
          "text": [
            "===============================================\n",
            "Batch Size:64\tEpochs:90\tLR:0.01\n",
            "------------------------------------------------\n",
            "Epoch:1  \tLoss:0.1481\t Acc: 0.7749\n",
            "------------------------------------------------\n",
            "Epoch:2  \tLoss:0.0852\t Acc: 0.7748\n",
            "------------------------------------------------\n",
            "Epoch:3  \tLoss:0.0764\t Acc: 0.7734\n",
            "------------------------------------------------\n",
            "Epoch:4  \tLoss:0.0753\t Acc: 0.7817\n",
            "------------------------------------------------\n",
            "Epoch:5  \tLoss:0.0754\t Acc: 0.7911\n",
            "------------------------------------------------\n",
            "Epoch:6  \tLoss:0.0656\t Acc: 0.7854\n",
            "------------------------------------------------\n",
            "Epoch:7  \tLoss:0.0691\t Acc: 0.7872\n",
            "------------------------------------------------\n",
            "Epoch:8  \tLoss:0.0669\t Acc: 0.7921\n",
            "------------------------------------------------\n",
            "Epoch:9  \tLoss:0.0701\t Acc: 0.7865\n",
            "------------------------------------------------\n",
            "Epoch:10  \tLoss:0.0532\t Acc: 0.7905\n",
            "------------------------------------------------\n",
            "Epoch:11  \tLoss:0.0559\t Acc: 0.7940\n",
            "------------------------------------------------\n",
            "Epoch:12  \tLoss:0.0475\t Acc: 0.7827\n",
            "------------------------------------------------\n",
            "Epoch:13  \tLoss:0.0484\t Acc: 0.7840\n",
            "------------------------------------------------\n",
            "Epoch:14  \tLoss:0.0517\t Acc: 0.7846\n",
            "------------------------------------------------\n",
            "Epoch:15  \tLoss:0.0419\t Acc: 0.7878\n",
            "------------------------------------------------\n",
            "Epoch:16  \tLoss:0.0559\t Acc: 0.8014\n",
            "------------------------------------------------\n",
            "Epoch:17  \tLoss:0.0563\t Acc: 0.7970\n",
            "------------------------------------------------\n",
            "Epoch:18  \tLoss:0.0298\t Acc: 0.7899\n",
            "------------------------------------------------\n",
            "Epoch:19  \tLoss:0.0412\t Acc: 0.7900\n",
            "------------------------------------------------\n",
            "Epoch:20  \tLoss:0.0366\t Acc: 0.7999\n",
            "------------------------------------------------\n",
            "Epoch:21  \tLoss:0.0497\t Acc: 0.7854\n",
            "------------------------------------------------\n",
            "Epoch:22  \tLoss:0.0369\t Acc: 0.7869\n",
            "------------------------------------------------\n",
            "Epoch:23  \tLoss:0.0307\t Acc: 0.7826\n",
            "------------------------------------------------\n",
            "Epoch:24  \tLoss:0.0456\t Acc: 0.7837\n",
            "------------------------------------------------\n",
            "Epoch:25  \tLoss:0.0499\t Acc: 0.7803\n",
            "------------------------------------------------\n",
            "Epoch:26  \tLoss:0.0466\t Acc: 0.7835\n",
            "------------------------------------------------\n",
            "Epoch:27  \tLoss:0.0334\t Acc: 0.7807\n",
            "------------------------------------------------\n",
            "Epoch:28  \tLoss:0.0330\t Acc: 0.7817\n",
            "------------------------------------------------\n",
            "Epoch:29  \tLoss:0.0398\t Acc: 0.7824\n",
            "------------------------------------------------\n",
            "Epoch:30  \tLoss:0.0274\t Acc: 0.7783\n",
            "------------------------------------------------\n",
            "Epoch:31  \tLoss:0.0262\t Acc: 0.7743\n",
            "------------------------------------------------\n",
            "Epoch:32  \tLoss:0.0599\t Acc: 0.7779\n",
            "------------------------------------------------\n",
            "Epoch:33  \tLoss:0.0754\t Acc: 0.7860\n",
            "------------------------------------------------\n",
            "Epoch:34  \tLoss:0.0525\t Acc: 0.7851\n",
            "------------------------------------------------\n",
            "Epoch:35  \tLoss:0.0494\t Acc: 0.7928\n",
            "------------------------------------------------\n",
            "Epoch:36  \tLoss:0.0460\t Acc: 0.7908\n",
            "------------------------------------------------\n",
            "Epoch:37  \tLoss:0.0488\t Acc: 0.7870\n",
            "------------------------------------------------\n",
            "Epoch:38  \tLoss:0.0480\t Acc: 0.7906\n",
            "------------------------------------------------\n",
            "Epoch:39  \tLoss:0.0233\t Acc: 0.7880\n",
            "------------------------------------------------\n",
            "Epoch:40  \tLoss:0.0325\t Acc: 0.7892\n",
            "------------------------------------------------\n",
            "Epoch:41  \tLoss:0.0227\t Acc: 0.7917\n",
            "------------------------------------------------\n",
            "Epoch:42  \tLoss:0.0535\t Acc: 0.7915\n",
            "------------------------------------------------\n",
            "Epoch:43  \tLoss:0.0336\t Acc: 0.7964\n",
            "------------------------------------------------\n",
            "Epoch:44  \tLoss:0.0294\t Acc: 0.7879\n",
            "------------------------------------------------\n",
            "Epoch:45  \tLoss:0.0322\t Acc: 0.7884\n",
            "------------------------------------------------\n",
            "Epoch:46  \tLoss:0.0315\t Acc: 0.7878\n",
            "------------------------------------------------\n",
            "Epoch:47  \tLoss:0.0190\t Acc: 0.7980\n",
            "------------------------------------------------\n",
            "Epoch:48  \tLoss:0.0319\t Acc: 0.7837\n",
            "------------------------------------------------\n",
            "Epoch:49  \tLoss:0.0254\t Acc: 0.7817\n",
            "------------------------------------------------\n",
            "Epoch:50  \tLoss:0.0225\t Acc: 0.7747\n",
            "------------------------------------------------\n",
            "Epoch:51  \tLoss:0.0279\t Acc: 0.7738\n",
            "------------------------------------------------\n",
            "Epoch:52  \tLoss:0.0859\t Acc: 0.7776\n",
            "------------------------------------------------\n",
            "Epoch:53  \tLoss:0.0708\t Acc: 0.7778\n",
            "------------------------------------------------\n",
            "Epoch:54  \tLoss:0.0510\t Acc: 0.7796\n",
            "------------------------------------------------\n",
            "Epoch:55  \tLoss:0.0373\t Acc: 0.7762\n",
            "------------------------------------------------\n",
            "Epoch:56  \tLoss:0.0295\t Acc: 0.7887\n",
            "------------------------------------------------\n",
            "Epoch:57  \tLoss:0.0337\t Acc: 0.7854\n",
            "------------------------------------------------\n",
            "Epoch:58  \tLoss:0.0472\t Acc: 0.7838\n",
            "------------------------------------------------\n",
            "Epoch:59  \tLoss:0.0196\t Acc: 0.7816\n",
            "------------------------------------------------\n",
            "Epoch:60  \tLoss:0.0262\t Acc: 0.7751\n",
            "------------------------------------------------\n",
            "Epoch:61  \tLoss:0.0357\t Acc: 0.7897\n",
            "------------------------------------------------\n",
            "Epoch:62  \tLoss:0.0959\t Acc: 0.7873\n",
            "------------------------------------------------\n",
            "Epoch:63  \tLoss:0.0344\t Acc: 0.7816\n",
            "------------------------------------------------\n",
            "Epoch:64  \tLoss:0.0659\t Acc: 0.7784\n",
            "------------------------------------------------\n",
            "Epoch:65  \tLoss:0.0365\t Acc: 0.7813\n",
            "------------------------------------------------\n",
            "Epoch:66  \tLoss:0.0345\t Acc: 0.7791\n",
            "------------------------------------------------\n",
            "Epoch:67  \tLoss:0.0270\t Acc: 0.7792\n",
            "------------------------------------------------\n",
            "Epoch:68  \tLoss:0.0339\t Acc: 0.7728\n",
            "------------------------------------------------\n",
            "Epoch:69  \tLoss:0.0340\t Acc: 0.7798\n",
            "------------------------------------------------\n",
            "Epoch:70  \tLoss:0.0218\t Acc: 0.7791\n",
            "------------------------------------------------\n",
            "Epoch:71  \tLoss:0.0171\t Acc: 0.7789\n",
            "------------------------------------------------\n",
            "Epoch:72  \tLoss:0.0323\t Acc: 0.7756\n",
            "------------------------------------------------\n",
            "Epoch:73  \tLoss:0.0294\t Acc: 0.7770\n",
            "------------------------------------------------\n",
            "Epoch:74  \tLoss:0.0359\t Acc: 0.7757\n",
            "------------------------------------------------\n",
            "Epoch:75  \tLoss:0.0297\t Acc: 0.7782\n",
            "------------------------------------------------\n",
            "Epoch:76  \tLoss:0.0299\t Acc: 0.7804\n",
            "------------------------------------------------\n",
            "Epoch:77  \tLoss:0.0212\t Acc: 0.7792\n",
            "------------------------------------------------\n",
            "Epoch:78  \tLoss:0.0567\t Acc: 0.7793\n",
            "------------------------------------------------\n",
            "Epoch:79  \tLoss:0.0302\t Acc: 0.7582\n",
            "------------------------------------------------\n",
            "Epoch:80  \tLoss:0.0349\t Acc: 0.7819\n",
            "------------------------------------------------\n",
            "Epoch:81  \tLoss:0.0466\t Acc: 0.7813\n",
            "------------------------------------------------\n",
            "Epoch:82  \tLoss:0.0369\t Acc: 0.7844\n",
            "------------------------------------------------\n",
            "Epoch:83  \tLoss:0.0461\t Acc: 0.7770\n",
            "------------------------------------------------\n",
            "Epoch:84  \tLoss:0.0603\t Acc: 0.7827\n",
            "------------------------------------------------\n",
            "Epoch:85  \tLoss:0.0343\t Acc: 0.7832\n",
            "------------------------------------------------\n",
            "Epoch:86  \tLoss:0.0267\t Acc: 0.7806\n",
            "------------------------------------------------\n",
            "Epoch:87  \tLoss:0.0323\t Acc: 0.7809\n",
            "------------------------------------------------\n",
            "Epoch:88  \tLoss:0.0350\t Acc: 0.7832\n",
            "------------------------------------------------\n",
            "Epoch:89  \tLoss:0.0492\t Acc: 0.7794\n",
            "------------------------------------------------\n",
            "Epoch:90  \tLoss:0.0336\t Acc: 0.7789\n",
            "*************************************************\n",
            "Final Score for (B:64, Ep:90, LR:0.01)\n",
            "Acc: 0.7789\n"
          ]
        },
        {
          "output_type": "display_data",
          "data": {
            "text/plain": [
              "<IPython.core.display.HTML object>"
            ],
            "text/html": [
              "Waiting for W&B process to finish... <strong style=\"color:green\">(success).</strong>"
            ]
          },
          "metadata": {}
        },
        {
          "output_type": "display_data",
          "data": {
            "text/plain": [
              "VBox(children=(Label(value='0.001 MB of 0.001 MB uploaded (0.000 MB deduped)\\r'), FloatProgress(value=1.0, max…"
            ],
            "application/vnd.jupyter.widget-view+json": {
              "version_major": 2,
              "version_minor": 0,
              "model_id": "786052a8cda342e981c67eeac5fa0a32"
            }
          },
          "metadata": {}
        },
        {
          "output_type": "display_data",
          "data": {
            "text/plain": [
              "<IPython.core.display.HTML object>"
            ],
            "text/html": [
              "<style>\n",
              "    table.wandb td:nth-child(1) { padding: 0 10px; text-align: right }\n",
              "    .wandb-row { display: flex; flex-direction: row; flex-wrap: wrap; width: 100% }\n",
              "    .wandb-col { display: flex; flex-direction: column; flex-basis: 100%; flex: 1; padding: 10px; }\n",
              "    </style>\n",
              "<div class=\"wandb-row\"><div class=\"wandb-col\"><h3>Run history:</h3><br/><table class=\"wandb\"><tr><td>loss</td><td>█▄▄▄▃▃▃▃▂▃▂▃▂▂▃▃▃▁▃▂▂▂▂▄▂▃▁▅▄▂▂▁▂▂▃▂▃▂▂▂</td></tr></table><br/></div><div class=\"wandb-col\"><h3>Run summary:</h3><br/><table class=\"wandb\"><tr><td>loss</td><td>0.03361</td></tr></table><br/></div></div>"
            ]
          },
          "metadata": {}
        },
        {
          "output_type": "display_data",
          "data": {
            "text/plain": [
              "<IPython.core.display.HTML object>"
            ],
            "text/html": [
              "Synced <strong style=\"color:#cdcd00\">MLP</strong>: <a href=\"https://wandb.ai/ahsen/NIDS/runs/3v8aeadq\" target=\"_blank\">https://wandb.ai/ahsen/NIDS/runs/3v8aeadq</a><br/>Synced 5 W&B file(s), 0 media file(s), 0 artifact file(s) and 0 other file(s)"
            ]
          },
          "metadata": {}
        },
        {
          "output_type": "display_data",
          "data": {
            "text/plain": [
              "<IPython.core.display.HTML object>"
            ],
            "text/html": [
              "Find logs at: <code>./wandb/run-20220430_031827-3v8aeadq/logs</code>"
            ]
          },
          "metadata": {}
        },
        {
          "output_type": "display_data",
          "data": {
            "text/plain": [
              "<IPython.core.display.HTML object>"
            ],
            "text/html": [
              "Tracking run with wandb version 0.12.15"
            ]
          },
          "metadata": {}
        },
        {
          "output_type": "display_data",
          "data": {
            "text/plain": [
              "<IPython.core.display.HTML object>"
            ],
            "text/html": [
              "Run data is saved locally in <code>/content/wandb/run-20220430_032147-3qdv209w</code>"
            ]
          },
          "metadata": {}
        },
        {
          "output_type": "display_data",
          "data": {
            "text/plain": [
              "<IPython.core.display.HTML object>"
            ],
            "text/html": [
              "Syncing run <strong><a href=\"https://wandb.ai/ahsen/NIDS/runs/3qdv209w\" target=\"_blank\">MLP</a></strong> to <a href=\"https://wandb.ai/ahsen/NIDS\" target=\"_blank\">Weights & Biases</a> (<a href=\"https://wandb.me/run\" target=\"_blank\">docs</a>)<br/>"
            ]
          },
          "metadata": {}
        },
        {
          "output_type": "stream",
          "name": "stdout",
          "text": [
            "===============================================\n",
            "Batch Size:128\tEpochs:90\tLR:0.01\n",
            "------------------------------------------------\n",
            "Epoch:1  \tLoss:0.1731\t Acc: 0.7803\n",
            "------------------------------------------------\n",
            "Epoch:2  \tLoss:0.1592\t Acc: 0.7787\n",
            "------------------------------------------------\n",
            "Epoch:3  \tLoss:0.1243\t Acc: 0.7784\n",
            "------------------------------------------------\n",
            "Epoch:4  \tLoss:0.0789\t Acc: 0.7923\n",
            "------------------------------------------------\n",
            "Epoch:5  \tLoss:0.0685\t Acc: 0.7962\n",
            "------------------------------------------------\n",
            "Epoch:6  \tLoss:0.0652\t Acc: 0.7928\n",
            "------------------------------------------------\n",
            "Epoch:7  \tLoss:0.0696\t Acc: 0.7875\n",
            "------------------------------------------------\n",
            "Epoch:8  \tLoss:0.0633\t Acc: 0.7881\n",
            "------------------------------------------------\n",
            "Epoch:9  \tLoss:0.0478\t Acc: 0.7854\n",
            "------------------------------------------------\n",
            "Epoch:10  \tLoss:0.0428\t Acc: 0.7807\n",
            "------------------------------------------------\n",
            "Epoch:11  \tLoss:0.0455\t Acc: 0.7844\n",
            "------------------------------------------------\n",
            "Epoch:12  \tLoss:0.0420\t Acc: 0.7794\n",
            "------------------------------------------------\n",
            "Epoch:13  \tLoss:0.0361\t Acc: 0.7831\n",
            "------------------------------------------------\n",
            "Epoch:14  \tLoss:0.0382\t Acc: 0.7848\n",
            "------------------------------------------------\n",
            "Epoch:15  \tLoss:0.0346\t Acc: 0.7842\n",
            "------------------------------------------------\n",
            "Epoch:16  \tLoss:0.0345\t Acc: 0.7856\n",
            "------------------------------------------------\n",
            "Epoch:17  \tLoss:0.0325\t Acc: 0.7857\n",
            "------------------------------------------------\n",
            "Epoch:18  \tLoss:0.0332\t Acc: 0.7875\n",
            "------------------------------------------------\n",
            "Epoch:19  \tLoss:0.0317\t Acc: 0.7858\n",
            "------------------------------------------------\n",
            "Epoch:20  \tLoss:0.0300\t Acc: 0.7929\n",
            "------------------------------------------------\n",
            "Epoch:21  \tLoss:0.0353\t Acc: 0.7871\n",
            "------------------------------------------------\n",
            "Epoch:22  \tLoss:0.0370\t Acc: 0.7879\n",
            "------------------------------------------------\n",
            "Epoch:23  \tLoss:0.0359\t Acc: 0.7685\n",
            "------------------------------------------------\n",
            "Epoch:24  \tLoss:0.1042\t Acc: 0.7647\n",
            "------------------------------------------------\n",
            "Epoch:25  \tLoss:0.0611\t Acc: 0.7818\n",
            "------------------------------------------------\n",
            "Epoch:26  \tLoss:0.0561\t Acc: 0.7797\n",
            "------------------------------------------------\n",
            "Epoch:27  \tLoss:0.0701\t Acc: 0.7839\n",
            "------------------------------------------------\n",
            "Epoch:28  \tLoss:0.0559\t Acc: 0.7784\n",
            "------------------------------------------------\n",
            "Epoch:29  \tLoss:0.0469\t Acc: 0.7784\n",
            "------------------------------------------------\n",
            "Epoch:30  \tLoss:0.0331\t Acc: 0.7686\n",
            "------------------------------------------------\n",
            "Epoch:31  \tLoss:0.0419\t Acc: 0.7695\n",
            "------------------------------------------------\n",
            "Epoch:32  \tLoss:0.0453\t Acc: 0.7731\n",
            "------------------------------------------------\n",
            "Epoch:33  \tLoss:0.0407\t Acc: 0.7704\n",
            "------------------------------------------------\n",
            "Epoch:34  \tLoss:0.0386\t Acc: 0.7795\n",
            "------------------------------------------------\n",
            "Epoch:35  \tLoss:0.0325\t Acc: 0.7713\n",
            "------------------------------------------------\n",
            "Epoch:36  \tLoss:0.0348\t Acc: 0.7805\n",
            "------------------------------------------------\n",
            "Epoch:37  \tLoss:0.0302\t Acc: 0.7847\n",
            "------------------------------------------------\n",
            "Epoch:38  \tLoss:0.0199\t Acc: 0.7843\n",
            "------------------------------------------------\n",
            "Epoch:39  \tLoss:0.0449\t Acc: 0.7767\n",
            "------------------------------------------------\n",
            "Epoch:40  \tLoss:0.0228\t Acc: 0.7884\n",
            "------------------------------------------------\n",
            "Epoch:41  \tLoss:0.0237\t Acc: 0.7870\n",
            "------------------------------------------------\n",
            "Epoch:42  \tLoss:0.0407\t Acc: 0.7771\n",
            "------------------------------------------------\n",
            "Epoch:43  \tLoss:0.0429\t Acc: 0.7845\n",
            "------------------------------------------------\n",
            "Epoch:44  \tLoss:0.0319\t Acc: 0.7867\n",
            "------------------------------------------------\n",
            "Epoch:45  \tLoss:0.0310\t Acc: 0.7844\n",
            "------------------------------------------------\n",
            "Epoch:46  \tLoss:0.0413\t Acc: 0.7863\n",
            "------------------------------------------------\n",
            "Epoch:47  \tLoss:0.0300\t Acc: 0.7889\n",
            "------------------------------------------------\n",
            "Epoch:48  \tLoss:0.0261\t Acc: 0.7900\n",
            "------------------------------------------------\n",
            "Epoch:49  \tLoss:0.0233\t Acc: 0.7887\n",
            "------------------------------------------------\n",
            "Epoch:50  \tLoss:0.0342\t Acc: 0.7832\n",
            "------------------------------------------------\n",
            "Epoch:51  \tLoss:0.0274\t Acc: 0.7858\n",
            "------------------------------------------------\n",
            "Epoch:52  \tLoss:0.0258\t Acc: 0.7923\n",
            "------------------------------------------------\n",
            "Epoch:53  \tLoss:0.0281\t Acc: 0.7900\n",
            "------------------------------------------------\n",
            "Epoch:54  \tLoss:0.0276\t Acc: 0.7873\n",
            "------------------------------------------------\n",
            "Epoch:55  \tLoss:0.0194\t Acc: 0.7956\n",
            "------------------------------------------------\n",
            "Epoch:56  \tLoss:0.0272\t Acc: 0.7866\n",
            "------------------------------------------------\n",
            "Epoch:57  \tLoss:0.0291\t Acc: 0.7927\n",
            "------------------------------------------------\n",
            "Epoch:58  \tLoss:0.0315\t Acc: 0.7860\n",
            "------------------------------------------------\n",
            "Epoch:59  \tLoss:0.0246\t Acc: 0.7841\n",
            "------------------------------------------------\n",
            "Epoch:60  \tLoss:0.0265\t Acc: 0.7845\n",
            "------------------------------------------------\n",
            "Epoch:61  \tLoss:0.0279\t Acc: 0.7859\n",
            "------------------------------------------------\n",
            "Epoch:62  \tLoss:0.0238\t Acc: 0.7883\n",
            "------------------------------------------------\n",
            "Epoch:63  \tLoss:0.0258\t Acc: 0.7874\n",
            "------------------------------------------------\n",
            "Epoch:64  \tLoss:0.0380\t Acc: 0.7800\n",
            "------------------------------------------------\n",
            "Epoch:65  \tLoss:0.0252\t Acc: 0.7899\n",
            "------------------------------------------------\n",
            "Epoch:66  \tLoss:0.0443\t Acc: 0.7785\n",
            "------------------------------------------------\n",
            "Epoch:67  \tLoss:0.0268\t Acc: 0.7835\n",
            "------------------------------------------------\n",
            "Epoch:68  \tLoss:0.0244\t Acc: 0.7939\n",
            "------------------------------------------------\n",
            "Epoch:69  \tLoss:0.0211\t Acc: 0.7893\n",
            "------------------------------------------------\n",
            "Epoch:70  \tLoss:0.0303\t Acc: 0.7608\n",
            "------------------------------------------------\n",
            "Epoch:71  \tLoss:0.0258\t Acc: 0.7812\n",
            "------------------------------------------------\n",
            "Epoch:72  \tLoss:0.0176\t Acc: 0.7850\n",
            "------------------------------------------------\n",
            "Epoch:73  \tLoss:0.0193\t Acc: 0.7817\n",
            "------------------------------------------------\n",
            "Epoch:74  \tLoss:0.0190\t Acc: 0.7922\n",
            "------------------------------------------------\n",
            "Epoch:75  \tLoss:0.0191\t Acc: 0.7897\n",
            "------------------------------------------------\n",
            "Epoch:76  \tLoss:0.0210\t Acc: 0.7885\n",
            "------------------------------------------------\n",
            "Epoch:77  \tLoss:0.0210\t Acc: 0.7918\n",
            "------------------------------------------------\n",
            "Epoch:78  \tLoss:0.0179\t Acc: 0.7861\n",
            "------------------------------------------------\n",
            "Epoch:79  \tLoss:0.0153\t Acc: 0.7876\n",
            "------------------------------------------------\n",
            "Epoch:80  \tLoss:0.0165\t Acc: 0.7822\n",
            "------------------------------------------------\n",
            "Epoch:81  \tLoss:0.0176\t Acc: 0.7834\n",
            "------------------------------------------------\n",
            "Epoch:82  \tLoss:0.0205\t Acc: 0.7836\n",
            "------------------------------------------------\n",
            "Epoch:83  \tLoss:0.0151\t Acc: 0.7812\n",
            "------------------------------------------------\n",
            "Epoch:84  \tLoss:0.0255\t Acc: 0.7833\n",
            "------------------------------------------------\n",
            "Epoch:85  \tLoss:0.0408\t Acc: 0.7892\n",
            "------------------------------------------------\n",
            "Epoch:86  \tLoss:0.0150\t Acc: 0.7931\n",
            "------------------------------------------------\n",
            "Epoch:87  \tLoss:0.0179\t Acc: 0.7864\n",
            "------------------------------------------------\n",
            "Epoch:88  \tLoss:0.0176\t Acc: 0.7891\n",
            "------------------------------------------------\n",
            "Epoch:89  \tLoss:0.0192\t Acc: 0.7896\n",
            "------------------------------------------------\n",
            "Epoch:90  \tLoss:0.0183\t Acc: 0.7772\n",
            "*************************************************\n",
            "Final Score for (B:128, Ep:90, LR:0.01)\n",
            "Acc: 0.7772\n"
          ]
        },
        {
          "output_type": "display_data",
          "data": {
            "text/plain": [
              "<IPython.core.display.HTML object>"
            ],
            "text/html": [
              "Waiting for W&B process to finish... <strong style=\"color:green\">(success).</strong>"
            ]
          },
          "metadata": {}
        },
        {
          "output_type": "display_data",
          "data": {
            "text/plain": [
              "VBox(children=(Label(value='0.001 MB of 0.001 MB uploaded (0.000 MB deduped)\\r'), FloatProgress(value=1.0, max…"
            ],
            "application/vnd.jupyter.widget-view+json": {
              "version_major": 2,
              "version_minor": 0,
              "model_id": "a7d88bf2a1024bb7a2ca2b8742fc48e3"
            }
          },
          "metadata": {}
        },
        {
          "output_type": "display_data",
          "data": {
            "text/plain": [
              "<IPython.core.display.HTML object>"
            ],
            "text/html": [
              "<style>\n",
              "    table.wandb td:nth-child(1) { padding: 0 10px; text-align: right }\n",
              "    .wandb-row { display: flex; flex-direction: row; flex-wrap: wrap; width: 100% }\n",
              "    .wandb-col { display: flex; flex-direction: column; flex-basis: 100%; flex: 1; padding: 10px; }\n",
              "    </style>\n",
              "<div class=\"wandb-row\"><div class=\"wandb-col\"><h3>Run history:</h3><br/><table class=\"wandb\"><tr><td>loss</td><td>█▆▃▃▂▂▂▂▂▂▂▃▃▂▂▂▂▂▂▂▂▁▂▂▁▂▂▁▂▂▁▁▁▁▁▁▁▂▁▁</td></tr></table><br/></div><div class=\"wandb-col\"><h3>Run summary:</h3><br/><table class=\"wandb\"><tr><td>loss</td><td>0.01829</td></tr></table><br/></div></div>"
            ]
          },
          "metadata": {}
        },
        {
          "output_type": "display_data",
          "data": {
            "text/plain": [
              "<IPython.core.display.HTML object>"
            ],
            "text/html": [
              "Synced <strong style=\"color:#cdcd00\">MLP</strong>: <a href=\"https://wandb.ai/ahsen/NIDS/runs/3qdv209w\" target=\"_blank\">https://wandb.ai/ahsen/NIDS/runs/3qdv209w</a><br/>Synced 5 W&B file(s), 0 media file(s), 0 artifact file(s) and 0 other file(s)"
            ]
          },
          "metadata": {}
        },
        {
          "output_type": "display_data",
          "data": {
            "text/plain": [
              "<IPython.core.display.HTML object>"
            ],
            "text/html": [
              "Find logs at: <code>./wandb/run-20220430_032147-3qdv209w/logs</code>"
            ]
          },
          "metadata": {}
        },
        {
          "output_type": "display_data",
          "data": {
            "text/plain": [
              "<IPython.core.display.HTML object>"
            ],
            "text/html": [
              "Tracking run with wandb version 0.12.15"
            ]
          },
          "metadata": {}
        },
        {
          "output_type": "display_data",
          "data": {
            "text/plain": [
              "<IPython.core.display.HTML object>"
            ],
            "text/html": [
              "Run data is saved locally in <code>/content/wandb/run-20220430_032408-38mtxhd1</code>"
            ]
          },
          "metadata": {}
        },
        {
          "output_type": "display_data",
          "data": {
            "text/plain": [
              "<IPython.core.display.HTML object>"
            ],
            "text/html": [
              "Syncing run <strong><a href=\"https://wandb.ai/ahsen/NIDS/runs/38mtxhd1\" target=\"_blank\">MLP</a></strong> to <a href=\"https://wandb.ai/ahsen/NIDS\" target=\"_blank\">Weights & Biases</a> (<a href=\"https://wandb.me/run\" target=\"_blank\">docs</a>)<br/>"
            ]
          },
          "metadata": {}
        },
        {
          "output_type": "stream",
          "name": "stdout",
          "text": [
            "===============================================\n",
            "Batch Size:256\tEpochs:90\tLR:0.01\n",
            "------------------------------------------------\n",
            "Epoch:1  \tLoss:0.1619\t Acc: 0.7661\n",
            "------------------------------------------------\n",
            "Epoch:2  \tLoss:0.1445\t Acc: 0.7676\n",
            "------------------------------------------------\n",
            "Epoch:3  \tLoss:0.1406\t Acc: 0.7690\n",
            "------------------------------------------------\n",
            "Epoch:4  \tLoss:0.1359\t Acc: 0.7791\n",
            "------------------------------------------------\n",
            "Epoch:5  \tLoss:0.1192\t Acc: 0.7832\n",
            "------------------------------------------------\n",
            "Epoch:6  \tLoss:0.1074\t Acc: 0.7854\n",
            "------------------------------------------------\n",
            "Epoch:7  \tLoss:0.0891\t Acc: 0.7999\n",
            "------------------------------------------------\n",
            "Epoch:8  \tLoss:0.0907\t Acc: 0.8041\n",
            "------------------------------------------------\n",
            "Epoch:9  \tLoss:0.0884\t Acc: 0.7984\n",
            "------------------------------------------------\n",
            "Epoch:10  \tLoss:0.0841\t Acc: 0.7950\n",
            "------------------------------------------------\n",
            "Epoch:11  \tLoss:0.0802\t Acc: 0.7952\n",
            "------------------------------------------------\n",
            "Epoch:12  \tLoss:0.0755\t Acc: 0.7948\n",
            "------------------------------------------------\n",
            "Epoch:13  \tLoss:0.0705\t Acc: 0.7942\n",
            "------------------------------------------------\n",
            "Epoch:14  \tLoss:0.0721\t Acc: 0.7927\n",
            "------------------------------------------------\n",
            "Epoch:15  \tLoss:0.0680\t Acc: 0.7909\n",
            "------------------------------------------------\n",
            "Epoch:16  \tLoss:0.0665\t Acc: 0.7895\n",
            "------------------------------------------------\n",
            "Epoch:17  \tLoss:0.0636\t Acc: 0.7888\n",
            "------------------------------------------------\n",
            "Epoch:18  \tLoss:0.0636\t Acc: 0.7884\n",
            "------------------------------------------------\n",
            "Epoch:19  \tLoss:0.0633\t Acc: 0.7878\n",
            "------------------------------------------------\n",
            "Epoch:20  \tLoss:0.0606\t Acc: 0.7884\n",
            "------------------------------------------------\n",
            "Epoch:21  \tLoss:0.0578\t Acc: 0.7878\n",
            "------------------------------------------------\n",
            "Epoch:22  \tLoss:0.0555\t Acc: 0.7885\n",
            "------------------------------------------------\n",
            "Epoch:23  \tLoss:0.0538\t Acc: 0.7824\n",
            "------------------------------------------------\n",
            "Epoch:24  \tLoss:0.0524\t Acc: 0.7877\n",
            "------------------------------------------------\n",
            "Epoch:25  \tLoss:0.0481\t Acc: 0.7881\n",
            "------------------------------------------------\n",
            "Epoch:26  \tLoss:0.0479\t Acc: 0.7862\n",
            "------------------------------------------------\n",
            "Epoch:27  \tLoss:0.0432\t Acc: 0.7854\n",
            "------------------------------------------------\n",
            "Epoch:28  \tLoss:0.0423\t Acc: 0.7869\n",
            "------------------------------------------------\n",
            "Epoch:29  \tLoss:0.0408\t Acc: 0.7763\n",
            "------------------------------------------------\n",
            "Epoch:30  \tLoss:0.0435\t Acc: 0.7732\n",
            "------------------------------------------------\n",
            "Epoch:31  \tLoss:0.0391\t Acc: 0.7862\n",
            "------------------------------------------------\n",
            "Epoch:32  \tLoss:0.0382\t Acc: 0.7820\n",
            "------------------------------------------------\n",
            "Epoch:33  \tLoss:0.0355\t Acc: 0.7710\n",
            "------------------------------------------------\n",
            "Epoch:34  \tLoss:0.0381\t Acc: 0.7842\n",
            "------------------------------------------------\n",
            "Epoch:35  \tLoss:0.0371\t Acc: 0.7825\n",
            "------------------------------------------------\n",
            "Epoch:36  \tLoss:0.0334\t Acc: 0.7888\n",
            "------------------------------------------------\n",
            "Epoch:37  \tLoss:0.0322\t Acc: 0.7873\n",
            "------------------------------------------------\n",
            "Epoch:38  \tLoss:0.0323\t Acc: 0.7764\n",
            "------------------------------------------------\n",
            "Epoch:39  \tLoss:0.0309\t Acc: 0.7750\n",
            "------------------------------------------------\n",
            "Epoch:40  \tLoss:0.0320\t Acc: 0.7693\n",
            "------------------------------------------------\n",
            "Epoch:41  \tLoss:0.0322\t Acc: 0.7806\n",
            "------------------------------------------------\n",
            "Epoch:42  \tLoss:0.0311\t Acc: 0.7698\n",
            "------------------------------------------------\n",
            "Epoch:43  \tLoss:0.0317\t Acc: 0.7718\n",
            "------------------------------------------------\n",
            "Epoch:44  \tLoss:0.0313\t Acc: 0.7727\n",
            "------------------------------------------------\n",
            "Epoch:45  \tLoss:0.0477\t Acc: 0.7870\n",
            "------------------------------------------------\n",
            "Epoch:46  \tLoss:0.0460\t Acc: 0.7868\n",
            "------------------------------------------------\n",
            "Epoch:47  \tLoss:0.0456\t Acc: 0.7868\n",
            "------------------------------------------------\n",
            "Epoch:48  \tLoss:0.0478\t Acc: 0.7858\n",
            "------------------------------------------------\n",
            "Epoch:49  \tLoss:0.0524\t Acc: 0.7883\n",
            "------------------------------------------------\n",
            "Epoch:50  \tLoss:0.0428\t Acc: 0.7885\n",
            "------------------------------------------------\n",
            "Epoch:51  \tLoss:0.0439\t Acc: 0.7887\n",
            "------------------------------------------------\n",
            "Epoch:52  \tLoss:0.0451\t Acc: 0.7901\n",
            "------------------------------------------------\n",
            "Epoch:53  \tLoss:0.0380\t Acc: 0.7881\n",
            "------------------------------------------------\n",
            "Epoch:54  \tLoss:0.0352\t Acc: 0.7884\n",
            "------------------------------------------------\n",
            "Epoch:55  \tLoss:0.0425\t Acc: 0.7714\n",
            "------------------------------------------------\n",
            "Epoch:56  \tLoss:0.0347\t Acc: 0.7865\n",
            "------------------------------------------------\n",
            "Epoch:57  \tLoss:0.0313\t Acc: 0.7882\n",
            "------------------------------------------------\n",
            "Epoch:58  \tLoss:0.0299\t Acc: 0.7880\n",
            "------------------------------------------------\n",
            "Epoch:59  \tLoss:0.0280\t Acc: 0.7873\n",
            "------------------------------------------------\n",
            "Epoch:60  \tLoss:0.0289\t Acc: 0.7805\n",
            "------------------------------------------------\n",
            "Epoch:61  \tLoss:0.0276\t Acc: 0.7798\n",
            "------------------------------------------------\n",
            "Epoch:62  \tLoss:0.0288\t Acc: 0.7732\n",
            "------------------------------------------------\n",
            "Epoch:63  \tLoss:0.0253\t Acc: 0.7895\n",
            "------------------------------------------------\n",
            "Epoch:64  \tLoss:0.0236\t Acc: 0.7801\n",
            "------------------------------------------------\n",
            "Epoch:65  \tLoss:0.0272\t Acc: 0.7751\n",
            "------------------------------------------------\n",
            "Epoch:66  \tLoss:0.0263\t Acc: 0.7704\n",
            "------------------------------------------------\n",
            "Epoch:67  \tLoss:0.0241\t Acc: 0.7791\n",
            "------------------------------------------------\n",
            "Epoch:68  \tLoss:0.0226\t Acc: 0.7835\n",
            "------------------------------------------------\n",
            "Epoch:69  \tLoss:0.0219\t Acc: 0.7772\n",
            "------------------------------------------------\n",
            "Epoch:70  \tLoss:0.0251\t Acc: 0.7905\n",
            "------------------------------------------------\n",
            "Epoch:71  \tLoss:0.0232\t Acc: 0.7793\n",
            "------------------------------------------------\n",
            "Epoch:72  \tLoss:0.0209\t Acc: 0.7751\n",
            "------------------------------------------------\n",
            "Epoch:73  \tLoss:0.0290\t Acc: 0.7876\n",
            "------------------------------------------------\n",
            "Epoch:74  \tLoss:0.0231\t Acc: 0.7871\n",
            "------------------------------------------------\n",
            "Epoch:75  \tLoss:0.0217\t Acc: 0.7897\n",
            "------------------------------------------------\n",
            "Epoch:76  \tLoss:0.0236\t Acc: 0.7930\n",
            "------------------------------------------------\n",
            "Epoch:77  \tLoss:0.0196\t Acc: 0.7896\n",
            "------------------------------------------------\n",
            "Epoch:78  \tLoss:0.0300\t Acc: 0.7832\n",
            "------------------------------------------------\n",
            "Epoch:79  \tLoss:0.0287\t Acc: 0.7744\n",
            "------------------------------------------------\n",
            "Epoch:80  \tLoss:0.0267\t Acc: 0.7735\n",
            "------------------------------------------------\n",
            "Epoch:81  \tLoss:0.0317\t Acc: 0.7857\n",
            "------------------------------------------------\n",
            "Epoch:82  \tLoss:0.0253\t Acc: 0.7806\n",
            "------------------------------------------------\n",
            "Epoch:83  \tLoss:0.0278\t Acc: 0.7901\n",
            "------------------------------------------------\n",
            "Epoch:84  \tLoss:0.0281\t Acc: 0.7847\n",
            "------------------------------------------------\n",
            "Epoch:85  \tLoss:0.0264\t Acc: 0.7822\n",
            "------------------------------------------------\n",
            "Epoch:86  \tLoss:0.0243\t Acc: 0.7799\n",
            "------------------------------------------------\n",
            "Epoch:87  \tLoss:0.0246\t Acc: 0.7719\n",
            "------------------------------------------------\n",
            "Epoch:88  \tLoss:0.0261\t Acc: 0.7824\n",
            "------------------------------------------------\n",
            "Epoch:89  \tLoss:0.0259\t Acc: 0.7828\n",
            "------------------------------------------------\n",
            "Epoch:90  \tLoss:0.0250\t Acc: 0.7877\n",
            "*************************************************\n",
            "Final Score for (B:256, Ep:90, LR:0.01)\n",
            "Acc: 0.7877\n"
          ]
        },
        {
          "output_type": "display_data",
          "data": {
            "text/plain": [
              "<IPython.core.display.HTML object>"
            ],
            "text/html": [
              "Waiting for W&B process to finish... <strong style=\"color:green\">(success).</strong>"
            ]
          },
          "metadata": {}
        },
        {
          "output_type": "display_data",
          "data": {
            "text/plain": [
              "VBox(children=(Label(value='0.001 MB of 0.001 MB uploaded (0.000 MB deduped)\\r'), FloatProgress(value=1.0, max…"
            ],
            "application/vnd.jupyter.widget-view+json": {
              "version_major": 2,
              "version_minor": 0,
              "model_id": "4cb8015768c94d7f98a3580346a28270"
            }
          },
          "metadata": {}
        },
        {
          "output_type": "display_data",
          "data": {
            "text/plain": [
              "<IPython.core.display.HTML object>"
            ],
            "text/html": [
              "<style>\n",
              "    table.wandb td:nth-child(1) { padding: 0 10px; text-align: right }\n",
              "    .wandb-row { display: flex; flex-direction: row; flex-wrap: wrap; width: 100% }\n",
              "    .wandb-col { display: flex; flex-direction: column; flex-basis: 100%; flex: 1; padding: 10px; }\n",
              "    </style>\n",
              "<div class=\"wandb-row\"><div class=\"wandb-col\"><h3>Run history:</h3><br/><table class=\"wandb\"><tr><td>loss</td><td>█▇▆▄▄▄▄▃▃▃▃▂▂▂▂▂▂▁▁▁▂▂▂▂▂▁▁▁▁▁▁▁▁▁▁▁▁▁▁▁</td></tr></table><br/></div><div class=\"wandb-col\"><h3>Run summary:</h3><br/><table class=\"wandb\"><tr><td>loss</td><td>0.02498</td></tr></table><br/></div></div>"
            ]
          },
          "metadata": {}
        },
        {
          "output_type": "display_data",
          "data": {
            "text/plain": [
              "<IPython.core.display.HTML object>"
            ],
            "text/html": [
              "Synced <strong style=\"color:#cdcd00\">MLP</strong>: <a href=\"https://wandb.ai/ahsen/NIDS/runs/38mtxhd1\" target=\"_blank\">https://wandb.ai/ahsen/NIDS/runs/38mtxhd1</a><br/>Synced 5 W&B file(s), 0 media file(s), 0 artifact file(s) and 0 other file(s)"
            ]
          },
          "metadata": {}
        },
        {
          "output_type": "display_data",
          "data": {
            "text/plain": [
              "<IPython.core.display.HTML object>"
            ],
            "text/html": [
              "Find logs at: <code>./wandb/run-20220430_032408-38mtxhd1/logs</code>"
            ]
          },
          "metadata": {}
        },
        {
          "output_type": "display_data",
          "data": {
            "text/plain": [
              "<IPython.core.display.HTML object>"
            ],
            "text/html": [
              "Tracking run with wandb version 0.12.15"
            ]
          },
          "metadata": {}
        },
        {
          "output_type": "display_data",
          "data": {
            "text/plain": [
              "<IPython.core.display.HTML object>"
            ],
            "text/html": [
              "Run data is saved locally in <code>/content/wandb/run-20220430_032601-kdr1ejhg</code>"
            ]
          },
          "metadata": {}
        },
        {
          "output_type": "display_data",
          "data": {
            "text/plain": [
              "<IPython.core.display.HTML object>"
            ],
            "text/html": [
              "Syncing run <strong><a href=\"https://wandb.ai/ahsen/NIDS/runs/kdr1ejhg\" target=\"_blank\">MLP</a></strong> to <a href=\"https://wandb.ai/ahsen/NIDS\" target=\"_blank\">Weights & Biases</a> (<a href=\"https://wandb.me/run\" target=\"_blank\">docs</a>)<br/>"
            ]
          },
          "metadata": {}
        },
        {
          "output_type": "stream",
          "name": "stdout",
          "text": [
            "===============================================\n",
            "Batch Size:32\tEpochs:90\tLR:0.1\n",
            "------------------------------------------------\n",
            "Epoch:1  \tLoss:0.0617\t Acc: 0.7700\n",
            "------------------------------------------------\n",
            "Epoch:2  \tLoss:0.0230\t Acc: 0.7856\n",
            "------------------------------------------------\n",
            "Epoch:3  \tLoss:0.0517\t Acc: 0.7818\n",
            "------------------------------------------------\n",
            "Epoch:4  \tLoss:0.0282\t Acc: 0.7786\n",
            "------------------------------------------------\n",
            "Epoch:5  \tLoss:0.0190\t Acc: 0.7740\n",
            "------------------------------------------------\n",
            "Epoch:6  \tLoss:0.0181\t Acc: 0.7796\n",
            "------------------------------------------------\n",
            "Epoch:7  \tLoss:0.0198\t Acc: 0.7811\n",
            "------------------------------------------------\n",
            "Epoch:8  \tLoss:0.0177\t Acc: 0.7765\n",
            "------------------------------------------------\n",
            "Epoch:9  \tLoss:0.0256\t Acc: 0.7707\n",
            "------------------------------------------------\n",
            "Epoch:10  \tLoss:0.1003\t Acc: 0.7578\n",
            "------------------------------------------------\n",
            "Epoch:11  \tLoss:0.0579\t Acc: 0.7614\n",
            "------------------------------------------------\n",
            "Epoch:12  \tLoss:0.0482\t Acc: 0.7602\n",
            "------------------------------------------------\n",
            "Epoch:13  \tLoss:0.0501\t Acc: 0.7601\n",
            "------------------------------------------------\n",
            "Epoch:14  \tLoss:0.0523\t Acc: 0.7632\n",
            "------------------------------------------------\n",
            "Epoch:15  \tLoss:0.0578\t Acc: 0.7646\n",
            "------------------------------------------------\n",
            "Epoch:16  \tLoss:0.0436\t Acc: 0.7635\n",
            "------------------------------------------------\n",
            "Epoch:17  \tLoss:0.0542\t Acc: 0.7738\n",
            "------------------------------------------------\n",
            "Epoch:18  \tLoss:0.0389\t Acc: 0.7580\n",
            "------------------------------------------------\n",
            "Epoch:19  \tLoss:0.0754\t Acc: 0.7530\n",
            "------------------------------------------------\n",
            "Epoch:20  \tLoss:0.0614\t Acc: 0.7590\n",
            "------------------------------------------------\n",
            "Epoch:21  \tLoss:0.0951\t Acc: 0.7552\n",
            "------------------------------------------------\n",
            "Epoch:22  \tLoss:0.1131\t Acc: 0.7485\n",
            "------------------------------------------------\n",
            "Epoch:23  \tLoss:0.0823\t Acc: 0.7532\n",
            "------------------------------------------------\n",
            "Epoch:24  \tLoss:0.1300\t Acc: 0.7611\n",
            "------------------------------------------------\n",
            "Epoch:25  \tLoss:0.0887\t Acc: 0.7569\n",
            "------------------------------------------------\n",
            "Epoch:26  \tLoss:0.1374\t Acc: 0.7556\n",
            "------------------------------------------------\n",
            "Epoch:27  \tLoss:0.0316\t Acc: 0.7697\n",
            "------------------------------------------------\n",
            "Epoch:28  \tLoss:0.0746\t Acc: 0.7645\n",
            "------------------------------------------------\n",
            "Epoch:29  \tLoss:0.1539\t Acc: 0.7533\n",
            "------------------------------------------------\n",
            "Epoch:30  \tLoss:0.1056\t Acc: 0.7796\n",
            "------------------------------------------------\n",
            "Epoch:31  \tLoss:0.0967\t Acc: 0.7528\n",
            "------------------------------------------------\n",
            "Epoch:32  \tLoss:0.1000\t Acc: 0.7535\n",
            "------------------------------------------------\n",
            "Epoch:33  \tLoss:0.0735\t Acc: 0.7534\n",
            "------------------------------------------------\n",
            "Epoch:34  \tLoss:0.0885\t Acc: 0.7520\n",
            "------------------------------------------------\n",
            "Epoch:35  \tLoss:0.0773\t Acc: 0.7531\n",
            "------------------------------------------------\n",
            "Epoch:36  \tLoss:0.0742\t Acc: 0.7540\n",
            "------------------------------------------------\n",
            "Epoch:37  \tLoss:0.0812\t Acc: 0.7520\n",
            "------------------------------------------------\n",
            "Epoch:38  \tLoss:0.0708\t Acc: 0.7516\n",
            "------------------------------------------------\n",
            "Epoch:39  \tLoss:0.0673\t Acc: 0.7530\n",
            "------------------------------------------------\n",
            "Epoch:40  \tLoss:0.0664\t Acc: 0.7539\n",
            "------------------------------------------------\n",
            "Epoch:41  \tLoss:0.0553\t Acc: 0.7626\n",
            "------------------------------------------------\n",
            "Epoch:42  \tLoss:0.0491\t Acc: 0.7652\n",
            "------------------------------------------------\n",
            "Epoch:43  \tLoss:0.0471\t Acc: 0.7685\n",
            "------------------------------------------------\n",
            "Epoch:44  \tLoss:0.0433\t Acc: 0.7687\n",
            "------------------------------------------------\n",
            "Epoch:45  \tLoss:0.0417\t Acc: 0.7704\n",
            "------------------------------------------------\n",
            "Epoch:46  \tLoss:0.0394\t Acc: 0.7741\n",
            "------------------------------------------------\n",
            "Epoch:47  \tLoss:0.0388\t Acc: 0.7772\n",
            "------------------------------------------------\n",
            "Epoch:48  \tLoss:0.0391\t Acc: 0.7757\n",
            "------------------------------------------------\n",
            "Epoch:49  \tLoss:0.0322\t Acc: 0.7796\n",
            "------------------------------------------------\n",
            "Epoch:50  \tLoss:0.0323\t Acc: 0.7756\n",
            "------------------------------------------------\n",
            "Epoch:51  \tLoss:0.0334\t Acc: 0.7799\n",
            "------------------------------------------------\n",
            "Epoch:52  \tLoss:0.0358\t Acc: 0.7771\n",
            "------------------------------------------------\n",
            "Epoch:53  \tLoss:0.0322\t Acc: 0.7842\n",
            "------------------------------------------------\n",
            "Epoch:54  \tLoss:0.0310\t Acc: 0.7858\n",
            "------------------------------------------------\n",
            "Epoch:55  \tLoss:0.0298\t Acc: 0.7849\n",
            "------------------------------------------------\n",
            "Epoch:56  \tLoss:0.0300\t Acc: 0.7865\n",
            "------------------------------------------------\n",
            "Epoch:57  \tLoss:0.0291\t Acc: 0.7865\n",
            "------------------------------------------------\n",
            "Epoch:58  \tLoss:0.0276\t Acc: 0.7860\n",
            "------------------------------------------------\n",
            "Epoch:59  \tLoss:0.0264\t Acc: 0.7888\n",
            "------------------------------------------------\n",
            "Epoch:60  \tLoss:0.0272\t Acc: 0.7881\n",
            "------------------------------------------------\n",
            "Epoch:61  \tLoss:0.0264\t Acc: 0.7875\n",
            "------------------------------------------------\n",
            "Epoch:62  \tLoss:0.0244\t Acc: 0.7877\n",
            "------------------------------------------------\n",
            "Epoch:63  \tLoss:0.0239\t Acc: 0.7891\n",
            "------------------------------------------------\n",
            "Epoch:64  \tLoss:0.0232\t Acc: 0.7886\n",
            "------------------------------------------------\n",
            "Epoch:65  \tLoss:0.0237\t Acc: 0.7875\n",
            "------------------------------------------------\n",
            "Epoch:66  \tLoss:0.0229\t Acc: 0.7879\n",
            "------------------------------------------------\n",
            "Epoch:67  \tLoss:0.0214\t Acc: 0.7885\n",
            "------------------------------------------------\n",
            "Epoch:68  \tLoss:0.0190\t Acc: 0.7902\n",
            "------------------------------------------------\n",
            "Epoch:69  \tLoss:0.0201\t Acc: 0.7882\n",
            "------------------------------------------------\n",
            "Epoch:70  \tLoss:0.0181\t Acc: 0.7936\n",
            "------------------------------------------------\n",
            "Epoch:71  \tLoss:0.0181\t Acc: 0.7871\n",
            "------------------------------------------------\n",
            "Epoch:72  \tLoss:0.0179\t Acc: 0.7881\n",
            "------------------------------------------------\n",
            "Epoch:73  \tLoss:0.0179\t Acc: 0.7945\n",
            "------------------------------------------------\n",
            "Epoch:74  \tLoss:0.0175\t Acc: 0.7962\n",
            "------------------------------------------------\n",
            "Epoch:75  \tLoss:0.0164\t Acc: 0.7944\n",
            "------------------------------------------------\n",
            "Epoch:76  \tLoss:0.0163\t Acc: 0.7947\n",
            "------------------------------------------------\n",
            "Epoch:77  \tLoss:0.0157\t Acc: 0.7928\n",
            "------------------------------------------------\n",
            "Epoch:78  \tLoss:0.0154\t Acc: 0.7935\n",
            "------------------------------------------------\n",
            "Epoch:79  \tLoss:0.0150\t Acc: 0.7941\n",
            "------------------------------------------------\n",
            "Epoch:80  \tLoss:0.0152\t Acc: 0.7932\n",
            "------------------------------------------------\n",
            "Epoch:81  \tLoss:0.0143\t Acc: 0.7915\n",
            "------------------------------------------------\n",
            "Epoch:82  \tLoss:0.0150\t Acc: 0.7929\n",
            "------------------------------------------------\n",
            "Epoch:83  \tLoss:0.0135\t Acc: 0.7909\n",
            "------------------------------------------------\n",
            "Epoch:84  \tLoss:0.0148\t Acc: 0.7866\n",
            "------------------------------------------------\n",
            "Epoch:85  \tLoss:0.0145\t Acc: 0.7862\n",
            "------------------------------------------------\n",
            "Epoch:86  \tLoss:0.0137\t Acc: 0.7856\n",
            "------------------------------------------------\n",
            "Epoch:87  \tLoss:0.0153\t Acc: 0.7887\n",
            "------------------------------------------------\n",
            "Epoch:88  \tLoss:0.0134\t Acc: 0.7878\n",
            "------------------------------------------------\n",
            "Epoch:89  \tLoss:0.0142\t Acc: 0.7861\n",
            "------------------------------------------------\n",
            "Epoch:90  \tLoss:0.0155\t Acc: 0.7840\n",
            "*************************************************\n",
            "Final Score for (B:32, Ep:90, LR:0.1)\n",
            "Acc: 0.7840\n"
          ]
        },
        {
          "output_type": "display_data",
          "data": {
            "text/plain": [
              "<IPython.core.display.HTML object>"
            ],
            "text/html": [
              "Waiting for W&B process to finish... <strong style=\"color:green\">(success).</strong>"
            ]
          },
          "metadata": {}
        },
        {
          "output_type": "display_data",
          "data": {
            "text/plain": [
              "VBox(children=(Label(value='0.001 MB of 0.001 MB uploaded (0.000 MB deduped)\\r'), FloatProgress(value=1.0, max…"
            ],
            "application/vnd.jupyter.widget-view+json": {
              "version_major": 2,
              "version_minor": 0,
              "model_id": "4ae059e14e57495ebe521d636e039839"
            }
          },
          "metadata": {}
        },
        {
          "output_type": "display_data",
          "data": {
            "text/plain": [
              "<IPython.core.display.HTML object>"
            ],
            "text/html": [
              "<style>\n",
              "    table.wandb td:nth-child(1) { padding: 0 10px; text-align: right }\n",
              "    .wandb-row { display: flex; flex-direction: row; flex-wrap: wrap; width: 100% }\n",
              "    .wandb-col { display: flex; flex-direction: column; flex-basis: 100%; flex: 1; padding: 10px; }\n",
              "    </style>\n",
              "<div class=\"wandb-row\"><div class=\"wandb-col\"><h3>Run history:</h3><br/><table class=\"wandb\"><tr><td>loss</td><td>▄▃▁▁▆▃▃▃▄▆▅█▄▆▆▅▅▄▃▃▂▂▂▂▂▂▂▂▂▁▁▁▁▁▁▁▁▁▁▁</td></tr></table><br/></div><div class=\"wandb-col\"><h3>Run summary:</h3><br/><table class=\"wandb\"><tr><td>loss</td><td>0.01551</td></tr></table><br/></div></div>"
            ]
          },
          "metadata": {}
        },
        {
          "output_type": "display_data",
          "data": {
            "text/plain": [
              "<IPython.core.display.HTML object>"
            ],
            "text/html": [
              "Synced <strong style=\"color:#cdcd00\">MLP</strong>: <a href=\"https://wandb.ai/ahsen/NIDS/runs/kdr1ejhg\" target=\"_blank\">https://wandb.ai/ahsen/NIDS/runs/kdr1ejhg</a><br/>Synced 5 W&B file(s), 0 media file(s), 0 artifact file(s) and 0 other file(s)"
            ]
          },
          "metadata": {}
        },
        {
          "output_type": "display_data",
          "data": {
            "text/plain": [
              "<IPython.core.display.HTML object>"
            ],
            "text/html": [
              "Find logs at: <code>./wandb/run-20220430_032601-kdr1ejhg/logs</code>"
            ]
          },
          "metadata": {}
        },
        {
          "output_type": "display_data",
          "data": {
            "text/plain": [
              "<IPython.core.display.HTML object>"
            ],
            "text/html": [
              "Tracking run with wandb version 0.12.15"
            ]
          },
          "metadata": {}
        },
        {
          "output_type": "display_data",
          "data": {
            "text/plain": [
              "<IPython.core.display.HTML object>"
            ],
            "text/html": [
              "Run data is saved locally in <code>/content/wandb/run-20220430_033115-2tr9mmy3</code>"
            ]
          },
          "metadata": {}
        },
        {
          "output_type": "display_data",
          "data": {
            "text/plain": [
              "<IPython.core.display.HTML object>"
            ],
            "text/html": [
              "Syncing run <strong><a href=\"https://wandb.ai/ahsen/NIDS/runs/2tr9mmy3\" target=\"_blank\">MLP</a></strong> to <a href=\"https://wandb.ai/ahsen/NIDS\" target=\"_blank\">Weights & Biases</a> (<a href=\"https://wandb.me/run\" target=\"_blank\">docs</a>)<br/>"
            ]
          },
          "metadata": {}
        },
        {
          "output_type": "stream",
          "name": "stdout",
          "text": [
            "===============================================\n",
            "Batch Size:64\tEpochs:90\tLR:0.1\n",
            "------------------------------------------------\n",
            "Epoch:1  \tLoss:0.1237\t Acc: 0.7782\n",
            "------------------------------------------------\n",
            "Epoch:2  \tLoss:0.1191\t Acc: 0.8195\n",
            "------------------------------------------------\n",
            "Epoch:3  \tLoss:0.0877\t Acc: 0.7814\n",
            "------------------------------------------------\n",
            "Epoch:4  \tLoss:0.0678\t Acc: 0.7747\n",
            "------------------------------------------------\n",
            "Epoch:5  \tLoss:0.0408\t Acc: 0.7931\n",
            "------------------------------------------------\n",
            "Epoch:6  \tLoss:0.0414\t Acc: 0.7684\n",
            "------------------------------------------------\n",
            "Epoch:7  \tLoss:0.0465\t Acc: 0.7883\n",
            "------------------------------------------------\n",
            "Epoch:8  \tLoss:0.0239\t Acc: 0.7903\n",
            "------------------------------------------------\n",
            "Epoch:9  \tLoss:0.0399\t Acc: 0.7615\n",
            "------------------------------------------------\n",
            "Epoch:10  \tLoss:0.0593\t Acc: 0.7771\n",
            "------------------------------------------------\n",
            "Epoch:11  \tLoss:0.0553\t Acc: 0.7752\n",
            "------------------------------------------------\n",
            "Epoch:12  \tLoss:0.0359\t Acc: 0.7878\n",
            "------------------------------------------------\n",
            "Epoch:13  \tLoss:0.0459\t Acc: 0.7836\n",
            "------------------------------------------------\n",
            "Epoch:14  \tLoss:0.0378\t Acc: 0.7825\n",
            "------------------------------------------------\n",
            "Epoch:15  \tLoss:0.0352\t Acc: 0.7903\n",
            "------------------------------------------------\n",
            "Epoch:16  \tLoss:0.0307\t Acc: 0.7959\n",
            "------------------------------------------------\n",
            "Epoch:17  \tLoss:0.0415\t Acc: 0.7791\n",
            "------------------------------------------------\n",
            "Epoch:18  \tLoss:0.0291\t Acc: 0.7953\n",
            "------------------------------------------------\n",
            "Epoch:19  \tLoss:0.0208\t Acc: 0.7750\n",
            "------------------------------------------------\n",
            "Epoch:20  \tLoss:0.0286\t Acc: 0.7668\n",
            "------------------------------------------------\n",
            "Epoch:21  \tLoss:0.0200\t Acc: 0.7705\n",
            "------------------------------------------------\n",
            "Epoch:22  \tLoss:0.0184\t Acc: 0.7735\n",
            "------------------------------------------------\n",
            "Epoch:23  \tLoss:0.0174\t Acc: 0.7751\n",
            "------------------------------------------------\n",
            "Epoch:24  \tLoss:0.0351\t Acc: 0.7777\n",
            "------------------------------------------------\n",
            "Epoch:25  \tLoss:0.0161\t Acc: 0.7712\n",
            "------------------------------------------------\n",
            "Epoch:26  \tLoss:0.0148\t Acc: 0.7771\n",
            "------------------------------------------------\n",
            "Epoch:27  \tLoss:0.0160\t Acc: 0.7713\n",
            "------------------------------------------------\n",
            "Epoch:28  \tLoss:0.0121\t Acc: 0.7728\n",
            "------------------------------------------------\n",
            "Epoch:29  \tLoss:0.0330\t Acc: 0.7574\n",
            "------------------------------------------------\n",
            "Epoch:30  \tLoss:0.0304\t Acc: 0.7574\n",
            "------------------------------------------------\n",
            "Epoch:31  \tLoss:0.0320\t Acc: 0.7604\n",
            "------------------------------------------------\n",
            "Epoch:32  \tLoss:0.0319\t Acc: 0.7602\n",
            "------------------------------------------------\n",
            "Epoch:33  \tLoss:0.0330\t Acc: 0.7622\n",
            "------------------------------------------------\n",
            "Epoch:34  \tLoss:0.0304\t Acc: 0.7610\n",
            "------------------------------------------------\n",
            "Epoch:35  \tLoss:0.0341\t Acc: 0.7633\n",
            "------------------------------------------------\n",
            "Epoch:36  \tLoss:0.0286\t Acc: 0.7626\n",
            "------------------------------------------------\n",
            "Epoch:37  \tLoss:0.0330\t Acc: 0.7633\n",
            "------------------------------------------------\n",
            "Epoch:38  \tLoss:0.0226\t Acc: 0.7669\n",
            "------------------------------------------------\n",
            "Epoch:39  \tLoss:0.0231\t Acc: 0.7675\n",
            "------------------------------------------------\n",
            "Epoch:40  \tLoss:0.0213\t Acc: 0.7682\n",
            "------------------------------------------------\n",
            "Epoch:41  \tLoss:0.0198\t Acc: 0.7693\n",
            "------------------------------------------------\n",
            "Epoch:42  \tLoss:0.0249\t Acc: 0.7684\n",
            "------------------------------------------------\n",
            "Epoch:43  \tLoss:0.0178\t Acc: 0.7698\n",
            "------------------------------------------------\n",
            "Epoch:44  \tLoss:0.0144\t Acc: 0.7689\n",
            "------------------------------------------------\n",
            "Epoch:45  \tLoss:0.0147\t Acc: 0.7706\n",
            "------------------------------------------------\n",
            "Epoch:46  \tLoss:0.0138\t Acc: 0.7716\n",
            "------------------------------------------------\n",
            "Epoch:47  \tLoss:0.0119\t Acc: 0.7742\n",
            "------------------------------------------------\n",
            "Epoch:48  \tLoss:0.0125\t Acc: 0.7721\n",
            "------------------------------------------------\n",
            "Epoch:49  \tLoss:0.0124\t Acc: 0.7775\n",
            "------------------------------------------------\n",
            "Epoch:50  \tLoss:0.0112\t Acc: 0.7764\n",
            "------------------------------------------------\n",
            "Epoch:51  \tLoss:0.0133\t Acc: 0.7745\n",
            "------------------------------------------------\n",
            "Epoch:52  \tLoss:0.0127\t Acc: 0.7734\n",
            "------------------------------------------------\n",
            "Epoch:53  \tLoss:0.0212\t Acc: 0.7843\n",
            "------------------------------------------------\n",
            "Epoch:54  \tLoss:0.0158\t Acc: 0.7829\n",
            "------------------------------------------------\n",
            "Epoch:55  \tLoss:0.0124\t Acc: 0.7821\n",
            "------------------------------------------------\n",
            "Epoch:56  \tLoss:0.0112\t Acc: 0.7799\n",
            "------------------------------------------------\n",
            "Epoch:57  \tLoss:0.0100\t Acc: 0.7790\n",
            "------------------------------------------------\n",
            "Epoch:58  \tLoss:0.0113\t Acc: 0.7743\n",
            "------------------------------------------------\n",
            "Epoch:59  \tLoss:0.0229\t Acc: 0.7590\n",
            "------------------------------------------------\n",
            "Epoch:60  \tLoss:0.0213\t Acc: 0.7610\n",
            "------------------------------------------------\n",
            "Epoch:61  \tLoss:0.0707\t Acc: 0.7907\n",
            "------------------------------------------------\n",
            "Epoch:62  \tLoss:0.0333\t Acc: 0.7882\n",
            "------------------------------------------------\n",
            "Epoch:63  \tLoss:0.0265\t Acc: 0.7833\n",
            "------------------------------------------------\n",
            "Epoch:64  \tLoss:0.0229\t Acc: 0.7811\n",
            "------------------------------------------------\n",
            "Epoch:65  \tLoss:0.0325\t Acc: 0.8029\n",
            "------------------------------------------------\n",
            "Epoch:66  \tLoss:0.0263\t Acc: 0.7862\n",
            "------------------------------------------------\n",
            "Epoch:67  \tLoss:0.0307\t Acc: 0.7825\n",
            "------------------------------------------------\n",
            "Epoch:68  \tLoss:0.0417\t Acc: 0.7732\n",
            "------------------------------------------------\n",
            "Epoch:69  \tLoss:0.0403\t Acc: 0.7795\n",
            "------------------------------------------------\n",
            "Epoch:70  \tLoss:0.0506\t Acc: 0.7742\n",
            "------------------------------------------------\n",
            "Epoch:71  \tLoss:0.0530\t Acc: 0.7752\n",
            "------------------------------------------------\n",
            "Epoch:72  \tLoss:0.0537\t Acc: 0.7759\n",
            "------------------------------------------------\n",
            "Epoch:73  \tLoss:0.0524\t Acc: 0.7771\n",
            "------------------------------------------------\n",
            "Epoch:74  \tLoss:0.0567\t Acc: 0.7728\n",
            "------------------------------------------------\n",
            "Epoch:75  \tLoss:0.0625\t Acc: 0.7748\n",
            "------------------------------------------------\n",
            "Epoch:76  \tLoss:0.0589\t Acc: 0.7734\n",
            "------------------------------------------------\n",
            "Epoch:77  \tLoss:0.0587\t Acc: 0.7730\n",
            "------------------------------------------------\n",
            "Epoch:78  \tLoss:0.0608\t Acc: 0.7712\n",
            "------------------------------------------------\n",
            "Epoch:79  \tLoss:0.0620\t Acc: 0.7677\n",
            "------------------------------------------------\n",
            "Epoch:80  \tLoss:0.0582\t Acc: 0.7679\n",
            "------------------------------------------------\n",
            "Epoch:81  \tLoss:0.0577\t Acc: 0.7665\n",
            "------------------------------------------------\n",
            "Epoch:82  \tLoss:0.0588\t Acc: 0.7640\n",
            "------------------------------------------------\n",
            "Epoch:83  \tLoss:0.0576\t Acc: 0.7624\n",
            "------------------------------------------------\n",
            "Epoch:84  \tLoss:0.0559\t Acc: 0.7630\n",
            "------------------------------------------------\n",
            "Epoch:85  \tLoss:0.0509\t Acc: 0.7619\n",
            "------------------------------------------------\n",
            "Epoch:86  \tLoss:0.0501\t Acc: 0.7611\n",
            "------------------------------------------------\n",
            "Epoch:87  \tLoss:0.0482\t Acc: 0.7607\n",
            "------------------------------------------------\n",
            "Epoch:88  \tLoss:0.0484\t Acc: 0.7597\n",
            "------------------------------------------------\n",
            "Epoch:89  \tLoss:0.0435\t Acc: 0.7555\n",
            "------------------------------------------------\n",
            "Epoch:90  \tLoss:0.0419\t Acc: 0.7566\n",
            "*************************************************\n",
            "Final Score for (B:64, Ep:90, LR:0.1)\n",
            "Acc: 0.7566\n"
          ]
        },
        {
          "output_type": "display_data",
          "data": {
            "text/plain": [
              "<IPython.core.display.HTML object>"
            ],
            "text/html": [
              "Waiting for W&B process to finish... <strong style=\"color:green\">(success).</strong>"
            ]
          },
          "metadata": {}
        },
        {
          "output_type": "display_data",
          "data": {
            "text/plain": [
              "VBox(children=(Label(value='0.001 MB of 0.001 MB uploaded (0.000 MB deduped)\\r'), FloatProgress(value=1.0, max…"
            ],
            "application/vnd.jupyter.widget-view+json": {
              "version_major": 2,
              "version_minor": 0,
              "model_id": "7d4283b9e89b46d0b72c991cbda5f123"
            }
          },
          "metadata": {}
        },
        {
          "output_type": "display_data",
          "data": {
            "text/plain": [
              "<IPython.core.display.HTML object>"
            ],
            "text/html": [
              "<style>\n",
              "    table.wandb td:nth-child(1) { padding: 0 10px; text-align: right }\n",
              "    .wandb-row { display: flex; flex-direction: row; flex-wrap: wrap; width: 100% }\n",
              "    .wandb-col { display: flex; flex-direction: column; flex-basis: 100%; flex: 1; padding: 10px; }\n",
              "    </style>\n",
              "<div class=\"wandb-row\"><div class=\"wandb-col\"><h3>Run history:</h3><br/><table class=\"wandb\"><tr><td>loss</td><td>█▆▃▃▄▃▃▂▂▂▁▁▁▂▂▂▂▂▂▁▁▁▁▂▁▁▂▂▂▂▃▄▄▄▄▄▄▃▃▃</td></tr></table><br/></div><div class=\"wandb-col\"><h3>Run summary:</h3><br/><table class=\"wandb\"><tr><td>loss</td><td>0.04187</td></tr></table><br/></div></div>"
            ]
          },
          "metadata": {}
        },
        {
          "output_type": "display_data",
          "data": {
            "text/plain": [
              "<IPython.core.display.HTML object>"
            ],
            "text/html": [
              "Synced <strong style=\"color:#cdcd00\">MLP</strong>: <a href=\"https://wandb.ai/ahsen/NIDS/runs/2tr9mmy3\" target=\"_blank\">https://wandb.ai/ahsen/NIDS/runs/2tr9mmy3</a><br/>Synced 5 W&B file(s), 0 media file(s), 0 artifact file(s) and 0 other file(s)"
            ]
          },
          "metadata": {}
        },
        {
          "output_type": "display_data",
          "data": {
            "text/plain": [
              "<IPython.core.display.HTML object>"
            ],
            "text/html": [
              "Find logs at: <code>./wandb/run-20220430_033115-2tr9mmy3/logs</code>"
            ]
          },
          "metadata": {}
        },
        {
          "output_type": "display_data",
          "data": {
            "text/plain": [
              "<IPython.core.display.HTML object>"
            ],
            "text/html": [
              "Tracking run with wandb version 0.12.15"
            ]
          },
          "metadata": {}
        },
        {
          "output_type": "display_data",
          "data": {
            "text/plain": [
              "<IPython.core.display.HTML object>"
            ],
            "text/html": [
              "Run data is saved locally in <code>/content/wandb/run-20220430_033435-1kktsu5c</code>"
            ]
          },
          "metadata": {}
        },
        {
          "output_type": "display_data",
          "data": {
            "text/plain": [
              "<IPython.core.display.HTML object>"
            ],
            "text/html": [
              "Syncing run <strong><a href=\"https://wandb.ai/ahsen/NIDS/runs/1kktsu5c\" target=\"_blank\">MLP</a></strong> to <a href=\"https://wandb.ai/ahsen/NIDS\" target=\"_blank\">Weights & Biases</a> (<a href=\"https://wandb.me/run\" target=\"_blank\">docs</a>)<br/>"
            ]
          },
          "metadata": {}
        },
        {
          "output_type": "stream",
          "name": "stdout",
          "text": [
            "===============================================\n",
            "Batch Size:128\tEpochs:90\tLR:0.1\n",
            "------------------------------------------------\n",
            "Epoch:1  \tLoss:0.1343\t Acc: 0.7843\n",
            "------------------------------------------------\n",
            "Epoch:2  \tLoss:0.0800\t Acc: 0.7822\n",
            "------------------------------------------------\n",
            "Epoch:3  \tLoss:0.0556\t Acc: 0.7758\n",
            "------------------------------------------------\n",
            "Epoch:4  \tLoss:0.0608\t Acc: 0.7878\n",
            "------------------------------------------------\n",
            "Epoch:5  \tLoss:0.0530\t Acc: 0.7724\n",
            "------------------------------------------------\n",
            "Epoch:6  \tLoss:0.0712\t Acc: 0.7394\n",
            "------------------------------------------------\n",
            "Epoch:7  \tLoss:0.0456\t Acc: 0.7420\n",
            "------------------------------------------------\n",
            "Epoch:8  \tLoss:0.0556\t Acc: 0.7281\n",
            "------------------------------------------------\n",
            "Epoch:9  \tLoss:0.0324\t Acc: 0.7989\n",
            "------------------------------------------------\n",
            "Epoch:10  \tLoss:0.0260\t Acc: 0.7598\n",
            "------------------------------------------------\n",
            "Epoch:11  \tLoss:0.0251\t Acc: 0.7589\n",
            "------------------------------------------------\n",
            "Epoch:12  \tLoss:0.0425\t Acc: 0.7743\n",
            "------------------------------------------------\n",
            "Epoch:13  \tLoss:0.0913\t Acc: 0.6981\n",
            "------------------------------------------------\n",
            "Epoch:14  \tLoss:0.1109\t Acc: 0.7311\n",
            "------------------------------------------------\n",
            "Epoch:15  \tLoss:0.0644\t Acc: 0.7075\n",
            "------------------------------------------------\n",
            "Epoch:16  \tLoss:0.0622\t Acc: 0.7198\n",
            "------------------------------------------------\n",
            "Epoch:17  \tLoss:0.0491\t Acc: 0.7102\n",
            "------------------------------------------------\n",
            "Epoch:18  \tLoss:0.1019\t Acc: 0.7777\n",
            "------------------------------------------------\n",
            "Epoch:19  \tLoss:0.0298\t Acc: 0.7790\n",
            "------------------------------------------------\n",
            "Epoch:20  \tLoss:0.0457\t Acc: 0.7711\n",
            "------------------------------------------------\n",
            "Epoch:21  \tLoss:0.0364\t Acc: 0.7734\n",
            "------------------------------------------------\n",
            "Epoch:22  \tLoss:0.0581\t Acc: 0.7743\n",
            "------------------------------------------------\n",
            "Epoch:23  \tLoss:0.0534\t Acc: 0.7591\n",
            "------------------------------------------------\n",
            "Epoch:24  \tLoss:0.0225\t Acc: 0.7842\n",
            "------------------------------------------------\n",
            "Epoch:25  \tLoss:0.0263\t Acc: 0.7748\n",
            "------------------------------------------------\n",
            "Epoch:26  \tLoss:0.0361\t Acc: 0.7657\n",
            "------------------------------------------------\n",
            "Epoch:27  \tLoss:0.0327\t Acc: 0.7681\n",
            "------------------------------------------------\n",
            "Epoch:28  \tLoss:0.0260\t Acc: 0.7590\n",
            "------------------------------------------------\n",
            "Epoch:29  \tLoss:0.0460\t Acc: 0.7529\n",
            "------------------------------------------------\n",
            "Epoch:30  \tLoss:0.0465\t Acc: 0.7393\n",
            "------------------------------------------------\n",
            "Epoch:31  \tLoss:0.0682\t Acc: 0.8229\n",
            "------------------------------------------------\n",
            "Epoch:32  \tLoss:0.0407\t Acc: 0.7309\n",
            "------------------------------------------------\n",
            "Epoch:33  \tLoss:0.0466\t Acc: 0.7387\n",
            "------------------------------------------------\n",
            "Epoch:34  \tLoss:0.0377\t Acc: 0.7396\n",
            "------------------------------------------------\n",
            "Epoch:35  \tLoss:0.0397\t Acc: 0.7323\n",
            "------------------------------------------------\n",
            "Epoch:36  \tLoss:0.0352\t Acc: 0.7318\n",
            "------------------------------------------------\n",
            "Epoch:37  \tLoss:0.0345\t Acc: 0.7407\n",
            "------------------------------------------------\n",
            "Epoch:38  \tLoss:0.0331\t Acc: 0.7548\n",
            "------------------------------------------------\n",
            "Epoch:39  \tLoss:0.0373\t Acc: 0.7551\n",
            "------------------------------------------------\n",
            "Epoch:40  \tLoss:0.0382\t Acc: 0.7521\n",
            "------------------------------------------------\n",
            "Epoch:41  \tLoss:0.0346\t Acc: 0.7455\n",
            "------------------------------------------------\n",
            "Epoch:42  \tLoss:0.0437\t Acc: 0.7500\n",
            "------------------------------------------------\n",
            "Epoch:43  \tLoss:0.0370\t Acc: 0.7496\n",
            "------------------------------------------------\n",
            "Epoch:44  \tLoss:0.0351\t Acc: 0.7448\n",
            "------------------------------------------------\n",
            "Epoch:45  \tLoss:0.0349\t Acc: 0.7431\n",
            "------------------------------------------------\n",
            "Epoch:46  \tLoss:0.0331\t Acc: 0.7395\n",
            "------------------------------------------------\n",
            "Epoch:47  \tLoss:0.0212\t Acc: 0.7382\n",
            "------------------------------------------------\n",
            "Epoch:48  \tLoss:0.0250\t Acc: 0.7390\n",
            "------------------------------------------------\n",
            "Epoch:49  \tLoss:0.0292\t Acc: 0.7376\n",
            "------------------------------------------------\n",
            "Epoch:50  \tLoss:0.0448\t Acc: 0.7321\n",
            "------------------------------------------------\n",
            "Epoch:51  \tLoss:0.0161\t Acc: 0.7390\n",
            "------------------------------------------------\n",
            "Epoch:52  \tLoss:0.0377\t Acc: 0.7292\n",
            "------------------------------------------------\n",
            "Epoch:53  \tLoss:0.0176\t Acc: 0.7401\n",
            "------------------------------------------------\n",
            "Epoch:54  \tLoss:0.0237\t Acc: 0.7377\n",
            "------------------------------------------------\n",
            "Epoch:55  \tLoss:0.0345\t Acc: 0.7475\n",
            "------------------------------------------------\n",
            "Epoch:56  \tLoss:0.0160\t Acc: 0.7391\n",
            "------------------------------------------------\n",
            "Epoch:57  \tLoss:0.0145\t Acc: 0.7475\n",
            "------------------------------------------------\n",
            "Epoch:58  \tLoss:0.0163\t Acc: 0.7454\n",
            "------------------------------------------------\n",
            "Epoch:59  \tLoss:0.0118\t Acc: 0.7383\n",
            "------------------------------------------------\n",
            "Epoch:60  \tLoss:0.0179\t Acc: 0.7524\n",
            "------------------------------------------------\n",
            "Epoch:61  \tLoss:0.0139\t Acc: 0.7464\n",
            "------------------------------------------------\n",
            "Epoch:62  \tLoss:0.0150\t Acc: 0.7442\n",
            "------------------------------------------------\n",
            "Epoch:63  \tLoss:0.0132\t Acc: 0.7463\n",
            "------------------------------------------------\n",
            "Epoch:64  \tLoss:0.0132\t Acc: 0.7468\n",
            "------------------------------------------------\n",
            "Epoch:65  \tLoss:0.0129\t Acc: 0.7405\n",
            "------------------------------------------------\n",
            "Epoch:66  \tLoss:0.0129\t Acc: 0.7451\n",
            "------------------------------------------------\n",
            "Epoch:67  \tLoss:0.0130\t Acc: 0.7406\n",
            "------------------------------------------------\n",
            "Epoch:68  \tLoss:0.0127\t Acc: 0.7410\n",
            "------------------------------------------------\n",
            "Epoch:69  \tLoss:0.0180\t Acc: 0.7508\n",
            "------------------------------------------------\n",
            "Epoch:70  \tLoss:0.0142\t Acc: 0.7410\n",
            "------------------------------------------------\n",
            "Epoch:71  \tLoss:0.0147\t Acc: 0.7426\n",
            "------------------------------------------------\n",
            "Epoch:72  \tLoss:0.0206\t Acc: 0.7426\n",
            "------------------------------------------------\n",
            "Epoch:73  \tLoss:0.0213\t Acc: 0.7461\n",
            "------------------------------------------------\n",
            "Epoch:74  \tLoss:0.0212\t Acc: 0.7438\n",
            "------------------------------------------------\n",
            "Epoch:75  \tLoss:0.0133\t Acc: 0.7421\n",
            "------------------------------------------------\n",
            "Epoch:76  \tLoss:0.0140\t Acc: 0.7417\n",
            "------------------------------------------------\n",
            "Epoch:77  \tLoss:0.0143\t Acc: 0.7457\n",
            "------------------------------------------------\n",
            "Epoch:78  \tLoss:0.0171\t Acc: 0.7368\n",
            "------------------------------------------------\n",
            "Epoch:79  \tLoss:0.0262\t Acc: 0.7357\n",
            "------------------------------------------------\n",
            "Epoch:80  \tLoss:0.0222\t Acc: 0.7440\n",
            "------------------------------------------------\n",
            "Epoch:81  \tLoss:0.0219\t Acc: 0.7464\n",
            "------------------------------------------------\n",
            "Epoch:82  \tLoss:0.0133\t Acc: 0.7432\n",
            "------------------------------------------------\n",
            "Epoch:83  \tLoss:0.0173\t Acc: 0.7402\n",
            "------------------------------------------------\n",
            "Epoch:84  \tLoss:0.0153\t Acc: 0.7391\n",
            "------------------------------------------------\n",
            "Epoch:85  \tLoss:0.0261\t Acc: 0.7340\n",
            "------------------------------------------------\n",
            "Epoch:86  \tLoss:0.0218\t Acc: 0.7398\n",
            "------------------------------------------------\n",
            "Epoch:87  \tLoss:0.0136\t Acc: 0.7410\n",
            "------------------------------------------------\n",
            "Epoch:88  \tLoss:0.0188\t Acc: 0.7479\n",
            "------------------------------------------------\n",
            "Epoch:89  \tLoss:0.0117\t Acc: 0.7458\n",
            "------------------------------------------------\n",
            "Epoch:90  \tLoss:0.0127\t Acc: 0.7402\n",
            "*************************************************\n",
            "Final Score for (B:128, Ep:90, LR:0.1)\n",
            "Acc: 0.7402\n"
          ]
        },
        {
          "output_type": "display_data",
          "data": {
            "text/plain": [
              "<IPython.core.display.HTML object>"
            ],
            "text/html": [
              "Waiting for W&B process to finish... <strong style=\"color:green\">(success).</strong>"
            ]
          },
          "metadata": {}
        },
        {
          "output_type": "display_data",
          "data": {
            "text/plain": [
              "VBox(children=(Label(value='0.001 MB of 0.001 MB uploaded (0.000 MB deduped)\\r'), FloatProgress(value=1.0, max…"
            ],
            "application/vnd.jupyter.widget-view+json": {
              "version_major": 2,
              "version_minor": 0,
              "model_id": "ce12e3bc34ea420e96851b79c542ddbb"
            }
          },
          "metadata": {}
        },
        {
          "output_type": "display_data",
          "data": {
            "text/plain": [
              "<IPython.core.display.HTML object>"
            ],
            "text/html": [
              "<style>\n",
              "    table.wandb td:nth-child(1) { padding: 0 10px; text-align: right }\n",
              "    .wandb-row { display: flex; flex-direction: row; flex-wrap: wrap; width: 100% }\n",
              "    .wandb-col { display: flex; flex-direction: column; flex-basis: 100%; flex: 1; padding: 10px; }\n",
              "    </style>\n",
              "<div class=\"wandb-row\"><div class=\"wandb-col\"><h3>Run history:</h3><br/><table class=\"wandb\"><tr><td>loss</td><td>█▃▃▃▂▃▇▄▂▂▃▂▂▃▃▃▂▂▃▂▂▂▁▁▂▁▁▁▁▁▁▁▁▁▁▂▁▂▁▁</td></tr></table><br/></div><div class=\"wandb-col\"><h3>Run summary:</h3><br/><table class=\"wandb\"><tr><td>loss</td><td>0.01269</td></tr></table><br/></div></div>"
            ]
          },
          "metadata": {}
        },
        {
          "output_type": "display_data",
          "data": {
            "text/plain": [
              "<IPython.core.display.HTML object>"
            ],
            "text/html": [
              "Synced <strong style=\"color:#cdcd00\">MLP</strong>: <a href=\"https://wandb.ai/ahsen/NIDS/runs/1kktsu5c\" target=\"_blank\">https://wandb.ai/ahsen/NIDS/runs/1kktsu5c</a><br/>Synced 5 W&B file(s), 0 media file(s), 0 artifact file(s) and 0 other file(s)"
            ]
          },
          "metadata": {}
        },
        {
          "output_type": "display_data",
          "data": {
            "text/plain": [
              "<IPython.core.display.HTML object>"
            ],
            "text/html": [
              "Find logs at: <code>./wandb/run-20220430_033435-1kktsu5c/logs</code>"
            ]
          },
          "metadata": {}
        },
        {
          "output_type": "display_data",
          "data": {
            "text/plain": [
              "<IPython.core.display.HTML object>"
            ],
            "text/html": [
              "Tracking run with wandb version 0.12.15"
            ]
          },
          "metadata": {}
        },
        {
          "output_type": "display_data",
          "data": {
            "text/plain": [
              "<IPython.core.display.HTML object>"
            ],
            "text/html": [
              "Run data is saved locally in <code>/content/wandb/run-20220430_033702-2awod0mx</code>"
            ]
          },
          "metadata": {}
        },
        {
          "output_type": "display_data",
          "data": {
            "text/plain": [
              "<IPython.core.display.HTML object>"
            ],
            "text/html": [
              "Syncing run <strong><a href=\"https://wandb.ai/ahsen/NIDS/runs/2awod0mx\" target=\"_blank\">MLP</a></strong> to <a href=\"https://wandb.ai/ahsen/NIDS\" target=\"_blank\">Weights & Biases</a> (<a href=\"https://wandb.me/run\" target=\"_blank\">docs</a>)<br/>"
            ]
          },
          "metadata": {}
        },
        {
          "output_type": "stream",
          "name": "stdout",
          "text": [
            "===============================================\n",
            "Batch Size:256\tEpochs:90\tLR:0.1\n",
            "------------------------------------------------\n",
            "Epoch:1  \tLoss:0.0895\t Acc: 0.7569\n",
            "------------------------------------------------\n",
            "Epoch:2  \tLoss:0.0814\t Acc: 0.8072\n",
            "------------------------------------------------\n",
            "Epoch:3  \tLoss:0.0854\t Acc: 0.7918\n",
            "------------------------------------------------\n",
            "Epoch:4  \tLoss:0.0344\t Acc: 0.7712\n",
            "------------------------------------------------\n",
            "Epoch:5  \tLoss:0.0358\t Acc: 0.7829\n",
            "------------------------------------------------\n",
            "Epoch:6  \tLoss:0.0302\t Acc: 0.7599\n",
            "------------------------------------------------\n",
            "Epoch:7  \tLoss:0.0241\t Acc: 0.7617\n",
            "------------------------------------------------\n",
            "Epoch:8  \tLoss:0.0224\t Acc: 0.7692\n",
            "------------------------------------------------\n",
            "Epoch:9  \tLoss:0.0340\t Acc: 0.7918\n",
            "------------------------------------------------\n",
            "Epoch:10  \tLoss:0.0240\t Acc: 0.7686\n",
            "------------------------------------------------\n",
            "Epoch:11  \tLoss:0.0334\t Acc: 0.7936\n",
            "------------------------------------------------\n",
            "Epoch:12  \tLoss:0.0253\t Acc: 0.7813\n",
            "------------------------------------------------\n",
            "Epoch:13  \tLoss:0.0571\t Acc: 0.7899\n",
            "------------------------------------------------\n",
            "Epoch:14  \tLoss:0.0437\t Acc: 0.7740\n",
            "------------------------------------------------\n",
            "Epoch:15  \tLoss:0.0331\t Acc: 0.7701\n",
            "------------------------------------------------\n",
            "Epoch:16  \tLoss:0.0313\t Acc: 0.7319\n",
            "------------------------------------------------\n",
            "Epoch:17  \tLoss:0.0179\t Acc: 0.7767\n",
            "------------------------------------------------\n",
            "Epoch:18  \tLoss:0.0247\t Acc: 0.7695\n",
            "------------------------------------------------\n",
            "Epoch:19  \tLoss:0.0244\t Acc: 0.7739\n",
            "------------------------------------------------\n",
            "Epoch:20  \tLoss:0.0173\t Acc: 0.7693\n",
            "------------------------------------------------\n",
            "Epoch:21  \tLoss:0.0215\t Acc: 0.7756\n",
            "------------------------------------------------\n",
            "Epoch:22  \tLoss:0.0200\t Acc: 0.7797\n",
            "------------------------------------------------\n",
            "Epoch:23  \tLoss:0.0187\t Acc: 0.7729\n",
            "------------------------------------------------\n",
            "Epoch:24  \tLoss:0.0153\t Acc: 0.7767\n",
            "------------------------------------------------\n",
            "Epoch:25  \tLoss:0.0222\t Acc: 0.7743\n",
            "------------------------------------------------\n",
            "Epoch:26  \tLoss:0.0304\t Acc: 0.7695\n",
            "------------------------------------------------\n",
            "Epoch:27  \tLoss:0.0266\t Acc: 0.7646\n",
            "------------------------------------------------\n",
            "Epoch:28  \tLoss:0.0248\t Acc: 0.7591\n",
            "------------------------------------------------\n",
            "Epoch:29  \tLoss:0.0214\t Acc: 0.7873\n",
            "------------------------------------------------\n",
            "Epoch:30  \tLoss:0.1274\t Acc: 0.8092\n",
            "------------------------------------------------\n",
            "Epoch:31  \tLoss:0.0362\t Acc: 0.7698\n",
            "------------------------------------------------\n",
            "Epoch:32  \tLoss:0.0268\t Acc: 0.7696\n",
            "------------------------------------------------\n",
            "Epoch:33  \tLoss:0.0396\t Acc: 0.7794\n",
            "------------------------------------------------\n",
            "Epoch:34  \tLoss:0.0230\t Acc: 0.7870\n",
            "------------------------------------------------\n",
            "Epoch:35  \tLoss:0.0186\t Acc: 0.7848\n",
            "------------------------------------------------\n",
            "Epoch:36  \tLoss:0.0169\t Acc: 0.7898\n",
            "------------------------------------------------\n",
            "Epoch:37  \tLoss:0.0197\t Acc: 0.7711\n",
            "------------------------------------------------\n",
            "Epoch:38  \tLoss:0.0224\t Acc: 0.7821\n",
            "------------------------------------------------\n",
            "Epoch:39  \tLoss:0.0185\t Acc: 0.8089\n",
            "------------------------------------------------\n",
            "Epoch:40  \tLoss:0.0231\t Acc: 0.7855\n",
            "------------------------------------------------\n",
            "Epoch:41  \tLoss:0.0302\t Acc: 0.7933\n",
            "------------------------------------------------\n",
            "Epoch:42  \tLoss:0.0368\t Acc: 0.8030\n",
            "------------------------------------------------\n",
            "Epoch:43  \tLoss:0.0310\t Acc: 0.7922\n",
            "------------------------------------------------\n",
            "Epoch:44  \tLoss:0.0330\t Acc: 0.7749\n",
            "------------------------------------------------\n",
            "Epoch:45  \tLoss:0.0422\t Acc: 0.7917\n",
            "------------------------------------------------\n",
            "Epoch:46  \tLoss:0.0318\t Acc: 0.7750\n",
            "------------------------------------------------\n",
            "Epoch:47  \tLoss:0.0217\t Acc: 0.7753\n",
            "------------------------------------------------\n",
            "Epoch:48  \tLoss:0.0369\t Acc: 0.7326\n",
            "------------------------------------------------\n",
            "Epoch:49  \tLoss:0.0234\t Acc: 0.7681\n",
            "------------------------------------------------\n",
            "Epoch:50  \tLoss:0.0841\t Acc: 0.7023\n",
            "------------------------------------------------\n",
            "Epoch:51  \tLoss:0.0281\t Acc: 0.7739\n",
            "------------------------------------------------\n",
            "Epoch:52  \tLoss:0.0214\t Acc: 0.7881\n",
            "------------------------------------------------\n",
            "Epoch:53  \tLoss:0.0251\t Acc: 0.7808\n",
            "------------------------------------------------\n",
            "Epoch:54  \tLoss:0.0269\t Acc: 0.7928\n",
            "------------------------------------------------\n",
            "Epoch:55  \tLoss:0.0276\t Acc: 0.7796\n",
            "------------------------------------------------\n",
            "Epoch:56  \tLoss:0.0835\t Acc: 0.7233\n",
            "------------------------------------------------\n",
            "Epoch:57  \tLoss:0.0708\t Acc: 0.6388\n",
            "------------------------------------------------\n",
            "Epoch:58  \tLoss:0.0751\t Acc: 0.7925\n",
            "------------------------------------------------\n",
            "Epoch:59  \tLoss:0.0454\t Acc: 0.7770\n",
            "------------------------------------------------\n",
            "Epoch:60  \tLoss:0.0357\t Acc: 0.7856\n",
            "------------------------------------------------\n",
            "Epoch:61  \tLoss:0.0367\t Acc: 0.7877\n",
            "------------------------------------------------\n",
            "Epoch:62  \tLoss:0.0278\t Acc: 0.7980\n",
            "------------------------------------------------\n",
            "Epoch:63  \tLoss:0.0254\t Acc: 0.7755\n",
            "------------------------------------------------\n",
            "Epoch:64  \tLoss:0.0210\t Acc: 0.7922\n",
            "------------------------------------------------\n",
            "Epoch:65  \tLoss:0.0205\t Acc: 0.7980\n",
            "------------------------------------------------\n",
            "Epoch:66  \tLoss:0.0223\t Acc: 0.8046\n",
            "------------------------------------------------\n",
            "Epoch:67  \tLoss:0.0161\t Acc: 0.7974\n",
            "------------------------------------------------\n",
            "Epoch:68  \tLoss:0.0263\t Acc: 0.8003\n",
            "------------------------------------------------\n",
            "Epoch:69  \tLoss:0.0232\t Acc: 0.7760\n",
            "------------------------------------------------\n",
            "Epoch:70  \tLoss:0.0121\t Acc: 0.7845\n",
            "------------------------------------------------\n",
            "Epoch:71  \tLoss:0.0168\t Acc: 0.7991\n",
            "------------------------------------------------\n",
            "Epoch:72  \tLoss:0.0124\t Acc: 0.7869\n",
            "------------------------------------------------\n",
            "Epoch:73  \tLoss:0.0259\t Acc: 0.7765\n",
            "------------------------------------------------\n",
            "Epoch:74  \tLoss:0.0169\t Acc: 0.7980\n",
            "------------------------------------------------\n",
            "Epoch:75  \tLoss:0.0119\t Acc: 0.7922\n",
            "------------------------------------------------\n",
            "Epoch:76  \tLoss:0.0224\t Acc: 0.7847\n",
            "------------------------------------------------\n",
            "Epoch:77  \tLoss:0.0193\t Acc: 0.7858\n",
            "------------------------------------------------\n",
            "Epoch:78  \tLoss:0.0177\t Acc: 0.7874\n",
            "------------------------------------------------\n",
            "Epoch:79  \tLoss:0.0190\t Acc: 0.7900\n",
            "------------------------------------------------\n",
            "Epoch:80  \tLoss:0.0204\t Acc: 0.8045\n",
            "------------------------------------------------\n",
            "Epoch:81  \tLoss:0.0143\t Acc: 0.8022\n",
            "------------------------------------------------\n",
            "Epoch:82  \tLoss:0.0116\t Acc: 0.8042\n",
            "------------------------------------------------\n",
            "Epoch:83  \tLoss:0.0146\t Acc: 0.7817\n",
            "------------------------------------------------\n",
            "Epoch:84  \tLoss:0.0141\t Acc: 0.8059\n",
            "------------------------------------------------\n",
            "Epoch:85  \tLoss:0.0158\t Acc: 0.7903\n",
            "------------------------------------------------\n",
            "Epoch:86  \tLoss:0.0169\t Acc: 0.8078\n",
            "------------------------------------------------\n",
            "Epoch:87  \tLoss:0.0230\t Acc: 0.7801\n",
            "------------------------------------------------\n",
            "Epoch:88  \tLoss:0.0141\t Acc: 0.8070\n",
            "------------------------------------------------\n",
            "Epoch:89  \tLoss:0.0134\t Acc: 0.8156\n",
            "------------------------------------------------\n",
            "Epoch:90  \tLoss:0.0131\t Acc: 0.7926\n",
            "*************************************************\n",
            "Final Score for (B:256, Ep:90, LR:0.1)\n",
            "Acc: 0.7926\n"
          ]
        },
        {
          "output_type": "display_data",
          "data": {
            "text/plain": [
              "<IPython.core.display.HTML object>"
            ],
            "text/html": [
              "Waiting for W&B process to finish... <strong style=\"color:green\">(success).</strong>"
            ]
          },
          "metadata": {}
        },
        {
          "output_type": "display_data",
          "data": {
            "text/plain": [
              "VBox(children=(Label(value='0.001 MB of 0.001 MB uploaded (0.000 MB deduped)\\r'), FloatProgress(value=1.0, max…"
            ],
            "application/vnd.jupyter.widget-view+json": {
              "version_major": 2,
              "version_minor": 0,
              "model_id": "d2876fa8661d477399926135bf734d11"
            }
          },
          "metadata": {}
        },
        {
          "output_type": "display_data",
          "data": {
            "text/plain": [
              "<IPython.core.display.HTML object>"
            ],
            "text/html": [
              "<style>\n",
              "    table.wandb td:nth-child(1) { padding: 0 10px; text-align: right }\n",
              "    .wandb-row { display: flex; flex-direction: row; flex-wrap: wrap; width: 100% }\n",
              "    .wandb-col { display: flex; flex-direction: column; flex-basis: 100%; flex: 1; padding: 10px; }\n",
              "    </style>\n",
              "<div class=\"wandb-row\"><div class=\"wandb-col\"><h3>Run history:</h3><br/><table class=\"wandb\"><tr><td>loss</td><td>▆▅▂▂▂▂▃▂▂▂▁▂▂█▂▁▁▁▂▂▂▂▂▂▂▅▂▂▁▁▂▁▁▂▁▁▁▁▂▁</td></tr></table><br/></div><div class=\"wandb-col\"><h3>Run summary:</h3><br/><table class=\"wandb\"><tr><td>loss</td><td>0.01312</td></tr></table><br/></div></div>"
            ]
          },
          "metadata": {}
        },
        {
          "output_type": "display_data",
          "data": {
            "text/plain": [
              "<IPython.core.display.HTML object>"
            ],
            "text/html": [
              "Synced <strong style=\"color:#cdcd00\">MLP</strong>: <a href=\"https://wandb.ai/ahsen/NIDS/runs/2awod0mx\" target=\"_blank\">https://wandb.ai/ahsen/NIDS/runs/2awod0mx</a><br/>Synced 5 W&B file(s), 0 media file(s), 0 artifact file(s) and 0 other file(s)"
            ]
          },
          "metadata": {}
        },
        {
          "output_type": "display_data",
          "data": {
            "text/plain": [
              "<IPython.core.display.HTML object>"
            ],
            "text/html": [
              "Find logs at: <code>./wandb/run-20220430_033702-2awod0mx/logs</code>"
            ]
          },
          "metadata": {}
        }
      ],
      "source": [
        "grid_scores = []\n",
        "iters = 0\n",
        "#Creating a Grid Search\n",
        "for epochs in epochs_:\n",
        "  for lr in learning_rates:\n",
        "    for batch_size in batch_sizes:\n",
        "      #Model init\n",
        "      pt_train = DataLoader(tensor_dataset, batch_size=batch_size, shuffle=False, drop_last=False)\n",
        "      mlp = MLP().to(device)\n",
        "      criterion = nn.BCELoss()\n",
        "      optimizer = torch.optim.SGD(mlp.parameters(), lr = lr)\n",
        "      \n",
        "      #Training Loop\n",
        "      run = wandb.init(entity='ahsen', project='nids', name=f'MLP_{iters}', reinit=True)\n",
        "      wandb.config[\"lr\"] = lr\n",
        "      wandb.config[\"batch_size\"] = batch_size\n",
        "      wandb.config[\"epochs\"] = epochs\n",
        "      print('===============================================')\n",
        "      print(f\"Batch Size:{batch_size}\\tEpochs:{epochs}\\tLR:{lr}\")\n",
        "      num_epochs = epochs\n",
        "      outputs = []\n",
        "      losses = []\n",
        "      for epoch in range(num_epochs):\n",
        "          for instance, y in pt_train:\n",
        "              output = mlp(instance)\n",
        "              loss = criterion(output, y)\n",
        "              optimizer.zero_grad()\n",
        "              loss.backward()\n",
        "              optimizer.step()\n",
        "          losses.append(loss.item())\n",
        "          acc = validation_accuracy(mlp, X_test, y_test)\n",
        "          wandb.log({'loss':loss.item()})\n",
        "          print('------------------------------------------------')\n",
        "          print(f'Epoch:{epoch+1}  \\tLoss:{loss.item():.4f}\\t Acc: {acc:.4f}')\n",
        "\n",
        "      print(\"*************************************************\")\n",
        "      print(f'Final Score for (B:{batch_size}, Ep:{epochs}, LR:{lr})')\n",
        "      print(f'Acc: {acc:.4f}')\n",
        "      #Save scores\n",
        "      obj = {\n",
        "        \"config\":{\n",
        "          \"learning_rate\": lr,\n",
        "          \"epochs\": epochs,\n",
        "          \"batch_size\": batch_size,\n",
        "          \"acc\": acc,\n",
        "          },\n",
        "        \"weights\": mlp.state_dict()\n",
        "      }\n",
        "      wandb.log({\"acc\" : acc})\n",
        "      run.finish()\n",
        "      grid_scores.append(obj)\n",
        "      iters = iters + 1"
      ],
      "id": "FsOpwkvtch7o"
    },
    {
      "cell_type": "code",
      "source": [
        "highest = 0\n",
        "for i,score in enumerate(grid_scores):\n",
        "  if score['config']['acc'] > grid_scores[highest]['config']['acc']:\n",
        "    highest = i"
      ],
      "metadata": {
        "id": "h9g5Fu0jeduw"
      },
      "id": "h9g5Fu0jeduw",
      "execution_count": null,
      "outputs": []
    },
    {
      "cell_type": "code",
      "source": [
        "end_time = time.time()\n",
        "print(\"=====================================\")\n",
        "print(f'Total time taken: {int(end_time-start_time)} seconds')\n",
        "print(f'Best scores with\\n{grid_scores[highest]['config']}')"
      ],
      "metadata": {
        "colab": {
          "base_uri": "https://localhost:8080/"
        },
        "id": "3OhxAV--dhFC",
        "outputId": "606fe936-2c7c-4f0e-f4b1-f610fca55199"
      },
      "id": "3OhxAV--dhFC",
      "execution_count": null,
      "outputs": [
        {
          "output_type": "stream",
          "name": "stdout",
          "text": [
            "=====================================\n",
            "Total time taken: 4906 seconds\n",
            "Best scores with\n",
            "{'learning_rate': 0.1, 'epochs': 30, 'batch_size': 256, 'acc': 0.80402767920511}\n"
          ]
        }
      ]
    },
    {
      "cell_type": "code",
      "execution_count": null,
      "metadata": {
        "id": "Zh5uq27aGTI8",
        "colab": {
          "base_uri": "https://localhost:8080/",
          "height": 279
        },
        "outputId": "39aecc7e-14cf-40e1-d3cd-beb59ff3f621"
      },
      "outputs": [
        {
          "output_type": "display_data",
          "data": {
            "text/plain": [
              "<Figure size 432x288 with 1 Axes>"
            ],
            "image/png": "[encoded data removed]"
          },
          "metadata": {
            "needs_background": "light"
          }
        }
      ],
      "source": [
        "plt.plot(losses)\n",
        "plt.xlabel(f\"epochs({num_epochs})\")\n",
        "plt.ylabel(f\"loss\")\n",
        "_ = plt.legend(['Loss'])"
      ],
      "id": "Zh5uq27aGTI8"
    },
    {
      "cell_type": "code",
      "execution_count": null,
      "metadata": {
        "id": "Atr62Nq7iRa0"
      },
      "outputs": [],
      "source": [
        "mlp.eval()\n",
        "with torch.no_grad():\n",
        "  #lr_probs = cnn(X_train.view(-1,1,1,41)).detach().squeeze()\n",
        "  lr_probs = mlp(X_test).detach().squeeze()\n",
        "probs = torch.max(lr_probs, dim=1)\n",
        "idxs, scores = probs.indices, probs.values\n",
        "probs = [scores[i].item() if idxs[i]==1 else 1-scores[i].item() for i in range(len(idxs))]\n",
        "preds = torch.argmax(lr_probs, dim=1).cpu()\n",
        "lr_probs = torch.max(lr_probs, dim=1).values\n",
        "probs = np.array(probs)"
      ],
      "id": "Atr62Nq7iRa0"
    },
    {
      "cell_type": "code",
      "source": [
        "suspicious = probs[(probs>0.4) & (probs<0.5)].shape[0]"
      ],
      "metadata": {
        "id": "GZeHbi90iCtj"
      },
      "id": "GZeHbi90iCtj",
      "execution_count": null,
      "outputs": []
    },
    {
      "cell_type": "code",
      "source": [
        "print(f'{suspicious} packets are suspicious')"
      ],
      "metadata": {
        "id": "C4GkaMRFii8V",
        "colab": {
          "base_uri": "https://localhost:8080/"
        },
        "outputId": "0f41949d-16d9-4af4-80cf-84cc33b13121"
      },
      "id": "C4GkaMRFii8V",
      "execution_count": null,
      "outputs": [
        {
          "output_type": "stream",
          "name": "stdout",
          "text": [
            "206 packets are suspicious\n"
          ]
        }
      ]
    },
    {
      "cell_type": "code",
      "execution_count": null,
      "metadata": {
        "id": "fNNdO3CTib7c",
        "colab": {
          "base_uri": "https://localhost:8080/"
        },
        "outputId": "ea581ff7-3f84-40c3-ded1-e6000e68f531"
      },
      "outputs": [
        {
          "output_type": "stream",
          "name": "stdout",
          "text": [
            "Test accuracy is:0.7926\n",
            "Precision: 0.6820\n",
            "Recall: 0.9718\n"
          ]
        }
      ],
      "source": [
        "cm = confusion_matrix(y_test, preds)\n",
        "tn=cm[1][1] #tn\n",
        "fn=cm[0][1] #fn\n",
        "fp=cm[1][0] #fp\n",
        "tp=cm[0][0] #tp\n",
        "acc= (tp+tn)/(tp+tn+fn+fp)\n",
        "epsilon = 1e-7 # is used so that to avoid divide by zero error\n",
        "precision = tp / (tp + fp + epsilon)\n",
        "recall = tp / (tp + fn + epsilon)\n",
        "sensitivity,specificity = tp/(tp+fn),tn/(tn+fp)\n",
        "print(\"Test accuracy is:\"+str(format(acc,'.4f')))\n",
        "print(\"Precision: \"+str(format(precision,'.4f'))+\"\\nRecall: \"+str(format(recall,'.4f')))"
      ],
      "id": "fNNdO3CTib7c"
    },
    {
      "cell_type": "code",
      "execution_count": null,
      "metadata": {
        "id": "QfBgTwTD2fwa",
        "colab": {
          "base_uri": "https://localhost:8080/",
          "height": 593
        },
        "outputId": "84612aeb-15b6-461e-84a8-7cd0e526e979"
      },
      "outputs": [
        {
          "output_type": "display_data",
          "data": {
            "text/plain": [
              "<Figure size 432x288 with 1 Axes>"
            ],
            "image/png": "[encoded data removed]"
          },
          "metadata": {
            "needs_background": "light"
          }
        },
        {
          "output_type": "stream",
          "name": "stdout",
          "text": [
            "F1:\t 78.295%\n",
            "AUC:\t 94.483%\n",
            "Accuracy:79.263%\n"
          ]
        },
        {
          "output_type": "display_data",
          "data": {
            "text/plain": [
              "<Figure size 432x288 with 1 Axes>"
            ],
            "image/png": "[encoded data removed]"
          },
          "metadata": {
            "needs_background": "light"
          }
        }
      ],
      "source": [
        "lr_precision, lr_recall, _ = precision_recall_curve(y_test, probs)\n",
        "lr_f1, lr_auc = f1_score(y_test, preds), auc(lr_recall, lr_precision)\n",
        "no_skill = len(y_test[y_test==0]) / len(y_test)\n",
        "acc = accuracy_score(y_test, preds)\n",
        "plt.plot(lr_recall, lr_precision, marker='.', alpha=0.5)\n",
        "# axis labels\n",
        "plt.xlabel('Recall')\n",
        "plt.ylabel('Precision')\n",
        "\n",
        "# show the plot\n",
        "plt.show()\n",
        "_ = plt.rc('legend', fontsize=18)\n",
        "disp = ConfusionMatrixDisplay(confusion_matrix = cm, display_labels = ['normal', 'malicious'])\n",
        "disp.plot(cmap=\"Blues\", colorbar = False)\n",
        "print(f\"F1:\\t {lr_f1*100:.3f}%\")\n",
        "print(f\"AUC:\\t {lr_auc*100:.3f}%\")\n",
        "print(f\"Accuracy:{acc*100:.3f}%\")"
      ],
      "id": "QfBgTwTD2fwa"
    },
    {
      "cell_type": "code",
      "source": [
        "_ = RocCurveDisplay.from_predictions(y_test,probs)"
      ],
      "metadata": {
        "colab": {
          "base_uri": "https://localhost:8080/",
          "height": 279
        },
        "id": "kGr49iwv08Wz",
        "outputId": "20dd5a3d-5ecc-4010-ace3-02b54bf1e588"
      },
      "id": "kGr49iwv08Wz",
      "execution_count": null,
      "outputs": [
        {
          "output_type": "display_data",
          "data": {
            "text/plain": [
              "<Figure size 432x288 with 1 Axes>"
            ],
            "image/png": "[encoded data removed]"
          },
          "metadata": {
            "needs_background": "light"
          }
        }
      ]
    },
    {
      "cell_type": "code",
      "source": [
        "wandb.finish()"
      ],
      "metadata": {
        "id": "jVzohgro3Cos"
      },
      "id": "jVzohgro3Cos",
      "execution_count": null,
      "outputs": []
    },
    {
      "cell_type": "code",
      "execution_count": null,
      "metadata": {
        "id": "kx_A6hMbCC1P"
      },
      "outputs": [],
      "source": [
        "torch.save(mlp.state_dict(), 'mlp.pt')"
      ],
      "id": "kx_A6hMbCC1P"
    }
  ],
  "metadata": {
    "colab": {
      "collapsed_sections": [],
      "name": "MLP.ipynb",
      "provenance": []
    },
    "kernelspec": {
      "display_name": "Python 3 (ipykernel)",
      "language": "python",
      "name": "python3"
    },
    "language_info": {
      "codemirror_mode": {
        "name": "ipython",
        "version": 3
      },
      "file_extension": ".py",
      "mimetype": "text/x-python",
      "name": "python",
      "nbconvert_exporter": "python",
      "pygments_lexer": "ipython3",
      "version": "3.8.10"
    },
    "widgets": {
      "application/vnd.jupyter.widget-state+json": {
        "f48361671a904525a38d70a61f22b21e": {
          "model_module": "@jupyter-widgets/controls",
          "model_name": "VBoxModel",
          "model_module_version": "1.5.0",
          "state": {
            "_dom_classes": [],
            "_model_module": "@jupyter-widgets/controls",
            "_model_module_version": "1.5.0",
            "_model_name": "VBoxModel",
            "_view_count": null,
            "_view_module": "@jupyter-widgets/controls",
            "_view_module_version": "1.5.0",
            "_view_name": "VBoxView",
            "box_style": "",
            "children": [
              "IPY_MODEL_ae8af7dfe2224d19a32eab2b3e228acd",
              "IPY_MODEL_152337cbf9784186b93a47f57638cff5"
            ],
            "layout": "IPY_MODEL_9d8c032f851a495a9838838fb44a35ed"
          }
        },
        "ae8af7dfe2224d19a32eab2b3e228acd": {
          "model_module": "@jupyter-widgets/controls",
          "model_name": "LabelModel",
          "model_module_version": "1.5.0",
          "state": {
            "_dom_classes": [],
            "_model_module": "@jupyter-widgets/controls",
            "_model_module_version": "1.5.0",
            "_model_name": "LabelModel",
            "_view_count": null,
            "_view_module": "@jupyter-widgets/controls",
            "_view_module_version": "1.5.0",
            "_view_name": "LabelView",
            "description": "",
            "description_tooltip": null,
            "layout": "IPY_MODEL_e2eeacc9ef374c109525e465350ac589",
            "placeholder": "​",
            "style": "IPY_MODEL_ab9a7c44c9274bc0b9861fea24afd968",
            "value": "0.009 MB of 0.009 MB uploaded (0.000 MB deduped)\r"
          }
        },
        "152337cbf9784186b93a47f57638cff5": {
          "model_module": "@jupyter-widgets/controls",
          "model_name": "FloatProgressModel",
          "model_module_version": "1.5.0",
          "state": {
            "_dom_classes": [],
            "_model_module": "@jupyter-widgets/controls",
            "_model_module_version": "1.5.0",
            "_model_name": "FloatProgressModel",
            "_view_count": null,
            "_view_module": "@jupyter-widgets/controls",
            "_view_module_version": "1.5.0",
            "_view_name": "ProgressView",
            "bar_style": "",
            "description": "",
            "description_tooltip": null,
            "layout": "IPY_MODEL_dc7a863e291745c1ab9e8bb1a90ee2cc",
            "max": 1,
            "min": 0,
            "orientation": "horizontal",
            "style": "IPY_MODEL_feafe859cb294ca49ccd0ba443db30b3",
            "value": 1
          }
        },
        "9d8c032f851a495a9838838fb44a35ed": {
          "model_module": "@jupyter-widgets/base",
          "model_name": "LayoutModel",
          "model_module_version": "1.2.0",
          "state": {
            "_model_module": "@jupyter-widgets/base",
            "_model_module_version": "1.2.0",
            "_model_name": "LayoutModel",
            "_view_count": null,
            "_view_module": "@jupyter-widgets/base",
            "_view_module_version": "1.2.0",
            "_view_name": "LayoutView",
            "align_content": null,
            "align_items": null,
            "align_self": null,
            "border": null,
            "bottom": null,
            "display": null,
            "flex": null,
            "flex_flow": null,
            "grid_area": null,
            "grid_auto_columns": null,
            "grid_auto_flow": null,
            "grid_auto_rows": null,
            "grid_column": null,
            "grid_gap": null,
            "grid_row": null,
            "grid_template_areas": null,
            "grid_template_columns": null,
            "grid_template_rows": null,
            "height": null,
            "justify_content": null,
            "justify_items": null,
            "left": null,
            "margin": null,
            "max_height": null,
            "max_width": null,
            "min_height": null,
            "min_width": null,
            "object_fit": null,
            "object_position": null,
            "order": null,
            "overflow": null,
            "overflow_x": null,
            "overflow_y": null,
            "padding": null,
            "right": null,
            "top": null,
            "visibility": null,
            "width": null
          }
        },
        "e2eeacc9ef374c109525e465350ac589": {
          "model_module": "@jupyter-widgets/base",
          "model_name": "LayoutModel",
          "model_module_version": "1.2.0",
          "state": {
            "_model_module": "@jupyter-widgets/base",
            "_model_module_version": "1.2.0",
            "_model_name": "LayoutModel",
            "_view_count": null,
            "_view_module": "@jupyter-widgets/base",
            "_view_module_version": "1.2.0",
            "_view_name": "LayoutView",
            "align_content": null,
            "align_items": null,
            "align_self": null,
            "border": null,
            "bottom": null,
            "display": null,
            "flex": null,
            "flex_flow": null,
            "grid_area": null,
            "grid_auto_columns": null,
            "grid_auto_flow": null,
            "grid_auto_rows": null,
            "grid_column": null,
            "grid_gap": null,
            "grid_row": null,
            "grid_template_areas": null,
            "grid_template_columns": null,
            "grid_template_rows": null,
            "height": null,
            "justify_content": null,
            "justify_items": null,
            "left": null,
            "margin": null,
            "max_height": null,
            "max_width": null,
            "min_height": null,
            "min_width": null,
            "object_fit": null,
            "object_position": null,
            "order": null,
            "overflow": null,
            "overflow_x": null,
            "overflow_y": null,
            "padding": null,
            "right": null,
            "top": null,
            "visibility": null,
            "width": null
          }
        },
        "ab9a7c44c9274bc0b9861fea24afd968": {
          "model_module": "@jupyter-widgets/controls",
          "model_name": "DescriptionStyleModel",
          "model_module_version": "1.5.0",
          "state": {
            "_model_module": "@jupyter-widgets/controls",
            "_model_module_version": "1.5.0",
            "_model_name": "DescriptionStyleModel",
            "_view_count": null,
            "_view_module": "@jupyter-widgets/base",
            "_view_module_version": "1.2.0",
            "_view_name": "StyleView",
            "description_width": ""
          }
        },
        "dc7a863e291745c1ab9e8bb1a90ee2cc": {
          "model_module": "@jupyter-widgets/base",
          "model_name": "LayoutModel",
          "model_module_version": "1.2.0",
          "state": {
            "_model_module": "@jupyter-widgets/base",
            "_model_module_version": "1.2.0",
            "_model_name": "LayoutModel",
            "_view_count": null,
            "_view_module": "@jupyter-widgets/base",
            "_view_module_version": "1.2.0",
            "_view_name": "LayoutView",
            "align_content": null,
            "align_items": null,
            "align_self": null,
            "border": null,
            "bottom": null,
            "display": null,
            "flex": null,
            "flex_flow": null,
            "grid_area": null,
            "grid_auto_columns": null,
            "grid_auto_flow": null,
            "grid_auto_rows": null,
            "grid_column": null,
            "grid_gap": null,
            "grid_row": null,
            "grid_template_areas": null,
            "grid_template_columns": null,
            "grid_template_rows": null,
            "height": null,
            "justify_content": null,
            "justify_items": null,
            "left": null,
            "margin": null,
            "max_height": null,
            "max_width": null,
            "min_height": null,
            "min_width": null,
            "object_fit": null,
            "object_position": null,
            "order": null,
            "overflow": null,
            "overflow_x": null,
            "overflow_y": null,
            "padding": null,
            "right": null,
            "top": null,
            "visibility": null,
            "width": null
          }
        },
        "feafe859cb294ca49ccd0ba443db30b3": {
          "model_module": "@jupyter-widgets/controls",
          "model_name": "ProgressStyleModel",
          "model_module_version": "1.5.0",
          "state": {
            "_model_module": "@jupyter-widgets/controls",
            "_model_module_version": "1.5.0",
            "_model_name": "ProgressStyleModel",
            "_view_count": null,
            "_view_module": "@jupyter-widgets/base",
            "_view_module_version": "1.2.0",
            "_view_name": "StyleView",
            "bar_color": null,
            "description_width": ""
          }
        },
        "d960205b08a94a9292a6b6fd2097403a": {
          "model_module": "@jupyter-widgets/controls",
          "model_name": "VBoxModel",
          "model_module_version": "1.5.0",
          "state": {
            "_dom_classes": [],
            "_model_module": "@jupyter-widgets/controls",
            "_model_module_version": "1.5.0",
            "_model_name": "VBoxModel",
            "_view_count": null,
            "_view_module": "@jupyter-widgets/controls",
            "_view_module_version": "1.5.0",
            "_view_name": "VBoxView",
            "box_style": "",
            "children": [
              "IPY_MODEL_7e380940288e4c4788b5ca663c525308",
              "IPY_MODEL_8c3042d1e66646f48ac4510d2d7d6585"
            ],
            "layout": "IPY_MODEL_de098466bc294b07bcade6a7ab04f449"
          }
        },
        "7e380940288e4c4788b5ca663c525308": {
          "model_module": "@jupyter-widgets/controls",
          "model_name": "LabelModel",
          "model_module_version": "1.5.0",
          "state": {
            "_dom_classes": [],
            "_model_module": "@jupyter-widgets/controls",
            "_model_module_version": "1.5.0",
            "_model_name": "LabelModel",
            "_view_count": null,
            "_view_module": "@jupyter-widgets/controls",
            "_view_module_version": "1.5.0",
            "_view_name": "LabelView",
            "description": "",
            "description_tooltip": null,
            "layout": "IPY_MODEL_d21771fe35ca441ba506b9c9bf45eb99",
            "placeholder": "​",
            "style": "IPY_MODEL_7dbed50b624a435fa38378a0f1f7dbf5",
            "value": "0.011 MB of 0.011 MB uploaded (0.000 MB deduped)\r"
          }
        },
        "8c3042d1e66646f48ac4510d2d7d6585": {
          "model_module": "@jupyter-widgets/controls",
          "model_name": "FloatProgressModel",
          "model_module_version": "1.5.0",
          "state": {
            "_dom_classes": [],
            "_model_module": "@jupyter-widgets/controls",
            "_model_module_version": "1.5.0",
            "_model_name": "FloatProgressModel",
            "_view_count": null,
            "_view_module": "@jupyter-widgets/controls",
            "_view_module_version": "1.5.0",
            "_view_name": "ProgressView",
            "bar_style": "",
            "description": "",
            "description_tooltip": null,
            "layout": "IPY_MODEL_97fadfebdc0d4b81b99c466c5bb7d95a",
            "max": 1,
            "min": 0,
            "orientation": "horizontal",
            "style": "IPY_MODEL_c38651a3ed3e4b1da478dce3ef9dce44",
            "value": 1
          }
        },
        "de098466bc294b07bcade6a7ab04f449": {
          "model_module": "@jupyter-widgets/base",
          "model_name": "LayoutModel",
          "model_module_version": "1.2.0",
          "state": {
            "_model_module": "@jupyter-widgets/base",
            "_model_module_version": "1.2.0",
            "_model_name": "LayoutModel",
            "_view_count": null,
            "_view_module": "@jupyter-widgets/base",
            "_view_module_version": "1.2.0",
            "_view_name": "LayoutView",
            "align_content": null,
            "align_items": null,
            "align_self": null,
            "border": null,
            "bottom": null,
            "display": null,
            "flex": null,
            "flex_flow": null,
            "grid_area": null,
            "grid_auto_columns": null,
            "grid_auto_flow": null,
            "grid_auto_rows": null,
            "grid_column": null,
            "grid_gap": null,
            "grid_row": null,
            "grid_template_areas": null,
            "grid_template_columns": null,
            "grid_template_rows": null,
            "height": null,
            "justify_content": null,
            "justify_items": null,
            "left": null,
            "margin": null,
            "max_height": null,
            "max_width": null,
            "min_height": null,
            "min_width": null,
            "object_fit": null,
            "object_position": null,
            "order": null,
            "overflow": null,
            "overflow_x": null,
            "overflow_y": null,
            "padding": null,
            "right": null,
            "top": null,
            "visibility": null,
            "width": null
          }
        },
        "d21771fe35ca441ba506b9c9bf45eb99": {
          "model_module": "@jupyter-widgets/base",
          "model_name": "LayoutModel",
          "model_module_version": "1.2.0",
          "state": {
            "_model_module": "@jupyter-widgets/base",
            "_model_module_version": "1.2.0",
            "_model_name": "LayoutModel",
            "_view_count": null,
            "_view_module": "@jupyter-widgets/base",
            "_view_module_version": "1.2.0",
            "_view_name": "LayoutView",
            "align_content": null,
            "align_items": null,
            "align_self": null,
            "border": null,
            "bottom": null,
            "display": null,
            "flex": null,
            "flex_flow": null,
            "grid_area": null,
            "grid_auto_columns": null,
            "grid_auto_flow": null,
            "grid_auto_rows": null,
            "grid_column": null,
            "grid_gap": null,
            "grid_row": null,
            "grid_template_areas": null,
            "grid_template_columns": null,
            "grid_template_rows": null,
            "height": null,
            "justify_content": null,
            "justify_items": null,
            "left": null,
            "margin": null,
            "max_height": null,
            "max_width": null,
            "min_height": null,
            "min_width": null,
            "object_fit": null,
            "object_position": null,
            "order": null,
            "overflow": null,
            "overflow_x": null,
            "overflow_y": null,
            "padding": null,
            "right": null,
            "top": null,
            "visibility": null,
            "width": null
          }
        },
        "7dbed50b624a435fa38378a0f1f7dbf5": {
          "model_module": "@jupyter-widgets/controls",
          "model_name": "DescriptionStyleModel",
          "model_module_version": "1.5.0",
          "state": {
            "_model_module": "@jupyter-widgets/controls",
            "_model_module_version": "1.5.0",
            "_model_name": "DescriptionStyleModel",
            "_view_count": null,
            "_view_module": "@jupyter-widgets/base",
            "_view_module_version": "1.2.0",
            "_view_name": "StyleView",
            "description_width": ""
          }
        },
        "97fadfebdc0d4b81b99c466c5bb7d95a": {
          "model_module": "@jupyter-widgets/base",
          "model_name": "LayoutModel",
          "model_module_version": "1.2.0",
          "state": {
            "_model_module": "@jupyter-widgets/base",
            "_model_module_version": "1.2.0",
            "_model_name": "LayoutModel",
            "_view_count": null,
            "_view_module": "@jupyter-widgets/base",
            "_view_module_version": "1.2.0",
            "_view_name": "LayoutView",
            "align_content": null,
            "align_items": null,
            "align_self": null,
            "border": null,
            "bottom": null,
            "display": null,
            "flex": null,
            "flex_flow": null,
            "grid_area": null,
            "grid_auto_columns": null,
            "grid_auto_flow": null,
            "grid_auto_rows": null,
            "grid_column": null,
            "grid_gap": null,
            "grid_row": null,
            "grid_template_areas": null,
            "grid_template_columns": null,
            "grid_template_rows": null,
            "height": null,
            "justify_content": null,
            "justify_items": null,
            "left": null,
            "margin": null,
            "max_height": null,
            "max_width": null,
            "min_height": null,
            "min_width": null,
            "object_fit": null,
            "object_position": null,
            "order": null,
            "overflow": null,
            "overflow_x": null,
            "overflow_y": null,
            "padding": null,
            "right": null,
            "top": null,
            "visibility": null,
            "width": null
          }
        },
        "c38651a3ed3e4b1da478dce3ef9dce44": {
          "model_module": "@jupyter-widgets/controls",
          "model_name": "ProgressStyleModel",
          "model_module_version": "1.5.0",
          "state": {
            "_model_module": "@jupyter-widgets/controls",
            "_model_module_version": "1.5.0",
            "_model_name": "ProgressStyleModel",
            "_view_count": null,
            "_view_module": "@jupyter-widgets/base",
            "_view_module_version": "1.2.0",
            "_view_name": "StyleView",
            "bar_color": null,
            "description_width": ""
          }
        },
        "3934683ae180462c8bfe309be0b95289": {
          "model_module": "@jupyter-widgets/controls",
          "model_name": "VBoxModel",
          "model_module_version": "1.5.0",
          "state": {
            "_dom_classes": [],
            "_model_module": "@jupyter-widgets/controls",
            "_model_module_version": "1.5.0",
            "_model_name": "VBoxModel",
            "_view_count": null,
            "_view_module": "@jupyter-widgets/controls",
            "_view_module_version": "1.5.0",
            "_view_name": "VBoxView",
            "box_style": "",
            "children": [
              "IPY_MODEL_1718a501eb5244bbbc274b3c417c154d",
              "IPY_MODEL_5b810428be624301ba632e2214b2220f"
            ],
            "layout": "IPY_MODEL_6527c576e593434389537fda283c6c70"
          }
        },
        "1718a501eb5244bbbc274b3c417c154d": {
          "model_module": "@jupyter-widgets/controls",
          "model_name": "LabelModel",
          "model_module_version": "1.5.0",
          "state": {
            "_dom_classes": [],
            "_model_module": "@jupyter-widgets/controls",
            "_model_module_version": "1.5.0",
            "_model_name": "LabelModel",
            "_view_count": null,
            "_view_module": "@jupyter-widgets/controls",
            "_view_module_version": "1.5.0",
            "_view_name": "LabelView",
            "description": "",
            "description_tooltip": null,
            "layout": "IPY_MODEL_1563b1ff8d0b4d40b41744853ef67b37",
            "placeholder": "​",
            "style": "IPY_MODEL_78a98136fe504c2186311874085a71be",
            "value": "0.011 MB of 0.011 MB uploaded (0.000 MB deduped)\r"
          }
        },
        "5b810428be624301ba632e2214b2220f": {
          "model_module": "@jupyter-widgets/controls",
          "model_name": "FloatProgressModel",
          "model_module_version": "1.5.0",
          "state": {
            "_dom_classes": [],
            "_model_module": "@jupyter-widgets/controls",
            "_model_module_version": "1.5.0",
            "_model_name": "FloatProgressModel",
            "_view_count": null,
            "_view_module": "@jupyter-widgets/controls",
            "_view_module_version": "1.5.0",
            "_view_name": "ProgressView",
            "bar_style": "",
            "description": "",
            "description_tooltip": null,
            "layout": "IPY_MODEL_5ab7e3a7151044ebaf88cd705495e49b",
            "max": 1,
            "min": 0,
            "orientation": "horizontal",
            "style": "IPY_MODEL_6bb279ca35b948f9ab5e3649e83927d7",
            "value": 1
          }
        },
        "6527c576e593434389537fda283c6c70": {
          "model_module": "@jupyter-widgets/base",
          "model_name": "LayoutModel",
          "model_module_version": "1.2.0",
          "state": {
            "_model_module": "@jupyter-widgets/base",
            "_model_module_version": "1.2.0",
            "_model_name": "LayoutModel",
            "_view_count": null,
            "_view_module": "@jupyter-widgets/base",
            "_view_module_version": "1.2.0",
            "_view_name": "LayoutView",
            "align_content": null,
            "align_items": null,
            "align_self": null,
            "border": null,
            "bottom": null,
            "display": null,
            "flex": null,
            "flex_flow": null,
            "grid_area": null,
            "grid_auto_columns": null,
            "grid_auto_flow": null,
            "grid_auto_rows": null,
            "grid_column": null,
            "grid_gap": null,
            "grid_row": null,
            "grid_template_areas": null,
            "grid_template_columns": null,
            "grid_template_rows": null,
            "height": null,
            "justify_content": null,
            "justify_items": null,
            "left": null,
            "margin": null,
            "max_height": null,
            "max_width": null,
            "min_height": null,
            "min_width": null,
            "object_fit": null,
            "object_position": null,
            "order": null,
            "overflow": null,
            "overflow_x": null,
            "overflow_y": null,
            "padding": null,
            "right": null,
            "top": null,
            "visibility": null,
            "width": null
          }
        },
        "1563b1ff8d0b4d40b41744853ef67b37": {
          "model_module": "@jupyter-widgets/base",
          "model_name": "LayoutModel",
          "model_module_version": "1.2.0",
          "state": {
            "_model_module": "@jupyter-widgets/base",
            "_model_module_version": "1.2.0",
            "_model_name": "LayoutModel",
            "_view_count": null,
            "_view_module": "@jupyter-widgets/base",
            "_view_module_version": "1.2.0",
            "_view_name": "LayoutView",
            "align_content": null,
            "align_items": null,
            "align_self": null,
            "border": null,
            "bottom": null,
            "display": null,
            "flex": null,
            "flex_flow": null,
            "grid_area": null,
            "grid_auto_columns": null,
            "grid_auto_flow": null,
            "grid_auto_rows": null,
            "grid_column": null,
            "grid_gap": null,
            "grid_row": null,
            "grid_template_areas": null,
            "grid_template_columns": null,
            "grid_template_rows": null,
            "height": null,
            "justify_content": null,
            "justify_items": null,
            "left": null,
            "margin": null,
            "max_height": null,
            "max_width": null,
            "min_height": null,
            "min_width": null,
            "object_fit": null,
            "object_position": null,
            "order": null,
            "overflow": null,
            "overflow_x": null,
            "overflow_y": null,
            "padding": null,
            "right": null,
            "top": null,
            "visibility": null,
            "width": null
          }
        },
        "78a98136fe504c2186311874085a71be": {
          "model_module": "@jupyter-widgets/controls",
          "model_name": "DescriptionStyleModel",
          "model_module_version": "1.5.0",
          "state": {
            "_model_module": "@jupyter-widgets/controls",
            "_model_module_version": "1.5.0",
            "_model_name": "DescriptionStyleModel",
            "_view_count": null,
            "_view_module": "@jupyter-widgets/base",
            "_view_module_version": "1.2.0",
            "_view_name": "StyleView",
            "description_width": ""
          }
        },
        "5ab7e3a7151044ebaf88cd705495e49b": {
          "model_module": "@jupyter-widgets/base",
          "model_name": "LayoutModel",
          "model_module_version": "1.2.0",
          "state": {
            "_model_module": "@jupyter-widgets/base",
            "_model_module_version": "1.2.0",
            "_model_name": "LayoutModel",
            "_view_count": null,
            "_view_module": "@jupyter-widgets/base",
            "_view_module_version": "1.2.0",
            "_view_name": "LayoutView",
            "align_content": null,
            "align_items": null,
            "align_self": null,
            "border": null,
            "bottom": null,
            "display": null,
            "flex": null,
            "flex_flow": null,
            "grid_area": null,
            "grid_auto_columns": null,
            "grid_auto_flow": null,
            "grid_auto_rows": null,
            "grid_column": null,
            "grid_gap": null,
            "grid_row": null,
            "grid_template_areas": null,
            "grid_template_columns": null,
            "grid_template_rows": null,
            "height": null,
            "justify_content": null,
            "justify_items": null,
            "left": null,
            "margin": null,
            "max_height": null,
            "max_width": null,
            "min_height": null,
            "min_width": null,
            "object_fit": null,
            "object_position": null,
            "order": null,
            "overflow": null,
            "overflow_x": null,
            "overflow_y": null,
            "padding": null,
            "right": null,
            "top": null,
            "visibility": null,
            "width": null
          }
        },
        "6bb279ca35b948f9ab5e3649e83927d7": {
          "model_module": "@jupyter-widgets/controls",
          "model_name": "ProgressStyleModel",
          "model_module_version": "1.5.0",
          "state": {
            "_model_module": "@jupyter-widgets/controls",
            "_model_module_version": "1.5.0",
            "_model_name": "ProgressStyleModel",
            "_view_count": null,
            "_view_module": "@jupyter-widgets/base",
            "_view_module_version": "1.2.0",
            "_view_name": "StyleView",
            "bar_color": null,
            "description_width": ""
          }
        },
        "577a40e7378d46488ce6f65c9ff5514f": {
          "model_module": "@jupyter-widgets/controls",
          "model_name": "VBoxModel",
          "model_module_version": "1.5.0",
          "state": {
            "_dom_classes": [],
            "_model_module": "@jupyter-widgets/controls",
            "_model_module_version": "1.5.0",
            "_model_name": "VBoxModel",
            "_view_count": null,
            "_view_module": "@jupyter-widgets/controls",
            "_view_module_version": "1.5.0",
            "_view_name": "VBoxView",
            "box_style": "",
            "children": [
              "IPY_MODEL_1c76b54fd2dd41d59361f3cd5bcb9034",
              "IPY_MODEL_4264874a274e44c4a4a8bf8d4a9c000e"
            ],
            "layout": "IPY_MODEL_fafa7daa19394b82adff117aa41f1bc5"
          }
        },
        "1c76b54fd2dd41d59361f3cd5bcb9034": {
          "model_module": "@jupyter-widgets/controls",
          "model_name": "LabelModel",
          "model_module_version": "1.5.0",
          "state": {
            "_dom_classes": [],
            "_model_module": "@jupyter-widgets/controls",
            "_model_module_version": "1.5.0",
            "_model_name": "LabelModel",
            "_view_count": null,
            "_view_module": "@jupyter-widgets/controls",
            "_view_module_version": "1.5.0",
            "_view_name": "LabelView",
            "description": "",
            "description_tooltip": null,
            "layout": "IPY_MODEL_61af136da77c47f3b31cb97cabb7574c",
            "placeholder": "​",
            "style": "IPY_MODEL_1b724737984d4c8b8e9b3c7c9f674ab4",
            "value": "0.011 MB of 0.011 MB uploaded (0.000 MB deduped)\r"
          }
        },
        "4264874a274e44c4a4a8bf8d4a9c000e": {
          "model_module": "@jupyter-widgets/controls",
          "model_name": "FloatProgressModel",
          "model_module_version": "1.5.0",
          "state": {
            "_dom_classes": [],
            "_model_module": "@jupyter-widgets/controls",
            "_model_module_version": "1.5.0",
            "_model_name": "FloatProgressModel",
            "_view_count": null,
            "_view_module": "@jupyter-widgets/controls",
            "_view_module_version": "1.5.0",
            "_view_name": "ProgressView",
            "bar_style": "",
            "description": "",
            "description_tooltip": null,
            "layout": "IPY_MODEL_3cc0116460c0489ab0ebc57c41cd60b2",
            "max": 1,
            "min": 0,
            "orientation": "horizontal",
            "style": "IPY_MODEL_ceeb86f89d6745b59008ac13b24cbdd3",
            "value": 1
          }
        },
        "fafa7daa19394b82adff117aa41f1bc5": {
          "model_module": "@jupyter-widgets/base",
          "model_name": "LayoutModel",
          "model_module_version": "1.2.0",
          "state": {
            "_model_module": "@jupyter-widgets/base",
            "_model_module_version": "1.2.0",
            "_model_name": "LayoutModel",
            "_view_count": null,
            "_view_module": "@jupyter-widgets/base",
            "_view_module_version": "1.2.0",
            "_view_name": "LayoutView",
            "align_content": null,
            "align_items": null,
            "align_self": null,
            "border": null,
            "bottom": null,
            "display": null,
            "flex": null,
            "flex_flow": null,
            "grid_area": null,
            "grid_auto_columns": null,
            "grid_auto_flow": null,
            "grid_auto_rows": null,
            "grid_column": null,
            "grid_gap": null,
            "grid_row": null,
            "grid_template_areas": null,
            "grid_template_columns": null,
            "grid_template_rows": null,
            "height": null,
            "justify_content": null,
            "justify_items": null,
            "left": null,
            "margin": null,
            "max_height": null,
            "max_width": null,
            "min_height": null,
            "min_width": null,
            "object_fit": null,
            "object_position": null,
            "order": null,
            "overflow": null,
            "overflow_x": null,
            "overflow_y": null,
            "padding": null,
            "right": null,
            "top": null,
            "visibility": null,
            "width": null
          }
        },
        "61af136da77c47f3b31cb97cabb7574c": {
          "model_module": "@jupyter-widgets/base",
          "model_name": "LayoutModel",
          "model_module_version": "1.2.0",
          "state": {
            "_model_module": "@jupyter-widgets/base",
            "_model_module_version": "1.2.0",
            "_model_name": "LayoutModel",
            "_view_count": null,
            "_view_module": "@jupyter-widgets/base",
            "_view_module_version": "1.2.0",
            "_view_name": "LayoutView",
            "align_content": null,
            "align_items": null,
            "align_self": null,
            "border": null,
            "bottom": null,
            "display": null,
            "flex": null,
            "flex_flow": null,
            "grid_area": null,
            "grid_auto_columns": null,
            "grid_auto_flow": null,
            "grid_auto_rows": null,
            "grid_column": null,
            "grid_gap": null,
            "grid_row": null,
            "grid_template_areas": null,
            "grid_template_columns": null,
            "grid_template_rows": null,
            "height": null,
            "justify_content": null,
            "justify_items": null,
            "left": null,
            "margin": null,
            "max_height": null,
            "max_width": null,
            "min_height": null,
            "min_width": null,
            "object_fit": null,
            "object_position": null,
            "order": null,
            "overflow": null,
            "overflow_x": null,
            "overflow_y": null,
            "padding": null,
            "right": null,
            "top": null,
            "visibility": null,
            "width": null
          }
        },
        "1b724737984d4c8b8e9b3c7c9f674ab4": {
          "model_module": "@jupyter-widgets/controls",
          "model_name": "DescriptionStyleModel",
          "model_module_version": "1.5.0",
          "state": {
            "_model_module": "@jupyter-widgets/controls",
            "_model_module_version": "1.5.0",
            "_model_name": "DescriptionStyleModel",
            "_view_count": null,
            "_view_module": "@jupyter-widgets/base",
            "_view_module_version": "1.2.0",
            "_view_name": "StyleView",
            "description_width": ""
          }
        },
        "3cc0116460c0489ab0ebc57c41cd60b2": {
          "model_module": "@jupyter-widgets/base",
          "model_name": "LayoutModel",
          "model_module_version": "1.2.0",
          "state": {
            "_model_module": "@jupyter-widgets/base",
            "_model_module_version": "1.2.0",
            "_model_name": "LayoutModel",
            "_view_count": null,
            "_view_module": "@jupyter-widgets/base",
            "_view_module_version": "1.2.0",
            "_view_name": "LayoutView",
            "align_content": null,
            "align_items": null,
            "align_self": null,
            "border": null,
            "bottom": null,
            "display": null,
            "flex": null,
            "flex_flow": null,
            "grid_area": null,
            "grid_auto_columns": null,
            "grid_auto_flow": null,
            "grid_auto_rows": null,
            "grid_column": null,
            "grid_gap": null,
            "grid_row": null,
            "grid_template_areas": null,
            "grid_template_columns": null,
            "grid_template_rows": null,
            "height": null,
            "justify_content": null,
            "justify_items": null,
            "left": null,
            "margin": null,
            "max_height": null,
            "max_width": null,
            "min_height": null,
            "min_width": null,
            "object_fit": null,
            "object_position": null,
            "order": null,
            "overflow": null,
            "overflow_x": null,
            "overflow_y": null,
            "padding": null,
            "right": null,
            "top": null,
            "visibility": null,
            "width": null
          }
        },
        "ceeb86f89d6745b59008ac13b24cbdd3": {
          "model_module": "@jupyter-widgets/controls",
          "model_name": "ProgressStyleModel",
          "model_module_version": "1.5.0",
          "state": {
            "_model_module": "@jupyter-widgets/controls",
            "_model_module_version": "1.5.0",
            "_model_name": "ProgressStyleModel",
            "_view_count": null,
            "_view_module": "@jupyter-widgets/base",
            "_view_module_version": "1.2.0",
            "_view_name": "StyleView",
            "bar_color": null,
            "description_width": ""
          }
        },
        "4333c37aa94d4a9bb50cd032b4eee64a": {
          "model_module": "@jupyter-widgets/controls",
          "model_name": "VBoxModel",
          "model_module_version": "1.5.0",
          "state": {
            "_dom_classes": [],
            "_model_module": "@jupyter-widgets/controls",
            "_model_module_version": "1.5.0",
            "_model_name": "VBoxModel",
            "_view_count": null,
            "_view_module": "@jupyter-widgets/controls",
            "_view_module_version": "1.5.0",
            "_view_name": "VBoxView",
            "box_style": "",
            "children": [
              "IPY_MODEL_4a97bb95169c41f185e4985a7caa8cd6",
              "IPY_MODEL_bf826fdc1b474f8fadd051754a334983"
            ],
            "layout": "IPY_MODEL_355335356a024a0e83a7d9fcd87f4f21"
          }
        },
        "4a97bb95169c41f185e4985a7caa8cd6": {
          "model_module": "@jupyter-widgets/controls",
          "model_name": "LabelModel",
          "model_module_version": "1.5.0",
          "state": {
            "_dom_classes": [],
            "_model_module": "@jupyter-widgets/controls",
            "_model_module_version": "1.5.0",
            "_model_name": "LabelModel",
            "_view_count": null,
            "_view_module": "@jupyter-widgets/controls",
            "_view_module_version": "1.5.0",
            "_view_name": "LabelView",
            "description": "",
            "description_tooltip": null,
            "layout": "IPY_MODEL_2e97f62e965f4c9cab2dcafa704f263d",
            "placeholder": "​",
            "style": "IPY_MODEL_2a77bb46ede74db189b2257578b878bb",
            "value": "0.011 MB of 0.011 MB uploaded (0.000 MB deduped)\r"
          }
        },
        "bf826fdc1b474f8fadd051754a334983": {
          "model_module": "@jupyter-widgets/controls",
          "model_name": "FloatProgressModel",
          "model_module_version": "1.5.0",
          "state": {
            "_dom_classes": [],
            "_model_module": "@jupyter-widgets/controls",
            "_model_module_version": "1.5.0",
            "_model_name": "FloatProgressModel",
            "_view_count": null,
            "_view_module": "@jupyter-widgets/controls",
            "_view_module_version": "1.5.0",
            "_view_name": "ProgressView",
            "bar_style": "",
            "description": "",
            "description_tooltip": null,
            "layout": "IPY_MODEL_1b0d0fb69edf4a62a40fb5f06efb0540",
            "max": 1,
            "min": 0,
            "orientation": "horizontal",
            "style": "IPY_MODEL_e387f9d4569846cea81c2aab0a4c0443",
            "value": 1
          }
        },
        "355335356a024a0e83a7d9fcd87f4f21": {
          "model_module": "@jupyter-widgets/base",
          "model_name": "LayoutModel",
          "model_module_version": "1.2.0",
          "state": {
            "_model_module": "@jupyter-widgets/base",
            "_model_module_version": "1.2.0",
            "_model_name": "LayoutModel",
            "_view_count": null,
            "_view_module": "@jupyter-widgets/base",
            "_view_module_version": "1.2.0",
            "_view_name": "LayoutView",
            "align_content": null,
            "align_items": null,
            "align_self": null,
            "border": null,
            "bottom": null,
            "display": null,
            "flex": null,
            "flex_flow": null,
            "grid_area": null,
            "grid_auto_columns": null,
            "grid_auto_flow": null,
            "grid_auto_rows": null,
            "grid_column": null,
            "grid_gap": null,
            "grid_row": null,
            "grid_template_areas": null,
            "grid_template_columns": null,
            "grid_template_rows": null,
            "height": null,
            "justify_content": null,
            "justify_items": null,
            "left": null,
            "margin": null,
            "max_height": null,
            "max_width": null,
            "min_height": null,
            "min_width": null,
            "object_fit": null,
            "object_position": null,
            "order": null,
            "overflow": null,
            "overflow_x": null,
            "overflow_y": null,
            "padding": null,
            "right": null,
            "top": null,
            "visibility": null,
            "width": null
          }
        },
        "2e97f62e965f4c9cab2dcafa704f263d": {
          "model_module": "@jupyter-widgets/base",
          "model_name": "LayoutModel",
          "model_module_version": "1.2.0",
          "state": {
            "_model_module": "@jupyter-widgets/base",
            "_model_module_version": "1.2.0",
            "_model_name": "LayoutModel",
            "_view_count": null,
            "_view_module": "@jupyter-widgets/base",
            "_view_module_version": "1.2.0",
            "_view_name": "LayoutView",
            "align_content": null,
            "align_items": null,
            "align_self": null,
            "border": null,
            "bottom": null,
            "display": null,
            "flex": null,
            "flex_flow": null,
            "grid_area": null,
            "grid_auto_columns": null,
            "grid_auto_flow": null,
            "grid_auto_rows": null,
            "grid_column": null,
            "grid_gap": null,
            "grid_row": null,
            "grid_template_areas": null,
            "grid_template_columns": null,
            "grid_template_rows": null,
            "height": null,
            "justify_content": null,
            "justify_items": null,
            "left": null,
            "margin": null,
            "max_height": null,
            "max_width": null,
            "min_height": null,
            "min_width": null,
            "object_fit": null,
            "object_position": null,
            "order": null,
            "overflow": null,
            "overflow_x": null,
            "overflow_y": null,
            "padding": null,
            "right": null,
            "top": null,
            "visibility": null,
            "width": null
          }
        },
        "2a77bb46ede74db189b2257578b878bb": {
          "model_module": "@jupyter-widgets/controls",
          "model_name": "DescriptionStyleModel",
          "model_module_version": "1.5.0",
          "state": {
            "_model_module": "@jupyter-widgets/controls",
            "_model_module_version": "1.5.0",
            "_model_name": "DescriptionStyleModel",
            "_view_count": null,
            "_view_module": "@jupyter-widgets/base",
            "_view_module_version": "1.2.0",
            "_view_name": "StyleView",
            "description_width": ""
          }
        },
        "1b0d0fb69edf4a62a40fb5f06efb0540": {
          "model_module": "@jupyter-widgets/base",
          "model_name": "LayoutModel",
          "model_module_version": "1.2.0",
          "state": {
            "_model_module": "@jupyter-widgets/base",
            "_model_module_version": "1.2.0",
            "_model_name": "LayoutModel",
            "_view_count": null,
            "_view_module": "@jupyter-widgets/base",
            "_view_module_version": "1.2.0",
            "_view_name": "LayoutView",
            "align_content": null,
            "align_items": null,
            "align_self": null,
            "border": null,
            "bottom": null,
            "display": null,
            "flex": null,
            "flex_flow": null,
            "grid_area": null,
            "grid_auto_columns": null,
            "grid_auto_flow": null,
            "grid_auto_rows": null,
            "grid_column": null,
            "grid_gap": null,
            "grid_row": null,
            "grid_template_areas": null,
            "grid_template_columns": null,
            "grid_template_rows": null,
            "height": null,
            "justify_content": null,
            "justify_items": null,
            "left": null,
            "margin": null,
            "max_height": null,
            "max_width": null,
            "min_height": null,
            "min_width": null,
            "object_fit": null,
            "object_position": null,
            "order": null,
            "overflow": null,
            "overflow_x": null,
            "overflow_y": null,
            "padding": null,
            "right": null,
            "top": null,
            "visibility": null,
            "width": null
          }
        },
        "e387f9d4569846cea81c2aab0a4c0443": {
          "model_module": "@jupyter-widgets/controls",
          "model_name": "ProgressStyleModel",
          "model_module_version": "1.5.0",
          "state": {
            "_model_module": "@jupyter-widgets/controls",
            "_model_module_version": "1.5.0",
            "_model_name": "ProgressStyleModel",
            "_view_count": null,
            "_view_module": "@jupyter-widgets/base",
            "_view_module_version": "1.2.0",
            "_view_name": "StyleView",
            "bar_color": null,
            "description_width": ""
          }
        },
        "99affef8b1ed4a948bf510d9a32da2f5": {
          "model_module": "@jupyter-widgets/controls",
          "model_name": "VBoxModel",
          "model_module_version": "1.5.0",
          "state": {
            "_dom_classes": [],
            "_model_module": "@jupyter-widgets/controls",
            "_model_module_version": "1.5.0",
            "_model_name": "VBoxModel",
            "_view_count": null,
            "_view_module": "@jupyter-widgets/controls",
            "_view_module_version": "1.5.0",
            "_view_name": "VBoxView",
            "box_style": "",
            "children": [
              "IPY_MODEL_f99616be9cab4c82b87147b58c76746d",
              "IPY_MODEL_cc336b7781974417929f5429b8149099"
            ],
            "layout": "IPY_MODEL_eb96cad287f54bbea4a7bb648ccf6e45"
          }
        },
        "f99616be9cab4c82b87147b58c76746d": {
          "model_module": "@jupyter-widgets/controls",
          "model_name": "LabelModel",
          "model_module_version": "1.5.0",
          "state": {
            "_dom_classes": [],
            "_model_module": "@jupyter-widgets/controls",
            "_model_module_version": "1.5.0",
            "_model_name": "LabelModel",
            "_view_count": null,
            "_view_module": "@jupyter-widgets/controls",
            "_view_module_version": "1.5.0",
            "_view_name": "LabelView",
            "description": "",
            "description_tooltip": null,
            "layout": "IPY_MODEL_c745e70128be46a199e750cb9697bf98",
            "placeholder": "​",
            "style": "IPY_MODEL_5ccc76c9f5424c2199d8f0a0519b1236",
            "value": "0.011 MB of 0.011 MB uploaded (0.000 MB deduped)\r"
          }
        },
        "cc336b7781974417929f5429b8149099": {
          "model_module": "@jupyter-widgets/controls",
          "model_name": "FloatProgressModel",
          "model_module_version": "1.5.0",
          "state": {
            "_dom_classes": [],
            "_model_module": "@jupyter-widgets/controls",
            "_model_module_version": "1.5.0",
            "_model_name": "FloatProgressModel",
            "_view_count": null,
            "_view_module": "@jupyter-widgets/controls",
            "_view_module_version": "1.5.0",
            "_view_name": "ProgressView",
            "bar_style": "",
            "description": "",
            "description_tooltip": null,
            "layout": "IPY_MODEL_c6b99474339f41d8a5607cbed4d46819",
            "max": 1,
            "min": 0,
            "orientation": "horizontal",
            "style": "IPY_MODEL_4b8bb90ae8324dd9bcf0da1533828774",
            "value": 1
          }
        },
        "eb96cad287f54bbea4a7bb648ccf6e45": {
          "model_module": "@jupyter-widgets/base",
          "model_name": "LayoutModel",
          "model_module_version": "1.2.0",
          "state": {
            "_model_module": "@jupyter-widgets/base",
            "_model_module_version": "1.2.0",
            "_model_name": "LayoutModel",
            "_view_count": null,
            "_view_module": "@jupyter-widgets/base",
            "_view_module_version": "1.2.0",
            "_view_name": "LayoutView",
            "align_content": null,
            "align_items": null,
            "align_self": null,
            "border": null,
            "bottom": null,
            "display": null,
            "flex": null,
            "flex_flow": null,
            "grid_area": null,
            "grid_auto_columns": null,
            "grid_auto_flow": null,
            "grid_auto_rows": null,
            "grid_column": null,
            "grid_gap": null,
            "grid_row": null,
            "grid_template_areas": null,
            "grid_template_columns": null,
            "grid_template_rows": null,
            "height": null,
            "justify_content": null,
            "justify_items": null,
            "left": null,
            "margin": null,
            "max_height": null,
            "max_width": null,
            "min_height": null,
            "min_width": null,
            "object_fit": null,
            "object_position": null,
            "order": null,
            "overflow": null,
            "overflow_x": null,
            "overflow_y": null,
            "padding": null,
            "right": null,
            "top": null,
            "visibility": null,
            "width": null
          }
        },
        "c745e70128be46a199e750cb9697bf98": {
          "model_module": "@jupyter-widgets/base",
          "model_name": "LayoutModel",
          "model_module_version": "1.2.0",
          "state": {
            "_model_module": "@jupyter-widgets/base",
            "_model_module_version": "1.2.0",
            "_model_name": "LayoutModel",
            "_view_count": null,
            "_view_module": "@jupyter-widgets/base",
            "_view_module_version": "1.2.0",
            "_view_name": "LayoutView",
            "align_content": null,
            "align_items": null,
            "align_self": null,
            "border": null,
            "bottom": null,
            "display": null,
            "flex": null,
            "flex_flow": null,
            "grid_area": null,
            "grid_auto_columns": null,
            "grid_auto_flow": null,
            "grid_auto_rows": null,
            "grid_column": null,
            "grid_gap": null,
            "grid_row": null,
            "grid_template_areas": null,
            "grid_template_columns": null,
            "grid_template_rows": null,
            "height": null,
            "justify_content": null,
            "justify_items": null,
            "left": null,
            "margin": null,
            "max_height": null,
            "max_width": null,
            "min_height": null,
            "min_width": null,
            "object_fit": null,
            "object_position": null,
            "order": null,
            "overflow": null,
            "overflow_x": null,
            "overflow_y": null,
            "padding": null,
            "right": null,
            "top": null,
            "visibility": null,
            "width": null
          }
        },
        "5ccc76c9f5424c2199d8f0a0519b1236": {
          "model_module": "@jupyter-widgets/controls",
          "model_name": "DescriptionStyleModel",
          "model_module_version": "1.5.0",
          "state": {
            "_model_module": "@jupyter-widgets/controls",
            "_model_module_version": "1.5.0",
            "_model_name": "DescriptionStyleModel",
            "_view_count": null,
            "_view_module": "@jupyter-widgets/base",
            "_view_module_version": "1.2.0",
            "_view_name": "StyleView",
            "description_width": ""
          }
        },
        "c6b99474339f41d8a5607cbed4d46819": {
          "model_module": "@jupyter-widgets/base",
          "model_name": "LayoutModel",
          "model_module_version": "1.2.0",
          "state": {
            "_model_module": "@jupyter-widgets/base",
            "_model_module_version": "1.2.0",
            "_model_name": "LayoutModel",
            "_view_count": null,
            "_view_module": "@jupyter-widgets/base",
            "_view_module_version": "1.2.0",
            "_view_name": "LayoutView",
            "align_content": null,
            "align_items": null,
            "align_self": null,
            "border": null,
            "bottom": null,
            "display": null,
            "flex": null,
            "flex_flow": null,
            "grid_area": null,
            "grid_auto_columns": null,
            "grid_auto_flow": null,
            "grid_auto_rows": null,
            "grid_column": null,
            "grid_gap": null,
            "grid_row": null,
            "grid_template_areas": null,
            "grid_template_columns": null,
            "grid_template_rows": null,
            "height": null,
            "justify_content": null,
            "justify_items": null,
            "left": null,
            "margin": null,
            "max_height": null,
            "max_width": null,
            "min_height": null,
            "min_width": null,
            "object_fit": null,
            "object_position": null,
            "order": null,
            "overflow": null,
            "overflow_x": null,
            "overflow_y": null,
            "padding": null,
            "right": null,
            "top": null,
            "visibility": null,
            "width": null
          }
        },
        "4b8bb90ae8324dd9bcf0da1533828774": {
          "model_module": "@jupyter-widgets/controls",
          "model_name": "ProgressStyleModel",
          "model_module_version": "1.5.0",
          "state": {
            "_model_module": "@jupyter-widgets/controls",
            "_model_module_version": "1.5.0",
            "_model_name": "ProgressStyleModel",
            "_view_count": null,
            "_view_module": "@jupyter-widgets/base",
            "_view_module_version": "1.2.0",
            "_view_name": "StyleView",
            "bar_color": null,
            "description_width": ""
          }
        },
        "39e8ad7fe2544c6d9a48861623645601": {
          "model_module": "@jupyter-widgets/controls",
          "model_name": "VBoxModel",
          "model_module_version": "1.5.0",
          "state": {
            "_dom_classes": [],
            "_model_module": "@jupyter-widgets/controls",
            "_model_module_version": "1.5.0",
            "_model_name": "VBoxModel",
            "_view_count": null,
            "_view_module": "@jupyter-widgets/controls",
            "_view_module_version": "1.5.0",
            "_view_name": "VBoxView",
            "box_style": "",
            "children": [
              "IPY_MODEL_0aa95328e22c4312a9160f15145a0566",
              "IPY_MODEL_d177032a211248ef8f0081189bc375cd"
            ],
            "layout": "IPY_MODEL_bd1ea8ff8fbb404a819c2c9495dc3fc3"
          }
        },
        "0aa95328e22c4312a9160f15145a0566": {
          "model_module": "@jupyter-widgets/controls",
          "model_name": "LabelModel",
          "model_module_version": "1.5.0",
          "state": {
            "_dom_classes": [],
            "_model_module": "@jupyter-widgets/controls",
            "_model_module_version": "1.5.0",
            "_model_name": "LabelModel",
            "_view_count": null,
            "_view_module": "@jupyter-widgets/controls",
            "_view_module_version": "1.5.0",
            "_view_name": "LabelView",
            "description": "",
            "description_tooltip": null,
            "layout": "IPY_MODEL_405c483fc52f4e32ac6d45ab0f2c1c9b",
            "placeholder": "​",
            "style": "IPY_MODEL_42f02d9d709f4ba2a43e6d1581d65e98",
            "value": "0.011 MB of 0.011 MB uploaded (0.000 MB deduped)\r"
          }
        },
        "d177032a211248ef8f0081189bc375cd": {
          "model_module": "@jupyter-widgets/controls",
          "model_name": "FloatProgressModel",
          "model_module_version": "1.5.0",
          "state": {
            "_dom_classes": [],
            "_model_module": "@jupyter-widgets/controls",
            "_model_module_version": "1.5.0",
            "_model_name": "FloatProgressModel",
            "_view_count": null,
            "_view_module": "@jupyter-widgets/controls",
            "_view_module_version": "1.5.0",
            "_view_name": "ProgressView",
            "bar_style": "",
            "description": "",
            "description_tooltip": null,
            "layout": "IPY_MODEL_ad719ffe27f548159010de74e0b24871",
            "max": 1,
            "min": 0,
            "orientation": "horizontal",
            "style": "IPY_MODEL_9eea3eedc0c9486b92261869ad11590f",
            "value": 1
          }
        },
        "bd1ea8ff8fbb404a819c2c9495dc3fc3": {
          "model_module": "@jupyter-widgets/base",
          "model_name": "LayoutModel",
          "model_module_version": "1.2.0",
          "state": {
            "_model_module": "@jupyter-widgets/base",
            "_model_module_version": "1.2.0",
            "_model_name": "LayoutModel",
            "_view_count": null,
            "_view_module": "@jupyter-widgets/base",
            "_view_module_version": "1.2.0",
            "_view_name": "LayoutView",
            "align_content": null,
            "align_items": null,
            "align_self": null,
            "border": null,
            "bottom": null,
            "display": null,
            "flex": null,
            "flex_flow": null,
            "grid_area": null,
            "grid_auto_columns": null,
            "grid_auto_flow": null,
            "grid_auto_rows": null,
            "grid_column": null,
            "grid_gap": null,
            "grid_row": null,
            "grid_template_areas": null,
            "grid_template_columns": null,
            "grid_template_rows": null,
            "height": null,
            "justify_content": null,
            "justify_items": null,
            "left": null,
            "margin": null,
            "max_height": null,
            "max_width": null,
            "min_height": null,
            "min_width": null,
            "object_fit": null,
            "object_position": null,
            "order": null,
            "overflow": null,
            "overflow_x": null,
            "overflow_y": null,
            "padding": null,
            "right": null,
            "top": null,
            "visibility": null,
            "width": null
          }
        },
        "405c483fc52f4e32ac6d45ab0f2c1c9b": {
          "model_module": "@jupyter-widgets/base",
          "model_name": "LayoutModel",
          "model_module_version": "1.2.0",
          "state": {
            "_model_module": "@jupyter-widgets/base",
            "_model_module_version": "1.2.0",
            "_model_name": "LayoutModel",
            "_view_count": null,
            "_view_module": "@jupyter-widgets/base",
            "_view_module_version": "1.2.0",
            "_view_name": "LayoutView",
            "align_content": null,
            "align_items": null,
            "align_self": null,
            "border": null,
            "bottom": null,
            "display": null,
            "flex": null,
            "flex_flow": null,
            "grid_area": null,
            "grid_auto_columns": null,
            "grid_auto_flow": null,
            "grid_auto_rows": null,
            "grid_column": null,
            "grid_gap": null,
            "grid_row": null,
            "grid_template_areas": null,
            "grid_template_columns": null,
            "grid_template_rows": null,
            "height": null,
            "justify_content": null,
            "justify_items": null,
            "left": null,
            "margin": null,
            "max_height": null,
            "max_width": null,
            "min_height": null,
            "min_width": null,
            "object_fit": null,
            "object_position": null,
            "order": null,
            "overflow": null,
            "overflow_x": null,
            "overflow_y": null,
            "padding": null,
            "right": null,
            "top": null,
            "visibility": null,
            "width": null
          }
        },
        "42f02d9d709f4ba2a43e6d1581d65e98": {
          "model_module": "@jupyter-widgets/controls",
          "model_name": "DescriptionStyleModel",
          "model_module_version": "1.5.0",
          "state": {
            "_model_module": "@jupyter-widgets/controls",
            "_model_module_version": "1.5.0",
            "_model_name": "DescriptionStyleModel",
            "_view_count": null,
            "_view_module": "@jupyter-widgets/base",
            "_view_module_version": "1.2.0",
            "_view_name": "StyleView",
            "description_width": ""
          }
        },
        "ad719ffe27f548159010de74e0b24871": {
          "model_module": "@jupyter-widgets/base",
          "model_name": "LayoutModel",
          "model_module_version": "1.2.0",
          "state": {
            "_model_module": "@jupyter-widgets/base",
            "_model_module_version": "1.2.0",
            "_model_name": "LayoutModel",
            "_view_count": null,
            "_view_module": "@jupyter-widgets/base",
            "_view_module_version": "1.2.0",
            "_view_name": "LayoutView",
            "align_content": null,
            "align_items": null,
            "align_self": null,
            "border": null,
            "bottom": null,
            "display": null,
            "flex": null,
            "flex_flow": null,
            "grid_area": null,
            "grid_auto_columns": null,
            "grid_auto_flow": null,
            "grid_auto_rows": null,
            "grid_column": null,
            "grid_gap": null,
            "grid_row": null,
            "grid_template_areas": null,
            "grid_template_columns": null,
            "grid_template_rows": null,
            "height": null,
            "justify_content": null,
            "justify_items": null,
            "left": null,
            "margin": null,
            "max_height": null,
            "max_width": null,
            "min_height": null,
            "min_width": null,
            "object_fit": null,
            "object_position": null,
            "order": null,
            "overflow": null,
            "overflow_x": null,
            "overflow_y": null,
            "padding": null,
            "right": null,
            "top": null,
            "visibility": null,
            "width": null
          }
        },
        "9eea3eedc0c9486b92261869ad11590f": {
          "model_module": "@jupyter-widgets/controls",
          "model_name": "ProgressStyleModel",
          "model_module_version": "1.5.0",
          "state": {
            "_model_module": "@jupyter-widgets/controls",
            "_model_module_version": "1.5.0",
            "_model_name": "ProgressStyleModel",
            "_view_count": null,
            "_view_module": "@jupyter-widgets/base",
            "_view_module_version": "1.2.0",
            "_view_name": "StyleView",
            "bar_color": null,
            "description_width": ""
          }
        },
        "d37f7a26c17b40988f0919d683445621": {
          "model_module": "@jupyter-widgets/controls",
          "model_name": "VBoxModel",
          "model_module_version": "1.5.0",
          "state": {
            "_dom_classes": [],
            "_model_module": "@jupyter-widgets/controls",
            "_model_module_version": "1.5.0",
            "_model_name": "VBoxModel",
            "_view_count": null,
            "_view_module": "@jupyter-widgets/controls",
            "_view_module_version": "1.5.0",
            "_view_name": "VBoxView",
            "box_style": "",
            "children": [
              "IPY_MODEL_a2c33b96129647548bce0b0a13888377",
              "IPY_MODEL_aad92a6dd0ad4cf4abdbff52c058cc37"
            ],
            "layout": "IPY_MODEL_1a11c5865ad540abac32a5c481101257"
          }
        },
        "a2c33b96129647548bce0b0a13888377": {
          "model_module": "@jupyter-widgets/controls",
          "model_name": "LabelModel",
          "model_module_version": "1.5.0",
          "state": {
            "_dom_classes": [],
            "_model_module": "@jupyter-widgets/controls",
            "_model_module_version": "1.5.0",
            "_model_name": "LabelModel",
            "_view_count": null,
            "_view_module": "@jupyter-widgets/controls",
            "_view_module_version": "1.5.0",
            "_view_name": "LabelView",
            "description": "",
            "description_tooltip": null,
            "layout": "IPY_MODEL_fae2567e180f48e4a06f01bbce847979",
            "placeholder": "​",
            "style": "IPY_MODEL_bd2ce16878ab4b3894096bc07300d26a",
            "value": "0.011 MB of 0.011 MB uploaded (0.000 MB deduped)\r"
          }
        },
        "aad92a6dd0ad4cf4abdbff52c058cc37": {
          "model_module": "@jupyter-widgets/controls",
          "model_name": "FloatProgressModel",
          "model_module_version": "1.5.0",
          "state": {
            "_dom_classes": [],
            "_model_module": "@jupyter-widgets/controls",
            "_model_module_version": "1.5.0",
            "_model_name": "FloatProgressModel",
            "_view_count": null,
            "_view_module": "@jupyter-widgets/controls",
            "_view_module_version": "1.5.0",
            "_view_name": "ProgressView",
            "bar_style": "",
            "description": "",
            "description_tooltip": null,
            "layout": "IPY_MODEL_3d66f67f32b84f49a22b6ee0d83fe090",
            "max": 1,
            "min": 0,
            "orientation": "horizontal",
            "style": "IPY_MODEL_a91d04f9f6f4449a8bef7845b753fe00",
            "value": 1
          }
        },
        "1a11c5865ad540abac32a5c481101257": {
          "model_module": "@jupyter-widgets/base",
          "model_name": "LayoutModel",
          "model_module_version": "1.2.0",
          "state": {
            "_model_module": "@jupyter-widgets/base",
            "_model_module_version": "1.2.0",
            "_model_name": "LayoutModel",
            "_view_count": null,
            "_view_module": "@jupyter-widgets/base",
            "_view_module_version": "1.2.0",
            "_view_name": "LayoutView",
            "align_content": null,
            "align_items": null,
            "align_self": null,
            "border": null,
            "bottom": null,
            "display": null,
            "flex": null,
            "flex_flow": null,
            "grid_area": null,
            "grid_auto_columns": null,
            "grid_auto_flow": null,
            "grid_auto_rows": null,
            "grid_column": null,
            "grid_gap": null,
            "grid_row": null,
            "grid_template_areas": null,
            "grid_template_columns": null,
            "grid_template_rows": null,
            "height": null,
            "justify_content": null,
            "justify_items": null,
            "left": null,
            "margin": null,
            "max_height": null,
            "max_width": null,
            "min_height": null,
            "min_width": null,
            "object_fit": null,
            "object_position": null,
            "order": null,
            "overflow": null,
            "overflow_x": null,
            "overflow_y": null,
            "padding": null,
            "right": null,
            "top": null,
            "visibility": null,
            "width": null
          }
        },
        "fae2567e180f48e4a06f01bbce847979": {
          "model_module": "@jupyter-widgets/base",
          "model_name": "LayoutModel",
          "model_module_version": "1.2.0",
          "state": {
            "_model_module": "@jupyter-widgets/base",
            "_model_module_version": "1.2.0",
            "_model_name": "LayoutModel",
            "_view_count": null,
            "_view_module": "@jupyter-widgets/base",
            "_view_module_version": "1.2.0",
            "_view_name": "LayoutView",
            "align_content": null,
            "align_items": null,
            "align_self": null,
            "border": null,
            "bottom": null,
            "display": null,
            "flex": null,
            "flex_flow": null,
            "grid_area": null,
            "grid_auto_columns": null,
            "grid_auto_flow": null,
            "grid_auto_rows": null,
            "grid_column": null,
            "grid_gap": null,
            "grid_row": null,
            "grid_template_areas": null,
            "grid_template_columns": null,
            "grid_template_rows": null,
            "height": null,
            "justify_content": null,
            "justify_items": null,
            "left": null,
            "margin": null,
            "max_height": null,
            "max_width": null,
            "min_height": null,
            "min_width": null,
            "object_fit": null,
            "object_position": null,
            "order": null,
            "overflow": null,
            "overflow_x": null,
            "overflow_y": null,
            "padding": null,
            "right": null,
            "top": null,
            "visibility": null,
            "width": null
          }
        },
        "bd2ce16878ab4b3894096bc07300d26a": {
          "model_module": "@jupyter-widgets/controls",
          "model_name": "DescriptionStyleModel",
          "model_module_version": "1.5.0",
          "state": {
            "_model_module": "@jupyter-widgets/controls",
            "_model_module_version": "1.5.0",
            "_model_name": "DescriptionStyleModel",
            "_view_count": null,
            "_view_module": "@jupyter-widgets/base",
            "_view_module_version": "1.2.0",
            "_view_name": "StyleView",
            "description_width": ""
          }
        },
        "3d66f67f32b84f49a22b6ee0d83fe090": {
          "model_module": "@jupyter-widgets/base",
          "model_name": "LayoutModel",
          "model_module_version": "1.2.0",
          "state": {
            "_model_module": "@jupyter-widgets/base",
            "_model_module_version": "1.2.0",
            "_model_name": "LayoutModel",
            "_view_count": null,
            "_view_module": "@jupyter-widgets/base",
            "_view_module_version": "1.2.0",
            "_view_name": "LayoutView",
            "align_content": null,
            "align_items": null,
            "align_self": null,
            "border": null,
            "bottom": null,
            "display": null,
            "flex": null,
            "flex_flow": null,
            "grid_area": null,
            "grid_auto_columns": null,
            "grid_auto_flow": null,
            "grid_auto_rows": null,
            "grid_column": null,
            "grid_gap": null,
            "grid_row": null,
            "grid_template_areas": null,
            "grid_template_columns": null,
            "grid_template_rows": null,
            "height": null,
            "justify_content": null,
            "justify_items": null,
            "left": null,
            "margin": null,
            "max_height": null,
            "max_width": null,
            "min_height": null,
            "min_width": null,
            "object_fit": null,
            "object_position": null,
            "order": null,
            "overflow": null,
            "overflow_x": null,
            "overflow_y": null,
            "padding": null,
            "right": null,
            "top": null,
            "visibility": null,
            "width": null
          }
        },
        "a91d04f9f6f4449a8bef7845b753fe00": {
          "model_module": "@jupyter-widgets/controls",
          "model_name": "ProgressStyleModel",
          "model_module_version": "1.5.0",
          "state": {
            "_model_module": "@jupyter-widgets/controls",
            "_model_module_version": "1.5.0",
            "_model_name": "ProgressStyleModel",
            "_view_count": null,
            "_view_module": "@jupyter-widgets/base",
            "_view_module_version": "1.2.0",
            "_view_name": "StyleView",
            "bar_color": null,
            "description_width": ""
          }
        },
        "6759dc9284c24b879a71a5ebf7905a6d": {
          "model_module": "@jupyter-widgets/controls",
          "model_name": "VBoxModel",
          "model_module_version": "1.5.0",
          "state": {
            "_dom_classes": [],
            "_model_module": "@jupyter-widgets/controls",
            "_model_module_version": "1.5.0",
            "_model_name": "VBoxModel",
            "_view_count": null,
            "_view_module": "@jupyter-widgets/controls",
            "_view_module_version": "1.5.0",
            "_view_name": "VBoxView",
            "box_style": "",
            "children": [
              "IPY_MODEL_f99e985ceffc4612b8d8572273c50d0a",
              "IPY_MODEL_fc67a0a6f8d84dbea4b8faf6b277b7a6"
            ],
            "layout": "IPY_MODEL_4de7b3a8b7184c1390273ccc6d2b69e2"
          }
        },
        "f99e985ceffc4612b8d8572273c50d0a": {
          "model_module": "@jupyter-widgets/controls",
          "model_name": "LabelModel",
          "model_module_version": "1.5.0",
          "state": {
            "_dom_classes": [],
            "_model_module": "@jupyter-widgets/controls",
            "_model_module_version": "1.5.0",
            "_model_name": "LabelModel",
            "_view_count": null,
            "_view_module": "@jupyter-widgets/controls",
            "_view_module_version": "1.5.0",
            "_view_name": "LabelView",
            "description": "",
            "description_tooltip": null,
            "layout": "IPY_MODEL_a6d68e67894e49f6acdfdcaed3a47773",
            "placeholder": "​",
            "style": "IPY_MODEL_0402c2de2b5747b48c2fe516b64c3652",
            "value": "0.011 MB of 0.011 MB uploaded (0.000 MB deduped)\r"
          }
        },
        "fc67a0a6f8d84dbea4b8faf6b277b7a6": {
          "model_module": "@jupyter-widgets/controls",
          "model_name": "FloatProgressModel",
          "model_module_version": "1.5.0",
          "state": {
            "_dom_classes": [],
            "_model_module": "@jupyter-widgets/controls",
            "_model_module_version": "1.5.0",
            "_model_name": "FloatProgressModel",
            "_view_count": null,
            "_view_module": "@jupyter-widgets/controls",
            "_view_module_version": "1.5.0",
            "_view_name": "ProgressView",
            "bar_style": "",
            "description": "",
            "description_tooltip": null,
            "layout": "IPY_MODEL_c0ca3da9bcfa4d3794c5666894e40b5a",
            "max": 1,
            "min": 0,
            "orientation": "horizontal",
            "style": "IPY_MODEL_02e38b9209c84aab8b53b947b46d87d8",
            "value": 1
          }
        },
        "4de7b3a8b7184c1390273ccc6d2b69e2": {
          "model_module": "@jupyter-widgets/base",
          "model_name": "LayoutModel",
          "model_module_version": "1.2.0",
          "state": {
            "_model_module": "@jupyter-widgets/base",
            "_model_module_version": "1.2.0",
            "_model_name": "LayoutModel",
            "_view_count": null,
            "_view_module": "@jupyter-widgets/base",
            "_view_module_version": "1.2.0",
            "_view_name": "LayoutView",
            "align_content": null,
            "align_items": null,
            "align_self": null,
            "border": null,
            "bottom": null,
            "display": null,
            "flex": null,
            "flex_flow": null,
            "grid_area": null,
            "grid_auto_columns": null,
            "grid_auto_flow": null,
            "grid_auto_rows": null,
            "grid_column": null,
            "grid_gap": null,
            "grid_row": null,
            "grid_template_areas": null,
            "grid_template_columns": null,
            "grid_template_rows": null,
            "height": null,
            "justify_content": null,
            "justify_items": null,
            "left": null,
            "margin": null,
            "max_height": null,
            "max_width": null,
            "min_height": null,
            "min_width": null,
            "object_fit": null,
            "object_position": null,
            "order": null,
            "overflow": null,
            "overflow_x": null,
            "overflow_y": null,
            "padding": null,
            "right": null,
            "top": null,
            "visibility": null,
            "width": null
          }
        },
        "a6d68e67894e49f6acdfdcaed3a47773": {
          "model_module": "@jupyter-widgets/base",
          "model_name": "LayoutModel",
          "model_module_version": "1.2.0",
          "state": {
            "_model_module": "@jupyter-widgets/base",
            "_model_module_version": "1.2.0",
            "_model_name": "LayoutModel",
            "_view_count": null,
            "_view_module": "@jupyter-widgets/base",
            "_view_module_version": "1.2.0",
            "_view_name": "LayoutView",
            "align_content": null,
            "align_items": null,
            "align_self": null,
            "border": null,
            "bottom": null,
            "display": null,
            "flex": null,
            "flex_flow": null,
            "grid_area": null,
            "grid_auto_columns": null,
            "grid_auto_flow": null,
            "grid_auto_rows": null,
            "grid_column": null,
            "grid_gap": null,
            "grid_row": null,
            "grid_template_areas": null,
            "grid_template_columns": null,
            "grid_template_rows": null,
            "height": null,
            "justify_content": null,
            "justify_items": null,
            "left": null,
            "margin": null,
            "max_height": null,
            "max_width": null,
            "min_height": null,
            "min_width": null,
            "object_fit": null,
            "object_position": null,
            "order": null,
            "overflow": null,
            "overflow_x": null,
            "overflow_y": null,
            "padding": null,
            "right": null,
            "top": null,
            "visibility": null,
            "width": null
          }
        },
        "0402c2de2b5747b48c2fe516b64c3652": {
          "model_module": "@jupyter-widgets/controls",
          "model_name": "DescriptionStyleModel",
          "model_module_version": "1.5.0",
          "state": {
            "_model_module": "@jupyter-widgets/controls",
            "_model_module_version": "1.5.0",
            "_model_name": "DescriptionStyleModel",
            "_view_count": null,
            "_view_module": "@jupyter-widgets/base",
            "_view_module_version": "1.2.0",
            "_view_name": "StyleView",
            "description_width": ""
          }
        },
        "c0ca3da9bcfa4d3794c5666894e40b5a": {
          "model_module": "@jupyter-widgets/base",
          "model_name": "LayoutModel",
          "model_module_version": "1.2.0",
          "state": {
            "_model_module": "@jupyter-widgets/base",
            "_model_module_version": "1.2.0",
            "_model_name": "LayoutModel",
            "_view_count": null,
            "_view_module": "@jupyter-widgets/base",
            "_view_module_version": "1.2.0",
            "_view_name": "LayoutView",
            "align_content": null,
            "align_items": null,
            "align_self": null,
            "border": null,
            "bottom": null,
            "display": null,
            "flex": null,
            "flex_flow": null,
            "grid_area": null,
            "grid_auto_columns": null,
            "grid_auto_flow": null,
            "grid_auto_rows": null,
            "grid_column": null,
            "grid_gap": null,
            "grid_row": null,
            "grid_template_areas": null,
            "grid_template_columns": null,
            "grid_template_rows": null,
            "height": null,
            "justify_content": null,
            "justify_items": null,
            "left": null,
            "margin": null,
            "max_height": null,
            "max_width": null,
            "min_height": null,
            "min_width": null,
            "object_fit": null,
            "object_position": null,
            "order": null,
            "overflow": null,
            "overflow_x": null,
            "overflow_y": null,
            "padding": null,
            "right": null,
            "top": null,
            "visibility": null,
            "width": null
          }
        },
        "02e38b9209c84aab8b53b947b46d87d8": {
          "model_module": "@jupyter-widgets/controls",
          "model_name": "ProgressStyleModel",
          "model_module_version": "1.5.0",
          "state": {
            "_model_module": "@jupyter-widgets/controls",
            "_model_module_version": "1.5.0",
            "_model_name": "ProgressStyleModel",
            "_view_count": null,
            "_view_module": "@jupyter-widgets/base",
            "_view_module_version": "1.2.0",
            "_view_name": "StyleView",
            "bar_color": null,
            "description_width": ""
          }
        },
        "aff6f45f36e24a35bdfc4379f5d94913": {
          "model_module": "@jupyter-widgets/controls",
          "model_name": "VBoxModel",
          "model_module_version": "1.5.0",
          "state": {
            "_dom_classes": [],
            "_model_module": "@jupyter-widgets/controls",
            "_model_module_version": "1.5.0",
            "_model_name": "VBoxModel",
            "_view_count": null,
            "_view_module": "@jupyter-widgets/controls",
            "_view_module_version": "1.5.0",
            "_view_name": "VBoxView",
            "box_style": "",
            "children": [
              "IPY_MODEL_881a771960404e97bfd95cb48bb6a042",
              "IPY_MODEL_5e4d82d6ea69424f84c9cd36a4b878bb"
            ],
            "layout": "IPY_MODEL_4d70abe9c1d24975a221ee82bfcd759f"
          }
        },
        "881a771960404e97bfd95cb48bb6a042": {
          "model_module": "@jupyter-widgets/controls",
          "model_name": "LabelModel",
          "model_module_version": "1.5.0",
          "state": {
            "_dom_classes": [],
            "_model_module": "@jupyter-widgets/controls",
            "_model_module_version": "1.5.0",
            "_model_name": "LabelModel",
            "_view_count": null,
            "_view_module": "@jupyter-widgets/controls",
            "_view_module_version": "1.5.0",
            "_view_name": "LabelView",
            "description": "",
            "description_tooltip": null,
            "layout": "IPY_MODEL_a2218cad94da4077a06600a955646827",
            "placeholder": "​",
            "style": "IPY_MODEL_0dbe61946a254255961c16d2b50823a1",
            "value": "0.011 MB of 0.011 MB uploaded (0.000 MB deduped)\r"
          }
        },
        "5e4d82d6ea69424f84c9cd36a4b878bb": {
          "model_module": "@jupyter-widgets/controls",
          "model_name": "FloatProgressModel",
          "model_module_version": "1.5.0",
          "state": {
            "_dom_classes": [],
            "_model_module": "@jupyter-widgets/controls",
            "_model_module_version": "1.5.0",
            "_model_name": "FloatProgressModel",
            "_view_count": null,
            "_view_module": "@jupyter-widgets/controls",
            "_view_module_version": "1.5.0",
            "_view_name": "ProgressView",
            "bar_style": "",
            "description": "",
            "description_tooltip": null,
            "layout": "IPY_MODEL_c6e26279574d41a990978b174a1dc4d3",
            "max": 1,
            "min": 0,
            "orientation": "horizontal",
            "style": "IPY_MODEL_4db8fc8f8f304d7293d519795f2aa079",
            "value": 1
          }
        },
        "4d70abe9c1d24975a221ee82bfcd759f": {
          "model_module": "@jupyter-widgets/base",
          "model_name": "LayoutModel",
          "model_module_version": "1.2.0",
          "state": {
            "_model_module": "@jupyter-widgets/base",
            "_model_module_version": "1.2.0",
            "_model_name": "LayoutModel",
            "_view_count": null,
            "_view_module": "@jupyter-widgets/base",
            "_view_module_version": "1.2.0",
            "_view_name": "LayoutView",
            "align_content": null,
            "align_items": null,
            "align_self": null,
            "border": null,
            "bottom": null,
            "display": null,
            "flex": null,
            "flex_flow": null,
            "grid_area": null,
            "grid_auto_columns": null,
            "grid_auto_flow": null,
            "grid_auto_rows": null,
            "grid_column": null,
            "grid_gap": null,
            "grid_row": null,
            "grid_template_areas": null,
            "grid_template_columns": null,
            "grid_template_rows": null,
            "height": null,
            "justify_content": null,
            "justify_items": null,
            "left": null,
            "margin": null,
            "max_height": null,
            "max_width": null,
            "min_height": null,
            "min_width": null,
            "object_fit": null,
            "object_position": null,
            "order": null,
            "overflow": null,
            "overflow_x": null,
            "overflow_y": null,
            "padding": null,
            "right": null,
            "top": null,
            "visibility": null,
            "width": null
          }
        },
        "a2218cad94da4077a06600a955646827": {
          "model_module": "@jupyter-widgets/base",
          "model_name": "LayoutModel",
          "model_module_version": "1.2.0",
          "state": {
            "_model_module": "@jupyter-widgets/base",
            "_model_module_version": "1.2.0",
            "_model_name": "LayoutModel",
            "_view_count": null,
            "_view_module": "@jupyter-widgets/base",
            "_view_module_version": "1.2.0",
            "_view_name": "LayoutView",
            "align_content": null,
            "align_items": null,
            "align_self": null,
            "border": null,
            "bottom": null,
            "display": null,
            "flex": null,
            "flex_flow": null,
            "grid_area": null,
            "grid_auto_columns": null,
            "grid_auto_flow": null,
            "grid_auto_rows": null,
            "grid_column": null,
            "grid_gap": null,
            "grid_row": null,
            "grid_template_areas": null,
            "grid_template_columns": null,
            "grid_template_rows": null,
            "height": null,
            "justify_content": null,
            "justify_items": null,
            "left": null,
            "margin": null,
            "max_height": null,
            "max_width": null,
            "min_height": null,
            "min_width": null,
            "object_fit": null,
            "object_position": null,
            "order": null,
            "overflow": null,
            "overflow_x": null,
            "overflow_y": null,
            "padding": null,
            "right": null,
            "top": null,
            "visibility": null,
            "width": null
          }
        },
        "0dbe61946a254255961c16d2b50823a1": {
          "model_module": "@jupyter-widgets/controls",
          "model_name": "DescriptionStyleModel",
          "model_module_version": "1.5.0",
          "state": {
            "_model_module": "@jupyter-widgets/controls",
            "_model_module_version": "1.5.0",
            "_model_name": "DescriptionStyleModel",
            "_view_count": null,
            "_view_module": "@jupyter-widgets/base",
            "_view_module_version": "1.2.0",
            "_view_name": "StyleView",
            "description_width": ""
          }
        },
        "c6e26279574d41a990978b174a1dc4d3": {
          "model_module": "@jupyter-widgets/base",
          "model_name": "LayoutModel",
          "model_module_version": "1.2.0",
          "state": {
            "_model_module": "@jupyter-widgets/base",
            "_model_module_version": "1.2.0",
            "_model_name": "LayoutModel",
            "_view_count": null,
            "_view_module": "@jupyter-widgets/base",
            "_view_module_version": "1.2.0",
            "_view_name": "LayoutView",
            "align_content": null,
            "align_items": null,
            "align_self": null,
            "border": null,
            "bottom": null,
            "display": null,
            "flex": null,
            "flex_flow": null,
            "grid_area": null,
            "grid_auto_columns": null,
            "grid_auto_flow": null,
            "grid_auto_rows": null,
            "grid_column": null,
            "grid_gap": null,
            "grid_row": null,
            "grid_template_areas": null,
            "grid_template_columns": null,
            "grid_template_rows": null,
            "height": null,
            "justify_content": null,
            "justify_items": null,
            "left": null,
            "margin": null,
            "max_height": null,
            "max_width": null,
            "min_height": null,
            "min_width": null,
            "object_fit": null,
            "object_position": null,
            "order": null,
            "overflow": null,
            "overflow_x": null,
            "overflow_y": null,
            "padding": null,
            "right": null,
            "top": null,
            "visibility": null,
            "width": null
          }
        },
        "4db8fc8f8f304d7293d519795f2aa079": {
          "model_module": "@jupyter-widgets/controls",
          "model_name": "ProgressStyleModel",
          "model_module_version": "1.5.0",
          "state": {
            "_model_module": "@jupyter-widgets/controls",
            "_model_module_version": "1.5.0",
            "_model_name": "ProgressStyleModel",
            "_view_count": null,
            "_view_module": "@jupyter-widgets/base",
            "_view_module_version": "1.2.0",
            "_view_name": "StyleView",
            "bar_color": null,
            "description_width": ""
          }
        },
        "ecd6f3dc4463497989717f0b63898234": {
          "model_module": "@jupyter-widgets/controls",
          "model_name": "VBoxModel",
          "model_module_version": "1.5.0",
          "state": {
            "_dom_classes": [],
            "_model_module": "@jupyter-widgets/controls",
            "_model_module_version": "1.5.0",
            "_model_name": "VBoxModel",
            "_view_count": null,
            "_view_module": "@jupyter-widgets/controls",
            "_view_module_version": "1.5.0",
            "_view_name": "VBoxView",
            "box_style": "",
            "children": [
              "IPY_MODEL_1ef073d0164e49e19f06e2b1b88c52d7",
              "IPY_MODEL_fd88efa61ab8433da8e5bd0e92551945"
            ],
            "layout": "IPY_MODEL_3c24c52581d94b4982c530bd75b534c6"
          }
        },
        "1ef073d0164e49e19f06e2b1b88c52d7": {
          "model_module": "@jupyter-widgets/controls",
          "model_name": "LabelModel",
          "model_module_version": "1.5.0",
          "state": {
            "_dom_classes": [],
            "_model_module": "@jupyter-widgets/controls",
            "_model_module_version": "1.5.0",
            "_model_name": "LabelModel",
            "_view_count": null,
            "_view_module": "@jupyter-widgets/controls",
            "_view_module_version": "1.5.0",
            "_view_name": "LabelView",
            "description": "",
            "description_tooltip": null,
            "layout": "IPY_MODEL_3c69f5c7986b411cb41ca7aa563ef7fe",
            "placeholder": "​",
            "style": "IPY_MODEL_d4ec702b02e846569884f7e4006c23ef",
            "value": "0.011 MB of 0.011 MB uploaded (0.000 MB deduped)\r"
          }
        },
        "fd88efa61ab8433da8e5bd0e92551945": {
          "model_module": "@jupyter-widgets/controls",
          "model_name": "FloatProgressModel",
          "model_module_version": "1.5.0",
          "state": {
            "_dom_classes": [],
            "_model_module": "@jupyter-widgets/controls",
            "_model_module_version": "1.5.0",
            "_model_name": "FloatProgressModel",
            "_view_count": null,
            "_view_module": "@jupyter-widgets/controls",
            "_view_module_version": "1.5.0",
            "_view_name": "ProgressView",
            "bar_style": "",
            "description": "",
            "description_tooltip": null,
            "layout": "IPY_MODEL_345c64364ef442d6890d1c95131a814a",
            "max": 1,
            "min": 0,
            "orientation": "horizontal",
            "style": "IPY_MODEL_2c8e60fa35cf4f10b10c427fc00620fb",
            "value": 1
          }
        },
        "3c24c52581d94b4982c530bd75b534c6": {
          "model_module": "@jupyter-widgets/base",
          "model_name": "LayoutModel",
          "model_module_version": "1.2.0",
          "state": {
            "_model_module": "@jupyter-widgets/base",
            "_model_module_version": "1.2.0",
            "_model_name": "LayoutModel",
            "_view_count": null,
            "_view_module": "@jupyter-widgets/base",
            "_view_module_version": "1.2.0",
            "_view_name": "LayoutView",
            "align_content": null,
            "align_items": null,
            "align_self": null,
            "border": null,
            "bottom": null,
            "display": null,
            "flex": null,
            "flex_flow": null,
            "grid_area": null,
            "grid_auto_columns": null,
            "grid_auto_flow": null,
            "grid_auto_rows": null,
            "grid_column": null,
            "grid_gap": null,
            "grid_row": null,
            "grid_template_areas": null,
            "grid_template_columns": null,
            "grid_template_rows": null,
            "height": null,
            "justify_content": null,
            "justify_items": null,
            "left": null,
            "margin": null,
            "max_height": null,
            "max_width": null,
            "min_height": null,
            "min_width": null,
            "object_fit": null,
            "object_position": null,
            "order": null,
            "overflow": null,
            "overflow_x": null,
            "overflow_y": null,
            "padding": null,
            "right": null,
            "top": null,
            "visibility": null,
            "width": null
          }
        },
        "3c69f5c7986b411cb41ca7aa563ef7fe": {
          "model_module": "@jupyter-widgets/base",
          "model_name": "LayoutModel",
          "model_module_version": "1.2.0",
          "state": {
            "_model_module": "@jupyter-widgets/base",
            "_model_module_version": "1.2.0",
            "_model_name": "LayoutModel",
            "_view_count": null,
            "_view_module": "@jupyter-widgets/base",
            "_view_module_version": "1.2.0",
            "_view_name": "LayoutView",
            "align_content": null,
            "align_items": null,
            "align_self": null,
            "border": null,
            "bottom": null,
            "display": null,
            "flex": null,
            "flex_flow": null,
            "grid_area": null,
            "grid_auto_columns": null,
            "grid_auto_flow": null,
            "grid_auto_rows": null,
            "grid_column": null,
            "grid_gap": null,
            "grid_row": null,
            "grid_template_areas": null,
            "grid_template_columns": null,
            "grid_template_rows": null,
            "height": null,
            "justify_content": null,
            "justify_items": null,
            "left": null,
            "margin": null,
            "max_height": null,
            "max_width": null,
            "min_height": null,
            "min_width": null,
            "object_fit": null,
            "object_position": null,
            "order": null,
            "overflow": null,
            "overflow_x": null,
            "overflow_y": null,
            "padding": null,
            "right": null,
            "top": null,
            "visibility": null,
            "width": null
          }
        },
        "d4ec702b02e846569884f7e4006c23ef": {
          "model_module": "@jupyter-widgets/controls",
          "model_name": "DescriptionStyleModel",
          "model_module_version": "1.5.0",
          "state": {
            "_model_module": "@jupyter-widgets/controls",
            "_model_module_version": "1.5.0",
            "_model_name": "DescriptionStyleModel",
            "_view_count": null,
            "_view_module": "@jupyter-widgets/base",
            "_view_module_version": "1.2.0",
            "_view_name": "StyleView",
            "description_width": ""
          }
        },
        "345c64364ef442d6890d1c95131a814a": {
          "model_module": "@jupyter-widgets/base",
          "model_name": "LayoutModel",
          "model_module_version": "1.2.0",
          "state": {
            "_model_module": "@jupyter-widgets/base",
            "_model_module_version": "1.2.0",
            "_model_name": "LayoutModel",
            "_view_count": null,
            "_view_module": "@jupyter-widgets/base",
            "_view_module_version": "1.2.0",
            "_view_name": "LayoutView",
            "align_content": null,
            "align_items": null,
            "align_self": null,
            "border": null,
            "bottom": null,
            "display": null,
            "flex": null,
            "flex_flow": null,
            "grid_area": null,
            "grid_auto_columns": null,
            "grid_auto_flow": null,
            "grid_auto_rows": null,
            "grid_column": null,
            "grid_gap": null,
            "grid_row": null,
            "grid_template_areas": null,
            "grid_template_columns": null,
            "grid_template_rows": null,
            "height": null,
            "justify_content": null,
            "justify_items": null,
            "left": null,
            "margin": null,
            "max_height": null,
            "max_width": null,
            "min_height": null,
            "min_width": null,
            "object_fit": null,
            "object_position": null,
            "order": null,
            "overflow": null,
            "overflow_x": null,
            "overflow_y": null,
            "padding": null,
            "right": null,
            "top": null,
            "visibility": null,
            "width": null
          }
        },
        "2c8e60fa35cf4f10b10c427fc00620fb": {
          "model_module": "@jupyter-widgets/controls",
          "model_name": "ProgressStyleModel",
          "model_module_version": "1.5.0",
          "state": {
            "_model_module": "@jupyter-widgets/controls",
            "_model_module_version": "1.5.0",
            "_model_name": "ProgressStyleModel",
            "_view_count": null,
            "_view_module": "@jupyter-widgets/base",
            "_view_module_version": "1.2.0",
            "_view_name": "StyleView",
            "bar_color": null,
            "description_width": ""
          }
        },
        "17e141ef83d243599f0cb41c8add66a9": {
          "model_module": "@jupyter-widgets/controls",
          "model_name": "VBoxModel",
          "model_module_version": "1.5.0",
          "state": {
            "_dom_classes": [],
            "_model_module": "@jupyter-widgets/controls",
            "_model_module_version": "1.5.0",
            "_model_name": "VBoxModel",
            "_view_count": null,
            "_view_module": "@jupyter-widgets/controls",
            "_view_module_version": "1.5.0",
            "_view_name": "VBoxView",
            "box_style": "",
            "children": [
              "IPY_MODEL_55c73a73c6724fa2b3d80e8326500c49",
              "IPY_MODEL_18c7f65610b54c6c963dc38271b47155"
            ],
            "layout": "IPY_MODEL_56b4d0e85350413cb89909daa30aa383"
          }
        },
        "55c73a73c6724fa2b3d80e8326500c49": {
          "model_module": "@jupyter-widgets/controls",
          "model_name": "LabelModel",
          "model_module_version": "1.5.0",
          "state": {
            "_dom_classes": [],
            "_model_module": "@jupyter-widgets/controls",
            "_model_module_version": "1.5.0",
            "_model_name": "LabelModel",
            "_view_count": null,
            "_view_module": "@jupyter-widgets/controls",
            "_view_module_version": "1.5.0",
            "_view_name": "LabelView",
            "description": "",
            "description_tooltip": null,
            "layout": "IPY_MODEL_fa9a71d59c854c5092994bcb866e9d74",
            "placeholder": "​",
            "style": "IPY_MODEL_3090b897339a4790bd39e431c3fee232",
            "value": "0.011 MB of 0.011 MB uploaded (0.000 MB deduped)\r"
          }
        },
        "18c7f65610b54c6c963dc38271b47155": {
          "model_module": "@jupyter-widgets/controls",
          "model_name": "FloatProgressModel",
          "model_module_version": "1.5.0",
          "state": {
            "_dom_classes": [],
            "_model_module": "@jupyter-widgets/controls",
            "_model_module_version": "1.5.0",
            "_model_name": "FloatProgressModel",
            "_view_count": null,
            "_view_module": "@jupyter-widgets/controls",
            "_view_module_version": "1.5.0",
            "_view_name": "ProgressView",
            "bar_style": "",
            "description": "",
            "description_tooltip": null,
            "layout": "IPY_MODEL_a66e1ba8ffcb45f3afe1fcb823d26387",
            "max": 1,
            "min": 0,
            "orientation": "horizontal",
            "style": "IPY_MODEL_aa42f02e0cd84917a3c415a17d005fe9",
            "value": 1
          }
        },
        "56b4d0e85350413cb89909daa30aa383": {
          "model_module": "@jupyter-widgets/base",
          "model_name": "LayoutModel",
          "model_module_version": "1.2.0",
          "state": {
            "_model_module": "@jupyter-widgets/base",
            "_model_module_version": "1.2.0",
            "_model_name": "LayoutModel",
            "_view_count": null,
            "_view_module": "@jupyter-widgets/base",
            "_view_module_version": "1.2.0",
            "_view_name": "LayoutView",
            "align_content": null,
            "align_items": null,
            "align_self": null,
            "border": null,
            "bottom": null,
            "display": null,
            "flex": null,
            "flex_flow": null,
            "grid_area": null,
            "grid_auto_columns": null,
            "grid_auto_flow": null,
            "grid_auto_rows": null,
            "grid_column": null,
            "grid_gap": null,
            "grid_row": null,
            "grid_template_areas": null,
            "grid_template_columns": null,
            "grid_template_rows": null,
            "height": null,
            "justify_content": null,
            "justify_items": null,
            "left": null,
            "margin": null,
            "max_height": null,
            "max_width": null,
            "min_height": null,
            "min_width": null,
            "object_fit": null,
            "object_position": null,
            "order": null,
            "overflow": null,
            "overflow_x": null,
            "overflow_y": null,
            "padding": null,
            "right": null,
            "top": null,
            "visibility": null,
            "width": null
          }
        },
        "fa9a71d59c854c5092994bcb866e9d74": {
          "model_module": "@jupyter-widgets/base",
          "model_name": "LayoutModel",
          "model_module_version": "1.2.0",
          "state": {
            "_model_module": "@jupyter-widgets/base",
            "_model_module_version": "1.2.0",
            "_model_name": "LayoutModel",
            "_view_count": null,
            "_view_module": "@jupyter-widgets/base",
            "_view_module_version": "1.2.0",
            "_view_name": "LayoutView",
            "align_content": null,
            "align_items": null,
            "align_self": null,
            "border": null,
            "bottom": null,
            "display": null,
            "flex": null,
            "flex_flow": null,
            "grid_area": null,
            "grid_auto_columns": null,
            "grid_auto_flow": null,
            "grid_auto_rows": null,
            "grid_column": null,
            "grid_gap": null,
            "grid_row": null,
            "grid_template_areas": null,
            "grid_template_columns": null,
            "grid_template_rows": null,
            "height": null,
            "justify_content": null,
            "justify_items": null,
            "left": null,
            "margin": null,
            "max_height": null,
            "max_width": null,
            "min_height": null,
            "min_width": null,
            "object_fit": null,
            "object_position": null,
            "order": null,
            "overflow": null,
            "overflow_x": null,
            "overflow_y": null,
            "padding": null,
            "right": null,
            "top": null,
            "visibility": null,
            "width": null
          }
        },
        "3090b897339a4790bd39e431c3fee232": {
          "model_module": "@jupyter-widgets/controls",
          "model_name": "DescriptionStyleModel",
          "model_module_version": "1.5.0",
          "state": {
            "_model_module": "@jupyter-widgets/controls",
            "_model_module_version": "1.5.0",
            "_model_name": "DescriptionStyleModel",
            "_view_count": null,
            "_view_module": "@jupyter-widgets/base",
            "_view_module_version": "1.2.0",
            "_view_name": "StyleView",
            "description_width": ""
          }
        },
        "a66e1ba8ffcb45f3afe1fcb823d26387": {
          "model_module": "@jupyter-widgets/base",
          "model_name": "LayoutModel",
          "model_module_version": "1.2.0",
          "state": {
            "_model_module": "@jupyter-widgets/base",
            "_model_module_version": "1.2.0",
            "_model_name": "LayoutModel",
            "_view_count": null,
            "_view_module": "@jupyter-widgets/base",
            "_view_module_version": "1.2.0",
            "_view_name": "LayoutView",
            "align_content": null,
            "align_items": null,
            "align_self": null,
            "border": null,
            "bottom": null,
            "display": null,
            "flex": null,
            "flex_flow": null,
            "grid_area": null,
            "grid_auto_columns": null,
            "grid_auto_flow": null,
            "grid_auto_rows": null,
            "grid_column": null,
            "grid_gap": null,
            "grid_row": null,
            "grid_template_areas": null,
            "grid_template_columns": null,
            "grid_template_rows": null,
            "height": null,
            "justify_content": null,
            "justify_items": null,
            "left": null,
            "margin": null,
            "max_height": null,
            "max_width": null,
            "min_height": null,
            "min_width": null,
            "object_fit": null,
            "object_position": null,
            "order": null,
            "overflow": null,
            "overflow_x": null,
            "overflow_y": null,
            "padding": null,
            "right": null,
            "top": null,
            "visibility": null,
            "width": null
          }
        },
        "aa42f02e0cd84917a3c415a17d005fe9": {
          "model_module": "@jupyter-widgets/controls",
          "model_name": "ProgressStyleModel",
          "model_module_version": "1.5.0",
          "state": {
            "_model_module": "@jupyter-widgets/controls",
            "_model_module_version": "1.5.0",
            "_model_name": "ProgressStyleModel",
            "_view_count": null,
            "_view_module": "@jupyter-widgets/base",
            "_view_module_version": "1.2.0",
            "_view_name": "StyleView",
            "bar_color": null,
            "description_width": ""
          }
        },
        "06accbd056004049b4a54eaa63c459de": {
          "model_module": "@jupyter-widgets/controls",
          "model_name": "VBoxModel",
          "model_module_version": "1.5.0",
          "state": {
            "_dom_classes": [],
            "_model_module": "@jupyter-widgets/controls",
            "_model_module_version": "1.5.0",
            "_model_name": "VBoxModel",
            "_view_count": null,
            "_view_module": "@jupyter-widgets/controls",
            "_view_module_version": "1.5.0",
            "_view_name": "VBoxView",
            "box_style": "",
            "children": [
              "IPY_MODEL_692a3cdcf12240249c3a229616cd908b",
              "IPY_MODEL_0b1fb89f943c4122a2e452389dbdc569"
            ],
            "layout": "IPY_MODEL_d4fb6569036d47bebd59e4e6cd037ebf"
          }
        },
        "692a3cdcf12240249c3a229616cd908b": {
          "model_module": "@jupyter-widgets/controls",
          "model_name": "LabelModel",
          "model_module_version": "1.5.0",
          "state": {
            "_dom_classes": [],
            "_model_module": "@jupyter-widgets/controls",
            "_model_module_version": "1.5.0",
            "_model_name": "LabelModel",
            "_view_count": null,
            "_view_module": "@jupyter-widgets/controls",
            "_view_module_version": "1.5.0",
            "_view_name": "LabelView",
            "description": "",
            "description_tooltip": null,
            "layout": "IPY_MODEL_da4b955b56db439596ee49aea8fc02e4",
            "placeholder": "​",
            "style": "IPY_MODEL_fa01d291808e4243a85990b4c450589a",
            "value": "0.011 MB of 0.011 MB uploaded (0.000 MB deduped)\r"
          }
        },
        "0b1fb89f943c4122a2e452389dbdc569": {
          "model_module": "@jupyter-widgets/controls",
          "model_name": "FloatProgressModel",
          "model_module_version": "1.5.0",
          "state": {
            "_dom_classes": [],
            "_model_module": "@jupyter-widgets/controls",
            "_model_module_version": "1.5.0",
            "_model_name": "FloatProgressModel",
            "_view_count": null,
            "_view_module": "@jupyter-widgets/controls",
            "_view_module_version": "1.5.0",
            "_view_name": "ProgressView",
            "bar_style": "",
            "description": "",
            "description_tooltip": null,
            "layout": "IPY_MODEL_18d72848539b4ed487640752b6466756",
            "max": 1,
            "min": 0,
            "orientation": "horizontal",
            "style": "IPY_MODEL_5cb07e5ce3254b8181ea02d88102b0f4",
            "value": 1
          }
        },
        "d4fb6569036d47bebd59e4e6cd037ebf": {
          "model_module": "@jupyter-widgets/base",
          "model_name": "LayoutModel",
          "model_module_version": "1.2.0",
          "state": {
            "_model_module": "@jupyter-widgets/base",
            "_model_module_version": "1.2.0",
            "_model_name": "LayoutModel",
            "_view_count": null,
            "_view_module": "@jupyter-widgets/base",
            "_view_module_version": "1.2.0",
            "_view_name": "LayoutView",
            "align_content": null,
            "align_items": null,
            "align_self": null,
            "border": null,
            "bottom": null,
            "display": null,
            "flex": null,
            "flex_flow": null,
            "grid_area": null,
            "grid_auto_columns": null,
            "grid_auto_flow": null,
            "grid_auto_rows": null,
            "grid_column": null,
            "grid_gap": null,
            "grid_row": null,
            "grid_template_areas": null,
            "grid_template_columns": null,
            "grid_template_rows": null,
            "height": null,
            "justify_content": null,
            "justify_items": null,
            "left": null,
            "margin": null,
            "max_height": null,
            "max_width": null,
            "min_height": null,
            "min_width": null,
            "object_fit": null,
            "object_position": null,
            "order": null,
            "overflow": null,
            "overflow_x": null,
            "overflow_y": null,
            "padding": null,
            "right": null,
            "top": null,
            "visibility": null,
            "width": null
          }
        },
        "da4b955b56db439596ee49aea8fc02e4": {
          "model_module": "@jupyter-widgets/base",
          "model_name": "LayoutModel",
          "model_module_version": "1.2.0",
          "state": {
            "_model_module": "@jupyter-widgets/base",
            "_model_module_version": "1.2.0",
            "_model_name": "LayoutModel",
            "_view_count": null,
            "_view_module": "@jupyter-widgets/base",
            "_view_module_version": "1.2.0",
            "_view_name": "LayoutView",
            "align_content": null,
            "align_items": null,
            "align_self": null,
            "border": null,
            "bottom": null,
            "display": null,
            "flex": null,
            "flex_flow": null,
            "grid_area": null,
            "grid_auto_columns": null,
            "grid_auto_flow": null,
            "grid_auto_rows": null,
            "grid_column": null,
            "grid_gap": null,
            "grid_row": null,
            "grid_template_areas": null,
            "grid_template_columns": null,
            "grid_template_rows": null,
            "height": null,
            "justify_content": null,
            "justify_items": null,
            "left": null,
            "margin": null,
            "max_height": null,
            "max_width": null,
            "min_height": null,
            "min_width": null,
            "object_fit": null,
            "object_position": null,
            "order": null,
            "overflow": null,
            "overflow_x": null,
            "overflow_y": null,
            "padding": null,
            "right": null,
            "top": null,
            "visibility": null,
            "width": null
          }
        },
        "fa01d291808e4243a85990b4c450589a": {
          "model_module": "@jupyter-widgets/controls",
          "model_name": "DescriptionStyleModel",
          "model_module_version": "1.5.0",
          "state": {
            "_model_module": "@jupyter-widgets/controls",
            "_model_module_version": "1.5.0",
            "_model_name": "DescriptionStyleModel",
            "_view_count": null,
            "_view_module": "@jupyter-widgets/base",
            "_view_module_version": "1.2.0",
            "_view_name": "StyleView",
            "description_width": ""
          }
        },
        "18d72848539b4ed487640752b6466756": {
          "model_module": "@jupyter-widgets/base",
          "model_name": "LayoutModel",
          "model_module_version": "1.2.0",
          "state": {
            "_model_module": "@jupyter-widgets/base",
            "_model_module_version": "1.2.0",
            "_model_name": "LayoutModel",
            "_view_count": null,
            "_view_module": "@jupyter-widgets/base",
            "_view_module_version": "1.2.0",
            "_view_name": "LayoutView",
            "align_content": null,
            "align_items": null,
            "align_self": null,
            "border": null,
            "bottom": null,
            "display": null,
            "flex": null,
            "flex_flow": null,
            "grid_area": null,
            "grid_auto_columns": null,
            "grid_auto_flow": null,
            "grid_auto_rows": null,
            "grid_column": null,
            "grid_gap": null,
            "grid_row": null,
            "grid_template_areas": null,
            "grid_template_columns": null,
            "grid_template_rows": null,
            "height": null,
            "justify_content": null,
            "justify_items": null,
            "left": null,
            "margin": null,
            "max_height": null,
            "max_width": null,
            "min_height": null,
            "min_width": null,
            "object_fit": null,
            "object_position": null,
            "order": null,
            "overflow": null,
            "overflow_x": null,
            "overflow_y": null,
            "padding": null,
            "right": null,
            "top": null,
            "visibility": null,
            "width": null
          }
        },
        "5cb07e5ce3254b8181ea02d88102b0f4": {
          "model_module": "@jupyter-widgets/controls",
          "model_name": "ProgressStyleModel",
          "model_module_version": "1.5.0",
          "state": {
            "_model_module": "@jupyter-widgets/controls",
            "_model_module_version": "1.5.0",
            "_model_name": "ProgressStyleModel",
            "_view_count": null,
            "_view_module": "@jupyter-widgets/base",
            "_view_module_version": "1.2.0",
            "_view_name": "StyleView",
            "bar_color": null,
            "description_width": ""
          }
        },
        "de89c5bf67894d3298622e67e5f27138": {
          "model_module": "@jupyter-widgets/controls",
          "model_name": "VBoxModel",
          "model_module_version": "1.5.0",
          "state": {
            "_dom_classes": [],
            "_model_module": "@jupyter-widgets/controls",
            "_model_module_version": "1.5.0",
            "_model_name": "VBoxModel",
            "_view_count": null,
            "_view_module": "@jupyter-widgets/controls",
            "_view_module_version": "1.5.0",
            "_view_name": "VBoxView",
            "box_style": "",
            "children": [
              "IPY_MODEL_7a6c92faa07e4481910112ce8215de5d",
              "IPY_MODEL_50981785bf074ea7a8a1f04e059e6175"
            ],
            "layout": "IPY_MODEL_139b052963fd47b9845521bb4a6617f3"
          }
        },
        "7a6c92faa07e4481910112ce8215de5d": {
          "model_module": "@jupyter-widgets/controls",
          "model_name": "LabelModel",
          "model_module_version": "1.5.0",
          "state": {
            "_dom_classes": [],
            "_model_module": "@jupyter-widgets/controls",
            "_model_module_version": "1.5.0",
            "_model_name": "LabelModel",
            "_view_count": null,
            "_view_module": "@jupyter-widgets/controls",
            "_view_module_version": "1.5.0",
            "_view_name": "LabelView",
            "description": "",
            "description_tooltip": null,
            "layout": "IPY_MODEL_15f8e58d625149f19b59827ae39aaeb2",
            "placeholder": "​",
            "style": "IPY_MODEL_c747e85fa298404b99fb368d6e821b62",
            "value": "0.013 MB of 0.013 MB uploaded (0.000 MB deduped)\r"
          }
        },
        "50981785bf074ea7a8a1f04e059e6175": {
          "model_module": "@jupyter-widgets/controls",
          "model_name": "FloatProgressModel",
          "model_module_version": "1.5.0",
          "state": {
            "_dom_classes": [],
            "_model_module": "@jupyter-widgets/controls",
            "_model_module_version": "1.5.0",
            "_model_name": "FloatProgressModel",
            "_view_count": null,
            "_view_module": "@jupyter-widgets/controls",
            "_view_module_version": "1.5.0",
            "_view_name": "ProgressView",
            "bar_style": "",
            "description": "",
            "description_tooltip": null,
            "layout": "IPY_MODEL_134326d7f50d48099d20aab75dfe683f",
            "max": 1,
            "min": 0,
            "orientation": "horizontal",
            "style": "IPY_MODEL_8da58826dcba4e1f8f2854567fa535d4",
            "value": 1
          }
        },
        "139b052963fd47b9845521bb4a6617f3": {
          "model_module": "@jupyter-widgets/base",
          "model_name": "LayoutModel",
          "model_module_version": "1.2.0",
          "state": {
            "_model_module": "@jupyter-widgets/base",
            "_model_module_version": "1.2.0",
            "_model_name": "LayoutModel",
            "_view_count": null,
            "_view_module": "@jupyter-widgets/base",
            "_view_module_version": "1.2.0",
            "_view_name": "LayoutView",
            "align_content": null,
            "align_items": null,
            "align_self": null,
            "border": null,
            "bottom": null,
            "display": null,
            "flex": null,
            "flex_flow": null,
            "grid_area": null,
            "grid_auto_columns": null,
            "grid_auto_flow": null,
            "grid_auto_rows": null,
            "grid_column": null,
            "grid_gap": null,
            "grid_row": null,
            "grid_template_areas": null,
            "grid_template_columns": null,
            "grid_template_rows": null,
            "height": null,
            "justify_content": null,
            "justify_items": null,
            "left": null,
            "margin": null,
            "max_height": null,
            "max_width": null,
            "min_height": null,
            "min_width": null,
            "object_fit": null,
            "object_position": null,
            "order": null,
            "overflow": null,
            "overflow_x": null,
            "overflow_y": null,
            "padding": null,
            "right": null,
            "top": null,
            "visibility": null,
            "width": null
          }
        },
        "15f8e58d625149f19b59827ae39aaeb2": {
          "model_module": "@jupyter-widgets/base",
          "model_name": "LayoutModel",
          "model_module_version": "1.2.0",
          "state": {
            "_model_module": "@jupyter-widgets/base",
            "_model_module_version": "1.2.0",
            "_model_name": "LayoutModel",
            "_view_count": null,
            "_view_module": "@jupyter-widgets/base",
            "_view_module_version": "1.2.0",
            "_view_name": "LayoutView",
            "align_content": null,
            "align_items": null,
            "align_self": null,
            "border": null,
            "bottom": null,
            "display": null,
            "flex": null,
            "flex_flow": null,
            "grid_area": null,
            "grid_auto_columns": null,
            "grid_auto_flow": null,
            "grid_auto_rows": null,
            "grid_column": null,
            "grid_gap": null,
            "grid_row": null,
            "grid_template_areas": null,
            "grid_template_columns": null,
            "grid_template_rows": null,
            "height": null,
            "justify_content": null,
            "justify_items": null,
            "left": null,
            "margin": null,
            "max_height": null,
            "max_width": null,
            "min_height": null,
            "min_width": null,
            "object_fit": null,
            "object_position": null,
            "order": null,
            "overflow": null,
            "overflow_x": null,
            "overflow_y": null,
            "padding": null,
            "right": null,
            "top": null,
            "visibility": null,
            "width": null
          }
        },
        "c747e85fa298404b99fb368d6e821b62": {
          "model_module": "@jupyter-widgets/controls",
          "model_name": "DescriptionStyleModel",
          "model_module_version": "1.5.0",
          "state": {
            "_model_module": "@jupyter-widgets/controls",
            "_model_module_version": "1.5.0",
            "_model_name": "DescriptionStyleModel",
            "_view_count": null,
            "_view_module": "@jupyter-widgets/base",
            "_view_module_version": "1.2.0",
            "_view_name": "StyleView",
            "description_width": ""
          }
        },
        "134326d7f50d48099d20aab75dfe683f": {
          "model_module": "@jupyter-widgets/base",
          "model_name": "LayoutModel",
          "model_module_version": "1.2.0",
          "state": {
            "_model_module": "@jupyter-widgets/base",
            "_model_module_version": "1.2.0",
            "_model_name": "LayoutModel",
            "_view_count": null,
            "_view_module": "@jupyter-widgets/base",
            "_view_module_version": "1.2.0",
            "_view_name": "LayoutView",
            "align_content": null,
            "align_items": null,
            "align_self": null,
            "border": null,
            "bottom": null,
            "display": null,
            "flex": null,
            "flex_flow": null,
            "grid_area": null,
            "grid_auto_columns": null,
            "grid_auto_flow": null,
            "grid_auto_rows": null,
            "grid_column": null,
            "grid_gap": null,
            "grid_row": null,
            "grid_template_areas": null,
            "grid_template_columns": null,
            "grid_template_rows": null,
            "height": null,
            "justify_content": null,
            "justify_items": null,
            "left": null,
            "margin": null,
            "max_height": null,
            "max_width": null,
            "min_height": null,
            "min_width": null,
            "object_fit": null,
            "object_position": null,
            "order": null,
            "overflow": null,
            "overflow_x": null,
            "overflow_y": null,
            "padding": null,
            "right": null,
            "top": null,
            "visibility": null,
            "width": null
          }
        },
        "8da58826dcba4e1f8f2854567fa535d4": {
          "model_module": "@jupyter-widgets/controls",
          "model_name": "ProgressStyleModel",
          "model_module_version": "1.5.0",
          "state": {
            "_model_module": "@jupyter-widgets/controls",
            "_model_module_version": "1.5.0",
            "_model_name": "ProgressStyleModel",
            "_view_count": null,
            "_view_module": "@jupyter-widgets/base",
            "_view_module_version": "1.2.0",
            "_view_name": "StyleView",
            "bar_color": null,
            "description_width": ""
          }
        },
        "7cd02727feae4772a53e05f5d86ac818": {
          "model_module": "@jupyter-widgets/controls",
          "model_name": "VBoxModel",
          "model_module_version": "1.5.0",
          "state": {
            "_dom_classes": [],
            "_model_module": "@jupyter-widgets/controls",
            "_model_module_version": "1.5.0",
            "_model_name": "VBoxModel",
            "_view_count": null,
            "_view_module": "@jupyter-widgets/controls",
            "_view_module_version": "1.5.0",
            "_view_name": "VBoxView",
            "box_style": "",
            "children": [
              "IPY_MODEL_426e2f0fb7884e3e916c514df14fd7eb",
              "IPY_MODEL_89a956b7bbf346fab83c91fc109fea55"
            ],
            "layout": "IPY_MODEL_b70a8812cca74490b4eea8631c9cb1df"
          }
        },
        "426e2f0fb7884e3e916c514df14fd7eb": {
          "model_module": "@jupyter-widgets/controls",
          "model_name": "LabelModel",
          "model_module_version": "1.5.0",
          "state": {
            "_dom_classes": [],
            "_model_module": "@jupyter-widgets/controls",
            "_model_module_version": "1.5.0",
            "_model_name": "LabelModel",
            "_view_count": null,
            "_view_module": "@jupyter-widgets/controls",
            "_view_module_version": "1.5.0",
            "_view_name": "LabelView",
            "description": "",
            "description_tooltip": null,
            "layout": "IPY_MODEL_23521416223947a7b6fd2ab0c5148f16",
            "placeholder": "​",
            "style": "IPY_MODEL_35711b52bdde41c595ee99e1296c9528",
            "value": "0.013 MB of 0.013 MB uploaded (0.000 MB deduped)\r"
          }
        },
        "89a956b7bbf346fab83c91fc109fea55": {
          "model_module": "@jupyter-widgets/controls",
          "model_name": "FloatProgressModel",
          "model_module_version": "1.5.0",
          "state": {
            "_dom_classes": [],
            "_model_module": "@jupyter-widgets/controls",
            "_model_module_version": "1.5.0",
            "_model_name": "FloatProgressModel",
            "_view_count": null,
            "_view_module": "@jupyter-widgets/controls",
            "_view_module_version": "1.5.0",
            "_view_name": "ProgressView",
            "bar_style": "",
            "description": "",
            "description_tooltip": null,
            "layout": "IPY_MODEL_002b1b94aab546108b6341335207b513",
            "max": 1,
            "min": 0,
            "orientation": "horizontal",
            "style": "IPY_MODEL_6e0f5785dc714a68afb4eca1fc9f2291",
            "value": 1
          }
        },
        "b70a8812cca74490b4eea8631c9cb1df": {
          "model_module": "@jupyter-widgets/base",
          "model_name": "LayoutModel",
          "model_module_version": "1.2.0",
          "state": {
            "_model_module": "@jupyter-widgets/base",
            "_model_module_version": "1.2.0",
            "_model_name": "LayoutModel",
            "_view_count": null,
            "_view_module": "@jupyter-widgets/base",
            "_view_module_version": "1.2.0",
            "_view_name": "LayoutView",
            "align_content": null,
            "align_items": null,
            "align_self": null,
            "border": null,
            "bottom": null,
            "display": null,
            "flex": null,
            "flex_flow": null,
            "grid_area": null,
            "grid_auto_columns": null,
            "grid_auto_flow": null,
            "grid_auto_rows": null,
            "grid_column": null,
            "grid_gap": null,
            "grid_row": null,
            "grid_template_areas": null,
            "grid_template_columns": null,
            "grid_template_rows": null,
            "height": null,
            "justify_content": null,
            "justify_items": null,
            "left": null,
            "margin": null,
            "max_height": null,
            "max_width": null,
            "min_height": null,
            "min_width": null,
            "object_fit": null,
            "object_position": null,
            "order": null,
            "overflow": null,
            "overflow_x": null,
            "overflow_y": null,
            "padding": null,
            "right": null,
            "top": null,
            "visibility": null,
            "width": null
          }
        },
        "23521416223947a7b6fd2ab0c5148f16": {
          "model_module": "@jupyter-widgets/base",
          "model_name": "LayoutModel",
          "model_module_version": "1.2.0",
          "state": {
            "_model_module": "@jupyter-widgets/base",
            "_model_module_version": "1.2.0",
            "_model_name": "LayoutModel",
            "_view_count": null,
            "_view_module": "@jupyter-widgets/base",
            "_view_module_version": "1.2.0",
            "_view_name": "LayoutView",
            "align_content": null,
            "align_items": null,
            "align_self": null,
            "border": null,
            "bottom": null,
            "display": null,
            "flex": null,
            "flex_flow": null,
            "grid_area": null,
            "grid_auto_columns": null,
            "grid_auto_flow": null,
            "grid_auto_rows": null,
            "grid_column": null,
            "grid_gap": null,
            "grid_row": null,
            "grid_template_areas": null,
            "grid_template_columns": null,
            "grid_template_rows": null,
            "height": null,
            "justify_content": null,
            "justify_items": null,
            "left": null,
            "margin": null,
            "max_height": null,
            "max_width": null,
            "min_height": null,
            "min_width": null,
            "object_fit": null,
            "object_position": null,
            "order": null,
            "overflow": null,
            "overflow_x": null,
            "overflow_y": null,
            "padding": null,
            "right": null,
            "top": null,
            "visibility": null,
            "width": null
          }
        },
        "35711b52bdde41c595ee99e1296c9528": {
          "model_module": "@jupyter-widgets/controls",
          "model_name": "DescriptionStyleModel",
          "model_module_version": "1.5.0",
          "state": {
            "_model_module": "@jupyter-widgets/controls",
            "_model_module_version": "1.5.0",
            "_model_name": "DescriptionStyleModel",
            "_view_count": null,
            "_view_module": "@jupyter-widgets/base",
            "_view_module_version": "1.2.0",
            "_view_name": "StyleView",
            "description_width": ""
          }
        },
        "002b1b94aab546108b6341335207b513": {
          "model_module": "@jupyter-widgets/base",
          "model_name": "LayoutModel",
          "model_module_version": "1.2.0",
          "state": {
            "_model_module": "@jupyter-widgets/base",
            "_model_module_version": "1.2.0",
            "_model_name": "LayoutModel",
            "_view_count": null,
            "_view_module": "@jupyter-widgets/base",
            "_view_module_version": "1.2.0",
            "_view_name": "LayoutView",
            "align_content": null,
            "align_items": null,
            "align_self": null,
            "border": null,
            "bottom": null,
            "display": null,
            "flex": null,
            "flex_flow": null,
            "grid_area": null,
            "grid_auto_columns": null,
            "grid_auto_flow": null,
            "grid_auto_rows": null,
            "grid_column": null,
            "grid_gap": null,
            "grid_row": null,
            "grid_template_areas": null,
            "grid_template_columns": null,
            "grid_template_rows": null,
            "height": null,
            "justify_content": null,
            "justify_items": null,
            "left": null,
            "margin": null,
            "max_height": null,
            "max_width": null,
            "min_height": null,
            "min_width": null,
            "object_fit": null,
            "object_position": null,
            "order": null,
            "overflow": null,
            "overflow_x": null,
            "overflow_y": null,
            "padding": null,
            "right": null,
            "top": null,
            "visibility": null,
            "width": null
          }
        },
        "6e0f5785dc714a68afb4eca1fc9f2291": {
          "model_module": "@jupyter-widgets/controls",
          "model_name": "ProgressStyleModel",
          "model_module_version": "1.5.0",
          "state": {
            "_model_module": "@jupyter-widgets/controls",
            "_model_module_version": "1.5.0",
            "_model_name": "ProgressStyleModel",
            "_view_count": null,
            "_view_module": "@jupyter-widgets/base",
            "_view_module_version": "1.2.0",
            "_view_name": "StyleView",
            "bar_color": null,
            "description_width": ""
          }
        },
        "a54952e923e84a44bc6dde1dbc205f90": {
          "model_module": "@jupyter-widgets/controls",
          "model_name": "VBoxModel",
          "model_module_version": "1.5.0",
          "state": {
            "_dom_classes": [],
            "_model_module": "@jupyter-widgets/controls",
            "_model_module_version": "1.5.0",
            "_model_name": "VBoxModel",
            "_view_count": null,
            "_view_module": "@jupyter-widgets/controls",
            "_view_module_version": "1.5.0",
            "_view_name": "VBoxView",
            "box_style": "",
            "children": [
              "IPY_MODEL_6c00b978739249b1b1bf4297aba696da",
              "IPY_MODEL_0ade5e199d27480aa30d01b3a43aaa40"
            ],
            "layout": "IPY_MODEL_3d21dec69f6e4153a6590ad085307cd0"
          }
        },
        "6c00b978739249b1b1bf4297aba696da": {
          "model_module": "@jupyter-widgets/controls",
          "model_name": "LabelModel",
          "model_module_version": "1.5.0",
          "state": {
            "_dom_classes": [],
            "_model_module": "@jupyter-widgets/controls",
            "_model_module_version": "1.5.0",
            "_model_name": "LabelModel",
            "_view_count": null,
            "_view_module": "@jupyter-widgets/controls",
            "_view_module_version": "1.5.0",
            "_view_name": "LabelView",
            "description": "",
            "description_tooltip": null,
            "layout": "IPY_MODEL_6671641057d34546a6a29e810b730626",
            "placeholder": "​",
            "style": "IPY_MODEL_0d848746f58a4b49a02043b14eb28d72",
            "value": "0.013 MB of 0.013 MB uploaded (0.000 MB deduped)\r"
          }
        },
        "0ade5e199d27480aa30d01b3a43aaa40": {
          "model_module": "@jupyter-widgets/controls",
          "model_name": "FloatProgressModel",
          "model_module_version": "1.5.0",
          "state": {
            "_dom_classes": [],
            "_model_module": "@jupyter-widgets/controls",
            "_model_module_version": "1.5.0",
            "_model_name": "FloatProgressModel",
            "_view_count": null,
            "_view_module": "@jupyter-widgets/controls",
            "_view_module_version": "1.5.0",
            "_view_name": "ProgressView",
            "bar_style": "",
            "description": "",
            "description_tooltip": null,
            "layout": "IPY_MODEL_a43ffa12f8a74a568906c26c8a9df59a",
            "max": 1,
            "min": 0,
            "orientation": "horizontal",
            "style": "IPY_MODEL_98fedca9fae84fd68b27aebe5a2ddbb1",
            "value": 1
          }
        },
        "3d21dec69f6e4153a6590ad085307cd0": {
          "model_module": "@jupyter-widgets/base",
          "model_name": "LayoutModel",
          "model_module_version": "1.2.0",
          "state": {
            "_model_module": "@jupyter-widgets/base",
            "_model_module_version": "1.2.0",
            "_model_name": "LayoutModel",
            "_view_count": null,
            "_view_module": "@jupyter-widgets/base",
            "_view_module_version": "1.2.0",
            "_view_name": "LayoutView",
            "align_content": null,
            "align_items": null,
            "align_self": null,
            "border": null,
            "bottom": null,
            "display": null,
            "flex": null,
            "flex_flow": null,
            "grid_area": null,
            "grid_auto_columns": null,
            "grid_auto_flow": null,
            "grid_auto_rows": null,
            "grid_column": null,
            "grid_gap": null,
            "grid_row": null,
            "grid_template_areas": null,
            "grid_template_columns": null,
            "grid_template_rows": null,
            "height": null,
            "justify_content": null,
            "justify_items": null,
            "left": null,
            "margin": null,
            "max_height": null,
            "max_width": null,
            "min_height": null,
            "min_width": null,
            "object_fit": null,
            "object_position": null,
            "order": null,
            "overflow": null,
            "overflow_x": null,
            "overflow_y": null,
            "padding": null,
            "right": null,
            "top": null,
            "visibility": null,
            "width": null
          }
        },
        "6671641057d34546a6a29e810b730626": {
          "model_module": "@jupyter-widgets/base",
          "model_name": "LayoutModel",
          "model_module_version": "1.2.0",
          "state": {
            "_model_module": "@jupyter-widgets/base",
            "_model_module_version": "1.2.0",
            "_model_name": "LayoutModel",
            "_view_count": null,
            "_view_module": "@jupyter-widgets/base",
            "_view_module_version": "1.2.0",
            "_view_name": "LayoutView",
            "align_content": null,
            "align_items": null,
            "align_self": null,
            "border": null,
            "bottom": null,
            "display": null,
            "flex": null,
            "flex_flow": null,
            "grid_area": null,
            "grid_auto_columns": null,
            "grid_auto_flow": null,
            "grid_auto_rows": null,
            "grid_column": null,
            "grid_gap": null,
            "grid_row": null,
            "grid_template_areas": null,
            "grid_template_columns": null,
            "grid_template_rows": null,
            "height": null,
            "justify_content": null,
            "justify_items": null,
            "left": null,
            "margin": null,
            "max_height": null,
            "max_width": null,
            "min_height": null,
            "min_width": null,
            "object_fit": null,
            "object_position": null,
            "order": null,
            "overflow": null,
            "overflow_x": null,
            "overflow_y": null,
            "padding": null,
            "right": null,
            "top": null,
            "visibility": null,
            "width": null
          }
        },
        "0d848746f58a4b49a02043b14eb28d72": {
          "model_module": "@jupyter-widgets/controls",
          "model_name": "DescriptionStyleModel",
          "model_module_version": "1.5.0",
          "state": {
            "_model_module": "@jupyter-widgets/controls",
            "_model_module_version": "1.5.0",
            "_model_name": "DescriptionStyleModel",
            "_view_count": null,
            "_view_module": "@jupyter-widgets/base",
            "_view_module_version": "1.2.0",
            "_view_name": "StyleView",
            "description_width": ""
          }
        },
        "a43ffa12f8a74a568906c26c8a9df59a": {
          "model_module": "@jupyter-widgets/base",
          "model_name": "LayoutModel",
          "model_module_version": "1.2.0",
          "state": {
            "_model_module": "@jupyter-widgets/base",
            "_model_module_version": "1.2.0",
            "_model_name": "LayoutModel",
            "_view_count": null,
            "_view_module": "@jupyter-widgets/base",
            "_view_module_version": "1.2.0",
            "_view_name": "LayoutView",
            "align_content": null,
            "align_items": null,
            "align_self": null,
            "border": null,
            "bottom": null,
            "display": null,
            "flex": null,
            "flex_flow": null,
            "grid_area": null,
            "grid_auto_columns": null,
            "grid_auto_flow": null,
            "grid_auto_rows": null,
            "grid_column": null,
            "grid_gap": null,
            "grid_row": null,
            "grid_template_areas": null,
            "grid_template_columns": null,
            "grid_template_rows": null,
            "height": null,
            "justify_content": null,
            "justify_items": null,
            "left": null,
            "margin": null,
            "max_height": null,
            "max_width": null,
            "min_height": null,
            "min_width": null,
            "object_fit": null,
            "object_position": null,
            "order": null,
            "overflow": null,
            "overflow_x": null,
            "overflow_y": null,
            "padding": null,
            "right": null,
            "top": null,
            "visibility": null,
            "width": null
          }
        },
        "98fedca9fae84fd68b27aebe5a2ddbb1": {
          "model_module": "@jupyter-widgets/controls",
          "model_name": "ProgressStyleModel",
          "model_module_version": "1.5.0",
          "state": {
            "_model_module": "@jupyter-widgets/controls",
            "_model_module_version": "1.5.0",
            "_model_name": "ProgressStyleModel",
            "_view_count": null,
            "_view_module": "@jupyter-widgets/base",
            "_view_module_version": "1.2.0",
            "_view_name": "StyleView",
            "bar_color": null,
            "description_width": ""
          }
        },
        "45286c79141e4907a1691c16ce5a6f13": {
          "model_module": "@jupyter-widgets/controls",
          "model_name": "VBoxModel",
          "model_module_version": "1.5.0",
          "state": {
            "_dom_classes": [],
            "_model_module": "@jupyter-widgets/controls",
            "_model_module_version": "1.5.0",
            "_model_name": "VBoxModel",
            "_view_count": null,
            "_view_module": "@jupyter-widgets/controls",
            "_view_module_version": "1.5.0",
            "_view_name": "VBoxView",
            "box_style": "",
            "children": [
              "IPY_MODEL_ac05bc12666343fb8198508e7cf42dc8",
              "IPY_MODEL_2bdd66c9095e42e3baae3c9ea43f237c"
            ],
            "layout": "IPY_MODEL_0f9aa0ca90c5495083b92f127055df0b"
          }
        },
        "ac05bc12666343fb8198508e7cf42dc8": {
          "model_module": "@jupyter-widgets/controls",
          "model_name": "LabelModel",
          "model_module_version": "1.5.0",
          "state": {
            "_dom_classes": [],
            "_model_module": "@jupyter-widgets/controls",
            "_model_module_version": "1.5.0",
            "_model_name": "LabelModel",
            "_view_count": null,
            "_view_module": "@jupyter-widgets/controls",
            "_view_module_version": "1.5.0",
            "_view_name": "LabelView",
            "description": "",
            "description_tooltip": null,
            "layout": "IPY_MODEL_215ae31820ae4240a5a22d1370807cac",
            "placeholder": "​",
            "style": "IPY_MODEL_4a6c987aab9641a58cbe12ec7f8f808c",
            "value": "0.013 MB of 0.013 MB uploaded (0.000 MB deduped)\r"
          }
        },
        "2bdd66c9095e42e3baae3c9ea43f237c": {
          "model_module": "@jupyter-widgets/controls",
          "model_name": "FloatProgressModel",
          "model_module_version": "1.5.0",
          "state": {
            "_dom_classes": [],
            "_model_module": "@jupyter-widgets/controls",
            "_model_module_version": "1.5.0",
            "_model_name": "FloatProgressModel",
            "_view_count": null,
            "_view_module": "@jupyter-widgets/controls",
            "_view_module_version": "1.5.0",
            "_view_name": "ProgressView",
            "bar_style": "",
            "description": "",
            "description_tooltip": null,
            "layout": "IPY_MODEL_2e20e540cf504eeaa09e7cf2cd3b535b",
            "max": 1,
            "min": 0,
            "orientation": "horizontal",
            "style": "IPY_MODEL_4274e713d206462d969c17a42281ccc9",
            "value": 1
          }
        },
        "0f9aa0ca90c5495083b92f127055df0b": {
          "model_module": "@jupyter-widgets/base",
          "model_name": "LayoutModel",
          "model_module_version": "1.2.0",
          "state": {
            "_model_module": "@jupyter-widgets/base",
            "_model_module_version": "1.2.0",
            "_model_name": "LayoutModel",
            "_view_count": null,
            "_view_module": "@jupyter-widgets/base",
            "_view_module_version": "1.2.0",
            "_view_name": "LayoutView",
            "align_content": null,
            "align_items": null,
            "align_self": null,
            "border": null,
            "bottom": null,
            "display": null,
            "flex": null,
            "flex_flow": null,
            "grid_area": null,
            "grid_auto_columns": null,
            "grid_auto_flow": null,
            "grid_auto_rows": null,
            "grid_column": null,
            "grid_gap": null,
            "grid_row": null,
            "grid_template_areas": null,
            "grid_template_columns": null,
            "grid_template_rows": null,
            "height": null,
            "justify_content": null,
            "justify_items": null,
            "left": null,
            "margin": null,
            "max_height": null,
            "max_width": null,
            "min_height": null,
            "min_width": null,
            "object_fit": null,
            "object_position": null,
            "order": null,
            "overflow": null,
            "overflow_x": null,
            "overflow_y": null,
            "padding": null,
            "right": null,
            "top": null,
            "visibility": null,
            "width": null
          }
        },
        "215ae31820ae4240a5a22d1370807cac": {
          "model_module": "@jupyter-widgets/base",
          "model_name": "LayoutModel",
          "model_module_version": "1.2.0",
          "state": {
            "_model_module": "@jupyter-widgets/base",
            "_model_module_version": "1.2.0",
            "_model_name": "LayoutModel",
            "_view_count": null,
            "_view_module": "@jupyter-widgets/base",
            "_view_module_version": "1.2.0",
            "_view_name": "LayoutView",
            "align_content": null,
            "align_items": null,
            "align_self": null,
            "border": null,
            "bottom": null,
            "display": null,
            "flex": null,
            "flex_flow": null,
            "grid_area": null,
            "grid_auto_columns": null,
            "grid_auto_flow": null,
            "grid_auto_rows": null,
            "grid_column": null,
            "grid_gap": null,
            "grid_row": null,
            "grid_template_areas": null,
            "grid_template_columns": null,
            "grid_template_rows": null,
            "height": null,
            "justify_content": null,
            "justify_items": null,
            "left": null,
            "margin": null,
            "max_height": null,
            "max_width": null,
            "min_height": null,
            "min_width": null,
            "object_fit": null,
            "object_position": null,
            "order": null,
            "overflow": null,
            "overflow_x": null,
            "overflow_y": null,
            "padding": null,
            "right": null,
            "top": null,
            "visibility": null,
            "width": null
          }
        },
        "4a6c987aab9641a58cbe12ec7f8f808c": {
          "model_module": "@jupyter-widgets/controls",
          "model_name": "DescriptionStyleModel",
          "model_module_version": "1.5.0",
          "state": {
            "_model_module": "@jupyter-widgets/controls",
            "_model_module_version": "1.5.0",
            "_model_name": "DescriptionStyleModel",
            "_view_count": null,
            "_view_module": "@jupyter-widgets/base",
            "_view_module_version": "1.2.0",
            "_view_name": "StyleView",
            "description_width": ""
          }
        },
        "2e20e540cf504eeaa09e7cf2cd3b535b": {
          "model_module": "@jupyter-widgets/base",
          "model_name": "LayoutModel",
          "model_module_version": "1.2.0",
          "state": {
            "_model_module": "@jupyter-widgets/base",
            "_model_module_version": "1.2.0",
            "_model_name": "LayoutModel",
            "_view_count": null,
            "_view_module": "@jupyter-widgets/base",
            "_view_module_version": "1.2.0",
            "_view_name": "LayoutView",
            "align_content": null,
            "align_items": null,
            "align_self": null,
            "border": null,
            "bottom": null,
            "display": null,
            "flex": null,
            "flex_flow": null,
            "grid_area": null,
            "grid_auto_columns": null,
            "grid_auto_flow": null,
            "grid_auto_rows": null,
            "grid_column": null,
            "grid_gap": null,
            "grid_row": null,
            "grid_template_areas": null,
            "grid_template_columns": null,
            "grid_template_rows": null,
            "height": null,
            "justify_content": null,
            "justify_items": null,
            "left": null,
            "margin": null,
            "max_height": null,
            "max_width": null,
            "min_height": null,
            "min_width": null,
            "object_fit": null,
            "object_position": null,
            "order": null,
            "overflow": null,
            "overflow_x": null,
            "overflow_y": null,
            "padding": null,
            "right": null,
            "top": null,
            "visibility": null,
            "width": null
          }
        },
        "4274e713d206462d969c17a42281ccc9": {
          "model_module": "@jupyter-widgets/controls",
          "model_name": "ProgressStyleModel",
          "model_module_version": "1.5.0",
          "state": {
            "_model_module": "@jupyter-widgets/controls",
            "_model_module_version": "1.5.0",
            "_model_name": "ProgressStyleModel",
            "_view_count": null,
            "_view_module": "@jupyter-widgets/base",
            "_view_module_version": "1.2.0",
            "_view_name": "StyleView",
            "bar_color": null,
            "description_width": ""
          }
        },
        "e07933a96e5d498fbbc9fe4ddbde86de": {
          "model_module": "@jupyter-widgets/controls",
          "model_name": "VBoxModel",
          "model_module_version": "1.5.0",
          "state": {
            "_dom_classes": [],
            "_model_module": "@jupyter-widgets/controls",
            "_model_module_version": "1.5.0",
            "_model_name": "VBoxModel",
            "_view_count": null,
            "_view_module": "@jupyter-widgets/controls",
            "_view_module_version": "1.5.0",
            "_view_name": "VBoxView",
            "box_style": "",
            "children": [
              "IPY_MODEL_dcefaa675a6848e7aa08a87b2e6318a4",
              "IPY_MODEL_2557f0098d3f4bec9f83669896505ed4"
            ],
            "layout": "IPY_MODEL_5987cf8581c44e798ff518ba199070cc"
          }
        },
        "dcefaa675a6848e7aa08a87b2e6318a4": {
          "model_module": "@jupyter-widgets/controls",
          "model_name": "LabelModel",
          "model_module_version": "1.5.0",
          "state": {
            "_dom_classes": [],
            "_model_module": "@jupyter-widgets/controls",
            "_model_module_version": "1.5.0",
            "_model_name": "LabelModel",
            "_view_count": null,
            "_view_module": "@jupyter-widgets/controls",
            "_view_module_version": "1.5.0",
            "_view_name": "LabelView",
            "description": "",
            "description_tooltip": null,
            "layout": "IPY_MODEL_ac575e6c448f4a3aac33ea8cc24c31f3",
            "placeholder": "​",
            "style": "IPY_MODEL_111b44c680e244fa9b94af02792c5ed8",
            "value": "0.013 MB of 0.013 MB uploaded (0.000 MB deduped)\r"
          }
        },
        "2557f0098d3f4bec9f83669896505ed4": {
          "model_module": "@jupyter-widgets/controls",
          "model_name": "FloatProgressModel",
          "model_module_version": "1.5.0",
          "state": {
            "_dom_classes": [],
            "_model_module": "@jupyter-widgets/controls",
            "_model_module_version": "1.5.0",
            "_model_name": "FloatProgressModel",
            "_view_count": null,
            "_view_module": "@jupyter-widgets/controls",
            "_view_module_version": "1.5.0",
            "_view_name": "ProgressView",
            "bar_style": "",
            "description": "",
            "description_tooltip": null,
            "layout": "IPY_MODEL_da387af265a84df6a6c16d80ee173d24",
            "max": 1,
            "min": 0,
            "orientation": "horizontal",
            "style": "IPY_MODEL_6cf21fe285f94e3caef2b0bc3d64f638",
            "value": 1
          }
        },
        "5987cf8581c44e798ff518ba199070cc": {
          "model_module": "@jupyter-widgets/base",
          "model_name": "LayoutModel",
          "model_module_version": "1.2.0",
          "state": {
            "_model_module": "@jupyter-widgets/base",
            "_model_module_version": "1.2.0",
            "_model_name": "LayoutModel",
            "_view_count": null,
            "_view_module": "@jupyter-widgets/base",
            "_view_module_version": "1.2.0",
            "_view_name": "LayoutView",
            "align_content": null,
            "align_items": null,
            "align_self": null,
            "border": null,
            "bottom": null,
            "display": null,
            "flex": null,
            "flex_flow": null,
            "grid_area": null,
            "grid_auto_columns": null,
            "grid_auto_flow": null,
            "grid_auto_rows": null,
            "grid_column": null,
            "grid_gap": null,
            "grid_row": null,
            "grid_template_areas": null,
            "grid_template_columns": null,
            "grid_template_rows": null,
            "height": null,
            "justify_content": null,
            "justify_items": null,
            "left": null,
            "margin": null,
            "max_height": null,
            "max_width": null,
            "min_height": null,
            "min_width": null,
            "object_fit": null,
            "object_position": null,
            "order": null,
            "overflow": null,
            "overflow_x": null,
            "overflow_y": null,
            "padding": null,
            "right": null,
            "top": null,
            "visibility": null,
            "width": null
          }
        },
        "ac575e6c448f4a3aac33ea8cc24c31f3": {
          "model_module": "@jupyter-widgets/base",
          "model_name": "LayoutModel",
          "model_module_version": "1.2.0",
          "state": {
            "_model_module": "@jupyter-widgets/base",
            "_model_module_version": "1.2.0",
            "_model_name": "LayoutModel",
            "_view_count": null,
            "_view_module": "@jupyter-widgets/base",
            "_view_module_version": "1.2.0",
            "_view_name": "LayoutView",
            "align_content": null,
            "align_items": null,
            "align_self": null,
            "border": null,
            "bottom": null,
            "display": null,
            "flex": null,
            "flex_flow": null,
            "grid_area": null,
            "grid_auto_columns": null,
            "grid_auto_flow": null,
            "grid_auto_rows": null,
            "grid_column": null,
            "grid_gap": null,
            "grid_row": null,
            "grid_template_areas": null,
            "grid_template_columns": null,
            "grid_template_rows": null,
            "height": null,
            "justify_content": null,
            "justify_items": null,
            "left": null,
            "margin": null,
            "max_height": null,
            "max_width": null,
            "min_height": null,
            "min_width": null,
            "object_fit": null,
            "object_position": null,
            "order": null,
            "overflow": null,
            "overflow_x": null,
            "overflow_y": null,
            "padding": null,
            "right": null,
            "top": null,
            "visibility": null,
            "width": null
          }
        },
        "111b44c680e244fa9b94af02792c5ed8": {
          "model_module": "@jupyter-widgets/controls",
          "model_name": "DescriptionStyleModel",
          "model_module_version": "1.5.0",
          "state": {
            "_model_module": "@jupyter-widgets/controls",
            "_model_module_version": "1.5.0",
            "_model_name": "DescriptionStyleModel",
            "_view_count": null,
            "_view_module": "@jupyter-widgets/base",
            "_view_module_version": "1.2.0",
            "_view_name": "StyleView",
            "description_width": ""
          }
        },
        "da387af265a84df6a6c16d80ee173d24": {
          "model_module": "@jupyter-widgets/base",
          "model_name": "LayoutModel",
          "model_module_version": "1.2.0",
          "state": {
            "_model_module": "@jupyter-widgets/base",
            "_model_module_version": "1.2.0",
            "_model_name": "LayoutModel",
            "_view_count": null,
            "_view_module": "@jupyter-widgets/base",
            "_view_module_version": "1.2.0",
            "_view_name": "LayoutView",
            "align_content": null,
            "align_items": null,
            "align_self": null,
            "border": null,
            "bottom": null,
            "display": null,
            "flex": null,
            "flex_flow": null,
            "grid_area": null,
            "grid_auto_columns": null,
            "grid_auto_flow": null,
            "grid_auto_rows": null,
            "grid_column": null,
            "grid_gap": null,
            "grid_row": null,
            "grid_template_areas": null,
            "grid_template_columns": null,
            "grid_template_rows": null,
            "height": null,
            "justify_content": null,
            "justify_items": null,
            "left": null,
            "margin": null,
            "max_height": null,
            "max_width": null,
            "min_height": null,
            "min_width": null,
            "object_fit": null,
            "object_position": null,
            "order": null,
            "overflow": null,
            "overflow_x": null,
            "overflow_y": null,
            "padding": null,
            "right": null,
            "top": null,
            "visibility": null,
            "width": null
          }
        },
        "6cf21fe285f94e3caef2b0bc3d64f638": {
          "model_module": "@jupyter-widgets/controls",
          "model_name": "ProgressStyleModel",
          "model_module_version": "1.5.0",
          "state": {
            "_model_module": "@jupyter-widgets/controls",
            "_model_module_version": "1.5.0",
            "_model_name": "ProgressStyleModel",
            "_view_count": null,
            "_view_module": "@jupyter-widgets/base",
            "_view_module_version": "1.2.0",
            "_view_name": "StyleView",
            "bar_color": null,
            "description_width": ""
          }
        },
        "13428a1151ae440b9b5e5b01ba9e2a47": {
          "model_module": "@jupyter-widgets/controls",
          "model_name": "VBoxModel",
          "model_module_version": "1.5.0",
          "state": {
            "_dom_classes": [],
            "_model_module": "@jupyter-widgets/controls",
            "_model_module_version": "1.5.0",
            "_model_name": "VBoxModel",
            "_view_count": null,
            "_view_module": "@jupyter-widgets/controls",
            "_view_module_version": "1.5.0",
            "_view_name": "VBoxView",
            "box_style": "",
            "children": [
              "IPY_MODEL_63bd33d66b9d4baaba5d597d273d76a1",
              "IPY_MODEL_9a1dcb26d07c4b808a425cc2c660528c"
            ],
            "layout": "IPY_MODEL_3f1cd6278c30445080a3c77597b18632"
          }
        },
        "63bd33d66b9d4baaba5d597d273d76a1": {
          "model_module": "@jupyter-widgets/controls",
          "model_name": "LabelModel",
          "model_module_version": "1.5.0",
          "state": {
            "_dom_classes": [],
            "_model_module": "@jupyter-widgets/controls",
            "_model_module_version": "1.5.0",
            "_model_name": "LabelModel",
            "_view_count": null,
            "_view_module": "@jupyter-widgets/controls",
            "_view_module_version": "1.5.0",
            "_view_name": "LabelView",
            "description": "",
            "description_tooltip": null,
            "layout": "IPY_MODEL_7704510b869d427a9bbc8b566fae455f",
            "placeholder": "​",
            "style": "IPY_MODEL_336bcb362eb14dba9fec666dbf97fe4a",
            "value": "0.013 MB of 0.013 MB uploaded (0.000 MB deduped)\r"
          }
        },
        "9a1dcb26d07c4b808a425cc2c660528c": {
          "model_module": "@jupyter-widgets/controls",
          "model_name": "FloatProgressModel",
          "model_module_version": "1.5.0",
          "state": {
            "_dom_classes": [],
            "_model_module": "@jupyter-widgets/controls",
            "_model_module_version": "1.5.0",
            "_model_name": "FloatProgressModel",
            "_view_count": null,
            "_view_module": "@jupyter-widgets/controls",
            "_view_module_version": "1.5.0",
            "_view_name": "ProgressView",
            "bar_style": "",
            "description": "",
            "description_tooltip": null,
            "layout": "IPY_MODEL_195560fde00049db827f11d495a41b68",
            "max": 1,
            "min": 0,
            "orientation": "horizontal",
            "style": "IPY_MODEL_4eb1371fe4704e3c81127824c01f68e0",
            "value": 1
          }
        },
        "3f1cd6278c30445080a3c77597b18632": {
          "model_module": "@jupyter-widgets/base",
          "model_name": "LayoutModel",
          "model_module_version": "1.2.0",
          "state": {
            "_model_module": "@jupyter-widgets/base",
            "_model_module_version": "1.2.0",
            "_model_name": "LayoutModel",
            "_view_count": null,
            "_view_module": "@jupyter-widgets/base",
            "_view_module_version": "1.2.0",
            "_view_name": "LayoutView",
            "align_content": null,
            "align_items": null,
            "align_self": null,
            "border": null,
            "bottom": null,
            "display": null,
            "flex": null,
            "flex_flow": null,
            "grid_area": null,
            "grid_auto_columns": null,
            "grid_auto_flow": null,
            "grid_auto_rows": null,
            "grid_column": null,
            "grid_gap": null,
            "grid_row": null,
            "grid_template_areas": null,
            "grid_template_columns": null,
            "grid_template_rows": null,
            "height": null,
            "justify_content": null,
            "justify_items": null,
            "left": null,
            "margin": null,
            "max_height": null,
            "max_width": null,
            "min_height": null,
            "min_width": null,
            "object_fit": null,
            "object_position": null,
            "order": null,
            "overflow": null,
            "overflow_x": null,
            "overflow_y": null,
            "padding": null,
            "right": null,
            "top": null,
            "visibility": null,
            "width": null
          }
        },
        "7704510b869d427a9bbc8b566fae455f": {
          "model_module": "@jupyter-widgets/base",
          "model_name": "LayoutModel",
          "model_module_version": "1.2.0",
          "state": {
            "_model_module": "@jupyter-widgets/base",
            "_model_module_version": "1.2.0",
            "_model_name": "LayoutModel",
            "_view_count": null,
            "_view_module": "@jupyter-widgets/base",
            "_view_module_version": "1.2.0",
            "_view_name": "LayoutView",
            "align_content": null,
            "align_items": null,
            "align_self": null,
            "border": null,
            "bottom": null,
            "display": null,
            "flex": null,
            "flex_flow": null,
            "grid_area": null,
            "grid_auto_columns": null,
            "grid_auto_flow": null,
            "grid_auto_rows": null,
            "grid_column": null,
            "grid_gap": null,
            "grid_row": null,
            "grid_template_areas": null,
            "grid_template_columns": null,
            "grid_template_rows": null,
            "height": null,
            "justify_content": null,
            "justify_items": null,
            "left": null,
            "margin": null,
            "max_height": null,
            "max_width": null,
            "min_height": null,
            "min_width": null,
            "object_fit": null,
            "object_position": null,
            "order": null,
            "overflow": null,
            "overflow_x": null,
            "overflow_y": null,
            "padding": null,
            "right": null,
            "top": null,
            "visibility": null,
            "width": null
          }
        },
        "336bcb362eb14dba9fec666dbf97fe4a": {
          "model_module": "@jupyter-widgets/controls",
          "model_name": "DescriptionStyleModel",
          "model_module_version": "1.5.0",
          "state": {
            "_model_module": "@jupyter-widgets/controls",
            "_model_module_version": "1.5.0",
            "_model_name": "DescriptionStyleModel",
            "_view_count": null,
            "_view_module": "@jupyter-widgets/base",
            "_view_module_version": "1.2.0",
            "_view_name": "StyleView",
            "description_width": ""
          }
        },
        "195560fde00049db827f11d495a41b68": {
          "model_module": "@jupyter-widgets/base",
          "model_name": "LayoutModel",
          "model_module_version": "1.2.0",
          "state": {
            "_model_module": "@jupyter-widgets/base",
            "_model_module_version": "1.2.0",
            "_model_name": "LayoutModel",
            "_view_count": null,
            "_view_module": "@jupyter-widgets/base",
            "_view_module_version": "1.2.0",
            "_view_name": "LayoutView",
            "align_content": null,
            "align_items": null,
            "align_self": null,
            "border": null,
            "bottom": null,
            "display": null,
            "flex": null,
            "flex_flow": null,
            "grid_area": null,
            "grid_auto_columns": null,
            "grid_auto_flow": null,
            "grid_auto_rows": null,
            "grid_column": null,
            "grid_gap": null,
            "grid_row": null,
            "grid_template_areas": null,
            "grid_template_columns": null,
            "grid_template_rows": null,
            "height": null,
            "justify_content": null,
            "justify_items": null,
            "left": null,
            "margin": null,
            "max_height": null,
            "max_width": null,
            "min_height": null,
            "min_width": null,
            "object_fit": null,
            "object_position": null,
            "order": null,
            "overflow": null,
            "overflow_x": null,
            "overflow_y": null,
            "padding": null,
            "right": null,
            "top": null,
            "visibility": null,
            "width": null
          }
        },
        "4eb1371fe4704e3c81127824c01f68e0": {
          "model_module": "@jupyter-widgets/controls",
          "model_name": "ProgressStyleModel",
          "model_module_version": "1.5.0",
          "state": {
            "_model_module": "@jupyter-widgets/controls",
            "_model_module_version": "1.5.0",
            "_model_name": "ProgressStyleModel",
            "_view_count": null,
            "_view_module": "@jupyter-widgets/base",
            "_view_module_version": "1.2.0",
            "_view_name": "StyleView",
            "bar_color": null,
            "description_width": ""
          }
        },
        "a11bd2fe0e234417be6cff0195687d7a": {
          "model_module": "@jupyter-widgets/controls",
          "model_name": "VBoxModel",
          "model_module_version": "1.5.0",
          "state": {
            "_dom_classes": [],
            "_model_module": "@jupyter-widgets/controls",
            "_model_module_version": "1.5.0",
            "_model_name": "VBoxModel",
            "_view_count": null,
            "_view_module": "@jupyter-widgets/controls",
            "_view_module_version": "1.5.0",
            "_view_name": "VBoxView",
            "box_style": "",
            "children": [
              "IPY_MODEL_317c97c5feac4347becbd33be0ca5977",
              "IPY_MODEL_c0c6e6e370074bcab4c2aab2fb869d3e"
            ],
            "layout": "IPY_MODEL_cccaefca78f04dd9a826520f7cfc38a1"
          }
        },
        "317c97c5feac4347becbd33be0ca5977": {
          "model_module": "@jupyter-widgets/controls",
          "model_name": "LabelModel",
          "model_module_version": "1.5.0",
          "state": {
            "_dom_classes": [],
            "_model_module": "@jupyter-widgets/controls",
            "_model_module_version": "1.5.0",
            "_model_name": "LabelModel",
            "_view_count": null,
            "_view_module": "@jupyter-widgets/controls",
            "_view_module_version": "1.5.0",
            "_view_name": "LabelView",
            "description": "",
            "description_tooltip": null,
            "layout": "IPY_MODEL_7e892a7ff2754d0e997b863a1e484bef",
            "placeholder": "​",
            "style": "IPY_MODEL_83827c074e99457cbe4a7908550fdd71",
            "value": "0.013 MB of 0.013 MB uploaded (0.000 MB deduped)\r"
          }
        },
        "c0c6e6e370074bcab4c2aab2fb869d3e": {
          "model_module": "@jupyter-widgets/controls",
          "model_name": "FloatProgressModel",
          "model_module_version": "1.5.0",
          "state": {
            "_dom_classes": [],
            "_model_module": "@jupyter-widgets/controls",
            "_model_module_version": "1.5.0",
            "_model_name": "FloatProgressModel",
            "_view_count": null,
            "_view_module": "@jupyter-widgets/controls",
            "_view_module_version": "1.5.0",
            "_view_name": "ProgressView",
            "bar_style": "",
            "description": "",
            "description_tooltip": null,
            "layout": "IPY_MODEL_0802934b98c0474b9afbc312bcb804fe",
            "max": 1,
            "min": 0,
            "orientation": "horizontal",
            "style": "IPY_MODEL_00ae8bac774945cda1255573bb961233",
            "value": 1
          }
        },
        "cccaefca78f04dd9a826520f7cfc38a1": {
          "model_module": "@jupyter-widgets/base",
          "model_name": "LayoutModel",
          "model_module_version": "1.2.0",
          "state": {
            "_model_module": "@jupyter-widgets/base",
            "_model_module_version": "1.2.0",
            "_model_name": "LayoutModel",
            "_view_count": null,
            "_view_module": "@jupyter-widgets/base",
            "_view_module_version": "1.2.0",
            "_view_name": "LayoutView",
            "align_content": null,
            "align_items": null,
            "align_self": null,
            "border": null,
            "bottom": null,
            "display": null,
            "flex": null,
            "flex_flow": null,
            "grid_area": null,
            "grid_auto_columns": null,
            "grid_auto_flow": null,
            "grid_auto_rows": null,
            "grid_column": null,
            "grid_gap": null,
            "grid_row": null,
            "grid_template_areas": null,
            "grid_template_columns": null,
            "grid_template_rows": null,
            "height": null,
            "justify_content": null,
            "justify_items": null,
            "left": null,
            "margin": null,
            "max_height": null,
            "max_width": null,
            "min_height": null,
            "min_width": null,
            "object_fit": null,
            "object_position": null,
            "order": null,
            "overflow": null,
            "overflow_x": null,
            "overflow_y": null,
            "padding": null,
            "right": null,
            "top": null,
            "visibility": null,
            "width": null
          }
        },
        "7e892a7ff2754d0e997b863a1e484bef": {
          "model_module": "@jupyter-widgets/base",
          "model_name": "LayoutModel",
          "model_module_version": "1.2.0",
          "state": {
            "_model_module": "@jupyter-widgets/base",
            "_model_module_version": "1.2.0",
            "_model_name": "LayoutModel",
            "_view_count": null,
            "_view_module": "@jupyter-widgets/base",
            "_view_module_version": "1.2.0",
            "_view_name": "LayoutView",
            "align_content": null,
            "align_items": null,
            "align_self": null,
            "border": null,
            "bottom": null,
            "display": null,
            "flex": null,
            "flex_flow": null,
            "grid_area": null,
            "grid_auto_columns": null,
            "grid_auto_flow": null,
            "grid_auto_rows": null,
            "grid_column": null,
            "grid_gap": null,
            "grid_row": null,
            "grid_template_areas": null,
            "grid_template_columns": null,
            "grid_template_rows": null,
            "height": null,
            "justify_content": null,
            "justify_items": null,
            "left": null,
            "margin": null,
            "max_height": null,
            "max_width": null,
            "min_height": null,
            "min_width": null,
            "object_fit": null,
            "object_position": null,
            "order": null,
            "overflow": null,
            "overflow_x": null,
            "overflow_y": null,
            "padding": null,
            "right": null,
            "top": null,
            "visibility": null,
            "width": null
          }
        },
        "83827c074e99457cbe4a7908550fdd71": {
          "model_module": "@jupyter-widgets/controls",
          "model_name": "DescriptionStyleModel",
          "model_module_version": "1.5.0",
          "state": {
            "_model_module": "@jupyter-widgets/controls",
            "_model_module_version": "1.5.0",
            "_model_name": "DescriptionStyleModel",
            "_view_count": null,
            "_view_module": "@jupyter-widgets/base",
            "_view_module_version": "1.2.0",
            "_view_name": "StyleView",
            "description_width": ""
          }
        },
        "0802934b98c0474b9afbc312bcb804fe": {
          "model_module": "@jupyter-widgets/base",
          "model_name": "LayoutModel",
          "model_module_version": "1.2.0",
          "state": {
            "_model_module": "@jupyter-widgets/base",
            "_model_module_version": "1.2.0",
            "_model_name": "LayoutModel",
            "_view_count": null,
            "_view_module": "@jupyter-widgets/base",
            "_view_module_version": "1.2.0",
            "_view_name": "LayoutView",
            "align_content": null,
            "align_items": null,
            "align_self": null,
            "border": null,
            "bottom": null,
            "display": null,
            "flex": null,
            "flex_flow": null,
            "grid_area": null,
            "grid_auto_columns": null,
            "grid_auto_flow": null,
            "grid_auto_rows": null,
            "grid_column": null,
            "grid_gap": null,
            "grid_row": null,
            "grid_template_areas": null,
            "grid_template_columns": null,
            "grid_template_rows": null,
            "height": null,
            "justify_content": null,
            "justify_items": null,
            "left": null,
            "margin": null,
            "max_height": null,
            "max_width": null,
            "min_height": null,
            "min_width": null,
            "object_fit": null,
            "object_position": null,
            "order": null,
            "overflow": null,
            "overflow_x": null,
            "overflow_y": null,
            "padding": null,
            "right": null,
            "top": null,
            "visibility": null,
            "width": null
          }
        },
        "00ae8bac774945cda1255573bb961233": {
          "model_module": "@jupyter-widgets/controls",
          "model_name": "ProgressStyleModel",
          "model_module_version": "1.5.0",
          "state": {
            "_model_module": "@jupyter-widgets/controls",
            "_model_module_version": "1.5.0",
            "_model_name": "ProgressStyleModel",
            "_view_count": null,
            "_view_module": "@jupyter-widgets/base",
            "_view_module_version": "1.2.0",
            "_view_name": "StyleView",
            "bar_color": null,
            "description_width": ""
          }
        },
        "4272c2ed87c84d4baa3f075c9bb50ddb": {
          "model_module": "@jupyter-widgets/controls",
          "model_name": "VBoxModel",
          "model_module_version": "1.5.0",
          "state": {
            "_dom_classes": [],
            "_model_module": "@jupyter-widgets/controls",
            "_model_module_version": "1.5.0",
            "_model_name": "VBoxModel",
            "_view_count": null,
            "_view_module": "@jupyter-widgets/controls",
            "_view_module_version": "1.5.0",
            "_view_name": "VBoxView",
            "box_style": "",
            "children": [
              "IPY_MODEL_67503ae2151b4dd6b1c8ae04e5810776",
              "IPY_MODEL_35cec0688dd54705910c39e5332b19f7"
            ],
            "layout": "IPY_MODEL_65706b0b03e240668d57382995c1a26d"
          }
        },
        "67503ae2151b4dd6b1c8ae04e5810776": {
          "model_module": "@jupyter-widgets/controls",
          "model_name": "LabelModel",
          "model_module_version": "1.5.0",
          "state": {
            "_dom_classes": [],
            "_model_module": "@jupyter-widgets/controls",
            "_model_module_version": "1.5.0",
            "_model_name": "LabelModel",
            "_view_count": null,
            "_view_module": "@jupyter-widgets/controls",
            "_view_module_version": "1.5.0",
            "_view_name": "LabelView",
            "description": "",
            "description_tooltip": null,
            "layout": "IPY_MODEL_8e62a0a755244b66b88d85c44aa0be6a",
            "placeholder": "​",
            "style": "IPY_MODEL_23f2813a1f5d499cbaec82034866d352",
            "value": "0.013 MB of 0.013 MB uploaded (0.000 MB deduped)\r"
          }
        },
        "35cec0688dd54705910c39e5332b19f7": {
          "model_module": "@jupyter-widgets/controls",
          "model_name": "FloatProgressModel",
          "model_module_version": "1.5.0",
          "state": {
            "_dom_classes": [],
            "_model_module": "@jupyter-widgets/controls",
            "_model_module_version": "1.5.0",
            "_model_name": "FloatProgressModel",
            "_view_count": null,
            "_view_module": "@jupyter-widgets/controls",
            "_view_module_version": "1.5.0",
            "_view_name": "ProgressView",
            "bar_style": "",
            "description": "",
            "description_tooltip": null,
            "layout": "IPY_MODEL_6441a3c3a3a3473994a7281d25e3af17",
            "max": 1,
            "min": 0,
            "orientation": "horizontal",
            "style": "IPY_MODEL_fd5a87d2ec4646ee81621ae856545487",
            "value": 1
          }
        },
        "65706b0b03e240668d57382995c1a26d": {
          "model_module": "@jupyter-widgets/base",
          "model_name": "LayoutModel",
          "model_module_version": "1.2.0",
          "state": {
            "_model_module": "@jupyter-widgets/base",
            "_model_module_version": "1.2.0",
            "_model_name": "LayoutModel",
            "_view_count": null,
            "_view_module": "@jupyter-widgets/base",
            "_view_module_version": "1.2.0",
            "_view_name": "LayoutView",
            "align_content": null,
            "align_items": null,
            "align_self": null,
            "border": null,
            "bottom": null,
            "display": null,
            "flex": null,
            "flex_flow": null,
            "grid_area": null,
            "grid_auto_columns": null,
            "grid_auto_flow": null,
            "grid_auto_rows": null,
            "grid_column": null,
            "grid_gap": null,
            "grid_row": null,
            "grid_template_areas": null,
            "grid_template_columns": null,
            "grid_template_rows": null,
            "height": null,
            "justify_content": null,
            "justify_items": null,
            "left": null,
            "margin": null,
            "max_height": null,
            "max_width": null,
            "min_height": null,
            "min_width": null,
            "object_fit": null,
            "object_position": null,
            "order": null,
            "overflow": null,
            "overflow_x": null,
            "overflow_y": null,
            "padding": null,
            "right": null,
            "top": null,
            "visibility": null,
            "width": null
          }
        },
        "8e62a0a755244b66b88d85c44aa0be6a": {
          "model_module": "@jupyter-widgets/base",
          "model_name": "LayoutModel",
          "model_module_version": "1.2.0",
          "state": {
            "_model_module": "@jupyter-widgets/base",
            "_model_module_version": "1.2.0",
            "_model_name": "LayoutModel",
            "_view_count": null,
            "_view_module": "@jupyter-widgets/base",
            "_view_module_version": "1.2.0",
            "_view_name": "LayoutView",
            "align_content": null,
            "align_items": null,
            "align_self": null,
            "border": null,
            "bottom": null,
            "display": null,
            "flex": null,
            "flex_flow": null,
            "grid_area": null,
            "grid_auto_columns": null,
            "grid_auto_flow": null,
            "grid_auto_rows": null,
            "grid_column": null,
            "grid_gap": null,
            "grid_row": null,
            "grid_template_areas": null,
            "grid_template_columns": null,
            "grid_template_rows": null,
            "height": null,
            "justify_content": null,
            "justify_items": null,
            "left": null,
            "margin": null,
            "max_height": null,
            "max_width": null,
            "min_height": null,
            "min_width": null,
            "object_fit": null,
            "object_position": null,
            "order": null,
            "overflow": null,
            "overflow_x": null,
            "overflow_y": null,
            "padding": null,
            "right": null,
            "top": null,
            "visibility": null,
            "width": null
          }
        },
        "23f2813a1f5d499cbaec82034866d352": {
          "model_module": "@jupyter-widgets/controls",
          "model_name": "DescriptionStyleModel",
          "model_module_version": "1.5.0",
          "state": {
            "_model_module": "@jupyter-widgets/controls",
            "_model_module_version": "1.5.0",
            "_model_name": "DescriptionStyleModel",
            "_view_count": null,
            "_view_module": "@jupyter-widgets/base",
            "_view_module_version": "1.2.0",
            "_view_name": "StyleView",
            "description_width": ""
          }
        },
        "6441a3c3a3a3473994a7281d25e3af17": {
          "model_module": "@jupyter-widgets/base",
          "model_name": "LayoutModel",
          "model_module_version": "1.2.0",
          "state": {
            "_model_module": "@jupyter-widgets/base",
            "_model_module_version": "1.2.0",
            "_model_name": "LayoutModel",
            "_view_count": null,
            "_view_module": "@jupyter-widgets/base",
            "_view_module_version": "1.2.0",
            "_view_name": "LayoutView",
            "align_content": null,
            "align_items": null,
            "align_self": null,
            "border": null,
            "bottom": null,
            "display": null,
            "flex": null,
            "flex_flow": null,
            "grid_area": null,
            "grid_auto_columns": null,
            "grid_auto_flow": null,
            "grid_auto_rows": null,
            "grid_column": null,
            "grid_gap": null,
            "grid_row": null,
            "grid_template_areas": null,
            "grid_template_columns": null,
            "grid_template_rows": null,
            "height": null,
            "justify_content": null,
            "justify_items": null,
            "left": null,
            "margin": null,
            "max_height": null,
            "max_width": null,
            "min_height": null,
            "min_width": null,
            "object_fit": null,
            "object_position": null,
            "order": null,
            "overflow": null,
            "overflow_x": null,
            "overflow_y": null,
            "padding": null,
            "right": null,
            "top": null,
            "visibility": null,
            "width": null
          }
        },
        "fd5a87d2ec4646ee81621ae856545487": {
          "model_module": "@jupyter-widgets/controls",
          "model_name": "ProgressStyleModel",
          "model_module_version": "1.5.0",
          "state": {
            "_model_module": "@jupyter-widgets/controls",
            "_model_module_version": "1.5.0",
            "_model_name": "ProgressStyleModel",
            "_view_count": null,
            "_view_module": "@jupyter-widgets/base",
            "_view_module_version": "1.2.0",
            "_view_name": "StyleView",
            "bar_color": null,
            "description_width": ""
          }
        },
        "f9089f26fb1f4e6b8c09ac8847604e25": {
          "model_module": "@jupyter-widgets/controls",
          "model_name": "VBoxModel",
          "model_module_version": "1.5.0",
          "state": {
            "_dom_classes": [],
            "_model_module": "@jupyter-widgets/controls",
            "_model_module_version": "1.5.0",
            "_model_name": "VBoxModel",
            "_view_count": null,
            "_view_module": "@jupyter-widgets/controls",
            "_view_module_version": "1.5.0",
            "_view_name": "VBoxView",
            "box_style": "",
            "children": [
              "IPY_MODEL_52c4897962e8458f8e1cffa52f4ace5f",
              "IPY_MODEL_a34c8ddc9f0049809117786af43941f8"
            ],
            "layout": "IPY_MODEL_a497a53270074235849f44e5bb094cd0"
          }
        },
        "52c4897962e8458f8e1cffa52f4ace5f": {
          "model_module": "@jupyter-widgets/controls",
          "model_name": "LabelModel",
          "model_module_version": "1.5.0",
          "state": {
            "_dom_classes": [],
            "_model_module": "@jupyter-widgets/controls",
            "_model_module_version": "1.5.0",
            "_model_name": "LabelModel",
            "_view_count": null,
            "_view_module": "@jupyter-widgets/controls",
            "_view_module_version": "1.5.0",
            "_view_name": "LabelView",
            "description": "",
            "description_tooltip": null,
            "layout": "IPY_MODEL_674ded0817f647e1b0632a16484cd95c",
            "placeholder": "​",
            "style": "IPY_MODEL_05a69b7eb9aa460b950365d7a4ffbb54",
            "value": "0.013 MB of 0.013 MB uploaded (0.000 MB deduped)\r"
          }
        },
        "a34c8ddc9f0049809117786af43941f8": {
          "model_module": "@jupyter-widgets/controls",
          "model_name": "FloatProgressModel",
          "model_module_version": "1.5.0",
          "state": {
            "_dom_classes": [],
            "_model_module": "@jupyter-widgets/controls",
            "_model_module_version": "1.5.0",
            "_model_name": "FloatProgressModel",
            "_view_count": null,
            "_view_module": "@jupyter-widgets/controls",
            "_view_module_version": "1.5.0",
            "_view_name": "ProgressView",
            "bar_style": "",
            "description": "",
            "description_tooltip": null,
            "layout": "IPY_MODEL_498bd9ac280b426fa6db4d93d5e4b5c5",
            "max": 1,
            "min": 0,
            "orientation": "horizontal",
            "style": "IPY_MODEL_4d5e64c0d3174ba89685aa631a40e9ad",
            "value": 1
          }
        },
        "a497a53270074235849f44e5bb094cd0": {
          "model_module": "@jupyter-widgets/base",
          "model_name": "LayoutModel",
          "model_module_version": "1.2.0",
          "state": {
            "_model_module": "@jupyter-widgets/base",
            "_model_module_version": "1.2.0",
            "_model_name": "LayoutModel",
            "_view_count": null,
            "_view_module": "@jupyter-widgets/base",
            "_view_module_version": "1.2.0",
            "_view_name": "LayoutView",
            "align_content": null,
            "align_items": null,
            "align_self": null,
            "border": null,
            "bottom": null,
            "display": null,
            "flex": null,
            "flex_flow": null,
            "grid_area": null,
            "grid_auto_columns": null,
            "grid_auto_flow": null,
            "grid_auto_rows": null,
            "grid_column": null,
            "grid_gap": null,
            "grid_row": null,
            "grid_template_areas": null,
            "grid_template_columns": null,
            "grid_template_rows": null,
            "height": null,
            "justify_content": null,
            "justify_items": null,
            "left": null,
            "margin": null,
            "max_height": null,
            "max_width": null,
            "min_height": null,
            "min_width": null,
            "object_fit": null,
            "object_position": null,
            "order": null,
            "overflow": null,
            "overflow_x": null,
            "overflow_y": null,
            "padding": null,
            "right": null,
            "top": null,
            "visibility": null,
            "width": null
          }
        },
        "674ded0817f647e1b0632a16484cd95c": {
          "model_module": "@jupyter-widgets/base",
          "model_name": "LayoutModel",
          "model_module_version": "1.2.0",
          "state": {
            "_model_module": "@jupyter-widgets/base",
            "_model_module_version": "1.2.0",
            "_model_name": "LayoutModel",
            "_view_count": null,
            "_view_module": "@jupyter-widgets/base",
            "_view_module_version": "1.2.0",
            "_view_name": "LayoutView",
            "align_content": null,
            "align_items": null,
            "align_self": null,
            "border": null,
            "bottom": null,
            "display": null,
            "flex": null,
            "flex_flow": null,
            "grid_area": null,
            "grid_auto_columns": null,
            "grid_auto_flow": null,
            "grid_auto_rows": null,
            "grid_column": null,
            "grid_gap": null,
            "grid_row": null,
            "grid_template_areas": null,
            "grid_template_columns": null,
            "grid_template_rows": null,
            "height": null,
            "justify_content": null,
            "justify_items": null,
            "left": null,
            "margin": null,
            "max_height": null,
            "max_width": null,
            "min_height": null,
            "min_width": null,
            "object_fit": null,
            "object_position": null,
            "order": null,
            "overflow": null,
            "overflow_x": null,
            "overflow_y": null,
            "padding": null,
            "right": null,
            "top": null,
            "visibility": null,
            "width": null
          }
        },
        "05a69b7eb9aa460b950365d7a4ffbb54": {
          "model_module": "@jupyter-widgets/controls",
          "model_name": "DescriptionStyleModel",
          "model_module_version": "1.5.0",
          "state": {
            "_model_module": "@jupyter-widgets/controls",
            "_model_module_version": "1.5.0",
            "_model_name": "DescriptionStyleModel",
            "_view_count": null,
            "_view_module": "@jupyter-widgets/base",
            "_view_module_version": "1.2.0",
            "_view_name": "StyleView",
            "description_width": ""
          }
        },
        "498bd9ac280b426fa6db4d93d5e4b5c5": {
          "model_module": "@jupyter-widgets/base",
          "model_name": "LayoutModel",
          "model_module_version": "1.2.0",
          "state": {
            "_model_module": "@jupyter-widgets/base",
            "_model_module_version": "1.2.0",
            "_model_name": "LayoutModel",
            "_view_count": null,
            "_view_module": "@jupyter-widgets/base",
            "_view_module_version": "1.2.0",
            "_view_name": "LayoutView",
            "align_content": null,
            "align_items": null,
            "align_self": null,
            "border": null,
            "bottom": null,
            "display": null,
            "flex": null,
            "flex_flow": null,
            "grid_area": null,
            "grid_auto_columns": null,
            "grid_auto_flow": null,
            "grid_auto_rows": null,
            "grid_column": null,
            "grid_gap": null,
            "grid_row": null,
            "grid_template_areas": null,
            "grid_template_columns": null,
            "grid_template_rows": null,
            "height": null,
            "justify_content": null,
            "justify_items": null,
            "left": null,
            "margin": null,
            "max_height": null,
            "max_width": null,
            "min_height": null,
            "min_width": null,
            "object_fit": null,
            "object_position": null,
            "order": null,
            "overflow": null,
            "overflow_x": null,
            "overflow_y": null,
            "padding": null,
            "right": null,
            "top": null,
            "visibility": null,
            "width": null
          }
        },
        "4d5e64c0d3174ba89685aa631a40e9ad": {
          "model_module": "@jupyter-widgets/controls",
          "model_name": "ProgressStyleModel",
          "model_module_version": "1.5.0",
          "state": {
            "_model_module": "@jupyter-widgets/controls",
            "_model_module_version": "1.5.0",
            "_model_name": "ProgressStyleModel",
            "_view_count": null,
            "_view_module": "@jupyter-widgets/base",
            "_view_module_version": "1.2.0",
            "_view_name": "StyleView",
            "bar_color": null,
            "description_width": ""
          }
        },
        "b95af695a41e44e196601b71376deaae": {
          "model_module": "@jupyter-widgets/controls",
          "model_name": "VBoxModel",
          "model_module_version": "1.5.0",
          "state": {
            "_dom_classes": [],
            "_model_module": "@jupyter-widgets/controls",
            "_model_module_version": "1.5.0",
            "_model_name": "VBoxModel",
            "_view_count": null,
            "_view_module": "@jupyter-widgets/controls",
            "_view_module_version": "1.5.0",
            "_view_name": "VBoxView",
            "box_style": "",
            "children": [
              "IPY_MODEL_84fa62fdcfd64e9689896e8e4b0e7813",
              "IPY_MODEL_7de710a3fbcb44d9b0cd7f71e3a5f7a1"
            ],
            "layout": "IPY_MODEL_b4c72b61a6c54b06955e3d897e420592"
          }
        },
        "84fa62fdcfd64e9689896e8e4b0e7813": {
          "model_module": "@jupyter-widgets/controls",
          "model_name": "LabelModel",
          "model_module_version": "1.5.0",
          "state": {
            "_dom_classes": [],
            "_model_module": "@jupyter-widgets/controls",
            "_model_module_version": "1.5.0",
            "_model_name": "LabelModel",
            "_view_count": null,
            "_view_module": "@jupyter-widgets/controls",
            "_view_module_version": "1.5.0",
            "_view_name": "LabelView",
            "description": "",
            "description_tooltip": null,
            "layout": "IPY_MODEL_26f74de20d374fe3b5ca6bd1f3da31af",
            "placeholder": "​",
            "style": "IPY_MODEL_38744e6b4c554666828aafe55981f2d0",
            "value": "0.013 MB of 0.013 MB uploaded (0.000 MB deduped)\r"
          }
        },
        "7de710a3fbcb44d9b0cd7f71e3a5f7a1": {
          "model_module": "@jupyter-widgets/controls",
          "model_name": "FloatProgressModel",
          "model_module_version": "1.5.0",
          "state": {
            "_dom_classes": [],
            "_model_module": "@jupyter-widgets/controls",
            "_model_module_version": "1.5.0",
            "_model_name": "FloatProgressModel",
            "_view_count": null,
            "_view_module": "@jupyter-widgets/controls",
            "_view_module_version": "1.5.0",
            "_view_name": "ProgressView",
            "bar_style": "",
            "description": "",
            "description_tooltip": null,
            "layout": "IPY_MODEL_3c3fd37e113c47719ee1a07827408bc5",
            "max": 1,
            "min": 0,
            "orientation": "horizontal",
            "style": "IPY_MODEL_5b0c40e73afa405e9274c499695db206",
            "value": 1
          }
        },
        "b4c72b61a6c54b06955e3d897e420592": {
          "model_module": "@jupyter-widgets/base",
          "model_name": "LayoutModel",
          "model_module_version": "1.2.0",
          "state": {
            "_model_module": "@jupyter-widgets/base",
            "_model_module_version": "1.2.0",
            "_model_name": "LayoutModel",
            "_view_count": null,
            "_view_module": "@jupyter-widgets/base",
            "_view_module_version": "1.2.0",
            "_view_name": "LayoutView",
            "align_content": null,
            "align_items": null,
            "align_self": null,
            "border": null,
            "bottom": null,
            "display": null,
            "flex": null,
            "flex_flow": null,
            "grid_area": null,
            "grid_auto_columns": null,
            "grid_auto_flow": null,
            "grid_auto_rows": null,
            "grid_column": null,
            "grid_gap": null,
            "grid_row": null,
            "grid_template_areas": null,
            "grid_template_columns": null,
            "grid_template_rows": null,
            "height": null,
            "justify_content": null,
            "justify_items": null,
            "left": null,
            "margin": null,
            "max_height": null,
            "max_width": null,
            "min_height": null,
            "min_width": null,
            "object_fit": null,
            "object_position": null,
            "order": null,
            "overflow": null,
            "overflow_x": null,
            "overflow_y": null,
            "padding": null,
            "right": null,
            "top": null,
            "visibility": null,
            "width": null
          }
        },
        "26f74de20d374fe3b5ca6bd1f3da31af": {
          "model_module": "@jupyter-widgets/base",
          "model_name": "LayoutModel",
          "model_module_version": "1.2.0",
          "state": {
            "_model_module": "@jupyter-widgets/base",
            "_model_module_version": "1.2.0",
            "_model_name": "LayoutModel",
            "_view_count": null,
            "_view_module": "@jupyter-widgets/base",
            "_view_module_version": "1.2.0",
            "_view_name": "LayoutView",
            "align_content": null,
            "align_items": null,
            "align_self": null,
            "border": null,
            "bottom": null,
            "display": null,
            "flex": null,
            "flex_flow": null,
            "grid_area": null,
            "grid_auto_columns": null,
            "grid_auto_flow": null,
            "grid_auto_rows": null,
            "grid_column": null,
            "grid_gap": null,
            "grid_row": null,
            "grid_template_areas": null,
            "grid_template_columns": null,
            "grid_template_rows": null,
            "height": null,
            "justify_content": null,
            "justify_items": null,
            "left": null,
            "margin": null,
            "max_height": null,
            "max_width": null,
            "min_height": null,
            "min_width": null,
            "object_fit": null,
            "object_position": null,
            "order": null,
            "overflow": null,
            "overflow_x": null,
            "overflow_y": null,
            "padding": null,
            "right": null,
            "top": null,
            "visibility": null,
            "width": null
          }
        },
        "38744e6b4c554666828aafe55981f2d0": {
          "model_module": "@jupyter-widgets/controls",
          "model_name": "DescriptionStyleModel",
          "model_module_version": "1.5.0",
          "state": {
            "_model_module": "@jupyter-widgets/controls",
            "_model_module_version": "1.5.0",
            "_model_name": "DescriptionStyleModel",
            "_view_count": null,
            "_view_module": "@jupyter-widgets/base",
            "_view_module_version": "1.2.0",
            "_view_name": "StyleView",
            "description_width": ""
          }
        },
        "3c3fd37e113c47719ee1a07827408bc5": {
          "model_module": "@jupyter-widgets/base",
          "model_name": "LayoutModel",
          "model_module_version": "1.2.0",
          "state": {
            "_model_module": "@jupyter-widgets/base",
            "_model_module_version": "1.2.0",
            "_model_name": "LayoutModel",
            "_view_count": null,
            "_view_module": "@jupyter-widgets/base",
            "_view_module_version": "1.2.0",
            "_view_name": "LayoutView",
            "align_content": null,
            "align_items": null,
            "align_self": null,
            "border": null,
            "bottom": null,
            "display": null,
            "flex": null,
            "flex_flow": null,
            "grid_area": null,
            "grid_auto_columns": null,
            "grid_auto_flow": null,
            "grid_auto_rows": null,
            "grid_column": null,
            "grid_gap": null,
            "grid_row": null,
            "grid_template_areas": null,
            "grid_template_columns": null,
            "grid_template_rows": null,
            "height": null,
            "justify_content": null,
            "justify_items": null,
            "left": null,
            "margin": null,
            "max_height": null,
            "max_width": null,
            "min_height": null,
            "min_width": null,
            "object_fit": null,
            "object_position": null,
            "order": null,
            "overflow": null,
            "overflow_x": null,
            "overflow_y": null,
            "padding": null,
            "right": null,
            "top": null,
            "visibility": null,
            "width": null
          }
        },
        "5b0c40e73afa405e9274c499695db206": {
          "model_module": "@jupyter-widgets/controls",
          "model_name": "ProgressStyleModel",
          "model_module_version": "1.5.0",
          "state": {
            "_model_module": "@jupyter-widgets/controls",
            "_model_module_version": "1.5.0",
            "_model_name": "ProgressStyleModel",
            "_view_count": null,
            "_view_module": "@jupyter-widgets/base",
            "_view_module_version": "1.2.0",
            "_view_name": "StyleView",
            "bar_color": null,
            "description_width": ""
          }
        },
        "5577b15b76ee46898ea58284c80fa2de": {
          "model_module": "@jupyter-widgets/controls",
          "model_name": "VBoxModel",
          "model_module_version": "1.5.0",
          "state": {
            "_dom_classes": [],
            "_model_module": "@jupyter-widgets/controls",
            "_model_module_version": "1.5.0",
            "_model_name": "VBoxModel",
            "_view_count": null,
            "_view_module": "@jupyter-widgets/controls",
            "_view_module_version": "1.5.0",
            "_view_name": "VBoxView",
            "box_style": "",
            "children": [
              "IPY_MODEL_73b6c5eb3e4c40a7a39971f54ae8118e",
              "IPY_MODEL_222e538ee9b84984894675d28eb3ca13"
            ],
            "layout": "IPY_MODEL_104edeb065ae483699c838413ce77c76"
          }
        },
        "73b6c5eb3e4c40a7a39971f54ae8118e": {
          "model_module": "@jupyter-widgets/controls",
          "model_name": "LabelModel",
          "model_module_version": "1.5.0",
          "state": {
            "_dom_classes": [],
            "_model_module": "@jupyter-widgets/controls",
            "_model_module_version": "1.5.0",
            "_model_name": "LabelModel",
            "_view_count": null,
            "_view_module": "@jupyter-widgets/controls",
            "_view_module_version": "1.5.0",
            "_view_name": "LabelView",
            "description": "",
            "description_tooltip": null,
            "layout": "IPY_MODEL_2f4f43787cf5404a97189ef1e811c397",
            "placeholder": "​",
            "style": "IPY_MODEL_99cb0fdf73144d30b9fbb7a9641e7d8f",
            "value": "0.013 MB of 0.013 MB uploaded (0.000 MB deduped)\r"
          }
        },
        "222e538ee9b84984894675d28eb3ca13": {
          "model_module": "@jupyter-widgets/controls",
          "model_name": "FloatProgressModel",
          "model_module_version": "1.5.0",
          "state": {
            "_dom_classes": [],
            "_model_module": "@jupyter-widgets/controls",
            "_model_module_version": "1.5.0",
            "_model_name": "FloatProgressModel",
            "_view_count": null,
            "_view_module": "@jupyter-widgets/controls",
            "_view_module_version": "1.5.0",
            "_view_name": "ProgressView",
            "bar_style": "",
            "description": "",
            "description_tooltip": null,
            "layout": "IPY_MODEL_a6ba160dc4854b11bfb1632192ee27a5",
            "max": 1,
            "min": 0,
            "orientation": "horizontal",
            "style": "IPY_MODEL_53f57f3ffab342c69fb18f67933c612b",
            "value": 1
          }
        },
        "104edeb065ae483699c838413ce77c76": {
          "model_module": "@jupyter-widgets/base",
          "model_name": "LayoutModel",
          "model_module_version": "1.2.0",
          "state": {
            "_model_module": "@jupyter-widgets/base",
            "_model_module_version": "1.2.0",
            "_model_name": "LayoutModel",
            "_view_count": null,
            "_view_module": "@jupyter-widgets/base",
            "_view_module_version": "1.2.0",
            "_view_name": "LayoutView",
            "align_content": null,
            "align_items": null,
            "align_self": null,
            "border": null,
            "bottom": null,
            "display": null,
            "flex": null,
            "flex_flow": null,
            "grid_area": null,
            "grid_auto_columns": null,
            "grid_auto_flow": null,
            "grid_auto_rows": null,
            "grid_column": null,
            "grid_gap": null,
            "grid_row": null,
            "grid_template_areas": null,
            "grid_template_columns": null,
            "grid_template_rows": null,
            "height": null,
            "justify_content": null,
            "justify_items": null,
            "left": null,
            "margin": null,
            "max_height": null,
            "max_width": null,
            "min_height": null,
            "min_width": null,
            "object_fit": null,
            "object_position": null,
            "order": null,
            "overflow": null,
            "overflow_x": null,
            "overflow_y": null,
            "padding": null,
            "right": null,
            "top": null,
            "visibility": null,
            "width": null
          }
        },
        "2f4f43787cf5404a97189ef1e811c397": {
          "model_module": "@jupyter-widgets/base",
          "model_name": "LayoutModel",
          "model_module_version": "1.2.0",
          "state": {
            "_model_module": "@jupyter-widgets/base",
            "_model_module_version": "1.2.0",
            "_model_name": "LayoutModel",
            "_view_count": null,
            "_view_module": "@jupyter-widgets/base",
            "_view_module_version": "1.2.0",
            "_view_name": "LayoutView",
            "align_content": null,
            "align_items": null,
            "align_self": null,
            "border": null,
            "bottom": null,
            "display": null,
            "flex": null,
            "flex_flow": null,
            "grid_area": null,
            "grid_auto_columns": null,
            "grid_auto_flow": null,
            "grid_auto_rows": null,
            "grid_column": null,
            "grid_gap": null,
            "grid_row": null,
            "grid_template_areas": null,
            "grid_template_columns": null,
            "grid_template_rows": null,
            "height": null,
            "justify_content": null,
            "justify_items": null,
            "left": null,
            "margin": null,
            "max_height": null,
            "max_width": null,
            "min_height": null,
            "min_width": null,
            "object_fit": null,
            "object_position": null,
            "order": null,
            "overflow": null,
            "overflow_x": null,
            "overflow_y": null,
            "padding": null,
            "right": null,
            "top": null,
            "visibility": null,
            "width": null
          }
        },
        "99cb0fdf73144d30b9fbb7a9641e7d8f": {
          "model_module": "@jupyter-widgets/controls",
          "model_name": "DescriptionStyleModel",
          "model_module_version": "1.5.0",
          "state": {
            "_model_module": "@jupyter-widgets/controls",
            "_model_module_version": "1.5.0",
            "_model_name": "DescriptionStyleModel",
            "_view_count": null,
            "_view_module": "@jupyter-widgets/base",
            "_view_module_version": "1.2.0",
            "_view_name": "StyleView",
            "description_width": ""
          }
        },
        "a6ba160dc4854b11bfb1632192ee27a5": {
          "model_module": "@jupyter-widgets/base",
          "model_name": "LayoutModel",
          "model_module_version": "1.2.0",
          "state": {
            "_model_module": "@jupyter-widgets/base",
            "_model_module_version": "1.2.0",
            "_model_name": "LayoutModel",
            "_view_count": null,
            "_view_module": "@jupyter-widgets/base",
            "_view_module_version": "1.2.0",
            "_view_name": "LayoutView",
            "align_content": null,
            "align_items": null,
            "align_self": null,
            "border": null,
            "bottom": null,
            "display": null,
            "flex": null,
            "flex_flow": null,
            "grid_area": null,
            "grid_auto_columns": null,
            "grid_auto_flow": null,
            "grid_auto_rows": null,
            "grid_column": null,
            "grid_gap": null,
            "grid_row": null,
            "grid_template_areas": null,
            "grid_template_columns": null,
            "grid_template_rows": null,
            "height": null,
            "justify_content": null,
            "justify_items": null,
            "left": null,
            "margin": null,
            "max_height": null,
            "max_width": null,
            "min_height": null,
            "min_width": null,
            "object_fit": null,
            "object_position": null,
            "order": null,
            "overflow": null,
            "overflow_x": null,
            "overflow_y": null,
            "padding": null,
            "right": null,
            "top": null,
            "visibility": null,
            "width": null
          }
        },
        "53f57f3ffab342c69fb18f67933c612b": {
          "model_module": "@jupyter-widgets/controls",
          "model_name": "ProgressStyleModel",
          "model_module_version": "1.5.0",
          "state": {
            "_model_module": "@jupyter-widgets/controls",
            "_model_module_version": "1.5.0",
            "_model_name": "ProgressStyleModel",
            "_view_count": null,
            "_view_module": "@jupyter-widgets/base",
            "_view_module_version": "1.2.0",
            "_view_name": "StyleView",
            "bar_color": null,
            "description_width": ""
          }
        },
        "5d3dd9612ea94770a3841a6845dcdb65": {
          "model_module": "@jupyter-widgets/controls",
          "model_name": "VBoxModel",
          "model_module_version": "1.5.0",
          "state": {
            "_dom_classes": [],
            "_model_module": "@jupyter-widgets/controls",
            "_model_module_version": "1.5.0",
            "_model_name": "VBoxModel",
            "_view_count": null,
            "_view_module": "@jupyter-widgets/controls",
            "_view_module_version": "1.5.0",
            "_view_name": "VBoxView",
            "box_style": "",
            "children": [
              "IPY_MODEL_bee716f7bfa3439cbbef8aa25024d2e3",
              "IPY_MODEL_abe35360e29d469ab20fcbefa20e4ed8"
            ],
            "layout": "IPY_MODEL_e81abf82a1304d9d86bf350033fc0efb"
          }
        },
        "bee716f7bfa3439cbbef8aa25024d2e3": {
          "model_module": "@jupyter-widgets/controls",
          "model_name": "LabelModel",
          "model_module_version": "1.5.0",
          "state": {
            "_dom_classes": [],
            "_model_module": "@jupyter-widgets/controls",
            "_model_module_version": "1.5.0",
            "_model_name": "LabelModel",
            "_view_count": null,
            "_view_module": "@jupyter-widgets/controls",
            "_view_module_version": "1.5.0",
            "_view_name": "LabelView",
            "description": "",
            "description_tooltip": null,
            "layout": "IPY_MODEL_039104c10f9b4032894b42603ec087fe",
            "placeholder": "​",
            "style": "IPY_MODEL_56cb549a753246a296222f3963661b3b",
            "value": "0.013 MB of 0.013 MB uploaded (0.000 MB deduped)\r"
          }
        },
        "abe35360e29d469ab20fcbefa20e4ed8": {
          "model_module": "@jupyter-widgets/controls",
          "model_name": "FloatProgressModel",
          "model_module_version": "1.5.0",
          "state": {
            "_dom_classes": [],
            "_model_module": "@jupyter-widgets/controls",
            "_model_module_version": "1.5.0",
            "_model_name": "FloatProgressModel",
            "_view_count": null,
            "_view_module": "@jupyter-widgets/controls",
            "_view_module_version": "1.5.0",
            "_view_name": "ProgressView",
            "bar_style": "",
            "description": "",
            "description_tooltip": null,
            "layout": "IPY_MODEL_31418c047af348cc901690d66e5958a6",
            "max": 1,
            "min": 0,
            "orientation": "horizontal",
            "style": "IPY_MODEL_20d48b7332f146248830e2809c05d82b",
            "value": 1
          }
        },
        "e81abf82a1304d9d86bf350033fc0efb": {
          "model_module": "@jupyter-widgets/base",
          "model_name": "LayoutModel",
          "model_module_version": "1.2.0",
          "state": {
            "_model_module": "@jupyter-widgets/base",
            "_model_module_version": "1.2.0",
            "_model_name": "LayoutModel",
            "_view_count": null,
            "_view_module": "@jupyter-widgets/base",
            "_view_module_version": "1.2.0",
            "_view_name": "LayoutView",
            "align_content": null,
            "align_items": null,
            "align_self": null,
            "border": null,
            "bottom": null,
            "display": null,
            "flex": null,
            "flex_flow": null,
            "grid_area": null,
            "grid_auto_columns": null,
            "grid_auto_flow": null,
            "grid_auto_rows": null,
            "grid_column": null,
            "grid_gap": null,
            "grid_row": null,
            "grid_template_areas": null,
            "grid_template_columns": null,
            "grid_template_rows": null,
            "height": null,
            "justify_content": null,
            "justify_items": null,
            "left": null,
            "margin": null,
            "max_height": null,
            "max_width": null,
            "min_height": null,
            "min_width": null,
            "object_fit": null,
            "object_position": null,
            "order": null,
            "overflow": null,
            "overflow_x": null,
            "overflow_y": null,
            "padding": null,
            "right": null,
            "top": null,
            "visibility": null,
            "width": null
          }
        },
        "039104c10f9b4032894b42603ec087fe": {
          "model_module": "@jupyter-widgets/base",
          "model_name": "LayoutModel",
          "model_module_version": "1.2.0",
          "state": {
            "_model_module": "@jupyter-widgets/base",
            "_model_module_version": "1.2.0",
            "_model_name": "LayoutModel",
            "_view_count": null,
            "_view_module": "@jupyter-widgets/base",
            "_view_module_version": "1.2.0",
            "_view_name": "LayoutView",
            "align_content": null,
            "align_items": null,
            "align_self": null,
            "border": null,
            "bottom": null,
            "display": null,
            "flex": null,
            "flex_flow": null,
            "grid_area": null,
            "grid_auto_columns": null,
            "grid_auto_flow": null,
            "grid_auto_rows": null,
            "grid_column": null,
            "grid_gap": null,
            "grid_row": null,
            "grid_template_areas": null,
            "grid_template_columns": null,
            "grid_template_rows": null,
            "height": null,
            "justify_content": null,
            "justify_items": null,
            "left": null,
            "margin": null,
            "max_height": null,
            "max_width": null,
            "min_height": null,
            "min_width": null,
            "object_fit": null,
            "object_position": null,
            "order": null,
            "overflow": null,
            "overflow_x": null,
            "overflow_y": null,
            "padding": null,
            "right": null,
            "top": null,
            "visibility": null,
            "width": null
          }
        },
        "56cb549a753246a296222f3963661b3b": {
          "model_module": "@jupyter-widgets/controls",
          "model_name": "DescriptionStyleModel",
          "model_module_version": "1.5.0",
          "state": {
            "_model_module": "@jupyter-widgets/controls",
            "_model_module_version": "1.5.0",
            "_model_name": "DescriptionStyleModel",
            "_view_count": null,
            "_view_module": "@jupyter-widgets/base",
            "_view_module_version": "1.2.0",
            "_view_name": "StyleView",
            "description_width": ""
          }
        },
        "31418c047af348cc901690d66e5958a6": {
          "model_module": "@jupyter-widgets/base",
          "model_name": "LayoutModel",
          "model_module_version": "1.2.0",
          "state": {
            "_model_module": "@jupyter-widgets/base",
            "_model_module_version": "1.2.0",
            "_model_name": "LayoutModel",
            "_view_count": null,
            "_view_module": "@jupyter-widgets/base",
            "_view_module_version": "1.2.0",
            "_view_name": "LayoutView",
            "align_content": null,
            "align_items": null,
            "align_self": null,
            "border": null,
            "bottom": null,
            "display": null,
            "flex": null,
            "flex_flow": null,
            "grid_area": null,
            "grid_auto_columns": null,
            "grid_auto_flow": null,
            "grid_auto_rows": null,
            "grid_column": null,
            "grid_gap": null,
            "grid_row": null,
            "grid_template_areas": null,
            "grid_template_columns": null,
            "grid_template_rows": null,
            "height": null,
            "justify_content": null,
            "justify_items": null,
            "left": null,
            "margin": null,
            "max_height": null,
            "max_width": null,
            "min_height": null,
            "min_width": null,
            "object_fit": null,
            "object_position": null,
            "order": null,
            "overflow": null,
            "overflow_x": null,
            "overflow_y": null,
            "padding": null,
            "right": null,
            "top": null,
            "visibility": null,
            "width": null
          }
        },
        "20d48b7332f146248830e2809c05d82b": {
          "model_module": "@jupyter-widgets/controls",
          "model_name": "ProgressStyleModel",
          "model_module_version": "1.5.0",
          "state": {
            "_model_module": "@jupyter-widgets/controls",
            "_model_module_version": "1.5.0",
            "_model_name": "ProgressStyleModel",
            "_view_count": null,
            "_view_module": "@jupyter-widgets/base",
            "_view_module_version": "1.2.0",
            "_view_name": "StyleView",
            "bar_color": null,
            "description_width": ""
          }
        },
        "66f01f07284847acacd67b1fb7c565a2": {
          "model_module": "@jupyter-widgets/controls",
          "model_name": "VBoxModel",
          "model_module_version": "1.5.0",
          "state": {
            "_dom_classes": [],
            "_model_module": "@jupyter-widgets/controls",
            "_model_module_version": "1.5.0",
            "_model_name": "VBoxModel",
            "_view_count": null,
            "_view_module": "@jupyter-widgets/controls",
            "_view_module_version": "1.5.0",
            "_view_name": "VBoxView",
            "box_style": "",
            "children": [
              "IPY_MODEL_cf3a5c8b8bb649d5a43c21a302765341",
              "IPY_MODEL_c6898e81ff7c403097cf292cc2434f45"
            ],
            "layout": "IPY_MODEL_12125f01e70549b6b358651e533fef0c"
          }
        },
        "cf3a5c8b8bb649d5a43c21a302765341": {
          "model_module": "@jupyter-widgets/controls",
          "model_name": "LabelModel",
          "model_module_version": "1.5.0",
          "state": {
            "_dom_classes": [],
            "_model_module": "@jupyter-widgets/controls",
            "_model_module_version": "1.5.0",
            "_model_name": "LabelModel",
            "_view_count": null,
            "_view_module": "@jupyter-widgets/controls",
            "_view_module_version": "1.5.0",
            "_view_name": "LabelView",
            "description": "",
            "description_tooltip": null,
            "layout": "IPY_MODEL_05e948daaf0a4330b6fcdb2d5eabc825",
            "placeholder": "​",
            "style": "IPY_MODEL_27aa9daeb3b241ebb319029a7b6f232f",
            "value": "0.016 MB of 0.016 MB uploaded (0.000 MB deduped)\r"
          }
        },
        "c6898e81ff7c403097cf292cc2434f45": {
          "model_module": "@jupyter-widgets/controls",
          "model_name": "FloatProgressModel",
          "model_module_version": "1.5.0",
          "state": {
            "_dom_classes": [],
            "_model_module": "@jupyter-widgets/controls",
            "_model_module_version": "1.5.0",
            "_model_name": "FloatProgressModel",
            "_view_count": null,
            "_view_module": "@jupyter-widgets/controls",
            "_view_module_version": "1.5.0",
            "_view_name": "ProgressView",
            "bar_style": "",
            "description": "",
            "description_tooltip": null,
            "layout": "IPY_MODEL_17b92dbb3b36416cb2766e90a21a10a7",
            "max": 1,
            "min": 0,
            "orientation": "horizontal",
            "style": "IPY_MODEL_3cbb30ab0d77417daf06a331c3f60bcb",
            "value": 1
          }
        },
        "12125f01e70549b6b358651e533fef0c": {
          "model_module": "@jupyter-widgets/base",
          "model_name": "LayoutModel",
          "model_module_version": "1.2.0",
          "state": {
            "_model_module": "@jupyter-widgets/base",
            "_model_module_version": "1.2.0",
            "_model_name": "LayoutModel",
            "_view_count": null,
            "_view_module": "@jupyter-widgets/base",
            "_view_module_version": "1.2.0",
            "_view_name": "LayoutView",
            "align_content": null,
            "align_items": null,
            "align_self": null,
            "border": null,
            "bottom": null,
            "display": null,
            "flex": null,
            "flex_flow": null,
            "grid_area": null,
            "grid_auto_columns": null,
            "grid_auto_flow": null,
            "grid_auto_rows": null,
            "grid_column": null,
            "grid_gap": null,
            "grid_row": null,
            "grid_template_areas": null,
            "grid_template_columns": null,
            "grid_template_rows": null,
            "height": null,
            "justify_content": null,
            "justify_items": null,
            "left": null,
            "margin": null,
            "max_height": null,
            "max_width": null,
            "min_height": null,
            "min_width": null,
            "object_fit": null,
            "object_position": null,
            "order": null,
            "overflow": null,
            "overflow_x": null,
            "overflow_y": null,
            "padding": null,
            "right": null,
            "top": null,
            "visibility": null,
            "width": null
          }
        },
        "05e948daaf0a4330b6fcdb2d5eabc825": {
          "model_module": "@jupyter-widgets/base",
          "model_name": "LayoutModel",
          "model_module_version": "1.2.0",
          "state": {
            "_model_module": "@jupyter-widgets/base",
            "_model_module_version": "1.2.0",
            "_model_name": "LayoutModel",
            "_view_count": null,
            "_view_module": "@jupyter-widgets/base",
            "_view_module_version": "1.2.0",
            "_view_name": "LayoutView",
            "align_content": null,
            "align_items": null,
            "align_self": null,
            "border": null,
            "bottom": null,
            "display": null,
            "flex": null,
            "flex_flow": null,
            "grid_area": null,
            "grid_auto_columns": null,
            "grid_auto_flow": null,
            "grid_auto_rows": null,
            "grid_column": null,
            "grid_gap": null,
            "grid_row": null,
            "grid_template_areas": null,
            "grid_template_columns": null,
            "grid_template_rows": null,
            "height": null,
            "justify_content": null,
            "justify_items": null,
            "left": null,
            "margin": null,
            "max_height": null,
            "max_width": null,
            "min_height": null,
            "min_width": null,
            "object_fit": null,
            "object_position": null,
            "order": null,
            "overflow": null,
            "overflow_x": null,
            "overflow_y": null,
            "padding": null,
            "right": null,
            "top": null,
            "visibility": null,
            "width": null
          }
        },
        "27aa9daeb3b241ebb319029a7b6f232f": {
          "model_module": "@jupyter-widgets/controls",
          "model_name": "DescriptionStyleModel",
          "model_module_version": "1.5.0",
          "state": {
            "_model_module": "@jupyter-widgets/controls",
            "_model_module_version": "1.5.0",
            "_model_name": "DescriptionStyleModel",
            "_view_count": null,
            "_view_module": "@jupyter-widgets/base",
            "_view_module_version": "1.2.0",
            "_view_name": "StyleView",
            "description_width": ""
          }
        },
        "17b92dbb3b36416cb2766e90a21a10a7": {
          "model_module": "@jupyter-widgets/base",
          "model_name": "LayoutModel",
          "model_module_version": "1.2.0",
          "state": {
            "_model_module": "@jupyter-widgets/base",
            "_model_module_version": "1.2.0",
            "_model_name": "LayoutModel",
            "_view_count": null,
            "_view_module": "@jupyter-widgets/base",
            "_view_module_version": "1.2.0",
            "_view_name": "LayoutView",
            "align_content": null,
            "align_items": null,
            "align_self": null,
            "border": null,
            "bottom": null,
            "display": null,
            "flex": null,
            "flex_flow": null,
            "grid_area": null,
            "grid_auto_columns": null,
            "grid_auto_flow": null,
            "grid_auto_rows": null,
            "grid_column": null,
            "grid_gap": null,
            "grid_row": null,
            "grid_template_areas": null,
            "grid_template_columns": null,
            "grid_template_rows": null,
            "height": null,
            "justify_content": null,
            "justify_items": null,
            "left": null,
            "margin": null,
            "max_height": null,
            "max_width": null,
            "min_height": null,
            "min_width": null,
            "object_fit": null,
            "object_position": null,
            "order": null,
            "overflow": null,
            "overflow_x": null,
            "overflow_y": null,
            "padding": null,
            "right": null,
            "top": null,
            "visibility": null,
            "width": null
          }
        },
        "3cbb30ab0d77417daf06a331c3f60bcb": {
          "model_module": "@jupyter-widgets/controls",
          "model_name": "ProgressStyleModel",
          "model_module_version": "1.5.0",
          "state": {
            "_model_module": "@jupyter-widgets/controls",
            "_model_module_version": "1.5.0",
            "_model_name": "ProgressStyleModel",
            "_view_count": null,
            "_view_module": "@jupyter-widgets/base",
            "_view_module_version": "1.2.0",
            "_view_name": "StyleView",
            "bar_color": null,
            "description_width": ""
          }
        },
        "354bf23a26b24af18ab56e1ad07da648": {
          "model_module": "@jupyter-widgets/controls",
          "model_name": "VBoxModel",
          "model_module_version": "1.5.0",
          "state": {
            "_dom_classes": [],
            "_model_module": "@jupyter-widgets/controls",
            "_model_module_version": "1.5.0",
            "_model_name": "VBoxModel",
            "_view_count": null,
            "_view_module": "@jupyter-widgets/controls",
            "_view_module_version": "1.5.0",
            "_view_name": "VBoxView",
            "box_style": "",
            "children": [
              "IPY_MODEL_de343924533e41bc9763d58c9817ab02",
              "IPY_MODEL_47012d28891242c2a6d63a9fba4cde61"
            ],
            "layout": "IPY_MODEL_4f64e3c149b042659ab95c138ddbd89f"
          }
        },
        "de343924533e41bc9763d58c9817ab02": {
          "model_module": "@jupyter-widgets/controls",
          "model_name": "LabelModel",
          "model_module_version": "1.5.0",
          "state": {
            "_dom_classes": [],
            "_model_module": "@jupyter-widgets/controls",
            "_model_module_version": "1.5.0",
            "_model_name": "LabelModel",
            "_view_count": null,
            "_view_module": "@jupyter-widgets/controls",
            "_view_module_version": "1.5.0",
            "_view_name": "LabelView",
            "description": "",
            "description_tooltip": null,
            "layout": "IPY_MODEL_b66b8782ffab4ef9998662eddb1a5ca2",
            "placeholder": "​",
            "style": "IPY_MODEL_e45d523e458248f2a4805f718d394223",
            "value": "0.016 MB of 0.016 MB uploaded (0.000 MB deduped)\r"
          }
        },
        "47012d28891242c2a6d63a9fba4cde61": {
          "model_module": "@jupyter-widgets/controls",
          "model_name": "FloatProgressModel",
          "model_module_version": "1.5.0",
          "state": {
            "_dom_classes": [],
            "_model_module": "@jupyter-widgets/controls",
            "_model_module_version": "1.5.0",
            "_model_name": "FloatProgressModel",
            "_view_count": null,
            "_view_module": "@jupyter-widgets/controls",
            "_view_module_version": "1.5.0",
            "_view_name": "ProgressView",
            "bar_style": "",
            "description": "",
            "description_tooltip": null,
            "layout": "IPY_MODEL_f381d22c482441a483a596fa4e390da8",
            "max": 1,
            "min": 0,
            "orientation": "horizontal",
            "style": "IPY_MODEL_96dcba0df9cc44a59cb2d76d82730ef1",
            "value": 1
          }
        },
        "4f64e3c149b042659ab95c138ddbd89f": {
          "model_module": "@jupyter-widgets/base",
          "model_name": "LayoutModel",
          "model_module_version": "1.2.0",
          "state": {
            "_model_module": "@jupyter-widgets/base",
            "_model_module_version": "1.2.0",
            "_model_name": "LayoutModel",
            "_view_count": null,
            "_view_module": "@jupyter-widgets/base",
            "_view_module_version": "1.2.0",
            "_view_name": "LayoutView",
            "align_content": null,
            "align_items": null,
            "align_self": null,
            "border": null,
            "bottom": null,
            "display": null,
            "flex": null,
            "flex_flow": null,
            "grid_area": null,
            "grid_auto_columns": null,
            "grid_auto_flow": null,
            "grid_auto_rows": null,
            "grid_column": null,
            "grid_gap": null,
            "grid_row": null,
            "grid_template_areas": null,
            "grid_template_columns": null,
            "grid_template_rows": null,
            "height": null,
            "justify_content": null,
            "justify_items": null,
            "left": null,
            "margin": null,
            "max_height": null,
            "max_width": null,
            "min_height": null,
            "min_width": null,
            "object_fit": null,
            "object_position": null,
            "order": null,
            "overflow": null,
            "overflow_x": null,
            "overflow_y": null,
            "padding": null,
            "right": null,
            "top": null,
            "visibility": null,
            "width": null
          }
        },
        "b66b8782ffab4ef9998662eddb1a5ca2": {
          "model_module": "@jupyter-widgets/base",
          "model_name": "LayoutModel",
          "model_module_version": "1.2.0",
          "state": {
            "_model_module": "@jupyter-widgets/base",
            "_model_module_version": "1.2.0",
            "_model_name": "LayoutModel",
            "_view_count": null,
            "_view_module": "@jupyter-widgets/base",
            "_view_module_version": "1.2.0",
            "_view_name": "LayoutView",
            "align_content": null,
            "align_items": null,
            "align_self": null,
            "border": null,
            "bottom": null,
            "display": null,
            "flex": null,
            "flex_flow": null,
            "grid_area": null,
            "grid_auto_columns": null,
            "grid_auto_flow": null,
            "grid_auto_rows": null,
            "grid_column": null,
            "grid_gap": null,
            "grid_row": null,
            "grid_template_areas": null,
            "grid_template_columns": null,
            "grid_template_rows": null,
            "height": null,
            "justify_content": null,
            "justify_items": null,
            "left": null,
            "margin": null,
            "max_height": null,
            "max_width": null,
            "min_height": null,
            "min_width": null,
            "object_fit": null,
            "object_position": null,
            "order": null,
            "overflow": null,
            "overflow_x": null,
            "overflow_y": null,
            "padding": null,
            "right": null,
            "top": null,
            "visibility": null,
            "width": null
          }
        },
        "e45d523e458248f2a4805f718d394223": {
          "model_module": "@jupyter-widgets/controls",
          "model_name": "DescriptionStyleModel",
          "model_module_version": "1.5.0",
          "state": {
            "_model_module": "@jupyter-widgets/controls",
            "_model_module_version": "1.5.0",
            "_model_name": "DescriptionStyleModel",
            "_view_count": null,
            "_view_module": "@jupyter-widgets/base",
            "_view_module_version": "1.2.0",
            "_view_name": "StyleView",
            "description_width": ""
          }
        },
        "f381d22c482441a483a596fa4e390da8": {
          "model_module": "@jupyter-widgets/base",
          "model_name": "LayoutModel",
          "model_module_version": "1.2.0",
          "state": {
            "_model_module": "@jupyter-widgets/base",
            "_model_module_version": "1.2.0",
            "_model_name": "LayoutModel",
            "_view_count": null,
            "_view_module": "@jupyter-widgets/base",
            "_view_module_version": "1.2.0",
            "_view_name": "LayoutView",
            "align_content": null,
            "align_items": null,
            "align_self": null,
            "border": null,
            "bottom": null,
            "display": null,
            "flex": null,
            "flex_flow": null,
            "grid_area": null,
            "grid_auto_columns": null,
            "grid_auto_flow": null,
            "grid_auto_rows": null,
            "grid_column": null,
            "grid_gap": null,
            "grid_row": null,
            "grid_template_areas": null,
            "grid_template_columns": null,
            "grid_template_rows": null,
            "height": null,
            "justify_content": null,
            "justify_items": null,
            "left": null,
            "margin": null,
            "max_height": null,
            "max_width": null,
            "min_height": null,
            "min_width": null,
            "object_fit": null,
            "object_position": null,
            "order": null,
            "overflow": null,
            "overflow_x": null,
            "overflow_y": null,
            "padding": null,
            "right": null,
            "top": null,
            "visibility": null,
            "width": null
          }
        },
        "96dcba0df9cc44a59cb2d76d82730ef1": {
          "model_module": "@jupyter-widgets/controls",
          "model_name": "ProgressStyleModel",
          "model_module_version": "1.5.0",
          "state": {
            "_model_module": "@jupyter-widgets/controls",
            "_model_module_version": "1.5.0",
            "_model_name": "ProgressStyleModel",
            "_view_count": null,
            "_view_module": "@jupyter-widgets/base",
            "_view_module_version": "1.2.0",
            "_view_name": "StyleView",
            "bar_color": null,
            "description_width": ""
          }
        },
        "7788b403932d4a7795c43190097129d0": {
          "model_module": "@jupyter-widgets/controls",
          "model_name": "VBoxModel",
          "model_module_version": "1.5.0",
          "state": {
            "_dom_classes": [],
            "_model_module": "@jupyter-widgets/controls",
            "_model_module_version": "1.5.0",
            "_model_name": "VBoxModel",
            "_view_count": null,
            "_view_module": "@jupyter-widgets/controls",
            "_view_module_version": "1.5.0",
            "_view_name": "VBoxView",
            "box_style": "",
            "children": [
              "IPY_MODEL_d26863d2bd31447b855d7389d0c9aae6",
              "IPY_MODEL_5ca5543a2e8c4ee89be52bb667162eb9"
            ],
            "layout": "IPY_MODEL_a1ce2c61cb5343789f9edf478fe57804"
          }
        },
        "d26863d2bd31447b855d7389d0c9aae6": {
          "model_module": "@jupyter-widgets/controls",
          "model_name": "LabelModel",
          "model_module_version": "1.5.0",
          "state": {
            "_dom_classes": [],
            "_model_module": "@jupyter-widgets/controls",
            "_model_module_version": "1.5.0",
            "_model_name": "LabelModel",
            "_view_count": null,
            "_view_module": "@jupyter-widgets/controls",
            "_view_module_version": "1.5.0",
            "_view_name": "LabelView",
            "description": "",
            "description_tooltip": null,
            "layout": "IPY_MODEL_3552f8d4554546d0941caf547af20c83",
            "placeholder": "​",
            "style": "IPY_MODEL_f56260f3806c41a195e4222192652799",
            "value": "0.016 MB of 0.016 MB uploaded (0.000 MB deduped)\r"
          }
        },
        "5ca5543a2e8c4ee89be52bb667162eb9": {
          "model_module": "@jupyter-widgets/controls",
          "model_name": "FloatProgressModel",
          "model_module_version": "1.5.0",
          "state": {
            "_dom_classes": [],
            "_model_module": "@jupyter-widgets/controls",
            "_model_module_version": "1.5.0",
            "_model_name": "FloatProgressModel",
            "_view_count": null,
            "_view_module": "@jupyter-widgets/controls",
            "_view_module_version": "1.5.0",
            "_view_name": "ProgressView",
            "bar_style": "",
            "description": "",
            "description_tooltip": null,
            "layout": "IPY_MODEL_1b1b6ba5d39e468b93f7fc43761c598f",
            "max": 1,
            "min": 0,
            "orientation": "horizontal",
            "style": "IPY_MODEL_69c2f6cb18944e749f2e5c95dad2bd60",
            "value": 1
          }
        },
        "a1ce2c61cb5343789f9edf478fe57804": {
          "model_module": "@jupyter-widgets/base",
          "model_name": "LayoutModel",
          "model_module_version": "1.2.0",
          "state": {
            "_model_module": "@jupyter-widgets/base",
            "_model_module_version": "1.2.0",
            "_model_name": "LayoutModel",
            "_view_count": null,
            "_view_module": "@jupyter-widgets/base",
            "_view_module_version": "1.2.0",
            "_view_name": "LayoutView",
            "align_content": null,
            "align_items": null,
            "align_self": null,
            "border": null,
            "bottom": null,
            "display": null,
            "flex": null,
            "flex_flow": null,
            "grid_area": null,
            "grid_auto_columns": null,
            "grid_auto_flow": null,
            "grid_auto_rows": null,
            "grid_column": null,
            "grid_gap": null,
            "grid_row": null,
            "grid_template_areas": null,
            "grid_template_columns": null,
            "grid_template_rows": null,
            "height": null,
            "justify_content": null,
            "justify_items": null,
            "left": null,
            "margin": null,
            "max_height": null,
            "max_width": null,
            "min_height": null,
            "min_width": null,
            "object_fit": null,
            "object_position": null,
            "order": null,
            "overflow": null,
            "overflow_x": null,
            "overflow_y": null,
            "padding": null,
            "right": null,
            "top": null,
            "visibility": null,
            "width": null
          }
        },
        "3552f8d4554546d0941caf547af20c83": {
          "model_module": "@jupyter-widgets/base",
          "model_name": "LayoutModel",
          "model_module_version": "1.2.0",
          "state": {
            "_model_module": "@jupyter-widgets/base",
            "_model_module_version": "1.2.0",
            "_model_name": "LayoutModel",
            "_view_count": null,
            "_view_module": "@jupyter-widgets/base",
            "_view_module_version": "1.2.0",
            "_view_name": "LayoutView",
            "align_content": null,
            "align_items": null,
            "align_self": null,
            "border": null,
            "bottom": null,
            "display": null,
            "flex": null,
            "flex_flow": null,
            "grid_area": null,
            "grid_auto_columns": null,
            "grid_auto_flow": null,
            "grid_auto_rows": null,
            "grid_column": null,
            "grid_gap": null,
            "grid_row": null,
            "grid_template_areas": null,
            "grid_template_columns": null,
            "grid_template_rows": null,
            "height": null,
            "justify_content": null,
            "justify_items": null,
            "left": null,
            "margin": null,
            "max_height": null,
            "max_width": null,
            "min_height": null,
            "min_width": null,
            "object_fit": null,
            "object_position": null,
            "order": null,
            "overflow": null,
            "overflow_x": null,
            "overflow_y": null,
            "padding": null,
            "right": null,
            "top": null,
            "visibility": null,
            "width": null
          }
        },
        "f56260f3806c41a195e4222192652799": {
          "model_module": "@jupyter-widgets/controls",
          "model_name": "DescriptionStyleModel",
          "model_module_version": "1.5.0",
          "state": {
            "_model_module": "@jupyter-widgets/controls",
            "_model_module_version": "1.5.0",
            "_model_name": "DescriptionStyleModel",
            "_view_count": null,
            "_view_module": "@jupyter-widgets/base",
            "_view_module_version": "1.2.0",
            "_view_name": "StyleView",
            "description_width": ""
          }
        },
        "1b1b6ba5d39e468b93f7fc43761c598f": {
          "model_module": "@jupyter-widgets/base",
          "model_name": "LayoutModel",
          "model_module_version": "1.2.0",
          "state": {
            "_model_module": "@jupyter-widgets/base",
            "_model_module_version": "1.2.0",
            "_model_name": "LayoutModel",
            "_view_count": null,
            "_view_module": "@jupyter-widgets/base",
            "_view_module_version": "1.2.0",
            "_view_name": "LayoutView",
            "align_content": null,
            "align_items": null,
            "align_self": null,
            "border": null,
            "bottom": null,
            "display": null,
            "flex": null,
            "flex_flow": null,
            "grid_area": null,
            "grid_auto_columns": null,
            "grid_auto_flow": null,
            "grid_auto_rows": null,
            "grid_column": null,
            "grid_gap": null,
            "grid_row": null,
            "grid_template_areas": null,
            "grid_template_columns": null,
            "grid_template_rows": null,
            "height": null,
            "justify_content": null,
            "justify_items": null,
            "left": null,
            "margin": null,
            "max_height": null,
            "max_width": null,
            "min_height": null,
            "min_width": null,
            "object_fit": null,
            "object_position": null,
            "order": null,
            "overflow": null,
            "overflow_x": null,
            "overflow_y": null,
            "padding": null,
            "right": null,
            "top": null,
            "visibility": null,
            "width": null
          }
        },
        "69c2f6cb18944e749f2e5c95dad2bd60": {
          "model_module": "@jupyter-widgets/controls",
          "model_name": "ProgressStyleModel",
          "model_module_version": "1.5.0",
          "state": {
            "_model_module": "@jupyter-widgets/controls",
            "_model_module_version": "1.5.0",
            "_model_name": "ProgressStyleModel",
            "_view_count": null,
            "_view_module": "@jupyter-widgets/base",
            "_view_module_version": "1.2.0",
            "_view_name": "StyleView",
            "bar_color": null,
            "description_width": ""
          }
        },
        "5a96411f766a433e9e5f20413b720f75": {
          "model_module": "@jupyter-widgets/controls",
          "model_name": "VBoxModel",
          "model_module_version": "1.5.0",
          "state": {
            "_dom_classes": [],
            "_model_module": "@jupyter-widgets/controls",
            "_model_module_version": "1.5.0",
            "_model_name": "VBoxModel",
            "_view_count": null,
            "_view_module": "@jupyter-widgets/controls",
            "_view_module_version": "1.5.0",
            "_view_name": "VBoxView",
            "box_style": "",
            "children": [
              "IPY_MODEL_0382fe2261f94889bd6a18d15849b628",
              "IPY_MODEL_6790a490fc8c4b0e88dc12bb54ab5e07"
            ],
            "layout": "IPY_MODEL_32e85bc3176d48cbb00b7cadf545271b"
          }
        },
        "0382fe2261f94889bd6a18d15849b628": {
          "model_module": "@jupyter-widgets/controls",
          "model_name": "LabelModel",
          "model_module_version": "1.5.0",
          "state": {
            "_dom_classes": [],
            "_model_module": "@jupyter-widgets/controls",
            "_model_module_version": "1.5.0",
            "_model_name": "LabelModel",
            "_view_count": null,
            "_view_module": "@jupyter-widgets/controls",
            "_view_module_version": "1.5.0",
            "_view_name": "LabelView",
            "description": "",
            "description_tooltip": null,
            "layout": "IPY_MODEL_ae2a3fa40fd3426cb96e877dde4d6096",
            "placeholder": "​",
            "style": "IPY_MODEL_5c2d05d6a8254a97bef5f4f64c9b89d7",
            "value": "0.016 MB of 0.016 MB uploaded (0.000 MB deduped)\r"
          }
        },
        "6790a490fc8c4b0e88dc12bb54ab5e07": {
          "model_module": "@jupyter-widgets/controls",
          "model_name": "FloatProgressModel",
          "model_module_version": "1.5.0",
          "state": {
            "_dom_classes": [],
            "_model_module": "@jupyter-widgets/controls",
            "_model_module_version": "1.5.0",
            "_model_name": "FloatProgressModel",
            "_view_count": null,
            "_view_module": "@jupyter-widgets/controls",
            "_view_module_version": "1.5.0",
            "_view_name": "ProgressView",
            "bar_style": "",
            "description": "",
            "description_tooltip": null,
            "layout": "IPY_MODEL_6902250704da4e9f83d2095eb179f63f",
            "max": 1,
            "min": 0,
            "orientation": "horizontal",
            "style": "IPY_MODEL_08dec262fa1741748426ff74252f2e66",
            "value": 1
          }
        },
        "32e85bc3176d48cbb00b7cadf545271b": {
          "model_module": "@jupyter-widgets/base",
          "model_name": "LayoutModel",
          "model_module_version": "1.2.0",
          "state": {
            "_model_module": "@jupyter-widgets/base",
            "_model_module_version": "1.2.0",
            "_model_name": "LayoutModel",
            "_view_count": null,
            "_view_module": "@jupyter-widgets/base",
            "_view_module_version": "1.2.0",
            "_view_name": "LayoutView",
            "align_content": null,
            "align_items": null,
            "align_self": null,
            "border": null,
            "bottom": null,
            "display": null,
            "flex": null,
            "flex_flow": null,
            "grid_area": null,
            "grid_auto_columns": null,
            "grid_auto_flow": null,
            "grid_auto_rows": null,
            "grid_column": null,
            "grid_gap": null,
            "grid_row": null,
            "grid_template_areas": null,
            "grid_template_columns": null,
            "grid_template_rows": null,
            "height": null,
            "justify_content": null,
            "justify_items": null,
            "left": null,
            "margin": null,
            "max_height": null,
            "max_width": null,
            "min_height": null,
            "min_width": null,
            "object_fit": null,
            "object_position": null,
            "order": null,
            "overflow": null,
            "overflow_x": null,
            "overflow_y": null,
            "padding": null,
            "right": null,
            "top": null,
            "visibility": null,
            "width": null
          }
        },
        "ae2a3fa40fd3426cb96e877dde4d6096": {
          "model_module": "@jupyter-widgets/base",
          "model_name": "LayoutModel",
          "model_module_version": "1.2.0",
          "state": {
            "_model_module": "@jupyter-widgets/base",
            "_model_module_version": "1.2.0",
            "_model_name": "LayoutModel",
            "_view_count": null,
            "_view_module": "@jupyter-widgets/base",
            "_view_module_version": "1.2.0",
            "_view_name": "LayoutView",
            "align_content": null,
            "align_items": null,
            "align_self": null,
            "border": null,
            "bottom": null,
            "display": null,
            "flex": null,
            "flex_flow": null,
            "grid_area": null,
            "grid_auto_columns": null,
            "grid_auto_flow": null,
            "grid_auto_rows": null,
            "grid_column": null,
            "grid_gap": null,
            "grid_row": null,
            "grid_template_areas": null,
            "grid_template_columns": null,
            "grid_template_rows": null,
            "height": null,
            "justify_content": null,
            "justify_items": null,
            "left": null,
            "margin": null,
            "max_height": null,
            "max_width": null,
            "min_height": null,
            "min_width": null,
            "object_fit": null,
            "object_position": null,
            "order": null,
            "overflow": null,
            "overflow_x": null,
            "overflow_y": null,
            "padding": null,
            "right": null,
            "top": null,
            "visibility": null,
            "width": null
          }
        },
        "5c2d05d6a8254a97bef5f4f64c9b89d7": {
          "model_module": "@jupyter-widgets/controls",
          "model_name": "DescriptionStyleModel",
          "model_module_version": "1.5.0",
          "state": {
            "_model_module": "@jupyter-widgets/controls",
            "_model_module_version": "1.5.0",
            "_model_name": "DescriptionStyleModel",
            "_view_count": null,
            "_view_module": "@jupyter-widgets/base",
            "_view_module_version": "1.2.0",
            "_view_name": "StyleView",
            "description_width": ""
          }
        },
        "6902250704da4e9f83d2095eb179f63f": {
          "model_module": "@jupyter-widgets/base",
          "model_name": "LayoutModel",
          "model_module_version": "1.2.0",
          "state": {
            "_model_module": "@jupyter-widgets/base",
            "_model_module_version": "1.2.0",
            "_model_name": "LayoutModel",
            "_view_count": null,
            "_view_module": "@jupyter-widgets/base",
            "_view_module_version": "1.2.0",
            "_view_name": "LayoutView",
            "align_content": null,
            "align_items": null,
            "align_self": null,
            "border": null,
            "bottom": null,
            "display": null,
            "flex": null,
            "flex_flow": null,
            "grid_area": null,
            "grid_auto_columns": null,
            "grid_auto_flow": null,
            "grid_auto_rows": null,
            "grid_column": null,
            "grid_gap": null,
            "grid_row": null,
            "grid_template_areas": null,
            "grid_template_columns": null,
            "grid_template_rows": null,
            "height": null,
            "justify_content": null,
            "justify_items": null,
            "left": null,
            "margin": null,
            "max_height": null,
            "max_width": null,
            "min_height": null,
            "min_width": null,
            "object_fit": null,
            "object_position": null,
            "order": null,
            "overflow": null,
            "overflow_x": null,
            "overflow_y": null,
            "padding": null,
            "right": null,
            "top": null,
            "visibility": null,
            "width": null
          }
        },
        "08dec262fa1741748426ff74252f2e66": {
          "model_module": "@jupyter-widgets/controls",
          "model_name": "ProgressStyleModel",
          "model_module_version": "1.5.0",
          "state": {
            "_model_module": "@jupyter-widgets/controls",
            "_model_module_version": "1.5.0",
            "_model_name": "ProgressStyleModel",
            "_view_count": null,
            "_view_module": "@jupyter-widgets/base",
            "_view_module_version": "1.2.0",
            "_view_name": "StyleView",
            "bar_color": null,
            "description_width": ""
          }
        },
        "cdd99b6a6d43488d920c53629930b728": {
          "model_module": "@jupyter-widgets/controls",
          "model_name": "VBoxModel",
          "model_module_version": "1.5.0",
          "state": {
            "_dom_classes": [],
            "_model_module": "@jupyter-widgets/controls",
            "_model_module_version": "1.5.0",
            "_model_name": "VBoxModel",
            "_view_count": null,
            "_view_module": "@jupyter-widgets/controls",
            "_view_module_version": "1.5.0",
            "_view_name": "VBoxView",
            "box_style": "",
            "children": [
              "IPY_MODEL_6df214b3821d4f97be121ae38f4286e0",
              "IPY_MODEL_e8f31c7ea87545a49352333eb48e94a7"
            ],
            "layout": "IPY_MODEL_d9963e89350342c1b929dde48ea0f4a2"
          }
        },
        "6df214b3821d4f97be121ae38f4286e0": {
          "model_module": "@jupyter-widgets/controls",
          "model_name": "LabelModel",
          "model_module_version": "1.5.0",
          "state": {
            "_dom_classes": [],
            "_model_module": "@jupyter-widgets/controls",
            "_model_module_version": "1.5.0",
            "_model_name": "LabelModel",
            "_view_count": null,
            "_view_module": "@jupyter-widgets/controls",
            "_view_module_version": "1.5.0",
            "_view_name": "LabelView",
            "description": "",
            "description_tooltip": null,
            "layout": "IPY_MODEL_27bc569a40274b62a4f9d2f29dfbe724",
            "placeholder": "​",
            "style": "IPY_MODEL_4c7ad71bce02451fa407d79da6c2756c",
            "value": "0.016 MB of 0.016 MB uploaded (0.000 MB deduped)\r"
          }
        },
        "e8f31c7ea87545a49352333eb48e94a7": {
          "model_module": "@jupyter-widgets/controls",
          "model_name": "FloatProgressModel",
          "model_module_version": "1.5.0",
          "state": {
            "_dom_classes": [],
            "_model_module": "@jupyter-widgets/controls",
            "_model_module_version": "1.5.0",
            "_model_name": "FloatProgressModel",
            "_view_count": null,
            "_view_module": "@jupyter-widgets/controls",
            "_view_module_version": "1.5.0",
            "_view_name": "ProgressView",
            "bar_style": "",
            "description": "",
            "description_tooltip": null,
            "layout": "IPY_MODEL_696bf2fd07af4201b5d6460f29510649",
            "max": 1,
            "min": 0,
            "orientation": "horizontal",
            "style": "IPY_MODEL_d26a456b6fbd447dae9f6d1746719f0d",
            "value": 1
          }
        },
        "d9963e89350342c1b929dde48ea0f4a2": {
          "model_module": "@jupyter-widgets/base",
          "model_name": "LayoutModel",
          "model_module_version": "1.2.0",
          "state": {
            "_model_module": "@jupyter-widgets/base",
            "_model_module_version": "1.2.0",
            "_model_name": "LayoutModel",
            "_view_count": null,
            "_view_module": "@jupyter-widgets/base",
            "_view_module_version": "1.2.0",
            "_view_name": "LayoutView",
            "align_content": null,
            "align_items": null,
            "align_self": null,
            "border": null,
            "bottom": null,
            "display": null,
            "flex": null,
            "flex_flow": null,
            "grid_area": null,
            "grid_auto_columns": null,
            "grid_auto_flow": null,
            "grid_auto_rows": null,
            "grid_column": null,
            "grid_gap": null,
            "grid_row": null,
            "grid_template_areas": null,
            "grid_template_columns": null,
            "grid_template_rows": null,
            "height": null,
            "justify_content": null,
            "justify_items": null,
            "left": null,
            "margin": null,
            "max_height": null,
            "max_width": null,
            "min_height": null,
            "min_width": null,
            "object_fit": null,
            "object_position": null,
            "order": null,
            "overflow": null,
            "overflow_x": null,
            "overflow_y": null,
            "padding": null,
            "right": null,
            "top": null,
            "visibility": null,
            "width": null
          }
        },
        "27bc569a40274b62a4f9d2f29dfbe724": {
          "model_module": "@jupyter-widgets/base",
          "model_name": "LayoutModel",
          "model_module_version": "1.2.0",
          "state": {
            "_model_module": "@jupyter-widgets/base",
            "_model_module_version": "1.2.0",
            "_model_name": "LayoutModel",
            "_view_count": null,
            "_view_module": "@jupyter-widgets/base",
            "_view_module_version": "1.2.0",
            "_view_name": "LayoutView",
            "align_content": null,
            "align_items": null,
            "align_self": null,
            "border": null,
            "bottom": null,
            "display": null,
            "flex": null,
            "flex_flow": null,
            "grid_area": null,
            "grid_auto_columns": null,
            "grid_auto_flow": null,
            "grid_auto_rows": null,
            "grid_column": null,
            "grid_gap": null,
            "grid_row": null,
            "grid_template_areas": null,
            "grid_template_columns": null,
            "grid_template_rows": null,
            "height": null,
            "justify_content": null,
            "justify_items": null,
            "left": null,
            "margin": null,
            "max_height": null,
            "max_width": null,
            "min_height": null,
            "min_width": null,
            "object_fit": null,
            "object_position": null,
            "order": null,
            "overflow": null,
            "overflow_x": null,
            "overflow_y": null,
            "padding": null,
            "right": null,
            "top": null,
            "visibility": null,
            "width": null
          }
        },
        "4c7ad71bce02451fa407d79da6c2756c": {
          "model_module": "@jupyter-widgets/controls",
          "model_name": "DescriptionStyleModel",
          "model_module_version": "1.5.0",
          "state": {
            "_model_module": "@jupyter-widgets/controls",
            "_model_module_version": "1.5.0",
            "_model_name": "DescriptionStyleModel",
            "_view_count": null,
            "_view_module": "@jupyter-widgets/base",
            "_view_module_version": "1.2.0",
            "_view_name": "StyleView",
            "description_width": ""
          }
        },
        "696bf2fd07af4201b5d6460f29510649": {
          "model_module": "@jupyter-widgets/base",
          "model_name": "LayoutModel",
          "model_module_version": "1.2.0",
          "state": {
            "_model_module": "@jupyter-widgets/base",
            "_model_module_version": "1.2.0",
            "_model_name": "LayoutModel",
            "_view_count": null,
            "_view_module": "@jupyter-widgets/base",
            "_view_module_version": "1.2.0",
            "_view_name": "LayoutView",
            "align_content": null,
            "align_items": null,
            "align_self": null,
            "border": null,
            "bottom": null,
            "display": null,
            "flex": null,
            "flex_flow": null,
            "grid_area": null,
            "grid_auto_columns": null,
            "grid_auto_flow": null,
            "grid_auto_rows": null,
            "grid_column": null,
            "grid_gap": null,
            "grid_row": null,
            "grid_template_areas": null,
            "grid_template_columns": null,
            "grid_template_rows": null,
            "height": null,
            "justify_content": null,
            "justify_items": null,
            "left": null,
            "margin": null,
            "max_height": null,
            "max_width": null,
            "min_height": null,
            "min_width": null,
            "object_fit": null,
            "object_position": null,
            "order": null,
            "overflow": null,
            "overflow_x": null,
            "overflow_y": null,
            "padding": null,
            "right": null,
            "top": null,
            "visibility": null,
            "width": null
          }
        },
        "d26a456b6fbd447dae9f6d1746719f0d": {
          "model_module": "@jupyter-widgets/controls",
          "model_name": "ProgressStyleModel",
          "model_module_version": "1.5.0",
          "state": {
            "_model_module": "@jupyter-widgets/controls",
            "_model_module_version": "1.5.0",
            "_model_name": "ProgressStyleModel",
            "_view_count": null,
            "_view_module": "@jupyter-widgets/base",
            "_view_module_version": "1.2.0",
            "_view_name": "StyleView",
            "bar_color": null,
            "description_width": ""
          }
        },
        "786052a8cda342e981c67eeac5fa0a32": {
          "model_module": "@jupyter-widgets/controls",
          "model_name": "VBoxModel",
          "model_module_version": "1.5.0",
          "state": {
            "_dom_classes": [],
            "_model_module": "@jupyter-widgets/controls",
            "_model_module_version": "1.5.0",
            "_model_name": "VBoxModel",
            "_view_count": null,
            "_view_module": "@jupyter-widgets/controls",
            "_view_module_version": "1.5.0",
            "_view_name": "VBoxView",
            "box_style": "",
            "children": [
              "IPY_MODEL_7b80e01015ba4a598c96373698a78844",
              "IPY_MODEL_423637d49b254851b29bee68c8831bff"
            ],
            "layout": "IPY_MODEL_086369ed432044149aef9ed4665a70e4"
          }
        },
        "7b80e01015ba4a598c96373698a78844": {
          "model_module": "@jupyter-widgets/controls",
          "model_name": "LabelModel",
          "model_module_version": "1.5.0",
          "state": {
            "_dom_classes": [],
            "_model_module": "@jupyter-widgets/controls",
            "_model_module_version": "1.5.0",
            "_model_name": "LabelModel",
            "_view_count": null,
            "_view_module": "@jupyter-widgets/controls",
            "_view_module_version": "1.5.0",
            "_view_name": "LabelView",
            "description": "",
            "description_tooltip": null,
            "layout": "IPY_MODEL_1513767d0937480eac8526551e6ee47d",
            "placeholder": "​",
            "style": "IPY_MODEL_5e7d8efd31a64857934a6ec56fec7df3",
            "value": "0.016 MB of 0.016 MB uploaded (0.000 MB deduped)\r"
          }
        },
        "423637d49b254851b29bee68c8831bff": {
          "model_module": "@jupyter-widgets/controls",
          "model_name": "FloatProgressModel",
          "model_module_version": "1.5.0",
          "state": {
            "_dom_classes": [],
            "_model_module": "@jupyter-widgets/controls",
            "_model_module_version": "1.5.0",
            "_model_name": "FloatProgressModel",
            "_view_count": null,
            "_view_module": "@jupyter-widgets/controls",
            "_view_module_version": "1.5.0",
            "_view_name": "ProgressView",
            "bar_style": "",
            "description": "",
            "description_tooltip": null,
            "layout": "IPY_MODEL_856a4ff165ec4562a6672b0e5b9847bb",
            "max": 1,
            "min": 0,
            "orientation": "horizontal",
            "style": "IPY_MODEL_ba116dac655e4d029b53edd67bbce287",
            "value": 1
          }
        },
        "086369ed432044149aef9ed4665a70e4": {
          "model_module": "@jupyter-widgets/base",
          "model_name": "LayoutModel",
          "model_module_version": "1.2.0",
          "state": {
            "_model_module": "@jupyter-widgets/base",
            "_model_module_version": "1.2.0",
            "_model_name": "LayoutModel",
            "_view_count": null,
            "_view_module": "@jupyter-widgets/base",
            "_view_module_version": "1.2.0",
            "_view_name": "LayoutView",
            "align_content": null,
            "align_items": null,
            "align_self": null,
            "border": null,
            "bottom": null,
            "display": null,
            "flex": null,
            "flex_flow": null,
            "grid_area": null,
            "grid_auto_columns": null,
            "grid_auto_flow": null,
            "grid_auto_rows": null,
            "grid_column": null,
            "grid_gap": null,
            "grid_row": null,
            "grid_template_areas": null,
            "grid_template_columns": null,
            "grid_template_rows": null,
            "height": null,
            "justify_content": null,
            "justify_items": null,
            "left": null,
            "margin": null,
            "max_height": null,
            "max_width": null,
            "min_height": null,
            "min_width": null,
            "object_fit": null,
            "object_position": null,
            "order": null,
            "overflow": null,
            "overflow_x": null,
            "overflow_y": null,
            "padding": null,
            "right": null,
            "top": null,
            "visibility": null,
            "width": null
          }
        },
        "1513767d0937480eac8526551e6ee47d": {
          "model_module": "@jupyter-widgets/base",
          "model_name": "LayoutModel",
          "model_module_version": "1.2.0",
          "state": {
            "_model_module": "@jupyter-widgets/base",
            "_model_module_version": "1.2.0",
            "_model_name": "LayoutModel",
            "_view_count": null,
            "_view_module": "@jupyter-widgets/base",
            "_view_module_version": "1.2.0",
            "_view_name": "LayoutView",
            "align_content": null,
            "align_items": null,
            "align_self": null,
            "border": null,
            "bottom": null,
            "display": null,
            "flex": null,
            "flex_flow": null,
            "grid_area": null,
            "grid_auto_columns": null,
            "grid_auto_flow": null,
            "grid_auto_rows": null,
            "grid_column": null,
            "grid_gap": null,
            "grid_row": null,
            "grid_template_areas": null,
            "grid_template_columns": null,
            "grid_template_rows": null,
            "height": null,
            "justify_content": null,
            "justify_items": null,
            "left": null,
            "margin": null,
            "max_height": null,
            "max_width": null,
            "min_height": null,
            "min_width": null,
            "object_fit": null,
            "object_position": null,
            "order": null,
            "overflow": null,
            "overflow_x": null,
            "overflow_y": null,
            "padding": null,
            "right": null,
            "top": null,
            "visibility": null,
            "width": null
          }
        },
        "5e7d8efd31a64857934a6ec56fec7df3": {
          "model_module": "@jupyter-widgets/controls",
          "model_name": "DescriptionStyleModel",
          "model_module_version": "1.5.0",
          "state": {
            "_model_module": "@jupyter-widgets/controls",
            "_model_module_version": "1.5.0",
            "_model_name": "DescriptionStyleModel",
            "_view_count": null,
            "_view_module": "@jupyter-widgets/base",
            "_view_module_version": "1.2.0",
            "_view_name": "StyleView",
            "description_width": ""
          }
        },
        "856a4ff165ec4562a6672b0e5b9847bb": {
          "model_module": "@jupyter-widgets/base",
          "model_name": "LayoutModel",
          "model_module_version": "1.2.0",
          "state": {
            "_model_module": "@jupyter-widgets/base",
            "_model_module_version": "1.2.0",
            "_model_name": "LayoutModel",
            "_view_count": null,
            "_view_module": "@jupyter-widgets/base",
            "_view_module_version": "1.2.0",
            "_view_name": "LayoutView",
            "align_content": null,
            "align_items": null,
            "align_self": null,
            "border": null,
            "bottom": null,
            "display": null,
            "flex": null,
            "flex_flow": null,
            "grid_area": null,
            "grid_auto_columns": null,
            "grid_auto_flow": null,
            "grid_auto_rows": null,
            "grid_column": null,
            "grid_gap": null,
            "grid_row": null,
            "grid_template_areas": null,
            "grid_template_columns": null,
            "grid_template_rows": null,
            "height": null,
            "justify_content": null,
            "justify_items": null,
            "left": null,
            "margin": null,
            "max_height": null,
            "max_width": null,
            "min_height": null,
            "min_width": null,
            "object_fit": null,
            "object_position": null,
            "order": null,
            "overflow": null,
            "overflow_x": null,
            "overflow_y": null,
            "padding": null,
            "right": null,
            "top": null,
            "visibility": null,
            "width": null
          }
        },
        "ba116dac655e4d029b53edd67bbce287": {
          "model_module": "@jupyter-widgets/controls",
          "model_name": "ProgressStyleModel",
          "model_module_version": "1.5.0",
          "state": {
            "_model_module": "@jupyter-widgets/controls",
            "_model_module_version": "1.5.0",
            "_model_name": "ProgressStyleModel",
            "_view_count": null,
            "_view_module": "@jupyter-widgets/base",
            "_view_module_version": "1.2.0",
            "_view_name": "StyleView",
            "bar_color": null,
            "description_width": ""
          }
        },
        "a7d88bf2a1024bb7a2ca2b8742fc48e3": {
          "model_module": "@jupyter-widgets/controls",
          "model_name": "VBoxModel",
          "model_module_version": "1.5.0",
          "state": {
            "_dom_classes": [],
            "_model_module": "@jupyter-widgets/controls",
            "_model_module_version": "1.5.0",
            "_model_name": "VBoxModel",
            "_view_count": null,
            "_view_module": "@jupyter-widgets/controls",
            "_view_module_version": "1.5.0",
            "_view_name": "VBoxView",
            "box_style": "",
            "children": [
              "IPY_MODEL_e8efc605ad9b45aaa4cb7626fb81c084",
              "IPY_MODEL_1e31f1ed1abf421a8f40d042ccadbaa5"
            ],
            "layout": "IPY_MODEL_00e4dd52fa044ae78dece3bd6e2f28c8"
          }
        },
        "e8efc605ad9b45aaa4cb7626fb81c084": {
          "model_module": "@jupyter-widgets/controls",
          "model_name": "LabelModel",
          "model_module_version": "1.5.0",
          "state": {
            "_dom_classes": [],
            "_model_module": "@jupyter-widgets/controls",
            "_model_module_version": "1.5.0",
            "_model_name": "LabelModel",
            "_view_count": null,
            "_view_module": "@jupyter-widgets/controls",
            "_view_module_version": "1.5.0",
            "_view_name": "LabelView",
            "description": "",
            "description_tooltip": null,
            "layout": "IPY_MODEL_817b27ee2d23438abe34fd2b683d29ff",
            "placeholder": "​",
            "style": "IPY_MODEL_64ddc6adf4b14adfaa6ff0751899ee96",
            "value": "0.016 MB of 0.016 MB uploaded (0.000 MB deduped)\r"
          }
        },
        "1e31f1ed1abf421a8f40d042ccadbaa5": {
          "model_module": "@jupyter-widgets/controls",
          "model_name": "FloatProgressModel",
          "model_module_version": "1.5.0",
          "state": {
            "_dom_classes": [],
            "_model_module": "@jupyter-widgets/controls",
            "_model_module_version": "1.5.0",
            "_model_name": "FloatProgressModel",
            "_view_count": null,
            "_view_module": "@jupyter-widgets/controls",
            "_view_module_version": "1.5.0",
            "_view_name": "ProgressView",
            "bar_style": "",
            "description": "",
            "description_tooltip": null,
            "layout": "IPY_MODEL_5f0653bf51744a4e806a5f59943c5491",
            "max": 1,
            "min": 0,
            "orientation": "horizontal",
            "style": "IPY_MODEL_a20a6dfda5fd48e4b13b716816de5087",
            "value": 1
          }
        },
        "00e4dd52fa044ae78dece3bd6e2f28c8": {
          "model_module": "@jupyter-widgets/base",
          "model_name": "LayoutModel",
          "model_module_version": "1.2.0",
          "state": {
            "_model_module": "@jupyter-widgets/base",
            "_model_module_version": "1.2.0",
            "_model_name": "LayoutModel",
            "_view_count": null,
            "_view_module": "@jupyter-widgets/base",
            "_view_module_version": "1.2.0",
            "_view_name": "LayoutView",
            "align_content": null,
            "align_items": null,
            "align_self": null,
            "border": null,
            "bottom": null,
            "display": null,
            "flex": null,
            "flex_flow": null,
            "grid_area": null,
            "grid_auto_columns": null,
            "grid_auto_flow": null,
            "grid_auto_rows": null,
            "grid_column": null,
            "grid_gap": null,
            "grid_row": null,
            "grid_template_areas": null,
            "grid_template_columns": null,
            "grid_template_rows": null,
            "height": null,
            "justify_content": null,
            "justify_items": null,
            "left": null,
            "margin": null,
            "max_height": null,
            "max_width": null,
            "min_height": null,
            "min_width": null,
            "object_fit": null,
            "object_position": null,
            "order": null,
            "overflow": null,
            "overflow_x": null,
            "overflow_y": null,
            "padding": null,
            "right": null,
            "top": null,
            "visibility": null,
            "width": null
          }
        },
        "817b27ee2d23438abe34fd2b683d29ff": {
          "model_module": "@jupyter-widgets/base",
          "model_name": "LayoutModel",
          "model_module_version": "1.2.0",
          "state": {
            "_model_module": "@jupyter-widgets/base",
            "_model_module_version": "1.2.0",
            "_model_name": "LayoutModel",
            "_view_count": null,
            "_view_module": "@jupyter-widgets/base",
            "_view_module_version": "1.2.0",
            "_view_name": "LayoutView",
            "align_content": null,
            "align_items": null,
            "align_self": null,
            "border": null,
            "bottom": null,
            "display": null,
            "flex": null,
            "flex_flow": null,
            "grid_area": null,
            "grid_auto_columns": null,
            "grid_auto_flow": null,
            "grid_auto_rows": null,
            "grid_column": null,
            "grid_gap": null,
            "grid_row": null,
            "grid_template_areas": null,
            "grid_template_columns": null,
            "grid_template_rows": null,
            "height": null,
            "justify_content": null,
            "justify_items": null,
            "left": null,
            "margin": null,
            "max_height": null,
            "max_width": null,
            "min_height": null,
            "min_width": null,
            "object_fit": null,
            "object_position": null,
            "order": null,
            "overflow": null,
            "overflow_x": null,
            "overflow_y": null,
            "padding": null,
            "right": null,
            "top": null,
            "visibility": null,
            "width": null
          }
        },
        "64ddc6adf4b14adfaa6ff0751899ee96": {
          "model_module": "@jupyter-widgets/controls",
          "model_name": "DescriptionStyleModel",
          "model_module_version": "1.5.0",
          "state": {
            "_model_module": "@jupyter-widgets/controls",
            "_model_module_version": "1.5.0",
            "_model_name": "DescriptionStyleModel",
            "_view_count": null,
            "_view_module": "@jupyter-widgets/base",
            "_view_module_version": "1.2.0",
            "_view_name": "StyleView",
            "description_width": ""
          }
        },
        "5f0653bf51744a4e806a5f59943c5491": {
          "model_module": "@jupyter-widgets/base",
          "model_name": "LayoutModel",
          "model_module_version": "1.2.0",
          "state": {
            "_model_module": "@jupyter-widgets/base",
            "_model_module_version": "1.2.0",
            "_model_name": "LayoutModel",
            "_view_count": null,
            "_view_module": "@jupyter-widgets/base",
            "_view_module_version": "1.2.0",
            "_view_name": "LayoutView",
            "align_content": null,
            "align_items": null,
            "align_self": null,
            "border": null,
            "bottom": null,
            "display": null,
            "flex": null,
            "flex_flow": null,
            "grid_area": null,
            "grid_auto_columns": null,
            "grid_auto_flow": null,
            "grid_auto_rows": null,
            "grid_column": null,
            "grid_gap": null,
            "grid_row": null,
            "grid_template_areas": null,
            "grid_template_columns": null,
            "grid_template_rows": null,
            "height": null,
            "justify_content": null,
            "justify_items": null,
            "left": null,
            "margin": null,
            "max_height": null,
            "max_width": null,
            "min_height": null,
            "min_width": null,
            "object_fit": null,
            "object_position": null,
            "order": null,
            "overflow": null,
            "overflow_x": null,
            "overflow_y": null,
            "padding": null,
            "right": null,
            "top": null,
            "visibility": null,
            "width": null
          }
        },
        "a20a6dfda5fd48e4b13b716816de5087": {
          "model_module": "@jupyter-widgets/controls",
          "model_name": "ProgressStyleModel",
          "model_module_version": "1.5.0",
          "state": {
            "_model_module": "@jupyter-widgets/controls",
            "_model_module_version": "1.5.0",
            "_model_name": "ProgressStyleModel",
            "_view_count": null,
            "_view_module": "@jupyter-widgets/base",
            "_view_module_version": "1.2.0",
            "_view_name": "StyleView",
            "bar_color": null,
            "description_width": ""
          }
        },
        "4cb8015768c94d7f98a3580346a28270": {
          "model_module": "@jupyter-widgets/controls",
          "model_name": "VBoxModel",
          "model_module_version": "1.5.0",
          "state": {
            "_dom_classes": [],
            "_model_module": "@jupyter-widgets/controls",
            "_model_module_version": "1.5.0",
            "_model_name": "VBoxModel",
            "_view_count": null,
            "_view_module": "@jupyter-widgets/controls",
            "_view_module_version": "1.5.0",
            "_view_name": "VBoxView",
            "box_style": "",
            "children": [
              "IPY_MODEL_c83ebed4bdb54434ba1a2624822777b0",
              "IPY_MODEL_679b216328464c17b8a985910785e71a"
            ],
            "layout": "IPY_MODEL_151d9a16560649aa9acbe2972fc4de38"
          }
        },
        "c83ebed4bdb54434ba1a2624822777b0": {
          "model_module": "@jupyter-widgets/controls",
          "model_name": "LabelModel",
          "model_module_version": "1.5.0",
          "state": {
            "_dom_classes": [],
            "_model_module": "@jupyter-widgets/controls",
            "_model_module_version": "1.5.0",
            "_model_name": "LabelModel",
            "_view_count": null,
            "_view_module": "@jupyter-widgets/controls",
            "_view_module_version": "1.5.0",
            "_view_name": "LabelView",
            "description": "",
            "description_tooltip": null,
            "layout": "IPY_MODEL_96838d3dbb9f445a848103cc78b5e9c8",
            "placeholder": "​",
            "style": "IPY_MODEL_14604eae5c3e4f63848b7f6cd2b3e224",
            "value": "0.016 MB of 0.016 MB uploaded (0.000 MB deduped)\r"
          }
        },
        "679b216328464c17b8a985910785e71a": {
          "model_module": "@jupyter-widgets/controls",
          "model_name": "FloatProgressModel",
          "model_module_version": "1.5.0",
          "state": {
            "_dom_classes": [],
            "_model_module": "@jupyter-widgets/controls",
            "_model_module_version": "1.5.0",
            "_model_name": "FloatProgressModel",
            "_view_count": null,
            "_view_module": "@jupyter-widgets/controls",
            "_view_module_version": "1.5.0",
            "_view_name": "ProgressView",
            "bar_style": "",
            "description": "",
            "description_tooltip": null,
            "layout": "IPY_MODEL_f0210bd45a3343ec88c9dbb9ef68144b",
            "max": 1,
            "min": 0,
            "orientation": "horizontal",
            "style": "IPY_MODEL_d9694fb254014657982c50428aec4f37",
            "value": 1
          }
        },
        "151d9a16560649aa9acbe2972fc4de38": {
          "model_module": "@jupyter-widgets/base",
          "model_name": "LayoutModel",
          "model_module_version": "1.2.0",
          "state": {
            "_model_module": "@jupyter-widgets/base",
            "_model_module_version": "1.2.0",
            "_model_name": "LayoutModel",
            "_view_count": null,
            "_view_module": "@jupyter-widgets/base",
            "_view_module_version": "1.2.0",
            "_view_name": "LayoutView",
            "align_content": null,
            "align_items": null,
            "align_self": null,
            "border": null,
            "bottom": null,
            "display": null,
            "flex": null,
            "flex_flow": null,
            "grid_area": null,
            "grid_auto_columns": null,
            "grid_auto_flow": null,
            "grid_auto_rows": null,
            "grid_column": null,
            "grid_gap": null,
            "grid_row": null,
            "grid_template_areas": null,
            "grid_template_columns": null,
            "grid_template_rows": null,
            "height": null,
            "justify_content": null,
            "justify_items": null,
            "left": null,
            "margin": null,
            "max_height": null,
            "max_width": null,
            "min_height": null,
            "min_width": null,
            "object_fit": null,
            "object_position": null,
            "order": null,
            "overflow": null,
            "overflow_x": null,
            "overflow_y": null,
            "padding": null,
            "right": null,
            "top": null,
            "visibility": null,
            "width": null
          }
        },
        "96838d3dbb9f445a848103cc78b5e9c8": {
          "model_module": "@jupyter-widgets/base",
          "model_name": "LayoutModel",
          "model_module_version": "1.2.0",
          "state": {
            "_model_module": "@jupyter-widgets/base",
            "_model_module_version": "1.2.0",
            "_model_name": "LayoutModel",
            "_view_count": null,
            "_view_module": "@jupyter-widgets/base",
            "_view_module_version": "1.2.0",
            "_view_name": "LayoutView",
            "align_content": null,
            "align_items": null,
            "align_self": null,
            "border": null,
            "bottom": null,
            "display": null,
            "flex": null,
            "flex_flow": null,
            "grid_area": null,
            "grid_auto_columns": null,
            "grid_auto_flow": null,
            "grid_auto_rows": null,
            "grid_column": null,
            "grid_gap": null,
            "grid_row": null,
            "grid_template_areas": null,
            "grid_template_columns": null,
            "grid_template_rows": null,
            "height": null,
            "justify_content": null,
            "justify_items": null,
            "left": null,
            "margin": null,
            "max_height": null,
            "max_width": null,
            "min_height": null,
            "min_width": null,
            "object_fit": null,
            "object_position": null,
            "order": null,
            "overflow": null,
            "overflow_x": null,
            "overflow_y": null,
            "padding": null,
            "right": null,
            "top": null,
            "visibility": null,
            "width": null
          }
        },
        "14604eae5c3e4f63848b7f6cd2b3e224": {
          "model_module": "@jupyter-widgets/controls",
          "model_name": "DescriptionStyleModel",
          "model_module_version": "1.5.0",
          "state": {
            "_model_module": "@jupyter-widgets/controls",
            "_model_module_version": "1.5.0",
            "_model_name": "DescriptionStyleModel",
            "_view_count": null,
            "_view_module": "@jupyter-widgets/base",
            "_view_module_version": "1.2.0",
            "_view_name": "StyleView",
            "description_width": ""
          }
        },
        "f0210bd45a3343ec88c9dbb9ef68144b": {
          "model_module": "@jupyter-widgets/base",
          "model_name": "LayoutModel",
          "model_module_version": "1.2.0",
          "state": {
            "_model_module": "@jupyter-widgets/base",
            "_model_module_version": "1.2.0",
            "_model_name": "LayoutModel",
            "_view_count": null,
            "_view_module": "@jupyter-widgets/base",
            "_view_module_version": "1.2.0",
            "_view_name": "LayoutView",
            "align_content": null,
            "align_items": null,
            "align_self": null,
            "border": null,
            "bottom": null,
            "display": null,
            "flex": null,
            "flex_flow": null,
            "grid_area": null,
            "grid_auto_columns": null,
            "grid_auto_flow": null,
            "grid_auto_rows": null,
            "grid_column": null,
            "grid_gap": null,
            "grid_row": null,
            "grid_template_areas": null,
            "grid_template_columns": null,
            "grid_template_rows": null,
            "height": null,
            "justify_content": null,
            "justify_items": null,
            "left": null,
            "margin": null,
            "max_height": null,
            "max_width": null,
            "min_height": null,
            "min_width": null,
            "object_fit": null,
            "object_position": null,
            "order": null,
            "overflow": null,
            "overflow_x": null,
            "overflow_y": null,
            "padding": null,
            "right": null,
            "top": null,
            "visibility": null,
            "width": null
          }
        },
        "d9694fb254014657982c50428aec4f37": {
          "model_module": "@jupyter-widgets/controls",
          "model_name": "ProgressStyleModel",
          "model_module_version": "1.5.0",
          "state": {
            "_model_module": "@jupyter-widgets/controls",
            "_model_module_version": "1.5.0",
            "_model_name": "ProgressStyleModel",
            "_view_count": null,
            "_view_module": "@jupyter-widgets/base",
            "_view_module_version": "1.2.0",
            "_view_name": "StyleView",
            "bar_color": null,
            "description_width": ""
          }
        },
        "4ae059e14e57495ebe521d636e039839": {
          "model_module": "@jupyter-widgets/controls",
          "model_name": "VBoxModel",
          "model_module_version": "1.5.0",
          "state": {
            "_dom_classes": [],
            "_model_module": "@jupyter-widgets/controls",
            "_model_module_version": "1.5.0",
            "_model_name": "VBoxModel",
            "_view_count": null,
            "_view_module": "@jupyter-widgets/controls",
            "_view_module_version": "1.5.0",
            "_view_name": "VBoxView",
            "box_style": "",
            "children": [
              "IPY_MODEL_94e5480c49e64f0394f4b242e3f6bc6b",
              "IPY_MODEL_5a48f58957714ccc902ca1e01b4bebb7"
            ],
            "layout": "IPY_MODEL_c4b168f616d140679e49251db989707b"
          }
        },
        "94e5480c49e64f0394f4b242e3f6bc6b": {
          "model_module": "@jupyter-widgets/controls",
          "model_name": "LabelModel",
          "model_module_version": "1.5.0",
          "state": {
            "_dom_classes": [],
            "_model_module": "@jupyter-widgets/controls",
            "_model_module_version": "1.5.0",
            "_model_name": "LabelModel",
            "_view_count": null,
            "_view_module": "@jupyter-widgets/controls",
            "_view_module_version": "1.5.0",
            "_view_name": "LabelView",
            "description": "",
            "description_tooltip": null,
            "layout": "IPY_MODEL_ba4502639ad54a49b4ae73cb11a31b40",
            "placeholder": "​",
            "style": "IPY_MODEL_108103797f3c4b09897484e946a222a7",
            "value": "0.016 MB of 0.016 MB uploaded (0.000 MB deduped)\r"
          }
        },
        "5a48f58957714ccc902ca1e01b4bebb7": {
          "model_module": "@jupyter-widgets/controls",
          "model_name": "FloatProgressModel",
          "model_module_version": "1.5.0",
          "state": {
            "_dom_classes": [],
            "_model_module": "@jupyter-widgets/controls",
            "_model_module_version": "1.5.0",
            "_model_name": "FloatProgressModel",
            "_view_count": null,
            "_view_module": "@jupyter-widgets/controls",
            "_view_module_version": "1.5.0",
            "_view_name": "ProgressView",
            "bar_style": "",
            "description": "",
            "description_tooltip": null,
            "layout": "IPY_MODEL_75758d6e53c64bc6bac75a1fe1d92bc1",
            "max": 1,
            "min": 0,
            "orientation": "horizontal",
            "style": "IPY_MODEL_4a8a8f694971461d9366cd7ea9a53743",
            "value": 1
          }
        },
        "c4b168f616d140679e49251db989707b": {
          "model_module": "@jupyter-widgets/base",
          "model_name": "LayoutModel",
          "model_module_version": "1.2.0",
          "state": {
            "_model_module": "@jupyter-widgets/base",
            "_model_module_version": "1.2.0",
            "_model_name": "LayoutModel",
            "_view_count": null,
            "_view_module": "@jupyter-widgets/base",
            "_view_module_version": "1.2.0",
            "_view_name": "LayoutView",
            "align_content": null,
            "align_items": null,
            "align_self": null,
            "border": null,
            "bottom": null,
            "display": null,
            "flex": null,
            "flex_flow": null,
            "grid_area": null,
            "grid_auto_columns": null,
            "grid_auto_flow": null,
            "grid_auto_rows": null,
            "grid_column": null,
            "grid_gap": null,
            "grid_row": null,
            "grid_template_areas": null,
            "grid_template_columns": null,
            "grid_template_rows": null,
            "height": null,
            "justify_content": null,
            "justify_items": null,
            "left": null,
            "margin": null,
            "max_height": null,
            "max_width": null,
            "min_height": null,
            "min_width": null,
            "object_fit": null,
            "object_position": null,
            "order": null,
            "overflow": null,
            "overflow_x": null,
            "overflow_y": null,
            "padding": null,
            "right": null,
            "top": null,
            "visibility": null,
            "width": null
          }
        },
        "ba4502639ad54a49b4ae73cb11a31b40": {
          "model_module": "@jupyter-widgets/base",
          "model_name": "LayoutModel",
          "model_module_version": "1.2.0",
          "state": {
            "_model_module": "@jupyter-widgets/base",
            "_model_module_version": "1.2.0",
            "_model_name": "LayoutModel",
            "_view_count": null,
            "_view_module": "@jupyter-widgets/base",
            "_view_module_version": "1.2.0",
            "_view_name": "LayoutView",
            "align_content": null,
            "align_items": null,
            "align_self": null,
            "border": null,
            "bottom": null,
            "display": null,
            "flex": null,
            "flex_flow": null,
            "grid_area": null,
            "grid_auto_columns": null,
            "grid_auto_flow": null,
            "grid_auto_rows": null,
            "grid_column": null,
            "grid_gap": null,
            "grid_row": null,
            "grid_template_areas": null,
            "grid_template_columns": null,
            "grid_template_rows": null,
            "height": null,
            "justify_content": null,
            "justify_items": null,
            "left": null,
            "margin": null,
            "max_height": null,
            "max_width": null,
            "min_height": null,
            "min_width": null,
            "object_fit": null,
            "object_position": null,
            "order": null,
            "overflow": null,
            "overflow_x": null,
            "overflow_y": null,
            "padding": null,
            "right": null,
            "top": null,
            "visibility": null,
            "width": null
          }
        },
        "108103797f3c4b09897484e946a222a7": {
          "model_module": "@jupyter-widgets/controls",
          "model_name": "DescriptionStyleModel",
          "model_module_version": "1.5.0",
          "state": {
            "_model_module": "@jupyter-widgets/controls",
            "_model_module_version": "1.5.0",
            "_model_name": "DescriptionStyleModel",
            "_view_count": null,
            "_view_module": "@jupyter-widgets/base",
            "_view_module_version": "1.2.0",
            "_view_name": "StyleView",
            "description_width": ""
          }
        },
        "75758d6e53c64bc6bac75a1fe1d92bc1": {
          "model_module": "@jupyter-widgets/base",
          "model_name": "LayoutModel",
          "model_module_version": "1.2.0",
          "state": {
            "_model_module": "@jupyter-widgets/base",
            "_model_module_version": "1.2.0",
            "_model_name": "LayoutModel",
            "_view_count": null,
            "_view_module": "@jupyter-widgets/base",
            "_view_module_version": "1.2.0",
            "_view_name": "LayoutView",
            "align_content": null,
            "align_items": null,
            "align_self": null,
            "border": null,
            "bottom": null,
            "display": null,
            "flex": null,
            "flex_flow": null,
            "grid_area": null,
            "grid_auto_columns": null,
            "grid_auto_flow": null,
            "grid_auto_rows": null,
            "grid_column": null,
            "grid_gap": null,
            "grid_row": null,
            "grid_template_areas": null,
            "grid_template_columns": null,
            "grid_template_rows": null,
            "height": null,
            "justify_content": null,
            "justify_items": null,
            "left": null,
            "margin": null,
            "max_height": null,
            "max_width": null,
            "min_height": null,
            "min_width": null,
            "object_fit": null,
            "object_position": null,
            "order": null,
            "overflow": null,
            "overflow_x": null,
            "overflow_y": null,
            "padding": null,
            "right": null,
            "top": null,
            "visibility": null,
            "width": null
          }
        },
        "4a8a8f694971461d9366cd7ea9a53743": {
          "model_module": "@jupyter-widgets/controls",
          "model_name": "ProgressStyleModel",
          "model_module_version": "1.5.0",
          "state": {
            "_model_module": "@jupyter-widgets/controls",
            "_model_module_version": "1.5.0",
            "_model_name": "ProgressStyleModel",
            "_view_count": null,
            "_view_module": "@jupyter-widgets/base",
            "_view_module_version": "1.2.0",
            "_view_name": "StyleView",
            "bar_color": null,
            "description_width": ""
          }
        },
        "7d4283b9e89b46d0b72c991cbda5f123": {
          "model_module": "@jupyter-widgets/controls",
          "model_name": "VBoxModel",
          "model_module_version": "1.5.0",
          "state": {
            "_dom_classes": [],
            "_model_module": "@jupyter-widgets/controls",
            "_model_module_version": "1.5.0",
            "_model_name": "VBoxModel",
            "_view_count": null,
            "_view_module": "@jupyter-widgets/controls",
            "_view_module_version": "1.5.0",
            "_view_name": "VBoxView",
            "box_style": "",
            "children": [
              "IPY_MODEL_defb0c3c3c534a69bc702286422aec59",
              "IPY_MODEL_e6ff010dfaaa46089c406de78db02b4c"
            ],
            "layout": "IPY_MODEL_ba6d273205054c7c8894195aeef2c8d4"
          }
        },
        "defb0c3c3c534a69bc702286422aec59": {
          "model_module": "@jupyter-widgets/controls",
          "model_name": "LabelModel",
          "model_module_version": "1.5.0",
          "state": {
            "_dom_classes": [],
            "_model_module": "@jupyter-widgets/controls",
            "_model_module_version": "1.5.0",
            "_model_name": "LabelModel",
            "_view_count": null,
            "_view_module": "@jupyter-widgets/controls",
            "_view_module_version": "1.5.0",
            "_view_name": "LabelView",
            "description": "",
            "description_tooltip": null,
            "layout": "IPY_MODEL_56d6725ea8184d9c98a798da0acd9374",
            "placeholder": "​",
            "style": "IPY_MODEL_989cfde3022c4051aabccb9ccb719198",
            "value": "0.016 MB of 0.016 MB uploaded (0.000 MB deduped)\r"
          }
        },
        "e6ff010dfaaa46089c406de78db02b4c": {
          "model_module": "@jupyter-widgets/controls",
          "model_name": "FloatProgressModel",
          "model_module_version": "1.5.0",
          "state": {
            "_dom_classes": [],
            "_model_module": "@jupyter-widgets/controls",
            "_model_module_version": "1.5.0",
            "_model_name": "FloatProgressModel",
            "_view_count": null,
            "_view_module": "@jupyter-widgets/controls",
            "_view_module_version": "1.5.0",
            "_view_name": "ProgressView",
            "bar_style": "",
            "description": "",
            "description_tooltip": null,
            "layout": "IPY_MODEL_c964601f60944e9ab171eee287092b6a",
            "max": 1,
            "min": 0,
            "orientation": "horizontal",
            "style": "IPY_MODEL_6d71f7d89dfa46119bdc429414226149",
            "value": 1
          }
        },
        "ba6d273205054c7c8894195aeef2c8d4": {
          "model_module": "@jupyter-widgets/base",
          "model_name": "LayoutModel",
          "model_module_version": "1.2.0",
          "state": {
            "_model_module": "@jupyter-widgets/base",
            "_model_module_version": "1.2.0",
            "_model_name": "LayoutModel",
            "_view_count": null,
            "_view_module": "@jupyter-widgets/base",
            "_view_module_version": "1.2.0",
            "_view_name": "LayoutView",
            "align_content": null,
            "align_items": null,
            "align_self": null,
            "border": null,
            "bottom": null,
            "display": null,
            "flex": null,
            "flex_flow": null,
            "grid_area": null,
            "grid_auto_columns": null,
            "grid_auto_flow": null,
            "grid_auto_rows": null,
            "grid_column": null,
            "grid_gap": null,
            "grid_row": null,
            "grid_template_areas": null,
            "grid_template_columns": null,
            "grid_template_rows": null,
            "height": null,
            "justify_content": null,
            "justify_items": null,
            "left": null,
            "margin": null,
            "max_height": null,
            "max_width": null,
            "min_height": null,
            "min_width": null,
            "object_fit": null,
            "object_position": null,
            "order": null,
            "overflow": null,
            "overflow_x": null,
            "overflow_y": null,
            "padding": null,
            "right": null,
            "top": null,
            "visibility": null,
            "width": null
          }
        },
        "56d6725ea8184d9c98a798da0acd9374": {
          "model_module": "@jupyter-widgets/base",
          "model_name": "LayoutModel",
          "model_module_version": "1.2.0",
          "state": {
            "_model_module": "@jupyter-widgets/base",
            "_model_module_version": "1.2.0",
            "_model_name": "LayoutModel",
            "_view_count": null,
            "_view_module": "@jupyter-widgets/base",
            "_view_module_version": "1.2.0",
            "_view_name": "LayoutView",
            "align_content": null,
            "align_items": null,
            "align_self": null,
            "border": null,
            "bottom": null,
            "display": null,
            "flex": null,
            "flex_flow": null,
            "grid_area": null,
            "grid_auto_columns": null,
            "grid_auto_flow": null,
            "grid_auto_rows": null,
            "grid_column": null,
            "grid_gap": null,
            "grid_row": null,
            "grid_template_areas": null,
            "grid_template_columns": null,
            "grid_template_rows": null,
            "height": null,
            "justify_content": null,
            "justify_items": null,
            "left": null,
            "margin": null,
            "max_height": null,
            "max_width": null,
            "min_height": null,
            "min_width": null,
            "object_fit": null,
            "object_position": null,
            "order": null,
            "overflow": null,
            "overflow_x": null,
            "overflow_y": null,
            "padding": null,
            "right": null,
            "top": null,
            "visibility": null,
            "width": null
          }
        },
        "989cfde3022c4051aabccb9ccb719198": {
          "model_module": "@jupyter-widgets/controls",
          "model_name": "DescriptionStyleModel",
          "model_module_version": "1.5.0",
          "state": {
            "_model_module": "@jupyter-widgets/controls",
            "_model_module_version": "1.5.0",
            "_model_name": "DescriptionStyleModel",
            "_view_count": null,
            "_view_module": "@jupyter-widgets/base",
            "_view_module_version": "1.2.0",
            "_view_name": "StyleView",
            "description_width": ""
          }
        },
        "c964601f60944e9ab171eee287092b6a": {
          "model_module": "@jupyter-widgets/base",
          "model_name": "LayoutModel",
          "model_module_version": "1.2.0",
          "state": {
            "_model_module": "@jupyter-widgets/base",
            "_model_module_version": "1.2.0",
            "_model_name": "LayoutModel",
            "_view_count": null,
            "_view_module": "@jupyter-widgets/base",
            "_view_module_version": "1.2.0",
            "_view_name": "LayoutView",
            "align_content": null,
            "align_items": null,
            "align_self": null,
            "border": null,
            "bottom": null,
            "display": null,
            "flex": null,
            "flex_flow": null,
            "grid_area": null,
            "grid_auto_columns": null,
            "grid_auto_flow": null,
            "grid_auto_rows": null,
            "grid_column": null,
            "grid_gap": null,
            "grid_row": null,
            "grid_template_areas": null,
            "grid_template_columns": null,
            "grid_template_rows": null,
            "height": null,
            "justify_content": null,
            "justify_items": null,
            "left": null,
            "margin": null,
            "max_height": null,
            "max_width": null,
            "min_height": null,
            "min_width": null,
            "object_fit": null,
            "object_position": null,
            "order": null,
            "overflow": null,
            "overflow_x": null,
            "overflow_y": null,
            "padding": null,
            "right": null,
            "top": null,
            "visibility": null,
            "width": null
          }
        },
        "6d71f7d89dfa46119bdc429414226149": {
          "model_module": "@jupyter-widgets/controls",
          "model_name": "ProgressStyleModel",
          "model_module_version": "1.5.0",
          "state": {
            "_model_module": "@jupyter-widgets/controls",
            "_model_module_version": "1.5.0",
            "_model_name": "ProgressStyleModel",
            "_view_count": null,
            "_view_module": "@jupyter-widgets/base",
            "_view_module_version": "1.2.0",
            "_view_name": "StyleView",
            "bar_color": null,
            "description_width": ""
          }
        },
        "ce12e3bc34ea420e96851b79c542ddbb": {
          "model_module": "@jupyter-widgets/controls",
          "model_name": "VBoxModel",
          "model_module_version": "1.5.0",
          "state": {
            "_dom_classes": [],
            "_model_module": "@jupyter-widgets/controls",
            "_model_module_version": "1.5.0",
            "_model_name": "VBoxModel",
            "_view_count": null,
            "_view_module": "@jupyter-widgets/controls",
            "_view_module_version": "1.5.0",
            "_view_name": "VBoxView",
            "box_style": "",
            "children": [
              "IPY_MODEL_ab0e305dc3fb4959921a39619bd38bcf",
              "IPY_MODEL_a24f99e64a574ba69b461a7e39cd4abf"
            ],
            "layout": "IPY_MODEL_d604ed3f928848e1b3c307a5f1f2658b"
          }
        },
        "ab0e305dc3fb4959921a39619bd38bcf": {
          "model_module": "@jupyter-widgets/controls",
          "model_name": "LabelModel",
          "model_module_version": "1.5.0",
          "state": {
            "_dom_classes": [],
            "_model_module": "@jupyter-widgets/controls",
            "_model_module_version": "1.5.0",
            "_model_name": "LabelModel",
            "_view_count": null,
            "_view_module": "@jupyter-widgets/controls",
            "_view_module_version": "1.5.0",
            "_view_name": "LabelView",
            "description": "",
            "description_tooltip": null,
            "layout": "IPY_MODEL_b7e5f30e78424183921d8618e9b7b274",
            "placeholder": "​",
            "style": "IPY_MODEL_0d5d866d7a7b42719173765594cd8f0b",
            "value": "0.016 MB of 0.016 MB uploaded (0.000 MB deduped)\r"
          }
        },
        "a24f99e64a574ba69b461a7e39cd4abf": {
          "model_module": "@jupyter-widgets/controls",
          "model_name": "FloatProgressModel",
          "model_module_version": "1.5.0",
          "state": {
            "_dom_classes": [],
            "_model_module": "@jupyter-widgets/controls",
            "_model_module_version": "1.5.0",
            "_model_name": "FloatProgressModel",
            "_view_count": null,
            "_view_module": "@jupyter-widgets/controls",
            "_view_module_version": "1.5.0",
            "_view_name": "ProgressView",
            "bar_style": "",
            "description": "",
            "description_tooltip": null,
            "layout": "IPY_MODEL_dff390ade1a542ad9bd20fd668832355",
            "max": 1,
            "min": 0,
            "orientation": "horizontal",
            "style": "IPY_MODEL_87ac1966de6146cfb0b0aa4f5a3ccdcb",
            "value": 1
          }
        },
        "d604ed3f928848e1b3c307a5f1f2658b": {
          "model_module": "@jupyter-widgets/base",
          "model_name": "LayoutModel",
          "model_module_version": "1.2.0",
          "state": {
            "_model_module": "@jupyter-widgets/base",
            "_model_module_version": "1.2.0",
            "_model_name": "LayoutModel",
            "_view_count": null,
            "_view_module": "@jupyter-widgets/base",
            "_view_module_version": "1.2.0",
            "_view_name": "LayoutView",
            "align_content": null,
            "align_items": null,
            "align_self": null,
            "border": null,
            "bottom": null,
            "display": null,
            "flex": null,
            "flex_flow": null,
            "grid_area": null,
            "grid_auto_columns": null,
            "grid_auto_flow": null,
            "grid_auto_rows": null,
            "grid_column": null,
            "grid_gap": null,
            "grid_row": null,
            "grid_template_areas": null,
            "grid_template_columns": null,
            "grid_template_rows": null,
            "height": null,
            "justify_content": null,
            "justify_items": null,
            "left": null,
            "margin": null,
            "max_height": null,
            "max_width": null,
            "min_height": null,
            "min_width": null,
            "object_fit": null,
            "object_position": null,
            "order": null,
            "overflow": null,
            "overflow_x": null,
            "overflow_y": null,
            "padding": null,
            "right": null,
            "top": null,
            "visibility": null,
            "width": null
          }
        },
        "b7e5f30e78424183921d8618e9b7b274": {
          "model_module": "@jupyter-widgets/base",
          "model_name": "LayoutModel",
          "model_module_version": "1.2.0",
          "state": {
            "_model_module": "@jupyter-widgets/base",
            "_model_module_version": "1.2.0",
            "_model_name": "LayoutModel",
            "_view_count": null,
            "_view_module": "@jupyter-widgets/base",
            "_view_module_version": "1.2.0",
            "_view_name": "LayoutView",
            "align_content": null,
            "align_items": null,
            "align_self": null,
            "border": null,
            "bottom": null,
            "display": null,
            "flex": null,
            "flex_flow": null,
            "grid_area": null,
            "grid_auto_columns": null,
            "grid_auto_flow": null,
            "grid_auto_rows": null,
            "grid_column": null,
            "grid_gap": null,
            "grid_row": null,
            "grid_template_areas": null,
            "grid_template_columns": null,
            "grid_template_rows": null,
            "height": null,
            "justify_content": null,
            "justify_items": null,
            "left": null,
            "margin": null,
            "max_height": null,
            "max_width": null,
            "min_height": null,
            "min_width": null,
            "object_fit": null,
            "object_position": null,
            "order": null,
            "overflow": null,
            "overflow_x": null,
            "overflow_y": null,
            "padding": null,
            "right": null,
            "top": null,
            "visibility": null,
            "width": null
          }
        },
        "0d5d866d7a7b42719173765594cd8f0b": {
          "model_module": "@jupyter-widgets/controls",
          "model_name": "DescriptionStyleModel",
          "model_module_version": "1.5.0",
          "state": {
            "_model_module": "@jupyter-widgets/controls",
            "_model_module_version": "1.5.0",
            "_model_name": "DescriptionStyleModel",
            "_view_count": null,
            "_view_module": "@jupyter-widgets/base",
            "_view_module_version": "1.2.0",
            "_view_name": "StyleView",
            "description_width": ""
          }
        },
        "dff390ade1a542ad9bd20fd668832355": {
          "model_module": "@jupyter-widgets/base",
          "model_name": "LayoutModel",
          "model_module_version": "1.2.0",
          "state": {
            "_model_module": "@jupyter-widgets/base",
            "_model_module_version": "1.2.0",
            "_model_name": "LayoutModel",
            "_view_count": null,
            "_view_module": "@jupyter-widgets/base",
            "_view_module_version": "1.2.0",
            "_view_name": "LayoutView",
            "align_content": null,
            "align_items": null,
            "align_self": null,
            "border": null,
            "bottom": null,
            "display": null,
            "flex": null,
            "flex_flow": null,
            "grid_area": null,
            "grid_auto_columns": null,
            "grid_auto_flow": null,
            "grid_auto_rows": null,
            "grid_column": null,
            "grid_gap": null,
            "grid_row": null,
            "grid_template_areas": null,
            "grid_template_columns": null,
            "grid_template_rows": null,
            "height": null,
            "justify_content": null,
            "justify_items": null,
            "left": null,
            "margin": null,
            "max_height": null,
            "max_width": null,
            "min_height": null,
            "min_width": null,
            "object_fit": null,
            "object_position": null,
            "order": null,
            "overflow": null,
            "overflow_x": null,
            "overflow_y": null,
            "padding": null,
            "right": null,
            "top": null,
            "visibility": null,
            "width": null
          }
        },
        "87ac1966de6146cfb0b0aa4f5a3ccdcb": {
          "model_module": "@jupyter-widgets/controls",
          "model_name": "ProgressStyleModel",
          "model_module_version": "1.5.0",
          "state": {
            "_model_module": "@jupyter-widgets/controls",
            "_model_module_version": "1.5.0",
            "_model_name": "ProgressStyleModel",
            "_view_count": null,
            "_view_module": "@jupyter-widgets/base",
            "_view_module_version": "1.2.0",
            "_view_name": "StyleView",
            "bar_color": null,
            "description_width": ""
          }
        },
        "d2876fa8661d477399926135bf734d11": {
          "model_module": "@jupyter-widgets/controls",
          "model_name": "VBoxModel",
          "model_module_version": "1.5.0",
          "state": {
            "_dom_classes": [],
            "_model_module": "@jupyter-widgets/controls",
            "_model_module_version": "1.5.0",
            "_model_name": "VBoxModel",
            "_view_count": null,
            "_view_module": "@jupyter-widgets/controls",
            "_view_module_version": "1.5.0",
            "_view_name": "VBoxView",
            "box_style": "",
            "children": [
              "IPY_MODEL_0099bcf08693428ebcc39b3432012559",
              "IPY_MODEL_7664eed0c18741989dab56bd37e5a443"
            ],
            "layout": "IPY_MODEL_348944b0edcf407e9c8a6ff1084a61cf"
          }
        },
        "0099bcf08693428ebcc39b3432012559": {
          "model_module": "@jupyter-widgets/controls",
          "model_name": "LabelModel",
          "model_module_version": "1.5.0",
          "state": {
            "_dom_classes": [],
            "_model_module": "@jupyter-widgets/controls",
            "_model_module_version": "1.5.0",
            "_model_name": "LabelModel",
            "_view_count": null,
            "_view_module": "@jupyter-widgets/controls",
            "_view_module_version": "1.5.0",
            "_view_name": "LabelView",
            "description": "",
            "description_tooltip": null,
            "layout": "IPY_MODEL_fef59525b1cc49208bc52852b00eedda",
            "placeholder": "​",
            "style": "IPY_MODEL_13a4e6574c7f4f8da25d00011765ced8",
            "value": "0.016 MB of 0.016 MB uploaded (0.000 MB deduped)\r"
          }
        },
        "7664eed0c18741989dab56bd37e5a443": {
          "model_module": "@jupyter-widgets/controls",
          "model_name": "FloatProgressModel",
          "model_module_version": "1.5.0",
          "state": {
            "_dom_classes": [],
            "_model_module": "@jupyter-widgets/controls",
            "_model_module_version": "1.5.0",
            "_model_name": "FloatProgressModel",
            "_view_count": null,
            "_view_module": "@jupyter-widgets/controls",
            "_view_module_version": "1.5.0",
            "_view_name": "ProgressView",
            "bar_style": "",
            "description": "",
            "description_tooltip": null,
            "layout": "IPY_MODEL_14149a2fbe0e4cfeb374fc7b41a262a0",
            "max": 1,
            "min": 0,
            "orientation": "horizontal",
            "style": "IPY_MODEL_feb005a0b8334bbdae991848b9a4dc7b",
            "value": 1
          }
        },
        "348944b0edcf407e9c8a6ff1084a61cf": {
          "model_module": "@jupyter-widgets/base",
          "model_name": "LayoutModel",
          "model_module_version": "1.2.0",
          "state": {
            "_model_module": "@jupyter-widgets/base",
            "_model_module_version": "1.2.0",
            "_model_name": "LayoutModel",
            "_view_count": null,
            "_view_module": "@jupyter-widgets/base",
            "_view_module_version": "1.2.0",
            "_view_name": "LayoutView",
            "align_content": null,
            "align_items": null,
            "align_self": null,
            "border": null,
            "bottom": null,
            "display": null,
            "flex": null,
            "flex_flow": null,
            "grid_area": null,
            "grid_auto_columns": null,
            "grid_auto_flow": null,
            "grid_auto_rows": null,
            "grid_column": null,
            "grid_gap": null,
            "grid_row": null,
            "grid_template_areas": null,
            "grid_template_columns": null,
            "grid_template_rows": null,
            "height": null,
            "justify_content": null,
            "justify_items": null,
            "left": null,
            "margin": null,
            "max_height": null,
            "max_width": null,
            "min_height": null,
            "min_width": null,
            "object_fit": null,
            "object_position": null,
            "order": null,
            "overflow": null,
            "overflow_x": null,
            "overflow_y": null,
            "padding": null,
            "right": null,
            "top": null,
            "visibility": null,
            "width": null
          }
        },
        "fef59525b1cc49208bc52852b00eedda": {
          "model_module": "@jupyter-widgets/base",
          "model_name": "LayoutModel",
          "model_module_version": "1.2.0",
          "state": {
            "_model_module": "@jupyter-widgets/base",
            "_model_module_version": "1.2.0",
            "_model_name": "LayoutModel",
            "_view_count": null,
            "_view_module": "@jupyter-widgets/base",
            "_view_module_version": "1.2.0",
            "_view_name": "LayoutView",
            "align_content": null,
            "align_items": null,
            "align_self": null,
            "border": null,
            "bottom": null,
            "display": null,
            "flex": null,
            "flex_flow": null,
            "grid_area": null,
            "grid_auto_columns": null,
            "grid_auto_flow": null,
            "grid_auto_rows": null,
            "grid_column": null,
            "grid_gap": null,
            "grid_row": null,
            "grid_template_areas": null,
            "grid_template_columns": null,
            "grid_template_rows": null,
            "height": null,
            "justify_content": null,
            "justify_items": null,
            "left": null,
            "margin": null,
            "max_height": null,
            "max_width": null,
            "min_height": null,
            "min_width": null,
            "object_fit": null,
            "object_position": null,
            "order": null,
            "overflow": null,
            "overflow_x": null,
            "overflow_y": null,
            "padding": null,
            "right": null,
            "top": null,
            "visibility": null,
            "width": null
          }
        },
        "13a4e6574c7f4f8da25d00011765ced8": {
          "model_module": "@jupyter-widgets/controls",
          "model_name": "DescriptionStyleModel",
          "model_module_version": "1.5.0",
          "state": {
            "_model_module": "@jupyter-widgets/controls",
            "_model_module_version": "1.5.0",
            "_model_name": "DescriptionStyleModel",
            "_view_count": null,
            "_view_module": "@jupyter-widgets/base",
            "_view_module_version": "1.2.0",
            "_view_name": "StyleView",
            "description_width": ""
          }
        },
        "14149a2fbe0e4cfeb374fc7b41a262a0": {
          "model_module": "@jupyter-widgets/base",
          "model_name": "LayoutModel",
          "model_module_version": "1.2.0",
          "state": {
            "_model_module": "@jupyter-widgets/base",
            "_model_module_version": "1.2.0",
            "_model_name": "LayoutModel",
            "_view_count": null,
            "_view_module": "@jupyter-widgets/base",
            "_view_module_version": "1.2.0",
            "_view_name": "LayoutView",
            "align_content": null,
            "align_items": null,
            "align_self": null,
            "border": null,
            "bottom": null,
            "display": null,
            "flex": null,
            "flex_flow": null,
            "grid_area": null,
            "grid_auto_columns": null,
            "grid_auto_flow": null,
            "grid_auto_rows": null,
            "grid_column": null,
            "grid_gap": null,
            "grid_row": null,
            "grid_template_areas": null,
            "grid_template_columns": null,
            "grid_template_rows": null,
            "height": null,
            "justify_content": null,
            "justify_items": null,
            "left": null,
            "margin": null,
            "max_height": null,
            "max_width": null,
            "min_height": null,
            "min_width": null,
            "object_fit": null,
            "object_position": null,
            "order": null,
            "overflow": null,
            "overflow_x": null,
            "overflow_y": null,
            "padding": null,
            "right": null,
            "top": null,
            "visibility": null,
            "width": null
          }
        },
        "feb005a0b8334bbdae991848b9a4dc7b": {
          "model_module": "@jupyter-widgets/controls",
          "model_name": "ProgressStyleModel",
          "model_module_version": "1.5.0",
          "state": {
            "_model_module": "@jupyter-widgets/controls",
            "_model_module_version": "1.5.0",
            "_model_name": "ProgressStyleModel",
            "_view_count": null,
            "_view_module": "@jupyter-widgets/base",
            "_view_module_version": "1.2.0",
            "_view_name": "StyleView",
            "bar_color": null,
            "description_width": ""
          }
        }
      }
    }
  },
  "nbformat": 4,
  "nbformat_minor": 5
}